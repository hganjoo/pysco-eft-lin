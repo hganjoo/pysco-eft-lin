import main
import pandas as pd


path = '.'

param = pd.Series({
    "theory": "eft",
    "alphaB0": 0.1,
    "alphaM0": 0.5,
    "nthreads": 1,
    "H0": 72,
    "Om_m": 0.25733,
    "T_cmb": 2.726,
    "N_eff": 3.044,
    "w0": -1.0,
    "wa": 0.0,
    "boxlen": 100,
    "ncoarse": 8,
    "npart": 256**3,
    "z_start": 25,
    "seed": 42,
    "position_ICS": "center",
    "fixed_ICS": False,
    "paired_ICS": False,
    "dealiased_ICS": False,
    "power_spectrum_file": f"{path}/pk_lcdmw7v2.dat",
    "initial_conditions": "2LPT",
    "base": f"{path}/t4/",
    "z_out": "[20,19,18,17,16,15,14,13,12,11,10,9,8,7,6,5,4,3,2,1,0.95,0.9,0.85,0.8,0.75,0.7,0.65,0.6,0.55,0.5,0.45,0.4,0.35,0.3,0.25,0.2,0.15,0.1,0.05,0]",
    "output_snapshot_format": "HDF5",
    "save_power_spectrum": "no",
    "integrator": "leapfrog",
    "n_reorder": 50,
    "mass_scheme": "TSC",
    "Courant_factor": 1.0,
    "max_aexp_stepping": 10,
    "linear_newton_solver": "multigrid",
    "gradient_stencil_order": 5,
    "Npre": 2,
    "Npost": 1,
    "epsrel": 1e-2,
    "verbose": 1,
    "evolution_table":'no',
    "Om_lambda":0.74
    })

main.run(param)


path = '.'

param = pd.Series({
    "theory": "eft",
    "alphaB0": 0.1,
    "alphaM0": 0.5,
    "nthreads": 1,
    "H0": 72,
    "Om_m": 0.25733,
    "T_cmb": 2.726,
    "N_eff": 3.044,
    "w0": -1.0,
    "wa": 0.0,
    "boxlen": 100,
    "ncoarse": 8,
    "npart": 256**3,
    "z_start": 25,
    "seed": 42,
    "position_ICS": "center",
    "fixed_ICS": False,
    "paired_ICS": False,
    "dealiased_ICS": False,
    "power_spectrum_file": f"{path}/pk_lcdmw7v2.dat",
    "initial_conditions": "2LPT",
    "base": f"{path}/t4/",
    "z_out": "[20,19,18,17,16,15,14,13,12,11,10,9,8,7,6,5,4,3,2,1,0.95,0.9,0.85,0.8,0.75,0.7,0.65,0.6,0.55,0.5,0.45,0.4,0.35,0.3,0.25,0.2,0.15,0.1,0.05,0]",
    "output_snapshot_format": "HDF5",
    "save_power_spectrum": "no",
    "integrator": "leapfrog",
    "n_reorder": 50,
    "mass_scheme": "TSC",
    "Courant_factor": 1.0,
    "max_aexp_stepping": 10,
    "linear_newton_solver": "multigrid",
    "gradient_stencil_order": 5,
    "Npre": 2,
    "Npost": 1,
    "epsrel": 1e-2,
    "verbose": 1,
    "evolution_table":'no',
    "Om_lambda":0.74
    })

main.run(param)


path = '.'

param = pd.Series({
    "theory": "newton",
    "alphaB0": 0.1,
    "alphaM0": 0.5,
    "nthreads": 1,
    "H0": 72,
    "Om_m": 0.25733,
    "T_cmb": 2.726,
    "N_eff": 3.044,
    "w0": -1.0,
    "wa": 0.0,
    "boxlen": 100,
    "ncoarse": 8,
    "npart": 256**3,
    "z_start": 25,
    "seed": 42,
    "position_ICS": "center",
    "fixed_ICS": False,
    "paired_ICS": False,
    "dealiased_ICS": False,
    "power_spectrum_file": f"{path}/pk_lcdmw7v2.dat",
    "initial_conditions": "2LPT",
    "base": f"{path}/t4/",
    "z_out": "[20,19,18,17,16,15,14,13,12,11,10,9,8,7,6,5,4,3,2,1,0.95,0.9,0.85,0.8,0.75,0.7,0.65,0.6,0.55,0.5,0.45,0.4,0.35,0.3,0.25,0.2,0.15,0.1,0.05,0]",
    "output_snapshot_format": "HDF5",
    "save_power_spectrum": "no",
    "integrator": "leapfrog",
    "n_reorder": 50,
    "mass_scheme": "TSC",
    "Courant_factor": 1.0,
    "max_aexp_stepping": 10,
    "linear_newton_solver": "multigrid",
    "gradient_stencil_order": 5,
    "Npre": 2,
    "Npost": 1,
    "epsrel": 1e-2,
    "verbose": 1,
    "evolution_table":'no',
    "Om_lambda":0.74
    })

main.run(param)


import numpy as np
import matplotlib.pyplot as plt


x = np.loadtxt('./t4/power/pk_eft_multigrid_ncoarse6_00039.dat')
plt.loglog(x[:,0],x[:,1],'.')






x = np.loadtxt('./t4/power/pk_eft_multigrid_ncoarse7_00001.dat')
plt.loglog(x[:,0],x[:,1],'.')

x = np.loadtxt('./t4/power/pk_newton_multigrid_ncoarse7_00001.dat')
plt.loglog(x[:,0],x[:,1],'.')




pwd




x = np.loadtxt('./tester3/power/pk_eft_multigrid_ncoarse8_00001.dat')
plt.loglog(x[:,0],x[:,1],'.')


x = np.loadtxt('./tester3/power/pk_eft_multigrid_ncoarse8_00080.dat')
plt.loglog(x[:,0],x[:,1],'.')

plt.gca().set_prop_cycle(None)

x = np.loadtxt('./tester3/power/pk_newton_multigrid_ncoarse8_00001.dat')
plt.plot(x[:,0],x[:,1])

x = np.loadtxt('./tester3/power/pk_newton_multigrid_ncoarse8_00085.dat')
plt.plot(x[:,0],x[:,1])





x = np.loadtxt('./boxlen100_n32/power/pk_newton_multigrid_ncoarse5_00010.dat')
plt.loglog(x[:,0],x[:,1],'.')

x = np.loadtxt('./boxlen100_n32/power/pk_eft_multigrid_ncoarse5_00010.dat')
plt.loglog(x[:,0],x[:,1],'x')


plt.loglog(x[



