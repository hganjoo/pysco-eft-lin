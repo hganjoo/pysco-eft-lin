import numpy as np
import matplotlib.pyplot as plt
import pspec


plt.rcParams['text.usetex'] = True
plt.rcParams['font.family'] = 'serif'
plt.rcParams['font.serif'] = ['Computer Modern']


# LCDM



for i in range(41):
    plt.figure(dpi=200,figsize=(5,3))
    file_path = './tester/power/pk_eft_multigrid_ncoarse5_{}.dat'.format(str(i).zfill(5))
    
    with open(file_path, 'r') as file:
            a = float(file.readline().strip().split(' ')[-1])
    
    x = np.loadtxt(file_path.replace('eft','newton'))
    plt.loglog(x[:,0],x[:,1],'.')
    
    x = np.loadtxt(file_path)
    plt.loglog(x[:,0],x[:,1],'x')
    
    plt.legend(labels=['EFT','LCDM'][::-1])
    
    
    plt.title('$z$ = {:.2f}'.format(1/a - 1))
    plt.ylim(0.1,1e5)
    plt.xlabel('$k$')
    plt.ylabel('$P(k)$')
    plt.savefig('powerpics/{}.png'.format(str(i).zfill(5)),dpi=400,bbox_inches='tight')
    plt.close()


first_line


from PIL import Image

# Create a list to hold the images
images = []

# Loop to read 41 images
for i in range(41):
    # Generate the filename with leading zeros (e.g., 00001.png)
    filename = f"powerpics/{i:05}.png"
    # Open the image and append to the list
    img = Image.open(filename)
    images.append(img)

# Save as a GIF
output_gif = "powerpics/output.gif"
images[0].save(output_gif, save_all=True, append_images=images[1:], optimize=False, duration=300, loop=0)

print(f"GIF saved as {output_gif}")


for i in range(41):
    plt.figure(dpi=200,figsize=(5,3))
    
    file_path = './t4/output_{}/particles_eft_multigrid_ncoarse8.h5'.format(str(i).zfill(5))
    k,Pk,a = pspec.get_pspec(file_path)
    plt.loglog(k,Pk,'.')

    file_path = './t1/output_{}/particles_eft_multigrid_ncoarse8.h5'.format(str(i).zfill(5))
    k,Pk,a = pspec.get_pspec(file_path)
    plt.loglog(k,Pk,'.')

    file_path = './t4/output_{}/particles_newton_multigrid_ncoarse8.h5'.format(str(i).zfill(5))
    k,Pk,a = pspec.get_pspec(file_path)
    plt.loglog(k,Pk)
    
    
    
    plt.legend(labels=[r'EFT: $\alpha_{M0} = 0.4$',r'EFT: $\alpha_{M0} = 0.3$','LCDM'])
    plt.title('$z$ = {:.2f}'.format(1/a - 1))
    plt.ylim(0.001,1e5)
    plt.xlabel('$k$')
    plt.ylabel('$P(k)$')

    plt.savefig('powerpics_am05/{}.png'.format(str(i).zfill(5)),dpi=400,bbox_inches='tight')
    plt.close()



from PIL import Image

# Create a list to hold the images
images = []

# Loop to read 41 images
for i in range(41):
    # Generate the filename with leading zeros (e.g., 00001.png)
    filename = f"powerpics_am05/{i:05}.png"
    # Open the image and append to the list
    img = Image.open(filename)
    images.append(img)

# Save as a GIF
output_gif = "powerpics_am05/output.gif"
images[0].save(output_gif, save_all=True, append_images=images[1:], optimize=False, duration=300, loop=0)

print(f"GIF saved as {output_gif}")


for i in range(41):
    plt.figure(dpi=200,figsize=(5,3))
    
    file_path = './t4/output_{}/particles_eft_multigrid_ncoarse8.h5'.format(str(i).zfill(5))
    k,Pk,a = pspec.get_pspec(file_path)
    plt.loglog(k,Pk,'.')

    file_path = './t1/output_{}/particles_eft_multigrid_ncoarse8.h5'.format(str(i).zfill(5))
    k,Pk,a = pspec.get_pspec(file_path)
    plt.loglog(k,Pk,'.')

    file_path = './t4/output_{}/particles_newton_multigrid_ncoarse8.h5'.format(str(i).zfill(5))
    k,Pk,a = pspec.get_pspec(file_path)
    plt.loglog(k,Pk)
    
    
    
    plt.legend(labels=[r'EFT: $\alpha_{M0} = 0.4$',r'EFT: $\alpha_{M0} = 0.3$','LCDM'])
    plt.title('$z$ = {:.2f}'.format(1/a - 1))
    plt.ylim(0.001,1e5)
    plt.xlabel('$k$')
    plt.ylabel('$P(k)$')

    plt.savefig('powerpics_am05/{}.png'.format(str(i).zfill(5)),dpi=400,bbox_inches='tight')
    plt.close()







