import h5py
import mesh
import fourier
import numpy as np
import matplotlib.pyplot as plt



file_path = "t4/output_00000/particles_eft_multigrid_ncoarse8.h5"


with h5py.File(file_path, "r") as hdf_file:
   
    position = hdf_file['position'][:]
    boxlen = hdf_file.attrs['boxlen']
    ncells_1d = int(np.power(position.shape[0],1./3)) + 1
    density = mesh.CIC(position, ncells_1d)

    




density.shape


density_fourier = fourier.fft_3D_real(density,1)
k, Pk, Nmodes = fourier.fourier_grid_to_Pk(density_fourier, 2)
Pk *= (param["boxlen"] / len(density) ** 2) ** 3
k *= 2 * np.pi / param["boxlen"]


plt.loglog(k,Pk)



