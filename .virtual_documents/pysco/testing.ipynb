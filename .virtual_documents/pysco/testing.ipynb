


import numpy as np


from quadratic import *





x = np.random.rand(16,16,16).astype(np.float32)
b = np.random.rand(16,16,16).astype(np.float32)


h = np.float32(1./16)


C2 = np.float32(0.2)
C4 = np.float32(0.1)
alphaB = np.float32(0.1)
alphaM = np.float32(0.3)
H = np.float32(1.)
a = np.float32(1.)
M = np.float32(1.)


res = operator(x,b,h,C2,C4,alphaB,alphaM,H,a,M)


ix = np.int32(1)
iy = ix
iz = ix

s1 = solution_quadratic_equation(x,b[ix,iy,iz],ix,iy,iz,h,C2,C4,alphaB,alphaM,H,a,M)


s1


xo = np.copy(x)


jacobi(x,b,h,C2,C4,alphaB,alphaM,H,a,M)


smoothing(xo,b,h,C2,C4,alphaB,alphaM,H,a,M,6)


xo


smoothing(xo,b,h,C2,C4,alphaB,alphaM,H,a,M,6)


xo


xn = np.random.rand(16,16,16).astype(np.float32)



res1 = residual(xn,b,h,C2,C4,alphaB,alphaM,H,a,M)


op1 = operator(xn,b,h,C2,C4,alphaB,alphaM,H,a,M)


res1[0,0,0]


op1[0,0,0]


reserr = residual_error(xn,b,h,C2,C4,alphaB,alphaM,H,a,M)


reserr


terr = truncation_error(xn,b,h,C2,C4,alphaB,alphaM,H,a,M)


terr


phi0 = initialise_potential(b,h,C2,alphaB,alphaM,a,M)


phi0





import pandas as pd
import cosmotable
import utils


param = pd.Series({
    "theory": "eft",
    "alphaB0": 0.1,
    "alphaM0": 0.3,
    "H0": 70.0,
    "Om_m": 0.3,
    "T_cmb": 2.726,
    "N_eff": 3.044,
    "w0": -1.0,
    "wa": 0.0,
    "base": "./",
    "extra": "test",
    "aexp":1,
    "boxlen":100,
    "npart":128**3,
    "compute_additional_field":True,
    "ncoarse":7,
    "Npre":4,
    "Npost":1
    })


tables = cosmotable.generate(param)
utils.set_units(param)


param


import eftcalcs


eft_quantities = eftcalcs.geteft(param,tables)


potential = np.empty(0, dtype=np.float32)
density = np.random.rand(128,128,128).astype(np.float32)
h = 1./128

param["alphaB"] = eft_quantities[0]
param["alphaM"] = eft_quantities[1]
param["C2"] = eft_quantities[2]
param["C4"] = eft_quantities[3]
param["H"] = eft_quantities[4]
param["M"] = eft_quantities[5]


import solver


phi = solver.initialise_potential(potential,density,h,param,tables)


phi = solver.get_additional_field(phi,density,h,param,tables)





phi.shape



