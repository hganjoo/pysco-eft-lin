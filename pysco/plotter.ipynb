{
 "cells": [
  {
   "cell_type": "code",
   "execution_count": 1,
   "id": "6039ee31-f913-482a-bdef-eccf52249487",
   "metadata": {},
   "outputs": [],
   "source": [
    "import numpy as np\n",
    "import matplotlib.pyplot as plt"
   ]
  },
  {
   "cell_type": "code",
   "execution_count": 20,
   "id": "a39decbf-1c9a-4482-b00e-47b4b24b085d",
   "metadata": {},
   "outputs": [],
   "source": [
    "plt.rcParams['text.usetex'] = True\n",
    "plt.rcParams['font.family'] = 'serif'\n",
    "plt.rcParams['font.serif'] = ['Computer Modern']"
   ]
  },
  {
   "cell_type": "code",
   "execution_count": 28,
   "id": "497a21e3-f264-4517-9ced-abe3337bdae6",
   "metadata": {},
   "outputs": [],
   "source": [
    "# LCDM\n",
    "\n",
    "\n",
    "\n",
    "for i in range(41):\n",
    "    plt.figure(dpi=200,figsize=(5,3))\n",
    "    file_path = './tester/power/pk_eft_multigrid_ncoarse5_{}.dat'.format(str(i).zfill(5))\n",
    "    \n",
    "    with open(file_path, 'r') as file:\n",
    "            a = float(file.readline().strip().split(' ')[-1])\n",
    "    \n",
    "    x = np.loadtxt(file_path.replace('eft','newton'))\n",
    "    plt.loglog(x[:,0],x[:,1],'.')\n",
    "    \n",
    "    x = np.loadtxt(file_path)\n",
    "    plt.loglog(x[:,0],x[:,1],'x')\n",
    "    \n",
    "    plt.legend(labels=['EFT','LCDM'][::-1])\n",
    "    \n",
    "    \n",
    "    plt.title('$z$ = {:.2f}'.format(1/a - 1))\n",
    "    plt.ylim(0.1,1e5)\n",
    "    plt.xlabel('$k$')\n",
    "    plt.ylabel('$P(k)$')\n",
    "    plt.savefig('powerpics/{}.png'.format(str(i).zfill(5)),dpi=400,bbox_inches='tight')\n",
    "    plt.close()"
   ]
  },
  {
   "cell_type": "code",
   "execution_count": 5,
   "id": "ce3594b7-2599-41ad-9b72-6f8e6c28b6a1",
   "metadata": {},
   "outputs": [
    {
     "data": {
      "text/plain": [
       "'# aexp = 0.021999999986361905'"
      ]
     },
     "execution_count": 5,
     "metadata": {},
     "output_type": "execute_result"
    }
   ],
   "source": [
    "first_line"
   ]
  },
  {
   "cell_type": "code",
   "execution_count": 31,
   "id": "ac7ff0ad-49ae-4297-86d7-95be11fb4f48",
   "metadata": {},
   "outputs": [
    {
     "name": "stdout",
     "output_type": "stream",
     "text": [
      "GIF saved as powerpics/output.gif\n"
     ]
    }
   ],
   "source": [
    "from PIL import Image\n",
    "\n",
    "# Create a list to hold the images\n",
    "images = []\n",
    "\n",
    "# Loop to read 41 images\n",
    "for i in range(41):\n",
    "    # Generate the filename with leading zeros (e.g., 00001.png)\n",
    "    filename = f\"powerpics/{i:05}.png\"\n",
    "    # Open the image and append to the list\n",
    "    img = Image.open(filename)\n",
    "    images.append(img)\n",
    "\n",
    "# Save as a GIF\n",
    "output_gif = \"powerpics/output.gif\"\n",
    "images[0].save(output_gif, save_all=True, append_images=images[1:], optimize=False, duration=300, loop=0)\n",
    "\n",
    "print(f\"GIF saved as {output_gif}\")"
   ]
  },
  {
   "cell_type": "code",
   "execution_count": null,
   "id": "597d8452-2610-4c6f-bc01-6018bfda5078",
   "metadata": {},
   "outputs": [],
   "source": []
  }
 ],
 "metadata": {
  "kernelspec": {
   "display_name": "Python 3 (ipykernel)",
   "language": "python",
   "name": "python3"
  },
  "language_info": {
   "codemirror_mode": {
    "name": "ipython",
    "version": 3
   },
   "file_extension": ".py",
   "mimetype": "text/x-python",
   "name": "python",
   "nbconvert_exporter": "python",
   "pygments_lexer": "ipython3",
   "version": "3.12.7"
  }
 },
 "nbformat": 4,
 "nbformat_minor": 5
}
