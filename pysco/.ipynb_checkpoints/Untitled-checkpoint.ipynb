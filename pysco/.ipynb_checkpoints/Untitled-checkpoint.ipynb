{
 "cells": [
  {
   "cell_type": "code",
   "execution_count": 3,
   "id": "65b412e1-83a0-45da-a9d6-9663e40de25b",
   "metadata": {},
   "outputs": [],
   "source": [
    "import cosmotable\n",
    "import pandas as pd"
   ]
  },
  {
   "cell_type": "code",
   "execution_count": 9,
   "id": "98e8aeea-d6b5-4d08-81e3-8974265524b2",
   "metadata": {},
   "outputs": [],
   "source": [
    "path = '.'\n",
    "\n",
    "param = pd.Series({\n",
    "    \"theory\": \"eft\",\n",
    "    \"parametrized_mu0\":-0.2,\n",
    "    \"alphaB0\": 0.3066,\n",
    "    \"alphaM0\": 0,\n",
    "    \"nthreads\": 1,\n",
    "    \"H0\": 72,\n",
    "    \"Om_m\": 0.25733,\n",
    "    \"T_cmb\": 2.726,\n",
    "    \"N_eff\": 3.044,\n",
    "    \"w0\": -1.0,\n",
    "    \"wa\": 0,\n",
    "    \"boxlen\": 100,\n",
    "    \"ncoarse\": 8,\n",
    "    \"npart\": 256**3,\n",
    "    \"z_start\": 25,\n",
    "    \"seed\": 42,\n",
    "    \"position_ICS\": \"center\",\n",
    "    \"power_spectrum_file\": f\"{path}/pk_lcdmw7v2.dat\",\n",
    "    \"initial_conditions\": \"2LPT\",\n",
    "    \"base\": f\"{path}/ptest/\",\n",
    "    \"z_out\": \"[20,19,18,17,16,15,14,13,12,11,10,9,8,7,6,5,4,3,2,1,0.95,0.9,0.85,0.8,0.75,0.7,0.65,0.6,0.55,0.5,0.45,0.4,0.35,0.3,0.25,0.2,0.15,0.1,0.05,0]\",\n",
    "    \"output_snapshot_format\": \"HDF5\",\n",
    "    \"save_power_spectrum\": \"no\",\n",
    "    \"integrator\": \"leapfrog\",\n",
    "    \"n_reorder\": 50,\n",
    "    \"mass_scheme\": \"TSC\",\n",
    "    \"Courant_factor\": 1.0,\n",
    "    \"max_aexp_stepping\": 10,\n",
    "    \"linear_newton_solver\": \"multigrid\",\n",
    "    \"gradient_stencil_order\": 5,\n",
    "    \"Npre\": 2,\n",
    "    \"Npost\": 1,\n",
    "    \"epsrel\": 1e-2,\n",
    "    \"verbose\": 1,\n",
    "    \"evolution_table\":'yes',\n",
    "    \"Om_lambda\":0.74267,\n",
    "    \"extra\":\"test\"\n",
    "    })"
   ]
  },
  {
   "cell_type": "code",
   "execution_count": 10,
   "id": "a28e61e7-f53f-47aa-b705-720385642cc3",
   "metadata": {},
   "outputs": [
    {
     "name": "stdout",
     "output_type": "stream",
     "text": [
      "EFT\n"
     ]
    },
    {
     "name": "stderr",
     "output_type": "stream",
     "text": [
      "/opt/anaconda3/lib/python3.12/site-packages/astropy/cosmology/flrw/w0wacdm.py:195: RuntimeWarning: invalid value encountered in scalar divide\n",
      "  return zp1 ** (3 * (1 + self._w0 + self._wa)) * exp(-3 * self._wa * z / zp1)\n"
     ]
    },
    {
     "ename": "ValueError",
     "evalue": "setting an array element with a sequence. The requested array has an inhomogeneous shape after 1 dimensions. The detected shape was (11,) + inhomogeneous part.",
     "output_type": "error",
     "traceback": [
      "\u001b[0;31m---------------------------------------------------------------------------\u001b[0m",
      "\u001b[0;31mValueError\u001b[0m                                Traceback (most recent call last)",
      "Cell \u001b[0;32mIn[10], line 3\u001b[0m\n\u001b[1;32m      1\u001b[0m \u001b[38;5;28;01mimport\u001b[39;00m \u001b[38;5;21;01mcosmotable\u001b[39;00m\n\u001b[0;32m----> 3\u001b[0m tables \u001b[38;5;241m=\u001b[39m cosmotable\u001b[38;5;241m.\u001b[39mgenerate(param)\n",
      "File \u001b[0;32m~/Dropbox/prograceray/pysco-eft-lin/pysco/cosmotable.py:68\u001b[0m, in \u001b[0;36mgenerate\u001b[0;34m(param)\u001b[0m\n\u001b[1;32m     66\u001b[0m t_supercomoving \u001b[38;5;241m=\u001b[39m cumulative_trapezoid(dt_supercomoving, initial\u001b[38;5;241m=\u001b[39m\u001b[38;5;241m0\u001b[39m)\n\u001b[1;32m     67\u001b[0m t_supercomoving \u001b[38;5;241m-\u001b[39m\u001b[38;5;241m=\u001b[39m t_supercomoving[\u001b[38;5;241m-\u001b[39m\u001b[38;5;241m1\u001b[39m]\n\u001b[0;32m---> 68\u001b[0m growth_functions \u001b[38;5;241m=\u001b[39m compute_growth_functions(cosmo, param)\n\u001b[1;32m     69\u001b[0m mask \u001b[38;5;241m=\u001b[39m growth_functions[\u001b[38;5;241m0\u001b[39m] \u001b[38;5;241m>\u001b[39m lna[\u001b[38;5;241m0\u001b[39m]\n\u001b[1;32m     70\u001b[0m lnaexp_growth, d1, f1, d2, f2, d3a, f3a, d3b, f3b, d3c, f3c \u001b[38;5;241m=\u001b[39m growth_functions[\n\u001b[1;32m     71\u001b[0m     :, mask\n\u001b[1;32m     72\u001b[0m ]\n",
      "File \u001b[0;32m~/Dropbox/prograceray/pysco-eft-lin/pysco/cosmotable.py:241\u001b[0m, in \u001b[0;36mcompute_growth_functions\u001b[0;34m(cosmo, param)\u001b[0m\n\u001b[1;32m    239\u001b[0m f3b \u001b[38;5;241m=\u001b[39m solution\u001b[38;5;241m.\u001b[39my[\u001b[38;5;241m7\u001b[39m] \u001b[38;5;241m/\u001b[39m d3b\n\u001b[1;32m    240\u001b[0m f3c \u001b[38;5;241m=\u001b[39m solution\u001b[38;5;241m.\u001b[39my[\u001b[38;5;241m9\u001b[39m] \u001b[38;5;241m/\u001b[39m d3c\n\u001b[0;32m--> 241\u001b[0m \u001b[38;5;28;01mreturn\u001b[39;00m np\u001b[38;5;241m.\u001b[39marray([lnaexp_array, d1, f1, d2, f2, d3a, f3a, d3b, f3b, d3c, f3c])\n",
      "\u001b[0;31mValueError\u001b[0m: setting an array element with a sequence. The requested array has an inhomogeneous shape after 1 dimensions. The detected shape was (11,) + inhomogeneous part."
     ]
    }
   ],
   "source": [
    "import cosmotable\n",
    "\n",
    "tables = cosmotable.generate(param)"
   ]
  },
  {
   "cell_type": "code",
   "execution_count": 11,
   "id": "1942fe49-f81d-4fde-bbf5-131d8ec427c9",
   "metadata": {},
   "outputs": [],
   "source": [
    "import pandas as pd\n",
    "from astropy.cosmology import Flatw0waCDM\n",
    "from cosmotable import compute_growth_functions\n",
    "param = pd.Series({\n",
    " \"theory\": \"eft\",\n",
    "    \"alphaM0\":0.3,\"alphaB0\":0,\n",
    " \"H0\": 70.0,\n",
    "\"Om_m\": 0.3,\n",
    "\"T_cmb\": 2.726,\n",
    "\"N_eff\": 3.044,\n",
    "\"w0\": -1.0,\n",
    "\"wa\": -0.2,\n",
    "\"base\": \"./\",\n",
    "\"extra\": \"test\"})\n",
    "cosmo = Flatw0waCDM(\n",
    "H0=param[\"H0\"],\n",
    "Om0=param[\"Om_m\"],\n",
    "Tcmb0=param[\"T_cmb\"],\n",
    "Neff=param[\"N_eff\"],\n",
    "w0=param[\"w0\"],\n",
    "wa=param[\"wa\"])\n"
   ]
  },
  {
   "cell_type": "code",
   "execution_count": 14,
   "id": "4345428c-b842-4223-b0e1-aa3eb32122ad",
   "metadata": {},
   "outputs": [
    {
     "name": "stdout",
     "output_type": "stream",
     "text": [
      "EFT\n"
     ]
    },
    {
     "name": "stderr",
     "output_type": "stream",
     "text": [
      "/opt/anaconda3/lib/python3.12/site-packages/astropy/cosmology/flrw/w0wacdm.py:195: RuntimeWarning: divide by zero encountered in scalar power\n",
      "  return zp1 ** (3 * (1 + self._w0 + self._wa)) * exp(-3 * self._wa * z / zp1)\n",
      "/opt/anaconda3/lib/python3.12/site-packages/astropy/cosmology/flrw/w0wacdm.py:195: RuntimeWarning: divide by zero encountered in scalar divide\n",
      "  return zp1 ** (3 * (1 + self._w0 + self._wa)) * exp(-3 * self._wa * z / zp1)\n",
      "/opt/anaconda3/lib/python3.12/site-packages/astropy/cosmology/flrw/w0wacdm.py:195: RuntimeWarning: invalid value encountered in scalar multiply\n",
      "  return zp1 ** (3 * (1 + self._w0 + self._wa)) * exp(-3 * self._wa * z / zp1)\n",
      "WARNING:root:Write table in: .//evolution_table_pysco_test.txt\n"
     ]
    },
    {
     "data": {
      "text/plain": [
       "[<scipy.interpolate._interpolate.interp1d at 0x166e95f90>,\n",
       " <scipy.interpolate._interpolate.interp1d at 0x168c09270>,\n",
       " <scipy.interpolate._interpolate.interp1d at 0x168c08ff0>,\n",
       " <scipy.interpolate._interpolate.interp1d at 0x168bfebc0>,\n",
       " <scipy.interpolate._interpolate.interp1d at 0x168bfef80>,\n",
       " <scipy.interpolate._interpolate.interp1d at 0x168c49810>,\n",
       " <scipy.interpolate._interpolate.interp1d at 0x168c49720>,\n",
       " <scipy.interpolate._interpolate.interp1d at 0x168c49cc0>,\n",
       " <scipy.interpolate._interpolate.interp1d at 0x168c49c20>,\n",
       " <scipy.interpolate._interpolate.interp1d at 0x168c49c70>,\n",
       " <scipy.interpolate._interpolate.interp1d at 0x168c49b80>,\n",
       " <scipy.interpolate._interpolate.interp1d at 0x168c49e00>,\n",
       " <scipy.interpolate._interpolate.interp1d at 0x168c49d60>]"
      ]
     },
     "execution_count": 14,
     "metadata": {},
     "output_type": "execute_result"
    }
   ],
   "source": [
    "cosmotable.generate(param)"
   ]
  },
  {
   "cell_type": "code",
   "execution_count": 9,
   "id": "f59a87b2-2dc8-4b15-9a61-09aac183d249",
   "metadata": {},
   "outputs": [],
   "source": [
    "import numpy as np"
   ]
  },
  {
   "cell_type": "code",
   "execution_count": 11,
   "id": "d47b01da-6473-4e41-962e-bd651ea03b31",
   "metadata": {},
   "outputs": [],
   "source": [
    "alphaB0 = 0.3\n",
    "alphaM0 = 0\n",
    "\n",
    "lnaexp = 0.\n",
    "aexp = np.exp(lnaexp)\n",
    "z = 1.0 / aexp - 1\n",
    "Om_z = cosmo.Om(z)\n",
    "Or_z = cosmo.Ogamma(z) + cosmo.Onu(z)\n",
    "Ode_z = cosmo.Ode(z)\n",
    "Ode_z0 = cosmo.Ode0\n",
    "w0 = cosmo.w0\n",
    "wa = cosmo.wa\n",
    "\n",
    "E = cosmo.efunc(z)\n",
    "\n",
    "om_m = cosmo.Om0\n",
    "om_ma = om_m / (om_m + (1-om_m)*aexp**3)\n",
    "#alphaB = alphaB0*(1-om_ma) / (1-om_m)\n",
    "#alphaM = alphaM0*(1-om_ma) / (1-om_m)\n",
    "alphaB = alphaB0 # constant\n",
    "alphaM = alphaM0\n",
    "HdotbyH2 = -1.5*om_ma\n",
    "#Ia = np.power(om_ma,param[\"alphaM0\"]/(3 * (1 - om_m)))\n",
    "Ia = 1. # alphaM = 0 \n",
    "\n",
    "#C2 = -alphaM + alphaB*(1 + alphaM) + (1 + alphaB)*HdotbyH2 + (3*a**3*alphaB0*om_m)/(a**3*(1 - om_m) + om_m)**2 + a**(-3.)*1.5*Ia*om_m/(E**2)\n",
    "C2 = -alphaM + alphaB*(1 + alphaM) + (1 + alphaB)*HdotbyH2 + aexp**(-3.)*1.5*Ia*om_m/(E**2) #alphaB is constant\n",
    "xi = alphaB - alphaM\n",
    "nu = C2 - alphaB*(xi - alphaM)\n",
    "mu = np.float32(1 + xi*xi/nu)"
   ]
  },
  {
   "cell_type": "code",
   "execution_count": 12,
   "id": "59a5b0fa-2b26-4039-b93e-9e13dc61faed",
   "metadata": {},
   "outputs": [
    {
     "data": {
      "text/plain": [
       "2.2"
      ]
     },
     "execution_count": 12,
     "metadata": {},
     "output_type": "execute_result"
    }
   ],
   "source": [
    "mu"
   ]
  },
  {
   "cell_type": "code",
   "execution_count": 15,
   "id": "9692904c-3525-4bd5-8bd6-c0af32c9bb74",
   "metadata": {},
   "outputs": [],
   "source": [
    "aexp_start = 1e-8\n",
    "aexp_end = 1.0\n",
    "lnaexp_start = np.log(aexp_start)\n",
    "lnaexp_end = np.log(aexp_end)\n",
    "aexp_equality = (cosmo.Ogamma0 + cosmo.Onu0) / cosmo.Om0\n",
    "\n",
    "if (cosmo.Ogamma0 + cosmo.Onu0) == 0:\n",
    "    aexp_equality = 2e-7\n",
    "\n",
    "# Works in a matter-domianted era (Rampf & Bucher 2012) #TODO: Add Om(z) dependence?\n",
    "dplus1_ini = 3.0 / 5 * aexp_equality\n",
    "dplus2_ini = -3.0 / 7 * dplus1_ini**2\n",
    "dplus3a_ini = -1.0 / 3.0 * dplus1_ini**3\n",
    "dplus3b_ini = 10.0 / 21.0 * dplus1_ini**3\n",
    "dplus3c_ini = -1.0 / 7.0 * dplus1_ini**3\n",
    "d_dplus1_dlnaexp_ini = d_dplus2_dlnaexp_ini = d_dplus3a_dlnaexp_ini = (\n",
    "    d_dplus3b_dlnaexp_ini\n",
    ") = d_dplus3c_dlnaexp_ini = 0\n",
    "\n",
    "y0 = [\n",
    "    dplus1_ini,\n",
    "    d_dplus1_dlnaexp_ini,\n",
    "    dplus2_ini,\n",
    "    d_dplus2_dlnaexp_ini,\n",
    "    dplus3a_ini,\n",
    "    d_dplus3a_dlnaexp_ini,\n",
    "    dplus3b_ini,\n",
    "    d_dplus3b_dlnaexp_ini,\n",
    "    dplus3c_ini,\n",
    "    d_dplus3c_dlnaexp_ini,\n",
    "]\n"
   ]
  },
  {
   "cell_type": "code",
   "execution_count": 16,
   "id": "c712738e-581d-43a0-ac77-fa834ad9ff94",
   "metadata": {},
   "outputs": [],
   "source": [
    "beta = 1.5 * mu * Om_z\n",
    "gamma = 0.5 * (1.0 - 3.0 * Ode_z * (w0 + wa * (1.0 - aexp)) - Or_z)\n",
    "\n",
    "(\n",
    "    D1,\n",
    "    dD1dlnaexp,\n",
    "    D2,\n",
    "    dD2dlnaexp,\n",
    "    D3a,\n",
    "    dD3adlnaexp,\n",
    "    D3b,\n",
    "    dD3bdlnaexp,\n",
    "    D3c,\n",
    "    dD3cdlnaexp,\n",
    ") = y0\n"
   ]
  },
  {
   "cell_type": "code",
   "execution_count": 17,
   "id": "3b398bfc-f5bf-4a36-8339-8ec5ebf99060",
   "metadata": {},
   "outputs": [],
   "source": [
    "dy1_dt = dD1dlnaexp\n",
    "dy2_dt = -gamma * dD1dlnaexp + beta * D1\n",
    "# Second order\n",
    "dy3_dt = dD2dlnaexp\n",
    "dy4_dt = -gamma * dD2dlnaexp + beta * (D2 - D1**2)\n",
    "# 3rd order a) term\n",
    "dy5_dt = dD3adlnaexp\n",
    "dy6_dt = -gamma * dD3adlnaexp + beta * (D3a - 2.0 * D1**3)\n",
    "# 3rd order b) term\n",
    "dy7_dt = dD3bdlnaexp\n",
    "dy8_dt = -gamma * dD3bdlnaexp + beta * (D3b - 2.0 * D1 * (D2 - D1**2))\n",
    "# 3rd order c) term\n",
    "dy9_dt = dD3cdlnaexp\n",
    "dy10_dt = (\n",
    "    (1 - gamma) * dD3cdlnaexp + D2 * dD1dlnaexp - D1 * dD2dlnaexp - beta * D1**3\n",
    ")"
   ]
  },
  {
   "cell_type": "code",
   "execution_count": 18,
   "id": "98f7d99a-58cf-4a44-be6c-b3ee23aac8d2",
   "metadata": {},
   "outputs": [],
   "source": [
    "res =  np.array(\n",
    "        [\n",
    "            dy1_dt,\n",
    "            dy2_dt,\n",
    "            dy3_dt,\n",
    "            dy4_dt,\n",
    "            dy5_dt,\n",
    "            dy6_dt,\n",
    "            dy7_dt,\n",
    "            dy8_dt,\n",
    "            dy9_dt,\n",
    "            dy10_dt,\n",
    "        ]\n",
    "    )"
   ]
  },
  {
   "cell_type": "code",
   "execution_count": 19,
   "id": "5dd4aa1b-7640-4224-9260-2c409bc41dde",
   "metadata": {},
   "outputs": [
    {
     "data": {
      "text/plain": [
       "array([ 0.00000000e+00,  1.69134413e-04,  0.00000000e+00, -4.12791473e-08,\n",
       "        0.00000000e+00, -1.15186696e-11,  0.00000000e+00,  1.64552423e-11,\n",
       "        0.00000000e+00, -4.93657268e-12])"
      ]
     },
     "execution_count": 19,
     "metadata": {},
     "output_type": "execute_result"
    }
   ],
   "source": [
    "res"
   ]
  },
  {
   "cell_type": "code",
   "execution_count": null,
   "id": "e94154ec-9bf4-4ce7-bf70-a10bf02c3889",
   "metadata": {},
   "outputs": [],
   "source": []
  }
 ],
 "metadata": {
  "kernelspec": {
   "display_name": "Python 3 (ipykernel)",
   "language": "python",
   "name": "python3"
  },
  "language_info": {
   "codemirror_mode": {
    "name": "ipython",
    "version": 3
   },
   "file_extension": ".py",
   "mimetype": "text/x-python",
   "name": "python",
   "nbconvert_exporter": "python",
   "pygments_lexer": "ipython3",
   "version": "3.12.7"
  }
 },
 "nbformat": 4,
 "nbformat_minor": 5
}
