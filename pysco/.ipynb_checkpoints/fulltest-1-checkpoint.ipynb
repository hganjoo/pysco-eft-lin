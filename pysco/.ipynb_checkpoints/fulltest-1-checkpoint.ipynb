{
 "cells": [
  {
   "cell_type": "code",
   "execution_count": 1,
   "id": "b849885c-861b-4f15-a951-6cf85cb9fcee",
   "metadata": {},
   "outputs": [],
   "source": [
    "import main\n",
    "import pandas as pd"
   ]
  },
  {
   "cell_type": "code",
   "execution_count": 2,
   "id": "edcbfe75-123d-43a7-bfbc-171e76ae7f94",
   "metadata": {},
   "outputs": [],
   "source": [
    "path = '.'\n",
    "\n",
    "param = pd.Series({\n",
    "    \"theory\": \"eft\",\n",
    "    \"alphaB0\": 0.1,\n",
    "    \"alphaM0\": 0.3,\n",
    "    \"nthreads\": 1,\n",
    "    \"H0\": 72,\n",
    "    \"Om_m\": 0.25733,\n",
    "    \"T_cmb\": 2.726,\n",
    "    \"N_eff\": 3.044,\n",
    "    \"w0\": -1.0,\n",
    "    \"wa\": 0.0,\n",
    "    \"boxlen\": 100,\n",
    "    \"ncoarse\": 5,\n",
    "    \"npart\": 32**3,\n",
    "    \"z_start\": 49,\n",
    "    \"seed\": 42,\n",
    "    \"position_ICS\": \"center\",\n",
    "    \"fixed_ICS\": False,\n",
    "    \"paired_ICS\": False,\n",
    "    \"dealiased_ICS\": False,\n",
    "    \"power_spectrum_file\": f\"{path}/pk_lcdmw7v2.dat\",\n",
    "    \"initial_conditions\": \"2LPT\",\n",
    "    \"base\": f\"{path}/boxlen100_n128_lcdmw7v2_00000/\",\n",
    "    \"z_out\": \"[10, 8, 5, 2, 1]\",\n",
    "    \"output_snapshot_format\": \"HDF5\",\n",
    "    \"save_power_spectrum\": \"yes\",\n",
    "    \"integrator\": \"leapfrog\",\n",
    "    \"n_reorder\": 50,\n",
    "    \"mass_scheme\": \"TSC\",\n",
    "    \"Courant_factor\": 1.0,\n",
    "    \"max_aexp_stepping\": 10,\n",
    "    \"linear_newton_solver\": \"multigrid\",\n",
    "    \"gradient_stencil_order\": 5,\n",
    "    \"Npre\": 2,\n",
    "    \"Npost\": 1,\n",
    "    \"epsrel\": 1e-2,\n",
    "    \"verbose\": 1,\n",
    "    \"evolution_table\":'no',\n",
    "    \"Om_lambda\":0.74\n",
    "    })"
   ]
  },
  {
   "cell_type": "code",
   "execution_count": 3,
   "id": "27ade68d-e53f-42f8-90a4-26a11e179477",
   "metadata": {},
   "outputs": [
    {
     "data": {
      "text/html": [
       "<pre style=\"white-space:pre;overflow-x:auto;line-height:normal;font-family:Menlo,'DejaVu Sans Mono',consolas,'Courier New',monospace\">param<span style=\"font-weight: bold\">[</span><span style=\"color: #008000; text-decoration-color: #008000\">'nthreads'</span><span style=\"font-weight: bold\">]</span>=<span style=\"color: #008080; text-decoration-color: #008080; font-weight: bold\">1</span>                                                                                                \n",
       "</pre>\n"
      ],
      "text/plain": [
       "param\u001b[1m[\u001b[0m\u001b[32m'nthreads'\u001b[0m\u001b[1m]\u001b[0m=\u001b[1;36m1\u001b[0m                                                                                                \n"
      ]
     },
     "metadata": {},
     "output_type": "display_data"
    },
    {
     "data": {
      "text/html": [
       "<pre style=\"white-space:pre;overflow-x:auto;line-height:normal;font-family:Menlo,'DejaVu Sans Mono',consolas,'Courier New',monospace\">                                                                                                                   \n",
       "<span style=\"color: #008000; text-decoration-color: #008000; font-weight: bold\">FFT module: NumPy</span>                                                                                                  \n",
       "</pre>\n"
      ],
      "text/plain": [
       "                                                                                                                   \n",
       "\u001b[1;32mFFT module: NumPy\u001b[0m                                                                                                  \n"
      ]
     },
     "metadata": {},
     "output_type": "display_data"
    },
    {
     "data": {
      "text/html": [
       "<pre style=\"white-space:pre;overflow-x:auto;line-height:normal;font-family:Menlo,'DejaVu Sans Mono',consolas,'Courier New',monospace\">                                                                                                                   \n",
       "<span style=\"color: #000080; text-decoration-color: #000080; font-weight: bold\">----- Compute background cosmology -----</span>                                                                           \n",
       "                                                                                                                   \n",
       "</pre>\n"
      ],
      "text/plain": [
       "                                                                                                                   \n",
       "\u001b[1;34m----- Compute background cosmology -----\u001b[0m                                                                           \n",
       "                                                                                                                   \n"
      ]
     },
     "metadata": {},
     "output_type": "display_data"
    },
    {
     "name": "stderr",
     "output_type": "stream",
     "text": [
      "/opt/anaconda3/lib/python3.12/site-packages/astropy/cosmology/flrw/w0wacdm.py:195: RuntimeWarning: invalid value encountered in scalar divide\n",
      "  return zp1 ** (3 * (1 + self._w0 + self._wa)) * exp(-3 * self._wa * z / zp1)\n"
     ]
    },
    {
     "data": {
      "text/html": [
       "<pre style=\"white-space:pre;overflow-x:auto;line-height:normal;font-family:Menlo,'DejaVu Sans Mono',consolas,'Courier New',monospace\">Write table in: .<span style=\"color: #800080; text-decoration-color: #800080\">/boxlen100_n128_lcdmw7v2_00000//</span><span style=\"color: #ff00ff; text-decoration-color: #ff00ff\">evolution_table_pysco_eft_multigrid_ncoarse5.txt</span>                  \n",
       "</pre>\n"
      ],
      "text/plain": [
       "Write table in: .\u001b[35m/boxlen100_n128_lcdmw7v2_00000/\u001b[0m\u001b[35m/\u001b[0m\u001b[95mevolution_table_pysco_eft_multigrid_ncoarse5.txt\u001b[0m                  \n"
      ]
     },
     "metadata": {},
     "output_type": "display_data"
    },
    {
     "data": {
      "text/html": [
       "<pre style=\"white-space:pre;overflow-x:auto;line-height:normal;font-family:Menlo,'DejaVu Sans Mono',consolas,'Courier New',monospace\">                                                                                                                   \n",
       "<span style=\"color: #000080; text-decoration-color: #000080; font-weight: bold\">----- Initial conditions -----</span>                                                                                     \n",
       "                                                                                                                   \n",
       "</pre>\n"
      ],
      "text/plain": [
       "                                                                                                                   \n",
       "\u001b[1;34m----- Initial conditions -----\u001b[0m                                                                                     \n",
       "                                                                                                                   \n"
      ]
     },
     "metadata": {},
     "output_type": "display_data"
    },
    {
     "data": {
      "text/html": [
       "<pre style=\"white-space:pre;overflow-x:auto;line-height:normal;font-family:Menlo,'DejaVu Sans Mono',consolas,'Courier New',monospace\">param<span style=\"font-weight: bold\">[</span><span style=\"color: #008000; text-decoration-color: #008000\">'z_start'</span><span style=\"font-weight: bold\">]</span>=<span style=\"color: #008080; text-decoration-color: #008080; font-weight: bold\">49</span>                                                                                                \n",
       "</pre>\n"
      ],
      "text/plain": [
       "param\u001b[1m[\u001b[0m\u001b[32m'z_start'\u001b[0m\u001b[1m]\u001b[0m=\u001b[1;36m49\u001b[0m                                                                                                \n"
      ]
     },
     "metadata": {},
     "output_type": "display_data"
    },
    {
     "data": {
      "text/html": [
       "<pre style=\"white-space:pre;overflow-x:auto;line-height:normal;font-family:Menlo,'DejaVu Sans Mono',consolas,'Courier New',monospace\">Compute 1LPT contribution                                                                                          \n",
       "</pre>\n"
      ],
      "text/plain": [
       "Compute 1LPT contribution                                                                                          \n"
      ]
     },
     "metadata": {},
     "output_type": "display_data"
    },
    {
     "data": {
      "text/html": [
       "<pre style=\"white-space:pre;overflow-x:auto;line-height:normal;font-family:Menlo,'DejaVu Sans Mono',consolas,'Courier New',monospace\">Compute 2LPT contribution                                                                                          \n",
       "</pre>\n"
      ],
      "text/plain": [
       "Compute 2LPT contribution                                                                                          \n"
      ]
     },
     "metadata": {},
     "output_type": "display_data"
    },
    {
     "data": {
      "text/html": [
       "<pre style=\"white-space:pre;overflow-x:auto;line-height:normal;font-family:Menlo,'DejaVu Sans Mono',consolas,'Courier New',monospace\">Write initial                                                                                                      \n",
       "snapshot<span style=\"color: #808000; text-decoration-color: #808000\">...</span><span style=\"color: #808000; text-decoration-color: #808000\">snap_name</span>=<span style=\"color: #008000; text-decoration-color: #008000\">'./boxlen100_n128_lcdmw7v2_00000//output_00000/particles_eft_multigrid_ncoarse5.h5'</span>           \n",
       "</pre>\n"
      ],
      "text/plain": [
       "Write initial                                                                                                      \n",
       "snapshot\u001b[33m...\u001b[0m\u001b[33msnap_name\u001b[0m=\u001b[32m'./boxlen100_n128_lcdmw7v2_00000//output_00000/particles_eft_multigrid_ncoarse5.h5'\u001b[0m           \n"
      ]
     },
     "metadata": {},
     "output_type": "display_data"
    },
    {
     "data": {
      "text/html": [
       "<pre style=\"white-space:pre;overflow-x:auto;line-height:normal;font-family:Menlo,'DejaVu Sans Mono',consolas,'Courier New',monospace\">param<span style=\"font-weight: bold\">[</span><span style=\"color: #008000; text-decoration-color: #008000\">'aexp'</span><span style=\"font-weight: bold\">]</span>=<span style=\"color: #008080; text-decoration-color: #008080; font-weight: bold\">0.02</span> param<span style=\"font-weight: bold\">[</span><span style=\"color: #008000; text-decoration-color: #008000\">'t'</span><span style=\"font-weight: bold\">]</span>=<span style=\"color: #800080; text-decoration-color: #800080; font-weight: bold\">array</span><span style=\"font-weight: bold\">(</span><span style=\"color: #008080; text-decoration-color: #008080; font-weight: bold\">-23.2046359</span><span style=\"font-weight: bold\">)</span>                                                                   \n",
       "</pre>\n"
      ],
      "text/plain": [
       "param\u001b[1m[\u001b[0m\u001b[32m'aexp'\u001b[0m\u001b[1m]\u001b[0m=\u001b[1;36m0.02\u001b[0m param\u001b[1m[\u001b[0m\u001b[32m't'\u001b[0m\u001b[1m]\u001b[0m=\u001b[1;35marray\u001b[0m\u001b[1m(\u001b[0m\u001b[1;36m-23.2046359\u001b[0m\u001b[1m)\u001b[0m                                                                   \n"
      ]
     },
     "metadata": {},
     "output_type": "display_data"
    },
    {
     "data": {
      "text/html": [
       "<pre style=\"white-space:pre;overflow-x:auto;line-height:normal;font-family:Menlo,'DejaVu Sans Mono',consolas,'Courier New',monospace\">                                                                                                                   \n",
       "<span style=\"color: #000080; text-decoration-color: #000080; font-weight: bold\">----- Run N-body -----</span>                                                                                             \n",
       "                                                                                                                   \n",
       "</pre>\n"
      ],
      "text/plain": [
       "                                                                                                                   \n",
       "\u001b[1;34m----- Run N-body -----\u001b[0m                                                                                             \n",
       "                                                                                                                   \n"
      ]
     },
     "metadata": {},
     "output_type": "display_data"
    },
    {
     "data": {
      "text/html": [
       "<pre style=\"white-space:pre;overflow-x:auto;line-height:normal;font-family:Menlo,'DejaVu Sans Mono',consolas,'Courier New',monospace\">Write <span style=\"color: #800080; text-decoration-color: #800080; font-weight: bold\">P</span><span style=\"font-weight: bold\">(</span>k<span style=\"font-weight: bold\">)</span> in .<span style=\"color: #800080; text-decoration-color: #800080\">/boxlen100_n128_lcdmw7v2_00000//power/</span><span style=\"color: #ff00ff; text-decoration-color: #ff00ff\">pk_eft_multigrid_ncoarse5_00000.dat</span>                           \n",
       "</pre>\n"
      ],
      "text/plain": [
       "Write \u001b[1;35mP\u001b[0m\u001b[1m(\u001b[0mk\u001b[1m)\u001b[0m in .\u001b[35m/boxlen100_n128_lcdmw7v2_00000/\u001b[0m\u001b[35m/power/\u001b[0m\u001b[95mpk_eft_multigrid_ncoarse5_00000.dat\u001b[0m                           \n"
      ]
     },
     "metadata": {},
     "output_type": "display_data"
    },
    {
     "ename": "IndexError",
     "evalue": "list index out of range",
     "output_type": "error",
     "traceback": [
      "\u001b[0;31m---------------------------------------------------------------------------\u001b[0m",
      "\u001b[0;31mIndexError\u001b[0m                                Traceback (most recent call last)",
      "Cell \u001b[0;32mIn[3], line 1\u001b[0m\n\u001b[0;32m----> 1\u001b[0m main\u001b[38;5;241m.\u001b[39mrun(param)\n",
      "File \u001b[0;32m~/Dropbox/prograceray/pysco-eft/pysco/main.py:115\u001b[0m, in \u001b[0;36mrun\u001b[0;34m(param)\u001b[0m\n\u001b[1;32m    113\u001b[0m logging\u001b[38;5;241m.\u001b[39mwarning(\u001b[38;5;124mf\u001b[39m\u001b[38;5;124m\"\u001b[39m\u001b[38;5;132;01m{\u001b[39;00mparam[\u001b[38;5;124m'\u001b[39m\u001b[38;5;124maexp\u001b[39m\u001b[38;5;124m'\u001b[39m]\u001b[38;5;132;01m=}\u001b[39;00m\u001b[38;5;124m \u001b[39m\u001b[38;5;132;01m{\u001b[39;00mparam[\u001b[38;5;124m'\u001b[39m\u001b[38;5;124mt\u001b[39m\u001b[38;5;124m'\u001b[39m]\u001b[38;5;132;01m=}\u001b[39;00m\u001b[38;5;124m\"\u001b[39m)\n\u001b[1;32m    114\u001b[0m logging\u001b[38;5;241m.\u001b[39mwarning(\u001b[38;5;124mf\u001b[39m\u001b[38;5;124m\"\u001b[39m\u001b[38;5;130;01m\\n\u001b[39;00m\u001b[38;5;124m[bold blue]----- Run N-body -----[/bold blue]\u001b[39m\u001b[38;5;130;01m\\n\u001b[39;00m\u001b[38;5;124m\"\u001b[39m)\n\u001b[0;32m--> 115\u001b[0m acceleration, potential, additional_field \u001b[38;5;241m=\u001b[39m solver\u001b[38;5;241m.\u001b[39mpm(position, param, tables)\n\u001b[1;32m    116\u001b[0m aexp_out \u001b[38;5;241m=\u001b[39m \u001b[38;5;241m1.0\u001b[39m \u001b[38;5;241m/\u001b[39m (np\u001b[38;5;241m.\u001b[39marray(z_out) \u001b[38;5;241m+\u001b[39m \u001b[38;5;241m1\u001b[39m)\n\u001b[1;32m    117\u001b[0m aexp_out\u001b[38;5;241m.\u001b[39msort()\n",
      "File \u001b[0;32m~/Dropbox/prograceray/pysco-eft/pysco/utils.py:51\u001b[0m, in \u001b[0;36mtime_me.<locals>.time_func\u001b[0;34m(*args, **kw)\u001b[0m\n\u001b[1;32m     43\u001b[0m \u001b[38;5;250m\u001b[39m\u001b[38;5;124;03m\"\"\"Wrapper\u001b[39;00m\n\u001b[1;32m     44\u001b[0m \n\u001b[1;32m     45\u001b[0m \u001b[38;5;124;03mReturns\u001b[39;00m\n\u001b[0;32m   (...)\u001b[0m\n\u001b[1;32m     48\u001b[0m \u001b[38;5;124;03m    Print time (in seconds)\u001b[39;00m\n\u001b[1;32m     49\u001b[0m \u001b[38;5;124;03m\"\"\"\u001b[39;00m\n\u001b[1;32m     50\u001b[0m t1 \u001b[38;5;241m=\u001b[39m perf_counter()\n\u001b[0;32m---> 51\u001b[0m result \u001b[38;5;241m=\u001b[39m func(\u001b[38;5;241m*\u001b[39margs, \u001b[38;5;241m*\u001b[39m\u001b[38;5;241m*\u001b[39mkw)\n\u001b[1;32m     52\u001b[0m logging\u001b[38;5;241m.\u001b[39minfo(\n\u001b[1;32m     53\u001b[0m     \u001b[38;5;124mf\u001b[39m\u001b[38;5;124m\"\u001b[39m\u001b[38;5;124mFunction \u001b[39m\u001b[38;5;132;01m{\u001b[39;00mfunc\u001b[38;5;241m.\u001b[39m\u001b[38;5;18m__name__\u001b[39m\u001b[38;5;132;01m:\u001b[39;00m\u001b[38;5;124m->40\u001b[39m\u001b[38;5;132;01m}\u001b[39;00m\u001b[38;5;124m took \u001b[39m\u001b[38;5;132;01m{\u001b[39;00mperf_counter()\u001b[38;5;250m \u001b[39m\u001b[38;5;241m-\u001b[39m\u001b[38;5;250m \u001b[39mt1\u001b[38;5;132;01m:\u001b[39;00m\u001b[38;5;124m.12f\u001b[39m\u001b[38;5;132;01m}\u001b[39;00m\u001b[38;5;124m seconds\u001b[39m\u001b[38;5;132;01m{\u001b[39;00m\u001b[38;5;124m'\u001b[39m\u001b[38;5;124m'\u001b[39m\u001b[38;5;132;01m:\u001b[39;00m\u001b[38;5;132;01m{\u001b[39;00m\u001b[38;5;124m'\u001b[39m\u001b[38;5;124m-\u001b[39m\u001b[38;5;124m'\u001b[39m\u001b[38;5;132;01m}\u001b[39;00m\u001b[38;5;124m<\u001b[39m\u001b[38;5;132;01m{\u001b[39;00m\u001b[38;5;241m10\u001b[39m\u001b[38;5;132;01m}\u001b[39;00m\u001b[38;5;132;01m}\u001b[39;00m\u001b[38;5;124m\"\u001b[39m\n\u001b[1;32m     54\u001b[0m )\n\u001b[1;32m     55\u001b[0m \u001b[38;5;28;01mreturn\u001b[39;00m result\n",
      "File \u001b[0;32m~/Dropbox/prograceray/pysco-eft/pysco/solver.py:146\u001b[0m, in \u001b[0;36mpm\u001b[0;34m(position, param, potential, additional_field, tables)\u001b[0m\n\u001b[1;32m    143\u001b[0m     iostream\u001b[38;5;241m.\u001b[39mwrite_power_spectrum_to_ascii_file(k, Pk, Nmodes, param)\n\u001b[1;32m    145\u001b[0m param[\u001b[38;5;124m\"\u001b[39m\u001b[38;5;124mcompute_additional_field\u001b[39m\u001b[38;5;124m\"\u001b[39m] \u001b[38;5;241m=\u001b[39m \u001b[38;5;28;01mTrue\u001b[39;00m\n\u001b[0;32m--> 146\u001b[0m additional_field \u001b[38;5;241m=\u001b[39m get_additional_field(additional_field, density, h, param, tables)\n\u001b[1;32m    148\u001b[0m \u001b[38;5;66;03m# TODO: Try to keep Phidot and initialise Phi_i = Phi_(i-1) + Phidot*dt\u001b[39;00m\n\u001b[1;32m    149\u001b[0m param[\u001b[38;5;124m\"\u001b[39m\u001b[38;5;124mcompute_additional_field\u001b[39m\u001b[38;5;124m\"\u001b[39m] \u001b[38;5;241m=\u001b[39m \u001b[38;5;28;01mFalse\u001b[39;00m\n",
      "File \u001b[0;32m~/Dropbox/prograceray/pysco-eft/pysco/solver.py:403\u001b[0m, in \u001b[0;36mget_additional_field\u001b[0;34m(additional_field, density, h, param, tables)\u001b[0m\n\u001b[1;32m    313\u001b[0m \u001b[38;5;250m\u001b[39m\u001b[38;5;124;03m\"\"\"Get additional field for MG theories\u001b[39;00m\n\u001b[1;32m    314\u001b[0m \n\u001b[1;32m    315\u001b[0m \u001b[38;5;124;03mReturns empty array for Newtonian mode\u001b[39;00m\n\u001b[0;32m   (...)\u001b[0m\n\u001b[1;32m    345\u001b[0m \u001b[38;5;124;03m>>> additional_field = get_additional_field(additional_field, density, h, param, tables)\u001b[39;00m\n\u001b[1;32m    346\u001b[0m \u001b[38;5;124;03m\"\"\"\u001b[39;00m\n\u001b[1;32m    347\u001b[0m THEORY \u001b[38;5;241m=\u001b[39m param[\u001b[38;5;124m\"\u001b[39m\u001b[38;5;124mtheory\u001b[39m\u001b[38;5;124m\"\u001b[39m]\u001b[38;5;241m.\u001b[39mcasefold()\n\u001b[1;32m    348\u001b[0m \u001b[38;5;28;01mmatch\u001b[39;00m THEORY:\n\u001b[1;32m    349\u001b[0m     \u001b[38;5;28;01mcase\u001b[39;00m \u001b[38;5;124m\"\u001b[39m\u001b[38;5;124mnewton\u001b[39m\u001b[38;5;124m\"\u001b[39m \u001b[38;5;241m|\u001b[39m \u001b[38;5;124m\"\u001b[39m\u001b[38;5;124mparametrized\u001b[39m\u001b[38;5;124m\"\u001b[39m:\n\u001b[1;32m    350\u001b[0m         \u001b[38;5;28;01mreturn\u001b[39;00m np\u001b[38;5;241m.\u001b[39mempty(\u001b[38;5;241m0\u001b[39m, dtype\u001b[38;5;241m=\u001b[39mnp\u001b[38;5;241m.\u001b[39mfloat32)\n\u001b[1;32m    351\u001b[0m     \u001b[38;5;28;01mcase\u001b[39;00m \u001b[38;5;124m\"\u001b[39m\u001b[38;5;124mfr\u001b[39m\u001b[38;5;124m\"\u001b[39m:\n\u001b[1;32m    352\u001b[0m         Rbar \u001b[38;5;241m=\u001b[39m \u001b[38;5;241m3\u001b[39m \u001b[38;5;241m*\u001b[39m param[\u001b[38;5;124m\"\u001b[39m\u001b[38;5;124mOm_m\u001b[39m\u001b[38;5;124m\"\u001b[39m] \u001b[38;5;241m*\u001b[39m param[\u001b[38;5;124m\"\u001b[39m\u001b[38;5;124maexp\u001b[39m\u001b[38;5;124m\"\u001b[39m] \u001b[38;5;241m*\u001b[39m\u001b[38;5;241m*\u001b[39m (\u001b[38;5;241m-\u001b[39m\u001b[38;5;241m3\u001b[39m) \u001b[38;5;241m+\u001b[39m \u001b[38;5;241m12\u001b[39m \u001b[38;5;241m*\u001b[39m param[\u001b[38;5;124m\"\u001b[39m\u001b[38;5;124mOm_lambda\u001b[39m\u001b[38;5;124m\"\u001b[39m]\n\u001b[1;32m    353\u001b[0m         Rbar0 \u001b[38;5;241m=\u001b[39m \u001b[38;5;241m3\u001b[39m \u001b[38;5;241m*\u001b[39m param[\u001b[38;5;124m\"\u001b[39m\u001b[38;5;124mOm_m\u001b[39m\u001b[38;5;124m\"\u001b[39m] \u001b[38;5;241m+\u001b[39m \u001b[38;5;241m12\u001b[39m \u001b[38;5;241m*\u001b[39m param[\u001b[38;5;124m\"\u001b[39m\u001b[38;5;124mOm_lambda\u001b[39m\u001b[38;5;124m\"\u001b[39m]\n\u001b[1;32m    354\u001b[0m         fR_a \u001b[38;5;241m=\u001b[39m (\n\u001b[1;32m    355\u001b[0m             \u001b[38;5;241m-\u001b[39mparam[\u001b[38;5;124m\"\u001b[39m\u001b[38;5;124maexp\u001b[39m\u001b[38;5;124m\"\u001b[39m] \u001b[38;5;241m*\u001b[39m\u001b[38;5;241m*\u001b[39m \u001b[38;5;241m2\u001b[39m\n\u001b[1;32m    356\u001b[0m             \u001b[38;5;241m*\u001b[39m ((Rbar0 \u001b[38;5;241m/\u001b[39m Rbar) \u001b[38;5;241m*\u001b[39m\u001b[38;5;241m*\u001b[39m (param[\u001b[38;5;124m\"\u001b[39m\u001b[38;5;124mfR_n\u001b[39m\u001b[38;5;124m\"\u001b[39m] \u001b[38;5;241m+\u001b[39m \u001b[38;5;241m1\u001b[39m))\n\u001b[1;32m    357\u001b[0m             \u001b[38;5;241m*\u001b[39m \u001b[38;5;241m10.0\u001b[39m \u001b[38;5;241m*\u001b[39m\u001b[38;5;241m*\u001b[39m (\u001b[38;5;241m-\u001b[39mparam[\u001b[38;5;124m\"\u001b[39m\u001b[38;5;124mfR_logfR0\u001b[39m\u001b[38;5;124m\"\u001b[39m])\n\u001b[1;32m    358\u001b[0m         )\n\u001b[1;32m    359\u001b[0m         c2 \u001b[38;5;241m=\u001b[39m (\n\u001b[1;32m    360\u001b[0m             c\u001b[38;5;241m.\u001b[39mvalue \u001b[38;5;241m*\u001b[39m \u001b[38;5;241m1e-3\u001b[39m \u001b[38;5;241m*\u001b[39m param[\u001b[38;5;124m\"\u001b[39m\u001b[38;5;124munit_t\u001b[39m\u001b[38;5;124m\"\u001b[39m] \u001b[38;5;241m/\u001b[39m (param[\u001b[38;5;124m\"\u001b[39m\u001b[38;5;124munit_l\u001b[39m\u001b[38;5;124m\"\u001b[39m] \u001b[38;5;241m*\u001b[39m param[\u001b[38;5;124m\"\u001b[39m\u001b[38;5;124maexp\u001b[39m\u001b[38;5;124m\"\u001b[39m])\n\u001b[1;32m    361\u001b[0m         ) \u001b[38;5;241m*\u001b[39m\u001b[38;5;241m*\u001b[39m \u001b[38;5;241m2\u001b[39m  \u001b[38;5;66;03m# m -> km -> BU\u001b[39;00m\n\u001b[1;32m    362\u001b[0m         f1 \u001b[38;5;241m=\u001b[39m np\u001b[38;5;241m.\u001b[39mfloat32(param[\u001b[38;5;124m\"\u001b[39m\u001b[38;5;124maexp\u001b[39m\u001b[38;5;124m\"\u001b[39m] \u001b[38;5;241m*\u001b[39m param[\u001b[38;5;124m\"\u001b[39m\u001b[38;5;124mOm_m\u001b[39m\u001b[38;5;124m\"\u001b[39m] \u001b[38;5;241m/\u001b[39m (c2 \u001b[38;5;241m*\u001b[39m \u001b[38;5;241m6\u001b[39m)) \u001b[38;5;241m/\u001b[39m (\u001b[38;5;241m-\u001b[39mfR_a)\n\u001b[1;32m    363\u001b[0m         f2 \u001b[38;5;241m=\u001b[39m (\n\u001b[1;32m    364\u001b[0m             np\u001b[38;5;241m.\u001b[39mfloat32(\n\u001b[1;32m    365\u001b[0m                 Rbar \u001b[38;5;241m/\u001b[39m \u001b[38;5;241m3\u001b[39m \u001b[38;5;241m*\u001b[39m param[\u001b[38;5;124m\"\u001b[39m\u001b[38;5;124maexp\u001b[39m\u001b[38;5;124m\"\u001b[39m] \u001b[38;5;241m*\u001b[39m\u001b[38;5;241m*\u001b[39m \u001b[38;5;241m4\u001b[39m \u001b[38;5;241m-\u001b[39m param[\u001b[38;5;124m\"\u001b[39m\u001b[38;5;124mOm_m\u001b[39m\u001b[38;5;124m\"\u001b[39m] \u001b[38;5;241m*\u001b[39m param[\u001b[38;5;124m\"\u001b[39m\u001b[38;5;124maexp\u001b[39m\u001b[38;5;124m\"\u001b[39m]\n\u001b[1;32m    366\u001b[0m             )\n\u001b[1;32m    367\u001b[0m             \u001b[38;5;241m/\u001b[39m (\u001b[38;5;241m6\u001b[39m \u001b[38;5;241m*\u001b[39m c2)\n\u001b[1;32m    368\u001b[0m             \u001b[38;5;241m/\u001b[39m (\u001b[38;5;241m-\u001b[39mfR_a)\n\u001b[1;32m    369\u001b[0m         )\n\u001b[1;32m    370\u001b[0m         dens_term \u001b[38;5;241m=\u001b[39m utils\u001b[38;5;241m.\u001b[39mlinear_operator(density, f1, f2)\n\u001b[1;32m    371\u001b[0m \n\u001b[1;32m    372\u001b[0m         q \u001b[38;5;241m=\u001b[39m np\u001b[38;5;241m.\u001b[39mfloat32(\u001b[38;5;241m-\u001b[39mparam[\u001b[38;5;124m\"\u001b[39m\u001b[38;5;124maexp\u001b[39m\u001b[38;5;124m\"\u001b[39m] \u001b[38;5;241m*\u001b[39m\u001b[38;5;241m*\u001b[39m \u001b[38;5;241m4\u001b[39m \u001b[38;5;241m*\u001b[39m Rbar \u001b[38;5;241m/\u001b[39m (\u001b[38;5;241m18\u001b[39m \u001b[38;5;241m*\u001b[39m c2)) \u001b[38;5;241m/\u001b[39m (\u001b[38;5;241m-\u001b[39mfR_a)\n\u001b[1;32m    373\u001b[0m         param[\u001b[38;5;124m\"\u001b[39m\u001b[38;5;124mfR_q\u001b[39m\u001b[38;5;124m\"\u001b[39m] \u001b[38;5;241m=\u001b[39m q\n\u001b[1;32m    374\u001b[0m         additional_field \u001b[38;5;241m=\u001b[39m initialise_potential(\n\u001b[1;32m    375\u001b[0m             additional_field, dens_term, h, param, tables\n\u001b[1;32m    376\u001b[0m         )\n\u001b[1;32m    377\u001b[0m         u_scalaron \u001b[38;5;241m=\u001b[39m additional_field\n\u001b[1;32m    378\u001b[0m         u_scalaron \u001b[38;5;241m=\u001b[39m multigrid\u001b[38;5;241m.\u001b[39mFAS(u_scalaron, dens_term, h, param)\n\u001b[1;32m    379\u001b[0m         \u001b[38;5;28;01mif\u001b[39;00m (param[\u001b[38;5;124m\"\u001b[39m\u001b[38;5;124mnsteps\u001b[39m\u001b[38;5;124m\"\u001b[39m]) \u001b[38;5;241m%\u001b[39m \u001b[38;5;241m10\u001b[39m \u001b[38;5;241m==\u001b[39m \u001b[38;5;241m0\u001b[39m:\n\u001b[1;32m    380\u001b[0m             logging\u001b[38;5;241m.\u001b[39minfo(\n\u001b[1;32m    381\u001b[0m                 \u001b[38;5;124mf\u001b[39m\u001b[38;5;124m\"\u001b[39m\u001b[38;5;132;01m{\u001b[39;00mnp\u001b[38;5;241m.\u001b[39mmean(u_scalaron)\u001b[38;5;132;01m=}\u001b[39;00m\u001b[38;5;124m, should be close to 1 (actually <1/u_sclaron> should be conserved)\u001b[39m\u001b[38;5;124m\"\u001b[39m\n\u001b[1;32m    382\u001b[0m             )\n\u001b[1;32m    383\u001b[0m         logging\u001b[38;5;241m.\u001b[39minfo(\u001b[38;5;124mf\u001b[39m\u001b[38;5;124m\"\u001b[39m\u001b[38;5;132;01m{\u001b[39;00mfR_a\u001b[38;5;132;01m=}\u001b[39;00m\u001b[38;5;124m\"\u001b[39m)\n\u001b[1;32m    384\u001b[0m         \u001b[38;5;28;01mreturn\u001b[39;00m u_scalaron\n\u001b[1;32m    385\u001b[0m     \u001b[38;5;28;01mcase\u001b[39;00m \u001b[38;5;124m\"\u001b[39m\u001b[38;5;124mmond\u001b[39m\u001b[38;5;124m\"\u001b[39m:\n\u001b[1;32m    386\u001b[0m         rhs_poisson(density, additional_field, param)\n\u001b[1;32m    387\u001b[0m         LINEAR_NEWTON_SOLVER \u001b[38;5;241m=\u001b[39m param[\u001b[38;5;124m\"\u001b[39m\u001b[38;5;124mlinear_newton_solver\u001b[39m\u001b[38;5;124m\"\u001b[39m]\u001b[38;5;241m.\u001b[39mcasefold()\n\u001b[1;32m    388\u001b[0m         \u001b[38;5;28;01mif\u001b[39;00m LINEAR_NEWTON_SOLVER \u001b[38;5;241m==\u001b[39m \u001b[38;5;124m\"\u001b[39m\u001b[38;5;124mmultigrid\u001b[39m\u001b[38;5;124m\"\u001b[39m:\n\u001b[1;32m    389\u001b[0m             additional_field \u001b[38;5;241m=\u001b[39m initialise_potential(\n\u001b[1;32m    390\u001b[0m                 additional_field, density, h, param, tables\n\u001b[1;32m    391\u001b[0m             )\n\u001b[1;32m    392\u001b[0m             additional_field \u001b[38;5;241m=\u001b[39m multigrid\u001b[38;5;241m.\u001b[39mlinear(additional_field, density, h, param)\n\u001b[1;32m    393\u001b[0m         \u001b[38;5;28;01melif\u001b[39;00m LINEAR_NEWTON_SOLVER \u001b[38;5;241m==\u001b[39m \u001b[38;5;124m\"\u001b[39m\u001b[38;5;124mfft_7pt\u001b[39m\u001b[38;5;124m\"\u001b[39m:\n\u001b[1;32m    394\u001b[0m             additional_field \u001b[38;5;241m=\u001b[39m fft(density, param)\n\u001b[1;32m    395\u001b[0m         \u001b[38;5;28;01melse\u001b[39;00m:\n\u001b[1;32m    396\u001b[0m             \u001b[38;5;28;01mraise\u001b[39;00m \u001b[38;5;167;01mValueError\u001b[39;00m(\n\u001b[1;32m    397\u001b[0m                 \u001b[38;5;124mf\u001b[39m\u001b[38;5;124m\"\u001b[39m\u001b[38;5;132;01m{\u001b[39;00mparam[\u001b[38;5;124m'\u001b[39m\u001b[38;5;124mlinear_newton_solver\u001b[39m\u001b[38;5;124m'\u001b[39m]\u001b[38;5;132;01m=}\u001b[39;00m\u001b[38;5;124m, should be \u001b[39m\u001b[38;5;124m'\u001b[39m\u001b[38;5;124mmultigrid\u001b[39m\u001b[38;5;124m'\u001b[39m\u001b[38;5;124m or \u001b[39m\u001b[38;5;124m'\u001b[39m\u001b[38;5;124mfft_7pt\u001b[39m\u001b[38;5;124m'\u001b[39m\u001b[38;5;124m\"\u001b[39m\n\u001b[1;32m    398\u001b[0m             )\n\u001b[1;32m    399\u001b[0m         \u001b[38;5;28;01mreturn\u001b[39;00m additional_field\n\u001b[1;32m    400\u001b[0m     \n\u001b[1;32m    401\u001b[0m     \u001b[38;5;28;01mcase\u001b[39;00m \u001b[38;5;124m\"\u001b[39m\u001b[38;5;124meft\u001b[39m\u001b[38;5;124m\"\u001b[39m:\n\u001b[1;32m    402\u001b[0m \n\u001b[0;32m--> 403\u001b[0m         eft_quantities \u001b[38;5;241m=\u001b[39m eftcalcs\u001b[38;5;241m.\u001b[39mgeteft(param,tables)\n\u001b[1;32m    404\u001b[0m         param[\u001b[38;5;124m\"\u001b[39m\u001b[38;5;124malphaB\u001b[39m\u001b[38;5;124m\"\u001b[39m] \u001b[38;5;241m=\u001b[39m eft_quantities[\u001b[38;5;241m0\u001b[39m]\n\u001b[1;32m    405\u001b[0m         param[\u001b[38;5;124m\"\u001b[39m\u001b[38;5;124malphaM\u001b[39m\u001b[38;5;124m\"\u001b[39m] \u001b[38;5;241m=\u001b[39m eft_quantities[\u001b[38;5;241m1\u001b[39m]\n\u001b[1;32m    406\u001b[0m         param[\u001b[38;5;124m\"\u001b[39m\u001b[38;5;124mC2\u001b[39m\u001b[38;5;124m\"\u001b[39m] \u001b[38;5;241m=\u001b[39m eft_quantities[\u001b[38;5;241m2\u001b[39m]\n\u001b[1;32m    407\u001b[0m         param[\u001b[38;5;124m\"\u001b[39m\u001b[38;5;124mC4\u001b[39m\u001b[38;5;124m\"\u001b[39m] \u001b[38;5;241m=\u001b[39m eft_quantities[\u001b[38;5;241m3\u001b[39m]\n\u001b[1;32m    408\u001b[0m         param[\u001b[38;5;124m\"\u001b[39m\u001b[38;5;124mH\u001b[39m\u001b[38;5;124m\"\u001b[39m] \u001b[38;5;241m=\u001b[39m eft_quantities[\u001b[38;5;241m4\u001b[39m]\n\u001b[1;32m    409\u001b[0m         param[\u001b[38;5;124m\"\u001b[39m\u001b[38;5;124mM\u001b[39m\u001b[38;5;124m\"\u001b[39m] \u001b[38;5;241m=\u001b[39m eft_quantities[\u001b[38;5;241m5\u001b[39m]\n\u001b[1;32m    410\u001b[0m \n\u001b[1;32m    411\u001b[0m         dens_term \u001b[38;5;241m=\u001b[39m utils\u001b[38;5;241m.\u001b[39mlinear_operator(density, \u001b[38;5;241m1.0\u001b[39m, \u001b[38;5;241m-\u001b[39m\u001b[38;5;241m1.0\u001b[39m)\n\u001b[1;32m    412\u001b[0m \n\u001b[1;32m    413\u001b[0m         additional_field \u001b[38;5;241m=\u001b[39m initialise_potential(\n\u001b[1;32m    414\u001b[0m             additional_field, dens_term, h, param,tables\n\u001b[1;32m    415\u001b[0m         )\n\u001b[1;32m    416\u001b[0m         chi \u001b[38;5;241m=\u001b[39m additional_field\n\u001b[1;32m    417\u001b[0m         chi \u001b[38;5;241m=\u001b[39m multigrid\u001b[38;5;241m.\u001b[39mFAS(chi, dens_term, h, param)\n\u001b[1;32m    418\u001b[0m         \u001b[38;5;28;01mreturn\u001b[39;00m chi\n\u001b[1;32m    419\u001b[0m \n\u001b[1;32m    420\u001b[0m \n\u001b[1;32m    421\u001b[0m     \u001b[38;5;28;01mcase\u001b[39;00m\u001b[38;5;250m \u001b[39m\u001b[38;5;28;01m_\u001b[39;00m:\n\u001b[1;32m    422\u001b[0m         \u001b[38;5;28;01mraise\u001b[39;00m \u001b[38;5;167;01mValueError\u001b[39;00m(\n\u001b[1;32m    423\u001b[0m             \u001b[38;5;124mf\u001b[39m\u001b[38;5;124m\"\u001b[39m\u001b[38;5;132;01m{\u001b[39;00mparam[\u001b[38;5;124m'\u001b[39m\u001b[38;5;124mtheory\u001b[39m\u001b[38;5;124m'\u001b[39m]\u001b[38;5;132;01m=}\u001b[39;00m\u001b[38;5;124m, should be \u001b[39m\u001b[38;5;124m'\u001b[39m\u001b[38;5;124mnewton\u001b[39m\u001b[38;5;124m'\u001b[39m\u001b[38;5;124m, \u001b[39m\u001b[38;5;124m'\u001b[39m\u001b[38;5;124mfr\u001b[39m\u001b[38;5;124m'\u001b[39m\u001b[38;5;124m, \u001b[39m\u001b[38;5;124m'\u001b[39m\u001b[38;5;124meft\u001b[39m\u001b[38;5;124m'\u001b[39m\u001b[38;5;124m, \u001b[39m\u001b[38;5;124m'\u001b[39m\u001b[38;5;124mparametrized\u001b[39m\u001b[38;5;124m'\u001b[39m\u001b[38;5;124m or \u001b[39m\u001b[38;5;124m'\u001b[39m\u001b[38;5;124mmond\u001b[39m\u001b[38;5;124m'\u001b[39m\u001b[38;5;124m\"\u001b[39m\n\u001b[1;32m    424\u001b[0m         )\n",
      "File \u001b[0;32m~/Dropbox/prograceray/pysco-eft/pysco/eftcalcs.py:20\u001b[0m, in \u001b[0;36mgeteft\u001b[0;34m(param, tables)\u001b[0m\n\u001b[1;32m     18\u001b[0m alphaM0 \u001b[38;5;241m=\u001b[39m param[\u001b[38;5;124m\"\u001b[39m\u001b[38;5;124malphaM0\u001b[39m\u001b[38;5;124m\"\u001b[39m]\n\u001b[1;32m     19\u001b[0m a \u001b[38;5;241m=\u001b[39m param[\u001b[38;5;124m\"\u001b[39m\u001b[38;5;124maexp\u001b[39m\u001b[38;5;124m\"\u001b[39m]\n\u001b[0;32m---> 20\u001b[0m Eval \u001b[38;5;241m=\u001b[39m tables[\u001b[38;5;241m2\u001b[39m] \n\u001b[1;32m     21\u001b[0m E \u001b[38;5;241m=\u001b[39m Eval(a) \u001b[38;5;241m/\u001b[39m param[\u001b[38;5;124m\"\u001b[39m\u001b[38;5;124mH0\u001b[39m\u001b[38;5;124m\"\u001b[39m]\n\u001b[1;32m     23\u001b[0m om_m \u001b[38;5;241m=\u001b[39m param[\u001b[38;5;124m\"\u001b[39m\u001b[38;5;124mOm_m\u001b[39m\u001b[38;5;124m\"\u001b[39m]\n",
      "\u001b[0;31mIndexError\u001b[0m: list index out of range"
     ]
    }
   ],
   "source": [
    "main.run(param)"
   ]
  },
  {
   "cell_type": "code",
   "execution_count": null,
   "id": "12253e6e-2e12-4e89-a94b-c0ea49c2d8f8",
   "metadata": {},
   "outputs": [],
   "source": []
  }
 ],
 "metadata": {
  "kernelspec": {
   "display_name": "Python 3 (ipykernel)",
   "language": "python",
   "name": "python3"
  },
  "language_info": {
   "codemirror_mode": {
    "name": "ipython",
    "version": 3
   },
   "file_extension": ".py",
   "mimetype": "text/x-python",
   "name": "python",
   "nbconvert_exporter": "python",
   "pygments_lexer": "ipython3",
   "version": "3.12.7"
  }
 },
 "nbformat": 4,
 "nbformat_minor": 5
}
