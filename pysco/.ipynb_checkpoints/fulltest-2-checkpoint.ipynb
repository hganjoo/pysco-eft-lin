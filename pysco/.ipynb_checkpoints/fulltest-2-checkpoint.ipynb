{
 "cells": [
  {
   "cell_type": "code",
   "execution_count": 1,
   "id": "b849885c-861b-4f15-a951-6cf85cb9fcee",
   "metadata": {},
   "outputs": [],
   "source": [
    "import main\n",
    "import pandas as pd"
   ]
  },
  {
   "cell_type": "code",
   "execution_count": 2,
   "id": "edcbfe75-123d-43a7-bfbc-171e76ae7f94",
   "metadata": {},
   "outputs": [
    {
     "data": {
      "text/html": [
       "<pre style=\"white-space:pre;overflow-x:auto;line-height:normal;font-family:Menlo,'DejaVu Sans Mono',consolas,'Courier New',monospace\">param<span style=\"font-weight: bold\">[</span><span style=\"color: #008000; text-decoration-color: #008000\">'nthreads'</span><span style=\"font-weight: bold\">]</span>=<span style=\"color: #008080; text-decoration-color: #008080; font-weight: bold\">1</span>                                                                                                \n",
       "</pre>\n"
      ],
      "text/plain": [
       "param\u001b[1m[\u001b[0m\u001b[32m'nthreads'\u001b[0m\u001b[1m]\u001b[0m=\u001b[1;36m1\u001b[0m                                                                                                \n"
      ]
     },
     "metadata": {},
     "output_type": "display_data"
    },
    {
     "data": {
      "text/html": [
       "<pre style=\"white-space:pre;overflow-x:auto;line-height:normal;font-family:Menlo,'DejaVu Sans Mono',consolas,'Courier New',monospace\">                                                                                                                   \n",
       "<span style=\"color: #008000; text-decoration-color: #008000; font-weight: bold\">FFT module: NumPy</span>                                                                                                  \n",
       "</pre>\n"
      ],
      "text/plain": [
       "                                                                                                                   \n",
       "\u001b[1;32mFFT module: NumPy\u001b[0m                                                                                                  \n"
      ]
     },
     "metadata": {},
     "output_type": "display_data"
    },
    {
     "data": {
      "text/html": [
       "<pre style=\"white-space:pre;overflow-x:auto;line-height:normal;font-family:Menlo,'DejaVu Sans Mono',consolas,'Courier New',monospace\">                                                                                                                   \n",
       "<span style=\"color: #000080; text-decoration-color: #000080; font-weight: bold\">----- Compute background cosmology -----</span>                                                                           \n",
       "                                                                                                                   \n",
       "</pre>\n"
      ],
      "text/plain": [
       "                                                                                                                   \n",
       "\u001b[1;34m----- Compute background cosmology -----\u001b[0m                                                                           \n",
       "                                                                                                                   \n"
      ]
     },
     "metadata": {},
     "output_type": "display_data"
    },
    {
     "name": "stdout",
     "output_type": "stream",
     "text": [
      "(100000,) (100000,) (100000,) (100000,) (100000,)\n"
     ]
    },
    {
     "name": "stderr",
     "output_type": "stream",
     "text": [
      "/opt/anaconda3/lib/python3.12/site-packages/astropy/cosmology/flrw/w0wacdm.py:195: RuntimeWarning: invalid value encountered in scalar divide\n",
      "  return zp1 ** (3 * (1 + self._w0 + self._wa)) * exp(-3 * self._wa * z / zp1)\n"
     ]
    },
    {
     "data": {
      "text/html": [
       "<pre style=\"white-space:pre;overflow-x:auto;line-height:normal;font-family:Menlo,'DejaVu Sans Mono',consolas,'Courier New',monospace\">Write table in: .<span style=\"color: #800080; text-decoration-color: #800080\">/ptest0301//</span><span style=\"color: #ff00ff; text-decoration-color: #ff00ff\">evolution_table_pysco_eft_multigrid_ncoarse7.txt</span>                                      \n",
       "</pre>\n"
      ],
      "text/plain": [
       "Write table in: .\u001b[35m/ptest0301/\u001b[0m\u001b[35m/\u001b[0m\u001b[95mevolution_table_pysco_eft_multigrid_ncoarse7.txt\u001b[0m                                      \n"
      ]
     },
     "metadata": {},
     "output_type": "display_data"
    },
    {
     "data": {
      "text/html": [
       "<pre style=\"white-space:pre;overflow-x:auto;line-height:normal;font-family:Menlo,'DejaVu Sans Mono',consolas,'Courier New',monospace\">                                                                                                                   \n",
       "<span style=\"color: #000080; text-decoration-color: #000080; font-weight: bold\">----- Initial conditions -----</span>                                                                                     \n",
       "                                                                                                                   \n",
       "</pre>\n"
      ],
      "text/plain": [
       "                                                                                                                   \n",
       "\u001b[1;34m----- Initial conditions -----\u001b[0m                                                                                     \n",
       "                                                                                                                   \n"
      ]
     },
     "metadata": {},
     "output_type": "display_data"
    },
    {
     "data": {
      "text/html": [
       "<pre style=\"white-space:pre;overflow-x:auto;line-height:normal;font-family:Menlo,'DejaVu Sans Mono',consolas,'Courier New',monospace\">param<span style=\"font-weight: bold\">[</span><span style=\"color: #008000; text-decoration-color: #008000\">'z_start'</span><span style=\"font-weight: bold\">]</span>=<span style=\"color: #008080; text-decoration-color: #008080; font-weight: bold\">25</span>                                                                                                \n",
       "</pre>\n"
      ],
      "text/plain": [
       "param\u001b[1m[\u001b[0m\u001b[32m'z_start'\u001b[0m\u001b[1m]\u001b[0m=\u001b[1;36m25\u001b[0m                                                                                                \n"
      ]
     },
     "metadata": {},
     "output_type": "display_data"
    },
    {
     "data": {
      "text/html": [
       "<pre style=\"white-space:pre;overflow-x:auto;line-height:normal;font-family:Menlo,'DejaVu Sans Mono',consolas,'Courier New',monospace\">Compute 1LPT contribution                                                                                          \n",
       "</pre>\n"
      ],
      "text/plain": [
       "Compute 1LPT contribution                                                                                          \n"
      ]
     },
     "metadata": {},
     "output_type": "display_data"
    },
    {
     "data": {
      "text/html": [
       "<pre style=\"white-space:pre;overflow-x:auto;line-height:normal;font-family:Menlo,'DejaVu Sans Mono',consolas,'Courier New',monospace\">Compute 2LPT contribution                                                                                          \n",
       "</pre>\n"
      ],
      "text/plain": [
       "Compute 2LPT contribution                                                                                          \n"
      ]
     },
     "metadata": {},
     "output_type": "display_data"
    },
    {
     "data": {
      "text/html": [
       "<pre style=\"white-space:pre;overflow-x:auto;line-height:normal;font-family:Menlo,'DejaVu Sans Mono',consolas,'Courier New',monospace\">Write initial snapshot<span style=\"color: #808000; text-decoration-color: #808000\">...</span><span style=\"color: #808000; text-decoration-color: #808000\">snap_name</span>=<span style=\"color: #008000; text-decoration-color: #008000\">'./ptest0301//output_00000/particles_eft_multigrid_ncoarse7.h5'</span>                 \n",
       "</pre>\n"
      ],
      "text/plain": [
       "Write initial snapshot\u001b[33m...\u001b[0m\u001b[33msnap_name\u001b[0m=\u001b[32m'./ptest0301//output_00000/particles_eft_multigrid_ncoarse7.h5'\u001b[0m                 \n"
      ]
     },
     "metadata": {},
     "output_type": "display_data"
    },
    {
     "data": {
      "text/html": [
       "<pre style=\"white-space:pre;overflow-x:auto;line-height:normal;font-family:Menlo,'DejaVu Sans Mono',consolas,'Courier New',monospace\">param<span style=\"font-weight: bold\">[</span><span style=\"color: #008000; text-decoration-color: #008000\">'aexp'</span><span style=\"font-weight: bold\">]</span>=<span style=\"color: #008080; text-decoration-color: #008080; font-weight: bold\">0.038461538461538464</span> param<span style=\"font-weight: bold\">[</span><span style=\"color: #008000; text-decoration-color: #008000\">'t'</span><span style=\"font-weight: bold\">]</span>=<span style=\"color: #800080; text-decoration-color: #800080; font-weight: bold\">array</span><span style=\"font-weight: bold\">(</span><span style=\"color: #008080; text-decoration-color: #008080; font-weight: bold\">-15.47501364</span><span style=\"font-weight: bold\">)</span>                                                  \n",
       "</pre>\n"
      ],
      "text/plain": [
       "param\u001b[1m[\u001b[0m\u001b[32m'aexp'\u001b[0m\u001b[1m]\u001b[0m=\u001b[1;36m0.038461538461538464\u001b[0m param\u001b[1m[\u001b[0m\u001b[32m't'\u001b[0m\u001b[1m]\u001b[0m=\u001b[1;35marray\u001b[0m\u001b[1m(\u001b[0m\u001b[1;36m-15.47501364\u001b[0m\u001b[1m)\u001b[0m                                                  \n"
      ]
     },
     "metadata": {},
     "output_type": "display_data"
    },
    {
     "data": {
      "text/html": [
       "<pre style=\"white-space:pre;overflow-x:auto;line-height:normal;font-family:Menlo,'DejaVu Sans Mono',consolas,'Courier New',monospace\">                                                                                                                   \n",
       "<span style=\"color: #000080; text-decoration-color: #000080; font-weight: bold\">----- Run N-body -----</span>                                                                                             \n",
       "                                                                                                                   \n",
       "</pre>\n"
      ],
      "text/plain": [
       "                                                                                                                   \n",
       "\u001b[1;34m----- Run N-body -----\u001b[0m                                                                                             \n",
       "                                                                                                                   \n"
      ]
     },
     "metadata": {},
     "output_type": "display_data"
    },
    {
     "data": {
      "text/html": [
       "<pre style=\"white-space:pre;overflow-x:auto;line-height:normal;font-family:Menlo,'DejaVu Sans Mono',consolas,'Courier New',monospace\">Tables, <span style=\"color: #008080; text-decoration-color: #008080; font-weight: bold\">13</span>                                                                                                         \n",
       "</pre>\n"
      ],
      "text/plain": [
       "Tables, \u001b[1;36m13\u001b[0m                                                                                                         \n"
      ]
     },
     "metadata": {},
     "output_type": "display_data"
    },
    {
     "data": {
      "text/html": [
       "<pre style=\"white-space:pre;overflow-x:auto;line-height:normal;font-family:Menlo,'DejaVu Sans Mono',consolas,'Courier New',monospace\">param<span style=\"font-weight: bold\">[</span><span style=\"color: #008000; text-decoration-color: #008000\">'nsteps'</span><span style=\"font-weight: bold\">]</span>=<span style=\"color: #008080; text-decoration-color: #008080; font-weight: bold\">1</span> param<span style=\"font-weight: bold\">[</span><span style=\"color: #008000; text-decoration-color: #008000\">'aexp'</span><span style=\"font-weight: bold\">]</span>=<span style=\"color: #008080; text-decoration-color: #008080; font-weight: bold\">0.04230769237963173</span> z = <span style=\"color: #008080; text-decoration-color: #008080; font-weight: bold\">22.636363596172686</span>                                         \n",
       "</pre>\n"
      ],
      "text/plain": [
       "param\u001b[1m[\u001b[0m\u001b[32m'nsteps'\u001b[0m\u001b[1m]\u001b[0m=\u001b[1;36m1\u001b[0m param\u001b[1m[\u001b[0m\u001b[32m'aexp'\u001b[0m\u001b[1m]\u001b[0m=\u001b[1;36m0.04230769237963173\u001b[0m z = \u001b[1;36m22.636363596172686\u001b[0m                                         \n"
      ]
     },
     "metadata": {},
     "output_type": "display_data"
    },
    {
     "data": {
      "text/html": [
       "<pre style=\"white-space:pre;overflow-x:auto;line-height:normal;font-family:Menlo,'DejaVu Sans Mono',consolas,'Courier New',monospace\">param<span style=\"font-weight: bold\">[</span><span style=\"color: #008000; text-decoration-color: #008000\">'nsteps'</span><span style=\"font-weight: bold\">]</span>=<span style=\"color: #008080; text-decoration-color: #008080; font-weight: bold\">2</span> param<span style=\"font-weight: bold\">[</span><span style=\"color: #008000; text-decoration-color: #008000\">'aexp'</span><span style=\"font-weight: bold\">]</span>=<span style=\"color: #008080; text-decoration-color: #008080; font-weight: bold\">0.04653846162115268</span> z = <span style=\"color: #008080; text-decoration-color: #008080; font-weight: bold\">20.48760326760521</span>                                          \n",
       "</pre>\n"
      ],
      "text/plain": [
       "param\u001b[1m[\u001b[0m\u001b[32m'nsteps'\u001b[0m\u001b[1m]\u001b[0m=\u001b[1;36m2\u001b[0m param\u001b[1m[\u001b[0m\u001b[32m'aexp'\u001b[0m\u001b[1m]\u001b[0m=\u001b[1;36m0.04653846162115268\u001b[0m z = \u001b[1;36m20.48760326760521\u001b[0m                                          \n"
      ]
     },
     "metadata": {},
     "output_type": "display_data"
    },
    {
     "data": {
      "text/html": [
       "<pre style=\"white-space:pre;overflow-x:auto;line-height:normal;font-family:Menlo,'DejaVu Sans Mono',consolas,'Courier New',monospace\">Snapshot written at <span style=\"color: #808000; text-decoration-color: #808000\">...</span><span style=\"color: #808000; text-decoration-color: #808000\">filename</span>=<span style=\"color: #008000; text-decoration-color: #008000\">'./ptest0301//output_00001/particles_eft_multigrid_ncoarse7.h5'</span>                    \n",
       "param<span style=\"font-weight: bold\">[</span><span style=\"color: #008000; text-decoration-color: #008000\">'aexp'</span><span style=\"font-weight: bold\">]</span>=<span style=\"color: #008080; text-decoration-color: #008080; font-weight: bold\">0.047619047619047616</span>                                                                                 \n",
       "</pre>\n"
      ],
      "text/plain": [
       "Snapshot written at \u001b[33m...\u001b[0m\u001b[33mfilename\u001b[0m=\u001b[32m'./ptest0301//output_00001/particles_eft_multigrid_ncoarse7.h5'\u001b[0m                    \n",
       "param\u001b[1m[\u001b[0m\u001b[32m'aexp'\u001b[0m\u001b[1m]\u001b[0m=\u001b[1;36m0.047619047619047616\u001b[0m                                                                                 \n"
      ]
     },
     "metadata": {},
     "output_type": "display_data"
    },
    {
     "data": {
      "text/html": [
       "<pre style=\"white-space:pre;overflow-x:auto;line-height:normal;font-family:Menlo,'DejaVu Sans Mono',consolas,'Courier New',monospace\">param<span style=\"font-weight: bold\">[</span><span style=\"color: #008000; text-decoration-color: #008000\">'nsteps'</span><span style=\"font-weight: bold\">]</span>=<span style=\"color: #008080; text-decoration-color: #008080; font-weight: bold\">3</span> param<span style=\"font-weight: bold\">[</span><span style=\"color: #008000; text-decoration-color: #008000\">'aexp'</span><span style=\"font-weight: bold\">]</span>=<span style=\"color: #008080; text-decoration-color: #008080; font-weight: bold\">0.047619047619047616</span> z = <span style=\"color: #008080; text-decoration-color: #008080; font-weight: bold\">20.0</span>                                                      \n",
       "</pre>\n"
      ],
      "text/plain": [
       "param\u001b[1m[\u001b[0m\u001b[32m'nsteps'\u001b[0m\u001b[1m]\u001b[0m=\u001b[1;36m3\u001b[0m param\u001b[1m[\u001b[0m\u001b[32m'aexp'\u001b[0m\u001b[1m]\u001b[0m=\u001b[1;36m0.047619047619047616\u001b[0m z = \u001b[1;36m20.0\u001b[0m                                                      \n"
      ]
     },
     "metadata": {},
     "output_type": "display_data"
    },
    {
     "data": {
      "text/html": [
       "<pre style=\"white-space:pre;overflow-x:auto;line-height:normal;font-family:Menlo,'DejaVu Sans Mono',consolas,'Courier New',monospace\">Snapshot written at <span style=\"color: #808000; text-decoration-color: #808000\">...</span><span style=\"color: #808000; text-decoration-color: #808000\">filename</span>=<span style=\"color: #008000; text-decoration-color: #008000\">'./ptest0301//output_00002/particles_eft_multigrid_ncoarse7.h5'</span>                    \n",
       "param<span style=\"font-weight: bold\">[</span><span style=\"color: #008000; text-decoration-color: #008000\">'aexp'</span><span style=\"font-weight: bold\">]</span>=<span style=\"color: #008080; text-decoration-color: #008080; font-weight: bold\">0.05000000000000001</span>                                                                                  \n",
       "</pre>\n"
      ],
      "text/plain": [
       "Snapshot written at \u001b[33m...\u001b[0m\u001b[33mfilename\u001b[0m=\u001b[32m'./ptest0301//output_00002/particles_eft_multigrid_ncoarse7.h5'\u001b[0m                    \n",
       "param\u001b[1m[\u001b[0m\u001b[32m'aexp'\u001b[0m\u001b[1m]\u001b[0m=\u001b[1;36m0.05000000000000001\u001b[0m                                                                                  \n"
      ]
     },
     "metadata": {},
     "output_type": "display_data"
    },
    {
     "data": {
      "text/html": [
       "<pre style=\"white-space:pre;overflow-x:auto;line-height:normal;font-family:Menlo,'DejaVu Sans Mono',consolas,'Courier New',monospace\">param<span style=\"font-weight: bold\">[</span><span style=\"color: #008000; text-decoration-color: #008000\">'nsteps'</span><span style=\"font-weight: bold\">]</span>=<span style=\"color: #008080; text-decoration-color: #008080; font-weight: bold\">4</span> param<span style=\"font-weight: bold\">[</span><span style=\"color: #008000; text-decoration-color: #008000\">'aexp'</span><span style=\"font-weight: bold\">]</span>=<span style=\"color: #008080; text-decoration-color: #008080; font-weight: bold\">0.05000000000000001</span> z = <span style=\"color: #008080; text-decoration-color: #008080; font-weight: bold\">18.999999999999996</span>                                         \n",
       "</pre>\n"
      ],
      "text/plain": [
       "param\u001b[1m[\u001b[0m\u001b[32m'nsteps'\u001b[0m\u001b[1m]\u001b[0m=\u001b[1;36m4\u001b[0m param\u001b[1m[\u001b[0m\u001b[32m'aexp'\u001b[0m\u001b[1m]\u001b[0m=\u001b[1;36m0.05000000000000001\u001b[0m z = \u001b[1;36m18.999999999999996\u001b[0m                                         \n"
      ]
     },
     "metadata": {},
     "output_type": "display_data"
    },
    {
     "data": {
      "text/html": [
       "<pre style=\"white-space:pre;overflow-x:auto;line-height:normal;font-family:Menlo,'DejaVu Sans Mono',consolas,'Courier New',monospace\">Snapshot written at <span style=\"color: #808000; text-decoration-color: #808000\">...</span><span style=\"color: #808000; text-decoration-color: #808000\">filename</span>=<span style=\"color: #008000; text-decoration-color: #008000\">'./ptest0301//output_00003/particles_eft_multigrid_ncoarse7.h5'</span>                    \n",
       "param<span style=\"font-weight: bold\">[</span><span style=\"color: #008000; text-decoration-color: #008000\">'aexp'</span><span style=\"font-weight: bold\">]</span>=<span style=\"color: #008080; text-decoration-color: #008080; font-weight: bold\">0.05263157894736841</span>                                                                                  \n",
       "</pre>\n"
      ],
      "text/plain": [
       "Snapshot written at \u001b[33m...\u001b[0m\u001b[33mfilename\u001b[0m=\u001b[32m'./ptest0301//output_00003/particles_eft_multigrid_ncoarse7.h5'\u001b[0m                    \n",
       "param\u001b[1m[\u001b[0m\u001b[32m'aexp'\u001b[0m\u001b[1m]\u001b[0m=\u001b[1;36m0.05263157894736841\u001b[0m                                                                                  \n"
      ]
     },
     "metadata": {},
     "output_type": "display_data"
    },
    {
     "data": {
      "text/html": [
       "<pre style=\"white-space:pre;overflow-x:auto;line-height:normal;font-family:Menlo,'DejaVu Sans Mono',consolas,'Courier New',monospace\">param<span style=\"font-weight: bold\">[</span><span style=\"color: #008000; text-decoration-color: #008000\">'nsteps'</span><span style=\"font-weight: bold\">]</span>=<span style=\"color: #008080; text-decoration-color: #008080; font-weight: bold\">5</span> param<span style=\"font-weight: bold\">[</span><span style=\"color: #008000; text-decoration-color: #008000\">'aexp'</span><span style=\"font-weight: bold\">]</span>=<span style=\"color: #008080; text-decoration-color: #008080; font-weight: bold\">0.05263157894736841</span> z = <span style=\"color: #008080; text-decoration-color: #008080; font-weight: bold\">18.000000000000004</span>                                         \n",
       "</pre>\n"
      ],
      "text/plain": [
       "param\u001b[1m[\u001b[0m\u001b[32m'nsteps'\u001b[0m\u001b[1m]\u001b[0m=\u001b[1;36m5\u001b[0m param\u001b[1m[\u001b[0m\u001b[32m'aexp'\u001b[0m\u001b[1m]\u001b[0m=\u001b[1;36m0.05263157894736841\u001b[0m z = \u001b[1;36m18.000000000000004\u001b[0m                                         \n"
      ]
     },
     "metadata": {},
     "output_type": "display_data"
    },
    {
     "data": {
      "text/html": [
       "<pre style=\"white-space:pre;overflow-x:auto;line-height:normal;font-family:Menlo,'DejaVu Sans Mono',consolas,'Courier New',monospace\">Snapshot written at <span style=\"color: #808000; text-decoration-color: #808000\">...</span><span style=\"color: #808000; text-decoration-color: #808000\">filename</span>=<span style=\"color: #008000; text-decoration-color: #008000\">'./ptest0301//output_00004/particles_eft_multigrid_ncoarse7.h5'</span>                    \n",
       "param<span style=\"font-weight: bold\">[</span><span style=\"color: #008000; text-decoration-color: #008000\">'aexp'</span><span style=\"font-weight: bold\">]</span>=<span style=\"color: #008080; text-decoration-color: #008080; font-weight: bold\">0.05555555555555554</span>                                                                                  \n",
       "</pre>\n"
      ],
      "text/plain": [
       "Snapshot written at \u001b[33m...\u001b[0m\u001b[33mfilename\u001b[0m=\u001b[32m'./ptest0301//output_00004/particles_eft_multigrid_ncoarse7.h5'\u001b[0m                    \n",
       "param\u001b[1m[\u001b[0m\u001b[32m'aexp'\u001b[0m\u001b[1m]\u001b[0m=\u001b[1;36m0.05555555555555554\u001b[0m                                                                                  \n"
      ]
     },
     "metadata": {},
     "output_type": "display_data"
    },
    {
     "data": {
      "text/html": [
       "<pre style=\"white-space:pre;overflow-x:auto;line-height:normal;font-family:Menlo,'DejaVu Sans Mono',consolas,'Courier New',monospace\">param<span style=\"font-weight: bold\">[</span><span style=\"color: #008000; text-decoration-color: #008000\">'nsteps'</span><span style=\"font-weight: bold\">]</span>=<span style=\"color: #008080; text-decoration-color: #008080; font-weight: bold\">6</span> param<span style=\"font-weight: bold\">[</span><span style=\"color: #008000; text-decoration-color: #008000\">'aexp'</span><span style=\"font-weight: bold\">]</span>=<span style=\"color: #008080; text-decoration-color: #008080; font-weight: bold\">0.05555555555555554</span> z = <span style=\"color: #008080; text-decoration-color: #008080; font-weight: bold\">17.000000000000007</span>                                         \n",
       "</pre>\n"
      ],
      "text/plain": [
       "param\u001b[1m[\u001b[0m\u001b[32m'nsteps'\u001b[0m\u001b[1m]\u001b[0m=\u001b[1;36m6\u001b[0m param\u001b[1m[\u001b[0m\u001b[32m'aexp'\u001b[0m\u001b[1m]\u001b[0m=\u001b[1;36m0.05555555555555554\u001b[0m z = \u001b[1;36m17.000000000000007\u001b[0m                                         \n"
      ]
     },
     "metadata": {},
     "output_type": "display_data"
    },
    {
     "data": {
      "text/html": [
       "<pre style=\"white-space:pre;overflow-x:auto;line-height:normal;font-family:Menlo,'DejaVu Sans Mono',consolas,'Courier New',monospace\">Snapshot written at <span style=\"color: #808000; text-decoration-color: #808000\">...</span><span style=\"color: #808000; text-decoration-color: #808000\">filename</span>=<span style=\"color: #008000; text-decoration-color: #008000\">'./ptest0301//output_00005/particles_eft_multigrid_ncoarse7.h5'</span>                    \n",
       "param<span style=\"font-weight: bold\">[</span><span style=\"color: #008000; text-decoration-color: #008000\">'aexp'</span><span style=\"font-weight: bold\">]</span>=<span style=\"color: #008080; text-decoration-color: #008080; font-weight: bold\">0.0588235294117647</span>                                                                                   \n",
       "</pre>\n"
      ],
      "text/plain": [
       "Snapshot written at \u001b[33m...\u001b[0m\u001b[33mfilename\u001b[0m=\u001b[32m'./ptest0301//output_00005/particles_eft_multigrid_ncoarse7.h5'\u001b[0m                    \n",
       "param\u001b[1m[\u001b[0m\u001b[32m'aexp'\u001b[0m\u001b[1m]\u001b[0m=\u001b[1;36m0.0588235294117647\u001b[0m                                                                                   \n"
      ]
     },
     "metadata": {},
     "output_type": "display_data"
    },
    {
     "data": {
      "text/html": [
       "<pre style=\"white-space:pre;overflow-x:auto;line-height:normal;font-family:Menlo,'DejaVu Sans Mono',consolas,'Courier New',monospace\">param<span style=\"font-weight: bold\">[</span><span style=\"color: #008000; text-decoration-color: #008000\">'nsteps'</span><span style=\"font-weight: bold\">]</span>=<span style=\"color: #008080; text-decoration-color: #008080; font-weight: bold\">7</span> param<span style=\"font-weight: bold\">[</span><span style=\"color: #008000; text-decoration-color: #008000\">'aexp'</span><span style=\"font-weight: bold\">]</span>=<span style=\"color: #008080; text-decoration-color: #008080; font-weight: bold\">0.0588235294117647</span> z = <span style=\"color: #008080; text-decoration-color: #008080; font-weight: bold\">16.000000000000004</span>                                          \n",
       "</pre>\n"
      ],
      "text/plain": [
       "param\u001b[1m[\u001b[0m\u001b[32m'nsteps'\u001b[0m\u001b[1m]\u001b[0m=\u001b[1;36m7\u001b[0m param\u001b[1m[\u001b[0m\u001b[32m'aexp'\u001b[0m\u001b[1m]\u001b[0m=\u001b[1;36m0.0588235294117647\u001b[0m z = \u001b[1;36m16.000000000000004\u001b[0m                                          \n"
      ]
     },
     "metadata": {},
     "output_type": "display_data"
    },
    {
     "data": {
      "text/html": [
       "<pre style=\"white-space:pre;overflow-x:auto;line-height:normal;font-family:Menlo,'DejaVu Sans Mono',consolas,'Courier New',monospace\">Snapshot written at <span style=\"color: #808000; text-decoration-color: #808000\">...</span><span style=\"color: #808000; text-decoration-color: #808000\">filename</span>=<span style=\"color: #008000; text-decoration-color: #008000\">'./ptest0301//output_00006/particles_eft_multigrid_ncoarse7.h5'</span>                    \n",
       "param<span style=\"font-weight: bold\">[</span><span style=\"color: #008000; text-decoration-color: #008000\">'aexp'</span><span style=\"font-weight: bold\">]</span>=<span style=\"color: #008080; text-decoration-color: #008080; font-weight: bold\">0.0625</span>                                                                                               \n",
       "</pre>\n"
      ],
      "text/plain": [
       "Snapshot written at \u001b[33m...\u001b[0m\u001b[33mfilename\u001b[0m=\u001b[32m'./ptest0301//output_00006/particles_eft_multigrid_ncoarse7.h5'\u001b[0m                    \n",
       "param\u001b[1m[\u001b[0m\u001b[32m'aexp'\u001b[0m\u001b[1m]\u001b[0m=\u001b[1;36m0.0625\u001b[0m                                                                                               \n"
      ]
     },
     "metadata": {},
     "output_type": "display_data"
    },
    {
     "data": {
      "text/html": [
       "<pre style=\"white-space:pre;overflow-x:auto;line-height:normal;font-family:Menlo,'DejaVu Sans Mono',consolas,'Courier New',monospace\">param<span style=\"font-weight: bold\">[</span><span style=\"color: #008000; text-decoration-color: #008000\">'nsteps'</span><span style=\"font-weight: bold\">]</span>=<span style=\"color: #008080; text-decoration-color: #008080; font-weight: bold\">8</span> param<span style=\"font-weight: bold\">[</span><span style=\"color: #008000; text-decoration-color: #008000\">'aexp'</span><span style=\"font-weight: bold\">]</span>=<span style=\"color: #008080; text-decoration-color: #008080; font-weight: bold\">0.0625</span> z = <span style=\"color: #008080; text-decoration-color: #008080; font-weight: bold\">15.0</span>                                                                    \n",
       "</pre>\n"
      ],
      "text/plain": [
       "param\u001b[1m[\u001b[0m\u001b[32m'nsteps'\u001b[0m\u001b[1m]\u001b[0m=\u001b[1;36m8\u001b[0m param\u001b[1m[\u001b[0m\u001b[32m'aexp'\u001b[0m\u001b[1m]\u001b[0m=\u001b[1;36m0.0625\u001b[0m z = \u001b[1;36m15.0\u001b[0m                                                                    \n"
      ]
     },
     "metadata": {},
     "output_type": "display_data"
    },
    {
     "data": {
      "text/html": [
       "<pre style=\"white-space:pre;overflow-x:auto;line-height:normal;font-family:Menlo,'DejaVu Sans Mono',consolas,'Courier New',monospace\">Snapshot written at <span style=\"color: #808000; text-decoration-color: #808000\">...</span><span style=\"color: #808000; text-decoration-color: #808000\">filename</span>=<span style=\"color: #008000; text-decoration-color: #008000\">'./ptest0301//output_00007/particles_eft_multigrid_ncoarse7.h5'</span>                    \n",
       "param<span style=\"font-weight: bold\">[</span><span style=\"color: #008000; text-decoration-color: #008000\">'aexp'</span><span style=\"font-weight: bold\">]</span>=<span style=\"color: #008080; text-decoration-color: #008080; font-weight: bold\">0.06666666666666667</span>                                                                                  \n",
       "</pre>\n"
      ],
      "text/plain": [
       "Snapshot written at \u001b[33m...\u001b[0m\u001b[33mfilename\u001b[0m=\u001b[32m'./ptest0301//output_00007/particles_eft_multigrid_ncoarse7.h5'\u001b[0m                    \n",
       "param\u001b[1m[\u001b[0m\u001b[32m'aexp'\u001b[0m\u001b[1m]\u001b[0m=\u001b[1;36m0.06666666666666667\u001b[0m                                                                                  \n"
      ]
     },
     "metadata": {},
     "output_type": "display_data"
    },
    {
     "data": {
      "text/html": [
       "<pre style=\"white-space:pre;overflow-x:auto;line-height:normal;font-family:Menlo,'DejaVu Sans Mono',consolas,'Courier New',monospace\">param<span style=\"font-weight: bold\">[</span><span style=\"color: #008000; text-decoration-color: #008000\">'nsteps'</span><span style=\"font-weight: bold\">]</span>=<span style=\"color: #008080; text-decoration-color: #008080; font-weight: bold\">9</span> param<span style=\"font-weight: bold\">[</span><span style=\"color: #008000; text-decoration-color: #008000\">'aexp'</span><span style=\"font-weight: bold\">]</span>=<span style=\"color: #008080; text-decoration-color: #008080; font-weight: bold\">0.06666666666666667</span> z = <span style=\"color: #008080; text-decoration-color: #008080; font-weight: bold\">14.0</span>                                                       \n",
       "</pre>\n"
      ],
      "text/plain": [
       "param\u001b[1m[\u001b[0m\u001b[32m'nsteps'\u001b[0m\u001b[1m]\u001b[0m=\u001b[1;36m9\u001b[0m param\u001b[1m[\u001b[0m\u001b[32m'aexp'\u001b[0m\u001b[1m]\u001b[0m=\u001b[1;36m0.06666666666666667\u001b[0m z = \u001b[1;36m14.0\u001b[0m                                                       \n"
      ]
     },
     "metadata": {},
     "output_type": "display_data"
    },
    {
     "data": {
      "text/html": [
       "<pre style=\"white-space:pre;overflow-x:auto;line-height:normal;font-family:Menlo,'DejaVu Sans Mono',consolas,'Courier New',monospace\">Snapshot written at <span style=\"color: #808000; text-decoration-color: #808000\">...</span><span style=\"color: #808000; text-decoration-color: #808000\">filename</span>=<span style=\"color: #008000; text-decoration-color: #008000\">'./ptest0301//output_00008/particles_eft_multigrid_ncoarse7.h5'</span>                    \n",
       "param<span style=\"font-weight: bold\">[</span><span style=\"color: #008000; text-decoration-color: #008000\">'aexp'</span><span style=\"font-weight: bold\">]</span>=<span style=\"color: #008080; text-decoration-color: #008080; font-weight: bold\">0.07142857142857141</span>                                                                                  \n",
       "</pre>\n"
      ],
      "text/plain": [
       "Snapshot written at \u001b[33m...\u001b[0m\u001b[33mfilename\u001b[0m=\u001b[32m'./ptest0301//output_00008/particles_eft_multigrid_ncoarse7.h5'\u001b[0m                    \n",
       "param\u001b[1m[\u001b[0m\u001b[32m'aexp'\u001b[0m\u001b[1m]\u001b[0m=\u001b[1;36m0.07142857142857141\u001b[0m                                                                                  \n"
      ]
     },
     "metadata": {},
     "output_type": "display_data"
    },
    {
     "data": {
      "text/html": [
       "<pre style=\"white-space:pre;overflow-x:auto;line-height:normal;font-family:Menlo,'DejaVu Sans Mono',consolas,'Courier New',monospace\">param<span style=\"font-weight: bold\">[</span><span style=\"color: #008000; text-decoration-color: #008000\">'nsteps'</span><span style=\"font-weight: bold\">]</span>=<span style=\"color: #008080; text-decoration-color: #008080; font-weight: bold\">10</span> param<span style=\"font-weight: bold\">[</span><span style=\"color: #008000; text-decoration-color: #008000\">'aexp'</span><span style=\"font-weight: bold\">]</span>=<span style=\"color: #008080; text-decoration-color: #008080; font-weight: bold\">0.07142857142857141</span> z = <span style=\"color: #008080; text-decoration-color: #008080; font-weight: bold\">13.000000000000004</span>                                        \n",
       "</pre>\n"
      ],
      "text/plain": [
       "param\u001b[1m[\u001b[0m\u001b[32m'nsteps'\u001b[0m\u001b[1m]\u001b[0m=\u001b[1;36m10\u001b[0m param\u001b[1m[\u001b[0m\u001b[32m'aexp'\u001b[0m\u001b[1m]\u001b[0m=\u001b[1;36m0.07142857142857141\u001b[0m z = \u001b[1;36m13.000000000000004\u001b[0m                                        \n"
      ]
     },
     "metadata": {},
     "output_type": "display_data"
    },
    {
     "data": {
      "text/html": [
       "<pre style=\"white-space:pre;overflow-x:auto;line-height:normal;font-family:Menlo,'DejaVu Sans Mono',consolas,'Courier New',monospace\">Snapshot written at <span style=\"color: #808000; text-decoration-color: #808000\">...</span><span style=\"color: #808000; text-decoration-color: #808000\">filename</span>=<span style=\"color: #008000; text-decoration-color: #008000\">'./ptest0301//output_00009/particles_eft_multigrid_ncoarse7.h5'</span>                    \n",
       "param<span style=\"font-weight: bold\">[</span><span style=\"color: #008000; text-decoration-color: #008000\">'aexp'</span><span style=\"font-weight: bold\">]</span>=<span style=\"color: #008080; text-decoration-color: #008080; font-weight: bold\">0.07692307692307693</span>                                                                                  \n",
       "</pre>\n"
      ],
      "text/plain": [
       "Snapshot written at \u001b[33m...\u001b[0m\u001b[33mfilename\u001b[0m=\u001b[32m'./ptest0301//output_00009/particles_eft_multigrid_ncoarse7.h5'\u001b[0m                    \n",
       "param\u001b[1m[\u001b[0m\u001b[32m'aexp'\u001b[0m\u001b[1m]\u001b[0m=\u001b[1;36m0.07692307692307693\u001b[0m                                                                                  \n"
      ]
     },
     "metadata": {},
     "output_type": "display_data"
    },
    {
     "data": {
      "text/html": [
       "<pre style=\"white-space:pre;overflow-x:auto;line-height:normal;font-family:Menlo,'DejaVu Sans Mono',consolas,'Courier New',monospace\">param<span style=\"font-weight: bold\">[</span><span style=\"color: #008000; text-decoration-color: #008000\">'nsteps'</span><span style=\"font-weight: bold\">]</span>=<span style=\"color: #008080; text-decoration-color: #008080; font-weight: bold\">11</span> param<span style=\"font-weight: bold\">[</span><span style=\"color: #008000; text-decoration-color: #008000\">'aexp'</span><span style=\"font-weight: bold\">]</span>=<span style=\"color: #008080; text-decoration-color: #008080; font-weight: bold\">0.07692307692307693</span> z = <span style=\"color: #008080; text-decoration-color: #008080; font-weight: bold\">12.0</span>                                                      \n",
       "</pre>\n"
      ],
      "text/plain": [
       "param\u001b[1m[\u001b[0m\u001b[32m'nsteps'\u001b[0m\u001b[1m]\u001b[0m=\u001b[1;36m11\u001b[0m param\u001b[1m[\u001b[0m\u001b[32m'aexp'\u001b[0m\u001b[1m]\u001b[0m=\u001b[1;36m0.07692307692307693\u001b[0m z = \u001b[1;36m12.0\u001b[0m                                                      \n"
      ]
     },
     "metadata": {},
     "output_type": "display_data"
    },
    {
     "data": {
      "text/html": [
       "<pre style=\"white-space:pre;overflow-x:auto;line-height:normal;font-family:Menlo,'DejaVu Sans Mono',consolas,'Courier New',monospace\">Snapshot written at <span style=\"color: #808000; text-decoration-color: #808000\">...</span><span style=\"color: #808000; text-decoration-color: #808000\">filename</span>=<span style=\"color: #008000; text-decoration-color: #008000\">'./ptest0301//output_00010/particles_eft_multigrid_ncoarse7.h5'</span>                    \n",
       "param<span style=\"font-weight: bold\">[</span><span style=\"color: #008000; text-decoration-color: #008000\">'aexp'</span><span style=\"font-weight: bold\">]</span>=<span style=\"color: #008080; text-decoration-color: #008080; font-weight: bold\">0.08333333333333333</span>                                                                                  \n",
       "</pre>\n"
      ],
      "text/plain": [
       "Snapshot written at \u001b[33m...\u001b[0m\u001b[33mfilename\u001b[0m=\u001b[32m'./ptest0301//output_00010/particles_eft_multigrid_ncoarse7.h5'\u001b[0m                    \n",
       "param\u001b[1m[\u001b[0m\u001b[32m'aexp'\u001b[0m\u001b[1m]\u001b[0m=\u001b[1;36m0.08333333333333333\u001b[0m                                                                                  \n"
      ]
     },
     "metadata": {},
     "output_type": "display_data"
    },
    {
     "data": {
      "text/html": [
       "<pre style=\"white-space:pre;overflow-x:auto;line-height:normal;font-family:Menlo,'DejaVu Sans Mono',consolas,'Courier New',monospace\">param<span style=\"font-weight: bold\">[</span><span style=\"color: #008000; text-decoration-color: #008000\">'nsteps'</span><span style=\"font-weight: bold\">]</span>=<span style=\"color: #008080; text-decoration-color: #008080; font-weight: bold\">12</span> param<span style=\"font-weight: bold\">[</span><span style=\"color: #008000; text-decoration-color: #008000\">'aexp'</span><span style=\"font-weight: bold\">]</span>=<span style=\"color: #008080; text-decoration-color: #008080; font-weight: bold\">0.08333333333333333</span> z = <span style=\"color: #008080; text-decoration-color: #008080; font-weight: bold\">11.0</span>                                                      \n",
       "</pre>\n"
      ],
      "text/plain": [
       "param\u001b[1m[\u001b[0m\u001b[32m'nsteps'\u001b[0m\u001b[1m]\u001b[0m=\u001b[1;36m12\u001b[0m param\u001b[1m[\u001b[0m\u001b[32m'aexp'\u001b[0m\u001b[1m]\u001b[0m=\u001b[1;36m0.08333333333333333\u001b[0m z = \u001b[1;36m11.0\u001b[0m                                                      \n"
      ]
     },
     "metadata": {},
     "output_type": "display_data"
    },
    {
     "data": {
      "text/html": [
       "<pre style=\"white-space:pre;overflow-x:auto;line-height:normal;font-family:Menlo,'DejaVu Sans Mono',consolas,'Courier New',monospace\">Snapshot written at <span style=\"color: #808000; text-decoration-color: #808000\">...</span><span style=\"color: #808000; text-decoration-color: #808000\">filename</span>=<span style=\"color: #008000; text-decoration-color: #008000\">'./ptest0301//output_00011/particles_eft_multigrid_ncoarse7.h5'</span>                    \n",
       "param<span style=\"font-weight: bold\">[</span><span style=\"color: #008000; text-decoration-color: #008000\">'aexp'</span><span style=\"font-weight: bold\">]</span>=<span style=\"color: #008080; text-decoration-color: #008080; font-weight: bold\">0.0909090909090909</span>                                                                                   \n",
       "</pre>\n"
      ],
      "text/plain": [
       "Snapshot written at \u001b[33m...\u001b[0m\u001b[33mfilename\u001b[0m=\u001b[32m'./ptest0301//output_00011/particles_eft_multigrid_ncoarse7.h5'\u001b[0m                    \n",
       "param\u001b[1m[\u001b[0m\u001b[32m'aexp'\u001b[0m\u001b[1m]\u001b[0m=\u001b[1;36m0.0909090909090909\u001b[0m                                                                                   \n"
      ]
     },
     "metadata": {},
     "output_type": "display_data"
    },
    {
     "data": {
      "text/html": [
       "<pre style=\"white-space:pre;overflow-x:auto;line-height:normal;font-family:Menlo,'DejaVu Sans Mono',consolas,'Courier New',monospace\">param<span style=\"font-weight: bold\">[</span><span style=\"color: #008000; text-decoration-color: #008000\">'nsteps'</span><span style=\"font-weight: bold\">]</span>=<span style=\"color: #008080; text-decoration-color: #008080; font-weight: bold\">13</span> param<span style=\"font-weight: bold\">[</span><span style=\"color: #008000; text-decoration-color: #008000\">'aexp'</span><span style=\"font-weight: bold\">]</span>=<span style=\"color: #008080; text-decoration-color: #008080; font-weight: bold\">0.0909090909090909</span> z = <span style=\"color: #008080; text-decoration-color: #008080; font-weight: bold\">10.000000000000002</span>                                         \n",
       "</pre>\n"
      ],
      "text/plain": [
       "param\u001b[1m[\u001b[0m\u001b[32m'nsteps'\u001b[0m\u001b[1m]\u001b[0m=\u001b[1;36m13\u001b[0m param\u001b[1m[\u001b[0m\u001b[32m'aexp'\u001b[0m\u001b[1m]\u001b[0m=\u001b[1;36m0.0909090909090909\u001b[0m z = \u001b[1;36m10.000000000000002\u001b[0m                                         \n"
      ]
     },
     "metadata": {},
     "output_type": "display_data"
    },
    {
     "data": {
      "text/html": [
       "<pre style=\"white-space:pre;overflow-x:auto;line-height:normal;font-family:Menlo,'DejaVu Sans Mono',consolas,'Courier New',monospace\">param<span style=\"font-weight: bold\">[</span><span style=\"color: #008000; text-decoration-color: #008000\">'nsteps'</span><span style=\"font-weight: bold\">]</span>=<span style=\"color: #008080; text-decoration-color: #008080; font-weight: bold\">14</span> param<span style=\"font-weight: bold\">[</span><span style=\"color: #008000; text-decoration-color: #008000\">'aexp'</span><span style=\"font-weight: bold\">]</span>=<span style=\"color: #008080; text-decoration-color: #008080; font-weight: bold\">0.09999999981782201</span> z = <span style=\"color: #008080; text-decoration-color: #008080; font-weight: bold\">9.000000018217799</span>                                         \n",
       "</pre>\n"
      ],
      "text/plain": [
       "param\u001b[1m[\u001b[0m\u001b[32m'nsteps'\u001b[0m\u001b[1m]\u001b[0m=\u001b[1;36m14\u001b[0m param\u001b[1m[\u001b[0m\u001b[32m'aexp'\u001b[0m\u001b[1m]\u001b[0m=\u001b[1;36m0.09999999981782201\u001b[0m z = \u001b[1;36m9.000000018217799\u001b[0m                                         \n"
      ]
     },
     "metadata": {},
     "output_type": "display_data"
    },
    {
     "data": {
      "text/html": [
       "<pre style=\"white-space:pre;overflow-x:auto;line-height:normal;font-family:Menlo,'DejaVu Sans Mono',consolas,'Courier New',monospace\">Snapshot written at <span style=\"color: #808000; text-decoration-color: #808000\">...</span><span style=\"color: #808000; text-decoration-color: #808000\">filename</span>=<span style=\"color: #008000; text-decoration-color: #008000\">'./ptest0301//output_00012/particles_eft_multigrid_ncoarse7.h5'</span>                    \n",
       "param<span style=\"font-weight: bold\">[</span><span style=\"color: #008000; text-decoration-color: #008000\">'aexp'</span><span style=\"font-weight: bold\">]</span>=<span style=\"color: #008080; text-decoration-color: #008080; font-weight: bold\">0.10000000000000002</span>                                                                                  \n",
       "</pre>\n"
      ],
      "text/plain": [
       "Snapshot written at \u001b[33m...\u001b[0m\u001b[33mfilename\u001b[0m=\u001b[32m'./ptest0301//output_00012/particles_eft_multigrid_ncoarse7.h5'\u001b[0m                    \n",
       "param\u001b[1m[\u001b[0m\u001b[32m'aexp'\u001b[0m\u001b[1m]\u001b[0m=\u001b[1;36m0.10000000000000002\u001b[0m                                                                                  \n"
      ]
     },
     "metadata": {},
     "output_type": "display_data"
    },
    {
     "data": {
      "text/html": [
       "<pre style=\"white-space:pre;overflow-x:auto;line-height:normal;font-family:Menlo,'DejaVu Sans Mono',consolas,'Courier New',monospace\">param<span style=\"font-weight: bold\">[</span><span style=\"color: #008000; text-decoration-color: #008000\">'nsteps'</span><span style=\"font-weight: bold\">]</span>=<span style=\"color: #008080; text-decoration-color: #008080; font-weight: bold\">15</span> param<span style=\"font-weight: bold\">[</span><span style=\"color: #008000; text-decoration-color: #008000\">'aexp'</span><span style=\"font-weight: bold\">]</span>=<span style=\"color: #008080; text-decoration-color: #008080; font-weight: bold\">0.10000000000000002</span> z = <span style=\"color: #008080; text-decoration-color: #008080; font-weight: bold\">8.999999999999998</span>                                         \n",
       "</pre>\n"
      ],
      "text/plain": [
       "param\u001b[1m[\u001b[0m\u001b[32m'nsteps'\u001b[0m\u001b[1m]\u001b[0m=\u001b[1;36m15\u001b[0m param\u001b[1m[\u001b[0m\u001b[32m'aexp'\u001b[0m\u001b[1m]\u001b[0m=\u001b[1;36m0.10000000000000002\u001b[0m z = \u001b[1;36m8.999999999999998\u001b[0m                                         \n"
      ]
     },
     "metadata": {},
     "output_type": "display_data"
    },
    {
     "data": {
      "text/html": [
       "<pre style=\"white-space:pre;overflow-x:auto;line-height:normal;font-family:Menlo,'DejaVu Sans Mono',consolas,'Courier New',monospace\">param<span style=\"font-weight: bold\">[</span><span style=\"color: #008000; text-decoration-color: #008000\">'nsteps'</span><span style=\"font-weight: bold\">]</span>=<span style=\"color: #008080; text-decoration-color: #008080; font-weight: bold\">16</span> param<span style=\"font-weight: bold\">[</span><span style=\"color: #008000; text-decoration-color: #008000\">'aexp'</span><span style=\"font-weight: bold\">]</span>=<span style=\"color: #008080; text-decoration-color: #008080; font-weight: bold\">0.11000000052285393</span> z = <span style=\"color: #008080; text-decoration-color: #008080; font-weight: bold\">8.090909047698023</span>                                         \n",
       "</pre>\n"
      ],
      "text/plain": [
       "param\u001b[1m[\u001b[0m\u001b[32m'nsteps'\u001b[0m\u001b[1m]\u001b[0m=\u001b[1;36m16\u001b[0m param\u001b[1m[\u001b[0m\u001b[32m'aexp'\u001b[0m\u001b[1m]\u001b[0m=\u001b[1;36m0.11000000052285393\u001b[0m z = \u001b[1;36m8.090909047698023\u001b[0m                                         \n"
      ]
     },
     "metadata": {},
     "output_type": "display_data"
    },
    {
     "data": {
      "text/html": [
       "<pre style=\"white-space:pre;overflow-x:auto;line-height:normal;font-family:Menlo,'DejaVu Sans Mono',consolas,'Courier New',monospace\">Snapshot written at <span style=\"color: #808000; text-decoration-color: #808000\">...</span><span style=\"color: #808000; text-decoration-color: #808000\">filename</span>=<span style=\"color: #008000; text-decoration-color: #008000\">'./ptest0301//output_00013/particles_eft_multigrid_ncoarse7.h5'</span>                    \n",
       "param<span style=\"font-weight: bold\">[</span><span style=\"color: #008000; text-decoration-color: #008000\">'aexp'</span><span style=\"font-weight: bold\">]</span>=<span style=\"color: #008080; text-decoration-color: #008080; font-weight: bold\">0.11111111111111109</span>                                                                                  \n",
       "</pre>\n"
      ],
      "text/plain": [
       "Snapshot written at \u001b[33m...\u001b[0m\u001b[33mfilename\u001b[0m=\u001b[32m'./ptest0301//output_00013/particles_eft_multigrid_ncoarse7.h5'\u001b[0m                    \n",
       "param\u001b[1m[\u001b[0m\u001b[32m'aexp'\u001b[0m\u001b[1m]\u001b[0m=\u001b[1;36m0.11111111111111109\u001b[0m                                                                                  \n"
      ]
     },
     "metadata": {},
     "output_type": "display_data"
    },
    {
     "data": {
      "text/html": [
       "<pre style=\"white-space:pre;overflow-x:auto;line-height:normal;font-family:Menlo,'DejaVu Sans Mono',consolas,'Courier New',monospace\">param<span style=\"font-weight: bold\">[</span><span style=\"color: #008000; text-decoration-color: #008000\">'nsteps'</span><span style=\"font-weight: bold\">]</span>=<span style=\"color: #008080; text-decoration-color: #008080; font-weight: bold\">17</span> param<span style=\"font-weight: bold\">[</span><span style=\"color: #008000; text-decoration-color: #008000\">'aexp'</span><span style=\"font-weight: bold\">]</span>=<span style=\"color: #008080; text-decoration-color: #008080; font-weight: bold\">0.11111111111111109</span> z = <span style=\"color: #008080; text-decoration-color: #008080; font-weight: bold\">8.000000000000002</span>                                         \n",
       "</pre>\n"
      ],
      "text/plain": [
       "param\u001b[1m[\u001b[0m\u001b[32m'nsteps'\u001b[0m\u001b[1m]\u001b[0m=\u001b[1;36m17\u001b[0m param\u001b[1m[\u001b[0m\u001b[32m'aexp'\u001b[0m\u001b[1m]\u001b[0m=\u001b[1;36m0.11111111111111109\u001b[0m z = \u001b[1;36m8.000000000000002\u001b[0m                                         \n"
      ]
     },
     "metadata": {},
     "output_type": "display_data"
    },
    {
     "data": {
      "text/html": [
       "<pre style=\"white-space:pre;overflow-x:auto;line-height:normal;font-family:Menlo,'DejaVu Sans Mono',consolas,'Courier New',monospace\">param<span style=\"font-weight: bold\">[</span><span style=\"color: #008000; text-decoration-color: #008000\">'nsteps'</span><span style=\"font-weight: bold\">]</span>=<span style=\"color: #008080; text-decoration-color: #008080; font-weight: bold\">18</span> param<span style=\"font-weight: bold\">[</span><span style=\"color: #008000; text-decoration-color: #008000\">'aexp'</span><span style=\"font-weight: bold\">]</span>=<span style=\"color: #008080; text-decoration-color: #008080; font-weight: bold\">0.12222222282153047</span> z = <span style=\"color: #008080; text-decoration-color: #008080; font-weight: bold\">7.1818181416992</span>                                           \n",
       "</pre>\n"
      ],
      "text/plain": [
       "param\u001b[1m[\u001b[0m\u001b[32m'nsteps'\u001b[0m\u001b[1m]\u001b[0m=\u001b[1;36m18\u001b[0m param\u001b[1m[\u001b[0m\u001b[32m'aexp'\u001b[0m\u001b[1m]\u001b[0m=\u001b[1;36m0.12222222282153047\u001b[0m z = \u001b[1;36m7.1818181416992\u001b[0m                                           \n"
      ]
     },
     "metadata": {},
     "output_type": "display_data"
    },
    {
     "data": {
      "text/html": [
       "<pre style=\"white-space:pre;overflow-x:auto;line-height:normal;font-family:Menlo,'DejaVu Sans Mono',consolas,'Courier New',monospace\">Snapshot written at <span style=\"color: #808000; text-decoration-color: #808000\">...</span><span style=\"color: #808000; text-decoration-color: #808000\">filename</span>=<span style=\"color: #008000; text-decoration-color: #008000\">'./ptest0301//output_00014/particles_eft_multigrid_ncoarse7.h5'</span>                    \n",
       "param<span style=\"font-weight: bold\">[</span><span style=\"color: #008000; text-decoration-color: #008000\">'aexp'</span><span style=\"font-weight: bold\">]</span>=<span style=\"color: #008080; text-decoration-color: #008080; font-weight: bold\">0.12500000000000003</span>                                                                                  \n",
       "</pre>\n"
      ],
      "text/plain": [
       "Snapshot written at \u001b[33m...\u001b[0m\u001b[33mfilename\u001b[0m=\u001b[32m'./ptest0301//output_00014/particles_eft_multigrid_ncoarse7.h5'\u001b[0m                    \n",
       "param\u001b[1m[\u001b[0m\u001b[32m'aexp'\u001b[0m\u001b[1m]\u001b[0m=\u001b[1;36m0.12500000000000003\u001b[0m                                                                                  \n"
      ]
     },
     "metadata": {},
     "output_type": "display_data"
    },
    {
     "data": {
      "text/html": [
       "<pre style=\"white-space:pre;overflow-x:auto;line-height:normal;font-family:Menlo,'DejaVu Sans Mono',consolas,'Courier New',monospace\">param<span style=\"font-weight: bold\">[</span><span style=\"color: #008000; text-decoration-color: #008000\">'nsteps'</span><span style=\"font-weight: bold\">]</span>=<span style=\"color: #008080; text-decoration-color: #008080; font-weight: bold\">19</span> param<span style=\"font-weight: bold\">[</span><span style=\"color: #008000; text-decoration-color: #008000\">'aexp'</span><span style=\"font-weight: bold\">]</span>=<span style=\"color: #008080; text-decoration-color: #008080; font-weight: bold\">0.12500000000000003</span> z = <span style=\"color: #008080; text-decoration-color: #008080; font-weight: bold\">6.999999999999998</span>                                         \n",
       "</pre>\n"
      ],
      "text/plain": [
       "param\u001b[1m[\u001b[0m\u001b[32m'nsteps'\u001b[0m\u001b[1m]\u001b[0m=\u001b[1;36m19\u001b[0m param\u001b[1m[\u001b[0m\u001b[32m'aexp'\u001b[0m\u001b[1m]\u001b[0m=\u001b[1;36m0.12500000000000003\u001b[0m z = \u001b[1;36m6.999999999999998\u001b[0m                                         \n"
      ]
     },
     "metadata": {},
     "output_type": "display_data"
    },
    {
     "data": {
      "text/html": [
       "<pre style=\"white-space:pre;overflow-x:auto;line-height:normal;font-family:Menlo,'DejaVu Sans Mono',consolas,'Courier New',monospace\">param<span style=\"font-weight: bold\">[</span><span style=\"color: #008000; text-decoration-color: #008000\">'nsteps'</span><span style=\"font-weight: bold\">]</span>=<span style=\"color: #008080; text-decoration-color: #008080; font-weight: bold\">20</span> param<span style=\"font-weight: bold\">[</span><span style=\"color: #008000; text-decoration-color: #008000\">'aexp'</span><span style=\"font-weight: bold\">]</span>=<span style=\"color: #008080; text-decoration-color: #008080; font-weight: bold\">0.13750000034274046</span> z = <span style=\"color: #008080; text-decoration-color: #008080; font-weight: bold\">6.272727254598852</span>                                         \n",
       "</pre>\n"
      ],
      "text/plain": [
       "param\u001b[1m[\u001b[0m\u001b[32m'nsteps'\u001b[0m\u001b[1m]\u001b[0m=\u001b[1;36m20\u001b[0m param\u001b[1m[\u001b[0m\u001b[32m'aexp'\u001b[0m\u001b[1m]\u001b[0m=\u001b[1;36m0.13750000034274046\u001b[0m z = \u001b[1;36m6.272727254598852\u001b[0m                                         \n"
      ]
     },
     "metadata": {},
     "output_type": "display_data"
    },
    {
     "data": {
      "text/html": [
       "<pre style=\"white-space:pre;overflow-x:auto;line-height:normal;font-family:Menlo,'DejaVu Sans Mono',consolas,'Courier New',monospace\">Snapshot written at <span style=\"color: #808000; text-decoration-color: #808000\">...</span><span style=\"color: #808000; text-decoration-color: #808000\">filename</span>=<span style=\"color: #008000; text-decoration-color: #008000\">'./ptest0301//output_00015/particles_eft_multigrid_ncoarse7.h5'</span>                    \n",
       "param<span style=\"font-weight: bold\">[</span><span style=\"color: #008000; text-decoration-color: #008000\">'aexp'</span><span style=\"font-weight: bold\">]</span>=<span style=\"color: #008080; text-decoration-color: #008080; font-weight: bold\">0.14285714285714285</span>                                                                                  \n",
       "</pre>\n"
      ],
      "text/plain": [
       "Snapshot written at \u001b[33m...\u001b[0m\u001b[33mfilename\u001b[0m=\u001b[32m'./ptest0301//output_00015/particles_eft_multigrid_ncoarse7.h5'\u001b[0m                    \n",
       "param\u001b[1m[\u001b[0m\u001b[32m'aexp'\u001b[0m\u001b[1m]\u001b[0m=\u001b[1;36m0.14285714285714285\u001b[0m                                                                                  \n"
      ]
     },
     "metadata": {},
     "output_type": "display_data"
    },
    {
     "data": {
      "text/html": [
       "<pre style=\"white-space:pre;overflow-x:auto;line-height:normal;font-family:Menlo,'DejaVu Sans Mono',consolas,'Courier New',monospace\">param<span style=\"font-weight: bold\">[</span><span style=\"color: #008000; text-decoration-color: #008000\">'nsteps'</span><span style=\"font-weight: bold\">]</span>=<span style=\"color: #008080; text-decoration-color: #008080; font-weight: bold\">21</span> param<span style=\"font-weight: bold\">[</span><span style=\"color: #008000; text-decoration-color: #008000\">'aexp'</span><span style=\"font-weight: bold\">]</span>=<span style=\"color: #008080; text-decoration-color: #008080; font-weight: bold\">0.14285714285714285</span> z = <span style=\"color: #008080; text-decoration-color: #008080; font-weight: bold\">6.0</span>                                                       \n",
       "</pre>\n"
      ],
      "text/plain": [
       "param\u001b[1m[\u001b[0m\u001b[32m'nsteps'\u001b[0m\u001b[1m]\u001b[0m=\u001b[1;36m21\u001b[0m param\u001b[1m[\u001b[0m\u001b[32m'aexp'\u001b[0m\u001b[1m]\u001b[0m=\u001b[1;36m0.14285714285714285\u001b[0m z = \u001b[1;36m6.0\u001b[0m                                                       \n"
      ]
     },
     "metadata": {},
     "output_type": "display_data"
    },
    {
     "data": {
      "text/html": [
       "<pre style=\"white-space:pre;overflow-x:auto;line-height:normal;font-family:Menlo,'DejaVu Sans Mono',consolas,'Courier New',monospace\">param<span style=\"font-weight: bold\">[</span><span style=\"color: #008000; text-decoration-color: #008000\">'nsteps'</span><span style=\"font-weight: bold\">]</span>=<span style=\"color: #008080; text-decoration-color: #008080; font-weight: bold\">22</span> param<span style=\"font-weight: bold\">[</span><span style=\"color: #008000; text-decoration-color: #008000\">'aexp'</span><span style=\"font-weight: bold\">]</span>=<span style=\"color: #008080; text-decoration-color: #008080; font-weight: bold\">0.15714285677106538</span> z = <span style=\"color: #008080; text-decoration-color: #008080; font-weight: bold\">5.3636363786923935</span>                                        \n",
       "</pre>\n"
      ],
      "text/plain": [
       "param\u001b[1m[\u001b[0m\u001b[32m'nsteps'\u001b[0m\u001b[1m]\u001b[0m=\u001b[1;36m22\u001b[0m param\u001b[1m[\u001b[0m\u001b[32m'aexp'\u001b[0m\u001b[1m]\u001b[0m=\u001b[1;36m0.15714285677106538\u001b[0m z = \u001b[1;36m5.3636363786923935\u001b[0m                                        \n"
      ]
     },
     "metadata": {},
     "output_type": "display_data"
    },
    {
     "data": {
      "text/html": [
       "<pre style=\"white-space:pre;overflow-x:auto;line-height:normal;font-family:Menlo,'DejaVu Sans Mono',consolas,'Courier New',monospace\">Snapshot written at <span style=\"color: #808000; text-decoration-color: #808000\">...</span><span style=\"color: #808000; text-decoration-color: #808000\">filename</span>=<span style=\"color: #008000; text-decoration-color: #008000\">'./ptest0301//output_00016/particles_eft_multigrid_ncoarse7.h5'</span>                    \n",
       "param<span style=\"font-weight: bold\">[</span><span style=\"color: #008000; text-decoration-color: #008000\">'aexp'</span><span style=\"font-weight: bold\">]</span>=<span style=\"color: #008080; text-decoration-color: #008080; font-weight: bold\">0.16666666666666669</span>                                                                                  \n",
       "</pre>\n"
      ],
      "text/plain": [
       "Snapshot written at \u001b[33m...\u001b[0m\u001b[33mfilename\u001b[0m=\u001b[32m'./ptest0301//output_00016/particles_eft_multigrid_ncoarse7.h5'\u001b[0m                    \n",
       "param\u001b[1m[\u001b[0m\u001b[32m'aexp'\u001b[0m\u001b[1m]\u001b[0m=\u001b[1;36m0.16666666666666669\u001b[0m                                                                                  \n"
      ]
     },
     "metadata": {},
     "output_type": "display_data"
    },
    {
     "data": {
      "text/html": [
       "<pre style=\"white-space:pre;overflow-x:auto;line-height:normal;font-family:Menlo,'DejaVu Sans Mono',consolas,'Courier New',monospace\">param<span style=\"font-weight: bold\">[</span><span style=\"color: #008000; text-decoration-color: #008000\">'nsteps'</span><span style=\"font-weight: bold\">]</span>=<span style=\"color: #008080; text-decoration-color: #008080; font-weight: bold\">23</span> param<span style=\"font-weight: bold\">[</span><span style=\"color: #008000; text-decoration-color: #008000\">'aexp'</span><span style=\"font-weight: bold\">]</span>=<span style=\"color: #008080; text-decoration-color: #008080; font-weight: bold\">0.16666666666666669</span> z = <span style=\"color: #008080; text-decoration-color: #008080; font-weight: bold\">4.999999999999999</span>                                         \n",
       "</pre>\n"
      ],
      "text/plain": [
       "param\u001b[1m[\u001b[0m\u001b[32m'nsteps'\u001b[0m\u001b[1m]\u001b[0m=\u001b[1;36m23\u001b[0m param\u001b[1m[\u001b[0m\u001b[32m'aexp'\u001b[0m\u001b[1m]\u001b[0m=\u001b[1;36m0.16666666666666669\u001b[0m z = \u001b[1;36m4.999999999999999\u001b[0m                                         \n"
      ]
     },
     "metadata": {},
     "output_type": "display_data"
    },
    {
     "data": {
      "text/html": [
       "<pre style=\"white-space:pre;overflow-x:auto;line-height:normal;font-family:Menlo,'DejaVu Sans Mono',consolas,'Courier New',monospace\">param<span style=\"font-weight: bold\">[</span><span style=\"color: #008000; text-decoration-color: #008000\">'nsteps'</span><span style=\"font-weight: bold\">]</span>=<span style=\"color: #008080; text-decoration-color: #008080; font-weight: bold\">24</span> param<span style=\"font-weight: bold\">[</span><span style=\"color: #008000; text-decoration-color: #008000\">'aexp'</span><span style=\"font-weight: bold\">]</span>=<span style=\"color: #008080; text-decoration-color: #008080; font-weight: bold\">0.18333333390952433</span> z = <span style=\"color: #008080; text-decoration-color: #008080; font-weight: bold\">4.454545437402582</span>                                         \n",
       "</pre>\n"
      ],
      "text/plain": [
       "param\u001b[1m[\u001b[0m\u001b[32m'nsteps'\u001b[0m\u001b[1m]\u001b[0m=\u001b[1;36m24\u001b[0m param\u001b[1m[\u001b[0m\u001b[32m'aexp'\u001b[0m\u001b[1m]\u001b[0m=\u001b[1;36m0.18333333390952433\u001b[0m z = \u001b[1;36m4.454545437402582\u001b[0m                                         \n"
      ]
     },
     "metadata": {},
     "output_type": "display_data"
    },
    {
     "data": {
      "text/html": [
       "<pre style=\"white-space:pre;overflow-x:auto;line-height:normal;font-family:Menlo,'DejaVu Sans Mono',consolas,'Courier New',monospace\">Snapshot written at <span style=\"color: #808000; text-decoration-color: #808000\">...</span><span style=\"color: #808000; text-decoration-color: #808000\">filename</span>=<span style=\"color: #008000; text-decoration-color: #008000\">'./ptest0301//output_00017/particles_eft_multigrid_ncoarse7.h5'</span> param<span style=\"font-weight: bold\">[</span><span style=\"color: #008000; text-decoration-color: #008000\">'aexp'</span><span style=\"font-weight: bold\">]</span>=<span style=\"color: #008080; text-decoration-color: #008080; font-weight: bold\">0.2</span>  \n",
       "</pre>\n"
      ],
      "text/plain": [
       "Snapshot written at \u001b[33m...\u001b[0m\u001b[33mfilename\u001b[0m=\u001b[32m'./ptest0301//output_00017/particles_eft_multigrid_ncoarse7.h5'\u001b[0m param\u001b[1m[\u001b[0m\u001b[32m'aexp'\u001b[0m\u001b[1m]\u001b[0m=\u001b[1;36m0.2\u001b[0m  \n"
      ]
     },
     "metadata": {},
     "output_type": "display_data"
    },
    {
     "data": {
      "text/html": [
       "<pre style=\"white-space:pre;overflow-x:auto;line-height:normal;font-family:Menlo,'DejaVu Sans Mono',consolas,'Courier New',monospace\">param<span style=\"font-weight: bold\">[</span><span style=\"color: #008000; text-decoration-color: #008000\">'nsteps'</span><span style=\"font-weight: bold\">]</span>=<span style=\"color: #008080; text-decoration-color: #008080; font-weight: bold\">25</span> param<span style=\"font-weight: bold\">[</span><span style=\"color: #008000; text-decoration-color: #008000\">'aexp'</span><span style=\"font-weight: bold\">]</span>=<span style=\"color: #008080; text-decoration-color: #008080; font-weight: bold\">0.2</span> z = <span style=\"color: #008080; text-decoration-color: #008080; font-weight: bold\">4.0</span>                                                                       \n",
       "</pre>\n"
      ],
      "text/plain": [
       "param\u001b[1m[\u001b[0m\u001b[32m'nsteps'\u001b[0m\u001b[1m]\u001b[0m=\u001b[1;36m25\u001b[0m param\u001b[1m[\u001b[0m\u001b[32m'aexp'\u001b[0m\u001b[1m]\u001b[0m=\u001b[1;36m0.2\u001b[0m z = \u001b[1;36m4.0\u001b[0m                                                                       \n"
      ]
     },
     "metadata": {},
     "output_type": "display_data"
    },
    {
     "data": {
      "text/html": [
       "<pre style=\"white-space:pre;overflow-x:auto;line-height:normal;font-family:Menlo,'DejaVu Sans Mono',consolas,'Courier New',monospace\">param<span style=\"font-weight: bold\">[</span><span style=\"color: #008000; text-decoration-color: #008000\">'nsteps'</span><span style=\"font-weight: bold\">]</span>=<span style=\"color: #008080; text-decoration-color: #008080; font-weight: bold\">26</span> param<span style=\"font-weight: bold\">[</span><span style=\"color: #008000; text-decoration-color: #008000\">'aexp'</span><span style=\"font-weight: bold\">]</span>=<span style=\"color: #008080; text-decoration-color: #008080; font-weight: bold\">0.22000000065118178</span> z = <span style=\"color: #008080; text-decoration-color: #008080; font-weight: bold\">3.5454545320003765</span>                                        \n",
       "</pre>\n"
      ],
      "text/plain": [
       "param\u001b[1m[\u001b[0m\u001b[32m'nsteps'\u001b[0m\u001b[1m]\u001b[0m=\u001b[1;36m26\u001b[0m param\u001b[1m[\u001b[0m\u001b[32m'aexp'\u001b[0m\u001b[1m]\u001b[0m=\u001b[1;36m0.22000000065118178\u001b[0m z = \u001b[1;36m3.5454545320003765\u001b[0m                                        \n"
      ]
     },
     "metadata": {},
     "output_type": "display_data"
    },
    {
     "data": {
      "text/html": [
       "<pre style=\"white-space:pre;overflow-x:auto;line-height:normal;font-family:Menlo,'DejaVu Sans Mono',consolas,'Courier New',monospace\">param<span style=\"font-weight: bold\">[</span><span style=\"color: #008000; text-decoration-color: #008000\">'nsteps'</span><span style=\"font-weight: bold\">]</span>=<span style=\"color: #008080; text-decoration-color: #008080; font-weight: bold\">27</span> param<span style=\"font-weight: bold\">[</span><span style=\"color: #008000; text-decoration-color: #008000\">'aexp'</span><span style=\"font-weight: bold\">]</span>=<span style=\"color: #008080; text-decoration-color: #008080; font-weight: bold\">0.24200000068474262</span> z = <span style=\"color: #008080; text-decoration-color: #008080; font-weight: bold\">3.1322313932664674</span>                                        \n",
       "</pre>\n"
      ],
      "text/plain": [
       "param\u001b[1m[\u001b[0m\u001b[32m'nsteps'\u001b[0m\u001b[1m]\u001b[0m=\u001b[1;36m27\u001b[0m param\u001b[1m[\u001b[0m\u001b[32m'aexp'\u001b[0m\u001b[1m]\u001b[0m=\u001b[1;36m0.24200000068474262\u001b[0m z = \u001b[1;36m3.1322313932664674\u001b[0m                                        \n"
      ]
     },
     "metadata": {},
     "output_type": "display_data"
    },
    {
     "data": {
      "text/html": [
       "<pre style=\"white-space:pre;overflow-x:auto;line-height:normal;font-family:Menlo,'DejaVu Sans Mono',consolas,'Courier New',monospace\">Snapshot written at <span style=\"color: #808000; text-decoration-color: #808000\">...</span><span style=\"color: #808000; text-decoration-color: #808000\">filename</span>=<span style=\"color: #008000; text-decoration-color: #008000\">'./ptest0301//output_00018/particles_eft_multigrid_ncoarse7.h5'</span> param<span style=\"font-weight: bold\">[</span><span style=\"color: #008000; text-decoration-color: #008000\">'aexp'</span><span style=\"font-weight: bold\">]</span>=<span style=\"color: #008080; text-decoration-color: #008080; font-weight: bold\">0.25</span> \n",
       "</pre>\n"
      ],
      "text/plain": [
       "Snapshot written at \u001b[33m...\u001b[0m\u001b[33mfilename\u001b[0m=\u001b[32m'./ptest0301//output_00018/particles_eft_multigrid_ncoarse7.h5'\u001b[0m param\u001b[1m[\u001b[0m\u001b[32m'aexp'\u001b[0m\u001b[1m]\u001b[0m=\u001b[1;36m0.25\u001b[0m \n"
      ]
     },
     "metadata": {},
     "output_type": "display_data"
    },
    {
     "data": {
      "text/html": [
       "<pre style=\"white-space:pre;overflow-x:auto;line-height:normal;font-family:Menlo,'DejaVu Sans Mono',consolas,'Courier New',monospace\">param<span style=\"font-weight: bold\">[</span><span style=\"color: #008000; text-decoration-color: #008000\">'nsteps'</span><span style=\"font-weight: bold\">]</span>=<span style=\"color: #008080; text-decoration-color: #008080; font-weight: bold\">28</span> param<span style=\"font-weight: bold\">[</span><span style=\"color: #008000; text-decoration-color: #008000\">'aexp'</span><span style=\"font-weight: bold\">]</span>=<span style=\"color: #008080; text-decoration-color: #008080; font-weight: bold\">0.25</span> z = <span style=\"color: #008080; text-decoration-color: #008080; font-weight: bold\">3.0</span>                                                                      \n",
       "</pre>\n"
      ],
      "text/plain": [
       "param\u001b[1m[\u001b[0m\u001b[32m'nsteps'\u001b[0m\u001b[1m]\u001b[0m=\u001b[1;36m28\u001b[0m param\u001b[1m[\u001b[0m\u001b[32m'aexp'\u001b[0m\u001b[1m]\u001b[0m=\u001b[1;36m0.25\u001b[0m z = \u001b[1;36m3.0\u001b[0m                                                                      \n"
      ]
     },
     "metadata": {},
     "output_type": "display_data"
    },
    {
     "data": {
      "text/html": [
       "<pre style=\"white-space:pre;overflow-x:auto;line-height:normal;font-family:Menlo,'DejaVu Sans Mono',consolas,'Courier New',monospace\">param<span style=\"font-weight: bold\">[</span><span style=\"color: #008000; text-decoration-color: #008000\">'nsteps'</span><span style=\"font-weight: bold\">]</span>=<span style=\"color: #008080; text-decoration-color: #008080; font-weight: bold\">29</span> param<span style=\"font-weight: bold\">[</span><span style=\"color: #008000; text-decoration-color: #008000\">'aexp'</span><span style=\"font-weight: bold\">]</span>=<span style=\"color: #008080; text-decoration-color: #008080; font-weight: bold\">0.27500000074783</span> z = <span style=\"color: #008080; text-decoration-color: #008080; font-weight: bold\">2.6363636264749752</span>                                           \n",
       "</pre>\n"
      ],
      "text/plain": [
       "param\u001b[1m[\u001b[0m\u001b[32m'nsteps'\u001b[0m\u001b[1m]\u001b[0m=\u001b[1;36m29\u001b[0m param\u001b[1m[\u001b[0m\u001b[32m'aexp'\u001b[0m\u001b[1m]\u001b[0m=\u001b[1;36m0.27500000074783\u001b[0m z = \u001b[1;36m2.6363636264749752\u001b[0m                                           \n"
      ]
     },
     "metadata": {},
     "output_type": "display_data"
    },
    {
     "data": {
      "text/html": [
       "<pre style=\"white-space:pre;overflow-x:auto;line-height:normal;font-family:Menlo,'DejaVu Sans Mono',consolas,'Courier New',monospace\">param<span style=\"font-weight: bold\">[</span><span style=\"color: #008000; text-decoration-color: #008000\">'nsteps'</span><span style=\"font-weight: bold\">]</span>=<span style=\"color: #008080; text-decoration-color: #008080; font-weight: bold\">30</span> param<span style=\"font-weight: bold\">[</span><span style=\"color: #008000; text-decoration-color: #008000\">'aexp'</span><span style=\"font-weight: bold\">]</span>=<span style=\"color: #008080; text-decoration-color: #008080; font-weight: bold\">0.30250000103738334</span> z = <span style=\"color: #008080; text-decoration-color: #008080; font-weight: bold\">2.305785112630194</span>                                         \n",
       "</pre>\n"
      ],
      "text/plain": [
       "param\u001b[1m[\u001b[0m\u001b[32m'nsteps'\u001b[0m\u001b[1m]\u001b[0m=\u001b[1;36m30\u001b[0m param\u001b[1m[\u001b[0m\u001b[32m'aexp'\u001b[0m\u001b[1m]\u001b[0m=\u001b[1;36m0.30250000103738334\u001b[0m z = \u001b[1;36m2.305785112630194\u001b[0m                                         \n"
      ]
     },
     "metadata": {},
     "output_type": "display_data"
    },
    {
     "data": {
      "text/html": [
       "<pre style=\"white-space:pre;overflow-x:auto;line-height:normal;font-family:Menlo,'DejaVu Sans Mono',consolas,'Courier New',monospace\">param<span style=\"font-weight: bold\">[</span><span style=\"color: #008000; text-decoration-color: #008000\">'nsteps'</span><span style=\"font-weight: bold\">]</span>=<span style=\"color: #008080; text-decoration-color: #008080; font-weight: bold\">31</span> param<span style=\"font-weight: bold\">[</span><span style=\"color: #008000; text-decoration-color: #008000\">'aexp'</span><span style=\"font-weight: bold\">]</span>=<span style=\"color: #008080; text-decoration-color: #008080; font-weight: bold\">0.33275000090263807</span> z = <span style=\"color: #008080; text-decoration-color: #008080; font-weight: bold\">2.0052591954540606</span>                                        \n",
       "</pre>\n"
      ],
      "text/plain": [
       "param\u001b[1m[\u001b[0m\u001b[32m'nsteps'\u001b[0m\u001b[1m]\u001b[0m=\u001b[1;36m31\u001b[0m param\u001b[1m[\u001b[0m\u001b[32m'aexp'\u001b[0m\u001b[1m]\u001b[0m=\u001b[1;36m0.33275000090263807\u001b[0m z = \u001b[1;36m2.0052591954540606\u001b[0m                                        \n"
      ]
     },
     "metadata": {},
     "output_type": "display_data"
    },
    {
     "data": {
      "text/html": [
       "<pre style=\"white-space:pre;overflow-x:auto;line-height:normal;font-family:Menlo,'DejaVu Sans Mono',consolas,'Courier New',monospace\">Snapshot written at <span style=\"color: #808000; text-decoration-color: #808000\">...</span><span style=\"color: #808000; text-decoration-color: #808000\">filename</span>=<span style=\"color: #008000; text-decoration-color: #008000\">'./ptest0301//output_00019/particles_eft_multigrid_ncoarse7.h5'</span>                    \n",
       "param<span style=\"font-weight: bold\">[</span><span style=\"color: #008000; text-decoration-color: #008000\">'aexp'</span><span style=\"font-weight: bold\">]</span>=<span style=\"color: #008080; text-decoration-color: #008080; font-weight: bold\">0.3333333333333333</span>                                                                                   \n",
       "</pre>\n"
      ],
      "text/plain": [
       "Snapshot written at \u001b[33m...\u001b[0m\u001b[33mfilename\u001b[0m=\u001b[32m'./ptest0301//output_00019/particles_eft_multigrid_ncoarse7.h5'\u001b[0m                    \n",
       "param\u001b[1m[\u001b[0m\u001b[32m'aexp'\u001b[0m\u001b[1m]\u001b[0m=\u001b[1;36m0.3333333333333333\u001b[0m                                                                                   \n"
      ]
     },
     "metadata": {},
     "output_type": "display_data"
    },
    {
     "data": {
      "text/html": [
       "<pre style=\"white-space:pre;overflow-x:auto;line-height:normal;font-family:Menlo,'DejaVu Sans Mono',consolas,'Courier New',monospace\">param<span style=\"font-weight: bold\">[</span><span style=\"color: #008000; text-decoration-color: #008000\">'nsteps'</span><span style=\"font-weight: bold\">]</span>=<span style=\"color: #008080; text-decoration-color: #008080; font-weight: bold\">32</span> param<span style=\"font-weight: bold\">[</span><span style=\"color: #008000; text-decoration-color: #008000\">'aexp'</span><span style=\"font-weight: bold\">]</span>=<span style=\"color: #008080; text-decoration-color: #008080; font-weight: bold\">0.3333333333333333</span> z = <span style=\"color: #008080; text-decoration-color: #008080; font-weight: bold\">2.0</span>                                                        \n",
       "</pre>\n"
      ],
      "text/plain": [
       "param\u001b[1m[\u001b[0m\u001b[32m'nsteps'\u001b[0m\u001b[1m]\u001b[0m=\u001b[1;36m32\u001b[0m param\u001b[1m[\u001b[0m\u001b[32m'aexp'\u001b[0m\u001b[1m]\u001b[0m=\u001b[1;36m0.3333333333333333\u001b[0m z = \u001b[1;36m2.0\u001b[0m                                                        \n"
      ]
     },
     "metadata": {},
     "output_type": "display_data"
    },
    {
     "data": {
      "text/html": [
       "<pre style=\"white-space:pre;overflow-x:auto;line-height:normal;font-family:Menlo,'DejaVu Sans Mono',consolas,'Courier New',monospace\">param<span style=\"font-weight: bold\">[</span><span style=\"color: #008000; text-decoration-color: #008000\">'nsteps'</span><span style=\"font-weight: bold\">]</span>=<span style=\"color: #008080; text-decoration-color: #008080; font-weight: bold\">33</span> param<span style=\"font-weight: bold\">[</span><span style=\"color: #008000; text-decoration-color: #008000\">'aexp'</span><span style=\"font-weight: bold\">]</span>=<span style=\"color: #008080; text-decoration-color: #008080; font-weight: bold\">0.36196854334637607</span> z = <span style=\"color: #008080; text-decoration-color: #008080; font-weight: bold\">1.7626710065882074</span>                                        \n",
       "</pre>\n"
      ],
      "text/plain": [
       "param\u001b[1m[\u001b[0m\u001b[32m'nsteps'\u001b[0m\u001b[1m]\u001b[0m=\u001b[1;36m33\u001b[0m param\u001b[1m[\u001b[0m\u001b[32m'aexp'\u001b[0m\u001b[1m]\u001b[0m=\u001b[1;36m0.36196854334637607\u001b[0m z = \u001b[1;36m1.7626710065882074\u001b[0m                                        \n"
      ]
     },
     "metadata": {},
     "output_type": "display_data"
    },
    {
     "data": {
      "text/html": [
       "<pre style=\"white-space:pre;overflow-x:auto;line-height:normal;font-family:Menlo,'DejaVu Sans Mono',consolas,'Courier New',monospace\">param<span style=\"font-weight: bold\">[</span><span style=\"color: #008000; text-decoration-color: #008000\">'nsteps'</span><span style=\"font-weight: bold\">]</span>=<span style=\"color: #008080; text-decoration-color: #008080; font-weight: bold\">34</span> param<span style=\"font-weight: bold\">[</span><span style=\"color: #008000; text-decoration-color: #008000\">'aexp'</span><span style=\"font-weight: bold\">]</span>=<span style=\"color: #008080; text-decoration-color: #008080; font-weight: bold\">0.39123965923385867</span> z = <span style=\"color: #008080; text-decoration-color: #008080; font-weight: bold\">1.5559780978192252</span>                                        \n",
       "</pre>\n"
      ],
      "text/plain": [
       "param\u001b[1m[\u001b[0m\u001b[32m'nsteps'\u001b[0m\u001b[1m]\u001b[0m=\u001b[1;36m34\u001b[0m param\u001b[1m[\u001b[0m\u001b[32m'aexp'\u001b[0m\u001b[1m]\u001b[0m=\u001b[1;36m0.39123965923385867\u001b[0m z = \u001b[1;36m1.5559780978192252\u001b[0m                                        \n"
      ]
     },
     "metadata": {},
     "output_type": "display_data"
    },
    {
     "data": {
      "text/html": [
       "<pre style=\"white-space:pre;overflow-x:auto;line-height:normal;font-family:Menlo,'DejaVu Sans Mono',consolas,'Courier New',monospace\">param<span style=\"font-weight: bold\">[</span><span style=\"color: #008000; text-decoration-color: #008000\">'nsteps'</span><span style=\"font-weight: bold\">]</span>=<span style=\"color: #008080; text-decoration-color: #008080; font-weight: bold\">35</span> param<span style=\"font-weight: bold\">[</span><span style=\"color: #008000; text-decoration-color: #008000\">'aexp'</span><span style=\"font-weight: bold\">]</span>=<span style=\"color: #008080; text-decoration-color: #008080; font-weight: bold\">0.42002612550015617</span> z = <span style=\"color: #008080; text-decoration-color: #008080; font-weight: bold\">1.3808042864220078</span>                                        \n",
       "</pre>\n"
      ],
      "text/plain": [
       "param\u001b[1m[\u001b[0m\u001b[32m'nsteps'\u001b[0m\u001b[1m]\u001b[0m=\u001b[1;36m35\u001b[0m param\u001b[1m[\u001b[0m\u001b[32m'aexp'\u001b[0m\u001b[1m]\u001b[0m=\u001b[1;36m0.42002612550015617\u001b[0m z = \u001b[1;36m1.3808042864220078\u001b[0m                                        \n"
      ]
     },
     "metadata": {},
     "output_type": "display_data"
    },
    {
     "data": {
      "text/html": [
       "<pre style=\"white-space:pre;overflow-x:auto;line-height:normal;font-family:Menlo,'DejaVu Sans Mono',consolas,'Courier New',monospace\">param<span style=\"font-weight: bold\">[</span><span style=\"color: #008000; text-decoration-color: #008000\">'nsteps'</span><span style=\"font-weight: bold\">]</span>=<span style=\"color: #008080; text-decoration-color: #008080; font-weight: bold\">36</span> param<span style=\"font-weight: bold\">[</span><span style=\"color: #008000; text-decoration-color: #008000\">'aexp'</span><span style=\"font-weight: bold\">]</span>=<span style=\"color: #008080; text-decoration-color: #008080; font-weight: bold\">0.44865457896084404</span> z = <span style=\"color: #008080; text-decoration-color: #008080; font-weight: bold\">1.228886200863391</span>                                         \n",
       "</pre>\n"
      ],
      "text/plain": [
       "param\u001b[1m[\u001b[0m\u001b[32m'nsteps'\u001b[0m\u001b[1m]\u001b[0m=\u001b[1;36m36\u001b[0m param\u001b[1m[\u001b[0m\u001b[32m'aexp'\u001b[0m\u001b[1m]\u001b[0m=\u001b[1;36m0.44865457896084404\u001b[0m z = \u001b[1;36m1.228886200863391\u001b[0m                                         \n"
      ]
     },
     "metadata": {},
     "output_type": "display_data"
    },
    {
     "data": {
      "text/html": [
       "<pre style=\"white-space:pre;overflow-x:auto;line-height:normal;font-family:Menlo,'DejaVu Sans Mono',consolas,'Courier New',monospace\">param<span style=\"font-weight: bold\">[</span><span style=\"color: #008000; text-decoration-color: #008000\">'nsteps'</span><span style=\"font-weight: bold\">]</span>=<span style=\"color: #008080; text-decoration-color: #008080; font-weight: bold\">37</span> param<span style=\"font-weight: bold\">[</span><span style=\"color: #008000; text-decoration-color: #008000\">'aexp'</span><span style=\"font-weight: bold\">]</span>=<span style=\"color: #008080; text-decoration-color: #008080; font-weight: bold\">0.4773799271502172</span> z = <span style=\"color: #008080; text-decoration-color: #008080; font-weight: bold\">1.0947675910246848</span>                                         \n",
       "</pre>\n"
      ],
      "text/plain": [
       "param\u001b[1m[\u001b[0m\u001b[32m'nsteps'\u001b[0m\u001b[1m]\u001b[0m=\u001b[1;36m37\u001b[0m param\u001b[1m[\u001b[0m\u001b[32m'aexp'\u001b[0m\u001b[1m]\u001b[0m=\u001b[1;36m0.4773799271502172\u001b[0m z = \u001b[1;36m1.0947675910246848\u001b[0m                                         \n"
      ]
     },
     "metadata": {},
     "output_type": "display_data"
    },
    {
     "data": {
      "text/html": [
       "<pre style=\"white-space:pre;overflow-x:auto;line-height:normal;font-family:Menlo,'DejaVu Sans Mono',consolas,'Courier New',monospace\">Snapshot written at <span style=\"color: #808000; text-decoration-color: #808000\">...</span><span style=\"color: #808000; text-decoration-color: #808000\">filename</span>=<span style=\"color: #008000; text-decoration-color: #008000\">'./ptest0301//output_00020/particles_eft_multigrid_ncoarse7.h5'</span> param<span style=\"font-weight: bold\">[</span><span style=\"color: #008000; text-decoration-color: #008000\">'aexp'</span><span style=\"font-weight: bold\">]</span>=<span style=\"color: #008080; text-decoration-color: #008080; font-weight: bold\">0.5</span>  \n",
       "</pre>\n"
      ],
      "text/plain": [
       "Snapshot written at \u001b[33m...\u001b[0m\u001b[33mfilename\u001b[0m=\u001b[32m'./ptest0301//output_00020/particles_eft_multigrid_ncoarse7.h5'\u001b[0m param\u001b[1m[\u001b[0m\u001b[32m'aexp'\u001b[0m\u001b[1m]\u001b[0m=\u001b[1;36m0.5\u001b[0m  \n"
      ]
     },
     "metadata": {},
     "output_type": "display_data"
    },
    {
     "data": {
      "text/html": [
       "<pre style=\"white-space:pre;overflow-x:auto;line-height:normal;font-family:Menlo,'DejaVu Sans Mono',consolas,'Courier New',monospace\">param<span style=\"font-weight: bold\">[</span><span style=\"color: #008000; text-decoration-color: #008000\">'nsteps'</span><span style=\"font-weight: bold\">]</span>=<span style=\"color: #008080; text-decoration-color: #008080; font-weight: bold\">38</span> param<span style=\"font-weight: bold\">[</span><span style=\"color: #008000; text-decoration-color: #008000\">'aexp'</span><span style=\"font-weight: bold\">]</span>=<span style=\"color: #008080; text-decoration-color: #008080; font-weight: bold\">0.5</span> z = <span style=\"color: #008080; text-decoration-color: #008080; font-weight: bold\">1.0</span>                                                                       \n",
       "</pre>\n"
      ],
      "text/plain": [
       "param\u001b[1m[\u001b[0m\u001b[32m'nsteps'\u001b[0m\u001b[1m]\u001b[0m=\u001b[1;36m38\u001b[0m param\u001b[1m[\u001b[0m\u001b[32m'aexp'\u001b[0m\u001b[1m]\u001b[0m=\u001b[1;36m0.5\u001b[0m z = \u001b[1;36m1.0\u001b[0m                                                                       \n"
      ]
     },
     "metadata": {},
     "output_type": "display_data"
    },
    {
     "data": {
      "text/html": [
       "<pre style=\"white-space:pre;overflow-x:auto;line-height:normal;font-family:Menlo,'DejaVu Sans Mono',consolas,'Courier New',monospace\">Snapshot written at <span style=\"color: #808000; text-decoration-color: #808000\">...</span><span style=\"color: #808000; text-decoration-color: #808000\">filename</span>=<span style=\"color: #008000; text-decoration-color: #008000\">'./ptest0301//output_00021/particles_eft_multigrid_ncoarse7.h5'</span>                    \n",
       "param<span style=\"font-weight: bold\">[</span><span style=\"color: #008000; text-decoration-color: #008000\">'aexp'</span><span style=\"font-weight: bold\">]</span>=<span style=\"color: #008080; text-decoration-color: #008080; font-weight: bold\">0.5128205128205129</span>                                                                                   \n",
       "</pre>\n"
      ],
      "text/plain": [
       "Snapshot written at \u001b[33m...\u001b[0m\u001b[33mfilename\u001b[0m=\u001b[32m'./ptest0301//output_00021/particles_eft_multigrid_ncoarse7.h5'\u001b[0m                    \n",
       "param\u001b[1m[\u001b[0m\u001b[32m'aexp'\u001b[0m\u001b[1m]\u001b[0m=\u001b[1;36m0.5128205128205129\u001b[0m                                                                                   \n"
      ]
     },
     "metadata": {},
     "output_type": "display_data"
    },
    {
     "data": {
      "text/html": [
       "<pre style=\"white-space:pre;overflow-x:auto;line-height:normal;font-family:Menlo,'DejaVu Sans Mono',consolas,'Courier New',monospace\">param<span style=\"font-weight: bold\">[</span><span style=\"color: #008000; text-decoration-color: #008000\">'nsteps'</span><span style=\"font-weight: bold\">]</span>=<span style=\"color: #008080; text-decoration-color: #008080; font-weight: bold\">39</span> param<span style=\"font-weight: bold\">[</span><span style=\"color: #008000; text-decoration-color: #008000\">'aexp'</span><span style=\"font-weight: bold\">]</span>=<span style=\"color: #008080; text-decoration-color: #008080; font-weight: bold\">0.5128205128205129</span> z = <span style=\"color: #008080; text-decoration-color: #008080; font-weight: bold\">0.9499999999999997</span>                                         \n",
       "</pre>\n"
      ],
      "text/plain": [
       "param\u001b[1m[\u001b[0m\u001b[32m'nsteps'\u001b[0m\u001b[1m]\u001b[0m=\u001b[1;36m39\u001b[0m param\u001b[1m[\u001b[0m\u001b[32m'aexp'\u001b[0m\u001b[1m]\u001b[0m=\u001b[1;36m0.5128205128205129\u001b[0m z = \u001b[1;36m0.9499999999999997\u001b[0m                                         \n"
      ]
     },
     "metadata": {},
     "output_type": "display_data"
    },
    {
     "data": {
      "text/html": [
       "<pre style=\"white-space:pre;overflow-x:auto;line-height:normal;font-family:Menlo,'DejaVu Sans Mono',consolas,'Courier New',monospace\">Snapshot written at <span style=\"color: #808000; text-decoration-color: #808000\">...</span><span style=\"color: #808000; text-decoration-color: #808000\">filename</span>=<span style=\"color: #008000; text-decoration-color: #008000\">'./ptest0301//output_00022/particles_eft_multigrid_ncoarse7.h5'</span>                    \n",
       "param<span style=\"font-weight: bold\">[</span><span style=\"color: #008000; text-decoration-color: #008000\">'aexp'</span><span style=\"font-weight: bold\">]</span>=<span style=\"color: #008080; text-decoration-color: #008080; font-weight: bold\">0.5263157894736842</span>                                                                                   \n",
       "</pre>\n"
      ],
      "text/plain": [
       "Snapshot written at \u001b[33m...\u001b[0m\u001b[33mfilename\u001b[0m=\u001b[32m'./ptest0301//output_00022/particles_eft_multigrid_ncoarse7.h5'\u001b[0m                    \n",
       "param\u001b[1m[\u001b[0m\u001b[32m'aexp'\u001b[0m\u001b[1m]\u001b[0m=\u001b[1;36m0.5263157894736842\u001b[0m                                                                                   \n"
      ]
     },
     "metadata": {},
     "output_type": "display_data"
    },
    {
     "data": {
      "text/html": [
       "<pre style=\"white-space:pre;overflow-x:auto;line-height:normal;font-family:Menlo,'DejaVu Sans Mono',consolas,'Courier New',monospace\">param<span style=\"font-weight: bold\">[</span><span style=\"color: #008000; text-decoration-color: #008000\">'nsteps'</span><span style=\"font-weight: bold\">]</span>=<span style=\"color: #008080; text-decoration-color: #008080; font-weight: bold\">40</span> param<span style=\"font-weight: bold\">[</span><span style=\"color: #008000; text-decoration-color: #008000\">'aexp'</span><span style=\"font-weight: bold\">]</span>=<span style=\"color: #008080; text-decoration-color: #008080; font-weight: bold\">0.5263157894736842</span> z = <span style=\"color: #008080; text-decoration-color: #008080; font-weight: bold\">0.9000000000000001</span>                                         \n",
       "</pre>\n"
      ],
      "text/plain": [
       "param\u001b[1m[\u001b[0m\u001b[32m'nsteps'\u001b[0m\u001b[1m]\u001b[0m=\u001b[1;36m40\u001b[0m param\u001b[1m[\u001b[0m\u001b[32m'aexp'\u001b[0m\u001b[1m]\u001b[0m=\u001b[1;36m0.5263157894736842\u001b[0m z = \u001b[1;36m0.9000000000000001\u001b[0m                                         \n"
      ]
     },
     "metadata": {},
     "output_type": "display_data"
    },
    {
     "data": {
      "text/html": [
       "<pre style=\"white-space:pre;overflow-x:auto;line-height:normal;font-family:Menlo,'DejaVu Sans Mono',consolas,'Courier New',monospace\">Snapshot written at <span style=\"color: #808000; text-decoration-color: #808000\">...</span><span style=\"color: #808000; text-decoration-color: #808000\">filename</span>=<span style=\"color: #008000; text-decoration-color: #008000\">'./ptest0301//output_00023/particles_eft_multigrid_ncoarse7.h5'</span>                    \n",
       "param<span style=\"font-weight: bold\">[</span><span style=\"color: #008000; text-decoration-color: #008000\">'aexp'</span><span style=\"font-weight: bold\">]</span>=<span style=\"color: #008080; text-decoration-color: #008080; font-weight: bold\">0.5405405405405405</span>                                                                                   \n",
       "</pre>\n"
      ],
      "text/plain": [
       "Snapshot written at \u001b[33m...\u001b[0m\u001b[33mfilename\u001b[0m=\u001b[32m'./ptest0301//output_00023/particles_eft_multigrid_ncoarse7.h5'\u001b[0m                    \n",
       "param\u001b[1m[\u001b[0m\u001b[32m'aexp'\u001b[0m\u001b[1m]\u001b[0m=\u001b[1;36m0.5405405405405405\u001b[0m                                                                                   \n"
      ]
     },
     "metadata": {},
     "output_type": "display_data"
    },
    {
     "data": {
      "text/html": [
       "<pre style=\"white-space:pre;overflow-x:auto;line-height:normal;font-family:Menlo,'DejaVu Sans Mono',consolas,'Courier New',monospace\">param<span style=\"font-weight: bold\">[</span><span style=\"color: #008000; text-decoration-color: #008000\">'nsteps'</span><span style=\"font-weight: bold\">]</span>=<span style=\"color: #008080; text-decoration-color: #008080; font-weight: bold\">41</span> param<span style=\"font-weight: bold\">[</span><span style=\"color: #008000; text-decoration-color: #008000\">'aexp'</span><span style=\"font-weight: bold\">]</span>=<span style=\"color: #008080; text-decoration-color: #008080; font-weight: bold\">0.5405405405405405</span> z = <span style=\"color: #008080; text-decoration-color: #008080; font-weight: bold\">0.8500000000000003</span>                                         \n",
       "</pre>\n"
      ],
      "text/plain": [
       "param\u001b[1m[\u001b[0m\u001b[32m'nsteps'\u001b[0m\u001b[1m]\u001b[0m=\u001b[1;36m41\u001b[0m param\u001b[1m[\u001b[0m\u001b[32m'aexp'\u001b[0m\u001b[1m]\u001b[0m=\u001b[1;36m0.5405405405405405\u001b[0m z = \u001b[1;36m0.8500000000000003\u001b[0m                                         \n"
      ]
     },
     "metadata": {},
     "output_type": "display_data"
    },
    {
     "data": {
      "text/html": [
       "<pre style=\"white-space:pre;overflow-x:auto;line-height:normal;font-family:Menlo,'DejaVu Sans Mono',consolas,'Courier New',monospace\">Snapshot written at <span style=\"color: #808000; text-decoration-color: #808000\">...</span><span style=\"color: #808000; text-decoration-color: #808000\">filename</span>=<span style=\"color: #008000; text-decoration-color: #008000\">'./ptest0301//output_00024/particles_eft_multigrid_ncoarse7.h5'</span>                    \n",
       "param<span style=\"font-weight: bold\">[</span><span style=\"color: #008000; text-decoration-color: #008000\">'aexp'</span><span style=\"font-weight: bold\">]</span>=<span style=\"color: #008080; text-decoration-color: #008080; font-weight: bold\">0.5555555555555556</span>                                                                                   \n",
       "</pre>\n"
      ],
      "text/plain": [
       "Snapshot written at \u001b[33m...\u001b[0m\u001b[33mfilename\u001b[0m=\u001b[32m'./ptest0301//output_00024/particles_eft_multigrid_ncoarse7.h5'\u001b[0m                    \n",
       "param\u001b[1m[\u001b[0m\u001b[32m'aexp'\u001b[0m\u001b[1m]\u001b[0m=\u001b[1;36m0.5555555555555556\u001b[0m                                                                                   \n"
      ]
     },
     "metadata": {},
     "output_type": "display_data"
    },
    {
     "data": {
      "text/html": [
       "<pre style=\"white-space:pre;overflow-x:auto;line-height:normal;font-family:Menlo,'DejaVu Sans Mono',consolas,'Courier New',monospace\">param<span style=\"font-weight: bold\">[</span><span style=\"color: #008000; text-decoration-color: #008000\">'nsteps'</span><span style=\"font-weight: bold\">]</span>=<span style=\"color: #008080; text-decoration-color: #008080; font-weight: bold\">42</span> param<span style=\"font-weight: bold\">[</span><span style=\"color: #008000; text-decoration-color: #008000\">'aexp'</span><span style=\"font-weight: bold\">]</span>=<span style=\"color: #008080; text-decoration-color: #008080; font-weight: bold\">0.5555555555555556</span> z = <span style=\"color: #008080; text-decoration-color: #008080; font-weight: bold\">0.7999999999999998</span>                                         \n",
       "</pre>\n"
      ],
      "text/plain": [
       "param\u001b[1m[\u001b[0m\u001b[32m'nsteps'\u001b[0m\u001b[1m]\u001b[0m=\u001b[1;36m42\u001b[0m param\u001b[1m[\u001b[0m\u001b[32m'aexp'\u001b[0m\u001b[1m]\u001b[0m=\u001b[1;36m0.5555555555555556\u001b[0m z = \u001b[1;36m0.7999999999999998\u001b[0m                                         \n"
      ]
     },
     "metadata": {},
     "output_type": "display_data"
    },
    {
     "data": {
      "text/html": [
       "<pre style=\"white-space:pre;overflow-x:auto;line-height:normal;font-family:Menlo,'DejaVu Sans Mono',consolas,'Courier New',monospace\">Snapshot written at <span style=\"color: #808000; text-decoration-color: #808000\">...</span><span style=\"color: #808000; text-decoration-color: #808000\">filename</span>=<span style=\"color: #008000; text-decoration-color: #008000\">'./ptest0301//output_00025/particles_eft_multigrid_ncoarse7.h5'</span>                    \n",
       "param<span style=\"font-weight: bold\">[</span><span style=\"color: #008000; text-decoration-color: #008000\">'aexp'</span><span style=\"font-weight: bold\">]</span>=<span style=\"color: #008080; text-decoration-color: #008080; font-weight: bold\">0.5714285714285714</span>                                                                                   \n",
       "</pre>\n"
      ],
      "text/plain": [
       "Snapshot written at \u001b[33m...\u001b[0m\u001b[33mfilename\u001b[0m=\u001b[32m'./ptest0301//output_00025/particles_eft_multigrid_ncoarse7.h5'\u001b[0m                    \n",
       "param\u001b[1m[\u001b[0m\u001b[32m'aexp'\u001b[0m\u001b[1m]\u001b[0m=\u001b[1;36m0.5714285714285714\u001b[0m                                                                                   \n"
      ]
     },
     "metadata": {},
     "output_type": "display_data"
    },
    {
     "data": {
      "text/html": [
       "<pre style=\"white-space:pre;overflow-x:auto;line-height:normal;font-family:Menlo,'DejaVu Sans Mono',consolas,'Courier New',monospace\">param<span style=\"font-weight: bold\">[</span><span style=\"color: #008000; text-decoration-color: #008000\">'nsteps'</span><span style=\"font-weight: bold\">]</span>=<span style=\"color: #008080; text-decoration-color: #008080; font-weight: bold\">43</span> param<span style=\"font-weight: bold\">[</span><span style=\"color: #008000; text-decoration-color: #008000\">'aexp'</span><span style=\"font-weight: bold\">]</span>=<span style=\"color: #008080; text-decoration-color: #008080; font-weight: bold\">0.5714285714285714</span> z = <span style=\"color: #008080; text-decoration-color: #008080; font-weight: bold\">0.75</span>                                                       \n",
       "</pre>\n"
      ],
      "text/plain": [
       "param\u001b[1m[\u001b[0m\u001b[32m'nsteps'\u001b[0m\u001b[1m]\u001b[0m=\u001b[1;36m43\u001b[0m param\u001b[1m[\u001b[0m\u001b[32m'aexp'\u001b[0m\u001b[1m]\u001b[0m=\u001b[1;36m0.5714285714285714\u001b[0m z = \u001b[1;36m0.75\u001b[0m                                                       \n"
      ]
     },
     "metadata": {},
     "output_type": "display_data"
    },
    {
     "data": {
      "text/html": [
       "<pre style=\"white-space:pre;overflow-x:auto;line-height:normal;font-family:Menlo,'DejaVu Sans Mono',consolas,'Courier New',monospace\">Snapshot written at <span style=\"color: #808000; text-decoration-color: #808000\">...</span><span style=\"color: #808000; text-decoration-color: #808000\">filename</span>=<span style=\"color: #008000; text-decoration-color: #008000\">'./ptest0301//output_00026/particles_eft_multigrid_ncoarse7.h5'</span>                    \n",
       "param<span style=\"font-weight: bold\">[</span><span style=\"color: #008000; text-decoration-color: #008000\">'aexp'</span><span style=\"font-weight: bold\">]</span>=<span style=\"color: #008080; text-decoration-color: #008080; font-weight: bold\">0.5882352941176471</span>                                                                                   \n",
       "</pre>\n"
      ],
      "text/plain": [
       "Snapshot written at \u001b[33m...\u001b[0m\u001b[33mfilename\u001b[0m=\u001b[32m'./ptest0301//output_00026/particles_eft_multigrid_ncoarse7.h5'\u001b[0m                    \n",
       "param\u001b[1m[\u001b[0m\u001b[32m'aexp'\u001b[0m\u001b[1m]\u001b[0m=\u001b[1;36m0.5882352941176471\u001b[0m                                                                                   \n"
      ]
     },
     "metadata": {},
     "output_type": "display_data"
    },
    {
     "data": {
      "text/html": [
       "<pre style=\"white-space:pre;overflow-x:auto;line-height:normal;font-family:Menlo,'DejaVu Sans Mono',consolas,'Courier New',monospace\">param<span style=\"font-weight: bold\">[</span><span style=\"color: #008000; text-decoration-color: #008000\">'nsteps'</span><span style=\"font-weight: bold\">]</span>=<span style=\"color: #008080; text-decoration-color: #008080; font-weight: bold\">44</span> param<span style=\"font-weight: bold\">[</span><span style=\"color: #008000; text-decoration-color: #008000\">'aexp'</span><span style=\"font-weight: bold\">]</span>=<span style=\"color: #008080; text-decoration-color: #008080; font-weight: bold\">0.5882352941176471</span> z = <span style=\"color: #008080; text-decoration-color: #008080; font-weight: bold\">0.7</span>                                                        \n",
       "</pre>\n"
      ],
      "text/plain": [
       "param\u001b[1m[\u001b[0m\u001b[32m'nsteps'\u001b[0m\u001b[1m]\u001b[0m=\u001b[1;36m44\u001b[0m param\u001b[1m[\u001b[0m\u001b[32m'aexp'\u001b[0m\u001b[1m]\u001b[0m=\u001b[1;36m0.5882352941176471\u001b[0m z = \u001b[1;36m0.7\u001b[0m                                                        \n"
      ]
     },
     "metadata": {},
     "output_type": "display_data"
    },
    {
     "data": {
      "text/html": [
       "<pre style=\"white-space:pre;overflow-x:auto;line-height:normal;font-family:Menlo,'DejaVu Sans Mono',consolas,'Courier New',monospace\">Snapshot written at <span style=\"color: #808000; text-decoration-color: #808000\">...</span><span style=\"color: #808000; text-decoration-color: #808000\">filename</span>=<span style=\"color: #008000; text-decoration-color: #008000\">'./ptest0301//output_00027/particles_eft_multigrid_ncoarse7.h5'</span>                    \n",
       "param<span style=\"font-weight: bold\">[</span><span style=\"color: #008000; text-decoration-color: #008000\">'aexp'</span><span style=\"font-weight: bold\">]</span>=<span style=\"color: #008080; text-decoration-color: #008080; font-weight: bold\">0.6060606060606061</span>                                                                                   \n",
       "</pre>\n"
      ],
      "text/plain": [
       "Snapshot written at \u001b[33m...\u001b[0m\u001b[33mfilename\u001b[0m=\u001b[32m'./ptest0301//output_00027/particles_eft_multigrid_ncoarse7.h5'\u001b[0m                    \n",
       "param\u001b[1m[\u001b[0m\u001b[32m'aexp'\u001b[0m\u001b[1m]\u001b[0m=\u001b[1;36m0.6060606060606061\u001b[0m                                                                                   \n"
      ]
     },
     "metadata": {},
     "output_type": "display_data"
    },
    {
     "data": {
      "text/html": [
       "<pre style=\"white-space:pre;overflow-x:auto;line-height:normal;font-family:Menlo,'DejaVu Sans Mono',consolas,'Courier New',monospace\">param<span style=\"font-weight: bold\">[</span><span style=\"color: #008000; text-decoration-color: #008000\">'nsteps'</span><span style=\"font-weight: bold\">]</span>=<span style=\"color: #008080; text-decoration-color: #008080; font-weight: bold\">45</span> param<span style=\"font-weight: bold\">[</span><span style=\"color: #008000; text-decoration-color: #008000\">'aexp'</span><span style=\"font-weight: bold\">]</span>=<span style=\"color: #008080; text-decoration-color: #008080; font-weight: bold\">0.6060606060606061</span> z = <span style=\"color: #008080; text-decoration-color: #008080; font-weight: bold\">0.6499999999999999</span>                                         \n",
       "</pre>\n"
      ],
      "text/plain": [
       "param\u001b[1m[\u001b[0m\u001b[32m'nsteps'\u001b[0m\u001b[1m]\u001b[0m=\u001b[1;36m45\u001b[0m param\u001b[1m[\u001b[0m\u001b[32m'aexp'\u001b[0m\u001b[1m]\u001b[0m=\u001b[1;36m0.6060606060606061\u001b[0m z = \u001b[1;36m0.6499999999999999\u001b[0m                                         \n"
      ]
     },
     "metadata": {},
     "output_type": "display_data"
    },
    {
     "data": {
      "text/html": [
       "<pre style=\"white-space:pre;overflow-x:auto;line-height:normal;font-family:Menlo,'DejaVu Sans Mono',consolas,'Courier New',monospace\">Snapshot written at <span style=\"color: #808000; text-decoration-color: #808000\">...</span><span style=\"color: #808000; text-decoration-color: #808000\">filename</span>=<span style=\"color: #008000; text-decoration-color: #008000\">'./ptest0301//output_00028/particles_eft_multigrid_ncoarse7.h5'</span> param<span style=\"font-weight: bold\">[</span><span style=\"color: #008000; text-decoration-color: #008000\">'aexp'</span><span style=\"font-weight: bold\">]</span>=<span style=\"color: #008080; text-decoration-color: #008080; font-weight: bold\">0.625</span>\n",
       "</pre>\n"
      ],
      "text/plain": [
       "Snapshot written at \u001b[33m...\u001b[0m\u001b[33mfilename\u001b[0m=\u001b[32m'./ptest0301//output_00028/particles_eft_multigrid_ncoarse7.h5'\u001b[0m param\u001b[1m[\u001b[0m\u001b[32m'aexp'\u001b[0m\u001b[1m]\u001b[0m=\u001b[1;36m0.625\u001b[0m\n"
      ]
     },
     "metadata": {},
     "output_type": "display_data"
    },
    {
     "data": {
      "text/html": [
       "<pre style=\"white-space:pre;overflow-x:auto;line-height:normal;font-family:Menlo,'DejaVu Sans Mono',consolas,'Courier New',monospace\">param<span style=\"font-weight: bold\">[</span><span style=\"color: #008000; text-decoration-color: #008000\">'nsteps'</span><span style=\"font-weight: bold\">]</span>=<span style=\"color: #008080; text-decoration-color: #008080; font-weight: bold\">46</span> param<span style=\"font-weight: bold\">[</span><span style=\"color: #008000; text-decoration-color: #008000\">'aexp'</span><span style=\"font-weight: bold\">]</span>=<span style=\"color: #008080; text-decoration-color: #008080; font-weight: bold\">0.625</span> z = <span style=\"color: #008080; text-decoration-color: #008080; font-weight: bold\">0.6000000000000001</span>                                                      \n",
       "</pre>\n"
      ],
      "text/plain": [
       "param\u001b[1m[\u001b[0m\u001b[32m'nsteps'\u001b[0m\u001b[1m]\u001b[0m=\u001b[1;36m46\u001b[0m param\u001b[1m[\u001b[0m\u001b[32m'aexp'\u001b[0m\u001b[1m]\u001b[0m=\u001b[1;36m0.625\u001b[0m z = \u001b[1;36m0.6000000000000001\u001b[0m                                                      \n"
      ]
     },
     "metadata": {},
     "output_type": "display_data"
    },
    {
     "data": {
      "text/html": [
       "<pre style=\"white-space:pre;overflow-x:auto;line-height:normal;font-family:Menlo,'DejaVu Sans Mono',consolas,'Courier New',monospace\">Snapshot written at <span style=\"color: #808000; text-decoration-color: #808000\">...</span><span style=\"color: #808000; text-decoration-color: #808000\">filename</span>=<span style=\"color: #008000; text-decoration-color: #008000\">'./ptest0301//output_00029/particles_eft_multigrid_ncoarse7.h5'</span>                    \n",
       "param<span style=\"font-weight: bold\">[</span><span style=\"color: #008000; text-decoration-color: #008000\">'aexp'</span><span style=\"font-weight: bold\">]</span>=<span style=\"color: #008080; text-decoration-color: #008080; font-weight: bold\">0.6451612903225806</span>                                                                                   \n",
       "</pre>\n"
      ],
      "text/plain": [
       "Snapshot written at \u001b[33m...\u001b[0m\u001b[33mfilename\u001b[0m=\u001b[32m'./ptest0301//output_00029/particles_eft_multigrid_ncoarse7.h5'\u001b[0m                    \n",
       "param\u001b[1m[\u001b[0m\u001b[32m'aexp'\u001b[0m\u001b[1m]\u001b[0m=\u001b[1;36m0.6451612903225806\u001b[0m                                                                                   \n"
      ]
     },
     "metadata": {},
     "output_type": "display_data"
    },
    {
     "data": {
      "text/html": [
       "<pre style=\"white-space:pre;overflow-x:auto;line-height:normal;font-family:Menlo,'DejaVu Sans Mono',consolas,'Courier New',monospace\">param<span style=\"font-weight: bold\">[</span><span style=\"color: #008000; text-decoration-color: #008000\">'nsteps'</span><span style=\"font-weight: bold\">]</span>=<span style=\"color: #008080; text-decoration-color: #008080; font-weight: bold\">47</span> param<span style=\"font-weight: bold\">[</span><span style=\"color: #008000; text-decoration-color: #008000\">'aexp'</span><span style=\"font-weight: bold\">]</span>=<span style=\"color: #008080; text-decoration-color: #008080; font-weight: bold\">0.6451612903225806</span> z = <span style=\"color: #008080; text-decoration-color: #008080; font-weight: bold\">0.55</span>                                                       \n",
       "</pre>\n"
      ],
      "text/plain": [
       "param\u001b[1m[\u001b[0m\u001b[32m'nsteps'\u001b[0m\u001b[1m]\u001b[0m=\u001b[1;36m47\u001b[0m param\u001b[1m[\u001b[0m\u001b[32m'aexp'\u001b[0m\u001b[1m]\u001b[0m=\u001b[1;36m0.6451612903225806\u001b[0m z = \u001b[1;36m0.55\u001b[0m                                                       \n"
      ]
     },
     "metadata": {},
     "output_type": "display_data"
    },
    {
     "data": {
      "text/html": [
       "<pre style=\"white-space:pre;overflow-x:auto;line-height:normal;font-family:Menlo,'DejaVu Sans Mono',consolas,'Courier New',monospace\">Snapshot written at <span style=\"color: #808000; text-decoration-color: #808000\">...</span><span style=\"color: #808000; text-decoration-color: #808000\">filename</span>=<span style=\"color: #008000; text-decoration-color: #008000\">'./ptest0301//output_00030/particles_eft_multigrid_ncoarse7.h5'</span>                    \n",
       "param<span style=\"font-weight: bold\">[</span><span style=\"color: #008000; text-decoration-color: #008000\">'aexp'</span><span style=\"font-weight: bold\">]</span>=<span style=\"color: #008080; text-decoration-color: #008080; font-weight: bold\">0.6666666666666666</span>                                                                                   \n",
       "</pre>\n"
      ],
      "text/plain": [
       "Snapshot written at \u001b[33m...\u001b[0m\u001b[33mfilename\u001b[0m=\u001b[32m'./ptest0301//output_00030/particles_eft_multigrid_ncoarse7.h5'\u001b[0m                    \n",
       "param\u001b[1m[\u001b[0m\u001b[32m'aexp'\u001b[0m\u001b[1m]\u001b[0m=\u001b[1;36m0.6666666666666666\u001b[0m                                                                                   \n"
      ]
     },
     "metadata": {},
     "output_type": "display_data"
    },
    {
     "data": {
      "text/html": [
       "<pre style=\"white-space:pre;overflow-x:auto;line-height:normal;font-family:Menlo,'DejaVu Sans Mono',consolas,'Courier New',monospace\">param<span style=\"font-weight: bold\">[</span><span style=\"color: #008000; text-decoration-color: #008000\">'nsteps'</span><span style=\"font-weight: bold\">]</span>=<span style=\"color: #008080; text-decoration-color: #008080; font-weight: bold\">48</span> param<span style=\"font-weight: bold\">[</span><span style=\"color: #008000; text-decoration-color: #008000\">'aexp'</span><span style=\"font-weight: bold\">]</span>=<span style=\"color: #008080; text-decoration-color: #008080; font-weight: bold\">0.6666666666666666</span> z = <span style=\"color: #008080; text-decoration-color: #008080; font-weight: bold\">0.5</span>                                                        \n",
       "</pre>\n"
      ],
      "text/plain": [
       "param\u001b[1m[\u001b[0m\u001b[32m'nsteps'\u001b[0m\u001b[1m]\u001b[0m=\u001b[1;36m48\u001b[0m param\u001b[1m[\u001b[0m\u001b[32m'aexp'\u001b[0m\u001b[1m]\u001b[0m=\u001b[1;36m0.6666666666666666\u001b[0m z = \u001b[1;36m0.5\u001b[0m                                                        \n"
      ]
     },
     "metadata": {},
     "output_type": "display_data"
    },
    {
     "data": {
      "text/html": [
       "<pre style=\"white-space:pre;overflow-x:auto;line-height:normal;font-family:Menlo,'DejaVu Sans Mono',consolas,'Courier New',monospace\">Snapshot written at <span style=\"color: #808000; text-decoration-color: #808000\">...</span><span style=\"color: #808000; text-decoration-color: #808000\">filename</span>=<span style=\"color: #008000; text-decoration-color: #008000\">'./ptest0301//output_00031/particles_eft_multigrid_ncoarse7.h5'</span>                    \n",
       "param<span style=\"font-weight: bold\">[</span><span style=\"color: #008000; text-decoration-color: #008000\">'aexp'</span><span style=\"font-weight: bold\">]</span>=<span style=\"color: #008080; text-decoration-color: #008080; font-weight: bold\">0.6896551724137931</span>                                                                                   \n",
       "</pre>\n"
      ],
      "text/plain": [
       "Snapshot written at \u001b[33m...\u001b[0m\u001b[33mfilename\u001b[0m=\u001b[32m'./ptest0301//output_00031/particles_eft_multigrid_ncoarse7.h5'\u001b[0m                    \n",
       "param\u001b[1m[\u001b[0m\u001b[32m'aexp'\u001b[0m\u001b[1m]\u001b[0m=\u001b[1;36m0.6896551724137931\u001b[0m                                                                                   \n"
      ]
     },
     "metadata": {},
     "output_type": "display_data"
    },
    {
     "data": {
      "text/html": [
       "<pre style=\"white-space:pre;overflow-x:auto;line-height:normal;font-family:Menlo,'DejaVu Sans Mono',consolas,'Courier New',monospace\">param<span style=\"font-weight: bold\">[</span><span style=\"color: #008000; text-decoration-color: #008000\">'nsteps'</span><span style=\"font-weight: bold\">]</span>=<span style=\"color: #008080; text-decoration-color: #008080; font-weight: bold\">49</span> param<span style=\"font-weight: bold\">[</span><span style=\"color: #008000; text-decoration-color: #008000\">'aexp'</span><span style=\"font-weight: bold\">]</span>=<span style=\"color: #008080; text-decoration-color: #008080; font-weight: bold\">0.6896551724137931</span> z = <span style=\"color: #008080; text-decoration-color: #008080; font-weight: bold\">0.44999999999999996</span>                                        \n",
       "</pre>\n"
      ],
      "text/plain": [
       "param\u001b[1m[\u001b[0m\u001b[32m'nsteps'\u001b[0m\u001b[1m]\u001b[0m=\u001b[1;36m49\u001b[0m param\u001b[1m[\u001b[0m\u001b[32m'aexp'\u001b[0m\u001b[1m]\u001b[0m=\u001b[1;36m0.6896551724137931\u001b[0m z = \u001b[1;36m0.44999999999999996\u001b[0m                                        \n"
      ]
     },
     "metadata": {},
     "output_type": "display_data"
    },
    {
     "data": {
      "text/html": [
       "<pre style=\"white-space:pre;overflow-x:auto;line-height:normal;font-family:Menlo,'DejaVu Sans Mono',consolas,'Courier New',monospace\">Snapshot written at <span style=\"color: #808000; text-decoration-color: #808000\">...</span><span style=\"color: #808000; text-decoration-color: #808000\">filename</span>=<span style=\"color: #008000; text-decoration-color: #008000\">'./ptest0301//output_00032/particles_eft_multigrid_ncoarse7.h5'</span>                    \n",
       "param<span style=\"font-weight: bold\">[</span><span style=\"color: #008000; text-decoration-color: #008000\">'aexp'</span><span style=\"font-weight: bold\">]</span>=<span style=\"color: #008080; text-decoration-color: #008080; font-weight: bold\">0.7142857142857143</span>                                                                                   \n",
       "</pre>\n"
      ],
      "text/plain": [
       "Snapshot written at \u001b[33m...\u001b[0m\u001b[33mfilename\u001b[0m=\u001b[32m'./ptest0301//output_00032/particles_eft_multigrid_ncoarse7.h5'\u001b[0m                    \n",
       "param\u001b[1m[\u001b[0m\u001b[32m'aexp'\u001b[0m\u001b[1m]\u001b[0m=\u001b[1;36m0.7142857142857143\u001b[0m                                                                                   \n"
      ]
     },
     "metadata": {},
     "output_type": "display_data"
    },
    {
     "data": {
      "text/html": [
       "<pre style=\"white-space:pre;overflow-x:auto;line-height:normal;font-family:Menlo,'DejaVu Sans Mono',consolas,'Courier New',monospace\">param<span style=\"font-weight: bold\">[</span><span style=\"color: #008000; text-decoration-color: #008000\">'nsteps'</span><span style=\"font-weight: bold\">]</span>=<span style=\"color: #008080; text-decoration-color: #008080; font-weight: bold\">50</span> param<span style=\"font-weight: bold\">[</span><span style=\"color: #008000; text-decoration-color: #008000\">'aexp'</span><span style=\"font-weight: bold\">]</span>=<span style=\"color: #008080; text-decoration-color: #008080; font-weight: bold\">0.7142857142857143</span> z = <span style=\"color: #008080; text-decoration-color: #008080; font-weight: bold\">0.3999999999999999</span>                                         \n",
       "</pre>\n"
      ],
      "text/plain": [
       "param\u001b[1m[\u001b[0m\u001b[32m'nsteps'\u001b[0m\u001b[1m]\u001b[0m=\u001b[1;36m50\u001b[0m param\u001b[1m[\u001b[0m\u001b[32m'aexp'\u001b[0m\u001b[1m]\u001b[0m=\u001b[1;36m0.7142857142857143\u001b[0m z = \u001b[1;36m0.3999999999999999\u001b[0m                                         \n"
      ]
     },
     "metadata": {},
     "output_type": "display_data"
    },
    {
     "data": {
      "text/html": [
       "<pre style=\"white-space:pre;overflow-x:auto;line-height:normal;font-family:Menlo,'DejaVu Sans Mono',consolas,'Courier New',monospace\">Snapshot written at <span style=\"color: #808000; text-decoration-color: #808000\">...</span><span style=\"color: #808000; text-decoration-color: #808000\">filename</span>=<span style=\"color: #008000; text-decoration-color: #008000\">'./ptest0301//output_00033/particles_eft_multigrid_ncoarse7.h5'</span>                    \n",
       "param<span style=\"font-weight: bold\">[</span><span style=\"color: #008000; text-decoration-color: #008000\">'aexp'</span><span style=\"font-weight: bold\">]</span>=<span style=\"color: #008080; text-decoration-color: #008080; font-weight: bold\">0.7407407407407407</span>                                                                                   \n",
       "</pre>\n"
      ],
      "text/plain": [
       "Snapshot written at \u001b[33m...\u001b[0m\u001b[33mfilename\u001b[0m=\u001b[32m'./ptest0301//output_00033/particles_eft_multigrid_ncoarse7.h5'\u001b[0m                    \n",
       "param\u001b[1m[\u001b[0m\u001b[32m'aexp'\u001b[0m\u001b[1m]\u001b[0m=\u001b[1;36m0.7407407407407407\u001b[0m                                                                                   \n"
      ]
     },
     "metadata": {},
     "output_type": "display_data"
    },
    {
     "data": {
      "text/html": [
       "<pre style=\"white-space:pre;overflow-x:auto;line-height:normal;font-family:Menlo,'DejaVu Sans Mono',consolas,'Courier New',monospace\">param<span style=\"font-weight: bold\">[</span><span style=\"color: #008000; text-decoration-color: #008000\">'nsteps'</span><span style=\"font-weight: bold\">]</span>=<span style=\"color: #008080; text-decoration-color: #008080; font-weight: bold\">51</span> param<span style=\"font-weight: bold\">[</span><span style=\"color: #008000; text-decoration-color: #008000\">'aexp'</span><span style=\"font-weight: bold\">]</span>=<span style=\"color: #008080; text-decoration-color: #008080; font-weight: bold\">0.7407407407407407</span> z = <span style=\"color: #008080; text-decoration-color: #008080; font-weight: bold\">0.3500000000000001</span>                                         \n",
       "</pre>\n"
      ],
      "text/plain": [
       "param\u001b[1m[\u001b[0m\u001b[32m'nsteps'\u001b[0m\u001b[1m]\u001b[0m=\u001b[1;36m51\u001b[0m param\u001b[1m[\u001b[0m\u001b[32m'aexp'\u001b[0m\u001b[1m]\u001b[0m=\u001b[1;36m0.7407407407407407\u001b[0m z = \u001b[1;36m0.3500000000000001\u001b[0m                                         \n"
      ]
     },
     "metadata": {},
     "output_type": "display_data"
    },
    {
     "data": {
      "text/html": [
       "<pre style=\"white-space:pre;overflow-x:auto;line-height:normal;font-family:Menlo,'DejaVu Sans Mono',consolas,'Courier New',monospace\">Snapshot written at <span style=\"color: #808000; text-decoration-color: #808000\">...</span><span style=\"color: #808000; text-decoration-color: #808000\">filename</span>=<span style=\"color: #008000; text-decoration-color: #008000\">'./ptest0301//output_00034/particles_eft_multigrid_ncoarse7.h5'</span>                    \n",
       "param<span style=\"font-weight: bold\">[</span><span style=\"color: #008000; text-decoration-color: #008000\">'aexp'</span><span style=\"font-weight: bold\">]</span>=<span style=\"color: #008080; text-decoration-color: #008080; font-weight: bold\">0.7692307692307692</span>                                                                                   \n",
       "</pre>\n"
      ],
      "text/plain": [
       "Snapshot written at \u001b[33m...\u001b[0m\u001b[33mfilename\u001b[0m=\u001b[32m'./ptest0301//output_00034/particles_eft_multigrid_ncoarse7.h5'\u001b[0m                    \n",
       "param\u001b[1m[\u001b[0m\u001b[32m'aexp'\u001b[0m\u001b[1m]\u001b[0m=\u001b[1;36m0.7692307692307692\u001b[0m                                                                                   \n"
      ]
     },
     "metadata": {},
     "output_type": "display_data"
    },
    {
     "data": {
      "text/html": [
       "<pre style=\"white-space:pre;overflow-x:auto;line-height:normal;font-family:Menlo,'DejaVu Sans Mono',consolas,'Courier New',monospace\">param<span style=\"font-weight: bold\">[</span><span style=\"color: #008000; text-decoration-color: #008000\">'nsteps'</span><span style=\"font-weight: bold\">]</span>=<span style=\"color: #008080; text-decoration-color: #008080; font-weight: bold\">52</span> param<span style=\"font-weight: bold\">[</span><span style=\"color: #008000; text-decoration-color: #008000\">'aexp'</span><span style=\"font-weight: bold\">]</span>=<span style=\"color: #008080; text-decoration-color: #008080; font-weight: bold\">0.7692307692307692</span> z = <span style=\"color: #008080; text-decoration-color: #008080; font-weight: bold\">0.30000000000000004</span>                                        \n",
       "</pre>\n"
      ],
      "text/plain": [
       "param\u001b[1m[\u001b[0m\u001b[32m'nsteps'\u001b[0m\u001b[1m]\u001b[0m=\u001b[1;36m52\u001b[0m param\u001b[1m[\u001b[0m\u001b[32m'aexp'\u001b[0m\u001b[1m]\u001b[0m=\u001b[1;36m0.7692307692307692\u001b[0m z = \u001b[1;36m0.30000000000000004\u001b[0m                                        \n"
      ]
     },
     "metadata": {},
     "output_type": "display_data"
    },
    {
     "data": {
      "text/html": [
       "<pre style=\"white-space:pre;overflow-x:auto;line-height:normal;font-family:Menlo,'DejaVu Sans Mono',consolas,'Courier New',monospace\">Snapshot written at <span style=\"color: #808000; text-decoration-color: #808000\">...</span><span style=\"color: #808000; text-decoration-color: #808000\">filename</span>=<span style=\"color: #008000; text-decoration-color: #008000\">'./ptest0301//output_00035/particles_eft_multigrid_ncoarse7.h5'</span> param<span style=\"font-weight: bold\">[</span><span style=\"color: #008000; text-decoration-color: #008000\">'aexp'</span><span style=\"font-weight: bold\">]</span>=<span style=\"color: #008080; text-decoration-color: #008080; font-weight: bold\">0.8</span>  \n",
       "</pre>\n"
      ],
      "text/plain": [
       "Snapshot written at \u001b[33m...\u001b[0m\u001b[33mfilename\u001b[0m=\u001b[32m'./ptest0301//output_00035/particles_eft_multigrid_ncoarse7.h5'\u001b[0m param\u001b[1m[\u001b[0m\u001b[32m'aexp'\u001b[0m\u001b[1m]\u001b[0m=\u001b[1;36m0.8\u001b[0m  \n"
      ]
     },
     "metadata": {},
     "output_type": "display_data"
    },
    {
     "data": {
      "text/html": [
       "<pre style=\"white-space:pre;overflow-x:auto;line-height:normal;font-family:Menlo,'DejaVu Sans Mono',consolas,'Courier New',monospace\">param<span style=\"font-weight: bold\">[</span><span style=\"color: #008000; text-decoration-color: #008000\">'nsteps'</span><span style=\"font-weight: bold\">]</span>=<span style=\"color: #008080; text-decoration-color: #008080; font-weight: bold\">53</span> param<span style=\"font-weight: bold\">[</span><span style=\"color: #008000; text-decoration-color: #008000\">'aexp'</span><span style=\"font-weight: bold\">]</span>=<span style=\"color: #008080; text-decoration-color: #008080; font-weight: bold\">0.8</span> z = <span style=\"color: #008080; text-decoration-color: #008080; font-weight: bold\">0.25</span>                                                                      \n",
       "</pre>\n"
      ],
      "text/plain": [
       "param\u001b[1m[\u001b[0m\u001b[32m'nsteps'\u001b[0m\u001b[1m]\u001b[0m=\u001b[1;36m53\u001b[0m param\u001b[1m[\u001b[0m\u001b[32m'aexp'\u001b[0m\u001b[1m]\u001b[0m=\u001b[1;36m0.8\u001b[0m z = \u001b[1;36m0.25\u001b[0m                                                                      \n"
      ]
     },
     "metadata": {},
     "output_type": "display_data"
    },
    {
     "data": {
      "text/html": [
       "<pre style=\"white-space:pre;overflow-x:auto;line-height:normal;font-family:Menlo,'DejaVu Sans Mono',consolas,'Courier New',monospace\">Snapshot written at <span style=\"color: #808000; text-decoration-color: #808000\">...</span><span style=\"color: #808000; text-decoration-color: #808000\">filename</span>=<span style=\"color: #008000; text-decoration-color: #008000\">'./ptest0301//output_00036/particles_eft_multigrid_ncoarse7.h5'</span>                    \n",
       "param<span style=\"font-weight: bold\">[</span><span style=\"color: #008000; text-decoration-color: #008000\">'aexp'</span><span style=\"font-weight: bold\">]</span>=<span style=\"color: #008080; text-decoration-color: #008080; font-weight: bold\">0.8333333333333334</span>                                                                                   \n",
       "</pre>\n"
      ],
      "text/plain": [
       "Snapshot written at \u001b[33m...\u001b[0m\u001b[33mfilename\u001b[0m=\u001b[32m'./ptest0301//output_00036/particles_eft_multigrid_ncoarse7.h5'\u001b[0m                    \n",
       "param\u001b[1m[\u001b[0m\u001b[32m'aexp'\u001b[0m\u001b[1m]\u001b[0m=\u001b[1;36m0.8333333333333334\u001b[0m                                                                                   \n"
      ]
     },
     "metadata": {},
     "output_type": "display_data"
    },
    {
     "data": {
      "text/html": [
       "<pre style=\"white-space:pre;overflow-x:auto;line-height:normal;font-family:Menlo,'DejaVu Sans Mono',consolas,'Courier New',monospace\">param<span style=\"font-weight: bold\">[</span><span style=\"color: #008000; text-decoration-color: #008000\">'nsteps'</span><span style=\"font-weight: bold\">]</span>=<span style=\"color: #008080; text-decoration-color: #008080; font-weight: bold\">54</span> param<span style=\"font-weight: bold\">[</span><span style=\"color: #008000; text-decoration-color: #008000\">'aexp'</span><span style=\"font-weight: bold\">]</span>=<span style=\"color: #008080; text-decoration-color: #008080; font-weight: bold\">0.8333333333333334</span> z = <span style=\"color: #008080; text-decoration-color: #008080; font-weight: bold\">0.19999999999999996</span>                                        \n",
       "</pre>\n"
      ],
      "text/plain": [
       "param\u001b[1m[\u001b[0m\u001b[32m'nsteps'\u001b[0m\u001b[1m]\u001b[0m=\u001b[1;36m54\u001b[0m param\u001b[1m[\u001b[0m\u001b[32m'aexp'\u001b[0m\u001b[1m]\u001b[0m=\u001b[1;36m0.8333333333333334\u001b[0m z = \u001b[1;36m0.19999999999999996\u001b[0m                                        \n"
      ]
     },
     "metadata": {},
     "output_type": "display_data"
    },
    {
     "data": {
      "text/html": [
       "<pre style=\"white-space:pre;overflow-x:auto;line-height:normal;font-family:Menlo,'DejaVu Sans Mono',consolas,'Courier New',monospace\">Snapshot written at <span style=\"color: #808000; text-decoration-color: #808000\">...</span><span style=\"color: #808000; text-decoration-color: #808000\">filename</span>=<span style=\"color: #008000; text-decoration-color: #008000\">'./ptest0301//output_00037/particles_eft_multigrid_ncoarse7.h5'</span>                    \n",
       "param<span style=\"font-weight: bold\">[</span><span style=\"color: #008000; text-decoration-color: #008000\">'aexp'</span><span style=\"font-weight: bold\">]</span>=<span style=\"color: #008080; text-decoration-color: #008080; font-weight: bold\">0.8695652173913044</span>                                                                                   \n",
       "</pre>\n"
      ],
      "text/plain": [
       "Snapshot written at \u001b[33m...\u001b[0m\u001b[33mfilename\u001b[0m=\u001b[32m'./ptest0301//output_00037/particles_eft_multigrid_ncoarse7.h5'\u001b[0m                    \n",
       "param\u001b[1m[\u001b[0m\u001b[32m'aexp'\u001b[0m\u001b[1m]\u001b[0m=\u001b[1;36m0.8695652173913044\u001b[0m                                                                                   \n"
      ]
     },
     "metadata": {},
     "output_type": "display_data"
    },
    {
     "data": {
      "text/html": [
       "<pre style=\"white-space:pre;overflow-x:auto;line-height:normal;font-family:Menlo,'DejaVu Sans Mono',consolas,'Courier New',monospace\">param<span style=\"font-weight: bold\">[</span><span style=\"color: #008000; text-decoration-color: #008000\">'nsteps'</span><span style=\"font-weight: bold\">]</span>=<span style=\"color: #008080; text-decoration-color: #008080; font-weight: bold\">55</span> param<span style=\"font-weight: bold\">[</span><span style=\"color: #008000; text-decoration-color: #008000\">'aexp'</span><span style=\"font-weight: bold\">]</span>=<span style=\"color: #008080; text-decoration-color: #008080; font-weight: bold\">0.8695652173913044</span> z = <span style=\"color: #008080; text-decoration-color: #008080; font-weight: bold\">0.1499999999999999</span>                                         \n",
       "</pre>\n"
      ],
      "text/plain": [
       "param\u001b[1m[\u001b[0m\u001b[32m'nsteps'\u001b[0m\u001b[1m]\u001b[0m=\u001b[1;36m55\u001b[0m param\u001b[1m[\u001b[0m\u001b[32m'aexp'\u001b[0m\u001b[1m]\u001b[0m=\u001b[1;36m0.8695652173913044\u001b[0m z = \u001b[1;36m0.1499999999999999\u001b[0m                                         \n"
      ]
     },
     "metadata": {},
     "output_type": "display_data"
    },
    {
     "data": {
      "text/html": [
       "<pre style=\"white-space:pre;overflow-x:auto;line-height:normal;font-family:Menlo,'DejaVu Sans Mono',consolas,'Courier New',monospace\">Snapshot written at <span style=\"color: #808000; text-decoration-color: #808000\">...</span><span style=\"color: #808000; text-decoration-color: #808000\">filename</span>=<span style=\"color: #008000; text-decoration-color: #008000\">'./ptest0301//output_00038/particles_eft_multigrid_ncoarse7.h5'</span>                    \n",
       "param<span style=\"font-weight: bold\">[</span><span style=\"color: #008000; text-decoration-color: #008000\">'aexp'</span><span style=\"font-weight: bold\">]</span>=<span style=\"color: #008080; text-decoration-color: #008080; font-weight: bold\">0.9090909090909091</span>                                                                                   \n",
       "</pre>\n"
      ],
      "text/plain": [
       "Snapshot written at \u001b[33m...\u001b[0m\u001b[33mfilename\u001b[0m=\u001b[32m'./ptest0301//output_00038/particles_eft_multigrid_ncoarse7.h5'\u001b[0m                    \n",
       "param\u001b[1m[\u001b[0m\u001b[32m'aexp'\u001b[0m\u001b[1m]\u001b[0m=\u001b[1;36m0.9090909090909091\u001b[0m                                                                                   \n"
      ]
     },
     "metadata": {},
     "output_type": "display_data"
    },
    {
     "data": {
      "text/html": [
       "<pre style=\"white-space:pre;overflow-x:auto;line-height:normal;font-family:Menlo,'DejaVu Sans Mono',consolas,'Courier New',monospace\">param<span style=\"font-weight: bold\">[</span><span style=\"color: #008000; text-decoration-color: #008000\">'nsteps'</span><span style=\"font-weight: bold\">]</span>=<span style=\"color: #008080; text-decoration-color: #008080; font-weight: bold\">56</span> param<span style=\"font-weight: bold\">[</span><span style=\"color: #008000; text-decoration-color: #008000\">'aexp'</span><span style=\"font-weight: bold\">]</span>=<span style=\"color: #008080; text-decoration-color: #008080; font-weight: bold\">0.9090909090909091</span> z = <span style=\"color: #008080; text-decoration-color: #008080; font-weight: bold\">0.10000000000000009</span>                                        \n",
       "</pre>\n"
      ],
      "text/plain": [
       "param\u001b[1m[\u001b[0m\u001b[32m'nsteps'\u001b[0m\u001b[1m]\u001b[0m=\u001b[1;36m56\u001b[0m param\u001b[1m[\u001b[0m\u001b[32m'aexp'\u001b[0m\u001b[1m]\u001b[0m=\u001b[1;36m0.9090909090909091\u001b[0m z = \u001b[1;36m0.10000000000000009\u001b[0m                                        \n"
      ]
     },
     "metadata": {},
     "output_type": "display_data"
    },
    {
     "data": {
      "text/html": [
       "<pre style=\"white-space:pre;overflow-x:auto;line-height:normal;font-family:Menlo,'DejaVu Sans Mono',consolas,'Courier New',monospace\">Snapshot written at <span style=\"color: #808000; text-decoration-color: #808000\">...</span><span style=\"color: #808000; text-decoration-color: #808000\">filename</span>=<span style=\"color: #008000; text-decoration-color: #008000\">'./ptest0301//output_00039/particles_eft_multigrid_ncoarse7.h5'</span>                    \n",
       "param<span style=\"font-weight: bold\">[</span><span style=\"color: #008000; text-decoration-color: #008000\">'aexp'</span><span style=\"font-weight: bold\">]</span>=<span style=\"color: #008080; text-decoration-color: #008080; font-weight: bold\">0.9523809523809523</span>                                                                                   \n",
       "</pre>\n"
      ],
      "text/plain": [
       "Snapshot written at \u001b[33m...\u001b[0m\u001b[33mfilename\u001b[0m=\u001b[32m'./ptest0301//output_00039/particles_eft_multigrid_ncoarse7.h5'\u001b[0m                    \n",
       "param\u001b[1m[\u001b[0m\u001b[32m'aexp'\u001b[0m\u001b[1m]\u001b[0m=\u001b[1;36m0.9523809523809523\u001b[0m                                                                                   \n"
      ]
     },
     "metadata": {},
     "output_type": "display_data"
    },
    {
     "data": {
      "text/html": [
       "<pre style=\"white-space:pre;overflow-x:auto;line-height:normal;font-family:Menlo,'DejaVu Sans Mono',consolas,'Courier New',monospace\">param<span style=\"font-weight: bold\">[</span><span style=\"color: #008000; text-decoration-color: #008000\">'nsteps'</span><span style=\"font-weight: bold\">]</span>=<span style=\"color: #008080; text-decoration-color: #008080; font-weight: bold\">57</span> param<span style=\"font-weight: bold\">[</span><span style=\"color: #008000; text-decoration-color: #008000\">'aexp'</span><span style=\"font-weight: bold\">]</span>=<span style=\"color: #008080; text-decoration-color: #008080; font-weight: bold\">0.9523809523809523</span> z = <span style=\"color: #008080; text-decoration-color: #008080; font-weight: bold\">0.050000000000000044</span>                                       \n",
       "</pre>\n"
      ],
      "text/plain": [
       "param\u001b[1m[\u001b[0m\u001b[32m'nsteps'\u001b[0m\u001b[1m]\u001b[0m=\u001b[1;36m57\u001b[0m param\u001b[1m[\u001b[0m\u001b[32m'aexp'\u001b[0m\u001b[1m]\u001b[0m=\u001b[1;36m0.9523809523809523\u001b[0m z = \u001b[1;36m0.050000000000000044\u001b[0m                                       \n"
      ]
     },
     "metadata": {},
     "output_type": "display_data"
    },
    {
     "data": {
      "text/html": [
       "<pre style=\"white-space:pre;overflow-x:auto;line-height:normal;font-family:Menlo,'DejaVu Sans Mono',consolas,'Courier New',monospace\">Snapshot written at <span style=\"color: #808000; text-decoration-color: #808000\">...</span><span style=\"color: #808000; text-decoration-color: #808000\">filename</span>=<span style=\"color: #008000; text-decoration-color: #008000\">'./ptest0301//output_00040/particles_eft_multigrid_ncoarse7.h5'</span> param<span style=\"font-weight: bold\">[</span><span style=\"color: #008000; text-decoration-color: #008000\">'aexp'</span><span style=\"font-weight: bold\">]</span>=<span style=\"color: #008080; text-decoration-color: #008080; font-weight: bold\">1.0</span>  \n",
       "</pre>\n"
      ],
      "text/plain": [
       "Snapshot written at \u001b[33m...\u001b[0m\u001b[33mfilename\u001b[0m=\u001b[32m'./ptest0301//output_00040/particles_eft_multigrid_ncoarse7.h5'\u001b[0m param\u001b[1m[\u001b[0m\u001b[32m'aexp'\u001b[0m\u001b[1m]\u001b[0m=\u001b[1;36m1.0\u001b[0m  \n"
      ]
     },
     "metadata": {},
     "output_type": "display_data"
    },
    {
     "data": {
      "text/html": [
       "<pre style=\"white-space:pre;overflow-x:auto;line-height:normal;font-family:Menlo,'DejaVu Sans Mono',consolas,'Courier New',monospace\">param<span style=\"font-weight: bold\">[</span><span style=\"color: #008000; text-decoration-color: #008000\">'nsteps'</span><span style=\"font-weight: bold\">]</span>=<span style=\"color: #008080; text-decoration-color: #008080; font-weight: bold\">58</span> param<span style=\"font-weight: bold\">[</span><span style=\"color: #008000; text-decoration-color: #008000\">'aexp'</span><span style=\"font-weight: bold\">]</span>=<span style=\"color: #008080; text-decoration-color: #008080; font-weight: bold\">1.0</span> z = <span style=\"color: #008080; text-decoration-color: #008080; font-weight: bold\">0.0</span>                                                                       \n",
       "</pre>\n"
      ],
      "text/plain": [
       "param\u001b[1m[\u001b[0m\u001b[32m'nsteps'\u001b[0m\u001b[1m]\u001b[0m=\u001b[1;36m58\u001b[0m param\u001b[1m[\u001b[0m\u001b[32m'aexp'\u001b[0m\u001b[1m]\u001b[0m=\u001b[1;36m1.0\u001b[0m z = \u001b[1;36m0.0\u001b[0m                                                                       \n"
      ]
     },
     "metadata": {},
     "output_type": "display_data"
    }
   ],
   "source": [
    "path = '.'\n",
    "\n",
    "param = pd.Series({\n",
    "    \"theory\": \"eft\",\n",
    "    \"alphaB0\": 0.3,\n",
    "    \"alphaM0\": 0.0,\n",
    "    \"extra\":'04_01',\n",
    "    \"nthreads\": 1,\n",
    "    \"H0\": 72,\n",
    "    \"Om_m\": 0.25733,\n",
    "    \"T_cmb\": 2.726,\n",
    "    \"N_eff\": 3.044,\n",
    "    \"w0\": -1.0,\n",
    "    \"wa\": 0.0,\n",
    "    \"boxlen\": 100,\n",
    "    \"ncoarse\": 7,\n",
    "    \"npart\": 128**3,\n",
    "    \"z_start\": 25,\n",
    "    \"seed\": 42,\n",
    "    \"position_ICS\": \"center\",\n",
    "    \"fixed_ICS\": False,\n",
    "    \"paired_ICS\": False,\n",
    "    \"dealiased_ICS\": False,\n",
    "    \"power_spectrum_file\": f\"{path}/pk_lcdmw7v2.dat\",\n",
    "    \"initial_conditions\": \"2LPT\",\n",
    "    \"base\": f\"{path}/ptest0301/\",\n",
    "    \"z_out\": \"[20,19,18,17,16,15,14,13,12,11,10,9,8,7,6,5,4,3,2,1,0.95,0.9,0.85,0.8,0.75,0.7,0.65,0.6,0.55,0.5,0.45,0.4,0.35,0.3,0.25,0.2,0.15,0.1,0.05,0]\",\n",
    "    \"output_snapshot_format\": \"HDF5\",\n",
    "    \"save_power_spectrum\": \"no\",\n",
    "    \"integrator\": \"leapfrog\",\n",
    "    \"n_reorder\": 50,\n",
    "    \"mass_scheme\": \"TSC\",\n",
    "    \"Courant_factor\": 1.0,\n",
    "    \"max_aexp_stepping\": 10,\n",
    "    \"linear_newton_solver\": \"multigrid\",\n",
    "    \"gradient_stencil_order\": 5,\n",
    "    \"Npre\": 2,\n",
    "    \"Npost\": 1,\n",
    "    \"epsrel\": 1e-2,\n",
    "    \"verbose\": 1,\n",
    "    \"evolution_table\":'no',\n",
    "    \"Om_lambda\":0.74267\n",
    "    })\n",
    "\n",
    "main.run(param)"
   ]
  },
  {
   "cell_type": "code",
   "execution_count": null,
   "id": "6ab04d4f-d582-4074-9df0-1dfcfdb50e49",
   "metadata": {},
   "outputs": [],
   "source": [
    "path = '.'\n",
    "\n",
    "param = pd.Series({\n",
    "    \"theory\": \"parametrized\",\n",
    "    \"parametrized_mu0\":-0.072,\n",
    "    \"alphaB0\": 0.1,\n",
    "    \"alphaM0\": 0.5,\n",
    "    \"nthreads\": 1,\n",
    "    \"H0\": 72,\n",
    "    \"Om_m\": 0.25733,\n",
    "    \"T_cmb\": 2.726,\n",
    "    \"N_eff\": 3.044,\n",
    "    \"w0\": -1.0,\n",
    "    \"wa\": 0.0,\n",
    "    \"boxlen\": 100,\n",
    "    \"ncoarse\": 8,\n",
    "    \"npart\": 256**3,\n",
    "    \"z_start\": 25,\n",
    "    \"seed\": 42,\n",
    "    \"position_ICS\": \"center\",\n",
    "    \"fixed_ICS\": False,\n",
    "    \"paired_ICS\": False,\n",
    "    \"dealiased_ICS\": False,\n",
    "    \"power_spectrum_file\": f\"{path}/pk_lcdmw7v2.dat\",\n",
    "    \"initial_conditions\": \"2LPT\",\n",
    "    \"base\": f\"{path}/ptest/\",\n",
    "    \"z_out\": \"[20,19,18,17,16,15,14,13,12,11,10,9,8,7,6,5,4,3,2,1,0.95,0.9,0.85,0.8,0.75,0.7,0.65,0.6,0.55,0.5,0.45,0.4,0.35,0.3,0.25,0.2,0.15,0.1,0.05,0]\",\n",
    "    \"output_snapshot_format\": \"HDF5\",\n",
    "    \"save_power_spectrum\": \"no\",\n",
    "    \"integrator\": \"leapfrog\",\n",
    "    \"n_reorder\": 50,\n",
    "    \"mass_scheme\": \"TSC\",\n",
    "    \"Courant_factor\": 1.0,\n",
    "    \"max_aexp_stepping\": 10,\n",
    "    \"linear_newton_solver\": \"multigrid\",\n",
    "    \"gradient_stencil_order\": 5,\n",
    "    \"Npre\": 2,\n",
    "    \"Npost\": 1,\n",
    "    \"epsrel\": 1e-2,\n",
    "    \"verbose\": 1,\n",
    "    \"evolution_table\":'no',\n",
    "    \"Om_lambda\":0.74\n",
    "    })\n",
    "\n",
    "main.run(param)"
   ]
  },
  {
   "cell_type": "code",
   "execution_count": null,
   "id": "6f81c92b-88ec-4801-b118-46d545f25186",
   "metadata": {},
   "outputs": [],
   "source": [
    "path = '.'\n",
    "\n",
    "param = pd.Series({\n",
    "    \"theory\": \"eft\",\n",
    "    \"alphaB0\": 0.3066,\n",
    "    \"alphaM0\": 0,\n",
    "    \"wa\":-0.2,\n",
    "    \"nthreads\": 1,\n",
    "    \"H0\": 72,\n",
    "    \"Om_m\": 0.25733,\n",
    "    \"T_cmb\": 2.726,\n",
    "    \"N_eff\": 3.044,\n",
    "    \"w0\": -1.0,\n",
    "    \"boxlen\": 100,\n",
    "    \"ncoarse\": 8,\n",
    "    \"npart\": 256**3,\n",
    "    \"z_start\": 25,\n",
    "    \"seed\": 42,\n",
    "    \"position_ICS\": \"center\",\n",
    "    \"fixed_ICS\": False,\n",
    "    \"paired_ICS\": False,\n",
    "    \"dealiased_ICS\": False,\n",
    "    \"power_spectrum_file\": f\"{path}/pk_lcdmw7v2.dat\",\n",
    "    \"initial_conditions\": \"2LPT\",\n",
    "    \"base\": f\"{path}/ptestn/\",\n",
    "    \"z_out\": \"[20,19,18,17,16,15,14,13,12,11,10,9,8,7,6,5,4,3,2,1,0.95,0.9,0.85,0.8,0.75,0.7,0.65,0.6,0.55,0.5,0.45,0.4,0.35,0.3,0.25,0.2,0.15,0.1,0.05,0]\",\n",
    "    \"output_snapshot_format\": \"HDF5\",\n",
    "    \"save_power_spectrum\": \"no\",\n",
    "    \"integrator\": \"leapfrog\",\n",
    "    \"n_reorder\": 50,\n",
    "    \"mass_scheme\": \"TSC\",\n",
    "    \"Courant_factor\": 1.0,\n",
    "    \"max_aexp_stepping\": 10,\n",
    "    \"linear_newton_solver\": \"multigrid\",\n",
    "    \"gradient_stencil_order\": 5,\n",
    "    \"Npre\": 2,\n",
    "    \"Npost\": 1,\n",
    "    \"epsrel\": 1e-2,\n",
    "    \"verbose\": 1,\n",
    "    \"evolution_table\":'no',\n",
    "    \"Om_lambda\":0.74267\n",
    "    })\n",
    "\n",
    "main.run(param)"
   ]
  },
  {
   "cell_type": "code",
   "execution_count": null,
   "id": "555f68d0-f8ee-4631-be9b-264d85afb7f3",
   "metadata": {},
   "outputs": [],
   "source": [
    "path = '.'\n",
    "\n",
    "param = pd.Series({\n",
    "    \"theory\": \"parametrized\",\n",
    "    \"parametrized_mu0\":-0.072,\n",
    "    \"wa\":-0.2,\n",
    "    \"alphaB0\": 0.1,\n",
    "    \"alphaM0\": 0.5,\n",
    "    \"nthreads\": 1,\n",
    "    \"H0\": 72,\n",
    "    \"Om_m\": 0.25733,\n",
    "    \"T_cmb\": 2.726,\n",
    "    \"N_eff\": 3.044,\n",
    "    \"w0\": -1.0,\n",
    "    \"boxlen\": 100,\n",
    "    \"ncoarse\": 8,\n",
    "    \"npart\": 256**3,\n",
    "    \"z_start\": 25,\n",
    "    \"seed\": 42,\n",
    "    \"position_ICS\": \"center\",\n",
    "    \"fixed_ICS\": False,\n",
    "    \"paired_ICS\": False,\n",
    "    \"dealiased_ICS\": False,\n",
    "    \"power_spectrum_file\": f\"{path}/pk_lcdmw7v2.dat\",\n",
    "    \"initial_conditions\": \"2LPT\",\n",
    "    \"base\": f\"{path}/ptestn/\",\n",
    "    \"z_out\": \"[20,19,18,17,16,15,14,13,12,11,10,9,8,7,6,5,4,3,2,1,0.95,0.9,0.85,0.8,0.75,0.7,0.65,0.6,0.55,0.5,0.45,0.4,0.35,0.3,0.25,0.2,0.15,0.1,0.05,0]\",\n",
    "    \"output_snapshot_format\": \"HDF5\",\n",
    "    \"save_power_spectrum\": \"no\",\n",
    "    \"integrator\": \"leapfrog\",\n",
    "    \"n_reorder\": 50,\n",
    "    \"mass_scheme\": \"TSC\",\n",
    "    \"Courant_factor\": 1.0,\n",
    "    \"max_aexp_stepping\": 10,\n",
    "    \"linear_newton_solver\": \"multigrid\",\n",
    "    \"gradient_stencil_order\": 5,\n",
    "    \"Npre\": 2,\n",
    "    \"Npost\": 1,\n",
    "    \"epsrel\": 1e-2,\n",
    "    \"verbose\": 1,\n",
    "    \"evolution_table\":'no',\n",
    "    \"Om_lambda\":0.74\n",
    "    })\n",
    "\n",
    "main.run(param)"
   ]
  },
  {
   "cell_type": "code",
   "execution_count": null,
   "id": "12253e6e-2e12-4e89-a94b-c0ea49c2d8f8",
   "metadata": {},
   "outputs": [],
   "source": [
    "import numpy as np\n",
    "import matplotlib.pyplot as plt"
   ]
  },
  {
   "cell_type": "code",
   "execution_count": null,
   "id": "8f245db8-f29f-4115-974c-0ab46feafe97",
   "metadata": {},
   "outputs": [],
   "source": [
    "x = np.loadtxt('./t4/power/pk_eft_multigrid_ncoarse6_00039.dat')\n",
    "plt.loglog(x[:,0],x[:,1],'.')\n",
    "\n",
    "\n",
    "\n"
   ]
  },
  {
   "cell_type": "code",
   "execution_count": null,
   "id": "2a09895b-7fa4-42d0-a9ce-3b806a1b0de4",
   "metadata": {},
   "outputs": [],
   "source": [
    "x = np.loadtxt('./t4/power/pk_eft_multigrid_ncoarse7_00001.dat')\n",
    "plt.loglog(x[:,0],x[:,1],'.')\n",
    "\n",
    "x = np.loadtxt('./t4/power/pk_newton_multigrid_ncoarse7_00001.dat')\n",
    "plt.loglog(x[:,0],x[:,1],'.')\n",
    "\n"
   ]
  },
  {
   "cell_type": "code",
   "execution_count": null,
   "id": "de0d99c0-463c-41fc-9c69-ff216f791b3c",
   "metadata": {},
   "outputs": [],
   "source": [
    "pwd"
   ]
  },
  {
   "cell_type": "code",
   "execution_count": null,
   "id": "50ac511f-b87a-4d85-a99b-3e65b0e3c710",
   "metadata": {},
   "outputs": [],
   "source": [
    "\n",
    "\n",
    "x = np.loadtxt('./tester3/power/pk_eft_multigrid_ncoarse8_00001.dat')\n",
    "plt.loglog(x[:,0],x[:,1],'.')\n",
    "\n",
    "\n",
    "x = np.loadtxt('./tester3/power/pk_eft_multigrid_ncoarse8_00080.dat')\n",
    "plt.loglog(x[:,0],x[:,1],'.')\n",
    "\n",
    "plt.gca().set_prop_cycle(None)\n",
    "\n",
    "x = np.loadtxt('./tester3/power/pk_newton_multigrid_ncoarse8_00001.dat')\n",
    "plt.plot(x[:,0],x[:,1])\n",
    "\n",
    "x = np.loadtxt('./tester3/power/pk_newton_multigrid_ncoarse8_00085.dat')\n",
    "plt.plot(x[:,0],x[:,1])"
   ]
  },
  {
   "cell_type": "code",
   "execution_count": null,
   "id": "21e4f1c4-a5a4-4661-bdaf-ce7db80c0e15",
   "metadata": {},
   "outputs": [],
   "source": [
    "\n",
    "\n",
    "\n",
    "x = np.loadtxt('./boxlen100_n32/power/pk_newton_multigrid_ncoarse5_00010.dat')\n",
    "plt.loglog(x[:,0],x[:,1],'.')\n",
    "\n",
    "x = np.loadtxt('./boxlen100_n32/power/pk_eft_multigrid_ncoarse5_00010.dat')\n",
    "plt.loglog(x[:,0],x[:,1],'x')"
   ]
  },
  {
   "cell_type": "code",
   "execution_count": null,
   "id": "87df80cd-5230-4cb7-8791-1e7de4f88a83",
   "metadata": {},
   "outputs": [],
   "source": [
    "plt.loglog(x["
   ]
  },
  {
   "cell_type": "code",
   "execution_count": null,
   "id": "ddb85791-d8e9-4e4c-9146-adc2d33abb79",
   "metadata": {},
   "outputs": [],
   "source": []
  }
 ],
 "metadata": {
  "kernelspec": {
   "display_name": "Python 3 (ipykernel)",
   "language": "python",
   "name": "python3"
  },
  "language_info": {
   "codemirror_mode": {
    "name": "ipython",
    "version": 3
   },
   "file_extension": ".py",
   "mimetype": "text/x-python",
   "name": "python",
   "nbconvert_exporter": "python",
   "pygments_lexer": "ipython3",
   "version": "3.12.7"
  }
 },
 "nbformat": 4,
 "nbformat_minor": 5
}
