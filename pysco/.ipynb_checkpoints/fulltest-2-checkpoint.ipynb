{
 "cells": [
  {
   "cell_type": "code",
   "execution_count": 1,
   "id": "b849885c-861b-4f15-a951-6cf85cb9fcee",
   "metadata": {},
   "outputs": [],
   "source": [
    "import main\n",
    "import pandas as pd"
   ]
  },
  {
   "cell_type": "code",
   "execution_count": 7,
   "id": "edcbfe75-123d-43a7-bfbc-171e76ae7f94",
   "metadata": {},
   "outputs": [],
   "source": [
    "path = '.'\n",
    "\n",
    "param = pd.Series({\n",
    "    \"theory\": \"newton\",\n",
    "    \"alphaB0\": 0.1,\n",
    "    \"alphaM0\": 0.25,\n",
    "    \"nthreads\": 1,\n",
    "    \"H0\": 72,\n",
    "    \"Om_m\": 0.25733,\n",
    "    \"T_cmb\": 2.726,\n",
    "    \"N_eff\": 3.044,\n",
    "    \"w0\": -1.0,\n",
    "    \"wa\": 0.0,\n",
    "    \"boxlen\": 100,\n",
    "    \"ncoarse\": 7,\n",
    "    \"npart\": 64**3,\n",
    "    \"z_start\": 25,\n",
    "    \"seed\": 42,\n",
    "    \"position_ICS\": \"center\",\n",
    "    \"fixed_ICS\": False,\n",
    "    \"paired_ICS\": False,\n",
    "    \"dealiased_ICS\": False,\n",
    "    \"power_spectrum_file\": f\"{path}/pk_lcdmw7v2.dat\",\n",
    "    \"initial_conditions\": \"2LPT\",\n",
    "    \"base\": f\"{path}/t4/\",\n",
    "    \"z_out\": \"[10, 8, 5, 2, 1, 0]\",\n",
    "    \"output_snapshot_format\": \"HDF5\",\n",
    "    \"save_power_spectrum\": \"yes\",\n",
    "    \"integrator\": \"leapfrog\",\n",
    "    \"n_reorder\": 50,\n",
    "    \"mass_scheme\": \"TSC\",\n",
    "    \"Courant_factor\": 1.0,\n",
    "    \"max_aexp_stepping\": 10,\n",
    "    \"linear_newton_solver\": \"multigrid\",\n",
    "    \"gradient_stencil_order\": 5,\n",
    "    \"Npre\": 2,\n",
    "    \"Npost\": 1,\n",
    "    \"epsrel\": 1e-2,\n",
    "    \"verbose\": 1,\n",
    "    \"evolution_table\":'no',\n",
    "    \"Om_lambda\":0.74\n",
    "    })"
   ]
  },
  {
   "cell_type": "code",
   "execution_count": 8,
   "id": "27ade68d-e53f-42f8-90a4-26a11e179477",
   "metadata": {},
   "outputs": [
    {
     "data": {
      "text/html": [
       "<pre style=\"white-space:pre;overflow-x:auto;line-height:normal;font-family:Menlo,'DejaVu Sans Mono',consolas,'Courier New',monospace\">param<span style=\"font-weight: bold\">[</span><span style=\"color: #008000; text-decoration-color: #008000\">'nthreads'</span><span style=\"font-weight: bold\">]</span>=<span style=\"color: #008080; text-decoration-color: #008080; font-weight: bold\">1</span>                                                                                                \n",
       "</pre>\n"
      ],
      "text/plain": [
       "param\u001b[1m[\u001b[0m\u001b[32m'nthreads'\u001b[0m\u001b[1m]\u001b[0m=\u001b[1;36m1\u001b[0m                                                                                                \n"
      ]
     },
     "metadata": {},
     "output_type": "display_data"
    },
    {
     "data": {
      "text/html": [
       "<pre style=\"white-space:pre;overflow-x:auto;line-height:normal;font-family:Menlo,'DejaVu Sans Mono',consolas,'Courier New',monospace\">                                                                                                                   \n",
       "<span style=\"color: #008000; text-decoration-color: #008000; font-weight: bold\">FFT module: NumPy</span>                                                                                                  \n",
       "</pre>\n"
      ],
      "text/plain": [
       "                                                                                                                   \n",
       "\u001b[1;32mFFT module: NumPy\u001b[0m                                                                                                  \n"
      ]
     },
     "metadata": {},
     "output_type": "display_data"
    },
    {
     "data": {
      "text/html": [
       "<pre style=\"white-space:pre;overflow-x:auto;line-height:normal;font-family:Menlo,'DejaVu Sans Mono',consolas,'Courier New',monospace\">                                                                                                                   \n",
       "<span style=\"color: #000080; text-decoration-color: #000080; font-weight: bold\">----- Compute background cosmology -----</span>                                                                           \n",
       "                                                                                                                   \n",
       "</pre>\n"
      ],
      "text/plain": [
       "                                                                                                                   \n",
       "\u001b[1;34m----- Compute background cosmology -----\u001b[0m                                                                           \n",
       "                                                                                                                   \n"
      ]
     },
     "metadata": {},
     "output_type": "display_data"
    },
    {
     "name": "stderr",
     "output_type": "stream",
     "text": [
      "/opt/anaconda3/lib/python3.12/site-packages/astropy/cosmology/flrw/w0wacdm.py:195: RuntimeWarning: invalid value encountered in scalar divide\n",
      "  return zp1 ** (3 * (1 + self._w0 + self._wa)) * exp(-3 * self._wa * z / zp1)\n"
     ]
    },
    {
     "data": {
      "text/html": [
       "<pre style=\"white-space:pre;overflow-x:auto;line-height:normal;font-family:Menlo,'DejaVu Sans Mono',consolas,'Courier New',monospace\">Write table in: .<span style=\"color: #800080; text-decoration-color: #800080\">/t4//</span><span style=\"color: #ff00ff; text-decoration-color: #ff00ff\">evolution_table_pysco_newton_multigrid_ncoarse7.txt</span>                                          \n",
       "</pre>\n"
      ],
      "text/plain": [
       "Write table in: .\u001b[35m/t4/\u001b[0m\u001b[35m/\u001b[0m\u001b[95mevolution_table_pysco_newton_multigrid_ncoarse7.txt\u001b[0m                                          \n"
      ]
     },
     "metadata": {},
     "output_type": "display_data"
    },
    {
     "data": {
      "text/html": [
       "<pre style=\"white-space:pre;overflow-x:auto;line-height:normal;font-family:Menlo,'DejaVu Sans Mono',consolas,'Courier New',monospace\">                                                                                                                   \n",
       "<span style=\"color: #000080; text-decoration-color: #000080; font-weight: bold\">----- Initial conditions -----</span>                                                                                     \n",
       "                                                                                                                   \n",
       "</pre>\n"
      ],
      "text/plain": [
       "                                                                                                                   \n",
       "\u001b[1;34m----- Initial conditions -----\u001b[0m                                                                                     \n",
       "                                                                                                                   \n"
      ]
     },
     "metadata": {},
     "output_type": "display_data"
    },
    {
     "data": {
      "text/html": [
       "<pre style=\"white-space:pre;overflow-x:auto;line-height:normal;font-family:Menlo,'DejaVu Sans Mono',consolas,'Courier New',monospace\">param<span style=\"font-weight: bold\">[</span><span style=\"color: #008000; text-decoration-color: #008000\">'z_start'</span><span style=\"font-weight: bold\">]</span>=<span style=\"color: #008080; text-decoration-color: #008080; font-weight: bold\">25</span>                                                                                                \n",
       "</pre>\n"
      ],
      "text/plain": [
       "param\u001b[1m[\u001b[0m\u001b[32m'z_start'\u001b[0m\u001b[1m]\u001b[0m=\u001b[1;36m25\u001b[0m                                                                                                \n"
      ]
     },
     "metadata": {},
     "output_type": "display_data"
    },
    {
     "data": {
      "text/html": [
       "<pre style=\"white-space:pre;overflow-x:auto;line-height:normal;font-family:Menlo,'DejaVu Sans Mono',consolas,'Courier New',monospace\">Compute 1LPT contribution                                                                                          \n",
       "</pre>\n"
      ],
      "text/plain": [
       "Compute 1LPT contribution                                                                                          \n"
      ]
     },
     "metadata": {},
     "output_type": "display_data"
    },
    {
     "data": {
      "text/html": [
       "<pre style=\"white-space:pre;overflow-x:auto;line-height:normal;font-family:Menlo,'DejaVu Sans Mono',consolas,'Courier New',monospace\">Compute 2LPT contribution                                                                                          \n",
       "</pre>\n"
      ],
      "text/plain": [
       "Compute 2LPT contribution                                                                                          \n"
      ]
     },
     "metadata": {},
     "output_type": "display_data"
    },
    {
     "data": {
      "text/html": [
       "<pre style=\"white-space:pre;overflow-x:auto;line-height:normal;font-family:Menlo,'DejaVu Sans Mono',consolas,'Courier New',monospace\">Write initial snapshot<span style=\"color: #808000; text-decoration-color: #808000\">...</span><span style=\"color: #808000; text-decoration-color: #808000\">snap_name</span>=<span style=\"color: #008000; text-decoration-color: #008000\">'./t4//output_00000/particles_newton_multigrid_ncoarse7.h5'</span>                     \n",
       "</pre>\n"
      ],
      "text/plain": [
       "Write initial snapshot\u001b[33m...\u001b[0m\u001b[33msnap_name\u001b[0m=\u001b[32m'./t4//output_00000/particles_newton_multigrid_ncoarse7.h5'\u001b[0m                     \n"
      ]
     },
     "metadata": {},
     "output_type": "display_data"
    },
    {
     "data": {
      "text/html": [
       "<pre style=\"white-space:pre;overflow-x:auto;line-height:normal;font-family:Menlo,'DejaVu Sans Mono',consolas,'Courier New',monospace\">param<span style=\"font-weight: bold\">[</span><span style=\"color: #008000; text-decoration-color: #008000\">'aexp'</span><span style=\"font-weight: bold\">]</span>=<span style=\"color: #008080; text-decoration-color: #008080; font-weight: bold\">0.038461538461538464</span> param<span style=\"font-weight: bold\">[</span><span style=\"color: #008000; text-decoration-color: #008000\">'t'</span><span style=\"font-weight: bold\">]</span>=<span style=\"color: #800080; text-decoration-color: #800080; font-weight: bold\">array</span><span style=\"font-weight: bold\">(</span><span style=\"color: #008080; text-decoration-color: #008080; font-weight: bold\">-15.47501364</span><span style=\"font-weight: bold\">)</span>                                                  \n",
       "</pre>\n"
      ],
      "text/plain": [
       "param\u001b[1m[\u001b[0m\u001b[32m'aexp'\u001b[0m\u001b[1m]\u001b[0m=\u001b[1;36m0.038461538461538464\u001b[0m param\u001b[1m[\u001b[0m\u001b[32m't'\u001b[0m\u001b[1m]\u001b[0m=\u001b[1;35marray\u001b[0m\u001b[1m(\u001b[0m\u001b[1;36m-15.47501364\u001b[0m\u001b[1m)\u001b[0m                                                  \n"
      ]
     },
     "metadata": {},
     "output_type": "display_data"
    },
    {
     "data": {
      "text/html": [
       "<pre style=\"white-space:pre;overflow-x:auto;line-height:normal;font-family:Menlo,'DejaVu Sans Mono',consolas,'Courier New',monospace\">                                                                                                                   \n",
       "<span style=\"color: #000080; text-decoration-color: #000080; font-weight: bold\">----- Run N-body -----</span>                                                                                             \n",
       "                                                                                                                   \n",
       "</pre>\n"
      ],
      "text/plain": [
       "                                                                                                                   \n",
       "\u001b[1;34m----- Run N-body -----\u001b[0m                                                                                             \n",
       "                                                                                                                   \n"
      ]
     },
     "metadata": {},
     "output_type": "display_data"
    },
    {
     "data": {
      "text/html": [
       "<pre style=\"white-space:pre;overflow-x:auto;line-height:normal;font-family:Menlo,'DejaVu Sans Mono',consolas,'Courier New',monospace\">Tables, <span style=\"color: #008080; text-decoration-color: #008080; font-weight: bold\">13</span>                                                                                                         \n",
       "</pre>\n"
      ],
      "text/plain": [
       "Tables, \u001b[1;36m13\u001b[0m                                                                                                         \n"
      ]
     },
     "metadata": {},
     "output_type": "display_data"
    },
    {
     "data": {
      "text/html": [
       "<pre style=\"white-space:pre;overflow-x:auto;line-height:normal;font-family:Menlo,'DejaVu Sans Mono',consolas,'Courier New',monospace\">Write <span style=\"color: #800080; text-decoration-color: #800080; font-weight: bold\">P</span><span style=\"font-weight: bold\">(</span>k<span style=\"font-weight: bold\">)</span> in .<span style=\"color: #800080; text-decoration-color: #800080\">/t4//power/</span><span style=\"color: #ff00ff; text-decoration-color: #ff00ff\">pk_newton_multigrid_ncoarse7_00000.dat</span>                                                   \n",
       "</pre>\n"
      ],
      "text/plain": [
       "Write \u001b[1;35mP\u001b[0m\u001b[1m(\u001b[0mk\u001b[1m)\u001b[0m in .\u001b[35m/t4/\u001b[0m\u001b[35m/power/\u001b[0m\u001b[95mpk_newton_multigrid_ncoarse7_00000.dat\u001b[0m                                                   \n"
      ]
     },
     "metadata": {},
     "output_type": "display_data"
    },
    {
     "data": {
      "text/html": [
       "<pre style=\"white-space:pre;overflow-x:auto;line-height:normal;font-family:Menlo,'DejaVu Sans Mono',consolas,'Courier New',monospace\">Write <span style=\"color: #800080; text-decoration-color: #800080; font-weight: bold\">P</span><span style=\"font-weight: bold\">(</span>k<span style=\"font-weight: bold\">)</span> in .<span style=\"color: #800080; text-decoration-color: #800080\">/t4//power/</span><span style=\"color: #ff00ff; text-decoration-color: #ff00ff\">pk_newton_multigrid_ncoarse7_00001.dat</span>                                                   \n",
       "</pre>\n"
      ],
      "text/plain": [
       "Write \u001b[1;35mP\u001b[0m\u001b[1m(\u001b[0mk\u001b[1m)\u001b[0m in .\u001b[35m/t4/\u001b[0m\u001b[35m/power/\u001b[0m\u001b[95mpk_newton_multigrid_ncoarse7_00001.dat\u001b[0m                                                   \n"
      ]
     },
     "metadata": {},
     "output_type": "display_data"
    },
    {
     "data": {
      "text/html": [
       "<pre style=\"white-space:pre;overflow-x:auto;line-height:normal;font-family:Menlo,'DejaVu Sans Mono',consolas,'Courier New',monospace\">param<span style=\"font-weight: bold\">[</span><span style=\"color: #008000; text-decoration-color: #008000\">'nsteps'</span><span style=\"font-weight: bold\">]</span>=<span style=\"color: #008080; text-decoration-color: #008080; font-weight: bold\">1</span> param<span style=\"font-weight: bold\">[</span><span style=\"color: #008000; text-decoration-color: #008000\">'aexp'</span><span style=\"font-weight: bold\">]</span>=<span style=\"color: #008080; text-decoration-color: #008080; font-weight: bold\">0.04230769237963173</span> z = <span style=\"color: #008080; text-decoration-color: #008080; font-weight: bold\">22.636363596172686</span>                                         \n",
       "</pre>\n"
      ],
      "text/plain": [
       "param\u001b[1m[\u001b[0m\u001b[32m'nsteps'\u001b[0m\u001b[1m]\u001b[0m=\u001b[1;36m1\u001b[0m param\u001b[1m[\u001b[0m\u001b[32m'aexp'\u001b[0m\u001b[1m]\u001b[0m=\u001b[1;36m0.04230769237963173\u001b[0m z = \u001b[1;36m22.636363596172686\u001b[0m                                         \n"
      ]
     },
     "metadata": {},
     "output_type": "display_data"
    },
    {
     "data": {
      "text/html": [
       "<pre style=\"white-space:pre;overflow-x:auto;line-height:normal;font-family:Menlo,'DejaVu Sans Mono',consolas,'Courier New',monospace\">Write <span style=\"color: #800080; text-decoration-color: #800080; font-weight: bold\">P</span><span style=\"font-weight: bold\">(</span>k<span style=\"font-weight: bold\">)</span> in .<span style=\"color: #800080; text-decoration-color: #800080\">/t4//power/</span><span style=\"color: #ff00ff; text-decoration-color: #ff00ff\">pk_newton_multigrid_ncoarse7_00002.dat</span>                                                   \n",
       "</pre>\n"
      ],
      "text/plain": [
       "Write \u001b[1;35mP\u001b[0m\u001b[1m(\u001b[0mk\u001b[1m)\u001b[0m in .\u001b[35m/t4/\u001b[0m\u001b[35m/power/\u001b[0m\u001b[95mpk_newton_multigrid_ncoarse7_00002.dat\u001b[0m                                                   \n"
      ]
     },
     "metadata": {},
     "output_type": "display_data"
    },
    {
     "data": {
      "text/html": [
       "<pre style=\"white-space:pre;overflow-x:auto;line-height:normal;font-family:Menlo,'DejaVu Sans Mono',consolas,'Courier New',monospace\">param<span style=\"font-weight: bold\">[</span><span style=\"color: #008000; text-decoration-color: #008000\">'nsteps'</span><span style=\"font-weight: bold\">]</span>=<span style=\"color: #008080; text-decoration-color: #008080; font-weight: bold\">2</span> param<span style=\"font-weight: bold\">[</span><span style=\"color: #008000; text-decoration-color: #008000\">'aexp'</span><span style=\"font-weight: bold\">]</span>=<span style=\"color: #008080; text-decoration-color: #008080; font-weight: bold\">0.04653846162115268</span> z = <span style=\"color: #008080; text-decoration-color: #008080; font-weight: bold\">20.48760326760521</span>                                          \n",
       "</pre>\n"
      ],
      "text/plain": [
       "param\u001b[1m[\u001b[0m\u001b[32m'nsteps'\u001b[0m\u001b[1m]\u001b[0m=\u001b[1;36m2\u001b[0m param\u001b[1m[\u001b[0m\u001b[32m'aexp'\u001b[0m\u001b[1m]\u001b[0m=\u001b[1;36m0.04653846162115268\u001b[0m z = \u001b[1;36m20.48760326760521\u001b[0m                                          \n"
      ]
     },
     "metadata": {},
     "output_type": "display_data"
    },
    {
     "data": {
      "text/html": [
       "<pre style=\"white-space:pre;overflow-x:auto;line-height:normal;font-family:Menlo,'DejaVu Sans Mono',consolas,'Courier New',monospace\">Write <span style=\"color: #800080; text-decoration-color: #800080; font-weight: bold\">P</span><span style=\"font-weight: bold\">(</span>k<span style=\"font-weight: bold\">)</span> in .<span style=\"color: #800080; text-decoration-color: #800080\">/t4//power/</span><span style=\"color: #ff00ff; text-decoration-color: #ff00ff\">pk_newton_multigrid_ncoarse7_00003.dat</span>                                                   \n",
       "</pre>\n"
      ],
      "text/plain": [
       "Write \u001b[1;35mP\u001b[0m\u001b[1m(\u001b[0mk\u001b[1m)\u001b[0m in .\u001b[35m/t4/\u001b[0m\u001b[35m/power/\u001b[0m\u001b[95mpk_newton_multigrid_ncoarse7_00003.dat\u001b[0m                                                   \n"
      ]
     },
     "metadata": {},
     "output_type": "display_data"
    },
    {
     "data": {
      "text/html": [
       "<pre style=\"white-space:pre;overflow-x:auto;line-height:normal;font-family:Menlo,'DejaVu Sans Mono',consolas,'Courier New',monospace\">param<span style=\"font-weight: bold\">[</span><span style=\"color: #008000; text-decoration-color: #008000\">'nsteps'</span><span style=\"font-weight: bold\">]</span>=<span style=\"color: #008080; text-decoration-color: #008080; font-weight: bold\">3</span> param<span style=\"font-weight: bold\">[</span><span style=\"color: #008000; text-decoration-color: #008000\">'aexp'</span><span style=\"font-weight: bold\">]</span>=<span style=\"color: #008080; text-decoration-color: #008080; font-weight: bold\">0.05119230768280618</span> z = <span style=\"color: #008080; text-decoration-color: #008080; font-weight: bold\">18.53418482706665</span>                                          \n",
       "</pre>\n"
      ],
      "text/plain": [
       "param\u001b[1m[\u001b[0m\u001b[32m'nsteps'\u001b[0m\u001b[1m]\u001b[0m=\u001b[1;36m3\u001b[0m param\u001b[1m[\u001b[0m\u001b[32m'aexp'\u001b[0m\u001b[1m]\u001b[0m=\u001b[1;36m0.05119230768280618\u001b[0m z = \u001b[1;36m18.53418482706665\u001b[0m                                          \n"
      ]
     },
     "metadata": {},
     "output_type": "display_data"
    },
    {
     "data": {
      "text/html": [
       "<pre style=\"white-space:pre;overflow-x:auto;line-height:normal;font-family:Menlo,'DejaVu Sans Mono',consolas,'Courier New',monospace\">Write <span style=\"color: #800080; text-decoration-color: #800080; font-weight: bold\">P</span><span style=\"font-weight: bold\">(</span>k<span style=\"font-weight: bold\">)</span> in .<span style=\"color: #800080; text-decoration-color: #800080\">/t4//power/</span><span style=\"color: #ff00ff; text-decoration-color: #ff00ff\">pk_newton_multigrid_ncoarse7_00004.dat</span>                                                   \n",
       "</pre>\n"
      ],
      "text/plain": [
       "Write \u001b[1;35mP\u001b[0m\u001b[1m(\u001b[0mk\u001b[1m)\u001b[0m in .\u001b[35m/t4/\u001b[0m\u001b[35m/power/\u001b[0m\u001b[95mpk_newton_multigrid_ncoarse7_00004.dat\u001b[0m                                                   \n"
      ]
     },
     "metadata": {},
     "output_type": "display_data"
    },
    {
     "data": {
      "text/html": [
       "<pre style=\"white-space:pre;overflow-x:auto;line-height:normal;font-family:Menlo,'DejaVu Sans Mono',consolas,'Courier New',monospace\">param<span style=\"font-weight: bold\">[</span><span style=\"color: #008000; text-decoration-color: #008000\">'nsteps'</span><span style=\"font-weight: bold\">]</span>=<span style=\"color: #008080; text-decoration-color: #008080; font-weight: bold\">4</span> param<span style=\"font-weight: bold\">[</span><span style=\"color: #008000; text-decoration-color: #008000\">'aexp'</span><span style=\"font-weight: bold\">]</span>=<span style=\"color: #008080; text-decoration-color: #008080; font-weight: bold\">0.05631153852485881</span> z = <span style=\"color: #008080; text-decoration-color: #008080; font-weight: bold\">16.758349819523197</span>                                         \n",
       "</pre>\n"
      ],
      "text/plain": [
       "param\u001b[1m[\u001b[0m\u001b[32m'nsteps'\u001b[0m\u001b[1m]\u001b[0m=\u001b[1;36m4\u001b[0m param\u001b[1m[\u001b[0m\u001b[32m'aexp'\u001b[0m\u001b[1m]\u001b[0m=\u001b[1;36m0.05631153852485881\u001b[0m z = \u001b[1;36m16.758349819523197\u001b[0m                                         \n"
      ]
     },
     "metadata": {},
     "output_type": "display_data"
    },
    {
     "data": {
      "text/html": [
       "<pre style=\"white-space:pre;overflow-x:auto;line-height:normal;font-family:Menlo,'DejaVu Sans Mono',consolas,'Courier New',monospace\">Write <span style=\"color: #800080; text-decoration-color: #800080; font-weight: bold\">P</span><span style=\"font-weight: bold\">(</span>k<span style=\"font-weight: bold\">)</span> in .<span style=\"color: #800080; text-decoration-color: #800080\">/t4//power/</span><span style=\"color: #ff00ff; text-decoration-color: #ff00ff\">pk_newton_multigrid_ncoarse7_00005.dat</span>                                                   \n",
       "</pre>\n"
      ],
      "text/plain": [
       "Write \u001b[1;35mP\u001b[0m\u001b[1m(\u001b[0mk\u001b[1m)\u001b[0m in .\u001b[35m/t4/\u001b[0m\u001b[35m/power/\u001b[0m\u001b[95mpk_newton_multigrid_ncoarse7_00005.dat\u001b[0m                                                   \n"
      ]
     },
     "metadata": {},
     "output_type": "display_data"
    },
    {
     "data": {
      "text/html": [
       "<pre style=\"white-space:pre;overflow-x:auto;line-height:normal;font-family:Menlo,'DejaVu Sans Mono',consolas,'Courier New',monospace\">param<span style=\"font-weight: bold\">[</span><span style=\"color: #008000; text-decoration-color: #008000\">'nsteps'</span><span style=\"font-weight: bold\">]</span>=<span style=\"color: #008080; text-decoration-color: #008080; font-weight: bold\">5</span> param<span style=\"font-weight: bold\">[</span><span style=\"color: #008000; text-decoration-color: #008000\">'aexp'</span><span style=\"font-weight: bold\">]</span>=<span style=\"color: #008080; text-decoration-color: #008080; font-weight: bold\">0.06194269232788359</span> z = <span style=\"color: #008080; text-decoration-color: #008080; font-weight: bold\">15.143954394275635</span>                                         \n",
       "</pre>\n"
      ],
      "text/plain": [
       "param\u001b[1m[\u001b[0m\u001b[32m'nsteps'\u001b[0m\u001b[1m]\u001b[0m=\u001b[1;36m5\u001b[0m param\u001b[1m[\u001b[0m\u001b[32m'aexp'\u001b[0m\u001b[1m]\u001b[0m=\u001b[1;36m0.06194269232788359\u001b[0m z = \u001b[1;36m15.143954394275635\u001b[0m                                         \n"
      ]
     },
     "metadata": {},
     "output_type": "display_data"
    },
    {
     "data": {
      "text/html": [
       "<pre style=\"white-space:pre;overflow-x:auto;line-height:normal;font-family:Menlo,'DejaVu Sans Mono',consolas,'Courier New',monospace\">Write <span style=\"color: #800080; text-decoration-color: #800080; font-weight: bold\">P</span><span style=\"font-weight: bold\">(</span>k<span style=\"font-weight: bold\">)</span> in .<span style=\"color: #800080; text-decoration-color: #800080\">/t4//power/</span><span style=\"color: #ff00ff; text-decoration-color: #ff00ff\">pk_newton_multigrid_ncoarse7_00006.dat</span>                                                   \n",
       "</pre>\n"
      ],
      "text/plain": [
       "Write \u001b[1;35mP\u001b[0m\u001b[1m(\u001b[0mk\u001b[1m)\u001b[0m in .\u001b[35m/t4/\u001b[0m\u001b[35m/power/\u001b[0m\u001b[95mpk_newton_multigrid_ncoarse7_00006.dat\u001b[0m                                                   \n"
      ]
     },
     "metadata": {},
     "output_type": "display_data"
    },
    {
     "data": {
      "text/html": [
       "<pre style=\"white-space:pre;overflow-x:auto;line-height:normal;font-family:Menlo,'DejaVu Sans Mono',consolas,'Courier New',monospace\">param<span style=\"font-weight: bold\">[</span><span style=\"color: #008000; text-decoration-color: #008000\">'nsteps'</span><span style=\"font-weight: bold\">]</span>=<span style=\"color: #008080; text-decoration-color: #008080; font-weight: bold\">6</span> param<span style=\"font-weight: bold\">[</span><span style=\"color: #008000; text-decoration-color: #008000\">'aexp'</span><span style=\"font-weight: bold\">]</span>=<span style=\"color: #008080; text-decoration-color: #008080; font-weight: bold\">0.06813696155365691</span> z = <span style=\"color: #008080; text-decoration-color: #008080; font-weight: bold\">13.676322178125215</span>                                         \n",
       "</pre>\n"
      ],
      "text/plain": [
       "param\u001b[1m[\u001b[0m\u001b[32m'nsteps'\u001b[0m\u001b[1m]\u001b[0m=\u001b[1;36m6\u001b[0m param\u001b[1m[\u001b[0m\u001b[32m'aexp'\u001b[0m\u001b[1m]\u001b[0m=\u001b[1;36m0.06813696155365691\u001b[0m z = \u001b[1;36m13.676322178125215\u001b[0m                                         \n"
      ]
     },
     "metadata": {},
     "output_type": "display_data"
    },
    {
     "data": {
      "text/html": [
       "<pre style=\"white-space:pre;overflow-x:auto;line-height:normal;font-family:Menlo,'DejaVu Sans Mono',consolas,'Courier New',monospace\">Write <span style=\"color: #800080; text-decoration-color: #800080; font-weight: bold\">P</span><span style=\"font-weight: bold\">(</span>k<span style=\"font-weight: bold\">)</span> in .<span style=\"color: #800080; text-decoration-color: #800080\">/t4//power/</span><span style=\"color: #ff00ff; text-decoration-color: #ff00ff\">pk_newton_multigrid_ncoarse7_00007.dat</span>                                                   \n",
       "</pre>\n"
      ],
      "text/plain": [
       "Write \u001b[1;35mP\u001b[0m\u001b[1m(\u001b[0mk\u001b[1m)\u001b[0m in .\u001b[35m/t4/\u001b[0m\u001b[35m/power/\u001b[0m\u001b[95mpk_newton_multigrid_ncoarse7_00007.dat\u001b[0m                                                   \n"
      ]
     },
     "metadata": {},
     "output_type": "display_data"
    },
    {
     "data": {
      "text/html": [
       "<pre style=\"white-space:pre;overflow-x:auto;line-height:normal;font-family:Menlo,'DejaVu Sans Mono',consolas,'Courier New',monospace\">param<span style=\"font-weight: bold\">[</span><span style=\"color: #008000; text-decoration-color: #008000\">'nsteps'</span><span style=\"font-weight: bold\">]</span>=<span style=\"color: #008080; text-decoration-color: #008080; font-weight: bold\">7</span> param<span style=\"font-weight: bold\">[</span><span style=\"color: #008000; text-decoration-color: #008000\">'aexp'</span><span style=\"font-weight: bold\">]</span>=<span style=\"color: #008080; text-decoration-color: #008080; font-weight: bold\">0.07495065783738207</span> z = <span style=\"color: #008080; text-decoration-color: #008080; font-weight: bold\">12.342111048173406</span>                                         \n",
       "</pre>\n"
      ],
      "text/plain": [
       "param\u001b[1m[\u001b[0m\u001b[32m'nsteps'\u001b[0m\u001b[1m]\u001b[0m=\u001b[1;36m7\u001b[0m param\u001b[1m[\u001b[0m\u001b[32m'aexp'\u001b[0m\u001b[1m]\u001b[0m=\u001b[1;36m0.07495065783738207\u001b[0m z = \u001b[1;36m12.342111048173406\u001b[0m                                         \n"
      ]
     },
     "metadata": {},
     "output_type": "display_data"
    },
    {
     "data": {
      "text/html": [
       "<pre style=\"white-space:pre;overflow-x:auto;line-height:normal;font-family:Menlo,'DejaVu Sans Mono',consolas,'Courier New',monospace\">Write <span style=\"color: #800080; text-decoration-color: #800080; font-weight: bold\">P</span><span style=\"font-weight: bold\">(</span>k<span style=\"font-weight: bold\">)</span> in .<span style=\"color: #800080; text-decoration-color: #800080\">/t4//power/</span><span style=\"color: #ff00ff; text-decoration-color: #ff00ff\">pk_newton_multigrid_ncoarse7_00008.dat</span>                                                   \n",
       "</pre>\n"
      ],
      "text/plain": [
       "Write \u001b[1;35mP\u001b[0m\u001b[1m(\u001b[0mk\u001b[1m)\u001b[0m in .\u001b[35m/t4/\u001b[0m\u001b[35m/power/\u001b[0m\u001b[95mpk_newton_multigrid_ncoarse7_00008.dat\u001b[0m                                                   \n"
      ]
     },
     "metadata": {},
     "output_type": "display_data"
    },
    {
     "data": {
      "text/html": [
       "<pre style=\"white-space:pre;overflow-x:auto;line-height:normal;font-family:Menlo,'DejaVu Sans Mono',consolas,'Courier New',monospace\">param<span style=\"font-weight: bold\">[</span><span style=\"color: #008000; text-decoration-color: #008000\">'nsteps'</span><span style=\"font-weight: bold\">]</span>=<span style=\"color: #008080; text-decoration-color: #008080; font-weight: bold\">8</span> param<span style=\"font-weight: bold\">[</span><span style=\"color: #008000; text-decoration-color: #008000\">'aexp'</span><span style=\"font-weight: bold\">]</span>=<span style=\"color: #008080; text-decoration-color: #008080; font-weight: bold\">0.08244572387136562</span> z = <span style=\"color: #008080; text-decoration-color: #008080; font-weight: bold\">11.129191825160406</span>                                         \n",
       "</pre>\n"
      ],
      "text/plain": [
       "param\u001b[1m[\u001b[0m\u001b[32m'nsteps'\u001b[0m\u001b[1m]\u001b[0m=\u001b[1;36m8\u001b[0m param\u001b[1m[\u001b[0m\u001b[32m'aexp'\u001b[0m\u001b[1m]\u001b[0m=\u001b[1;36m0.08244572387136562\u001b[0m z = \u001b[1;36m11.129191825160406\u001b[0m                                         \n"
      ]
     },
     "metadata": {},
     "output_type": "display_data"
    },
    {
     "data": {
      "text/html": [
       "<pre style=\"white-space:pre;overflow-x:auto;line-height:normal;font-family:Menlo,'DejaVu Sans Mono',consolas,'Courier New',monospace\">Write <span style=\"color: #800080; text-decoration-color: #800080; font-weight: bold\">P</span><span style=\"font-weight: bold\">(</span>k<span style=\"font-weight: bold\">)</span> in .<span style=\"color: #800080; text-decoration-color: #800080\">/t4//power/</span><span style=\"color: #ff00ff; text-decoration-color: #ff00ff\">pk_newton_multigrid_ncoarse7_00009.dat</span>                                                   \n",
       "</pre>\n"
      ],
      "text/plain": [
       "Write \u001b[1;35mP\u001b[0m\u001b[1m(\u001b[0mk\u001b[1m)\u001b[0m in .\u001b[35m/t4/\u001b[0m\u001b[35m/power/\u001b[0m\u001b[95mpk_newton_multigrid_ncoarse7_00009.dat\u001b[0m                                                   \n"
      ]
     },
     "metadata": {},
     "output_type": "display_data"
    },
    {
     "data": {
      "text/html": [
       "<pre style=\"white-space:pre;overflow-x:auto;line-height:normal;font-family:Menlo,'DejaVu Sans Mono',consolas,'Courier New',monospace\">param<span style=\"font-weight: bold\">[</span><span style=\"color: #008000; text-decoration-color: #008000\">'nsteps'</span><span style=\"font-weight: bold\">]</span>=<span style=\"color: #008080; text-decoration-color: #008080; font-weight: bold\">9</span> param<span style=\"font-weight: bold\">[</span><span style=\"color: #008000; text-decoration-color: #008000\">'aexp'</span><span style=\"font-weight: bold\">]</span>=<span style=\"color: #008080; text-decoration-color: #008080; font-weight: bold\">0.0906902960853557</span> z = <span style=\"color: #008080; text-decoration-color: #008080; font-weight: bold\">10.026538043925031</span>                                          \n",
       "</pre>\n"
      ],
      "text/plain": [
       "param\u001b[1m[\u001b[0m\u001b[32m'nsteps'\u001b[0m\u001b[1m]\u001b[0m=\u001b[1;36m9\u001b[0m param\u001b[1m[\u001b[0m\u001b[32m'aexp'\u001b[0m\u001b[1m]\u001b[0m=\u001b[1;36m0.0906902960853557\u001b[0m z = \u001b[1;36m10.026538043925031\u001b[0m                                          \n"
      ]
     },
     "metadata": {},
     "output_type": "display_data"
    },
    {
     "data": {
      "text/html": [
       "<pre style=\"white-space:pre;overflow-x:auto;line-height:normal;font-family:Menlo,'DejaVu Sans Mono',consolas,'Courier New',monospace\">Write <span style=\"color: #800080; text-decoration-color: #800080; font-weight: bold\">P</span><span style=\"font-weight: bold\">(</span>k<span style=\"font-weight: bold\">)</span> in .<span style=\"color: #800080; text-decoration-color: #800080\">/t4//power/</span><span style=\"color: #ff00ff; text-decoration-color: #ff00ff\">pk_newton_multigrid_ncoarse7_00010.dat</span>                                                   \n",
       "</pre>\n"
      ],
      "text/plain": [
       "Write \u001b[1;35mP\u001b[0m\u001b[1m(\u001b[0mk\u001b[1m)\u001b[0m in .\u001b[35m/t4/\u001b[0m\u001b[35m/power/\u001b[0m\u001b[95mpk_newton_multigrid_ncoarse7_00010.dat\u001b[0m                                                   \n"
      ]
     },
     "metadata": {},
     "output_type": "display_data"
    },
    {
     "data": {
      "text/html": [
       "<pre style=\"white-space:pre;overflow-x:auto;line-height:normal;font-family:Menlo,'DejaVu Sans Mono',consolas,'Courier New',monospace\">Snapshot written at <span style=\"color: #808000; text-decoration-color: #808000\">...</span><span style=\"color: #808000; text-decoration-color: #808000\">filename</span>=<span style=\"color: #008000; text-decoration-color: #008000\">'./t4//output_00001/particles_newton_multigrid_ncoarse7.h5'</span>                        \n",
       "param<span style=\"font-weight: bold\">[</span><span style=\"color: #008000; text-decoration-color: #008000\">'aexp'</span><span style=\"font-weight: bold\">]</span>=<span style=\"color: #008080; text-decoration-color: #008080; font-weight: bold\">0.0909090909090909</span>                                                                                   \n",
       "</pre>\n"
      ],
      "text/plain": [
       "Snapshot written at \u001b[33m...\u001b[0m\u001b[33mfilename\u001b[0m=\u001b[32m'./t4//output_00001/particles_newton_multigrid_ncoarse7.h5'\u001b[0m                        \n",
       "param\u001b[1m[\u001b[0m\u001b[32m'aexp'\u001b[0m\u001b[1m]\u001b[0m=\u001b[1;36m0.0909090909090909\u001b[0m                                                                                   \n"
      ]
     },
     "metadata": {},
     "output_type": "display_data"
    },
    {
     "data": {
      "text/html": [
       "<pre style=\"white-space:pre;overflow-x:auto;line-height:normal;font-family:Menlo,'DejaVu Sans Mono',consolas,'Courier New',monospace\">param<span style=\"font-weight: bold\">[</span><span style=\"color: #008000; text-decoration-color: #008000\">'nsteps'</span><span style=\"font-weight: bold\">]</span>=<span style=\"color: #008080; text-decoration-color: #008080; font-weight: bold\">10</span> param<span style=\"font-weight: bold\">[</span><span style=\"color: #008000; text-decoration-color: #008000\">'aexp'</span><span style=\"font-weight: bold\">]</span>=<span style=\"color: #008080; text-decoration-color: #008080; font-weight: bold\">0.0909090909090909</span> z = <span style=\"color: #008080; text-decoration-color: #008080; font-weight: bold\">10.000000000000002</span>                                         \n",
       "</pre>\n"
      ],
      "text/plain": [
       "param\u001b[1m[\u001b[0m\u001b[32m'nsteps'\u001b[0m\u001b[1m]\u001b[0m=\u001b[1;36m10\u001b[0m param\u001b[1m[\u001b[0m\u001b[32m'aexp'\u001b[0m\u001b[1m]\u001b[0m=\u001b[1;36m0.0909090909090909\u001b[0m z = \u001b[1;36m10.000000000000002\u001b[0m                                         \n"
      ]
     },
     "metadata": {},
     "output_type": "display_data"
    },
    {
     "data": {
      "text/html": [
       "<pre style=\"white-space:pre;overflow-x:auto;line-height:normal;font-family:Menlo,'DejaVu Sans Mono',consolas,'Courier New',monospace\">Write <span style=\"color: #800080; text-decoration-color: #800080; font-weight: bold\">P</span><span style=\"font-weight: bold\">(</span>k<span style=\"font-weight: bold\">)</span> in .<span style=\"color: #800080; text-decoration-color: #800080\">/t4//power/</span><span style=\"color: #ff00ff; text-decoration-color: #ff00ff\">pk_newton_multigrid_ncoarse7_00011.dat</span>                                                   \n",
       "</pre>\n"
      ],
      "text/plain": [
       "Write \u001b[1;35mP\u001b[0m\u001b[1m(\u001b[0mk\u001b[1m)\u001b[0m in .\u001b[35m/t4/\u001b[0m\u001b[35m/power/\u001b[0m\u001b[95mpk_newton_multigrid_ncoarse7_00011.dat\u001b[0m                                                   \n"
      ]
     },
     "metadata": {},
     "output_type": "display_data"
    },
    {
     "data": {
      "text/html": [
       "<pre style=\"white-space:pre;overflow-x:auto;line-height:normal;font-family:Menlo,'DejaVu Sans Mono',consolas,'Courier New',monospace\">param<span style=\"font-weight: bold\">[</span><span style=\"color: #008000; text-decoration-color: #008000\">'nsteps'</span><span style=\"font-weight: bold\">]</span>=<span style=\"color: #008080; text-decoration-color: #008080; font-weight: bold\">11</span> param<span style=\"font-weight: bold\">[</span><span style=\"color: #008000; text-decoration-color: #008000\">'aexp'</span><span style=\"font-weight: bold\">]</span>=<span style=\"color: #008080; text-decoration-color: #008080; font-weight: bold\">0.09999999981782201</span> z = <span style=\"color: #008080; text-decoration-color: #008080; font-weight: bold\">9.000000018217799</span>                                         \n",
       "</pre>\n"
      ],
      "text/plain": [
       "param\u001b[1m[\u001b[0m\u001b[32m'nsteps'\u001b[0m\u001b[1m]\u001b[0m=\u001b[1;36m11\u001b[0m param\u001b[1m[\u001b[0m\u001b[32m'aexp'\u001b[0m\u001b[1m]\u001b[0m=\u001b[1;36m0.09999999981782201\u001b[0m z = \u001b[1;36m9.000000018217799\u001b[0m                                         \n"
      ]
     },
     "metadata": {},
     "output_type": "display_data"
    },
    {
     "data": {
      "text/html": [
       "<pre style=\"white-space:pre;overflow-x:auto;line-height:normal;font-family:Menlo,'DejaVu Sans Mono',consolas,'Courier New',monospace\">Write <span style=\"color: #800080; text-decoration-color: #800080; font-weight: bold\">P</span><span style=\"font-weight: bold\">(</span>k<span style=\"font-weight: bold\">)</span> in .<span style=\"color: #800080; text-decoration-color: #800080\">/t4//power/</span><span style=\"color: #ff00ff; text-decoration-color: #ff00ff\">pk_newton_multigrid_ncoarse7_00012.dat</span>                                                   \n",
       "</pre>\n"
      ],
      "text/plain": [
       "Write \u001b[1;35mP\u001b[0m\u001b[1m(\u001b[0mk\u001b[1m)\u001b[0m in .\u001b[35m/t4/\u001b[0m\u001b[35m/power/\u001b[0m\u001b[95mpk_newton_multigrid_ncoarse7_00012.dat\u001b[0m                                                   \n"
      ]
     },
     "metadata": {},
     "output_type": "display_data"
    },
    {
     "data": {
      "text/html": [
       "<pre style=\"white-space:pre;overflow-x:auto;line-height:normal;font-family:Menlo,'DejaVu Sans Mono',consolas,'Courier New',monospace\">param<span style=\"font-weight: bold\">[</span><span style=\"color: #008000; text-decoration-color: #008000\">'nsteps'</span><span style=\"font-weight: bold\">]</span>=<span style=\"color: #008080; text-decoration-color: #008080; font-weight: bold\">12</span> param<span style=\"font-weight: bold\">[</span><span style=\"color: #008000; text-decoration-color: #008000\">'aexp'</span><span style=\"font-weight: bold\">]</span>=<span style=\"color: #008080; text-decoration-color: #008080; font-weight: bold\">0.110000000312608</span> z = <span style=\"color: #008080; text-decoration-color: #008080; font-weight: bold\">8.090909065073719</span>                                           \n",
       "</pre>\n"
      ],
      "text/plain": [
       "param\u001b[1m[\u001b[0m\u001b[32m'nsteps'\u001b[0m\u001b[1m]\u001b[0m=\u001b[1;36m12\u001b[0m param\u001b[1m[\u001b[0m\u001b[32m'aexp'\u001b[0m\u001b[1m]\u001b[0m=\u001b[1;36m0.110000000312608\u001b[0m z = \u001b[1;36m8.090909065073719\u001b[0m                                           \n"
      ]
     },
     "metadata": {},
     "output_type": "display_data"
    },
    {
     "data": {
      "text/html": [
       "<pre style=\"white-space:pre;overflow-x:auto;line-height:normal;font-family:Menlo,'DejaVu Sans Mono',consolas,'Courier New',monospace\">Write <span style=\"color: #800080; text-decoration-color: #800080; font-weight: bold\">P</span><span style=\"font-weight: bold\">(</span>k<span style=\"font-weight: bold\">)</span> in .<span style=\"color: #800080; text-decoration-color: #800080\">/t4//power/</span><span style=\"color: #ff00ff; text-decoration-color: #ff00ff\">pk_newton_multigrid_ncoarse7_00013.dat</span>                                                   \n",
       "</pre>\n"
      ],
      "text/plain": [
       "Write \u001b[1;35mP\u001b[0m\u001b[1m(\u001b[0mk\u001b[1m)\u001b[0m in .\u001b[35m/t4/\u001b[0m\u001b[35m/power/\u001b[0m\u001b[95mpk_newton_multigrid_ncoarse7_00013.dat\u001b[0m                                                   \n"
      ]
     },
     "metadata": {},
     "output_type": "display_data"
    },
    {
     "data": {
      "text/html": [
       "<pre style=\"white-space:pre;overflow-x:auto;line-height:normal;font-family:Menlo,'DejaVu Sans Mono',consolas,'Courier New',monospace\">Snapshot written at <span style=\"color: #808000; text-decoration-color: #808000\">...</span><span style=\"color: #808000; text-decoration-color: #808000\">filename</span>=<span style=\"color: #008000; text-decoration-color: #008000\">'./t4//output_00002/particles_newton_multigrid_ncoarse7.h5'</span>                        \n",
       "param<span style=\"font-weight: bold\">[</span><span style=\"color: #008000; text-decoration-color: #008000\">'aexp'</span><span style=\"font-weight: bold\">]</span>=<span style=\"color: #008080; text-decoration-color: #008080; font-weight: bold\">0.11111111111111109</span>                                                                                  \n",
       "</pre>\n"
      ],
      "text/plain": [
       "Snapshot written at \u001b[33m...\u001b[0m\u001b[33mfilename\u001b[0m=\u001b[32m'./t4//output_00002/particles_newton_multigrid_ncoarse7.h5'\u001b[0m                        \n",
       "param\u001b[1m[\u001b[0m\u001b[32m'aexp'\u001b[0m\u001b[1m]\u001b[0m=\u001b[1;36m0.11111111111111109\u001b[0m                                                                                  \n"
      ]
     },
     "metadata": {},
     "output_type": "display_data"
    },
    {
     "data": {
      "text/html": [
       "<pre style=\"white-space:pre;overflow-x:auto;line-height:normal;font-family:Menlo,'DejaVu Sans Mono',consolas,'Courier New',monospace\">param<span style=\"font-weight: bold\">[</span><span style=\"color: #008000; text-decoration-color: #008000\">'nsteps'</span><span style=\"font-weight: bold\">]</span>=<span style=\"color: #008080; text-decoration-color: #008080; font-weight: bold\">13</span> param<span style=\"font-weight: bold\">[</span><span style=\"color: #008000; text-decoration-color: #008000\">'aexp'</span><span style=\"font-weight: bold\">]</span>=<span style=\"color: #008080; text-decoration-color: #008080; font-weight: bold\">0.11111111111111109</span> z = <span style=\"color: #008080; text-decoration-color: #008080; font-weight: bold\">8.000000000000002</span>                                         \n",
       "</pre>\n"
      ],
      "text/plain": [
       "param\u001b[1m[\u001b[0m\u001b[32m'nsteps'\u001b[0m\u001b[1m]\u001b[0m=\u001b[1;36m13\u001b[0m param\u001b[1m[\u001b[0m\u001b[32m'aexp'\u001b[0m\u001b[1m]\u001b[0m=\u001b[1;36m0.11111111111111109\u001b[0m z = \u001b[1;36m8.000000000000002\u001b[0m                                         \n"
      ]
     },
     "metadata": {},
     "output_type": "display_data"
    },
    {
     "data": {
      "text/html": [
       "<pre style=\"white-space:pre;overflow-x:auto;line-height:normal;font-family:Menlo,'DejaVu Sans Mono',consolas,'Courier New',monospace\">Write <span style=\"color: #800080; text-decoration-color: #800080; font-weight: bold\">P</span><span style=\"font-weight: bold\">(</span>k<span style=\"font-weight: bold\">)</span> in .<span style=\"color: #800080; text-decoration-color: #800080\">/t4//power/</span><span style=\"color: #ff00ff; text-decoration-color: #ff00ff\">pk_newton_multigrid_ncoarse7_00014.dat</span>                                                   \n",
       "</pre>\n"
      ],
      "text/plain": [
       "Write \u001b[1;35mP\u001b[0m\u001b[1m(\u001b[0mk\u001b[1m)\u001b[0m in .\u001b[35m/t4/\u001b[0m\u001b[35m/power/\u001b[0m\u001b[95mpk_newton_multigrid_ncoarse7_00014.dat\u001b[0m                                                   \n"
      ]
     },
     "metadata": {},
     "output_type": "display_data"
    },
    {
     "data": {
      "text/html": [
       "<pre style=\"white-space:pre;overflow-x:auto;line-height:normal;font-family:Menlo,'DejaVu Sans Mono',consolas,'Courier New',monospace\">param<span style=\"font-weight: bold\">[</span><span style=\"color: #008000; text-decoration-color: #008000\">'nsteps'</span><span style=\"font-weight: bold\">]</span>=<span style=\"color: #008080; text-decoration-color: #008080; font-weight: bold\">14</span> param<span style=\"font-weight: bold\">[</span><span style=\"color: #008000; text-decoration-color: #008000\">'aexp'</span><span style=\"font-weight: bold\">]</span>=<span style=\"color: #008080; text-decoration-color: #008080; font-weight: bold\">0.12222222282153047</span> z = <span style=\"color: #008080; text-decoration-color: #008080; font-weight: bold\">7.1818181416992</span>                                           \n",
       "</pre>\n"
      ],
      "text/plain": [
       "param\u001b[1m[\u001b[0m\u001b[32m'nsteps'\u001b[0m\u001b[1m]\u001b[0m=\u001b[1;36m14\u001b[0m param\u001b[1m[\u001b[0m\u001b[32m'aexp'\u001b[0m\u001b[1m]\u001b[0m=\u001b[1;36m0.12222222282153047\u001b[0m z = \u001b[1;36m7.1818181416992\u001b[0m                                           \n"
      ]
     },
     "metadata": {},
     "output_type": "display_data"
    },
    {
     "data": {
      "text/html": [
       "<pre style=\"white-space:pre;overflow-x:auto;line-height:normal;font-family:Menlo,'DejaVu Sans Mono',consolas,'Courier New',monospace\">Write <span style=\"color: #800080; text-decoration-color: #800080; font-weight: bold\">P</span><span style=\"font-weight: bold\">(</span>k<span style=\"font-weight: bold\">)</span> in .<span style=\"color: #800080; text-decoration-color: #800080\">/t4//power/</span><span style=\"color: #ff00ff; text-decoration-color: #ff00ff\">pk_newton_multigrid_ncoarse7_00015.dat</span>                                                   \n",
       "</pre>\n"
      ],
      "text/plain": [
       "Write \u001b[1;35mP\u001b[0m\u001b[1m(\u001b[0mk\u001b[1m)\u001b[0m in .\u001b[35m/t4/\u001b[0m\u001b[35m/power/\u001b[0m\u001b[95mpk_newton_multigrid_ncoarse7_00015.dat\u001b[0m                                                   \n"
      ]
     },
     "metadata": {},
     "output_type": "display_data"
    },
    {
     "data": {
      "text/html": [
       "<pre style=\"white-space:pre;overflow-x:auto;line-height:normal;font-family:Menlo,'DejaVu Sans Mono',consolas,'Courier New',monospace\">param<span style=\"font-weight: bold\">[</span><span style=\"color: #008000; text-decoration-color: #008000\">'nsteps'</span><span style=\"font-weight: bold\">]</span>=<span style=\"color: #008080; text-decoration-color: #008080; font-weight: bold\">15</span> param<span style=\"font-weight: bold\">[</span><span style=\"color: #008000; text-decoration-color: #008000\">'aexp'</span><span style=\"font-weight: bold\">]</span>=<span style=\"color: #008080; text-decoration-color: #008080; font-weight: bold\">0.13444444578624504</span> z = <span style=\"color: #008080; text-decoration-color: #008080; font-weight: bold\">6.438016454691724</span>                                         \n",
       "</pre>\n"
      ],
      "text/plain": [
       "param\u001b[1m[\u001b[0m\u001b[32m'nsteps'\u001b[0m\u001b[1m]\u001b[0m=\u001b[1;36m15\u001b[0m param\u001b[1m[\u001b[0m\u001b[32m'aexp'\u001b[0m\u001b[1m]\u001b[0m=\u001b[1;36m0.13444444578624504\u001b[0m z = \u001b[1;36m6.438016454691724\u001b[0m                                         \n"
      ]
     },
     "metadata": {},
     "output_type": "display_data"
    },
    {
     "data": {
      "text/html": [
       "<pre style=\"white-space:pre;overflow-x:auto;line-height:normal;font-family:Menlo,'DejaVu Sans Mono',consolas,'Courier New',monospace\">Write <span style=\"color: #800080; text-decoration-color: #800080; font-weight: bold\">P</span><span style=\"font-weight: bold\">(</span>k<span style=\"font-weight: bold\">)</span> in .<span style=\"color: #800080; text-decoration-color: #800080\">/t4//power/</span><span style=\"color: #ff00ff; text-decoration-color: #ff00ff\">pk_newton_multigrid_ncoarse7_00016.dat</span>                                                   \n",
       "</pre>\n"
      ],
      "text/plain": [
       "Write \u001b[1;35mP\u001b[0m\u001b[1m(\u001b[0mk\u001b[1m)\u001b[0m in .\u001b[35m/t4/\u001b[0m\u001b[35m/power/\u001b[0m\u001b[95mpk_newton_multigrid_ncoarse7_00016.dat\u001b[0m                                                   \n"
      ]
     },
     "metadata": {},
     "output_type": "display_data"
    },
    {
     "data": {
      "text/html": [
       "<pre style=\"white-space:pre;overflow-x:auto;line-height:normal;font-family:Menlo,'DejaVu Sans Mono',consolas,'Courier New',monospace\">param<span style=\"font-weight: bold\">[</span><span style=\"color: #008000; text-decoration-color: #008000\">'nsteps'</span><span style=\"font-weight: bold\">]</span>=<span style=\"color: #008080; text-decoration-color: #008080; font-weight: bold\">16</span> param<span style=\"font-weight: bold\">[</span><span style=\"color: #008000; text-decoration-color: #008000\">'aexp'</span><span style=\"font-weight: bold\">]</span>=<span style=\"color: #008080; text-decoration-color: #008080; font-weight: bold\">0.14788889017869028</span> z = <span style=\"color: #008080; text-decoration-color: #008080; font-weight: bold\">5.7618331491414</span>                                           \n",
       "</pre>\n"
      ],
      "text/plain": [
       "param\u001b[1m[\u001b[0m\u001b[32m'nsteps'\u001b[0m\u001b[1m]\u001b[0m=\u001b[1;36m16\u001b[0m param\u001b[1m[\u001b[0m\u001b[32m'aexp'\u001b[0m\u001b[1m]\u001b[0m=\u001b[1;36m0.14788889017869028\u001b[0m z = \u001b[1;36m5.7618331491414\u001b[0m                                           \n"
      ]
     },
     "metadata": {},
     "output_type": "display_data"
    },
    {
     "data": {
      "text/html": [
       "<pre style=\"white-space:pre;overflow-x:auto;line-height:normal;font-family:Menlo,'DejaVu Sans Mono',consolas,'Courier New',monospace\">Write <span style=\"color: #800080; text-decoration-color: #800080; font-weight: bold\">P</span><span style=\"font-weight: bold\">(</span>k<span style=\"font-weight: bold\">)</span> in .<span style=\"color: #800080; text-decoration-color: #800080\">/t4//power/</span><span style=\"color: #ff00ff; text-decoration-color: #ff00ff\">pk_newton_multigrid_ncoarse7_00017.dat</span>                                                   \n",
       "</pre>\n"
      ],
      "text/plain": [
       "Write \u001b[1;35mP\u001b[0m\u001b[1m(\u001b[0mk\u001b[1m)\u001b[0m in .\u001b[35m/t4/\u001b[0m\u001b[35m/power/\u001b[0m\u001b[95mpk_newton_multigrid_ncoarse7_00017.dat\u001b[0m                                                   \n"
      ]
     },
     "metadata": {},
     "output_type": "display_data"
    },
    {
     "data": {
      "text/html": [
       "<pre style=\"white-space:pre;overflow-x:auto;line-height:normal;font-family:Menlo,'DejaVu Sans Mono',consolas,'Courier New',monospace\">param<span style=\"font-weight: bold\">[</span><span style=\"color: #008000; text-decoration-color: #008000\">'nsteps'</span><span style=\"font-weight: bold\">]</span>=<span style=\"color: #008080; text-decoration-color: #008080; font-weight: bold\">17</span> param<span style=\"font-weight: bold\">[</span><span style=\"color: #008000; text-decoration-color: #008000\">'aexp'</span><span style=\"font-weight: bold\">]</span>=<span style=\"color: #008080; text-decoration-color: #008080; font-weight: bold\">0.162677778971108</span> z = <span style=\"color: #008080; text-decoration-color: #008080; font-weight: bold\">5.147121053193151</span>                                           \n",
       "</pre>\n"
      ],
      "text/plain": [
       "param\u001b[1m[\u001b[0m\u001b[32m'nsteps'\u001b[0m\u001b[1m]\u001b[0m=\u001b[1;36m17\u001b[0m param\u001b[1m[\u001b[0m\u001b[32m'aexp'\u001b[0m\u001b[1m]\u001b[0m=\u001b[1;36m0.162677778971108\u001b[0m z = \u001b[1;36m5.147121053193151\u001b[0m                                           \n"
      ]
     },
     "metadata": {},
     "output_type": "display_data"
    },
    {
     "data": {
      "text/html": [
       "<pre style=\"white-space:pre;overflow-x:auto;line-height:normal;font-family:Menlo,'DejaVu Sans Mono',consolas,'Courier New',monospace\">Write <span style=\"color: #800080; text-decoration-color: #800080; font-weight: bold\">P</span><span style=\"font-weight: bold\">(</span>k<span style=\"font-weight: bold\">)</span> in .<span style=\"color: #800080; text-decoration-color: #800080\">/t4//power/</span><span style=\"color: #ff00ff; text-decoration-color: #ff00ff\">pk_newton_multigrid_ncoarse7_00018.dat</span>                                                   \n",
       "</pre>\n"
      ],
      "text/plain": [
       "Write \u001b[1;35mP\u001b[0m\u001b[1m(\u001b[0mk\u001b[1m)\u001b[0m in .\u001b[35m/t4/\u001b[0m\u001b[35m/power/\u001b[0m\u001b[95mpk_newton_multigrid_ncoarse7_00018.dat\u001b[0m                                                   \n"
      ]
     },
     "metadata": {},
     "output_type": "display_data"
    },
    {
     "data": {
      "text/html": [
       "<pre style=\"white-space:pre;overflow-x:auto;line-height:normal;font-family:Menlo,'DejaVu Sans Mono',consolas,'Courier New',monospace\">Snapshot written at <span style=\"color: #808000; text-decoration-color: #808000\">...</span><span style=\"color: #808000; text-decoration-color: #808000\">filename</span>=<span style=\"color: #008000; text-decoration-color: #008000\">'./t4//output_00003/particles_newton_multigrid_ncoarse7.h5'</span>                        \n",
       "param<span style=\"font-weight: bold\">[</span><span style=\"color: #008000; text-decoration-color: #008000\">'aexp'</span><span style=\"font-weight: bold\">]</span>=<span style=\"color: #008080; text-decoration-color: #008080; font-weight: bold\">0.16666666666666669</span>                                                                                  \n",
       "</pre>\n"
      ],
      "text/plain": [
       "Snapshot written at \u001b[33m...\u001b[0m\u001b[33mfilename\u001b[0m=\u001b[32m'./t4//output_00003/particles_newton_multigrid_ncoarse7.h5'\u001b[0m                        \n",
       "param\u001b[1m[\u001b[0m\u001b[32m'aexp'\u001b[0m\u001b[1m]\u001b[0m=\u001b[1;36m0.16666666666666669\u001b[0m                                                                                  \n"
      ]
     },
     "metadata": {},
     "output_type": "display_data"
    },
    {
     "data": {
      "text/html": [
       "<pre style=\"white-space:pre;overflow-x:auto;line-height:normal;font-family:Menlo,'DejaVu Sans Mono',consolas,'Courier New',monospace\">param<span style=\"font-weight: bold\">[</span><span style=\"color: #008000; text-decoration-color: #008000\">'nsteps'</span><span style=\"font-weight: bold\">]</span>=<span style=\"color: #008080; text-decoration-color: #008080; font-weight: bold\">18</span> param<span style=\"font-weight: bold\">[</span><span style=\"color: #008000; text-decoration-color: #008000\">'aexp'</span><span style=\"font-weight: bold\">]</span>=<span style=\"color: #008080; text-decoration-color: #008080; font-weight: bold\">0.16666666666666669</span> z = <span style=\"color: #008080; text-decoration-color: #008080; font-weight: bold\">4.999999999999999</span>                                         \n",
       "</pre>\n"
      ],
      "text/plain": [
       "param\u001b[1m[\u001b[0m\u001b[32m'nsteps'\u001b[0m\u001b[1m]\u001b[0m=\u001b[1;36m18\u001b[0m param\u001b[1m[\u001b[0m\u001b[32m'aexp'\u001b[0m\u001b[1m]\u001b[0m=\u001b[1;36m0.16666666666666669\u001b[0m z = \u001b[1;36m4.999999999999999\u001b[0m                                         \n"
      ]
     },
     "metadata": {},
     "output_type": "display_data"
    },
    {
     "data": {
      "text/html": [
       "<pre style=\"white-space:pre;overflow-x:auto;line-height:normal;font-family:Menlo,'DejaVu Sans Mono',consolas,'Courier New',monospace\">Write <span style=\"color: #800080; text-decoration-color: #800080; font-weight: bold\">P</span><span style=\"font-weight: bold\">(</span>k<span style=\"font-weight: bold\">)</span> in .<span style=\"color: #800080; text-decoration-color: #800080\">/t4//power/</span><span style=\"color: #ff00ff; text-decoration-color: #ff00ff\">pk_newton_multigrid_ncoarse7_00019.dat</span>                                                   \n",
       "</pre>\n"
      ],
      "text/plain": [
       "Write \u001b[1;35mP\u001b[0m\u001b[1m(\u001b[0mk\u001b[1m)\u001b[0m in .\u001b[35m/t4/\u001b[0m\u001b[35m/power/\u001b[0m\u001b[95mpk_newton_multigrid_ncoarse7_00019.dat\u001b[0m                                                   \n"
      ]
     },
     "metadata": {},
     "output_type": "display_data"
    },
    {
     "data": {
      "text/html": [
       "<pre style=\"white-space:pre;overflow-x:auto;line-height:normal;font-family:Menlo,'DejaVu Sans Mono',consolas,'Courier New',monospace\">param<span style=\"font-weight: bold\">[</span><span style=\"color: #008000; text-decoration-color: #008000\">'nsteps'</span><span style=\"font-weight: bold\">]</span>=<span style=\"color: #008080; text-decoration-color: #008080; font-weight: bold\">19</span> param<span style=\"font-weight: bold\">[</span><span style=\"color: #008000; text-decoration-color: #008000\">'aexp'</span><span style=\"font-weight: bold\">]</span>=<span style=\"color: #008080; text-decoration-color: #008080; font-weight: bold\">0.18333333390952433</span> z = <span style=\"color: #008080; text-decoration-color: #008080; font-weight: bold\">4.454545437402582</span>                                         \n",
       "</pre>\n"
      ],
      "text/plain": [
       "param\u001b[1m[\u001b[0m\u001b[32m'nsteps'\u001b[0m\u001b[1m]\u001b[0m=\u001b[1;36m19\u001b[0m param\u001b[1m[\u001b[0m\u001b[32m'aexp'\u001b[0m\u001b[1m]\u001b[0m=\u001b[1;36m0.18333333390952433\u001b[0m z = \u001b[1;36m4.454545437402582\u001b[0m                                         \n"
      ]
     },
     "metadata": {},
     "output_type": "display_data"
    },
    {
     "data": {
      "text/html": [
       "<pre style=\"white-space:pre;overflow-x:auto;line-height:normal;font-family:Menlo,'DejaVu Sans Mono',consolas,'Courier New',monospace\">Write <span style=\"color: #800080; text-decoration-color: #800080; font-weight: bold\">P</span><span style=\"font-weight: bold\">(</span>k<span style=\"font-weight: bold\">)</span> in .<span style=\"color: #800080; text-decoration-color: #800080\">/t4//power/</span><span style=\"color: #ff00ff; text-decoration-color: #ff00ff\">pk_newton_multigrid_ncoarse7_00020.dat</span>                                                   \n",
       "</pre>\n"
      ],
      "text/plain": [
       "Write \u001b[1;35mP\u001b[0m\u001b[1m(\u001b[0mk\u001b[1m)\u001b[0m in .\u001b[35m/t4/\u001b[0m\u001b[35m/power/\u001b[0m\u001b[95mpk_newton_multigrid_ncoarse7_00020.dat\u001b[0m                                                   \n"
      ]
     },
     "metadata": {},
     "output_type": "display_data"
    },
    {
     "data": {
      "text/html": [
       "<pre style=\"white-space:pre;overflow-x:auto;line-height:normal;font-family:Menlo,'DejaVu Sans Mono',consolas,'Courier New',monospace\">param<span style=\"font-weight: bold\">[</span><span style=\"color: #008000; text-decoration-color: #008000\">'nsteps'</span><span style=\"font-weight: bold\">]</span>=<span style=\"color: #008080; text-decoration-color: #008080; font-weight: bold\">20</span> param<span style=\"font-weight: bold\">[</span><span style=\"color: #008000; text-decoration-color: #008000\">'aexp'</span><span style=\"font-weight: bold\">]</span>=<span style=\"color: #008080; text-decoration-color: #008080; font-weight: bold\">0.20166666763218544</span> z = <span style=\"color: #008080; text-decoration-color: #008080; font-weight: bold\">3.9586776622097704</span>                                        \n",
       "</pre>\n"
      ],
      "text/plain": [
       "param\u001b[1m[\u001b[0m\u001b[32m'nsteps'\u001b[0m\u001b[1m]\u001b[0m=\u001b[1;36m20\u001b[0m param\u001b[1m[\u001b[0m\u001b[32m'aexp'\u001b[0m\u001b[1m]\u001b[0m=\u001b[1;36m0.20166666763218544\u001b[0m z = \u001b[1;36m3.9586776622097704\u001b[0m                                        \n"
      ]
     },
     "metadata": {},
     "output_type": "display_data"
    },
    {
     "data": {
      "text/html": [
       "<pre style=\"white-space:pre;overflow-x:auto;line-height:normal;font-family:Menlo,'DejaVu Sans Mono',consolas,'Courier New',monospace\">Write <span style=\"color: #800080; text-decoration-color: #800080; font-weight: bold\">P</span><span style=\"font-weight: bold\">(</span>k<span style=\"font-weight: bold\">)</span> in .<span style=\"color: #800080; text-decoration-color: #800080\">/t4//power/</span><span style=\"color: #ff00ff; text-decoration-color: #ff00ff\">pk_newton_multigrid_ncoarse7_00021.dat</span>                                                   \n",
       "</pre>\n"
      ],
      "text/plain": [
       "Write \u001b[1;35mP\u001b[0m\u001b[1m(\u001b[0mk\u001b[1m)\u001b[0m in .\u001b[35m/t4/\u001b[0m\u001b[35m/power/\u001b[0m\u001b[95mpk_newton_multigrid_ncoarse7_00021.dat\u001b[0m                                                   \n"
      ]
     },
     "metadata": {},
     "output_type": "display_data"
    },
    {
     "data": {
      "text/html": [
       "<pre style=\"white-space:pre;overflow-x:auto;line-height:normal;font-family:Menlo,'DejaVu Sans Mono',consolas,'Courier New',monospace\">param<span style=\"font-weight: bold\">[</span><span style=\"color: #008000; text-decoration-color: #008000\">'nsteps'</span><span style=\"font-weight: bold\">]</span>=<span style=\"color: #008080; text-decoration-color: #008080; font-weight: bold\">21</span> param<span style=\"font-weight: bold\">[</span><span style=\"color: #008000; text-decoration-color: #008000\">'aexp'</span><span style=\"font-weight: bold\">]</span>=<span style=\"color: #008080; text-decoration-color: #008080; font-weight: bold\">0.22183333383331816</span> z = <span style=\"color: #008080; text-decoration-color: #008080; font-weight: bold\">3.5078887952492446</span>                                        \n",
       "</pre>\n"
      ],
      "text/plain": [
       "param\u001b[1m[\u001b[0m\u001b[32m'nsteps'\u001b[0m\u001b[1m]\u001b[0m=\u001b[1;36m21\u001b[0m param\u001b[1m[\u001b[0m\u001b[32m'aexp'\u001b[0m\u001b[1m]\u001b[0m=\u001b[1;36m0.22183333383331816\u001b[0m z = \u001b[1;36m3.5078887952492446\u001b[0m                                        \n"
      ]
     },
     "metadata": {},
     "output_type": "display_data"
    },
    {
     "data": {
      "text/html": [
       "<pre style=\"white-space:pre;overflow-x:auto;line-height:normal;font-family:Menlo,'DejaVu Sans Mono',consolas,'Courier New',monospace\">Write <span style=\"color: #800080; text-decoration-color: #800080; font-weight: bold\">P</span><span style=\"font-weight: bold\">(</span>k<span style=\"font-weight: bold\">)</span> in .<span style=\"color: #800080; text-decoration-color: #800080\">/t4//power/</span><span style=\"color: #ff00ff; text-decoration-color: #ff00ff\">pk_newton_multigrid_ncoarse7_00022.dat</span>                                                   \n",
       "</pre>\n"
      ],
      "text/plain": [
       "Write \u001b[1;35mP\u001b[0m\u001b[1m(\u001b[0mk\u001b[1m)\u001b[0m in .\u001b[35m/t4/\u001b[0m\u001b[35m/power/\u001b[0m\u001b[95mpk_newton_multigrid_ncoarse7_00022.dat\u001b[0m                                                   \n"
      ]
     },
     "metadata": {},
     "output_type": "display_data"
    },
    {
     "data": {
      "text/html": [
       "<pre style=\"white-space:pre;overflow-x:auto;line-height:normal;font-family:Menlo,'DejaVu Sans Mono',consolas,'Courier New',monospace\">param<span style=\"font-weight: bold\">[</span><span style=\"color: #008000; text-decoration-color: #008000\">'nsteps'</span><span style=\"font-weight: bold\">]</span>=<span style=\"color: #008080; text-decoration-color: #008080; font-weight: bold\">22</span> param<span style=\"font-weight: bold\">[</span><span style=\"color: #008000; text-decoration-color: #008000\">'aexp'</span><span style=\"font-weight: bold\">]</span>=<span style=\"color: #008080; text-decoration-color: #008080; font-weight: bold\">0.24401666759818366</span> z = <span style=\"color: #008080; text-decoration-color: #008080; font-weight: bold\">3.0980807165462805</span>                                        \n",
       "</pre>\n"
      ],
      "text/plain": [
       "param\u001b[1m[\u001b[0m\u001b[32m'nsteps'\u001b[0m\u001b[1m]\u001b[0m=\u001b[1;36m22\u001b[0m param\u001b[1m[\u001b[0m\u001b[32m'aexp'\u001b[0m\u001b[1m]\u001b[0m=\u001b[1;36m0.24401666759818366\u001b[0m z = \u001b[1;36m3.0980807165462805\u001b[0m                                        \n"
      ]
     },
     "metadata": {},
     "output_type": "display_data"
    },
    {
     "data": {
      "text/html": [
       "<pre style=\"white-space:pre;overflow-x:auto;line-height:normal;font-family:Menlo,'DejaVu Sans Mono',consolas,'Courier New',monospace\">Write <span style=\"color: #800080; text-decoration-color: #800080; font-weight: bold\">P</span><span style=\"font-weight: bold\">(</span>k<span style=\"font-weight: bold\">)</span> in .<span style=\"color: #800080; text-decoration-color: #800080\">/t4//power/</span><span style=\"color: #ff00ff; text-decoration-color: #ff00ff\">pk_newton_multigrid_ncoarse7_00023.dat</span>                                                   \n",
       "</pre>\n"
      ],
      "text/plain": [
       "Write \u001b[1;35mP\u001b[0m\u001b[1m(\u001b[0mk\u001b[1m)\u001b[0m in .\u001b[35m/t4/\u001b[0m\u001b[35m/power/\u001b[0m\u001b[95mpk_newton_multigrid_ncoarse7_00023.dat\u001b[0m                                                   \n"
      ]
     },
     "metadata": {},
     "output_type": "display_data"
    },
    {
     "data": {
      "text/html": [
       "<pre style=\"white-space:pre;overflow-x:auto;line-height:normal;font-family:Menlo,'DejaVu Sans Mono',consolas,'Courier New',monospace\">param<span style=\"font-weight: bold\">[</span><span style=\"color: #008000; text-decoration-color: #008000\">'nsteps'</span><span style=\"font-weight: bold\">]</span>=<span style=\"color: #008080; text-decoration-color: #008080; font-weight: bold\">23</span> param<span style=\"font-weight: bold\">[</span><span style=\"color: #008000; text-decoration-color: #008000\">'aexp'</span><span style=\"font-weight: bold\">]</span>=<span style=\"color: #008080; text-decoration-color: #008080; font-weight: bold\">0.2684183337219493</span> z = <span style=\"color: #008080; text-decoration-color: #008080; font-weight: bold\">2.7255279329611133</span>                                         \n",
       "</pre>\n"
      ],
      "text/plain": [
       "param\u001b[1m[\u001b[0m\u001b[32m'nsteps'\u001b[0m\u001b[1m]\u001b[0m=\u001b[1;36m23\u001b[0m param\u001b[1m[\u001b[0m\u001b[32m'aexp'\u001b[0m\u001b[1m]\u001b[0m=\u001b[1;36m0.2684183337219493\u001b[0m z = \u001b[1;36m2.7255279329611133\u001b[0m                                         \n"
      ]
     },
     "metadata": {},
     "output_type": "display_data"
    },
    {
     "data": {
      "text/html": [
       "<pre style=\"white-space:pre;overflow-x:auto;line-height:normal;font-family:Menlo,'DejaVu Sans Mono',consolas,'Courier New',monospace\">Write <span style=\"color: #800080; text-decoration-color: #800080; font-weight: bold\">P</span><span style=\"font-weight: bold\">(</span>k<span style=\"font-weight: bold\">)</span> in .<span style=\"color: #800080; text-decoration-color: #800080\">/t4//power/</span><span style=\"color: #ff00ff; text-decoration-color: #ff00ff\">pk_newton_multigrid_ncoarse7_00024.dat</span>                                                   \n",
       "</pre>\n"
      ],
      "text/plain": [
       "Write \u001b[1;35mP\u001b[0m\u001b[1m(\u001b[0mk\u001b[1m)\u001b[0m in .\u001b[35m/t4/\u001b[0m\u001b[35m/power/\u001b[0m\u001b[95mpk_newton_multigrid_ncoarse7_00024.dat\u001b[0m                                                   \n"
      ]
     },
     "metadata": {},
     "output_type": "display_data"
    },
    {
     "data": {
      "text/html": [
       "<pre style=\"white-space:pre;overflow-x:auto;line-height:normal;font-family:Menlo,'DejaVu Sans Mono',consolas,'Courier New',monospace\">param<span style=\"font-weight: bold\">[</span><span style=\"color: #008000; text-decoration-color: #008000\">'nsteps'</span><span style=\"font-weight: bold\">]</span>=<span style=\"color: #008080; text-decoration-color: #008080; font-weight: bold\">24</span> param<span style=\"font-weight: bold\">[</span><span style=\"color: #008000; text-decoration-color: #008000\">'aexp'</span><span style=\"font-weight: bold\">]</span>=<span style=\"color: #008080; text-decoration-color: #008080; font-weight: bold\">0.29526016649356307</span> z = <span style=\"color: #008080; text-decoration-color: #008080; font-weight: bold\">2.386843582308286</span>                                         \n",
       "</pre>\n"
      ],
      "text/plain": [
       "param\u001b[1m[\u001b[0m\u001b[32m'nsteps'\u001b[0m\u001b[1m]\u001b[0m=\u001b[1;36m24\u001b[0m param\u001b[1m[\u001b[0m\u001b[32m'aexp'\u001b[0m\u001b[1m]\u001b[0m=\u001b[1;36m0.29526016649356307\u001b[0m z = \u001b[1;36m2.386843582308286\u001b[0m                                         \n"
      ]
     },
     "metadata": {},
     "output_type": "display_data"
    },
    {
     "data": {
      "text/html": [
       "<pre style=\"white-space:pre;overflow-x:auto;line-height:normal;font-family:Menlo,'DejaVu Sans Mono',consolas,'Courier New',monospace\">Write <span style=\"color: #800080; text-decoration-color: #800080; font-weight: bold\">P</span><span style=\"font-weight: bold\">(</span>k<span style=\"font-weight: bold\">)</span> in .<span style=\"color: #800080; text-decoration-color: #800080\">/t4//power/</span><span style=\"color: #ff00ff; text-decoration-color: #ff00ff\">pk_newton_multigrid_ncoarse7_00025.dat</span>                                                   \n",
       "</pre>\n"
      ],
      "text/plain": [
       "Write \u001b[1;35mP\u001b[0m\u001b[1m(\u001b[0mk\u001b[1m)\u001b[0m in .\u001b[35m/t4/\u001b[0m\u001b[35m/power/\u001b[0m\u001b[95mpk_newton_multigrid_ncoarse7_00025.dat\u001b[0m                                                   \n"
      ]
     },
     "metadata": {},
     "output_type": "display_data"
    },
    {
     "data": {
      "text/html": [
       "<pre style=\"white-space:pre;overflow-x:auto;line-height:normal;font-family:Menlo,'DejaVu Sans Mono',consolas,'Courier New',monospace\">param<span style=\"font-weight: bold\">[</span><span style=\"color: #008000; text-decoration-color: #008000\">'nsteps'</span><span style=\"font-weight: bold\">]</span>=<span style=\"color: #008080; text-decoration-color: #008080; font-weight: bold\">25</span> param<span style=\"font-weight: bold\">[</span><span style=\"color: #008000; text-decoration-color: #008000\">'aexp'</span><span style=\"font-weight: bold\">]</span>=<span style=\"color: #008080; text-decoration-color: #008080; font-weight: bold\">0.32354916321201294</span> z = <span style=\"color: #008080; text-decoration-color: #008080; font-weight: bold\">2.090720402650917</span>                                         \n",
       "</pre>\n"
      ],
      "text/plain": [
       "param\u001b[1m[\u001b[0m\u001b[32m'nsteps'\u001b[0m\u001b[1m]\u001b[0m=\u001b[1;36m25\u001b[0m param\u001b[1m[\u001b[0m\u001b[32m'aexp'\u001b[0m\u001b[1m]\u001b[0m=\u001b[1;36m0.32354916321201294\u001b[0m z = \u001b[1;36m2.090720402650917\u001b[0m                                         \n"
      ]
     },
     "metadata": {},
     "output_type": "display_data"
    },
    {
     "data": {
      "text/html": [
       "<pre style=\"white-space:pre;overflow-x:auto;line-height:normal;font-family:Menlo,'DejaVu Sans Mono',consolas,'Courier New',monospace\">Write <span style=\"color: #800080; text-decoration-color: #800080; font-weight: bold\">P</span><span style=\"font-weight: bold\">(</span>k<span style=\"font-weight: bold\">)</span> in .<span style=\"color: #800080; text-decoration-color: #800080\">/t4//power/</span><span style=\"color: #ff00ff; text-decoration-color: #ff00ff\">pk_newton_multigrid_ncoarse7_00026.dat</span>                                                   \n",
       "</pre>\n"
      ],
      "text/plain": [
       "Write \u001b[1;35mP\u001b[0m\u001b[1m(\u001b[0mk\u001b[1m)\u001b[0m in .\u001b[35m/t4/\u001b[0m\u001b[35m/power/\u001b[0m\u001b[95mpk_newton_multigrid_ncoarse7_00026.dat\u001b[0m                                                   \n"
      ]
     },
     "metadata": {},
     "output_type": "display_data"
    },
    {
     "data": {
      "text/html": [
       "<pre style=\"white-space:pre;overflow-x:auto;line-height:normal;font-family:Menlo,'DejaVu Sans Mono',consolas,'Courier New',monospace\">Snapshot written at <span style=\"color: #808000; text-decoration-color: #808000\">...</span><span style=\"color: #808000; text-decoration-color: #808000\">filename</span>=<span style=\"color: #008000; text-decoration-color: #008000\">'./t4//output_00004/particles_newton_multigrid_ncoarse7.h5'</span>                        \n",
       "param<span style=\"font-weight: bold\">[</span><span style=\"color: #008000; text-decoration-color: #008000\">'aexp'</span><span style=\"font-weight: bold\">]</span>=<span style=\"color: #008080; text-decoration-color: #008080; font-weight: bold\">0.3333333333333333</span>                                                                                   \n",
       "</pre>\n"
      ],
      "text/plain": [
       "Snapshot written at \u001b[33m...\u001b[0m\u001b[33mfilename\u001b[0m=\u001b[32m'./t4//output_00004/particles_newton_multigrid_ncoarse7.h5'\u001b[0m                        \n",
       "param\u001b[1m[\u001b[0m\u001b[32m'aexp'\u001b[0m\u001b[1m]\u001b[0m=\u001b[1;36m0.3333333333333333\u001b[0m                                                                                   \n"
      ]
     },
     "metadata": {},
     "output_type": "display_data"
    },
    {
     "data": {
      "text/html": [
       "<pre style=\"white-space:pre;overflow-x:auto;line-height:normal;font-family:Menlo,'DejaVu Sans Mono',consolas,'Courier New',monospace\">param<span style=\"font-weight: bold\">[</span><span style=\"color: #008000; text-decoration-color: #008000\">'nsteps'</span><span style=\"font-weight: bold\">]</span>=<span style=\"color: #008080; text-decoration-color: #008080; font-weight: bold\">26</span> param<span style=\"font-weight: bold\">[</span><span style=\"color: #008000; text-decoration-color: #008000\">'aexp'</span><span style=\"font-weight: bold\">]</span>=<span style=\"color: #008080; text-decoration-color: #008080; font-weight: bold\">0.3333333333333333</span> z = <span style=\"color: #008080; text-decoration-color: #008080; font-weight: bold\">2.0</span>                                                        \n",
       "</pre>\n"
      ],
      "text/plain": [
       "param\u001b[1m[\u001b[0m\u001b[32m'nsteps'\u001b[0m\u001b[1m]\u001b[0m=\u001b[1;36m26\u001b[0m param\u001b[1m[\u001b[0m\u001b[32m'aexp'\u001b[0m\u001b[1m]\u001b[0m=\u001b[1;36m0.3333333333333333\u001b[0m z = \u001b[1;36m2.0\u001b[0m                                                        \n"
      ]
     },
     "metadata": {},
     "output_type": "display_data"
    },
    {
     "data": {
      "text/html": [
       "<pre style=\"white-space:pre;overflow-x:auto;line-height:normal;font-family:Menlo,'DejaVu Sans Mono',consolas,'Courier New',monospace\">Write <span style=\"color: #800080; text-decoration-color: #800080; font-weight: bold\">P</span><span style=\"font-weight: bold\">(</span>k<span style=\"font-weight: bold\">)</span> in .<span style=\"color: #800080; text-decoration-color: #800080\">/t4//power/</span><span style=\"color: #ff00ff; text-decoration-color: #ff00ff\">pk_newton_multigrid_ncoarse7_00027.dat</span>                                                   \n",
       "</pre>\n"
      ],
      "text/plain": [
       "Write \u001b[1;35mP\u001b[0m\u001b[1m(\u001b[0mk\u001b[1m)\u001b[0m in .\u001b[35m/t4/\u001b[0m\u001b[35m/power/\u001b[0m\u001b[95mpk_newton_multigrid_ncoarse7_00027.dat\u001b[0m                                                   \n"
      ]
     },
     "metadata": {},
     "output_type": "display_data"
    },
    {
     "data": {
      "text/html": [
       "<pre style=\"white-space:pre;overflow-x:auto;line-height:normal;font-family:Menlo,'DejaVu Sans Mono',consolas,'Courier New',monospace\">param<span style=\"font-weight: bold\">[</span><span style=\"color: #008000; text-decoration-color: #008000\">'nsteps'</span><span style=\"font-weight: bold\">]</span>=<span style=\"color: #008080; text-decoration-color: #008080; font-weight: bold\">27</span> param<span style=\"font-weight: bold\">[</span><span style=\"color: #008000; text-decoration-color: #008000\">'aexp'</span><span style=\"font-weight: bold\">]</span>=<span style=\"color: #008080; text-decoration-color: #008080; font-weight: bold\">0.3585778941215018</span> z = <span style=\"color: #008080; text-decoration-color: #008080; font-weight: bold\">1.788794335607193</span>                                          \n",
       "</pre>\n"
      ],
      "text/plain": [
       "param\u001b[1m[\u001b[0m\u001b[32m'nsteps'\u001b[0m\u001b[1m]\u001b[0m=\u001b[1;36m27\u001b[0m param\u001b[1m[\u001b[0m\u001b[32m'aexp'\u001b[0m\u001b[1m]\u001b[0m=\u001b[1;36m0.3585778941215018\u001b[0m z = \u001b[1;36m1.788794335607193\u001b[0m                                          \n"
      ]
     },
     "metadata": {},
     "output_type": "display_data"
    },
    {
     "data": {
      "text/html": [
       "<pre style=\"white-space:pre;overflow-x:auto;line-height:normal;font-family:Menlo,'DejaVu Sans Mono',consolas,'Courier New',monospace\">Write <span style=\"color: #800080; text-decoration-color: #800080; font-weight: bold\">P</span><span style=\"font-weight: bold\">(</span>k<span style=\"font-weight: bold\">)</span> in .<span style=\"color: #800080; text-decoration-color: #800080\">/t4//power/</span><span style=\"color: #ff00ff; text-decoration-color: #ff00ff\">pk_newton_multigrid_ncoarse7_00028.dat</span>                                                   \n",
       "</pre>\n"
      ],
      "text/plain": [
       "Write \u001b[1;35mP\u001b[0m\u001b[1m(\u001b[0mk\u001b[1m)\u001b[0m in .\u001b[35m/t4/\u001b[0m\u001b[35m/power/\u001b[0m\u001b[95mpk_newton_multigrid_ncoarse7_00028.dat\u001b[0m                                                   \n"
      ]
     },
     "metadata": {},
     "output_type": "display_data"
    },
    {
     "data": {
      "text/html": [
       "<pre style=\"white-space:pre;overflow-x:auto;line-height:normal;font-family:Menlo,'DejaVu Sans Mono',consolas,'Courier New',monospace\">param<span style=\"font-weight: bold\">[</span><span style=\"color: #008000; text-decoration-color: #008000\">'nsteps'</span><span style=\"font-weight: bold\">]</span>=<span style=\"color: #008080; text-decoration-color: #008080; font-weight: bold\">28</span> param<span style=\"font-weight: bold\">[</span><span style=\"color: #008000; text-decoration-color: #008000\">'aexp'</span><span style=\"font-weight: bold\">]</span>=<span style=\"color: #008080; text-decoration-color: #008080; font-weight: bold\">0.383917612140892</span> z = <span style=\"color: #008080; text-decoration-color: #008080; font-weight: bold\">1.6047255149967308</span>                                          \n",
       "</pre>\n"
      ],
      "text/plain": [
       "param\u001b[1m[\u001b[0m\u001b[32m'nsteps'\u001b[0m\u001b[1m]\u001b[0m=\u001b[1;36m28\u001b[0m param\u001b[1m[\u001b[0m\u001b[32m'aexp'\u001b[0m\u001b[1m]\u001b[0m=\u001b[1;36m0.383917612140892\u001b[0m z = \u001b[1;36m1.6047255149967308\u001b[0m                                          \n"
      ]
     },
     "metadata": {},
     "output_type": "display_data"
    },
    {
     "data": {
      "text/html": [
       "<pre style=\"white-space:pre;overflow-x:auto;line-height:normal;font-family:Menlo,'DejaVu Sans Mono',consolas,'Courier New',monospace\">Write <span style=\"color: #800080; text-decoration-color: #800080; font-weight: bold\">P</span><span style=\"font-weight: bold\">(</span>k<span style=\"font-weight: bold\">)</span> in .<span style=\"color: #800080; text-decoration-color: #800080\">/t4//power/</span><span style=\"color: #ff00ff; text-decoration-color: #ff00ff\">pk_newton_multigrid_ncoarse7_00029.dat</span>                                                   \n",
       "</pre>\n"
      ],
      "text/plain": [
       "Write \u001b[1;35mP\u001b[0m\u001b[1m(\u001b[0mk\u001b[1m)\u001b[0m in .\u001b[35m/t4/\u001b[0m\u001b[35m/power/\u001b[0m\u001b[95mpk_newton_multigrid_ncoarse7_00029.dat\u001b[0m                                                   \n"
      ]
     },
     "metadata": {},
     "output_type": "display_data"
    },
    {
     "data": {
      "text/html": [
       "<pre style=\"white-space:pre;overflow-x:auto;line-height:normal;font-family:Menlo,'DejaVu Sans Mono',consolas,'Courier New',monospace\">param<span style=\"font-weight: bold\">[</span><span style=\"color: #008000; text-decoration-color: #008000\">'nsteps'</span><span style=\"font-weight: bold\">]</span>=<span style=\"color: #008080; text-decoration-color: #008080; font-weight: bold\">29</span> param<span style=\"font-weight: bold\">[</span><span style=\"color: #008000; text-decoration-color: #008000\">'aexp'</span><span style=\"font-weight: bold\">]</span>=<span style=\"color: #008080; text-decoration-color: #008080; font-weight: bold\">0.40918586981632926</span> z = <span style=\"color: #008080; text-decoration-color: #008080; font-weight: bold\">1.4438771564836017</span>                                        \n",
       "</pre>\n"
      ],
      "text/plain": [
       "param\u001b[1m[\u001b[0m\u001b[32m'nsteps'\u001b[0m\u001b[1m]\u001b[0m=\u001b[1;36m29\u001b[0m param\u001b[1m[\u001b[0m\u001b[32m'aexp'\u001b[0m\u001b[1m]\u001b[0m=\u001b[1;36m0.40918586981632926\u001b[0m z = \u001b[1;36m1.4438771564836017\u001b[0m                                        \n"
      ]
     },
     "metadata": {},
     "output_type": "display_data"
    },
    {
     "data": {
      "text/html": [
       "<pre style=\"white-space:pre;overflow-x:auto;line-height:normal;font-family:Menlo,'DejaVu Sans Mono',consolas,'Courier New',monospace\">Write <span style=\"color: #800080; text-decoration-color: #800080; font-weight: bold\">P</span><span style=\"font-weight: bold\">(</span>k<span style=\"font-weight: bold\">)</span> in .<span style=\"color: #800080; text-decoration-color: #800080\">/t4//power/</span><span style=\"color: #ff00ff; text-decoration-color: #ff00ff\">pk_newton_multigrid_ncoarse7_00030.dat</span>                                                   \n",
       "</pre>\n"
      ],
      "text/plain": [
       "Write \u001b[1;35mP\u001b[0m\u001b[1m(\u001b[0mk\u001b[1m)\u001b[0m in .\u001b[35m/t4/\u001b[0m\u001b[35m/power/\u001b[0m\u001b[95mpk_newton_multigrid_ncoarse7_00030.dat\u001b[0m                                                   \n"
      ]
     },
     "metadata": {},
     "output_type": "display_data"
    },
    {
     "data": {
      "text/html": [
       "<pre style=\"white-space:pre;overflow-x:auto;line-height:normal;font-family:Menlo,'DejaVu Sans Mono',consolas,'Courier New',monospace\">param<span style=\"font-weight: bold\">[</span><span style=\"color: #008000; text-decoration-color: #008000\">'nsteps'</span><span style=\"font-weight: bold\">]</span>=<span style=\"color: #008080; text-decoration-color: #008080; font-weight: bold\">30</span> param<span style=\"font-weight: bold\">[</span><span style=\"color: #008000; text-decoration-color: #008000\">'aexp'</span><span style=\"font-weight: bold\">]</span>=<span style=\"color: #008080; text-decoration-color: #008080; font-weight: bold\">0.43657602630972037</span> z = <span style=\"color: #008080; text-decoration-color: #008080; font-weight: bold\">1.2905517933560775</span>                                        \n",
       "</pre>\n"
      ],
      "text/plain": [
       "param\u001b[1m[\u001b[0m\u001b[32m'nsteps'\u001b[0m\u001b[1m]\u001b[0m=\u001b[1;36m30\u001b[0m param\u001b[1m[\u001b[0m\u001b[32m'aexp'\u001b[0m\u001b[1m]\u001b[0m=\u001b[1;36m0.43657602630972037\u001b[0m z = \u001b[1;36m1.2905517933560775\u001b[0m                                        \n"
      ]
     },
     "metadata": {},
     "output_type": "display_data"
    },
    {
     "data": {
      "text/html": [
       "<pre style=\"white-space:pre;overflow-x:auto;line-height:normal;font-family:Menlo,'DejaVu Sans Mono',consolas,'Courier New',monospace\">Write <span style=\"color: #800080; text-decoration-color: #800080; font-weight: bold\">P</span><span style=\"font-weight: bold\">(</span>k<span style=\"font-weight: bold\">)</span> in .<span style=\"color: #800080; text-decoration-color: #800080\">/t4//power/</span><span style=\"color: #ff00ff; text-decoration-color: #ff00ff\">pk_newton_multigrid_ncoarse7_00031.dat</span>                                                   \n",
       "</pre>\n"
      ],
      "text/plain": [
       "Write \u001b[1;35mP\u001b[0m\u001b[1m(\u001b[0mk\u001b[1m)\u001b[0m in .\u001b[35m/t4/\u001b[0m\u001b[35m/power/\u001b[0m\u001b[95mpk_newton_multigrid_ncoarse7_00031.dat\u001b[0m                                                   \n"
      ]
     },
     "metadata": {},
     "output_type": "display_data"
    },
    {
     "data": {
      "text/html": [
       "<pre style=\"white-space:pre;overflow-x:auto;line-height:normal;font-family:Menlo,'DejaVu Sans Mono',consolas,'Courier New',monospace\">param<span style=\"font-weight: bold\">[</span><span style=\"color: #008000; text-decoration-color: #008000\">'nsteps'</span><span style=\"font-weight: bold\">]</span>=<span style=\"color: #008080; text-decoration-color: #008080; font-weight: bold\">31</span> param<span style=\"font-weight: bold\">[</span><span style=\"color: #008000; text-decoration-color: #008000\">'aexp'</span><span style=\"font-weight: bold\">]</span>=<span style=\"color: #008080; text-decoration-color: #008080; font-weight: bold\">0.46254908389809646</span> z = <span style=\"color: #008080; text-decoration-color: #008080; font-weight: bold\">1.161932721977477</span>                                         \n",
       "</pre>\n"
      ],
      "text/plain": [
       "param\u001b[1m[\u001b[0m\u001b[32m'nsteps'\u001b[0m\u001b[1m]\u001b[0m=\u001b[1;36m31\u001b[0m param\u001b[1m[\u001b[0m\u001b[32m'aexp'\u001b[0m\u001b[1m]\u001b[0m=\u001b[1;36m0.46254908389809646\u001b[0m z = \u001b[1;36m1.161932721977477\u001b[0m                                         \n"
      ]
     },
     "metadata": {},
     "output_type": "display_data"
    },
    {
     "data": {
      "text/html": [
       "<pre style=\"white-space:pre;overflow-x:auto;line-height:normal;font-family:Menlo,'DejaVu Sans Mono',consolas,'Courier New',monospace\">Write <span style=\"color: #800080; text-decoration-color: #800080; font-weight: bold\">P</span><span style=\"font-weight: bold\">(</span>k<span style=\"font-weight: bold\">)</span> in .<span style=\"color: #800080; text-decoration-color: #800080\">/t4//power/</span><span style=\"color: #ff00ff; text-decoration-color: #ff00ff\">pk_newton_multigrid_ncoarse7_00032.dat</span>                                                   \n",
       "</pre>\n"
      ],
      "text/plain": [
       "Write \u001b[1;35mP\u001b[0m\u001b[1m(\u001b[0mk\u001b[1m)\u001b[0m in .\u001b[35m/t4/\u001b[0m\u001b[35m/power/\u001b[0m\u001b[95mpk_newton_multigrid_ncoarse7_00032.dat\u001b[0m                                                   \n"
      ]
     },
     "metadata": {},
     "output_type": "display_data"
    },
    {
     "data": {
      "text/html": [
       "<pre style=\"white-space:pre;overflow-x:auto;line-height:normal;font-family:Menlo,'DejaVu Sans Mono',consolas,'Courier New',monospace\">param<span style=\"font-weight: bold\">[</span><span style=\"color: #008000; text-decoration-color: #008000\">'nsteps'</span><span style=\"font-weight: bold\">]</span>=<span style=\"color: #008080; text-decoration-color: #008080; font-weight: bold\">32</span> param<span style=\"font-weight: bold\">[</span><span style=\"color: #008000; text-decoration-color: #008000\">'aexp'</span><span style=\"font-weight: bold\">]</span>=<span style=\"color: #008080; text-decoration-color: #008080; font-weight: bold\">0.48948536701239714</span> z = <span style=\"color: #008080; text-decoration-color: #008080; font-weight: bold\">1.0429619910878216</span>                                        \n",
       "</pre>\n"
      ],
      "text/plain": [
       "param\u001b[1m[\u001b[0m\u001b[32m'nsteps'\u001b[0m\u001b[1m]\u001b[0m=\u001b[1;36m32\u001b[0m param\u001b[1m[\u001b[0m\u001b[32m'aexp'\u001b[0m\u001b[1m]\u001b[0m=\u001b[1;36m0.48948536701239714\u001b[0m z = \u001b[1;36m1.0429619910878216\u001b[0m                                        \n"
      ]
     },
     "metadata": {},
     "output_type": "display_data"
    },
    {
     "data": {
      "text/html": [
       "<pre style=\"white-space:pre;overflow-x:auto;line-height:normal;font-family:Menlo,'DejaVu Sans Mono',consolas,'Courier New',monospace\">Write <span style=\"color: #800080; text-decoration-color: #800080; font-weight: bold\">P</span><span style=\"font-weight: bold\">(</span>k<span style=\"font-weight: bold\">)</span> in .<span style=\"color: #800080; text-decoration-color: #800080\">/t4//power/</span><span style=\"color: #ff00ff; text-decoration-color: #ff00ff\">pk_newton_multigrid_ncoarse7_00033.dat</span>                                                   \n",
       "</pre>\n"
      ],
      "text/plain": [
       "Write \u001b[1;35mP\u001b[0m\u001b[1m(\u001b[0mk\u001b[1m)\u001b[0m in .\u001b[35m/t4/\u001b[0m\u001b[35m/power/\u001b[0m\u001b[95mpk_newton_multigrid_ncoarse7_00033.dat\u001b[0m                                                   \n"
      ]
     },
     "metadata": {},
     "output_type": "display_data"
    },
    {
     "data": {
      "text/html": [
       "<pre style=\"white-space:pre;overflow-x:auto;line-height:normal;font-family:Menlo,'DejaVu Sans Mono',consolas,'Courier New',monospace\">Snapshot written at <span style=\"color: #808000; text-decoration-color: #808000\">...</span><span style=\"color: #808000; text-decoration-color: #808000\">filename</span>=<span style=\"color: #008000; text-decoration-color: #008000\">'./t4//output_00005/particles_newton_multigrid_ncoarse7.h5'</span> param<span style=\"font-weight: bold\">[</span><span style=\"color: #008000; text-decoration-color: #008000\">'aexp'</span><span style=\"font-weight: bold\">]</span>=<span style=\"color: #008080; text-decoration-color: #008080; font-weight: bold\">0.5</span>      \n",
       "</pre>\n"
      ],
      "text/plain": [
       "Snapshot written at \u001b[33m...\u001b[0m\u001b[33mfilename\u001b[0m=\u001b[32m'./t4//output_00005/particles_newton_multigrid_ncoarse7.h5'\u001b[0m param\u001b[1m[\u001b[0m\u001b[32m'aexp'\u001b[0m\u001b[1m]\u001b[0m=\u001b[1;36m0.5\u001b[0m      \n"
      ]
     },
     "metadata": {},
     "output_type": "display_data"
    },
    {
     "data": {
      "text/html": [
       "<pre style=\"white-space:pre;overflow-x:auto;line-height:normal;font-family:Menlo,'DejaVu Sans Mono',consolas,'Courier New',monospace\">param<span style=\"font-weight: bold\">[</span><span style=\"color: #008000; text-decoration-color: #008000\">'nsteps'</span><span style=\"font-weight: bold\">]</span>=<span style=\"color: #008080; text-decoration-color: #008080; font-weight: bold\">33</span> param<span style=\"font-weight: bold\">[</span><span style=\"color: #008000; text-decoration-color: #008000\">'aexp'</span><span style=\"font-weight: bold\">]</span>=<span style=\"color: #008080; text-decoration-color: #008080; font-weight: bold\">0.5</span> z = <span style=\"color: #008080; text-decoration-color: #008080; font-weight: bold\">1.0</span>                                                                       \n",
       "</pre>\n"
      ],
      "text/plain": [
       "param\u001b[1m[\u001b[0m\u001b[32m'nsteps'\u001b[0m\u001b[1m]\u001b[0m=\u001b[1;36m33\u001b[0m param\u001b[1m[\u001b[0m\u001b[32m'aexp'\u001b[0m\u001b[1m]\u001b[0m=\u001b[1;36m0.5\u001b[0m z = \u001b[1;36m1.0\u001b[0m                                                                       \n"
      ]
     },
     "metadata": {},
     "output_type": "display_data"
    },
    {
     "data": {
      "text/html": [
       "<pre style=\"white-space:pre;overflow-x:auto;line-height:normal;font-family:Menlo,'DejaVu Sans Mono',consolas,'Courier New',monospace\">Write <span style=\"color: #800080; text-decoration-color: #800080; font-weight: bold\">P</span><span style=\"font-weight: bold\">(</span>k<span style=\"font-weight: bold\">)</span> in .<span style=\"color: #800080; text-decoration-color: #800080\">/t4//power/</span><span style=\"color: #ff00ff; text-decoration-color: #ff00ff\">pk_newton_multigrid_ncoarse7_00034.dat</span>                                                   \n",
       "</pre>\n"
      ],
      "text/plain": [
       "Write \u001b[1;35mP\u001b[0m\u001b[1m(\u001b[0mk\u001b[1m)\u001b[0m in .\u001b[35m/t4/\u001b[0m\u001b[35m/power/\u001b[0m\u001b[95mpk_newton_multigrid_ncoarse7_00034.dat\u001b[0m                                                   \n"
      ]
     },
     "metadata": {},
     "output_type": "display_data"
    },
    {
     "data": {
      "text/html": [
       "<pre style=\"white-space:pre;overflow-x:auto;line-height:normal;font-family:Menlo,'DejaVu Sans Mono',consolas,'Courier New',monospace\">param<span style=\"font-weight: bold\">[</span><span style=\"color: #008000; text-decoration-color: #008000\">'nsteps'</span><span style=\"font-weight: bold\">]</span>=<span style=\"color: #008080; text-decoration-color: #008080; font-weight: bold\">34</span> param<span style=\"font-weight: bold\">[</span><span style=\"color: #008000; text-decoration-color: #008000\">'aexp'</span><span style=\"font-weight: bold\">]</span>=<span style=\"color: #008080; text-decoration-color: #008080; font-weight: bold\">0.5285445947680398</span> z = <span style=\"color: #008080; text-decoration-color: #008080; font-weight: bold\">0.8919879417911101</span>                                         \n",
       "</pre>\n"
      ],
      "text/plain": [
       "param\u001b[1m[\u001b[0m\u001b[32m'nsteps'\u001b[0m\u001b[1m]\u001b[0m=\u001b[1;36m34\u001b[0m param\u001b[1m[\u001b[0m\u001b[32m'aexp'\u001b[0m\u001b[1m]\u001b[0m=\u001b[1;36m0.5285445947680398\u001b[0m z = \u001b[1;36m0.8919879417911101\u001b[0m                                         \n"
      ]
     },
     "metadata": {},
     "output_type": "display_data"
    },
    {
     "data": {
      "text/html": [
       "<pre style=\"white-space:pre;overflow-x:auto;line-height:normal;font-family:Menlo,'DejaVu Sans Mono',consolas,'Courier New',monospace\">Write <span style=\"color: #800080; text-decoration-color: #800080; font-weight: bold\">P</span><span style=\"font-weight: bold\">(</span>k<span style=\"font-weight: bold\">)</span> in .<span style=\"color: #800080; text-decoration-color: #800080\">/t4//power/</span><span style=\"color: #ff00ff; text-decoration-color: #ff00ff\">pk_newton_multigrid_ncoarse7_00035.dat</span>                                                   \n",
       "</pre>\n"
      ],
      "text/plain": [
       "Write \u001b[1;35mP\u001b[0m\u001b[1m(\u001b[0mk\u001b[1m)\u001b[0m in .\u001b[35m/t4/\u001b[0m\u001b[35m/power/\u001b[0m\u001b[95mpk_newton_multigrid_ncoarse7_00035.dat\u001b[0m                                                   \n"
      ]
     },
     "metadata": {},
     "output_type": "display_data"
    },
    {
     "data": {
      "text/html": [
       "<pre style=\"white-space:pre;overflow-x:auto;line-height:normal;font-family:Menlo,'DejaVu Sans Mono',consolas,'Courier New',monospace\">param<span style=\"font-weight: bold\">[</span><span style=\"color: #008000; text-decoration-color: #008000\">'nsteps'</span><span style=\"font-weight: bold\">]</span>=<span style=\"color: #008080; text-decoration-color: #008080; font-weight: bold\">35</span> param<span style=\"font-weight: bold\">[</span><span style=\"color: #008000; text-decoration-color: #008000\">'aexp'</span><span style=\"font-weight: bold\">]</span>=<span style=\"color: #008080; text-decoration-color: #008080; font-weight: bold\">0.5573273911030938</span> z = <span style=\"color: #008080; text-decoration-color: #008080; font-weight: bold\">0.794277503606531</span>                                          \n",
       "</pre>\n"
      ],
      "text/plain": [
       "param\u001b[1m[\u001b[0m\u001b[32m'nsteps'\u001b[0m\u001b[1m]\u001b[0m=\u001b[1;36m35\u001b[0m param\u001b[1m[\u001b[0m\u001b[32m'aexp'\u001b[0m\u001b[1m]\u001b[0m=\u001b[1;36m0.5573273911030938\u001b[0m z = \u001b[1;36m0.794277503606531\u001b[0m                                          \n"
      ]
     },
     "metadata": {},
     "output_type": "display_data"
    },
    {
     "data": {
      "text/html": [
       "<pre style=\"white-space:pre;overflow-x:auto;line-height:normal;font-family:Menlo,'DejaVu Sans Mono',consolas,'Courier New',monospace\">Write <span style=\"color: #800080; text-decoration-color: #800080; font-weight: bold\">P</span><span style=\"font-weight: bold\">(</span>k<span style=\"font-weight: bold\">)</span> in .<span style=\"color: #800080; text-decoration-color: #800080\">/t4//power/</span><span style=\"color: #ff00ff; text-decoration-color: #ff00ff\">pk_newton_multigrid_ncoarse7_00036.dat</span>                                                   \n",
       "</pre>\n"
      ],
      "text/plain": [
       "Write \u001b[1;35mP\u001b[0m\u001b[1m(\u001b[0mk\u001b[1m)\u001b[0m in .\u001b[35m/t4/\u001b[0m\u001b[35m/power/\u001b[0m\u001b[95mpk_newton_multigrid_ncoarse7_00036.dat\u001b[0m                                                   \n"
      ]
     },
     "metadata": {},
     "output_type": "display_data"
    },
    {
     "data": {
      "text/html": [
       "<pre style=\"white-space:pre;overflow-x:auto;line-height:normal;font-family:Menlo,'DejaVu Sans Mono',consolas,'Courier New',monospace\">param<span style=\"font-weight: bold\">[</span><span style=\"color: #008000; text-decoration-color: #008000\">'nsteps'</span><span style=\"font-weight: bold\">]</span>=<span style=\"color: #008080; text-decoration-color: #008080; font-weight: bold\">36</span> param<span style=\"font-weight: bold\">[</span><span style=\"color: #008000; text-decoration-color: #008000\">'aexp'</span><span style=\"font-weight: bold\">]</span>=<span style=\"color: #008080; text-decoration-color: #008080; font-weight: bold\">0.5868018028107864</span> z = <span style=\"color: #008080; text-decoration-color: #008080; font-weight: bold\">0.7041529102500881</span>                                         \n",
       "</pre>\n"
      ],
      "text/plain": [
       "param\u001b[1m[\u001b[0m\u001b[32m'nsteps'\u001b[0m\u001b[1m]\u001b[0m=\u001b[1;36m36\u001b[0m param\u001b[1m[\u001b[0m\u001b[32m'aexp'\u001b[0m\u001b[1m]\u001b[0m=\u001b[1;36m0.5868018028107864\u001b[0m z = \u001b[1;36m0.7041529102500881\u001b[0m                                         \n"
      ]
     },
     "metadata": {},
     "output_type": "display_data"
    },
    {
     "data": {
      "text/html": [
       "<pre style=\"white-space:pre;overflow-x:auto;line-height:normal;font-family:Menlo,'DejaVu Sans Mono',consolas,'Courier New',monospace\">Write <span style=\"color: #800080; text-decoration-color: #800080; font-weight: bold\">P</span><span style=\"font-weight: bold\">(</span>k<span style=\"font-weight: bold\">)</span> in .<span style=\"color: #800080; text-decoration-color: #800080\">/t4//power/</span><span style=\"color: #ff00ff; text-decoration-color: #ff00ff\">pk_newton_multigrid_ncoarse7_00037.dat</span>                                                   \n",
       "</pre>\n"
      ],
      "text/plain": [
       "Write \u001b[1;35mP\u001b[0m\u001b[1m(\u001b[0mk\u001b[1m)\u001b[0m in .\u001b[35m/t4/\u001b[0m\u001b[35m/power/\u001b[0m\u001b[95mpk_newton_multigrid_ncoarse7_00037.dat\u001b[0m                                                   \n"
      ]
     },
     "metadata": {},
     "output_type": "display_data"
    },
    {
     "data": {
      "text/html": [
       "<pre style=\"white-space:pre;overflow-x:auto;line-height:normal;font-family:Menlo,'DejaVu Sans Mono',consolas,'Courier New',monospace\">param<span style=\"font-weight: bold\">[</span><span style=\"color: #008000; text-decoration-color: #008000\">'nsteps'</span><span style=\"font-weight: bold\">]</span>=<span style=\"color: #008080; text-decoration-color: #008080; font-weight: bold\">37</span> param<span style=\"font-weight: bold\">[</span><span style=\"color: #008000; text-decoration-color: #008000\">'aexp'</span><span style=\"font-weight: bold\">]</span>=<span style=\"color: #008080; text-decoration-color: #008080; font-weight: bold\">0.616688696521289</span> z = <span style=\"color: #008080; text-decoration-color: #008080; font-weight: bold\">0.6215636927366295</span>                                          \n",
       "</pre>\n"
      ],
      "text/plain": [
       "param\u001b[1m[\u001b[0m\u001b[32m'nsteps'\u001b[0m\u001b[1m]\u001b[0m=\u001b[1;36m37\u001b[0m param\u001b[1m[\u001b[0m\u001b[32m'aexp'\u001b[0m\u001b[1m]\u001b[0m=\u001b[1;36m0.616688696521289\u001b[0m z = \u001b[1;36m0.6215636927366295\u001b[0m                                          \n"
      ]
     },
     "metadata": {},
     "output_type": "display_data"
    },
    {
     "data": {
      "text/html": [
       "<pre style=\"white-space:pre;overflow-x:auto;line-height:normal;font-family:Menlo,'DejaVu Sans Mono',consolas,'Courier New',monospace\">Write <span style=\"color: #800080; text-decoration-color: #800080; font-weight: bold\">P</span><span style=\"font-weight: bold\">(</span>k<span style=\"font-weight: bold\">)</span> in .<span style=\"color: #800080; text-decoration-color: #800080\">/t4//power/</span><span style=\"color: #ff00ff; text-decoration-color: #ff00ff\">pk_newton_multigrid_ncoarse7_00038.dat</span>                                                   \n",
       "</pre>\n"
      ],
      "text/plain": [
       "Write \u001b[1;35mP\u001b[0m\u001b[1m(\u001b[0mk\u001b[1m)\u001b[0m in .\u001b[35m/t4/\u001b[0m\u001b[35m/power/\u001b[0m\u001b[95mpk_newton_multigrid_ncoarse7_00038.dat\u001b[0m                                                   \n"
      ]
     },
     "metadata": {},
     "output_type": "display_data"
    },
    {
     "data": {
      "text/html": [
       "<pre style=\"white-space:pre;overflow-x:auto;line-height:normal;font-family:Menlo,'DejaVu Sans Mono',consolas,'Courier New',monospace\">param<span style=\"font-weight: bold\">[</span><span style=\"color: #008000; text-decoration-color: #008000\">'nsteps'</span><span style=\"font-weight: bold\">]</span>=<span style=\"color: #008080; text-decoration-color: #008080; font-weight: bold\">38</span> param<span style=\"font-weight: bold\">[</span><span style=\"color: #008000; text-decoration-color: #008000\">'aexp'</span><span style=\"font-weight: bold\">]</span>=<span style=\"color: #008080; text-decoration-color: #008080; font-weight: bold\">0.6480461905629762</span> z = <span style=\"color: #008080; text-decoration-color: #008080; font-weight: bold\">0.5430998817094681</span>                                         \n",
       "</pre>\n"
      ],
      "text/plain": [
       "param\u001b[1m[\u001b[0m\u001b[32m'nsteps'\u001b[0m\u001b[1m]\u001b[0m=\u001b[1;36m38\u001b[0m param\u001b[1m[\u001b[0m\u001b[32m'aexp'\u001b[0m\u001b[1m]\u001b[0m=\u001b[1;36m0.6480461905629762\u001b[0m z = \u001b[1;36m0.5430998817094681\u001b[0m                                         \n"
      ]
     },
     "metadata": {},
     "output_type": "display_data"
    },
    {
     "data": {
      "text/html": [
       "<pre style=\"white-space:pre;overflow-x:auto;line-height:normal;font-family:Menlo,'DejaVu Sans Mono',consolas,'Courier New',monospace\">Write <span style=\"color: #800080; text-decoration-color: #800080; font-weight: bold\">P</span><span style=\"font-weight: bold\">(</span>k<span style=\"font-weight: bold\">)</span> in .<span style=\"color: #800080; text-decoration-color: #800080\">/t4//power/</span><span style=\"color: #ff00ff; text-decoration-color: #ff00ff\">pk_newton_multigrid_ncoarse7_00039.dat</span>                                                   \n",
       "</pre>\n"
      ],
      "text/plain": [
       "Write \u001b[1;35mP\u001b[0m\u001b[1m(\u001b[0mk\u001b[1m)\u001b[0m in .\u001b[35m/t4/\u001b[0m\u001b[35m/power/\u001b[0m\u001b[95mpk_newton_multigrid_ncoarse7_00039.dat\u001b[0m                                                   \n"
      ]
     },
     "metadata": {},
     "output_type": "display_data"
    },
    {
     "data": {
      "text/html": [
       "<pre style=\"white-space:pre;overflow-x:auto;line-height:normal;font-family:Menlo,'DejaVu Sans Mono',consolas,'Courier New',monospace\">param<span style=\"font-weight: bold\">[</span><span style=\"color: #008000; text-decoration-color: #008000\">'nsteps'</span><span style=\"font-weight: bold\">]</span>=<span style=\"color: #008080; text-decoration-color: #008080; font-weight: bold\">39</span> param<span style=\"font-weight: bold\">[</span><span style=\"color: #008000; text-decoration-color: #008000\">'aexp'</span><span style=\"font-weight: bold\">]</span>=<span style=\"color: #008080; text-decoration-color: #008080; font-weight: bold\">0.6806194293211978</span> z = <span style=\"color: #008080; text-decoration-color: #008080; font-weight: bold\">0.46924985817306153</span>                                        \n",
       "</pre>\n"
      ],
      "text/plain": [
       "param\u001b[1m[\u001b[0m\u001b[32m'nsteps'\u001b[0m\u001b[1m]\u001b[0m=\u001b[1;36m39\u001b[0m param\u001b[1m[\u001b[0m\u001b[32m'aexp'\u001b[0m\u001b[1m]\u001b[0m=\u001b[1;36m0.6806194293211978\u001b[0m z = \u001b[1;36m0.46924985817306153\u001b[0m                                        \n"
      ]
     },
     "metadata": {},
     "output_type": "display_data"
    },
    {
     "data": {
      "text/html": [
       "<pre style=\"white-space:pre;overflow-x:auto;line-height:normal;font-family:Menlo,'DejaVu Sans Mono',consolas,'Courier New',monospace\">Write <span style=\"color: #800080; text-decoration-color: #800080; font-weight: bold\">P</span><span style=\"font-weight: bold\">(</span>k<span style=\"font-weight: bold\">)</span> in .<span style=\"color: #800080; text-decoration-color: #800080\">/t4//power/</span><span style=\"color: #ff00ff; text-decoration-color: #ff00ff\">pk_newton_multigrid_ncoarse7_00040.dat</span>                                                   \n",
       "</pre>\n"
      ],
      "text/plain": [
       "Write \u001b[1;35mP\u001b[0m\u001b[1m(\u001b[0mk\u001b[1m)\u001b[0m in .\u001b[35m/t4/\u001b[0m\u001b[35m/power/\u001b[0m\u001b[95mpk_newton_multigrid_ncoarse7_00040.dat\u001b[0m                                                   \n"
      ]
     },
     "metadata": {},
     "output_type": "display_data"
    },
    {
     "data": {
      "text/html": [
       "<pre style=\"white-space:pre;overflow-x:auto;line-height:normal;font-family:Menlo,'DejaVu Sans Mono',consolas,'Courier New',monospace\">param<span style=\"font-weight: bold\">[</span><span style=\"color: #008000; text-decoration-color: #008000\">'nsteps'</span><span style=\"font-weight: bold\">]</span>=<span style=\"color: #008080; text-decoration-color: #008080; font-weight: bold\">40</span> param<span style=\"font-weight: bold\">[</span><span style=\"color: #008000; text-decoration-color: #008000\">'aexp'</span><span style=\"font-weight: bold\">]</span>=<span style=\"color: #008080; text-decoration-color: #008080; font-weight: bold\">0.713869246318721</span> z = <span style=\"color: #008080; text-decoration-color: #008080; font-weight: bold\">0.40081675342760237</span>                                         \n",
       "</pre>\n"
      ],
      "text/plain": [
       "param\u001b[1m[\u001b[0m\u001b[32m'nsteps'\u001b[0m\u001b[1m]\u001b[0m=\u001b[1;36m40\u001b[0m param\u001b[1m[\u001b[0m\u001b[32m'aexp'\u001b[0m\u001b[1m]\u001b[0m=\u001b[1;36m0.713869246318721\u001b[0m z = \u001b[1;36m0.40081675342760237\u001b[0m                                         \n"
      ]
     },
     "metadata": {},
     "output_type": "display_data"
    },
    {
     "data": {
      "text/html": [
       "<pre style=\"white-space:pre;overflow-x:auto;line-height:normal;font-family:Menlo,'DejaVu Sans Mono',consolas,'Courier New',monospace\">Write <span style=\"color: #800080; text-decoration-color: #800080; font-weight: bold\">P</span><span style=\"font-weight: bold\">(</span>k<span style=\"font-weight: bold\">)</span> in .<span style=\"color: #800080; text-decoration-color: #800080\">/t4//power/</span><span style=\"color: #ff00ff; text-decoration-color: #ff00ff\">pk_newton_multigrid_ncoarse7_00041.dat</span>                                                   \n",
       "</pre>\n"
      ],
      "text/plain": [
       "Write \u001b[1;35mP\u001b[0m\u001b[1m(\u001b[0mk\u001b[1m)\u001b[0m in .\u001b[35m/t4/\u001b[0m\u001b[35m/power/\u001b[0m\u001b[95mpk_newton_multigrid_ncoarse7_00041.dat\u001b[0m                                                   \n"
      ]
     },
     "metadata": {},
     "output_type": "display_data"
    },
    {
     "data": {
      "text/html": [
       "<pre style=\"white-space:pre;overflow-x:auto;line-height:normal;font-family:Menlo,'DejaVu Sans Mono',consolas,'Courier New',monospace\">param<span style=\"font-weight: bold\">[</span><span style=\"color: #008000; text-decoration-color: #008000\">'nsteps'</span><span style=\"font-weight: bold\">]</span>=<span style=\"color: #008080; text-decoration-color: #008080; font-weight: bold\">41</span> param<span style=\"font-weight: bold\">[</span><span style=\"color: #008000; text-decoration-color: #008000\">'aexp'</span><span style=\"font-weight: bold\">]</span>=<span style=\"color: #008080; text-decoration-color: #008080; font-weight: bold\">0.7481681614111158</span> z = <span style=\"color: #008080; text-decoration-color: #008080; font-weight: bold\">0.33659790883630447</span>                                        \n",
       "</pre>\n"
      ],
      "text/plain": [
       "param\u001b[1m[\u001b[0m\u001b[32m'nsteps'\u001b[0m\u001b[1m]\u001b[0m=\u001b[1;36m41\u001b[0m param\u001b[1m[\u001b[0m\u001b[32m'aexp'\u001b[0m\u001b[1m]\u001b[0m=\u001b[1;36m0.7481681614111158\u001b[0m z = \u001b[1;36m0.33659790883630447\u001b[0m                                        \n"
      ]
     },
     "metadata": {},
     "output_type": "display_data"
    },
    {
     "data": {
      "text/html": [
       "<pre style=\"white-space:pre;overflow-x:auto;line-height:normal;font-family:Menlo,'DejaVu Sans Mono',consolas,'Courier New',monospace\">Write <span style=\"color: #800080; text-decoration-color: #800080; font-weight: bold\">P</span><span style=\"font-weight: bold\">(</span>k<span style=\"font-weight: bold\">)</span> in .<span style=\"color: #800080; text-decoration-color: #800080\">/t4//power/</span><span style=\"color: #ff00ff; text-decoration-color: #ff00ff\">pk_newton_multigrid_ncoarse7_00042.dat</span>                                                   \n",
       "</pre>\n"
      ],
      "text/plain": [
       "Write \u001b[1;35mP\u001b[0m\u001b[1m(\u001b[0mk\u001b[1m)\u001b[0m in .\u001b[35m/t4/\u001b[0m\u001b[35m/power/\u001b[0m\u001b[95mpk_newton_multigrid_ncoarse7_00042.dat\u001b[0m                                                   \n"
      ]
     },
     "metadata": {},
     "output_type": "display_data"
    },
    {
     "data": {
      "text/html": [
       "<pre style=\"white-space:pre;overflow-x:auto;line-height:normal;font-family:Menlo,'DejaVu Sans Mono',consolas,'Courier New',monospace\">param<span style=\"font-weight: bold\">[</span><span style=\"color: #008000; text-decoration-color: #008000\">'nsteps'</span><span style=\"font-weight: bold\">]</span>=<span style=\"color: #008080; text-decoration-color: #008080; font-weight: bold\">42</span> param<span style=\"font-weight: bold\">[</span><span style=\"color: #008000; text-decoration-color: #008000\">'aexp'</span><span style=\"font-weight: bold\">]</span>=<span style=\"color: #008080; text-decoration-color: #008080; font-weight: bold\">0.7836455836720796</span> z = <span style=\"color: #008080; text-decoration-color: #008080; font-weight: bold\">0.2760870741006498</span>                                         \n",
       "</pre>\n"
      ],
      "text/plain": [
       "param\u001b[1m[\u001b[0m\u001b[32m'nsteps'\u001b[0m\u001b[1m]\u001b[0m=\u001b[1;36m42\u001b[0m param\u001b[1m[\u001b[0m\u001b[32m'aexp'\u001b[0m\u001b[1m]\u001b[0m=\u001b[1;36m0.7836455836720796\u001b[0m z = \u001b[1;36m0.2760870741006498\u001b[0m                                         \n"
      ]
     },
     "metadata": {},
     "output_type": "display_data"
    },
    {
     "data": {
      "text/html": [
       "<pre style=\"white-space:pre;overflow-x:auto;line-height:normal;font-family:Menlo,'DejaVu Sans Mono',consolas,'Courier New',monospace\">Write <span style=\"color: #800080; text-decoration-color: #800080; font-weight: bold\">P</span><span style=\"font-weight: bold\">(</span>k<span style=\"font-weight: bold\">)</span> in .<span style=\"color: #800080; text-decoration-color: #800080\">/t4//power/</span><span style=\"color: #ff00ff; text-decoration-color: #ff00ff\">pk_newton_multigrid_ncoarse7_00043.dat</span>                                                   \n",
       "</pre>\n"
      ],
      "text/plain": [
       "Write \u001b[1;35mP\u001b[0m\u001b[1m(\u001b[0mk\u001b[1m)\u001b[0m in .\u001b[35m/t4/\u001b[0m\u001b[35m/power/\u001b[0m\u001b[95mpk_newton_multigrid_ncoarse7_00043.dat\u001b[0m                                                   \n"
      ]
     },
     "metadata": {},
     "output_type": "display_data"
    },
    {
     "data": {
      "text/html": [
       "<pre style=\"white-space:pre;overflow-x:auto;line-height:normal;font-family:Menlo,'DejaVu Sans Mono',consolas,'Courier New',monospace\">param<span style=\"font-weight: bold\">[</span><span style=\"color: #008000; text-decoration-color: #008000\">'nsteps'</span><span style=\"font-weight: bold\">]</span>=<span style=\"color: #008080; text-decoration-color: #008080; font-weight: bold\">43</span> param<span style=\"font-weight: bold\">[</span><span style=\"color: #008000; text-decoration-color: #008000\">'aexp'</span><span style=\"font-weight: bold\">]</span>=<span style=\"color: #008080; text-decoration-color: #008080; font-weight: bold\">0.8226250085744193</span> z = <span style=\"color: #008080; text-decoration-color: #008080; font-weight: bold\">0.21562071366267532</span>                                        \n",
       "</pre>\n"
      ],
      "text/plain": [
       "param\u001b[1m[\u001b[0m\u001b[32m'nsteps'\u001b[0m\u001b[1m]\u001b[0m=\u001b[1;36m43\u001b[0m param\u001b[1m[\u001b[0m\u001b[32m'aexp'\u001b[0m\u001b[1m]\u001b[0m=\u001b[1;36m0.8226250085744193\u001b[0m z = \u001b[1;36m0.21562071366267532\u001b[0m                                        \n"
      ]
     },
     "metadata": {},
     "output_type": "display_data"
    },
    {
     "data": {
      "text/html": [
       "<pre style=\"white-space:pre;overflow-x:auto;line-height:normal;font-family:Menlo,'DejaVu Sans Mono',consolas,'Courier New',monospace\">Write <span style=\"color: #800080; text-decoration-color: #800080; font-weight: bold\">P</span><span style=\"font-weight: bold\">(</span>k<span style=\"font-weight: bold\">)</span> in .<span style=\"color: #800080; text-decoration-color: #800080\">/t4//power/</span><span style=\"color: #ff00ff; text-decoration-color: #ff00ff\">pk_newton_multigrid_ncoarse7_00044.dat</span>                                                   \n",
       "</pre>\n"
      ],
      "text/plain": [
       "Write \u001b[1;35mP\u001b[0m\u001b[1m(\u001b[0mk\u001b[1m)\u001b[0m in .\u001b[35m/t4/\u001b[0m\u001b[35m/power/\u001b[0m\u001b[95mpk_newton_multigrid_ncoarse7_00044.dat\u001b[0m                                                   \n"
      ]
     },
     "metadata": {},
     "output_type": "display_data"
    },
    {
     "data": {
      "text/html": [
       "<pre style=\"white-space:pre;overflow-x:auto;line-height:normal;font-family:Menlo,'DejaVu Sans Mono',consolas,'Courier New',monospace\">param<span style=\"font-weight: bold\">[</span><span style=\"color: #008000; text-decoration-color: #008000\">'nsteps'</span><span style=\"font-weight: bold\">]</span>=<span style=\"color: #008080; text-decoration-color: #008080; font-weight: bold\">44</span> param<span style=\"font-weight: bold\">[</span><span style=\"color: #008000; text-decoration-color: #008000\">'aexp'</span><span style=\"font-weight: bold\">]</span>=<span style=\"color: #008080; text-decoration-color: #008080; font-weight: bold\">0.8628134682548443</span> z = <span style=\"color: #008080; text-decoration-color: #008080; font-weight: bold\">0.15899906154992438</span>                                        \n",
       "</pre>\n"
      ],
      "text/plain": [
       "param\u001b[1m[\u001b[0m\u001b[32m'nsteps'\u001b[0m\u001b[1m]\u001b[0m=\u001b[1;36m44\u001b[0m param\u001b[1m[\u001b[0m\u001b[32m'aexp'\u001b[0m\u001b[1m]\u001b[0m=\u001b[1;36m0.8628134682548443\u001b[0m z = \u001b[1;36m0.15899906154992438\u001b[0m                                        \n"
      ]
     },
     "metadata": {},
     "output_type": "display_data"
    },
    {
     "data": {
      "text/html": [
       "<pre style=\"white-space:pre;overflow-x:auto;line-height:normal;font-family:Menlo,'DejaVu Sans Mono',consolas,'Courier New',monospace\">Write <span style=\"color: #800080; text-decoration-color: #800080; font-weight: bold\">P</span><span style=\"font-weight: bold\">(</span>k<span style=\"font-weight: bold\">)</span> in .<span style=\"color: #800080; text-decoration-color: #800080\">/t4//power/</span><span style=\"color: #ff00ff; text-decoration-color: #ff00ff\">pk_newton_multigrid_ncoarse7_00045.dat</span>                                                   \n",
       "</pre>\n"
      ],
      "text/plain": [
       "Write \u001b[1;35mP\u001b[0m\u001b[1m(\u001b[0mk\u001b[1m)\u001b[0m in .\u001b[35m/t4/\u001b[0m\u001b[35m/power/\u001b[0m\u001b[95mpk_newton_multigrid_ncoarse7_00045.dat\u001b[0m                                                   \n"
      ]
     },
     "metadata": {},
     "output_type": "display_data"
    },
    {
     "data": {
      "text/html": [
       "<pre style=\"white-space:pre;overflow-x:auto;line-height:normal;font-family:Menlo,'DejaVu Sans Mono',consolas,'Courier New',monospace\">param<span style=\"font-weight: bold\">[</span><span style=\"color: #008000; text-decoration-color: #008000\">'nsteps'</span><span style=\"font-weight: bold\">]</span>=<span style=\"color: #008080; text-decoration-color: #008080; font-weight: bold\">45</span> param<span style=\"font-weight: bold\">[</span><span style=\"color: #008000; text-decoration-color: #008000\">'aexp'</span><span style=\"font-weight: bold\">]</span>=<span style=\"color: #008080; text-decoration-color: #008080; font-weight: bold\">0.9044127593141652</span> z = <span style=\"color: #008080; text-decoration-color: #008080; font-weight: bold\">0.10568984095085132</span>                                        \n",
       "</pre>\n"
      ],
      "text/plain": [
       "param\u001b[1m[\u001b[0m\u001b[32m'nsteps'\u001b[0m\u001b[1m]\u001b[0m=\u001b[1;36m45\u001b[0m param\u001b[1m[\u001b[0m\u001b[32m'aexp'\u001b[0m\u001b[1m]\u001b[0m=\u001b[1;36m0.9044127593141652\u001b[0m z = \u001b[1;36m0.10568984095085132\u001b[0m                                        \n"
      ]
     },
     "metadata": {},
     "output_type": "display_data"
    },
    {
     "data": {
      "text/html": [
       "<pre style=\"white-space:pre;overflow-x:auto;line-height:normal;font-family:Menlo,'DejaVu Sans Mono',consolas,'Courier New',monospace\">Write <span style=\"color: #800080; text-decoration-color: #800080; font-weight: bold\">P</span><span style=\"font-weight: bold\">(</span>k<span style=\"font-weight: bold\">)</span> in .<span style=\"color: #800080; text-decoration-color: #800080\">/t4//power/</span><span style=\"color: #ff00ff; text-decoration-color: #ff00ff\">pk_newton_multigrid_ncoarse7_00046.dat</span>                                                   \n",
       "</pre>\n"
      ],
      "text/plain": [
       "Write \u001b[1;35mP\u001b[0m\u001b[1m(\u001b[0mk\u001b[1m)\u001b[0m in .\u001b[35m/t4/\u001b[0m\u001b[35m/power/\u001b[0m\u001b[95mpk_newton_multigrid_ncoarse7_00046.dat\u001b[0m                                                   \n"
      ]
     },
     "metadata": {},
     "output_type": "display_data"
    },
    {
     "data": {
      "text/html": [
       "<pre style=\"white-space:pre;overflow-x:auto;line-height:normal;font-family:Menlo,'DejaVu Sans Mono',consolas,'Courier New',monospace\">param<span style=\"font-weight: bold\">[</span><span style=\"color: #008000; text-decoration-color: #008000\">'nsteps'</span><span style=\"font-weight: bold\">]</span>=<span style=\"color: #008080; text-decoration-color: #008080; font-weight: bold\">46</span> param<span style=\"font-weight: bold\">[</span><span style=\"color: #008000; text-decoration-color: #008000\">'aexp'</span><span style=\"font-weight: bold\">]</span>=<span style=\"color: #008080; text-decoration-color: #008080; font-weight: bold\">0.9510036783941047</span> z = <span style=\"color: #008080; text-decoration-color: #008080; font-weight: bold\">0.05152064363056108</span>                                        \n",
       "</pre>\n"
      ],
      "text/plain": [
       "param\u001b[1m[\u001b[0m\u001b[32m'nsteps'\u001b[0m\u001b[1m]\u001b[0m=\u001b[1;36m46\u001b[0m param\u001b[1m[\u001b[0m\u001b[32m'aexp'\u001b[0m\u001b[1m]\u001b[0m=\u001b[1;36m0.9510036783941047\u001b[0m z = \u001b[1;36m0.05152064363056108\u001b[0m                                        \n"
      ]
     },
     "metadata": {},
     "output_type": "display_data"
    },
    {
     "data": {
      "text/html": [
       "<pre style=\"white-space:pre;overflow-x:auto;line-height:normal;font-family:Menlo,'DejaVu Sans Mono',consolas,'Courier New',monospace\">Write <span style=\"color: #800080; text-decoration-color: #800080; font-weight: bold\">P</span><span style=\"font-weight: bold\">(</span>k<span style=\"font-weight: bold\">)</span> in .<span style=\"color: #800080; text-decoration-color: #800080\">/t4//power/</span><span style=\"color: #ff00ff; text-decoration-color: #ff00ff\">pk_newton_multigrid_ncoarse7_00047.dat</span>                                                   \n",
       "</pre>\n"
      ],
      "text/plain": [
       "Write \u001b[1;35mP\u001b[0m\u001b[1m(\u001b[0mk\u001b[1m)\u001b[0m in .\u001b[35m/t4/\u001b[0m\u001b[35m/power/\u001b[0m\u001b[95mpk_newton_multigrid_ncoarse7_00047.dat\u001b[0m                                                   \n"
      ]
     },
     "metadata": {},
     "output_type": "display_data"
    },
    {
     "data": {
      "text/html": [
       "<pre style=\"white-space:pre;overflow-x:auto;line-height:normal;font-family:Menlo,'DejaVu Sans Mono',consolas,'Courier New',monospace\">Snapshot written at <span style=\"color: #808000; text-decoration-color: #808000\">...</span><span style=\"color: #808000; text-decoration-color: #808000\">filename</span>=<span style=\"color: #008000; text-decoration-color: #008000\">'./t4//output_00006/particles_newton_multigrid_ncoarse7.h5'</span> param<span style=\"font-weight: bold\">[</span><span style=\"color: #008000; text-decoration-color: #008000\">'aexp'</span><span style=\"font-weight: bold\">]</span>=<span style=\"color: #008080; text-decoration-color: #008080; font-weight: bold\">1.0</span>      \n",
       "</pre>\n"
      ],
      "text/plain": [
       "Snapshot written at \u001b[33m...\u001b[0m\u001b[33mfilename\u001b[0m=\u001b[32m'./t4//output_00006/particles_newton_multigrid_ncoarse7.h5'\u001b[0m param\u001b[1m[\u001b[0m\u001b[32m'aexp'\u001b[0m\u001b[1m]\u001b[0m=\u001b[1;36m1.0\u001b[0m      \n"
      ]
     },
     "metadata": {},
     "output_type": "display_data"
    },
    {
     "data": {
      "text/html": [
       "<pre style=\"white-space:pre;overflow-x:auto;line-height:normal;font-family:Menlo,'DejaVu Sans Mono',consolas,'Courier New',monospace\">param<span style=\"font-weight: bold\">[</span><span style=\"color: #008000; text-decoration-color: #008000\">'nsteps'</span><span style=\"font-weight: bold\">]</span>=<span style=\"color: #008080; text-decoration-color: #008080; font-weight: bold\">47</span> param<span style=\"font-weight: bold\">[</span><span style=\"color: #008000; text-decoration-color: #008000\">'aexp'</span><span style=\"font-weight: bold\">]</span>=<span style=\"color: #008080; text-decoration-color: #008080; font-weight: bold\">1.0</span> z = <span style=\"color: #008080; text-decoration-color: #008080; font-weight: bold\">0.0</span>                                                                       \n",
       "</pre>\n"
      ],
      "text/plain": [
       "param\u001b[1m[\u001b[0m\u001b[32m'nsteps'\u001b[0m\u001b[1m]\u001b[0m=\u001b[1;36m47\u001b[0m param\u001b[1m[\u001b[0m\u001b[32m'aexp'\u001b[0m\u001b[1m]\u001b[0m=\u001b[1;36m1.0\u001b[0m z = \u001b[1;36m0.0\u001b[0m                                                                       \n"
      ]
     },
     "metadata": {},
     "output_type": "display_data"
    }
   ],
   "source": [
    "main.run(param)"
   ]
  },
  {
   "cell_type": "code",
   "execution_count": 4,
   "id": "12253e6e-2e12-4e89-a94b-c0ea49c2d8f8",
   "metadata": {},
   "outputs": [],
   "source": [
    "import numpy as np\n",
    "import matplotlib.pyplot as plt"
   ]
  },
  {
   "cell_type": "code",
   "execution_count": 9,
   "id": "8f245db8-f29f-4115-974c-0ab46feafe97",
   "metadata": {},
   "outputs": [
    {
     "data": {
      "text/plain": [
       "[<matplotlib.lines.Line2D at 0x305d07170>]"
      ]
     },
     "execution_count": 9,
     "metadata": {},
     "output_type": "execute_result"
    },
    {
     "data": {
      "image/png": "[encoded data removed]",
      "text/plain": [
       "<Figure size 640x480 with 1 Axes>"
      ]
     },
     "metadata": {},
     "output_type": "display_data"
    }
   ],
   "source": [
    "x = np.loadtxt('./t4/power/pk_eft_multigrid_ncoarse7_00054.dat')\n",
    "plt.loglog(x[:,0],x[:,1],'.')\n",
    "\n",
    "x = np.loadtxt('./t4/power/pk_newton_multigrid_ncoarse7_00047.dat')\n",
    "plt.loglog(x[:,0],x[:,1],'.')\n",
    "\n"
   ]
  },
  {
   "cell_type": "code",
   "execution_count": 9,
   "id": "2a09895b-7fa4-42d0-a9ce-3b806a1b0de4",
   "metadata": {},
   "outputs": [
    {
     "data": {
      "text/plain": [
       "[<matplotlib.lines.Line2D at 0x307fd0680>]"
      ]
     },
     "execution_count": 9,
     "metadata": {},
     "output_type": "execute_result"
    },
    {
     "data": {
      "image/png": "[encoded data removed]",
      "text/plain": [
       "<Figure size 640x480 with 1 Axes>"
      ]
     },
     "metadata": {},
     "output_type": "display_data"
    }
   ],
   "source": [
    "x = np.loadtxt('./t4/power/pk_eft_multigrid_ncoarse7_00001.dat')\n",
    "plt.loglog(x[:,0],x[:,1],'.')\n",
    "\n",
    "x = np.loadtxt('./t4/power/pk_newton_multigrid_ncoarse7_00001.dat')\n",
    "plt.loglog(x[:,0],x[:,1],'.')\n",
    "\n"
   ]
  },
  {
   "cell_type": "code",
   "execution_count": null,
   "id": "de0d99c0-463c-41fc-9c69-ff216f791b3c",
   "metadata": {},
   "outputs": [],
   "source": [
    "pwd"
   ]
  },
  {
   "cell_type": "code",
   "execution_count": null,
   "id": "50ac511f-b87a-4d85-a99b-3e65b0e3c710",
   "metadata": {},
   "outputs": [],
   "source": [
    "\n",
    "\n",
    "x = np.loadtxt('./tester3/power/pk_eft_multigrid_ncoarse8_00001.dat')\n",
    "plt.loglog(x[:,0],x[:,1],'.')\n",
    "\n",
    "\n",
    "x = np.loadtxt('./tester3/power/pk_eft_multigrid_ncoarse8_00080.dat')\n",
    "plt.loglog(x[:,0],x[:,1],'.')\n",
    "\n",
    "plt.gca().set_prop_cycle(None)\n",
    "\n",
    "x = np.loadtxt('./tester3/power/pk_newton_multigrid_ncoarse8_00001.dat')\n",
    "plt.plot(x[:,0],x[:,1])\n",
    "\n",
    "x = np.loadtxt('./tester3/power/pk_newton_multigrid_ncoarse8_00085.dat')\n",
    "plt.plot(x[:,0],x[:,1])"
   ]
  },
  {
   "cell_type": "code",
   "execution_count": null,
   "id": "21e4f1c4-a5a4-4661-bdaf-ce7db80c0e15",
   "metadata": {},
   "outputs": [],
   "source": [
    "\n",
    "\n",
    "\n",
    "x = np.loadtxt('./boxlen100_n32/power/pk_newton_multigrid_ncoarse5_00010.dat')\n",
    "plt.loglog(x[:,0],x[:,1],'.')\n",
    "\n",
    "x = np.loadtxt('./boxlen100_n32/power/pk_eft_multigrid_ncoarse5_00010.dat')\n",
    "plt.loglog(x[:,0],x[:,1],'x')"
   ]
  },
  {
   "cell_type": "code",
   "execution_count": null,
   "id": "87df80cd-5230-4cb7-8791-1e7de4f88a83",
   "metadata": {},
   "outputs": [],
   "source": [
    "plt.loglog(x["
   ]
  },
  {
   "cell_type": "code",
   "execution_count": null,
   "id": "ddb85791-d8e9-4e4c-9146-adc2d33abb79",
   "metadata": {},
   "outputs": [],
   "source": []
  }
 ],
 "metadata": {
  "kernelspec": {
   "display_name": "Python 3 (ipykernel)",
   "language": "python",
   "name": "python3"
  },
  "language_info": {
   "codemirror_mode": {
    "name": "ipython",
    "version": 3
   },
   "file_extension": ".py",
   "mimetype": "text/x-python",
   "name": "python",
   "nbconvert_exporter": "python",
   "pygments_lexer": "ipython3",
   "version": "3.12.7"
  }
 },
 "nbformat": 4,
 "nbformat_minor": 5
}
