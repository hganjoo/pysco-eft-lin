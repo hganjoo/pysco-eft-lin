{
 "cells": [
  {
   "cell_type": "code",
   "execution_count": null,
   "id": "14a6eab9-27b7-443c-a6a4-f8a0220446e4",
   "metadata": {},
   "outputs": [],
   "source": [
    "pwd"
   ]
  },
  {
   "cell_type": "code",
   "execution_count": 1,
   "id": "b849885c-861b-4f15-a951-6cf85cb9fcee",
   "metadata": {},
   "outputs": [],
   "source": [
    "import main\n",
    "import pandas as pd"
   ]
  },
  {
   "cell_type": "code",
   "execution_count": null,
   "id": "edcbfe75-123d-43a7-bfbc-171e76ae7f94",
   "metadata": {},
   "outputs": [],
   "source": [
    "path = '.'\n",
    "\n",
    "param = pd.Series({\n",
    "    \"theory\": \"eft\",\n",
    "    \"alphaB0\": 0.1,\n",
    "    \"alphaM0\": 0.0,\n",
    "    \"extra\":'04_01',\n",
    "    \"nthreads\": 1,\n",
    "    \"H0\": 72,\n",
    "    \"Om_m\": 1.,\n",
    "    \"T_cmb\": 0.1,\n",
    "    \"N_eff\": 3.044,\n",
    "    \"w0\": -1.0,\n",
    "    \"wa\": 0.0,\n",
    "    \"boxlen\": 100,\n",
    "    \"ncoarse\": 7,\n",
    "    \"npart\": 128**3,\n",
    "    \"z_start\": 25,\n",
    "    \"seed\": 42,\n",
    "    \"position_ICS\": \"center\",\n",
    "    \"fixed_ICS\": False,\n",
    "    \"paired_ICS\": False,\n",
    "    \"dealiased_ICS\": False,\n",
    "    \"power_spectrum_file\": f\"{path}/pk_lcdmw7v2.dat\",\n",
    "    \"initial_conditions\": \"2LPT\",\n",
    "    \"base\": f\"{path}/ptest-c/\",\n",
    "    \"z_out\": \"[20,19,18,17,16,15,14,13,12,11,10,9,8,7,6,5,4,3,2,1,0.95,0.9,0.85,0.8,0.75,0.7,0.65,0.6,0.55,0.5,0.45,0.4,0.35,0.3,0.25,0.2,0.15,0.1,0.05,0]\",\n",
    "    \"output_snapshot_format\": \"HDF5\",\n",
    "    \"save_power_spectrum\": \"no\",\n",
    "    \"integrator\": \"leapfrog\",\n",
    "    \"n_reorder\": 50,\n",
    "    \"mass_scheme\": \"TSC\",\n",
    "    \"Courant_factor\": 1.0,\n",
    "    \"max_aexp_stepping\": 10,\n",
    "    \"linear_newton_solver\": \"multigrid\",\n",
    "    \"gradient_stencil_order\": 5,\n",
    "    \"Npre\": 2,\n",
    "    \"Npost\": 1,\n",
    "    \"epsrel\": 1e-2,\n",
    "    \"verbose\": 1,\n",
    "    \"evolution_table\":'no',\n",
    "    \"Om_lambda\":0\n",
    "    })\n",
    "\n",
    "main.run(param)"
   ]
  },
  {
   "cell_type": "code",
   "execution_count": 2,
   "id": "84ec35f0-74e6-47d5-b6b2-186d2fe6179a",
   "metadata": {},
   "outputs": [
    {
     "data": {
      "text/html": [
       "<pre style=\"white-space:pre;overflow-x:auto;line-height:normal;font-family:Menlo,'DejaVu Sans Mono',consolas,'Courier New',monospace\">param<span style=\"font-weight: bold\">[</span><span style=\"color: #008000; text-decoration-color: #008000\">'nthreads'</span><span style=\"font-weight: bold\">]</span>=<span style=\"color: #008080; text-decoration-color: #008080; font-weight: bold\">1</span>                                                                                                \n",
       "</pre>\n"
      ],
      "text/plain": [
       "param\u001b[1m[\u001b[0m\u001b[32m'nthreads'\u001b[0m\u001b[1m]\u001b[0m=\u001b[1;36m1\u001b[0m                                                                                                \n"
      ]
     },
     "metadata": {},
     "output_type": "display_data"
    },
    {
     "data": {
      "text/html": [
       "<pre style=\"white-space:pre;overflow-x:auto;line-height:normal;font-family:Menlo,'DejaVu Sans Mono',consolas,'Courier New',monospace\">                                                                                                                   \n",
       "<span style=\"color: #008000; text-decoration-color: #008000; font-weight: bold\">FFT module: NumPy</span>                                                                                                  \n",
       "</pre>\n"
      ],
      "text/plain": [
       "                                                                                                                   \n",
       "\u001b[1;32mFFT module: NumPy\u001b[0m                                                                                                  \n"
      ]
     },
     "metadata": {},
     "output_type": "display_data"
    },
    {
     "data": {
      "text/html": [
       "<pre style=\"white-space:pre;overflow-x:auto;line-height:normal;font-family:Menlo,'DejaVu Sans Mono',consolas,'Courier New',monospace\">                                                                                                                   \n",
       "<span style=\"color: #000080; text-decoration-color: #000080; font-weight: bold\">----- Compute background cosmology -----</span>                                                                           \n",
       "                                                                                                                   \n",
       "</pre>\n"
      ],
      "text/plain": [
       "                                                                                                                   \n",
       "\u001b[1;34m----- Compute background cosmology -----\u001b[0m                                                                           \n",
       "                                                                                                                   \n"
      ]
     },
     "metadata": {},
     "output_type": "display_data"
    },
    {
     "name": "stdout",
     "output_type": "stream",
     "text": [
      "(100000,) (100000,) (100000,) (100000,) (100000,)\n"
     ]
    },
    {
     "data": {
      "text/html": [
       "<pre style=\"white-space:pre;overflow-x:auto;line-height:normal;font-family:Menlo,'DejaVu Sans Mono',consolas,'Courier New',monospace\">Write table in: .<span style=\"color: #800080; text-decoration-color: #800080\">/small//</span><span style=\"color: #ff00ff; text-decoration-color: #ff00ff\">evolution_table_pysco_eft_multigrid_ncoarse3.txt</span>                                          \n",
       "</pre>\n"
      ],
      "text/plain": [
       "Write table in: .\u001b[35m/small/\u001b[0m\u001b[35m/\u001b[0m\u001b[95mevolution_table_pysco_eft_multigrid_ncoarse3.txt\u001b[0m                                          \n"
      ]
     },
     "metadata": {},
     "output_type": "display_data"
    },
    {
     "data": {
      "text/html": [
       "<pre style=\"white-space:pre;overflow-x:auto;line-height:normal;font-family:Menlo,'DejaVu Sans Mono',consolas,'Courier New',monospace\">                                                                                                                   \n",
       "<span style=\"color: #000080; text-decoration-color: #000080; font-weight: bold\">----- Initial conditions -----</span>                                                                                     \n",
       "                                                                                                                   \n",
       "</pre>\n"
      ],
      "text/plain": [
       "                                                                                                                   \n",
       "\u001b[1;34m----- Initial conditions -----\u001b[0m                                                                                     \n",
       "                                                                                                                   \n"
      ]
     },
     "metadata": {},
     "output_type": "display_data"
    },
    {
     "data": {
      "text/html": [
       "<pre style=\"white-space:pre;overflow-x:auto;line-height:normal;font-family:Menlo,'DejaVu Sans Mono',consolas,'Courier New',monospace\">param<span style=\"font-weight: bold\">[</span><span style=\"color: #008000; text-decoration-color: #008000\">'z_start'</span><span style=\"font-weight: bold\">]</span>=<span style=\"color: #008080; text-decoration-color: #008080; font-weight: bold\">25</span>                                                                                                \n",
       "</pre>\n"
      ],
      "text/plain": [
       "param\u001b[1m[\u001b[0m\u001b[32m'z_start'\u001b[0m\u001b[1m]\u001b[0m=\u001b[1;36m25\u001b[0m                                                                                                \n"
      ]
     },
     "metadata": {},
     "output_type": "display_data"
    },
    {
     "data": {
      "text/html": [
       "<pre style=\"white-space:pre;overflow-x:auto;line-height:normal;font-family:Menlo,'DejaVu Sans Mono',consolas,'Courier New',monospace\">Compute 1LPT contribution                                                                                          \n",
       "</pre>\n"
      ],
      "text/plain": [
       "Compute 1LPT contribution                                                                                          \n"
      ]
     },
     "metadata": {},
     "output_type": "display_data"
    },
    {
     "data": {
      "text/html": [
       "<pre style=\"white-space:pre;overflow-x:auto;line-height:normal;font-family:Menlo,'DejaVu Sans Mono',consolas,'Courier New',monospace\">Compute 2LPT contribution                                                                                          \n",
       "</pre>\n"
      ],
      "text/plain": [
       "Compute 2LPT contribution                                                                                          \n"
      ]
     },
     "metadata": {},
     "output_type": "display_data"
    },
    {
     "data": {
      "text/html": [
       "<pre style=\"white-space:pre;overflow-x:auto;line-height:normal;font-family:Menlo,'DejaVu Sans Mono',consolas,'Courier New',monospace\">Write initial snapshot<span style=\"color: #808000; text-decoration-color: #808000\">...</span><span style=\"color: #808000; text-decoration-color: #808000\">snap_name</span>=<span style=\"color: #008000; text-decoration-color: #008000\">'./small//output_00000/particles_eft_multigrid_ncoarse3.h5'</span>                     \n",
       "</pre>\n"
      ],
      "text/plain": [
       "Write initial snapshot\u001b[33m...\u001b[0m\u001b[33msnap_name\u001b[0m=\u001b[32m'./small//output_00000/particles_eft_multigrid_ncoarse3.h5'\u001b[0m                     \n"
      ]
     },
     "metadata": {},
     "output_type": "display_data"
    },
    {
     "name": "stdout",
     "output_type": "stream",
     "text": [
      "ICs [0.06106565 0.0620849  0.06327607] [-2.8379928e-04 -8.2904036e-05  1.5257328e-04]\n"
     ]
    },
    {
     "data": {
      "text/html": [
       "<pre style=\"white-space:pre;overflow-x:auto;line-height:normal;font-family:Menlo,'DejaVu Sans Mono',consolas,'Courier New',monospace\">param<span style=\"font-weight: bold\">[</span><span style=\"color: #008000; text-decoration-color: #008000\">'aexp'</span><span style=\"font-weight: bold\">]</span>=<span style=\"color: #008080; text-decoration-color: #008080; font-weight: bold\">0.038461538461538464</span> param<span style=\"font-weight: bold\">[</span><span style=\"color: #008000; text-decoration-color: #008000\">'t'</span><span style=\"font-weight: bold\">]</span>=<span style=\"color: #800080; text-decoration-color: #800080; font-weight: bold\">array</span><span style=\"font-weight: bold\">(</span><span style=\"color: #008080; text-decoration-color: #008080; font-weight: bold\">-8.19803902</span><span style=\"font-weight: bold\">)</span>                                                   \n",
       "</pre>\n"
      ],
      "text/plain": [
       "param\u001b[1m[\u001b[0m\u001b[32m'aexp'\u001b[0m\u001b[1m]\u001b[0m=\u001b[1;36m0.038461538461538464\u001b[0m param\u001b[1m[\u001b[0m\u001b[32m't'\u001b[0m\u001b[1m]\u001b[0m=\u001b[1;35marray\u001b[0m\u001b[1m(\u001b[0m\u001b[1;36m-8.19803902\u001b[0m\u001b[1m)\u001b[0m                                                   \n"
      ]
     },
     "metadata": {},
     "output_type": "display_data"
    },
    {
     "data": {
      "text/html": [
       "<pre style=\"white-space:pre;overflow-x:auto;line-height:normal;font-family:Menlo,'DejaVu Sans Mono',consolas,'Courier New',monospace\">                                                                                                                   \n",
       "<span style=\"color: #000080; text-decoration-color: #000080; font-weight: bold\">----- Run N-body -----</span>                                                                                             \n",
       "                                                                                                                   \n",
       "</pre>\n"
      ],
      "text/plain": [
       "                                                                                                                   \n",
       "\u001b[1;34m----- Run N-body -----\u001b[0m                                                                                             \n",
       "                                                                                                                   \n"
      ]
     },
     "metadata": {},
     "output_type": "display_data"
    },
    {
     "name": "stdout",
     "output_type": "stream",
     "text": [
      "1.25\n",
      "1.25\n",
      "Step: 1 [0.06092269 0.06203942 0.06335537] [-0.00032233 -0.00011153  0.00018471] [[ 8.34767893e-03  4.65737656e-03  3.06400983e-03  4.80328687e-03\n",
      "   1.18410797e-03 -1.99626014e-03 -6.05219859e-04  4.23845975e-03]\n",
      " [ 3.53347044e-03 -2.25510797e-03 -3.37853865e-03  1.20264944e-04\n",
      "  -9.82011436e-04 -3.31644947e-03 -2.86870566e-03  1.83810422e-03]\n",
      " [-9.49221663e-04 -8.05130880e-03 -8.07434414e-03 -4.41257749e-03\n",
      "  -3.65999667e-03 -2.81970506e-03 -2.50533922e-03 -6.51419396e-04]\n",
      " [ 1.70431286e-03 -1.34272210e-03 -5.02300914e-03 -3.71062220e-03\n",
      "  -2.01250170e-03 -1.26927509e-03  1.11071113e-03  1.38080725e-03]\n",
      " [ 5.84109779e-03  2.73087621e-03  1.42615987e-03  2.54752580e-03\n",
      "   1.64346362e-04 -1.19906617e-05  5.01987711e-03  6.81488216e-03]\n",
      " [ 3.99108324e-03  1.01269176e-03  2.65740789e-04  2.07999023e-03\n",
      "  -1.32928602e-04  1.85023295e-04  2.74094357e-03  3.56001593e-03]\n",
      " [-5.45844901e-04  2.78266869e-03 -5.21283830e-04  7.48168677e-04\n",
      "  -5.02684852e-05 -1.31752488e-04  4.57588292e-04 -2.77232076e-03]\n",
      " [ 3.24911368e-03  4.60519781e-03  3.68644902e-03  4.13205009e-03\n",
      "   8.88592680e-04  3.10310978e-04  1.07248209e-03 -1.02791528e-04]]\n"
     ]
    },
    {
     "data": {
      "text/html": [
       "<pre style=\"white-space:pre;overflow-x:auto;line-height:normal;font-family:Menlo,'DejaVu Sans Mono',consolas,'Courier New',monospace\">param<span style=\"font-weight: bold\">[</span><span style=\"color: #008000; text-decoration-color: #008000\">'nsteps'</span><span style=\"font-weight: bold\">]</span>=<span style=\"color: #008080; text-decoration-color: #008080; font-weight: bold\">1</span> param<span style=\"font-weight: bold\">[</span><span style=\"color: #008000; text-decoration-color: #008000\">'aexp'</span><span style=\"font-weight: bold\">]</span>=<span style=\"color: #008080; text-decoration-color: #008080; font-weight: bold\">0.04230769231665062</span> z = <span style=\"color: #008080; text-decoration-color: #008080; font-weight: bold\">22.636363631358826</span>                                         \n",
       "</pre>\n"
      ],
      "text/plain": [
       "param\u001b[1m[\u001b[0m\u001b[32m'nsteps'\u001b[0m\u001b[1m]\u001b[0m=\u001b[1;36m1\u001b[0m param\u001b[1m[\u001b[0m\u001b[32m'aexp'\u001b[0m\u001b[1m]\u001b[0m=\u001b[1;36m0.04230769231665062\u001b[0m z = \u001b[1;36m22.636363631358826\u001b[0m                                         \n"
      ]
     },
     "metadata": {},
     "output_type": "display_data"
    },
    {
     "name": "stdout",
     "output_type": "stream",
     "text": [
      "1.25\n",
      "Step: 2 [0.06076773 0.06198218 0.06344655] [-0.00036678 -0.0001447   0.00022186] [[ 1.0059462e-02  5.6352015e-03  3.7171240e-03  5.7720421e-03\n",
      "   1.4035623e-03 -2.4104847e-03 -7.4230414e-04  5.0915033e-03]\n",
      " [ 4.2487457e-03 -2.7050672e-03 -4.0475056e-03  1.1151284e-04\n",
      "  -1.2226210e-03 -4.0041017e-03 -3.4506749e-03  2.2042133e-03]\n",
      " [-1.1164697e-03 -9.6114175e-03 -9.6621830e-03 -5.3237616e-03\n",
      "  -4.4226847e-03 -3.4162384e-03 -3.0116094e-03 -7.6433294e-04]\n",
      " [ 2.0707357e-03 -1.6331144e-03 -6.0440619e-03 -4.4847485e-03\n",
      "  -2.4508438e-03 -1.5497182e-03  1.3191930e-03  1.6883970e-03]\n",
      " [ 7.0497491e-03  3.2840709e-03  1.6974738e-03  3.0263443e-03\n",
      "   1.8892408e-04 -1.5388301e-05  6.0306871e-03  8.2185771e-03]\n",
      " [ 4.8150970e-03  1.2410013e-03  3.4843560e-04  2.5077167e-03\n",
      "  -1.4399085e-04  2.3247127e-04  3.3055153e-03  4.2986800e-03]\n",
      " [-6.1865896e-04  3.3632689e-03 -5.7943957e-04  9.2287106e-04\n",
      "  -4.8660790e-05 -1.4739053e-04  5.6218443e-04 -3.2789183e-03]\n",
      " [ 3.9366456e-03  5.5819531e-03  4.4776131e-03  4.9814386e-03\n",
      "   1.0722091e-03  3.6832073e-04  1.2844657e-03 -9.2003495e-05]]\n"
     ]
    },
    {
     "data": {
      "text/html": [
       "<pre style=\"white-space:pre;overflow-x:auto;line-height:normal;font-family:Menlo,'DejaVu Sans Mono',consolas,'Courier New',monospace\">param<span style=\"font-weight: bold\">[</span><span style=\"color: #008000; text-decoration-color: #008000\">'nsteps'</span><span style=\"font-weight: bold\">]</span>=<span style=\"color: #008080; text-decoration-color: #008080; font-weight: bold\">2</span> param<span style=\"font-weight: bold\">[</span><span style=\"color: #008000; text-decoration-color: #008000\">'aexp'</span><span style=\"font-weight: bold\">]</span>=<span style=\"color: #008080; text-decoration-color: #008080; font-weight: bold\">0.04653846157706196</span> z = <span style=\"color: #008080; text-decoration-color: #008080; font-weight: bold\">20.48760328796265</span>                                          \n",
       "</pre>\n"
      ],
      "text/plain": [
       "param\u001b[1m[\u001b[0m\u001b[32m'nsteps'\u001b[0m\u001b[1m]\u001b[0m=\u001b[1;36m2\u001b[0m param\u001b[1m[\u001b[0m\u001b[32m'aexp'\u001b[0m\u001b[1m]\u001b[0m=\u001b[1;36m0.04653846157706196\u001b[0m z = \u001b[1;36m20.48760328796265\u001b[0m                                          \n"
      ]
     },
     "metadata": {},
     "output_type": "display_data"
    },
    {
     "name": "stdout",
     "output_type": "stream",
     "text": [
      "1.25\n",
      "Step: 3 [0.06072833 0.06196643 0.06347053] [-0.00037841 -0.00015342  0.00023162] [[ 1.05166407e-02  5.90037694e-03  3.89581965e-03  6.03011344e-03\n",
      "   1.46050425e-03 -2.52211560e-03 -7.79804774e-04  5.31885307e-03]\n",
      " [ 4.44037607e-03 -2.82225921e-03 -4.22370061e-03  1.06077874e-04\n",
      "  -1.29103893e-03 -4.19024751e-03 -3.60616040e-03  2.30224803e-03]\n",
      " [-1.15788751e-03 -1.00216679e-02 -1.00838020e-02 -5.57025196e-03\n",
      "  -4.62963432e-03 -3.57894367e-03 -3.14678438e-03 -7.91429309e-04]\n",
      " [ 2.17177998e-03 -1.71126309e-03 -6.31730631e-03 -4.69411490e-03\n",
      "  -2.57152109e-03 -1.62673998e-03  1.37443235e-03  1.77496066e-03]\n",
      " [ 7.37471133e-03  3.43204406e-03  1.76803209e-03  3.14996135e-03\n",
      "   1.94454420e-04 -1.59093761e-05  6.29978953e-03  8.59527476e-03]\n",
      " [ 5.03689796e-03  1.30522694e-03  3.73541145e-04  2.62236595e-03\n",
      "  -1.45118800e-04  2.46501295e-04  3.45741818e-03  4.49839374e-03]\n",
      " [-6.32988056e-04  3.52029921e-03 -5.88956289e-04  9.72345704e-04\n",
      "  -4.64220066e-05 -1.50124339e-04  5.91362652e-04 -3.40794353e-03]\n",
      " [ 4.12369007e-03  5.84744243e-03  4.69392864e-03  5.20945201e-03\n",
      "   1.12220843e-03  3.83385574e-04  1.34026678e-03 -8.54179962e-05]]\n"
     ]
    },
    {
     "data": {
      "text/html": [
       "<pre style=\"white-space:pre;overflow-x:auto;line-height:normal;font-family:Menlo,'DejaVu Sans Mono',consolas,'Courier New',monospace\">Snapshot written at <span style=\"color: #808000; text-decoration-color: #808000\">...</span><span style=\"color: #808000; text-decoration-color: #808000\">filename</span>=<span style=\"color: #008000; text-decoration-color: #008000\">'./small//output_00001/particles_eft_multigrid_ncoarse3.h5'</span>                        \n",
       "param<span style=\"font-weight: bold\">[</span><span style=\"color: #008000; text-decoration-color: #008000\">'aexp'</span><span style=\"font-weight: bold\">]</span>=<span style=\"color: #008080; text-decoration-color: #008080; font-weight: bold\">0.047619047619047616</span>                                                                                 \n",
       "</pre>\n"
      ],
      "text/plain": [
       "Snapshot written at \u001b[33m...\u001b[0m\u001b[33mfilename\u001b[0m=\u001b[32m'./small//output_00001/particles_eft_multigrid_ncoarse3.h5'\u001b[0m                        \n",
       "param\u001b[1m[\u001b[0m\u001b[32m'aexp'\u001b[0m\u001b[1m]\u001b[0m=\u001b[1;36m0.047619047619047616\u001b[0m                                                                                 \n"
      ]
     },
     "metadata": {},
     "output_type": "display_data"
    },
    {
     "data": {
      "text/html": [
       "<pre style=\"white-space:pre;overflow-x:auto;line-height:normal;font-family:Menlo,'DejaVu Sans Mono',consolas,'Courier New',monospace\">param<span style=\"font-weight: bold\">[</span><span style=\"color: #008000; text-decoration-color: #008000\">'nsteps'</span><span style=\"font-weight: bold\">]</span>=<span style=\"color: #008080; text-decoration-color: #008080; font-weight: bold\">3</span> param<span style=\"font-weight: bold\">[</span><span style=\"color: #008000; text-decoration-color: #008000\">'aexp'</span><span style=\"font-weight: bold\">]</span>=<span style=\"color: #008080; text-decoration-color: #008080; font-weight: bold\">0.047619047619047616</span> z = <span style=\"color: #008080; text-decoration-color: #008080; font-weight: bold\">20.0</span>                                                      \n",
       "</pre>\n"
      ],
      "text/plain": [
       "param\u001b[1m[\u001b[0m\u001b[32m'nsteps'\u001b[0m\u001b[1m]\u001b[0m=\u001b[1;36m3\u001b[0m param\u001b[1m[\u001b[0m\u001b[32m'aexp'\u001b[0m\u001b[1m]\u001b[0m=\u001b[1;36m0.047619047619047616\u001b[0m z = \u001b[1;36m20.0\u001b[0m                                                      \n"
      ]
     },
     "metadata": {},
     "output_type": "display_data"
    },
    {
     "name": "stdout",
     "output_type": "stream",
     "text": [
      "1.25\n",
      "Step: 4 [0.060642   0.06193048 0.06352399] [-0.00040454 -0.00017305  0.00025354] [[ 1.1551371e-02  6.5058284e-03  4.3057594e-03  6.6130110e-03\n",
      "   1.5871050e-03 -2.7761133e-03 -8.6607807e-04  5.8328100e-03]\n",
      " [ 4.8746793e-03 -3.0834889e-03 -4.6194931e-03  8.9388574e-05\n",
      "  -1.4516390e-03 -4.6146549e-03 -3.9581964e-03  2.5245328e-03]\n",
      " [-1.2472686e-03 -1.0941616e-02 -1.1034513e-02 -6.1322409e-03\n",
      "  -5.1023127e-03 -3.9517209e-03 -3.4523765e-03 -8.4904162e-04]\n",
      " [ 2.4045063e-03 -1.8889650e-03 -6.9361581e-03 -5.1713940e-03\n",
      "  -2.8491351e-03 -1.8040487e-03  1.4985511e-03  1.9767159e-03]\n",
      " [ 8.1128124e-03  3.7672527e-03  1.9247682e-03  3.4242256e-03\n",
      "   2.0553000e-04 -1.6451289e-05  6.9076377e-03  9.4502224e-03]\n",
      " [ 5.5411006e-03  1.4547841e-03  4.3476466e-04  2.8821069e-03\n",
      "  -1.4499004e-04  2.8013729e-04  3.8026955e-03  4.9533513e-03]\n",
      " [-6.5867952e-04  3.8786759e-03 -6.0272729e-04  1.0879911e-03\n",
      "  -3.8960483e-05 -1.5433726e-04  6.5895310e-04 -3.6914460e-03]\n",
      " [ 4.5518652e-03  6.4543672e-03  5.1899380e-03  5.7269912e-03\n",
      "   1.2366854e-03  4.1663507e-04  1.4653057e-03 -6.5636239e-05]]\n"
     ]
    },
    {
     "data": {
      "text/html": [
       "<pre style=\"white-space:pre;overflow-x:auto;line-height:normal;font-family:Menlo,'DejaVu Sans Mono',consolas,'Courier New',monospace\">Snapshot written at <span style=\"color: #808000; text-decoration-color: #808000\">...</span><span style=\"color: #808000; text-decoration-color: #808000\">filename</span>=<span style=\"color: #008000; text-decoration-color: #008000\">'./small//output_00002/particles_eft_multigrid_ncoarse3.h5'</span>                        \n",
       "param<span style=\"font-weight: bold\">[</span><span style=\"color: #008000; text-decoration-color: #008000\">'aexp'</span><span style=\"font-weight: bold\">]</span>=<span style=\"color: #008080; text-decoration-color: #008080; font-weight: bold\">0.05000000000000001</span>                                                                                  \n",
       "</pre>\n"
      ],
      "text/plain": [
       "Snapshot written at \u001b[33m...\u001b[0m\u001b[33mfilename\u001b[0m=\u001b[32m'./small//output_00002/particles_eft_multigrid_ncoarse3.h5'\u001b[0m                        \n",
       "param\u001b[1m[\u001b[0m\u001b[32m'aexp'\u001b[0m\u001b[1m]\u001b[0m=\u001b[1;36m0.05000000000000001\u001b[0m                                                                                  \n"
      ]
     },
     "metadata": {},
     "output_type": "display_data"
    },
    {
     "data": {
      "text/html": [
       "<pre style=\"white-space:pre;overflow-x:auto;line-height:normal;font-family:Menlo,'DejaVu Sans Mono',consolas,'Courier New',monospace\">param<span style=\"font-weight: bold\">[</span><span style=\"color: #008000; text-decoration-color: #008000\">'nsteps'</span><span style=\"font-weight: bold\">]</span>=<span style=\"color: #008080; text-decoration-color: #008080; font-weight: bold\">4</span> param<span style=\"font-weight: bold\">[</span><span style=\"color: #008000; text-decoration-color: #008000\">'aexp'</span><span style=\"font-weight: bold\">]</span>=<span style=\"color: #008080; text-decoration-color: #008080; font-weight: bold\">0.05000000000000001</span> z = <span style=\"color: #008080; text-decoration-color: #008080; font-weight: bold\">18.999999999999996</span>                                         \n",
       "</pre>\n"
      ],
      "text/plain": [
       "param\u001b[1m[\u001b[0m\u001b[32m'nsteps'\u001b[0m\u001b[1m]\u001b[0m=\u001b[1;36m4\u001b[0m param\u001b[1m[\u001b[0m\u001b[32m'aexp'\u001b[0m\u001b[1m]\u001b[0m=\u001b[1;36m0.05000000000000001\u001b[0m z = \u001b[1;36m18.999999999999996\u001b[0m                                         \n"
      ]
     },
     "metadata": {},
     "output_type": "display_data"
    },
    {
     "name": "stdout",
     "output_type": "stream",
     "text": [
      "1.25\n",
      "Step: 5 [0.0605472  0.06188889 0.06358408] [-0.00043412 -0.00019541  0.00027846] [[ 1.2738881e-02  7.2092577e-03  4.7852634e-03  7.2803330e-03\n",
      "   1.7287044e-03 -3.0697016e-03 -9.6715591e-04  6.4214608e-03]\n",
      " [ 5.3742565e-03 -3.3769379e-03 -5.0686598e-03  6.3418178e-05\n",
      "  -1.6449895e-03 -5.1068640e-03 -4.3624495e-03  2.7801490e-03]\n",
      " [-1.3427893e-03 -1.1983630e-02 -1.2120005e-02 -6.7836437e-03\n",
      "  -5.6515490e-03 -4.3867184e-03 -3.8028141e-03 -9.0892008e-04]\n",
      " [ 2.6783384e-03 -2.0943435e-03 -7.6474035e-03 -5.7246564e-03\n",
      "  -3.1753439e-03 -2.0122614e-03  1.6397610e-03  2.2176886e-03]\n",
      " [ 8.9645386e-03  4.1524312e-03  2.1003685e-03  3.7297723e-03\n",
      "   2.1601483e-04 -1.6345235e-05  7.6034474e-03  1.0435288e-02]\n",
      " [ 6.1234296e-03  1.6333922e-03  5.1170541e-04  3.1809385e-03\n",
      "  -1.4083553e-04  3.2174611e-04  4.2013419e-03  5.4807183e-03]\n",
      " [-6.7730248e-04  4.2944280e-03 -6.0566375e-04  1.2268089e-03\n",
      "  -2.6582275e-05 -1.5614444e-04  7.3923753e-04 -4.0032510e-03]\n",
      " [ 5.0507002e-03  7.1608024e-03  5.7698367e-03  6.3235117e-03\n",
      "   1.3699812e-03  4.5371556e-04  1.6070625e-03 -3.4949975e-05]]\n"
     ]
    },
    {
     "data": {
      "text/html": [
       "<pre style=\"white-space:pre;overflow-x:auto;line-height:normal;font-family:Menlo,'DejaVu Sans Mono',consolas,'Courier New',monospace\">Snapshot written at <span style=\"color: #808000; text-decoration-color: #808000\">...</span><span style=\"color: #808000; text-decoration-color: #808000\">filename</span>=<span style=\"color: #008000; text-decoration-color: #008000\">'./small//output_00003/particles_eft_multigrid_ncoarse3.h5'</span>                        \n",
       "param<span style=\"font-weight: bold\">[</span><span style=\"color: #008000; text-decoration-color: #008000\">'aexp'</span><span style=\"font-weight: bold\">]</span>=<span style=\"color: #008080; text-decoration-color: #008080; font-weight: bold\">0.05263157894736841</span>                                                                                  \n",
       "</pre>\n"
      ],
      "text/plain": [
       "Snapshot written at \u001b[33m...\u001b[0m\u001b[33mfilename\u001b[0m=\u001b[32m'./small//output_00003/particles_eft_multigrid_ncoarse3.h5'\u001b[0m                        \n",
       "param\u001b[1m[\u001b[0m\u001b[32m'aexp'\u001b[0m\u001b[1m]\u001b[0m=\u001b[1;36m0.05263157894736841\u001b[0m                                                                                  \n"
      ]
     },
     "metadata": {},
     "output_type": "display_data"
    },
    {
     "data": {
      "text/html": [
       "<pre style=\"white-space:pre;overflow-x:auto;line-height:normal;font-family:Menlo,'DejaVu Sans Mono',consolas,'Courier New',monospace\">param<span style=\"font-weight: bold\">[</span><span style=\"color: #008000; text-decoration-color: #008000\">'nsteps'</span><span style=\"font-weight: bold\">]</span>=<span style=\"color: #008080; text-decoration-color: #008080; font-weight: bold\">5</span> param<span style=\"font-weight: bold\">[</span><span style=\"color: #008000; text-decoration-color: #008000\">'aexp'</span><span style=\"font-weight: bold\">]</span>=<span style=\"color: #008080; text-decoration-color: #008080; font-weight: bold\">0.05263157894736841</span> z = <span style=\"color: #008080; text-decoration-color: #008080; font-weight: bold\">18.000000000000004</span>                                         \n",
       "</pre>\n"
      ],
      "text/plain": [
       "param\u001b[1m[\u001b[0m\u001b[32m'nsteps'\u001b[0m\u001b[1m]\u001b[0m=\u001b[1;36m5\u001b[0m param\u001b[1m[\u001b[0m\u001b[32m'aexp'\u001b[0m\u001b[1m]\u001b[0m=\u001b[1;36m0.05263157894736841\u001b[0m z = \u001b[1;36m18.000000000000004\u001b[0m                                         \n"
      ]
     },
     "metadata": {},
     "output_type": "display_data"
    },
    {
     "name": "stdout",
     "output_type": "stream",
     "text": [
      "1.25\n",
      "Step: 6 [0.06044255 0.06184065 0.06365196] [-0.00046784 -0.00022103  0.00030695] [[ 1.4112072e-02  8.0330148e-03  5.3506414e-03  8.0497712e-03\n",
      "   1.8877508e-03 -3.4118542e-03 -1.0866546e-03  7.1007237e-03]\n",
      " [ 5.9533091e-03 -3.7085903e-03 -5.5819266e-03  2.4922425e-05\n",
      "  -1.8796059e-03 -5.6820791e-03 -4.8301946e-03  3.0761592e-03]\n",
      " [-1.4446033e-03 -1.3171622e-02 -1.3367988e-02 -7.5444947e-03\n",
      "  -6.2948116e-03 -4.8983470e-03 -4.2077145e-03 -9.7042881e-04]\n",
      " [ 3.0030375e-03 -2.3334445e-03 -8.4708184e-03 -6.3709505e-03\n",
      "  -3.5615726e-03 -2.2587210e-03  1.8013772e-03  2.5075376e-03]\n",
      " [ 9.9549200e-03  4.5983074e-03  2.2980596e-03  4.0718252e-03\n",
      "   2.2530518e-04 -1.5244121e-05  8.4055234e-03  1.1579033e-02]\n",
      " [ 6.8014446e-03  1.8483326e-03  6.0882652e-04  3.5273551e-03\n",
      "  -1.3115606e-04  3.7349062e-04  4.6653906e-03  6.0968860e-03]\n",
      " [-6.8534911e-04  4.7806664e-03 -5.9353514e-04  1.3947915e-03\n",
      "  -7.4962154e-06 -1.5436066e-04  8.3529344e-04 -4.3472433e-03]\n",
      " [ 5.6367898e-03  7.9898825e-03  6.4534843e-03  7.0163268e-03\n",
      "   1.5264568e-03  4.9516454e-04  1.7687185e-03  1.0117423e-05]]\n"
     ]
    },
    {
     "data": {
      "text/html": [
       "<pre style=\"white-space:pre;overflow-x:auto;line-height:normal;font-family:Menlo,'DejaVu Sans Mono',consolas,'Courier New',monospace\">Snapshot written at <span style=\"color: #808000; text-decoration-color: #808000\">...</span><span style=\"color: #808000; text-decoration-color: #808000\">filename</span>=<span style=\"color: #008000; text-decoration-color: #008000\">'./small//output_00004/particles_eft_multigrid_ncoarse3.h5'</span>                        \n",
       "param<span style=\"font-weight: bold\">[</span><span style=\"color: #008000; text-decoration-color: #008000\">'aexp'</span><span style=\"font-weight: bold\">]</span>=<span style=\"color: #008080; text-decoration-color: #008080; font-weight: bold\">0.05555555555555554</span>                                                                                  \n",
       "</pre>\n"
      ],
      "text/plain": [
       "Snapshot written at \u001b[33m...\u001b[0m\u001b[33mfilename\u001b[0m=\u001b[32m'./small//output_00004/particles_eft_multigrid_ncoarse3.h5'\u001b[0m                        \n",
       "param\u001b[1m[\u001b[0m\u001b[32m'aexp'\u001b[0m\u001b[1m]\u001b[0m=\u001b[1;36m0.05555555555555554\u001b[0m                                                                                  \n"
      ]
     },
     "metadata": {},
     "output_type": "display_data"
    },
    {
     "data": {
      "text/html": [
       "<pre style=\"white-space:pre;overflow-x:auto;line-height:normal;font-family:Menlo,'DejaVu Sans Mono',consolas,'Courier New',monospace\">param<span style=\"font-weight: bold\">[</span><span style=\"color: #008000; text-decoration-color: #008000\">'nsteps'</span><span style=\"font-weight: bold\">]</span>=<span style=\"color: #008080; text-decoration-color: #008080; font-weight: bold\">6</span> param<span style=\"font-weight: bold\">[</span><span style=\"color: #008000; text-decoration-color: #008000\">'aexp'</span><span style=\"font-weight: bold\">]</span>=<span style=\"color: #008080; text-decoration-color: #008080; font-weight: bold\">0.05555555555555554</span> z = <span style=\"color: #008080; text-decoration-color: #008080; font-weight: bold\">17.000000000000007</span>                                         \n",
       "</pre>\n"
      ],
      "text/plain": [
       "param\u001b[1m[\u001b[0m\u001b[32m'nsteps'\u001b[0m\u001b[1m]\u001b[0m=\u001b[1;36m6\u001b[0m param\u001b[1m[\u001b[0m\u001b[32m'aexp'\u001b[0m\u001b[1m]\u001b[0m=\u001b[1;36m0.05555555555555554\u001b[0m z = \u001b[1;36m17.000000000000007\u001b[0m                                         \n"
      ]
     },
     "metadata": {},
     "output_type": "display_data"
    },
    {
     "name": "stdout",
     "output_type": "stream",
     "text": [
      "1.25\n",
      "Step: 7 [0.06032634 0.06178448 0.06372903] [-0.00050655 -0.00025065  0.0003398 ] [[ 1.5713301e-02  9.0064621e-03  6.0231430e-03  8.9441054e-03\n",
      "   2.0673466e-03 -3.8139788e-03 -1.2294310e-03  7.8907376e-03]\n",
      " [ 6.6300421e-03 -4.0860642e-03 -6.1729024e-03 -3.0422816e-05\n",
      "  -2.1667741e-03 -6.3601499e-03 -5.3759459e-03  3.4217215e-03]\n",
      " [-1.5527257e-03 -1.4536004e-02 -1.4814058e-02 -8.4407181e-03\n",
      "  -7.0546158e-03 -5.5053164e-03 -4.6794945e-03 -1.0329448e-03]\n",
      " [ 3.3914456e-03 -2.6143007e-03 -9.4321687e-03 -7.1326136e-03\n",
      "  -4.0231291e-03 -2.5532045e-03  1.9876710e-03  2.8592777e-03]\n",
      " [ 1.1116503e-02  5.1186844e-03  2.5218988e-03  4.4568689e-03\n",
      "   2.3266114e-04 -1.2781355e-05  9.3378220e-03  1.2918559e-02]\n",
      " [ 7.5976043e-03  2.1094144e-03  7.3228590e-04  3.9325329e-03\n",
      "  -1.1373963e-04  4.3834024e-04  5.2099777e-03  6.8231137e-03]\n",
      " [-6.7829946e-04  5.3546745e-03 -5.6024361e-04  1.5998296e-03\n",
      "   2.0640669e-05 -1.4752737e-04  9.5143367e-04 -4.7279648e-03]\n",
      " [ 6.3316999e-03  8.9717228e-03  7.2667692e-03  7.8279153e-03\n",
      "   1.7118450e-03  5.4188096e-04  1.9545844e-03  7.4503012e-05]]\n"
     ]
    },
    {
     "data": {
      "text/html": [
       "<pre style=\"white-space:pre;overflow-x:auto;line-height:normal;font-family:Menlo,'DejaVu Sans Mono',consolas,'Courier New',monospace\">Snapshot written at <span style=\"color: #808000; text-decoration-color: #808000\">...</span><span style=\"color: #808000; text-decoration-color: #808000\">filename</span>=<span style=\"color: #008000; text-decoration-color: #008000\">'./small//output_00005/particles_eft_multigrid_ncoarse3.h5'</span>                        \n",
       "param<span style=\"font-weight: bold\">[</span><span style=\"color: #008000; text-decoration-color: #008000\">'aexp'</span><span style=\"font-weight: bold\">]</span>=<span style=\"color: #008080; text-decoration-color: #008080; font-weight: bold\">0.0588235294117647</span>                                                                                   \n",
       "</pre>\n"
      ],
      "text/plain": [
       "Snapshot written at \u001b[33m...\u001b[0m\u001b[33mfilename\u001b[0m=\u001b[32m'./small//output_00005/particles_eft_multigrid_ncoarse3.h5'\u001b[0m                        \n",
       "param\u001b[1m[\u001b[0m\u001b[32m'aexp'\u001b[0m\u001b[1m]\u001b[0m=\u001b[1;36m0.0588235294117647\u001b[0m                                                                                   \n"
      ]
     },
     "metadata": {},
     "output_type": "display_data"
    },
    {
     "data": {
      "text/html": [
       "<pre style=\"white-space:pre;overflow-x:auto;line-height:normal;font-family:Menlo,'DejaVu Sans Mono',consolas,'Courier New',monospace\">param<span style=\"font-weight: bold\">[</span><span style=\"color: #008000; text-decoration-color: #008000\">'nsteps'</span><span style=\"font-weight: bold\">]</span>=<span style=\"color: #008080; text-decoration-color: #008080; font-weight: bold\">7</span> param<span style=\"font-weight: bold\">[</span><span style=\"color: #008000; text-decoration-color: #008000\">'aexp'</span><span style=\"font-weight: bold\">]</span>=<span style=\"color: #008080; text-decoration-color: #008080; font-weight: bold\">0.0588235294117647</span> z = <span style=\"color: #008080; text-decoration-color: #008080; font-weight: bold\">16.000000000000004</span>                                          \n",
       "</pre>\n"
      ],
      "text/plain": [
       "param\u001b[1m[\u001b[0m\u001b[32m'nsteps'\u001b[0m\u001b[1m]\u001b[0m=\u001b[1;36m7\u001b[0m param\u001b[1m[\u001b[0m\u001b[32m'aexp'\u001b[0m\u001b[1m]\u001b[0m=\u001b[1;36m0.0588235294117647\u001b[0m z = \u001b[1;36m16.000000000000004\u001b[0m                                          \n"
      ]
     },
     "metadata": {},
     "output_type": "display_data"
    },
    {
     "name": "stdout",
     "output_type": "stream",
     "text": [
      "1.25\n",
      "Step: 8 [0.06019644 0.06171878 0.06381711] [-0.00055134 -0.00028518  0.000378  ] [[ 1.7597981e-02  1.0168020e-02  6.8312739e-03  9.9929832e-03\n",
      "   2.2711805e-03 -4.2913412e-03 -1.4017075e-03  8.8177733e-03]\n",
      " [ 7.4285329e-03 -4.5186789e-03 -6.8592872e-03 -1.0879268e-04\n",
      "  -2.5217575e-03 -7.1671903e-03 -6.0186894e-03  3.8288583e-03]\n",
      " [-1.6665705e-03 -1.6115956e-02 -1.6504299e-02 -9.5064035e-03\n",
      "  -7.9608606e-03 -6.2324526e-03 -5.2343998e-03 -1.0950202e-03]\n",
      " [ 3.8608769e-03 -2.9474178e-03 -1.0564795e-02 -8.0388114e-03\n",
      "  -4.5801811e-03 -2.9086256e-03  2.2041192e-03  3.2902472e-03]\n",
      " [ 1.2492195e-02  5.7318402e-03  2.7770961e-03  4.8927600e-03\n",
      "   2.3682945e-04 -8.6006476e-06  1.0431176e-02  1.4502278e-02]\n",
      " [ 8.5420255e-03  2.4296944e-03  8.9020003e-04  4.4109323e-03\n",
      "  -8.5531967e-05  5.2043074e-04  5.8555948e-03  7.6878066e-03]\n",
      " [-6.4930972e-04  6.0390150e-03 -4.9714744e-04  1.8526227e-03\n",
      "   6.1124098e-05 -1.3358460e-04  1.0932897e-03 -5.1507112e-03]\n",
      " [ 7.1639959e-03  1.0146248e-02  8.2441345e-03  8.7879412e-03\n",
      "   1.9335081e-03  5.9471792e-04  2.1699776e-03  1.6509369e-04]]\n"
     ]
    },
    {
     "data": {
      "text/html": [
       "<pre style=\"white-space:pre;overflow-x:auto;line-height:normal;font-family:Menlo,'DejaVu Sans Mono',consolas,'Courier New',monospace\">Snapshot written at <span style=\"color: #808000; text-decoration-color: #808000\">...</span><span style=\"color: #808000; text-decoration-color: #808000\">filename</span>=<span style=\"color: #008000; text-decoration-color: #008000\">'./small//output_00006/particles_eft_multigrid_ncoarse3.h5'</span> param<span style=\"font-weight: bold\">[</span><span style=\"color: #008000; text-decoration-color: #008000\">'aexp'</span><span style=\"font-weight: bold\">]</span>=<span style=\"color: #008080; text-decoration-color: #008080; font-weight: bold\">0.0625</span>   \n",
       "</pre>\n"
      ],
      "text/plain": [
       "Snapshot written at \u001b[33m...\u001b[0m\u001b[33mfilename\u001b[0m=\u001b[32m'./small//output_00006/particles_eft_multigrid_ncoarse3.h5'\u001b[0m param\u001b[1m[\u001b[0m\u001b[32m'aexp'\u001b[0m\u001b[1m]\u001b[0m=\u001b[1;36m0.0625\u001b[0m   \n"
      ]
     },
     "metadata": {},
     "output_type": "display_data"
    },
    {
     "data": {
      "text/html": [
       "<pre style=\"white-space:pre;overflow-x:auto;line-height:normal;font-family:Menlo,'DejaVu Sans Mono',consolas,'Courier New',monospace\">param<span style=\"font-weight: bold\">[</span><span style=\"color: #008000; text-decoration-color: #008000\">'nsteps'</span><span style=\"font-weight: bold\">]</span>=<span style=\"color: #008080; text-decoration-color: #008080; font-weight: bold\">8</span> param<span style=\"font-weight: bold\">[</span><span style=\"color: #008000; text-decoration-color: #008000\">'aexp'</span><span style=\"font-weight: bold\">]</span>=<span style=\"color: #008080; text-decoration-color: #008080; font-weight: bold\">0.0625</span> z = <span style=\"color: #008080; text-decoration-color: #008080; font-weight: bold\">15.0</span>                                                                    \n",
       "</pre>\n"
      ],
      "text/plain": [
       "param\u001b[1m[\u001b[0m\u001b[32m'nsteps'\u001b[0m\u001b[1m]\u001b[0m=\u001b[1;36m8\u001b[0m param\u001b[1m[\u001b[0m\u001b[32m'aexp'\u001b[0m\u001b[1m]\u001b[0m=\u001b[1;36m0.0625\u001b[0m z = \u001b[1;36m15.0\u001b[0m                                                                    \n"
      ]
     },
     "metadata": {},
     "output_type": "display_data"
    },
    {
     "name": "stdout",
     "output_type": "stream",
     "text": [
      "1.25\n",
      "Step: 9 [0.06005016 0.06164152 0.06391845] [-0.00060365 -0.00032586  0.00042284] [[ 1.98399611e-02  1.15698818e-02  7.81323016e-03  1.12354653e-02\n",
      "   2.50383280e-03 -4.86425636e-03 -1.61228608e-03  9.91684478e-03]\n",
      " [ 8.38053972e-03 -5.01874834e-03 -7.66417291e-03 -2.18888745e-04\n",
      "  -2.96540279e-03 -8.13803729e-03 -6.78394781e-03  4.31320118e-03]\n",
      " [-1.78501057e-03 -1.79622453e-02 -1.84993595e-02 -1.07872663e-02\n",
      "  -9.05347522e-03 -7.11310841e-03 -5.89398295e-03 -1.15456805e-03]\n",
      " [ 4.43449430e-03 -3.34676425e-03 -1.19133275e-02 -9.12877358e-03\n",
      "  -5.26010152e-03 -3.34267039e-03  2.45752465e-03  3.82397696e-03]\n",
      " [ 1.41392415e-02  6.46167109e-03  3.06992652e-03  5.38909249e-03\n",
      "   2.36157910e-04 -2.18534842e-06  1.17266951e-02  1.63952950e-02]\n",
      " [ 9.67493746e-03  2.82710278e-03  1.09403813e-03  4.98190708e-03\n",
      "  -4.23956662e-05  6.25269953e-04  6.62929611e-03  8.72886926e-03]\n",
      " [-5.88514842e-04  6.86443225e-03 -3.91995534e-04  2.16812035e-03\n",
      "   1.18773663e-04 -1.09284418e-04  1.26884552e-03 -5.62146865e-03]\n",
      " [ 8.17241147e-03  1.15673961e-02  9.43225808e-03  9.93588474e-03\n",
      "   2.20155646e-03  6.55047596e-04  2.42200703e-03  2.91367993e-04]]\n"
     ]
    },
    {
     "data": {
      "text/html": [
       "<pre style=\"white-space:pre;overflow-x:auto;line-height:normal;font-family:Menlo,'DejaVu Sans Mono',consolas,'Courier New',monospace\">Snapshot written at <span style=\"color: #808000; text-decoration-color: #808000\">...</span><span style=\"color: #808000; text-decoration-color: #808000\">filename</span>=<span style=\"color: #008000; text-decoration-color: #008000\">'./small//output_00007/particles_eft_multigrid_ncoarse3.h5'</span>                        \n",
       "param<span style=\"font-weight: bold\">[</span><span style=\"color: #008000; text-decoration-color: #008000\">'aexp'</span><span style=\"font-weight: bold\">]</span>=<span style=\"color: #008080; text-decoration-color: #008080; font-weight: bold\">0.06666666666666667</span>                                                                                  \n",
       "</pre>\n"
      ],
      "text/plain": [
       "Snapshot written at \u001b[33m...\u001b[0m\u001b[33mfilename\u001b[0m=\u001b[32m'./small//output_00007/particles_eft_multigrid_ncoarse3.h5'\u001b[0m                        \n",
       "param\u001b[1m[\u001b[0m\u001b[32m'aexp'\u001b[0m\u001b[1m]\u001b[0m=\u001b[1;36m0.06666666666666667\u001b[0m                                                                                  \n"
      ]
     },
     "metadata": {},
     "output_type": "display_data"
    },
    {
     "data": {
      "text/html": [
       "<pre style=\"white-space:pre;overflow-x:auto;line-height:normal;font-family:Menlo,'DejaVu Sans Mono',consolas,'Courier New',monospace\">param<span style=\"font-weight: bold\">[</span><span style=\"color: #008000; text-decoration-color: #008000\">'nsteps'</span><span style=\"font-weight: bold\">]</span>=<span style=\"color: #008080; text-decoration-color: #008080; font-weight: bold\">9</span> param<span style=\"font-weight: bold\">[</span><span style=\"color: #008000; text-decoration-color: #008000\">'aexp'</span><span style=\"font-weight: bold\">]</span>=<span style=\"color: #008080; text-decoration-color: #008080; font-weight: bold\">0.06666666666666667</span> z = <span style=\"color: #008080; text-decoration-color: #008080; font-weight: bold\">14.0</span>                                                       \n",
       "</pre>\n"
      ],
      "text/plain": [
       "param\u001b[1m[\u001b[0m\u001b[32m'nsteps'\u001b[0m\u001b[1m]\u001b[0m=\u001b[1;36m9\u001b[0m param\u001b[1m[\u001b[0m\u001b[32m'aexp'\u001b[0m\u001b[1m]\u001b[0m=\u001b[1;36m0.06666666666666667\u001b[0m z = \u001b[1;36m14.0\u001b[0m                                                       \n"
      ]
     },
     "metadata": {},
     "output_type": "display_data"
    },
    {
     "name": "stdout",
     "output_type": "stream",
     "text": [
      "1.25\n",
      "Step: 10 [0.05988405 0.06155003 0.064036  ] [-0.00066536 -0.00037432  0.00047607] [[ 2.25393027e-02  1.32832387e-02  9.02161747e-03  1.27241369e-02\n",
      "   2.77086650e-03 -5.56039903e-03 -1.87326036e-03  1.12346895e-02]\n",
      " [ 9.52967443e-03 -5.60237421e-03 -8.61842465e-03 -3.73324379e-04\n",
      "  -3.52703221e-03 -9.32040438e-03 -7.70607311e-03  4.89620864e-03]\n",
      " [-1.90576445e-03 -2.01424509e-02 -2.08802726e-02 -1.23450756e-02\n",
      "  -1.03870491e-02 -8.19283538e-03 -6.68730959e-03 -1.20800920e-03]\n",
      " [ 5.14438655e-03 -3.83163267e-03 -1.35380281e-02 -1.04559874e-02\n",
      "  -6.10055029e-03 -3.87963653e-03  2.75709992e-03  4.49306704e-03]\n",
      " [ 1.61357559e-02  7.34090526e-03  3.40873073e-03  5.95832663e-03\n",
      "   2.27787765e-04  7.18305819e-06  1.32795172e-02  1.86859444e-02]\n",
      " [ 1.10510560e-02  3.32676899e-03  1.35998148e-03  5.67190396e-03\n",
      "   2.19906215e-05  7.60823488e-04  7.56828580e-03  9.99846403e-03]\n",
      " [-4.81520779e-04  7.87316728e-03 -2.26570293e-04  2.56686006e-03\n",
      "   2.00304668e-04 -7.01411627e-05  1.48908561e-03 -6.14700839e-03]\n",
      " [ 9.40997899e-03  1.33095728e-02  1.08956080e-02  1.13255968e-02\n",
      "   2.52968632e-03  7.24248122e-04  2.72018067e-03  4.67136735e-04]]\n"
     ]
    },
    {
     "data": {
      "text/html": [
       "<pre style=\"white-space:pre;overflow-x:auto;line-height:normal;font-family:Menlo,'DejaVu Sans Mono',consolas,'Courier New',monospace\">Snapshot written at <span style=\"color: #808000; text-decoration-color: #808000\">...</span><span style=\"color: #808000; text-decoration-color: #808000\">filename</span>=<span style=\"color: #008000; text-decoration-color: #008000\">'./small//output_00008/particles_eft_multigrid_ncoarse3.h5'</span>                        \n",
       "param<span style=\"font-weight: bold\">[</span><span style=\"color: #008000; text-decoration-color: #008000\">'aexp'</span><span style=\"font-weight: bold\">]</span>=<span style=\"color: #008080; text-decoration-color: #008080; font-weight: bold\">0.07142857142857141</span>                                                                                  \n",
       "</pre>\n"
      ],
      "text/plain": [
       "Snapshot written at \u001b[33m...\u001b[0m\u001b[33mfilename\u001b[0m=\u001b[32m'./small//output_00008/particles_eft_multigrid_ncoarse3.h5'\u001b[0m                        \n",
       "param\u001b[1m[\u001b[0m\u001b[32m'aexp'\u001b[0m\u001b[1m]\u001b[0m=\u001b[1;36m0.07142857142857141\u001b[0m                                                                                  \n"
      ]
     },
     "metadata": {},
     "output_type": "display_data"
    },
    {
     "data": {
      "text/html": [
       "<pre style=\"white-space:pre;overflow-x:auto;line-height:normal;font-family:Menlo,'DejaVu Sans Mono',consolas,'Courier New',monospace\">param<span style=\"font-weight: bold\">[</span><span style=\"color: #008000; text-decoration-color: #008000\">'nsteps'</span><span style=\"font-weight: bold\">]</span>=<span style=\"color: #008080; text-decoration-color: #008080; font-weight: bold\">10</span> param<span style=\"font-weight: bold\">[</span><span style=\"color: #008000; text-decoration-color: #008000\">'aexp'</span><span style=\"font-weight: bold\">]</span>=<span style=\"color: #008080; text-decoration-color: #008080; font-weight: bold\">0.07142857142857141</span> z = <span style=\"color: #008080; text-decoration-color: #008080; font-weight: bold\">13.000000000000004</span>                                        \n",
       "</pre>\n"
      ],
      "text/plain": [
       "param\u001b[1m[\u001b[0m\u001b[32m'nsteps'\u001b[0m\u001b[1m]\u001b[0m=\u001b[1;36m10\u001b[0m param\u001b[1m[\u001b[0m\u001b[32m'aexp'\u001b[0m\u001b[1m]\u001b[0m=\u001b[1;36m0.07142857142857141\u001b[0m z = \u001b[1;36m13.000000000000004\u001b[0m                                        \n"
      ]
     },
     "metadata": {},
     "output_type": "display_data"
    },
    {
     "name": "stdout",
     "output_type": "stream",
     "text": [
      "1.25\n",
      "Step: 11 [0.05969364 0.0614408  0.06417364] [-0.00073903 -0.00043281  0.00054003] [[ 2.58343164e-02  1.54081425e-02  1.05305212e-02  1.45311635e-02\n",
      "   3.07929399e-03 -6.41857646e-03 -2.20213505e-03  1.28356060e-02]\n",
      " [ 1.09356865e-02 -6.29080087e-03 -9.76440683e-03 -5.90804033e-04\n",
      "  -4.24842723e-03 -1.07805729e-02 -8.83285515e-03  5.60679892e-03]\n",
      " [-2.02430226e-03 -2.27478594e-02 -2.37578899e-02 -1.42658362e-02\n",
      "  -1.20376814e-02 -9.53556970e-03 -7.65504735e-03 -1.24978554e-03]\n",
      " [ 6.03578333e-03 -4.42854036e-03 -1.55220013e-02 -1.20950025e-02\n",
      "  -7.15468172e-03 -4.55382932e-03  3.11488751e-03  5.34366257e-03]\n",
      " [ 1.85905732e-02  8.41441751e-03  3.80405877e-03  6.61569042e-03\n",
      "   2.07609148e-04  2.06986442e-05  1.51656698e-02  2.14968584e-02]\n",
      " [ 1.27474014e-02  3.96442693e-03  1.71127589e-03  6.51746849e-03\n",
      "   1.16777606e-04  9.38793644e-04  8.72433558e-03  1.15695670e-02]\n",
      " [-3.06332484e-04  9.12446994e-03  2.57352367e-05  3.07880715e-03\n",
      "   3.16076446e-04 -9.41636972e-06  1.76958926e-03 -6.73458446e-03]\n",
      " [ 1.09519642e-02  1.54770222e-02  1.27249435e-02  1.30321095e-02\n",
      "   2.93700420e-03  8.04338604e-04  3.07736220e-03  7.12572597e-04]]\n"
     ]
    },
    {
     "data": {
      "text/html": [
       "<pre style=\"white-space:pre;overflow-x:auto;line-height:normal;font-family:Menlo,'DejaVu Sans Mono',consolas,'Courier New',monospace\">Snapshot written at <span style=\"color: #808000; text-decoration-color: #808000\">...</span><span style=\"color: #808000; text-decoration-color: #808000\">filename</span>=<span style=\"color: #008000; text-decoration-color: #008000\">'./small//output_00009/particles_eft_multigrid_ncoarse3.h5'</span>                        \n",
       "param<span style=\"font-weight: bold\">[</span><span style=\"color: #008000; text-decoration-color: #008000\">'aexp'</span><span style=\"font-weight: bold\">]</span>=<span style=\"color: #008080; text-decoration-color: #008080; font-weight: bold\">0.07692307692307693</span>                                                                                  \n",
       "</pre>\n"
      ],
      "text/plain": [
       "Snapshot written at \u001b[33m...\u001b[0m\u001b[33mfilename\u001b[0m=\u001b[32m'./small//output_00009/particles_eft_multigrid_ncoarse3.h5'\u001b[0m                        \n",
       "param\u001b[1m[\u001b[0m\u001b[32m'aexp'\u001b[0m\u001b[1m]\u001b[0m=\u001b[1;36m0.07692307692307693\u001b[0m                                                                                  \n"
      ]
     },
     "metadata": {},
     "output_type": "display_data"
    },
    {
     "data": {
      "text/html": [
       "<pre style=\"white-space:pre;overflow-x:auto;line-height:normal;font-family:Menlo,'DejaVu Sans Mono',consolas,'Courier New',monospace\">param<span style=\"font-weight: bold\">[</span><span style=\"color: #008000; text-decoration-color: #008000\">'nsteps'</span><span style=\"font-weight: bold\">]</span>=<span style=\"color: #008080; text-decoration-color: #008080; font-weight: bold\">11</span> param<span style=\"font-weight: bold\">[</span><span style=\"color: #008000; text-decoration-color: #008000\">'aexp'</span><span style=\"font-weight: bold\">]</span>=<span style=\"color: #008080; text-decoration-color: #008080; font-weight: bold\">0.07692307692307693</span> z = <span style=\"color: #008080; text-decoration-color: #008080; font-weight: bold\">12.0</span>                                                      \n",
       "</pre>\n"
      ],
      "text/plain": [
       "param\u001b[1m[\u001b[0m\u001b[32m'nsteps'\u001b[0m\u001b[1m]\u001b[0m=\u001b[1;36m11\u001b[0m param\u001b[1m[\u001b[0m\u001b[32m'aexp'\u001b[0m\u001b[1m]\u001b[0m=\u001b[1;36m0.07692307692307693\u001b[0m z = \u001b[1;36m12.0\u001b[0m                                                      \n"
      ]
     },
     "metadata": {},
     "output_type": "display_data"
    },
    {
     "name": "stdout",
     "output_type": "stream",
     "text": [
      "1.25\n",
      "Step: 12 [0.05947295 0.06130909 0.06433654] [-0.00082817 -0.00050446  0.00061803] [[ 2.99214609e-02  1.80880111e-02  1.24462787e-02  1.67578645e-02\n",
      "   3.43722687e-03 -7.49434717e-03 -2.62410566e-03  1.48099009e-02]\n",
      " [ 1.26839103e-02 -7.11343531e-03 -1.11611113e-02 -8.99692997e-04\n",
      "  -5.19096293e-03 -1.26130600e-02 -1.02321776e-02  6.48592412e-03]\n",
      " [-2.13254709e-03 -2.59043835e-02 -2.72865016e-02 -1.66716501e-02\n",
      "  -1.41137708e-02 -1.12324776e-02 -8.85423459e-03 -1.27085764e-03]\n",
      " [ 7.17388093e-03 -5.17567992e-03 -1.79830380e-02 -1.41520575e-02\n",
      "  -8.49916600e-03 -5.41538605e-03  3.54723213e-03  6.44271448e-03]\n",
      " [ 2.16588415e-02  9.74573940e-03  4.27007256e-03  7.38095073e-03\n",
      "   1.68748200e-04  3.93728260e-05  1.74921267e-02  2.50031520e-02]\n",
      " [ 1.48741454e-02  4.79220692e-03  2.18282547e-03  7.57089769e-03\n",
      "   2.56046187e-04  1.17618591e-03  1.01713305e-02  1.35472519e-02]\n",
      " [-2.94698402e-05  1.07039483e-02  4.05849889e-04  3.74744181e-03\n",
      "   4.81507275e-04  8.33552331e-05  2.13372335e-03 -7.39146257e-03]\n",
      " [ 1.29064545e-02  1.82207003e-02  1.50517058e-02  1.51622491e-02\n",
      "   3.45079950e-03  8.97813123e-04  3.51128913e-03  1.05793332e-03]]\n"
     ]
    },
    {
     "data": {
      "text/html": [
       "<pre style=\"white-space:pre;overflow-x:auto;line-height:normal;font-family:Menlo,'DejaVu Sans Mono',consolas,'Courier New',monospace\">Snapshot written at <span style=\"color: #808000; text-decoration-color: #808000\">...</span><span style=\"color: #808000; text-decoration-color: #808000\">filename</span>=<span style=\"color: #008000; text-decoration-color: #008000\">'./small//output_00010/particles_eft_multigrid_ncoarse3.h5'</span>                        \n",
       "param<span style=\"font-weight: bold\">[</span><span style=\"color: #008000; text-decoration-color: #008000\">'aexp'</span><span style=\"font-weight: bold\">]</span>=<span style=\"color: #008080; text-decoration-color: #008080; font-weight: bold\">0.08333333333333333</span>                                                                                  \n",
       "</pre>\n"
      ],
      "text/plain": [
       "Snapshot written at \u001b[33m...\u001b[0m\u001b[33mfilename\u001b[0m=\u001b[32m'./small//output_00010/particles_eft_multigrid_ncoarse3.h5'\u001b[0m                        \n",
       "param\u001b[1m[\u001b[0m\u001b[32m'aexp'\u001b[0m\u001b[1m]\u001b[0m=\u001b[1;36m0.08333333333333333\u001b[0m                                                                                  \n"
      ]
     },
     "metadata": {},
     "output_type": "display_data"
    },
    {
     "data": {
      "text/html": [
       "<pre style=\"white-space:pre;overflow-x:auto;line-height:normal;font-family:Menlo,'DejaVu Sans Mono',consolas,'Courier New',monospace\">param<span style=\"font-weight: bold\">[</span><span style=\"color: #008000; text-decoration-color: #008000\">'nsteps'</span><span style=\"font-weight: bold\">]</span>=<span style=\"color: #008080; text-decoration-color: #008080; font-weight: bold\">12</span> param<span style=\"font-weight: bold\">[</span><span style=\"color: #008000; text-decoration-color: #008000\">'aexp'</span><span style=\"font-weight: bold\">]</span>=<span style=\"color: #008080; text-decoration-color: #008080; font-weight: bold\">0.08333333333333333</span> z = <span style=\"color: #008080; text-decoration-color: #008080; font-weight: bold\">11.0</span>                                                      \n",
       "</pre>\n"
      ],
      "text/plain": [
       "param\u001b[1m[\u001b[0m\u001b[32m'nsteps'\u001b[0m\u001b[1m]\u001b[0m=\u001b[1;36m12\u001b[0m param\u001b[1m[\u001b[0m\u001b[32m'aexp'\u001b[0m\u001b[1m]\u001b[0m=\u001b[1;36m0.08333333333333333\u001b[0m z = \u001b[1;36m11.0\u001b[0m                                                      \n"
      ]
     },
     "metadata": {},
     "output_type": "display_data"
    },
    {
     "name": "stdout",
     "output_type": "stream",
     "text": [
      "1.25\n",
      "Step: 13 [0.05921389 0.06114834 0.06453181] [-0.00093779 -0.00059378  0.00071474] [[ 3.50873321e-02  2.15350706e-02  1.49266040e-02  1.95500609e-02\n",
      "   3.85471201e-03 -8.86904821e-03 -3.17786261e-03  1.72876418e-02]\n",
      " [ 1.48985051e-02 -8.11084546e-03 -1.28932474e-02 -1.34430267e-03\n",
      "  -6.44691661e-03 -1.49559919e-02 -1.20032094e-02  7.59232556e-03]\n",
      " [-2.21605040e-03 -2.97907032e-02 -3.16876397e-02 -1.97406076e-02\n",
      "  -1.67744309e-02 -1.34180300e-02 -1.03684869e-02 -1.25644170e-03]\n",
      " [ 8.65557417e-03 -6.12904597e-03 -2.10918598e-02 -1.67831015e-02\n",
      "  -1.02478452e-02 -6.53871009e-03  4.07622103e-03  7.88991898e-03]\n",
      " [ 2.55684014e-02  1.14272889e-02  4.82482836e-03  8.27907771e-03\n",
      "   1.00511475e-04  6.51392620e-05  2.04134546e-02  2.94610169e-02]\n",
      " [ 1.75938196e-02  5.88897895e-03  2.82756612e-03  8.90875235e-03\n",
      "   4.61898278e-04  1.49919931e-03  1.20181330e-02  1.60864759e-02]\n",
      " [ 4.02499922e-04  1.27387401e-02  9.78082418e-04  4.63872589e-03\n",
      "   7.20695127e-04  2.25138618e-04  2.61635566e-03 -8.12365115e-03]\n",
      " [ 1.54346060e-02  2.17642263e-02  1.80713367e-02  1.78724714e-02\n",
      "   4.11149766e-03  1.00796157e-03  4.04749345e-03  1.54986512e-03]]\n"
     ]
    },
    {
     "data": {
      "text/html": [
       "<pre style=\"white-space:pre;overflow-x:auto;line-height:normal;font-family:Menlo,'DejaVu Sans Mono',consolas,'Courier New',monospace\">Snapshot written at <span style=\"color: #808000; text-decoration-color: #808000\">...</span><span style=\"color: #808000; text-decoration-color: #808000\">filename</span>=<span style=\"color: #008000; text-decoration-color: #008000\">'./small//output_00011/particles_eft_multigrid_ncoarse3.h5'</span>                        \n",
       "param<span style=\"font-weight: bold\">[</span><span style=\"color: #008000; text-decoration-color: #008000\">'aexp'</span><span style=\"font-weight: bold\">]</span>=<span style=\"color: #008080; text-decoration-color: #008080; font-weight: bold\">0.0909090909090909</span>                                                                                   \n",
       "</pre>\n"
      ],
      "text/plain": [
       "Snapshot written at \u001b[33m...\u001b[0m\u001b[33mfilename\u001b[0m=\u001b[32m'./small//output_00011/particles_eft_multigrid_ncoarse3.h5'\u001b[0m                        \n",
       "param\u001b[1m[\u001b[0m\u001b[32m'aexp'\u001b[0m\u001b[1m]\u001b[0m=\u001b[1;36m0.0909090909090909\u001b[0m                                                                                   \n"
      ]
     },
     "metadata": {},
     "output_type": "display_data"
    },
    {
     "data": {
      "text/html": [
       "<pre style=\"white-space:pre;overflow-x:auto;line-height:normal;font-family:Menlo,'DejaVu Sans Mono',consolas,'Courier New',monospace\">param<span style=\"font-weight: bold\">[</span><span style=\"color: #008000; text-decoration-color: #008000\">'nsteps'</span><span style=\"font-weight: bold\">]</span>=<span style=\"color: #008080; text-decoration-color: #008080; font-weight: bold\">13</span> param<span style=\"font-weight: bold\">[</span><span style=\"color: #008000; text-decoration-color: #008000\">'aexp'</span><span style=\"font-weight: bold\">]</span>=<span style=\"color: #008080; text-decoration-color: #008080; font-weight: bold\">0.0909090909090909</span> z = <span style=\"color: #008080; text-decoration-color: #008080; font-weight: bold\">10.000000000000002</span>                                         \n",
       "</pre>\n"
      ],
      "text/plain": [
       "param\u001b[1m[\u001b[0m\u001b[32m'nsteps'\u001b[0m\u001b[1m]\u001b[0m=\u001b[1;36m13\u001b[0m param\u001b[1m[\u001b[0m\u001b[32m'aexp'\u001b[0m\u001b[1m]\u001b[0m=\u001b[1;36m0.0909090909090909\u001b[0m z = \u001b[1;36m10.000000000000002\u001b[0m                                         \n"
      ]
     },
     "metadata": {},
     "output_type": "display_data"
    },
    {
     "name": "stdout",
     "output_type": "stream",
     "text": [
      "1.25\n",
      "Step: 14 [0.05890518 0.06094928 0.06476947] [-0.00107516 -0.00070748  0.00083706] [[ 4.1763663e-02  2.6073297e-02  1.8213142e-02  2.3124166e-02\n",
      "   4.3426780e-03 -1.0666408e-02 -3.9236825e-03  2.0462276e-02]\n",
      " [ 1.7766578e-02 -9.3421685e-03 -1.5086574e-02 -1.9966764e-03\n",
      "  -8.1603508e-03 -1.8018622e-02 -1.4295522e-02  9.0130530e-03]\n",
      " [-2.2481866e-03 -3.4666974e-02 -3.7287783e-02 -2.3740608e-02\n",
      "  -2.0260165e-02 -1.6296009e-02 -1.2324018e-02 -1.1811964e-03]\n",
      " [ 1.0629846e-02 -7.3735924e-03 -2.5104927e-02 -2.0224454e-02\n",
      "  -1.2575416e-02 -8.0389315e-03  4.7326488e-03  9.8387878e-03]\n",
      " [ 3.0664915e-02  1.3597479e-02  5.4932833e-03  9.3421303e-03\n",
      "  -1.5448779e-05  1.0013860e-04  2.4160272e-02  3.5258476e-02]\n",
      " [ 2.1154903e-02  7.3773405e-03  3.7288265e-03  1.0646891e-02\n",
      "   7.6962495e-04  1.9496107e-03  1.4430037e-02  1.9424591e-02]\n",
      " [ 1.0766052e-03  1.5424507e-02  1.8458311e-03  5.8566798e-03\n",
      "   1.0728939e-03  4.4267438e-04  3.2730508e-03 -8.9321928e-03]\n",
      " [ 1.8783905e-02  2.6452212e-02  2.2085341e-02  2.1400642e-02\n",
      "   4.9799788e-03  1.1391938e-03  4.7232606e-03  2.2626612e-03]]\n"
     ]
    },
    {
     "data": {
      "text/html": [
       "<pre style=\"white-space:pre;overflow-x:auto;line-height:normal;font-family:Menlo,'DejaVu Sans Mono',consolas,'Courier New',monospace\">Snapshot written at <span style=\"color: #808000; text-decoration-color: #808000\">...</span><span style=\"color: #808000; text-decoration-color: #808000\">filename</span>=<span style=\"color: #008000; text-decoration-color: #008000\">'./small//output_00012/particles_eft_multigrid_ncoarse3.h5'</span>                        \n",
       "param<span style=\"font-weight: bold\">[</span><span style=\"color: #008000; text-decoration-color: #008000\">'aexp'</span><span style=\"font-weight: bold\">]</span>=<span style=\"color: #008080; text-decoration-color: #008080; font-weight: bold\">0.10000000000000002</span>                                                                                  \n",
       "</pre>\n"
      ],
      "text/plain": [
       "Snapshot written at \u001b[33m...\u001b[0m\u001b[33mfilename\u001b[0m=\u001b[32m'./small//output_00012/particles_eft_multigrid_ncoarse3.h5'\u001b[0m                        \n",
       "param\u001b[1m[\u001b[0m\u001b[32m'aexp'\u001b[0m\u001b[1m]\u001b[0m=\u001b[1;36m0.10000000000000002\u001b[0m                                                                                  \n"
      ]
     },
     "metadata": {},
     "output_type": "display_data"
    },
    {
     "data": {
      "text/html": [
       "<pre style=\"white-space:pre;overflow-x:auto;line-height:normal;font-family:Menlo,'DejaVu Sans Mono',consolas,'Courier New',monospace\">param<span style=\"font-weight: bold\">[</span><span style=\"color: #008000; text-decoration-color: #008000\">'nsteps'</span><span style=\"font-weight: bold\">]</span>=<span style=\"color: #008080; text-decoration-color: #008080; font-weight: bold\">14</span> param<span style=\"font-weight: bold\">[</span><span style=\"color: #008000; text-decoration-color: #008000\">'aexp'</span><span style=\"font-weight: bold\">]</span>=<span style=\"color: #008080; text-decoration-color: #008080; font-weight: bold\">0.10000000000000002</span> z = <span style=\"color: #008080; text-decoration-color: #008080; font-weight: bold\">8.999999999999998</span>                                         \n",
       "</pre>\n"
      ],
      "text/plain": [
       "param\u001b[1m[\u001b[0m\u001b[32m'nsteps'\u001b[0m\u001b[1m]\u001b[0m=\u001b[1;36m14\u001b[0m param\u001b[1m[\u001b[0m\u001b[32m'aexp'\u001b[0m\u001b[1m]\u001b[0m=\u001b[1;36m0.10000000000000002\u001b[0m z = \u001b[1;36m8.999999999999998\u001b[0m                                         \n"
      ]
     },
     "metadata": {},
     "output_type": "display_data"
    },
    {
     "name": "stdout",
     "output_type": "stream",
     "text": [
      "1.25\n",
      "Step: 15 [0.05856765 0.06072347 0.06503469] [-0.00123317 -0.00084044  0.00097913] [[ 0.04970867  0.03157651  0.02222172  0.02733003  0.00485586 -0.01283099\n",
      "  -0.00485104  0.02420156]\n",
      " [ 0.02118586 -0.01073734 -0.01764262 -0.00287112 -0.01031068 -0.02170162\n",
      "  -0.01702863  0.01068909]\n",
      " [-0.00219162 -0.04028685 -0.04383625 -0.02853459 -0.0244612  -0.01978246\n",
      "  -0.01464954 -0.00102345]\n",
      " [ 0.01305046 -0.0088699  -0.0298715  -0.02436648 -0.01542654 -0.00988454\n",
      "   0.00547632  0.01225091]\n",
      " [ 0.03678433  0.01617409  0.00622729  0.01048477 -0.00018919  0.00014198\n",
      "   0.02858123  0.04220214]\n",
      " [ 0.02545202  0.00923688  0.00488572  0.01272694  0.00118772  0.00252686\n",
      "   0.01733176  0.02346838]\n",
      " [ 0.00202385  0.0186929   0.00303758  0.00738869  0.00154626  0.00074523\n",
      "   0.00409623 -0.00972364]\n",
      " [ 0.02287292  0.03216736  0.02700121  0.02563031  0.00603016  0.00128148\n",
      "   0.00550603  0.00320545]]\n"
     ]
    },
    {
     "data": {
      "text/html": [
       "<pre style=\"white-space:pre;overflow-x:auto;line-height:normal;font-family:Menlo,'DejaVu Sans Mono',consolas,'Courier New',monospace\">param<span style=\"font-weight: bold\">[</span><span style=\"color: #008000; text-decoration-color: #008000\">'nsteps'</span><span style=\"font-weight: bold\">]</span>=<span style=\"color: #008080; text-decoration-color: #008080; font-weight: bold\">15</span> param<span style=\"font-weight: bold\">[</span><span style=\"color: #008000; text-decoration-color: #008000\">'aexp'</span><span style=\"font-weight: bold\">]</span>=<span style=\"color: #008080; text-decoration-color: #008080; font-weight: bold\">0.1099999997327191</span> z = <span style=\"color: #008080; text-decoration-color: #008080; font-weight: bold\">8.090909112998421</span>                                          \n",
       "</pre>\n"
      ],
      "text/plain": [
       "param\u001b[1m[\u001b[0m\u001b[32m'nsteps'\u001b[0m\u001b[1m]\u001b[0m=\u001b[1;36m15\u001b[0m param\u001b[1m[\u001b[0m\u001b[32m'aexp'\u001b[0m\u001b[1m]\u001b[0m=\u001b[1;36m0.1099999997327191\u001b[0m z = \u001b[1;36m8.090909112998421\u001b[0m                                          \n"
      ]
     },
     "metadata": {},
     "output_type": "display_data"
    },
    {
     "name": "stdout",
     "output_type": "stream",
     "text": [
      "1.25\n",
      "Step: 16 [0.05853011 0.06069784 0.06506453] [-0.00125109 -0.00085565  0.00099532] [[ 0.05063206  0.03222248  0.02269391  0.02781544  0.00491102 -0.01308439\n",
      "  -0.00496114  0.02463289]\n",
      " [ 0.02158367 -0.01089514 -0.01793575 -0.00297931 -0.01056731 -0.0221321\n",
      "  -0.01734635  0.01088285]\n",
      " [-0.00217895 -0.04092748 -0.04458913 -0.02909325 -0.02495257 -0.02019083\n",
      "  -0.01492016 -0.00099986]\n",
      " [ 0.01333653 -0.00904445 -0.03042542 -0.02485039 -0.01576294 -0.01010285\n",
      "   0.00556056  0.01253725]\n",
      " [ 0.03749887  0.01647179  0.006309    0.01060849 -0.00021152  0.00014672\n",
      "   0.02909205  0.04301163]\n",
      " [ 0.02595416  0.00945915  0.00502431  0.01296956  0.00123905  0.00259699\n",
      "   0.01767073  0.02394334]\n",
      " [ 0.00214404  0.01907577  0.00318696  0.00757124  0.00160498  0.00078328\n",
      "   0.00419454 -0.00980525]\n",
      " [ 0.02335368  0.0328408   0.02758078  0.0261237   0.00615309  0.00129715\n",
      "   0.00559505  0.0033214 ]]\n"
     ]
    },
    {
     "data": {
      "text/html": [
       "<pre style=\"white-space:pre;overflow-x:auto;line-height:normal;font-family:Menlo,'DejaVu Sans Mono',consolas,'Courier New',monospace\">Snapshot written at <span style=\"color: #808000; text-decoration-color: #808000\">...</span><span style=\"color: #808000; text-decoration-color: #808000\">filename</span>=<span style=\"color: #008000; text-decoration-color: #008000\">'./small//output_00013/particles_eft_multigrid_ncoarse3.h5'</span>                        \n",
       "param<span style=\"font-weight: bold\">[</span><span style=\"color: #008000; text-decoration-color: #008000\">'aexp'</span><span style=\"font-weight: bold\">]</span>=<span style=\"color: #008080; text-decoration-color: #008080; font-weight: bold\">0.11111111111111109</span>                                                                                  \n",
       "</pre>\n"
      ],
      "text/plain": [
       "Snapshot written at \u001b[33m...\u001b[0m\u001b[33mfilename\u001b[0m=\u001b[32m'./small//output_00013/particles_eft_multigrid_ncoarse3.h5'\u001b[0m                        \n",
       "param\u001b[1m[\u001b[0m\u001b[32m'aexp'\u001b[0m\u001b[1m]\u001b[0m=\u001b[1;36m0.11111111111111109\u001b[0m                                                                                  \n"
      ]
     },
     "metadata": {},
     "output_type": "display_data"
    },
    {
     "data": {
      "text/html": [
       "<pre style=\"white-space:pre;overflow-x:auto;line-height:normal;font-family:Menlo,'DejaVu Sans Mono',consolas,'Courier New',monospace\">param<span style=\"font-weight: bold\">[</span><span style=\"color: #008000; text-decoration-color: #008000\">'nsteps'</span><span style=\"font-weight: bold\">]</span>=<span style=\"color: #008080; text-decoration-color: #008080; font-weight: bold\">16</span> param<span style=\"font-weight: bold\">[</span><span style=\"color: #008000; text-decoration-color: #008000\">'aexp'</span><span style=\"font-weight: bold\">]</span>=<span style=\"color: #008080; text-decoration-color: #008080; font-weight: bold\">0.11111111111111109</span> z = <span style=\"color: #008080; text-decoration-color: #008080; font-weight: bold\">8.000000000000002</span>                                         \n",
       "</pre>\n"
      ],
      "text/plain": [
       "param\u001b[1m[\u001b[0m\u001b[32m'nsteps'\u001b[0m\u001b[1m]\u001b[0m=\u001b[1;36m16\u001b[0m param\u001b[1m[\u001b[0m\u001b[32m'aexp'\u001b[0m\u001b[1m]\u001b[0m=\u001b[1;36m0.11111111111111109\u001b[0m z = \u001b[1;36m8.000000000000002\u001b[0m                                         \n"
      ]
     },
     "metadata": {},
     "output_type": "display_data"
    },
    {
     "name": "stdout",
     "output_type": "stream",
     "text": [
      "1.25\n",
      "Step: 17 [0.05815743 0.06043909 0.06536355] [-0.00143558 -0.00101383  0.00116299] [[ 0.06027424  0.03903688  0.02768365  0.03284947  0.00543862 -0.0157443\n",
      "  -0.00614361  0.029113  ]\n",
      " [ 0.02573843 -0.01249804 -0.02096981 -0.00417435 -0.01332342 -0.02664536\n",
      "  -0.02067066  0.01289121]\n",
      " [-0.00198244 -0.047502   -0.0523713  -0.03494423 -0.03011126 -0.02449631\n",
      "  -0.01774055 -0.00072144]\n",
      " [ 0.01636494 -0.01088084 -0.0361917  -0.0299332  -0.01932697 -0.01242298\n",
      "   0.00640637  0.01558156]\n",
      " [ 0.04499701  0.01958868  0.00711534  0.01183211 -0.0004718   0.00019494\n",
      "   0.03440282  0.05149689]\n",
      " [ 0.03125326  0.01183312  0.00654117  0.01550897  0.00181631  0.00335264\n",
      "   0.0212345   0.02894706]\n",
      " [ 0.00348794  0.02314417  0.00484399  0.00954253  0.00225285  0.00120944\n",
      "   0.00525065 -0.01053815]\n",
      " [ 0.02845673  0.03996167  0.03373428  0.03129797  0.00744735  0.00145151\n",
      "   0.00651694  0.00458896]]\n"
     ]
    },
    {
     "data": {
      "text/html": [
       "<pre style=\"white-space:pre;overflow-x:auto;line-height:normal;font-family:Menlo,'DejaVu Sans Mono',consolas,'Courier New',monospace\">param<span style=\"font-weight: bold\">[</span><span style=\"color: #008000; text-decoration-color: #008000\">'nsteps'</span><span style=\"font-weight: bold\">]</span>=<span style=\"color: #008080; text-decoration-color: #008080; font-weight: bold\">17</span> param<span style=\"font-weight: bold\">[</span><span style=\"color: #008000; text-decoration-color: #008000\">'aexp'</span><span style=\"font-weight: bold\">]</span>=<span style=\"color: #008080; text-decoration-color: #008080; font-weight: bold\">0.12222222184337919</span> z = <span style=\"color: #008080; text-decoration-color: #008080; font-weight: bold\">7.181818207178749</span>                                         \n",
       "</pre>\n"
      ],
      "text/plain": [
       "param\u001b[1m[\u001b[0m\u001b[32m'nsteps'\u001b[0m\u001b[1m]\u001b[0m=\u001b[1;36m17\u001b[0m param\u001b[1m[\u001b[0m\u001b[32m'aexp'\u001b[0m\u001b[1m]\u001b[0m=\u001b[1;36m0.12222222184337919\u001b[0m z = \u001b[1;36m7.181818207178749\u001b[0m                                         \n"
      ]
     },
     "metadata": {},
     "output_type": "display_data"
    },
    {
     "name": "stdout",
     "output_type": "stream",
     "text": [
      "1.25\n",
      "Step: 18 [0.05806419 0.06037302 0.06543924] [-0.00148281 -0.00105473  0.00120616] [[ 0.06281047  0.04084866  0.02901466  0.03416216  0.00556282 -0.01644888\n",
      "  -0.00646297  0.03028109]\n",
      " [ 0.02683208 -0.01290659 -0.02175709 -0.00450894 -0.01406927 -0.02783841\n",
      "  -0.02154596  0.01341508]\n",
      " [-0.00191188 -0.04919357 -0.05439217 -0.03648609 -0.03147617 -0.02563809\n",
      "  -0.01848276 -0.00063441]\n",
      " [ 0.017175   -0.0113662  -0.03770624 -0.0312773  -0.02027933 -0.01304516\n",
      "   0.00662038  0.0163991 ]\n",
      " [ 0.04697976  0.02040485  0.00731533  0.01212778 -0.00054754  0.00020693\n",
      "   0.03579055  0.05373647]\n",
      " [ 0.03265791  0.01247575  0.00695479  0.01617944  0.00197762  0.00356013\n",
      "   0.02217767  0.03027814]\n",
      " [ 0.00387146  0.02422705  0.00531207  0.01007668  0.00243455  0.00133017\n",
      "   0.00553729 -0.01069812]\n",
      " [ 0.02981826  0.04186293  0.03537944  0.03266466  0.0077904   0.0014894\n",
      "   0.00675427  0.00494098]]\n"
     ]
    },
    {
     "data": {
      "text/html": [
       "<pre style=\"white-space:pre;overflow-x:auto;line-height:normal;font-family:Menlo,'DejaVu Sans Mono',consolas,'Courier New',monospace\">Snapshot written at <span style=\"color: #808000; text-decoration-color: #808000\">...</span><span style=\"color: #808000; text-decoration-color: #808000\">filename</span>=<span style=\"color: #008000; text-decoration-color: #008000\">'./small//output_00014/particles_eft_multigrid_ncoarse3.h5'</span>                        \n",
       "param<span style=\"font-weight: bold\">[</span><span style=\"color: #008000; text-decoration-color: #008000\">'aexp'</span><span style=\"font-weight: bold\">]</span>=<span style=\"color: #008080; text-decoration-color: #008080; font-weight: bold\">0.12500000000000003</span>                                                                                  \n",
       "</pre>\n"
      ],
      "text/plain": [
       "Snapshot written at \u001b[33m...\u001b[0m\u001b[33mfilename\u001b[0m=\u001b[32m'./small//output_00014/particles_eft_multigrid_ncoarse3.h5'\u001b[0m                        \n",
       "param\u001b[1m[\u001b[0m\u001b[32m'aexp'\u001b[0m\u001b[1m]\u001b[0m=\u001b[1;36m0.12500000000000003\u001b[0m                                                                                  \n"
      ]
     },
     "metadata": {},
     "output_type": "display_data"
    },
    {
     "data": {
      "text/html": [
       "<pre style=\"white-space:pre;overflow-x:auto;line-height:normal;font-family:Menlo,'DejaVu Sans Mono',consolas,'Courier New',monospace\">param<span style=\"font-weight: bold\">[</span><span style=\"color: #008000; text-decoration-color: #008000\">'nsteps'</span><span style=\"font-weight: bold\">]</span>=<span style=\"color: #008080; text-decoration-color: #008080; font-weight: bold\">18</span> param<span style=\"font-weight: bold\">[</span><span style=\"color: #008000; text-decoration-color: #008000\">'aexp'</span><span style=\"font-weight: bold\">]</span>=<span style=\"color: #008080; text-decoration-color: #008080; font-weight: bold\">0.12500000000000003</span> z = <span style=\"color: #008080; text-decoration-color: #008080; font-weight: bold\">6.999999999999998</span>                                         \n",
       "</pre>\n"
      ],
      "text/plain": [
       "param\u001b[1m[\u001b[0m\u001b[32m'nsteps'\u001b[0m\u001b[1m]\u001b[0m=\u001b[1;36m18\u001b[0m param\u001b[1m[\u001b[0m\u001b[32m'aexp'\u001b[0m\u001b[1m]\u001b[0m=\u001b[1;36m0.12500000000000003\u001b[0m z = \u001b[1;36m6.999999999999998\u001b[0m                                         \n"
      ]
     },
     "metadata": {},
     "output_type": "display_data"
    },
    {
     "name": "stdout",
     "output_type": "stream",
     "text": [
      "1.25\n",
      "Step: 19 [0.05764766 0.06007264 0.06578071] [-0.00170225 -0.00124696  0.00140797] [[ 0.07480243  0.04950763  0.03538507  0.04031302  0.00607971 -0.01980034\n",
      "  -0.0080177   0.0357608 ]\n",
      " [ 0.03200212 -0.01478249 -0.02544279 -0.00618449 -0.01769475 -0.03349866\n",
      "  -0.02569144  0.01586846]\n",
      " [-0.00148972 -0.05702711 -0.06382566 -0.04378615 -0.03795777 -0.03108039\n",
      "  -0.02199012 -0.00017233]\n",
      " [ 0.02106051 -0.01367805 -0.04484478 -0.03766404 -0.02484741 -0.01604173\n",
      "   0.00758347  0.02033466]\n",
      " [ 0.05640312  0.02425936  0.00819851  0.01342058 -0.00094144  0.00025812\n",
      "   0.04231216  0.06436764]\n",
      " [ 0.03936718  0.01558998  0.00899329  0.01935908  0.00279067  0.00457688\n",
      "   0.0266667   0.03663685]\n",
      " [ 0.00581356  0.02943064  0.00766288  0.01268298  0.00334296  0.00194231\n",
      "   0.00693133 -0.01129873]\n",
      " [ 0.03636     0.05098035  0.04329189  0.03915435  0.00942281  0.00165632\n",
      "   0.00785997  0.00668382]]\n"
     ]
    },
    {
     "data": {
      "text/html": [
       "<pre style=\"white-space:pre;overflow-x:auto;line-height:normal;font-family:Menlo,'DejaVu Sans Mono',consolas,'Courier New',monospace\">param<span style=\"font-weight: bold\">[</span><span style=\"color: #008000; text-decoration-color: #008000\">'nsteps'</span><span style=\"font-weight: bold\">]</span>=<span style=\"color: #008080; text-decoration-color: #008080; font-weight: bold\">19</span> param<span style=\"font-weight: bold\">[</span><span style=\"color: #008000; text-decoration-color: #008000\">'aexp'</span><span style=\"font-weight: bold\">]</span>=<span style=\"color: #008080; text-decoration-color: #008080; font-weight: bold\">0.1375000004223509</span> z = <span style=\"color: #008080; text-decoration-color: #008080; font-weight: bold\">6.272727250388052</span>                                          \n",
       "</pre>\n"
      ],
      "text/plain": [
       "param\u001b[1m[\u001b[0m\u001b[32m'nsteps'\u001b[0m\u001b[1m]\u001b[0m=\u001b[1;36m19\u001b[0m param\u001b[1m[\u001b[0m\u001b[32m'aexp'\u001b[0m\u001b[1m]\u001b[0m=\u001b[1;36m0.1375000004223509\u001b[0m z = \u001b[1;36m6.272727250388052\u001b[0m                                          \n"
      ]
     },
     "metadata": {},
     "output_type": "display_data"
    },
    {
     "name": "stdout",
     "output_type": "stream",
     "text": [
      "1.25\n",
      "Step: 20 [0.05746911 0.05994114 0.06592885] [-0.00179898 -0.0013327   0.00149749] [[ 8.0250651e-02  5.3488363e-02  3.8320694e-02  4.3076418e-02\n",
      "   6.2767118e-03 -2.1334086e-02 -8.7466575e-03  3.8222950e-02]\n",
      " [ 3.4351259e-02 -1.5605117e-02 -2.7094584e-02 -6.9956370e-03\n",
      "  -1.9391563e-02 -3.6080323e-02 -2.7577508e-02  1.6969748e-02]\n",
      " [-1.2517646e-03 -6.0495395e-02 -6.8044528e-02 -4.7104113e-02\n",
      "  -4.0916570e-02 -3.3571899e-02 -2.3584001e-02  6.8075955e-05]\n",
      " [ 2.2855550e-02 -1.4734756e-02 -4.8079140e-02 -4.0580165e-02\n",
      "  -2.6956439e-02 -1.7431734e-02  7.9970602e-03  2.2159308e-02]\n",
      " [ 6.0709484e-02  2.6001759e-02  8.5687032e-03  1.3946496e-02\n",
      "  -1.1389591e-03  2.7812785e-04  4.5251753e-02  6.9216698e-02]\n",
      " [ 4.2445071e-02  1.7048027e-02  9.9560972e-03  2.0809388e-02\n",
      "   3.1838026e-03  5.0594257e-03  2.8720548e-02  3.9562222e-02]\n",
      " [ 6.7677610e-03  3.1830542e-02  8.8067986e-03  1.3906281e-02\n",
      "   3.7830472e-03  2.2416711e-03  7.5863823e-03 -1.1491979e-02]\n",
      " [ 3.9381478e-02  5.5192359e-02  4.6953034e-02  4.2116389e-02\n",
      "   1.0169406e-02  1.7257249e-03  8.3507653e-03  7.5186649e-03]]\n"
     ]
    },
    {
     "data": {
      "text/html": [
       "<pre style=\"white-space:pre;overflow-x:auto;line-height:normal;font-family:Menlo,'DejaVu Sans Mono',consolas,'Courier New',monospace\">Snapshot written at <span style=\"color: #808000; text-decoration-color: #808000\">...</span><span style=\"color: #808000; text-decoration-color: #808000\">filename</span>=<span style=\"color: #008000; text-decoration-color: #008000\">'./small//output_00015/particles_eft_multigrid_ncoarse3.h5'</span>                        \n",
       "param<span style=\"font-weight: bold\">[</span><span style=\"color: #008000; text-decoration-color: #008000\">'aexp'</span><span style=\"font-weight: bold\">]</span>=<span style=\"color: #008080; text-decoration-color: #008080; font-weight: bold\">0.14285714285714285</span>                                                                                  \n",
       "</pre>\n"
      ],
      "text/plain": [
       "Snapshot written at \u001b[33m...\u001b[0m\u001b[33mfilename\u001b[0m=\u001b[32m'./small//output_00015/particles_eft_multigrid_ncoarse3.h5'\u001b[0m                        \n",
       "param\u001b[1m[\u001b[0m\u001b[32m'aexp'\u001b[0m\u001b[1m]\u001b[0m=\u001b[1;36m0.14285714285714285\u001b[0m                                                                                  \n"
      ]
     },
     "metadata": {},
     "output_type": "display_data"
    },
    {
     "data": {
      "text/html": [
       "<pre style=\"white-space:pre;overflow-x:auto;line-height:normal;font-family:Menlo,'DejaVu Sans Mono',consolas,'Courier New',monospace\">param<span style=\"font-weight: bold\">[</span><span style=\"color: #008000; text-decoration-color: #008000\">'nsteps'</span><span style=\"font-weight: bold\">]</span>=<span style=\"color: #008080; text-decoration-color: #008080; font-weight: bold\">20</span> param<span style=\"font-weight: bold\">[</span><span style=\"color: #008000; text-decoration-color: #008000\">'aexp'</span><span style=\"font-weight: bold\">]</span>=<span style=\"color: #008080; text-decoration-color: #008080; font-weight: bold\">0.14285714285714285</span> z = <span style=\"color: #008080; text-decoration-color: #008080; font-weight: bold\">6.0</span>                                                       \n",
       "</pre>\n"
      ],
      "text/plain": [
       "param\u001b[1m[\u001b[0m\u001b[32m'nsteps'\u001b[0m\u001b[1m]\u001b[0m=\u001b[1;36m20\u001b[0m param\u001b[1m[\u001b[0m\u001b[32m'aexp'\u001b[0m\u001b[1m]\u001b[0m=\u001b[1;36m0.14285714285714285\u001b[0m z = \u001b[1;36m6.0\u001b[0m                                                       \n"
      ]
     },
     "metadata": {},
     "output_type": "display_data"
    },
    {
     "name": "stdout",
     "output_type": "stream",
     "text": [
      "1.25\n",
      "Step: 21 [0.05699629 0.05958644 0.06632525] [-0.00206622 -0.00157271  0.00174653] [[ 0.09564023  0.06486061  0.04671764  0.05078853  0.00672476 -0.02569294\n",
      "  -0.01087372  0.04510058]\n",
      " [ 0.04098121 -0.01785542 -0.03171103 -0.00942681 -0.02431995 -0.0433884\n",
      "  -0.03291513  0.02003792]\n",
      " [-0.00045145 -0.07004829 -0.07976881 -0.05646807 -0.0492974  -0.040657\n",
      "  -0.02808673  0.00081823]\n",
      " [ 0.0280011  -0.01774315 -0.05717864 -0.04884982 -0.03299912 -0.02143717\n",
      "   0.00908565  0.02740417]\n",
      " [ 0.07294235  0.03090489  0.00952218  0.01527224 -0.00175035  0.0003213\n",
      "   0.05348701  0.0829695 ]\n",
      " [ 0.05123577  0.02127657  0.01278689  0.0249192   0.00436379  0.00647544\n",
      "   0.03456225  0.04792165]\n",
      " [ 0.00965245  0.03872448  0.01223831  0.01747493  0.00509911  0.00314723\n",
      "   0.00949364 -0.01181866]\n",
      " [ 0.0480619   0.06727982  0.05748425  0.05051935  0.01228914  0.00190461\n",
      "   0.00970826  0.00998617]]\n"
     ]
    },
    {
     "data": {
      "text/html": [
       "<pre style=\"white-space:pre;overflow-x:auto;line-height:normal;font-family:Menlo,'DejaVu Sans Mono',consolas,'Courier New',monospace\">param<span style=\"font-weight: bold\">[</span><span style=\"color: #008000; text-decoration-color: #008000\">'nsteps'</span><span style=\"font-weight: bold\">]</span>=<span style=\"color: #008080; text-decoration-color: #008080; font-weight: bold\">21</span> param<span style=\"font-weight: bold\">[</span><span style=\"color: #008000; text-decoration-color: #008000\">'aexp'</span><span style=\"font-weight: bold\">]</span>=<span style=\"color: #008080; text-decoration-color: #008080; font-weight: bold\">0.15714285739197312</span> z = <span style=\"color: #008080; text-decoration-color: #008080; font-weight: bold\">5.363636353548196</span>                                         \n",
       "</pre>\n"
      ],
      "text/plain": [
       "param\u001b[1m[\u001b[0m\u001b[32m'nsteps'\u001b[0m\u001b[1m]\u001b[0m=\u001b[1;36m21\u001b[0m param\u001b[1m[\u001b[0m\u001b[32m'aexp'\u001b[0m\u001b[1m]\u001b[0m=\u001b[1;36m0.15714285739197312\u001b[0m z = \u001b[1;36m5.363636353548196\u001b[0m                                         \n"
      ]
     },
     "metadata": {},
     "output_type": "display_data"
    },
    {
     "name": "stdout",
     "output_type": "stream",
     "text": [
      "1.25\n",
      "Step: 22 [0.05668137 0.0593449  0.0665926 ] [-0.00225059 -0.00174065  0.0019196 ] [[ 0.10662743  0.073085    0.0527995   0.0562116   0.00695094 -0.02882754\n",
      "  -0.01245022  0.04993841]\n",
      " [ 0.04570932 -0.01940084 -0.03496332 -0.01128056 -0.02794842 -0.04861666\n",
      "  -0.03673349  0.02218948]\n",
      " [ 0.0002268  -0.07665955 -0.08797249 -0.0631385  -0.05529671 -0.0457473\n",
      "  -0.0313037   0.00141659]\n",
      " [ 0.03173637 -0.01990731 -0.06364593 -0.05477665 -0.03738236 -0.02436256\n",
      "   0.00979679  0.03122174]\n",
      " [ 0.08173293  0.03438179  0.01012734  0.01607861 -0.00223183  0.00033965\n",
      "   0.05930614  0.09283157]\n",
      " [ 0.05758706  0.02439226  0.01489251  0.02786548  0.00526107  0.00753279\n",
      "   0.03876539  0.05397463]\n",
      " [ 0.01187646  0.04373632  0.0148595   0.02011438  0.00610155  0.00384345\n",
      "   0.0109053  -0.0118714 ]\n",
      " [ 0.05437712  0.07607425  0.06515844  0.05654785  0.01380986  0.00201767\n",
      "   0.0106499   0.01184081]]\n"
     ]
    },
    {
     "data": {
      "text/html": [
       "<pre style=\"white-space:pre;overflow-x:auto;line-height:normal;font-family:Menlo,'DejaVu Sans Mono',consolas,'Courier New',monospace\">Snapshot written at <span style=\"color: #808000; text-decoration-color: #808000\">...</span><span style=\"color: #808000; text-decoration-color: #808000\">filename</span>=<span style=\"color: #008000; text-decoration-color: #008000\">'./small//output_00016/particles_eft_multigrid_ncoarse3.h5'</span>                        \n",
       "param<span style=\"font-weight: bold\">[</span><span style=\"color: #008000; text-decoration-color: #008000\">'aexp'</span><span style=\"font-weight: bold\">]</span>=<span style=\"color: #008080; text-decoration-color: #008080; font-weight: bold\">0.16666666666666669</span>                                                                                  \n",
       "</pre>\n"
      ],
      "text/plain": [
       "Snapshot written at \u001b[33m...\u001b[0m\u001b[33mfilename\u001b[0m=\u001b[32m'./small//output_00016/particles_eft_multigrid_ncoarse3.h5'\u001b[0m                        \n",
       "param\u001b[1m[\u001b[0m\u001b[32m'aexp'\u001b[0m\u001b[1m]\u001b[0m=\u001b[1;36m0.16666666666666669\u001b[0m                                                                                  \n"
      ]
     },
     "metadata": {},
     "output_type": "display_data"
    },
    {
     "data": {
      "text/html": [
       "<pre style=\"white-space:pre;overflow-x:auto;line-height:normal;font-family:Menlo,'DejaVu Sans Mono',consolas,'Courier New',monospace\">param<span style=\"font-weight: bold\">[</span><span style=\"color: #008000; text-decoration-color: #008000\">'nsteps'</span><span style=\"font-weight: bold\">]</span>=<span style=\"color: #008080; text-decoration-color: #008080; font-weight: bold\">22</span> param<span style=\"font-weight: bold\">[</span><span style=\"color: #008000; text-decoration-color: #008000\">'aexp'</span><span style=\"font-weight: bold\">]</span>=<span style=\"color: #008080; text-decoration-color: #008080; font-weight: bold\">0.16666666666666669</span> z = <span style=\"color: #008080; text-decoration-color: #008080; font-weight: bold\">4.999999999999999</span>                                         \n",
       "</pre>\n"
      ],
      "text/plain": [
       "param\u001b[1m[\u001b[0m\u001b[32m'nsteps'\u001b[0m\u001b[1m]\u001b[0m=\u001b[1;36m22\u001b[0m param\u001b[1m[\u001b[0m\u001b[32m'aexp'\u001b[0m\u001b[1m]\u001b[0m=\u001b[1;36m0.16666666666666669\u001b[0m z = \u001b[1;36m4.999999999999999\u001b[0m                                         \n"
      ]
     },
     "metadata": {},
     "output_type": "display_data"
    },
    {
     "name": "stdout",
     "output_type": "stream",
     "text": [
      "1.25\n",
      "Step: 23 [0.0561336  0.05891632 0.06706288] [-0.0025863  -0.0020512   0.00223713] [[ 0.1272138   0.0886864   0.06434119  0.06620605  0.00719614 -0.03473655\n",
      "  -0.01551819  0.05886055]\n",
      " [ 0.05455206 -0.02219787 -0.04099448 -0.01497608 -0.03494257 -0.05841336\n",
      "  -0.04390409  0.02613975]\n",
      " [ 0.00169517 -0.08866653 -0.10302368 -0.07558674 -0.06654082 -0.05533016\n",
      "  -0.03733566  0.00264125]\n",
      " [ 0.03883868 -0.0239986  -0.07569787 -0.06591032 -0.0457106  -0.02996486\n",
      "   0.01098865  0.03849316]\n",
      " [ 0.09830922  0.04085087  0.01111337  0.01733822 -0.00321833  0.00034378\n",
      "   0.07008967  0.11139203]\n",
      " [ 0.06963889  0.03040004  0.01899715  0.03340572  0.00704617  0.0095953\n",
      "   0.04669926  0.06547003]\n",
      " [ 0.01633764  0.05330497  0.02007615  0.02523113  0.00809411  0.00523944\n",
      "   0.01363964 -0.01164113]\n",
      " [ 0.0664338   0.09285827  0.07983012  0.06789342  0.01666732  0.00220437\n",
      "   0.0123646   0.01547548]]\n"
     ]
    },
    {
     "data": {
      "text/html": [
       "<pre style=\"white-space:pre;overflow-x:auto;line-height:normal;font-family:Menlo,'DejaVu Sans Mono',consolas,'Courier New',monospace\">param<span style=\"font-weight: bold\">[</span><span style=\"color: #008000; text-decoration-color: #008000\">'nsteps'</span><span style=\"font-weight: bold\">]</span>=<span style=\"color: #008080; text-decoration-color: #008080; font-weight: bold\">23</span> param<span style=\"font-weight: bold\">[</span><span style=\"color: #008000; text-decoration-color: #008000\">'aexp'</span><span style=\"font-weight: bold\">]</span>=<span style=\"color: #008080; text-decoration-color: #008080; font-weight: bold\">0.18333333282846506</span> z = <span style=\"color: #008080; text-decoration-color: #008080; font-weight: bold\">4.4545454695663285</span>                                        \n",
       "</pre>\n"
      ],
      "text/plain": [
       "param\u001b[1m[\u001b[0m\u001b[32m'nsteps'\u001b[0m\u001b[1m]\u001b[0m=\u001b[1;36m23\u001b[0m param\u001b[1m[\u001b[0m\u001b[32m'aexp'\u001b[0m\u001b[1m]\u001b[0m=\u001b[1;36m0.18333333282846506\u001b[0m z = \u001b[1;36m4.4545454695663285\u001b[0m                                        \n"
      ]
     },
     "metadata": {},
     "output_type": "display_data"
    },
    {
     "name": "stdout",
     "output_type": "stream",
     "text": [
      "1.25\n",
      "Step: 24 [0.05558744 0.0584787  0.067538  ] [-0.0029369  -0.0023813   0.00257152] [[ 0.1495733   0.10587452  0.07705682  0.0768293   0.00722269 -0.04119748\n",
      "  -0.01900424  0.06834847]\n",
      " [ 0.06412815 -0.02511634 -0.04746974 -0.01928043 -0.04278128 -0.06903993\n",
      "  -0.0517137   0.03031436]\n",
      " [ 0.0035444  -0.10121103 -0.11894112 -0.08901659 -0.07873677 -0.06577628\n",
      "  -0.04389652  0.00410185]\n",
      " [ 0.04667755 -0.02848643 -0.08869726 -0.07802393 -0.05489452 -0.03620439\n",
      "   0.01209306  0.04653022]\n",
      " [ 0.11644833  0.04780496  0.0119907   0.01837521 -0.00440134  0.00030288\n",
      "   0.08163646  0.13165292]\n",
      " [ 0.08292394  0.03714743  0.0236501   0.0394479   0.00911438  0.01194074\n",
      "   0.05538918  0.07816068]\n",
      " [ 0.02156954  0.06392689  0.02613822  0.03100646  0.01040711  0.00687371\n",
      "   0.01672593 -0.01097349]\n",
      " [ 0.07981667  0.11149435  0.09614225  0.08027665  0.01977536  0.00237403\n",
      "   0.01415582  0.01962445]]\n"
     ]
    },
    {
     "data": {
      "text/html": [
       "<pre style=\"white-space:pre;overflow-x:auto;line-height:normal;font-family:Menlo,'DejaVu Sans Mono',consolas,'Courier New',monospace\">Snapshot written at <span style=\"color: #808000; text-decoration-color: #808000\">...</span><span style=\"color: #808000; text-decoration-color: #808000\">filename</span>=<span style=\"color: #008000; text-decoration-color: #008000\">'./small//output_00017/particles_eft_multigrid_ncoarse3.h5'</span> param<span style=\"font-weight: bold\">[</span><span style=\"color: #008000; text-decoration-color: #008000\">'aexp'</span><span style=\"font-weight: bold\">]</span>=<span style=\"color: #008080; text-decoration-color: #008080; font-weight: bold\">0.2</span>      \n",
       "</pre>\n"
      ],
      "text/plain": [
       "Snapshot written at \u001b[33m...\u001b[0m\u001b[33mfilename\u001b[0m=\u001b[32m'./small//output_00017/particles_eft_multigrid_ncoarse3.h5'\u001b[0m param\u001b[1m[\u001b[0m\u001b[32m'aexp'\u001b[0m\u001b[1m]\u001b[0m=\u001b[1;36m0.2\u001b[0m      \n"
      ]
     },
     "metadata": {},
     "output_type": "display_data"
    },
    {
     "data": {
      "text/html": [
       "<pre style=\"white-space:pre;overflow-x:auto;line-height:normal;font-family:Menlo,'DejaVu Sans Mono',consolas,'Courier New',monospace\">param<span style=\"font-weight: bold\">[</span><span style=\"color: #008000; text-decoration-color: #008000\">'nsteps'</span><span style=\"font-weight: bold\">]</span>=<span style=\"color: #008080; text-decoration-color: #008080; font-weight: bold\">24</span> param<span style=\"font-weight: bold\">[</span><span style=\"color: #008000; text-decoration-color: #008000\">'aexp'</span><span style=\"font-weight: bold\">]</span>=<span style=\"color: #008080; text-decoration-color: #008080; font-weight: bold\">0.2</span> z = <span style=\"color: #008080; text-decoration-color: #008080; font-weight: bold\">4.0</span>                                                                       \n",
       "</pre>\n"
      ],
      "text/plain": [
       "param\u001b[1m[\u001b[0m\u001b[32m'nsteps'\u001b[0m\u001b[1m]\u001b[0m=\u001b[1;36m24\u001b[0m param\u001b[1m[\u001b[0m\u001b[32m'aexp'\u001b[0m\u001b[1m]\u001b[0m=\u001b[1;36m0.2\u001b[0m z = \u001b[1;36m4.0\u001b[0m                                                                       \n"
      ]
     },
     "metadata": {},
     "output_type": "display_data"
    },
    {
     "name": "stdout",
     "output_type": "stream",
     "text": [
      "1.25\n",
      "Step: 25 [0.05493473 0.05794375 0.06811289] [-0.00337701 -0.00280334  0.00299479] [[ 1.78742826e-01  1.28606886e-01  9.38557386e-02  9.03583318e-02\n",
      "   6.93296269e-03 -4.96725738e-02 -2.37648487e-02  8.04378316e-02]\n",
      " [ 7.65701383e-02 -2.87909396e-02 -5.58447316e-02 -2.52796076e-02\n",
      "  -5.33044338e-02 -8.28525722e-02 -6.19321242e-02  3.55914645e-02]\n",
      " [ 6.28605485e-03 -1.16933420e-01 -1.39124483e-01 -1.06375828e-01\n",
      "  -9.45825130e-02 -7.94220790e-02 -5.24714030e-02  6.16096705e-03]\n",
      " [ 5.70486560e-02 -3.44038159e-02 -1.05522037e-01 -9.38275158e-02\n",
      "  -6.70309812e-02 -4.45435010e-02  1.32599771e-02  5.71675450e-02]\n",
      " [ 1.40287787e-01  5.67686707e-02  1.28722107e-02  1.93015970e-02\n",
      "  -6.09128922e-03  1.76485628e-04  9.64661762e-02  1.58216596e-01]\n",
      " [ 1.00521401e-01  4.62317169e-02  2.99656540e-02  4.73587513e-02\n",
      "   1.19790975e-02  1.51329227e-02  6.68161064e-02  9.49852094e-02]\n",
      " [ 2.88914293e-02  7.80918151e-02  3.45509201e-02  3.88212129e-02\n",
      "   1.36165768e-02  9.15804878e-03  2.08996311e-02 -9.57196578e-03]\n",
      " [ 9.76546854e-02  1.36348367e-01  1.17916897e-01  9.65011939e-02\n",
      "   2.38242391e-02  2.55491771e-03  1.63949598e-02  2.52801850e-02]]\n"
     ]
    },
    {
     "data": {
      "text/html": [
       "<pre style=\"white-space:pre;overflow-x:auto;line-height:normal;font-family:Menlo,'DejaVu Sans Mono',consolas,'Courier New',monospace\">param<span style=\"font-weight: bold\">[</span><span style=\"color: #008000; text-decoration-color: #008000\">'nsteps'</span><span style=\"font-weight: bold\">]</span>=<span style=\"color: #008080; text-decoration-color: #008080; font-weight: bold\">25</span> param<span style=\"font-weight: bold\">[</span><span style=\"color: #008000; text-decoration-color: #008000\">'aexp'</span><span style=\"font-weight: bold\">]</span>=<span style=\"color: #008080; text-decoration-color: #008080; font-weight: bold\">0.21999999996869113</span> z = <span style=\"color: #008080; text-decoration-color: #008080; font-weight: bold\">3.545454546101423</span>                                         \n",
       "</pre>\n"
      ],
      "text/plain": [
       "param\u001b[1m[\u001b[0m\u001b[32m'nsteps'\u001b[0m\u001b[1m]\u001b[0m=\u001b[1;36m25\u001b[0m param\u001b[1m[\u001b[0m\u001b[32m'aexp'\u001b[0m\u001b[1m]\u001b[0m=\u001b[1;36m0.21999999996869113\u001b[0m z = \u001b[1;36m3.545454546101423\u001b[0m                                         \n"
      ]
     },
     "metadata": {},
     "output_type": "display_data"
    },
    {
     "name": "stdout",
     "output_type": "stream",
     "text": [
      "1.25\n",
      "Step: 26 [0.05421904 0.05734339 0.06875116] [-0.00388432 -0.00329932  0.00348675] [[ 2.13810086e-01  1.56316400e-01  1.14290141e-01  1.06170595e-01\n",
      "   6.16255403e-03 -5.99073321e-02 -2.97709592e-02  9.45745409e-02]\n",
      " [ 9.14457068e-02 -3.30686718e-02 -6.58492222e-02 -3.29803303e-02\n",
      "  -6.63033128e-02 -9.93565768e-02 -7.42572248e-02  4.17010821e-02]\n",
      " [ 9.99338925e-03 -1.35025635e-01 -1.62629694e-01 -1.26989320e-01\n",
      "  -1.13496438e-01 -9.58099440e-02 -6.28049970e-02  8.81385803e-03]\n",
      " [ 6.96762651e-02 -4.15999480e-02 -1.25564471e-01 -1.12792648e-01\n",
      "  -8.17892551e-02 -5.48160933e-02  1.42890699e-02  7.01129436e-02]\n",
      " [ 1.69168577e-01  6.73870146e-02  1.35883521e-02  1.98789332e-02\n",
      "  -8.31065513e-03 -8.29640776e-05  1.13975093e-01  1.90315217e-01]\n",
      " [ 1.22023404e-01  5.75011522e-02  3.78515199e-02  5.68991005e-02\n",
      "   1.56283043e-02  1.91319846e-02  8.06604177e-02  1.15556002e-01]\n",
      " [ 3.83163169e-02  9.55166072e-02  4.52903211e-02  4.85640392e-02\n",
      "   1.77146047e-02  1.20937992e-02  2.60999203e-02 -7.23641738e-03]\n",
      " [ 1.19580783e-01  1.66929424e-01  1.44720986e-01  1.16081201e-01\n",
      "   2.86695492e-02  2.72327289e-03  1.89529397e-02  3.23640630e-02]]\n"
     ]
    },
    {
     "data": {
      "text/html": [
       "<pre style=\"white-space:pre;overflow-x:auto;line-height:normal;font-family:Menlo,'DejaVu Sans Mono',consolas,'Courier New',monospace\">param<span style=\"font-weight: bold\">[</span><span style=\"color: #008000; text-decoration-color: #008000\">'nsteps'</span><span style=\"font-weight: bold\">]</span>=<span style=\"color: #008080; text-decoration-color: #008080; font-weight: bold\">26</span> param<span style=\"font-weight: bold\">[</span><span style=\"color: #008000; text-decoration-color: #008000\">'aexp'</span><span style=\"font-weight: bold\">]</span>=<span style=\"color: #008080; text-decoration-color: #008080; font-weight: bold\">0.24199999989765836</span> z = <span style=\"color: #008080; text-decoration-color: #008080; font-weight: bold\">3.132231406706196</span>                                         \n",
       "</pre>\n"
      ],
      "text/plain": [
       "param\u001b[1m[\u001b[0m\u001b[32m'nsteps'\u001b[0m\u001b[1m]\u001b[0m=\u001b[1;36m26\u001b[0m param\u001b[1m[\u001b[0m\u001b[32m'aexp'\u001b[0m\u001b[1m]\u001b[0m=\u001b[1;36m0.24199999989765836\u001b[0m z = \u001b[1;36m3.132231406706196\u001b[0m                                         \n"
      ]
     },
     "metadata": {},
     "output_type": "display_data"
    },
    {
     "name": "stdout",
     "output_type": "stream",
     "text": [
      "1.25\n",
      "Step: 27 [0.0539583  0.05712109 0.06898567] [-0.00407401 -0.00348707  0.00367164] [[ 2.27365673e-01  1.67124674e-01  1.22248217e-01  1.12157211e-01\n",
      "   5.75139001e-03 -6.38742298e-02 -3.21690440e-02  9.99258459e-02]\n",
      " [ 9.71710086e-02 -3.46890278e-02 -6.97018430e-02 -3.60862166e-02\n",
      "  -7.14129582e-02 -1.05704114e-01 -7.90317729e-02  4.39969786e-02]\n",
      " [ 1.15321428e-02 -1.41805694e-01 -1.71511471e-01 -1.34880379e-01\n",
      "  -1.20763153e-01 -1.02130577e-01 -6.68080896e-02  9.88589227e-03]\n",
      " [ 7.45948553e-02 -4.44011018e-02 -1.33263290e-01 -1.20107740e-01\n",
      "  -8.75321776e-02 -5.88502176e-02  1.45870559e-02  7.51524121e-02]\n",
      " [ 1.80390179e-01  7.14406446e-02  1.37755545e-02  1.99578889e-02\n",
      "  -9.21759568e-03 -2.14021653e-04  1.20654650e-01  2.02762112e-01]\n",
      " [ 1.30421132e-01  6.19510785e-02  4.09677923e-02  6.05949014e-02\n",
      "   1.70901828e-02  2.07199305e-02  8.60373154e-02  1.23601899e-01]\n",
      " [ 4.21271473e-02  1.02349848e-01  4.96084243e-02  5.24177402e-02\n",
      "   1.93614885e-02  1.32777411e-02  2.81576067e-02 -6.16958737e-03]\n",
      " [ 1.28177941e-01  1.78942204e-01  1.55243322e-01  1.23666927e-01\n",
      "   3.05337869e-02  2.77535431e-03  1.99020971e-02  3.51757742e-02]]\n"
     ]
    },
    {
     "data": {
      "text/html": [
       "<pre style=\"white-space:pre;overflow-x:auto;line-height:normal;font-family:Menlo,'DejaVu Sans Mono',consolas,'Courier New',monospace\">Snapshot written at <span style=\"color: #808000; text-decoration-color: #808000\">...</span><span style=\"color: #808000; text-decoration-color: #808000\">filename</span>=<span style=\"color: #008000; text-decoration-color: #008000\">'./small//output_00018/particles_eft_multigrid_ncoarse3.h5'</span> param<span style=\"font-weight: bold\">[</span><span style=\"color: #008000; text-decoration-color: #008000\">'aexp'</span><span style=\"font-weight: bold\">]</span>=<span style=\"color: #008080; text-decoration-color: #008080; font-weight: bold\">0.25</span>     \n",
       "</pre>\n"
      ],
      "text/plain": [
       "Snapshot written at \u001b[33m...\u001b[0m\u001b[33mfilename\u001b[0m=\u001b[32m'./small//output_00018/particles_eft_multigrid_ncoarse3.h5'\u001b[0m param\u001b[1m[\u001b[0m\u001b[32m'aexp'\u001b[0m\u001b[1m]\u001b[0m=\u001b[1;36m0.25\u001b[0m     \n"
      ]
     },
     "metadata": {},
     "output_type": "display_data"
    },
    {
     "data": {
      "text/html": [
       "<pre style=\"white-space:pre;overflow-x:auto;line-height:normal;font-family:Menlo,'DejaVu Sans Mono',consolas,'Courier New',monospace\">param<span style=\"font-weight: bold\">[</span><span style=\"color: #008000; text-decoration-color: #008000\">'nsteps'</span><span style=\"font-weight: bold\">]</span>=<span style=\"color: #008080; text-decoration-color: #008080; font-weight: bold\">27</span> param<span style=\"font-weight: bold\">[</span><span style=\"color: #008000; text-decoration-color: #008000\">'aexp'</span><span style=\"font-weight: bold\">]</span>=<span style=\"color: #008080; text-decoration-color: #008080; font-weight: bold\">0.25</span> z = <span style=\"color: #008080; text-decoration-color: #008080; font-weight: bold\">3.0</span>                                                                      \n",
       "</pre>\n"
      ],
      "text/plain": [
       "param\u001b[1m[\u001b[0m\u001b[32m'nsteps'\u001b[0m\u001b[1m]\u001b[0m=\u001b[1;36m27\u001b[0m param\u001b[1m[\u001b[0m\u001b[32m'aexp'\u001b[0m\u001b[1m]\u001b[0m=\u001b[1;36m0.25\u001b[0m z = \u001b[1;36m3.0\u001b[0m                                                                      \n"
      ]
     },
     "metadata": {},
     "output_type": "display_data"
    },
    {
     "name": "stdout",
     "output_type": "stream",
     "text": [
      "1.25\n",
      "Step: 28 [0.05314818 0.05642059 0.06971965] [-0.00468829 -0.00410385  0.00427373] [[ 0.27235547  0.20331934  0.1488116   0.13158122  0.00400665 -0.07705464\n",
      "  -0.04039721  0.11730477]\n",
      " [ 0.11607138 -0.04000151 -0.08249858 -0.04682074 -0.08863261 -0.126614\n",
      "  -0.09492108  0.05138303]\n",
      " [ 0.01699059 -0.16362983 -0.20030683 -0.16077198 -0.14467554 -0.12303922\n",
      "  -0.08011855  0.01355346]\n",
      " [ 0.09101826 -0.05378697 -0.15861998 -0.14430621 -0.10668777 -0.07244735\n",
      "   0.01519309  0.09195286]\n",
      " [ 0.21782602  0.0847496   0.01406971  0.01978505 -0.01239179 -0.00077077\n",
      "   0.142513    0.24422665]\n",
      " [ 0.15864173  0.07699011  0.05156408  0.07287349  0.02211689  0.02611072\n",
      "   0.10396955  0.1505986 ]\n",
      " [ 0.05527844  0.12541862  0.06443991  0.06550772  0.02502558  0.01736621\n",
      "   0.03512836 -0.00208717]\n",
      " [ 0.15715669  0.21943513  0.19073033  0.14888547  0.03667779  0.00291429\n",
      "   0.02293018  0.04469967]]\n"
     ]
    },
    {
     "data": {
      "text/html": [
       "<pre style=\"white-space:pre;overflow-x:auto;line-height:normal;font-family:Menlo,'DejaVu Sans Mono',consolas,'Courier New',monospace\">param<span style=\"font-weight: bold\">[</span><span style=\"color: #008000; text-decoration-color: #008000\">'nsteps'</span><span style=\"font-weight: bold\">]</span>=<span style=\"color: #008080; text-decoration-color: #008080; font-weight: bold\">28</span> param<span style=\"font-weight: bold\">[</span><span style=\"color: #008000; text-decoration-color: #008000\">'aexp'</span><span style=\"font-weight: bold\">]</span>=<span style=\"color: #008080; text-decoration-color: #008080; font-weight: bold\">0.27499999986292756</span> z = <span style=\"color: #008080; text-decoration-color: #008080; font-weight: bold\">2.6363636381761646</span>                                        \n",
       "</pre>\n"
      ],
      "text/plain": [
       "param\u001b[1m[\u001b[0m\u001b[32m'nsteps'\u001b[0m\u001b[1m]\u001b[0m=\u001b[1;36m28\u001b[0m param\u001b[1m[\u001b[0m\u001b[32m'aexp'\u001b[0m\u001b[1m]\u001b[0m=\u001b[1;36m0.27499999986292756\u001b[0m z = \u001b[1;36m2.6363636381761646\u001b[0m                                        \n"
      ]
     },
     "metadata": {},
     "output_type": "display_data"
    },
    {
     "name": "stdout",
     "output_type": "stream",
     "text": [
      "1.25\n",
      "Step: 29 [0.05225915 0.05563454 0.07053415] [-0.00539708 -0.00483023  0.00497372] [[ 0.32662708  0.24753945  0.181108    0.15415302  0.00119625 -0.09296612\n",
      "  -0.05082357  0.13750422]\n",
      " [ 0.13866061 -0.04631934 -0.09796465 -0.06054993 -0.1098275  -0.15151678\n",
      "  -0.11415918  0.0598415 ]\n",
      " [ 0.02419685 -0.18870717 -0.23376864 -0.19139728 -0.17308669 -0.14806727\n",
      "  -0.09623484  0.01818689]\n",
      " [ 0.11097817 -0.06525531 -0.18886022 -0.17330134 -0.12992838 -0.08921581\n",
      "   0.01522043  0.11231729]\n",
      " [ 0.2633331   0.10045953  0.01383403  0.0187523  -0.01651447 -0.00168008\n",
      "   0.16827536  0.294493  ]\n",
      " [ 0.19326535  0.09564433  0.06472667  0.08770594  0.02847913  0.03283287\n",
      "   0.12573132  0.18372682]\n",
      " [ 0.07209478  0.15388545  0.08326356  0.08180617  0.03221676  0.02258087\n",
      "   0.0437907   0.00376316]\n",
      " [ 0.19287288  0.26947147  0.23453271  0.17935789  0.04399038  0.00302\n",
      "   0.02631885  0.05653058]]\n"
     ]
    },
    {
     "data": {
      "text/html": [
       "<pre style=\"white-space:pre;overflow-x:auto;line-height:normal;font-family:Menlo,'DejaVu Sans Mono',consolas,'Courier New',monospace\">param<span style=\"font-weight: bold\">[</span><span style=\"color: #008000; text-decoration-color: #008000\">'nsteps'</span><span style=\"font-weight: bold\">]</span>=<span style=\"color: #008080; text-decoration-color: #008080; font-weight: bold\">29</span> param<span style=\"font-weight: bold\">[</span><span style=\"color: #008000; text-decoration-color: #008000\">'aexp'</span><span style=\"font-weight: bold\">]</span>=<span style=\"color: #008080; text-decoration-color: #008080; font-weight: bold\">0.30249999937366523</span> z = <span style=\"color: #008080; text-decoration-color: #008080; font-weight: bold\">2.3057851308116635</span>                                        \n",
       "</pre>\n"
      ],
      "text/plain": [
       "param\u001b[1m[\u001b[0m\u001b[32m'nsteps'\u001b[0m\u001b[1m]\u001b[0m=\u001b[1;36m29\u001b[0m param\u001b[1m[\u001b[0m\u001b[32m'aexp'\u001b[0m\u001b[1m]\u001b[0m=\u001b[1;36m0.30249999937366523\u001b[0m z = \u001b[1;36m2.3057851308116635\u001b[0m                                        \n"
      ]
     },
     "metadata": {},
     "output_type": "display_data"
    },
    {
     "name": "stdout",
     "output_type": "stream",
     "text": [
      "1.25\n",
      "Step: 30 [0.0512832  0.05475236 0.0714379 ] [-0.00621534 -0.00568659  0.00578767] [[ 0.39219275  0.30163145  0.22036374  0.18028907 -0.00307497 -0.11216906\n",
      "  -0.06406137  0.16090256]\n",
      " [ 0.16564374 -0.05391645 -0.11676383 -0.07808724 -0.13587978 -0.18112308\n",
      "  -0.13749394  0.06947003]\n",
      " [ 0.03364688 -0.21749635 -0.2726083  -0.2275523  -0.20676202 -0.17798437\n",
      "  -0.11578602  0.0239965 ]\n",
      " [ 0.13521525 -0.07929976 -0.2249365  -0.20801955 -0.15809663 -0.10990576\n",
      "   0.01433036  0.13695711]\n",
      " [ 0.31873932  0.11897534  0.0127943   0.01652148 -0.0218512  -0.0031058\n",
      "   0.1986025   0.35552803]\n",
      " [ 0.23584503  0.11877884  0.0810564   0.10563191  0.03651781  0.04119582\n",
      "   0.15216291  0.22444564]\n",
      " [ 0.09355025  0.18908766  0.10710981  0.10209961  0.04132881  0.02921616\n",
      "   0.05454206  0.01191705]\n",
      " [ 0.23696877  0.33142665  0.28868365  0.21619195  0.05266684  0.00308376\n",
      "   0.03006138  0.07117493]]\n"
     ]
    },
    {
     "data": {
      "text/html": [
       "<pre style=\"white-space:pre;overflow-x:auto;line-height:normal;font-family:Menlo,'DejaVu Sans Mono',consolas,'Courier New',monospace\">param<span style=\"font-weight: bold\">[</span><span style=\"color: #008000; text-decoration-color: #008000\">'nsteps'</span><span style=\"font-weight: bold\">]</span>=<span style=\"color: #008080; text-decoration-color: #008080; font-weight: bold\">30</span> param<span style=\"font-weight: bold\">[</span><span style=\"color: #008000; text-decoration-color: #008000\">'aexp'</span><span style=\"font-weight: bold\">]</span>=<span style=\"color: #008080; text-decoration-color: #008080; font-weight: bold\">0.33274999856188375</span> z = <span style=\"color: #008080; text-decoration-color: #008080; font-weight: bold\">2.0052592165947773</span>                                        \n",
       "</pre>\n"
      ],
      "text/plain": [
       "param\u001b[1m[\u001b[0m\u001b[32m'nsteps'\u001b[0m\u001b[1m]\u001b[0m=\u001b[1;36m30\u001b[0m param\u001b[1m[\u001b[0m\u001b[32m'aexp'\u001b[0m\u001b[1m]\u001b[0m=\u001b[1;36m0.33274999856188375\u001b[0m z = \u001b[1;36m2.0052592165947773\u001b[0m                                        \n"
      ]
     },
     "metadata": {},
     "output_type": "display_data"
    },
    {
     "name": "stdout",
     "output_type": "stream",
     "text": [
      "1.25\n",
      "Step: 31 [0.05126431 0.05473507 0.07145549] [-0.00623144 -0.00570361  0.00580374] [[ 0.3935259   0.30272448  0.22116476  0.18080878 -0.00317097 -0.11255585\n",
      "  -0.06433459  0.16135783]\n",
      " [ 0.16618782 -0.05407348 -0.11714307 -0.07845391 -0.13640551 -0.18172053\n",
      "  -0.13796306  0.06965858]\n",
      " [ 0.03384282 -0.21806133 -0.27337724 -0.22827238 -0.20743722 -0.17857946\n",
      "  -0.11618789  0.02412628]\n",
      " [ 0.1357055  -0.07958362 -0.22567208 -0.20871693 -0.15866716 -0.11032948\n",
      "   0.01430815  0.13745683]\n",
      " [ 0.3198682   0.11932467  0.01277156  0.01645507 -0.02196206 -0.00313649\n",
      "   0.19920701  0.3567585 ]\n",
      " [ 0.23668781  0.11926202  0.08137031  0.10599787  0.03668118  0.04137018\n",
      "   0.15269189  0.22528513]\n",
      " [ 0.09400594  0.18977496  0.107612    0.10250548  0.04151823  0.02935389\n",
      "   0.05476351  0.01207395]\n",
      " [ 0.23784667  0.3327039   0.28977755  0.21693686  0.05284258  0.00308369\n",
      "   0.03012474  0.07148051]]\n"
     ]
    },
    {
     "data": {
      "text/html": [
       "<pre style=\"white-space:pre;overflow-x:auto;line-height:normal;font-family:Menlo,'DejaVu Sans Mono',consolas,'Courier New',monospace\">Snapshot written at <span style=\"color: #808000; text-decoration-color: #808000\">...</span><span style=\"color: #808000; text-decoration-color: #808000\">filename</span>=<span style=\"color: #008000; text-decoration-color: #008000\">'./small//output_00019/particles_eft_multigrid_ncoarse3.h5'</span>                        \n",
       "param<span style=\"font-weight: bold\">[</span><span style=\"color: #008000; text-decoration-color: #008000\">'aexp'</span><span style=\"font-weight: bold\">]</span>=<span style=\"color: #008080; text-decoration-color: #008080; font-weight: bold\">0.3333333333333333</span>                                                                                   \n",
       "</pre>\n"
      ],
      "text/plain": [
       "Snapshot written at \u001b[33m...\u001b[0m\u001b[33mfilename\u001b[0m=\u001b[32m'./small//output_00019/particles_eft_multigrid_ncoarse3.h5'\u001b[0m                        \n",
       "param\u001b[1m[\u001b[0m\u001b[32m'aexp'\u001b[0m\u001b[1m]\u001b[0m=\u001b[1;36m0.3333333333333333\u001b[0m                                                                                   \n"
      ]
     },
     "metadata": {},
     "output_type": "display_data"
    },
    {
     "data": {
      "text/html": [
       "<pre style=\"white-space:pre;overflow-x:auto;line-height:normal;font-family:Menlo,'DejaVu Sans Mono',consolas,'Courier New',monospace\">param<span style=\"font-weight: bold\">[</span><span style=\"color: #008000; text-decoration-color: #008000\">'nsteps'</span><span style=\"font-weight: bold\">]</span>=<span style=\"color: #008080; text-decoration-color: #008080; font-weight: bold\">31</span> param<span style=\"font-weight: bold\">[</span><span style=\"color: #008000; text-decoration-color: #008000\">'aexp'</span><span style=\"font-weight: bold\">]</span>=<span style=\"color: #008080; text-decoration-color: #008080; font-weight: bold\">0.3333333333333333</span> z = <span style=\"color: #008080; text-decoration-color: #008080; font-weight: bold\">2.0</span>                                                        \n",
       "</pre>\n"
      ],
      "text/plain": [
       "param\u001b[1m[\u001b[0m\u001b[32m'nsteps'\u001b[0m\u001b[1m]\u001b[0m=\u001b[1;36m31\u001b[0m param\u001b[1m[\u001b[0m\u001b[32m'aexp'\u001b[0m\u001b[1m]\u001b[0m=\u001b[1;36m0.3333333333333333\u001b[0m z = \u001b[1;36m2.0\u001b[0m                                                        \n"
      ]
     },
     "metadata": {},
     "output_type": "display_data"
    },
    {
     "name": "stdout",
     "output_type": "stream",
     "text": [
      "1.25\n",
      "Step: 32 [0.05019066 0.05374258 0.07246006] [-0.0071791  -0.0067175   0.00675298] [[ 0.47313628  0.36923432  0.26903436  0.21101332 -0.00946847 -0.13579878\n",
      "  -0.08125205  0.18841977]\n",
      " [ 0.198499   -0.06335517 -0.1402194  -0.1009337  -0.1685062  -0.2169567\n",
      "  -0.16642383  0.08056343]\n",
      " [ 0.04623027 -0.2511569  -0.31852227 -0.27099532 -0.24736589 -0.21440595\n",
      "  -0.14003344  0.03138687]\n",
      " [ 0.16521418 -0.09688989 -0.2688609  -0.25039205 -0.19288996 -0.13597184\n",
      "   0.01198627  0.16731441]\n",
      " [ 0.38768736  0.14117935  0.01051363  0.01255149 -0.02887909 -0.00532923\n",
      "   0.234956    0.4312705 ]\n",
      " [ 0.28939775  0.14806366  0.1016929   0.1277448   0.04686945  0.05179111\n",
      "   0.18493898  0.27561218]\n",
      " [ 0.12145326  0.23359284  0.13790739  0.12788041  0.05309353  0.03781568\n",
      "   0.06814101  0.02328123]\n",
      " [ 0.29261655  0.40989664  0.3571118   0.2616267   0.06312717  0.00309904\n",
      "   0.03419102  0.08960839]]\n"
     ]
    },
    {
     "data": {
      "text/html": [
       "<pre style=\"white-space:pre;overflow-x:auto;line-height:normal;font-family:Menlo,'DejaVu Sans Mono',consolas,'Courier New',monospace\">param<span style=\"font-weight: bold\">[</span><span style=\"color: #008000; text-decoration-color: #008000\">'nsteps'</span><span style=\"font-weight: bold\">]</span>=<span style=\"color: #008080; text-decoration-color: #008080; font-weight: bold\">32</span> param<span style=\"font-weight: bold\">[</span><span style=\"color: #008000; text-decoration-color: #008000\">'aexp'</span><span style=\"font-weight: bold\">]</span>=<span style=\"color: #008080; text-decoration-color: #008080; font-weight: bold\">0.366666665251145</span> z = <span style=\"color: #008080; text-decoration-color: #008080; font-weight: bold\">1.727272737801401</span>                                           \n",
       "</pre>\n"
      ],
      "text/plain": [
       "param\u001b[1m[\u001b[0m\u001b[32m'nsteps'\u001b[0m\u001b[1m]\u001b[0m=\u001b[1;36m32\u001b[0m param\u001b[1m[\u001b[0m\u001b[32m'aexp'\u001b[0m\u001b[1m]\u001b[0m=\u001b[1;36m0.366666665251145\u001b[0m z = \u001b[1;36m1.727272737801401\u001b[0m                                           \n"
      ]
     },
     "metadata": {},
     "output_type": "display_data"
    },
    {
     "name": "stdout",
     "output_type": "stream",
     "text": [
      "1.25\n",
      "Step: 33 [0.04901109 0.05262783 0.07357449] [-0.00827435 -0.0079159   0.00785711] [[ 0.5696341   0.45079905  0.32719353  0.24563524 -0.01845068 -0.16380948\n",
      "  -0.10281247  0.2194446 ]\n",
      " [ 0.2370249  -0.07481641 -0.1686112  -0.12960021 -0.2078338  -0.25867355\n",
      "  -0.20106636  0.09277903]\n",
      " [ 0.06231031 -0.28904077 -0.37076843 -0.32119992 -0.29441833 -0.25707477\n",
      "  -0.16908282  0.04040201]\n",
      " [ 0.20096889 -0.11817692 -0.3204456  -0.30020133 -0.23427272 -0.16764651\n",
      "   0.00759411  0.2032955 ]\n",
      " [ 0.47055522  0.16676922  0.00653633  0.00638565 -0.03777201 -0.0085986\n",
      "   0.27687734  0.5220469 ]\n",
      " [ 0.35448614  0.18381304  0.12678264  0.15404986  0.05970533  0.0647019\n",
      "   0.22414461  0.33772296]\n",
      " [ 0.15640002  0.2879429   0.17621836  0.15944791  0.06771468  0.0485404\n",
      "   0.08469914  0.03830305]\n",
      " [ 0.3604375   0.5059579   0.4406231   0.31565407  0.07522994  0.00306786\n",
      "   0.03845464  0.11189745]]\n"
     ]
    },
    {
     "data": {
      "text/html": [
       "<pre style=\"white-space:pre;overflow-x:auto;line-height:normal;font-family:Menlo,'DejaVu Sans Mono',consolas,'Courier New',monospace\">param<span style=\"font-weight: bold\">[</span><span style=\"color: #008000; text-decoration-color: #008000\">'nsteps'</span><span style=\"font-weight: bold\">]</span>=<span style=\"color: #008080; text-decoration-color: #008080; font-weight: bold\">33</span> param<span style=\"font-weight: bold\">[</span><span style=\"color: #008000; text-decoration-color: #008000\">'aexp'</span><span style=\"font-weight: bold\">]</span>=<span style=\"color: #008080; text-decoration-color: #008080; font-weight: bold\">0.4033333321886691</span> z = <span style=\"color: #008080; text-decoration-color: #008080; font-weight: bold\">1.479338850011596</span>                                          \n",
       "</pre>\n"
      ],
      "text/plain": [
       "param\u001b[1m[\u001b[0m\u001b[32m'nsteps'\u001b[0m\u001b[1m]\u001b[0m=\u001b[1;36m33\u001b[0m param\u001b[1m[\u001b[0m\u001b[32m'aexp'\u001b[0m\u001b[1m]\u001b[0m=\u001b[1;36m0.4033333321886691\u001b[0m z = \u001b[1;36m1.479338850011596\u001b[0m                                          \n"
      ]
     },
     "metadata": {},
     "output_type": "display_data"
    },
    {
     "name": "stdout",
     "output_type": "stream",
     "text": [
      "1.25\n",
      "Step: 34 [0.04771457 0.05137501 0.07481078] [-0.00954095 -0.00933443  0.00914163] [[ 6.8679088e-01  5.5099130e-01  3.9781976e-01  2.8503200e-01\n",
      "  -3.1019121e-02 -1.9753686e-01 -1.3034348e-01  2.5477344e-01]\n",
      " [ 2.8289023e-01 -8.9168221e-02 -2.0377009e-01 -1.6612746e-01\n",
      "  -2.5594714e-01 -3.0792981e-01 -2.4332201e-01  1.0631923e-01]\n",
      " [ 8.3116144e-02 -3.3231840e-01 -4.3112272e-01 -3.8004562e-01\n",
      "  -3.4967265e-01 -3.0780411e-01 -2.0453337e-01  5.1529676e-02]\n",
      " [ 2.4423891e-01 -1.4442311e-01 -3.8207376e-01 -3.5967442e-01\n",
      "  -2.8425109e-01 -2.0679295e-01  1.9663572e-04  2.4655408e-01]\n",
      " [ 5.7200295e-01  1.9664466e-01  9.4821677e-05 -2.8052479e-03\n",
      "  -4.9170822e-02 -1.3397999e-02  3.2590470e-01  6.3285959e-01]\n",
      " [ 4.3510726e-01  2.2818998e-01  1.5772581e-01  1.8587229e-01\n",
      "   7.5868256e-02  8.0654129e-02  2.7184749e-01  4.1453370e-01]\n",
      " [ 2.0085970e-01  3.5555544e-01  2.2463423e-01  1.9873086e-01\n",
      "   8.6157635e-02  6.2114261e-02  1.0515915e-01  5.8232695e-02]\n",
      " [ 4.4462398e-01  6.2582970e-01  5.4443294e-01  3.8095400e-01\n",
      "   8.9390703e-02  3.0097663e-03  4.2735144e-02  1.3919136e-01]]\n"
     ]
    },
    {
     "data": {
      "text/html": [
       "<pre style=\"white-space:pre;overflow-x:auto;line-height:normal;font-family:Menlo,'DejaVu Sans Mono',consolas,'Courier New',monospace\">param<span style=\"font-weight: bold\">[</span><span style=\"color: #008000; text-decoration-color: #008000\">'nsteps'</span><span style=\"font-weight: bold\">]</span>=<span style=\"color: #008080; text-decoration-color: #008080; font-weight: bold\">34</span> param<span style=\"font-weight: bold\">[</span><span style=\"color: #008000; text-decoration-color: #008000\">'aexp'</span><span style=\"font-weight: bold\">]</span>=<span style=\"color: #008080; text-decoration-color: #008080; font-weight: bold\">0.44366666725922005</span> z = <span style=\"color: #008080; text-decoration-color: #008080; font-weight: bold\">1.2539443996944049</span>                                        \n",
       "</pre>\n"
      ],
      "text/plain": [
       "param\u001b[1m[\u001b[0m\u001b[32m'nsteps'\u001b[0m\u001b[1m]\u001b[0m=\u001b[1;36m34\u001b[0m param\u001b[1m[\u001b[0m\u001b[32m'aexp'\u001b[0m\u001b[1m]\u001b[0m=\u001b[1;36m0.44366666725922005\u001b[0m z = \u001b[1;36m1.2539443996944049\u001b[0m                                        \n"
      ]
     },
     "metadata": {},
     "output_type": "display_data"
    },
    {
     "name": "stdout",
     "output_type": "stream",
     "text": [
      "1.25\n",
      "Step: 35 [0.04628887 0.04996596 0.07618224] [-0.0110066  -0.01101624  0.01063625] [[ 0.8292788   0.6742714   0.48355103  0.32944283 -0.04834265 -0.23809567\n",
      "  -0.16556217  0.29463947]\n",
      " [ 0.33737966 -0.10739834 -0.2475931  -0.2126376  -0.31470937 -0.36591375\n",
      "  -0.29496497  0.12113389]\n",
      " [ 0.10996464 -0.38161978 -0.50068784 -0.44881636 -0.414298   -0.3679899\n",
      "  -0.2478731   0.06520978]\n",
      " [ 0.29652077 -0.17685354 -0.45573482 -0.43060708 -0.34452733 -0.25519818\n",
      "  -0.01148739  0.29842407]\n",
      " [ 0.6964516   0.23135054 -0.00983099 -0.01602896 -0.0637368  -0.02035368\n",
      "   0.38303632  0.76840204]\n",
      " [ 0.5352461   0.2833117   0.19580379  0.2243718   0.0962127   0.1003098\n",
      "   0.3299101   0.50975347]\n",
      " [ 0.25742012  0.4398684   0.2858194   0.24761006  0.10939457  0.07927455\n",
      "   0.13039473  0.08442014]\n",
      " [ 0.5493558   0.7758842   0.67376095  0.45982397  0.10584367  0.00297578\n",
      "   0.0467065   0.17248024]]\n"
     ]
    },
    {
     "data": {
      "text/html": [
       "<pre style=\"white-space:pre;overflow-x:auto;line-height:normal;font-family:Menlo,'DejaVu Sans Mono',consolas,'Courier New',monospace\">param<span style=\"font-weight: bold\">[</span><span style=\"color: #008000; text-decoration-color: #008000\">'nsteps'</span><span style=\"font-weight: bold\">]</span>=<span style=\"color: #008080; text-decoration-color: #008080; font-weight: bold\">35</span> param<span style=\"font-weight: bold\">[</span><span style=\"color: #008000; text-decoration-color: #008000\">'aexp'</span><span style=\"font-weight: bold\">]</span>=<span style=\"color: #008080; text-decoration-color: #008080; font-weight: bold\">0.4880333332986013</span> z = <span style=\"color: #008080; text-decoration-color: #008080; font-weight: bold\">1.0490403662410368</span>                                         \n",
       "</pre>\n"
      ],
      "text/plain": [
       "param\u001b[1m[\u001b[0m\u001b[32m'nsteps'\u001b[0m\u001b[1m]\u001b[0m=\u001b[1;36m35\u001b[0m param\u001b[1m[\u001b[0m\u001b[32m'aexp'\u001b[0m\u001b[1m]\u001b[0m=\u001b[1;36m0.4880333332986013\u001b[0m z = \u001b[1;36m1.0490403662410368\u001b[0m                                         \n"
      ]
     },
     "metadata": {},
     "output_type": "display_data"
    },
    {
     "name": "stdout",
     "output_type": "stream",
     "text": [
      "1.25\n",
      "Step: 36 [0.04590268 0.04957834 0.07655582] [-0.01141311 -0.01148949  0.01105206] [[ 0.87029004  0.70999193  0.5081822   0.34155706 -0.05369963 -0.24966809\n",
      "  -0.17602018  0.30550498]\n",
      " [ 0.35279644 -0.11281217 -0.26040557 -0.22639617 -0.33163017 -0.38223457\n",
      "  -0.30986425  0.12508427]\n",
      " [ 0.11795428 -0.39518642 -0.51999867 -0.4680724  -0.4323995  -0.38500047\n",
      "  -0.26039085  0.06918591]\n",
      " [ 0.31147754 -0.1862673  -0.47670516 -0.45074093 -0.36175808 -0.26926237\n",
      "  -0.01533483  0.31319273]\n",
      " [ 0.7324648   0.24098295 -0.01306704 -0.02022151 -0.06805072 -0.02256326\n",
      "   0.39899677  0.8075238 ]\n",
      " [ 0.56440383  0.2994044   0.20678282  0.23541006  0.10218689  0.10600284\n",
      "   0.34660017  0.53751457]\n",
      " [ 0.2741868   0.46445847  0.30386865  0.26184875  0.11621866  0.08432901\n",
      "   0.13771516  0.09226525]\n",
      " [ 0.57988626  0.8199033   0.7115192   0.48239172  0.1104283   0.00297552\n",
      "   0.04759033  0.18207373]]\n"
     ]
    },
    {
     "data": {
      "text/html": [
       "<pre style=\"white-space:pre;overflow-x:auto;line-height:normal;font-family:Menlo,'DejaVu Sans Mono',consolas,'Courier New',monospace\">Snapshot written at <span style=\"color: #808000; text-decoration-color: #808000\">...</span><span style=\"color: #808000; text-decoration-color: #808000\">filename</span>=<span style=\"color: #008000; text-decoration-color: #008000\">'./small//output_00020/particles_eft_multigrid_ncoarse3.h5'</span> param<span style=\"font-weight: bold\">[</span><span style=\"color: #008000; text-decoration-color: #008000\">'aexp'</span><span style=\"font-weight: bold\">]</span>=<span style=\"color: #008080; text-decoration-color: #008080; font-weight: bold\">0.5</span>      \n",
       "</pre>\n"
      ],
      "text/plain": [
       "Snapshot written at \u001b[33m...\u001b[0m\u001b[33mfilename\u001b[0m=\u001b[32m'./small//output_00020/particles_eft_multigrid_ncoarse3.h5'\u001b[0m param\u001b[1m[\u001b[0m\u001b[32m'aexp'\u001b[0m\u001b[1m]\u001b[0m=\u001b[1;36m0.5\u001b[0m      \n"
      ]
     },
     "metadata": {},
     "output_type": "display_data"
    },
    {
     "data": {
      "text/html": [
       "<pre style=\"white-space:pre;overflow-x:auto;line-height:normal;font-family:Menlo,'DejaVu Sans Mono',consolas,'Courier New',monospace\">param<span style=\"font-weight: bold\">[</span><span style=\"color: #008000; text-decoration-color: #008000\">'nsteps'</span><span style=\"font-weight: bold\">]</span>=<span style=\"color: #008080; text-decoration-color: #008080; font-weight: bold\">36</span> param<span style=\"font-weight: bold\">[</span><span style=\"color: #008000; text-decoration-color: #008000\">'aexp'</span><span style=\"font-weight: bold\">]</span>=<span style=\"color: #008080; text-decoration-color: #008080; font-weight: bold\">0.5</span> z = <span style=\"color: #008080; text-decoration-color: #008080; font-weight: bold\">1.0</span>                                                                       \n",
       "</pre>\n"
      ],
      "text/plain": [
       "param\u001b[1m[\u001b[0m\u001b[32m'nsteps'\u001b[0m\u001b[1m]\u001b[0m=\u001b[1;36m36\u001b[0m param\u001b[1m[\u001b[0m\u001b[32m'aexp'\u001b[0m\u001b[1m]\u001b[0m=\u001b[1;36m0.5\u001b[0m z = \u001b[1;36m1.0\u001b[0m                                                                       \n"
      ]
     },
     "metadata": {},
     "output_type": "display_data"
    },
    {
     "name": "stdout",
     "output_type": "stream",
     "text": [
      "1.25\n",
      "Step: 37 [0.04548896 0.04916061 0.07695687] [-0.01185455 -0.01200685  0.01150417] [[ 0.9154041   0.74943924  0.5352424   0.354558   -0.05976079 -0.26235515\n",
      "  -0.18768197  0.31719244]\n",
      " [ 0.3696277  -0.11885538 -0.27462304 -0.24170113 -0.350259   -0.4000038\n",
      "  -0.32629132  0.12928918]\n",
      " [ 0.12687922 -0.4098422  -0.5409223  -0.48901075 -0.4520735  -0.4035867\n",
      "  -0.2741727   0.07354212]\n",
      " [ 0.32788908 -0.19667338 -0.49964553 -0.47276348 -0.38065693 -0.28479743\n",
      "  -0.01982173  0.32935596]\n",
      " [ 0.77217704  0.25147253 -0.01682825 -0.02497599 -0.07285119 -0.02510528\n",
      "   0.41633025  0.85066175]\n",
      " [ 0.59673834  0.3171801   0.2189267   0.2475262   0.108816    0.11227395\n",
      "   0.3649769   0.5682042 ]\n",
      " [ 0.292821    0.49178052  0.32390088  0.2776217   0.12379135  0.08993895\n",
      "   0.14578725  0.10109341]\n",
      " [ 0.6137464   0.8687144   0.7533729   0.50715667  0.1153875   0.00298876\n",
      "   0.04846174  0.19260219]]\n"
     ]
    },
    {
     "data": {
      "text/html": [
       "<pre style=\"white-space:pre;overflow-x:auto;line-height:normal;font-family:Menlo,'DejaVu Sans Mono',consolas,'Courier New',monospace\">Snapshot written at <span style=\"color: #808000; text-decoration-color: #808000\">...</span><span style=\"color: #808000; text-decoration-color: #808000\">filename</span>=<span style=\"color: #008000; text-decoration-color: #008000\">'./small//output_00021/particles_eft_multigrid_ncoarse3.h5'</span>                        \n",
       "param<span style=\"font-weight: bold\">[</span><span style=\"color: #008000; text-decoration-color: #008000\">'aexp'</span><span style=\"font-weight: bold\">]</span>=<span style=\"color: #008080; text-decoration-color: #008080; font-weight: bold\">0.5128205128205129</span>                                                                                   \n",
       "</pre>\n"
      ],
      "text/plain": [
       "Snapshot written at \u001b[33m...\u001b[0m\u001b[33mfilename\u001b[0m=\u001b[32m'./small//output_00021/particles_eft_multigrid_ncoarse3.h5'\u001b[0m                        \n",
       "param\u001b[1m[\u001b[0m\u001b[32m'aexp'\u001b[0m\u001b[1m]\u001b[0m=\u001b[1;36m0.5128205128205129\u001b[0m                                                                                   \n"
      ]
     },
     "metadata": {},
     "output_type": "display_data"
    },
    {
     "data": {
      "text/html": [
       "<pre style=\"white-space:pre;overflow-x:auto;line-height:normal;font-family:Menlo,'DejaVu Sans Mono',consolas,'Courier New',monospace\">param<span style=\"font-weight: bold\">[</span><span style=\"color: #008000; text-decoration-color: #008000\">'nsteps'</span><span style=\"font-weight: bold\">]</span>=<span style=\"color: #008080; text-decoration-color: #008080; font-weight: bold\">37</span> param<span style=\"font-weight: bold\">[</span><span style=\"color: #008000; text-decoration-color: #008000\">'aexp'</span><span style=\"font-weight: bold\">]</span>=<span style=\"color: #008080; text-decoration-color: #008080; font-weight: bold\">0.5128205128205129</span> z = <span style=\"color: #008080; text-decoration-color: #008080; font-weight: bold\">0.9499999999999997</span>                                         \n",
       "</pre>\n"
      ],
      "text/plain": [
       "param\u001b[1m[\u001b[0m\u001b[32m'nsteps'\u001b[0m\u001b[1m]\u001b[0m=\u001b[1;36m37\u001b[0m param\u001b[1m[\u001b[0m\u001b[32m'aexp'\u001b[0m\u001b[1m]\u001b[0m=\u001b[1;36m0.5128205128205129\u001b[0m z = \u001b[1;36m0.9499999999999997\u001b[0m                                         \n"
      ]
     },
     "metadata": {},
     "output_type": "display_data"
    },
    {
     "name": "stdout",
     "output_type": "stream",
     "text": [
      "1.25\n",
      "Step: 38 [0.04505347 0.04871819 0.07737993] [-0.01232578 -0.01256302  0.01198742] [[ 0.96422964  0.79226446  0.5644838   0.36825895 -0.06650752 -0.27602544\n",
      "  -0.20047545  0.32951468]\n",
      " [ 0.38769418 -0.12550879 -0.29014355 -0.25845304 -0.37041324 -0.41902345\n",
      "  -0.3440955   0.1336784 ]\n",
      " [ 0.13667914 -0.42538926 -0.56319904 -0.5113813  -0.47308487 -0.423532\n",
      "  -0.28910887  0.07826066]\n",
      " [ 0.34559155 -0.20798485 -0.524343   -0.49644294 -0.40103716 -0.3016759\n",
      "  -0.02495158  0.3467453 ]\n",
      " [ 0.81526166  0.26264557 -0.02111221 -0.03030661 -0.07810621 -0.02797516\n",
      "   0.43482363  0.8974269 ]\n",
      " [ 0.63195056  0.33652002  0.23208833  0.26060933  0.11605281  0.11907047\n",
      "   0.38485646  0.60160136]\n",
      " [ 0.31322265  0.5215567   0.34579432  0.29478297  0.13205563  0.09606741\n",
      "   0.15454166  0.11080992]\n",
      " [ 0.6506256   0.9219912   0.79897785  0.5338744   0.12066489  0.00301769\n",
      "   0.04926596  0.20397504]]\n"
     ]
    },
    {
     "data": {
      "text/html": [
       "<pre style=\"white-space:pre;overflow-x:auto;line-height:normal;font-family:Menlo,'DejaVu Sans Mono',consolas,'Courier New',monospace\">Snapshot written at <span style=\"color: #808000; text-decoration-color: #808000\">...</span><span style=\"color: #808000; text-decoration-color: #808000\">filename</span>=<span style=\"color: #008000; text-decoration-color: #008000\">'./small//output_00022/particles_eft_multigrid_ncoarse3.h5'</span>                        \n",
       "param<span style=\"font-weight: bold\">[</span><span style=\"color: #008000; text-decoration-color: #008000\">'aexp'</span><span style=\"font-weight: bold\">]</span>=<span style=\"color: #008080; text-decoration-color: #008080; font-weight: bold\">0.5263157894736842</span>                                                                                   \n",
       "</pre>\n"
      ],
      "text/plain": [
       "Snapshot written at \u001b[33m...\u001b[0m\u001b[33mfilename\u001b[0m=\u001b[32m'./small//output_00022/particles_eft_multigrid_ncoarse3.h5'\u001b[0m                        \n",
       "param\u001b[1m[\u001b[0m\u001b[32m'aexp'\u001b[0m\u001b[1m]\u001b[0m=\u001b[1;36m0.5263157894736842\u001b[0m                                                                                   \n"
      ]
     },
     "metadata": {},
     "output_type": "display_data"
    },
    {
     "data": {
      "text/html": [
       "<pre style=\"white-space:pre;overflow-x:auto;line-height:normal;font-family:Menlo,'DejaVu Sans Mono',consolas,'Courier New',monospace\">param<span style=\"font-weight: bold\">[</span><span style=\"color: #008000; text-decoration-color: #008000\">'nsteps'</span><span style=\"font-weight: bold\">]</span>=<span style=\"color: #008080; text-decoration-color: #008080; font-weight: bold\">38</span> param<span style=\"font-weight: bold\">[</span><span style=\"color: #008000; text-decoration-color: #008000\">'aexp'</span><span style=\"font-weight: bold\">]</span>=<span style=\"color: #008080; text-decoration-color: #008080; font-weight: bold\">0.5263157894736842</span> z = <span style=\"color: #008080; text-decoration-color: #008080; font-weight: bold\">0.9000000000000001</span>                                         \n",
       "</pre>\n"
      ],
      "text/plain": [
       "param\u001b[1m[\u001b[0m\u001b[32m'nsteps'\u001b[0m\u001b[1m]\u001b[0m=\u001b[1;36m38\u001b[0m param\u001b[1m[\u001b[0m\u001b[32m'aexp'\u001b[0m\u001b[1m]\u001b[0m=\u001b[1;36m0.5263157894736842\u001b[0m z = \u001b[1;36m0.9000000000000001\u001b[0m                                         \n"
      ]
     },
     "metadata": {},
     "output_type": "display_data"
    },
    {
     "name": "stdout",
     "output_type": "stream",
     "text": [
      "1.25\n",
      "Step: 39 [0.04459444 0.04824884 0.07782684] [-0.0128297  -0.01316216  0.01250484] [[ 1.0171905   0.838865    0.5961467   0.3826974  -0.07403319 -0.2907812\n",
      "  -0.21454576  0.34250897]\n",
      " [ 0.40711647 -0.13286053 -0.30713308 -0.2768319  -0.39226002 -0.43941134\n",
      "  -0.36343598  0.1382575 ]\n",
      " [ 0.14746523 -0.44190267 -0.5869515  -0.5353172  -0.495556   -0.444973\n",
      "  -0.30533114  0.08338103]\n",
      " [ 0.3647216  -0.22030976 -0.5509852  -0.52194893 -0.42305505 -0.32005462\n",
      "  -0.03082459  0.3654855 ]\n",
      " [ 0.86211634  0.27455994 -0.02600132 -0.03629237 -0.08386929 -0.03122398\n",
      "   0.45458046  0.94824165]\n",
      " [ 0.67039263  0.35760778  0.24637824  0.2747655   0.12397058  0.12644957\n",
      "   0.40640616  0.63803655]\n",
      " [ 0.3356161   0.55409515  0.36977696  0.31349653  0.14109412  0.10277776\n",
      "   0.16405399  0.12152985]\n",
      " [ 0.69089234  0.98029315  0.84879154  0.56275386  0.12628476  0.00306922\n",
      "   0.04997953  0.21627882]]\n"
     ]
    },
    {
     "data": {
      "text/html": [
       "<pre style=\"white-space:pre;overflow-x:auto;line-height:normal;font-family:Menlo,'DejaVu Sans Mono',consolas,'Courier New',monospace\">Snapshot written at <span style=\"color: #808000; text-decoration-color: #808000\">...</span><span style=\"color: #808000; text-decoration-color: #808000\">filename</span>=<span style=\"color: #008000; text-decoration-color: #008000\">'./small//output_00023/particles_eft_multigrid_ncoarse3.h5'</span>                        \n",
       "param<span style=\"font-weight: bold\">[</span><span style=\"color: #008000; text-decoration-color: #008000\">'aexp'</span><span style=\"font-weight: bold\">]</span>=<span style=\"color: #008080; text-decoration-color: #008080; font-weight: bold\">0.5405405405405405</span>                                                                                   \n",
       "</pre>\n"
      ],
      "text/plain": [
       "Snapshot written at \u001b[33m...\u001b[0m\u001b[33mfilename\u001b[0m=\u001b[32m'./small//output_00023/particles_eft_multigrid_ncoarse3.h5'\u001b[0m                        \n",
       "param\u001b[1m[\u001b[0m\u001b[32m'aexp'\u001b[0m\u001b[1m]\u001b[0m=\u001b[1;36m0.5405405405405405\u001b[0m                                                                                   \n"
      ]
     },
     "metadata": {},
     "output_type": "display_data"
    },
    {
     "data": {
      "text/html": [
       "<pre style=\"white-space:pre;overflow-x:auto;line-height:normal;font-family:Menlo,'DejaVu Sans Mono',consolas,'Courier New',monospace\">param<span style=\"font-weight: bold\">[</span><span style=\"color: #008000; text-decoration-color: #008000\">'nsteps'</span><span style=\"font-weight: bold\">]</span>=<span style=\"color: #008080; text-decoration-color: #008080; font-weight: bold\">39</span> param<span style=\"font-weight: bold\">[</span><span style=\"color: #008000; text-decoration-color: #008000\">'aexp'</span><span style=\"font-weight: bold\">]</span>=<span style=\"color: #008080; text-decoration-color: #008080; font-weight: bold\">0.5405405405405405</span> z = <span style=\"color: #008080; text-decoration-color: #008080; font-weight: bold\">0.8500000000000003</span>                                         \n",
       "</pre>\n"
      ],
      "text/plain": [
       "param\u001b[1m[\u001b[0m\u001b[32m'nsteps'\u001b[0m\u001b[1m]\u001b[0m=\u001b[1;36m39\u001b[0m param\u001b[1m[\u001b[0m\u001b[32m'aexp'\u001b[0m\u001b[1m]\u001b[0m=\u001b[1;36m0.5405405405405405\u001b[0m z = \u001b[1;36m0.8500000000000003\u001b[0m                                         \n"
      ]
     },
     "metadata": {},
     "output_type": "display_data"
    },
    {
     "name": "stdout",
     "output_type": "stream",
     "text": [
      "1.25\n",
      "Step: 40 [0.04410987 0.04775009 0.07829965] [-0.01336957 -0.01380896  0.01305989] [[ 1.0747696   0.8897007   0.63050354  0.3979126  -0.08244684 -0.30673963\n",
      "  -0.23006275  0.35621145]\n",
      " [ 0.42803094 -0.14101394 -0.32578647 -0.29704463 -0.41598988 -0.46129972\n",
      "  -0.38449767  0.1430306 ]\n",
      " [ 0.15936652 -0.45946133 -0.61231315 -0.5609669  -0.51962036 -0.46806312\n",
      "  -0.32299298  0.08894908]\n",
      " [ 0.38543135 -0.23377115 -0.5797839  -0.54947525 -0.44688904 -0.34011316\n",
      "  -0.03756021  0.3857156 ]\n",
      " [ 0.9131923   0.28727716 -0.03159315 -0.04302548 -0.09020428 -0.03491213\n",
      "   0.4757123   1.0035903 ]\n",
      " [ 0.71246964  0.38065803  0.26192257  0.290116    0.13265519  0.13447702\n",
      "   0.42981726  0.677884  ]\n",
      " [ 0.3602565   0.58974177  0.39611697  0.3339489   0.1510036   0.11014317\n",
      "   0.17441174  0.13338238]\n",
      " [ 0.7349694   1.0442702   0.90334576  0.59402776  0.13227415  0.00315078\n",
      "   0.0505709   0.22961368]]\n"
     ]
    },
    {
     "data": {
      "text/html": [
       "<pre style=\"white-space:pre;overflow-x:auto;line-height:normal;font-family:Menlo,'DejaVu Sans Mono',consolas,'Courier New',monospace\">Snapshot written at <span style=\"color: #808000; text-decoration-color: #808000\">...</span><span style=\"color: #808000; text-decoration-color: #808000\">filename</span>=<span style=\"color: #008000; text-decoration-color: #008000\">'./small//output_00024/particles_eft_multigrid_ncoarse3.h5'</span>                        \n",
       "param<span style=\"font-weight: bold\">[</span><span style=\"color: #008000; text-decoration-color: #008000\">'aexp'</span><span style=\"font-weight: bold\">]</span>=<span style=\"color: #008080; text-decoration-color: #008080; font-weight: bold\">0.5555555555555556</span>                                                                                   \n",
       "</pre>\n"
      ],
      "text/plain": [
       "Snapshot written at \u001b[33m...\u001b[0m\u001b[33mfilename\u001b[0m=\u001b[32m'./small//output_00024/particles_eft_multigrid_ncoarse3.h5'\u001b[0m                        \n",
       "param\u001b[1m[\u001b[0m\u001b[32m'aexp'\u001b[0m\u001b[1m]\u001b[0m=\u001b[1;36m0.5555555555555556\u001b[0m                                                                                   \n"
      ]
     },
     "metadata": {},
     "output_type": "display_data"
    },
    {
     "data": {
      "text/html": [
       "<pre style=\"white-space:pre;overflow-x:auto;line-height:normal;font-family:Menlo,'DejaVu Sans Mono',consolas,'Courier New',monospace\">param<span style=\"font-weight: bold\">[</span><span style=\"color: #008000; text-decoration-color: #008000\">'nsteps'</span><span style=\"font-weight: bold\">]</span>=<span style=\"color: #008080; text-decoration-color: #008080; font-weight: bold\">40</span> param<span style=\"font-weight: bold\">[</span><span style=\"color: #008000; text-decoration-color: #008000\">'aexp'</span><span style=\"font-weight: bold\">]</span>=<span style=\"color: #008080; text-decoration-color: #008080; font-weight: bold\">0.5555555555555556</span> z = <span style=\"color: #008080; text-decoration-color: #008080; font-weight: bold\">0.7999999999999998</span>                                         \n",
       "</pre>\n"
      ],
      "text/plain": [
       "param\u001b[1m[\u001b[0m\u001b[32m'nsteps'\u001b[0m\u001b[1m]\u001b[0m=\u001b[1;36m40\u001b[0m param\u001b[1m[\u001b[0m\u001b[32m'aexp'\u001b[0m\u001b[1m]\u001b[0m=\u001b[1;36m0.5555555555555556\u001b[0m z = \u001b[1;36m0.7999999999999998\u001b[0m                                         \n"
      ]
     },
     "metadata": {},
     "output_type": "display_data"
    },
    {
     "name": "stdout",
     "output_type": "stream",
     "text": [
      "1.25\n",
      "Step: 41 [0.04359755 0.04721913 0.07880066] [-0.0139491  -0.01450884  0.01365646] [[ 1.1375257   0.9452992   0.6678622   0.41393864 -0.09187356 -0.32403183\n",
      "  -0.24722397  0.3706596 ]\n",
      " [ 0.4505898  -0.15009415 -0.34633082 -0.31933063 -0.4418193  -0.4848367\n",
      "  -0.40749043  0.14800228]\n",
      " [ 0.17253298 -0.4781563  -0.6394336  -0.5884968  -0.54542583 -0.4929728\n",
      "  -0.342268    0.09501666]\n",
      " [ 0.40789795 -0.24851248 -0.6109842  -0.57924086 -0.47274387 -0.36205915\n",
      "  -0.0453019   0.4075939 ]\n",
      " [ 0.9690159   0.30086482 -0.03800316 -0.05061641 -0.09718458 -0.03911016\n",
      "   0.49834567  1.0640324 ]\n",
      " [ 0.75865704  0.40591818  0.2788688   0.30679846  0.14220628  0.1432277\n",
      "   0.45531037  0.7215883 ]\n",
      " [ 0.38744694  0.6289066   0.42512453  0.35635787  0.1618931   0.11824726\n",
      "   0.1857142   0.14651787]\n",
      " [ 0.78335476  1.1146822   0.9632586   0.6279645   0.13866067  0.00327273\n",
      "   0.05100191  0.24409166]]\n"
     ]
    },
    {
     "data": {
      "text/html": [
       "<pre style=\"white-space:pre;overflow-x:auto;line-height:normal;font-family:Menlo,'DejaVu Sans Mono',consolas,'Courier New',monospace\">Snapshot written at <span style=\"color: #808000; text-decoration-color: #808000\">...</span><span style=\"color: #808000; text-decoration-color: #808000\">filename</span>=<span style=\"color: #008000; text-decoration-color: #008000\">'./small//output_00025/particles_eft_multigrid_ncoarse3.h5'</span>                        \n",
       "param<span style=\"font-weight: bold\">[</span><span style=\"color: #008000; text-decoration-color: #008000\">'aexp'</span><span style=\"font-weight: bold\">]</span>=<span style=\"color: #008080; text-decoration-color: #008080; font-weight: bold\">0.5714285714285714</span>                                                                                   \n",
       "</pre>\n"
      ],
      "text/plain": [
       "Snapshot written at \u001b[33m...\u001b[0m\u001b[33mfilename\u001b[0m=\u001b[32m'./small//output_00025/particles_eft_multigrid_ncoarse3.h5'\u001b[0m                        \n",
       "param\u001b[1m[\u001b[0m\u001b[32m'aexp'\u001b[0m\u001b[1m]\u001b[0m=\u001b[1;36m0.5714285714285714\u001b[0m                                                                                   \n"
      ]
     },
     "metadata": {},
     "output_type": "display_data"
    },
    {
     "data": {
      "text/html": [
       "<pre style=\"white-space:pre;overflow-x:auto;line-height:normal;font-family:Menlo,'DejaVu Sans Mono',consolas,'Courier New',monospace\">param<span style=\"font-weight: bold\">[</span><span style=\"color: #008000; text-decoration-color: #008000\">'nsteps'</span><span style=\"font-weight: bold\">]</span>=<span style=\"color: #008080; text-decoration-color: #008080; font-weight: bold\">41</span> param<span style=\"font-weight: bold\">[</span><span style=\"color: #008000; text-decoration-color: #008000\">'aexp'</span><span style=\"font-weight: bold\">]</span>=<span style=\"color: #008080; text-decoration-color: #008080; font-weight: bold\">0.5714285714285714</span> z = <span style=\"color: #008080; text-decoration-color: #008080; font-weight: bold\">0.75</span>                                                       \n",
       "</pre>\n"
      ],
      "text/plain": [
       "param\u001b[1m[\u001b[0m\u001b[32m'nsteps'\u001b[0m\u001b[1m]\u001b[0m=\u001b[1;36m41\u001b[0m param\u001b[1m[\u001b[0m\u001b[32m'aexp'\u001b[0m\u001b[1m]\u001b[0m=\u001b[1;36m0.5714285714285714\u001b[0m z = \u001b[1;36m0.75\u001b[0m                                                       \n"
      ]
     },
     "metadata": {},
     "output_type": "display_data"
    },
    {
     "name": "stdout",
     "output_type": "stream",
     "text": [
      "1.25\n",
      "Step: 42 [0.04305499 0.04665282 0.07933242] [-0.01457249 -0.01526798  0.01429897] [[ 1.2061056   1.0062737   0.7085844   0.43081078 -0.10246235 -0.3428102\n",
      "  -0.2662604   0.3858866 ]\n",
      " [ 0.47496504 -0.16024937 -0.36903292 -0.3439702  -0.4699998  -0.5101862\n",
      "  -0.43266204  0.1531747 ]\n",
      " [ 0.18714064 -0.4980821  -0.6684802  -0.618094   -0.57314175 -0.5198987\n",
      "  -0.3633591   0.10164288]\n",
      " [ 0.4323182  -0.26469964 -0.64486176 -0.6114954  -0.5008496  -0.38613188\n",
      "  -0.05421866  0.43129534]\n",
      " [ 1.0301998   0.3153956  -0.04536882 -0.059192   -0.10489334 -0.04390313\n",
      "   0.52261764  1.1302177 ]\n",
      " [ 0.8095068   0.43367428  0.29738075  0.32496962  0.15273973  0.15278548\n",
      "   0.483136    0.76966256]\n",
      " [ 0.4175384   0.67206377  0.457161    0.38097554  0.17389292  0.12718946\n",
      "   0.19807391  0.16111177]\n",
      " [ 0.83662516  1.1924182   1.0292505   0.6648686   0.14547378  0.00344828\n",
      "   0.05122324  0.2598382 ]]\n"
     ]
    },
    {
     "data": {
      "text/html": [
       "<pre style=\"white-space:pre;overflow-x:auto;line-height:normal;font-family:Menlo,'DejaVu Sans Mono',consolas,'Courier New',monospace\">Snapshot written at <span style=\"color: #808000; text-decoration-color: #808000\">...</span><span style=\"color: #808000; text-decoration-color: #808000\">filename</span>=<span style=\"color: #008000; text-decoration-color: #008000\">'./small//output_00026/particles_eft_multigrid_ncoarse3.h5'</span>                        \n",
       "param<span style=\"font-weight: bold\">[</span><span style=\"color: #008000; text-decoration-color: #008000\">'aexp'</span><span style=\"font-weight: bold\">]</span>=<span style=\"color: #008080; text-decoration-color: #008080; font-weight: bold\">0.5882352941176471</span>                                                                                   \n",
       "</pre>\n"
      ],
      "text/plain": [
       "Snapshot written at \u001b[33m...\u001b[0m\u001b[33mfilename\u001b[0m=\u001b[32m'./small//output_00026/particles_eft_multigrid_ncoarse3.h5'\u001b[0m                        \n",
       "param\u001b[1m[\u001b[0m\u001b[32m'aexp'\u001b[0m\u001b[1m]\u001b[0m=\u001b[1;36m0.5882352941176471\u001b[0m                                                                                   \n"
      ]
     },
     "metadata": {},
     "output_type": "display_data"
    },
    {
     "data": {
      "text/html": [
       "<pre style=\"white-space:pre;overflow-x:auto;line-height:normal;font-family:Menlo,'DejaVu Sans Mono',consolas,'Courier New',monospace\">param<span style=\"font-weight: bold\">[</span><span style=\"color: #008000; text-decoration-color: #008000\">'nsteps'</span><span style=\"font-weight: bold\">]</span>=<span style=\"color: #008080; text-decoration-color: #008080; font-weight: bold\">42</span> param<span style=\"font-weight: bold\">[</span><span style=\"color: #008000; text-decoration-color: #008000\">'aexp'</span><span style=\"font-weight: bold\">]</span>=<span style=\"color: #008080; text-decoration-color: #008080; font-weight: bold\">0.5882352941176471</span> z = <span style=\"color: #008080; text-decoration-color: #008080; font-weight: bold\">0.7</span>                                                        \n",
       "</pre>\n"
      ],
      "text/plain": [
       "param\u001b[1m[\u001b[0m\u001b[32m'nsteps'\u001b[0m\u001b[1m]\u001b[0m=\u001b[1;36m42\u001b[0m param\u001b[1m[\u001b[0m\u001b[32m'aexp'\u001b[0m\u001b[1m]\u001b[0m=\u001b[1;36m0.5882352941176471\u001b[0m z = \u001b[1;36m0.7\u001b[0m                                                        \n"
      ]
     },
     "metadata": {},
     "output_type": "display_data"
    },
    {
     "name": "stdout",
     "output_type": "stream",
     "text": [
      "1.25\n",
      "Step: 43 [0.0424794  0.04604756 0.07989783] [-0.01524455 -0.01609356  0.01499248] [[ 1.2812604   1.0733387   0.7530781   0.44855565 -0.11438635 -0.3632474\n",
      "  -0.28744417  0.40192324]\n",
      " [ 0.50134873 -0.17165968 -0.394209   -0.37128794 -0.50081605 -0.53753585\n",
      "  -0.46029717  0.15854686]\n",
      " [ 0.2033959  -0.5193468  -0.69964004 -0.6499683  -0.60294944 -0.5490618\n",
      "  -0.38650218  0.1088964 ]\n",
      " [ 0.4589213  -0.28252637 -0.68173933 -0.6465254  -0.53147477 -0.41261026\n",
      "  -0.06451464  0.4570235 ]\n",
      " [ 1.0974534   0.33094925 -0.05385757 -0.06890444 -0.11343054 -0.04939455\n",
      "   0.54867834  1.2029048 ]\n",
      " [ 0.86566955  0.46426064  0.31765127  0.3448125   0.16439153  0.16324842\n",
      "   0.51358694  0.8227067 ]\n",
      " [ 0.4509458   0.7197724   0.49264848  0.40808994  0.18715179  0.13708504\n",
      "   0.21162295  0.17736995]\n",
      " [ 0.8954548   1.2785217   1.1021638   0.7050864   0.1527462   0.00369582\n",
      "   0.05117242  0.27699614]]\n"
     ]
    },
    {
     "data": {
      "text/html": [
       "<pre style=\"white-space:pre;overflow-x:auto;line-height:normal;font-family:Menlo,'DejaVu Sans Mono',consolas,'Courier New',monospace\">Snapshot written at <span style=\"color: #808000; text-decoration-color: #808000\">...</span><span style=\"color: #808000; text-decoration-color: #808000\">filename</span>=<span style=\"color: #008000; text-decoration-color: #008000\">'./small//output_00027/particles_eft_multigrid_ncoarse3.h5'</span>                        \n",
       "param<span style=\"font-weight: bold\">[</span><span style=\"color: #008000; text-decoration-color: #008000\">'aexp'</span><span style=\"font-weight: bold\">]</span>=<span style=\"color: #008080; text-decoration-color: #008080; font-weight: bold\">0.6060606060606061</span>                                                                                   \n",
       "</pre>\n"
      ],
      "text/plain": [
       "Snapshot written at \u001b[33m...\u001b[0m\u001b[33mfilename\u001b[0m=\u001b[32m'./small//output_00027/particles_eft_multigrid_ncoarse3.h5'\u001b[0m                        \n",
       "param\u001b[1m[\u001b[0m\u001b[32m'aexp'\u001b[0m\u001b[1m]\u001b[0m=\u001b[1;36m0.6060606060606061\u001b[0m                                                                                   \n"
      ]
     },
     "metadata": {},
     "output_type": "display_data"
    },
    {
     "data": {
      "text/html": [
       "<pre style=\"white-space:pre;overflow-x:auto;line-height:normal;font-family:Menlo,'DejaVu Sans Mono',consolas,'Courier New',monospace\">param<span style=\"font-weight: bold\">[</span><span style=\"color: #008000; text-decoration-color: #008000\">'nsteps'</span><span style=\"font-weight: bold\">]</span>=<span style=\"color: #008080; text-decoration-color: #008080; font-weight: bold\">43</span> param<span style=\"font-weight: bold\">[</span><span style=\"color: #008000; text-decoration-color: #008000\">'aexp'</span><span style=\"font-weight: bold\">]</span>=<span style=\"color: #008080; text-decoration-color: #008080; font-weight: bold\">0.6060606060606061</span> z = <span style=\"color: #008080; text-decoration-color: #008080; font-weight: bold\">0.6499999999999999</span>                                         \n",
       "</pre>\n"
      ],
      "text/plain": [
       "param\u001b[1m[\u001b[0m\u001b[32m'nsteps'\u001b[0m\u001b[1m]\u001b[0m=\u001b[1;36m43\u001b[0m param\u001b[1m[\u001b[0m\u001b[32m'aexp'\u001b[0m\u001b[1m]\u001b[0m=\u001b[1;36m0.6060606060606061\u001b[0m z = \u001b[1;36m0.6499999999999999\u001b[0m                                         \n"
      ]
     },
     "metadata": {},
     "output_type": "display_data"
    },
    {
     "name": "stdout",
     "output_type": "stream",
     "text": [
      "1.25\n",
      "Step: 44 [0.04186765 0.04539929 0.08050014] [-0.01597076 -0.01699386  0.01574275] [[ 1.3638628   1.1473341   0.8018187   0.46719146 -0.12785092 -0.38554138\n",
      "  -0.31109792  0.41879365]\n",
      " [ 0.5299585  -0.18454258 -0.42223465 -0.40166676 -0.53460264 -0.5670946\n",
      "  -0.49073172  0.16411573]\n",
      " [ 0.22154206 -0.54206634 -0.73312175 -0.6843558  -0.6350573  -0.58071697\n",
      "  -0.4119703   0.11685988]\n",
      " [ 0.48796612 -0.30221882 -0.7219852  -0.68465835 -0.56492466 -0.44181937\n",
      "  -0.07643448  0.48500574]\n",
      " [ 1.1716038   0.3476104  -0.06366931 -0.07993284 -0.12290844 -0.05570602\n",
      "   0.57669675  1.2829764 ]\n",
      " [ 0.9279098   0.4980697   0.33989727  0.36653534  0.17732145  0.1747275\n",
      "   0.5469993   0.88143206]\n",
      " [ 0.48815978  0.7726929   0.53208816  0.43804288  0.20184669  0.1480691\n",
      "   0.22650939  0.19553477]\n",
      " [ 0.96064293  1.3742387   1.1829987   0.7490141   0.1605089   0.00403829\n",
      "   0.05077099  0.29573008]]\n"
     ]
    },
    {
     "data": {
      "text/html": [
       "<pre style=\"white-space:pre;overflow-x:auto;line-height:normal;font-family:Menlo,'DejaVu Sans Mono',consolas,'Courier New',monospace\">Snapshot written at <span style=\"color: #808000; text-decoration-color: #808000\">...</span><span style=\"color: #808000; text-decoration-color: #808000\">filename</span>=<span style=\"color: #008000; text-decoration-color: #008000\">'./small//output_00028/particles_eft_multigrid_ncoarse3.h5'</span> param<span style=\"font-weight: bold\">[</span><span style=\"color: #008000; text-decoration-color: #008000\">'aexp'</span><span style=\"font-weight: bold\">]</span>=<span style=\"color: #008080; text-decoration-color: #008080; font-weight: bold\">0.625</span>    \n",
       "</pre>\n"
      ],
      "text/plain": [
       "Snapshot written at \u001b[33m...\u001b[0m\u001b[33mfilename\u001b[0m=\u001b[32m'./small//output_00028/particles_eft_multigrid_ncoarse3.h5'\u001b[0m param\u001b[1m[\u001b[0m\u001b[32m'aexp'\u001b[0m\u001b[1m]\u001b[0m=\u001b[1;36m0.625\u001b[0m    \n"
      ]
     },
     "metadata": {},
     "output_type": "display_data"
    },
    {
     "data": {
      "text/html": [
       "<pre style=\"white-space:pre;overflow-x:auto;line-height:normal;font-family:Menlo,'DejaVu Sans Mono',consolas,'Courier New',monospace\">param<span style=\"font-weight: bold\">[</span><span style=\"color: #008000; text-decoration-color: #008000\">'nsteps'</span><span style=\"font-weight: bold\">]</span>=<span style=\"color: #008080; text-decoration-color: #008080; font-weight: bold\">44</span> param<span style=\"font-weight: bold\">[</span><span style=\"color: #008000; text-decoration-color: #008000\">'aexp'</span><span style=\"font-weight: bold\">]</span>=<span style=\"color: #008080; text-decoration-color: #008080; font-weight: bold\">0.625</span> z = <span style=\"color: #008080; text-decoration-color: #008080; font-weight: bold\">0.6000000000000001</span>                                                      \n",
       "</pre>\n"
      ],
      "text/plain": [
       "param\u001b[1m[\u001b[0m\u001b[32m'nsteps'\u001b[0m\u001b[1m]\u001b[0m=\u001b[1;36m44\u001b[0m param\u001b[1m[\u001b[0m\u001b[32m'aexp'\u001b[0m\u001b[1m]\u001b[0m=\u001b[1;36m0.625\u001b[0m z = \u001b[1;36m0.6000000000000001\u001b[0m                                                      \n"
      ]
     },
     "metadata": {},
     "output_type": "display_data"
    },
    {
     "name": "stdout",
     "output_type": "stream",
     "text": [
      "1.25\n",
      "Step: 45 [0.04121618 0.04470333 0.08114304] [-0.01675742 -0.01797856  0.01655642] [[ 1.4549391   1.2292476   0.85536134  0.48672393 -0.14309868 -0.40991986\n",
      "  -0.337603    0.4365115 ]\n",
      " [ 0.56104094 -0.19916542 -0.4535581  -0.43555695 -0.57174104 -0.5990981\n",
      "  -0.52435976  0.16987449]\n",
      " [ 0.24186885 -0.5663669  -0.76916045 -0.72152656 -0.6696987  -0.6151531\n",
      "  -0.44008303  0.12562358]\n",
      " [ 0.51975113 -0.32404298 -0.7660289  -0.7262722  -0.6015545  -0.4741386\n",
      "  -0.09027547  0.51550245]\n",
      " [ 1.2536384   0.36546898 -0.07504822 -0.09248984 -0.13346192 -0.06298822\n",
      "   0.60685563  1.371477  ]\n",
      " [ 0.9971384   0.5355637   0.3643719   0.39038536  0.19171768  0.18734917\n",
      "   0.5837647   0.9466762 ]\n",
      " [ 0.5297603   0.83160436  0.5760744   0.4712333   0.21818116  0.16030169\n",
      "   0.24291077  0.21588928]\n",
      " [ 1.0331331   1.4810498   1.2729372   0.797109    0.16879413  0.00450781\n",
      "   0.04991846  0.31622338]]\n"
     ]
    },
    {
     "data": {
      "text/html": [
       "<pre style=\"white-space:pre;overflow-x:auto;line-height:normal;font-family:Menlo,'DejaVu Sans Mono',consolas,'Courier New',monospace\">Snapshot written at <span style=\"color: #808000; text-decoration-color: #808000\">...</span><span style=\"color: #808000; text-decoration-color: #808000\">filename</span>=<span style=\"color: #008000; text-decoration-color: #008000\">'./small//output_00029/particles_eft_multigrid_ncoarse3.h5'</span>                        \n",
       "param<span style=\"font-weight: bold\">[</span><span style=\"color: #008000; text-decoration-color: #008000\">'aexp'</span><span style=\"font-weight: bold\">]</span>=<span style=\"color: #008080; text-decoration-color: #008080; font-weight: bold\">0.6451612903225806</span>                                                                                   \n",
       "</pre>\n"
      ],
      "text/plain": [
       "Snapshot written at \u001b[33m...\u001b[0m\u001b[33mfilename\u001b[0m=\u001b[32m'./small//output_00029/particles_eft_multigrid_ncoarse3.h5'\u001b[0m                        \n",
       "param\u001b[1m[\u001b[0m\u001b[32m'aexp'\u001b[0m\u001b[1m]\u001b[0m=\u001b[1;36m0.6451612903225806\u001b[0m                                                                                   \n"
      ]
     },
     "metadata": {},
     "output_type": "display_data"
    },
    {
     "data": {
      "text/html": [
       "<pre style=\"white-space:pre;overflow-x:auto;line-height:normal;font-family:Menlo,'DejaVu Sans Mono',consolas,'Courier New',monospace\">param<span style=\"font-weight: bold\">[</span><span style=\"color: #008000; text-decoration-color: #008000\">'nsteps'</span><span style=\"font-weight: bold\">]</span>=<span style=\"color: #008080; text-decoration-color: #008080; font-weight: bold\">45</span> param<span style=\"font-weight: bold\">[</span><span style=\"color: #008000; text-decoration-color: #008000\">'aexp'</span><span style=\"font-weight: bold\">]</span>=<span style=\"color: #008080; text-decoration-color: #008080; font-weight: bold\">0.6451612903225806</span> z = <span style=\"color: #008080; text-decoration-color: #008080; font-weight: bold\">0.55</span>                                                       \n",
       "</pre>\n"
      ],
      "text/plain": [
       "param\u001b[1m[\u001b[0m\u001b[32m'nsteps'\u001b[0m\u001b[1m]\u001b[0m=\u001b[1;36m45\u001b[0m param\u001b[1m[\u001b[0m\u001b[32m'aexp'\u001b[0m\u001b[1m]\u001b[0m=\u001b[1;36m0.6451612903225806\u001b[0m z = \u001b[1;36m0.55\u001b[0m                                                       \n"
      ]
     },
     "metadata": {},
     "output_type": "display_data"
    },
    {
     "name": "stdout",
     "output_type": "stream",
     "text": [
      "1.25\n",
      "Step: 46 [0.04052096 0.04395436 0.0818307 ] [-0.01761184 -0.01905897  0.01744113] [[ 1.5556998   1.3202475   0.91434735  0.5071364  -0.16041854 -0.43664873\n",
      "  -0.36741713  0.45507473]\n",
      " [ 0.5948742  -0.21585383 -0.4887173  -0.4734915  -0.61268324 -0.63381517\n",
      "  -0.56164676  0.17580889]\n",
      " [ 0.26472306 -0.59238636 -0.80801916 -0.7617851  -0.7071272  -0.65270233\n",
      "  -0.4712179   0.13529706]\n",
      " [ 0.5546193  -0.34831348 -0.81437016 -0.7718024  -0.6417794  -0.5100174\n",
      "  -0.10639882  0.5488093 ]\n",
      " [ 1.3447138   0.3846187  -0.08829254 -0.10683236 -0.14524707 -0.07142284\n",
      "   0.63935435  1.4696386 ]\n",
      " [ 1.0744367   0.5772893   0.3913681   0.41664743  0.20780706  0.20126268\n",
      "   0.62434477  1.0194403 ]\n",
      " [ 0.57644516  0.8974477   0.6253097   0.5081283   0.23639876  0.17397077\n",
      "   0.2610276   0.23877454]\n",
      " [ 1.1140509   1.6007233   1.3733863   0.8498912   0.17763555  0.00514543\n",
      "   0.04848597  0.33868834]]\n"
     ]
    },
    {
     "data": {
      "text/html": [
       "<pre style=\"white-space:pre;overflow-x:auto;line-height:normal;font-family:Menlo,'DejaVu Sans Mono',consolas,'Courier New',monospace\">Snapshot written at <span style=\"color: #808000; text-decoration-color: #808000\">...</span><span style=\"color: #808000; text-decoration-color: #808000\">filename</span>=<span style=\"color: #008000; text-decoration-color: #008000\">'./small//output_00030/particles_eft_multigrid_ncoarse3.h5'</span>                        \n",
       "param<span style=\"font-weight: bold\">[</span><span style=\"color: #008000; text-decoration-color: #008000\">'aexp'</span><span style=\"font-weight: bold\">]</span>=<span style=\"color: #008080; text-decoration-color: #008080; font-weight: bold\">0.6666666666666666</span>                                                                                   \n",
       "</pre>\n"
      ],
      "text/plain": [
       "Snapshot written at \u001b[33m...\u001b[0m\u001b[33mfilename\u001b[0m=\u001b[32m'./small//output_00030/particles_eft_multigrid_ncoarse3.h5'\u001b[0m                        \n",
       "param\u001b[1m[\u001b[0m\u001b[32m'aexp'\u001b[0m\u001b[1m]\u001b[0m=\u001b[1;36m0.6666666666666666\u001b[0m                                                                                   \n"
      ]
     },
     "metadata": {},
     "output_type": "display_data"
    },
    {
     "data": {
      "text/html": [
       "<pre style=\"white-space:pre;overflow-x:auto;line-height:normal;font-family:Menlo,'DejaVu Sans Mono',consolas,'Courier New',monospace\">param<span style=\"font-weight: bold\">[</span><span style=\"color: #008000; text-decoration-color: #008000\">'nsteps'</span><span style=\"font-weight: bold\">]</span>=<span style=\"color: #008080; text-decoration-color: #008080; font-weight: bold\">46</span> param<span style=\"font-weight: bold\">[</span><span style=\"color: #008000; text-decoration-color: #008000\">'aexp'</span><span style=\"font-weight: bold\">]</span>=<span style=\"color: #008080; text-decoration-color: #008080; font-weight: bold\">0.6666666666666666</span> z = <span style=\"color: #008080; text-decoration-color: #008080; font-weight: bold\">0.5</span>                                                        \n",
       "</pre>\n"
      ],
      "text/plain": [
       "param\u001b[1m[\u001b[0m\u001b[32m'nsteps'\u001b[0m\u001b[1m]\u001b[0m=\u001b[1;36m46\u001b[0m param\u001b[1m[\u001b[0m\u001b[32m'aexp'\u001b[0m\u001b[1m]\u001b[0m=\u001b[1;36m0.6666666666666666\u001b[0m z = \u001b[1;36m0.5\u001b[0m                                                        \n"
      ]
     },
     "metadata": {},
     "output_type": "display_data"
    },
    {
     "name": "stdout",
     "output_type": "stream",
     "text": [
      "1.25\n",
      "Step: 47 [0.03977738 0.04314619 0.08256792] [-0.01854244 -0.02024841  0.01840576] [[ 1.6675729   1.4217275   0.97953093  0.5283834  -0.18015602 -0.46603018\n",
      "  -0.40108842  0.47446048]\n",
      " [ 0.6317676  -0.23501739 -0.52836573 -0.5161027  -0.6579551  -0.6715436\n",
      "  -0.603148    0.18190002]\n",
      " [ 0.29052013 -0.62027013 -0.8499942  -0.80547774 -0.7476336  -0.69375086\n",
      "  -0.5058202   0.14601094]\n",
      " [ 0.59296703 -0.37540442 -0.8675939  -0.8217594  -0.6860765  -0.5499861\n",
      "  -0.12524793  0.5852637 ]\n",
      " [ 1.4462119   0.40515906 -0.10376781 -0.12326859 -0.15844911 -0.08123213\n",
      "   0.6744143   1.5789274 ]\n",
      " [ 1.1611129   0.6238928   0.42122567  0.445654    0.22585845  0.21663758\n",
      "   0.6692755   1.1009252 ]\n",
      " [ 0.6290529   0.97134054  0.68064344  0.54928464  0.25679052  0.18930496\n",
      "   0.28109455  0.26459646]\n",
      " [ 1.2047479   1.7354026   1.4860388   0.90796524  0.18706231  0.00600842\n",
      "   0.04630911  0.36336297]]\n"
     ]
    },
    {
     "data": {
      "text/html": [
       "<pre style=\"white-space:pre;overflow-x:auto;line-height:normal;font-family:Menlo,'DejaVu Sans Mono',consolas,'Courier New',monospace\">Snapshot written at <span style=\"color: #808000; text-decoration-color: #808000\">...</span><span style=\"color: #808000; text-decoration-color: #808000\">filename</span>=<span style=\"color: #008000; text-decoration-color: #008000\">'./small//output_00031/particles_eft_multigrid_ncoarse3.h5'</span>                        \n",
       "param<span style=\"font-weight: bold\">[</span><span style=\"color: #008000; text-decoration-color: #008000\">'aexp'</span><span style=\"font-weight: bold\">]</span>=<span style=\"color: #008080; text-decoration-color: #008080; font-weight: bold\">0.6896551724137931</span>                                                                                   \n",
       "</pre>\n"
      ],
      "text/plain": [
       "Snapshot written at \u001b[33m...\u001b[0m\u001b[33mfilename\u001b[0m=\u001b[32m'./small//output_00031/particles_eft_multigrid_ncoarse3.h5'\u001b[0m                        \n",
       "param\u001b[1m[\u001b[0m\u001b[32m'aexp'\u001b[0m\u001b[1m]\u001b[0m=\u001b[1;36m0.6896551724137931\u001b[0m                                                                                   \n"
      ]
     },
     "metadata": {},
     "output_type": "display_data"
    },
    {
     "data": {
      "text/html": [
       "<pre style=\"white-space:pre;overflow-x:auto;line-height:normal;font-family:Menlo,'DejaVu Sans Mono',consolas,'Courier New',monospace\">param<span style=\"font-weight: bold\">[</span><span style=\"color: #008000; text-decoration-color: #008000\">'nsteps'</span><span style=\"font-weight: bold\">]</span>=<span style=\"color: #008080; text-decoration-color: #008080; font-weight: bold\">47</span> param<span style=\"font-weight: bold\">[</span><span style=\"color: #008000; text-decoration-color: #008000\">'aexp'</span><span style=\"font-weight: bold\">]</span>=<span style=\"color: #008080; text-decoration-color: #008080; font-weight: bold\">0.6896551724137931</span> z = <span style=\"color: #008080; text-decoration-color: #008080; font-weight: bold\">0.44999999999999996</span>                                        \n",
       "</pre>\n"
      ],
      "text/plain": [
       "param\u001b[1m[\u001b[0m\u001b[32m'nsteps'\u001b[0m\u001b[1m]\u001b[0m=\u001b[1;36m47\u001b[0m param\u001b[1m[\u001b[0m\u001b[32m'aexp'\u001b[0m\u001b[1m]\u001b[0m=\u001b[1;36m0.6896551724137931\u001b[0m z = \u001b[1;36m0.44999999999999996\u001b[0m                                        \n"
      ]
     },
     "metadata": {},
     "output_type": "display_data"
    },
    {
     "name": "stdout",
     "output_type": "stream",
     "text": [
      "1.25\n",
      "Step: 48 [0.03898017 0.04227167 0.08336017] [-0.01955909 -0.02156268  0.01946061] [[ 1.7922668   1.5353619   1.0518007   0.55037546 -0.20272285 -0.49842495\n",
      "  -0.43928266  0.49461615]\n",
      " [ 0.6720763  -0.25716197 -0.5732988  -0.5641486  -0.7081742  -0.712628\n",
      "  -0.6495284   0.18811958]\n",
      " [ 0.3197611  -0.6501748  -0.8954181  -0.85299754 -0.7915391  -0.7387451\n",
      "  -0.5444195   0.15791684]\n",
      " [ 0.6352544  -0.40576133 -0.92638934 -0.87673426 -0.7350118  -0.5946739\n",
      "  -0.14736825  0.6252512 ]\n",
      " [ 1.5597867   0.42718303 -0.12192747 -0.14217243 -0.17328766 -0.09269425\n",
      "   0.71226627  1.7011011 ]\n",
      " [ 1.2587402   0.676159    0.45433664  0.4778006   0.24619931  0.23367226\n",
      "   0.71919453  1.1925776 ]\n",
      " [ 0.6885977   1.0546497   0.74309754  0.5953615   0.27969933  0.20657335\n",
      "   0.30338863  0.2938378 ]\n",
      " [ 1.3068597   1.8876932   1.6129382   0.97202396  0.19709718  0.00717017\n",
      "   0.04317418  0.39052013]]\n"
     ]
    },
    {
     "data": {
      "text/html": [
       "<pre style=\"white-space:pre;overflow-x:auto;line-height:normal;font-family:Menlo,'DejaVu Sans Mono',consolas,'Courier New',monospace\">Snapshot written at <span style=\"color: #808000; text-decoration-color: #808000\">...</span><span style=\"color: #808000; text-decoration-color: #808000\">filename</span>=<span style=\"color: #008000; text-decoration-color: #008000\">'./small//output_00032/particles_eft_multigrid_ncoarse3.h5'</span>                        \n",
       "param<span style=\"font-weight: bold\">[</span><span style=\"color: #008000; text-decoration-color: #008000\">'aexp'</span><span style=\"font-weight: bold\">]</span>=<span style=\"color: #008080; text-decoration-color: #008080; font-weight: bold\">0.7142857142857143</span>                                                                                   \n",
       "</pre>\n"
      ],
      "text/plain": [
       "Snapshot written at \u001b[33m...\u001b[0m\u001b[33mfilename\u001b[0m=\u001b[32m'./small//output_00032/particles_eft_multigrid_ncoarse3.h5'\u001b[0m                        \n",
       "param\u001b[1m[\u001b[0m\u001b[32m'aexp'\u001b[0m\u001b[1m]\u001b[0m=\u001b[1;36m0.7142857142857143\u001b[0m                                                                                   \n"
      ]
     },
     "metadata": {},
     "output_type": "display_data"
    },
    {
     "data": {
      "text/html": [
       "<pre style=\"white-space:pre;overflow-x:auto;line-height:normal;font-family:Menlo,'DejaVu Sans Mono',consolas,'Courier New',monospace\">param<span style=\"font-weight: bold\">[</span><span style=\"color: #008000; text-decoration-color: #008000\">'nsteps'</span><span style=\"font-weight: bold\">]</span>=<span style=\"color: #008080; text-decoration-color: #008080; font-weight: bold\">48</span> param<span style=\"font-weight: bold\">[</span><span style=\"color: #008000; text-decoration-color: #008000\">'aexp'</span><span style=\"font-weight: bold\">]</span>=<span style=\"color: #008080; text-decoration-color: #008080; font-weight: bold\">0.7142857142857143</span> z = <span style=\"color: #008080; text-decoration-color: #008080; font-weight: bold\">0.3999999999999999</span>                                         \n",
       "</pre>\n"
      ],
      "text/plain": [
       "param\u001b[1m[\u001b[0m\u001b[32m'nsteps'\u001b[0m\u001b[1m]\u001b[0m=\u001b[1;36m48\u001b[0m param\u001b[1m[\u001b[0m\u001b[32m'aexp'\u001b[0m\u001b[1m]\u001b[0m=\u001b[1;36m0.7142857142857143\u001b[0m z = \u001b[1;36m0.3999999999999999\u001b[0m                                         \n"
      ]
     },
     "metadata": {},
     "output_type": "display_data"
    },
    {
     "name": "stdout",
     "output_type": "stream",
     "text": [
      "1.25\n",
      "Step: 49 [0.03812326 0.04132248 0.08421374] [-0.0206733  -0.02302057  0.02061776] [[ 1.9318283   1.6631572   1.1322052   0.5729651  -0.22861904 -0.5342495\n",
      "  -0.4828071   0.51543367]\n",
      " [ 0.71619534 -0.28293276 -0.6244908  -0.6185377  -0.76407504 -0.75745296\n",
      "  -0.7015904   0.1944272 ]\n",
      " [ 0.35305947 -0.68226093 -0.94466275 -0.904801   -0.8392031  -0.7882012\n",
      "  -0.58764744  0.17119634]\n",
      " [ 0.68201077 -0.43992016 -0.9915698  -0.9374237  -0.7892498  -0.64483744\n",
      "  -0.17343587  0.669214  ]\n",
      " [ 1.6874332   0.45078892 -0.14333554 -0.16399744 -0.19002104 -0.10614922\n",
      "   0.75316423  1.838278  ]\n",
      " [ 1.3692392   0.7350234   0.4911657   0.5135548   0.2692261   0.25259307\n",
      "   0.7748516   1.296162  ]\n",
      " [ 0.75631845  1.1490319   0.8139124   0.64714754  0.3055395   0.22610804\n",
      "   0.328233    0.32709175]\n",
      " [ 1.4223677   2.0607848   1.756577    1.042869    0.20775816  0.00873496\n",
      "   0.03880066  0.42047274]]\n"
     ]
    },
    {
     "data": {
      "text/html": [
       "<pre style=\"white-space:pre;overflow-x:auto;line-height:normal;font-family:Menlo,'DejaVu Sans Mono',consolas,'Courier New',monospace\">Snapshot written at <span style=\"color: #808000; text-decoration-color: #808000\">...</span><span style=\"color: #808000; text-decoration-color: #808000\">filename</span>=<span style=\"color: #008000; text-decoration-color: #008000\">'./small//output_00033/particles_eft_multigrid_ncoarse3.h5'</span>                        \n",
       "param<span style=\"font-weight: bold\">[</span><span style=\"color: #008000; text-decoration-color: #008000\">'aexp'</span><span style=\"font-weight: bold\">]</span>=<span style=\"color: #008080; text-decoration-color: #008080; font-weight: bold\">0.7407407407407407</span>                                                                                   \n",
       "</pre>\n"
      ],
      "text/plain": [
       "Snapshot written at \u001b[33m...\u001b[0m\u001b[33mfilename\u001b[0m=\u001b[32m'./small//output_00033/particles_eft_multigrid_ncoarse3.h5'\u001b[0m                        \n",
       "param\u001b[1m[\u001b[0m\u001b[32m'aexp'\u001b[0m\u001b[1m]\u001b[0m=\u001b[1;36m0.7407407407407407\u001b[0m                                                                                   \n"
      ]
     },
     "metadata": {},
     "output_type": "display_data"
    },
    {
     "data": {
      "text/html": [
       "<pre style=\"white-space:pre;overflow-x:auto;line-height:normal;font-family:Menlo,'DejaVu Sans Mono',consolas,'Courier New',monospace\">param<span style=\"font-weight: bold\">[</span><span style=\"color: #008000; text-decoration-color: #008000\">'nsteps'</span><span style=\"font-weight: bold\">]</span>=<span style=\"color: #008080; text-decoration-color: #008080; font-weight: bold\">49</span> param<span style=\"font-weight: bold\">[</span><span style=\"color: #008000; text-decoration-color: #008000\">'aexp'</span><span style=\"font-weight: bold\">]</span>=<span style=\"color: #008080; text-decoration-color: #008080; font-weight: bold\">0.7407407407407407</span> z = <span style=\"color: #008080; text-decoration-color: #008080; font-weight: bold\">0.3500000000000001</span>                                         \n",
       "</pre>\n"
      ],
      "text/plain": [
       "param\u001b[1m[\u001b[0m\u001b[32m'nsteps'\u001b[0m\u001b[1m]\u001b[0m=\u001b[1;36m49\u001b[0m param\u001b[1m[\u001b[0m\u001b[32m'aexp'\u001b[0m\u001b[1m]\u001b[0m=\u001b[1;36m0.7407407407407407\u001b[0m z = \u001b[1;36m0.3500000000000001\u001b[0m                                         \n"
      ]
     },
     "metadata": {},
     "output_type": "display_data"
    },
    {
     "name": "stdout",
     "output_type": "stream",
     "text": [
      "1.25\n",
      "Step: 50 [0.03719966 0.04028882 0.08513594] [-0.02189866 -0.02464466  0.02189136] [[ 2.0887308   1.8075718   1.2219964   0.59590924 -0.2584473  -0.57399637\n",
      "  -0.5326496   0.5367475 ]\n",
      " [ 0.76456887 -0.31314796 -0.6831537  -0.68036854 -0.8265327  -0.8064579\n",
      "  -0.76031035  0.20076843]\n",
      " [ 0.3911699  -0.7166936  -0.9981453  -0.96140754 -0.8910247  -0.842728\n",
      "  -0.636263    0.18606943]\n",
      " [ 0.7338524  -0.47853014 -1.0641062  -1.0046468  -0.8495786  -0.70138454\n",
      "  -0.20429704  0.7176534 ]\n",
      " [ 1.8315719   0.47604895 -0.16870093 -0.18930018 -0.20896238 -0.12202899\n",
      "   0.7973665   1.993032  ]\n",
      " [ 1.4949745   0.80162835  0.53224754  0.5534665   0.29542145  0.27366605\n",
      "   0.83714443  1.4138311 ]\n",
      " [ 0.8337405   1.2565305   0.89461327  0.70559585  0.33481425  0.24830717\n",
      "   0.3560074   0.36507076]\n",
      " [ 1.5537097   2.2586179   1.9200077   1.1214238   0.21904664  0.01084477\n",
      "   0.03282577  0.45357385]]\n"
     ]
    },
    {
     "data": {
      "text/html": [
       "<pre style=\"white-space:pre;overflow-x:auto;line-height:normal;font-family:Menlo,'DejaVu Sans Mono',consolas,'Courier New',monospace\">Snapshot written at <span style=\"color: #808000; text-decoration-color: #808000\">...</span><span style=\"color: #808000; text-decoration-color: #808000\">filename</span>=<span style=\"color: #008000; text-decoration-color: #008000\">'./small//output_00034/particles_eft_multigrid_ncoarse3.h5'</span>                        \n",
       "param<span style=\"font-weight: bold\">[</span><span style=\"color: #008000; text-decoration-color: #008000\">'aexp'</span><span style=\"font-weight: bold\">]</span>=<span style=\"color: #008080; text-decoration-color: #008080; font-weight: bold\">0.7692307692307692</span>                                                                                   \n",
       "</pre>\n"
      ],
      "text/plain": [
       "Snapshot written at \u001b[33m...\u001b[0m\u001b[33mfilename\u001b[0m=\u001b[32m'./small//output_00034/particles_eft_multigrid_ncoarse3.h5'\u001b[0m                        \n",
       "param\u001b[1m[\u001b[0m\u001b[32m'aexp'\u001b[0m\u001b[1m]\u001b[0m=\u001b[1;36m0.7692307692307692\u001b[0m                                                                                   \n"
      ]
     },
     "metadata": {},
     "output_type": "display_data"
    },
    {
     "data": {
      "text/html": [
       "<pre style=\"white-space:pre;overflow-x:auto;line-height:normal;font-family:Menlo,'DejaVu Sans Mono',consolas,'Courier New',monospace\">param<span style=\"font-weight: bold\">[</span><span style=\"color: #008000; text-decoration-color: #008000\">'nsteps'</span><span style=\"font-weight: bold\">]</span>=<span style=\"color: #008080; text-decoration-color: #008080; font-weight: bold\">50</span> param<span style=\"font-weight: bold\">[</span><span style=\"color: #008000; text-decoration-color: #008000\">'aexp'</span><span style=\"font-weight: bold\">]</span>=<span style=\"color: #008080; text-decoration-color: #008080; font-weight: bold\">0.7692307692307692</span> z = <span style=\"color: #008080; text-decoration-color: #008080; font-weight: bold\">0.30000000000000004</span>                                        \n",
       "</pre>\n"
      ],
      "text/plain": [
       "param\u001b[1m[\u001b[0m\u001b[32m'nsteps'\u001b[0m\u001b[1m]\u001b[0m=\u001b[1;36m50\u001b[0m param\u001b[1m[\u001b[0m\u001b[32m'aexp'\u001b[0m\u001b[1m]\u001b[0m=\u001b[1;36m0.7692307692307692\u001b[0m z = \u001b[1;36m0.30000000000000004\u001b[0m                                        \n"
      ]
     },
     "metadata": {},
     "output_type": "display_data"
    },
    {
     "name": "stdout",
     "output_type": "stream",
     "text": [
      "1.25\n",
      "Step: 51 [0.03620119 0.03915915 0.08613522] [-0.02325124 -0.02646223  0.02329819] [[ 2.265982    1.9715765   1.3225962   0.61884016 -0.29294014 -0.6182474\n",
      "  -0.59003276  0.558287  ]\n",
      " [ 0.8176813  -0.3488292  -0.75072336 -0.75097036 -0.8965962  -0.8601345\n",
      "  -0.8268826   0.20707287]\n",
      " [ 0.43501872 -0.75363815 -1.0563574  -1.0234151  -0.9474447  -0.9030367\n",
      "  -0.69118816  0.20280427]\n",
      " [ 0.7914983  -0.522377   -1.145159   -1.0793755  -0.9169415  -0.7654129\n",
      "  -0.2410154   0.77114403]\n",
      " [ 1.9951689   0.50302047 -0.19892177 -0.2187728  -0.23048192 -0.1408748\n",
      "   0.84513545  2.1685104 ]\n",
      " [ 1.6388708   0.877368    0.5782133   0.5982095   0.32538918  0.29720128\n",
      "   0.9071474   1.5482591 ]\n",
      " [ 0.92275643  1.3796772   0.98707867  0.77184844  0.3681311   0.27366328\n",
      "   0.38715905  0.40865684]\n",
      " [ 1.7038982   2.486119    2.1070335   1.2087537   0.2309411   0.0136942\n",
      "   0.02476414  0.4902258 ]]\n"
     ]
    },
    {
     "data": {
      "text/html": [
       "<pre style=\"white-space:pre;overflow-x:auto;line-height:normal;font-family:Menlo,'DejaVu Sans Mono',consolas,'Courier New',monospace\">Snapshot written at <span style=\"color: #808000; text-decoration-color: #808000\">...</span><span style=\"color: #808000; text-decoration-color: #808000\">filename</span>=<span style=\"color: #008000; text-decoration-color: #008000\">'./small//output_00035/particles_eft_multigrid_ncoarse3.h5'</span> param<span style=\"font-weight: bold\">[</span><span style=\"color: #008000; text-decoration-color: #008000\">'aexp'</span><span style=\"font-weight: bold\">]</span>=<span style=\"color: #008080; text-decoration-color: #008080; font-weight: bold\">0.8</span>      \n",
       "</pre>\n"
      ],
      "text/plain": [
       "Snapshot written at \u001b[33m...\u001b[0m\u001b[33mfilename\u001b[0m=\u001b[32m'./small//output_00035/particles_eft_multigrid_ncoarse3.h5'\u001b[0m param\u001b[1m[\u001b[0m\u001b[32m'aexp'\u001b[0m\u001b[1m]\u001b[0m=\u001b[1;36m0.8\u001b[0m      \n"
      ]
     },
     "metadata": {},
     "output_type": "display_data"
    },
    {
     "data": {
      "text/html": [
       "<pre style=\"white-space:pre;overflow-x:auto;line-height:normal;font-family:Menlo,'DejaVu Sans Mono',consolas,'Courier New',monospace\">param<span style=\"font-weight: bold\">[</span><span style=\"color: #008000; text-decoration-color: #008000\">'nsteps'</span><span style=\"font-weight: bold\">]</span>=<span style=\"color: #008080; text-decoration-color: #008080; font-weight: bold\">51</span> param<span style=\"font-weight: bold\">[</span><span style=\"color: #008000; text-decoration-color: #008000\">'aexp'</span><span style=\"font-weight: bold\">]</span>=<span style=\"color: #008080; text-decoration-color: #008080; font-weight: bold\">0.8</span> z = <span style=\"color: #008080; text-decoration-color: #008080; font-weight: bold\">0.25</span>                                                                      \n",
       "</pre>\n"
      ],
      "text/plain": [
       "param\u001b[1m[\u001b[0m\u001b[32m'nsteps'\u001b[0m\u001b[1m]\u001b[0m=\u001b[1;36m51\u001b[0m param\u001b[1m[\u001b[0m\u001b[32m'aexp'\u001b[0m\u001b[1m]\u001b[0m=\u001b[1;36m0.8\u001b[0m z = \u001b[1;36m0.25\u001b[0m                                                                      \n"
      ]
     },
     "metadata": {},
     "output_type": "display_data"
    },
    {
     "name": "stdout",
     "output_type": "stream",
     "text": [
      "1.25\n",
      "Step: 52 [0.03511832 0.03791977 0.08722153] [-0.0247502  -0.02850652  0.02485807] [[ 2.467267    2.15825     1.4345162   0.6411685  -0.33299136 -0.6676955\n",
      "  -0.6564746   0.57964396]\n",
      " [ 0.87607706 -0.39072904 -0.8278158  -0.83193177 -0.9755298  -0.919042\n",
      "  -0.9027872   0.21324804]\n",
      " [ 0.4857707  -0.79343766 -1.1202447  -1.0915337  -1.0089469  -0.9699713\n",
      "  -0.7535373   0.22172582]\n",
      " [ 0.8557848  -0.5724298  -1.2361267  -1.162771   -0.9924668  -0.8382666\n",
      "  -0.2849429   0.83034074]\n",
      " [ 2.1818802   0.53170985 -0.23514074 -0.2532702  -0.25502804 -0.16337858\n",
      "   0.8967197   2.3686001 ]\n",
      " [ 1.8045862   0.96396387  0.62980396  0.64858043  0.35987732  0.32355356\n",
      "   0.9861529   1.702773  ]\n",
      " [ 1.0257438   1.5216451   1.0936482   0.8473065   0.40623748  0.3027889\n",
      "   0.42221767  0.45893502]\n",
      " [ 1.8766967   2.7496955   2.3228092   1.3060882   0.24338521  0.0175544\n",
      "   0.01397166  0.5308764 ]]\n"
     ]
    },
    {
     "data": {
      "text/html": [
       "<pre style=\"white-space:pre;overflow-x:auto;line-height:normal;font-family:Menlo,'DejaVu Sans Mono',consolas,'Courier New',monospace\">Snapshot written at <span style=\"color: #808000; text-decoration-color: #808000\">...</span><span style=\"color: #808000; text-decoration-color: #808000\">filename</span>=<span style=\"color: #008000; text-decoration-color: #008000\">'./small//output_00036/particles_eft_multigrid_ncoarse3.h5'</span>                        \n",
       "param<span style=\"font-weight: bold\">[</span><span style=\"color: #008000; text-decoration-color: #008000\">'aexp'</span><span style=\"font-weight: bold\">]</span>=<span style=\"color: #008080; text-decoration-color: #008080; font-weight: bold\">0.8333333333333334</span>                                                                                   \n",
       "</pre>\n"
      ],
      "text/plain": [
       "Snapshot written at \u001b[33m...\u001b[0m\u001b[33mfilename\u001b[0m=\u001b[32m'./small//output_00036/particles_eft_multigrid_ncoarse3.h5'\u001b[0m                        \n",
       "param\u001b[1m[\u001b[0m\u001b[32m'aexp'\u001b[0m\u001b[1m]\u001b[0m=\u001b[1;36m0.8333333333333334\u001b[0m                                                                                   \n"
      ]
     },
     "metadata": {},
     "output_type": "display_data"
    },
    {
     "data": {
      "text/html": [
       "<pre style=\"white-space:pre;overflow-x:auto;line-height:normal;font-family:Menlo,'DejaVu Sans Mono',consolas,'Courier New',monospace\">param<span style=\"font-weight: bold\">[</span><span style=\"color: #008000; text-decoration-color: #008000\">'nsteps'</span><span style=\"font-weight: bold\">]</span>=<span style=\"color: #008080; text-decoration-color: #008080; font-weight: bold\">52</span> param<span style=\"font-weight: bold\">[</span><span style=\"color: #008000; text-decoration-color: #008000\">'aexp'</span><span style=\"font-weight: bold\">]</span>=<span style=\"color: #008080; text-decoration-color: #008080; font-weight: bold\">0.8333333333333334</span> z = <span style=\"color: #008080; text-decoration-color: #008080; font-weight: bold\">0.19999999999999996</span>                                        \n",
       "</pre>\n"
      ],
      "text/plain": [
       "param\u001b[1m[\u001b[0m\u001b[32m'nsteps'\u001b[0m\u001b[1m]\u001b[0m=\u001b[1;36m52\u001b[0m param\u001b[1m[\u001b[0m\u001b[32m'aexp'\u001b[0m\u001b[1m]\u001b[0m=\u001b[1;36m0.8333333333333334\u001b[0m z = \u001b[1;36m0.19999999999999996\u001b[0m                                        \n"
      ]
     },
     "metadata": {},
     "output_type": "display_data"
    },
    {
     "name": "stdout",
     "output_type": "stream",
     "text": [
      "1.25\n",
      "Step: 53 [0.03393982 0.03655424 0.0884065 ] [-0.02641853 -0.03081834  0.02659462] [[ 2.6971426e+00  2.3716998e+00  1.5587529e+00  6.6227388e-01\n",
      "  -3.7977207e-01 -7.2316992e-01 -7.3387986e-01  6.0022020e-01]\n",
      " [ 9.4033206e-01 -4.4005865e-01 -9.1591388e-01 -9.2520076e-01\n",
      "  -1.0648869e+00 -9.8380160e-01 -9.8986971e-01  2.1917984e-01]\n",
      " [ 5.4490292e-01 -8.3638090e-01 -1.1906949e+00 -1.1665770e+00\n",
      "  -1.0760592e+00 -1.0445390e+00 -8.2466114e-01  2.4321496e-01]\n",
      " [ 9.2767978e-01 -6.2987900e-01 -1.3387072e+00 -1.2562288e+00\n",
      "  -1.0775192e+00 -9.2159617e-01 -3.3779904e-01  8.9596367e-01]\n",
      " [ 2.3962603e+00  5.6205225e-01 -2.7883551e-01 -2.9386967e-01\n",
      "  -2.8314343e-01 -1.9042796e-01  9.5233643e-01  2.5981395e+00]\n",
      " [ 1.9967504e+00  1.0635588e+00  6.8788636e-01  7.0555973e-01\n",
      "   3.9983132e-01  3.5313416e-01  1.0757235e+00  1.8815628e+00]\n",
      " [ 1.1457003e+00  1.6864522e+00  1.2172749e+00  9.3368065e-01\n",
      "   4.5005810e-01  3.3644450e-01  4.6180981e-01  5.1726496e-01]\n",
      " [ 2.0768428e+00  3.0574563e+00  2.5735204e+00  1.4149224e+00\n",
      "   2.5623775e-01  2.2813201e-02 -4.2164326e-04  5.7602632e-01]]\n"
     ]
    },
    {
     "data": {
      "text/html": [
       "<pre style=\"white-space:pre;overflow-x:auto;line-height:normal;font-family:Menlo,'DejaVu Sans Mono',consolas,'Courier New',monospace\">Snapshot written at <span style=\"color: #808000; text-decoration-color: #808000\">...</span><span style=\"color: #808000; text-decoration-color: #808000\">filename</span>=<span style=\"color: #008000; text-decoration-color: #008000\">'./small//output_00037/particles_eft_multigrid_ncoarse3.h5'</span>                        \n",
       "param<span style=\"font-weight: bold\">[</span><span style=\"color: #008000; text-decoration-color: #008000\">'aexp'</span><span style=\"font-weight: bold\">]</span>=<span style=\"color: #008080; text-decoration-color: #008080; font-weight: bold\">0.8695652173913044</span>                                                                                   \n",
       "</pre>\n"
      ],
      "text/plain": [
       "Snapshot written at \u001b[33m...\u001b[0m\u001b[33mfilename\u001b[0m=\u001b[32m'./small//output_00037/particles_eft_multigrid_ncoarse3.h5'\u001b[0m                        \n",
       "param\u001b[1m[\u001b[0m\u001b[32m'aexp'\u001b[0m\u001b[1m]\u001b[0m=\u001b[1;36m0.8695652173913044\u001b[0m                                                                                   \n"
      ]
     },
     "metadata": {},
     "output_type": "display_data"
    },
    {
     "data": {
      "text/html": [
       "<pre style=\"white-space:pre;overflow-x:auto;line-height:normal;font-family:Menlo,'DejaVu Sans Mono',consolas,'Courier New',monospace\">param<span style=\"font-weight: bold\">[</span><span style=\"color: #008000; text-decoration-color: #008000\">'nsteps'</span><span style=\"font-weight: bold\">]</span>=<span style=\"color: #008080; text-decoration-color: #008080; font-weight: bold\">53</span> param<span style=\"font-weight: bold\">[</span><span style=\"color: #008000; text-decoration-color: #008000\">'aexp'</span><span style=\"font-weight: bold\">]</span>=<span style=\"color: #008080; text-decoration-color: #008080; font-weight: bold\">0.8695652173913044</span> z = <span style=\"color: #008080; text-decoration-color: #008080; font-weight: bold\">0.1499999999999999</span>                                         \n",
       "</pre>\n"
      ],
      "text/plain": [
       "param\u001b[1m[\u001b[0m\u001b[32m'nsteps'\u001b[0m\u001b[1m]\u001b[0m=\u001b[1;36m53\u001b[0m param\u001b[1m[\u001b[0m\u001b[32m'aexp'\u001b[0m\u001b[1m]\u001b[0m=\u001b[1;36m0.8695652173913044\u001b[0m z = \u001b[1;36m0.1499999999999999\u001b[0m                                         \n"
      ]
     },
     "metadata": {},
     "output_type": "display_data"
    },
    {
     "name": "stdout",
     "output_type": "stream",
     "text": [
      "1.25\n",
      "Step: 54 [0.03265241 0.03504277 0.08970392] [-0.02828389 -0.03344828  0.02853593] [[ 2.9606638   2.6167789   1.6952672   0.6805218  -0.434987   -0.78567123\n",
      "  -0.82477367  0.61946106]\n",
      " [ 1.0113122  -0.49771893 -1.016775   -1.0314783  -1.1666503  -1.0551066\n",
      "  -1.0904651   0.22473153]\n",
      " [ 0.61427915 -0.8829394  -1.2688888  -1.2499652  -1.149345   -1.1280307\n",
      "  -0.905984    0.26751518]\n",
      " [ 1.0083554  -0.6961466  -1.4549989  -1.3614305  -1.1737728  -1.0175456\n",
      "  -0.40149826  0.96853054]\n",
      " [ 2.644031    0.5938796  -0.3319351  -0.3419341  -0.31548488 -0.22320701\n",
      "   1.0122087   2.8631425 ]\n",
      " [ 2.2212772   1.1788406   0.7534729   0.77034396  0.44645748  0.38641512\n",
      "   1.177761    2.0899887 ]\n",
      " [ 1.28648     1.8792439   1.361707    1.0330738   0.500743    0.37559468\n",
      "   0.5066774   0.5853535 ]\n",
      " [ 2.3103213   3.4202185   2.8669956   1.5376294   0.2692031   0.03002167\n",
      "  -0.01966225  0.6264002 ]]\n"
     ]
    },
    {
     "data": {
      "text/html": [
       "<pre style=\"white-space:pre;overflow-x:auto;line-height:normal;font-family:Menlo,'DejaVu Sans Mono',consolas,'Courier New',monospace\">Snapshot written at <span style=\"color: #808000; text-decoration-color: #808000\">...</span><span style=\"color: #808000; text-decoration-color: #808000\">filename</span>=<span style=\"color: #008000; text-decoration-color: #008000\">'./small//output_00038/particles_eft_multigrid_ncoarse3.h5'</span>                        \n",
       "param<span style=\"font-weight: bold\">[</span><span style=\"color: #008000; text-decoration-color: #008000\">'aexp'</span><span style=\"font-weight: bold\">]</span>=<span style=\"color: #008080; text-decoration-color: #008080; font-weight: bold\">0.9090909090909091</span>                                                                                   \n",
       "</pre>\n"
      ],
      "text/plain": [
       "Snapshot written at \u001b[33m...\u001b[0m\u001b[33mfilename\u001b[0m=\u001b[32m'./small//output_00038/particles_eft_multigrid_ncoarse3.h5'\u001b[0m                        \n",
       "param\u001b[1m[\u001b[0m\u001b[32m'aexp'\u001b[0m\u001b[1m]\u001b[0m=\u001b[1;36m0.9090909090909091\u001b[0m                                                                                   \n"
      ]
     },
     "metadata": {},
     "output_type": "display_data"
    },
    {
     "data": {
      "text/html": [
       "<pre style=\"white-space:pre;overflow-x:auto;line-height:normal;font-family:Menlo,'DejaVu Sans Mono',consolas,'Courier New',monospace\">param<span style=\"font-weight: bold\">[</span><span style=\"color: #008000; text-decoration-color: #008000\">'nsteps'</span><span style=\"font-weight: bold\">]</span>=<span style=\"color: #008080; text-decoration-color: #008080; font-weight: bold\">54</span> param<span style=\"font-weight: bold\">[</span><span style=\"color: #008000; text-decoration-color: #008000\">'aexp'</span><span style=\"font-weight: bold\">]</span>=<span style=\"color: #008080; text-decoration-color: #008080; font-weight: bold\">0.9090909090909091</span> z = <span style=\"color: #008080; text-decoration-color: #008080; font-weight: bold\">0.10000000000000009</span>                                        \n",
       "</pre>\n"
      ],
      "text/plain": [
       "param\u001b[1m[\u001b[0m\u001b[32m'nsteps'\u001b[0m\u001b[1m]\u001b[0m=\u001b[1;36m54\u001b[0m param\u001b[1m[\u001b[0m\u001b[32m'aexp'\u001b[0m\u001b[1m]\u001b[0m=\u001b[1;36m0.9090909090909091\u001b[0m z = \u001b[1;36m0.10000000000000009\u001b[0m                                        \n"
      ]
     },
     "metadata": {},
     "output_type": "display_data"
    },
    {
     "name": "stdout",
     "output_type": "stream",
     "text": [
      "1.25\n",
      "Step: 55 [0.03124022 0.03336121 0.09113022] [-0.0303796  -0.03645971  0.03071527] [[ 3.261623    2.8987      1.8435569   0.69330895 -0.5005708  -0.85641634\n",
      "  -0.93308526  0.6386056 ]\n",
      " [ 1.089838   -0.5634139  -1.1317524  -1.1519364  -1.2832541  -1.1337087\n",
      "  -1.2077495   0.2303116 ]\n",
      " [ 0.6960895  -0.9340646  -1.3564572  -1.3433518  -1.229377   -1.2219603\n",
      "  -0.9994237   0.29508996]\n",
      " [ 1.0988693  -0.7727344  -1.5876818  -1.4804287  -1.2832807  -1.1287899\n",
      "  -0.47856498  1.0486526 ]\n",
      " [ 2.9323843   0.62694335 -0.39701697 -0.39920503 -0.35284948 -0.26328593\n",
      "   1.0764911   3.1712534 ]\n",
      " [ 2.485821    1.3132292   0.8277379   0.8444064   0.50131947  0.4239322\n",
      "   1.2945964   2.3349345 ]\n",
      " [ 1.4530771   2.1066992   1.5317726   1.1481042   0.5597387   0.42147577\n",
      "   0.55769897  0.66537833]\n",
      " [ 2.5842807   3.8527517   3.213744    1.6767715   0.2818625   0.03998196\n",
      "  -0.04569101  0.6834999 ]]\n"
     ]
    },
    {
     "data": {
      "text/html": [
       "<pre style=\"white-space:pre;overflow-x:auto;line-height:normal;font-family:Menlo,'DejaVu Sans Mono',consolas,'Courier New',monospace\">Snapshot written at <span style=\"color: #808000; text-decoration-color: #808000\">...</span><span style=\"color: #808000; text-decoration-color: #808000\">filename</span>=<span style=\"color: #008000; text-decoration-color: #008000\">'./small//output_00039/particles_eft_multigrid_ncoarse3.h5'</span>                        \n",
       "param<span style=\"font-weight: bold\">[</span><span style=\"color: #008000; text-decoration-color: #008000\">'aexp'</span><span style=\"font-weight: bold\">]</span>=<span style=\"color: #008080; text-decoration-color: #008080; font-weight: bold\">0.9523809523809523</span>                                                                                   \n",
       "</pre>\n"
      ],
      "text/plain": [
       "Snapshot written at \u001b[33m...\u001b[0m\u001b[33mfilename\u001b[0m=\u001b[32m'./small//output_00039/particles_eft_multigrid_ncoarse3.h5'\u001b[0m                        \n",
       "param\u001b[1m[\u001b[0m\u001b[32m'aexp'\u001b[0m\u001b[1m]\u001b[0m=\u001b[1;36m0.9523809523809523\u001b[0m                                                                                   \n"
      ]
     },
     "metadata": {},
     "output_type": "display_data"
    },
    {
     "data": {
      "text/html": [
       "<pre style=\"white-space:pre;overflow-x:auto;line-height:normal;font-family:Menlo,'DejaVu Sans Mono',consolas,'Courier New',monospace\">param<span style=\"font-weight: bold\">[</span><span style=\"color: #008000; text-decoration-color: #008000\">'nsteps'</span><span style=\"font-weight: bold\">]</span>=<span style=\"color: #008080; text-decoration-color: #008080; font-weight: bold\">55</span> param<span style=\"font-weight: bold\">[</span><span style=\"color: #008000; text-decoration-color: #008000\">'aexp'</span><span style=\"font-weight: bold\">]</span>=<span style=\"color: #008080; text-decoration-color: #008080; font-weight: bold\">0.9523809523809523</span> z = <span style=\"color: #008080; text-decoration-color: #008080; font-weight: bold\">0.050000000000000044</span>                                       \n",
       "</pre>\n"
      ],
      "text/plain": [
       "param\u001b[1m[\u001b[0m\u001b[32m'nsteps'\u001b[0m\u001b[1m]\u001b[0m=\u001b[1;36m55\u001b[0m param\u001b[1m[\u001b[0m\u001b[32m'aexp'\u001b[0m\u001b[1m]\u001b[0m=\u001b[1;36m0.9523809523809523\u001b[0m z = \u001b[1;36m0.050000000000000044\u001b[0m                                       \n"
      ]
     },
     "metadata": {},
     "output_type": "display_data"
    },
    {
     "name": "stdout",
     "output_type": "stream",
     "text": [
      "1.25\n",
      "Step: 56 [0.02968424 0.03147991 0.09270497] [-0.03274583 -0.03993291  0.03317218] [[ 3.6060343   3.224906    2.002789    0.69713056 -0.5789106  -0.9372276\n",
      "  -1.0627229   0.65749174]\n",
      " [ 1.1771789  -0.63810766 -1.2625309  -1.288255   -1.4177446  -1.2212234\n",
      "  -1.343398    0.23404583]\n",
      " [ 0.7934437  -0.990608   -1.4551737  -1.4487453  -1.3167002  -1.3282259\n",
      "  -1.1072092   0.3263693 ]\n",
      " [ 1.2005606  -0.8617994  -1.7399725  -1.6157597  -1.4086046  -1.2586373\n",
      "  -0.5725268   1.1370137 ]\n",
      " [ 3.2705898   0.6606332  -0.47746706 -0.46793878 -0.39621043 -0.3127268\n",
      "   1.145068    3.5323465 ]\n",
      " [ 2.8004446   1.4711134   0.9120325   0.9295918   0.56646216  0.46627873\n",
      "   1.429084    2.6254249 ]\n",
      " [ 1.652055    2.3776157   1.7337666   1.2820274   0.6288816   0.47568393\n",
      "   0.615901    0.76014555]\n",
      " [ 2.9081569   4.374282    3.6274047   1.8352855   0.29354376  0.05379879\n",
      "  -0.0809502   0.748801  ]]\n"
     ]
    },
    {
     "data": {
      "text/html": [
       "<pre style=\"white-space:pre;overflow-x:auto;line-height:normal;font-family:Menlo,'DejaVu Sans Mono',consolas,'Courier New',monospace\">Snapshot written at <span style=\"color: #808000; text-decoration-color: #808000\">...</span><span style=\"color: #808000; text-decoration-color: #808000\">filename</span>=<span style=\"color: #008000; text-decoration-color: #008000\">'./small//output_00040/particles_eft_multigrid_ncoarse3.h5'</span> param<span style=\"font-weight: bold\">[</span><span style=\"color: #008000; text-decoration-color: #008000\">'aexp'</span><span style=\"font-weight: bold\">]</span>=<span style=\"color: #008080; text-decoration-color: #008080; font-weight: bold\">1.0</span>      \n",
       "</pre>\n"
      ],
      "text/plain": [
       "Snapshot written at \u001b[33m...\u001b[0m\u001b[33mfilename\u001b[0m=\u001b[32m'./small//output_00040/particles_eft_multigrid_ncoarse3.h5'\u001b[0m param\u001b[1m[\u001b[0m\u001b[32m'aexp'\u001b[0m\u001b[1m]\u001b[0m=\u001b[1;36m1.0\u001b[0m      \n"
      ]
     },
     "metadata": {},
     "output_type": "display_data"
    },
    {
     "data": {
      "text/html": [
       "<pre style=\"white-space:pre;overflow-x:auto;line-height:normal;font-family:Menlo,'DejaVu Sans Mono',consolas,'Courier New',monospace\">param<span style=\"font-weight: bold\">[</span><span style=\"color: #008000; text-decoration-color: #008000\">'nsteps'</span><span style=\"font-weight: bold\">]</span>=<span style=\"color: #008080; text-decoration-color: #008080; font-weight: bold\">56</span> param<span style=\"font-weight: bold\">[</span><span style=\"color: #008000; text-decoration-color: #008000\">'aexp'</span><span style=\"font-weight: bold\">]</span>=<span style=\"color: #008080; text-decoration-color: #008080; font-weight: bold\">1.0</span> z = <span style=\"color: #008080; text-decoration-color: #008080; font-weight: bold\">0.0</span>                                                                       \n",
       "</pre>\n"
      ],
      "text/plain": [
       "param\u001b[1m[\u001b[0m\u001b[32m'nsteps'\u001b[0m\u001b[1m]\u001b[0m=\u001b[1;36m56\u001b[0m param\u001b[1m[\u001b[0m\u001b[32m'aexp'\u001b[0m\u001b[1m]\u001b[0m=\u001b[1;36m1.0\u001b[0m z = \u001b[1;36m0.0\u001b[0m                                                                       \n"
      ]
     },
     "metadata": {},
     "output_type": "display_data"
    }
   ],
   "source": [
    "# Small\n",
    "\n",
    "path = '.'\n",
    "\n",
    "param = pd.Series({\n",
    "    \"theory\": \"eft\",\n",
    "    \"alphaB0\": 0.1,\n",
    "    \"alphaM0\": 0.0,\n",
    "    \"extra\":'04_01',\n",
    "    \"nthreads\": 1,\n",
    "    \"H0\": 72,\n",
    "    \"Om_m\": 1.,\n",
    "    \"T_cmb\": 0.1,\n",
    "    \"N_eff\": 3.044,\n",
    "    \"w0\": -1.0,\n",
    "    \"wa\": 0.0,\n",
    "    \"boxlen\": 100,\n",
    "    \"ncoarse\": 3,\n",
    "    \"npart\": 8**3,\n",
    "    \"z_start\": 25,\n",
    "    \"seed\": 42,\n",
    "    \"position_ICS\": \"center\",\n",
    "    \"fixed_ICS\": False,\n",
    "    \"paired_ICS\": False,\n",
    "    \"dealiased_ICS\": False,\n",
    "    \"power_spectrum_file\": f\"{path}/pk_lcdmw7v2.dat\",\n",
    "    \"initial_conditions\": \"2LPT\",\n",
    "    \"base\": f\"{path}/small/\",\n",
    "    \"z_out\": \"[20,19,18,17,16,15,14,13,12,11,10,9,8,7,6,5,4,3,2,1,0.95,0.9,0.85,0.8,0.75,0.7,0.65,0.6,0.55,0.5,0.45,0.4,0.35,0.3,0.25,0.2,0.15,0.1,0.05,0]\",\n",
    "    \"output_snapshot_format\": \"HDF5\",\n",
    "    \"save_power_spectrum\": \"no\",\n",
    "    \"integrator\": \"leapfrog\",\n",
    "    \"n_reorder\": 50,\n",
    "    \"mass_scheme\": \"TSC\",\n",
    "    \"Courant_factor\": 1.0,\n",
    "    \"max_aexp_stepping\": 10,\n",
    "    \"linear_newton_solver\": \"multigrid\",\n",
    "    \"gradient_stencil_order\": 5,\n",
    "    \"Npre\": 3,\n",
    "    \"Npost\": 3,\n",
    "    \"epsrel\": 1e-2,\n",
    "    \"verbose\": 1,\n",
    "    \"evolution_table\":'no',\n",
    "    \"Om_lambda\":0\n",
    "    })\n",
    "\n",
    "main.run(param)"
   ]
  },
  {
   "cell_type": "code",
   "execution_count": null,
   "id": "6ab04d4f-d582-4074-9df0-1dfcfdb50e49",
   "metadata": {},
   "outputs": [],
   "source": [
    "path = '.'\n",
    "\n",
    "param = pd.Series({\n",
    "    \"theory\": \"parametrized\",\n",
    "    \"parametrized_mu0\":0.25,\n",
    "    \"alphaB0\": 0.1,\n",
    "    \"alphaM0\": 0.5,\n",
    "    \"nthreads\": 1,\n",
    "    \"H0\": 72,\n",
    "    \"Om_m\": 1.,\n",
    "    \"T_cmb\": 0.1,\n",
    "    \"N_eff\": 3.044,\n",
    "    \"w0\": -1.0,\n",
    "    \"wa\": 0.0,\n",
    "    \"boxlen\": 100,\n",
    "    \"ncoarse\": 7,\n",
    "    \"npart\": 128**3,\n",
    "    \"z_start\": 25,\n",
    "    \"seed\": 42,\n",
    "    \"position_ICS\": \"center\",\n",
    "    \"fixed_ICS\": False,\n",
    "    \"paired_ICS\": False,\n",
    "    \"dealiased_ICS\": False,\n",
    "    \"power_spectrum_file\": f\"{path}/pk_lcdmw7v2.dat\",\n",
    "    \"initial_conditions\": \"2LPT\",\n",
    "    \"base\": f\"{path}/ptest-c/\",\n",
    "    \"z_out\": \"[20,19,18,17,16,15,14,13,12,11,10,9,8,7,6,5,4,3,2,1,0.95,0.9,0.85,0.8,0.75,0.7,0.65,0.6,0.55,0.5,0.45,0.4,0.35,0.3,0.25,0.2,0.15,0.1,0.05,0]\",\n",
    "    \"output_snapshot_format\": \"HDF5\",\n",
    "    \"save_power_spectrum\": \"no\",\n",
    "    \"integrator\": \"leapfrog\",\n",
    "    \"n_reorder\": 50,\n",
    "    \"mass_scheme\": \"TSC\",\n",
    "    \"Courant_factor\": 1.0,\n",
    "    \"max_aexp_stepping\": 10,\n",
    "    \"linear_newton_solver\": \"multigrid\",\n",
    "    \"gradient_stencil_order\": 5,\n",
    "    \"Npre\": 2,\n",
    "    \"Npost\": 1,\n",
    "    \"epsrel\": 1e-2,\n",
    "    \"verbose\": 1,\n",
    "    \"evolution_table\":'no',\n",
    "    \"Om_lambda\":0.0\n",
    "    })\n",
    "\n",
    "main.run(param)"
   ]
  },
  {
   "cell_type": "code",
   "execution_count": null,
   "id": "6f81c92b-88ec-4801-b118-46d545f25186",
   "metadata": {},
   "outputs": [],
   "source": [
    "path = '.'\n",
    "\n",
    "param = pd.Series({\n",
    "    \"theory\": \"eft\",\n",
    "    \"alphaB0\": 0.3066,\n",
    "    \"alphaM0\": 0,\n",
    "    \"wa\":-0.2,\n",
    "    \"nthreads\": 1,\n",
    "    \"H0\": 72,\n",
    "    \"Om_m\": 0.25733,\n",
    "    \"T_cmb\": 2.726,\n",
    "    \"N_eff\": 3.044,\n",
    "    \"w0\": -1.0,\n",
    "    \"boxlen\": 100,\n",
    "    \"ncoarse\": 8,\n",
    "    \"npart\": 256**3,\n",
    "    \"z_start\": 25,\n",
    "    \"seed\": 42,\n",
    "    \"position_ICS\": \"center\",\n",
    "    \"fixed_ICS\": False,\n",
    "    \"paired_ICS\": False,\n",
    "    \"dealiased_ICS\": False,\n",
    "    \"power_spectrum_file\": f\"{path}/pk_lcdmw7v2.dat\",\n",
    "    \"initial_conditions\": \"2LPT\",\n",
    "    \"base\": f\"{path}/ptestn/\",\n",
    "    \"z_out\": \"[20,19,18,17,16,15,14,13,12,11,10,9,8,7,6,5,4,3,2,1,0.95,0.9,0.85,0.8,0.75,0.7,0.65,0.6,0.55,0.5,0.45,0.4,0.35,0.3,0.25,0.2,0.15,0.1,0.05,0]\",\n",
    "    \"output_snapshot_format\": \"HDF5\",\n",
    "    \"save_power_spectrum\": \"no\",\n",
    "    \"integrator\": \"leapfrog\",\n",
    "    \"n_reorder\": 50,\n",
    "    \"mass_scheme\": \"TSC\",\n",
    "    \"Courant_factor\": 1.0,\n",
    "    \"max_aexp_stepping\": 10,\n",
    "    \"linear_newton_solver\": \"multigrid\",\n",
    "    \"gradient_stencil_order\": 5,\n",
    "    \"Npre\": 2,\n",
    "    \"Npost\": 1,\n",
    "    \"epsrel\": 1e-2,\n",
    "    \"verbose\": 1,\n",
    "    \"evolution_table\":'no',\n",
    "    \"Om_lambda\":0.74267\n",
    "    })\n",
    "\n",
    "main.run(param)"
   ]
  },
  {
   "cell_type": "code",
   "execution_count": null,
   "id": "555f68d0-f8ee-4631-be9b-264d85afb7f3",
   "metadata": {},
   "outputs": [],
   "source": [
    "path = '.'\n",
    "\n",
    "param = pd.Series({\n",
    "    \"theory\": \"parametrized\",\n",
    "    \"parametrized_mu0\":-0.072,\n",
    "    \"wa\":-0.2,\n",
    "    \"alphaB0\": 0.1,\n",
    "    \"alphaM0\": 0.5,\n",
    "    \"nthreads\": 1,\n",
    "    \"H0\": 72,\n",
    "    \"Om_m\": 0.25733,\n",
    "    \"T_cmb\": 2.726,\n",
    "    \"N_eff\": 3.044,\n",
    "    \"w0\": -1.0,\n",
    "    \"boxlen\": 100,\n",
    "    \"ncoarse\": 8,\n",
    "    \"npart\": 256**3,\n",
    "    \"z_start\": 25,\n",
    "    \"seed\": 42,\n",
    "    \"position_ICS\": \"center\",\n",
    "    \"fixed_ICS\": False,\n",
    "    \"paired_ICS\": False,\n",
    "    \"dealiased_ICS\": False,\n",
    "    \"power_spectrum_file\": f\"{path}/pk_lcdmw7v2.dat\",\n",
    "    \"initial_conditions\": \"2LPT\",\n",
    "    \"base\": f\"{path}/ptestn/\",\n",
    "    \"z_out\": \"[20,19,18,17,16,15,14,13,12,11,10,9,8,7,6,5,4,3,2,1,0.95,0.9,0.85,0.8,0.75,0.7,0.65,0.6,0.55,0.5,0.45,0.4,0.35,0.3,0.25,0.2,0.15,0.1,0.05,0]\",\n",
    "    \"output_snapshot_format\": \"HDF5\",\n",
    "    \"save_power_spectrum\": \"no\",\n",
    "    \"integrator\": \"leapfrog\",\n",
    "    \"n_reorder\": 50,\n",
    "    \"mass_scheme\": \"TSC\",\n",
    "    \"Courant_factor\": 1.0,\n",
    "    \"max_aexp_stepping\": 10,\n",
    "    \"linear_newton_solver\": \"multigrid\",\n",
    "    \"gradient_stencil_order\": 5,\n",
    "    \"Npre\": 2,\n",
    "    \"Npost\": 1,\n",
    "    \"epsrel\": 1e-2,\n",
    "    \"verbose\": 1,\n",
    "    \"evolution_table\":'no',\n",
    "    \"Om_lambda\":0.74\n",
    "    })\n",
    "\n",
    "main.run(param)"
   ]
  },
  {
   "cell_type": "code",
   "execution_count": null,
   "id": "12253e6e-2e12-4e89-a94b-c0ea49c2d8f8",
   "metadata": {},
   "outputs": [],
   "source": [
    "import numpy as np\n",
    "import matplotlib.pyplot as plt"
   ]
  },
  {
   "cell_type": "code",
   "execution_count": null,
   "id": "8f245db8-f29f-4115-974c-0ab46feafe97",
   "metadata": {},
   "outputs": [],
   "source": [
    "x = np.loadtxt('./t4/power/pk_eft_multigrid_ncoarse6_00039.dat')\n",
    "plt.loglog(x[:,0],x[:,1],'.')\n",
    "\n",
    "\n",
    "\n"
   ]
  },
  {
   "cell_type": "code",
   "execution_count": null,
   "id": "2a09895b-7fa4-42d0-a9ce-3b806a1b0de4",
   "metadata": {},
   "outputs": [],
   "source": [
    "x = np.loadtxt('./t4/power/pk_eft_multigrid_ncoarse7_00001.dat')\n",
    "plt.loglog(x[:,0],x[:,1],'.')\n",
    "\n",
    "x = np.loadtxt('./t4/power/pk_newton_multigrid_ncoarse7_00001.dat')\n",
    "plt.loglog(x[:,0],x[:,1],'.')\n",
    "\n"
   ]
  },
  {
   "cell_type": "code",
   "execution_count": null,
   "id": "de0d99c0-463c-41fc-9c69-ff216f791b3c",
   "metadata": {},
   "outputs": [],
   "source": [
    "pwd"
   ]
  },
  {
   "cell_type": "code",
   "execution_count": null,
   "id": "50ac511f-b87a-4d85-a99b-3e65b0e3c710",
   "metadata": {},
   "outputs": [],
   "source": [
    "\n",
    "\n",
    "x = np.loadtxt('./tester3/power/pk_eft_multigrid_ncoarse8_00001.dat')\n",
    "plt.loglog(x[:,0],x[:,1],'.')\n",
    "\n",
    "\n",
    "x = np.loadtxt('./tester3/power/pk_eft_multigrid_ncoarse8_00080.dat')\n",
    "plt.loglog(x[:,0],x[:,1],'.')\n",
    "\n",
    "plt.gca().set_prop_cycle(None)\n",
    "\n",
    "x = np.loadtxt('./tester3/power/pk_newton_multigrid_ncoarse8_00001.dat')\n",
    "plt.plot(x[:,0],x[:,1])\n",
    "\n",
    "x = np.loadtxt('./tester3/power/pk_newton_multigrid_ncoarse8_00085.dat')\n",
    "plt.plot(x[:,0],x[:,1])"
   ]
  },
  {
   "cell_type": "code",
   "execution_count": null,
   "id": "21e4f1c4-a5a4-4661-bdaf-ce7db80c0e15",
   "metadata": {},
   "outputs": [],
   "source": [
    "\n",
    "\n",
    "\n",
    "x = np.loadtxt('./boxlen100_n32/power/pk_newton_multigrid_ncoarse5_00010.dat')\n",
    "plt.loglog(x[:,0],x[:,1],'.')\n",
    "\n",
    "x = np.loadtxt('./boxlen100_n32/power/pk_eft_multigrid_ncoarse5_00010.dat')\n",
    "plt.loglog(x[:,0],x[:,1],'x')"
   ]
  },
  {
   "cell_type": "code",
   "execution_count": null,
   "id": "87df80cd-5230-4cb7-8791-1e7de4f88a83",
   "metadata": {},
   "outputs": [],
   "source": [
    "plt.loglog(x["
   ]
  },
  {
   "cell_type": "code",
   "execution_count": null,
   "id": "ddb85791-d8e9-4e4c-9146-adc2d33abb79",
   "metadata": {},
   "outputs": [],
   "source": []
  }
 ],
 "metadata": {
  "kernelspec": {
   "display_name": "Python 3 (ipykernel)",
   "language": "python",
   "name": "python3"
  },
  "language_info": {
   "codemirror_mode": {
    "name": "ipython",
    "version": 3
   },
   "file_extension": ".py",
   "mimetype": "text/x-python",
   "name": "python",
   "nbconvert_exporter": "python",
   "pygments_lexer": "ipython3",
   "version": "3.12.7"
  }
 },
 "nbformat": 4,
 "nbformat_minor": 5
}
