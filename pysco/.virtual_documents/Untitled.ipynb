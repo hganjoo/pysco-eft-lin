import numpy as np


from quadratic import *


pi = np.zeros((10,10,10))



