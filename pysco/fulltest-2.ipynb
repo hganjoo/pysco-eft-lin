{
 "cells": [
  {
   "cell_type": "code",
   "execution_count": 1,
   "id": "b849885c-861b-4f15-a951-6cf85cb9fcee",
   "metadata": {},
   "outputs": [],
   "source": [
    "import main\n",
    "import pandas as pd"
   ]
  },
  {
   "cell_type": "code",
   "execution_count": 9,
   "id": "edcbfe75-123d-43a7-bfbc-171e76ae7f94",
   "metadata": {},
   "outputs": [],
   "source": [
    "path = '.'\n",
    "\n",
    "param = pd.Series({\n",
    "    \"theory\": \"eft\",\n",
    "    \"alphaB0\": 0.1,\n",
    "    \"alphaM0\": 0.5,\n",
    "    \"nthreads\": 1,\n",
    "    \"H0\": 72,\n",
    "    \"Om_m\": 0.25733,\n",
    "    \"T_cmb\": 2.726,\n",
    "    \"N_eff\": 3.044,\n",
    "    \"w0\": -1.0,\n",
    "    \"wa\": 0.0,\n",
    "    \"boxlen\": 100,\n",
    "    \"ncoarse\": 7,\n",
    "    \"npart\": 64**3,\n",
    "    \"z_start\": 25,\n",
    "    \"seed\": 42,\n",
    "    \"position_ICS\": \"center\",\n",
    "    \"fixed_ICS\": False,\n",
    "    \"paired_ICS\": False,\n",
    "    \"dealiased_ICS\": False,\n",
    "    \"power_spectrum_file\": f\"{path}/pk_lcdmw7v2.dat\",\n",
    "    \"initial_conditions\": \"2LPT\",\n",
    "    \"base\": f\"{path}/t4/\",\n",
    "    \"z_out\": \"[10, 8, 5, 2, 1, 0]\",\n",
    "    \"output_snapshot_format\": \"HDF5\",\n",
    "    \"save_power_spectrum\": \"yes\",\n",
    "    \"integrator\": \"leapfrog\",\n",
    "    \"n_reorder\": 50,\n",
    "    \"mass_scheme\": \"TSC\",\n",
    "    \"Courant_factor\": 1.0,\n",
    "    \"max_aexp_stepping\": 10,\n",
    "    \"linear_newton_solver\": \"multigrid\",\n",
    "    \"gradient_stencil_order\": 5,\n",
    "    \"Npre\": 2,\n",
    "    \"Npost\": 1,\n",
    "    \"epsrel\": 1e-2,\n",
    "    \"verbose\": 1,\n",
    "    \"evolution_table\":'no',\n",
    "    \"Om_lambda\":0.74\n",
    "    })"
   ]
  },
  {
   "cell_type": "code",
   "execution_count": 10,
   "id": "27ade68d-e53f-42f8-90a4-26a11e179477",
   "metadata": {},
   "outputs": [
    {
     "data": {
      "text/html": [
       "<pre style=\"white-space:pre;overflow-x:auto;line-height:normal;font-family:Menlo,'DejaVu Sans Mono',consolas,'Courier New',monospace\">param<span style=\"font-weight: bold\">[</span><span style=\"color: #008000; text-decoration-color: #008000\">'nthreads'</span><span style=\"font-weight: bold\">]</span>=<span style=\"color: #008080; text-decoration-color: #008080; font-weight: bold\">1</span>                                                                                                \n",
       "</pre>\n"
      ],
      "text/plain": [
       "param\u001b[1m[\u001b[0m\u001b[32m'nthreads'\u001b[0m\u001b[1m]\u001b[0m=\u001b[1;36m1\u001b[0m                                                                                                \n"
      ]
     },
     "metadata": {},
     "output_type": "display_data"
    },
    {
     "data": {
      "text/html": [
       "<pre style=\"white-space:pre;overflow-x:auto;line-height:normal;font-family:Menlo,'DejaVu Sans Mono',consolas,'Courier New',monospace\">                                                                                                                   \n",
       "<span style=\"color: #008000; text-decoration-color: #008000; font-weight: bold\">FFT module: NumPy</span>                                                                                                  \n",
       "</pre>\n"
      ],
      "text/plain": [
       "                                                                                                                   \n",
       "\u001b[1;32mFFT module: NumPy\u001b[0m                                                                                                  \n"
      ]
     },
     "metadata": {},
     "output_type": "display_data"
    },
    {
     "data": {
      "text/html": [
       "<pre style=\"white-space:pre;overflow-x:auto;line-height:normal;font-family:Menlo,'DejaVu Sans Mono',consolas,'Courier New',monospace\">                                                                                                                   \n",
       "<span style=\"color: #000080; text-decoration-color: #000080; font-weight: bold\">----- Compute background cosmology -----</span>                                                                           \n",
       "                                                                                                                   \n",
       "</pre>\n"
      ],
      "text/plain": [
       "                                                                                                                   \n",
       "\u001b[1;34m----- Compute background cosmology -----\u001b[0m                                                                           \n",
       "                                                                                                                   \n"
      ]
     },
     "metadata": {},
     "output_type": "display_data"
    },
    {
     "name": "stderr",
     "output_type": "stream",
     "text": [
      "/opt/anaconda3/lib/python3.12/site-packages/astropy/cosmology/flrw/w0wacdm.py:195: RuntimeWarning: invalid value encountered in scalar divide\n",
      "  return zp1 ** (3 * (1 + self._w0 + self._wa)) * exp(-3 * self._wa * z / zp1)\n"
     ]
    },
    {
     "data": {
      "text/html": [
       "<pre style=\"white-space:pre;overflow-x:auto;line-height:normal;font-family:Menlo,'DejaVu Sans Mono',consolas,'Courier New',monospace\">Write table in: .<span style=\"color: #800080; text-decoration-color: #800080\">/t4//</span><span style=\"color: #ff00ff; text-decoration-color: #ff00ff\">evolution_table_pysco_eft_multigrid_ncoarse7.txt</span>                                             \n",
       "</pre>\n"
      ],
      "text/plain": [
       "Write table in: .\u001b[35m/t4/\u001b[0m\u001b[35m/\u001b[0m\u001b[95mevolution_table_pysco_eft_multigrid_ncoarse7.txt\u001b[0m                                             \n"
      ]
     },
     "metadata": {},
     "output_type": "display_data"
    },
    {
     "data": {
      "text/html": [
       "<pre style=\"white-space:pre;overflow-x:auto;line-height:normal;font-family:Menlo,'DejaVu Sans Mono',consolas,'Courier New',monospace\">                                                                                                                   \n",
       "<span style=\"color: #000080; text-decoration-color: #000080; font-weight: bold\">----- Initial conditions -----</span>                                                                                     \n",
       "                                                                                                                   \n",
       "</pre>\n"
      ],
      "text/plain": [
       "                                                                                                                   \n",
       "\u001b[1;34m----- Initial conditions -----\u001b[0m                                                                                     \n",
       "                                                                                                                   \n"
      ]
     },
     "metadata": {},
     "output_type": "display_data"
    },
    {
     "data": {
      "text/html": [
       "<pre style=\"white-space:pre;overflow-x:auto;line-height:normal;font-family:Menlo,'DejaVu Sans Mono',consolas,'Courier New',monospace\">param<span style=\"font-weight: bold\">[</span><span style=\"color: #008000; text-decoration-color: #008000\">'z_start'</span><span style=\"font-weight: bold\">]</span>=<span style=\"color: #008080; text-decoration-color: #008080; font-weight: bold\">25</span>                                                                                                \n",
       "</pre>\n"
      ],
      "text/plain": [
       "param\u001b[1m[\u001b[0m\u001b[32m'z_start'\u001b[0m\u001b[1m]\u001b[0m=\u001b[1;36m25\u001b[0m                                                                                                \n"
      ]
     },
     "metadata": {},
     "output_type": "display_data"
    },
    {
     "data": {
      "text/html": [
       "<pre style=\"white-space:pre;overflow-x:auto;line-height:normal;font-family:Menlo,'DejaVu Sans Mono',consolas,'Courier New',monospace\">Compute 1LPT contribution                                                                                          \n",
       "</pre>\n"
      ],
      "text/plain": [
       "Compute 1LPT contribution                                                                                          \n"
      ]
     },
     "metadata": {},
     "output_type": "display_data"
    },
    {
     "data": {
      "text/html": [
       "<pre style=\"white-space:pre;overflow-x:auto;line-height:normal;font-family:Menlo,'DejaVu Sans Mono',consolas,'Courier New',monospace\">Compute 2LPT contribution                                                                                          \n",
       "</pre>\n"
      ],
      "text/plain": [
       "Compute 2LPT contribution                                                                                          \n"
      ]
     },
     "metadata": {},
     "output_type": "display_data"
    },
    {
     "data": {
      "text/html": [
       "<pre style=\"white-space:pre;overflow-x:auto;line-height:normal;font-family:Menlo,'DejaVu Sans Mono',consolas,'Courier New',monospace\">Write initial snapshot<span style=\"color: #808000; text-decoration-color: #808000\">...</span><span style=\"color: #808000; text-decoration-color: #808000\">snap_name</span>=<span style=\"color: #008000; text-decoration-color: #008000\">'./t4//output_00000/particles_eft_multigrid_ncoarse7.h5'</span>                        \n",
       "</pre>\n"
      ],
      "text/plain": [
       "Write initial snapshot\u001b[33m...\u001b[0m\u001b[33msnap_name\u001b[0m=\u001b[32m'./t4//output_00000/particles_eft_multigrid_ncoarse7.h5'\u001b[0m                        \n"
      ]
     },
     "metadata": {},
     "output_type": "display_data"
    },
    {
     "data": {
      "text/html": [
       "<pre style=\"white-space:pre;overflow-x:auto;line-height:normal;font-family:Menlo,'DejaVu Sans Mono',consolas,'Courier New',monospace\">param<span style=\"font-weight: bold\">[</span><span style=\"color: #008000; text-decoration-color: #008000\">'aexp'</span><span style=\"font-weight: bold\">]</span>=<span style=\"color: #008080; text-decoration-color: #008080; font-weight: bold\">0.038461538461538464</span> param<span style=\"font-weight: bold\">[</span><span style=\"color: #008000; text-decoration-color: #008000\">'t'</span><span style=\"font-weight: bold\">]</span>=<span style=\"color: #800080; text-decoration-color: #800080; font-weight: bold\">array</span><span style=\"font-weight: bold\">(</span><span style=\"color: #008080; text-decoration-color: #008080; font-weight: bold\">-15.47501364</span><span style=\"font-weight: bold\">)</span>                                                  \n",
       "</pre>\n"
      ],
      "text/plain": [
       "param\u001b[1m[\u001b[0m\u001b[32m'aexp'\u001b[0m\u001b[1m]\u001b[0m=\u001b[1;36m0.038461538461538464\u001b[0m param\u001b[1m[\u001b[0m\u001b[32m't'\u001b[0m\u001b[1m]\u001b[0m=\u001b[1;35marray\u001b[0m\u001b[1m(\u001b[0m\u001b[1;36m-15.47501364\u001b[0m\u001b[1m)\u001b[0m                                                  \n"
      ]
     },
     "metadata": {},
     "output_type": "display_data"
    },
    {
     "data": {
      "text/html": [
       "<pre style=\"white-space:pre;overflow-x:auto;line-height:normal;font-family:Menlo,'DejaVu Sans Mono',consolas,'Courier New',monospace\">                                                                                                                   \n",
       "<span style=\"color: #000080; text-decoration-color: #000080; font-weight: bold\">----- Run N-body -----</span>                                                                                             \n",
       "                                                                                                                   \n",
       "</pre>\n"
      ],
      "text/plain": [
       "                                                                                                                   \n",
       "\u001b[1;34m----- Run N-body -----\u001b[0m                                                                                             \n",
       "                                                                                                                   \n"
      ]
     },
     "metadata": {},
     "output_type": "display_data"
    },
    {
     "data": {
      "text/html": [
       "<pre style=\"white-space:pre;overflow-x:auto;line-height:normal;font-family:Menlo,'DejaVu Sans Mono',consolas,'Courier New',monospace\">Tables, <span style=\"color: #008080; text-decoration-color: #008080; font-weight: bold\">13</span>                                                                                                         \n",
       "</pre>\n"
      ],
      "text/plain": [
       "Tables, \u001b[1;36m13\u001b[0m                                                                                                         \n"
      ]
     },
     "metadata": {},
     "output_type": "display_data"
    },
    {
     "data": {
      "text/html": [
       "<pre style=\"white-space:pre;overflow-x:auto;line-height:normal;font-family:Menlo,'DejaVu Sans Mono',consolas,'Courier New',monospace\">Write <span style=\"color: #800080; text-decoration-color: #800080; font-weight: bold\">P</span><span style=\"font-weight: bold\">(</span>k<span style=\"font-weight: bold\">)</span> in .<span style=\"color: #800080; text-decoration-color: #800080\">/t4//power/</span><span style=\"color: #ff00ff; text-decoration-color: #ff00ff\">pk_eft_multigrid_ncoarse7_00000.dat</span>                                                      \n",
       "</pre>\n"
      ],
      "text/plain": [
       "Write \u001b[1;35mP\u001b[0m\u001b[1m(\u001b[0mk\u001b[1m)\u001b[0m in .\u001b[35m/t4/\u001b[0m\u001b[35m/power/\u001b[0m\u001b[95mpk_eft_multigrid_ncoarse7_00000.dat\u001b[0m                                                      \n"
      ]
     },
     "metadata": {},
     "output_type": "display_data"
    },
    {
     "name": "stdout",
     "output_type": "stream",
     "text": [
      "[2.2106410422413545e-05, 0.00011053205211206772, -1.102072196937864, 0.00013263846253448126, 0.0014792899408284025, 5.803270782919288]\n",
      "Mean chi: 0, dens: -1.4261e-09, stdev: 6.2261e-01\n"
     ]
    },
    {
     "data": {
      "text/html": [
       "<pre style=\"white-space:pre;overflow-x:auto;line-height:normal;font-family:Menlo,'DejaVu Sans Mono',consolas,'Courier New',monospace\">Write <span style=\"color: #800080; text-decoration-color: #800080; font-weight: bold\">P</span><span style=\"font-weight: bold\">(</span>k<span style=\"font-weight: bold\">)</span> in .<span style=\"color: #800080; text-decoration-color: #800080\">/t4//power/</span><span style=\"color: #ff00ff; text-decoration-color: #ff00ff\">pk_eft_multigrid_ncoarse7_00001.dat</span>                                                      \n",
       "</pre>\n"
      ],
      "text/plain": [
       "Write \u001b[1;35mP\u001b[0m\u001b[1m(\u001b[0mk\u001b[1m)\u001b[0m in .\u001b[35m/t4/\u001b[0m\u001b[35m/power/\u001b[0m\u001b[95mpk_eft_multigrid_ncoarse7_00001.dat\u001b[0m                                                      \n"
      ]
     },
     "metadata": {},
     "output_type": "display_data"
    },
    {
     "name": "stdout",
     "output_type": "stream",
     "text": [
      "[2.942203354629527e-05, 0.00014711016773147632, -1.100802061729001, 0.00017653220127777157, 0.001789940834489549, 5.533167843370523]\n",
      "Mean chi: 0, dens: 1.1642e-10, stdev: 6.4683e-01\n",
      "op111: 6.9137e-09\n"
     ]
    },
    {
     "data": {
      "text/html": [
       "<pre style=\"white-space:pre;overflow-x:auto;line-height:normal;font-family:Menlo,'DejaVu Sans Mono',consolas,'Courier New',monospace\">param<span style=\"font-weight: bold\">[</span><span style=\"color: #008000; text-decoration-color: #008000\">'nsteps'</span><span style=\"font-weight: bold\">]</span>=<span style=\"color: #008080; text-decoration-color: #008080; font-weight: bold\">1</span> param<span style=\"font-weight: bold\">[</span><span style=\"color: #008000; text-decoration-color: #008000\">'aexp'</span><span style=\"font-weight: bold\">]</span>=<span style=\"color: #008080; text-decoration-color: #008080; font-weight: bold\">0.04230769237963173</span> z = <span style=\"color: #008080; text-decoration-color: #008080; font-weight: bold\">22.636363596172686</span>                                         \n",
       "</pre>\n"
      ],
      "text/plain": [
       "param\u001b[1m[\u001b[0m\u001b[32m'nsteps'\u001b[0m\u001b[1m]\u001b[0m=\u001b[1;36m1\u001b[0m param\u001b[1m[\u001b[0m\u001b[32m'aexp'\u001b[0m\u001b[1m]\u001b[0m=\u001b[1;36m0.04230769237963173\u001b[0m z = \u001b[1;36m22.636363596172686\u001b[0m                                         \n"
      ]
     },
     "metadata": {},
     "output_type": "display_data"
    },
    {
     "data": {
      "text/html": [
       "<pre style=\"white-space:pre;overflow-x:auto;line-height:normal;font-family:Menlo,'DejaVu Sans Mono',consolas,'Courier New',monospace\">Write <span style=\"color: #800080; text-decoration-color: #800080; font-weight: bold\">P</span><span style=\"font-weight: bold\">(</span>k<span style=\"font-weight: bold\">)</span> in .<span style=\"color: #800080; text-decoration-color: #800080\">/t4//power/</span><span style=\"color: #ff00ff; text-decoration-color: #ff00ff\">pk_eft_multigrid_ncoarse7_00002.dat</span>                                                      \n",
       "</pre>\n"
      ],
      "text/plain": [
       "Write \u001b[1;35mP\u001b[0m\u001b[1m(\u001b[0mk\u001b[1m)\u001b[0m in .\u001b[35m/t4/\u001b[0m\u001b[35m/power/\u001b[0m\u001b[95mpk_eft_multigrid_ncoarse7_00002.dat\u001b[0m                                                      \n"
      ]
     },
     "metadata": {},
     "output_type": "display_data"
    },
    {
     "name": "stdout",
     "output_type": "stream",
     "text": [
      "[3.91578945114025e-05, 0.00019578947255701251, -1.0993828581532954, 0.00023494736706841502, 0.0021658284100635012, 5.2756257250934455]\n",
      "Mean chi: 0, dens: -1.4843e-09, stdev: 6.6728e-01\n",
      "op111: 1.0432e-08\n"
     ]
    },
    {
     "data": {
      "text/html": [
       "<pre style=\"white-space:pre;overflow-x:auto;line-height:normal;font-family:Menlo,'DejaVu Sans Mono',consolas,'Courier New',monospace\">param<span style=\"font-weight: bold\">[</span><span style=\"color: #008000; text-decoration-color: #008000\">'nsteps'</span><span style=\"font-weight: bold\">]</span>=<span style=\"color: #008080; text-decoration-color: #008080; font-weight: bold\">2</span> param<span style=\"font-weight: bold\">[</span><span style=\"color: #008000; text-decoration-color: #008000\">'aexp'</span><span style=\"font-weight: bold\">]</span>=<span style=\"color: #008080; text-decoration-color: #008080; font-weight: bold\">0.04653846162115268</span> z = <span style=\"color: #008080; text-decoration-color: #008080; font-weight: bold\">20.48760326760521</span>                                          \n",
       "</pre>\n"
      ],
      "text/plain": [
       "param\u001b[1m[\u001b[0m\u001b[32m'nsteps'\u001b[0m\u001b[1m]\u001b[0m=\u001b[1;36m2\u001b[0m param\u001b[1m[\u001b[0m\u001b[32m'aexp'\u001b[0m\u001b[1m]\u001b[0m=\u001b[1;36m0.04653846162115268\u001b[0m z = \u001b[1;36m20.48760326760521\u001b[0m                                          \n"
      ]
     },
     "metadata": {},
     "output_type": "display_data"
    },
    {
     "data": {
      "text/html": [
       "<pre style=\"white-space:pre;overflow-x:auto;line-height:normal;font-family:Menlo,'DejaVu Sans Mono',consolas,'Courier New',monospace\">Write <span style=\"color: #800080; text-decoration-color: #800080; font-weight: bold\">P</span><span style=\"font-weight: bold\">(</span>k<span style=\"font-weight: bold\">)</span> in .<span style=\"color: #800080; text-decoration-color: #800080\">/t4//power/</span><span style=\"color: #ff00ff; text-decoration-color: #ff00ff\">pk_eft_multigrid_ncoarse7_00003.dat</span>                                                      \n",
       "</pre>\n"
      ],
      "text/plain": [
       "Write \u001b[1;35mP\u001b[0m\u001b[1m(\u001b[0mk\u001b[1m)\u001b[0m in .\u001b[35m/t4/\u001b[0m\u001b[35m/power/\u001b[0m\u001b[95mpk_eft_multigrid_ncoarse7_00003.dat\u001b[0m                                                      \n"
      ]
     },
     "metadata": {},
     "output_type": "display_data"
    },
    {
     "name": "stdout",
     "output_type": "stream",
     "text": [
      "[5.2114140811385836e-05, 0.00026057070405692914, -1.0977930887178942, 0.00031268484486831493, 0.0026206523658910967, 5.0300574410816665]\n",
      "Mean chi: 0, dens: -1.8044e-09, stdev: 6.8360e-01\n",
      "op111: 1.5501e-08\n"
     ]
    },
    {
     "data": {
      "text/html": [
       "<pre style=\"white-space:pre;overflow-x:auto;line-height:normal;font-family:Menlo,'DejaVu Sans Mono',consolas,'Courier New',monospace\">param<span style=\"font-weight: bold\">[</span><span style=\"color: #008000; text-decoration-color: #008000\">'nsteps'</span><span style=\"font-weight: bold\">]</span>=<span style=\"color: #008080; text-decoration-color: #008080; font-weight: bold\">3</span> param<span style=\"font-weight: bold\">[</span><span style=\"color: #008000; text-decoration-color: #008000\">'aexp'</span><span style=\"font-weight: bold\">]</span>=<span style=\"color: #008080; text-decoration-color: #008080; font-weight: bold\">0.05119230768280618</span> z = <span style=\"color: #008080; text-decoration-color: #008080; font-weight: bold\">18.53418482706665</span>                                          \n",
       "</pre>\n"
      ],
      "text/plain": [
       "param\u001b[1m[\u001b[0m\u001b[32m'nsteps'\u001b[0m\u001b[1m]\u001b[0m=\u001b[1;36m3\u001b[0m param\u001b[1m[\u001b[0m\u001b[32m'aexp'\u001b[0m\u001b[1m]\u001b[0m=\u001b[1;36m0.05119230768280618\u001b[0m z = \u001b[1;36m18.53418482706665\u001b[0m                                          \n"
      ]
     },
     "metadata": {},
     "output_type": "display_data"
    },
    {
     "data": {
      "text/html": [
       "<pre style=\"white-space:pre;overflow-x:auto;line-height:normal;font-family:Menlo,'DejaVu Sans Mono',consolas,'Courier New',monospace\">Write <span style=\"color: #800080; text-decoration-color: #800080; font-weight: bold\">P</span><span style=\"font-weight: bold\">(</span>k<span style=\"font-weight: bold\">)</span> in .<span style=\"color: #800080; text-decoration-color: #800080\">/t4//power/</span><span style=\"color: #ff00ff; text-decoration-color: #ff00ff\">pk_eft_multigrid_ncoarse7_00004.dat</span>                                                      \n",
       "</pre>\n"
      ],
      "text/plain": [
       "Write \u001b[1;35mP\u001b[0m\u001b[1m(\u001b[0mk\u001b[1m)\u001b[0m in .\u001b[35m/t4/\u001b[0m\u001b[35m/power/\u001b[0m\u001b[95mpk_eft_multigrid_ncoarse7_00004.dat\u001b[0m                                                      \n"
      ]
     },
     "metadata": {},
     "output_type": "display_data"
    },
    {
     "name": "stdout",
     "output_type": "stream",
     "text": [
      "[6.93550366918178e-05, 0.000346775183459089, -1.096007074705454, 0.00041613022015090685, 0.003170989371036658, 4.795902652381467]\n",
      "Mean chi: 0, dens: -1.3679e-09, stdev: 6.9598e-01\n",
      "op111: 2.2961e-08\n"
     ]
    },
    {
     "data": {
      "text/html": [
       "<pre style=\"white-space:pre;overflow-x:auto;line-height:normal;font-family:Menlo,'DejaVu Sans Mono',consolas,'Courier New',monospace\">param<span style=\"font-weight: bold\">[</span><span style=\"color: #008000; text-decoration-color: #008000\">'nsteps'</span><span style=\"font-weight: bold\">]</span>=<span style=\"color: #008080; text-decoration-color: #008080; font-weight: bold\">4</span> param<span style=\"font-weight: bold\">[</span><span style=\"color: #008000; text-decoration-color: #008000\">'aexp'</span><span style=\"font-weight: bold\">]</span>=<span style=\"color: #008080; text-decoration-color: #008080; font-weight: bold\">0.05631153852485881</span> z = <span style=\"color: #008080; text-decoration-color: #008080; font-weight: bold\">16.758349819523197</span>                                         \n",
       "</pre>\n"
      ],
      "text/plain": [
       "param\u001b[1m[\u001b[0m\u001b[32m'nsteps'\u001b[0m\u001b[1m]\u001b[0m=\u001b[1;36m4\u001b[0m param\u001b[1m[\u001b[0m\u001b[32m'aexp'\u001b[0m\u001b[1m]\u001b[0m=\u001b[1;36m0.05631153852485881\u001b[0m z = \u001b[1;36m16.758349819523197\u001b[0m                                         \n"
      ]
     },
     "metadata": {},
     "output_type": "display_data"
    },
    {
     "data": {
      "text/html": [
       "<pre style=\"white-space:pre;overflow-x:auto;line-height:normal;font-family:Menlo,'DejaVu Sans Mono',consolas,'Courier New',monospace\">Write <span style=\"color: #800080; text-decoration-color: #800080; font-weight: bold\">P</span><span style=\"font-weight: bold\">(</span>k<span style=\"font-weight: bold\">)</span> in .<span style=\"color: #800080; text-decoration-color: #800080\">/t4//power/</span><span style=\"color: #ff00ff; text-decoration-color: #ff00ff\">pk_eft_multigrid_ncoarse7_00005.dat</span>                                                      \n",
       "</pre>\n"
      ],
      "text/plain": [
       "Write \u001b[1;35mP\u001b[0m\u001b[1m(\u001b[0mk\u001b[1m)\u001b[0m in .\u001b[35m/t4/\u001b[0m\u001b[35m/power/\u001b[0m\u001b[95mpk_eft_multigrid_ncoarse7_00005.dat\u001b[0m                                                      \n"
      ]
     },
     "metadata": {},
     "output_type": "display_data"
    },
    {
     "name": "stdout",
     "output_type": "stream",
     "text": [
      "[9.229581799419667e-05, 0.0004614790899709833, -1.0939938993613476, 0.00055377490796518, 0.003836897132826849, 4.572626292843886]\n",
      "Mean chi: 0, dens: -1.6880e-09, stdev: 7.0528e-01\n",
      "op111: 3.3921e-08\n"
     ]
    },
    {
     "data": {
      "text/html": [
       "<pre style=\"white-space:pre;overflow-x:auto;line-height:normal;font-family:Menlo,'DejaVu Sans Mono',consolas,'Courier New',monospace\">param<span style=\"font-weight: bold\">[</span><span style=\"color: #008000; text-decoration-color: #008000\">'nsteps'</span><span style=\"font-weight: bold\">]</span>=<span style=\"color: #008080; text-decoration-color: #008080; font-weight: bold\">5</span> param<span style=\"font-weight: bold\">[</span><span style=\"color: #008000; text-decoration-color: #008000\">'aexp'</span><span style=\"font-weight: bold\">]</span>=<span style=\"color: #008080; text-decoration-color: #008080; font-weight: bold\">0.06194269232788359</span> z = <span style=\"color: #008080; text-decoration-color: #008080; font-weight: bold\">15.143954394275635</span>                                         \n",
       "</pre>\n"
      ],
      "text/plain": [
       "param\u001b[1m[\u001b[0m\u001b[32m'nsteps'\u001b[0m\u001b[1m]\u001b[0m=\u001b[1;36m5\u001b[0m param\u001b[1m[\u001b[0m\u001b[32m'aexp'\u001b[0m\u001b[1m]\u001b[0m=\u001b[1;36m0.06194269232788359\u001b[0m z = \u001b[1;36m15.143954394275635\u001b[0m                                         \n"
      ]
     },
     "metadata": {},
     "output_type": "display_data"
    },
    {
     "data": {
      "text/html": [
       "<pre style=\"white-space:pre;overflow-x:auto;line-height:normal;font-family:Menlo,'DejaVu Sans Mono',consolas,'Courier New',monospace\">Write <span style=\"color: #800080; text-decoration-color: #800080; font-weight: bold\">P</span><span style=\"font-weight: bold\">(</span>k<span style=\"font-weight: bold\">)</span> in .<span style=\"color: #800080; text-decoration-color: #800080\">/t4//power/</span><span style=\"color: #ff00ff; text-decoration-color: #ff00ff\">pk_eft_multigrid_ncoarse7_00006.dat</span>                                                      \n",
       "</pre>\n"
      ],
      "text/plain": [
       "Write \u001b[1;35mP\u001b[0m\u001b[1m(\u001b[0mk\u001b[1m)\u001b[0m in .\u001b[35m/t4/\u001b[0m\u001b[35m/power/\u001b[0m\u001b[95mpk_eft_multigrid_ncoarse7_00006.dat\u001b[0m                                                      \n"
      ]
     },
     "metadata": {},
     "output_type": "display_data"
    },
    {
     "name": "stdout",
     "output_type": "stream",
     "text": [
      "[0.00012281786817304759, 0.0006140893408652378, -1.0917160421142345, 0.0007369072090382852, 0.0046426455297645195, 4.359717125402892]\n",
      "Mean chi: 0, dens: -2.6776e-09, stdev: 7.1289e-01\n",
      "op111: 4.9956e-08\n"
     ]
    },
    {
     "data": {
      "text/html": [
       "<pre style=\"white-space:pre;overflow-x:auto;line-height:normal;font-family:Menlo,'DejaVu Sans Mono',consolas,'Courier New',monospace\">param<span style=\"font-weight: bold\">[</span><span style=\"color: #008000; text-decoration-color: #008000\">'nsteps'</span><span style=\"font-weight: bold\">]</span>=<span style=\"color: #008080; text-decoration-color: #008080; font-weight: bold\">6</span> param<span style=\"font-weight: bold\">[</span><span style=\"color: #008000; text-decoration-color: #008000\">'aexp'</span><span style=\"font-weight: bold\">]</span>=<span style=\"color: #008080; text-decoration-color: #008080; font-weight: bold\">0.06813696155365691</span> z = <span style=\"color: #008080; text-decoration-color: #008080; font-weight: bold\">13.676322178125215</span>                                         \n",
       "</pre>\n"
      ],
      "text/plain": [
       "param\u001b[1m[\u001b[0m\u001b[32m'nsteps'\u001b[0m\u001b[1m]\u001b[0m=\u001b[1;36m6\u001b[0m param\u001b[1m[\u001b[0m\u001b[32m'aexp'\u001b[0m\u001b[1m]\u001b[0m=\u001b[1;36m0.06813696155365691\u001b[0m z = \u001b[1;36m13.676322178125215\u001b[0m                                         \n"
      ]
     },
     "metadata": {},
     "output_type": "display_data"
    },
    {
     "data": {
      "text/html": [
       "<pre style=\"white-space:pre;overflow-x:auto;line-height:normal;font-family:Menlo,'DejaVu Sans Mono',consolas,'Courier New',monospace\">Write <span style=\"color: #800080; text-decoration-color: #800080; font-weight: bold\">P</span><span style=\"font-weight: bold\">(</span>k<span style=\"font-weight: bold\">)</span> in .<span style=\"color: #800080; text-decoration-color: #800080\">/t4//power/</span><span style=\"color: #ff00ff; text-decoration-color: #ff00ff\">pk_eft_multigrid_ncoarse7_00007.dat</span>                                                      \n",
       "</pre>\n"
      ],
      "text/plain": [
       "Write \u001b[1;35mP\u001b[0m\u001b[1m(\u001b[0mk\u001b[1m)\u001b[0m in .\u001b[35m/t4/\u001b[0m\u001b[35m/power/\u001b[0m\u001b[95mpk_eft_multigrid_ncoarse7_00007.dat\u001b[0m                                                      \n"
      ]
     },
     "metadata": {},
     "output_type": "display_data"
    },
    {
     "name": "stdout",
     "output_type": "stream",
     "text": [
      "[0.00016342124396836625, 0.0008171062198418312, -1.0891276106028596, 0.0009805274638101974, 0.005617601110256322, 4.156686376917906]\n",
      "Mean chi: 0, dens: -1.4115e-09, stdev: 7.2035e-01\n",
      "op111: 7.3283e-08\n"
     ]
    },
    {
     "data": {
      "text/html": [
       "<pre style=\"white-space:pre;overflow-x:auto;line-height:normal;font-family:Menlo,'DejaVu Sans Mono',consolas,'Courier New',monospace\">param<span style=\"font-weight: bold\">[</span><span style=\"color: #008000; text-decoration-color: #008000\">'nsteps'</span><span style=\"font-weight: bold\">]</span>=<span style=\"color: #008080; text-decoration-color: #008080; font-weight: bold\">7</span> param<span style=\"font-weight: bold\">[</span><span style=\"color: #008000; text-decoration-color: #008000\">'aexp'</span><span style=\"font-weight: bold\">]</span>=<span style=\"color: #008080; text-decoration-color: #008080; font-weight: bold\">0.07495065783738207</span> z = <span style=\"color: #008080; text-decoration-color: #008080; font-weight: bold\">12.342111048173406</span>                                         \n",
       "</pre>\n"
      ],
      "text/plain": [
       "param\u001b[1m[\u001b[0m\u001b[32m'nsteps'\u001b[0m\u001b[1m]\u001b[0m=\u001b[1;36m7\u001b[0m param\u001b[1m[\u001b[0m\u001b[32m'aexp'\u001b[0m\u001b[1m]\u001b[0m=\u001b[1;36m0.07495065783738207\u001b[0m z = \u001b[1;36m12.342111048173406\u001b[0m                                         \n"
      ]
     },
     "metadata": {},
     "output_type": "display_data"
    },
    {
     "data": {
      "text/html": [
       "<pre style=\"white-space:pre;overflow-x:auto;line-height:normal;font-family:Menlo,'DejaVu Sans Mono',consolas,'Courier New',monospace\">Write <span style=\"color: #800080; text-decoration-color: #800080; font-weight: bold\">P</span><span style=\"font-weight: bold\">(</span>k<span style=\"font-weight: bold\">)</span> in .<span style=\"color: #800080; text-decoration-color: #800080\">/t4//power/</span><span style=\"color: #ff00ff; text-decoration-color: #ff00ff\">pk_eft_multigrid_ncoarse7_00008.dat</span>                                                      \n",
       "</pre>\n"
      ],
      "text/plain": [
       "Write \u001b[1;35mP\u001b[0m\u001b[1m(\u001b[0mk\u001b[1m)\u001b[0m in .\u001b[35m/t4/\u001b[0m\u001b[35m/power/\u001b[0m\u001b[95mpk_eft_multigrid_ncoarse7_00008.dat\u001b[0m                                                      \n"
      ]
     },
     "metadata": {},
     "output_type": "display_data"
    },
    {
     "name": "stdout",
     "output_type": "stream",
     "text": [
      "[0.0002174263313969082, 0.001087131656984541, -1.0861720471152125, 0.0013045579883814492, 0.006797297384673466, 3.9630663381991433]\n",
      "Mean chi: 0, dens: -2.8376e-09, stdev: 7.2892e-01\n",
      "op111: 1.0698e-07\n"
     ]
    },
    {
     "data": {
      "text/html": [
       "<pre style=\"white-space:pre;overflow-x:auto;line-height:normal;font-family:Menlo,'DejaVu Sans Mono',consolas,'Courier New',monospace\">param<span style=\"font-weight: bold\">[</span><span style=\"color: #008000; text-decoration-color: #008000\">'nsteps'</span><span style=\"font-weight: bold\">]</span>=<span style=\"color: #008080; text-decoration-color: #008080; font-weight: bold\">8</span> param<span style=\"font-weight: bold\">[</span><span style=\"color: #008000; text-decoration-color: #008000\">'aexp'</span><span style=\"font-weight: bold\">]</span>=<span style=\"color: #008080; text-decoration-color: #008080; font-weight: bold\">0.08244572387136562</span> z = <span style=\"color: #008080; text-decoration-color: #008080; font-weight: bold\">11.129191825160406</span>                                         \n",
       "</pre>\n"
      ],
      "text/plain": [
       "param\u001b[1m[\u001b[0m\u001b[32m'nsteps'\u001b[0m\u001b[1m]\u001b[0m=\u001b[1;36m8\u001b[0m param\u001b[1m[\u001b[0m\u001b[32m'aexp'\u001b[0m\u001b[1m]\u001b[0m=\u001b[1;36m0.08244572387136562\u001b[0m z = \u001b[1;36m11.129191825160406\u001b[0m                                         \n"
      ]
     },
     "metadata": {},
     "output_type": "display_data"
    },
    {
     "data": {
      "text/html": [
       "<pre style=\"white-space:pre;overflow-x:auto;line-height:normal;font-family:Menlo,'DejaVu Sans Mono',consolas,'Courier New',monospace\">Write <span style=\"color: #800080; text-decoration-color: #800080; font-weight: bold\">P</span><span style=\"font-weight: bold\">(</span>k<span style=\"font-weight: bold\">)</span> in .<span style=\"color: #800080; text-decoration-color: #800080\">/t4//power/</span><span style=\"color: #ff00ff; text-decoration-color: #ff00ff\">pk_eft_multigrid_ncoarse7_00009.dat</span>                                                      \n",
       "</pre>\n"
      ],
      "text/plain": [
       "Write \u001b[1;35mP\u001b[0m\u001b[1m(\u001b[0mk\u001b[1m)\u001b[0m in .\u001b[35m/t4/\u001b[0m\u001b[35m/power/\u001b[0m\u001b[95mpk_eft_multigrid_ncoarse7_00009.dat\u001b[0m                                                      \n"
      ]
     },
     "metadata": {},
     "output_type": "display_data"
    },
    {
     "name": "stdout",
     "output_type": "stream",
     "text": [
      "[0.0002892398508986685, 0.0014461992544933424, -1.0827791510901656, 0.001735439105392011, 0.008224729804049483, 3.7784089453854257]\n",
      "Mean chi: 0, dens: 9.6043e-10, stdev: 7.3938e-01\n",
      "op111: 1.5529e-07\n"
     ]
    },
    {
     "data": {
      "text/html": [
       "<pre style=\"white-space:pre;overflow-x:auto;line-height:normal;font-family:Menlo,'DejaVu Sans Mono',consolas,'Courier New',monospace\">param<span style=\"font-weight: bold\">[</span><span style=\"color: #008000; text-decoration-color: #008000\">'nsteps'</span><span style=\"font-weight: bold\">]</span>=<span style=\"color: #008080; text-decoration-color: #008080; font-weight: bold\">9</span> param<span style=\"font-weight: bold\">[</span><span style=\"color: #008000; text-decoration-color: #008000\">'aexp'</span><span style=\"font-weight: bold\">]</span>=<span style=\"color: #008080; text-decoration-color: #008080; font-weight: bold\">0.0906902960853557</span> z = <span style=\"color: #008080; text-decoration-color: #008080; font-weight: bold\">10.026538043925031</span>                                          \n",
       "</pre>\n"
      ],
      "text/plain": [
       "param\u001b[1m[\u001b[0m\u001b[32m'nsteps'\u001b[0m\u001b[1m]\u001b[0m=\u001b[1;36m9\u001b[0m param\u001b[1m[\u001b[0m\u001b[32m'aexp'\u001b[0m\u001b[1m]\u001b[0m=\u001b[1;36m0.0906902960853557\u001b[0m z = \u001b[1;36m10.026538043925031\u001b[0m                                          \n"
      ]
     },
     "metadata": {},
     "output_type": "display_data"
    },
    {
     "data": {
      "text/html": [
       "<pre style=\"white-space:pre;overflow-x:auto;line-height:normal;font-family:Menlo,'DejaVu Sans Mono',consolas,'Courier New',monospace\">Write <span style=\"color: #800080; text-decoration-color: #800080; font-weight: bold\">P</span><span style=\"font-weight: bold\">(</span>k<span style=\"font-weight: bold\">)</span> in .<span style=\"color: #800080; text-decoration-color: #800080\">/t4//power/</span><span style=\"color: #ff00ff; text-decoration-color: #ff00ff\">pk_eft_multigrid_ncoarse7_00010.dat</span>                                                      \n",
       "</pre>\n"
      ],
      "text/plain": [
       "Write \u001b[1;35mP\u001b[0m\u001b[1m(\u001b[0mk\u001b[1m)\u001b[0m in .\u001b[35m/t4/\u001b[0m\u001b[35m/power/\u001b[0m\u001b[95mpk_eft_multigrid_ncoarse7_00010.dat\u001b[0m                                                      \n"
      ]
     },
     "metadata": {},
     "output_type": "display_data"
    },
    {
     "name": "stdout",
     "output_type": "stream",
     "text": [
      "[0.00029133378140470983, 0.001456668907023549, -1.0826869791575615, 0.0017480026884282589, 0.008264462809917354, 3.77385277718221]\n",
      "Mean chi: 0, dens: -2.3574e-09, stdev: 7.3967e-01\n",
      "op111: 1.9664e-07\n"
     ]
    },
    {
     "data": {
      "text/html": [
       "<pre style=\"white-space:pre;overflow-x:auto;line-height:normal;font-family:Menlo,'DejaVu Sans Mono',consolas,'Courier New',monospace\">Snapshot written at <span style=\"color: #808000; text-decoration-color: #808000\">...</span><span style=\"color: #808000; text-decoration-color: #808000\">filename</span>=<span style=\"color: #008000; text-decoration-color: #008000\">'./t4//output_00001/particles_eft_multigrid_ncoarse7.h5'</span>                           \n",
       "param<span style=\"font-weight: bold\">[</span><span style=\"color: #008000; text-decoration-color: #008000\">'aexp'</span><span style=\"font-weight: bold\">]</span>=<span style=\"color: #008080; text-decoration-color: #008080; font-weight: bold\">0.0909090909090909</span>                                                                                   \n",
       "</pre>\n"
      ],
      "text/plain": [
       "Snapshot written at \u001b[33m...\u001b[0m\u001b[33mfilename\u001b[0m=\u001b[32m'./t4//output_00001/particles_eft_multigrid_ncoarse7.h5'\u001b[0m                           \n",
       "param\u001b[1m[\u001b[0m\u001b[32m'aexp'\u001b[0m\u001b[1m]\u001b[0m=\u001b[1;36m0.0909090909090909\u001b[0m                                                                                   \n"
      ]
     },
     "metadata": {},
     "output_type": "display_data"
    },
    {
     "data": {
      "text/html": [
       "<pre style=\"white-space:pre;overflow-x:auto;line-height:normal;font-family:Menlo,'DejaVu Sans Mono',consolas,'Courier New',monospace\">param<span style=\"font-weight: bold\">[</span><span style=\"color: #008000; text-decoration-color: #008000\">'nsteps'</span><span style=\"font-weight: bold\">]</span>=<span style=\"color: #008080; text-decoration-color: #008080; font-weight: bold\">10</span> param<span style=\"font-weight: bold\">[</span><span style=\"color: #008000; text-decoration-color: #008000\">'aexp'</span><span style=\"font-weight: bold\">]</span>=<span style=\"color: #008080; text-decoration-color: #008080; font-weight: bold\">0.0909090909090909</span> z = <span style=\"color: #008080; text-decoration-color: #008080; font-weight: bold\">10.000000000000002</span>                                         \n",
       "</pre>\n"
      ],
      "text/plain": [
       "param\u001b[1m[\u001b[0m\u001b[32m'nsteps'\u001b[0m\u001b[1m]\u001b[0m=\u001b[1;36m10\u001b[0m param\u001b[1m[\u001b[0m\u001b[32m'aexp'\u001b[0m\u001b[1m]\u001b[0m=\u001b[1;36m0.0909090909090909\u001b[0m z = \u001b[1;36m10.000000000000002\u001b[0m                                         \n"
      ]
     },
     "metadata": {},
     "output_type": "display_data"
    },
    {
     "data": {
      "text/html": [
       "<pre style=\"white-space:pre;overflow-x:auto;line-height:normal;font-family:Menlo,'DejaVu Sans Mono',consolas,'Courier New',monospace\">Write <span style=\"color: #800080; text-decoration-color: #800080; font-weight: bold\">P</span><span style=\"font-weight: bold\">(</span>k<span style=\"font-weight: bold\">)</span> in .<span style=\"color: #800080; text-decoration-color: #800080\">/t4//power/</span><span style=\"color: #ff00ff; text-decoration-color: #ff00ff\">pk_eft_multigrid_ncoarse7_00011.dat</span>                                                      \n",
       "</pre>\n"
      ],
      "text/plain": [
       "Write \u001b[1;35mP\u001b[0m\u001b[1m(\u001b[0mk\u001b[1m)\u001b[0m in .\u001b[35m/t4/\u001b[0m\u001b[35m/power/\u001b[0m\u001b[95mpk_eft_multigrid_ncoarse7_00011.dat\u001b[0m                                                      \n"
      ]
     },
     "metadata": {},
     "output_type": "display_data"
    },
    {
     "name": "stdout",
     "output_type": "stream",
     "text": [
      "[0.00038748775472831776, 0.0019374387736415886, -1.0787544459047973, 0.002324926528369906, 0.009999999963564403, 3.5979384067453775]\n",
      "Mean chi: 0, dens: -2.1828e-09, stdev: 7.5267e-01\n",
      "op111: 2.2960e-07\n"
     ]
    },
    {
     "data": {
      "text/html": [
       "<pre style=\"white-space:pre;overflow-x:auto;line-height:normal;font-family:Menlo,'DejaVu Sans Mono',consolas,'Courier New',monospace\">param<span style=\"font-weight: bold\">[</span><span style=\"color: #008000; text-decoration-color: #008000\">'nsteps'</span><span style=\"font-weight: bold\">]</span>=<span style=\"color: #008080; text-decoration-color: #008080; font-weight: bold\">11</span> param<span style=\"font-weight: bold\">[</span><span style=\"color: #008000; text-decoration-color: #008000\">'aexp'</span><span style=\"font-weight: bold\">]</span>=<span style=\"color: #008080; text-decoration-color: #008080; font-weight: bold\">0.09999999981782201</span> z = <span style=\"color: #008080; text-decoration-color: #008080; font-weight: bold\">9.000000018217799</span>                                         \n",
       "</pre>\n"
      ],
      "text/plain": [
       "param\u001b[1m[\u001b[0m\u001b[32m'nsteps'\u001b[0m\u001b[1m]\u001b[0m=\u001b[1;36m11\u001b[0m param\u001b[1m[\u001b[0m\u001b[32m'aexp'\u001b[0m\u001b[1m]\u001b[0m=\u001b[1;36m0.09999999981782201\u001b[0m z = \u001b[1;36m9.000000018217799\u001b[0m                                         \n"
      ]
     },
     "metadata": {},
     "output_type": "display_data"
    },
    {
     "data": {
      "text/html": [
       "<pre style=\"white-space:pre;overflow-x:auto;line-height:normal;font-family:Menlo,'DejaVu Sans Mono',consolas,'Courier New',monospace\">Write <span style=\"color: #800080; text-decoration-color: #800080; font-weight: bold\">P</span><span style=\"font-weight: bold\">(</span>k<span style=\"font-weight: bold\">)</span> in .<span style=\"color: #800080; text-decoration-color: #800080\">/t4//power/</span><span style=\"color: #ff00ff; text-decoration-color: #ff00ff\">pk_eft_multigrid_ncoarse7_00012.dat</span>                                                      \n",
       "</pre>\n"
      ],
      "text/plain": [
       "Write \u001b[1;35mP\u001b[0m\u001b[1m(\u001b[0mk\u001b[1m)\u001b[0m in .\u001b[35m/t4/\u001b[0m\u001b[35m/power/\u001b[0m\u001b[95mpk_eft_multigrid_ncoarse7_00012.dat\u001b[0m                                                      \n"
      ]
     },
     "metadata": {},
     "output_type": "display_data"
    },
    {
     "name": "stdout",
     "output_type": "stream",
     "text": [
      "[0.0005152554088865719, 0.002576277044432859, -1.0741835117125795, 0.0030915324533194303, 0.012100000068773759, 3.4301331965155146]\n",
      "Mean chi: 0, dens: -2.0009e-09, stdev: 7.6874e-01\n",
      "op111: 3.2601e-07\n"
     ]
    },
    {
     "data": {
      "text/html": [
       "<pre style=\"white-space:pre;overflow-x:auto;line-height:normal;font-family:Menlo,'DejaVu Sans Mono',consolas,'Courier New',monospace\">param<span style=\"font-weight: bold\">[</span><span style=\"color: #008000; text-decoration-color: #008000\">'nsteps'</span><span style=\"font-weight: bold\">]</span>=<span style=\"color: #008080; text-decoration-color: #008080; font-weight: bold\">12</span> param<span style=\"font-weight: bold\">[</span><span style=\"color: #008000; text-decoration-color: #008000\">'aexp'</span><span style=\"font-weight: bold\">]</span>=<span style=\"color: #008080; text-decoration-color: #008080; font-weight: bold\">0.110000000312608</span> z = <span style=\"color: #008080; text-decoration-color: #008080; font-weight: bold\">8.090909065073719</span>                                           \n",
       "</pre>\n"
      ],
      "text/plain": [
       "param\u001b[1m[\u001b[0m\u001b[32m'nsteps'\u001b[0m\u001b[1m]\u001b[0m=\u001b[1;36m12\u001b[0m param\u001b[1m[\u001b[0m\u001b[32m'aexp'\u001b[0m\u001b[1m]\u001b[0m=\u001b[1;36m0.110000000312608\u001b[0m z = \u001b[1;36m8.090909065073719\u001b[0m                                           \n"
      ]
     },
     "metadata": {},
     "output_type": "display_data"
    },
    {
     "data": {
      "text/html": [
       "<pre style=\"white-space:pre;overflow-x:auto;line-height:normal;font-family:Menlo,'DejaVu Sans Mono',consolas,'Courier New',monospace\">Write <span style=\"color: #800080; text-decoration-color: #800080; font-weight: bold\">P</span><span style=\"font-weight: bold\">(</span>k<span style=\"font-weight: bold\">)</span> in .<span style=\"color: #800080; text-decoration-color: #800080\">/t4//power/</span><span style=\"color: #ff00ff; text-decoration-color: #ff00ff\">pk_eft_multigrid_ncoarse7_00013.dat</span>                                                      \n",
       "</pre>\n"
      ],
      "text/plain": [
       "Write \u001b[1;35mP\u001b[0m\u001b[1m(\u001b[0mk\u001b[1m)\u001b[0m in .\u001b[35m/t4/\u001b[0m\u001b[35m/power/\u001b[0m\u001b[95mpk_eft_multigrid_ncoarse7_00013.dat\u001b[0m                                                      \n"
      ]
     },
     "metadata": {},
     "output_type": "display_data"
    },
    {
     "name": "stdout",
     "output_type": "stream",
     "text": [
      "[0.0005309652566070105, 0.002654826283035052, -1.0736588860962049, 0.003185791539642062, 0.012345679012345675, 3.412894588386653]\n",
      "Mean chi: 0, dens: 2.7649e-10, stdev: 7.7065e-01\n",
      "op111: 4.1057e-07\n"
     ]
    },
    {
     "data": {
      "text/html": [
       "<pre style=\"white-space:pre;overflow-x:auto;line-height:normal;font-family:Menlo,'DejaVu Sans Mono',consolas,'Courier New',monospace\">Snapshot written at <span style=\"color: #808000; text-decoration-color: #808000\">...</span><span style=\"color: #808000; text-decoration-color: #808000\">filename</span>=<span style=\"color: #008000; text-decoration-color: #008000\">'./t4//output_00002/particles_eft_multigrid_ncoarse7.h5'</span>                           \n",
       "param<span style=\"font-weight: bold\">[</span><span style=\"color: #008000; text-decoration-color: #008000\">'aexp'</span><span style=\"font-weight: bold\">]</span>=<span style=\"color: #008080; text-decoration-color: #008080; font-weight: bold\">0.11111111111111109</span>                                                                                  \n",
       "</pre>\n"
      ],
      "text/plain": [
       "Snapshot written at \u001b[33m...\u001b[0m\u001b[33mfilename\u001b[0m=\u001b[32m'./t4//output_00002/particles_eft_multigrid_ncoarse7.h5'\u001b[0m                           \n",
       "param\u001b[1m[\u001b[0m\u001b[32m'aexp'\u001b[0m\u001b[1m]\u001b[0m=\u001b[1;36m0.11111111111111109\u001b[0m                                                                                  \n"
      ]
     },
     "metadata": {},
     "output_type": "display_data"
    },
    {
     "data": {
      "text/html": [
       "<pre style=\"white-space:pre;overflow-x:auto;line-height:normal;font-family:Menlo,'DejaVu Sans Mono',consolas,'Courier New',monospace\">param<span style=\"font-weight: bold\">[</span><span style=\"color: #008000; text-decoration-color: #008000\">'nsteps'</span><span style=\"font-weight: bold\">]</span>=<span style=\"color: #008080; text-decoration-color: #008080; font-weight: bold\">13</span> param<span style=\"font-weight: bold\">[</span><span style=\"color: #008000; text-decoration-color: #008000\">'aexp'</span><span style=\"font-weight: bold\">]</span>=<span style=\"color: #008080; text-decoration-color: #008080; font-weight: bold\">0.11111111111111109</span> z = <span style=\"color: #008080; text-decoration-color: #008080; font-weight: bold\">8.000000000000002</span>                                         \n",
       "</pre>\n"
      ],
      "text/plain": [
       "param\u001b[1m[\u001b[0m\u001b[32m'nsteps'\u001b[0m\u001b[1m]\u001b[0m=\u001b[1;36m13\u001b[0m param\u001b[1m[\u001b[0m\u001b[32m'aexp'\u001b[0m\u001b[1m]\u001b[0m=\u001b[1;36m0.11111111111111109\u001b[0m z = \u001b[1;36m8.000000000000002\u001b[0m                                         \n"
      ]
     },
     "metadata": {},
     "output_type": "display_data"
    },
    {
     "data": {
      "text/html": [
       "<pre style=\"white-space:pre;overflow-x:auto;line-height:normal;font-family:Menlo,'DejaVu Sans Mono',consolas,'Courier New',monospace\">Write <span style=\"color: #800080; text-decoration-color: #800080; font-weight: bold\">P</span><span style=\"font-weight: bold\">(</span>k<span style=\"font-weight: bold\">)</span> in .<span style=\"color: #800080; text-decoration-color: #800080\">/t4//power/</span><span style=\"color: #ff00ff; text-decoration-color: #ff00ff\">pk_eft_multigrid_ncoarse7_00014.dat</span>                                                      \n",
       "</pre>\n"
      ],
      "text/plain": [
       "Write \u001b[1;35mP\u001b[0m\u001b[1m(\u001b[0mk\u001b[1m)\u001b[0m in .\u001b[35m/t4/\u001b[0m\u001b[35m/power/\u001b[0m\u001b[95mpk_eft_multigrid_ncoarse7_00014.dat\u001b[0m                                                      \n"
      ]
     },
     "metadata": {},
     "output_type": "display_data"
    },
    {
     "name": "stdout",
     "output_type": "stream",
     "text": [
      "[0.0007057935377672569, 0.003528967688836284, -1.0682178017743378, 0.004234761226603541, 0.014938271751435845, 3.253591064751558]\n",
      "Mean chi: 0, dens: -1.5716e-09, stdev: 7.9086e-01\n",
      "op111: 4.8669e-07\n"
     ]
    },
    {
     "data": {
      "text/html": [
       "<pre style=\"white-space:pre;overflow-x:auto;line-height:normal;font-family:Menlo,'DejaVu Sans Mono',consolas,'Courier New',monospace\">param<span style=\"font-weight: bold\">[</span><span style=\"color: #008000; text-decoration-color: #008000\">'nsteps'</span><span style=\"font-weight: bold\">]</span>=<span style=\"color: #008080; text-decoration-color: #008080; font-weight: bold\">14</span> param<span style=\"font-weight: bold\">[</span><span style=\"color: #008000; text-decoration-color: #008000\">'aexp'</span><span style=\"font-weight: bold\">]</span>=<span style=\"color: #008080; text-decoration-color: #008080; font-weight: bold\">0.12222222282153047</span> z = <span style=\"color: #008080; text-decoration-color: #008080; font-weight: bold\">7.1818181416992</span>                                           \n",
       "</pre>\n"
      ],
      "text/plain": [
       "param\u001b[1m[\u001b[0m\u001b[32m'nsteps'\u001b[0m\u001b[1m]\u001b[0m=\u001b[1;36m14\u001b[0m param\u001b[1m[\u001b[0m\u001b[32m'aexp'\u001b[0m\u001b[1m]\u001b[0m=\u001b[1;36m0.12222222282153047\u001b[0m z = \u001b[1;36m7.1818181416992\u001b[0m                                           \n"
      ]
     },
     "metadata": {},
     "output_type": "display_data"
    },
    {
     "data": {
      "text/html": [
       "<pre style=\"white-space:pre;overflow-x:auto;line-height:normal;font-family:Menlo,'DejaVu Sans Mono',consolas,'Courier New',monospace\">Write <span style=\"color: #800080; text-decoration-color: #800080; font-weight: bold\">P</span><span style=\"font-weight: bold\">(</span>k<span style=\"font-weight: bold\">)</span> in .<span style=\"color: #800080; text-decoration-color: #800080\">/t4//power/</span><span style=\"color: #ff00ff; text-decoration-color: #ff00ff\">pk_eft_multigrid_ncoarse7_00015.dat</span>                                                      \n",
       "</pre>\n"
      ],
      "text/plain": [
       "Write \u001b[1;35mP\u001b[0m\u001b[1m(\u001b[0mk\u001b[1m)\u001b[0m in .\u001b[35m/t4/\u001b[0m\u001b[35m/power/\u001b[0m\u001b[95mpk_eft_multigrid_ncoarse7_00015.dat\u001b[0m                                                      \n"
      ]
     },
     "metadata": {},
     "output_type": "display_data"
    },
    {
     "name": "stdout",
     "output_type": "stream",
     "text": [
      "[0.0009377841497090889, 0.0046889207485454444, -1.0617993235513385, 0.005626704898254533, 0.01807530900277058, 3.1015739988455215]\n",
      "Mean chi: 0, dens: 1.7462e-10, stdev: 8.1579e-01\n",
      "op111: 6.8217e-07\n"
     ]
    },
    {
     "data": {
      "text/html": [
       "<pre style=\"white-space:pre;overflow-x:auto;line-height:normal;font-family:Menlo,'DejaVu Sans Mono',consolas,'Courier New',monospace\">param<span style=\"font-weight: bold\">[</span><span style=\"color: #008000; text-decoration-color: #008000\">'nsteps'</span><span style=\"font-weight: bold\">]</span>=<span style=\"color: #008080; text-decoration-color: #008080; font-weight: bold\">15</span> param<span style=\"font-weight: bold\">[</span><span style=\"color: #008000; text-decoration-color: #008000\">'aexp'</span><span style=\"font-weight: bold\">]</span>=<span style=\"color: #008080; text-decoration-color: #008080; font-weight: bold\">0.13444444578624504</span> z = <span style=\"color: #008080; text-decoration-color: #008080; font-weight: bold\">6.438016454691724</span>                                         \n",
       "</pre>\n"
      ],
      "text/plain": [
       "param\u001b[1m[\u001b[0m\u001b[32m'nsteps'\u001b[0m\u001b[1m]\u001b[0m=\u001b[1;36m15\u001b[0m param\u001b[1m[\u001b[0m\u001b[32m'aexp'\u001b[0m\u001b[1m]\u001b[0m=\u001b[1;36m0.13444444578624504\u001b[0m z = \u001b[1;36m6.438016454691724\u001b[0m                                         \n"
      ]
     },
     "metadata": {},
     "output_type": "display_data"
    },
    {
     "data": {
      "text/html": [
       "<pre style=\"white-space:pre;overflow-x:auto;line-height:normal;font-family:Menlo,'DejaVu Sans Mono',consolas,'Courier New',monospace\">Write <span style=\"color: #800080; text-decoration-color: #800080; font-weight: bold\">P</span><span style=\"font-weight: bold\">(</span>k<span style=\"font-weight: bold\">)</span> in .<span style=\"color: #800080; text-decoration-color: #800080\">/t4//power/</span><span style=\"color: #ff00ff; text-decoration-color: #ff00ff\">pk_eft_multigrid_ncoarse7_00016.dat</span>                                                      \n",
       "</pre>\n"
      ],
      "text/plain": [
       "Write \u001b[1;35mP\u001b[0m\u001b[1m(\u001b[0mk\u001b[1m)\u001b[0m in .\u001b[35m/t4/\u001b[0m\u001b[35m/power/\u001b[0m\u001b[95mpk_eft_multigrid_ncoarse7_00016.dat\u001b[0m                                                      \n"
      ]
     },
     "metadata": {},
     "output_type": "display_data"
    },
    {
     "name": "stdout",
     "output_type": "stream",
     "text": [
      "[0.0012453198672461678, 0.0062265993362308385, -1.054171774748453, 0.007471919203477006, 0.021871123838284715, 2.9564708024067063]\n",
      "Mean chi: 0, dens: -1.0041e-09, stdev: 8.4694e-01\n",
      "op111: 9.5763e-07\n"
     ]
    },
    {
     "data": {
      "text/html": [
       "<pre style=\"white-space:pre;overflow-x:auto;line-height:normal;font-family:Menlo,'DejaVu Sans Mono',consolas,'Courier New',monospace\">param<span style=\"font-weight: bold\">[</span><span style=\"color: #008000; text-decoration-color: #008000\">'nsteps'</span><span style=\"font-weight: bold\">]</span>=<span style=\"color: #008080; text-decoration-color: #008080; font-weight: bold\">16</span> param<span style=\"font-weight: bold\">[</span><span style=\"color: #008000; text-decoration-color: #008000\">'aexp'</span><span style=\"font-weight: bold\">]</span>=<span style=\"color: #008080; text-decoration-color: #008080; font-weight: bold\">0.14788889017869028</span> z = <span style=\"color: #008080; text-decoration-color: #008080; font-weight: bold\">5.7618331491414</span>                                           \n",
       "</pre>\n"
      ],
      "text/plain": [
       "param\u001b[1m[\u001b[0m\u001b[32m'nsteps'\u001b[0m\u001b[1m]\u001b[0m=\u001b[1;36m16\u001b[0m param\u001b[1m[\u001b[0m\u001b[32m'aexp'\u001b[0m\u001b[1m]\u001b[0m=\u001b[1;36m0.14788889017869028\u001b[0m z = \u001b[1;36m5.7618331491414\u001b[0m                                           \n"
      ]
     },
     "metadata": {},
     "output_type": "display_data"
    },
    {
     "data": {
      "text/html": [
       "<pre style=\"white-space:pre;overflow-x:auto;line-height:normal;font-family:Menlo,'DejaVu Sans Mono',consolas,'Courier New',monospace\">Write <span style=\"color: #800080; text-decoration-color: #800080; font-weight: bold\">P</span><span style=\"font-weight: bold\">(</span>k<span style=\"font-weight: bold\">)</span> in .<span style=\"color: #800080; text-decoration-color: #800080\">/t4//power/</span><span style=\"color: #ff00ff; text-decoration-color: #ff00ff\">pk_eft_multigrid_ncoarse7_00017.dat</span>                                                      \n",
       "</pre>\n"
      ],
      "text/plain": [
       "Write \u001b[1;35mP\u001b[0m\u001b[1m(\u001b[0mk\u001b[1m)\u001b[0m in .\u001b[35m/t4/\u001b[0m\u001b[35m/power/\u001b[0m\u001b[95mpk_eft_multigrid_ncoarse7_00017.dat\u001b[0m                                                      \n"
      ]
     },
     "metadata": {},
     "output_type": "display_data"
    },
    {
     "name": "stdout",
     "output_type": "stream",
     "text": [
      "[0.0016524620671844023, 0.00826231033592201, -1.0450401426292126, 0.009914772403106412, 0.026464059770972666, 2.8179176643103347]\n",
      "Mean chi: 0, dens: -2.1828e-09, stdev: 8.8589e-01\n",
      "op111: 1.3421e-06\n"
     ]
    },
    {
     "data": {
      "text/html": [
       "<pre style=\"white-space:pre;overflow-x:auto;line-height:normal;font-family:Menlo,'DejaVu Sans Mono',consolas,'Courier New',monospace\">param<span style=\"font-weight: bold\">[</span><span style=\"color: #008000; text-decoration-color: #008000\">'nsteps'</span><span style=\"font-weight: bold\">]</span>=<span style=\"color: #008080; text-decoration-color: #008080; font-weight: bold\">17</span> param<span style=\"font-weight: bold\">[</span><span style=\"color: #008000; text-decoration-color: #008000\">'aexp'</span><span style=\"font-weight: bold\">]</span>=<span style=\"color: #008080; text-decoration-color: #008080; font-weight: bold\">0.162677778971108</span> z = <span style=\"color: #008080; text-decoration-color: #008080; font-weight: bold\">5.147121053193151</span>                                           \n",
       "</pre>\n"
      ],
      "text/plain": [
       "param\u001b[1m[\u001b[0m\u001b[32m'nsteps'\u001b[0m\u001b[1m]\u001b[0m=\u001b[1;36m17\u001b[0m param\u001b[1m[\u001b[0m\u001b[32m'aexp'\u001b[0m\u001b[1m]\u001b[0m=\u001b[1;36m0.162677778971108\u001b[0m z = \u001b[1;36m5.147121053193151\u001b[0m                                           \n"
      ]
     },
     "metadata": {},
     "output_type": "display_data"
    },
    {
     "data": {
      "text/html": [
       "<pre style=\"white-space:pre;overflow-x:auto;line-height:normal;font-family:Menlo,'DejaVu Sans Mono',consolas,'Courier New',monospace\">Write <span style=\"color: #800080; text-decoration-color: #800080; font-weight: bold\">P</span><span style=\"font-weight: bold\">(</span>k<span style=\"font-weight: bold\">)</span> in .<span style=\"color: #800080; text-decoration-color: #800080\">/t4//power/</span><span style=\"color: #ff00ff; text-decoration-color: #ff00ff\">pk_eft_multigrid_ncoarse7_00018.dat</span>                                                      \n",
       "</pre>\n"
      ],
      "text/plain": [
       "Write \u001b[1;35mP\u001b[0m\u001b[1m(\u001b[0mk\u001b[1m)\u001b[0m in .\u001b[35m/t4/\u001b[0m\u001b[35m/power/\u001b[0m\u001b[95mpk_eft_multigrid_ncoarse7_00018.dat\u001b[0m                                                      \n"
      ]
     },
     "metadata": {},
     "output_type": "display_data"
    },
    {
     "name": "stdout",
     "output_type": "stream",
     "text": [
      "[0.0017753806194125378, 0.00887690309706269, -1.042436609979882, 0.010652283716475228, 0.027777777777777783, 2.7837035455217283]\n",
      "Mean chi: 0, dens: -2.5611e-09, stdev: 8.9728e-01\n",
      "op111: 1.7011e-06\n"
     ]
    },
    {
     "data": {
      "text/html": [
       "<pre style=\"white-space:pre;overflow-x:auto;line-height:normal;font-family:Menlo,'DejaVu Sans Mono',consolas,'Courier New',monospace\">Snapshot written at <span style=\"color: #808000; text-decoration-color: #808000\">...</span><span style=\"color: #808000; text-decoration-color: #808000\">filename</span>=<span style=\"color: #008000; text-decoration-color: #008000\">'./t4//output_00003/particles_eft_multigrid_ncoarse7.h5'</span>                           \n",
       "param<span style=\"font-weight: bold\">[</span><span style=\"color: #008000; text-decoration-color: #008000\">'aexp'</span><span style=\"font-weight: bold\">]</span>=<span style=\"color: #008080; text-decoration-color: #008080; font-weight: bold\">0.16666666666666669</span>                                                                                  \n",
       "</pre>\n"
      ],
      "text/plain": [
       "Snapshot written at \u001b[33m...\u001b[0m\u001b[33mfilename\u001b[0m=\u001b[32m'./t4//output_00003/particles_eft_multigrid_ncoarse7.h5'\u001b[0m                           \n",
       "param\u001b[1m[\u001b[0m\u001b[32m'aexp'\u001b[0m\u001b[1m]\u001b[0m=\u001b[1;36m0.16666666666666669\u001b[0m                                                                                  \n"
      ]
     },
     "metadata": {},
     "output_type": "display_data"
    },
    {
     "data": {
      "text/html": [
       "<pre style=\"white-space:pre;overflow-x:auto;line-height:normal;font-family:Menlo,'DejaVu Sans Mono',consolas,'Courier New',monospace\">param<span style=\"font-weight: bold\">[</span><span style=\"color: #008000; text-decoration-color: #008000\">'nsteps'</span><span style=\"font-weight: bold\">]</span>=<span style=\"color: #008080; text-decoration-color: #008080; font-weight: bold\">18</span> param<span style=\"font-weight: bold\">[</span><span style=\"color: #008000; text-decoration-color: #008000\">'aexp'</span><span style=\"font-weight: bold\">]</span>=<span style=\"color: #008080; text-decoration-color: #008080; font-weight: bold\">0.16666666666666669</span> z = <span style=\"color: #008080; text-decoration-color: #008080; font-weight: bold\">4.999999999999999</span>                                         \n",
       "</pre>\n"
      ],
      "text/plain": [
       "param\u001b[1m[\u001b[0m\u001b[32m'nsteps'\u001b[0m\u001b[1m]\u001b[0m=\u001b[1;36m18\u001b[0m param\u001b[1m[\u001b[0m\u001b[32m'aexp'\u001b[0m\u001b[1m]\u001b[0m=\u001b[1;36m0.16666666666666669\u001b[0m z = \u001b[1;36m4.999999999999999\u001b[0m                                         \n"
      ]
     },
     "metadata": {},
     "output_type": "display_data"
    },
    {
     "data": {
      "text/html": [
       "<pre style=\"white-space:pre;overflow-x:auto;line-height:normal;font-family:Menlo,'DejaVu Sans Mono',consolas,'Courier New',monospace\">Write <span style=\"color: #800080; text-decoration-color: #800080; font-weight: bold\">P</span><span style=\"font-weight: bold\">(</span>k<span style=\"font-weight: bold\">)</span> in .<span style=\"color: #800080; text-decoration-color: #800080\">/t4//power/</span><span style=\"color: #ff00ff; text-decoration-color: #ff00ff\">pk_eft_multigrid_ncoarse7_00019.dat</span>                                                      \n",
       "</pre>\n"
      ],
      "text/plain": [
       "Write \u001b[1;35mP\u001b[0m\u001b[1m(\u001b[0mk\u001b[1m)\u001b[0m in .\u001b[35m/t4/\u001b[0m\u001b[35m/power/\u001b[0m\u001b[95mpk_eft_multigrid_ncoarse7_00019.dat\u001b[0m                                                      \n"
      ]
     },
     "metadata": {},
     "output_type": "display_data"
    },
    {
     "name": "stdout",
     "output_type": "stream",
     "text": [
      "[0.0023527634430228774, 0.011763817215114387, -1.0308763186351617, 0.014116580658137265, 0.03361111132238114, 2.652860565795064]\n",
      "Mean chi: 0, dens: -4.5693e-09, stdev: 9.4874e-01\n",
      "op111: 2.0705e-06\n"
     ]
    },
    {
     "data": {
      "text/html": [
       "<pre style=\"white-space:pre;overflow-x:auto;line-height:normal;font-family:Menlo,'DejaVu Sans Mono',consolas,'Courier New',monospace\">param<span style=\"font-weight: bold\">[</span><span style=\"color: #008000; text-decoration-color: #008000\">'nsteps'</span><span style=\"font-weight: bold\">]</span>=<span style=\"color: #008080; text-decoration-color: #008080; font-weight: bold\">19</span> param<span style=\"font-weight: bold\">[</span><span style=\"color: #008000; text-decoration-color: #008000\">'aexp'</span><span style=\"font-weight: bold\">]</span>=<span style=\"color: #008080; text-decoration-color: #008080; font-weight: bold\">0.18333333390952433</span> z = <span style=\"color: #008080; text-decoration-color: #008080; font-weight: bold\">4.454545437402582</span>                                         \n",
       "</pre>\n"
      ],
      "text/plain": [
       "param\u001b[1m[\u001b[0m\u001b[32m'nsteps'\u001b[0m\u001b[1m]\u001b[0m=\u001b[1;36m19\u001b[0m param\u001b[1m[\u001b[0m\u001b[32m'aexp'\u001b[0m\u001b[1m]\u001b[0m=\u001b[1;36m0.18333333390952433\u001b[0m z = \u001b[1;36m4.454545437402582\u001b[0m                                         \n"
      ]
     },
     "metadata": {},
     "output_type": "display_data"
    },
    {
     "data": {
      "text/html": [
       "<pre style=\"white-space:pre;overflow-x:auto;line-height:normal;font-family:Menlo,'DejaVu Sans Mono',consolas,'Courier New',monospace\">Write <span style=\"color: #800080; text-decoration-color: #800080; font-weight: bold\">P</span><span style=\"font-weight: bold\">(</span>k<span style=\"font-weight: bold\">)</span> in .<span style=\"color: #800080; text-decoration-color: #800080\">/t4//power/</span><span style=\"color: #ff00ff; text-decoration-color: #ff00ff\">pk_eft_multigrid_ncoarse7_00020.dat</span>                                                      \n",
       "</pre>\n"
      ],
      "text/plain": [
       "Write \u001b[1;35mP\u001b[0m\u001b[1m(\u001b[0mk\u001b[1m)\u001b[0m in .\u001b[35m/t4/\u001b[0m\u001b[35m/power/\u001b[0m\u001b[95mpk_eft_multigrid_ncoarse7_00020.dat\u001b[0m                                                      \n"
      ]
     },
     "metadata": {},
     "output_type": "display_data"
    },
    {
     "name": "stdout",
     "output_type": "stream",
     "text": [
      "[0.0031135206385294292, 0.015567603192647144, -1.0168199802950302, 0.018681123831176573, 0.04066944483387035, 2.527767051721237]\n",
      "Mean chi: 0, dens: -2.6776e-09, stdev: 1.0137e+00\n",
      "op111: 2.8852e-06\n"
     ]
    },
    {
     "data": {
      "text/html": [
       "<pre style=\"white-space:pre;overflow-x:auto;line-height:normal;font-family:Menlo,'DejaVu Sans Mono',consolas,'Courier New',monospace\">param<span style=\"font-weight: bold\">[</span><span style=\"color: #008000; text-decoration-color: #008000\">'nsteps'</span><span style=\"font-weight: bold\">]</span>=<span style=\"color: #008080; text-decoration-color: #008080; font-weight: bold\">20</span> param<span style=\"font-weight: bold\">[</span><span style=\"color: #008000; text-decoration-color: #008000\">'aexp'</span><span style=\"font-weight: bold\">]</span>=<span style=\"color: #008080; text-decoration-color: #008080; font-weight: bold\">0.20166666763218544</span> z = <span style=\"color: #008080; text-decoration-color: #008080; font-weight: bold\">3.9586776622097704</span>                                        \n",
       "</pre>\n"
      ],
      "text/plain": [
       "param\u001b[1m[\u001b[0m\u001b[32m'nsteps'\u001b[0m\u001b[1m]\u001b[0m=\u001b[1;36m20\u001b[0m param\u001b[1m[\u001b[0m\u001b[32m'aexp'\u001b[0m\u001b[1m]\u001b[0m=\u001b[1;36m0.20166666763218544\u001b[0m z = \u001b[1;36m3.9586776622097704\u001b[0m                                        \n"
      ]
     },
     "metadata": {},
     "output_type": "display_data"
    },
    {
     "data": {
      "text/html": [
       "<pre style=\"white-space:pre;overflow-x:auto;line-height:normal;font-family:Menlo,'DejaVu Sans Mono',consolas,'Courier New',monospace\">Write <span style=\"color: #800080; text-decoration-color: #800080; font-weight: bold\">P</span><span style=\"font-weight: bold\">(</span>k<span style=\"font-weight: bold\">)</span> in .<span style=\"color: #800080; text-decoration-color: #800080\">/t4//power/</span><span style=\"color: #ff00ff; text-decoration-color: #ff00ff\">pk_eft_multigrid_ncoarse7_00021.dat</span>                                                      \n",
       "</pre>\n"
      ],
      "text/plain": [
       "Write \u001b[1;35mP\u001b[0m\u001b[1m(\u001b[0mk\u001b[1m)\u001b[0m in .\u001b[35m/t4/\u001b[0m\u001b[35m/power/\u001b[0m\u001b[95mpk_eft_multigrid_ncoarse7_00021.dat\u001b[0m                                                      \n"
      ]
     },
     "metadata": {},
     "output_type": "display_data"
    },
    {
     "name": "stdout",
     "output_type": "stream",
     "text": [
      "[0.004112618884620223, 0.020563094423101114, -0.9996301336497494, 0.024675713307721336, 0.049210027999604375, 2.4080702323908505]\n",
      "Mean chi: 0, dens: 5.2387e-10, stdev: 1.0957e+00\n",
      "op111: 4.0381e-06\n"
     ]
    },
    {
     "data": {
      "text/html": [
       "<pre style=\"white-space:pre;overflow-x:auto;line-height:normal;font-family:Menlo,'DejaVu Sans Mono',consolas,'Courier New',monospace\">param<span style=\"font-weight: bold\">[</span><span style=\"color: #008000; text-decoration-color: #008000\">'nsteps'</span><span style=\"font-weight: bold\">]</span>=<span style=\"color: #008080; text-decoration-color: #008080; font-weight: bold\">21</span> param<span style=\"font-weight: bold\">[</span><span style=\"color: #008000; text-decoration-color: #008000\">'aexp'</span><span style=\"font-weight: bold\">]</span>=<span style=\"color: #008080; text-decoration-color: #008080; font-weight: bold\">0.22183333383331816</span> z = <span style=\"color: #008080; text-decoration-color: #008080; font-weight: bold\">3.5078887952492446</span>                                        \n",
       "</pre>\n"
      ],
      "text/plain": [
       "param\u001b[1m[\u001b[0m\u001b[32m'nsteps'\u001b[0m\u001b[1m]\u001b[0m=\u001b[1;36m21\u001b[0m param\u001b[1m[\u001b[0m\u001b[32m'aexp'\u001b[0m\u001b[1m]\u001b[0m=\u001b[1;36m0.22183333383331816\u001b[0m z = \u001b[1;36m3.5078887952492446\u001b[0m                                        \n"
      ]
     },
     "metadata": {},
     "output_type": "display_data"
    },
    {
     "data": {
      "text/html": [
       "<pre style=\"white-space:pre;overflow-x:auto;line-height:normal;font-family:Menlo,'DejaVu Sans Mono',consolas,'Courier New',monospace\">Write <span style=\"color: #800080; text-decoration-color: #800080; font-weight: bold\">P</span><span style=\"font-weight: bold\">(</span>k<span style=\"font-weight: bold\">)</span> in .<span style=\"color: #800080; text-decoration-color: #800080\">/t4//power/</span><span style=\"color: #ff00ff; text-decoration-color: #ff00ff\">pk_eft_multigrid_ncoarse7_00022.dat</span>                                                      \n",
       "</pre>\n"
      ],
      "text/plain": [
       "Write \u001b[1;35mP\u001b[0m\u001b[1m(\u001b[0mk\u001b[1m)\u001b[0m in .\u001b[35m/t4/\u001b[0m\u001b[35m/power/\u001b[0m\u001b[95mpk_eft_multigrid_ncoarse7_00022.dat\u001b[0m                                                      \n"
      ]
     },
     "metadata": {},
     "output_type": "display_data"
    },
    {
     "name": "stdout",
     "output_type": "stream",
     "text": [
      "[0.005419109673341707, 0.027095548366708536, -0.9785112201230514, 0.03251465804005024, 0.059544134065722454, 2.2934148349025327]\n",
      "Mean chi: 0, dens: -8.7311e-10, stdev: 1.1991e+00\n",
      "op111: 5.6514e-06\n"
     ]
    },
    {
     "data": {
      "text/html": [
       "<pre style=\"white-space:pre;overflow-x:auto;line-height:normal;font-family:Menlo,'DejaVu Sans Mono',consolas,'Courier New',monospace\">param<span style=\"font-weight: bold\">[</span><span style=\"color: #008000; text-decoration-color: #008000\">'nsteps'</span><span style=\"font-weight: bold\">]</span>=<span style=\"color: #008080; text-decoration-color: #008080; font-weight: bold\">22</span> param<span style=\"font-weight: bold\">[</span><span style=\"color: #008000; text-decoration-color: #008000\">'aexp'</span><span style=\"font-weight: bold\">]</span>=<span style=\"color: #008080; text-decoration-color: #008080; font-weight: bold\">0.24401666759818366</span> z = <span style=\"color: #008080; text-decoration-color: #008080; font-weight: bold\">3.0980807165462805</span>                                        \n",
       "</pre>\n"
      ],
      "text/plain": [
       "param\u001b[1m[\u001b[0m\u001b[32m'nsteps'\u001b[0m\u001b[1m]\u001b[0m=\u001b[1;36m22\u001b[0m param\u001b[1m[\u001b[0m\u001b[32m'aexp'\u001b[0m\u001b[1m]\u001b[0m=\u001b[1;36m0.24401666759818366\u001b[0m z = \u001b[1;36m3.0980807165462805\u001b[0m                                        \n"
      ]
     },
     "metadata": {},
     "output_type": "display_data"
    },
    {
     "data": {
      "text/html": [
       "<pre style=\"white-space:pre;overflow-x:auto;line-height:normal;font-family:Menlo,'DejaVu Sans Mono',consolas,'Courier New',monospace\">Write <span style=\"color: #800080; text-decoration-color: #800080; font-weight: bold\">P</span><span style=\"font-weight: bold\">(</span>k<span style=\"font-weight: bold\">)</span> in .<span style=\"color: #800080; text-decoration-color: #800080\">/t4//power/</span><span style=\"color: #ff00ff; text-decoration-color: #ff00ff\">pk_eft_multigrid_ncoarse7_00023.dat</span>                                                      \n",
       "</pre>\n"
      ],
      "text/plain": [
       "Write \u001b[1;35mP\u001b[0m\u001b[1m(\u001b[0mk\u001b[1m)\u001b[0m in .\u001b[35m/t4/\u001b[0m\u001b[35m/power/\u001b[0m\u001b[95mpk_eft_multigrid_ncoarse7_00023.dat\u001b[0m                                                      \n"
      ]
     },
     "metadata": {},
     "output_type": "display_data"
    },
    {
     "name": "stdout",
     "output_type": "stream",
     "text": [
      "[0.007118012608548185, 0.03559006304274092, -0.9524843120964095, 0.042708075651289104, 0.07204840187806774, 2.1834406448401853]\n",
      "Mean chi: 0, dens: 7.5670e-10, stdev: 1.3279e+00\n",
      "op111: 7.9008e-06\n"
     ]
    },
    {
     "data": {
      "text/html": [
       "<pre style=\"white-space:pre;overflow-x:auto;line-height:normal;font-family:Menlo,'DejaVu Sans Mono',consolas,'Courier New',monospace\">param<span style=\"font-weight: bold\">[</span><span style=\"color: #008000; text-decoration-color: #008000\">'nsteps'</span><span style=\"font-weight: bold\">]</span>=<span style=\"color: #008080; text-decoration-color: #008080; font-weight: bold\">23</span> param<span style=\"font-weight: bold\">[</span><span style=\"color: #008000; text-decoration-color: #008000\">'aexp'</span><span style=\"font-weight: bold\">]</span>=<span style=\"color: #008080; text-decoration-color: #008080; font-weight: bold\">0.2684183337219493</span> z = <span style=\"color: #008080; text-decoration-color: #008080; font-weight: bold\">2.7255279329611133</span>                                         \n",
       "</pre>\n"
      ],
      "text/plain": [
       "param\u001b[1m[\u001b[0m\u001b[32m'nsteps'\u001b[0m\u001b[1m]\u001b[0m=\u001b[1;36m23\u001b[0m param\u001b[1m[\u001b[0m\u001b[32m'aexp'\u001b[0m\u001b[1m]\u001b[0m=\u001b[1;36m0.2684183337219493\u001b[0m z = \u001b[1;36m2.7255279329611133\u001b[0m                                         \n"
      ]
     },
     "metadata": {},
     "output_type": "display_data"
    },
    {
     "data": {
      "text/html": [
       "<pre style=\"white-space:pre;overflow-x:auto;line-height:normal;font-family:Menlo,'DejaVu Sans Mono',consolas,'Courier New',monospace\">Write <span style=\"color: #800080; text-decoration-color: #800080; font-weight: bold\">P</span><span style=\"font-weight: bold\">(</span>k<span style=\"font-weight: bold\">)</span> in .<span style=\"color: #800080; text-decoration-color: #800080\">/t4//power/</span><span style=\"color: #ff00ff; text-decoration-color: #ff00ff\">pk_eft_multigrid_ncoarse7_00024.dat</span>                                                      \n",
       "</pre>\n"
      ],
      "text/plain": [
       "Write \u001b[1;35mP\u001b[0m\u001b[1m(\u001b[0mk\u001b[1m)\u001b[0m in .\u001b[35m/t4/\u001b[0m\u001b[35m/power/\u001b[0m\u001b[95mpk_eft_multigrid_ncoarse7_00024.dat\u001b[0m                                                      \n"
      ]
     },
     "metadata": {},
     "output_type": "display_data"
    },
    {
     "name": "stdout",
     "output_type": "stream",
     "text": [
      "[0.009311150388686313, 0.046555751943431554, -0.9203686441689419, 0.05586690233211786, 0.08717856591780658, 2.0777808304854184]\n",
      "Mean chi: 0, dens: -1.7462e-09, stdev: 1.4850e+00\n",
      "op111: 1.1028e-05\n"
     ]
    },
    {
     "data": {
      "text/html": [
       "<pre style=\"white-space:pre;overflow-x:auto;line-height:normal;font-family:Menlo,'DejaVu Sans Mono',consolas,'Courier New',monospace\">param<span style=\"font-weight: bold\">[</span><span style=\"color: #008000; text-decoration-color: #008000\">'nsteps'</span><span style=\"font-weight: bold\">]</span>=<span style=\"color: #008080; text-decoration-color: #008080; font-weight: bold\">24</span> param<span style=\"font-weight: bold\">[</span><span style=\"color: #008000; text-decoration-color: #008000\">'aexp'</span><span style=\"font-weight: bold\">]</span>=<span style=\"color: #008080; text-decoration-color: #008080; font-weight: bold\">0.29526016649356307</span> z = <span style=\"color: #008080; text-decoration-color: #008080; font-weight: bold\">2.386843582308286</span>                                         \n",
       "</pre>\n"
      ],
      "text/plain": [
       "param\u001b[1m[\u001b[0m\u001b[32m'nsteps'\u001b[0m\u001b[1m]\u001b[0m=\u001b[1;36m24\u001b[0m param\u001b[1m[\u001b[0m\u001b[32m'aexp'\u001b[0m\u001b[1m]\u001b[0m=\u001b[1;36m0.29526016649356307\u001b[0m z = \u001b[1;36m2.386843582308286\u001b[0m                                         \n"
      ]
     },
     "metadata": {},
     "output_type": "display_data"
    },
    {
     "data": {
      "text/html": [
       "<pre style=\"white-space:pre;overflow-x:auto;line-height:normal;font-family:Menlo,'DejaVu Sans Mono',consolas,'Courier New',monospace\">Write <span style=\"color: #800080; text-decoration-color: #800080; font-weight: bold\">P</span><span style=\"font-weight: bold\">(</span>k<span style=\"font-weight: bold\">)</span> in .<span style=\"color: #800080; text-decoration-color: #800080\">/t4//power/</span><span style=\"color: #ff00ff; text-decoration-color: #ff00ff\">pk_eft_multigrid_ncoarse7_00025.dat</span>                                                      \n",
       "</pre>\n"
      ],
      "text/plain": [
       "Write \u001b[1;35mP\u001b[0m\u001b[1m(\u001b[0mk\u001b[1m)\u001b[0m in .\u001b[35m/t4/\u001b[0m\u001b[35m/power/\u001b[0m\u001b[95mpk_eft_multigrid_ncoarse7_00025.dat\u001b[0m                                                      \n"
      ]
     },
     "metadata": {},
     "output_type": "display_data"
    },
    {
     "name": "stdout",
     "output_type": "stream",
     "text": [
      "[0.01198909545214464, 0.0599454772607232, -0.8825418733975148, 0.07193457271286784, 0.1046770562838946, 1.98009864654989]\n",
      "Mean chi: 0, dens: -4.8894e-09, stdev: 1.6636e+00\n",
      "op111: 1.5287e-05\n"
     ]
    },
    {
     "data": {
      "text/html": [
       "<pre style=\"white-space:pre;overflow-x:auto;line-height:normal;font-family:Menlo,'DejaVu Sans Mono',consolas,'Courier New',monospace\">param<span style=\"font-weight: bold\">[</span><span style=\"color: #008000; text-decoration-color: #008000\">'nsteps'</span><span style=\"font-weight: bold\">]</span>=<span style=\"color: #008080; text-decoration-color: #008080; font-weight: bold\">25</span> param<span style=\"font-weight: bold\">[</span><span style=\"color: #008000; text-decoration-color: #008000\">'aexp'</span><span style=\"font-weight: bold\">]</span>=<span style=\"color: #008080; text-decoration-color: #008080; font-weight: bold\">0.32353833819795547</span> z = <span style=\"color: #008080; text-decoration-color: #008080; font-weight: bold\">2.090823812626974</span>                                         \n",
       "</pre>\n"
      ],
      "text/plain": [
       "param\u001b[1m[\u001b[0m\u001b[32m'nsteps'\u001b[0m\u001b[1m]\u001b[0m=\u001b[1;36m25\u001b[0m param\u001b[1m[\u001b[0m\u001b[32m'aexp'\u001b[0m\u001b[1m]\u001b[0m=\u001b[1;36m0.32353833819795547\u001b[0m z = \u001b[1;36m2.090823812626974\u001b[0m                                         \n"
      ]
     },
     "metadata": {},
     "output_type": "display_data"
    },
    {
     "data": {
      "text/html": [
       "<pre style=\"white-space:pre;overflow-x:auto;line-height:normal;font-family:Menlo,'DejaVu Sans Mono',consolas,'Courier New',monospace\">Write <span style=\"color: #800080; text-decoration-color: #800080; font-weight: bold\">P</span><span style=\"font-weight: bold\">(</span>k<span style=\"font-weight: bold\">)</span> in .<span style=\"color: #800080; text-decoration-color: #800080\">/t4//power/</span><span style=\"color: #ff00ff; text-decoration-color: #ff00ff\">pk_eft_multigrid_ncoarse7_00026.dat</span>                                                      \n",
       "</pre>\n"
      ],
      "text/plain": [
       "Write \u001b[1;35mP\u001b[0m\u001b[1m(\u001b[0mk\u001b[1m)\u001b[0m in .\u001b[35m/t4/\u001b[0m\u001b[35m/power/\u001b[0m\u001b[95mpk_eft_multigrid_ncoarse7_00026.dat\u001b[0m                                                      \n"
      ]
     },
     "metadata": {},
     "output_type": "display_data"
    },
    {
     "name": "stdout",
     "output_type": "stream",
     "text": [
      "[0.01300292045593441, 0.06501460227967204, -0.8684905817682294, 0.07801752273560644, 0.11111111111111109, 1.9489732440431495]\n",
      "Mean chi: 0, dens: -5.0059e-09, stdev: 1.7290e+00\n",
      "op111: 1.9357e-05\n"
     ]
    },
    {
     "data": {
      "text/html": [
       "<pre style=\"white-space:pre;overflow-x:auto;line-height:normal;font-family:Menlo,'DejaVu Sans Mono',consolas,'Courier New',monospace\">Snapshot written at <span style=\"color: #808000; text-decoration-color: #808000\">...</span><span style=\"color: #808000; text-decoration-color: #808000\">filename</span>=<span style=\"color: #008000; text-decoration-color: #008000\">'./t4//output_00004/particles_eft_multigrid_ncoarse7.h5'</span>                           \n",
       "param<span style=\"font-weight: bold\">[</span><span style=\"color: #008000; text-decoration-color: #008000\">'aexp'</span><span style=\"font-weight: bold\">]</span>=<span style=\"color: #008080; text-decoration-color: #008080; font-weight: bold\">0.3333333333333333</span>                                                                                   \n",
       "</pre>\n"
      ],
      "text/plain": [
       "Snapshot written at \u001b[33m...\u001b[0m\u001b[33mfilename\u001b[0m=\u001b[32m'./t4//output_00004/particles_eft_multigrid_ncoarse7.h5'\u001b[0m                           \n",
       "param\u001b[1m[\u001b[0m\u001b[32m'aexp'\u001b[0m\u001b[1m]\u001b[0m=\u001b[1;36m0.3333333333333333\u001b[0m                                                                                   \n"
      ]
     },
     "metadata": {},
     "output_type": "display_data"
    },
    {
     "data": {
      "text/html": [
       "<pre style=\"white-space:pre;overflow-x:auto;line-height:normal;font-family:Menlo,'DejaVu Sans Mono',consolas,'Courier New',monospace\">param<span style=\"font-weight: bold\">[</span><span style=\"color: #008000; text-decoration-color: #008000\">'nsteps'</span><span style=\"font-weight: bold\">]</span>=<span style=\"color: #008080; text-decoration-color: #008080; font-weight: bold\">26</span> param<span style=\"font-weight: bold\">[</span><span style=\"color: #008000; text-decoration-color: #008000\">'aexp'</span><span style=\"font-weight: bold\">]</span>=<span style=\"color: #008080; text-decoration-color: #008080; font-weight: bold\">0.3333333333333333</span> z = <span style=\"color: #008080; text-decoration-color: #008080; font-weight: bold\">2.0</span>                                                        \n",
       "</pre>\n"
      ],
      "text/plain": [
       "param\u001b[1m[\u001b[0m\u001b[32m'nsteps'\u001b[0m\u001b[1m]\u001b[0m=\u001b[1;36m26\u001b[0m param\u001b[1m[\u001b[0m\u001b[32m'aexp'\u001b[0m\u001b[1m]\u001b[0m=\u001b[1;36m0.3333333333333333\u001b[0m z = \u001b[1;36m2.0\u001b[0m                                                        \n"
      ]
     },
     "metadata": {},
     "output_type": "display_data"
    },
    {
     "data": {
      "text/html": [
       "<pre style=\"white-space:pre;overflow-x:auto;line-height:normal;font-family:Menlo,'DejaVu Sans Mono',consolas,'Courier New',monospace\">Write <span style=\"color: #800080; text-decoration-color: #800080; font-weight: bold\">P</span><span style=\"font-weight: bold\">(</span>k<span style=\"font-weight: bold\">)</span> in .<span style=\"color: #800080; text-decoration-color: #800080\">/t4//power/</span><span style=\"color: #ff00ff; text-decoration-color: #ff00ff\">pk_eft_multigrid_ncoarse7_00027.dat</span>                                                      \n",
       "</pre>\n"
      ],
      "text/plain": [
       "Write \u001b[1;35mP\u001b[0m\u001b[1m(\u001b[0mk\u001b[1m)\u001b[0m in .\u001b[35m/t4/\u001b[0m\u001b[35m/power/\u001b[0m\u001b[95mpk_eft_multigrid_ncoarse7_00027.dat\u001b[0m                                                      \n"
      ]
     },
     "metadata": {},
     "output_type": "display_data"
    },
    {
     "name": "stdout",
     "output_type": "stream",
     "text": [
      "[0.01580897079263802, 0.0790448539631901, -0.8301242965261966, 0.09485382475582811, 0.12855515971000245, 1.8742849060979956]\n",
      "Mean chi: 0, dens: 1.3388e-09, stdev: 1.8982e+00\n",
      "op111: 2.2964e-05\n"
     ]
    },
    {
     "data": {
      "text/html": [
       "<pre style=\"white-space:pre;overflow-x:auto;line-height:normal;font-family:Menlo,'DejaVu Sans Mono',consolas,'Courier New',monospace\">param<span style=\"font-weight: bold\">[</span><span style=\"color: #008000; text-decoration-color: #008000\">'nsteps'</span><span style=\"font-weight: bold\">]</span>=<span style=\"color: #008080; text-decoration-color: #008080; font-weight: bold\">27</span> param<span style=\"font-weight: bold\">[</span><span style=\"color: #008000; text-decoration-color: #008000\">'aexp'</span><span style=\"font-weight: bold\">]</span>=<span style=\"color: #008080; text-decoration-color: #008080; font-weight: bold\">0.3585458962392436</span> z = <span style=\"color: #008080; text-decoration-color: #008080; font-weight: bold\">1.7890432173088917</span>                                         \n",
       "</pre>\n"
      ],
      "text/plain": [
       "param\u001b[1m[\u001b[0m\u001b[32m'nsteps'\u001b[0m\u001b[1m]\u001b[0m=\u001b[1;36m27\u001b[0m param\u001b[1m[\u001b[0m\u001b[32m'aexp'\u001b[0m\u001b[1m]\u001b[0m=\u001b[1;36m0.3585458962392436\u001b[0m z = \u001b[1;36m1.7890432173088917\u001b[0m                                         \n"
      ]
     },
     "metadata": {},
     "output_type": "display_data"
    },
    {
     "data": {
      "text/html": [
       "<pre style=\"white-space:pre;overflow-x:auto;line-height:normal;font-family:Menlo,'DejaVu Sans Mono',consolas,'Courier New',monospace\">Write <span style=\"color: #800080; text-decoration-color: #800080; font-weight: bold\">P</span><span style=\"font-weight: bold\">(</span>k<span style=\"font-weight: bold\">)</span> in .<span style=\"color: #800080; text-decoration-color: #800080\">/t4//power/</span><span style=\"color: #ff00ff; text-decoration-color: #ff00ff\">pk_eft_multigrid_ncoarse7_00028.dat</span>                                                      \n",
       "</pre>\n"
      ],
      "text/plain": [
       "Write \u001b[1;35mP\u001b[0m\u001b[1m(\u001b[0mk\u001b[1m)\u001b[0m in .\u001b[35m/t4/\u001b[0m\u001b[35m/power/\u001b[0m\u001b[95mpk_eft_multigrid_ncoarse7_00028.dat\u001b[0m                                                      \n"
      ]
     },
     "metadata": {},
     "output_type": "display_data"
    },
    {
     "name": "stdout",
     "output_type": "stream",
     "text": [
      "[0.018894762521978286, 0.09447381260989143, -0.7885363599422048, 0.11336857513186972, 0.1473438297627143, 1.8061047364997547]\n",
      "Mean chi: 0, dens: -6.1700e-09, stdev: 2.0676e+00\n",
      "op111: 2.9325e-05\n"
     ]
    },
    {
     "data": {
      "text/html": [
       "<pre style=\"white-space:pre;overflow-x:auto;line-height:normal;font-family:Menlo,'DejaVu Sans Mono',consolas,'Courier New',monospace\">param<span style=\"font-weight: bold\">[</span><span style=\"color: #008000; text-decoration-color: #008000\">'nsteps'</span><span style=\"font-weight: bold\">]</span>=<span style=\"color: #008080; text-decoration-color: #008080; font-weight: bold\">28</span> param<span style=\"font-weight: bold\">[</span><span style=\"color: #008000; text-decoration-color: #008000\">'aexp'</span><span style=\"font-weight: bold\">]</span>=<span style=\"color: #008080; text-decoration-color: #008080; font-weight: bold\">0.38385391721684214</span> z = <span style=\"color: #008080; text-decoration-color: #008080; font-weight: bold\">1.6051577309685028</span>                                        \n",
       "</pre>\n"
      ],
      "text/plain": [
       "param\u001b[1m[\u001b[0m\u001b[32m'nsteps'\u001b[0m\u001b[1m]\u001b[0m=\u001b[1;36m28\u001b[0m param\u001b[1m[\u001b[0m\u001b[32m'aexp'\u001b[0m\u001b[1m]\u001b[0m=\u001b[1;36m0.38385391721684214\u001b[0m z = \u001b[1;36m1.6051577309685028\u001b[0m                                        \n"
      ]
     },
     "metadata": {},
     "output_type": "display_data"
    },
    {
     "data": {
      "text/html": [
       "<pre style=\"white-space:pre;overflow-x:auto;line-height:normal;font-family:Menlo,'DejaVu Sans Mono',consolas,'Courier New',monospace\">Write <span style=\"color: #800080; text-decoration-color: #800080; font-weight: bold\">P</span><span style=\"font-weight: bold\">(</span>k<span style=\"font-weight: bold\">)</span> in .<span style=\"color: #800080; text-decoration-color: #800080\">/t4//power/</span><span style=\"color: #ff00ff; text-decoration-color: #ff00ff\">pk_eft_multigrid_ncoarse7_00029.dat</span>                                                      \n",
       "</pre>\n"
      ],
      "text/plain": [
       "Write \u001b[1;35mP\u001b[0m\u001b[1m(\u001b[0mk\u001b[1m)\u001b[0m in .\u001b[35m/t4/\u001b[0m\u001b[35m/power/\u001b[0m\u001b[95mpk_eft_multigrid_ncoarse7_00029.dat\u001b[0m                                                      \n"
      ]
     },
     "metadata": {},
     "output_type": "display_data"
    },
    {
     "name": "stdout",
     "output_type": "stream",
     "text": [
      "[0.022211560801054887, 0.11105780400527444, -0.7442303037642926, 0.13326936480632934, 0.16733019841231242, 1.7438760472293338]\n",
      "Mean chi: 0, dens: -3.9581e-09, stdev: 2.2395e+00\n",
      "op111: 3.6944e-05\n"
     ]
    },
    {
     "data": {
      "text/html": [
       "<pre style=\"white-space:pre;overflow-x:auto;line-height:normal;font-family:Menlo,'DejaVu Sans Mono',consolas,'Courier New',monospace\">param<span style=\"font-weight: bold\">[</span><span style=\"color: #008000; text-decoration-color: #008000\">'nsteps'</span><span style=\"font-weight: bold\">]</span>=<span style=\"color: #008080; text-decoration-color: #008080; font-weight: bold\">29</span> param<span style=\"font-weight: bold\">[</span><span style=\"color: #008000; text-decoration-color: #008000\">'aexp'</span><span style=\"font-weight: bold\">]</span>=<span style=\"color: #008080; text-decoration-color: #008080; font-weight: bold\">0.40906014033673876</span> z = <span style=\"color: #008080; text-decoration-color: #008080; font-weight: bold\">1.4446283110762121</span>                                        \n",
       "</pre>\n"
      ],
      "text/plain": [
       "param\u001b[1m[\u001b[0m\u001b[32m'nsteps'\u001b[0m\u001b[1m]\u001b[0m=\u001b[1;36m29\u001b[0m param\u001b[1m[\u001b[0m\u001b[32m'aexp'\u001b[0m\u001b[1m]\u001b[0m=\u001b[1;36m0.40906014033673876\u001b[0m z = \u001b[1;36m1.4446283110762121\u001b[0m                                        \n"
      ]
     },
     "metadata": {},
     "output_type": "display_data"
    },
    {
     "data": {
      "text/html": [
       "<pre style=\"white-space:pre;overflow-x:auto;line-height:normal;font-family:Menlo,'DejaVu Sans Mono',consolas,'Courier New',monospace\">Write <span style=\"color: #800080; text-decoration-color: #800080; font-weight: bold\">P</span><span style=\"font-weight: bold\">(</span>k<span style=\"font-weight: bold\">)</span> in .<span style=\"color: #800080; text-decoration-color: #800080\">/t4//power/</span><span style=\"color: #ff00ff; text-decoration-color: #ff00ff\">pk_eft_multigrid_ncoarse7_00030.dat</span>                                                      \n",
       "</pre>\n"
      ],
      "text/plain": [
       "Write \u001b[1;35mP\u001b[0m\u001b[1m(\u001b[0mk\u001b[1m)\u001b[0m in .\u001b[35m/t4/\u001b[0m\u001b[35m/power/\u001b[0m\u001b[95mpk_eft_multigrid_ncoarse7_00030.dat\u001b[0m                                                      \n"
      ]
     },
     "metadata": {},
     "output_type": "display_data"
    },
    {
     "name": "stdout",
     "output_type": "stream",
     "text": [
      "[0.02604168415159395, 0.13020842075796973, -0.6932722419591889, 0.15625010490956365, 0.19040084362972445, 1.6819111342601087]\n",
      "Mean chi: 0, dens: -4.5984e-09, stdev: 2.4259e+00\n",
      "op111: 4.6131e-05\n"
     ]
    },
    {
     "data": {
      "text/html": [
       "<pre style=\"white-space:pre;overflow-x:auto;line-height:normal;font-family:Menlo,'DejaVu Sans Mono',consolas,'Courier New',monospace\">param<span style=\"font-weight: bold\">[</span><span style=\"color: #008000; text-decoration-color: #008000\">'nsteps'</span><span style=\"font-weight: bold\">]</span>=<span style=\"color: #008080; text-decoration-color: #008080; font-weight: bold\">30</span> param<span style=\"font-weight: bold\">[</span><span style=\"color: #008000; text-decoration-color: #008000\">'aexp'</span><span style=\"font-weight: bold\">]</span>=<span style=\"color: #008080; text-decoration-color: #008080; font-weight: bold\">0.4363494512769833</span> z = <span style=\"color: #008080; text-decoration-color: #008080; font-weight: bold\">1.291741165420249</span>                                          \n",
       "</pre>\n"
      ],
      "text/plain": [
       "param\u001b[1m[\u001b[0m\u001b[32m'nsteps'\u001b[0m\u001b[1m]\u001b[0m=\u001b[1;36m30\u001b[0m param\u001b[1m[\u001b[0m\u001b[32m'aexp'\u001b[0m\u001b[1m]\u001b[0m=\u001b[1;36m0.4363494512769833\u001b[0m z = \u001b[1;36m1.291741165420249\u001b[0m                                          \n"
      ]
     },
     "metadata": {},
     "output_type": "display_data"
    },
    {
     "data": {
      "text/html": [
       "<pre style=\"white-space:pre;overflow-x:auto;line-height:normal;font-family:Menlo,'DejaVu Sans Mono',consolas,'Courier New',monospace\">Write <span style=\"color: #800080; text-decoration-color: #800080; font-weight: bold\">P</span><span style=\"font-weight: bold\">(</span>k<span style=\"font-weight: bold\">)</span> in .<span style=\"color: #800080; text-decoration-color: #800080\">/t4//power/</span><span style=\"color: #ff00ff; text-decoration-color: #ff00ff\">pk_eft_multigrid_ncoarse7_00031.dat</span>                                                      \n",
       "</pre>\n"
      ],
      "text/plain": [
       "Write \u001b[1;35mP\u001b[0m\u001b[1m(\u001b[0mk\u001b[1m)\u001b[0m in .\u001b[35m/t4/\u001b[0m\u001b[35m/power/\u001b[0m\u001b[95mpk_eft_multigrid_ncoarse7_00031.dat\u001b[0m                                                      \n"
      ]
     },
     "metadata": {},
     "output_type": "display_data"
    },
    {
     "name": "stdout",
     "output_type": "stream",
     "text": [
      "[0.029858327614380776, 0.14929163807190388, -0.6424528556831455, 0.17914996568628466, 0.2136112306825845, 1.6276871563248505]\n",
      "Mean chi: 0, dens: 2.8522e-09, stdev: 2.5976e+00\n",
      "op111: 5.7171e-05\n"
     ]
    },
    {
     "data": {
      "text/html": [
       "<pre style=\"white-space:pre;overflow-x:auto;line-height:normal;font-family:Menlo,'DejaVu Sans Mono',consolas,'Courier New',monospace\">param<span style=\"font-weight: bold\">[</span><span style=\"color: #008000; text-decoration-color: #008000\">'nsteps'</span><span style=\"font-weight: bold\">]</span>=<span style=\"color: #008080; text-decoration-color: #008080; font-weight: bold\">31</span> param<span style=\"font-weight: bold\">[</span><span style=\"color: #008000; text-decoration-color: #008000\">'aexp'</span><span style=\"font-weight: bold\">]</span>=<span style=\"color: #008080; text-decoration-color: #008080; font-weight: bold\">0.4621809501511118</span> z = <span style=\"color: #008080; text-decoration-color: #008080; font-weight: bold\">1.163654732357632</span>                                          \n",
       "</pre>\n"
      ],
      "text/plain": [
       "param\u001b[1m[\u001b[0m\u001b[32m'nsteps'\u001b[0m\u001b[1m]\u001b[0m=\u001b[1;36m31\u001b[0m param\u001b[1m[\u001b[0m\u001b[32m'aexp'\u001b[0m\u001b[1m]\u001b[0m=\u001b[1;36m0.4621809501511118\u001b[0m z = \u001b[1;36m1.163654732357632\u001b[0m                                          \n"
      ]
     },
     "metadata": {},
     "output_type": "display_data"
    },
    {
     "data": {
      "text/html": [
       "<pre style=\"white-space:pre;overflow-x:auto;line-height:normal;font-family:Menlo,'DejaVu Sans Mono',consolas,'Courier New',monospace\">Write <span style=\"color: #800080; text-decoration-color: #800080; font-weight: bold\">P</span><span style=\"font-weight: bold\">(</span>k<span style=\"font-weight: bold\">)</span> in .<span style=\"color: #800080; text-decoration-color: #800080\">/t4//power/</span><span style=\"color: #ff00ff; text-decoration-color: #ff00ff\">pk_eft_multigrid_ncoarse7_00032.dat</span>                                                      \n",
       "</pre>\n"
      ],
      "text/plain": [
       "Write \u001b[1;35mP\u001b[0m\u001b[1m(\u001b[0mk\u001b[1m)\u001b[0m in .\u001b[35m/t4/\u001b[0m\u001b[35m/power/\u001b[0m\u001b[95mpk_eft_multigrid_ncoarse7_00032.dat\u001b[0m                                                      \n"
      ]
     },
     "metadata": {},
     "output_type": "display_data"
    },
    {
     "name": "stdout",
     "output_type": "stream",
     "text": [
      "[0.03395592204221388, 0.16977961021106935, -0.58759651029621, 0.2037355322532832, 0.23900450518026325, 1.575548095025335]\n",
      "Mean chi: 0, dens: -2.7940e-09, stdev: 2.7689e+00\n",
      "op111: 6.9615e-05\n"
     ]
    },
    {
     "data": {
      "text/html": [
       "<pre style=\"white-space:pre;overflow-x:auto;line-height:normal;font-family:Menlo,'DejaVu Sans Mono',consolas,'Courier New',monospace\">param<span style=\"font-weight: bold\">[</span><span style=\"color: #008000; text-decoration-color: #008000\">'nsteps'</span><span style=\"font-weight: bold\">]</span>=<span style=\"color: #008080; text-decoration-color: #008080; font-weight: bold\">32</span> param<span style=\"font-weight: bold\">[</span><span style=\"color: #008000; text-decoration-color: #008000\">'aexp'</span><span style=\"font-weight: bold\">]</span>=<span style=\"color: #008080; text-decoration-color: #008080; font-weight: bold\">0.48888087013122455</span> z = <span style=\"color: #008080; text-decoration-color: #008080; font-weight: bold\">1.045488095559112</span>                                         \n",
       "</pre>\n"
      ],
      "text/plain": [
       "param\u001b[1m[\u001b[0m\u001b[32m'nsteps'\u001b[0m\u001b[1m]\u001b[0m=\u001b[1;36m32\u001b[0m param\u001b[1m[\u001b[0m\u001b[32m'aexp'\u001b[0m\u001b[1m]\u001b[0m=\u001b[1;36m0.48888087013122455\u001b[0m z = \u001b[1;36m1.045488095559112\u001b[0m                                         \n"
      ]
     },
     "metadata": {},
     "output_type": "display_data"
    },
    {
     "data": {
      "text/html": [
       "<pre style=\"white-space:pre;overflow-x:auto;line-height:normal;font-family:Menlo,'DejaVu Sans Mono',consolas,'Courier New',monospace\">Write <span style=\"color: #800080; text-decoration-color: #800080; font-weight: bold\">P</span><span style=\"font-weight: bold\">(</span>k<span style=\"font-weight: bold\">)</span> in .<span style=\"color: #800080; text-decoration-color: #800080\">/t4//power/</span><span style=\"color: #ff00ff; text-decoration-color: #ff00ff\">pk_eft_multigrid_ncoarse7_00033.dat</span>                                                      \n",
       "</pre>\n"
      ],
      "text/plain": [
       "Write \u001b[1;35mP\u001b[0m\u001b[1m(\u001b[0mk\u001b[1m)\u001b[0m in .\u001b[35m/t4/\u001b[0m\u001b[35m/power/\u001b[0m\u001b[95mpk_eft_multigrid_ncoarse7_00033.dat\u001b[0m                                                      \n"
      ]
     },
     "metadata": {},
     "output_type": "display_data"
    },
    {
     "name": "stdout",
     "output_type": "stream",
     "text": [
      "[0.03569758434446742, 0.1784879217223371, -0.5641293117535668, 0.21418550606680453, 0.25, 1.5548837372130322]\n",
      "Mean chi: 0, dens: 1.3388e-09, stdev: 2.8401e+00\n",
      "op111: 8.1568e-05\n"
     ]
    },
    {
     "data": {
      "text/html": [
       "<pre style=\"white-space:pre;overflow-x:auto;line-height:normal;font-family:Menlo,'DejaVu Sans Mono',consolas,'Courier New',monospace\">Snapshot written at <span style=\"color: #808000; text-decoration-color: #808000\">...</span><span style=\"color: #808000; text-decoration-color: #808000\">filename</span>=<span style=\"color: #008000; text-decoration-color: #008000\">'./t4//output_00005/particles_eft_multigrid_ncoarse7.h5'</span> param<span style=\"font-weight: bold\">[</span><span style=\"color: #008000; text-decoration-color: #008000\">'aexp'</span><span style=\"font-weight: bold\">]</span>=<span style=\"color: #008080; text-decoration-color: #008080; font-weight: bold\">0.5</span>         \n",
       "</pre>\n"
      ],
      "text/plain": [
       "Snapshot written at \u001b[33m...\u001b[0m\u001b[33mfilename\u001b[0m=\u001b[32m'./t4//output_00005/particles_eft_multigrid_ncoarse7.h5'\u001b[0m param\u001b[1m[\u001b[0m\u001b[32m'aexp'\u001b[0m\u001b[1m]\u001b[0m=\u001b[1;36m0.5\u001b[0m         \n"
      ]
     },
     "metadata": {},
     "output_type": "display_data"
    },
    {
     "data": {
      "text/html": [
       "<pre style=\"white-space:pre;overflow-x:auto;line-height:normal;font-family:Menlo,'DejaVu Sans Mono',consolas,'Courier New',monospace\">param<span style=\"font-weight: bold\">[</span><span style=\"color: #008000; text-decoration-color: #008000\">'nsteps'</span><span style=\"font-weight: bold\">]</span>=<span style=\"color: #008080; text-decoration-color: #008080; font-weight: bold\">33</span> param<span style=\"font-weight: bold\">[</span><span style=\"color: #008000; text-decoration-color: #008000\">'aexp'</span><span style=\"font-weight: bold\">]</span>=<span style=\"color: #008080; text-decoration-color: #008080; font-weight: bold\">0.5</span> z = <span style=\"color: #008080; text-decoration-color: #008080; font-weight: bold\">1.0</span>                                                                       \n",
       "</pre>\n"
      ],
      "text/plain": [
       "param\u001b[1m[\u001b[0m\u001b[32m'nsteps'\u001b[0m\u001b[1m]\u001b[0m=\u001b[1;36m33\u001b[0m param\u001b[1m[\u001b[0m\u001b[32m'aexp'\u001b[0m\u001b[1m]\u001b[0m=\u001b[1;36m0.5\u001b[0m z = \u001b[1;36m1.0\u001b[0m                                                                       \n"
      ]
     },
     "metadata": {},
     "output_type": "display_data"
    },
    {
     "data": {
      "text/html": [
       "<pre style=\"white-space:pre;overflow-x:auto;line-height:normal;font-family:Menlo,'DejaVu Sans Mono',consolas,'Courier New',monospace\">Write <span style=\"color: #800080; text-decoration-color: #800080; font-weight: bold\">P</span><span style=\"font-weight: bold\">(</span>k<span style=\"font-weight: bold\">)</span> in .<span style=\"color: #800080; text-decoration-color: #800080\">/t4//power/</span><span style=\"color: #ff00ff; text-decoration-color: #ff00ff\">pk_eft_multigrid_ncoarse7_00034.dat</span>                                                      \n",
       "</pre>\n"
      ],
      "text/plain": [
       "Write \u001b[1;35mP\u001b[0m\u001b[1m(\u001b[0mk\u001b[1m)\u001b[0m in .\u001b[35m/t4/\u001b[0m\u001b[35m/power/\u001b[0m\u001b[95mpk_eft_multigrid_ncoarse7_00034.dat\u001b[0m                                                      \n"
      ]
     },
     "metadata": {},
     "output_type": "display_data"
    },
    {
     "name": "stdout",
     "output_type": "stream",
     "text": [
      "[0.040166170602090566, 0.2008308530104528, -0.5033466550589791, 0.24099702361254335, 0.278911944952238, 1.5050961363495023]\n",
      "Mean chi: 0, dens: -2.9686e-09, stdev: 3.0168e+00\n",
      "op111: 9.1526e-05\n"
     ]
    },
    {
     "data": {
      "text/html": [
       "<pre style=\"white-space:pre;overflow-x:auto;line-height:normal;font-family:Menlo,'DejaVu Sans Mono',consolas,'Courier New',monospace\">param<span style=\"font-weight: bold\">[</span><span style=\"color: #008000; text-decoration-color: #008000\">'nsteps'</span><span style=\"font-weight: bold\">]</span>=<span style=\"color: #008080; text-decoration-color: #008080; font-weight: bold\">34</span> param<span style=\"font-weight: bold\">[</span><span style=\"color: #008000; text-decoration-color: #008000\">'aexp'</span><span style=\"font-weight: bold\">]</span>=<span style=\"color: #008080; text-decoration-color: #008080; font-weight: bold\">0.5281211460945661</span> z = <span style=\"color: #008080; text-decoration-color: #008080; font-weight: bold\">0.8935049418016272</span>                                         \n",
       "</pre>\n"
      ],
      "text/plain": [
       "param\u001b[1m[\u001b[0m\u001b[32m'nsteps'\u001b[0m\u001b[1m]\u001b[0m=\u001b[1;36m34\u001b[0m param\u001b[1m[\u001b[0m\u001b[32m'aexp'\u001b[0m\u001b[1m]\u001b[0m=\u001b[1;36m0.5281211460945661\u001b[0m z = \u001b[1;36m0.8935049418016272\u001b[0m                                         \n"
      ]
     },
     "metadata": {},
     "output_type": "display_data"
    },
    {
     "data": {
      "text/html": [
       "<pre style=\"white-space:pre;overflow-x:auto;line-height:normal;font-family:Menlo,'DejaVu Sans Mono',consolas,'Courier New',monospace\">Write <span style=\"color: #800080; text-decoration-color: #800080; font-weight: bold\">P</span><span style=\"font-weight: bold\">(</span>k<span style=\"font-weight: bold\">)</span> in .<span style=\"color: #800080; text-decoration-color: #800080\">/t4//power/</span><span style=\"color: #ff00ff; text-decoration-color: #ff00ff\">pk_eft_multigrid_ncoarse7_00035.dat</span>                                                      \n",
       "</pre>\n"
      ],
      "text/plain": [
       "Write \u001b[1;35mP\u001b[0m\u001b[1m(\u001b[0mk\u001b[1m)\u001b[0m in .\u001b[35m/t4/\u001b[0m\u001b[35m/power/\u001b[0m\u001b[95mpk_eft_multigrid_ncoarse7_00035.dat\u001b[0m                                                      \n"
      ]
     },
     "metadata": {},
     "output_type": "display_data"
    },
    {
     "name": "stdout",
     "output_type": "stream",
     "text": [
      "[0.044718373816312544, 0.2235918690815627, -0.44032629131472256, 0.2683102428978752, 0.30963327829492476, 1.4581855618145483]\n",
      "Mean chi: 0, dens: -8.0909e-09, stdev: 3.1900e+00\n",
      "op111: 1.0924e-04\n"
     ]
    },
    {
     "data": {
      "text/html": [
       "<pre style=\"white-space:pre;overflow-x:auto;line-height:normal;font-family:Menlo,'DejaVu Sans Mono',consolas,'Courier New',monospace\">param<span style=\"font-weight: bold\">[</span><span style=\"color: #008000; text-decoration-color: #008000\">'nsteps'</span><span style=\"font-weight: bold\">]</span>=<span style=\"color: #008080; text-decoration-color: #008080; font-weight: bold\">35</span> param<span style=\"font-weight: bold\">[</span><span style=\"color: #008000; text-decoration-color: #008000\">'aexp'</span><span style=\"font-weight: bold\">]</span>=<span style=\"color: #008080; text-decoration-color: #008080; font-weight: bold\">0.556447013016446</span> z = <span style=\"color: #008080; text-decoration-color: #008080; font-weight: bold\">0.7971163050711618</span>                                          \n",
       "</pre>\n"
      ],
      "text/plain": [
       "param\u001b[1m[\u001b[0m\u001b[32m'nsteps'\u001b[0m\u001b[1m]\u001b[0m=\u001b[1;36m35\u001b[0m param\u001b[1m[\u001b[0m\u001b[32m'aexp'\u001b[0m\u001b[1m]\u001b[0m=\u001b[1;36m0.556447013016446\u001b[0m z = \u001b[1;36m0.7971163050711618\u001b[0m                                          \n"
      ]
     },
     "metadata": {},
     "output_type": "display_data"
    },
    {
     "data": {
      "text/html": [
       "<pre style=\"white-space:pre;overflow-x:auto;line-height:normal;font-family:Menlo,'DejaVu Sans Mono',consolas,'Courier New',monospace\">Write <span style=\"color: #800080; text-decoration-color: #800080; font-weight: bold\">P</span><span style=\"font-weight: bold\">(</span>k<span style=\"font-weight: bold\">)</span> in .<span style=\"color: #800080; text-decoration-color: #800080\">/t4//power/</span><span style=\"color: #ff00ff; text-decoration-color: #ff00ff\">pk_eft_multigrid_ncoarse7_00036.dat</span>                                                      \n",
       "</pre>\n"
      ],
      "text/plain": [
       "Write \u001b[1;35mP\u001b[0m\u001b[1m(\u001b[0mk\u001b[1m)\u001b[0m in .\u001b[35m/t4/\u001b[0m\u001b[35m/power/\u001b[0m\u001b[95mpk_eft_multigrid_ncoarse7_00036.dat\u001b[0m                                                      \n"
      ]
     },
     "metadata": {},
     "output_type": "display_data"
    },
    {
     "name": "stdout",
     "output_type": "stream",
     "text": [
      "[0.04935085650373515, 0.24675428251867576, -0.3747001570118713, 0.2961051390224109, 0.34253009215264835, 1.4134252179891207]\n",
      "Mean chi: 0, dens: 6.0536e-09, stdev: 3.3661e+00\n",
      "op111: 1.2929e-04\n"
     ]
    },
    {
     "data": {
      "text/html": [
       "<pre style=\"white-space:pre;overflow-x:auto;line-height:normal;font-family:Menlo,'DejaVu Sans Mono',consolas,'Courier New',monospace\">param<span style=\"font-weight: bold\">[</span><span style=\"color: #008000; text-decoration-color: #008000\">'nsteps'</span><span style=\"font-weight: bold\">]</span>=<span style=\"color: #008080; text-decoration-color: #008080; font-weight: bold\">36</span> param<span style=\"font-weight: bold\">[</span><span style=\"color: #008000; text-decoration-color: #008000\">'aexp'</span><span style=\"font-weight: bold\">]</span>=<span style=\"color: #008080; text-decoration-color: #008080; font-weight: bold\">0.5852607044323481</span> z = <span style=\"color: #008080; text-decoration-color: #008080; font-weight: bold\">0.7086402562596661</span>                                         \n",
       "</pre>\n"
      ],
      "text/plain": [
       "param\u001b[1m[\u001b[0m\u001b[32m'nsteps'\u001b[0m\u001b[1m]\u001b[0m=\u001b[1;36m36\u001b[0m param\u001b[1m[\u001b[0m\u001b[32m'aexp'\u001b[0m\u001b[1m]\u001b[0m=\u001b[1;36m0.5852607044323481\u001b[0m z = \u001b[1;36m0.7086402562596661\u001b[0m                                         \n"
      ]
     },
     "metadata": {},
     "output_type": "display_data"
    },
    {
     "data": {
      "text/html": [
       "<pre style=\"white-space:pre;overflow-x:auto;line-height:normal;font-family:Menlo,'DejaVu Sans Mono',consolas,'Courier New',monospace\">Write <span style=\"color: #800080; text-decoration-color: #800080; font-weight: bold\">P</span><span style=\"font-weight: bold\">(</span>k<span style=\"font-weight: bold\">)</span> in .<span style=\"color: #800080; text-decoration-color: #800080\">/t4//power/</span><span style=\"color: #ff00ff; text-decoration-color: #ff00ff\">pk_eft_multigrid_ncoarse7_00037.dat</span>                                                      \n",
       "</pre>\n"
      ],
      "text/plain": [
       "Write \u001b[1;35mP\u001b[0m\u001b[1m(\u001b[0mk\u001b[1m)\u001b[0m in .\u001b[35m/t4/\u001b[0m\u001b[35m/power/\u001b[0m\u001b[95mpk_eft_multigrid_ncoarse7_00037.dat\u001b[0m                                                      \n"
      ]
     },
     "metadata": {},
     "output_type": "display_data"
    },
    {
     "name": "stdout",
     "output_type": "stream",
     "text": [
      "[0.05395815747155921, 0.26979078735779605, -0.30753048968197605, 0.32374894482935523, 0.37723950747215895, 1.3711573918353508]\n",
      "Mean chi: 0, dens: 4.9477e-09, stdev: 3.5510e+00\n",
      "op111: 1.5141e-04\n"
     ]
    },
    {
     "data": {
      "text/html": [
       "<pre style=\"white-space:pre;overflow-x:auto;line-height:normal;font-family:Menlo,'DejaVu Sans Mono',consolas,'Courier New',monospace\">param<span style=\"font-weight: bold\">[</span><span style=\"color: #008000; text-decoration-color: #008000\">'nsteps'</span><span style=\"font-weight: bold\">]</span>=<span style=\"color: #008080; text-decoration-color: #008080; font-weight: bold\">37</span> param<span style=\"font-weight: bold\">[</span><span style=\"color: #008000; text-decoration-color: #008000\">'aexp'</span><span style=\"font-weight: bold\">]</span>=<span style=\"color: #008080; text-decoration-color: #008080; font-weight: bold\">0.6141982639768359</span> z = <span style=\"color: #008080; text-decoration-color: #008080; font-weight: bold\">0.6281387601540249</span>                                         \n",
       "</pre>\n"
      ],
      "text/plain": [
       "param\u001b[1m[\u001b[0m\u001b[32m'nsteps'\u001b[0m\u001b[1m]\u001b[0m=\u001b[1;36m37\u001b[0m param\u001b[1m[\u001b[0m\u001b[32m'aexp'\u001b[0m\u001b[1m]\u001b[0m=\u001b[1;36m0.6141982639768359\u001b[0m z = \u001b[1;36m0.6281387601540249\u001b[0m                                         \n"
      ]
     },
     "metadata": {},
     "output_type": "display_data"
    },
    {
     "data": {
      "text/html": [
       "<pre style=\"white-space:pre;overflow-x:auto;line-height:normal;font-family:Menlo,'DejaVu Sans Mono',consolas,'Courier New',monospace\">Write <span style=\"color: #800080; text-decoration-color: #800080; font-weight: bold\">P</span><span style=\"font-weight: bold\">(</span>k<span style=\"font-weight: bold\">)</span> in .<span style=\"color: #800080; text-decoration-color: #800080\">/t4//power/</span><span style=\"color: #ff00ff; text-decoration-color: #ff00ff\">pk_eft_multigrid_ncoarse7_00038.dat</span>                                                      \n",
       "</pre>\n"
      ],
      "text/plain": [
       "Write \u001b[1;35mP\u001b[0m\u001b[1m(\u001b[0mk\u001b[1m)\u001b[0m in .\u001b[35m/t4/\u001b[0m\u001b[35m/power/\u001b[0m\u001b[95mpk_eft_multigrid_ncoarse7_00038.dat\u001b[0m                                                      \n"
      ]
     },
     "metadata": {},
     "output_type": "display_data"
    },
    {
     "name": "stdout",
     "output_type": "stream",
     "text": [
      "[0.05863021456740767, 0.29315107283703834, -0.236989980013393, 0.35178128740444603, 0.41488611354793836, 1.3300036547078677]\n",
      "Mean chi: 0, dens: -3.7835e-09, stdev: 3.7590e+00\n",
      "op111: 1.7467e-04\n"
     ]
    },
    {
     "data": {
      "text/html": [
       "<pre style=\"white-space:pre;overflow-x:auto;line-height:normal;font-family:Menlo,'DejaVu Sans Mono',consolas,'Courier New',monospace\">param<span style=\"font-weight: bold\">[</span><span style=\"color: #008000; text-decoration-color: #008000\">'nsteps'</span><span style=\"font-weight: bold\">]</span>=<span style=\"color: #008080; text-decoration-color: #008080; font-weight: bold\">38</span> param<span style=\"font-weight: bold\">[</span><span style=\"color: #008000; text-decoration-color: #008000\">'aexp'</span><span style=\"font-weight: bold\">]</span>=<span style=\"color: #008080; text-decoration-color: #008080; font-weight: bold\">0.6441165372414672</span> z = <span style=\"color: #008080; text-decoration-color: #008080; font-weight: bold\">0.5525140905132804</span>                                         \n",
       "</pre>\n"
      ],
      "text/plain": [
       "param\u001b[1m[\u001b[0m\u001b[32m'nsteps'\u001b[0m\u001b[1m]\u001b[0m=\u001b[1;36m38\u001b[0m param\u001b[1m[\u001b[0m\u001b[32m'aexp'\u001b[0m\u001b[1m]\u001b[0m=\u001b[1;36m0.6441165372414672\u001b[0m z = \u001b[1;36m0.5525140905132804\u001b[0m                                         \n"
      ]
     },
     "metadata": {},
     "output_type": "display_data"
    },
    {
     "data": {
      "text/html": [
       "<pre style=\"white-space:pre;overflow-x:auto;line-height:normal;font-family:Menlo,'DejaVu Sans Mono',consolas,'Courier New',monospace\">Write <span style=\"color: #800080; text-decoration-color: #800080; font-weight: bold\">P</span><span style=\"font-weight: bold\">(</span>k<span style=\"font-weight: bold\">)</span> in .<span style=\"color: #800080; text-decoration-color: #800080\">/t4//power/</span><span style=\"color: #ff00ff; text-decoration-color: #ff00ff\">pk_eft_multigrid_ncoarse7_00039.dat</span>                                                      \n",
       "</pre>\n"
      ],
      "text/plain": [
       "Write \u001b[1;35mP\u001b[0m\u001b[1m(\u001b[0mk\u001b[1m)\u001b[0m in .\u001b[35m/t4/\u001b[0m\u001b[35m/power/\u001b[0m\u001b[95mpk_eft_multigrid_ncoarse7_00039.dat\u001b[0m                                                      \n"
      ]
     },
     "metadata": {},
     "output_type": "display_data"
    },
    {
     "name": "stdout",
     "output_type": "stream",
     "text": [
      "[0.0632199337829992, 0.31609966891499597, -0.16472636763492743, 0.37931960269799514, 0.45475885263189464, 1.2907882858327988]\n",
      "Mean chi: 0, dens: -1.3970e-09, stdev: 3.9851e+00\n",
      "op111: 1.9802e-04\n"
     ]
    },
    {
     "data": {
      "text/html": [
       "<pre style=\"white-space:pre;overflow-x:auto;line-height:normal;font-family:Menlo,'DejaVu Sans Mono',consolas,'Courier New',monospace\">param<span style=\"font-weight: bold\">[</span><span style=\"color: #008000; text-decoration-color: #008000\">'nsteps'</span><span style=\"font-weight: bold\">]</span>=<span style=\"color: #008080; text-decoration-color: #008080; font-weight: bold\">39</span> param<span style=\"font-weight: bold\">[</span><span style=\"color: #008000; text-decoration-color: #008000\">'aexp'</span><span style=\"font-weight: bold\">]</span>=<span style=\"color: #008080; text-decoration-color: #008080; font-weight: bold\">0.6743581041493418</span> z = <span style=\"color: #008080; text-decoration-color: #008080; font-weight: bold\">0.48289164740065504</span>                                        \n",
       "</pre>\n"
      ],
      "text/plain": [
       "param\u001b[1m[\u001b[0m\u001b[32m'nsteps'\u001b[0m\u001b[1m]\u001b[0m=\u001b[1;36m39\u001b[0m param\u001b[1m[\u001b[0m\u001b[32m'aexp'\u001b[0m\u001b[1m]\u001b[0m=\u001b[1;36m0.6743581041493418\u001b[0m z = \u001b[1;36m0.48289164740065504\u001b[0m                                        \n"
      ]
     },
     "metadata": {},
     "output_type": "display_data"
    },
    {
     "data": {
      "text/html": [
       "<pre style=\"white-space:pre;overflow-x:auto;line-height:normal;font-family:Menlo,'DejaVu Sans Mono',consolas,'Courier New',monospace\">Write <span style=\"color: #800080; text-decoration-color: #800080; font-weight: bold\">P</span><span style=\"font-weight: bold\">(</span>k<span style=\"font-weight: bold\">)</span> in .<span style=\"color: #800080; text-decoration-color: #800080\">/t4//power/</span><span style=\"color: #ff00ff; text-decoration-color: #ff00ff\">pk_eft_multigrid_ncoarse7_00040.dat</span>                                                      \n",
       "</pre>\n"
      ],
      "text/plain": [
       "Write \u001b[1;35mP\u001b[0m\u001b[1m(\u001b[0mk\u001b[1m)\u001b[0m in .\u001b[35m/t4/\u001b[0m\u001b[35m/power/\u001b[0m\u001b[95mpk_eft_multigrid_ncoarse7_00040.dat\u001b[0m                                                      \n"
      ]
     },
     "metadata": {},
     "output_type": "display_data"
    },
    {
     "name": "stdout",
     "output_type": "stream",
     "text": [
      "[0.06765880084303028, 0.3382940042151514, -0.09135677345686388, 0.40595280505818165, 0.49659657759722975, 1.253640071705437]\n",
      "Mean chi: 0, dens: 1.7812e-08, stdev: 4.2273e+00\n",
      "op111: 2.1644e-04\n"
     ]
    },
    {
     "data": {
      "text/html": [
       "<pre style=\"white-space:pre;overflow-x:auto;line-height:normal;font-family:Menlo,'DejaVu Sans Mono',consolas,'Courier New',monospace\">param<span style=\"font-weight: bold\">[</span><span style=\"color: #008000; text-decoration-color: #008000\">'nsteps'</span><span style=\"font-weight: bold\">]</span>=<span style=\"color: #008080; text-decoration-color: #008080; font-weight: bold\">40</span> param<span style=\"font-weight: bold\">[</span><span style=\"color: #008000; text-decoration-color: #008000\">'aexp'</span><span style=\"font-weight: bold\">]</span>=<span style=\"color: #008080; text-decoration-color: #008080; font-weight: bold\">0.7046960888193078</span> z = <span style=\"color: #008080; text-decoration-color: #008080; font-weight: bold\">0.4190514405656245</span>                                         \n",
       "</pre>\n"
      ],
      "text/plain": [
       "param\u001b[1m[\u001b[0m\u001b[32m'nsteps'\u001b[0m\u001b[1m]\u001b[0m=\u001b[1;36m40\u001b[0m param\u001b[1m[\u001b[0m\u001b[32m'aexp'\u001b[0m\u001b[1m]\u001b[0m=\u001b[1;36m0.7046960888193078\u001b[0m z = \u001b[1;36m0.4190514405656245\u001b[0m                                         \n"
      ]
     },
     "metadata": {},
     "output_type": "display_data"
    },
    {
     "data": {
      "text/html": [
       "<pre style=\"white-space:pre;overflow-x:auto;line-height:normal;font-family:Menlo,'DejaVu Sans Mono',consolas,'Courier New',monospace\">Write <span style=\"color: #800080; text-decoration-color: #800080; font-weight: bold\">P</span><span style=\"font-weight: bold\">(</span>k<span style=\"font-weight: bold\">)</span> in .<span style=\"color: #800080; text-decoration-color: #800080\">/t4//power/</span><span style=\"color: #ff00ff; text-decoration-color: #ff00ff\">pk_eft_multigrid_ncoarse7_00041.dat</span>                                                      \n",
       "</pre>\n"
      ],
      "text/plain": [
       "Write \u001b[1;35mP\u001b[0m\u001b[1m(\u001b[0mk\u001b[1m)\u001b[0m in .\u001b[35m/t4/\u001b[0m\u001b[35m/power/\u001b[0m\u001b[95mpk_eft_multigrid_ncoarse7_00041.dat\u001b[0m                                                      \n"
      ]
     },
     "metadata": {},
     "output_type": "display_data"
    },
    {
     "name": "stdout",
     "output_type": "stream",
     "text": [
      "[0.07181713203205863, 0.35908566016029314, -0.01876902221447152, 0.4309027921923518, 0.539295762088829, 1.219253950917353]\n",
      "Mean chi: 0, dens: -5.0059e-09, stdev: 4.5023e+00\n",
      "op111: 2.1492e-04\n"
     ]
    },
    {
     "data": {
      "text/html": [
       "<pre style=\"white-space:pre;overflow-x:auto;line-height:normal;font-family:Menlo,'DejaVu Sans Mono',consolas,'Courier New',monospace\">param<span style=\"font-weight: bold\">[</span><span style=\"color: #008000; text-decoration-color: #008000\">'nsteps'</span><span style=\"font-weight: bold\">]</span>=<span style=\"color: #008080; text-decoration-color: #008080; font-weight: bold\">41</span> param<span style=\"font-weight: bold\">[</span><span style=\"color: #008000; text-decoration-color: #008000\">'aexp'</span><span style=\"font-weight: bold\">]</span>=<span style=\"color: #008080; text-decoration-color: #008080; font-weight: bold\">0.7343675932997241</span> z = <span style=\"color: #008080; text-decoration-color: #008080; font-weight: bold\">0.3617158615438263</span>                                         \n",
       "</pre>\n"
      ],
      "text/plain": [
       "param\u001b[1m[\u001b[0m\u001b[32m'nsteps'\u001b[0m\u001b[1m]\u001b[0m=\u001b[1;36m41\u001b[0m param\u001b[1m[\u001b[0m\u001b[32m'aexp'\u001b[0m\u001b[1m]\u001b[0m=\u001b[1;36m0.7343675932997241\u001b[0m z = \u001b[1;36m0.3617158615438263\u001b[0m                                         \n"
      ]
     },
     "metadata": {},
     "output_type": "display_data"
    },
    {
     "data": {
      "text/html": [
       "<pre style=\"white-space:pre;overflow-x:auto;line-height:normal;font-family:Menlo,'DejaVu Sans Mono',consolas,'Courier New',monospace\">Write <span style=\"color: #800080; text-decoration-color: #800080; font-weight: bold\">P</span><span style=\"font-weight: bold\">(</span>k<span style=\"font-weight: bold\">)</span> in .<span style=\"color: #800080; text-decoration-color: #800080\">/t4//power/</span><span style=\"color: #ff00ff; text-decoration-color: #ff00ff\">pk_eft_multigrid_ncoarse7_00042.dat</span>                                                      \n",
       "</pre>\n"
      ],
      "text/plain": [
       "Write \u001b[1;35mP\u001b[0m\u001b[1m(\u001b[0mk\u001b[1m)\u001b[0m in .\u001b[35m/t4/\u001b[0m\u001b[35m/power/\u001b[0m\u001b[95mpk_eft_multigrid_ncoarse7_00042.dat\u001b[0m                                                      \n"
      ]
     },
     "metadata": {},
     "output_type": "display_data"
    },
    {
     "name": "stdout",
     "output_type": "stream",
     "text": [
      "[0.07552467359600575, 0.37762336798002877, 0.049828574930027014, 0.45314804157603455, 0.5807777396532264, 1.1887338192397434]\n",
      "Mean chi: 0, dens: -7.2760e-09, stdev: 4.8830e+00\n",
      "op111: 5.2831e-05\n"
     ]
    },
    {
     "data": {
      "text/html": [
       "<pre style=\"white-space:pre;overflow-x:auto;line-height:normal;font-family:Menlo,'DejaVu Sans Mono',consolas,'Courier New',monospace\">param<span style=\"font-weight: bold\">[</span><span style=\"color: #008000; text-decoration-color: #008000\">'nsteps'</span><span style=\"font-weight: bold\">]</span>=<span style=\"color: #008080; text-decoration-color: #008080; font-weight: bold\">42</span> param<span style=\"font-weight: bold\">[</span><span style=\"color: #008000; text-decoration-color: #008000\">'aexp'</span><span style=\"font-weight: bold\">]</span>=<span style=\"color: #008080; text-decoration-color: #008080; font-weight: bold\">0.7620877506253636</span> z = <span style=\"color: #008080; text-decoration-color: #008080; font-weight: bold\">0.3121848490274346</span>                                         \n",
       "</pre>\n"
      ],
      "text/plain": [
       "param\u001b[1m[\u001b[0m\u001b[32m'nsteps'\u001b[0m\u001b[1m]\u001b[0m=\u001b[1;36m42\u001b[0m param\u001b[1m[\u001b[0m\u001b[32m'aexp'\u001b[0m\u001b[1m]\u001b[0m=\u001b[1;36m0.7620877506253636\u001b[0m z = \u001b[1;36m0.3121848490274346\u001b[0m                                         \n"
      ]
     },
     "metadata": {},
     "output_type": "display_data"
    },
    {
     "data": {
      "text/html": [
       "<pre style=\"white-space:pre;overflow-x:auto;line-height:normal;font-family:Menlo,'DejaVu Sans Mono',consolas,'Courier New',monospace\">Write <span style=\"color: #800080; text-decoration-color: #800080; font-weight: bold\">P</span><span style=\"font-weight: bold\">(</span>k<span style=\"font-weight: bold\">)</span> in .<span style=\"color: #800080; text-decoration-color: #800080\">/t4//power/</span><span style=\"color: #ff00ff; text-decoration-color: #ff00ff\">pk_eft_multigrid_ncoarse7_00043.dat</span>                                                      \n",
       "</pre>\n"
      ],
      "text/plain": [
       "Write \u001b[1;35mP\u001b[0m\u001b[1m(\u001b[0mk\u001b[1m)\u001b[0m in .\u001b[35m/t4/\u001b[0m\u001b[35m/power/\u001b[0m\u001b[95mpk_eft_multigrid_ncoarse7_00043.dat\u001b[0m                                                      \n"
      ]
     },
     "metadata": {},
     "output_type": "display_data"
    },
    {
     "name": "stdout",
     "output_type": "stream",
     "text": [
      "[0.0760898147817976, 0.380449073908988, 0.06065704964348173, 0.4565388886907856, 0.5874206118821563, 1.1840819949262342]\n",
      "Mean chi: 0, dens: -1.2398e-08, stdev: 6.1057e+00\n",
      "op111: nan\n"
     ]
    },
    {
     "data": {
      "text/html": [
       "<pre style=\"white-space:pre;overflow-x:auto;line-height:normal;font-family:Menlo,'DejaVu Sans Mono',consolas,'Courier New',monospace\">param<span style=\"font-weight: bold\">[</span><span style=\"color: #008000; text-decoration-color: #008000\">'nsteps'</span><span style=\"font-weight: bold\">]</span>=<span style=\"color: #008080; text-decoration-color: #008080; font-weight: bold\">43</span> param<span style=\"font-weight: bold\">[</span><span style=\"color: #008000; text-decoration-color: #008000\">'aexp'</span><span style=\"font-weight: bold\">]</span>=<span style=\"color: #008080; text-decoration-color: #008080; font-weight: bold\">0.7664336969902591</span> z = <span style=\"color: #008080; text-decoration-color: #008080; font-weight: bold\">0.30474430329321667</span>                                        \n",
       "</pre>\n"
      ],
      "text/plain": [
       "param\u001b[1m[\u001b[0m\u001b[32m'nsteps'\u001b[0m\u001b[1m]\u001b[0m=\u001b[1;36m43\u001b[0m param\u001b[1m[\u001b[0m\u001b[32m'aexp'\u001b[0m\u001b[1m]\u001b[0m=\u001b[1;36m0.7664336969902591\u001b[0m z = \u001b[1;36m0.30474430329321667\u001b[0m                                        \n"
      ]
     },
     "metadata": {},
     "output_type": "display_data"
    },
    {
     "data": {
      "text/html": [
       "<pre style=\"white-space:pre;overflow-x:auto;line-height:normal;font-family:Menlo,'DejaVu Sans Mono',consolas,'Courier New',monospace\">Write <span style=\"color: #800080; text-decoration-color: #800080; font-weight: bold\">P</span><span style=\"font-weight: bold\">(</span>k<span style=\"font-weight: bold\">)</span> in .<span style=\"color: #800080; text-decoration-color: #800080\">/t4//power/</span><span style=\"color: #ff00ff; text-decoration-color: #ff00ff\">pk_eft_multigrid_ncoarse7_00044.dat</span>                                                      \n",
       "</pre>\n"
      ],
      "text/plain": [
       "Write \u001b[1;35mP\u001b[0m\u001b[1m(\u001b[0mk\u001b[1m)\u001b[0m in .\u001b[35m/t4/\u001b[0m\u001b[35m/power/\u001b[0m\u001b[95mpk_eft_multigrid_ncoarse7_00044.dat\u001b[0m                                                      \n"
      ]
     },
     "metadata": {},
     "output_type": "display_data"
    },
    {
     "name": "stdout",
     "output_type": "stream",
     "text": [
      "[0.07659079775271581, 0.382953988763579, 0.07034591870335649, 0.45954478651629477, 0.5933853774962874, 1.179956965044791]\n",
      "Mean chi: 0, dens: 4.3656e-09, stdev: 6.3853e+00\n",
      "op111: 4.2711e-04\n"
     ]
    },
    {
     "data": {
      "text/html": [
       "<pre style=\"white-space:pre;overflow-x:auto;line-height:normal;font-family:Menlo,'DejaVu Sans Mono',consolas,'Courier New',monospace\">param<span style=\"font-weight: bold\">[</span><span style=\"color: #008000; text-decoration-color: #008000\">'nsteps'</span><span style=\"font-weight: bold\">]</span>=<span style=\"color: #008080; text-decoration-color: #008080; font-weight: bold\">44</span> param<span style=\"font-weight: bold\">[</span><span style=\"color: #008000; text-decoration-color: #008000\">'aexp'</span><span style=\"font-weight: bold\">]</span>=<span style=\"color: #008080; text-decoration-color: #008080; font-weight: bold\">0.7703151157132303</span> z = <span style=\"color: #008080; text-decoration-color: #008080; font-weight: bold\">0.2981700340569142</span>                                         \n",
       "</pre>\n"
      ],
      "text/plain": [
       "param\u001b[1m[\u001b[0m\u001b[32m'nsteps'\u001b[0m\u001b[1m]\u001b[0m=\u001b[1;36m44\u001b[0m param\u001b[1m[\u001b[0m\u001b[32m'aexp'\u001b[0m\u001b[1m]\u001b[0m=\u001b[1;36m0.7703151157132303\u001b[0m z = \u001b[1;36m0.2981700340569142\u001b[0m                                         \n"
      ]
     },
     "metadata": {},
     "output_type": "display_data"
    },
    {
     "data": {
      "text/html": [
       "<pre style=\"white-space:pre;overflow-x:auto;line-height:normal;font-family:Menlo,'DejaVu Sans Mono',consolas,'Courier New',monospace\">Write <span style=\"color: #800080; text-decoration-color: #800080; font-weight: bold\">P</span><span style=\"font-weight: bold\">(</span>k<span style=\"font-weight: bold\">)</span> in .<span style=\"color: #800080; text-decoration-color: #800080\">/t4//power/</span><span style=\"color: #ff00ff; text-decoration-color: #ff00ff\">pk_eft_multigrid_ncoarse7_00045.dat</span>                                                      \n",
       "</pre>\n"
      ],
      "text/plain": [
       "Write \u001b[1;35mP\u001b[0m\u001b[1m(\u001b[0mk\u001b[1m)\u001b[0m in .\u001b[35m/t4/\u001b[0m\u001b[35m/power/\u001b[0m\u001b[95mpk_eft_multigrid_ncoarse7_00045.dat\u001b[0m                                                      \n"
      ]
     },
     "metadata": {},
     "output_type": "display_data"
    },
    {
     "name": "stdout",
     "output_type": "stream",
     "text": [
      "[0.07708901082566423, 0.3854450541283212, 0.08006730276817353, 0.46253406495398547, 0.599389780011665, 1.1758530954067505]\n",
      "Mean chi: 0, dens: -3.0268e-09, stdev: 6.2979e+00\n",
      "op111: 4.0522e-04\n"
     ]
    },
    {
     "data": {
      "text/html": [
       "<pre style=\"white-space:pre;overflow-x:auto;line-height:normal;font-family:Menlo,'DejaVu Sans Mono',consolas,'Courier New',monospace\">param<span style=\"font-weight: bold\">[</span><span style=\"color: #008000; text-decoration-color: #008000\">'nsteps'</span><span style=\"font-weight: bold\">]</span>=<span style=\"color: #008080; text-decoration-color: #008080; font-weight: bold\">45</span> param<span style=\"font-weight: bold\">[</span><span style=\"color: #008000; text-decoration-color: #008000\">'aexp'</span><span style=\"font-weight: bold\">]</span>=<span style=\"color: #008080; text-decoration-color: #008080; font-weight: bold\">0.7742026737306356</span> z = <span style=\"color: #008080; text-decoration-color: #008080; font-weight: bold\">0.29165144209760885</span>                                        \n",
       "</pre>\n"
      ],
      "text/plain": [
       "param\u001b[1m[\u001b[0m\u001b[32m'nsteps'\u001b[0m\u001b[1m]\u001b[0m=\u001b[1;36m45\u001b[0m param\u001b[1m[\u001b[0m\u001b[32m'aexp'\u001b[0m\u001b[1m]\u001b[0m=\u001b[1;36m0.7742026737306356\u001b[0m z = \u001b[1;36m0.29165144209760885\u001b[0m                                        \n"
      ]
     },
     "metadata": {},
     "output_type": "display_data"
    },
    {
     "data": {
      "text/html": [
       "<pre style=\"white-space:pre;overflow-x:auto;line-height:normal;font-family:Menlo,'DejaVu Sans Mono',consolas,'Courier New',monospace\">Write <span style=\"color: #800080; text-decoration-color: #800080; font-weight: bold\">P</span><span style=\"font-weight: bold\">(</span>k<span style=\"font-weight: bold\">)</span> in .<span style=\"color: #800080; text-decoration-color: #800080\">/t4//power/</span><span style=\"color: #ff00ff; text-decoration-color: #ff00ff\">pk_eft_multigrid_ncoarse7_00046.dat</span>                                                      \n",
       "</pre>\n"
      ],
      "text/plain": [
       "Write \u001b[1;35mP\u001b[0m\u001b[1m(\u001b[0mk\u001b[1m)\u001b[0m in .\u001b[35m/t4/\u001b[0m\u001b[35m/power/\u001b[0m\u001b[95mpk_eft_multigrid_ncoarse7_00046.dat\u001b[0m                                                      \n"
      ]
     },
     "metadata": {},
     "output_type": "display_data"
    },
    {
     "name": "stdout",
     "output_type": "stream",
     "text": [
      "[0.07758306886381688, 0.38791534431908437, 0.08979479785773725, 0.4654984131829012, 0.6054173160184702, 1.1717814266593456]\n",
      "Mean chi: 0, dens: 2.6776e-09, stdev: 6.2657e+00\n",
      "op111: 3.6476e-04\n"
     ]
    },
    {
     "data": {
      "text/html": [
       "<pre style=\"white-space:pre;overflow-x:auto;line-height:normal;font-family:Menlo,'DejaVu Sans Mono',consolas,'Courier New',monospace\">param<span style=\"font-weight: bold\">[</span><span style=\"color: #008000; text-decoration-color: #008000\">'nsteps'</span><span style=\"font-weight: bold\">]</span>=<span style=\"color: #008080; text-decoration-color: #008080; font-weight: bold\">46</span> param<span style=\"font-weight: bold\">[</span><span style=\"color: #008000; text-decoration-color: #008000\">'aexp'</span><span style=\"font-weight: bold\">]</span>=<span style=\"color: #008080; text-decoration-color: #008080; font-weight: bold\">0.7780856739578683</span> z = <span style=\"color: #008080; text-decoration-color: #008080; font-weight: bold\">0.2852055158827509</span>                                         \n",
       "</pre>\n"
      ],
      "text/plain": [
       "param\u001b[1m[\u001b[0m\u001b[32m'nsteps'\u001b[0m\u001b[1m]\u001b[0m=\u001b[1;36m46\u001b[0m param\u001b[1m[\u001b[0m\u001b[32m'aexp'\u001b[0m\u001b[1m]\u001b[0m=\u001b[1;36m0.7780856739578683\u001b[0m z = \u001b[1;36m0.2852055158827509\u001b[0m                                         \n"
      ]
     },
     "metadata": {},
     "output_type": "display_data"
    },
    {
     "data": {
      "text/html": [
       "<pre style=\"white-space:pre;overflow-x:auto;line-height:normal;font-family:Menlo,'DejaVu Sans Mono',consolas,'Courier New',monospace\">Write <span style=\"color: #800080; text-decoration-color: #800080; font-weight: bold\">P</span><span style=\"font-weight: bold\">(</span>k<span style=\"font-weight: bold\">)</span> in .<span style=\"color: #800080; text-decoration-color: #800080\">/t4//power/</span><span style=\"color: #ff00ff; text-decoration-color: #ff00ff\">pk_eft_multigrid_ncoarse7_00047.dat</span>                                                      \n",
       "</pre>\n"
      ],
      "text/plain": [
       "Write \u001b[1;35mP\u001b[0m\u001b[1m(\u001b[0mk\u001b[1m)\u001b[0m in .\u001b[35m/t4/\u001b[0m\u001b[35m/power/\u001b[0m\u001b[95mpk_eft_multigrid_ncoarse7_00047.dat\u001b[0m                                                      \n"
      ]
     },
     "metadata": {},
     "output_type": "display_data"
    },
    {
     "name": "stdout",
     "output_type": "stream",
     "text": [
      "[0.07807730732276098, 0.3903865366138049, 0.09961519341292302, 0.46846384393656587, 0.6115217333653782, 1.1677058517570607]\n",
      "Mean chi: 0, dens: -2.9104e-09, stdev: 6.2125e+00\n",
      "op111: 3.3768e-04\n"
     ]
    },
    {
     "data": {
      "text/html": [
       "<pre style=\"white-space:pre;overflow-x:auto;line-height:normal;font-family:Menlo,'DejaVu Sans Mono',consolas,'Courier New',monospace\">param<span style=\"font-weight: bold\">[</span><span style=\"color: #008000; text-decoration-color: #008000\">'nsteps'</span><span style=\"font-weight: bold\">]</span>=<span style=\"color: #008080; text-decoration-color: #008080; font-weight: bold\">47</span> param<span style=\"font-weight: bold\">[</span><span style=\"color: #008000; text-decoration-color: #008000\">'aexp'</span><span style=\"font-weight: bold\">]</span>=<span style=\"color: #008080; text-decoration-color: #008080; font-weight: bold\">0.7819985507437838</span> z = <span style=\"color: #008080; text-decoration-color: #008080; font-weight: bold\">0.2787747484299914</span>                                         \n",
       "</pre>\n"
      ],
      "text/plain": [
       "param\u001b[1m[\u001b[0m\u001b[32m'nsteps'\u001b[0m\u001b[1m]\u001b[0m=\u001b[1;36m47\u001b[0m param\u001b[1m[\u001b[0m\u001b[32m'aexp'\u001b[0m\u001b[1m]\u001b[0m=\u001b[1;36m0.7819985507437838\u001b[0m z = \u001b[1;36m0.2787747484299914\u001b[0m                                         \n"
      ]
     },
     "metadata": {},
     "output_type": "display_data"
    },
    {
     "data": {
      "text/html": [
       "<pre style=\"white-space:pre;overflow-x:auto;line-height:normal;font-family:Menlo,'DejaVu Sans Mono',consolas,'Courier New',monospace\">Write <span style=\"color: #800080; text-decoration-color: #800080; font-weight: bold\">P</span><span style=\"font-weight: bold\">(</span>k<span style=\"font-weight: bold\">)</span> in .<span style=\"color: #800080; text-decoration-color: #800080\">/t4//power/</span><span style=\"color: #ff00ff; text-decoration-color: #ff00ff\">pk_eft_multigrid_ncoarse7_00048.dat</span>                                                      \n",
       "</pre>\n"
      ],
      "text/plain": [
       "Write \u001b[1;35mP\u001b[0m\u001b[1m(\u001b[0mk\u001b[1m)\u001b[0m in .\u001b[35m/t4/\u001b[0m\u001b[35m/power/\u001b[0m\u001b[95mpk_eft_multigrid_ncoarse7_00048.dat\u001b[0m                                                      \n"
      ]
     },
     "metadata": {},
     "output_type": "display_data"
    },
    {
     "name": "stdout",
     "output_type": "stream",
     "text": [
      "[0.07857296699953817, 0.39286483499769087, 0.10955615659695317, 0.47143780199722907, 0.6177205177922532, 1.1636157220894383]\n",
      "Mean chi: 0, dens: 5.6461e-09, stdev: 6.1212e+00\n",
      "op111: 3.1670e-04\n"
     ]
    },
    {
     "data": {
      "text/html": [
       "<pre style=\"white-space:pre;overflow-x:auto;line-height:normal;font-family:Menlo,'DejaVu Sans Mono',consolas,'Courier New',monospace\">param<span style=\"font-weight: bold\">[</span><span style=\"color: #008000; text-decoration-color: #008000\">'nsteps'</span><span style=\"font-weight: bold\">]</span>=<span style=\"color: #008080; text-decoration-color: #008080; font-weight: bold\">48</span> param<span style=\"font-weight: bold\">[</span><span style=\"color: #008000; text-decoration-color: #008000\">'aexp'</span><span style=\"font-weight: bold\">]</span>=<span style=\"color: #008080; text-decoration-color: #008080; font-weight: bold\">0.7859519818616486</span> z = <span style=\"color: #008080; text-decoration-color: #008080; font-weight: bold\">0.2723423607016622</span>                                         \n",
       "</pre>\n"
      ],
      "text/plain": [
       "param\u001b[1m[\u001b[0m\u001b[32m'nsteps'\u001b[0m\u001b[1m]\u001b[0m=\u001b[1;36m48\u001b[0m param\u001b[1m[\u001b[0m\u001b[32m'aexp'\u001b[0m\u001b[1m]\u001b[0m=\u001b[1;36m0.7859519818616486\u001b[0m z = \u001b[1;36m0.2723423607016622\u001b[0m                                         \n"
      ]
     },
     "metadata": {},
     "output_type": "display_data"
    },
    {
     "data": {
      "text/html": [
       "<pre style=\"white-space:pre;overflow-x:auto;line-height:normal;font-family:Menlo,'DejaVu Sans Mono',consolas,'Courier New',monospace\">Write <span style=\"color: #800080; text-decoration-color: #800080; font-weight: bold\">P</span><span style=\"font-weight: bold\">(</span>k<span style=\"font-weight: bold\">)</span> in .<span style=\"color: #800080; text-decoration-color: #800080\">/t4//power/</span><span style=\"color: #ff00ff; text-decoration-color: #ff00ff\">pk_eft_multigrid_ncoarse7_00049.dat</span>                                                      \n",
       "</pre>\n"
      ],
      "text/plain": [
       "Write \u001b[1;35mP\u001b[0m\u001b[1m(\u001b[0mk\u001b[1m)\u001b[0m in .\u001b[35m/t4/\u001b[0m\u001b[35m/power/\u001b[0m\u001b[95mpk_eft_multigrid_ncoarse7_00049.dat\u001b[0m                                                      \n"
      ]
     },
     "metadata": {},
     "output_type": "display_data"
    },
    {
     "name": "stdout",
     "output_type": "stream",
     "text": [
      "[0.07907044561861694, 0.3953522280930846, 0.1196292699530036, 0.4744226737117015, 0.6240212692182806, 1.1595073166270422]\n",
      "Mean chi: 0, dens: -5.2387e-10, stdev: 6.0076e+00\n",
      "op111: 2.9861e-04\n"
     ]
    },
    {
     "data": {
      "text/html": [
       "<pre style=\"white-space:pre;overflow-x:auto;line-height:normal;font-family:Menlo,'DejaVu Sans Mono',consolas,'Courier New',monospace\">param<span style=\"font-weight: bold\">[</span><span style=\"color: #008000; text-decoration-color: #008000\">'nsteps'</span><span style=\"font-weight: bold\">]</span>=<span style=\"color: #008080; text-decoration-color: #008080; font-weight: bold\">49</span> param<span style=\"font-weight: bold\">[</span><span style=\"color: #008000; text-decoration-color: #008000\">'aexp'</span><span style=\"font-weight: bold\">]</span>=<span style=\"color: #008080; text-decoration-color: #008080; font-weight: bold\">0.7899501688197051</span> z = <span style=\"color: #008080; text-decoration-color: #008080; font-weight: bold\">0.26590263471193176</span>                                        \n",
       "</pre>\n"
      ],
      "text/plain": [
       "param\u001b[1m[\u001b[0m\u001b[32m'nsteps'\u001b[0m\u001b[1m]\u001b[0m=\u001b[1;36m49\u001b[0m param\u001b[1m[\u001b[0m\u001b[32m'aexp'\u001b[0m\u001b[1m]\u001b[0m=\u001b[1;36m0.7899501688197051\u001b[0m z = \u001b[1;36m0.26590263471193176\u001b[0m                                        \n"
      ]
     },
     "metadata": {},
     "output_type": "display_data"
    },
    {
     "data": {
      "text/html": [
       "<pre style=\"white-space:pre;overflow-x:auto;line-height:normal;font-family:Menlo,'DejaVu Sans Mono',consolas,'Courier New',monospace\">Write <span style=\"color: #800080; text-decoration-color: #800080; font-weight: bold\">P</span><span style=\"font-weight: bold\">(</span>k<span style=\"font-weight: bold\">)</span> in .<span style=\"color: #800080; text-decoration-color: #800080\">/t4//power/</span><span style=\"color: #ff00ff; text-decoration-color: #ff00ff\">pk_eft_multigrid_ncoarse7_00050.dat</span>                                                      \n",
       "</pre>\n"
      ],
      "text/plain": [
       "Write \u001b[1;35mP\u001b[0m\u001b[1m(\u001b[0mk\u001b[1m)\u001b[0m in .\u001b[35m/t4/\u001b[0m\u001b[35m/power/\u001b[0m\u001b[95mpk_eft_multigrid_ncoarse7_00050.dat\u001b[0m                                                      \n"
      ]
     },
     "metadata": {},
     "output_type": "display_data"
    },
    {
     "name": "stdout",
     "output_type": "stream",
     "text": [
      "[0.07956990088920683, 0.3978495044460342, 0.12984165637062928, 0.477419405335241, 0.630428847114632, 1.1553788768652031]\n",
      "Mean chi: 0, dens: 1.3853e-08, stdev: 5.8799e+00\n",
      "op111: 2.8197e-04\n"
     ]
    },
    {
     "data": {
      "text/html": [
       "<pre style=\"white-space:pre;overflow-x:auto;line-height:normal;font-family:Menlo,'DejaVu Sans Mono',consolas,'Courier New',monospace\">param<span style=\"font-weight: bold\">[</span><span style=\"color: #008000; text-decoration-color: #008000\">'nsteps'</span><span style=\"font-weight: bold\">]</span>=<span style=\"color: #008080; text-decoration-color: #008080; font-weight: bold\">50</span> param<span style=\"font-weight: bold\">[</span><span style=\"color: #008000; text-decoration-color: #008000\">'aexp'</span><span style=\"font-weight: bold\">]</span>=<span style=\"color: #008080; text-decoration-color: #008080; font-weight: bold\">0.7939954956513494</span> z = <span style=\"color: #008080; text-decoration-color: #008080; font-weight: bold\">0.2594529886843451</span>                                         \n",
       "</pre>\n"
      ],
      "text/plain": [
       "param\u001b[1m[\u001b[0m\u001b[32m'nsteps'\u001b[0m\u001b[1m]\u001b[0m=\u001b[1;36m50\u001b[0m param\u001b[1m[\u001b[0m\u001b[32m'aexp'\u001b[0m\u001b[1m]\u001b[0m=\u001b[1;36m0.7939954956513494\u001b[0m z = \u001b[1;36m0.2594529886843451\u001b[0m                                         \n"
      ]
     },
     "metadata": {},
     "output_type": "display_data"
    },
    {
     "data": {
      "text/html": [
       "<pre style=\"white-space:pre;overflow-x:auto;line-height:normal;font-family:Menlo,'DejaVu Sans Mono',consolas,'Courier New',monospace\">Write <span style=\"color: #800080; text-decoration-color: #800080; font-weight: bold\">P</span><span style=\"font-weight: bold\">(</span>k<span style=\"font-weight: bold\">)</span> in .<span style=\"color: #800080; text-decoration-color: #800080\">/t4//power/</span><span style=\"color: #ff00ff; text-decoration-color: #ff00ff\">pk_eft_multigrid_ncoarse7_00051.dat</span>                                                      \n",
       "</pre>\n"
      ],
      "text/plain": [
       "Write \u001b[1;35mP\u001b[0m\u001b[1m(\u001b[0mk\u001b[1m)\u001b[0m in .\u001b[35m/t4/\u001b[0m\u001b[35m/power/\u001b[0m\u001b[95mpk_eft_multigrid_ncoarse7_00051.dat\u001b[0m                                                      \n"
      ]
     },
     "metadata": {},
     "output_type": "display_data"
    },
    {
     "name": "stdout",
     "output_type": "stream",
     "text": [
      "[0.08007140228038521, 0.40035701140192603, 0.14019891435344822, 0.4804284136823112, 0.6369471747269109, 1.1512293568920855]\n",
      "Mean chi: 0, dens: 7.7998e-09, stdev: 5.7440e+00\n",
      "op111: 2.6601e-04\n"
     ]
    },
    {
     "data": {
      "text/html": [
       "<pre style=\"white-space:pre;overflow-x:auto;line-height:normal;font-family:Menlo,'DejaVu Sans Mono',consolas,'Courier New',monospace\">param<span style=\"font-weight: bold\">[</span><span style=\"color: #008000; text-decoration-color: #008000\">'nsteps'</span><span style=\"font-weight: bold\">]</span>=<span style=\"color: #008080; text-decoration-color: #008080; font-weight: bold\">51</span> param<span style=\"font-weight: bold\">[</span><span style=\"color: #008000; text-decoration-color: #008000\">'aexp'</span><span style=\"font-weight: bold\">]</span>=<span style=\"color: #008080; text-decoration-color: #008080; font-weight: bold\">0.7980897034337123</span> z = <span style=\"color: #008080; text-decoration-color: #008080; font-weight: bold\">0.2529919828530376</span>                                         \n",
       "</pre>\n"
      ],
      "text/plain": [
       "param\u001b[1m[\u001b[0m\u001b[32m'nsteps'\u001b[0m\u001b[1m]\u001b[0m=\u001b[1;36m51\u001b[0m param\u001b[1m[\u001b[0m\u001b[32m'aexp'\u001b[0m\u001b[1m]\u001b[0m=\u001b[1;36m0.7980897034337123\u001b[0m z = \u001b[1;36m0.2529919828530376\u001b[0m                                         \n"
      ]
     },
     "metadata": {},
     "output_type": "display_data"
    },
    {
     "data": {
      "text/html": [
       "<pre style=\"white-space:pre;overflow-x:auto;line-height:normal;font-family:Menlo,'DejaVu Sans Mono',consolas,'Courier New',monospace\">Write <span style=\"color: #800080; text-decoration-color: #800080; font-weight: bold\">P</span><span style=\"font-weight: bold\">(</span>k<span style=\"font-weight: bold\">)</span> in .<span style=\"color: #800080; text-decoration-color: #800080\">/t4//power/</span><span style=\"color: #ff00ff; text-decoration-color: #ff00ff\">pk_eft_multigrid_ncoarse7_00052.dat</span>                                                      \n",
       "</pre>\n"
      ],
      "text/plain": [
       "Write \u001b[1;35mP\u001b[0m\u001b[1m(\u001b[0mk\u001b[1m)\u001b[0m in .\u001b[35m/t4/\u001b[0m\u001b[35m/power/\u001b[0m\u001b[95mpk_eft_multigrid_ncoarse7_00052.dat\u001b[0m                                                      \n"
      ]
     },
     "metadata": {},
     "output_type": "display_data"
    },
    {
     "name": "stdout",
     "output_type": "stream",
     "text": [
      "[0.08057498018057714, 0.4028749009028857, 0.15070607513625212, 0.4834498810834628, 0.643579826735538, 1.1470580182699877]\n",
      "Mean chi: 0, dens: -7.6834e-09, stdev: 5.6033e+00\n",
      "op111: 2.5020e-04\n"
     ]
    },
    {
     "data": {
      "text/html": [
       "<pre style=\"white-space:pre;overflow-x:auto;line-height:normal;font-family:Menlo,'DejaVu Sans Mono',consolas,'Courier New',monospace\">param<span style=\"font-weight: bold\">[</span><span style=\"color: #008000; text-decoration-color: #008000\">'nsteps'</span><span style=\"font-weight: bold\">]</span>=<span style=\"color: #008080; text-decoration-color: #008080; font-weight: bold\">52</span> param<span style=\"font-weight: bold\">[</span><span style=\"color: #008000; text-decoration-color: #008000\">'aexp'</span><span style=\"font-weight: bold\">]</span>=<span style=\"color: #008080; text-decoration-color: #008080; font-weight: bold\">0.8022342717283637</span> z = <span style=\"color: #008080; text-decoration-color: #008080; font-weight: bold\">0.24651867321195642</span>                                        \n",
       "</pre>\n"
      ],
      "text/plain": [
       "param\u001b[1m[\u001b[0m\u001b[32m'nsteps'\u001b[0m\u001b[1m]\u001b[0m=\u001b[1;36m52\u001b[0m param\u001b[1m[\u001b[0m\u001b[32m'aexp'\u001b[0m\u001b[1m]\u001b[0m=\u001b[1;36m0.8022342717283637\u001b[0m z = \u001b[1;36m0.24651867321195642\u001b[0m                                        \n"
      ]
     },
     "metadata": {},
     "output_type": "display_data"
    },
    {
     "data": {
      "text/html": [
       "<pre style=\"white-space:pre;overflow-x:auto;line-height:normal;font-family:Menlo,'DejaVu Sans Mono',consolas,'Courier New',monospace\">Write <span style=\"color: #800080; text-decoration-color: #800080; font-weight: bold\">P</span><span style=\"font-weight: bold\">(</span>k<span style=\"font-weight: bold\">)</span> in .<span style=\"color: #800080; text-decoration-color: #800080\">/t4//power/</span><span style=\"color: #ff00ff; text-decoration-color: #ff00ff\">pk_eft_multigrid_ncoarse7_00053.dat</span>                                                      \n",
       "</pre>\n"
      ],
      "text/plain": [
       "Write \u001b[1;35mP\u001b[0m\u001b[1m(\u001b[0mk\u001b[1m)\u001b[0m in .\u001b[35m/t4/\u001b[0m\u001b[35m/power/\u001b[0m\u001b[95mpk_eft_multigrid_ncoarse7_00053.dat\u001b[0m                                                      \n"
      ]
     },
     "metadata": {},
     "output_type": "display_data"
    },
    {
     "name": "stdout",
     "output_type": "stream",
     "text": [
      "[0.08108064485427008, 0.40540322427135034, 0.16136797734892472, 0.48648386912562036, 0.6503302584894938, 1.1428642735834833]\n",
      "Mean chi: 0, dens: 4.3074e-09, stdev: 5.4595e+00\n",
      "op111: 2.3415e-04\n"
     ]
    },
    {
     "data": {
      "text/html": [
       "<pre style=\"white-space:pre;overflow-x:auto;line-height:normal;font-family:Menlo,'DejaVu Sans Mono',consolas,'Courier New',monospace\">param<span style=\"font-weight: bold\">[</span><span style=\"color: #008000; text-decoration-color: #008000\">'nsteps'</span><span style=\"font-weight: bold\">]</span>=<span style=\"color: #008080; text-decoration-color: #008080; font-weight: bold\">53</span> param<span style=\"font-weight: bold\">[</span><span style=\"color: #008000; text-decoration-color: #008000\">'aexp'</span><span style=\"font-weight: bold\">]</span>=<span style=\"color: #008080; text-decoration-color: #008080; font-weight: bold\">0.8064305664404678</span> z = <span style=\"color: #008080; text-decoration-color: #008080; font-weight: bold\">0.24003236188570454</span>                                        \n",
       "</pre>\n"
      ],
      "text/plain": [
       "param\u001b[1m[\u001b[0m\u001b[32m'nsteps'\u001b[0m\u001b[1m]\u001b[0m=\u001b[1;36m53\u001b[0m param\u001b[1m[\u001b[0m\u001b[32m'aexp'\u001b[0m\u001b[1m]\u001b[0m=\u001b[1;36m0.8064305664404678\u001b[0m z = \u001b[1;36m0.24003236188570454\u001b[0m                                        \n"
      ]
     },
     "metadata": {},
     "output_type": "display_data"
    },
    {
     "data": {
      "text/html": [
       "<pre style=\"white-space:pre;overflow-x:auto;line-height:normal;font-family:Menlo,'DejaVu Sans Mono',consolas,'Courier New',monospace\">Write <span style=\"color: #800080; text-decoration-color: #800080; font-weight: bold\">P</span><span style=\"font-weight: bold\">(</span>k<span style=\"font-weight: bold\">)</span> in .<span style=\"color: #800080; text-decoration-color: #800080\">/t4//power/</span><span style=\"color: #ff00ff; text-decoration-color: #ff00ff\">pk_eft_multigrid_ncoarse7_00054.dat</span>                                                      \n",
       "</pre>\n"
      ],
      "text/plain": [
       "Write \u001b[1;35mP\u001b[0m\u001b[1m(\u001b[0mk\u001b[1m)\u001b[0m in .\u001b[35m/t4/\u001b[0m\u001b[35m/power/\u001b[0m\u001b[95mpk_eft_multigrid_ncoarse7_00054.dat\u001b[0m                                                      \n"
      ]
     },
     "metadata": {},
     "output_type": "display_data"
    },
    {
     "name": "stdout",
     "output_type": "stream",
     "text": [
      "[0.0815883944655831, 0.40794197232791546, 0.17218943040619372, 0.48953036679349854, 0.6572019049778866, 1.1386476200321147]\n",
      "Mean chi: 0, dens: -9.3132e-10, stdev: 5.3171e+00\n",
      "op111: 2.1742e-04\n"
     ]
    },
    {
     "data": {
      "text/html": [
       "<pre style=\"white-space:pre;overflow-x:auto;line-height:normal;font-family:Menlo,'DejaVu Sans Mono',consolas,'Courier New',monospace\">param<span style=\"font-weight: bold\">[</span><span style=\"color: #008000; text-decoration-color: #008000\">'nsteps'</span><span style=\"font-weight: bold\">]</span>=<span style=\"color: #008080; text-decoration-color: #008080; font-weight: bold\">54</span> param<span style=\"font-weight: bold\">[</span><span style=\"color: #008000; text-decoration-color: #008000\">'aexp'</span><span style=\"font-weight: bold\">]</span>=<span style=\"color: #008080; text-decoration-color: #008080; font-weight: bold\">0.8106799029073599</span> z = <span style=\"color: #008080; text-decoration-color: #008080; font-weight: bold\">0.2335324909544163</span>                                         \n",
       "</pre>\n"
      ],
      "text/plain": [
       "param\u001b[1m[\u001b[0m\u001b[32m'nsteps'\u001b[0m\u001b[1m]\u001b[0m=\u001b[1;36m54\u001b[0m param\u001b[1m[\u001b[0m\u001b[32m'aexp'\u001b[0m\u001b[1m]\u001b[0m=\u001b[1;36m0.8106799029073599\u001b[0m z = \u001b[1;36m0.2335324909544163\u001b[0m                                         \n"
      ]
     },
     "metadata": {},
     "output_type": "display_data"
    },
    {
     "data": {
      "text/html": [
       "<pre style=\"white-space:pre;overflow-x:auto;line-height:normal;font-family:Menlo,'DejaVu Sans Mono',consolas,'Courier New',monospace\">Write <span style=\"color: #800080; text-decoration-color: #800080; font-weight: bold\">P</span><span style=\"font-weight: bold\">(</span>k<span style=\"font-weight: bold\">)</span> in .<span style=\"color: #800080; text-decoration-color: #800080\">/t4//power/</span><span style=\"color: #ff00ff; text-decoration-color: #ff00ff\">pk_eft_multigrid_ncoarse7_00055.dat</span>                                                      \n",
       "</pre>\n"
      ],
      "text/plain": [
       "Write \u001b[1;35mP\u001b[0m\u001b[1m(\u001b[0mk\u001b[1m)\u001b[0m in .\u001b[35m/t4/\u001b[0m\u001b[35m/power/\u001b[0m\u001b[95mpk_eft_multigrid_ncoarse7_00055.dat\u001b[0m                                                      \n"
      ]
     },
     "metadata": {},
     "output_type": "display_data"
    },
    {
     "name": "stdout",
     "output_type": "stream",
     "text": [
      "[0.08209821969999047, 0.41049109849995236, 0.18317531436069767, 0.49258931819994284, 0.6641982409066586, 1.1344076009811264]\n",
      "Mean chi: 0, dens: -1.9674e-08, stdev: 5.1800e+00\n",
      "op111: 1.9956e-04\n"
     ]
    },
    {
     "data": {
      "text/html": [
       "<pre style=\"white-space:pre;overflow-x:auto;line-height:normal;font-family:Menlo,'DejaVu Sans Mono',consolas,'Courier New',monospace\">param<span style=\"font-weight: bold\">[</span><span style=\"color: #008000; text-decoration-color: #008000\">'nsteps'</span><span style=\"font-weight: bold\">]</span>=<span style=\"color: #008080; text-decoration-color: #008080; font-weight: bold\">55</span> param<span style=\"font-weight: bold\">[</span><span style=\"color: #008000; text-decoration-color: #008000\">'aexp'</span><span style=\"font-weight: bold\">]</span>=<span style=\"color: #008080; text-decoration-color: #008080; font-weight: bold\">0.814983583212974</span> z = <span style=\"color: #008080; text-decoration-color: #008080; font-weight: bold\">0.22701858123033736</span>                                         \n",
       "</pre>\n"
      ],
      "text/plain": [
       "param\u001b[1m[\u001b[0m\u001b[32m'nsteps'\u001b[0m\u001b[1m]\u001b[0m=\u001b[1;36m55\u001b[0m param\u001b[1m[\u001b[0m\u001b[32m'aexp'\u001b[0m\u001b[1m]\u001b[0m=\u001b[1;36m0.814983583212974\u001b[0m z = \u001b[1;36m0.22701858123033736\u001b[0m                                         \n"
      ]
     },
     "metadata": {},
     "output_type": "display_data"
    },
    {
     "data": {
      "text/html": [
       "<pre style=\"white-space:pre;overflow-x:auto;line-height:normal;font-family:Menlo,'DejaVu Sans Mono',consolas,'Courier New',monospace\">Write <span style=\"color: #800080; text-decoration-color: #800080; font-weight: bold\">P</span><span style=\"font-weight: bold\">(</span>k<span style=\"font-weight: bold\">)</span> in .<span style=\"color: #800080; text-decoration-color: #800080\">/t4//power/</span><span style=\"color: #ff00ff; text-decoration-color: #ff00ff\">pk_eft_multigrid_ncoarse7_00056.dat</span>                                                      \n",
       "</pre>\n"
      ],
      "text/plain": [
       "Write \u001b[1;35mP\u001b[0m\u001b[1m(\u001b[0mk\u001b[1m)\u001b[0m in .\u001b[35m/t4/\u001b[0m\u001b[35m/power/\u001b[0m\u001b[95mpk_eft_multigrid_ncoarse7_00056.dat\u001b[0m                                                      \n"
      ]
     },
     "metadata": {},
     "output_type": "display_data"
    },
    {
     "name": "stdout",
     "output_type": "stream",
     "text": [
      "[0.0826101059544121, 0.41305052977206047, 0.19433063285001562, 0.49566063572647256, 0.6713228116362678, 1.1301437875488325]\n",
      "Mean chi: 0, dens: -1.9791e-09, stdev: 5.0502e+00\n",
      "op111: 1.8004e-04\n"
     ]
    },
    {
     "data": {
      "text/html": [
       "<pre style=\"white-space:pre;overflow-x:auto;line-height:normal;font-family:Menlo,'DejaVu Sans Mono',consolas,'Courier New',monospace\">param<span style=\"font-weight: bold\">[</span><span style=\"color: #008000; text-decoration-color: #008000\">'nsteps'</span><span style=\"font-weight: bold\">]</span>=<span style=\"color: #008080; text-decoration-color: #008080; font-weight: bold\">56</span> param<span style=\"font-weight: bold\">[</span><span style=\"color: #008000; text-decoration-color: #008000\">'aexp'</span><span style=\"font-weight: bold\">]</span>=<span style=\"color: #008080; text-decoration-color: #008080; font-weight: bold\">0.8193429145579205</span> z = <span style=\"color: #008080; text-decoration-color: #008080; font-weight: bold\">0.22049020285914556</span>                                        \n",
       "</pre>\n"
      ],
      "text/plain": [
       "param\u001b[1m[\u001b[0m\u001b[32m'nsteps'\u001b[0m\u001b[1m]\u001b[0m=\u001b[1;36m56\u001b[0m param\u001b[1m[\u001b[0m\u001b[32m'aexp'\u001b[0m\u001b[1m]\u001b[0m=\u001b[1;36m0.8193429145579205\u001b[0m z = \u001b[1;36m0.22049020285914556\u001b[0m                                        \n"
      ]
     },
     "metadata": {},
     "output_type": "display_data"
    },
    {
     "data": {
      "text/html": [
       "<pre style=\"white-space:pre;overflow-x:auto;line-height:normal;font-family:Menlo,'DejaVu Sans Mono',consolas,'Courier New',monospace\">Write <span style=\"color: #800080; text-decoration-color: #800080; font-weight: bold\">P</span><span style=\"font-weight: bold\">(</span>k<span style=\"font-weight: bold\">)</span> in .<span style=\"color: #800080; text-decoration-color: #800080\">/t4//power/</span><span style=\"color: #ff00ff; text-decoration-color: #ff00ff\">pk_eft_multigrid_ncoarse7_00057.dat</span>                                                      \n",
       "</pre>\n"
      ],
      "text/plain": [
       "Write \u001b[1;35mP\u001b[0m\u001b[1m(\u001b[0mk\u001b[1m)\u001b[0m in .\u001b[35m/t4/\u001b[0m\u001b[35m/power/\u001b[0m\u001b[95mpk_eft_multigrid_ncoarse7_00057.dat\u001b[0m                                                      \n"
      ]
     },
     "metadata": {},
     "output_type": "display_data"
    },
    {
     "name": "stdout",
     "output_type": "stream",
     "text": [
      "[0.08312403497668149, 0.41562017488340736, 0.20566055726477184, 0.49874420986008877, 0.6785792587881877, 1.1258557646779763]\n",
      "Mean chi: 0, dens: -1.5832e-08, stdev: 4.9287e+00\n",
      "op111: 1.5813e-04\n"
     ]
    },
    {
     "data": {
      "text/html": [
       "<pre style=\"white-space:pre;overflow-x:auto;line-height:normal;font-family:Menlo,'DejaVu Sans Mono',consolas,'Courier New',monospace\">param<span style=\"font-weight: bold\">[</span><span style=\"color: #008000; text-decoration-color: #008000\">'nsteps'</span><span style=\"font-weight: bold\">]</span>=<span style=\"color: #008080; text-decoration-color: #008080; font-weight: bold\">57</span> param<span style=\"font-weight: bold\">[</span><span style=\"color: #008000; text-decoration-color: #008000\">'aexp'</span><span style=\"font-weight: bold\">]</span>=<span style=\"color: #008080; text-decoration-color: #008080; font-weight: bold\">0.8237592237955139</span> z = <span style=\"color: #008080; text-decoration-color: #008080; font-weight: bold\">0.21394695332508373</span>                                        \n",
       "</pre>\n"
      ],
      "text/plain": [
       "param\u001b[1m[\u001b[0m\u001b[32m'nsteps'\u001b[0m\u001b[1m]\u001b[0m=\u001b[1;36m57\u001b[0m param\u001b[1m[\u001b[0m\u001b[32m'aexp'\u001b[0m\u001b[1m]\u001b[0m=\u001b[1;36m0.8237592237955139\u001b[0m z = \u001b[1;36m0.21394695332508373\u001b[0m                                        \n"
      ]
     },
     "metadata": {},
     "output_type": "display_data"
    },
    {
     "data": {
      "text/html": [
       "<pre style=\"white-space:pre;overflow-x:auto;line-height:normal;font-family:Menlo,'DejaVu Sans Mono',consolas,'Courier New',monospace\">Write <span style=\"color: #800080; text-decoration-color: #800080; font-weight: bold\">P</span><span style=\"font-weight: bold\">(</span>k<span style=\"font-weight: bold\">)</span> in .<span style=\"color: #800080; text-decoration-color: #800080\">/t4//power/</span><span style=\"color: #ff00ff; text-decoration-color: #ff00ff\">pk_eft_multigrid_ncoarse7_00058.dat</span>                                                      \n",
       "</pre>\n"
      ],
      "text/plain": [
       "Write \u001b[1;35mP\u001b[0m\u001b[1m(\u001b[0mk\u001b[1m)\u001b[0m in .\u001b[35m/t4/\u001b[0m\u001b[35m/power/\u001b[0m\u001b[95mpk_eft_multigrid_ncoarse7_00058.dat\u001b[0m                                                      \n"
      ]
     },
     "metadata": {},
     "output_type": "display_data"
    },
    {
     "name": "stdout",
     "output_type": "stream",
     "text": [
      "[0.0836399861540445, 0.41819993077022255, 0.21717046600618928, 0.5018399169242671, 0.6859713428564614, 1.1215431200366526]\n",
      "Mean chi: 0, dens: 7.6834e-09, stdev: 4.8156e+00\n",
      "op111: 1.3254e-04\n"
     ]
    },
    {
     "data": {
      "text/html": [
       "<pre style=\"white-space:pre;overflow-x:auto;line-height:normal;font-family:Menlo,'DejaVu Sans Mono',consolas,'Courier New',monospace\">param<span style=\"font-weight: bold\">[</span><span style=\"color: #008000; text-decoration-color: #008000\">'nsteps'</span><span style=\"font-weight: bold\">]</span>=<span style=\"color: #008080; text-decoration-color: #008080; font-weight: bold\">58</span> param<span style=\"font-weight: bold\">[</span><span style=\"color: #008000; text-decoration-color: #008000\">'aexp'</span><span style=\"font-weight: bold\">]</span>=<span style=\"color: #008080; text-decoration-color: #008080; font-weight: bold\">0.8282338696627067</span> z = <span style=\"color: #008080; text-decoration-color: #008080; font-weight: bold\">0.20738844018446634</span>                                        \n",
       "</pre>\n"
      ],
      "text/plain": [
       "param\u001b[1m[\u001b[0m\u001b[32m'nsteps'\u001b[0m\u001b[1m]\u001b[0m=\u001b[1;36m58\u001b[0m param\u001b[1m[\u001b[0m\u001b[32m'aexp'\u001b[0m\u001b[1m]\u001b[0m=\u001b[1;36m0.8282338696627067\u001b[0m z = \u001b[1;36m0.20738844018446634\u001b[0m                                        \n"
      ]
     },
     "metadata": {},
     "output_type": "display_data"
    },
    {
     "data": {
      "text/html": [
       "<pre style=\"white-space:pre;overflow-x:auto;line-height:normal;font-family:Menlo,'DejaVu Sans Mono',consolas,'Courier New',monospace\">Write <span style=\"color: #800080; text-decoration-color: #800080; font-weight: bold\">P</span><span style=\"font-weight: bold\">(</span>k<span style=\"font-weight: bold\">)</span> in .<span style=\"color: #800080; text-decoration-color: #800080\">/t4//power/</span><span style=\"color: #ff00ff; text-decoration-color: #ff00ff\">pk_eft_multigrid_ncoarse7_00059.dat</span>                                                      \n",
       "</pre>\n"
      ],
      "text/plain": [
       "Write \u001b[1;35mP\u001b[0m\u001b[1m(\u001b[0mk\u001b[1m)\u001b[0m in .\u001b[35m/t4/\u001b[0m\u001b[35m/power/\u001b[0m\u001b[95mpk_eft_multigrid_ncoarse7_00059.dat\u001b[0m                                                      \n"
      ]
     },
     "metadata": {},
     "output_type": "display_data"
    },
    {
     "name": "stdout",
     "output_type": "stream",
     "text": [
      "[0.08415793691089546, 0.42078968455447724, 0.2288659662429342, 0.5049476214653726, 0.693502954601324, 1.117205440280388]\n",
      "Mean chi: 0, dens: -1.5949e-08, stdev: 4.7102e+00\n",
      "op111: 1.0020e-04\n"
     ]
    },
    {
     "data": {
      "text/html": [
       "<pre style=\"white-space:pre;overflow-x:auto;line-height:normal;font-family:Menlo,'DejaVu Sans Mono',consolas,'Courier New',monospace\">param<span style=\"font-weight: bold\">[</span><span style=\"color: #008000; text-decoration-color: #008000\">'nsteps'</span><span style=\"font-weight: bold\">]</span>=<span style=\"color: #008080; text-decoration-color: #008080; font-weight: bold\">59</span> param<span style=\"font-weight: bold\">[</span><span style=\"color: #008000; text-decoration-color: #008000\">'aexp'</span><span style=\"font-weight: bold\">]</span>=<span style=\"color: #008080; text-decoration-color: #008080; font-weight: bold\">0.8327682478344886</span> z = <span style=\"color: #008080; text-decoration-color: #008080; font-weight: bold\">0.2008142752805202</span>                                         \n",
       "</pre>\n"
      ],
      "text/plain": [
       "param\u001b[1m[\u001b[0m\u001b[32m'nsteps'\u001b[0m\u001b[1m]\u001b[0m=\u001b[1;36m59\u001b[0m param\u001b[1m[\u001b[0m\u001b[32m'aexp'\u001b[0m\u001b[1m]\u001b[0m=\u001b[1;36m0.8327682478344886\u001b[0m z = \u001b[1;36m0.2008142752805202\u001b[0m                                         \n"
      ]
     },
     "metadata": {},
     "output_type": "display_data"
    },
    {
     "data": {
      "text/html": [
       "<pre style=\"white-space:pre;overflow-x:auto;line-height:normal;font-family:Menlo,'DejaVu Sans Mono',consolas,'Courier New',monospace\">Write <span style=\"color: #800080; text-decoration-color: #800080; font-weight: bold\">P</span><span style=\"font-weight: bold\">(</span>k<span style=\"font-weight: bold\">)</span> in .<span style=\"color: #800080; text-decoration-color: #800080\">/t4//power/</span><span style=\"color: #ff00ff; text-decoration-color: #ff00ff\">pk_eft_multigrid_ncoarse7_00060.dat</span>                                                      \n",
       "</pre>\n"
      ],
      "text/plain": [
       "Write \u001b[1;35mP\u001b[0m\u001b[1m(\u001b[0mk\u001b[1m)\u001b[0m in .\u001b[35m/t4/\u001b[0m\u001b[35m/power/\u001b[0m\u001b[95mpk_eft_multigrid_ncoarse7_00060.dat\u001b[0m                                                      \n"
      ]
     },
     "metadata": {},
     "output_type": "display_data"
    },
    {
     "name": "stdout",
     "output_type": "stream",
     "text": [
      "[0.08467786220407242, 0.4233893110203621, 0.24075289642670594, 0.5080671732244345, 0.7011781138444845, 1.1128423148552993]\n",
      "Mean chi: 0, dens: -8.7311e-09, stdev: 4.6120e+00\n",
      "op111: 4.7385e-05\n"
     ]
    },
    {
     "data": {
      "text/html": [
       "<pre style=\"white-space:pre;overflow-x:auto;line-height:normal;font-family:Menlo,'DejaVu Sans Mono',consolas,'Courier New',monospace\">param<span style=\"font-weight: bold\">[</span><span style=\"color: #008000; text-decoration-color: #008000\">'nsteps'</span><span style=\"font-weight: bold\">]</span>=<span style=\"color: #008080; text-decoration-color: #008080; font-weight: bold\">60</span> param<span style=\"font-weight: bold\">[</span><span style=\"color: #008000; text-decoration-color: #008000\">'aexp'</span><span style=\"font-weight: bold\">]</span>=<span style=\"color: #008080; text-decoration-color: #008080; font-weight: bold\">0.8373637882333368</span> z = <span style=\"color: #008080; text-decoration-color: #008080; font-weight: bold\">0.19422408044392725</span>                                        \n",
       "</pre>\n"
      ],
      "text/plain": [
       "param\u001b[1m[\u001b[0m\u001b[32m'nsteps'\u001b[0m\u001b[1m]\u001b[0m=\u001b[1;36m60\u001b[0m param\u001b[1m[\u001b[0m\u001b[32m'aexp'\u001b[0m\u001b[1m]\u001b[0m=\u001b[1;36m0.8373637882333368\u001b[0m z = \u001b[1;36m0.19422408044392725\u001b[0m                                        \n"
      ]
     },
     "metadata": {},
     "output_type": "display_data"
    },
    {
     "data": {
      "text/html": [
       "<pre style=\"white-space:pre;overflow-x:auto;line-height:normal;font-family:Menlo,'DejaVu Sans Mono',consolas,'Courier New',monospace\">Write <span style=\"color: #800080; text-decoration-color: #800080; font-weight: bold\">P</span><span style=\"font-weight: bold\">(</span>k<span style=\"font-weight: bold\">)</span> in .<span style=\"color: #800080; text-decoration-color: #800080\">/t4//power/</span><span style=\"color: #ff00ff; text-decoration-color: #ff00ff\">pk_eft_multigrid_ncoarse7_00061.dat</span>                                                      \n",
       "</pre>\n"
      ],
      "text/plain": [
       "Write \u001b[1;35mP\u001b[0m\u001b[1m(\u001b[0mk\u001b[1m)\u001b[0m in .\u001b[35m/t4/\u001b[0m\u001b[35m/power/\u001b[0m\u001b[95mpk_eft_multigrid_ncoarse7_00061.dat\u001b[0m                                                      \n"
      ]
     },
     "metadata": {},
     "output_type": "display_data"
    },
    {
     "name": "stdout",
     "output_type": "stream",
     "text": [
      "[0.08519973535724826, 0.4259986767862413, 0.2528373600776712, 0.5111984121434896, 0.709000988142541, 1.1084533285788245]\n",
      "Mean chi: 0, dens: -2.2002e-08, stdev: 4.5204e+00\n",
      "op111: nan\n"
     ]
    },
    {
     "data": {
      "text/html": [
       "<pre style=\"white-space:pre;overflow-x:auto;line-height:normal;font-family:Menlo,'DejaVu Sans Mono',consolas,'Courier New',monospace\">param<span style=\"font-weight: bold\">[</span><span style=\"color: #008000; text-decoration-color: #008000\">'nsteps'</span><span style=\"font-weight: bold\">]</span>=<span style=\"color: #008080; text-decoration-color: #008080; font-weight: bold\">61</span> param<span style=\"font-weight: bold\">[</span><span style=\"color: #008000; text-decoration-color: #008000\">'aexp'</span><span style=\"font-weight: bold\">]</span>=<span style=\"color: #008080; text-decoration-color: #008080; font-weight: bold\">0.8420219641687151</span> z = <span style=\"color: #008080; text-decoration-color: #008080; font-weight: bold\">0.18761747621066927</span>                                        \n",
       "</pre>\n"
      ],
      "text/plain": [
       "param\u001b[1m[\u001b[0m\u001b[32m'nsteps'\u001b[0m\u001b[1m]\u001b[0m=\u001b[1;36m61\u001b[0m param\u001b[1m[\u001b[0m\u001b[32m'aexp'\u001b[0m\u001b[1m]\u001b[0m=\u001b[1;36m0.8420219641687151\u001b[0m z = \u001b[1;36m0.18761747621066927\u001b[0m                                        \n"
      ]
     },
     "metadata": {},
     "output_type": "display_data"
    },
    {
     "data": {
      "text/html": [
       "<pre style=\"white-space:pre;overflow-x:auto;line-height:normal;font-family:Menlo,'DejaVu Sans Mono',consolas,'Courier New',monospace\">Write <span style=\"color: #800080; text-decoration-color: #800080; font-weight: bold\">P</span><span style=\"font-weight: bold\">(</span>k<span style=\"font-weight: bold\">)</span> in .<span style=\"color: #800080; text-decoration-color: #800080\">/t4//power/</span><span style=\"color: #ff00ff; text-decoration-color: #ff00ff\">pk_eft_multigrid_ncoarse7_00062.dat</span>                                                      \n",
       "</pre>\n"
      ],
      "text/plain": [
       "Write \u001b[1;35mP\u001b[0m\u001b[1m(\u001b[0mk\u001b[1m)\u001b[0m in .\u001b[35m/t4/\u001b[0m\u001b[35m/power/\u001b[0m\u001b[95mpk_eft_multigrid_ncoarse7_00062.dat\u001b[0m                                                      \n"
      ]
     },
     "metadata": {},
     "output_type": "display_data"
    },
    {
     "name": "stdout",
     "output_type": "stream",
     "text": [
      "[0.08572352858638359, 0.42861764293191795, 0.26512575478307854, 0.5143411715183015, 0.7169759082334949, 1.1040380567312515]\n",
      "Mean chi: 0, dens: -8.1491e-09, stdev: 4.4343e+00\n",
      "op111: nan\n"
     ]
    },
    {
     "data": {
      "text/html": [
       "<pre style=\"white-space:pre;overflow-x:auto;line-height:normal;font-family:Menlo,'DejaVu Sans Mono',consolas,'Courier New',monospace\">param<span style=\"font-weight: bold\">[</span><span style=\"color: #008000; text-decoration-color: #008000\">'nsteps'</span><span style=\"font-weight: bold\">]</span>=<span style=\"color: #008080; text-decoration-color: #008080; font-weight: bold\">62</span> param<span style=\"font-weight: bold\">[</span><span style=\"color: #008000; text-decoration-color: #008000\">'aexp'</span><span style=\"font-weight: bold\">]</span>=<span style=\"color: #008080; text-decoration-color: #008080; font-weight: bold\">0.8467442992034224</span> z = <span style=\"color: #008080; text-decoration-color: #008080; font-weight: bold\">0.1809940745284655</span>                                         \n",
       "</pre>\n"
      ],
      "text/plain": [
       "param\u001b[1m[\u001b[0m\u001b[32m'nsteps'\u001b[0m\u001b[1m]\u001b[0m=\u001b[1;36m62\u001b[0m param\u001b[1m[\u001b[0m\u001b[32m'aexp'\u001b[0m\u001b[1m]\u001b[0m=\u001b[1;36m0.8467442992034224\u001b[0m z = \u001b[1;36m0.1809940745284655\u001b[0m                                         \n"
      ]
     },
     "metadata": {},
     "output_type": "display_data"
    },
    {
     "data": {
      "text/html": [
       "<pre style=\"white-space:pre;overflow-x:auto;line-height:normal;font-family:Menlo,'DejaVu Sans Mono',consolas,'Courier New',monospace\">Write <span style=\"color: #800080; text-decoration-color: #800080; font-weight: bold\">P</span><span style=\"font-weight: bold\">(</span>k<span style=\"font-weight: bold\">)</span> in .<span style=\"color: #800080; text-decoration-color: #800080\">/t4//power/</span><span style=\"color: #ff00ff; text-decoration-color: #ff00ff\">pk_eft_multigrid_ncoarse7_00063.dat</span>                                                      \n",
       "</pre>\n"
      ],
      "text/plain": [
       "Write \u001b[1;35mP\u001b[0m\u001b[1m(\u001b[0mk\u001b[1m)\u001b[0m in .\u001b[35m/t4/\u001b[0m\u001b[35m/power/\u001b[0m\u001b[95mpk_eft_multigrid_ncoarse7_00063.dat\u001b[0m                                                      \n"
      ]
     },
     "metadata": {},
     "output_type": "display_data"
    },
    {
     "name": "stdout",
     "output_type": "stream",
     "text": [
      "[0.08624921298696188, 0.43124606493480944, 0.27762479051087563, 0.5174952779217714, 0.7251073763041572, 1.099596064622965]\n",
      "Mean chi: 0, dens: 2.6776e-09, stdev: 4.3535e+00\n",
      "op111: nan\n"
     ]
    },
    {
     "data": {
      "text/html": [
       "<pre style=\"white-space:pre;overflow-x:auto;line-height:normal;font-family:Menlo,'DejaVu Sans Mono',consolas,'Courier New',monospace\">param<span style=\"font-weight: bold\">[</span><span style=\"color: #008000; text-decoration-color: #008000\">'nsteps'</span><span style=\"font-weight: bold\">]</span>=<span style=\"color: #008080; text-decoration-color: #008080; font-weight: bold\">63</span> param<span style=\"font-weight: bold\">[</span><span style=\"color: #008000; text-decoration-color: #008000\">'aexp'</span><span style=\"font-weight: bold\">]</span>=<span style=\"color: #008080; text-decoration-color: #008080; font-weight: bold\">0.8515323694987509</span> z = <span style=\"color: #008080; text-decoration-color: #008080; font-weight: bold\">0.17435347829307246</span>                                        \n",
       "</pre>\n"
      ],
      "text/plain": [
       "param\u001b[1m[\u001b[0m\u001b[32m'nsteps'\u001b[0m\u001b[1m]\u001b[0m=\u001b[1;36m63\u001b[0m param\u001b[1m[\u001b[0m\u001b[32m'aexp'\u001b[0m\u001b[1m]\u001b[0m=\u001b[1;36m0.8515323694987509\u001b[0m z = \u001b[1;36m0.17435347829307246\u001b[0m                                        \n"
      ]
     },
     "metadata": {},
     "output_type": "display_data"
    },
    {
     "data": {
      "text/html": [
       "<pre style=\"white-space:pre;overflow-x:auto;line-height:normal;font-family:Menlo,'DejaVu Sans Mono',consolas,'Courier New',monospace\">Write <span style=\"color: #800080; text-decoration-color: #800080; font-weight: bold\">P</span><span style=\"font-weight: bold\">(</span>k<span style=\"font-weight: bold\">)</span> in .<span style=\"color: #800080; text-decoration-color: #800080\">/t4//power/</span><span style=\"color: #ff00ff; text-decoration-color: #ff00ff\">pk_eft_multigrid_ncoarse7_00064.dat</span>                                                      \n",
       "</pre>\n"
      ],
      "text/plain": [
       "Write \u001b[1;35mP\u001b[0m\u001b[1m(\u001b[0mk\u001b[1m)\u001b[0m in .\u001b[35m/t4/\u001b[0m\u001b[35m/power/\u001b[0m\u001b[95mpk_eft_multigrid_ncoarse7_00064.dat\u001b[0m                                                      \n"
      ]
     },
     "metadata": {},
     "output_type": "display_data"
    },
    {
     "name": "stdout",
     "output_type": "stream",
     "text": [
      "[0.08677675798793362, 0.43388378993966814, 0.29034149633594764, 0.5206605479276019, 0.7334000663161344, 1.0951269116654265]\n",
      "Mean chi: 0, dens: -3.4925e-10, stdev: 4.2777e+00\n",
      "op111: nan\n"
     ]
    },
    {
     "data": {
      "text/html": [
       "<pre style=\"white-space:pre;overflow-x:auto;line-height:normal;font-family:Menlo,'DejaVu Sans Mono',consolas,'Courier New',monospace\">param<span style=\"font-weight: bold\">[</span><span style=\"color: #008000; text-decoration-color: #008000\">'nsteps'</span><span style=\"font-weight: bold\">]</span>=<span style=\"color: #008080; text-decoration-color: #008080; font-weight: bold\">64</span> param<span style=\"font-weight: bold\">[</span><span style=\"color: #008000; text-decoration-color: #008000\">'aexp'</span><span style=\"font-weight: bold\">]</span>=<span style=\"color: #008080; text-decoration-color: #008080; font-weight: bold\">0.8563878013587853</span> z = <span style=\"color: #008080; text-decoration-color: #008080; font-weight: bold\">0.1676952875944202</span>                                         \n",
       "</pre>\n"
      ],
      "text/plain": [
       "param\u001b[1m[\u001b[0m\u001b[32m'nsteps'\u001b[0m\u001b[1m]\u001b[0m=\u001b[1;36m64\u001b[0m param\u001b[1m[\u001b[0m\u001b[32m'aexp'\u001b[0m\u001b[1m]\u001b[0m=\u001b[1;36m0.8563878013587853\u001b[0m z = \u001b[1;36m0.1676952875944202\u001b[0m                                         \n"
      ]
     },
     "metadata": {},
     "output_type": "display_data"
    },
    {
     "data": {
      "text/html": [
       "<pre style=\"white-space:pre;overflow-x:auto;line-height:normal;font-family:Menlo,'DejaVu Sans Mono',consolas,'Courier New',monospace\">Write <span style=\"color: #800080; text-decoration-color: #800080; font-weight: bold\">P</span><span style=\"font-weight: bold\">(</span>k<span style=\"font-weight: bold\">)</span> in .<span style=\"color: #800080; text-decoration-color: #800080\">/t4//power/</span><span style=\"color: #ff00ff; text-decoration-color: #ff00ff\">pk_eft_multigrid_ncoarse7_00065.dat</span>                                                      \n",
       "</pre>\n"
      ],
      "text/plain": [
       "Write \u001b[1;35mP\u001b[0m\u001b[1m(\u001b[0mk\u001b[1m)\u001b[0m in .\u001b[35m/t4/\u001b[0m\u001b[35m/power/\u001b[0m\u001b[95mpk_eft_multigrid_ncoarse7_00065.dat\u001b[0m                                                      \n"
      ]
     },
     "metadata": {},
     "output_type": "display_data"
    },
    {
     "name": "stdout",
     "output_type": "stream",
     "text": [
      "[0.0873061319205299, 0.4365306596026495, 0.30328325497798647, 0.5238367915231794, 0.7418588419972618, 1.0906301460125423]\n",
      "Mean chi: 0, dens: -7.1013e-09, stdev: 4.2065e+00\n",
      "op111: nan\n"
     ]
    },
    {
     "data": {
      "text/html": [
       "<pre style=\"white-space:pre;overflow-x:auto;line-height:normal;font-family:Menlo,'DejaVu Sans Mono',consolas,'Courier New',monospace\">param<span style=\"font-weight: bold\">[</span><span style=\"color: #008000; text-decoration-color: #008000\">'nsteps'</span><span style=\"font-weight: bold\">]</span>=<span style=\"color: #008080; text-decoration-color: #008080; font-weight: bold\">65</span> param<span style=\"font-weight: bold\">[</span><span style=\"color: #008000; text-decoration-color: #008000\">'aexp'</span><span style=\"font-weight: bold\">]</span>=<span style=\"color: #008080; text-decoration-color: #008080; font-weight: bold\">0.861312279023852</span> z = <span style=\"color: #008080; text-decoration-color: #008080; font-weight: bold\">0.16101909185983798</span>                                         \n",
       "</pre>\n"
      ],
      "text/plain": [
       "param\u001b[1m[\u001b[0m\u001b[32m'nsteps'\u001b[0m\u001b[1m]\u001b[0m=\u001b[1;36m65\u001b[0m param\u001b[1m[\u001b[0m\u001b[32m'aexp'\u001b[0m\u001b[1m]\u001b[0m=\u001b[1;36m0.861312279023852\u001b[0m z = \u001b[1;36m0.16101909185983798\u001b[0m                                         \n"
      ]
     },
     "metadata": {},
     "output_type": "display_data"
    },
    {
     "data": {
      "text/html": [
       "<pre style=\"white-space:pre;overflow-x:auto;line-height:normal;font-family:Menlo,'DejaVu Sans Mono',consolas,'Courier New',monospace\">Write <span style=\"color: #800080; text-decoration-color: #800080; font-weight: bold\">P</span><span style=\"font-weight: bold\">(</span>k<span style=\"font-weight: bold\">)</span> in .<span style=\"color: #800080; text-decoration-color: #800080\">/t4//power/</span><span style=\"color: #ff00ff; text-decoration-color: #ff00ff\">pk_eft_multigrid_ncoarse7_00066.dat</span>                                                      \n",
       "</pre>\n"
      ],
      "text/plain": [
       "Write \u001b[1;35mP\u001b[0m\u001b[1m(\u001b[0mk\u001b[1m)\u001b[0m in .\u001b[35m/t4/\u001b[0m\u001b[35m/power/\u001b[0m\u001b[95mpk_eft_multigrid_ncoarse7_00066.dat\u001b[0m                                                      \n"
      ]
     },
     "metadata": {},
     "output_type": "display_data"
    },
    {
     "name": "stdout",
     "output_type": "stream",
     "text": [
      "[0.08783730201464945, 0.43918651007324727, 0.316457825796147, 0.5270238120878967, 0.7504887669221862, 1.0861053039863764]\n",
      "Mean chi: 0, dens: -1.3388e-08, stdev: 4.1397e+00\n",
      "op111: nan\n"
     ]
    },
    {
     "data": {
      "text/html": [
       "<pre style=\"white-space:pre;overflow-x:auto;line-height:normal;font-family:Menlo,'DejaVu Sans Mono',consolas,'Courier New',monospace\">param<span style=\"font-weight: bold\">[</span><span style=\"color: #008000; text-decoration-color: #008000\">'nsteps'</span><span style=\"font-weight: bold\">]</span>=<span style=\"color: #008080; text-decoration-color: #008080; font-weight: bold\">66</span> param<span style=\"font-weight: bold\">[</span><span style=\"color: #008000; text-decoration-color: #008000\">'aexp'</span><span style=\"font-weight: bold\">]</span>=<span style=\"color: #008080; text-decoration-color: #008080; font-weight: bold\">0.8663075475385091</span> z = <span style=\"color: #008080; text-decoration-color: #008080; font-weight: bold\">0.15432446922730758</span>                                        \n",
       "</pre>\n"
      ],
      "text/plain": [
       "param\u001b[1m[\u001b[0m\u001b[32m'nsteps'\u001b[0m\u001b[1m]\u001b[0m=\u001b[1;36m66\u001b[0m param\u001b[1m[\u001b[0m\u001b[32m'aexp'\u001b[0m\u001b[1m]\u001b[0m=\u001b[1;36m0.8663075475385091\u001b[0m z = \u001b[1;36m0.15432446922730758\u001b[0m                                        \n"
      ]
     },
     "metadata": {},
     "output_type": "display_data"
    },
    {
     "data": {
      "text/html": [
       "<pre style=\"white-space:pre;overflow-x:auto;line-height:normal;font-family:Menlo,'DejaVu Sans Mono',consolas,'Courier New',monospace\">Write <span style=\"color: #800080; text-decoration-color: #800080; font-weight: bold\">P</span><span style=\"font-weight: bold\">(</span>k<span style=\"font-weight: bold\">)</span> in .<span style=\"color: #800080; text-decoration-color: #800080\">/t4//power/</span><span style=\"color: #ff00ff; text-decoration-color: #ff00ff\">pk_eft_multigrid_ncoarse7_00067.dat</span>                                                      \n",
       "</pre>\n"
      ],
      "text/plain": [
       "Write \u001b[1;35mP\u001b[0m\u001b[1m(\u001b[0mk\u001b[1m)\u001b[0m in .\u001b[35m/t4/\u001b[0m\u001b[35m/power/\u001b[0m\u001b[95mpk_eft_multigrid_ncoarse7_00067.dat\u001b[0m                                                      \n"
      ]
     },
     "metadata": {},
     "output_type": "display_data"
    },
    {
     "name": "stdout",
     "output_type": "stream",
     "text": [
      "[0.08837023420407226, 0.44185117102036126, 0.32987336470837747, 0.5302214052244334, 0.7592951120566099, 1.0815519111125635]\n",
      "Mean chi: 0, dens: -1.6298e-09, stdev: 4.0771e+00\n",
      "op111: nan\n"
     ]
    },
    {
     "data": {
      "text/html": [
       "<pre style=\"white-space:pre;overflow-x:auto;line-height:normal;font-family:Menlo,'DejaVu Sans Mono',consolas,'Courier New',monospace\">param<span style=\"font-weight: bold\">[</span><span style=\"color: #008000; text-decoration-color: #008000\">'nsteps'</span><span style=\"font-weight: bold\">]</span>=<span style=\"color: #008080; text-decoration-color: #008080; font-weight: bold\">67</span> param<span style=\"font-weight: bold\">[</span><span style=\"color: #008000; text-decoration-color: #008000\">'aexp'</span><span style=\"font-weight: bold\">]</span>=<span style=\"color: #008080; text-decoration-color: #008080; font-weight: bold\">0.8713754139615197</span> z = <span style=\"color: #008080; text-decoration-color: #008080; font-weight: bold\">0.14761098830378572</span>                                        \n",
       "</pre>\n"
      ],
      "text/plain": [
       "param\u001b[1m[\u001b[0m\u001b[32m'nsteps'\u001b[0m\u001b[1m]\u001b[0m=\u001b[1;36m67\u001b[0m param\u001b[1m[\u001b[0m\u001b[32m'aexp'\u001b[0m\u001b[1m]\u001b[0m=\u001b[1;36m0.8713754139615197\u001b[0m z = \u001b[1;36m0.14761098830378572\u001b[0m                                        \n"
      ]
     },
     "metadata": {},
     "output_type": "display_data"
    },
    {
     "data": {
      "text/html": [
       "<pre style=\"white-space:pre;overflow-x:auto;line-height:normal;font-family:Menlo,'DejaVu Sans Mono',consolas,'Courier New',monospace\">Write <span style=\"color: #800080; text-decoration-color: #800080; font-weight: bold\">P</span><span style=\"font-weight: bold\">(</span>k<span style=\"font-weight: bold\">)</span> in .<span style=\"color: #800080; text-decoration-color: #800080\">/t4//power/</span><span style=\"color: #ff00ff; text-decoration-color: #ff00ff\">pk_eft_multigrid_ncoarse7_00068.dat</span>                                                      \n",
       "</pre>\n"
      ],
      "text/plain": [
       "Write \u001b[1;35mP\u001b[0m\u001b[1m(\u001b[0mk\u001b[1m)\u001b[0m in .\u001b[35m/t4/\u001b[0m\u001b[35m/power/\u001b[0m\u001b[95mpk_eft_multigrid_ncoarse7_00068.dat\u001b[0m                                                      \n"
      ]
     },
     "metadata": {},
     "output_type": "display_data"
    },
    {
     "name": "stdout",
     "output_type": "stream",
     "text": [
      "[0.08890489345987662, 0.4445244672993831, 0.3435384591994993, 0.5334293607592597, 0.7682833726238179, 1.0769694786246533]\n",
      "Mean chi: 0, dens: -2.3283e-09, stdev: 4.0182e+00\n",
      "op111: nan\n"
     ]
    },
    {
     "data": {
      "text/html": [
       "<pre style=\"white-space:pre;overflow-x:auto;line-height:normal;font-family:Menlo,'DejaVu Sans Mono',consolas,'Courier New',monospace\">param<span style=\"font-weight: bold\">[</span><span style=\"color: #008000; text-decoration-color: #008000\">'nsteps'</span><span style=\"font-weight: bold\">]</span>=<span style=\"color: #008080; text-decoration-color: #008080; font-weight: bold\">68</span> param<span style=\"font-weight: bold\">[</span><span style=\"color: #008000; text-decoration-color: #008000\">'aexp'</span><span style=\"font-weight: bold\">]</span>=<span style=\"color: #008080; text-decoration-color: #008080; font-weight: bold\">0.8765177537413705</span> z = <span style=\"color: #008080; text-decoration-color: #008080; font-weight: bold\">0.1408782032440894</span>                                         \n",
       "</pre>\n"
      ],
      "text/plain": [
       "param\u001b[1m[\u001b[0m\u001b[32m'nsteps'\u001b[0m\u001b[1m]\u001b[0m=\u001b[1;36m68\u001b[0m param\u001b[1m[\u001b[0m\u001b[32m'aexp'\u001b[0m\u001b[1m]\u001b[0m=\u001b[1;36m0.8765177537413705\u001b[0m z = \u001b[1;36m0.1408782032440894\u001b[0m                                         \n"
      ]
     },
     "metadata": {},
     "output_type": "display_data"
    },
    {
     "data": {
      "text/html": [
       "<pre style=\"white-space:pre;overflow-x:auto;line-height:normal;font-family:Menlo,'DejaVu Sans Mono',consolas,'Courier New',monospace\">Write <span style=\"color: #800080; text-decoration-color: #800080; font-weight: bold\">P</span><span style=\"font-weight: bold\">(</span>k<span style=\"font-weight: bold\">)</span> in .<span style=\"color: #800080; text-decoration-color: #800080\">/t4//power/</span><span style=\"color: #ff00ff; text-decoration-color: #ff00ff\">pk_eft_multigrid_ncoarse7_00069.dat</span>                                                      \n",
       "</pre>\n"
      ],
      "text/plain": [
       "Write \u001b[1;35mP\u001b[0m\u001b[1m(\u001b[0mk\u001b[1m)\u001b[0m in .\u001b[35m/t4/\u001b[0m\u001b[35m/power/\u001b[0m\u001b[95mpk_eft_multigrid_ncoarse7_00069.dat\u001b[0m                                                      \n"
      ]
     },
     "metadata": {},
     "output_type": "display_data"
    },
    {
     "name": "stdout",
     "output_type": "stream",
     "text": [
      "[0.08944124317769933, 0.4472062158884966, 0.3574621414675465, 0.5366474590661959, 0.7774592699763461, 1.0723575080336643]\n",
      "Mean chi: 0, dens: -1.9791e-09, stdev: 3.9628e+00\n",
      "op111: nan\n"
     ]
    },
    {
     "data": {
      "text/html": [
       "<pre style=\"white-space:pre;overflow-x:auto;line-height:normal;font-family:Menlo,'DejaVu Sans Mono',consolas,'Courier New',monospace\">param<span style=\"font-weight: bold\">[</span><span style=\"color: #008000; text-decoration-color: #008000\">'nsteps'</span><span style=\"font-weight: bold\">]</span>=<span style=\"color: #008080; text-decoration-color: #008080; font-weight: bold\">69</span> param<span style=\"font-weight: bold\">[</span><span style=\"color: #008000; text-decoration-color: #008000\">'aexp'</span><span style=\"font-weight: bold\">]</span>=<span style=\"color: #008080; text-decoration-color: #008080; font-weight: bold\">0.8817365082474163</span> z = <span style=\"color: #008080; text-decoration-color: #008080; font-weight: bold\">0.13412566072334942</span>                                        \n",
       "</pre>\n"
      ],
      "text/plain": [
       "param\u001b[1m[\u001b[0m\u001b[32m'nsteps'\u001b[0m\u001b[1m]\u001b[0m=\u001b[1;36m69\u001b[0m param\u001b[1m[\u001b[0m\u001b[32m'aexp'\u001b[0m\u001b[1m]\u001b[0m=\u001b[1;36m0.8817365082474163\u001b[0m z = \u001b[1;36m0.13412566072334942\u001b[0m                                        \n"
      ]
     },
     "metadata": {},
     "output_type": "display_data"
    },
    {
     "data": {
      "text/html": [
       "<pre style=\"white-space:pre;overflow-x:auto;line-height:normal;font-family:Menlo,'DejaVu Sans Mono',consolas,'Courier New',monospace\">Write <span style=\"color: #800080; text-decoration-color: #800080; font-weight: bold\">P</span><span style=\"font-weight: bold\">(</span>k<span style=\"font-weight: bold\">)</span> in .<span style=\"color: #800080; text-decoration-color: #800080\">/t4//power/</span><span style=\"color: #ff00ff; text-decoration-color: #ff00ff\">pk_eft_multigrid_ncoarse7_00070.dat</span>                                                      \n",
       "</pre>\n"
      ],
      "text/plain": [
       "Write \u001b[1;35mP\u001b[0m\u001b[1m(\u001b[0mk\u001b[1m)\u001b[0m in .\u001b[35m/t4/\u001b[0m\u001b[35m/power/\u001b[0m\u001b[95mpk_eft_multigrid_ncoarse7_00070.dat\u001b[0m                                                      \n"
      ]
     },
     "metadata": {},
     "output_type": "display_data"
    },
    {
     "name": "stdout",
     "output_type": "stream",
     "text": [
      "[0.08997924443254614, 0.4498962221627307, 0.3716538988328514, 0.5398754665952767, 0.7868287508326184, 1.0677154969174443]\n",
      "Mean chi: 0, dens: 7.5670e-09, stdev: 3.9105e+00\n",
      "op111: nan\n"
     ]
    },
    {
     "data": {
      "text/html": [
       "<pre style=\"white-space:pre;overflow-x:auto;line-height:normal;font-family:Menlo,'DejaVu Sans Mono',consolas,'Courier New',monospace\">param<span style=\"font-weight: bold\">[</span><span style=\"color: #008000; text-decoration-color: #008000\">'nsteps'</span><span style=\"font-weight: bold\">]</span>=<span style=\"color: #008080; text-decoration-color: #008080; font-weight: bold\">70</span> param<span style=\"font-weight: bold\">[</span><span style=\"color: #008000; text-decoration-color: #008000\">'aexp'</span><span style=\"font-weight: bold\">]</span>=<span style=\"color: #008080; text-decoration-color: #008080; font-weight: bold\">0.8870336807769017</span> z = <span style=\"color: #008080; text-decoration-color: #008080; font-weight: bold\">0.1273529085436278</span>                                         \n",
       "</pre>\n"
      ],
      "text/plain": [
       "param\u001b[1m[\u001b[0m\u001b[32m'nsteps'\u001b[0m\u001b[1m]\u001b[0m=\u001b[1;36m70\u001b[0m param\u001b[1m[\u001b[0m\u001b[32m'aexp'\u001b[0m\u001b[1m]\u001b[0m=\u001b[1;36m0.8870336807769017\u001b[0m z = \u001b[1;36m0.1273529085436278\u001b[0m                                         \n"
      ]
     },
     "metadata": {},
     "output_type": "display_data"
    },
    {
     "data": {
      "text/html": [
       "<pre style=\"white-space:pre;overflow-x:auto;line-height:normal;font-family:Menlo,'DejaVu Sans Mono',consolas,'Courier New',monospace\">Write <span style=\"color: #800080; text-decoration-color: #800080; font-weight: bold\">P</span><span style=\"font-weight: bold\">(</span>k<span style=\"font-weight: bold\">)</span> in .<span style=\"color: #800080; text-decoration-color: #800080\">/t4//power/</span><span style=\"color: #ff00ff; text-decoration-color: #ff00ff\">pk_eft_multigrid_ncoarse7_00071.dat</span>                                                      \n",
       "</pre>\n"
      ],
      "text/plain": [
       "Write \u001b[1;35mP\u001b[0m\u001b[1m(\u001b[0mk\u001b[1m)\u001b[0m in .\u001b[35m/t4/\u001b[0m\u001b[35m/power/\u001b[0m\u001b[95mpk_eft_multigrid_ncoarse7_00071.dat\u001b[0m                                                      \n"
      ]
     },
     "metadata": {},
     "output_type": "display_data"
    },
    {
     "name": "stdout",
     "output_type": "stream",
     "text": [
      "[0.09051885701337296, 0.4525942850668648, 0.386123732690265, 0.5431131420802378, 0.796398017724264, 1.0630429293864414]\n",
      "Mean chi: 0, dens: 1.1642e-10, stdev: 3.8610e+00\n",
      "op111: nan\n"
     ]
    },
    {
     "data": {
      "text/html": [
       "<pre style=\"white-space:pre;overflow-x:auto;line-height:normal;font-family:Menlo,'DejaVu Sans Mono',consolas,'Courier New',monospace\">param<span style=\"font-weight: bold\">[</span><span style=\"color: #008000; text-decoration-color: #008000\">'nsteps'</span><span style=\"font-weight: bold\">]</span>=<span style=\"color: #008080; text-decoration-color: #008080; font-weight: bold\">71</span> param<span style=\"font-weight: bold\">[</span><span style=\"color: #008000; text-decoration-color: #008000\">'aexp'</span><span style=\"font-weight: bold\">]</span>=<span style=\"color: #008080; text-decoration-color: #008080; font-weight: bold\">0.8924113500646795</span> z = <span style=\"color: #008080; text-decoration-color: #008080; font-weight: bold\">0.1205594818213851</span>                                         \n",
       "</pre>\n"
      ],
      "text/plain": [
       "param\u001b[1m[\u001b[0m\u001b[32m'nsteps'\u001b[0m\u001b[1m]\u001b[0m=\u001b[1;36m71\u001b[0m param\u001b[1m[\u001b[0m\u001b[32m'aexp'\u001b[0m\u001b[1m]\u001b[0m=\u001b[1;36m0.8924113500646795\u001b[0m z = \u001b[1;36m0.1205594818213851\u001b[0m                                         \n"
      ]
     },
     "metadata": {},
     "output_type": "display_data"
    },
    {
     "data": {
      "text/html": [
       "<pre style=\"white-space:pre;overflow-x:auto;line-height:normal;font-family:Menlo,'DejaVu Sans Mono',consolas,'Courier New',monospace\">Write <span style=\"color: #800080; text-decoration-color: #800080; font-weight: bold\">P</span><span style=\"font-weight: bold\">(</span>k<span style=\"font-weight: bold\">)</span> in .<span style=\"color: #800080; text-decoration-color: #800080\">/t4//power/</span><span style=\"color: #ff00ff; text-decoration-color: #ff00ff\">pk_eft_multigrid_ncoarse7_00072.dat</span>                                                      \n",
       "</pre>\n"
      ],
      "text/plain": [
       "Write \u001b[1;35mP\u001b[0m\u001b[1m(\u001b[0mk\u001b[1m)\u001b[0m in .\u001b[35m/t4/\u001b[0m\u001b[35m/power/\u001b[0m\u001b[95mpk_eft_multigrid_ncoarse7_00072.dat\u001b[0m                                                      \n"
      ]
     },
     "metadata": {},
     "output_type": "display_data"
    },
    {
     "name": "stdout",
     "output_type": "stream",
     "text": [
      "[0.09106004023534407, 0.4553002011767203, 0.40088221665751744, 0.5463602414120643, 0.8061735582126175, 1.0583392682695698]\n",
      "Mean chi: 0, dens: -5.8208e-09, stdev: 3.8142e+00\n",
      "op111: nan\n"
     ]
    },
    {
     "data": {
      "text/html": [
       "<pre style=\"white-space:pre;overflow-x:auto;line-height:normal;font-family:Menlo,'DejaVu Sans Mono',consolas,'Courier New',monospace\">param<span style=\"font-weight: bold\">[</span><span style=\"color: #008000; text-decoration-color: #008000\">'nsteps'</span><span style=\"font-weight: bold\">]</span>=<span style=\"color: #008080; text-decoration-color: #008080; font-weight: bold\">72</span> param<span style=\"font-weight: bold\">[</span><span style=\"color: #008000; text-decoration-color: #008000\">'aexp'</span><span style=\"font-weight: bold\">]</span>=<span style=\"color: #008080; text-decoration-color: #008080; font-weight: bold\">0.8978716824873237</span> z = <span style=\"color: #008080; text-decoration-color: #008080; font-weight: bold\">0.11374489195355397</span>                                        \n",
       "</pre>\n"
      ],
      "text/plain": [
       "param\u001b[1m[\u001b[0m\u001b[32m'nsteps'\u001b[0m\u001b[1m]\u001b[0m=\u001b[1;36m72\u001b[0m param\u001b[1m[\u001b[0m\u001b[32m'aexp'\u001b[0m\u001b[1m]\u001b[0m=\u001b[1;36m0.8978716824873237\u001b[0m z = \u001b[1;36m0.11374489195355397\u001b[0m                                        \n"
      ]
     },
     "metadata": {},
     "output_type": "display_data"
    },
    {
     "data": {
      "text/html": [
       "<pre style=\"white-space:pre;overflow-x:auto;line-height:normal;font-family:Menlo,'DejaVu Sans Mono',consolas,'Courier New',monospace\">Write <span style=\"color: #800080; text-decoration-color: #800080; font-weight: bold\">P</span><span style=\"font-weight: bold\">(</span>k<span style=\"font-weight: bold\">)</span> in .<span style=\"color: #800080; text-decoration-color: #800080\">/t4//power/</span><span style=\"color: #ff00ff; text-decoration-color: #ff00ff\">pk_eft_multigrid_ncoarse7_00073.dat</span>                                                      \n",
       "</pre>\n"
      ],
      "text/plain": [
       "Write \u001b[1;35mP\u001b[0m\u001b[1m(\u001b[0mk\u001b[1m)\u001b[0m in .\u001b[35m/t4/\u001b[0m\u001b[35m/power/\u001b[0m\u001b[95mpk_eft_multigrid_ncoarse7_00073.dat\u001b[0m                                                      \n"
      ]
     },
     "metadata": {},
     "output_type": "display_data"
    },
    {
     "name": "stdout",
     "output_type": "stream",
     "text": [
      "[0.09160275250052041, 0.45801376250260206, 0.4159405250257645, 0.5496165150031225, 0.8161621535307443, 1.0536039580382426]\n",
      "Mean chi: 0, dens: -1.2340e-08, stdev: 3.7697e+00\n",
      "op111: nan\n"
     ]
    },
    {
     "data": {
      "text/html": [
       "<pre style=\"white-space:pre;overflow-x:auto;line-height:normal;font-family:Menlo,'DejaVu Sans Mono',consolas,'Courier New',monospace\">param<span style=\"font-weight: bold\">[</span><span style=\"color: #008000; text-decoration-color: #008000\">'nsteps'</span><span style=\"font-weight: bold\">]</span>=<span style=\"color: #008080; text-decoration-color: #008080; font-weight: bold\">73</span> param<span style=\"font-weight: bold\">[</span><span style=\"color: #008000; text-decoration-color: #008000\">'aexp'</span><span style=\"font-weight: bold\">]</span>=<span style=\"color: #008080; text-decoration-color: #008080; font-weight: bold\">0.9034169322802978</span> z = <span style=\"color: #008080; text-decoration-color: #008080; font-weight: bold\">0.10690863129598283</span>                                        \n",
       "</pre>\n"
      ],
      "text/plain": [
       "param\u001b[1m[\u001b[0m\u001b[32m'nsteps'\u001b[0m\u001b[1m]\u001b[0m=\u001b[1;36m73\u001b[0m param\u001b[1m[\u001b[0m\u001b[32m'aexp'\u001b[0m\u001b[1m]\u001b[0m=\u001b[1;36m0.9034169322802978\u001b[0m z = \u001b[1;36m0.10690863129598283\u001b[0m                                        \n"
      ]
     },
     "metadata": {},
     "output_type": "display_data"
    },
    {
     "data": {
      "text/html": [
       "<pre style=\"white-space:pre;overflow-x:auto;line-height:normal;font-family:Menlo,'DejaVu Sans Mono',consolas,'Courier New',monospace\">Write <span style=\"color: #800080; text-decoration-color: #800080; font-weight: bold\">P</span><span style=\"font-weight: bold\">(</span>k<span style=\"font-weight: bold\">)</span> in .<span style=\"color: #800080; text-decoration-color: #800080\">/t4//power/</span><span style=\"color: #ff00ff; text-decoration-color: #ff00ff\">pk_eft_multigrid_ncoarse7_00074.dat</span>                                                      \n",
       "</pre>\n"
      ],
      "text/plain": [
       "Write \u001b[1;35mP\u001b[0m\u001b[1m(\u001b[0mk\u001b[1m)\u001b[0m in .\u001b[35m/t4/\u001b[0m\u001b[35m/power/\u001b[0m\u001b[95mpk_eft_multigrid_ncoarse7_00074.dat\u001b[0m                                                      \n"
      ]
     },
     "metadata": {},
     "output_type": "display_data"
    },
    {
     "name": "stdout",
     "output_type": "stream",
     "text": [
      "[0.09214695120984115, 0.4607347560492057, 0.43131047340663686, 0.5528817072590468, 0.826370894149682, 1.0488364246845967]\n",
      "Mean chi: 0, dens: 9.3132e-10, stdev: 3.7270e+00\n",
      "op111: nan\n"
     ]
    },
    {
     "data": {
      "text/html": [
       "<pre style=\"white-space:pre;overflow-x:auto;line-height:normal;font-family:Menlo,'DejaVu Sans Mono',consolas,'Courier New',monospace\">param<span style=\"font-weight: bold\">[</span><span style=\"color: #008000; text-decoration-color: #008000\">'nsteps'</span><span style=\"font-weight: bold\">]</span>=<span style=\"color: #008080; text-decoration-color: #008080; font-weight: bold\">74</span> param<span style=\"font-weight: bold\">[</span><span style=\"color: #008000; text-decoration-color: #008000\">'aexp'</span><span style=\"font-weight: bold\">]</span>=<span style=\"color: #008080; text-decoration-color: #008080; font-weight: bold\">0.9090494453821981</span> z = <span style=\"color: #008080; text-decoration-color: #008080; font-weight: bold\">0.10005017337595201</span>                                        \n",
       "</pre>\n"
      ],
      "text/plain": [
       "param\u001b[1m[\u001b[0m\u001b[32m'nsteps'\u001b[0m\u001b[1m]\u001b[0m=\u001b[1;36m74\u001b[0m param\u001b[1m[\u001b[0m\u001b[32m'aexp'\u001b[0m\u001b[1m]\u001b[0m=\u001b[1;36m0.9090494453821981\u001b[0m z = \u001b[1;36m0.10005017337595201\u001b[0m                                        \n"
      ]
     },
     "metadata": {},
     "output_type": "display_data"
    },
    {
     "data": {
      "text/html": [
       "<pre style=\"white-space:pre;overflow-x:auto;line-height:normal;font-family:Menlo,'DejaVu Sans Mono',consolas,'Courier New',monospace\">Write <span style=\"color: #800080; text-decoration-color: #800080; font-weight: bold\">P</span><span style=\"font-weight: bold\">(</span>k<span style=\"font-weight: bold\">)</span> in .<span style=\"color: #800080; text-decoration-color: #800080\">/t4//power/</span><span style=\"color: #ff00ff; text-decoration-color: #ff00ff\">pk_eft_multigrid_ncoarse7_00075.dat</span>                                                      \n",
       "</pre>\n"
      ],
      "text/plain": [
       "Write \u001b[1;35mP\u001b[0m\u001b[1m(\u001b[0mk\u001b[1m)\u001b[0m in .\u001b[35m/t4/\u001b[0m\u001b[35m/power/\u001b[0m\u001b[95mpk_eft_multigrid_ncoarse7_00075.dat\u001b[0m                                                      \n"
      ]
     },
     "metadata": {},
     "output_type": "display_data"
    },
    {
     "name": "stdout",
     "output_type": "stream",
     "text": [
      "[0.09269259205494093, 0.4634629602747047, 0.4470045448278325, 0.5561555523296456, 0.8368071844069904, 1.0440360810366591]\n",
      "Mean chi: 0, dens: 3.7253e-09, stdev: 3.6862e+00\n",
      "op111: nan\n"
     ]
    },
    {
     "data": {
      "text/html": [
       "<pre style=\"white-space:pre;overflow-x:auto;line-height:normal;font-family:Menlo,'DejaVu Sans Mono',consolas,'Courier New',monospace\">param<span style=\"font-weight: bold\">[</span><span style=\"color: #008000; text-decoration-color: #008000\">'nsteps'</span><span style=\"font-weight: bold\">]</span>=<span style=\"color: #008080; text-decoration-color: #008080; font-weight: bold\">75</span> param<span style=\"font-weight: bold\">[</span><span style=\"color: #008000; text-decoration-color: #008000\">'aexp'</span><span style=\"font-weight: bold\">]</span>=<span style=\"color: #008080; text-decoration-color: #008080; font-weight: bold\">0.9147716569762043</span> z = <span style=\"color: #008080; text-decoration-color: #008080; font-weight: bold\">0.09316898088591818</span>                                        \n",
       "</pre>\n"
      ],
      "text/plain": [
       "param\u001b[1m[\u001b[0m\u001b[32m'nsteps'\u001b[0m\u001b[1m]\u001b[0m=\u001b[1;36m75\u001b[0m param\u001b[1m[\u001b[0m\u001b[32m'aexp'\u001b[0m\u001b[1m]\u001b[0m=\u001b[1;36m0.9147716569762043\u001b[0m z = \u001b[1;36m0.09316898088591818\u001b[0m                                        \n"
      ]
     },
     "metadata": {},
     "output_type": "display_data"
    },
    {
     "data": {
      "text/html": [
       "<pre style=\"white-space:pre;overflow-x:auto;line-height:normal;font-family:Menlo,'DejaVu Sans Mono',consolas,'Courier New',monospace\">Write <span style=\"color: #800080; text-decoration-color: #800080; font-weight: bold\">P</span><span style=\"font-weight: bold\">(</span>k<span style=\"font-weight: bold\">)</span> in .<span style=\"color: #800080; text-decoration-color: #800080\">/t4//power/</span><span style=\"color: #ff00ff; text-decoration-color: #ff00ff\">pk_eft_multigrid_ncoarse7_00076.dat</span>                                                      \n",
       "</pre>\n"
      ],
      "text/plain": [
       "Write \u001b[1;35mP\u001b[0m\u001b[1m(\u001b[0mk\u001b[1m)\u001b[0m in .\u001b[35m/t4/\u001b[0m\u001b[35m/power/\u001b[0m\u001b[95mpk_eft_multigrid_ncoarse7_00076.dat\u001b[0m                                                      \n"
      ]
     },
     "metadata": {},
     "output_type": "display_data"
    },
    {
     "name": "stdout",
     "output_type": "stream",
     "text": [
      "[0.09323962743516283, 0.4661981371758141, 0.4630358916687841, 0.5594377646109769, 0.8474787295741842, 1.0392023399360837]\n",
      "Mean chi: 0, dens: 4.6566e-09, stdev: 3.6471e+00\n",
      "op111: nan\n"
     ]
    },
    {
     "data": {
      "text/html": [
       "<pre style=\"white-space:pre;overflow-x:auto;line-height:normal;font-family:Menlo,'DejaVu Sans Mono',consolas,'Courier New',monospace\">param<span style=\"font-weight: bold\">[</span><span style=\"color: #008000; text-decoration-color: #008000\">'nsteps'</span><span style=\"font-weight: bold\">]</span>=<span style=\"color: #008080; text-decoration-color: #008080; font-weight: bold\">76</span> param<span style=\"font-weight: bold\">[</span><span style=\"color: #008000; text-decoration-color: #008000\">'aexp'</span><span style=\"font-weight: bold\">]</span>=<span style=\"color: #008080; text-decoration-color: #008080; font-weight: bold\">0.9205860793940913</span> z = <span style=\"color: #008080; text-decoration-color: #008080; font-weight: bold\">0.08626452472339907</span>                                        \n",
       "</pre>\n"
      ],
      "text/plain": [
       "param\u001b[1m[\u001b[0m\u001b[32m'nsteps'\u001b[0m\u001b[1m]\u001b[0m=\u001b[1;36m76\u001b[0m param\u001b[1m[\u001b[0m\u001b[32m'aexp'\u001b[0m\u001b[1m]\u001b[0m=\u001b[1;36m0.9205860793940913\u001b[0m z = \u001b[1;36m0.08626452472339907\u001b[0m                                        \n"
      ]
     },
     "metadata": {},
     "output_type": "display_data"
    },
    {
     "data": {
      "text/html": [
       "<pre style=\"white-space:pre;overflow-x:auto;line-height:normal;font-family:Menlo,'DejaVu Sans Mono',consolas,'Courier New',monospace\">Write <span style=\"color: #800080; text-decoration-color: #800080; font-weight: bold\">P</span><span style=\"font-weight: bold\">(</span>k<span style=\"font-weight: bold\">)</span> in .<span style=\"color: #800080; text-decoration-color: #800080\">/t4//power/</span><span style=\"color: #ff00ff; text-decoration-color: #ff00ff\">pk_eft_multigrid_ncoarse7_00077.dat</span>                                                      \n",
       "</pre>\n"
      ],
      "text/plain": [
       "Write \u001b[1;35mP\u001b[0m\u001b[1m(\u001b[0mk\u001b[1m)\u001b[0m in .\u001b[35m/t4/\u001b[0m\u001b[35m/power/\u001b[0m\u001b[95mpk_eft_multigrid_ncoarse7_00077.dat\u001b[0m                                                      \n"
      ]
     },
     "metadata": {},
     "output_type": "display_data"
    },
    {
     "name": "stdout",
     "output_type": "stream",
     "text": [
      "[0.09378800844829444, 0.4689400422414722, 0.4794184441106091, 0.5627280506897666, 0.8583935922313607, 1.03433459597239]\n",
      "Mean chi: 0, dens: -3.2596e-09, stdev: 3.6097e+00\n",
      "op111: nan\n"
     ]
    },
    {
     "data": {
      "text/html": [
       "<pre style=\"white-space:pre;overflow-x:auto;line-height:normal;font-family:Menlo,'DejaVu Sans Mono',consolas,'Courier New',monospace\">param<span style=\"font-weight: bold\">[</span><span style=\"color: #008000; text-decoration-color: #008000\">'nsteps'</span><span style=\"font-weight: bold\">]</span>=<span style=\"color: #008080; text-decoration-color: #008080; font-weight: bold\">77</span> param<span style=\"font-weight: bold\">[</span><span style=\"color: #008000; text-decoration-color: #008000\">'aexp'</span><span style=\"font-weight: bold\">]</span>=<span style=\"color: #008080; text-decoration-color: #008080; font-weight: bold\">0.9264953276899786</span> z = <span style=\"color: #008080; text-decoration-color: #008080; font-weight: bold\">0.07933625795317267</span>                                        \n",
       "</pre>\n"
      ],
      "text/plain": [
       "param\u001b[1m[\u001b[0m\u001b[32m'nsteps'\u001b[0m\u001b[1m]\u001b[0m=\u001b[1;36m77\u001b[0m param\u001b[1m[\u001b[0m\u001b[32m'aexp'\u001b[0m\u001b[1m]\u001b[0m=\u001b[1;36m0.9264953276899786\u001b[0m z = \u001b[1;36m0.07933625795317267\u001b[0m                                        \n"
      ]
     },
     "metadata": {},
     "output_type": "display_data"
    },
    {
     "data": {
      "text/html": [
       "<pre style=\"white-space:pre;overflow-x:auto;line-height:normal;font-family:Menlo,'DejaVu Sans Mono',consolas,'Courier New',monospace\">Write <span style=\"color: #800080; text-decoration-color: #800080; font-weight: bold\">P</span><span style=\"font-weight: bold\">(</span>k<span style=\"font-weight: bold\">)</span> in .<span style=\"color: #800080; text-decoration-color: #800080\">/t4//power/</span><span style=\"color: #ff00ff; text-decoration-color: #ff00ff\">pk_eft_multigrid_ncoarse7_00078.dat</span>                                                      \n",
       "</pre>\n"
      ],
      "text/plain": [
       "Write \u001b[1;35mP\u001b[0m\u001b[1m(\u001b[0mk\u001b[1m)\u001b[0m in .\u001b[35m/t4/\u001b[0m\u001b[35m/power/\u001b[0m\u001b[95mpk_eft_multigrid_ncoarse7_00078.dat\u001b[0m                                                      \n"
      ]
     },
     "metadata": {},
     "output_type": "display_data"
    },
    {
     "name": "stdout",
     "output_type": "stream",
     "text": [
      "[0.09433768534100569, 0.47168842670502836, 0.4961669824655893, 0.5660261120460339, 0.8695602230491305, 1.029432220475658]\n",
      "Mean chi: 0, dens: -1.5018e-08, stdev: 3.5739e+00\n",
      "op111: nan\n"
     ]
    },
    {
     "data": {
      "text/html": [
       "<pre style=\"white-space:pre;overflow-x:auto;line-height:normal;font-family:Menlo,'DejaVu Sans Mono',consolas,'Courier New',monospace\">param<span style=\"font-weight: bold\">[</span><span style=\"color: #008000; text-decoration-color: #008000\">'nsteps'</span><span style=\"font-weight: bold\">]</span>=<span style=\"color: #008080; text-decoration-color: #008080; font-weight: bold\">78</span> param<span style=\"font-weight: bold\">[</span><span style=\"color: #008000; text-decoration-color: #008000\">'aexp'</span><span style=\"font-weight: bold\">]</span>=<span style=\"color: #008080; text-decoration-color: #008080; font-weight: bold\">0.9325021303188162</span> z = <span style=\"color: #008080; text-decoration-color: #008080; font-weight: bold\">0.0723836090949268</span>                                         \n",
       "</pre>\n"
      ],
      "text/plain": [
       "param\u001b[1m[\u001b[0m\u001b[32m'nsteps'\u001b[0m\u001b[1m]\u001b[0m=\u001b[1;36m78\u001b[0m param\u001b[1m[\u001b[0m\u001b[32m'aexp'\u001b[0m\u001b[1m]\u001b[0m=\u001b[1;36m0.9325021303188162\u001b[0m z = \u001b[1;36m0.0723836090949268\u001b[0m                                         \n"
      ]
     },
     "metadata": {},
     "output_type": "display_data"
    },
    {
     "data": {
      "text/html": [
       "<pre style=\"white-space:pre;overflow-x:auto;line-height:normal;font-family:Menlo,'DejaVu Sans Mono',consolas,'Courier New',monospace\">Write <span style=\"color: #800080; text-decoration-color: #800080; font-weight: bold\">P</span><span style=\"font-weight: bold\">(</span>k<span style=\"font-weight: bold\">)</span> in .<span style=\"color: #800080; text-decoration-color: #800080\">/t4//power/</span><span style=\"color: #ff00ff; text-decoration-color: #ff00ff\">pk_eft_multigrid_ncoarse7_00079.dat</span>                                                      \n",
       "</pre>\n"
      ],
      "text/plain": [
       "Write \u001b[1;35mP\u001b[0m\u001b[1m(\u001b[0mk\u001b[1m)\u001b[0m in .\u001b[35m/t4/\u001b[0m\u001b[35m/power/\u001b[0m\u001b[95mpk_eft_multigrid_ncoarse7_00079.dat\u001b[0m                                                      \n"
      ]
     },
     "metadata": {},
     "output_type": "display_data"
    },
    {
     "name": "stdout",
     "output_type": "stream",
     "text": [
      "[0.09488860557809221, 0.47444302789046106, 0.5132971417008587, 0.5693316334685532, 0.8809874444181045, 1.0244945777293948]\n",
      "Mean chi: 0, dens: -1.0827e-08, stdev: 3.5397e+00\n",
      "op111: nan\n"
     ]
    },
    {
     "data": {
      "text/html": [
       "<pre style=\"white-space:pre;overflow-x:auto;line-height:normal;font-family:Menlo,'DejaVu Sans Mono',consolas,'Courier New',monospace\">param<span style=\"font-weight: bold\">[</span><span style=\"color: #008000; text-decoration-color: #008000\">'nsteps'</span><span style=\"font-weight: bold\">]</span>=<span style=\"color: #008080; text-decoration-color: #008080; font-weight: bold\">79</span> param<span style=\"font-weight: bold\">[</span><span style=\"color: #008000; text-decoration-color: #008000\">'aexp'</span><span style=\"font-weight: bold\">]</span>=<span style=\"color: #008080; text-decoration-color: #008080; font-weight: bold\">0.9386093140482383</span> z = <span style=\"color: #008080; text-decoration-color: #008080; font-weight: bold\">0.06540600549442943</span>                                        \n",
       "</pre>\n"
      ],
      "text/plain": [
       "param\u001b[1m[\u001b[0m\u001b[32m'nsteps'\u001b[0m\u001b[1m]\u001b[0m=\u001b[1;36m79\u001b[0m param\u001b[1m[\u001b[0m\u001b[32m'aexp'\u001b[0m\u001b[1m]\u001b[0m=\u001b[1;36m0.9386093140482383\u001b[0m z = \u001b[1;36m0.06540600549442943\u001b[0m                                        \n"
      ]
     },
     "metadata": {},
     "output_type": "display_data"
    },
    {
     "data": {
      "text/html": [
       "<pre style=\"white-space:pre;overflow-x:auto;line-height:normal;font-family:Menlo,'DejaVu Sans Mono',consolas,'Courier New',monospace\">Write <span style=\"color: #800080; text-decoration-color: #800080; font-weight: bold\">P</span><span style=\"font-weight: bold\">(</span>k<span style=\"font-weight: bold\">)</span> in .<span style=\"color: #800080; text-decoration-color: #800080\">/t4//power/</span><span style=\"color: #ff00ff; text-decoration-color: #ff00ff\">pk_eft_multigrid_ncoarse7_00080.dat</span>                                                      \n",
       "</pre>\n"
      ],
      "text/plain": [
       "Write \u001b[1;35mP\u001b[0m\u001b[1m(\u001b[0mk\u001b[1m)\u001b[0m in .\u001b[35m/t4/\u001b[0m\u001b[35m/power/\u001b[0m\u001b[95mpk_eft_multigrid_ncoarse7_00080.dat\u001b[0m                                                      \n"
      ]
     },
     "metadata": {},
     "output_type": "display_data"
    },
    {
     "name": "stdout",
     "output_type": "stream",
     "text": [
      "[0.0954407137265621, 0.4772035686328105, 0.5308254724791721, 0.5726442823593726, 0.8926844695352054, 1.0195210252621332]\n",
      "Mean chi: 0, dens: -2.3283e-10, stdev: 3.5070e+00\n",
      "op111: nan\n"
     ]
    },
    {
     "data": {
      "text/html": [
       "<pre style=\"white-space:pre;overflow-x:auto;line-height:normal;font-family:Menlo,'DejaVu Sans Mono',consolas,'Courier New',monospace\">param<span style=\"font-weight: bold\">[</span><span style=\"color: #008000; text-decoration-color: #008000\">'nsteps'</span><span style=\"font-weight: bold\">]</span>=<span style=\"color: #008080; text-decoration-color: #008080; font-weight: bold\">80</span> param<span style=\"font-weight: bold\">[</span><span style=\"color: #008000; text-decoration-color: #008000\">'aexp'</span><span style=\"font-weight: bold\">]</span>=<span style=\"color: #008080; text-decoration-color: #008080; font-weight: bold\">0.9448198079714488</span> z = <span style=\"color: #008080; text-decoration-color: #008080; font-weight: bold\">0.058402873821014056</span>                                       \n",
       "</pre>\n"
      ],
      "text/plain": [
       "param\u001b[1m[\u001b[0m\u001b[32m'nsteps'\u001b[0m\u001b[1m]\u001b[0m=\u001b[1;36m80\u001b[0m param\u001b[1m[\u001b[0m\u001b[32m'aexp'\u001b[0m\u001b[1m]\u001b[0m=\u001b[1;36m0.9448198079714488\u001b[0m z = \u001b[1;36m0.058402873821014056\u001b[0m                                       \n"
      ]
     },
     "metadata": {},
     "output_type": "display_data"
    },
    {
     "data": {
      "text/html": [
       "<pre style=\"white-space:pre;overflow-x:auto;line-height:normal;font-family:Menlo,'DejaVu Sans Mono',consolas,'Courier New',monospace\">Write <span style=\"color: #800080; text-decoration-color: #800080; font-weight: bold\">P</span><span style=\"font-weight: bold\">(</span>k<span style=\"font-weight: bold\">)</span> in .<span style=\"color: #800080; text-decoration-color: #800080\">/t4//power/</span><span style=\"color: #ff00ff; text-decoration-color: #ff00ff\">pk_eft_multigrid_ncoarse7_00081.dat</span>                                                      \n",
       "</pre>\n"
      ],
      "text/plain": [
       "Write \u001b[1;35mP\u001b[0m\u001b[1m(\u001b[0mk\u001b[1m)\u001b[0m in .\u001b[35m/t4/\u001b[0m\u001b[35m/power/\u001b[0m\u001b[95mpk_eft_multigrid_ncoarse7_00081.dat\u001b[0m                                                      \n"
      ]
     },
     "metadata": {},
     "output_type": "display_data"
    },
    {
     "name": "stdout",
     "output_type": "stream",
     "text": [
      "[0.09599395237764019, 0.47996976188820095, 0.5487695414923865, 0.5759637142658411, 0.9046609453559286, 1.0145109047282233]\n",
      "Mean chi: 0, dens: 2.3283e-10, stdev: 3.4754e+00\n",
      "op111: nan\n"
     ]
    },
    {
     "data": {
      "text/html": [
       "<pre style=\"white-space:pre;overflow-x:auto;line-height:normal;font-family:Menlo,'DejaVu Sans Mono',consolas,'Courier New',monospace\">param<span style=\"font-weight: bold\">[</span><span style=\"color: #008000; text-decoration-color: #008000\">'nsteps'</span><span style=\"font-weight: bold\">]</span>=<span style=\"color: #008080; text-decoration-color: #008080; font-weight: bold\">81</span> param<span style=\"font-weight: bold\">[</span><span style=\"color: #008000; text-decoration-color: #008000\">'aexp'</span><span style=\"font-weight: bold\">]</span>=<span style=\"color: #008080; text-decoration-color: #008080; font-weight: bold\">0.9511366596635462</span> z = <span style=\"color: #008080; text-decoration-color: #008080; font-weight: bold\">0.051373627375206565</span>                                       \n",
       "</pre>\n"
      ],
      "text/plain": [
       "param\u001b[1m[\u001b[0m\u001b[32m'nsteps'\u001b[0m\u001b[1m]\u001b[0m=\u001b[1;36m81\u001b[0m param\u001b[1m[\u001b[0m\u001b[32m'aexp'\u001b[0m\u001b[1m]\u001b[0m=\u001b[1;36m0.9511366596635462\u001b[0m z = \u001b[1;36m0.051373627375206565\u001b[0m                                       \n"
      ]
     },
     "metadata": {},
     "output_type": "display_data"
    },
    {
     "data": {
      "text/html": [
       "<pre style=\"white-space:pre;overflow-x:auto;line-height:normal;font-family:Menlo,'DejaVu Sans Mono',consolas,'Courier New',monospace\">Write <span style=\"color: #800080; text-decoration-color: #800080; font-weight: bold\">P</span><span style=\"font-weight: bold\">(</span>k<span style=\"font-weight: bold\">)</span> in .<span style=\"color: #800080; text-decoration-color: #800080\">/t4//power/</span><span style=\"color: #ff00ff; text-decoration-color: #ff00ff\">pk_eft_multigrid_ncoarse7_00082.dat</span>                                                      \n",
       "</pre>\n"
      ],
      "text/plain": [
       "Write \u001b[1;35mP\u001b[0m\u001b[1m(\u001b[0mk\u001b[1m)\u001b[0m in .\u001b[35m/t4/\u001b[0m\u001b[35m/power/\u001b[0m\u001b[95mpk_eft_multigrid_ncoarse7_00082.dat\u001b[0m                                                      \n"
      ]
     },
     "metadata": {},
     "output_type": "display_data"
    },
    {
     "name": "stdout",
     "output_type": "stream",
     "text": [
      "[0.09654826227549296, 0.4827413113774648, 0.5671480155756338, 0.5792895736529577, 0.9169269820738238, 1.009463539733679]\n",
      "Mean chi: 0, dens: -1.6298e-09, stdev: 3.4449e+00\n",
      "op111: nan\n"
     ]
    },
    {
     "data": {
      "text/html": [
       "<pre style=\"white-space:pre;overflow-x:auto;line-height:normal;font-family:Menlo,'DejaVu Sans Mono',consolas,'Courier New',monospace\">param<span style=\"font-weight: bold\">[</span><span style=\"color: #008000; text-decoration-color: #008000\">'nsteps'</span><span style=\"font-weight: bold\">]</span>=<span style=\"color: #008080; text-decoration-color: #008080; font-weight: bold\">82</span> param<span style=\"font-weight: bold\">[</span><span style=\"color: #008000; text-decoration-color: #008000\">'aexp'</span><span style=\"font-weight: bold\">]</span>=<span style=\"color: #008080; text-decoration-color: #008080; font-weight: bold\">0.9575630433939187</span> z = <span style=\"color: #008080; text-decoration-color: #008080; font-weight: bold\">0.044317663363104165</span>                                       \n",
       "</pre>\n"
      ],
      "text/plain": [
       "param\u001b[1m[\u001b[0m\u001b[32m'nsteps'\u001b[0m\u001b[1m]\u001b[0m=\u001b[1;36m82\u001b[0m param\u001b[1m[\u001b[0m\u001b[32m'aexp'\u001b[0m\u001b[1m]\u001b[0m=\u001b[1;36m0.9575630433939187\u001b[0m z = \u001b[1;36m0.044317663363104165\u001b[0m                                       \n"
      ]
     },
     "metadata": {},
     "output_type": "display_data"
    },
    {
     "data": {
      "text/html": [
       "<pre style=\"white-space:pre;overflow-x:auto;line-height:normal;font-family:Menlo,'DejaVu Sans Mono',consolas,'Courier New',monospace\">Write <span style=\"color: #800080; text-decoration-color: #800080; font-weight: bold\">P</span><span style=\"font-weight: bold\">(</span>k<span style=\"font-weight: bold\">)</span> in .<span style=\"color: #800080; text-decoration-color: #800080\">/t4//power/</span><span style=\"color: #ff00ff; text-decoration-color: #ff00ff\">pk_eft_multigrid_ncoarse7_00083.dat</span>                                                      \n",
       "</pre>\n"
      ],
      "text/plain": [
       "Write \u001b[1;35mP\u001b[0m\u001b[1m(\u001b[0mk\u001b[1m)\u001b[0m in .\u001b[35m/t4/\u001b[0m\u001b[35m/power/\u001b[0m\u001b[95mpk_eft_multigrid_ncoarse7_00083.dat\u001b[0m                                                      \n"
      ]
     },
     "metadata": {},
     "output_type": "display_data"
    },
    {
     "name": "stdout",
     "output_type": "stream",
     "text": [
      "[0.09710358413241951, 0.48551792066209754, 0.5859808117546602, 0.582621504794517, 0.9294932235617489, 1.0043782180841492]\n",
      "Mean chi: 0, dens: -1.5134e-09, stdev: 3.4154e+00\n",
      "op111: nan\n"
     ]
    },
    {
     "data": {
      "text/html": [
       "<pre style=\"white-space:pre;overflow-x:auto;line-height:normal;font-family:Menlo,'DejaVu Sans Mono',consolas,'Courier New',monospace\">param<span style=\"font-weight: bold\">[</span><span style=\"color: #008000; text-decoration-color: #008000\">'nsteps'</span><span style=\"font-weight: bold\">]</span>=<span style=\"color: #008080; text-decoration-color: #008080; font-weight: bold\">83</span> param<span style=\"font-weight: bold\">[</span><span style=\"color: #008000; text-decoration-color: #008000\">'aexp'</span><span style=\"font-weight: bold\">]</span>=<span style=\"color: #008080; text-decoration-color: #008080; font-weight: bold\">0.9641022889516179</span> z = <span style=\"color: #008080; text-decoration-color: #008080; font-weight: bold\">0.037234338575648396</span>                                       \n",
       "</pre>\n"
      ],
      "text/plain": [
       "param\u001b[1m[\u001b[0m\u001b[32m'nsteps'\u001b[0m\u001b[1m]\u001b[0m=\u001b[1;36m83\u001b[0m param\u001b[1m[\u001b[0m\u001b[32m'aexp'\u001b[0m\u001b[1m]\u001b[0m=\u001b[1;36m0.9641022889516179\u001b[0m z = \u001b[1;36m0.037234338575648396\u001b[0m                                       \n"
      ]
     },
     "metadata": {},
     "output_type": "display_data"
    },
    {
     "data": {
      "text/html": [
       "<pre style=\"white-space:pre;overflow-x:auto;line-height:normal;font-family:Menlo,'DejaVu Sans Mono',consolas,'Courier New',monospace\">Write <span style=\"color: #800080; text-decoration-color: #800080; font-weight: bold\">P</span><span style=\"font-weight: bold\">(</span>k<span style=\"font-weight: bold\">)</span> in .<span style=\"color: #800080; text-decoration-color: #800080\">/t4//power/</span><span style=\"color: #ff00ff; text-decoration-color: #ff00ff\">pk_eft_multigrid_ncoarse7_00084.dat</span>                                                      \n",
       "</pre>\n"
      ],
      "text/plain": [
       "Write \u001b[1;35mP\u001b[0m\u001b[1m(\u001b[0mk\u001b[1m)\u001b[0m in .\u001b[35m/t4/\u001b[0m\u001b[35m/power/\u001b[0m\u001b[95mpk_eft_multigrid_ncoarse7_00084.dat\u001b[0m                                                      \n"
      ]
     },
     "metadata": {},
     "output_type": "display_data"
    },
    {
     "name": "stdout",
     "output_type": "stream",
     "text": [
      "[0.0976598644355646, 0.488299322177823, 0.6052894047727649, 0.5859591866133876, 0.9423710192641581, 0.9992541364994847]\n",
      "Mean chi: 0, dens: -1.9791e-09, stdev: 3.3871e+00\n",
      "op111: nan\n"
     ]
    },
    {
     "data": {
      "text/html": [
       "<pre style=\"white-space:pre;overflow-x:auto;line-height:normal;font-family:Menlo,'DejaVu Sans Mono',consolas,'Courier New',monospace\">param<span style=\"font-weight: bold\">[</span><span style=\"color: #008000; text-decoration-color: #008000\">'nsteps'</span><span style=\"font-weight: bold\">]</span>=<span style=\"color: #008080; text-decoration-color: #008080; font-weight: bold\">84</span> param<span style=\"font-weight: bold\">[</span><span style=\"color: #008000; text-decoration-color: #008000\">'aexp'</span><span style=\"font-weight: bold\">]</span>=<span style=\"color: #008080; text-decoration-color: #008080; font-weight: bold\">0.9707579612159553</span> z = <span style=\"color: #008080; text-decoration-color: #008080; font-weight: bold\">0.030122893607194</span>                                          \n",
       "</pre>\n"
      ],
      "text/plain": [
       "param\u001b[1m[\u001b[0m\u001b[32m'nsteps'\u001b[0m\u001b[1m]\u001b[0m=\u001b[1;36m84\u001b[0m param\u001b[1m[\u001b[0m\u001b[32m'aexp'\u001b[0m\u001b[1m]\u001b[0m=\u001b[1;36m0.9707579612159553\u001b[0m z = \u001b[1;36m0.030122893607194\u001b[0m                                          \n"
      ]
     },
     "metadata": {},
     "output_type": "display_data"
    },
    {
     "data": {
      "text/html": [
       "<pre style=\"white-space:pre;overflow-x:auto;line-height:normal;font-family:Menlo,'DejaVu Sans Mono',consolas,'Courier New',monospace\">Write <span style=\"color: #800080; text-decoration-color: #800080; font-weight: bold\">P</span><span style=\"font-weight: bold\">(</span>k<span style=\"font-weight: bold\">)</span> in .<span style=\"color: #800080; text-decoration-color: #800080\">/t4//power/</span><span style=\"color: #ff00ff; text-decoration-color: #ff00ff\">pk_eft_multigrid_ncoarse7_00085.dat</span>                                                      \n",
       "</pre>\n"
      ],
      "text/plain": [
       "Write \u001b[1;35mP\u001b[0m\u001b[1m(\u001b[0mk\u001b[1m)\u001b[0m in .\u001b[35m/t4/\u001b[0m\u001b[35m/power/\u001b[0m\u001b[95mpk_eft_multigrid_ncoarse7_00085.dat\u001b[0m                                                      \n"
      ]
     },
     "metadata": {},
     "output_type": "display_data"
    },
    {
     "name": "stdout",
     "output_type": "stream",
     "text": [
      "[0.09821705862247627, 0.4910852931123813, 0.6250970804401369, 0.5893023517348575, 0.9555725553305503, 0.9940903676705196]\n",
      "Mean chi: 0, dens: 3.4925e-09, stdev: 3.3597e+00\n",
      "op111: nan\n"
     ]
    },
    {
     "data": {
      "text/html": [
       "<pre style=\"white-space:pre;overflow-x:auto;line-height:normal;font-family:Menlo,'DejaVu Sans Mono',consolas,'Courier New',monospace\">param<span style=\"font-weight: bold\">[</span><span style=\"color: #008000; text-decoration-color: #008000\">'nsteps'</span><span style=\"font-weight: bold\">]</span>=<span style=\"color: #008080; text-decoration-color: #008080; font-weight: bold\">85</span> param<span style=\"font-weight: bold\">[</span><span style=\"color: #008000; text-decoration-color: #008000\">'aexp'</span><span style=\"font-weight: bold\">]</span>=<span style=\"color: #008080; text-decoration-color: #008080; font-weight: bold\">0.9775339151817446</span> z = <span style=\"color: #008080; text-decoration-color: #008080; font-weight: bold\">0.02298240958123543</span>                                        \n",
       "</pre>\n"
      ],
      "text/plain": [
       "param\u001b[1m[\u001b[0m\u001b[32m'nsteps'\u001b[0m\u001b[1m]\u001b[0m=\u001b[1;36m85\u001b[0m param\u001b[1m[\u001b[0m\u001b[32m'aexp'\u001b[0m\u001b[1m]\u001b[0m=\u001b[1;36m0.9775339151817446\u001b[0m z = \u001b[1;36m0.02298240958123543\u001b[0m                                        \n"
      ]
     },
     "metadata": {},
     "output_type": "display_data"
    },
    {
     "data": {
      "text/html": [
       "<pre style=\"white-space:pre;overflow-x:auto;line-height:normal;font-family:Menlo,'DejaVu Sans Mono',consolas,'Courier New',monospace\">Write <span style=\"color: #800080; text-decoration-color: #800080; font-weight: bold\">P</span><span style=\"font-weight: bold\">(</span>k<span style=\"font-weight: bold\">)</span> in .<span style=\"color: #800080; text-decoration-color: #800080\">/t4//power/</span><span style=\"color: #ff00ff; text-decoration-color: #ff00ff\">pk_eft_multigrid_ncoarse7_00086.dat</span>                                                      \n",
       "</pre>\n"
      ],
      "text/plain": [
       "Write \u001b[1;35mP\u001b[0m\u001b[1m(\u001b[0mk\u001b[1m)\u001b[0m in .\u001b[35m/t4/\u001b[0m\u001b[35m/power/\u001b[0m\u001b[95mpk_eft_multigrid_ncoarse7_00086.dat\u001b[0m                                                      \n"
      ]
     },
     "metadata": {},
     "output_type": "display_data"
    },
    {
     "name": "stdout",
     "output_type": "stream",
     "text": [
      "[0.09877512109629599, 0.49387560548148, 0.6454287365980994, 0.5926507265777761, 0.9691106790528672, 0.9888859489693439]\n",
      "Mean chi: 0, dens: 6.7521e-09, stdev: 3.3332e+00\n",
      "op111: nan\n"
     ]
    },
    {
     "data": {
      "text/html": [
       "<pre style=\"white-space:pre;overflow-x:auto;line-height:normal;font-family:Menlo,'DejaVu Sans Mono',consolas,'Courier New',monospace\">param<span style=\"font-weight: bold\">[</span><span style=\"color: #008000; text-decoration-color: #008000\">'nsteps'</span><span style=\"font-weight: bold\">]</span>=<span style=\"color: #008080; text-decoration-color: #008080; font-weight: bold\">86</span> param<span style=\"font-weight: bold\">[</span><span style=\"color: #008000; text-decoration-color: #008000\">'aexp'</span><span style=\"font-weight: bold\">]</span>=<span style=\"color: #008080; text-decoration-color: #008080; font-weight: bold\">0.9844341923424171</span> z = <span style=\"color: #008080; text-decoration-color: #008080; font-weight: bold\">0.015811933167970027</span>                                       \n",
       "</pre>\n"
      ],
      "text/plain": [
       "param\u001b[1m[\u001b[0m\u001b[32m'nsteps'\u001b[0m\u001b[1m]\u001b[0m=\u001b[1;36m86\u001b[0m param\u001b[1m[\u001b[0m\u001b[32m'aexp'\u001b[0m\u001b[1m]\u001b[0m=\u001b[1;36m0.9844341923424171\u001b[0m z = \u001b[1;36m0.015811933167970027\u001b[0m                                       \n"
      ]
     },
     "metadata": {},
     "output_type": "display_data"
    },
    {
     "data": {
      "text/html": [
       "<pre style=\"white-space:pre;overflow-x:auto;line-height:normal;font-family:Menlo,'DejaVu Sans Mono',consolas,'Courier New',monospace\">Write <span style=\"color: #800080; text-decoration-color: #800080; font-weight: bold\">P</span><span style=\"font-weight: bold\">(</span>k<span style=\"font-weight: bold\">)</span> in .<span style=\"color: #800080; text-decoration-color: #800080\">/t4//power/</span><span style=\"color: #ff00ff; text-decoration-color: #ff00ff\">pk_eft_multigrid_ncoarse7_00087.dat</span>                                                      \n",
       "</pre>\n"
      ],
      "text/plain": [
       "Write \u001b[1;35mP\u001b[0m\u001b[1m(\u001b[0mk\u001b[1m)\u001b[0m in .\u001b[35m/t4/\u001b[0m\u001b[35m/power/\u001b[0m\u001b[95mpk_eft_multigrid_ncoarse7_00087.dat\u001b[0m                                                      \n"
      ]
     },
     "metadata": {},
     "output_type": "display_data"
    },
    {
     "name": "stdout",
     "output_type": "stream",
     "text": [
      "[0.09933399578826871, 0.4966699789413435, 0.6663106677857534, 0.5960039747296122, 0.9829987081048652, 0.9836399692383281]\n",
      "Mean chi: 0, dens: -1.3504e-08, stdev: 3.3075e+00\n",
      "op111: nan\n"
     ]
    },
    {
     "data": {
      "text/html": [
       "<pre style=\"white-space:pre;overflow-x:auto;line-height:normal;font-family:Menlo,'DejaVu Sans Mono',consolas,'Courier New',monospace\">param<span style=\"font-weight: bold\">[</span><span style=\"color: #008000; text-decoration-color: #008000\">'nsteps'</span><span style=\"font-weight: bold\">]</span>=<span style=\"color: #008080; text-decoration-color: #008080; font-weight: bold\">87</span> param<span style=\"font-weight: bold\">[</span><span style=\"color: #008000; text-decoration-color: #008000\">'aexp'</span><span style=\"font-weight: bold\">]</span>=<span style=\"color: #008080; text-decoration-color: #008080; font-weight: bold\">0.991462913126288</span> z = <span style=\"color: #008080; text-decoration-color: #008080; font-weight: bold\">0.008610596282207617</span>                                        \n",
       "</pre>\n"
      ],
      "text/plain": [
       "param\u001b[1m[\u001b[0m\u001b[32m'nsteps'\u001b[0m\u001b[1m]\u001b[0m=\u001b[1;36m87\u001b[0m param\u001b[1m[\u001b[0m\u001b[32m'aexp'\u001b[0m\u001b[1m]\u001b[0m=\u001b[1;36m0.991462913126288\u001b[0m z = \u001b[1;36m0.008610596282207617\u001b[0m                                        \n"
      ]
     },
     "metadata": {},
     "output_type": "display_data"
    },
    {
     "data": {
      "text/html": [
       "<pre style=\"white-space:pre;overflow-x:auto;line-height:normal;font-family:Menlo,'DejaVu Sans Mono',consolas,'Courier New',monospace\">Write <span style=\"color: #800080; text-decoration-color: #800080; font-weight: bold\">P</span><span style=\"font-weight: bold\">(</span>k<span style=\"font-weight: bold\">)</span> in .<span style=\"color: #800080; text-decoration-color: #800080\">/t4//power/</span><span style=\"color: #ff00ff; text-decoration-color: #ff00ff\">pk_eft_multigrid_ncoarse7_00088.dat</span>                                                      \n",
       "</pre>\n"
      ],
      "text/plain": [
       "Write \u001b[1;35mP\u001b[0m\u001b[1m(\u001b[0mk\u001b[1m)\u001b[0m in .\u001b[35m/t4/\u001b[0m\u001b[35m/power/\u001b[0m\u001b[95mpk_eft_multigrid_ncoarse7_00088.dat\u001b[0m                                                      \n"
      ]
     },
     "metadata": {},
     "output_type": "display_data"
    },
    {
     "name": "stdout",
     "output_type": "stream",
     "text": [
      "[0.09989361888930183, 0.49946809444650914, 0.6877707807279303, 0.5993617133358109, 0.9972505219090032, 0.9783515436948409]\n",
      "Mean chi: 0, dens: 1.1642e-09, stdev: 3.2825e+00\n",
      "op111: nan\n"
     ]
    },
    {
     "data": {
      "text/html": [
       "<pre style=\"white-space:pre;overflow-x:auto;line-height:normal;font-family:Menlo,'DejaVu Sans Mono',consolas,'Courier New',monospace\">param<span style=\"font-weight: bold\">[</span><span style=\"color: #008000; text-decoration-color: #008000\">'nsteps'</span><span style=\"font-weight: bold\">]</span>=<span style=\"color: #008080; text-decoration-color: #008080; font-weight: bold\">88</span> param<span style=\"font-weight: bold\">[</span><span style=\"color: #008000; text-decoration-color: #008000\">'aexp'</span><span style=\"font-weight: bold\">]</span>=<span style=\"color: #008080; text-decoration-color: #008080; font-weight: bold\">0.9986243146994785</span> z = <span style=\"color: #008080; text-decoration-color: #008080; font-weight: bold\">0.0013775804176523465</span>                                      \n",
       "</pre>\n"
      ],
      "text/plain": [
       "param\u001b[1m[\u001b[0m\u001b[32m'nsteps'\u001b[0m\u001b[1m]\u001b[0m=\u001b[1;36m88\u001b[0m param\u001b[1m[\u001b[0m\u001b[32m'aexp'\u001b[0m\u001b[1m]\u001b[0m=\u001b[1;36m0.9986243146994785\u001b[0m z = \u001b[1;36m0.0013775804176523465\u001b[0m                                      \n"
      ]
     },
     "metadata": {},
     "output_type": "display_data"
    },
    {
     "data": {
      "text/html": [
       "<pre style=\"white-space:pre;overflow-x:auto;line-height:normal;font-family:Menlo,'DejaVu Sans Mono',consolas,'Courier New',monospace\">Write <span style=\"color: #800080; text-decoration-color: #800080; font-weight: bold\">P</span><span style=\"font-weight: bold\">(</span>k<span style=\"font-weight: bold\">)</span> in .<span style=\"color: #800080; text-decoration-color: #800080\">/t4//power/</span><span style=\"color: #ff00ff; text-decoration-color: #ff00ff\">pk_eft_multigrid_ncoarse7_00089.dat</span>                                                      \n",
       "</pre>\n"
      ],
      "text/plain": [
       "Write \u001b[1;35mP\u001b[0m\u001b[1m(\u001b[0mk\u001b[1m)\u001b[0m in .\u001b[35m/t4/\u001b[0m\u001b[35m/power/\u001b[0m\u001b[95mpk_eft_multigrid_ncoarse7_00089.dat\u001b[0m                                                      \n"
      ]
     },
     "metadata": {},
     "output_type": "display_data"
    },
    {
     "name": "stdout",
     "output_type": "stream",
     "text": [
      "[0.1, 0.5, 0.6919149622613, 0.6, 1.0, 0.9773421209875048]\n",
      "Mean chi: 0, dens: -1.9791e-09, stdev: 3.2778e+00\n",
      "op111: nan\n"
     ]
    },
    {
     "data": {
      "text/html": [
       "<pre style=\"white-space:pre;overflow-x:auto;line-height:normal;font-family:Menlo,'DejaVu Sans Mono',consolas,'Courier New',monospace\">Snapshot written at <span style=\"color: #808000; text-decoration-color: #808000\">...</span><span style=\"color: #808000; text-decoration-color: #808000\">filename</span>=<span style=\"color: #008000; text-decoration-color: #008000\">'./t4//output_00006/particles_eft_multigrid_ncoarse7.h5'</span> param<span style=\"font-weight: bold\">[</span><span style=\"color: #008000; text-decoration-color: #008000\">'aexp'</span><span style=\"font-weight: bold\">]</span>=<span style=\"color: #008080; text-decoration-color: #008080; font-weight: bold\">1.0</span>         \n",
       "</pre>\n"
      ],
      "text/plain": [
       "Snapshot written at \u001b[33m...\u001b[0m\u001b[33mfilename\u001b[0m=\u001b[32m'./t4//output_00006/particles_eft_multigrid_ncoarse7.h5'\u001b[0m param\u001b[1m[\u001b[0m\u001b[32m'aexp'\u001b[0m\u001b[1m]\u001b[0m=\u001b[1;36m1.0\u001b[0m         \n"
      ]
     },
     "metadata": {},
     "output_type": "display_data"
    },
    {
     "data": {
      "text/html": [
       "<pre style=\"white-space:pre;overflow-x:auto;line-height:normal;font-family:Menlo,'DejaVu Sans Mono',consolas,'Courier New',monospace\">param<span style=\"font-weight: bold\">[</span><span style=\"color: #008000; text-decoration-color: #008000\">'nsteps'</span><span style=\"font-weight: bold\">]</span>=<span style=\"color: #008080; text-decoration-color: #008080; font-weight: bold\">89</span> param<span style=\"font-weight: bold\">[</span><span style=\"color: #008000; text-decoration-color: #008000\">'aexp'</span><span style=\"font-weight: bold\">]</span>=<span style=\"color: #008080; text-decoration-color: #008080; font-weight: bold\">1.0</span> z = <span style=\"color: #008080; text-decoration-color: #008080; font-weight: bold\">0.0</span>                                                                       \n",
       "</pre>\n"
      ],
      "text/plain": [
       "param\u001b[1m[\u001b[0m\u001b[32m'nsteps'\u001b[0m\u001b[1m]\u001b[0m=\u001b[1;36m89\u001b[0m param\u001b[1m[\u001b[0m\u001b[32m'aexp'\u001b[0m\u001b[1m]\u001b[0m=\u001b[1;36m1.0\u001b[0m z = \u001b[1;36m0.0\u001b[0m                                                                       \n"
      ]
     },
     "metadata": {},
     "output_type": "display_data"
    }
   ],
   "source": [
    "main.run(param)"
   ]
  },
  {
   "cell_type": "code",
   "execution_count": 4,
   "id": "12253e6e-2e12-4e89-a94b-c0ea49c2d8f8",
   "metadata": {},
   "outputs": [],
   "source": [
    "import numpy as np\n",
    "import matplotlib.pyplot as plt"
   ]
  },
  {
   "cell_type": "code",
   "execution_count": 11,
   "id": "8f245db8-f29f-4115-974c-0ab46feafe97",
   "metadata": {},
   "outputs": [
    {
     "data": {
      "text/plain": [
       "[<matplotlib.lines.Line2D at 0x30875ba40>]"
      ]
     },
     "execution_count": 11,
     "metadata": {},
     "output_type": "execute_result"
    },
    {
     "data": {
      "image/png": "[encoded data removed]",
      "text/plain": [
       "<Figure size 640x480 with 1 Axes>"
      ]
     },
     "metadata": {},
     "output_type": "display_data"
    }
   ],
   "source": [
    "x = np.loadtxt('./t4/power/pk_eft_multigrid_ncoarse7_00089.dat')\n",
    "plt.loglog(x[:,0],x[:,1],'.')\n",
    "\n",
    "x = np.loadtxt('./t4/power/pk_newton_multigrid_ncoarse7_00047.dat')\n",
    "plt.loglog(x[:,0],x[:,1],'.')\n",
    "\n"
   ]
  },
  {
   "cell_type": "code",
   "execution_count": 9,
   "id": "2a09895b-7fa4-42d0-a9ce-3b806a1b0de4",
   "metadata": {},
   "outputs": [
    {
     "data": {
      "text/plain": [
       "[<matplotlib.lines.Line2D at 0x307fd0680>]"
      ]
     },
     "execution_count": 9,
     "metadata": {},
     "output_type": "execute_result"
    },
    {
     "data": {
      "image/png": "[encoded data removed]",
      "text/plain": [
       "<Figure size 640x480 with 1 Axes>"
      ]
     },
     "metadata": {},
     "output_type": "display_data"
    }
   ],
   "source": [
    "x = np.loadtxt('./t4/power/pk_eft_multigrid_ncoarse7_00001.dat')\n",
    "plt.loglog(x[:,0],x[:,1],'.')\n",
    "\n",
    "x = np.loadtxt('./t4/power/pk_newton_multigrid_ncoarse7_00001.dat')\n",
    "plt.loglog(x[:,0],x[:,1],'.')\n",
    "\n"
   ]
  },
  {
   "cell_type": "code",
   "execution_count": null,
   "id": "de0d99c0-463c-41fc-9c69-ff216f791b3c",
   "metadata": {},
   "outputs": [],
   "source": [
    "pwd"
   ]
  },
  {
   "cell_type": "code",
   "execution_count": null,
   "id": "50ac511f-b87a-4d85-a99b-3e65b0e3c710",
   "metadata": {},
   "outputs": [],
   "source": [
    "\n",
    "\n",
    "x = np.loadtxt('./tester3/power/pk_eft_multigrid_ncoarse8_00001.dat')\n",
    "plt.loglog(x[:,0],x[:,1],'.')\n",
    "\n",
    "\n",
    "x = np.loadtxt('./tester3/power/pk_eft_multigrid_ncoarse8_00080.dat')\n",
    "plt.loglog(x[:,0],x[:,1],'.')\n",
    "\n",
    "plt.gca().set_prop_cycle(None)\n",
    "\n",
    "x = np.loadtxt('./tester3/power/pk_newton_multigrid_ncoarse8_00001.dat')\n",
    "plt.plot(x[:,0],x[:,1])\n",
    "\n",
    "x = np.loadtxt('./tester3/power/pk_newton_multigrid_ncoarse8_00085.dat')\n",
    "plt.plot(x[:,0],x[:,1])"
   ]
  },
  {
   "cell_type": "code",
   "execution_count": null,
   "id": "21e4f1c4-a5a4-4661-bdaf-ce7db80c0e15",
   "metadata": {},
   "outputs": [],
   "source": [
    "\n",
    "\n",
    "\n",
    "x = np.loadtxt('./boxlen100_n32/power/pk_newton_multigrid_ncoarse5_00010.dat')\n",
    "plt.loglog(x[:,0],x[:,1],'.')\n",
    "\n",
    "x = np.loadtxt('./boxlen100_n32/power/pk_eft_multigrid_ncoarse5_00010.dat')\n",
    "plt.loglog(x[:,0],x[:,1],'x')"
   ]
  },
  {
   "cell_type": "code",
   "execution_count": null,
   "id": "87df80cd-5230-4cb7-8791-1e7de4f88a83",
   "metadata": {},
   "outputs": [],
   "source": [
    "plt.loglog(x["
   ]
  },
  {
   "cell_type": "code",
   "execution_count": null,
   "id": "ddb85791-d8e9-4e4c-9146-adc2d33abb79",
   "metadata": {},
   "outputs": [],
   "source": []
  }
 ],
 "metadata": {
  "kernelspec": {
   "display_name": "Python 3 (ipykernel)",
   "language": "python",
   "name": "python3"
  },
  "language_info": {
   "codemirror_mode": {
    "name": "ipython",
    "version": 3
   },
   "file_extension": ".py",
   "mimetype": "text/x-python",
   "name": "python",
   "nbconvert_exporter": "python",
   "pygments_lexer": "ipython3",
   "version": "3.12.7"
  }
 },
 "nbformat": 4,
 "nbformat_minor": 5
}
