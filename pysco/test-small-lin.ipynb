{
 "cells": [
  {
   "cell_type": "code",
   "execution_count": 1,
   "id": "b849885c-861b-4f15-a951-6cf85cb9fcee",
   "metadata": {},
   "outputs": [],
   "source": [
    "import main\n",
    "import pandas as pd"
   ]
  },
  {
   "cell_type": "code",
   "execution_count": 5,
   "id": "edcbfe75-123d-43a7-bfbc-171e76ae7f94",
   "metadata": {},
   "outputs": [
    {
     "data": {
      "text/html": [
       "<pre style=\"white-space:pre;overflow-x:auto;line-height:normal;font-family:Menlo,'DejaVu Sans Mono',consolas,'Courier New',monospace\">param<span style=\"font-weight: bold\">[</span><span style=\"color: #008000; text-decoration-color: #008000\">'nthreads'</span><span style=\"font-weight: bold\">]</span>=<span style=\"color: #008080; text-decoration-color: #008080; font-weight: bold\">1</span>                                                                                                \n",
       "</pre>\n"
      ],
      "text/plain": [
       "param\u001b[1m[\u001b[0m\u001b[32m'nthreads'\u001b[0m\u001b[1m]\u001b[0m=\u001b[1;36m1\u001b[0m                                                                                                \n"
      ]
     },
     "metadata": {},
     "output_type": "display_data"
    },
    {
     "data": {
      "text/html": [
       "<pre style=\"white-space:pre;overflow-x:auto;line-height:normal;font-family:Menlo,'DejaVu Sans Mono',consolas,'Courier New',monospace\">                                                                                                                   \n",
       "<span style=\"color: #008000; text-decoration-color: #008000; font-weight: bold\">FFT module: NumPy</span>                                                                                                  \n",
       "</pre>\n"
      ],
      "text/plain": [
       "                                                                                                                   \n",
       "\u001b[1;32mFFT module: NumPy\u001b[0m                                                                                                  \n"
      ]
     },
     "metadata": {},
     "output_type": "display_data"
    },
    {
     "data": {
      "text/html": [
       "<pre style=\"white-space:pre;overflow-x:auto;line-height:normal;font-family:Menlo,'DejaVu Sans Mono',consolas,'Courier New',monospace\">                                                                                                                   \n",
       "<span style=\"color: #000080; text-decoration-color: #000080; font-weight: bold\">----- Compute background cosmology -----</span>                                                                           \n",
       "                                                                                                                   \n",
       "</pre>\n"
      ],
      "text/plain": [
       "                                                                                                                   \n",
       "\u001b[1;34m----- Compute background cosmology -----\u001b[0m                                                                           \n",
       "                                                                                                                   \n"
      ]
     },
     "metadata": {},
     "output_type": "display_data"
    },
    {
     "name": "stdout",
     "output_type": "stream",
     "text": [
      "(100000,) (100000,) (100000,) (100000,) (100000,)\n"
     ]
    },
    {
     "data": {
      "text/html": [
       "<pre style=\"white-space:pre;overflow-x:auto;line-height:normal;font-family:Menlo,'DejaVu Sans Mono',consolas,'Courier New',monospace\">Write table in: .<span style=\"color: #800080; text-decoration-color: #800080\">/ptest-c//</span><span style=\"color: #ff00ff; text-decoration-color: #ff00ff\">evolution_table_pysco_eft_multigrid_ncoarse5.txt</span>                                        \n",
       "</pre>\n"
      ],
      "text/plain": [
       "Write table in: .\u001b[35m/ptest-c/\u001b[0m\u001b[35m/\u001b[0m\u001b[95mevolution_table_pysco_eft_multigrid_ncoarse5.txt\u001b[0m                                        \n"
      ]
     },
     "metadata": {},
     "output_type": "display_data"
    },
    {
     "data": {
      "text/html": [
       "<pre style=\"white-space:pre;overflow-x:auto;line-height:normal;font-family:Menlo,'DejaVu Sans Mono',consolas,'Courier New',monospace\">                                                                                                                   \n",
       "<span style=\"color: #000080; text-decoration-color: #000080; font-weight: bold\">----- Initial conditions -----</span>                                                                                     \n",
       "                                                                                                                   \n",
       "</pre>\n"
      ],
      "text/plain": [
       "                                                                                                                   \n",
       "\u001b[1;34m----- Initial conditions -----\u001b[0m                                                                                     \n",
       "                                                                                                                   \n"
      ]
     },
     "metadata": {},
     "output_type": "display_data"
    },
    {
     "data": {
      "text/html": [
       "<pre style=\"white-space:pre;overflow-x:auto;line-height:normal;font-family:Menlo,'DejaVu Sans Mono',consolas,'Courier New',monospace\">param<span style=\"font-weight: bold\">[</span><span style=\"color: #008000; text-decoration-color: #008000\">'z_start'</span><span style=\"font-weight: bold\">]</span>=<span style=\"color: #008080; text-decoration-color: #008080; font-weight: bold\">50</span>                                                                                                \n",
       "</pre>\n"
      ],
      "text/plain": [
       "param\u001b[1m[\u001b[0m\u001b[32m'z_start'\u001b[0m\u001b[1m]\u001b[0m=\u001b[1;36m50\u001b[0m                                                                                                \n"
      ]
     },
     "metadata": {},
     "output_type": "display_data"
    },
    {
     "data": {
      "text/html": [
       "<pre style=\"white-space:pre;overflow-x:auto;line-height:normal;font-family:Menlo,'DejaVu Sans Mono',consolas,'Courier New',monospace\">Compute 1LPT contribution                                                                                          \n",
       "</pre>\n"
      ],
      "text/plain": [
       "Compute 1LPT contribution                                                                                          \n"
      ]
     },
     "metadata": {},
     "output_type": "display_data"
    },
    {
     "data": {
      "text/html": [
       "<pre style=\"white-space:pre;overflow-x:auto;line-height:normal;font-family:Menlo,'DejaVu Sans Mono',consolas,'Courier New',monospace\">Compute 2LPT contribution                                                                                          \n",
       "</pre>\n"
      ],
      "text/plain": [
       "Compute 2LPT contribution                                                                                          \n"
      ]
     },
     "metadata": {},
     "output_type": "display_data"
    },
    {
     "data": {
      "text/html": [
       "<pre style=\"white-space:pre;overflow-x:auto;line-height:normal;font-family:Menlo,'DejaVu Sans Mono',consolas,'Courier New',monospace\">Write initial snapshot<span style=\"color: #808000; text-decoration-color: #808000\">...</span><span style=\"color: #808000; text-decoration-color: #808000\">snap_name</span>=<span style=\"color: #008000; text-decoration-color: #008000\">'./ptest-c//output_00000/particles_eft_multigrid_ncoarse5.h5'</span>                   \n",
       "</pre>\n"
      ],
      "text/plain": [
       "Write initial snapshot\u001b[33m...\u001b[0m\u001b[33msnap_name\u001b[0m=\u001b[32m'./ptest-c//output_00000/particles_eft_multigrid_ncoarse5.h5'\u001b[0m                   \n"
      ]
     },
     "metadata": {},
     "output_type": "display_data"
    },
    {
     "name": "stdout",
     "output_type": "stream",
     "text": [
      "ICs [0.01622729 0.01600765 0.01564327] [8.4353640e-05 5.3745880e-05 2.6592322e-06]\n"
     ]
    },
    {
     "data": {
      "text/html": [
       "<pre style=\"white-space:pre;overflow-x:auto;line-height:normal;font-family:Menlo,'DejaVu Sans Mono',consolas,'Courier New',monospace\">param<span style=\"font-weight: bold\">[</span><span style=\"color: #008000; text-decoration-color: #008000\">'aexp'</span><span style=\"font-weight: bold\">]</span>=<span style=\"color: #008080; text-decoration-color: #008080; font-weight: bold\">0.0196078431372549</span> param<span style=\"font-weight: bold\">[</span><span style=\"color: #008000; text-decoration-color: #008000\">'t'</span><span style=\"font-weight: bold\">]</span>=<span style=\"color: #800080; text-decoration-color: #800080; font-weight: bold\">array</span><span style=\"font-weight: bold\">(</span><span style=\"color: #008080; text-decoration-color: #008080; font-weight: bold\">-12.28285684</span><span style=\"font-weight: bold\">)</span>                                                    \n",
       "</pre>\n"
      ],
      "text/plain": [
       "param\u001b[1m[\u001b[0m\u001b[32m'aexp'\u001b[0m\u001b[1m]\u001b[0m=\u001b[1;36m0.0196078431372549\u001b[0m param\u001b[1m[\u001b[0m\u001b[32m't'\u001b[0m\u001b[1m]\u001b[0m=\u001b[1;35marray\u001b[0m\u001b[1m(\u001b[0m\u001b[1;36m-12.28285684\u001b[0m\u001b[1m)\u001b[0m                                                    \n"
      ]
     },
     "metadata": {},
     "output_type": "display_data"
    },
    {
     "data": {
      "text/html": [
       "<pre style=\"white-space:pre;overflow-x:auto;line-height:normal;font-family:Menlo,'DejaVu Sans Mono',consolas,'Courier New',monospace\">                                                                                                                   \n",
       "<span style=\"color: #000080; text-decoration-color: #000080; font-weight: bold\">----- Run N-body -----</span>                                                                                             \n",
       "                                                                                                                   \n",
       "</pre>\n"
      ],
      "text/plain": [
       "                                                                                                                   \n",
       "\u001b[1;34m----- Run N-body -----\u001b[0m                                                                                             \n",
       "                                                                                                                   \n"
      ]
     },
     "metadata": {},
     "output_type": "display_data"
    },
    {
     "name": "stdout",
     "output_type": "stream",
     "text": [
      "1.2499998807907104\n",
      "1.2499999\n",
      "Step: 1 [0.01628852 0.01604535 0.01564474] [1.01523234e-04 6.02968248e-05 1.65142603e-06] [[ 0.00172869  0.00226624  0.00333798 ... -0.00075166 -0.00081484\n",
      "   0.00078402]\n",
      " [ 0.00177133  0.00172002  0.00311165 ... -0.00035573 -0.00022994\n",
      "   0.00100029]\n",
      " [-0.0003764   0.00101604  0.00375418 ...  0.00049601  0.00120143\n",
      "   0.00084049]\n",
      " ...\n",
      " [ 0.00086105 -0.00104933 -0.00102958 ... -0.00143198 -0.00162236\n",
      "  -0.00104535]\n",
      " [-0.00025129 -0.00103488 -0.00054956 ... -0.00157469 -0.00142412\n",
      "  -0.00209881]\n",
      " [-0.0002351   0.00092202  0.00247894 ... -0.00232243 -0.00128368\n",
      "  -0.00116908]]\n"
     ]
    },
    {
     "data": {
      "text/html": [
       "<pre style=\"white-space:pre;overflow-x:auto;line-height:normal;font-family:Menlo,'DejaVu Sans Mono',consolas,'Courier New',monospace\">param<span style=\"font-weight: bold\">[</span><span style=\"color: #008000; text-decoration-color: #008000\">'nsteps'</span><span style=\"font-weight: bold\">]</span>=<span style=\"color: #008080; text-decoration-color: #008080; font-weight: bold\">1</span> param<span style=\"font-weight: bold\">[</span><span style=\"color: #008000; text-decoration-color: #008000\">'aexp'</span><span style=\"font-weight: bold\">]</span>=<span style=\"color: #008080; text-decoration-color: #008080; font-weight: bold\">0.021568627395171482</span> z = <span style=\"color: #008080; text-decoration-color: #008080; font-weight: bold\">45.363636483602455</span>                                        \n",
       "</pre>\n"
      ],
      "text/plain": [
       "param\u001b[1m[\u001b[0m\u001b[32m'nsteps'\u001b[0m\u001b[1m]\u001b[0m=\u001b[1;36m1\u001b[0m param\u001b[1m[\u001b[0m\u001b[32m'aexp'\u001b[0m\u001b[1m]\u001b[0m=\u001b[1;36m0.021568627395171482\u001b[0m z = \u001b[1;36m45.363636483602455\u001b[0m                                        \n"
      ]
     },
     "metadata": {},
     "output_type": "display_data"
    },
    {
     "name": "stdout",
     "output_type": "stream",
     "text": [
      "1.2499999\n",
      "Step: 2 [0.01635854 0.01608573 0.01564545] [1.21404155e-04 6.78670112e-05 4.60497461e-07] [[ 0.00208679  0.00275014  0.00404655 ... -0.00091669 -0.00098377\n",
      "   0.00093902]\n",
      " [ 0.00214507  0.0020982   0.00376751 ... -0.00044387 -0.00027579\n",
      "   0.00120802]\n",
      " [-0.00042262  0.00125762  0.00454033 ...  0.0005872   0.00144074\n",
      "   0.00101692]\n",
      " ...\n",
      " [ 0.00101351 -0.00128759 -0.00124029 ... -0.001718   -0.00196223\n",
      "  -0.00126668]\n",
      " [-0.0003031  -0.00124681 -0.00064992 ... -0.00189562 -0.0017315\n",
      "  -0.00250908]\n",
      " [-0.00027051  0.00111824  0.002993   ... -0.00278173 -0.00155368\n",
      "  -0.00139893]]\n"
     ]
    },
    {
     "data": {
      "text/html": [
       "<pre style=\"white-space:pre;overflow-x:auto;line-height:normal;font-family:Menlo,'DejaVu Sans Mono',consolas,'Courier New',monospace\">param<span style=\"font-weight: bold\">[</span><span style=\"color: #008000; text-decoration-color: #008000\">'nsteps'</span><span style=\"font-weight: bold\">]</span>=<span style=\"color: #008080; text-decoration-color: #008080; font-weight: bold\">2</span> param<span style=\"font-weight: bold\">[</span><span style=\"color: #008000; text-decoration-color: #008000\">'aexp'</span><span style=\"font-weight: bold\">]</span>=<span style=\"color: #008080; text-decoration-color: #008080; font-weight: bold\">0.023725490197135993</span> z = <span style=\"color: #008080; text-decoration-color: #008080; font-weight: bold\">41.14876032869974</span>                                         \n",
       "</pre>\n"
      ],
      "text/plain": [
       "param\u001b[1m[\u001b[0m\u001b[32m'nsteps'\u001b[0m\u001b[1m]\u001b[0m=\u001b[1;36m2\u001b[0m param\u001b[1m[\u001b[0m\u001b[32m'aexp'\u001b[0m\u001b[1m]\u001b[0m=\u001b[1;36m0.023725490197135993\u001b[0m z = \u001b[1;36m41.14876032869974\u001b[0m                                         \n"
      ]
     },
     "metadata": {},
     "output_type": "display_data"
    },
    {
     "name": "stdout",
     "output_type": "stream",
     "text": [
      "1.25\n",
      "Step: 3 [0.01643819 0.01612913 0.01564535] [ 1.4450317e-04  7.6617653e-05 -9.7461259e-07] [[ 0.00251525  0.00334067  0.00490129 ... -0.00111872 -0.00118585\n",
      "   0.00111712]\n",
      " [ 0.00259403  0.00256798  0.00455709 ... -0.00055573 -0.00032816\n",
      "   0.00145705]\n",
      " [-0.00045436  0.00156593  0.00548013 ...  0.00069052  0.00172228\n",
      "   0.00122867]\n",
      " ...\n",
      " [ 0.00117812 -0.00158042 -0.00149096 ... -0.00204997 -0.00237049\n",
      "  -0.00153239]\n",
      " [-0.00036664 -0.00149356 -0.00076181 ... -0.00227763 -0.0021058\n",
      "  -0.00298519]\n",
      " [-0.00030419  0.00135844  0.00360715 ... -0.00331777 -0.00187891\n",
      "  -0.00166496]]\n"
     ]
    },
    {
     "data": {
      "text/html": [
       "<pre style=\"white-space:pre;overflow-x:auto;line-height:normal;font-family:Menlo,'DejaVu Sans Mono',consolas,'Courier New',monospace\">param<span style=\"font-weight: bold\">[</span><span style=\"color: #008000; text-decoration-color: #008000\">'nsteps'</span><span style=\"font-weight: bold\">]</span>=<span style=\"color: #008080; text-decoration-color: #008080; font-weight: bold\">3</span> param<span style=\"font-weight: bold\">[</span><span style=\"color: #008000; text-decoration-color: #008000\">'aexp'</span><span style=\"font-weight: bold\">]</span>=<span style=\"color: #008080; text-decoration-color: #008080; font-weight: bold\">0.02609803910326114</span> z = <span style=\"color: #008080; text-decoration-color: #008080; font-weight: bold\">37.317055011042676</span>                                         \n",
       "</pre>\n"
      ],
      "text/plain": [
       "param\u001b[1m[\u001b[0m\u001b[32m'nsteps'\u001b[0m\u001b[1m]\u001b[0m=\u001b[1;36m3\u001b[0m param\u001b[1m[\u001b[0m\u001b[32m'aexp'\u001b[0m\u001b[1m]\u001b[0m=\u001b[1;36m0.02609803910326114\u001b[0m z = \u001b[1;36m37.317055011042676\u001b[0m                                         \n"
      ]
     },
     "metadata": {},
     "output_type": "display_data"
    },
    {
     "name": "stdout",
     "output_type": "stream",
     "text": [
      "1.25\n",
      "Step: 4 [0.01652842 0.01617591 0.01564435] [ 1.7141589e-04  8.6736305e-05 -2.7318861e-06] [[ 0.00302617  0.00405747  0.00593358 ... -0.00136942 -0.00142825\n",
      "   0.00132611]\n",
      " [ 0.00313678  0.00314858  0.00551353 ... -0.000697   -0.0003878\n",
      "   0.00175414]\n",
      " [-0.00047028  0.00196145  0.00660174 ...  0.00081205  0.00205344\n",
      "   0.00148857]\n",
      " ...\n",
      " [ 0.00134849 -0.0019372  -0.00179514 ... -0.00243679 -0.00286102\n",
      "  -0.00185459]\n",
      " [-0.00044657 -0.00178641 -0.00088594 ... -0.00272537 -0.00256049\n",
      "  -0.00353614]\n",
      " [-0.00033369  0.00165406  0.00433861 ... -0.0039443  -0.0022717\n",
      "  -0.001976  ]]\n"
     ]
    },
    {
     "data": {
      "text/html": [
       "<pre style=\"white-space:pre;overflow-x:auto;line-height:normal;font-family:Menlo,'DejaVu Sans Mono',consolas,'Courier New',monospace\">param<span style=\"font-weight: bold\">[</span><span style=\"color: #008000; text-decoration-color: #008000\">'nsteps'</span><span style=\"font-weight: bold\">]</span>=<span style=\"color: #008080; text-decoration-color: #008080; font-weight: bold\">4</span> param<span style=\"font-weight: bold\">[</span><span style=\"color: #008000; text-decoration-color: #008000\">'aexp'</span><span style=\"font-weight: bold\">]</span>=<span style=\"color: #008080; text-decoration-color: #008080; font-weight: bold\">0.02870784311611884</span> z = <span style=\"color: #008080; text-decoration-color: #008080; font-weight: bold\">33.8336862492648</span>                                           \n",
       "</pre>\n"
      ],
      "text/plain": [
       "param\u001b[1m[\u001b[0m\u001b[32m'nsteps'\u001b[0m\u001b[1m]\u001b[0m=\u001b[1;36m4\u001b[0m param\u001b[1m[\u001b[0m\u001b[32m'aexp'\u001b[0m\u001b[1m]\u001b[0m=\u001b[1;36m0.02870784311611884\u001b[0m z = \u001b[1;36m33.8336862492648\u001b[0m                                           \n"
      ]
     },
     "metadata": {},
     "output_type": "display_data"
    },
    {
     "name": "stdout",
     "output_type": "stream",
     "text": [
      "1.25\n",
      "Step: 5 [0.01663034 0.01622646 0.01564233] [ 2.0283836e-04  9.8441553e-05 -4.9041996e-06] [[ 0.00363903  0.00493285  0.00718016 ... -0.00167657 -0.00171837\n",
      "   0.00156717]\n",
      " [ 0.00379088  0.00386887  0.0066668  ... -0.00087601 -0.00045587\n",
      "   0.00211123]\n",
      " [-0.00045598  0.002464    0.007946   ...  0.00094849  0.00244346\n",
      "   0.00180191]\n",
      " ...\n",
      " [ 0.0015272  -0.00237571 -0.00215734 ... -0.00288729 -0.00345098\n",
      "  -0.00224258]\n",
      " [-0.00054435 -0.00212802 -0.0010233  ... -0.00325872 -0.00311385\n",
      "  -0.00417637]\n",
      " [-0.00035657  0.00201613  0.00521333 ... -0.00467662 -0.00274495\n",
      "  -0.00233626]]\n"
     ]
    },
    {
     "data": {
      "text/html": [
       "<pre style=\"white-space:pre;overflow-x:auto;line-height:normal;font-family:Menlo,'DejaVu Sans Mono',consolas,'Courier New',monospace\">param<span style=\"font-weight: bold\">[</span><span style=\"color: #008000; text-decoration-color: #008000\">'nsteps'</span><span style=\"font-weight: bold\">]</span>=<span style=\"color: #008080; text-decoration-color: #008080; font-weight: bold\">5</span> param<span style=\"font-weight: bold\">[</span><span style=\"color: #008000; text-decoration-color: #008000\">'aexp'</span><span style=\"font-weight: bold\">]</span>=<span style=\"color: #008080; text-decoration-color: #008080; font-weight: bold\">0.0315786275623169</span> z = <span style=\"color: #008080; text-decoration-color: #008080; font-weight: bold\">30.666987364368875</span>                                          \n",
       "</pre>\n"
      ],
      "text/plain": [
       "param\u001b[1m[\u001b[0m\u001b[32m'nsteps'\u001b[0m\u001b[1m]\u001b[0m=\u001b[1;36m5\u001b[0m param\u001b[1m[\u001b[0m\u001b[32m'aexp'\u001b[0m\u001b[1m]\u001b[0m=\u001b[1;36m0.0315786275623169\u001b[0m z = \u001b[1;36m30.666987364368875\u001b[0m                                          \n"
      ]
     },
     "metadata": {},
     "output_type": "display_data"
    },
    {
     "name": "stdout",
     "output_type": "stream",
     "text": [
      "1.25\n",
      "Step: 6 [0.01674522 0.01628122 0.01563914] [ 2.39582354e-04  1.11988316e-04 -7.59904424e-06] [[ 0.00437419  0.00600064  0.00868673 ... -0.00205409 -0.00206589\n",
      "   0.00184735]\n",
      " [ 0.0045815   0.00476119  0.00806054 ... -0.00110256 -0.00053342\n",
      "   0.00254063]\n",
      " [-0.00040136  0.00310275  0.00955795 ...  0.00110234  0.002903\n",
      "   0.00218283]\n",
      " ...\n",
      " [ 0.00170873 -0.00291324 -0.0025909  ... -0.00341349 -0.00416079\n",
      "  -0.0027115 ]\n",
      " [-0.00066467 -0.00252884 -0.00117459 ... -0.00389175 -0.00378669\n",
      "  -0.00492003]\n",
      " [-0.00036875  0.00246046  0.00625876 ... -0.00553336 -0.00331542\n",
      "  -0.0027549 ]]\n"
     ]
    },
    {
     "data": {
      "text/html": [
       "<pre style=\"white-space:pre;overflow-x:auto;line-height:normal;font-family:Menlo,'DejaVu Sans Mono',consolas,'Courier New',monospace\">param<span style=\"font-weight: bold\">[</span><span style=\"color: #008000; text-decoration-color: #008000\">'nsteps'</span><span style=\"font-weight: bold\">]</span>=<span style=\"color: #008080; text-decoration-color: #008080; font-weight: bold\">6</span> param<span style=\"font-weight: bold\">[</span><span style=\"color: #008000; text-decoration-color: #008000\">'aexp'</span><span style=\"font-weight: bold\">]</span>=<span style=\"color: #008080; text-decoration-color: #008080; font-weight: bold\">0.0347364904864863</span> z = <span style=\"color: #008080; text-decoration-color: #008080; font-weight: bold\">27.788170192064587</span>                                          \n",
       "</pre>\n"
      ],
      "text/plain": [
       "param\u001b[1m[\u001b[0m\u001b[32m'nsteps'\u001b[0m\u001b[1m]\u001b[0m=\u001b[1;36m6\u001b[0m param\u001b[1m[\u001b[0m\u001b[32m'aexp'\u001b[0m\u001b[1m]\u001b[0m=\u001b[1;36m0.0347364904864863\u001b[0m z = \u001b[1;36m27.788170192064587\u001b[0m                                          \n"
      ]
     },
     "metadata": {},
     "output_type": "display_data"
    },
    {
     "name": "stdout",
     "output_type": "stream",
     "text": [
      "1.25\n",
      "Step: 7 [0.0168745  0.01634069 0.01563462] [ 2.8260055e-04  1.2767418e-04 -1.0948588e-05] [[ 0.00525777  0.00730394  0.01050823 ... -0.00251835 -0.00248243\n",
      "   0.00217382]\n",
      " [ 0.00553876  0.00586631  0.00974606 ... -0.00138908 -0.0006218\n",
      "   0.0030578 ]\n",
      " [-0.00029046  0.00391329  0.01149407 ...  0.0012743   0.00344458\n",
      "   0.0026467 ]\n",
      " ...\n",
      " [ 0.00188773 -0.00357242 -0.00310999 ... -0.00402939 -0.00501522\n",
      "  -0.00327903]\n",
      " [-0.00081233 -0.00299903 -0.00134052 ... -0.0046438  -0.00460451\n",
      "  -0.00578434]\n",
      " [-0.0003649   0.00300593  0.00750875 ... -0.00653654 -0.00400306\n",
      "  -0.00324096]]\n"
     ]
    },
    {
     "data": {
      "text/html": [
       "<pre style=\"white-space:pre;overflow-x:auto;line-height:normal;font-family:Menlo,'DejaVu Sans Mono',consolas,'Courier New',monospace\">param<span style=\"font-weight: bold\">[</span><span style=\"color: #008000; text-decoration-color: #008000\">'nsteps'</span><span style=\"font-weight: bold\">]</span>=<span style=\"color: #008080; text-decoration-color: #008080; font-weight: bold\">7</span> param<span style=\"font-weight: bold\">[</span><span style=\"color: #008000; text-decoration-color: #008000\">'aexp'</span><span style=\"font-weight: bold\">]</span>=<span style=\"color: #008080; text-decoration-color: #008080; font-weight: bold\">0.03821013960913581</span> z = <span style=\"color: #008080; text-decoration-color: #008080; font-weight: bold\">25.171063760282784</span>                                         \n",
       "</pre>\n"
      ],
      "text/plain": [
       "param\u001b[1m[\u001b[0m\u001b[32m'nsteps'\u001b[0m\u001b[1m]\u001b[0m=\u001b[1;36m7\u001b[0m param\u001b[1m[\u001b[0m\u001b[32m'aexp'\u001b[0m\u001b[1m]\u001b[0m=\u001b[1;36m0.03821013960913581\u001b[0m z = \u001b[1;36m25.171063760282784\u001b[0m                                         \n"
      ]
     },
     "metadata": {},
     "output_type": "display_data"
    },
    {
     "name": "stdout",
     "output_type": "stream",
     "text": [
      "1.25\n",
      "Step: 8 [0.01701983 0.01640538 0.01562855] [ 3.3300952e-04  1.4584725e-04 -1.5112206e-05] [[ 0.00632139  0.00889588  0.01271185 ... -0.00308913 -0.00298154\n",
      "   0.00255519]\n",
      " [ 0.00669996  0.00723511  0.01178597 ... -0.00175142 -0.00072222\n",
      "   0.00368198]\n",
      " [-0.00010239  0.00494076  0.01382327 ...  0.00146422  0.00408327\n",
      "   0.00321274]\n",
      " ...\n",
      " [ 0.0020562  -0.0043809  -0.00373111 ... -0.00475214 -0.00604462\n",
      "  -0.00396718]\n",
      " [-0.00099327 -0.00355079 -0.00152144 ... -0.0055381  -0.0055983\n",
      "  -0.00679006]\n",
      " [-0.00033795  0.00367599  0.009004   ... -0.00771217 -0.00483171\n",
      "  -0.00380551]]\n"
     ]
    },
    {
     "data": {
      "text/html": [
       "<pre style=\"white-space:pre;overflow-x:auto;line-height:normal;font-family:Menlo,'DejaVu Sans Mono',consolas,'Courier New',monospace\">param<span style=\"font-weight: bold\">[</span><span style=\"color: #008000; text-decoration-color: #008000\">'nsteps'</span><span style=\"font-weight: bold\">]</span>=<span style=\"color: #008080; text-decoration-color: #008080; font-weight: bold\">8</span> param<span style=\"font-weight: bold\">[</span><span style=\"color: #008000; text-decoration-color: #008000\">'aexp'</span><span style=\"font-weight: bold\">]</span>=<span style=\"color: #008080; text-decoration-color: #008080; font-weight: bold\">0.042031153548907685</span> z = <span style=\"color: #008080; text-decoration-color: #008080; font-weight: bold\">22.791876157678956</span>                                        \n",
       "</pre>\n"
      ],
      "text/plain": [
       "param\u001b[1m[\u001b[0m\u001b[32m'nsteps'\u001b[0m\u001b[1m]\u001b[0m=\u001b[1;36m8\u001b[0m param\u001b[1m[\u001b[0m\u001b[32m'aexp'\u001b[0m\u001b[1m]\u001b[0m=\u001b[1;36m0.042031153548907685\u001b[0m z = \u001b[1;36m22.791876157678956\u001b[0m                                        \n"
      ]
     },
     "metadata": {},
     "output_type": "display_data"
    },
    {
     "name": "stdout",
     "output_type": "stream",
     "text": [
      "1.25\n",
      "Step: 9 [0.01718304 0.01647591 0.01562067] [ 3.9211876e-04  1.6691517e-04 -2.0281906e-05] [[ 0.00760416  0.01084226  0.01537881 ... -0.00379092 -0.00357966\n",
      "   0.00300183]\n",
      " [ 0.00811128  0.00893106  0.01425655 ... -0.00220972 -0.00083651\n",
      "   0.00443692]\n",
      " [ 0.00019024  0.00624213  0.01663005 ...  0.00167031  0.00483678\n",
      "   0.00390481]\n",
      " ...\n",
      " [ 0.00220328 -0.00537263 -0.00447436 ... -0.00560296 -0.00728551\n",
      "  -0.0048025 ]\n",
      " [-0.00121459 -0.00419826 -0.00171734 ... -0.00660288 -0.00680575\n",
      "  -0.00796123]\n",
      " [-0.00027825  0.00449944  0.01079334 ... -0.00909121 -0.00583034\n",
      "  -0.00446083]]\n"
     ]
    },
    {
     "data": {
      "text/html": [
       "<pre style=\"white-space:pre;overflow-x:auto;line-height:normal;font-family:Menlo,'DejaVu Sans Mono',consolas,'Courier New',monospace\">param<span style=\"font-weight: bold\">[</span><span style=\"color: #008000; text-decoration-color: #008000\">'nsteps'</span><span style=\"font-weight: bold\">]</span>=<span style=\"color: #008080; text-decoration-color: #008080; font-weight: bold\">9</span> param<span style=\"font-weight: bold\">[</span><span style=\"color: #008000; text-decoration-color: #008000\">'aexp'</span><span style=\"font-weight: bold\">]</span>=<span style=\"color: #008080; text-decoration-color: #008080; font-weight: bold\">0.046234268889304174</span> z = <span style=\"color: #008080; text-decoration-color: #008080; font-weight: bold\">20.628978331943294</span>                                        \n",
       "</pre>\n"
      ],
      "text/plain": [
       "param\u001b[1m[\u001b[0m\u001b[32m'nsteps'\u001b[0m\u001b[1m]\u001b[0m=\u001b[1;36m9\u001b[0m param\u001b[1m[\u001b[0m\u001b[32m'aexp'\u001b[0m\u001b[1m]\u001b[0m=\u001b[1;36m0.046234268889304174\u001b[0m z = \u001b[1;36m20.628978331943294\u001b[0m                                        \n"
      ]
     },
     "metadata": {},
     "output_type": "display_data"
    },
    {
     "name": "stdout",
     "output_type": "stream",
     "text": [
      "1.25\n",
      "Step: 10 [0.0172378  0.01649913 0.01561779] [ 4.1233795e-04  1.7407229e-04 -2.2109944e-05] [[ 0.00805549  0.01153277  0.01631511 ... -0.00403854 -0.00378801\n",
      "   0.0031527 ]\n",
      " [ 0.00860658  0.00953773  0.01512069 ... -0.00237553 -0.00087538\n",
      "   0.00470368]\n",
      " [ 0.00031196  0.00671055  0.01761603 ...  0.00173368  0.00509731\n",
      "   0.00414609]\n",
      " ...\n",
      " [ 0.00224499 -0.00572582 -0.00472957 ... -0.00589591 -0.00771994\n",
      "  -0.00509501]\n",
      " [-0.00129178 -0.00441729 -0.00178114 ... -0.00697686 -0.00723112\n",
      "  -0.00836343]\n",
      " [-0.00025097  0.00479101  0.01141813 ... -0.00956539 -0.006179\n",
      "  -0.00468265]]\n"
     ]
    },
    {
     "data": {
      "text/html": [
       "<pre style=\"white-space:pre;overflow-x:auto;line-height:normal;font-family:Menlo,'DejaVu Sans Mono',consolas,'Courier New',monospace\">Snapshot written at <span style=\"color: #808000; text-decoration-color: #808000\">...</span><span style=\"color: #808000; text-decoration-color: #808000\">filename</span>=<span style=\"color: #008000; text-decoration-color: #008000\">'./ptest-c//output_00001/particles_eft_multigrid_ncoarse5.h5'</span>                      \n",
       "param<span style=\"font-weight: bold\">[</span><span style=\"color: #008000; text-decoration-color: #008000\">'aexp'</span><span style=\"font-weight: bold\">]</span>=<span style=\"color: #008080; text-decoration-color: #008080; font-weight: bold\">0.047619047619047616</span>                                                                                 \n",
       "</pre>\n"
      ],
      "text/plain": [
       "Snapshot written at \u001b[33m...\u001b[0m\u001b[33mfilename\u001b[0m=\u001b[32m'./ptest-c//output_00001/particles_eft_multigrid_ncoarse5.h5'\u001b[0m                      \n",
       "param\u001b[1m[\u001b[0m\u001b[32m'aexp'\u001b[0m\u001b[1m]\u001b[0m=\u001b[1;36m0.047619047619047616\u001b[0m                                                                                 \n"
      ]
     },
     "metadata": {},
     "output_type": "display_data"
    },
    {
     "data": {
      "text/html": [
       "<pre style=\"white-space:pre;overflow-x:auto;line-height:normal;font-family:Menlo,'DejaVu Sans Mono',consolas,'Courier New',monospace\">param<span style=\"font-weight: bold\">[</span><span style=\"color: #008000; text-decoration-color: #008000\">'nsteps'</span><span style=\"font-weight: bold\">]</span>=<span style=\"color: #008080; text-decoration-color: #008080; font-weight: bold\">10</span> param<span style=\"font-weight: bold\">[</span><span style=\"color: #008000; text-decoration-color: #008000\">'aexp'</span><span style=\"font-weight: bold\">]</span>=<span style=\"color: #008080; text-decoration-color: #008080; font-weight: bold\">0.047619047619047616</span> z = <span style=\"color: #008080; text-decoration-color: #008080; font-weight: bold\">20.0</span>                                                     \n",
       "</pre>\n"
      ],
      "text/plain": [
       "param\u001b[1m[\u001b[0m\u001b[32m'nsteps'\u001b[0m\u001b[1m]\u001b[0m=\u001b[1;36m10\u001b[0m param\u001b[1m[\u001b[0m\u001b[32m'aexp'\u001b[0m\u001b[1m]\u001b[0m=\u001b[1;36m0.047619047619047616\u001b[0m z = \u001b[1;36m20.0\u001b[0m                                                     \n"
      ]
     },
     "metadata": {},
     "output_type": "display_data"
    },
    {
     "name": "stdout",
     "output_type": "stream",
     "text": [
      "1.25\n",
      "Step: 11 [0.01733262 0.0165389  0.01561256] [ 4.4807376e-04  1.8666268e-04 -2.5415933e-05] [[ 0.00885781  0.01276664  0.01799013 ... -0.00448774 -0.00416001\n",
      "   0.00342712]\n",
      " [ 0.00950046  0.01062781  0.01667758 ... -0.00267674 -0.00094204\n",
      "   0.00517675]\n",
      " [ 0.00053596  0.00756986  0.01937018 ...  0.00184952  0.00555753\n",
      "   0.00459018]\n",
      " ...\n",
      " [ 0.00229666 -0.00635545 -0.00519411 ... -0.00641643 -0.00849597\n",
      "  -0.00562353]\n",
      " [-0.00143304 -0.00481393 -0.00188929 ... -0.00763013 -0.00799116\n",
      "  -0.00906812]\n",
      " [-0.00019535  0.00531756  0.01252644 ... -0.01040357 -0.00680315\n",
      "  -0.00507759]]\n"
     ]
    },
    {
     "data": {
      "text/html": [
       "<pre style=\"white-space:pre;overflow-x:auto;line-height:normal;font-family:Menlo,'DejaVu Sans Mono',consolas,'Courier New',monospace\">Snapshot written at <span style=\"color: #808000; text-decoration-color: #808000\">...</span><span style=\"color: #808000; text-decoration-color: #808000\">filename</span>=<span style=\"color: #008000; text-decoration-color: #008000\">'./ptest-c//output_00002/particles_eft_multigrid_ncoarse5.h5'</span>                      \n",
       "param<span style=\"font-weight: bold\">[</span><span style=\"color: #008000; text-decoration-color: #008000\">'aexp'</span><span style=\"font-weight: bold\">]</span>=<span style=\"color: #008080; text-decoration-color: #008080; font-weight: bold\">0.05000000000000001</span>                                                                                  \n",
       "</pre>\n"
      ],
      "text/plain": [
       "Snapshot written at \u001b[33m...\u001b[0m\u001b[33mfilename\u001b[0m=\u001b[32m'./ptest-c//output_00002/particles_eft_multigrid_ncoarse5.h5'\u001b[0m                      \n",
       "param\u001b[1m[\u001b[0m\u001b[32m'aexp'\u001b[0m\u001b[1m]\u001b[0m=\u001b[1;36m0.05000000000000001\u001b[0m                                                                                  \n"
      ]
     },
     "metadata": {},
     "output_type": "display_data"
    },
    {
     "data": {
      "text/html": [
       "<pre style=\"white-space:pre;overflow-x:auto;line-height:normal;font-family:Menlo,'DejaVu Sans Mono',consolas,'Courier New',monospace\">param<span style=\"font-weight: bold\">[</span><span style=\"color: #008000; text-decoration-color: #008000\">'nsteps'</span><span style=\"font-weight: bold\">]</span>=<span style=\"color: #008080; text-decoration-color: #008080; font-weight: bold\">11</span> param<span style=\"font-weight: bold\">[</span><span style=\"color: #008000; text-decoration-color: #008000\">'aexp'</span><span style=\"font-weight: bold\">]</span>=<span style=\"color: #008080; text-decoration-color: #008080; font-weight: bold\">0.05000000000000001</span> z = <span style=\"color: #008080; text-decoration-color: #008080; font-weight: bold\">18.999999999999996</span>                                        \n",
       "</pre>\n"
      ],
      "text/plain": [
       "param\u001b[1m[\u001b[0m\u001b[32m'nsteps'\u001b[0m\u001b[1m]\u001b[0m=\u001b[1;36m11\u001b[0m param\u001b[1m[\u001b[0m\u001b[32m'aexp'\u001b[0m\u001b[1m]\u001b[0m=\u001b[1;36m0.05000000000000001\u001b[0m z = \u001b[1;36m18.999999999999996\u001b[0m                                        \n"
      ]
     },
     "metadata": {},
     "output_type": "display_data"
    },
    {
     "name": "stdout",
     "output_type": "stream",
     "text": [
      "1.25\n",
      "Step: 12 [0.01743846 0.01658271 0.0156064 ] [ 4.8895139e-04  2.0098107e-04 -2.9307010e-05] [[ 0.00979207  0.01421193  0.01993759 ... -0.00501277 -0.00458978\n",
      "   0.00373834]\n",
      " [ 0.0105409   0.01191287  0.01848431 ... -0.00303535 -0.00101732\n",
      "   0.00572944]\n",
      " [ 0.0008257   0.00858954  0.02141069 ...  0.00197029  0.00608586\n",
      "   0.00510576]\n",
      " ...\n",
      " [ 0.00233926 -0.00709455 -0.00572635 ... -0.00701362 -0.00939677\n",
      "  -0.00623783]\n",
      " [-0.00159679 -0.00526315 -0.00200748 ... -0.00838841 -0.00887667\n",
      "  -0.00987297]\n",
      " [-0.00012051  0.00593402  0.01380862 ... -0.01136214 -0.00752608\n",
      "  -0.00552419]]\n"
     ]
    },
    {
     "data": {
      "text/html": [
       "<pre style=\"white-space:pre;overflow-x:auto;line-height:normal;font-family:Menlo,'DejaVu Sans Mono',consolas,'Courier New',monospace\">Snapshot written at <span style=\"color: #808000; text-decoration-color: #808000\">...</span><span style=\"color: #808000; text-decoration-color: #808000\">filename</span>=<span style=\"color: #008000; text-decoration-color: #008000\">'./ptest-c//output_00003/particles_eft_multigrid_ncoarse5.h5'</span>                      \n",
       "param<span style=\"font-weight: bold\">[</span><span style=\"color: #008000; text-decoration-color: #008000\">'aexp'</span><span style=\"font-weight: bold\">]</span>=<span style=\"color: #008080; text-decoration-color: #008080; font-weight: bold\">0.05263157894736841</span>                                                                                  \n",
       "</pre>\n"
      ],
      "text/plain": [
       "Snapshot written at \u001b[33m...\u001b[0m\u001b[33mfilename\u001b[0m=\u001b[32m'./ptest-c//output_00003/particles_eft_multigrid_ncoarse5.h5'\u001b[0m                      \n",
       "param\u001b[1m[\u001b[0m\u001b[32m'aexp'\u001b[0m\u001b[1m]\u001b[0m=\u001b[1;36m0.05263157894736841\u001b[0m                                                                                  \n"
      ]
     },
     "metadata": {},
     "output_type": "display_data"
    },
    {
     "data": {
      "text/html": [
       "<pre style=\"white-space:pre;overflow-x:auto;line-height:normal;font-family:Menlo,'DejaVu Sans Mono',consolas,'Courier New',monospace\">param<span style=\"font-weight: bold\">[</span><span style=\"color: #008000; text-decoration-color: #008000\">'nsteps'</span><span style=\"font-weight: bold\">]</span>=<span style=\"color: #008080; text-decoration-color: #008080; font-weight: bold\">12</span> param<span style=\"font-weight: bold\">[</span><span style=\"color: #008000; text-decoration-color: #008000\">'aexp'</span><span style=\"font-weight: bold\">]</span>=<span style=\"color: #008080; text-decoration-color: #008080; font-weight: bold\">0.05263157894736841</span> z = <span style=\"color: #008080; text-decoration-color: #008080; font-weight: bold\">18.000000000000004</span>                                        \n",
       "</pre>\n"
      ],
      "text/plain": [
       "param\u001b[1m[\u001b[0m\u001b[32m'nsteps'\u001b[0m\u001b[1m]\u001b[0m=\u001b[1;36m12\u001b[0m param\u001b[1m[\u001b[0m\u001b[32m'aexp'\u001b[0m\u001b[1m]\u001b[0m=\u001b[1;36m0.05263157894736841\u001b[0m z = \u001b[1;36m18.000000000000004\u001b[0m                                        \n"
      ]
     },
     "metadata": {},
     "output_type": "display_data"
    },
    {
     "name": "stdout",
     "output_type": "stream",
     "text": [
      "1.25\n",
      "Step: 13 [0.0175573  0.01663124 0.01559909] [ 5.3604477e-04  2.1737920e-04 -3.3920231e-05] [[ 1.0887340e-02  1.5916824e-02  2.2220120e-02 ... -5.6328997e-03\n",
      "  -5.0903857e-03  4.0982217e-03]\n",
      " [ 1.1765860e-02  1.3438508e-02  2.0603582e-02 ... -3.4658089e-03\n",
      "  -1.1022016e-03  6.3786507e-03]\n",
      " [ 1.1960939e-03  9.8137334e-03  2.3800701e-02 ...  2.0988658e-03\n",
      "   6.6964924e-03  5.7151094e-03]\n",
      " ...\n",
      " [ 2.3632050e-03 -7.9671964e-03 -6.3457564e-03 ... -7.7055618e-03\n",
      "  -1.0450557e-02 -6.9602653e-03]\n",
      " [-1.7892942e-03 -5.7803541e-03 -2.1365955e-03 ... -9.2702582e-03\n",
      "  -9.9158660e-03 -1.0796912e-02]\n",
      " [-1.9967556e-05  6.6627413e-03  1.5301660e-02 ... -1.2467384e-02\n",
      "  -8.3703995e-03 -6.0352013e-03]]\n"
     ]
    },
    {
     "data": {
      "text/html": [
       "<pre style=\"white-space:pre;overflow-x:auto;line-height:normal;font-family:Menlo,'DejaVu Sans Mono',consolas,'Courier New',monospace\">Snapshot written at <span style=\"color: #808000; text-decoration-color: #808000\">...</span><span style=\"color: #808000; text-decoration-color: #808000\">filename</span>=<span style=\"color: #008000; text-decoration-color: #008000\">'./ptest-c//output_00004/particles_eft_multigrid_ncoarse5.h5'</span>                      \n",
       "param<span style=\"font-weight: bold\">[</span><span style=\"color: #008000; text-decoration-color: #008000\">'aexp'</span><span style=\"font-weight: bold\">]</span>=<span style=\"color: #008080; text-decoration-color: #008080; font-weight: bold\">0.05555555555555554</span>                                                                                  \n",
       "</pre>\n"
      ],
      "text/plain": [
       "Snapshot written at \u001b[33m...\u001b[0m\u001b[33mfilename\u001b[0m=\u001b[32m'./ptest-c//output_00004/particles_eft_multigrid_ncoarse5.h5'\u001b[0m                      \n",
       "param\u001b[1m[\u001b[0m\u001b[32m'aexp'\u001b[0m\u001b[1m]\u001b[0m=\u001b[1;36m0.05555555555555554\u001b[0m                                                                                  \n"
      ]
     },
     "metadata": {},
     "output_type": "display_data"
    },
    {
     "data": {
      "text/html": [
       "<pre style=\"white-space:pre;overflow-x:auto;line-height:normal;font-family:Menlo,'DejaVu Sans Mono',consolas,'Courier New',monospace\">param<span style=\"font-weight: bold\">[</span><span style=\"color: #008000; text-decoration-color: #008000\">'nsteps'</span><span style=\"font-weight: bold\">]</span>=<span style=\"color: #008080; text-decoration-color: #008080; font-weight: bold\">13</span> param<span style=\"font-weight: bold\">[</span><span style=\"color: #008000; text-decoration-color: #008000\">'aexp'</span><span style=\"font-weight: bold\">]</span>=<span style=\"color: #008080; text-decoration-color: #008080; font-weight: bold\">0.05555555555555554</span> z = <span style=\"color: #008080; text-decoration-color: #008080; font-weight: bold\">17.000000000000007</span>                                        \n",
       "</pre>\n"
      ],
      "text/plain": [
       "param\u001b[1m[\u001b[0m\u001b[32m'nsteps'\u001b[0m\u001b[1m]\u001b[0m=\u001b[1;36m13\u001b[0m param\u001b[1m[\u001b[0m\u001b[32m'aexp'\u001b[0m\u001b[1m]\u001b[0m=\u001b[1;36m0.05555555555555554\u001b[0m z = \u001b[1;36m17.000000000000007\u001b[0m                                        \n"
      ]
     },
     "metadata": {},
     "output_type": "display_data"
    },
    {
     "name": "stdout",
     "output_type": "stream",
     "text": [
      "1.25\n",
      "Step: 14 [0.01769158 0.01668533 0.01559037] [ 5.9073180e-04  2.3630675e-04 -3.9437022e-05] [[ 0.01218385  0.01794683  0.02491985 ... -0.00637323 -0.00567884\n",
      "   0.0045179 ]\n",
      " [ 0.01322235  0.01526773  0.02311219 ... -0.00398806 -0.00119874\n",
      "   0.00714867]\n",
      " [ 0.00167309  0.01129857  0.02662642 ...  0.00223421  0.00740801\n",
      "   0.00644217]\n",
      " ...\n",
      " [ 0.00235933 -0.0090069  -0.00707273 ... -0.00851497 -0.01169476\n",
      "  -0.00781791]\n",
      " [-0.00201775 -0.00638038 -0.00227792 ... -0.01030475 -0.01114624\n",
      "  -0.01186638]\n",
      " [ 0.0001149   0.00753294  0.01705488 ... -0.0137521  -0.00936569\n",
      "  -0.00662355]]\n"
     ]
    },
    {
     "data": {
      "text/html": [
       "<pre style=\"white-space:pre;overflow-x:auto;line-height:normal;font-family:Menlo,'DejaVu Sans Mono',consolas,'Courier New',monospace\">Snapshot written at <span style=\"color: #808000; text-decoration-color: #808000\">...</span><span style=\"color: #808000; text-decoration-color: #808000\">filename</span>=<span style=\"color: #008000; text-decoration-color: #008000\">'./ptest-c//output_00005/particles_eft_multigrid_ncoarse5.h5'</span>                      \n",
       "param<span style=\"font-weight: bold\">[</span><span style=\"color: #008000; text-decoration-color: #008000\">'aexp'</span><span style=\"font-weight: bold\">]</span>=<span style=\"color: #008080; text-decoration-color: #008080; font-weight: bold\">0.0588235294117647</span>                                                                                   \n",
       "</pre>\n"
      ],
      "text/plain": [
       "Snapshot written at \u001b[33m...\u001b[0m\u001b[33mfilename\u001b[0m=\u001b[32m'./ptest-c//output_00005/particles_eft_multigrid_ncoarse5.h5'\u001b[0m                      \n",
       "param\u001b[1m[\u001b[0m\u001b[32m'aexp'\u001b[0m\u001b[1m]\u001b[0m=\u001b[1;36m0.0588235294117647\u001b[0m                                                                                   \n"
      ]
     },
     "metadata": {},
     "output_type": "display_data"
    },
    {
     "data": {
      "text/html": [
       "<pre style=\"white-space:pre;overflow-x:auto;line-height:normal;font-family:Menlo,'DejaVu Sans Mono',consolas,'Courier New',monospace\">param<span style=\"font-weight: bold\">[</span><span style=\"color: #008000; text-decoration-color: #008000\">'nsteps'</span><span style=\"font-weight: bold\">]</span>=<span style=\"color: #008080; text-decoration-color: #008080; font-weight: bold\">14</span> param<span style=\"font-weight: bold\">[</span><span style=\"color: #008000; text-decoration-color: #008000\">'aexp'</span><span style=\"font-weight: bold\">]</span>=<span style=\"color: #008080; text-decoration-color: #008080; font-weight: bold\">0.0588235294117647</span> z = <span style=\"color: #008080; text-decoration-color: #008080; font-weight: bold\">16.000000000000004</span>                                         \n",
       "</pre>\n"
      ],
      "text/plain": [
       "param\u001b[1m[\u001b[0m\u001b[32m'nsteps'\u001b[0m\u001b[1m]\u001b[0m=\u001b[1;36m14\u001b[0m param\u001b[1m[\u001b[0m\u001b[32m'aexp'\u001b[0m\u001b[1m]\u001b[0m=\u001b[1;36m0.0588235294117647\u001b[0m z = \u001b[1;36m16.000000000000004\u001b[0m                                         \n"
      ]
     },
     "metadata": {},
     "output_type": "display_data"
    },
    {
     "name": "stdout",
     "output_type": "stream",
     "text": [
      "1.25\n",
      "Step: 15 [0.0178444  0.01674606 0.01557991] [ 6.5480318e-04  2.5834667e-04 -4.6097910e-05] [[ 0.01373503  0.02039048  0.02814558 ... -0.00726566 -0.00637703\n",
      "   0.00501254]\n",
      " [ 0.01497264  0.01748516  0.02611251 ... -0.00462891 -0.00130919\n",
      "   0.00807214]\n",
      " [ 0.00229248  0.0131198   0.03000306 ...  0.00237378  0.00824519\n",
      "   0.00731979]\n",
      " ...\n",
      " [ 0.00231436 -0.01025835 -0.00793403 ... -0.00947168 -0.01317862\n",
      "  -0.0088471 ]\n",
      " [-0.00229143 -0.00708256 -0.00243318 ... -0.01153076 -0.01261771\n",
      "  -0.0131155 ]\n",
      " [ 0.00029628  0.00858273  0.01913299 ... -0.01525982 -0.0105496\n",
      "  -0.00730699]]\n"
     ]
    },
    {
     "data": {
      "text/html": [
       "<pre style=\"white-space:pre;overflow-x:auto;line-height:normal;font-family:Menlo,'DejaVu Sans Mono',consolas,'Courier New',monospace\">Snapshot written at <span style=\"color: #808000; text-decoration-color: #808000\">...</span><span style=\"color: #808000; text-decoration-color: #808000\">filename</span>=<span style=\"color: #008000; text-decoration-color: #008000\">'./ptest-c//output_00006/particles_eft_multigrid_ncoarse5.h5'</span> param<span style=\"font-weight: bold\">[</span><span style=\"color: #008000; text-decoration-color: #008000\">'aexp'</span><span style=\"font-weight: bold\">]</span>=<span style=\"color: #008080; text-decoration-color: #008080; font-weight: bold\">0.0625</span> \n",
       "</pre>\n"
      ],
      "text/plain": [
       "Snapshot written at \u001b[33m...\u001b[0m\u001b[33mfilename\u001b[0m=\u001b[32m'./ptest-c//output_00006/particles_eft_multigrid_ncoarse5.h5'\u001b[0m param\u001b[1m[\u001b[0m\u001b[32m'aexp'\u001b[0m\u001b[1m]\u001b[0m=\u001b[1;36m0.0625\u001b[0m \n"
      ]
     },
     "metadata": {},
     "output_type": "display_data"
    },
    {
     "data": {
      "text/html": [
       "<pre style=\"white-space:pre;overflow-x:auto;line-height:normal;font-family:Menlo,'DejaVu Sans Mono',consolas,'Courier New',monospace\">param<span style=\"font-weight: bold\">[</span><span style=\"color: #008000; text-decoration-color: #008000\">'nsteps'</span><span style=\"font-weight: bold\">]</span>=<span style=\"color: #008080; text-decoration-color: #008080; font-weight: bold\">15</span> param<span style=\"font-weight: bold\">[</span><span style=\"color: #008000; text-decoration-color: #008000\">'aexp'</span><span style=\"font-weight: bold\">]</span>=<span style=\"color: #008080; text-decoration-color: #008080; font-weight: bold\">0.0625</span> z = <span style=\"color: #008080; text-decoration-color: #008080; font-weight: bold\">15.0</span>                                                                   \n",
       "</pre>\n"
      ],
      "text/plain": [
       "param\u001b[1m[\u001b[0m\u001b[32m'nsteps'\u001b[0m\u001b[1m]\u001b[0m=\u001b[1;36m15\u001b[0m param\u001b[1m[\u001b[0m\u001b[32m'aexp'\u001b[0m\u001b[1m]\u001b[0m=\u001b[1;36m0.0625\u001b[0m z = \u001b[1;36m15.0\u001b[0m                                                                   \n"
      ]
     },
     "metadata": {},
     "output_type": "display_data"
    },
    {
     "name": "stdout",
     "output_type": "stream",
     "text": [
      "1.25\n",
      "Step: 16 [0.01801969 0.01681476 0.01556725] [ 7.3062262e-04  2.8426707e-04 -5.4227035e-05] [[ 0.01561375  0.02336787  0.03204353 ... -0.00835495 -0.00721431\n",
      "   0.005603  ]\n",
      " [ 0.01710348  0.0202069   0.02974226 ... -0.0054255  -0.0014364\n",
      "   0.00919332]\n",
      " [ 0.00310504  0.01538315  0.03408642 ...  0.00251298  0.00923993\n",
      "   0.0083929 ]\n",
      " ...\n",
      " [ 0.00220808 -0.01178285 -0.00896557 ... -0.01061723 -0.01496938\n",
      "  -0.01009747]\n",
      " [-0.00262314 -0.00791219 -0.00260413 ... -0.0130001  -0.01439732\n",
      "  -0.01458956]\n",
      " [ 0.00054193  0.00986521  0.02162282 ... -0.01704735 -0.01197335\n",
      "  -0.00810798]]\n"
     ]
    },
    {
     "data": {
      "text/html": [
       "<pre style=\"white-space:pre;overflow-x:auto;line-height:normal;font-family:Menlo,'DejaVu Sans Mono',consolas,'Courier New',monospace\">Snapshot written at <span style=\"color: #808000; text-decoration-color: #808000\">...</span><span style=\"color: #808000; text-decoration-color: #808000\">filename</span>=<span style=\"color: #008000; text-decoration-color: #008000\">'./ptest-c//output_00007/particles_eft_multigrid_ncoarse5.h5'</span>                      \n",
       "param<span style=\"font-weight: bold\">[</span><span style=\"color: #008000; text-decoration-color: #008000\">'aexp'</span><span style=\"font-weight: bold\">]</span>=<span style=\"color: #008080; text-decoration-color: #008080; font-weight: bold\">0.06666666666666667</span>                                                                                  \n",
       "</pre>\n"
      ],
      "text/plain": [
       "Snapshot written at \u001b[33m...\u001b[0m\u001b[33mfilename\u001b[0m=\u001b[32m'./ptest-c//output_00007/particles_eft_multigrid_ncoarse5.h5'\u001b[0m                      \n",
       "param\u001b[1m[\u001b[0m\u001b[32m'aexp'\u001b[0m\u001b[1m]\u001b[0m=\u001b[1;36m0.06666666666666667\u001b[0m                                                                                  \n"
      ]
     },
     "metadata": {},
     "output_type": "display_data"
    },
    {
     "data": {
      "text/html": [
       "<pre style=\"white-space:pre;overflow-x:auto;line-height:normal;font-family:Menlo,'DejaVu Sans Mono',consolas,'Courier New',monospace\">param<span style=\"font-weight: bold\">[</span><span style=\"color: #008000; text-decoration-color: #008000\">'nsteps'</span><span style=\"font-weight: bold\">]</span>=<span style=\"color: #008080; text-decoration-color: #008080; font-weight: bold\">16</span> param<span style=\"font-weight: bold\">[</span><span style=\"color: #008000; text-decoration-color: #008000\">'aexp'</span><span style=\"font-weight: bold\">]</span>=<span style=\"color: #008080; text-decoration-color: #008080; font-weight: bold\">0.06666666666666667</span> z = <span style=\"color: #008080; text-decoration-color: #008080; font-weight: bold\">14.0</span>                                                      \n",
       "</pre>\n"
      ],
      "text/plain": [
       "param\u001b[1m[\u001b[0m\u001b[32m'nsteps'\u001b[0m\u001b[1m]\u001b[0m=\u001b[1;36m16\u001b[0m param\u001b[1m[\u001b[0m\u001b[32m'aexp'\u001b[0m\u001b[1m]\u001b[0m=\u001b[1;36m0.06666666666666667\u001b[0m z = \u001b[1;36m14.0\u001b[0m                                                      \n"
      ]
     },
     "metadata": {},
     "output_type": "display_data"
    },
    {
     "name": "stdout",
     "output_type": "stream",
     "text": [
      "1.25\n",
      "Step: 17 [0.01822261 0.01689318 0.01555181] [ 8.2136539e-04  3.1509844e-04 -6.4269370e-05] [[ 0.01792146  0.02704655  0.036815   ... -0.00970176 -0.00823055\n",
      "   0.00631744]\n",
      " [ 0.01973403  0.02359474  0.03419179 ... -0.00643051 -0.00158429\n",
      "   0.01057421]\n",
      " [ 0.0041841   0.01823787  0.03909202 ...  0.00264293  0.01043649\n",
      "   0.00972414]\n",
      " ...\n",
      " [ 0.00201036 -0.01366435 -0.01021586 ... -0.01200815 -0.01715775\n",
      "  -0.01163791]\n",
      " [-0.00302999 -0.00890312 -0.00279278 ... -0.0147842  -0.01657686\n",
      "  -0.01634912]\n",
      " [ 0.0008768   0.01145335  0.02464122 ... -0.01919296 -0.01370691\n",
      "  -0.00905564]]\n"
     ]
    },
    {
     "data": {
      "text/html": [
       "<pre style=\"white-space:pre;overflow-x:auto;line-height:normal;font-family:Menlo,'DejaVu Sans Mono',consolas,'Courier New',monospace\">Snapshot written at <span style=\"color: #808000; text-decoration-color: #808000\">...</span><span style=\"color: #808000; text-decoration-color: #808000\">filename</span>=<span style=\"color: #008000; text-decoration-color: #008000\">'./ptest-c//output_00008/particles_eft_multigrid_ncoarse5.h5'</span>                      \n",
       "param<span style=\"font-weight: bold\">[</span><span style=\"color: #008000; text-decoration-color: #008000\">'aexp'</span><span style=\"font-weight: bold\">]</span>=<span style=\"color: #008080; text-decoration-color: #008080; font-weight: bold\">0.07142857142857141</span>                                                                                  \n",
       "</pre>\n"
      ],
      "text/plain": [
       "Snapshot written at \u001b[33m...\u001b[0m\u001b[33mfilename\u001b[0m=\u001b[32m'./ptest-c//output_00008/particles_eft_multigrid_ncoarse5.h5'\u001b[0m                      \n",
       "param\u001b[1m[\u001b[0m\u001b[32m'aexp'\u001b[0m\u001b[1m]\u001b[0m=\u001b[1;36m0.07142857142857141\u001b[0m                                                                                  \n"
      ]
     },
     "metadata": {},
     "output_type": "display_data"
    },
    {
     "data": {
      "text/html": [
       "<pre style=\"white-space:pre;overflow-x:auto;line-height:normal;font-family:Menlo,'DejaVu Sans Mono',consolas,'Courier New',monospace\">param<span style=\"font-weight: bold\">[</span><span style=\"color: #008000; text-decoration-color: #008000\">'nsteps'</span><span style=\"font-weight: bold\">]</span>=<span style=\"color: #008080; text-decoration-color: #008080; font-weight: bold\">17</span> param<span style=\"font-weight: bold\">[</span><span style=\"color: #008000; text-decoration-color: #008000\">'aexp'</span><span style=\"font-weight: bold\">]</span>=<span style=\"color: #008080; text-decoration-color: #008080; font-weight: bold\">0.07142857142857141</span> z = <span style=\"color: #008080; text-decoration-color: #008080; font-weight: bold\">13.000000000000004</span>                                        \n",
       "</pre>\n"
      ],
      "text/plain": [
       "param\u001b[1m[\u001b[0m\u001b[32m'nsteps'\u001b[0m\u001b[1m]\u001b[0m=\u001b[1;36m17\u001b[0m param\u001b[1m[\u001b[0m\u001b[32m'aexp'\u001b[0m\u001b[1m]\u001b[0m=\u001b[1;36m0.07142857142857141\u001b[0m z = \u001b[1;36m13.000000000000004\u001b[0m                                        \n"
      ]
     },
     "metadata": {},
     "output_type": "display_data"
    },
    {
     "name": "stdout",
     "output_type": "stream",
     "text": [
      "1.25\n",
      "Step: 18 [0.01845996 0.01698361 0.01553277] [ 9.3138294e-04  3.5225245e-04 -7.6848206e-05] [[ 0.02080205  0.03166504  0.04274258 ... -0.01139382 -0.0094818\n",
      "   0.00719601]\n",
      " [ 0.02303621  0.02788155  0.03972879 ... -0.0077205  -0.00175825\n",
      "   0.01230378]\n",
      " [ 0.00563923  0.02189934  0.04532535 ...  0.00274855  0.0118949\n",
      "   0.01140417]\n",
      " ...\n",
      " [ 0.00167462 -0.0160221  -0.01175259 ... -0.01372485 -0.01987417\n",
      "  -0.01356609]\n",
      " [-0.003537   -0.01010121 -0.00300232 ... -0.01698291 -0.01928556\n",
      "  -0.01847766]\n",
      " [ 0.0013395   0.01345098  0.02835098 ... -0.02180341 -0.01584703\n",
      "  -0.01018983]]\n"
     ]
    },
    {
     "data": {
      "text/html": [
       "<pre style=\"white-space:pre;overflow-x:auto;line-height:normal;font-family:Menlo,'DejaVu Sans Mono',consolas,'Courier New',monospace\">Snapshot written at <span style=\"color: #808000; text-decoration-color: #808000\">...</span><span style=\"color: #808000; text-decoration-color: #808000\">filename</span>=<span style=\"color: #008000; text-decoration-color: #008000\">'./ptest-c//output_00009/particles_eft_multigrid_ncoarse5.h5'</span>                      \n",
       "param<span style=\"font-weight: bold\">[</span><span style=\"color: #008000; text-decoration-color: #008000\">'aexp'</span><span style=\"font-weight: bold\">]</span>=<span style=\"color: #008080; text-decoration-color: #008080; font-weight: bold\">0.07692307692307693</span>                                                                                  \n",
       "</pre>\n"
      ],
      "text/plain": [
       "Snapshot written at \u001b[33m...\u001b[0m\u001b[33mfilename\u001b[0m=\u001b[32m'./ptest-c//output_00009/particles_eft_multigrid_ncoarse5.h5'\u001b[0m                      \n",
       "param\u001b[1m[\u001b[0m\u001b[32m'aexp'\u001b[0m\u001b[1m]\u001b[0m=\u001b[1;36m0.07692307692307693\u001b[0m                                                                                  \n"
      ]
     },
     "metadata": {},
     "output_type": "display_data"
    },
    {
     "data": {
      "text/html": [
       "<pre style=\"white-space:pre;overflow-x:auto;line-height:normal;font-family:Menlo,'DejaVu Sans Mono',consolas,'Courier New',monospace\">param<span style=\"font-weight: bold\">[</span><span style=\"color: #008000; text-decoration-color: #008000\">'nsteps'</span><span style=\"font-weight: bold\">]</span>=<span style=\"color: #008080; text-decoration-color: #008080; font-weight: bold\">18</span> param<span style=\"font-weight: bold\">[</span><span style=\"color: #008000; text-decoration-color: #008000\">'aexp'</span><span style=\"font-weight: bold\">]</span>=<span style=\"color: #008080; text-decoration-color: #008080; font-weight: bold\">0.07692307692307693</span> z = <span style=\"color: #008080; text-decoration-color: #008080; font-weight: bold\">12.0</span>                                                      \n",
       "</pre>\n"
      ],
      "text/plain": [
       "param\u001b[1m[\u001b[0m\u001b[32m'nsteps'\u001b[0m\u001b[1m]\u001b[0m=\u001b[1;36m18\u001b[0m param\u001b[1m[\u001b[0m\u001b[32m'aexp'\u001b[0m\u001b[1m]\u001b[0m=\u001b[1;36m0.07692307692307693\u001b[0m z = \u001b[1;36m12.0\u001b[0m                                                      \n"
      ]
     },
     "metadata": {},
     "output_type": "display_data"
    },
    {
     "name": "stdout",
     "output_type": "stream",
     "text": [
      "1.25\n",
      "Step: 19 [0.01874092 0.01708915 0.015509  ] [ 1.0667768e-03  3.9770961e-04 -9.2857525e-05] [[ 0.0244666   0.03757173  0.05023277 ... -0.01355781 -0.01104692\n",
      "   0.0082972 ]\n",
      " [ 0.02726075  0.03340963  0.04673985 ... -0.00940898 -0.00196388\n",
      "   0.01451153]\n",
      " [ 0.00763628  0.02668941  0.05322942 ...  0.00280142  0.01370126\n",
      "   0.01356596]\n",
      " ...\n",
      " [ 0.00112697 -0.01902854 -0.0136729  ... -0.01588523 -0.02330428\n",
      "  -0.0160253 ]\n",
      " [-0.00417954 -0.01157111 -0.00323653 ... -0.01974073 -0.02270922\n",
      "  -0.02109259]\n",
      " [ 0.00198728  0.01601107  0.03298195 ... -0.02503113 -0.01853222\n",
      "  -0.01156484]]\n"
     ]
    },
    {
     "data": {
      "text/html": [
       "<pre style=\"white-space:pre;overflow-x:auto;line-height:normal;font-family:Menlo,'DejaVu Sans Mono',consolas,'Courier New',monospace\">Snapshot written at <span style=\"color: #808000; text-decoration-color: #808000\">...</span><span style=\"color: #808000; text-decoration-color: #808000\">filename</span>=<span style=\"color: #008000; text-decoration-color: #008000\">'./ptest-c//output_00010/particles_eft_multigrid_ncoarse5.h5'</span>                      \n",
       "param<span style=\"font-weight: bold\">[</span><span style=\"color: #008000; text-decoration-color: #008000\">'aexp'</span><span style=\"font-weight: bold\">]</span>=<span style=\"color: #008080; text-decoration-color: #008080; font-weight: bold\">0.08333333333333333</span>                                                                                  \n",
       "</pre>\n"
      ],
      "text/plain": [
       "Snapshot written at \u001b[33m...\u001b[0m\u001b[33mfilename\u001b[0m=\u001b[32m'./ptest-c//output_00010/particles_eft_multigrid_ncoarse5.h5'\u001b[0m                      \n",
       "param\u001b[1m[\u001b[0m\u001b[32m'aexp'\u001b[0m\u001b[1m]\u001b[0m=\u001b[1;36m0.08333333333333333\u001b[0m                                                                                  \n"
      ]
     },
     "metadata": {},
     "output_type": "display_data"
    },
    {
     "data": {
      "text/html": [
       "<pre style=\"white-space:pre;overflow-x:auto;line-height:normal;font-family:Menlo,'DejaVu Sans Mono',consolas,'Courier New',monospace\">param<span style=\"font-weight: bold\">[</span><span style=\"color: #008000; text-decoration-color: #008000\">'nsteps'</span><span style=\"font-weight: bold\">]</span>=<span style=\"color: #008080; text-decoration-color: #008080; font-weight: bold\">19</span> param<span style=\"font-weight: bold\">[</span><span style=\"color: #008000; text-decoration-color: #008000\">'aexp'</span><span style=\"font-weight: bold\">]</span>=<span style=\"color: #008080; text-decoration-color: #008080; font-weight: bold\">0.08333333333333333</span> z = <span style=\"color: #008080; text-decoration-color: #008080; font-weight: bold\">11.0</span>                                                      \n",
       "</pre>\n"
      ],
      "text/plain": [
       "param\u001b[1m[\u001b[0m\u001b[32m'nsteps'\u001b[0m\u001b[1m]\u001b[0m=\u001b[1;36m19\u001b[0m param\u001b[1m[\u001b[0m\u001b[32m'aexp'\u001b[0m\u001b[1m]\u001b[0m=\u001b[1;36m0.08333333333333333\u001b[0m z = \u001b[1;36m11.0\u001b[0m                                                      \n"
      ]
     },
     "metadata": {},
     "output_type": "display_data"
    },
    {
     "name": "stdout",
     "output_type": "stream",
     "text": [
      "1.25\n",
      "Step: 20 [0.01907821 0.01721404 0.01547889] [ 0.00123633  0.00045433 -0.00011361] [[ 0.02923313  0.04529384  0.05988765 ... -0.01638544 -0.01304147\n",
      "   0.00970921]\n",
      " [ 0.03278977  0.04069895  0.05579945 ... -0.01167068 -0.00221074\n",
      "   0.01739377]\n",
      " [ 0.01043794  0.0331015   0.06346792 ...  0.00275204  0.01597938\n",
      "   0.01641196]\n",
      " ...\n",
      " [ 0.00024727 -0.02294111 -0.01611777 ... -0.01866785 -0.02772626\n",
      "  -0.01923105]\n",
      " [-0.00501066 -0.01340398 -0.00350115 ... -0.02327207 -0.02712247\n",
      "  -0.02436319]\n",
      " [ 0.00291294  0.01936257  0.03886661 ... -0.02909824 -0.02196586\n",
      "  -0.01325643]]\n"
     ]
    },
    {
     "data": {
      "text/html": [
       "<pre style=\"white-space:pre;overflow-x:auto;line-height:normal;font-family:Menlo,'DejaVu Sans Mono',consolas,'Courier New',monospace\">Snapshot written at <span style=\"color: #808000; text-decoration-color: #808000\">...</span><span style=\"color: #808000; text-decoration-color: #808000\">filename</span>=<span style=\"color: #008000; text-decoration-color: #008000\">'./ptest-c//output_00011/particles_eft_multigrid_ncoarse5.h5'</span>                      \n",
       "param<span style=\"font-weight: bold\">[</span><span style=\"color: #008000; text-decoration-color: #008000\">'aexp'</span><span style=\"font-weight: bold\">]</span>=<span style=\"color: #008080; text-decoration-color: #008080; font-weight: bold\">0.0909090909090909</span>                                                                                   \n",
       "</pre>\n"
      ],
      "text/plain": [
       "Snapshot written at \u001b[33m...\u001b[0m\u001b[33mfilename\u001b[0m=\u001b[32m'./ptest-c//output_00011/particles_eft_multigrid_ncoarse5.h5'\u001b[0m                      \n",
       "param\u001b[1m[\u001b[0m\u001b[32m'aexp'\u001b[0m\u001b[1m]\u001b[0m=\u001b[1;36m0.0909090909090909\u001b[0m                                                                                   \n"
      ]
     },
     "metadata": {},
     "output_type": "display_data"
    },
    {
     "data": {
      "text/html": [
       "<pre style=\"white-space:pre;overflow-x:auto;line-height:normal;font-family:Menlo,'DejaVu Sans Mono',consolas,'Courier New',monospace\">param<span style=\"font-weight: bold\">[</span><span style=\"color: #008000; text-decoration-color: #008000\">'nsteps'</span><span style=\"font-weight: bold\">]</span>=<span style=\"color: #008080; text-decoration-color: #008080; font-weight: bold\">20</span> param<span style=\"font-weight: bold\">[</span><span style=\"color: #008000; text-decoration-color: #008000\">'aexp'</span><span style=\"font-weight: bold\">]</span>=<span style=\"color: #008080; text-decoration-color: #008080; font-weight: bold\">0.0909090909090909</span> z = <span style=\"color: #008080; text-decoration-color: #008080; font-weight: bold\">10.000000000000002</span>                                         \n",
       "</pre>\n"
      ],
      "text/plain": [
       "param\u001b[1m[\u001b[0m\u001b[32m'nsteps'\u001b[0m\u001b[1m]\u001b[0m=\u001b[1;36m20\u001b[0m param\u001b[1m[\u001b[0m\u001b[32m'aexp'\u001b[0m\u001b[1m]\u001b[0m=\u001b[1;36m0.0909090909090909\u001b[0m z = \u001b[1;36m10.000000000000002\u001b[0m                                         \n"
      ]
     },
     "metadata": {},
     "output_type": "display_data"
    },
    {
     "name": "stdout",
     "output_type": "stream",
     "text": [
      "1.25\n",
      "Step: 21 [0.01948984 0.01736427 0.01544009] [ 0.0014531   0.00052636 -0.00014112] [[ 0.03560126  0.05565822  0.07262877 ... -0.02017382 -0.01564044\n",
      "   0.01156929]\n",
      " [ 0.04022378  0.05057001  0.0677931  ... -0.01478487 -0.00250992\n",
      "   0.02126062]\n",
      " [ 0.01447302  0.04192647  0.07707104 ...  0.00250587  0.01891491\n",
      "   0.02026388]\n",
      " ...\n",
      " [-0.00116795 -0.02815574 -0.01930201 ... -0.02235371 -0.03356791\n",
      "  -0.02352077]\n",
      " [-0.00611365 -0.01573393 -0.00380641 ... -0.02790526 -0.0329459\n",
      "  -0.02854344]\n",
      " [ 0.00426719  0.0238632   0.04650325 ... -0.03433982 -0.02645513\n",
      "  -0.0153715 ]]\n"
     ]
    },
    {
     "data": {
      "text/html": [
       "<pre style=\"white-space:pre;overflow-x:auto;line-height:normal;font-family:Menlo,'DejaVu Sans Mono',consolas,'Courier New',monospace\">Snapshot written at <span style=\"color: #808000; text-decoration-color: #808000\">...</span><span style=\"color: #808000; text-decoration-color: #808000\">filename</span>=<span style=\"color: #008000; text-decoration-color: #008000\">'./ptest-c//output_00012/particles_eft_multigrid_ncoarse5.h5'</span>                      \n",
       "param<span style=\"font-weight: bold\">[</span><span style=\"color: #008000; text-decoration-color: #008000\">'aexp'</span><span style=\"font-weight: bold\">]</span>=<span style=\"color: #008080; text-decoration-color: #008080; font-weight: bold\">0.10000000000000002</span>                                                                                  \n",
       "</pre>\n"
      ],
      "text/plain": [
       "Snapshot written at \u001b[33m...\u001b[0m\u001b[33mfilename\u001b[0m=\u001b[32m'./ptest-c//output_00012/particles_eft_multigrid_ncoarse5.h5'\u001b[0m                      \n",
       "param\u001b[1m[\u001b[0m\u001b[32m'aexp'\u001b[0m\u001b[1m]\u001b[0m=\u001b[1;36m0.10000000000000002\u001b[0m                                                                                  \n"
      ]
     },
     "metadata": {},
     "output_type": "display_data"
    },
    {
     "data": {
      "text/html": [
       "<pre style=\"white-space:pre;overflow-x:auto;line-height:normal;font-family:Menlo,'DejaVu Sans Mono',consolas,'Courier New',monospace\">param<span style=\"font-weight: bold\">[</span><span style=\"color: #008000; text-decoration-color: #008000\">'nsteps'</span><span style=\"font-weight: bold\">]</span>=<span style=\"color: #008080; text-decoration-color: #008080; font-weight: bold\">21</span> param<span style=\"font-weight: bold\">[</span><span style=\"color: #008000; text-decoration-color: #008000\">'aexp'</span><span style=\"font-weight: bold\">]</span>=<span style=\"color: #008080; text-decoration-color: #008080; font-weight: bold\">0.10000000000000002</span> z = <span style=\"color: #008080; text-decoration-color: #008080; font-weight: bold\">8.999999999999998</span>                                         \n",
       "</pre>\n"
      ],
      "text/plain": [
       "param\u001b[1m[\u001b[0m\u001b[32m'nsteps'\u001b[0m\u001b[1m]\u001b[0m=\u001b[1;36m21\u001b[0m param\u001b[1m[\u001b[0m\u001b[32m'aexp'\u001b[0m\u001b[1m]\u001b[0m=\u001b[1;36m0.10000000000000002\u001b[0m z = \u001b[1;36m8.999999999999998\u001b[0m                                         \n"
      ]
     },
     "metadata": {},
     "output_type": "display_data"
    },
    {
     "name": "stdout",
     "output_type": "stream",
     "text": [
      "1.25\n",
      "Step: 22 [0.0199511  0.01753033 0.01539422] [ 0.00170763  0.00061064 -0.00017459] [[ 0.04346386  0.06850189  0.08811486 ... -0.02485472 -0.01875681\n",
      "   0.0138377 ]\n",
      " [ 0.04946274  0.06291488  0.08242384 ... -0.01874426 -0.00284195\n",
      "   0.02605525]\n",
      " [ 0.01982725  0.05314422  0.09374955 ...  0.00196329  0.02239662\n",
      "   0.02508247]\n",
      " ...\n",
      " [-0.00321913 -0.0345571  -0.0231227  ... -0.02687359 -0.04068604\n",
      "  -0.02882102]\n",
      " [-0.00746274 -0.01845253 -0.0041365  ... -0.03351516 -0.04002306\n",
      "  -0.03346092]\n",
      " [ 0.0060868   0.02943775  0.05560762 ... -0.0405623  -0.03185588\n",
      "  -0.01779458]]\n"
     ]
    },
    {
     "data": {
      "text/html": [
       "<pre style=\"white-space:pre;overflow-x:auto;line-height:normal;font-family:Menlo,'DejaVu Sans Mono',consolas,'Courier New',monospace\">param<span style=\"font-weight: bold\">[</span><span style=\"color: #008000; text-decoration-color: #008000\">'nsteps'</span><span style=\"font-weight: bold\">]</span>=<span style=\"color: #008080; text-decoration-color: #008080; font-weight: bold\">22</span> param<span style=\"font-weight: bold\">[</span><span style=\"color: #008000; text-decoration-color: #008000\">'aexp'</span><span style=\"font-weight: bold\">]</span>=<span style=\"color: #008080; text-decoration-color: #008080; font-weight: bold\">0.1099999997327191</span> z = <span style=\"color: #008080; text-decoration-color: #008080; font-weight: bold\">8.090909112998421</span>                                          \n",
       "</pre>\n"
      ],
      "text/plain": [
       "param\u001b[1m[\u001b[0m\u001b[32m'nsteps'\u001b[0m\u001b[1m]\u001b[0m=\u001b[1;36m22\u001b[0m param\u001b[1m[\u001b[0m\u001b[32m'aexp'\u001b[0m\u001b[1m]\u001b[0m=\u001b[1;36m0.1099999997327191\u001b[0m z = \u001b[1;36m8.090909112998421\u001b[0m                                          \n"
      ]
     },
     "metadata": {},
     "output_type": "display_data"
    },
    {
     "name": "stdout",
     "output_type": "stream",
     "text": [
      "1.25\n",
      "Step: 23 [0.02000315 0.01754893 0.01538889] [ 0.0017368   0.00062028 -0.00017849] [[ 0.04440287  0.07003438  0.08993578 ... -0.02541229 -0.01911965\n",
      "   0.01409692]\n",
      " [ 0.05055571  0.06439647  0.08413592 ... -0.01922116 -0.0028829\n",
      "   0.02663329]\n",
      " [ 0.02049887  0.05449229  0.09572962 ...  0.00187489  0.02280277\n",
      "   0.02564174]\n",
      " ...\n",
      " [-0.00347495 -0.03532055 -0.02355725 ... -0.02740741 -0.04152548\n",
      "  -0.02944613]\n",
      " [-0.00762108 -0.01874694 -0.00417596 ... -0.03418246 -0.04085669\n",
      "  -0.03403097]\n",
      " [ 0.00631312  0.03009918  0.05666763 ... -0.04128289 -0.03248823\n",
      "  -0.0180631 ]]\n"
     ]
    },
    {
     "data": {
      "text/html": [
       "<pre style=\"white-space:pre;overflow-x:auto;line-height:normal;font-family:Menlo,'DejaVu Sans Mono',consolas,'Courier New',monospace\">Snapshot written at <span style=\"color: #808000; text-decoration-color: #808000\">...</span><span style=\"color: #808000; text-decoration-color: #808000\">filename</span>=<span style=\"color: #008000; text-decoration-color: #008000\">'./ptest-c//output_00013/particles_eft_multigrid_ncoarse5.h5'</span>                      \n",
       "param<span style=\"font-weight: bold\">[</span><span style=\"color: #008000; text-decoration-color: #008000\">'aexp'</span><span style=\"font-weight: bold\">]</span>=<span style=\"color: #008080; text-decoration-color: #008080; font-weight: bold\">0.11111111111111109</span>                                                                                  \n",
       "</pre>\n"
      ],
      "text/plain": [
       "Snapshot written at \u001b[33m...\u001b[0m\u001b[33mfilename\u001b[0m=\u001b[32m'./ptest-c//output_00013/particles_eft_multigrid_ncoarse5.h5'\u001b[0m                      \n",
       "param\u001b[1m[\u001b[0m\u001b[32m'aexp'\u001b[0m\u001b[1m]\u001b[0m=\u001b[1;36m0.11111111111111109\u001b[0m                                                                                  \n"
      ]
     },
     "metadata": {},
     "output_type": "display_data"
    },
    {
     "data": {
      "text/html": [
       "<pre style=\"white-space:pre;overflow-x:auto;line-height:normal;font-family:Menlo,'DejaVu Sans Mono',consolas,'Courier New',monospace\">param<span style=\"font-weight: bold\">[</span><span style=\"color: #008000; text-decoration-color: #008000\">'nsteps'</span><span style=\"font-weight: bold\">]</span>=<span style=\"color: #008080; text-decoration-color: #008080; font-weight: bold\">23</span> param<span style=\"font-weight: bold\">[</span><span style=\"color: #008000; text-decoration-color: #008000\">'aexp'</span><span style=\"font-weight: bold\">]</span>=<span style=\"color: #008080; text-decoration-color: #008080; font-weight: bold\">0.11111111111111109</span> z = <span style=\"color: #008080; text-decoration-color: #008080; font-weight: bold\">8.000000000000002</span>                                         \n",
       "</pre>\n"
      ],
      "text/plain": [
       "param\u001b[1m[\u001b[0m\u001b[32m'nsteps'\u001b[0m\u001b[1m]\u001b[0m=\u001b[1;36m23\u001b[0m param\u001b[1m[\u001b[0m\u001b[32m'aexp'\u001b[0m\u001b[1m]\u001b[0m=\u001b[1;36m0.11111111111111109\u001b[0m z = \u001b[1;36m8.000000000000002\u001b[0m                                         \n"
      ]
     },
     "metadata": {},
     "output_type": "display_data"
    },
    {
     "name": "stdout",
     "output_type": "stream",
     "text": [
      "1.25\n",
      "Step: 24 [0.02052615 0.01773471 0.01533396] [ 0.0020408   0.00072071 -0.00021995] [[ 0.05436403  0.0863542   0.10915178 ... -0.03133154 -0.02292794\n",
      "   0.01694858]\n",
      " [ 0.06235409  0.08023208  0.10238928 ... -0.0243907  -0.00324625\n",
      "   0.03273052]\n",
      " [ 0.02778023  0.06914622  0.11665899 ...  0.00085121  0.02700675\n",
      "   0.03185034]\n",
      " ...\n",
      " [-0.00649512 -0.04333872 -0.02824619 ... -0.0331105  -0.05039912\n",
      "  -0.03616428]\n",
      " [-0.00931478 -0.02198309 -0.00455144 ... -0.04112643 -0.04963589\n",
      "  -0.03992057]\n",
      " [ 0.00881559  0.03716987  0.06769595 ... -0.04882115 -0.03910911\n",
      "  -0.02087116]]\n"
     ]
    },
    {
     "data": {
      "text/html": [
       "<pre style=\"white-space:pre;overflow-x:auto;line-height:normal;font-family:Menlo,'DejaVu Sans Mono',consolas,'Courier New',monospace\">param<span style=\"font-weight: bold\">[</span><span style=\"color: #008000; text-decoration-color: #008000\">'nsteps'</span><span style=\"font-weight: bold\">]</span>=<span style=\"color: #008080; text-decoration-color: #008080; font-weight: bold\">24</span> param<span style=\"font-weight: bold\">[</span><span style=\"color: #008000; text-decoration-color: #008000\">'aexp'</span><span style=\"font-weight: bold\">]</span>=<span style=\"color: #008080; text-decoration-color: #008080; font-weight: bold\">0.12222222184337919</span> z = <span style=\"color: #008080; text-decoration-color: #008080; font-weight: bold\">7.181818207178749</span>                                         \n",
       "</pre>\n"
      ],
      "text/plain": [
       "param\u001b[1m[\u001b[0m\u001b[32m'nsteps'\u001b[0m\u001b[1m]\u001b[0m=\u001b[1;36m24\u001b[0m param\u001b[1m[\u001b[0m\u001b[32m'aexp'\u001b[0m\u001b[1m]\u001b[0m=\u001b[1;36m0.12222222184337919\u001b[0m z = \u001b[1;36m7.181818207178749\u001b[0m                                         \n"
      ]
     },
     "metadata": {},
     "output_type": "display_data"
    },
    {
     "name": "stdout",
     "output_type": "stream",
     "text": [
      "1.25\n",
      "Step: 25 [0.02065906 0.01778159 0.01531956] [ 0.00211956  0.00074672 -0.00023089] [[ 0.05705339  0.0907625   0.114268   ... -0.03292638 -0.0239327\n",
      "   0.01771122]\n",
      " [ 0.06554824  0.08453459  0.10725856 ... -0.02580649 -0.00334018\n",
      "   0.0343833 ]\n",
      " [ 0.02982444  0.07316136  0.1222744  ...  0.00051868  0.02810985\n",
      "   0.03353328]\n",
      " ...\n",
      " [-0.00736952 -0.04548538 -0.02948335 ... -0.03464645 -0.05276769\n",
      "  -0.037974  ]\n",
      " [-0.0097692  -0.02281678 -0.00464949 ... -0.04297608 -0.05197579\n",
      "  -0.04145777]\n",
      " [ 0.00952023  0.03907645  0.0705874  ... -0.05080241 -0.04086024\n",
      "  -0.02158612]]\n"
     ]
    },
    {
     "data": {
      "text/html": [
       "<pre style=\"white-space:pre;overflow-x:auto;line-height:normal;font-family:Menlo,'DejaVu Sans Mono',consolas,'Courier New',monospace\">Snapshot written at <span style=\"color: #808000; text-decoration-color: #808000\">...</span><span style=\"color: #808000; text-decoration-color: #808000\">filename</span>=<span style=\"color: #008000; text-decoration-color: #008000\">'./ptest-c//output_00014/particles_eft_multigrid_ncoarse5.h5'</span>                      \n",
       "param<span style=\"font-weight: bold\">[</span><span style=\"color: #008000; text-decoration-color: #008000\">'aexp'</span><span style=\"font-weight: bold\">]</span>=<span style=\"color: #008080; text-decoration-color: #008080; font-weight: bold\">0.12500000000000003</span>                                                                                  \n",
       "</pre>\n"
      ],
      "text/plain": [
       "Snapshot written at \u001b[33m...\u001b[0m\u001b[33mfilename\u001b[0m=\u001b[32m'./ptest-c//output_00014/particles_eft_multigrid_ncoarse5.h5'\u001b[0m                      \n",
       "param\u001b[1m[\u001b[0m\u001b[32m'aexp'\u001b[0m\u001b[1m]\u001b[0m=\u001b[1;36m0.12500000000000003\u001b[0m                                                                                  \n"
      ]
     },
     "metadata": {},
     "output_type": "display_data"
    },
    {
     "data": {
      "text/html": [
       "<pre style=\"white-space:pre;overflow-x:auto;line-height:normal;font-family:Menlo,'DejaVu Sans Mono',consolas,'Courier New',monospace\">param<span style=\"font-weight: bold\">[</span><span style=\"color: #008000; text-decoration-color: #008000\">'nsteps'</span><span style=\"font-weight: bold\">]</span>=<span style=\"color: #008080; text-decoration-color: #008080; font-weight: bold\">25</span> param<span style=\"font-weight: bold\">[</span><span style=\"color: #008000; text-decoration-color: #008000\">'aexp'</span><span style=\"font-weight: bold\">]</span>=<span style=\"color: #008080; text-decoration-color: #008080; font-weight: bold\">0.12500000000000003</span> z = <span style=\"color: #008080; text-decoration-color: #008080; font-weight: bold\">6.999999999999998</span>                                         \n",
       "</pre>\n"
      ],
      "text/plain": [
       "param\u001b[1m[\u001b[0m\u001b[32m'nsteps'\u001b[0m\u001b[1m]\u001b[0m=\u001b[1;36m25\u001b[0m param\u001b[1m[\u001b[0m\u001b[32m'aexp'\u001b[0m\u001b[1m]\u001b[0m=\u001b[1;36m0.12500000000000003\u001b[0m z = \u001b[1;36m6.999999999999998\u001b[0m                                         \n"
      ]
     },
     "metadata": {},
     "output_type": "display_data"
    },
    {
     "name": "stdout",
     "output_type": "stream",
     "text": [
      "1.25\n",
      "Step: 26 [0.02126078 0.0179926  0.01525268] [ 0.00249036  0.0008692  -0.00028345] [[ 0.07011604  0.11218661  0.13872778 ... -0.04063946 -0.02869457\n",
      "   0.02140242]\n",
      " [ 0.0811106   0.10553777  0.1306212  ... -0.03278446 -0.00374603\n",
      "   0.04242182]\n",
      " [ 0.04010141  0.09294993  0.14934897 ... -0.00134438  0.03331047\n",
      "   0.04176474]\n",
      " ...\n",
      " [-0.01190084 -0.0558064  -0.03536022 ... -0.04210091 -0.06415719\n",
      "  -0.04675311]\n",
      " [-0.01196283 -0.02669281 -0.00513381 ... -0.05185378 -0.06315541\n",
      "  -0.04868096]\n",
      " [ 0.01306897  0.04830527  0.08420485 ... -0.0601632  -0.0491733\n",
      "  -0.02485776]]\n"
     ]
    },
    {
     "data": {
      "text/html": [
       "<pre style=\"white-space:pre;overflow-x:auto;line-height:normal;font-family:Menlo,'DejaVu Sans Mono',consolas,'Courier New',monospace\">param<span style=\"font-weight: bold\">[</span><span style=\"color: #008000; text-decoration-color: #008000\">'nsteps'</span><span style=\"font-weight: bold\">]</span>=<span style=\"color: #008080; text-decoration-color: #008080; font-weight: bold\">26</span> param<span style=\"font-weight: bold\">[</span><span style=\"color: #008000; text-decoration-color: #008000\">'aexp'</span><span style=\"font-weight: bold\">]</span>=<span style=\"color: #008080; text-decoration-color: #008080; font-weight: bold\">0.1375000004223509</span> z = <span style=\"color: #008080; text-decoration-color: #008080; font-weight: bold\">6.272727250388052</span>                                          \n",
       "</pre>\n"
      ],
      "text/plain": [
       "param\u001b[1m[\u001b[0m\u001b[32m'nsteps'\u001b[0m\u001b[1m]\u001b[0m=\u001b[1;36m26\u001b[0m param\u001b[1m[\u001b[0m\u001b[32m'aexp'\u001b[0m\u001b[1m]\u001b[0m=\u001b[1;36m0.1375000004223509\u001b[0m z = \u001b[1;36m6.272727250388052\u001b[0m                                          \n"
      ]
     },
     "metadata": {},
     "output_type": "display_data"
    },
    {
     "name": "stdout",
     "output_type": "stream",
     "text": [
      "1.25\n",
      "Step: 27 [0.02152314 0.01808403 0.01522257] [ 0.00265603  0.00092397 -0.0003074 ] [[ 0.07624191  0.12223089  0.14998025 ... -0.04423887 -0.03086239\n",
      "   0.02312446]\n",
      " [ 0.0884369   0.11544156  0.14140809 ... -0.03610456 -0.00391901\n",
      "   0.04620171]\n",
      " [ 0.0451076   0.10237783  0.1619367  ... -0.0023573   0.03566444\n",
      "   0.04565239]\n",
      " ...\n",
      " [-0.01417804 -0.06057763 -0.03804618 ... -0.04559541 -0.06942528\n",
      "  -0.05085862]\n",
      " [-0.01298529 -0.02841753 -0.00536603 ... -0.05594647 -0.06830335\n",
      "  -0.05193388]\n",
      " [ 0.01480103  0.05261523  0.09034383 ... -0.06441563 -0.05296725\n",
      "  -0.02628404]]\n"
     ]
    },
    {
     "data": {
      "text/html": [
       "<pre style=\"white-space:pre;overflow-x:auto;line-height:normal;font-family:Menlo,'DejaVu Sans Mono',consolas,'Courier New',monospace\">Snapshot written at <span style=\"color: #808000; text-decoration-color: #808000\">...</span><span style=\"color: #808000; text-decoration-color: #808000\">filename</span>=<span style=\"color: #008000; text-decoration-color: #008000\">'./ptest-c//output_00015/particles_eft_multigrid_ncoarse5.h5'</span>                      \n",
       "param<span style=\"font-weight: bold\">[</span><span style=\"color: #008000; text-decoration-color: #008000\">'aexp'</span><span style=\"font-weight: bold\">]</span>=<span style=\"color: #008080; text-decoration-color: #008080; font-weight: bold\">0.14285714285714285</span>                                                                                  \n",
       "</pre>\n"
      ],
      "text/plain": [
       "Snapshot written at \u001b[33m...\u001b[0m\u001b[33mfilename\u001b[0m=\u001b[32m'./ptest-c//output_00015/particles_eft_multigrid_ncoarse5.h5'\u001b[0m                      \n",
       "param\u001b[1m[\u001b[0m\u001b[32m'aexp'\u001b[0m\u001b[1m]\u001b[0m=\u001b[1;36m0.14285714285714285\u001b[0m                                                                                  \n"
      ]
     },
     "metadata": {},
     "output_type": "display_data"
    },
    {
     "data": {
      "text/html": [
       "<pre style=\"white-space:pre;overflow-x:auto;line-height:normal;font-family:Menlo,'DejaVu Sans Mono',consolas,'Courier New',monospace\">param<span style=\"font-weight: bold\">[</span><span style=\"color: #008000; text-decoration-color: #008000\">'nsteps'</span><span style=\"font-weight: bold\">]</span>=<span style=\"color: #008080; text-decoration-color: #008080; font-weight: bold\">27</span> param<span style=\"font-weight: bold\">[</span><span style=\"color: #008000; text-decoration-color: #008000\">'aexp'</span><span style=\"font-weight: bold\">]</span>=<span style=\"color: #008080; text-decoration-color: #008080; font-weight: bold\">0.14285714285714285</span> z = <span style=\"color: #008080; text-decoration-color: #008080; font-weight: bold\">6.0</span>                                                       \n",
       "</pre>\n"
      ],
      "text/plain": [
       "param\u001b[1m[\u001b[0m\u001b[32m'nsteps'\u001b[0m\u001b[1m]\u001b[0m=\u001b[1;36m27\u001b[0m param\u001b[1m[\u001b[0m\u001b[32m'aexp'\u001b[0m\u001b[1m]\u001b[0m=\u001b[1;36m0.14285714285714285\u001b[0m z = \u001b[1;36m6.0\u001b[0m                                                       \n"
      ]
     },
     "metadata": {},
     "output_type": "display_data"
    },
    {
     "name": "stdout",
     "output_type": "stream",
     "text": [
      "1.25\n",
      "Step: 28 [0.02222846 0.01832851 0.01513943] [ 0.00312053  0.00107789 -0.00037597] [[ 0.09412694  0.15153408  0.18211555 ... -0.05467165 -0.03699464\n",
      "   0.02814221]\n",
      " [ 0.10989869  0.14448857  0.17236811 ... -0.04593188 -0.00436521\n",
      "   0.05725789]\n",
      " [ 0.06024098  0.13034749  0.19859433 ... -0.00570846  0.04228497\n",
      "   0.05708456]\n",
      " ...\n",
      " [-0.02124214 -0.07427353 -0.04567909 ... -0.05580807 -0.08459806\n",
      "  -0.06281102]\n",
      " [-0.01595289 -0.03317916 -0.00609887 ... -0.06771731 -0.08301353\n",
      "  -0.0610494 ]\n",
      " [ 0.02003407  0.06511229  0.10750955 ... -0.07642502 -0.06371385\n",
      "  -0.03013271]]\n"
     ]
    },
    {
     "data": {
      "text/html": [
       "<pre style=\"white-space:pre;overflow-x:auto;line-height:normal;font-family:Menlo,'DejaVu Sans Mono',consolas,'Courier New',monospace\">param<span style=\"font-weight: bold\">[</span><span style=\"color: #008000; text-decoration-color: #008000\">'nsteps'</span><span style=\"font-weight: bold\">]</span>=<span style=\"color: #008080; text-decoration-color: #008080; font-weight: bold\">28</span> param<span style=\"font-weight: bold\">[</span><span style=\"color: #008000; text-decoration-color: #008000\">'aexp'</span><span style=\"font-weight: bold\">]</span>=<span style=\"color: #008080; text-decoration-color: #008080; font-weight: bold\">0.15714285739197312</span> z = <span style=\"color: #008080; text-decoration-color: #008080; font-weight: bold\">5.363636353548196</span>                                         \n",
       "</pre>\n"
      ],
      "text/plain": [
       "param\u001b[1m[\u001b[0m\u001b[32m'nsteps'\u001b[0m\u001b[1m]\u001b[0m=\u001b[1;36m28\u001b[0m param\u001b[1m[\u001b[0m\u001b[32m'aexp'\u001b[0m\u001b[1m]\u001b[0m=\u001b[1;36m0.15714285739197312\u001b[0m z = \u001b[1;36m5.363636353548196\u001b[0m                                         \n"
      ]
     },
     "metadata": {},
     "output_type": "display_data"
    },
    {
     "name": "stdout",
     "output_type": "stream",
     "text": [
      "1.25\n",
      "Step: 29 [0.02270717 0.01849356 0.0150811 ] [ 0.00344602  0.00118608 -0.00042506] [[ 0.10741901  0.17326975  0.20534188 ... -0.06235337 -0.04137516\n",
      "   0.03185964]\n",
      " [ 0.12591088  0.16618502  0.19491935 ... -0.05333626 -0.00465441\n",
      "   0.06549537]\n",
      " [ 0.07192862  0.15162873  0.22612965 ... -0.00854158  0.04698491\n",
      "   0.06563973]\n",
      " ...\n",
      " [-0.02686715 -0.08421916 -0.05116904 ... -0.06340933 -0.09567821\n",
      "  -0.07167697]\n",
      " [-0.01814842 -0.03648114 -0.0067035  ... -0.07629085 -0.09366274\n",
      "  -0.06749415]\n",
      " [ 0.02406836  0.07430887  0.11956972 ... -0.08500254 -0.07140815\n",
      "  -0.03272116]]\n"
     ]
    },
    {
     "data": {
      "text/html": [
       "<pre style=\"white-space:pre;overflow-x:auto;line-height:normal;font-family:Menlo,'DejaVu Sans Mono',consolas,'Courier New',monospace\">Snapshot written at <span style=\"color: #808000; text-decoration-color: #808000\">...</span><span style=\"color: #808000; text-decoration-color: #808000\">filename</span>=<span style=\"color: #008000; text-decoration-color: #008000\">'./ptest-c//output_00016/particles_eft_multigrid_ncoarse5.h5'</span>                      \n",
       "param<span style=\"font-weight: bold\">[</span><span style=\"color: #008000; text-decoration-color: #008000\">'aexp'</span><span style=\"font-weight: bold\">]</span>=<span style=\"color: #008080; text-decoration-color: #008080; font-weight: bold\">0.16666666666666669</span>                                                                                  \n",
       "</pre>\n"
      ],
      "text/plain": [
       "Snapshot written at \u001b[33m...\u001b[0m\u001b[33mfilename\u001b[0m=\u001b[32m'./ptest-c//output_00016/particles_eft_multigrid_ncoarse5.h5'\u001b[0m                      \n",
       "param\u001b[1m[\u001b[0m\u001b[32m'aexp'\u001b[0m\u001b[1m]\u001b[0m=\u001b[1;36m0.16666666666666669\u001b[0m                                                                                  \n"
      ]
     },
     "metadata": {},
     "output_type": "display_data"
    },
    {
     "data": {
      "text/html": [
       "<pre style=\"white-space:pre;overflow-x:auto;line-height:normal;font-family:Menlo,'DejaVu Sans Mono',consolas,'Courier New',monospace\">param<span style=\"font-weight: bold\">[</span><span style=\"color: #008000; text-decoration-color: #008000\">'nsteps'</span><span style=\"font-weight: bold\">]</span>=<span style=\"color: #008080; text-decoration-color: #008080; font-weight: bold\">29</span> param<span style=\"font-weight: bold\">[</span><span style=\"color: #008000; text-decoration-color: #008000\">'aexp'</span><span style=\"font-weight: bold\">]</span>=<span style=\"color: #008080; text-decoration-color: #008080; font-weight: bold\">0.16666666666666669</span> z = <span style=\"color: #008080; text-decoration-color: #008080; font-weight: bold\">4.999999999999999</span>                                         \n",
       "</pre>\n"
      ],
      "text/plain": [
       "param\u001b[1m[\u001b[0m\u001b[32m'nsteps'\u001b[0m\u001b[1m]\u001b[0m=\u001b[1;36m29\u001b[0m param\u001b[1m[\u001b[0m\u001b[32m'aexp'\u001b[0m\u001b[1m]\u001b[0m=\u001b[1;36m0.16666666666666669\u001b[0m z = \u001b[1;36m4.999999999999999\u001b[0m                                         \n"
      ]
     },
     "metadata": {},
     "output_type": "display_data"
    },
    {
     "name": "stdout",
     "output_type": "stream",
     "text": [
      "1.25\n",
      "Step: 30 [0.02355437 0.01878446 0.01497484] [ 0.00404861  0.00138737 -0.00051794] [[ 0.13340557  0.21576262  0.24957836 ... -0.07718873 -0.04957151\n",
      "   0.03911555]\n",
      " [ 0.15731895  0.20908976  0.23900175 ... -0.06798375 -0.00512993\n",
      "   0.08162272]\n",
      " [ 0.09567285  0.19463468  0.28111434 ... -0.01472783  0.05572855\n",
      "   0.08248377]\n",
      " ...\n",
      " [-0.03860366 -0.10304844 -0.06151652 ... -0.07830691 -0.11700797\n",
      "  -0.08932817]\n",
      " [-0.02242887 -0.04246855 -0.00807023 ... -0.09272003 -0.11387277\n",
      "  -0.07947552]\n",
      " [ 0.03219843  0.09205127  0.14169943 ... -0.10108411 -0.0858376\n",
      "  -0.0372479 ]]\n"
     ]
    },
    {
     "data": {
      "text/html": [
       "<pre style=\"white-space:pre;overflow-x:auto;line-height:normal;font-family:Menlo,'DejaVu Sans Mono',consolas,'Courier New',monospace\">param<span style=\"font-weight: bold\">[</span><span style=\"color: #008000; text-decoration-color: #008000\">'nsteps'</span><span style=\"font-weight: bold\">]</span>=<span style=\"color: #008080; text-decoration-color: #008080; font-weight: bold\">30</span> param<span style=\"font-weight: bold\">[</span><span style=\"color: #008000; text-decoration-color: #008000\">'aexp'</span><span style=\"font-weight: bold\">]</span>=<span style=\"color: #008080; text-decoration-color: #008080; font-weight: bold\">0.18333333282846506</span> z = <span style=\"color: #008080; text-decoration-color: #008080; font-weight: bold\">4.4545454695663285</span>                                        \n",
       "</pre>\n"
      ],
      "text/plain": [
       "param\u001b[1m[\u001b[0m\u001b[32m'nsteps'\u001b[0m\u001b[1m]\u001b[0m=\u001b[1;36m30\u001b[0m param\u001b[1m[\u001b[0m\u001b[32m'aexp'\u001b[0m\u001b[1m]\u001b[0m=\u001b[1;36m0.18333333282846506\u001b[0m z = \u001b[1;36m4.4545454695663285\u001b[0m                                        \n"
      ]
     },
     "metadata": {},
     "output_type": "display_data"
    },
    {
     "name": "stdout",
     "output_type": "stream",
     "text": [
      "1.25\n",
      "Step: 31 [0.02441715 0.01907967 0.01486285] [ 0.00468974  0.00160309 -0.00061909] [[ 0.1632334   0.26496506  0.29804575 ... -0.09390008 -0.05844855\n",
      "   0.04741788]\n",
      " [ 0.19359052  0.25953507  0.28935146 ... -0.0848819  -0.00556958\n",
      "   0.10012543]\n",
      " [ 0.12455511  0.24681962  0.34561086 ... -0.02218282  0.06495583\n",
      "   0.10197401]\n",
      " ...\n",
      " [-0.05306411 -0.12330592 -0.07238233 ... -0.09542167 -0.14094472\n",
      "  -0.11012328]\n",
      " [-0.02733397 -0.04865146 -0.00989747 ... -0.11105609 -0.13615644\n",
      "  -0.09240949]\n",
      " [ 0.04179955  0.11202705  0.16401076 ... -0.1185745  -0.10149813\n",
      "  -0.04171717]]\n"
     ]
    },
    {
     "data": {
      "text/html": [
       "<pre style=\"white-space:pre;overflow-x:auto;line-height:normal;font-family:Menlo,'DejaVu Sans Mono',consolas,'Courier New',monospace\">Snapshot written at <span style=\"color: #808000; text-decoration-color: #808000\">...</span><span style=\"color: #808000; text-decoration-color: #808000\">filename</span>=<span style=\"color: #008000; text-decoration-color: #008000\">'./ptest-c//output_00017/particles_eft_multigrid_ncoarse5.h5'</span> param<span style=\"font-weight: bold\">[</span><span style=\"color: #008000; text-decoration-color: #008000\">'aexp'</span><span style=\"font-weight: bold\">]</span>=<span style=\"color: #008080; text-decoration-color: #008080; font-weight: bold\">0.2</span>    \n",
       "</pre>\n"
      ],
      "text/plain": [
       "Snapshot written at \u001b[33m...\u001b[0m\u001b[33mfilename\u001b[0m=\u001b[32m'./ptest-c//output_00017/particles_eft_multigrid_ncoarse5.h5'\u001b[0m param\u001b[1m[\u001b[0m\u001b[32m'aexp'\u001b[0m\u001b[1m]\u001b[0m=\u001b[1;36m0.2\u001b[0m    \n"
      ]
     },
     "metadata": {},
     "output_type": "display_data"
    },
    {
     "data": {
      "text/html": [
       "<pre style=\"white-space:pre;overflow-x:auto;line-height:normal;font-family:Menlo,'DejaVu Sans Mono',consolas,'Courier New',monospace\">param<span style=\"font-weight: bold\">[</span><span style=\"color: #008000; text-decoration-color: #008000\">'nsteps'</span><span style=\"font-weight: bold\">]</span>=<span style=\"color: #008080; text-decoration-color: #008080; font-weight: bold\">31</span> param<span style=\"font-weight: bold\">[</span><span style=\"color: #008000; text-decoration-color: #008000\">'aexp'</span><span style=\"font-weight: bold\">]</span>=<span style=\"color: #008080; text-decoration-color: #008080; font-weight: bold\">0.2</span> z = <span style=\"color: #008080; text-decoration-color: #008080; font-weight: bold\">4.0</span>                                                                       \n",
       "</pre>\n"
      ],
      "text/plain": [
       "param\u001b[1m[\u001b[0m\u001b[32m'nsteps'\u001b[0m\u001b[1m]\u001b[0m=\u001b[1;36m31\u001b[0m param\u001b[1m[\u001b[0m\u001b[32m'aexp'\u001b[0m\u001b[1m]\u001b[0m=\u001b[1;36m0.2\u001b[0m z = \u001b[1;36m4.0\u001b[0m                                                                       \n"
      ]
     },
     "metadata": {},
     "output_type": "display_data"
    },
    {
     "name": "stdout",
     "output_type": "stream",
     "text": [
      "1.25\n",
      "Step: 32 [0.02546965 0.01943913 0.01472182] [ 0.00550988  0.00188168 -0.0007516 ] [[ 0.20512438  0.33341026  0.3562889  ... -0.11641216 -0.0699656\n",
      "   0.05889177]\n",
      " [ 0.24511623  0.33072925  0.3528682  ... -0.10786188 -0.00599551\n",
      "   0.12596059]\n",
      " [ 0.1683371   0.32223582  0.43187714 ... -0.03247833  0.07677364\n",
      "   0.12987423]\n",
      " ...\n",
      " [-0.07013655 -0.145177   -0.08399022 ... -0.11899829 -0.17235875\n",
      "  -0.13575578]\n",
      " [-0.0337975  -0.05518579 -0.01462817 ... -0.1356759  -0.16572452\n",
      "  -0.10964322]\n",
      " [ 0.05544782  0.1389972   0.18670428 ... -0.14143014 -0.12187505\n",
      "  -0.04696012]]\n"
     ]
    },
    {
     "data": {
      "text/html": [
       "<pre style=\"white-space:pre;overflow-x:auto;line-height:normal;font-family:Menlo,'DejaVu Sans Mono',consolas,'Courier New',monospace\">param<span style=\"font-weight: bold\">[</span><span style=\"color: #008000; text-decoration-color: #008000\">'nsteps'</span><span style=\"font-weight: bold\">]</span>=<span style=\"color: #008080; text-decoration-color: #008080; font-weight: bold\">32</span> param<span style=\"font-weight: bold\">[</span><span style=\"color: #008000; text-decoration-color: #008000\">'aexp'</span><span style=\"font-weight: bold\">]</span>=<span style=\"color: #008080; text-decoration-color: #008080; font-weight: bold\">0.21999999996869113</span> z = <span style=\"color: #008080; text-decoration-color: #008080; font-weight: bold\">3.545454546101423</span>                                         \n",
       "</pre>\n"
      ],
      "text/plain": [
       "param\u001b[1m[\u001b[0m\u001b[32m'nsteps'\u001b[0m\u001b[1m]\u001b[0m=\u001b[1;36m32\u001b[0m param\u001b[1m[\u001b[0m\u001b[32m'aexp'\u001b[0m\u001b[1m]\u001b[0m=\u001b[1;36m0.21999999996869113\u001b[0m z = \u001b[1;36m3.545454546101423\u001b[0m                                         \n"
      ]
     },
     "metadata": {},
     "output_type": "display_data"
    },
    {
     "name": "stdout",
     "output_type": "stream",
     "text": [
      "1.25\n",
      "Step: 33 [0.02664867 0.01984176 0.01455868] [ 0.00647412  0.00221289 -0.00091152] [[ 0.26112938  0.42242265  0.41133165 ... -0.1440587  -0.08362651\n",
      "   0.07395887]\n",
      " [ 0.31465006  0.42252254  0.41958737 ... -0.13537097 -0.00582194\n",
      "   0.16081786]\n",
      " [ 0.2298255   0.41950536  0.5330219  ... -0.04601455  0.09121442\n",
      "   0.16823792]\n",
      " ...\n",
      " [-0.08665347 -0.16345859 -0.09942162 ... -0.14776373 -0.20726418\n",
      "  -0.16304994]\n",
      " [-0.0421989  -0.05936837 -0.02444029 ... -0.16586995 -0.2006259\n",
      "  -0.1308639 ]\n",
      " [ 0.0740633   0.17411184  0.20226789 ... -0.16893649 -0.1461134\n",
      "  -0.05235553]]\n"
     ]
    },
    {
     "data": {
      "text/html": [
       "<pre style=\"white-space:pre;overflow-x:auto;line-height:normal;font-family:Menlo,'DejaVu Sans Mono',consolas,'Courier New',monospace\">param<span style=\"font-weight: bold\">[</span><span style=\"color: #008000; text-decoration-color: #008000\">'nsteps'</span><span style=\"font-weight: bold\">]</span>=<span style=\"color: #008080; text-decoration-color: #008080; font-weight: bold\">33</span> param<span style=\"font-weight: bold\">[</span><span style=\"color: #008000; text-decoration-color: #008000\">'aexp'</span><span style=\"font-weight: bold\">]</span>=<span style=\"color: #008080; text-decoration-color: #008080; font-weight: bold\">0.24199999989765836</span> z = <span style=\"color: #008080; text-decoration-color: #008080; font-weight: bold\">3.132231406706196</span>                                         \n",
       "</pre>\n"
      ],
      "text/plain": [
       "param\u001b[1m[\u001b[0m\u001b[32m'nsteps'\u001b[0m\u001b[1m]\u001b[0m=\u001b[1;36m33\u001b[0m param\u001b[1m[\u001b[0m\u001b[32m'aexp'\u001b[0m\u001b[1m]\u001b[0m=\u001b[1;36m0.24199999989765836\u001b[0m z = \u001b[1;36m3.132231406706196\u001b[0m                                         \n"
      ]
     },
     "metadata": {},
     "output_type": "display_data"
    },
    {
     "name": "stdout",
     "output_type": "stream",
     "text": [
      "1.25\n",
      "Step: 34 [0.02708477 0.01999087 0.01449697] [ 0.00683927  0.00233921 -0.00097314] [[ 0.28455544  0.45826054  0.42803192 ... -0.15441585 -0.08875084\n",
      "   0.08025503]\n",
      " [ 0.34361744  0.4591744   0.44129825 ... -0.1452837  -0.00543737\n",
      "   0.17560434]\n",
      " [ 0.25578737  0.45833635  0.5701797  ... -0.05163264  0.09612441\n",
      "   0.18394876]\n",
      " ...\n",
      " [-0.09162092 -0.16852951 -0.10710597 ... -0.1582365  -0.21957445\n",
      "  -0.1722815 ]\n",
      " [-0.04470611 -0.0591538  -0.02980471 ... -0.1774931  -0.21332312\n",
      "  -0.13827825]\n",
      " [ 0.08216882  0.18868446  0.20473361 ... -0.17949247 -0.15543103\n",
      "  -0.05413485]]\n"
     ]
    },
    {
     "data": {
      "text/html": [
       "<pre style=\"white-space:pre;overflow-x:auto;line-height:normal;font-family:Menlo,'DejaVu Sans Mono',consolas,'Courier New',monospace\">Snapshot written at <span style=\"color: #808000; text-decoration-color: #808000\">...</span><span style=\"color: #808000; text-decoration-color: #808000\">filename</span>=<span style=\"color: #008000; text-decoration-color: #008000\">'./ptest-c//output_00018/particles_eft_multigrid_ncoarse5.h5'</span> param<span style=\"font-weight: bold\">[</span><span style=\"color: #008000; text-decoration-color: #008000\">'aexp'</span><span style=\"font-weight: bold\">]</span>=<span style=\"color: #008080; text-decoration-color: #008080; font-weight: bold\">0.25</span>   \n",
       "</pre>\n"
      ],
      "text/plain": [
       "Snapshot written at \u001b[33m...\u001b[0m\u001b[33mfilename\u001b[0m=\u001b[32m'./ptest-c//output_00018/particles_eft_multigrid_ncoarse5.h5'\u001b[0m param\u001b[1m[\u001b[0m\u001b[32m'aexp'\u001b[0m\u001b[1m]\u001b[0m=\u001b[1;36m0.25\u001b[0m   \n"
      ]
     },
     "metadata": {},
     "output_type": "display_data"
    },
    {
     "data": {
      "text/html": [
       "<pre style=\"white-space:pre;overflow-x:auto;line-height:normal;font-family:Menlo,'DejaVu Sans Mono',consolas,'Courier New',monospace\">param<span style=\"font-weight: bold\">[</span><span style=\"color: #008000; text-decoration-color: #008000\">'nsteps'</span><span style=\"font-weight: bold\">]</span>=<span style=\"color: #008080; text-decoration-color: #008080; font-weight: bold\">34</span> param<span style=\"font-weight: bold\">[</span><span style=\"color: #008000; text-decoration-color: #008000\">'aexp'</span><span style=\"font-weight: bold\">]</span>=<span style=\"color: #008080; text-decoration-color: #008080; font-weight: bold\">0.25</span> z = <span style=\"color: #008080; text-decoration-color: #008080; font-weight: bold\">3.0</span>                                                                      \n",
       "</pre>\n"
      ],
      "text/plain": [
       "param\u001b[1m[\u001b[0m\u001b[32m'nsteps'\u001b[0m\u001b[1m]\u001b[0m=\u001b[1;36m34\u001b[0m param\u001b[1m[\u001b[0m\u001b[32m'aexp'\u001b[0m\u001b[1m]\u001b[0m=\u001b[1;36m0.25\u001b[0m z = \u001b[1;36m3.0\u001b[0m                                                                      \n"
      ]
     },
     "metadata": {},
     "output_type": "display_data"
    },
    {
     "name": "stdout",
     "output_type": "stream",
     "text": [
      "1.25\n",
      "Step: 35 [0.02845785 0.02046095 0.01429887] [ 0.00803954  0.00275761 -0.00118049] [[ 0.36781836  0.5786238   0.46864223 ... -0.18539357 -0.10476947\n",
      "   0.10349154]\n",
      " [ 0.4439857   0.583251    0.49755454 ... -0.17762733 -0.00256133\n",
      "   0.22870445]\n",
      " [ 0.34492397  0.59075975  0.6828344  ... -0.07093406  0.11251783\n",
      "   0.23654366]\n",
      " ...\n",
      " [-0.10600162 -0.18307686 -0.1369462  ... -0.1891346  -0.25560308\n",
      "  -0.19834661]\n",
      " [-0.04875994 -0.05384159 -0.05318046 ... -0.21351004 -0.2516353\n",
      "  -0.15871358]\n",
      " [ 0.11261868  0.23791623  0.2029779  ... -0.21209192 -0.18502593\n",
      "  -0.05899644]]\n"
     ]
    },
    {
     "data": {
      "text/html": [
       "<pre style=\"white-space:pre;overflow-x:auto;line-height:normal;font-family:Menlo,'DejaVu Sans Mono',consolas,'Courier New',monospace\">param<span style=\"font-weight: bold\">[</span><span style=\"color: #008000; text-decoration-color: #008000\">'nsteps'</span><span style=\"font-weight: bold\">]</span>=<span style=\"color: #008080; text-decoration-color: #008080; font-weight: bold\">35</span> param<span style=\"font-weight: bold\">[</span><span style=\"color: #008000; text-decoration-color: #008000\">'aexp'</span><span style=\"font-weight: bold\">]</span>=<span style=\"color: #008080; text-decoration-color: #008080; font-weight: bold\">0.27499999986292756</span> z = <span style=\"color: #008080; text-decoration-color: #008080; font-weight: bold\">2.6363636381761646</span>                                        \n",
       "</pre>\n"
      ],
      "text/plain": [
       "param\u001b[1m[\u001b[0m\u001b[32m'nsteps'\u001b[0m\u001b[1m]\u001b[0m=\u001b[1;36m35\u001b[0m param\u001b[1m[\u001b[0m\u001b[32m'aexp'\u001b[0m\u001b[1m]\u001b[0m=\u001b[1;36m0.27499999986292756\u001b[0m z = \u001b[1;36m2.6363636381761646\u001b[0m                                        \n"
      ]
     },
     "metadata": {},
     "output_type": "display_data"
    },
    {
     "name": "stdout",
     "output_type": "stream",
     "text": [
      "1.25\n",
      "Step: 36 [0.02999702 0.0209897  0.01406967] [ 0.00945409  0.0032557  -0.00143408] [[ 0.47588253  0.72048426  0.49796605 ... -0.21889305 -0.11946535\n",
      "   0.13591146]\n",
      " [ 0.5693474   0.73451376  0.5394373  ... -0.21813941  0.00487804\n",
      "   0.29602718]\n",
      " [ 0.45693684  0.7568946   0.7949877  ... -0.09684849  0.1333065\n",
      "   0.30055285]\n",
      " ...\n",
      " [-0.1198945  -0.19982862 -0.17673492 ... -0.2212081  -0.2908802\n",
      "  -0.22329044]\n",
      " [-0.0482173  -0.04647279 -0.08971214 ... -0.24899673 -0.28934622\n",
      "  -0.17573261]\n",
      " [ 0.15630865  0.29257536  0.18729758 ... -0.2443924  -0.2138853\n",
      "  -0.05856848]]\n"
     ]
    },
    {
     "data": {
      "text/html": [
       "<pre style=\"white-space:pre;overflow-x:auto;line-height:normal;font-family:Menlo,'DejaVu Sans Mono',consolas,'Courier New',monospace\">param<span style=\"font-weight: bold\">[</span><span style=\"color: #008000; text-decoration-color: #008000\">'nsteps'</span><span style=\"font-weight: bold\">]</span>=<span style=\"color: #008080; text-decoration-color: #008080; font-weight: bold\">36</span> param<span style=\"font-weight: bold\">[</span><span style=\"color: #008000; text-decoration-color: #008000\">'aexp'</span><span style=\"font-weight: bold\">]</span>=<span style=\"color: #008080; text-decoration-color: #008080; font-weight: bold\">0.30249999937366523</span> z = <span style=\"color: #008080; text-decoration-color: #008080; font-weight: bold\">2.3057851308116635</span>                                        \n",
       "</pre>\n"
      ],
      "text/plain": [
       "param\u001b[1m[\u001b[0m\u001b[32m'nsteps'\u001b[0m\u001b[1m]\u001b[0m=\u001b[1;36m36\u001b[0m param\u001b[1m[\u001b[0m\u001b[32m'aexp'\u001b[0m\u001b[1m]\u001b[0m=\u001b[1;36m0.30249999937366523\u001b[0m z = \u001b[1;36m2.3057851308116635\u001b[0m                                        \n"
      ]
     },
     "metadata": {},
     "output_type": "display_data"
    },
    {
     "name": "stdout",
     "output_type": "stream",
     "text": [
      "1.25\n",
      "Step: 37 [0.03172309 0.02158528 0.01380396] [ 0.01112225  0.00384961 -0.00174592] [[ 0.6172409   0.8839698   0.513649   ... -0.2599821  -0.13398457\n",
      "   0.17845297]\n",
      " [ 0.7268605   0.91563797  0.5664654  ... -0.27015066  0.01623917\n",
      "   0.37881422]\n",
      " [ 0.5989685   0.9640875   0.89701843 ... -0.13151312  0.15872812\n",
      "   0.38279295]\n",
      " ...\n",
      " [-0.13127518 -0.21886587 -0.22740698 ... -0.2595868  -0.329741\n",
      "  -0.24974012]\n",
      " [-0.0388937  -0.04081059 -0.14191031 ... -0.28332472 -0.32479477\n",
      "  -0.18823195]\n",
      " [ 0.21993256  0.351377    0.15422344 ... -0.2755494  -0.23891973\n",
      "  -0.04679537]]\n"
     ]
    },
    {
     "data": {
      "text/html": [
       "<pre style=\"white-space:pre;overflow-x:auto;line-height:normal;font-family:Menlo,'DejaVu Sans Mono',consolas,'Courier New',monospace\">param<span style=\"font-weight: bold\">[</span><span style=\"color: #008000; text-decoration-color: #008000\">'nsteps'</span><span style=\"font-weight: bold\">]</span>=<span style=\"color: #008080; text-decoration-color: #008080; font-weight: bold\">37</span> param<span style=\"font-weight: bold\">[</span><span style=\"color: #008000; text-decoration-color: #008000\">'aexp'</span><span style=\"font-weight: bold\">]</span>=<span style=\"color: #008080; text-decoration-color: #008080; font-weight: bold\">0.33274999856188375</span> z = <span style=\"color: #008080; text-decoration-color: #008080; font-weight: bold\">2.0052592165947773</span>                                        \n",
       "</pre>\n"
      ],
      "text/plain": [
       "param\u001b[1m[\u001b[0m\u001b[32m'nsteps'\u001b[0m\u001b[1m]\u001b[0m=\u001b[1;36m37\u001b[0m param\u001b[1m[\u001b[0m\u001b[32m'aexp'\u001b[0m\u001b[1m]\u001b[0m=\u001b[1;36m0.33274999856188375\u001b[0m z = \u001b[1;36m2.0052592165947773\u001b[0m                                        \n"
      ]
     },
     "metadata": {},
     "output_type": "display_data"
    },
    {
     "name": "stdout",
     "output_type": "stream",
     "text": [
      "1.25\n",
      "Step: 38 [0.0317569  0.02159698 0.01379865] [ 0.0111554   0.00386148 -0.00175224] [[ 0.62032986  0.8871579   0.5137992  ... -0.260911   -0.13422203\n",
      "   0.17931557]\n",
      " [ 0.73011065  0.9192915   0.56672335 ... -0.27119303  0.01640558\n",
      "   0.38059998]\n",
      " [ 0.60200596  0.96830416  0.89873314 ... -0.1323204   0.15927362\n",
      "   0.38442326]\n",
      " ...\n",
      " [-0.1314249  -0.21923018 -0.22841263 ... -0.2603712  -0.33044958\n",
      "  -0.25017548]\n",
      " [-0.03858042 -0.04068995 -0.1430285  ... -0.28402185 -0.32544374\n",
      "  -0.18839264]\n",
      " [ 0.22137356  0.3524561   0.15336919 ... -0.27607346 -0.23941469\n",
      "  -0.04644442]]\n"
     ]
    },
    {
     "data": {
      "text/html": [
       "<pre style=\"white-space:pre;overflow-x:auto;line-height:normal;font-family:Menlo,'DejaVu Sans Mono',consolas,'Courier New',monospace\">Snapshot written at <span style=\"color: #808000; text-decoration-color: #808000\">...</span><span style=\"color: #808000; text-decoration-color: #808000\">filename</span>=<span style=\"color: #008000; text-decoration-color: #008000\">'./ptest-c//output_00019/particles_eft_multigrid_ncoarse5.h5'</span>                      \n",
       "param<span style=\"font-weight: bold\">[</span><span style=\"color: #008000; text-decoration-color: #008000\">'aexp'</span><span style=\"font-weight: bold\">]</span>=<span style=\"color: #008080; text-decoration-color: #008080; font-weight: bold\">0.3333333333333333</span>                                                                                   \n",
       "</pre>\n"
      ],
      "text/plain": [
       "Snapshot written at \u001b[33m...\u001b[0m\u001b[33mfilename\u001b[0m=\u001b[32m'./ptest-c//output_00019/particles_eft_multigrid_ncoarse5.h5'\u001b[0m                      \n",
       "param\u001b[1m[\u001b[0m\u001b[32m'aexp'\u001b[0m\u001b[1m]\u001b[0m=\u001b[1;36m0.3333333333333333\u001b[0m                                                                                   \n"
      ]
     },
     "metadata": {},
     "output_type": "display_data"
    },
    {
     "data": {
      "text/html": [
       "<pre style=\"white-space:pre;overflow-x:auto;line-height:normal;font-family:Menlo,'DejaVu Sans Mono',consolas,'Courier New',monospace\">param<span style=\"font-weight: bold\">[</span><span style=\"color: #008000; text-decoration-color: #008000\">'nsteps'</span><span style=\"font-weight: bold\">]</span>=<span style=\"color: #008080; text-decoration-color: #008080; font-weight: bold\">38</span> param<span style=\"font-weight: bold\">[</span><span style=\"color: #008000; text-decoration-color: #008000\">'aexp'</span><span style=\"font-weight: bold\">]</span>=<span style=\"color: #008080; text-decoration-color: #008080; font-weight: bold\">0.3333333333333333</span> z = <span style=\"color: #008080; text-decoration-color: #008080; font-weight: bold\">2.0</span>                                                        \n",
       "</pre>\n"
      ],
      "text/plain": [
       "param\u001b[1m[\u001b[0m\u001b[32m'nsteps'\u001b[0m\u001b[1m]\u001b[0m=\u001b[1;36m38\u001b[0m param\u001b[1m[\u001b[0m\u001b[32m'aexp'\u001b[0m\u001b[1m]\u001b[0m=\u001b[1;36m0.3333333333333333\u001b[0m z = \u001b[1;36m2.0\u001b[0m                                                        \n"
      ]
     },
     "metadata": {},
     "output_type": "display_data"
    },
    {
     "name": "stdout",
     "output_type": "stream",
     "text": [
      "1.25\n",
      "Step: 39 [0.03369749 0.02227041 0.01348904] [ 0.01312895  0.00457498 -0.00213933] [[ 0.81782913  1.0689683   0.5128827  ... -0.31252003 -0.14805555\n",
      "   0.23963022]\n",
      " [ 0.9416919   1.1321106   0.5785203  ... -0.33653975  0.03308773\n",
      "   0.48997688]\n",
      " [ 0.7921052   1.2263007   0.9836831  ... -0.17857552  0.18848848\n",
      "   0.49228477]\n",
      " ...\n",
      " [-0.14008379 -0.23825788 -0.2977271  ... -0.30880642 -0.37455797\n",
      "  -0.2745433 ]\n",
      " [-0.01705742 -0.04055166 -0.21607208 ... -0.32308292 -0.36272573\n",
      "  -0.19602203]\n",
      " [ 0.31370592  0.4070835   0.09709835 ... -0.31031895 -0.26324272\n",
      "  -0.02299833]]\n"
     ]
    },
    {
     "data": {
      "text/html": [
       "<pre style=\"white-space:pre;overflow-x:auto;line-height:normal;font-family:Menlo,'DejaVu Sans Mono',consolas,'Courier New',monospace\">param<span style=\"font-weight: bold\">[</span><span style=\"color: #008000; text-decoration-color: #008000\">'nsteps'</span><span style=\"font-weight: bold\">]</span>=<span style=\"color: #008080; text-decoration-color: #008080; font-weight: bold\">39</span> param<span style=\"font-weight: bold\">[</span><span style=\"color: #008000; text-decoration-color: #008000\">'aexp'</span><span style=\"font-weight: bold\">]</span>=<span style=\"color: #008080; text-decoration-color: #008080; font-weight: bold\">0.366666665251145</span> z = <span style=\"color: #008080; text-decoration-color: #008080; font-weight: bold\">1.727272737801401</span>                                           \n",
       "</pre>\n"
      ],
      "text/plain": [
       "param\u001b[1m[\u001b[0m\u001b[32m'nsteps'\u001b[0m\u001b[1m]\u001b[0m=\u001b[1;36m39\u001b[0m param\u001b[1m[\u001b[0m\u001b[32m'aexp'\u001b[0m\u001b[1m]\u001b[0m=\u001b[1;36m0.366666665251145\u001b[0m z = \u001b[1;36m1.727272737801401\u001b[0m                                           \n"
      ]
     },
     "metadata": {},
     "output_type": "display_data"
    },
    {
     "name": "stdout",
     "output_type": "stream",
     "text": [
      "1.25\n",
      "Step: 40 [0.03587545 0.0230319  0.01312814] [ 0.01545694  0.00543447 -0.00262206] [[ 1.093751    1.2583537   0.48706627 ... -0.37527323 -0.15926933\n",
      "   0.3265276 ]\n",
      " [ 1.2380753   1.3720646   0.5704608  ... -0.4172821   0.05677891\n",
      "   0.63774395]\n",
      " [ 1.0573349   1.54885     1.0598612  ... -0.23969507  0.22107887\n",
      "   0.6329899 ]\n",
      " ...\n",
      " [-0.14392614 -0.25896454 -0.3945632  ... -0.36810398 -0.42094135\n",
      "  -0.2901821 ]\n",
      " [ 0.01485395 -0.04476929 -0.31929684 ... -0.3695917  -0.4006405\n",
      "  -0.19229126]\n",
      " [ 0.43927622  0.447474    0.00662565 ... -0.35034323 -0.28463888\n",
      "   0.01851511]]\n"
     ]
    },
    {
     "data": {
      "text/html": [
       "<pre style=\"white-space:pre;overflow-x:auto;line-height:normal;font-family:Menlo,'DejaVu Sans Mono',consolas,'Courier New',monospace\">param<span style=\"font-weight: bold\">[</span><span style=\"color: #008000; text-decoration-color: #008000\">'nsteps'</span><span style=\"font-weight: bold\">]</span>=<span style=\"color: #008080; text-decoration-color: #008080; font-weight: bold\">40</span> param<span style=\"font-weight: bold\">[</span><span style=\"color: #008000; text-decoration-color: #008000\">'aexp'</span><span style=\"font-weight: bold\">]</span>=<span style=\"color: #008080; text-decoration-color: #008080; font-weight: bold\">0.4033333321886691</span> z = <span style=\"color: #008080; text-decoration-color: #008080; font-weight: bold\">1.479338850011596</span>                                          \n",
       "</pre>\n"
      ],
      "text/plain": [
       "param\u001b[1m[\u001b[0m\u001b[32m'nsteps'\u001b[0m\u001b[1m]\u001b[0m=\u001b[1;36m40\u001b[0m param\u001b[1m[\u001b[0m\u001b[32m'aexp'\u001b[0m\u001b[1m]\u001b[0m=\u001b[1;36m0.4033333321886691\u001b[0m z = \u001b[1;36m1.479338850011596\u001b[0m                                          \n"
      ]
     },
     "metadata": {},
     "output_type": "display_data"
    },
    {
     "name": "stdout",
     "output_type": "stream",
     "text": [
      "1.25\n",
      "Step: 41 [0.03832065 0.02389547 0.01270556] [ 0.01820485  0.00647682 -0.00323033] [[ 1.4675341   1.4414396   0.41843414 ... -0.44955254 -0.16503048\n",
      "   0.4547882 ]\n",
      " [ 1.6511478   1.6321688   0.53566074 ... -0.5167942   0.09003735\n",
      "   0.83886623]\n",
      " [ 1.4392357   1.9380531   1.1224089  ... -0.31966686  0.25583363\n",
      "   0.8176527 ]\n",
      " ...\n",
      " [-0.14063168 -0.2858734  -0.5313206  ... -0.43963814 -0.46662712\n",
      "  -0.2892952 ]\n",
      " [ 0.05657101 -0.05515671 -0.464468   ... -0.4222021  -0.43468857\n",
      "  -0.16878986]\n",
      " [ 0.5967474   0.46714973 -0.13491583 ... -0.3961649  -0.29975033\n",
      "   0.09004116]]\n"
     ]
    },
    {
     "data": {
      "text/html": [
       "<pre style=\"white-space:pre;overflow-x:auto;line-height:normal;font-family:Menlo,'DejaVu Sans Mono',consolas,'Courier New',monospace\">param<span style=\"font-weight: bold\">[</span><span style=\"color: #008000; text-decoration-color: #008000\">'nsteps'</span><span style=\"font-weight: bold\">]</span>=<span style=\"color: #008080; text-decoration-color: #008080; font-weight: bold\">41</span> param<span style=\"font-weight: bold\">[</span><span style=\"color: #008000; text-decoration-color: #008000\">'aexp'</span><span style=\"font-weight: bold\">]</span>=<span style=\"color: #008080; text-decoration-color: #008080; font-weight: bold\">0.44366666725922005</span> z = <span style=\"color: #008080; text-decoration-color: #008080; font-weight: bold\">1.2539443996944049</span>                                        \n",
       "</pre>\n"
      ],
      "text/plain": [
       "param\u001b[1m[\u001b[0m\u001b[32m'nsteps'\u001b[0m\u001b[1m]\u001b[0m=\u001b[1;36m41\u001b[0m param\u001b[1m[\u001b[0m\u001b[32m'aexp'\u001b[0m\u001b[1m]\u001b[0m=\u001b[1;36m0.44366666725922005\u001b[0m z = \u001b[1;36m1.2539443996944049\u001b[0m                                        \n"
      ]
     },
     "metadata": {},
     "output_type": "display_data"
    },
    {
     "name": "stdout",
     "output_type": "stream",
     "text": [
      "1.25\n",
      "Step: 42 [0.04106706 0.02487836 0.01220795] [ 0.0214522   0.00775043 -0.00400385] [[ 1.9542189   1.5899773   0.27435875 ... -0.5367403  -0.16095066\n",
      "   0.65032196]\n",
      " [ 2.2254066   1.8741369   0.4338684  ... -0.6383486   0.1363554\n",
      "   1.1226444 ]\n",
      " [ 2.0211296   2.348712    1.1003437  ... -0.4223528   0.28907204\n",
      "   1.074892  ]\n",
      " ...\n",
      " [-0.12947941 -0.32979584 -0.725193   ... -0.5280771  -0.5074148\n",
      "  -0.26086044]\n",
      " [ 0.10837746 -0.07678127 -0.66471624 ... -0.48044968 -0.45985603\n",
      "  -0.11426735]\n",
      " [ 0.7826109   0.45532036 -0.3462839  ... -0.44758797 -0.30331898\n",
      "   0.20806217]]\n"
     ]
    },
    {
     "data": {
      "text/html": [
       "<pre style=\"white-space:pre;overflow-x:auto;line-height:normal;font-family:Menlo,'DejaVu Sans Mono',consolas,'Courier New',monospace\">param<span style=\"font-weight: bold\">[</span><span style=\"color: #008000; text-decoration-color: #008000\">'nsteps'</span><span style=\"font-weight: bold\">]</span>=<span style=\"color: #008080; text-decoration-color: #008080; font-weight: bold\">42</span> param<span style=\"font-weight: bold\">[</span><span style=\"color: #008000; text-decoration-color: #008000\">'aexp'</span><span style=\"font-weight: bold\">]</span>=<span style=\"color: #008080; text-decoration-color: #008080; font-weight: bold\">0.4880333332986013</span> z = <span style=\"color: #008080; text-decoration-color: #008080; font-weight: bold\">1.0490403662410368</span>                                         \n",
       "</pre>\n"
      ],
      "text/plain": [
       "param\u001b[1m[\u001b[0m\u001b[32m'nsteps'\u001b[0m\u001b[1m]\u001b[0m=\u001b[1;36m42\u001b[0m param\u001b[1m[\u001b[0m\u001b[32m'aexp'\u001b[0m\u001b[1m]\u001b[0m=\u001b[1;36m0.4880333332986013\u001b[0m z = \u001b[1;36m1.0490403662410368\u001b[0m                                         \n"
      ]
     },
     "metadata": {},
     "output_type": "display_data"
    },
    {
     "name": "stdout",
     "output_type": "stream",
     "text": [
      "1.25\n",
      "Step: 43 [0.04182173 0.02515158 0.01206619] [ 0.02236427  0.00811584 -0.00423084] [[ 2.0977898   1.6094351   0.21612358 ... -0.5612316  -0.15747547\n",
      "   0.7159262 ]\n",
      " [ 2.4082222   1.9192257   0.38679886 ... -0.67310715  0.15097141\n",
      "   1.216506  ]\n",
      " [ 2.2108088   2.4407873   1.0722008  ... -0.45197487  0.29546833\n",
      "   1.1589699 ]\n",
      " ...\n",
      " [-0.12527847 -0.3458004  -0.78630114 ... -0.5540161  -0.5159321\n",
      "  -0.24746132]\n",
      " [ 0.12337399 -0.08524609 -0.72360754 ... -0.49597645 -0.4638691\n",
      "  -0.09372044]\n",
      " [ 0.8337412   0.4464283  -0.41061592 ... -0.46157742 -0.3014307\n",
      "   0.24825954]]\n"
     ]
    },
    {
     "data": {
      "text/html": [
       "<pre style=\"white-space:pre;overflow-x:auto;line-height:normal;font-family:Menlo,'DejaVu Sans Mono',consolas,'Courier New',monospace\">Snapshot written at <span style=\"color: #808000; text-decoration-color: #808000\">...</span><span style=\"color: #808000; text-decoration-color: #808000\">filename</span>=<span style=\"color: #008000; text-decoration-color: #008000\">'./ptest-c//output_00020/particles_eft_multigrid_ncoarse5.h5'</span> param<span style=\"font-weight: bold\">[</span><span style=\"color: #008000; text-decoration-color: #008000\">'aexp'</span><span style=\"font-weight: bold\">]</span>=<span style=\"color: #008080; text-decoration-color: #008080; font-weight: bold\">0.5</span>    \n",
       "</pre>\n"
      ],
      "text/plain": [
       "Snapshot written at \u001b[33m...\u001b[0m\u001b[33mfilename\u001b[0m=\u001b[32m'./ptest-c//output_00020/particles_eft_multigrid_ncoarse5.h5'\u001b[0m param\u001b[1m[\u001b[0m\u001b[32m'aexp'\u001b[0m\u001b[1m]\u001b[0m=\u001b[1;36m0.5\u001b[0m    \n"
      ]
     },
     "metadata": {},
     "output_type": "display_data"
    },
    {
     "data": {
      "text/html": [
       "<pre style=\"white-space:pre;overflow-x:auto;line-height:normal;font-family:Menlo,'DejaVu Sans Mono',consolas,'Courier New',monospace\">param<span style=\"font-weight: bold\">[</span><span style=\"color: #008000; text-decoration-color: #008000\">'nsteps'</span><span style=\"font-weight: bold\">]</span>=<span style=\"color: #008080; text-decoration-color: #008080; font-weight: bold\">43</span> param<span style=\"font-weight: bold\">[</span><span style=\"color: #008000; text-decoration-color: #008000\">'aexp'</span><span style=\"font-weight: bold\">]</span>=<span style=\"color: #008080; text-decoration-color: #008080; font-weight: bold\">0.5</span> z = <span style=\"color: #008080; text-decoration-color: #008080; font-weight: bold\">1.0</span>                                                                       \n",
       "</pre>\n"
      ],
      "text/plain": [
       "param\u001b[1m[\u001b[0m\u001b[32m'nsteps'\u001b[0m\u001b[1m]\u001b[0m=\u001b[1;36m43\u001b[0m param\u001b[1m[\u001b[0m\u001b[32m'aexp'\u001b[0m\u001b[1m]\u001b[0m=\u001b[1;36m0.5\u001b[0m z = \u001b[1;36m1.0\u001b[0m                                                                       \n"
      ]
     },
     "metadata": {},
     "output_type": "display_data"
    },
    {
     "name": "stdout",
     "output_type": "stream",
     "text": [
      "1.25\n",
      "Step: 44 [0.04263464 0.02544727 0.01191133] [ 0.02336065  0.00851936 -0.00448406] [[ 2.2580633   1.6184816   0.1471262  ... -0.5878639  -0.15249634\n",
      "   0.794528  ]\n",
      " [ 2.6148415   1.9531984   0.32618046 ... -0.71119595  0.16799355\n",
      "   1.3287096 ]\n",
      " [ 2.4267406   2.5255995   1.0308075  ... -0.48477745  0.3016348\n",
      "   1.2565479 ]\n",
      " ...\n",
      " [-0.12017536 -0.3660488  -0.85469913 ... -0.58273315 -0.52389526\n",
      "  -0.231493  ]\n",
      " [ 0.1400137  -0.09649658 -0.7872019  ... -0.5128012  -0.46664333\n",
      "  -0.06892776]\n",
      " [ 0.8885374   0.43436337 -0.48071384 ... -0.47675037 -0.29793072\n",
      "   0.29562283]]\n"
     ]
    },
    {
     "data": {
      "text/html": [
       "<pre style=\"white-space:pre;overflow-x:auto;line-height:normal;font-family:Menlo,'DejaVu Sans Mono',consolas,'Courier New',monospace\">Snapshot written at <span style=\"color: #808000; text-decoration-color: #808000\">...</span><span style=\"color: #808000; text-decoration-color: #808000\">filename</span>=<span style=\"color: #008000; text-decoration-color: #008000\">'./ptest-c//output_00021/particles_eft_multigrid_ncoarse5.h5'</span>                      \n",
       "param<span style=\"font-weight: bold\">[</span><span style=\"color: #008000; text-decoration-color: #008000\">'aexp'</span><span style=\"font-weight: bold\">]</span>=<span style=\"color: #008080; text-decoration-color: #008080; font-weight: bold\">0.5128205128205129</span>                                                                                   \n",
       "</pre>\n"
      ],
      "text/plain": [
       "Snapshot written at \u001b[33m...\u001b[0m\u001b[33mfilename\u001b[0m=\u001b[32m'./ptest-c//output_00021/particles_eft_multigrid_ncoarse5.h5'\u001b[0m                      \n",
       "param\u001b[1m[\u001b[0m\u001b[32m'aexp'\u001b[0m\u001b[1m]\u001b[0m=\u001b[1;36m0.5128205128205129\u001b[0m                                                                                   \n"
      ]
     },
     "metadata": {},
     "output_type": "display_data"
    },
    {
     "data": {
      "text/html": [
       "<pre style=\"white-space:pre;overflow-x:auto;line-height:normal;font-family:Menlo,'DejaVu Sans Mono',consolas,'Courier New',monospace\">param<span style=\"font-weight: bold\">[</span><span style=\"color: #008000; text-decoration-color: #008000\">'nsteps'</span><span style=\"font-weight: bold\">]</span>=<span style=\"color: #008080; text-decoration-color: #008080; font-weight: bold\">44</span> param<span style=\"font-weight: bold\">[</span><span style=\"color: #008000; text-decoration-color: #008000\">'aexp'</span><span style=\"font-weight: bold\">]</span>=<span style=\"color: #008080; text-decoration-color: #008080; font-weight: bold\">0.5128205128205129</span> z = <span style=\"color: #008080; text-decoration-color: #008080; font-weight: bold\">0.9499999999999997</span>                                         \n",
       "</pre>\n"
      ],
      "text/plain": [
       "param\u001b[1m[\u001b[0m\u001b[32m'nsteps'\u001b[0m\u001b[1m]\u001b[0m=\u001b[1;36m44\u001b[0m param\u001b[1m[\u001b[0m\u001b[32m'aexp'\u001b[0m\u001b[1m]\u001b[0m=\u001b[1;36m0.5128205128205129\u001b[0m z = \u001b[1;36m0.9499999999999997\u001b[0m                                         \n"
      ]
     },
     "metadata": {},
     "output_type": "display_data"
    },
    {
     "name": "stdout",
     "output_type": "stream",
     "text": [
      "1.25\n",
      "Step: 45 [0.04349523 0.02576191 0.01174493] [ 0.02443106  0.00895794 -0.00476213] [[ 2.4328146   1.6156235   0.07117939 ... -0.61636925 -0.14568233\n",
      "   0.88787556]\n",
      " [ 2.8418427   1.9728432   0.25523663 ... -0.75215244  0.18843079\n",
      "   1.461359  ]\n",
      " [ 2.6627922   2.5970345   0.9745178  ... -0.5220108   0.30764866\n",
      "   1.3676367 ]\n",
      " ...\n",
      " [-0.11627674 -0.3940611  -0.92786217 ... -0.61408234 -0.5309019\n",
      "  -0.2150631 ]\n",
      " [ 0.15897465 -0.11277199 -0.8514004  ... -0.5304251  -0.46779346\n",
      "  -0.0396347 ]\n",
      " [ 0.9466076   0.41704464 -0.5559988  ... -0.49281788 -0.29248714\n",
      "   0.35061455]]\n"
     ]
    },
    {
     "data": {
      "text/html": [
       "<pre style=\"white-space:pre;overflow-x:auto;line-height:normal;font-family:Menlo,'DejaVu Sans Mono',consolas,'Courier New',monospace\">Snapshot written at <span style=\"color: #808000; text-decoration-color: #808000\">...</span><span style=\"color: #808000; text-decoration-color: #808000\">filename</span>=<span style=\"color: #008000; text-decoration-color: #008000\">'./ptest-c//output_00022/particles_eft_multigrid_ncoarse5.h5'</span>                      \n",
       "param<span style=\"font-weight: bold\">[</span><span style=\"color: #008000; text-decoration-color: #008000\">'aexp'</span><span style=\"font-weight: bold\">]</span>=<span style=\"color: #008080; text-decoration-color: #008080; font-weight: bold\">0.5263157894736842</span>                                                                                   \n",
       "</pre>\n"
      ],
      "text/plain": [
       "Snapshot written at \u001b[33m...\u001b[0m\u001b[33mfilename\u001b[0m=\u001b[32m'./ptest-c//output_00022/particles_eft_multigrid_ncoarse5.h5'\u001b[0m                      \n",
       "param\u001b[1m[\u001b[0m\u001b[32m'aexp'\u001b[0m\u001b[1m]\u001b[0m=\u001b[1;36m0.5263157894736842\u001b[0m                                                                                   \n"
      ]
     },
     "metadata": {},
     "output_type": "display_data"
    },
    {
     "data": {
      "text/html": [
       "<pre style=\"white-space:pre;overflow-x:auto;line-height:normal;font-family:Menlo,'DejaVu Sans Mono',consolas,'Courier New',monospace\">param<span style=\"font-weight: bold\">[</span><span style=\"color: #008000; text-decoration-color: #008000\">'nsteps'</span><span style=\"font-weight: bold\">]</span>=<span style=\"color: #008080; text-decoration-color: #008080; font-weight: bold\">45</span> param<span style=\"font-weight: bold\">[</span><span style=\"color: #008000; text-decoration-color: #008000\">'aexp'</span><span style=\"font-weight: bold\">]</span>=<span style=\"color: #008080; text-decoration-color: #008080; font-weight: bold\">0.5263157894736842</span> z = <span style=\"color: #008080; text-decoration-color: #008080; font-weight: bold\">0.9000000000000001</span>                                         \n",
       "</pre>\n"
      ],
      "text/plain": [
       "param\u001b[1m[\u001b[0m\u001b[32m'nsteps'\u001b[0m\u001b[1m]\u001b[0m=\u001b[1;36m45\u001b[0m param\u001b[1m[\u001b[0m\u001b[32m'aexp'\u001b[0m\u001b[1m]\u001b[0m=\u001b[1;36m0.5263157894736842\u001b[0m z = \u001b[1;36m0.9000000000000001\u001b[0m                                         \n"
      ]
     },
     "metadata": {},
     "output_type": "display_data"
    },
    {
     "name": "stdout",
     "output_type": "stream",
     "text": [
      "1.25\n",
      "Step: 46 [0.04440774 0.02609742 0.01156568] [ 0.02558349  0.00943598 -0.00506851] [[ 2.6180801   1.5964022  -0.01168728 ... -0.64695644 -0.13662052\n",
      "   0.9988985 ]\n",
      " [ 3.087513    1.975441    0.17525768 ... -0.796113    0.21318913\n",
      "   1.6176414 ]\n",
      " [ 2.917942    2.6533737   0.9049578  ... -0.5649061   0.31320953\n",
      "   1.4901752 ]\n",
      " ...\n",
      " [-0.1144495  -0.43064785 -1.0028791  ... -0.64787006 -0.53714085\n",
      "  -0.19916153]\n",
      " [ 0.18117237 -0.13286018 -0.9119797  ... -0.54888725 -0.46682453\n",
      "  -0.00520229]\n",
      " [ 1.0089254   0.39206123 -0.6357918  ... -0.5098438  -0.28466606\n",
      "   0.41479683]]\n"
     ]
    },
    {
     "data": {
      "text/html": [
       "<pre style=\"white-space:pre;overflow-x:auto;line-height:normal;font-family:Menlo,'DejaVu Sans Mono',consolas,'Courier New',monospace\">Snapshot written at <span style=\"color: #808000; text-decoration-color: #808000\">...</span><span style=\"color: #808000; text-decoration-color: #808000\">filename</span>=<span style=\"color: #008000; text-decoration-color: #008000\">'./ptest-c//output_00023/particles_eft_multigrid_ncoarse5.h5'</span>                      \n",
       "param<span style=\"font-weight: bold\">[</span><span style=\"color: #008000; text-decoration-color: #008000\">'aexp'</span><span style=\"font-weight: bold\">]</span>=<span style=\"color: #008080; text-decoration-color: #008080; font-weight: bold\">0.5405405405405405</span>                                                                                   \n",
       "</pre>\n"
      ],
      "text/plain": [
       "Snapshot written at \u001b[33m...\u001b[0m\u001b[33mfilename\u001b[0m=\u001b[32m'./ptest-c//output_00023/particles_eft_multigrid_ncoarse5.h5'\u001b[0m                      \n",
       "param\u001b[1m[\u001b[0m\u001b[32m'aexp'\u001b[0m\u001b[1m]\u001b[0m=\u001b[1;36m0.5405405405405405\u001b[0m                                                                                   \n"
      ]
     },
     "metadata": {},
     "output_type": "display_data"
    },
    {
     "data": {
      "text/html": [
       "<pre style=\"white-space:pre;overflow-x:auto;line-height:normal;font-family:Menlo,'DejaVu Sans Mono',consolas,'Courier New',monospace\">param<span style=\"font-weight: bold\">[</span><span style=\"color: #008000; text-decoration-color: #008000\">'nsteps'</span><span style=\"font-weight: bold\">]</span>=<span style=\"color: #008080; text-decoration-color: #008080; font-weight: bold\">46</span> param<span style=\"font-weight: bold\">[</span><span style=\"color: #008000; text-decoration-color: #008000\">'aexp'</span><span style=\"font-weight: bold\">]</span>=<span style=\"color: #008080; text-decoration-color: #008080; font-weight: bold\">0.5405405405405405</span> z = <span style=\"color: #008080; text-decoration-color: #008080; font-weight: bold\">0.8500000000000003</span>                                         \n",
       "</pre>\n"
      ],
      "text/plain": [
       "param\u001b[1m[\u001b[0m\u001b[32m'nsteps'\u001b[0m\u001b[1m]\u001b[0m=\u001b[1;36m46\u001b[0m param\u001b[1m[\u001b[0m\u001b[32m'aexp'\u001b[0m\u001b[1m]\u001b[0m=\u001b[1;36m0.5405405405405405\u001b[0m z = \u001b[1;36m0.8500000000000003\u001b[0m                                         \n"
      ]
     },
     "metadata": {},
     "output_type": "display_data"
    },
    {
     "name": "stdout",
     "output_type": "stream",
     "text": [
      "1.25\n",
      "Step: 47 [0.04537694 0.02645597 0.01137209] [ 0.02682713  0.00995853 -0.00540735] [[ 2.8133564   1.5581799  -0.09807682 ... -0.6798687  -0.12460327\n",
      "   1.131649  ]\n",
      " [ 3.3479996   1.963295    0.08758354 ... -0.8428745   0.2431736\n",
      "   1.8000431 ]\n",
      " [ 3.190958    2.6984005   0.8247919  ... -0.6121521   0.31795883\n",
      "   1.623415  ]\n",
      " ...\n",
      " [-0.11512566 -0.47634888 -1.0823727  ... -0.6841259  -0.5424385\n",
      "  -0.1844368 ]\n",
      " [ 0.20841503 -0.15697098 -0.9696655  ... -0.56809425 -0.46294022\n",
      "   0.03459358]\n",
      " [ 1.0772333   0.353961   -0.7179041  ... -0.5279312  -0.27378654\n",
      "   0.49015427]]\n"
     ]
    },
    {
     "data": {
      "text/html": [
       "<pre style=\"white-space:pre;overflow-x:auto;line-height:normal;font-family:Menlo,'DejaVu Sans Mono',consolas,'Courier New',monospace\">Snapshot written at <span style=\"color: #808000; text-decoration-color: #808000\">...</span><span style=\"color: #808000; text-decoration-color: #808000\">filename</span>=<span style=\"color: #008000; text-decoration-color: #008000\">'./ptest-c//output_00024/particles_eft_multigrid_ncoarse5.h5'</span>                      \n",
       "param<span style=\"font-weight: bold\">[</span><span style=\"color: #008000; text-decoration-color: #008000\">'aexp'</span><span style=\"font-weight: bold\">]</span>=<span style=\"color: #008080; text-decoration-color: #008080; font-weight: bold\">0.5555555555555556</span>                                                                                   \n",
       "</pre>\n"
      ],
      "text/plain": [
       "Snapshot written at \u001b[33m...\u001b[0m\u001b[33mfilename\u001b[0m=\u001b[32m'./ptest-c//output_00024/particles_eft_multigrid_ncoarse5.h5'\u001b[0m                      \n",
       "param\u001b[1m[\u001b[0m\u001b[32m'aexp'\u001b[0m\u001b[1m]\u001b[0m=\u001b[1;36m0.5555555555555556\u001b[0m                                                                                   \n"
      ]
     },
     "metadata": {},
     "output_type": "display_data"
    },
    {
     "data": {
      "text/html": [
       "<pre style=\"white-space:pre;overflow-x:auto;line-height:normal;font-family:Menlo,'DejaVu Sans Mono',consolas,'Courier New',monospace\">param<span style=\"font-weight: bold\">[</span><span style=\"color: #008000; text-decoration-color: #008000\">'nsteps'</span><span style=\"font-weight: bold\">]</span>=<span style=\"color: #008080; text-decoration-color: #008080; font-weight: bold\">47</span> param<span style=\"font-weight: bold\">[</span><span style=\"color: #008000; text-decoration-color: #008000\">'aexp'</span><span style=\"font-weight: bold\">]</span>=<span style=\"color: #008080; text-decoration-color: #008080; font-weight: bold\">0.5555555555555556</span> z = <span style=\"color: #008080; text-decoration-color: #008080; font-weight: bold\">0.7999999999999998</span>                                         \n",
       "</pre>\n"
      ],
      "text/plain": [
       "param\u001b[1m[\u001b[0m\u001b[32m'nsteps'\u001b[0m\u001b[1m]\u001b[0m=\u001b[1;36m47\u001b[0m param\u001b[1m[\u001b[0m\u001b[32m'aexp'\u001b[0m\u001b[1m]\u001b[0m=\u001b[1;36m0.5555555555555556\u001b[0m z = \u001b[1;36m0.7999999999999998\u001b[0m                                         \n"
      ]
     },
     "metadata": {},
     "output_type": "display_data"
    },
    {
     "name": "stdout",
     "output_type": "stream",
     "text": [
      "1.25\n",
      "Step: 48 [0.04640818 0.02684004 0.01116242] [ 0.02817253  0.01053147 -0.00578381] [[ 3.020092    1.5016289  -0.18525028 ... -0.71539116 -0.10769463\n",
      "   1.2930565 ]\n",
      " [ 3.6201763   1.9361534  -0.0074873  ... -0.89188004  0.27893448\n",
      "   2.011734  ]\n",
      " [ 3.4816608   2.73172     0.7350769  ... -0.6592655   0.32006073\n",
      "   1.765171  ]\n",
      " ...\n",
      " [-0.11836147 -0.5353794  -1.1636019  ... -0.7231121  -0.5468807\n",
      "  -0.17184448]\n",
      " [ 0.24334335 -0.18866158 -1.0250034  ... -0.588068   -0.45533562\n",
      "   0.08073616]\n",
      " [ 1.1551437   0.30004406 -0.8004589  ... -0.547142   -0.2587452\n",
      "   0.5807915 ]]\n"
     ]
    },
    {
     "data": {
      "text/html": [
       "<pre style=\"white-space:pre;overflow-x:auto;line-height:normal;font-family:Menlo,'DejaVu Sans Mono',consolas,'Courier New',monospace\">Snapshot written at <span style=\"color: #808000; text-decoration-color: #808000\">...</span><span style=\"color: #808000; text-decoration-color: #808000\">filename</span>=<span style=\"color: #008000; text-decoration-color: #008000\">'./ptest-c//output_00025/particles_eft_multigrid_ncoarse5.h5'</span>                      \n",
       "param<span style=\"font-weight: bold\">[</span><span style=\"color: #008000; text-decoration-color: #008000\">'aexp'</span><span style=\"font-weight: bold\">]</span>=<span style=\"color: #008080; text-decoration-color: #008080; font-weight: bold\">0.5714285714285714</span>                                                                                   \n",
       "</pre>\n"
      ],
      "text/plain": [
       "Snapshot written at \u001b[33m...\u001b[0m\u001b[33mfilename\u001b[0m=\u001b[32m'./ptest-c//output_00025/particles_eft_multigrid_ncoarse5.h5'\u001b[0m                      \n",
       "param\u001b[1m[\u001b[0m\u001b[32m'aexp'\u001b[0m\u001b[1m]\u001b[0m=\u001b[1;36m0.5714285714285714\u001b[0m                                                                                   \n"
      ]
     },
     "metadata": {},
     "output_type": "display_data"
    },
    {
     "data": {
      "text/html": [
       "<pre style=\"white-space:pre;overflow-x:auto;line-height:normal;font-family:Menlo,'DejaVu Sans Mono',consolas,'Courier New',monospace\">param<span style=\"font-weight: bold\">[</span><span style=\"color: #008000; text-decoration-color: #008000\">'nsteps'</span><span style=\"font-weight: bold\">]</span>=<span style=\"color: #008080; text-decoration-color: #008080; font-weight: bold\">48</span> param<span style=\"font-weight: bold\">[</span><span style=\"color: #008000; text-decoration-color: #008000\">'aexp'</span><span style=\"font-weight: bold\">]</span>=<span style=\"color: #008080; text-decoration-color: #008080; font-weight: bold\">0.5714285714285714</span> z = <span style=\"color: #008080; text-decoration-color: #008080; font-weight: bold\">0.75</span>                                                       \n",
       "</pre>\n"
      ],
      "text/plain": [
       "param\u001b[1m[\u001b[0m\u001b[32m'nsteps'\u001b[0m\u001b[1m]\u001b[0m=\u001b[1;36m48\u001b[0m param\u001b[1m[\u001b[0m\u001b[32m'aexp'\u001b[0m\u001b[1m]\u001b[0m=\u001b[1;36m0.5714285714285714\u001b[0m z = \u001b[1;36m0.75\u001b[0m                                                       \n"
      ]
     },
     "metadata": {},
     "output_type": "display_data"
    },
    {
     "name": "stdout",
     "output_type": "stream",
     "text": [
      "1.25\n",
      "Step: 49 [0.04750755 0.02725248 0.01093462] [ 0.02963193  0.01116163 -0.00620436] [[ 3.2330303   1.4204941  -0.27230644 ... -0.75400734 -0.08338547\n",
      "   1.4865665 ]\n",
      " [ 3.9012833   1.8866978  -0.10481739 ... -0.94270134  0.32232094\n",
      "   2.2525215 ]\n",
      " [ 3.7948856   2.754858    0.6358814  ... -0.7032299   0.32147026\n",
      "   1.9132214 ]\n",
      " ...\n",
      " [-0.12402344 -0.6093712  -1.2449274  ... -0.7657585  -0.552145\n",
      "  -0.16269112]\n",
      " [ 0.28936005 -0.23405266 -1.0841074  ... -0.60874176 -0.44306183\n",
      "   0.13455582]\n",
      " [ 1.2392483   0.22616768 -0.8870487  ... -0.5675144  -0.23836327\n",
      "   0.68928146]]\n"
     ]
    },
    {
     "data": {
      "text/html": [
       "<pre style=\"white-space:pre;overflow-x:auto;line-height:normal;font-family:Menlo,'DejaVu Sans Mono',consolas,'Courier New',monospace\">Snapshot written at <span style=\"color: #808000; text-decoration-color: #808000\">...</span><span style=\"color: #808000; text-decoration-color: #808000\">filename</span>=<span style=\"color: #008000; text-decoration-color: #008000\">'./ptest-c//output_00026/particles_eft_multigrid_ncoarse5.h5'</span>                      \n",
       "param<span style=\"font-weight: bold\">[</span><span style=\"color: #008000; text-decoration-color: #008000\">'aexp'</span><span style=\"font-weight: bold\">]</span>=<span style=\"color: #008080; text-decoration-color: #008080; font-weight: bold\">0.5882352941176471</span>                                                                                   \n",
       "</pre>\n"
      ],
      "text/plain": [
       "Snapshot written at \u001b[33m...\u001b[0m\u001b[33mfilename\u001b[0m=\u001b[32m'./ptest-c//output_00026/particles_eft_multigrid_ncoarse5.h5'\u001b[0m                      \n",
       "param\u001b[1m[\u001b[0m\u001b[32m'aexp'\u001b[0m\u001b[1m]\u001b[0m=\u001b[1;36m0.5882352941176471\u001b[0m                                                                                   \n"
      ]
     },
     "metadata": {},
     "output_type": "display_data"
    },
    {
     "data": {
      "text/html": [
       "<pre style=\"white-space:pre;overflow-x:auto;line-height:normal;font-family:Menlo,'DejaVu Sans Mono',consolas,'Courier New',monospace\">param<span style=\"font-weight: bold\">[</span><span style=\"color: #008000; text-decoration-color: #008000\">'nsteps'</span><span style=\"font-weight: bold\">]</span>=<span style=\"color: #008080; text-decoration-color: #008080; font-weight: bold\">49</span> param<span style=\"font-weight: bold\">[</span><span style=\"color: #008000; text-decoration-color: #008000\">'aexp'</span><span style=\"font-weight: bold\">]</span>=<span style=\"color: #008080; text-decoration-color: #008080; font-weight: bold\">0.5882352941176471</span> z = <span style=\"color: #008080; text-decoration-color: #008080; font-weight: bold\">0.7</span>                                                        \n",
       "</pre>\n"
      ],
      "text/plain": [
       "param\u001b[1m[\u001b[0m\u001b[32m'nsteps'\u001b[0m\u001b[1m]\u001b[0m=\u001b[1;36m49\u001b[0m param\u001b[1m[\u001b[0m\u001b[32m'aexp'\u001b[0m\u001b[1m]\u001b[0m=\u001b[1;36m0.5882352941176471\u001b[0m z = \u001b[1;36m0.7\u001b[0m                                                        \n"
      ]
     },
     "metadata": {},
     "output_type": "display_data"
    },
    {
     "name": "stdout",
     "output_type": "stream",
     "text": [
      "1.25\n",
      "Step: 50 [0.04868195 0.02769656 0.01068627] [ 0.03121966  0.01185701 -0.00667706] [[ 3.444582    1.3080158  -0.35837936 ... -0.7961445  -0.04944801\n",
      "   1.7147408 ]\n",
      " [ 4.188942    1.8094807  -0.19880581 ... -0.99477196  0.37522316\n",
      "   2.521078  ]\n",
      " [ 4.1378307   2.7705421   0.52658653 ... -0.7425804   0.3277588\n",
      "   2.0710735 ]\n",
      " ...\n",
      " [-0.12930298 -0.6927347  -1.3255587  ... -0.8124943  -0.558712\n",
      "  -0.15816307]\n",
      " [ 0.35521317 -0.29254723 -1.1483011  ... -0.62981224 -0.4249916\n",
      "   0.1982212 ]\n",
      " [ 1.3292961   0.13129044 -0.9786339  ... -0.58908653 -0.21110916\n",
      "   0.8185768 ]]\n"
     ]
    },
    {
     "data": {
      "text/html": [
       "<pre style=\"white-space:pre;overflow-x:auto;line-height:normal;font-family:Menlo,'DejaVu Sans Mono',consolas,'Courier New',monospace\">Snapshot written at <span style=\"color: #808000; text-decoration-color: #808000\">...</span><span style=\"color: #808000; text-decoration-color: #808000\">filename</span>=<span style=\"color: #008000; text-decoration-color: #008000\">'./ptest-c//output_00027/particles_eft_multigrid_ncoarse5.h5'</span>                      \n",
       "param<span style=\"font-weight: bold\">[</span><span style=\"color: #008000; text-decoration-color: #008000\">'aexp'</span><span style=\"font-weight: bold\">]</span>=<span style=\"color: #008080; text-decoration-color: #008080; font-weight: bold\">0.6060606060606061</span>                                                                                   \n",
       "</pre>\n"
      ],
      "text/plain": [
       "Snapshot written at \u001b[33m...\u001b[0m\u001b[33mfilename\u001b[0m=\u001b[32m'./ptest-c//output_00027/particles_eft_multigrid_ncoarse5.h5'\u001b[0m                      \n",
       "param\u001b[1m[\u001b[0m\u001b[32m'aexp'\u001b[0m\u001b[1m]\u001b[0m=\u001b[1;36m0.6060606060606061\u001b[0m                                                                                   \n"
      ]
     },
     "metadata": {},
     "output_type": "display_data"
    },
    {
     "data": {
      "text/html": [
       "<pre style=\"white-space:pre;overflow-x:auto;line-height:normal;font-family:Menlo,'DejaVu Sans Mono',consolas,'Courier New',monospace\">param<span style=\"font-weight: bold\">[</span><span style=\"color: #008000; text-decoration-color: #008000\">'nsteps'</span><span style=\"font-weight: bold\">]</span>=<span style=\"color: #008080; text-decoration-color: #008080; font-weight: bold\">50</span> param<span style=\"font-weight: bold\">[</span><span style=\"color: #008000; text-decoration-color: #008000\">'aexp'</span><span style=\"font-weight: bold\">]</span>=<span style=\"color: #008080; text-decoration-color: #008080; font-weight: bold\">0.6060606060606061</span> z = <span style=\"color: #008080; text-decoration-color: #008080; font-weight: bold\">0.6499999999999999</span>                                         \n",
       "</pre>\n"
      ],
      "text/plain": [
       "param\u001b[1m[\u001b[0m\u001b[32m'nsteps'\u001b[0m\u001b[1m]\u001b[0m=\u001b[1;36m50\u001b[0m param\u001b[1m[\u001b[0m\u001b[32m'aexp'\u001b[0m\u001b[1m]\u001b[0m=\u001b[1;36m0.6060606060606061\u001b[0m z = \u001b[1;36m0.6499999999999999\u001b[0m                                         \n"
      ]
     },
     "metadata": {},
     "output_type": "display_data"
    },
    {
     "name": "stdout",
     "output_type": "stream",
     "text": [
      "1.25\n",
      "Step: 51 [0.00508472 0.02365322 0.00273436] [ 0.04818269  0.0091087  -0.01330793] [[ 3.6512642e+00  1.1610413e+00 -4.4518852e-01 ... -8.4282494e-01\n",
      "  -2.8591156e-03  1.9841614e+00]\n",
      " [ 4.4842949e+00  1.7035732e+00 -2.9061699e-01 ... -1.0495834e+00\n",
      "   4.3839645e-01  2.8218117e+00]\n",
      " [ 4.5189533e+00  2.7738037e+00  3.9773941e-01 ... -7.7716827e-01\n",
      "   3.4095192e-01  2.2483673e+00]\n",
      " ...\n",
      " [-1.3689232e-01 -7.8190517e-01 -1.4072704e+00 ... -8.6348724e-01\n",
      "  -5.6769371e-01 -1.5979385e-01]\n",
      " [ 4.3508339e-01 -3.6679745e-01 -1.2198572e+00 ... -6.5053368e-01\n",
      "  -4.0133667e-01  2.7285004e-01]\n",
      " [ 1.4214611e+00  1.2632370e-02 -1.0757122e+00 ... -6.1185265e-01\n",
      "  -1.7488480e-01  9.7357941e-01]]\n"
     ]
    },
    {
     "data": {
      "text/html": [
       "<pre style=\"white-space:pre;overflow-x:auto;line-height:normal;font-family:Menlo,'DejaVu Sans Mono',consolas,'Courier New',monospace\">Snapshot written at <span style=\"color: #808000; text-decoration-color: #808000\">...</span><span style=\"color: #808000; text-decoration-color: #808000\">filename</span>=<span style=\"color: #008000; text-decoration-color: #008000\">'./ptest-c//output_00028/particles_eft_multigrid_ncoarse5.h5'</span> param<span style=\"font-weight: bold\">[</span><span style=\"color: #008000; text-decoration-color: #008000\">'aexp'</span><span style=\"font-weight: bold\">]</span>=<span style=\"color: #008080; text-decoration-color: #008080; font-weight: bold\">0.625</span>  \n",
       "</pre>\n"
      ],
      "text/plain": [
       "Snapshot written at \u001b[33m...\u001b[0m\u001b[33mfilename\u001b[0m=\u001b[32m'./ptest-c//output_00028/particles_eft_multigrid_ncoarse5.h5'\u001b[0m param\u001b[1m[\u001b[0m\u001b[32m'aexp'\u001b[0m\u001b[1m]\u001b[0m=\u001b[1;36m0.625\u001b[0m  \n"
      ]
     },
     "metadata": {},
     "output_type": "display_data"
    },
    {
     "data": {
      "text/html": [
       "<pre style=\"white-space:pre;overflow-x:auto;line-height:normal;font-family:Menlo,'DejaVu Sans Mono',consolas,'Courier New',monospace\">param<span style=\"font-weight: bold\">[</span><span style=\"color: #008000; text-decoration-color: #008000\">'nsteps'</span><span style=\"font-weight: bold\">]</span>=<span style=\"color: #008080; text-decoration-color: #008080; font-weight: bold\">51</span> param<span style=\"font-weight: bold\">[</span><span style=\"color: #008000; text-decoration-color: #008000\">'aexp'</span><span style=\"font-weight: bold\">]</span>=<span style=\"color: #008080; text-decoration-color: #008080; font-weight: bold\">0.625</span> z = <span style=\"color: #008080; text-decoration-color: #008080; font-weight: bold\">0.6000000000000001</span>                                                      \n",
       "</pre>\n"
      ],
      "text/plain": [
       "param\u001b[1m[\u001b[0m\u001b[32m'nsteps'\u001b[0m\u001b[1m]\u001b[0m=\u001b[1;36m51\u001b[0m param\u001b[1m[\u001b[0m\u001b[32m'aexp'\u001b[0m\u001b[1m]\u001b[0m=\u001b[1;36m0.625\u001b[0m z = \u001b[1;36m0.6000000000000001\u001b[0m                                                      \n"
      ]
     },
     "metadata": {},
     "output_type": "display_data"
    },
    {
     "name": "stdout",
     "output_type": "stream",
     "text": [
      "1.25\n",
      "Step: 52 [0.00705581 0.02402821 0.00218941] [ 0.05085944  0.00974344 -0.01407664] [[ 3.8488083   0.985075   -0.53867245 ... -0.8931675   0.05981445\n",
      "   2.3024197 ]\n",
      " [ 4.7907543   1.5649815  -0.3855095  ... -1.1068783   0.5085983\n",
      "   3.158842  ]\n",
      " [ 4.9624023   2.7428951   0.2480793  ... -0.80677795  0.35770607\n",
      "   2.4620838 ]\n",
      " ...\n",
      " [-0.14029503 -0.876791   -1.4973516  ... -0.9196396  -0.58106613\n",
      "  -0.16705704]\n",
      " [ 0.5216484  -0.45719528 -1.3008413  ... -0.67121696 -0.37246132\n",
      "   0.3629532 ]\n",
      " [ 1.5040035  -0.12644005 -1.1804314  ... -0.635973   -0.12489891\n",
      "   1.1604767 ]]\n"
     ]
    },
    {
     "data": {
      "text/html": [
       "<pre style=\"white-space:pre;overflow-x:auto;line-height:normal;font-family:Menlo,'DejaVu Sans Mono',consolas,'Courier New',monospace\">Snapshot written at <span style=\"color: #808000; text-decoration-color: #808000\">...</span><span style=\"color: #808000; text-decoration-color: #808000\">filename</span>=<span style=\"color: #008000; text-decoration-color: #008000\">'./ptest-c//output_00029/particles_eft_multigrid_ncoarse5.h5'</span>                      \n",
       "param<span style=\"font-weight: bold\">[</span><span style=\"color: #008000; text-decoration-color: #008000\">'aexp'</span><span style=\"font-weight: bold\">]</span>=<span style=\"color: #008080; text-decoration-color: #008080; font-weight: bold\">0.6451612903225806</span>                                                                                   \n",
       "</pre>\n"
      ],
      "text/plain": [
       "Snapshot written at \u001b[33m...\u001b[0m\u001b[33mfilename\u001b[0m=\u001b[32m'./ptest-c//output_00029/particles_eft_multigrid_ncoarse5.h5'\u001b[0m                      \n",
       "param\u001b[1m[\u001b[0m\u001b[32m'aexp'\u001b[0m\u001b[1m]\u001b[0m=\u001b[1;36m0.6451612903225806\u001b[0m                                                                                   \n"
      ]
     },
     "metadata": {},
     "output_type": "display_data"
    },
    {
     "data": {
      "text/html": [
       "<pre style=\"white-space:pre;overflow-x:auto;line-height:normal;font-family:Menlo,'DejaVu Sans Mono',consolas,'Courier New',monospace\">param<span style=\"font-weight: bold\">[</span><span style=\"color: #008000; text-decoration-color: #008000\">'nsteps'</span><span style=\"font-weight: bold\">]</span>=<span style=\"color: #008080; text-decoration-color: #008080; font-weight: bold\">52</span> param<span style=\"font-weight: bold\">[</span><span style=\"color: #008000; text-decoration-color: #008000\">'aexp'</span><span style=\"font-weight: bold\">]</span>=<span style=\"color: #008080; text-decoration-color: #008080; font-weight: bold\">0.6451612903225806</span> z = <span style=\"color: #008080; text-decoration-color: #008080; font-weight: bold\">0.55</span>                                                       \n",
       "</pre>\n"
      ],
      "text/plain": [
       "param\u001b[1m[\u001b[0m\u001b[32m'nsteps'\u001b[0m\u001b[1m]\u001b[0m=\u001b[1;36m52\u001b[0m param\u001b[1m[\u001b[0m\u001b[32m'aexp'\u001b[0m\u001b[1m]\u001b[0m=\u001b[1;36m0.6451612903225806\u001b[0m z = \u001b[1;36m0.55\u001b[0m                                                       \n"
      ]
     },
     "metadata": {},
     "output_type": "display_data"
    },
    {
     "name": "stdout",
     "output_type": "stream",
     "text": [
      "1.25\n",
      "Step: 53 [0.00917219 0.02443637 0.00160303] [ 0.05378998  0.01044952 -0.01492109] [[ 4.030287    0.7846699  -0.64284897 ... -0.94569397  0.1422596\n",
      "   2.665844  ]\n",
      " [ 5.1143208   1.3896542  -0.48226357 ... -1.1582508   0.5842819\n",
      "   3.5370483 ]\n",
      " [ 5.4844704   2.6489506   0.09421539 ... -0.82705307  0.3776703\n",
      "   2.729536  ]\n",
      " ...\n",
      " [-0.12764359 -0.9832401  -1.6004019  ... -0.98191833 -0.6000805\n",
      "  -0.17131424]\n",
      " [ 0.612587   -0.56417847 -1.3943329  ... -0.69187737 -0.3367424\n",
      "   0.47302055]\n",
      " [ 1.5709915  -0.28349686 -1.2944555  ... -0.6616745  -0.05502319\n",
      "   1.3790035 ]]\n"
     ]
    },
    {
     "data": {
      "text/html": [
       "<pre style=\"white-space:pre;overflow-x:auto;line-height:normal;font-family:Menlo,'DejaVu Sans Mono',consolas,'Courier New',monospace\">Snapshot written at <span style=\"color: #808000; text-decoration-color: #808000\">...</span><span style=\"color: #808000; text-decoration-color: #808000\">filename</span>=<span style=\"color: #008000; text-decoration-color: #008000\">'./ptest-c//output_00030/particles_eft_multigrid_ncoarse5.h5'</span>                      \n",
       "param<span style=\"font-weight: bold\">[</span><span style=\"color: #008000; text-decoration-color: #008000\">'aexp'</span><span style=\"font-weight: bold\">]</span>=<span style=\"color: #008080; text-decoration-color: #008080; font-weight: bold\">0.6666666666666666</span>                                                                                   \n",
       "</pre>\n"
      ],
      "text/plain": [
       "Snapshot written at \u001b[33m...\u001b[0m\u001b[33mfilename\u001b[0m=\u001b[32m'./ptest-c//output_00030/particles_eft_multigrid_ncoarse5.h5'\u001b[0m                      \n",
       "param\u001b[1m[\u001b[0m\u001b[32m'aexp'\u001b[0m\u001b[1m]\u001b[0m=\u001b[1;36m0.6666666666666666\u001b[0m                                                                                   \n"
      ]
     },
     "metadata": {},
     "output_type": "display_data"
    },
    {
     "data": {
      "text/html": [
       "<pre style=\"white-space:pre;overflow-x:auto;line-height:normal;font-family:Menlo,'DejaVu Sans Mono',consolas,'Courier New',monospace\">param<span style=\"font-weight: bold\">[</span><span style=\"color: #008000; text-decoration-color: #008000\">'nsteps'</span><span style=\"font-weight: bold\">]</span>=<span style=\"color: #008080; text-decoration-color: #008080; font-weight: bold\">53</span> param<span style=\"font-weight: bold\">[</span><span style=\"color: #008000; text-decoration-color: #008000\">'aexp'</span><span style=\"font-weight: bold\">]</span>=<span style=\"color: #008080; text-decoration-color: #008080; font-weight: bold\">0.6666666666666666</span> z = <span style=\"color: #008080; text-decoration-color: #008080; font-weight: bold\">0.5</span>                                                        \n",
       "</pre>\n"
      ],
      "text/plain": [
       "param\u001b[1m[\u001b[0m\u001b[32m'nsteps'\u001b[0m\u001b[1m]\u001b[0m=\u001b[1;36m53\u001b[0m param\u001b[1m[\u001b[0m\u001b[32m'aexp'\u001b[0m\u001b[1m]\u001b[0m=\u001b[1;36m0.6666666666666666\u001b[0m z = \u001b[1;36m0.5\u001b[0m                                                        \n"
      ]
     },
     "metadata": {},
     "output_type": "display_data"
    },
    {
     "name": "stdout",
     "output_type": "stream",
     "text": [
      "1.25\n",
      "Step: 54 [0.01145044 0.02488204 0.00097034] [ 0.05700988  0.01123825 -0.01585243] [[ 4.1804276   0.5613327  -0.7635727  ... -1.0005379   0.25185585\n",
      "   3.079071  ]\n",
      " [ 5.458147    1.1835079  -0.58530426 ... -1.1966858   0.6734886\n",
      "   3.975422  ]\n",
      " [ 6.0886      2.4957085  -0.054245   ... -0.83506584  0.40587234\n",
      "   3.0716572 ]\n",
      " ...\n",
      " [-0.10385132 -1.1021042  -1.7193928  ... -1.0526447  -0.6256561\n",
      "  -0.15781212]\n",
      " [ 0.70090866 -0.6872101  -1.5037498  ... -0.7125473  -0.29255295\n",
      "   0.6074276 ]\n",
      " [ 1.6170292  -0.45722198 -1.4193869  ... -0.6899338   0.03934097\n",
      "   1.6333008 ]]\n"
     ]
    },
    {
     "data": {
      "text/html": [
       "<pre style=\"white-space:pre;overflow-x:auto;line-height:normal;font-family:Menlo,'DejaVu Sans Mono',consolas,'Courier New',monospace\">Snapshot written at <span style=\"color: #808000; text-decoration-color: #808000\">...</span><span style=\"color: #808000; text-decoration-color: #808000\">filename</span>=<span style=\"color: #008000; text-decoration-color: #008000\">'./ptest-c//output_00031/particles_eft_multigrid_ncoarse5.h5'</span>                      \n",
       "param<span style=\"font-weight: bold\">[</span><span style=\"color: #008000; text-decoration-color: #008000\">'aexp'</span><span style=\"font-weight: bold\">]</span>=<span style=\"color: #008080; text-decoration-color: #008080; font-weight: bold\">0.6896551724137931</span>                                                                                   \n",
       "</pre>\n"
      ],
      "text/plain": [
       "Snapshot written at \u001b[33m...\u001b[0m\u001b[33mfilename\u001b[0m=\u001b[32m'./ptest-c//output_00031/particles_eft_multigrid_ncoarse5.h5'\u001b[0m                      \n",
       "param\u001b[1m[\u001b[0m\u001b[32m'aexp'\u001b[0m\u001b[1m]\u001b[0m=\u001b[1;36m0.6896551724137931\u001b[0m                                                                                   \n"
      ]
     },
     "metadata": {},
     "output_type": "display_data"
    },
    {
     "data": {
      "text/html": [
       "<pre style=\"white-space:pre;overflow-x:auto;line-height:normal;font-family:Menlo,'DejaVu Sans Mono',consolas,'Courier New',monospace\">param<span style=\"font-weight: bold\">[</span><span style=\"color: #008000; text-decoration-color: #008000\">'nsteps'</span><span style=\"font-weight: bold\">]</span>=<span style=\"color: #008080; text-decoration-color: #008080; font-weight: bold\">54</span> param<span style=\"font-weight: bold\">[</span><span style=\"color: #008000; text-decoration-color: #008000\">'aexp'</span><span style=\"font-weight: bold\">]</span>=<span style=\"color: #008080; text-decoration-color: #008080; font-weight: bold\">0.6896551724137931</span> z = <span style=\"color: #008080; text-decoration-color: #008080; font-weight: bold\">0.44999999999999996</span>                                        \n",
       "</pre>\n"
      ],
      "text/plain": [
       "param\u001b[1m[\u001b[0m\u001b[32m'nsteps'\u001b[0m\u001b[1m]\u001b[0m=\u001b[1;36m54\u001b[0m param\u001b[1m[\u001b[0m\u001b[32m'aexp'\u001b[0m\u001b[1m]\u001b[0m=\u001b[1;36m0.6896551724137931\u001b[0m z = \u001b[1;36m0.44999999999999996\u001b[0m                                        \n"
      ]
     },
     "metadata": {},
     "output_type": "display_data"
    },
    {
     "name": "stdout",
     "output_type": "stream",
     "text": [
      "1.25\n",
      "Step: 55 [0.01390973 0.02537039 0.00028566] [ 0.06056091  0.01212371 -0.01688372] [[ 4.2923107   0.31597137 -0.9044857  ... -1.057024    0.39723015\n",
      "   3.5546703 ]\n",
      " [ 5.8241615   0.95207787 -0.6993027  ... -1.2233429   0.78817177\n",
      "   4.5129337 ]\n",
      " [ 6.741371    2.2862988  -0.19211769 ... -0.83431625  0.4562416\n",
      "   3.4992332 ]\n",
      " ...\n",
      " [-0.07847977 -1.2362194  -1.8553123  ... -1.133501   -0.6580372\n",
      "  -0.11380196]\n",
      " [ 0.7810135  -0.82473755 -1.6297436  ... -0.7347927  -0.23636627\n",
      "   0.7812214 ]\n",
      " [ 1.6346588  -0.644186   -1.5563049  ... -0.7236004   0.16317558\n",
      "   1.9311314 ]]\n"
     ]
    },
    {
     "data": {
      "text/html": [
       "<pre style=\"white-space:pre;overflow-x:auto;line-height:normal;font-family:Menlo,'DejaVu Sans Mono',consolas,'Courier New',monospace\">Snapshot written at <span style=\"color: #808000; text-decoration-color: #808000\">...</span><span style=\"color: #808000; text-decoration-color: #808000\">filename</span>=<span style=\"color: #008000; text-decoration-color: #008000\">'./ptest-c//output_00032/particles_eft_multigrid_ncoarse5.h5'</span>                      \n",
       "param<span style=\"font-weight: bold\">[</span><span style=\"color: #008000; text-decoration-color: #008000\">'aexp'</span><span style=\"font-weight: bold\">]</span>=<span style=\"color: #008080; text-decoration-color: #008080; font-weight: bold\">0.7142857142857143</span>                                                                                   \n",
       "</pre>\n"
      ],
      "text/plain": [
       "Snapshot written at \u001b[33m...\u001b[0m\u001b[33mfilename\u001b[0m=\u001b[32m'./ptest-c//output_00032/particles_eft_multigrid_ncoarse5.h5'\u001b[0m                      \n",
       "param\u001b[1m[\u001b[0m\u001b[32m'aexp'\u001b[0m\u001b[1m]\u001b[0m=\u001b[1;36m0.7142857142857143\u001b[0m                                                                                   \n"
      ]
     },
     "metadata": {},
     "output_type": "display_data"
    },
    {
     "data": {
      "text/html": [
       "<pre style=\"white-space:pre;overflow-x:auto;line-height:normal;font-family:Menlo,'DejaVu Sans Mono',consolas,'Courier New',monospace\">param<span style=\"font-weight: bold\">[</span><span style=\"color: #008000; text-decoration-color: #008000\">'nsteps'</span><span style=\"font-weight: bold\">]</span>=<span style=\"color: #008080; text-decoration-color: #008080; font-weight: bold\">55</span> param<span style=\"font-weight: bold\">[</span><span style=\"color: #008000; text-decoration-color: #008000\">'aexp'</span><span style=\"font-weight: bold\">]</span>=<span style=\"color: #008080; text-decoration-color: #008080; font-weight: bold\">0.7142857142857143</span> z = <span style=\"color: #008080; text-decoration-color: #008080; font-weight: bold\">0.3999999999999999</span>                                         \n",
       "</pre>\n"
      ],
      "text/plain": [
       "param\u001b[1m[\u001b[0m\u001b[32m'nsteps'\u001b[0m\u001b[1m]\u001b[0m=\u001b[1;36m55\u001b[0m param\u001b[1m[\u001b[0m\u001b[32m'aexp'\u001b[0m\u001b[1m]\u001b[0m=\u001b[1;36m0.7142857142857143\u001b[0m z = \u001b[1;36m0.3999999999999999\u001b[0m                                         \n"
      ]
     },
     "metadata": {},
     "output_type": "display_data"
    },
    {
     "name": "stdout",
     "output_type": "stream",
     "text": [
      "1.25\n",
      "Step: 56 [0.0165724  0.02590755 0.99954236] [ 0.06449244  0.013123   -0.01803073] [[ 4.355612    0.04884911 -1.0689144  ... -1.1098614   0.5885868\n",
      "   4.1219826 ]\n",
      " [ 6.185959    0.67777824 -0.8369007  ... -1.2332001   0.9429321\n",
      "   5.1886024 ]\n",
      " [ 7.401268    2.032341   -0.32098007 ... -0.82058525  0.5392151\n",
      "   3.998413  ]\n",
      " ...\n",
      " [-0.06825829 -1.387186   -2.0091925  ... -1.2259941  -0.6873703\n",
      "  -0.02287102]\n",
      " [ 0.8428688  -0.97818184 -1.7745266  ... -0.7615185  -0.16242027\n",
      "   0.9959526 ]\n",
      " [ 1.6211872  -0.8421917  -1.7063122  ... -0.7635002   0.31900597\n",
      "   2.2705498 ]]\n"
     ]
    },
    {
     "data": {
      "text/html": [
       "<pre style=\"white-space:pre;overflow-x:auto;line-height:normal;font-family:Menlo,'DejaVu Sans Mono',consolas,'Courier New',monospace\">Snapshot written at <span style=\"color: #808000; text-decoration-color: #808000\">...</span><span style=\"color: #808000; text-decoration-color: #808000\">filename</span>=<span style=\"color: #008000; text-decoration-color: #008000\">'./ptest-c//output_00033/particles_eft_multigrid_ncoarse5.h5'</span>                      \n",
       "param<span style=\"font-weight: bold\">[</span><span style=\"color: #008000; text-decoration-color: #008000\">'aexp'</span><span style=\"font-weight: bold\">]</span>=<span style=\"color: #008080; text-decoration-color: #008080; font-weight: bold\">0.7407407407407407</span>                                                                                   \n",
       "</pre>\n"
      ],
      "text/plain": [
       "Snapshot written at \u001b[33m...\u001b[0m\u001b[33mfilename\u001b[0m=\u001b[32m'./ptest-c//output_00033/particles_eft_multigrid_ncoarse5.h5'\u001b[0m                      \n",
       "param\u001b[1m[\u001b[0m\u001b[32m'aexp'\u001b[0m\u001b[1m]\u001b[0m=\u001b[1;36m0.7407407407407407\u001b[0m                                                                                   \n"
      ]
     },
     "metadata": {},
     "output_type": "display_data"
    },
    {
     "data": {
      "text/html": [
       "<pre style=\"white-space:pre;overflow-x:auto;line-height:normal;font-family:Menlo,'DejaVu Sans Mono',consolas,'Courier New',monospace\">param<span style=\"font-weight: bold\">[</span><span style=\"color: #008000; text-decoration-color: #008000\">'nsteps'</span><span style=\"font-weight: bold\">]</span>=<span style=\"color: #008080; text-decoration-color: #008080; font-weight: bold\">56</span> param<span style=\"font-weight: bold\">[</span><span style=\"color: #008000; text-decoration-color: #008000\">'aexp'</span><span style=\"font-weight: bold\">]</span>=<span style=\"color: #008080; text-decoration-color: #008080; font-weight: bold\">0.7407407407407407</span> z = <span style=\"color: #008080; text-decoration-color: #008080; font-weight: bold\">0.3500000000000001</span>                                         \n",
       "</pre>\n"
      ],
      "text/plain": [
       "param\u001b[1m[\u001b[0m\u001b[32m'nsteps'\u001b[0m\u001b[1m]\u001b[0m=\u001b[1;36m56\u001b[0m param\u001b[1m[\u001b[0m\u001b[32m'aexp'\u001b[0m\u001b[1m]\u001b[0m=\u001b[1;36m0.7407407407407407\u001b[0m z = \u001b[1;36m0.3500000000000001\u001b[0m                                         \n"
      ]
     },
     "metadata": {},
     "output_type": "display_data"
    },
    {
     "name": "stdout",
     "output_type": "stream",
     "text": [
      "1.25\n",
      "Step: 57 [0.0194646  0.02650088 0.99873257] [ 0.06886244  0.01425603 -0.01931305] [[ 4.351467   -0.23134422 -1.2538795  ... -1.1441231   0.8361244\n",
      "   4.7987175 ]\n",
      " [ 6.463806    0.3755436  -1.00531    ... -1.2244606   1.1534729\n",
      "   5.9963684 ]\n",
      " [ 8.046997    1.7400436  -0.4342003  ... -0.7845917   0.66015244\n",
      "   4.553009  ]\n",
      " ...\n",
      " [-0.08766937 -1.5557613  -2.1818962  ... -1.3178368  -0.6924362\n",
      "   0.12627792]\n",
      " [ 0.87519646 -1.1497955  -1.9409094  ... -0.7913017  -0.0610733\n",
      "   1.2609406 ]\n",
      " [ 1.5663223  -1.0495605  -1.8699551  ... -0.79681396  0.5122261\n",
      "   2.6472359 ]]\n"
     ]
    },
    {
     "data": {
      "text/html": [
       "<pre style=\"white-space:pre;overflow-x:auto;line-height:normal;font-family:Menlo,'DejaVu Sans Mono',consolas,'Courier New',monospace\">Snapshot written at <span style=\"color: #808000; text-decoration-color: #808000\">...</span><span style=\"color: #808000; text-decoration-color: #808000\">filename</span>=<span style=\"color: #008000; text-decoration-color: #008000\">'./ptest-c//output_00034/particles_eft_multigrid_ncoarse5.h5'</span>                      \n",
       "param<span style=\"font-weight: bold\">[</span><span style=\"color: #008000; text-decoration-color: #008000\">'aexp'</span><span style=\"font-weight: bold\">]</span>=<span style=\"color: #008080; text-decoration-color: #008080; font-weight: bold\">0.7692307692307692</span>                                                                                   \n",
       "</pre>\n"
      ],
      "text/plain": [
       "Snapshot written at \u001b[33m...\u001b[0m\u001b[33mfilename\u001b[0m=\u001b[32m'./ptest-c//output_00034/particles_eft_multigrid_ncoarse5.h5'\u001b[0m                      \n",
       "param\u001b[1m[\u001b[0m\u001b[32m'aexp'\u001b[0m\u001b[1m]\u001b[0m=\u001b[1;36m0.7692307692307692\u001b[0m                                                                                   \n"
      ]
     },
     "metadata": {},
     "output_type": "display_data"
    },
    {
     "data": {
      "text/html": [
       "<pre style=\"white-space:pre;overflow-x:auto;line-height:normal;font-family:Menlo,'DejaVu Sans Mono',consolas,'Courier New',monospace\">param<span style=\"font-weight: bold\">[</span><span style=\"color: #008000; text-decoration-color: #008000\">'nsteps'</span><span style=\"font-weight: bold\">]</span>=<span style=\"color: #008080; text-decoration-color: #008080; font-weight: bold\">57</span> param<span style=\"font-weight: bold\">[</span><span style=\"color: #008000; text-decoration-color: #008000\">'aexp'</span><span style=\"font-weight: bold\">]</span>=<span style=\"color: #008080; text-decoration-color: #008080; font-weight: bold\">0.7692307692307692</span> z = <span style=\"color: #008080; text-decoration-color: #008080; font-weight: bold\">0.30000000000000004</span>                                        \n",
       "</pre>\n"
      ],
      "text/plain": [
       "param\u001b[1m[\u001b[0m\u001b[32m'nsteps'\u001b[0m\u001b[1m]\u001b[0m=\u001b[1;36m57\u001b[0m param\u001b[1m[\u001b[0m\u001b[32m'aexp'\u001b[0m\u001b[1m]\u001b[0m=\u001b[1;36m0.7692307692307692\u001b[0m z = \u001b[1;36m0.30000000000000004\u001b[0m                                        \n"
      ]
     },
     "metadata": {},
     "output_type": "display_data"
    },
    {
     "name": "stdout",
     "output_type": "stream",
     "text": [
      "1.25\n",
      "Step: 58 [0.02261704 0.02715914 0.997847  ] [ 0.07373914  0.01554602 -0.02075445] [[ 4.233902   -0.5126343  -1.4569569  ... -1.1497612   1.1563339\n",
      "   5.5828285 ]\n",
      " [ 6.661148    0.11480713 -1.1611595  ... -1.1892815   1.4268761\n",
      "   6.904522  ]\n",
      " [ 8.610451    1.4070129  -0.5413456  ... -0.6985321   0.82131195\n",
      "   5.180317  ]\n",
      " ...\n",
      " [-0.1454277  -1.7430706  -2.3675365  ... -1.4005928  -0.655632\n",
      "   0.3256569 ]\n",
      " [ 0.86813354 -1.3464241  -2.1354294  ... -0.82146835  0.0879631\n",
      "   1.5951767 ]\n",
      " [ 1.459755   -1.266077   -2.0565605  ... -0.80934143  0.7619209\n",
      "   3.0846672 ]]\n"
     ]
    },
    {
     "data": {
      "text/html": [
       "<pre style=\"white-space:pre;overflow-x:auto;line-height:normal;font-family:Menlo,'DejaVu Sans Mono',consolas,'Courier New',monospace\">Snapshot written at <span style=\"color: #808000; text-decoration-color: #808000\">...</span><span style=\"color: #808000; text-decoration-color: #808000\">filename</span>=<span style=\"color: #008000; text-decoration-color: #008000\">'./ptest-c//output_00035/particles_eft_multigrid_ncoarse5.h5'</span> param<span style=\"font-weight: bold\">[</span><span style=\"color: #008000; text-decoration-color: #008000\">'aexp'</span><span style=\"font-weight: bold\">]</span>=<span style=\"color: #008080; text-decoration-color: #008080; font-weight: bold\">0.8</span>    \n",
       "</pre>\n"
      ],
      "text/plain": [
       "Snapshot written at \u001b[33m...\u001b[0m\u001b[33mfilename\u001b[0m=\u001b[32m'./ptest-c//output_00035/particles_eft_multigrid_ncoarse5.h5'\u001b[0m param\u001b[1m[\u001b[0m\u001b[32m'aexp'\u001b[0m\u001b[1m]\u001b[0m=\u001b[1;36m0.8\u001b[0m    \n"
      ]
     },
     "metadata": {},
     "output_type": "display_data"
    },
    {
     "data": {
      "text/html": [
       "<pre style=\"white-space:pre;overflow-x:auto;line-height:normal;font-family:Menlo,'DejaVu Sans Mono',consolas,'Courier New',monospace\">param<span style=\"font-weight: bold\">[</span><span style=\"color: #008000; text-decoration-color: #008000\">'nsteps'</span><span style=\"font-weight: bold\">]</span>=<span style=\"color: #008080; text-decoration-color: #008080; font-weight: bold\">58</span> param<span style=\"font-weight: bold\">[</span><span style=\"color: #008000; text-decoration-color: #008000\">'aexp'</span><span style=\"font-weight: bold\">]</span>=<span style=\"color: #008080; text-decoration-color: #008080; font-weight: bold\">0.8</span> z = <span style=\"color: #008080; text-decoration-color: #008080; font-weight: bold\">0.25</span>                                                                      \n",
       "</pre>\n"
      ],
      "text/plain": [
       "param\u001b[1m[\u001b[0m\u001b[32m'nsteps'\u001b[0m\u001b[1m]\u001b[0m=\u001b[1;36m58\u001b[0m param\u001b[1m[\u001b[0m\u001b[32m'aexp'\u001b[0m\u001b[1m]\u001b[0m=\u001b[1;36m0.8\u001b[0m z = \u001b[1;36m0.25\u001b[0m                                                                      \n"
      ]
     },
     "metadata": {},
     "output_type": "display_data"
    },
    {
     "name": "stdout",
     "output_type": "stream",
     "text": [
      "1.25\n",
      "Step: 59 [0.02606596 0.02789287 0.9968745 ] [ 0.07920554  0.0170217  -0.02238317] [[ 3.946186   -0.8045349  -1.6794167  ... -1.1043892   1.5912132\n",
      "   6.42614   ]\n",
      " [ 6.7702255  -0.11276627 -1.2699604  ... -1.1145744   1.7420921\n",
      "   7.836441  ]\n",
      " [ 9.065533    1.0624084  -0.6396332  ... -0.53110504  1.0311852\n",
      "   5.8888664 ]\n",
      " ...\n",
      " [-0.23986816 -1.9584637  -2.5699024  ... -1.4611511  -0.55334854\n",
      "   0.5600815 ]\n",
      " [ 0.82061386 -1.5821514  -2.3578548  ... -0.8302536   0.31389618\n",
      "   1.9860954 ]\n",
      " [ 1.3111267  -1.4873505  -2.2704296  ... -0.77682114  1.1198654\n",
      "   3.593876  ]]\n"
     ]
    },
    {
     "data": {
      "text/html": [
       "<pre style=\"white-space:pre;overflow-x:auto;line-height:normal;font-family:Menlo,'DejaVu Sans Mono',consolas,'Courier New',monospace\">Snapshot written at <span style=\"color: #808000; text-decoration-color: #808000\">...</span><span style=\"color: #808000; text-decoration-color: #808000\">filename</span>=<span style=\"color: #008000; text-decoration-color: #008000\">'./ptest-c//output_00036/particles_eft_multigrid_ncoarse5.h5'</span>                      \n",
       "param<span style=\"font-weight: bold\">[</span><span style=\"color: #008000; text-decoration-color: #008000\">'aexp'</span><span style=\"font-weight: bold\">]</span>=<span style=\"color: #008080; text-decoration-color: #008080; font-weight: bold\">0.8333333333333334</span>                                                                                   \n",
       "</pre>\n"
      ],
      "text/plain": [
       "Snapshot written at \u001b[33m...\u001b[0m\u001b[33mfilename\u001b[0m=\u001b[32m'./ptest-c//output_00036/particles_eft_multigrid_ncoarse5.h5'\u001b[0m                      \n",
       "param\u001b[1m[\u001b[0m\u001b[32m'aexp'\u001b[0m\u001b[1m]\u001b[0m=\u001b[1;36m0.8333333333333334\u001b[0m                                                                                   \n"
      ]
     },
     "metadata": {},
     "output_type": "display_data"
    },
    {
     "data": {
      "text/html": [
       "<pre style=\"white-space:pre;overflow-x:auto;line-height:normal;font-family:Menlo,'DejaVu Sans Mono',consolas,'Courier New',monospace\">param<span style=\"font-weight: bold\">[</span><span style=\"color: #008000; text-decoration-color: #008000\">'nsteps'</span><span style=\"font-weight: bold\">]</span>=<span style=\"color: #008080; text-decoration-color: #008080; font-weight: bold\">59</span> param<span style=\"font-weight: bold\">[</span><span style=\"color: #008000; text-decoration-color: #008000\">'aexp'</span><span style=\"font-weight: bold\">]</span>=<span style=\"color: #008080; text-decoration-color: #008080; font-weight: bold\">0.8333333333333334</span> z = <span style=\"color: #008080; text-decoration-color: #008080; font-weight: bold\">0.19999999999999996</span>                                        \n",
       "</pre>\n"
      ],
      "text/plain": [
       "param\u001b[1m[\u001b[0m\u001b[32m'nsteps'\u001b[0m\u001b[1m]\u001b[0m=\u001b[1;36m59\u001b[0m param\u001b[1m[\u001b[0m\u001b[32m'aexp'\u001b[0m\u001b[1m]\u001b[0m=\u001b[1;36m0.8333333333333334\u001b[0m z = \u001b[1;36m0.19999999999999996\u001b[0m                                        \n"
      ]
     },
     "metadata": {},
     "output_type": "display_data"
    },
    {
     "name": "stdout",
     "output_type": "stream",
     "text": [
      "1.25\n",
      "Step: 60 [0.02985456 0.02871484 0.9958016 ] [ 0.0853659   0.01872183 -0.0242324 ] [[ 3.5407639  -1.0859985  -1.8943233  ... -0.98426056  2.1937714\n",
      "   7.295849  ]\n",
      " [ 6.8625793  -0.33493805 -1.3666477  ... -0.98656845  2.1118393\n",
      "   8.815289  ]\n",
      " [ 9.391998    0.7831993  -0.70876694 ... -0.27903366  1.3032799\n",
      "   6.638092  ]\n",
      " ...\n",
      " [-0.41033554 -2.2017784  -2.7961636  ... -1.4783058  -0.37424088\n",
      "   0.8220024 ]\n",
      " [ 0.6882057  -1.8493137  -2.6118603  ... -0.7751541   0.6523895\n",
      "   2.4463577 ]\n",
      " [ 1.0997429  -1.7162037  -2.5083065  ... -0.6625366   1.6340866\n",
      "   4.1728134 ]]\n"
     ]
    },
    {
     "data": {
      "text/html": [
       "<pre style=\"white-space:pre;overflow-x:auto;line-height:normal;font-family:Menlo,'DejaVu Sans Mono',consolas,'Courier New',monospace\">Snapshot written at <span style=\"color: #808000; text-decoration-color: #808000\">...</span><span style=\"color: #808000; text-decoration-color: #808000\">filename</span>=<span style=\"color: #008000; text-decoration-color: #008000\">'./ptest-c//output_00037/particles_eft_multigrid_ncoarse5.h5'</span>                      \n",
       "param<span style=\"font-weight: bold\">[</span><span style=\"color: #008000; text-decoration-color: #008000\">'aexp'</span><span style=\"font-weight: bold\">]</span>=<span style=\"color: #008080; text-decoration-color: #008080; font-weight: bold\">0.8695652173913044</span>                                                                                   \n",
       "</pre>\n"
      ],
      "text/plain": [
       "Snapshot written at \u001b[33m...\u001b[0m\u001b[33mfilename\u001b[0m=\u001b[32m'./ptest-c//output_00037/particles_eft_multigrid_ncoarse5.h5'\u001b[0m                      \n",
       "param\u001b[1m[\u001b[0m\u001b[32m'aexp'\u001b[0m\u001b[1m]\u001b[0m=\u001b[1;36m0.8695652173913044\u001b[0m                                                                                   \n"
      ]
     },
     "metadata": {},
     "output_type": "display_data"
    },
    {
     "data": {
      "text/html": [
       "<pre style=\"white-space:pre;overflow-x:auto;line-height:normal;font-family:Menlo,'DejaVu Sans Mono',consolas,'Courier New',monospace\">param<span style=\"font-weight: bold\">[</span><span style=\"color: #008000; text-decoration-color: #008000\">'nsteps'</span><span style=\"font-weight: bold\">]</span>=<span style=\"color: #008080; text-decoration-color: #008080; font-weight: bold\">60</span> param<span style=\"font-weight: bold\">[</span><span style=\"color: #008000; text-decoration-color: #008000\">'aexp'</span><span style=\"font-weight: bold\">]</span>=<span style=\"color: #008080; text-decoration-color: #008080; font-weight: bold\">0.8695652173913044</span> z = <span style=\"color: #008080; text-decoration-color: #008080; font-weight: bold\">0.1499999999999999</span>                                         \n",
       "</pre>\n"
      ],
      "text/plain": [
       "param\u001b[1m[\u001b[0m\u001b[32m'nsteps'\u001b[0m\u001b[1m]\u001b[0m=\u001b[1;36m60\u001b[0m param\u001b[1m[\u001b[0m\u001b[32m'aexp'\u001b[0m\u001b[1m]\u001b[0m=\u001b[1;36m0.8695652173913044\u001b[0m z = \u001b[1;36m0.1499999999999999\u001b[0m                                         \n"
      ]
     },
     "metadata": {},
     "output_type": "display_data"
    },
    {
     "name": "stdout",
     "output_type": "stream",
     "text": [
      "1.25\n",
      "Step: 61 [0.03403489 0.02964095 0.9946123 ] [ 0.09235322  0.02069869 -0.02634491] [[ 3.0680923  -1.3347816  -2.106758   ... -0.7772522   2.9476929\n",
      "   8.072903  ]\n",
      " [ 6.903988   -0.5882225  -1.4817753  ... -0.77020645  2.541668\n",
      "   9.785103  ]\n",
      " [ 9.373707    0.4710579  -0.7919159  ...  0.08113861  1.6620636\n",
      "   7.281212  ]\n",
      " ...\n",
      " [-0.6936302  -2.4852505  -3.020033   ... -1.4339066  -0.09250641\n",
      "   1.1201286 ]\n",
      " [ 0.44016647 -2.1410618  -2.8638477  ... -0.6199417   1.161087\n",
      "   3.0118752 ]\n",
      " [ 0.77373123 -1.988514   -2.7463646  ... -0.45803452  2.3389473\n",
      "   4.724701  ]]\n"
     ]
    },
    {
     "data": {
      "text/html": [
       "<pre style=\"white-space:pre;overflow-x:auto;line-height:normal;font-family:Menlo,'DejaVu Sans Mono',consolas,'Courier New',monospace\">Snapshot written at <span style=\"color: #808000; text-decoration-color: #808000\">...</span><span style=\"color: #808000; text-decoration-color: #808000\">filename</span>=<span style=\"color: #008000; text-decoration-color: #008000\">'./ptest-c//output_00038/particles_eft_multigrid_ncoarse5.h5'</span>                      \n",
       "param<span style=\"font-weight: bold\">[</span><span style=\"color: #008000; text-decoration-color: #008000\">'aexp'</span><span style=\"font-weight: bold\">]</span>=<span style=\"color: #008080; text-decoration-color: #008080; font-weight: bold\">0.9090909090909091</span>                                                                                   \n",
       "</pre>\n"
      ],
      "text/plain": [
       "Snapshot written at \u001b[33m...\u001b[0m\u001b[33mfilename\u001b[0m=\u001b[32m'./ptest-c//output_00038/particles_eft_multigrid_ncoarse5.h5'\u001b[0m                      \n",
       "param\u001b[1m[\u001b[0m\u001b[32m'aexp'\u001b[0m\u001b[1m]\u001b[0m=\u001b[1;36m0.9090909090909091\u001b[0m                                                                                   \n"
      ]
     },
     "metadata": {},
     "output_type": "display_data"
    },
    {
     "data": {
      "text/html": [
       "<pre style=\"white-space:pre;overflow-x:auto;line-height:normal;font-family:Menlo,'DejaVu Sans Mono',consolas,'Courier New',monospace\">param<span style=\"font-weight: bold\">[</span><span style=\"color: #008000; text-decoration-color: #008000\">'nsteps'</span><span style=\"font-weight: bold\">]</span>=<span style=\"color: #008080; text-decoration-color: #008080; font-weight: bold\">61</span> param<span style=\"font-weight: bold\">[</span><span style=\"color: #008000; text-decoration-color: #008000\">'aexp'</span><span style=\"font-weight: bold\">]</span>=<span style=\"color: #008080; text-decoration-color: #008080; font-weight: bold\">0.9090909090909091</span> z = <span style=\"color: #008080; text-decoration-color: #008080; font-weight: bold\">0.10000000000000009</span>                                        \n",
       "</pre>\n"
      ],
      "text/plain": [
       "param\u001b[1m[\u001b[0m\u001b[32m'nsteps'\u001b[0m\u001b[1m]\u001b[0m=\u001b[1;36m61\u001b[0m param\u001b[1m[\u001b[0m\u001b[32m'aexp'\u001b[0m\u001b[1m]\u001b[0m=\u001b[1;36m0.9090909090909091\u001b[0m z = \u001b[1;36m0.10000000000000009\u001b[0m                                        \n"
      ]
     },
     "metadata": {},
     "output_type": "display_data"
    },
    {
     "name": "stdout",
     "output_type": "stream",
     "text": [
      "1.25\n",
      "Step: 62 [0.03867045 0.0306912  0.9932866 ] [ 0.10033928  0.02301583 -0.02879145] [[ 2.5730019  -1.509182   -2.322857   ... -0.43022156  3.819786\n",
      "   8.751728  ]\n",
      " [ 6.906231   -0.86693573 -1.6067505  ... -0.41751862  3.0315018\n",
      "  10.689068  ]\n",
      " [ 8.8629875   0.02799988 -0.92512894 ...  0.57990265  1.9937019\n",
      "   7.6336555 ]\n",
      " ...\n",
      " [-1.1470871  -2.808052   -3.2321777  ... -1.3189774   0.32821655\n",
      "   1.4370995 ]\n",
      " [ 0.07134628 -2.3719444  -3.1020527  ... -0.330513    1.911438\n",
      "   3.631054  ]\n",
      " [ 0.29855728 -2.2551231  -2.987234   ... -0.10654449  3.2945518\n",
      "   5.175419  ]]\n"
     ]
    },
    {
     "data": {
      "text/html": [
       "<pre style=\"white-space:pre;overflow-x:auto;line-height:normal;font-family:Menlo,'DejaVu Sans Mono',consolas,'Courier New',monospace\">Snapshot written at <span style=\"color: #808000; text-decoration-color: #808000\">...</span><span style=\"color: #808000; text-decoration-color: #808000\">filename</span>=<span style=\"color: #008000; text-decoration-color: #008000\">'./ptest-c//output_00039/particles_eft_multigrid_ncoarse5.h5'</span>                      \n",
       "param<span style=\"font-weight: bold\">[</span><span style=\"color: #008000; text-decoration-color: #008000\">'aexp'</span><span style=\"font-weight: bold\">]</span>=<span style=\"color: #008080; text-decoration-color: #008080; font-weight: bold\">0.9523809523809523</span>                                                                                   \n",
       "</pre>\n"
      ],
      "text/plain": [
       "Snapshot written at \u001b[33m...\u001b[0m\u001b[33mfilename\u001b[0m=\u001b[32m'./ptest-c//output_00039/particles_eft_multigrid_ncoarse5.h5'\u001b[0m                      \n",
       "param\u001b[1m[\u001b[0m\u001b[32m'aexp'\u001b[0m\u001b[1m]\u001b[0m=\u001b[1;36m0.9523809523809523\u001b[0m                                                                                   \n"
      ]
     },
     "metadata": {},
     "output_type": "display_data"
    },
    {
     "data": {
      "text/html": [
       "<pre style=\"white-space:pre;overflow-x:auto;line-height:normal;font-family:Menlo,'DejaVu Sans Mono',consolas,'Courier New',monospace\">param<span style=\"font-weight: bold\">[</span><span style=\"color: #008000; text-decoration-color: #008000\">'nsteps'</span><span style=\"font-weight: bold\">]</span>=<span style=\"color: #008080; text-decoration-color: #008080; font-weight: bold\">62</span> param<span style=\"font-weight: bold\">[</span><span style=\"color: #008000; text-decoration-color: #008000\">'aexp'</span><span style=\"font-weight: bold\">]</span>=<span style=\"color: #008080; text-decoration-color: #008080; font-weight: bold\">0.9523809523809523</span> z = <span style=\"color: #008080; text-decoration-color: #008080; font-weight: bold\">0.050000000000000044</span>                                       \n",
       "</pre>\n"
      ],
      "text/plain": [
       "param\u001b[1m[\u001b[0m\u001b[32m'nsteps'\u001b[0m\u001b[1m]\u001b[0m=\u001b[1;36m62\u001b[0m param\u001b[1m[\u001b[0m\u001b[32m'aexp'\u001b[0m\u001b[1m]\u001b[0m=\u001b[1;36m0.9523809523809523\u001b[0m z = \u001b[1;36m0.050000000000000044\u001b[0m                                       \n"
      ]
     },
     "metadata": {},
     "output_type": "display_data"
    },
    {
     "name": "stdout",
     "output_type": "stream",
     "text": [
      "1.25\n",
      "Step: 63 [0.04383972 0.03189062 0.99179864] [ 0.10954787  0.02575002 -0.03168475] [[ 2.072132   -1.5885696  -2.589695   ...  0.14484024  4.79393\n",
      "   9.295311  ]\n",
      " [ 6.948616   -1.0327568  -1.7443085  ...  0.07243729  3.5410995\n",
      "  11.350342  ]\n",
      " [ 7.931061   -0.3906784  -1.0426979  ...  1.1817703   2.2086945\n",
      "   7.3909454 ]\n",
      " ...\n",
      " [-1.7813988  -3.1603546  -3.4261951  ... -1.0993118   0.9553032\n",
      "   1.6260948 ]\n",
      " [-0.41093445 -2.5320282  -3.3357105  ...  0.15409851  2.9670563\n",
      "   4.107052  ]\n",
      " [-0.3163681  -2.509327   -3.251648   ...  0.46852493  4.535572\n",
      "   5.4405365 ]]\n"
     ]
    },
    {
     "data": {
      "text/html": [
       "<pre style=\"white-space:pre;overflow-x:auto;line-height:normal;font-family:Menlo,'DejaVu Sans Mono',consolas,'Courier New',monospace\">Snapshot written at <span style=\"color: #808000; text-decoration-color: #808000\">...</span><span style=\"color: #808000; text-decoration-color: #808000\">filename</span>=<span style=\"color: #008000; text-decoration-color: #008000\">'./ptest-c//output_00040/particles_eft_multigrid_ncoarse5.h5'</span> param<span style=\"font-weight: bold\">[</span><span style=\"color: #008000; text-decoration-color: #008000\">'aexp'</span><span style=\"font-weight: bold\">]</span>=<span style=\"color: #008080; text-decoration-color: #008080; font-weight: bold\">1.0</span>    \n",
       "</pre>\n"
      ],
      "text/plain": [
       "Snapshot written at \u001b[33m...\u001b[0m\u001b[33mfilename\u001b[0m=\u001b[32m'./ptest-c//output_00040/particles_eft_multigrid_ncoarse5.h5'\u001b[0m param\u001b[1m[\u001b[0m\u001b[32m'aexp'\u001b[0m\u001b[1m]\u001b[0m=\u001b[1;36m1.0\u001b[0m    \n"
      ]
     },
     "metadata": {},
     "output_type": "display_data"
    },
    {
     "data": {
      "text/html": [
       "<pre style=\"white-space:pre;overflow-x:auto;line-height:normal;font-family:Menlo,'DejaVu Sans Mono',consolas,'Courier New',monospace\">param<span style=\"font-weight: bold\">[</span><span style=\"color: #008000; text-decoration-color: #008000\">'nsteps'</span><span style=\"font-weight: bold\">]</span>=<span style=\"color: #008080; text-decoration-color: #008080; font-weight: bold\">63</span> param<span style=\"font-weight: bold\">[</span><span style=\"color: #008000; text-decoration-color: #008000\">'aexp'</span><span style=\"font-weight: bold\">]</span>=<span style=\"color: #008080; text-decoration-color: #008080; font-weight: bold\">1.0</span> z = <span style=\"color: #008080; text-decoration-color: #008080; font-weight: bold\">0.0</span>                                                                       \n",
       "</pre>\n"
      ],
      "text/plain": [
       "param\u001b[1m[\u001b[0m\u001b[32m'nsteps'\u001b[0m\u001b[1m]\u001b[0m=\u001b[1;36m63\u001b[0m param\u001b[1m[\u001b[0m\u001b[32m'aexp'\u001b[0m\u001b[1m]\u001b[0m=\u001b[1;36m1.0\u001b[0m z = \u001b[1;36m0.0\u001b[0m                                                                       \n"
      ]
     },
     "metadata": {},
     "output_type": "display_data"
    }
   ],
   "source": [
    "path = '.'\n",
    "\n",
    "# params - linear\n",
    "\n",
    "param = pd.Series({\n",
    "    \"theory\": \"eft\",\n",
    "    \"alphaB0\": 0.1,\n",
    "    \"alphaM0\": 0.0,\n",
    "    \"extra\":'04_01',\n",
    "    \"nthreads\": 1,\n",
    "    \"H0\": 72,\n",
    "    \"Om_m\": 1.,\n",
    "    \"T_cmb\": 0.1,\n",
    "    \"N_eff\": 3.044,\n",
    "    \"w0\": -1.0,\n",
    "    \"wa\": 0.0,\n",
    "    \"boxlen\": 100,\n",
    "    \"ncoarse\": 5,\n",
    "    \"npart\": 32**3,\n",
    "    \"z_start\": 50,\n",
    "    \"seed\": 42,\n",
    "    \"position_ICS\": \"center\",\n",
    "    \"fixed_ICS\": False,\n",
    "    \"paired_ICS\": False,\n",
    "    \"dealiased_ICS\": False,\n",
    "    \"power_spectrum_file\": f\"{path}/pk_lcdmw7v2.dat\",\n",
    "    \"initial_conditions\": \"2LPT\",\n",
    "    \"base\": f\"{path}/ptest-c/\",\n",
    "    \"z_out\": \"[20,19,18,17,16,15,14,13,12,11,10,9,8,7,6,5,4,3,2,1,0.95,0.9,0.85,0.8,0.75,0.7,0.65,0.6,0.55,0.5,0.45,0.4,0.35,0.3,0.25,0.2,0.15,0.1,0.05,0]\",\n",
    "    \"output_snapshot_format\": \"HDF5\",\n",
    "    \"save_power_spectrum\": \"no\",\n",
    "    \"integrator\": \"leapfrog\",\n",
    "    \"n_reorder\": 50,\n",
    "    \"mass_scheme\": \"TSC\",\n",
    "    \"Courant_factor\": 1.0,\n",
    "    \"max_aexp_stepping\": 10,\n",
    "    \"linear_newton_solver\": \"multigrid\",\n",
    "    \"gradient_stencil_order\": 5,\n",
    "    \"Npre\": 2,\n",
    "    \"Npost\": 1,\n",
    "    \"epsrel\": 1e-2,\n",
    "    \"verbose\": 1,\n",
    "    \"evolution_table\":'no',\n",
    "    \"Om_lambda\":0\n",
    "    })\n",
    "\n",
    "main.run(param)"
   ]
  },
  {
   "cell_type": "code",
   "execution_count": null,
   "id": "84ec35f0-74e6-47d5-b6b2-186d2fe6179a",
   "metadata": {},
   "outputs": [],
   "source": [
    "# Small\n",
    "\n",
    "path = '.'\n",
    "\n",
    "param = pd.Series({\n",
    "    \"theory\": \"eft\",\n",
    "    \"alphaB0\": 0.1,\n",
    "    \"alphaM0\": 0.0,\n",
    "    \"extra\":'04_01',\n",
    "    \"nthreads\": 1,\n",
    "    \"H0\": 72,\n",
    "    \"Om_m\": 1.,\n",
    "    \"T_cmb\": 0.1,\n",
    "    \"N_eff\": 3.044,\n",
    "    \"w0\": -1.0,\n",
    "    \"wa\": 0.0,\n",
    "    \"boxlen\": 100,\n",
    "    \"ncoarse\": 5,\n",
    "    \"npart\": 32**3,\n",
    "    \"z_start\": 25,\n",
    "    \"seed\": 42,\n",
    "    \"position_ICS\": \"center\",\n",
    "    \"fixed_ICS\": False,\n",
    "    \"paired_ICS\": False,\n",
    "    \"dealiased_ICS\": False,\n",
    "    \"power_spectrum_file\": f\"{path}/pk_lcdmw7v2.dat\",\n",
    "    \"initial_conditions\": \"2LPT\",\n",
    "    \"base\": f\"{path}/smallbig/\",\n",
    "    \"z_out\": \"[20,19,18,17,16,15,14,13,12,11,10,9,8,7,6,5,4,3,2,1,0.95,0.9,0.85,0.8,0.75,0.7,0.65,0.6,0.55,0.5,0.45,0.4,0.35,0.3,0.25,0.2,0.15,0.1,0.05,0]\",\n",
    "    \"output_snapshot_format\": \"HDF5\",\n",
    "    \"save_power_spectrum\": \"no\",\n",
    "    \"integrator\": \"leapfrog\",\n",
    "    \"n_reorder\": 50,\n",
    "    \"mass_scheme\": \"TSC\",\n",
    "    \"Courant_factor\": 1.0,\n",
    "    \"max_aexp_stepping\": 10,\n",
    "    \"linear_newton_solver\": \"multigrid\",\n",
    "    \"gradient_stencil_order\": 5,\n",
    "    \"Npre\": 3,\n",
    "    \"Npost\": 3,\n",
    "    \"epsrel\": 1e-2,\n",
    "    \"verbose\": 1,\n",
    "    \"evolution_table\":'no',\n",
    "    \"Om_lambda\":0\n",
    "    })\n",
    "\n",
    "main.run(param)"
   ]
  },
  {
   "cell_type": "code",
   "execution_count": null,
   "id": "6ab04d4f-d582-4074-9df0-1dfcfdb50e49",
   "metadata": {},
   "outputs": [],
   "source": [
    "path = '.'\n",
    "\n",
    "param = pd.Series({\n",
    "    \"theory\": \"parametrized\",\n",
    "    \"parametrized_mu0\":0.25,\n",
    "    \"alphaB0\": 0.1,\n",
    "    \"alphaM0\": 0.5,\n",
    "    \"nthreads\": 1,\n",
    "    \"H0\": 72,\n",
    "    \"Om_m\": 1.,\n",
    "    \"T_cmb\": 0.1,\n",
    "    \"N_eff\": 3.044,\n",
    "    \"w0\": -1.0,\n",
    "    \"wa\": 0.0,\n",
    "    \"boxlen\": 100,\n",
    "    \"ncoarse\": 7,\n",
    "    \"npart\": 128**3,\n",
    "    \"z_start\": 25,\n",
    "    \"seed\": 42,\n",
    "    \"position_ICS\": \"center\",\n",
    "    \"fixed_ICS\": False,\n",
    "    \"paired_ICS\": False,\n",
    "    \"dealiased_ICS\": False,\n",
    "    \"power_spectrum_file\": f\"{path}/pk_lcdmw7v2.dat\",\n",
    "    \"initial_conditions\": \"2LPT\",\n",
    "    \"base\": f\"{path}/ptest-c/\",\n",
    "    \"z_out\": \"[20,19,18,17,16,15,14,13,12,11,10,9,8,7,6,5,4,3,2,1,0.95,0.9,0.85,0.8,0.75,0.7,0.65,0.6,0.55,0.5,0.45,0.4,0.35,0.3,0.25,0.2,0.15,0.1,0.05,0]\",\n",
    "    \"output_snapshot_format\": \"HDF5\",\n",
    "    \"save_power_spectrum\": \"no\",\n",
    "    \"integrator\": \"leapfrog\",\n",
    "    \"n_reorder\": 50,\n",
    "    \"mass_scheme\": \"TSC\",\n",
    "    \"Courant_factor\": 1.0,\n",
    "    \"max_aexp_stepping\": 10,\n",
    "    \"linear_newton_solver\": \"multigrid\",\n",
    "    \"gradient_stencil_order\": 5,\n",
    "    \"Npre\": 2,\n",
    "    \"Npost\": 1,\n",
    "    \"epsrel\": 1e-2,\n",
    "    \"verbose\": 1,\n",
    "    \"evolution_table\":'no',\n",
    "    \"Om_lambda\":0.0\n",
    "    })\n",
    "\n",
    "main.run(param)"
   ]
  },
  {
   "cell_type": "code",
   "execution_count": null,
   "id": "6f81c92b-88ec-4801-b118-46d545f25186",
   "metadata": {},
   "outputs": [],
   "source": [
    "path = '.'\n",
    "\n",
    "param = pd.Series({\n",
    "    \"theory\": \"eft\",\n",
    "    \"alphaB0\": 0.3066,\n",
    "    \"alphaM0\": 0,\n",
    "    \"wa\":-0.2,\n",
    "    \"nthreads\": 1,\n",
    "    \"H0\": 72,\n",
    "    \"Om_m\": 0.25733,\n",
    "    \"T_cmb\": 2.726,\n",
    "    \"N_eff\": 3.044,\n",
    "    \"w0\": -1.0,\n",
    "    \"boxlen\": 100,\n",
    "    \"ncoarse\": 8,\n",
    "    \"npart\": 256**3,\n",
    "    \"z_start\": 25,\n",
    "    \"seed\": 42,\n",
    "    \"position_ICS\": \"center\",\n",
    "    \"fixed_ICS\": False,\n",
    "    \"paired_ICS\": False,\n",
    "    \"dealiased_ICS\": False,\n",
    "    \"power_spectrum_file\": f\"{path}/pk_lcdmw7v2.dat\",\n",
    "    \"initial_conditions\": \"2LPT\",\n",
    "    \"base\": f\"{path}/ptestn/\",\n",
    "    \"z_out\": \"[20,19,18,17,16,15,14,13,12,11,10,9,8,7,6,5,4,3,2,1,0.95,0.9,0.85,0.8,0.75,0.7,0.65,0.6,0.55,0.5,0.45,0.4,0.35,0.3,0.25,0.2,0.15,0.1,0.05,0]\",\n",
    "    \"output_snapshot_format\": \"HDF5\",\n",
    "    \"save_power_spectrum\": \"no\",\n",
    "    \"integrator\": \"leapfrog\",\n",
    "    \"n_reorder\": 50,\n",
    "    \"mass_scheme\": \"TSC\",\n",
    "    \"Courant_factor\": 1.0,\n",
    "    \"max_aexp_stepping\": 10,\n",
    "    \"linear_newton_solver\": \"multigrid\",\n",
    "    \"gradient_stencil_order\": 5,\n",
    "    \"Npre\": 2,\n",
    "    \"Npost\": 1,\n",
    "    \"epsrel\": 1e-2,\n",
    "    \"verbose\": 1,\n",
    "    \"evolution_table\":'no',\n",
    "    \"Om_lambda\":0.74267\n",
    "    })\n",
    "\n",
    "main.run(param)"
   ]
  },
  {
   "cell_type": "code",
   "execution_count": null,
   "id": "555f68d0-f8ee-4631-be9b-264d85afb7f3",
   "metadata": {},
   "outputs": [],
   "source": [
    "path = '.'\n",
    "\n",
    "param = pd.Series({\n",
    "    \"theory\": \"parametrized\",\n",
    "    \"parametrized_mu0\":-0.072,\n",
    "    \"wa\":-0.2,\n",
    "    \"alphaB0\": 0.1,\n",
    "    \"alphaM0\": 0.5,\n",
    "    \"nthreads\": 1,\n",
    "    \"H0\": 72,\n",
    "    \"Om_m\": 0.25733,\n",
    "    \"T_cmb\": 2.726,\n",
    "    \"N_eff\": 3.044,\n",
    "    \"w0\": -1.0,\n",
    "    \"boxlen\": 100,\n",
    "    \"ncoarse\": 8,\n",
    "    \"npart\": 256**3,\n",
    "    \"z_start\": 25,\n",
    "    \"seed\": 42,\n",
    "    \"position_ICS\": \"center\",\n",
    "    \"fixed_ICS\": False,\n",
    "    \"paired_ICS\": False,\n",
    "    \"dealiased_ICS\": False,\n",
    "    \"power_spectrum_file\": f\"{path}/pk_lcdmw7v2.dat\",\n",
    "    \"initial_conditions\": \"2LPT\",\n",
    "    \"base\": f\"{path}/ptestn/\",\n",
    "    \"z_out\": \"[20,19,18,17,16,15,14,13,12,11,10,9,8,7,6,5,4,3,2,1,0.95,0.9,0.85,0.8,0.75,0.7,0.65,0.6,0.55,0.5,0.45,0.4,0.35,0.3,0.25,0.2,0.15,0.1,0.05,0]\",\n",
    "    \"output_snapshot_format\": \"HDF5\",\n",
    "    \"save_power_spectrum\": \"no\",\n",
    "    \"integrator\": \"leapfrog\",\n",
    "    \"n_reorder\": 50,\n",
    "    \"mass_scheme\": \"TSC\",\n",
    "    \"Courant_factor\": 1.0,\n",
    "    \"max_aexp_stepping\": 10,\n",
    "    \"linear_newton_solver\": \"multigrid\",\n",
    "    \"gradient_stencil_order\": 5,\n",
    "    \"Npre\": 2,\n",
    "    \"Npost\": 1,\n",
    "    \"epsrel\": 1e-2,\n",
    "    \"verbose\": 1,\n",
    "    \"evolution_table\":'no',\n",
    "    \"Om_lambda\":0.74\n",
    "    })\n",
    "\n",
    "main.run(param)"
   ]
  },
  {
   "cell_type": "code",
   "execution_count": null,
   "id": "12253e6e-2e12-4e89-a94b-c0ea49c2d8f8",
   "metadata": {},
   "outputs": [],
   "source": [
    "import numpy as np\n",
    "import matplotlib.pyplot as plt"
   ]
  },
  {
   "cell_type": "code",
   "execution_count": null,
   "id": "8f245db8-f29f-4115-974c-0ab46feafe97",
   "metadata": {},
   "outputs": [],
   "source": [
    "x = np.loadtxt('./t4/power/pk_eft_multigrid_ncoarse6_00039.dat')\n",
    "plt.loglog(x[:,0],x[:,1],'.')\n",
    "\n",
    "\n",
    "\n"
   ]
  },
  {
   "cell_type": "code",
   "execution_count": null,
   "id": "2a09895b-7fa4-42d0-a9ce-3b806a1b0de4",
   "metadata": {},
   "outputs": [],
   "source": [
    "x = np.loadtxt('./t4/power/pk_eft_multigrid_ncoarse7_00001.dat')\n",
    "plt.loglog(x[:,0],x[:,1],'.')\n",
    "\n",
    "x = np.loadtxt('./t4/power/pk_newton_multigrid_ncoarse7_00001.dat')\n",
    "plt.loglog(x[:,0],x[:,1],'.')\n",
    "\n"
   ]
  },
  {
   "cell_type": "code",
   "execution_count": null,
   "id": "de0d99c0-463c-41fc-9c69-ff216f791b3c",
   "metadata": {},
   "outputs": [],
   "source": [
    "pwd"
   ]
  },
  {
   "cell_type": "code",
   "execution_count": null,
   "id": "50ac511f-b87a-4d85-a99b-3e65b0e3c710",
   "metadata": {},
   "outputs": [],
   "source": [
    "\n",
    "\n",
    "x = np.loadtxt('./tester3/power/pk_eft_multigrid_ncoarse8_00001.dat')\n",
    "plt.loglog(x[:,0],x[:,1],'.')\n",
    "\n",
    "\n",
    "x = np.loadtxt('./tester3/power/pk_eft_multigrid_ncoarse8_00080.dat')\n",
    "plt.loglog(x[:,0],x[:,1],'.')\n",
    "\n",
    "plt.gca().set_prop_cycle(None)\n",
    "\n",
    "x = np.loadtxt('./tester3/power/pk_newton_multigrid_ncoarse8_00001.dat')\n",
    "plt.plot(x[:,0],x[:,1])\n",
    "\n",
    "x = np.loadtxt('./tester3/power/pk_newton_multigrid_ncoarse8_00085.dat')\n",
    "plt.plot(x[:,0],x[:,1])"
   ]
  },
  {
   "cell_type": "code",
   "execution_count": null,
   "id": "21e4f1c4-a5a4-4661-bdaf-ce7db80c0e15",
   "metadata": {},
   "outputs": [],
   "source": [
    "\n",
    "\n",
    "\n",
    "x = np.loadtxt('./boxlen100_n32/power/pk_newton_multigrid_ncoarse5_00010.dat')\n",
    "plt.loglog(x[:,0],x[:,1],'.')\n",
    "\n",
    "x = np.loadtxt('./boxlen100_n32/power/pk_eft_multigrid_ncoarse5_00010.dat')\n",
    "plt.loglog(x[:,0],x[:,1],'x')"
   ]
  },
  {
   "cell_type": "code",
   "execution_count": null,
   "id": "87df80cd-5230-4cb7-8791-1e7de4f88a83",
   "metadata": {},
   "outputs": [],
   "source": [
    "plt.loglog(x["
   ]
  },
  {
   "cell_type": "code",
   "execution_count": null,
   "id": "ddb85791-d8e9-4e4c-9146-adc2d33abb79",
   "metadata": {},
   "outputs": [],
   "source": []
  }
 ],
 "metadata": {
  "kernelspec": {
   "display_name": "Python 3 (ipykernel)",
   "language": "python",
   "name": "python3"
  },
  "language_info": {
   "codemirror_mode": {
    "name": "ipython",
    "version": 3
   },
   "file_extension": ".py",
   "mimetype": "text/x-python",
   "name": "python",
   "nbconvert_exporter": "python",
   "pygments_lexer": "ipython3",
   "version": "3.12.7"
  }
 },
 "nbformat": 4,
 "nbformat_minor": 5
}
