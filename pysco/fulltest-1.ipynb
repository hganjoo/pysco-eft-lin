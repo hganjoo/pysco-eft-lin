{
 "cells": [
  {
   "cell_type": "code",
   "execution_count": 1,
   "id": "b849885c-861b-4f15-a951-6cf85cb9fcee",
   "metadata": {},
   "outputs": [],
   "source": [
    "import main\n",
    "import pandas as pd"
   ]
  },
  {
   "cell_type": "code",
   "execution_count": 6,
   "id": "edcbfe75-123d-43a7-bfbc-171e76ae7f94",
   "metadata": {},
   "outputs": [],
   "source": [
    "path = '.'\n",
    "\n",
    "param = pd.Series({\n",
    "    \"theory\": \"eft\",\n",
    "    \"alphaB0\": 0.1,\n",
    "    \"alphaM0\": 0.3,\n",
    "    \"nthreads\": 1,\n",
    "    \"H0\": 72,\n",
    "    \"Om_m\": 0.25733,\n",
    "    \"T_cmb\": 2.726,\n",
    "    \"N_eff\": 3.044,\n",
    "    \"w0\": -1.0,\n",
    "    \"wa\": 0.0,\n",
    "    \"boxlen\": 100,\n",
    "    \"ncoarse\": 7,\n",
    "    \"npart\": 128**3,\n",
    "    \"z_start\": 49,\n",
    "    \"seed\": 42,\n",
    "    \"position_ICS\": \"center\",\n",
    "    \"fixed_ICS\": False,\n",
    "    \"paired_ICS\": False,\n",
    "    \"dealiased_ICS\": False,\n",
    "    \"power_spectrum_file\": f\"{path}/pk_lcdmw7v2.dat\",\n",
    "    \"initial_conditions\": \"2LPT\",\n",
    "    \"base\": f\"{path}/boxlen100_n128_lcdmw7v2_00000/\",\n",
    "    \"z_out\": \"[10, 8, 5, 2, 1, 0]\",\n",
    "    \"output_snapshot_format\": \"HDF5\",\n",
    "    \"save_power_spectrum\": \"yes\",\n",
    "    \"integrator\": \"leapfrog\",\n",
    "    \"n_reorder\": 50,\n",
    "    \"mass_scheme\": \"TSC\",\n",
    "    \"Courant_factor\": 1.0,\n",
    "    \"max_aexp_stepping\": 10,\n",
    "    \"linear_newton_solver\": \"multigrid\",\n",
    "    \"gradient_stencil_order\": 5,\n",
    "    \"Npre\": 2,\n",
    "    \"Npost\": 1,\n",
    "    \"epsrel\": 1e-2,\n",
    "    \"verbose\": 1,\n",
    "    \"evolution_table\":'no',\n",
    "    \"Om_lambda\":0.74\n",
    "    })"
   ]
  },
  {
   "cell_type": "code",
   "execution_count": 7,
   "id": "27ade68d-e53f-42f8-90a4-26a11e179477",
   "metadata": {},
   "outputs": [
    {
     "data": {
      "text/html": [
       "<pre style=\"white-space:pre;overflow-x:auto;line-height:normal;font-family:Menlo,'DejaVu Sans Mono',consolas,'Courier New',monospace\">param<span style=\"font-weight: bold\">[</span><span style=\"color: #008000; text-decoration-color: #008000\">'nthreads'</span><span style=\"font-weight: bold\">]</span>=<span style=\"color: #008080; text-decoration-color: #008080; font-weight: bold\">1</span>                                                                                                \n",
       "</pre>\n"
      ],
      "text/plain": [
       "param\u001b[1m[\u001b[0m\u001b[32m'nthreads'\u001b[0m\u001b[1m]\u001b[0m=\u001b[1;36m1\u001b[0m                                                                                                \n"
      ]
     },
     "metadata": {},
     "output_type": "display_data"
    },
    {
     "data": {
      "text/html": [
       "<pre style=\"white-space:pre;overflow-x:auto;line-height:normal;font-family:Menlo,'DejaVu Sans Mono',consolas,'Courier New',monospace\">                                                                                                                   \n",
       "<span style=\"color: #008000; text-decoration-color: #008000; font-weight: bold\">FFT module: NumPy</span>                                                                                                  \n",
       "</pre>\n"
      ],
      "text/plain": [
       "                                                                                                                   \n",
       "\u001b[1;32mFFT module: NumPy\u001b[0m                                                                                                  \n"
      ]
     },
     "metadata": {},
     "output_type": "display_data"
    },
    {
     "data": {
      "text/html": [
       "<pre style=\"white-space:pre;overflow-x:auto;line-height:normal;font-family:Menlo,'DejaVu Sans Mono',consolas,'Courier New',monospace\">                                                                                                                   \n",
       "<span style=\"color: #000080; text-decoration-color: #000080; font-weight: bold\">----- Compute background cosmology -----</span>                                                                           \n",
       "                                                                                                                   \n",
       "</pre>\n"
      ],
      "text/plain": [
       "                                                                                                                   \n",
       "\u001b[1;34m----- Compute background cosmology -----\u001b[0m                                                                           \n",
       "                                                                                                                   \n"
      ]
     },
     "metadata": {},
     "output_type": "display_data"
    },
    {
     "name": "stderr",
     "output_type": "stream",
     "text": [
      "/opt/anaconda3/lib/python3.12/site-packages/astropy/cosmology/flrw/w0wacdm.py:195: RuntimeWarning: invalid value encountered in scalar divide\n",
      "  return zp1 ** (3 * (1 + self._w0 + self._wa)) * exp(-3 * self._wa * z / zp1)\n"
     ]
    },
    {
     "data": {
      "text/html": [
       "<pre style=\"white-space:pre;overflow-x:auto;line-height:normal;font-family:Menlo,'DejaVu Sans Mono',consolas,'Courier New',monospace\">Write table in: .<span style=\"color: #800080; text-decoration-color: #800080\">/boxlen100_n128_lcdmw7v2_00000//</span><span style=\"color: #ff00ff; text-decoration-color: #ff00ff\">evolution_table_pysco_eft_multigrid_ncoarse7.txt</span>                  \n",
       "</pre>\n"
      ],
      "text/plain": [
       "Write table in: .\u001b[35m/boxlen100_n128_lcdmw7v2_00000/\u001b[0m\u001b[35m/\u001b[0m\u001b[95mevolution_table_pysco_eft_multigrid_ncoarse7.txt\u001b[0m                  \n"
      ]
     },
     "metadata": {},
     "output_type": "display_data"
    },
    {
     "data": {
      "text/html": [
       "<pre style=\"white-space:pre;overflow-x:auto;line-height:normal;font-family:Menlo,'DejaVu Sans Mono',consolas,'Courier New',monospace\">                                                                                                                   \n",
       "<span style=\"color: #000080; text-decoration-color: #000080; font-weight: bold\">----- Initial conditions -----</span>                                                                                     \n",
       "                                                                                                                   \n",
       "</pre>\n"
      ],
      "text/plain": [
       "                                                                                                                   \n",
       "\u001b[1;34m----- Initial conditions -----\u001b[0m                                                                                     \n",
       "                                                                                                                   \n"
      ]
     },
     "metadata": {},
     "output_type": "display_data"
    },
    {
     "data": {
      "text/html": [
       "<pre style=\"white-space:pre;overflow-x:auto;line-height:normal;font-family:Menlo,'DejaVu Sans Mono',consolas,'Courier New',monospace\">param<span style=\"font-weight: bold\">[</span><span style=\"color: #008000; text-decoration-color: #008000\">'z_start'</span><span style=\"font-weight: bold\">]</span>=<span style=\"color: #008080; text-decoration-color: #008080; font-weight: bold\">49</span>                                                                                                \n",
       "</pre>\n"
      ],
      "text/plain": [
       "param\u001b[1m[\u001b[0m\u001b[32m'z_start'\u001b[0m\u001b[1m]\u001b[0m=\u001b[1;36m49\u001b[0m                                                                                                \n"
      ]
     },
     "metadata": {},
     "output_type": "display_data"
    },
    {
     "data": {
      "text/html": [
       "<pre style=\"white-space:pre;overflow-x:auto;line-height:normal;font-family:Menlo,'DejaVu Sans Mono',consolas,'Courier New',monospace\">Compute 1LPT contribution                                                                                          \n",
       "</pre>\n"
      ],
      "text/plain": [
       "Compute 1LPT contribution                                                                                          \n"
      ]
     },
     "metadata": {},
     "output_type": "display_data"
    },
    {
     "data": {
      "text/html": [
       "<pre style=\"white-space:pre;overflow-x:auto;line-height:normal;font-family:Menlo,'DejaVu Sans Mono',consolas,'Courier New',monospace\">Compute 2LPT contribution                                                                                          \n",
       "</pre>\n"
      ],
      "text/plain": [
       "Compute 2LPT contribution                                                                                          \n"
      ]
     },
     "metadata": {},
     "output_type": "display_data"
    },
    {
     "data": {
      "text/html": [
       "<pre style=\"white-space:pre;overflow-x:auto;line-height:normal;font-family:Menlo,'DejaVu Sans Mono',consolas,'Courier New',monospace\">Write initial                                                                                                      \n",
       "snapshot<span style=\"color: #808000; text-decoration-color: #808000\">...</span><span style=\"color: #808000; text-decoration-color: #808000\">snap_name</span>=<span style=\"color: #008000; text-decoration-color: #008000\">'./boxlen100_n128_lcdmw7v2_00000//output_00000/particles_eft_multigrid_ncoarse7.h5'</span>           \n",
       "</pre>\n"
      ],
      "text/plain": [
       "Write initial                                                                                                      \n",
       "snapshot\u001b[33m...\u001b[0m\u001b[33msnap_name\u001b[0m=\u001b[32m'./boxlen100_n128_lcdmw7v2_00000//output_00000/particles_eft_multigrid_ncoarse7.h5'\u001b[0m           \n"
      ]
     },
     "metadata": {},
     "output_type": "display_data"
    },
    {
     "data": {
      "text/html": [
       "<pre style=\"white-space:pre;overflow-x:auto;line-height:normal;font-family:Menlo,'DejaVu Sans Mono',consolas,'Courier New',monospace\">param<span style=\"font-weight: bold\">[</span><span style=\"color: #008000; text-decoration-color: #008000\">'aexp'</span><span style=\"font-weight: bold\">]</span>=<span style=\"color: #008080; text-decoration-color: #008080; font-weight: bold\">0.02</span> param<span style=\"font-weight: bold\">[</span><span style=\"color: #008000; text-decoration-color: #008000\">'t'</span><span style=\"font-weight: bold\">]</span>=<span style=\"color: #800080; text-decoration-color: #800080; font-weight: bold\">array</span><span style=\"font-weight: bold\">(</span><span style=\"color: #008080; text-decoration-color: #008080; font-weight: bold\">-23.2046359</span><span style=\"font-weight: bold\">)</span>                                                                   \n",
       "</pre>\n"
      ],
      "text/plain": [
       "param\u001b[1m[\u001b[0m\u001b[32m'aexp'\u001b[0m\u001b[1m]\u001b[0m=\u001b[1;36m0.02\u001b[0m param\u001b[1m[\u001b[0m\u001b[32m't'\u001b[0m\u001b[1m]\u001b[0m=\u001b[1;35marray\u001b[0m\u001b[1m(\u001b[0m\u001b[1;36m-23.2046359\u001b[0m\u001b[1m)\u001b[0m                                                                   \n"
      ]
     },
     "metadata": {},
     "output_type": "display_data"
    },
    {
     "data": {
      "text/html": [
       "<pre style=\"white-space:pre;overflow-x:auto;line-height:normal;font-family:Menlo,'DejaVu Sans Mono',consolas,'Courier New',monospace\">                                                                                                                   \n",
       "<span style=\"color: #000080; text-decoration-color: #000080; font-weight: bold\">----- Run N-body -----</span>                                                                                             \n",
       "                                                                                                                   \n",
       "</pre>\n"
      ],
      "text/plain": [
       "                                                                                                                   \n",
       "\u001b[1;34m----- Run N-body -----\u001b[0m                                                                                             \n",
       "                                                                                                                   \n"
      ]
     },
     "metadata": {},
     "output_type": "display_data"
    },
    {
     "data": {
      "text/html": [
       "<pre style=\"white-space:pre;overflow-x:auto;line-height:normal;font-family:Menlo,'DejaVu Sans Mono',consolas,'Courier New',monospace\">Tables, <span style=\"color: #008080; text-decoration-color: #008080; font-weight: bold\">13</span>                                                                                                         \n",
       "</pre>\n"
      ],
      "text/plain": [
       "Tables, \u001b[1;36m13\u001b[0m                                                                                                         \n"
      ]
     },
     "metadata": {},
     "output_type": "display_data"
    },
    {
     "data": {
      "text/html": [
       "<pre style=\"white-space:pre;overflow-x:auto;line-height:normal;font-family:Menlo,'DejaVu Sans Mono',consolas,'Courier New',monospace\">Write <span style=\"color: #800080; text-decoration-color: #800080; font-weight: bold\">P</span><span style=\"font-weight: bold\">(</span>k<span style=\"font-weight: bold\">)</span> in .<span style=\"color: #800080; text-decoration-color: #800080\">/boxlen100_n128_lcdmw7v2_00000//power/</span><span style=\"color: #ff00ff; text-decoration-color: #ff00ff\">pk_eft_multigrid_ncoarse7_00000.dat</span>                           \n",
       "</pre>\n"
      ],
      "text/plain": [
       "Write \u001b[1;35mP\u001b[0m\u001b[1m(\u001b[0mk\u001b[1m)\u001b[0m in .\u001b[35m/boxlen100_n128_lcdmw7v2_00000/\u001b[0m\u001b[35m/power/\u001b[0m\u001b[95mpk_eft_multigrid_ncoarse7_00000.dat\u001b[0m                           \n"
      ]
     },
     "metadata": {},
     "output_type": "display_data"
    },
    {
     "data": {
      "text/html": [
       "<pre style=\"white-space:pre;overflow-x:auto;line-height:normal;font-family:Menlo,'DejaVu Sans Mono',consolas,'Courier New',monospace\">Write <span style=\"color: #800080; text-decoration-color: #800080; font-weight: bold\">P</span><span style=\"font-weight: bold\">(</span>k<span style=\"font-weight: bold\">)</span> in .<span style=\"color: #800080; text-decoration-color: #800080\">/boxlen100_n128_lcdmw7v2_00000//power/</span><span style=\"color: #ff00ff; text-decoration-color: #ff00ff\">pk_eft_multigrid_ncoarse7_00001.dat</span>                           \n",
       "</pre>\n"
      ],
      "text/plain": [
       "Write \u001b[1;35mP\u001b[0m\u001b[1m(\u001b[0mk\u001b[1m)\u001b[0m in .\u001b[35m/boxlen100_n128_lcdmw7v2_00000/\u001b[0m\u001b[35m/power/\u001b[0m\u001b[95mpk_eft_multigrid_ncoarse7_00001.dat\u001b[0m                           \n"
      ]
     },
     "metadata": {},
     "output_type": "display_data"
    },
    {
     "data": {
      "text/html": [
       "<pre style=\"white-space:pre;overflow-x:auto;line-height:normal;font-family:Menlo,'DejaVu Sans Mono',consolas,'Courier New',monospace\">param<span style=\"font-weight: bold\">[</span><span style=\"color: #008000; text-decoration-color: #008000\">'nsteps'</span><span style=\"font-weight: bold\">]</span>=<span style=\"color: #008080; text-decoration-color: #008080; font-weight: bold\">1</span> param<span style=\"font-weight: bold\">[</span><span style=\"color: #008000; text-decoration-color: #008000\">'aexp'</span><span style=\"font-weight: bold\">]</span>=<span style=\"color: #008080; text-decoration-color: #008080; font-weight: bold\">0.021999999986361905</span> z = <span style=\"color: #008080; text-decoration-color: #008080; font-weight: bold\">44.45454548272334</span>                                         \n",
       "</pre>\n"
      ],
      "text/plain": [
       "param\u001b[1m[\u001b[0m\u001b[32m'nsteps'\u001b[0m\u001b[1m]\u001b[0m=\u001b[1;36m1\u001b[0m param\u001b[1m[\u001b[0m\u001b[32m'aexp'\u001b[0m\u001b[1m]\u001b[0m=\u001b[1;36m0.021999999986361905\u001b[0m z = \u001b[1;36m44.45454548272334\u001b[0m                                         \n"
      ]
     },
     "metadata": {},
     "output_type": "display_data"
    },
    {
     "data": {
      "text/html": [
       "<pre style=\"white-space:pre;overflow-x:auto;line-height:normal;font-family:Menlo,'DejaVu Sans Mono',consolas,'Courier New',monospace\">Write <span style=\"color: #800080; text-decoration-color: #800080; font-weight: bold\">P</span><span style=\"font-weight: bold\">(</span>k<span style=\"font-weight: bold\">)</span> in .<span style=\"color: #800080; text-decoration-color: #800080\">/boxlen100_n128_lcdmw7v2_00000//power/</span><span style=\"color: #ff00ff; text-decoration-color: #ff00ff\">pk_eft_multigrid_ncoarse7_00002.dat</span>                           \n",
       "</pre>\n"
      ],
      "text/plain": [
       "Write \u001b[1;35mP\u001b[0m\u001b[1m(\u001b[0mk\u001b[1m)\u001b[0m in .\u001b[35m/boxlen100_n128_lcdmw7v2_00000/\u001b[0m\u001b[35m/power/\u001b[0m\u001b[95mpk_eft_multigrid_ncoarse7_00002.dat\u001b[0m                           \n"
      ]
     },
     "metadata": {},
     "output_type": "display_data"
    },
    {
     "data": {
      "text/html": [
       "<pre style=\"white-space:pre;overflow-x:auto;line-height:normal;font-family:Menlo,'DejaVu Sans Mono',consolas,'Courier New',monospace\">param<span style=\"font-weight: bold\">[</span><span style=\"color: #008000; text-decoration-color: #008000\">'nsteps'</span><span style=\"font-weight: bold\">]</span>=<span style=\"color: #008080; text-decoration-color: #008080; font-weight: bold\">2</span> param<span style=\"font-weight: bold\">[</span><span style=\"color: #008000; text-decoration-color: #008000\">'aexp'</span><span style=\"font-weight: bold\">]</span>=<span style=\"color: #008080; text-decoration-color: #008080; font-weight: bold\">0.02419999993803112</span> z = <span style=\"color: #008080; text-decoration-color: #008080; font-weight: bold\">40.32231415540072</span>                                          \n",
       "</pre>\n"
      ],
      "text/plain": [
       "param\u001b[1m[\u001b[0m\u001b[32m'nsteps'\u001b[0m\u001b[1m]\u001b[0m=\u001b[1;36m2\u001b[0m param\u001b[1m[\u001b[0m\u001b[32m'aexp'\u001b[0m\u001b[1m]\u001b[0m=\u001b[1;36m0.02419999993803112\u001b[0m z = \u001b[1;36m40.32231415540072\u001b[0m                                          \n"
      ]
     },
     "metadata": {},
     "output_type": "display_data"
    },
    {
     "data": {
      "text/html": [
       "<pre style=\"white-space:pre;overflow-x:auto;line-height:normal;font-family:Menlo,'DejaVu Sans Mono',consolas,'Courier New',monospace\">Write <span style=\"color: #800080; text-decoration-color: #800080; font-weight: bold\">P</span><span style=\"font-weight: bold\">(</span>k<span style=\"font-weight: bold\">)</span> in .<span style=\"color: #800080; text-decoration-color: #800080\">/boxlen100_n128_lcdmw7v2_00000//power/</span><span style=\"color: #ff00ff; text-decoration-color: #ff00ff\">pk_eft_multigrid_ncoarse7_00003.dat</span>                           \n",
       "</pre>\n"
      ],
      "text/plain": [
       "Write \u001b[1;35mP\u001b[0m\u001b[1m(\u001b[0mk\u001b[1m)\u001b[0m in .\u001b[35m/boxlen100_n128_lcdmw7v2_00000/\u001b[0m\u001b[35m/power/\u001b[0m\u001b[95mpk_eft_multigrid_ncoarse7_00003.dat\u001b[0m                           \n"
      ]
     },
     "metadata": {},
     "output_type": "display_data"
    },
    {
     "data": {
      "text/html": [
       "<pre style=\"white-space:pre;overflow-x:auto;line-height:normal;font-family:Menlo,'DejaVu Sans Mono',consolas,'Courier New',monospace\">param<span style=\"font-weight: bold\">[</span><span style=\"color: #008000; text-decoration-color: #008000\">'nsteps'</span><span style=\"font-weight: bold\">]</span>=<span style=\"color: #008080; text-decoration-color: #008080; font-weight: bold\">3</span> param<span style=\"font-weight: bold\">[</span><span style=\"color: #008000; text-decoration-color: #008000\">'aexp'</span><span style=\"font-weight: bold\">]</span>=<span style=\"color: #008080; text-decoration-color: #008080; font-weight: bold\">0.026619999958286684</span> z = <span style=\"color: #008080; text-decoration-color: #008080; font-weight: bold\">36.56574010394409</span>                                         \n",
       "</pre>\n"
      ],
      "text/plain": [
       "param\u001b[1m[\u001b[0m\u001b[32m'nsteps'\u001b[0m\u001b[1m]\u001b[0m=\u001b[1;36m3\u001b[0m param\u001b[1m[\u001b[0m\u001b[32m'aexp'\u001b[0m\u001b[1m]\u001b[0m=\u001b[1;36m0.026619999958286684\u001b[0m z = \u001b[1;36m36.56574010394409\u001b[0m                                         \n"
      ]
     },
     "metadata": {},
     "output_type": "display_data"
    },
    {
     "data": {
      "text/html": [
       "<pre style=\"white-space:pre;overflow-x:auto;line-height:normal;font-family:Menlo,'DejaVu Sans Mono',consolas,'Courier New',monospace\">Write <span style=\"color: #800080; text-decoration-color: #800080; font-weight: bold\">P</span><span style=\"font-weight: bold\">(</span>k<span style=\"font-weight: bold\">)</span> in .<span style=\"color: #800080; text-decoration-color: #800080\">/boxlen100_n128_lcdmw7v2_00000//power/</span><span style=\"color: #ff00ff; text-decoration-color: #ff00ff\">pk_eft_multigrid_ncoarse7_00004.dat</span>                           \n",
       "</pre>\n"
      ],
      "text/plain": [
       "Write \u001b[1;35mP\u001b[0m\u001b[1m(\u001b[0mk\u001b[1m)\u001b[0m in .\u001b[35m/boxlen100_n128_lcdmw7v2_00000/\u001b[0m\u001b[35m/power/\u001b[0m\u001b[95mpk_eft_multigrid_ncoarse7_00004.dat\u001b[0m                           \n"
      ]
     },
     "metadata": {},
     "output_type": "display_data"
    },
    {
     "data": {
      "text/html": [
       "<pre style=\"white-space:pre;overflow-x:auto;line-height:normal;font-family:Menlo,'DejaVu Sans Mono',consolas,'Courier New',monospace\">param<span style=\"font-weight: bold\">[</span><span style=\"color: #008000; text-decoration-color: #008000\">'nsteps'</span><span style=\"font-weight: bold\">]</span>=<span style=\"color: #008080; text-decoration-color: #008080; font-weight: bold\">4</span> param<span style=\"font-weight: bold\">[</span><span style=\"color: #008000; text-decoration-color: #008000\">'aexp'</span><span style=\"font-weight: bold\">]</span>=<span style=\"color: #008080; text-decoration-color: #008080; font-weight: bold\">0.029282000100153204</span> z = <span style=\"color: #008080; text-decoration-color: #008080; font-weight: bold\">33.15067265144801</span>                                         \n",
       "</pre>\n"
      ],
      "text/plain": [
       "param\u001b[1m[\u001b[0m\u001b[32m'nsteps'\u001b[0m\u001b[1m]\u001b[0m=\u001b[1;36m4\u001b[0m param\u001b[1m[\u001b[0m\u001b[32m'aexp'\u001b[0m\u001b[1m]\u001b[0m=\u001b[1;36m0.029282000100153204\u001b[0m z = \u001b[1;36m33.15067265144801\u001b[0m                                         \n"
      ]
     },
     "metadata": {},
     "output_type": "display_data"
    },
    {
     "data": {
      "text/html": [
       "<pre style=\"white-space:pre;overflow-x:auto;line-height:normal;font-family:Menlo,'DejaVu Sans Mono',consolas,'Courier New',monospace\">Write <span style=\"color: #800080; text-decoration-color: #800080; font-weight: bold\">P</span><span style=\"font-weight: bold\">(</span>k<span style=\"font-weight: bold\">)</span> in .<span style=\"color: #800080; text-decoration-color: #800080\">/boxlen100_n128_lcdmw7v2_00000//power/</span><span style=\"color: #ff00ff; text-decoration-color: #ff00ff\">pk_eft_multigrid_ncoarse7_00005.dat</span>                           \n",
       "</pre>\n"
      ],
      "text/plain": [
       "Write \u001b[1;35mP\u001b[0m\u001b[1m(\u001b[0mk\u001b[1m)\u001b[0m in .\u001b[35m/boxlen100_n128_lcdmw7v2_00000/\u001b[0m\u001b[35m/power/\u001b[0m\u001b[95mpk_eft_multigrid_ncoarse7_00005.dat\u001b[0m                           \n"
      ]
     },
     "metadata": {},
     "output_type": "display_data"
    },
    {
     "data": {
      "text/html": [
       "<pre style=\"white-space:pre;overflow-x:auto;line-height:normal;font-family:Menlo,'DejaVu Sans Mono',consolas,'Courier New',monospace\">param<span style=\"font-weight: bold\">[</span><span style=\"color: #008000; text-decoration-color: #008000\">'nsteps'</span><span style=\"font-weight: bold\">]</span>=<span style=\"color: #008080; text-decoration-color: #008080; font-weight: bold\">5</span> param<span style=\"font-weight: bold\">[</span><span style=\"color: #008000; text-decoration-color: #008000\">'aexp'</span><span style=\"font-weight: bold\">]</span>=<span style=\"color: #008080; text-decoration-color: #008080; font-weight: bold\">0.03221020015707458</span> z = <span style=\"color: #008080; text-decoration-color: #008080; font-weight: bold\">30.04606600156014</span>                                          \n",
       "</pre>\n"
      ],
      "text/plain": [
       "param\u001b[1m[\u001b[0m\u001b[32m'nsteps'\u001b[0m\u001b[1m]\u001b[0m=\u001b[1;36m5\u001b[0m param\u001b[1m[\u001b[0m\u001b[32m'aexp'\u001b[0m\u001b[1m]\u001b[0m=\u001b[1;36m0.03221020015707458\u001b[0m z = \u001b[1;36m30.04606600156014\u001b[0m                                          \n"
      ]
     },
     "metadata": {},
     "output_type": "display_data"
    },
    {
     "data": {
      "text/html": [
       "<pre style=\"white-space:pre;overflow-x:auto;line-height:normal;font-family:Menlo,'DejaVu Sans Mono',consolas,'Courier New',monospace\">Write <span style=\"color: #800080; text-decoration-color: #800080; font-weight: bold\">P</span><span style=\"font-weight: bold\">(</span>k<span style=\"font-weight: bold\">)</span> in .<span style=\"color: #800080; text-decoration-color: #800080\">/boxlen100_n128_lcdmw7v2_00000//power/</span><span style=\"color: #ff00ff; text-decoration-color: #ff00ff\">pk_eft_multigrid_ncoarse7_00006.dat</span>                           \n",
       "</pre>\n"
      ],
      "text/plain": [
       "Write \u001b[1;35mP\u001b[0m\u001b[1m(\u001b[0mk\u001b[1m)\u001b[0m in .\u001b[35m/boxlen100_n128_lcdmw7v2_00000/\u001b[0m\u001b[35m/power/\u001b[0m\u001b[95mpk_eft_multigrid_ncoarse7_00006.dat\u001b[0m                           \n"
      ]
     },
     "metadata": {},
     "output_type": "display_data"
    },
    {
     "data": {
      "text/html": [
       "<pre style=\"white-space:pre;overflow-x:auto;line-height:normal;font-family:Menlo,'DejaVu Sans Mono',consolas,'Courier New',monospace\">param<span style=\"font-weight: bold\">[</span><span style=\"color: #008000; text-decoration-color: #008000\">'nsteps'</span><span style=\"font-weight: bold\">]</span>=<span style=\"color: #008080; text-decoration-color: #008080; font-weight: bold\">6</span> param<span style=\"font-weight: bold\">[</span><span style=\"color: #008000; text-decoration-color: #008000\">'aexp'</span><span style=\"font-weight: bold\">]</span>=<span style=\"color: #008080; text-decoration-color: #008080; font-weight: bold\">0.0354312203142204</span> z = <span style=\"color: #008080; text-decoration-color: #008080; font-weight: bold\">27.223696252388116</span>                                          \n",
       "</pre>\n"
      ],
      "text/plain": [
       "param\u001b[1m[\u001b[0m\u001b[32m'nsteps'\u001b[0m\u001b[1m]\u001b[0m=\u001b[1;36m6\u001b[0m param\u001b[1m[\u001b[0m\u001b[32m'aexp'\u001b[0m\u001b[1m]\u001b[0m=\u001b[1;36m0.0354312203142204\u001b[0m z = \u001b[1;36m27.223696252388116\u001b[0m                                          \n"
      ]
     },
     "metadata": {},
     "output_type": "display_data"
    },
    {
     "data": {
      "text/html": [
       "<pre style=\"white-space:pre;overflow-x:auto;line-height:normal;font-family:Menlo,'DejaVu Sans Mono',consolas,'Courier New',monospace\">Write <span style=\"color: #800080; text-decoration-color: #800080; font-weight: bold\">P</span><span style=\"font-weight: bold\">(</span>k<span style=\"font-weight: bold\">)</span> in .<span style=\"color: #800080; text-decoration-color: #800080\">/boxlen100_n128_lcdmw7v2_00000//power/</span><span style=\"color: #ff00ff; text-decoration-color: #ff00ff\">pk_eft_multigrid_ncoarse7_00007.dat</span>                           \n",
       "</pre>\n"
      ],
      "text/plain": [
       "Write \u001b[1;35mP\u001b[0m\u001b[1m(\u001b[0mk\u001b[1m)\u001b[0m in .\u001b[35m/boxlen100_n128_lcdmw7v2_00000/\u001b[0m\u001b[35m/power/\u001b[0m\u001b[95mpk_eft_multigrid_ncoarse7_00007.dat\u001b[0m                           \n"
      ]
     },
     "metadata": {},
     "output_type": "display_data"
    },
    {
     "data": {
      "text/html": [
       "<pre style=\"white-space:pre;overflow-x:auto;line-height:normal;font-family:Menlo,'DejaVu Sans Mono',consolas,'Courier New',monospace\">param<span style=\"font-weight: bold\">[</span><span style=\"color: #008000; text-decoration-color: #008000\">'nsteps'</span><span style=\"font-weight: bold\">]</span>=<span style=\"color: #008080; text-decoration-color: #008080; font-weight: bold\">7</span> param<span style=\"font-weight: bold\">[</span><span style=\"color: #008000; text-decoration-color: #008000\">'aexp'</span><span style=\"font-weight: bold\">]</span>=<span style=\"color: #008080; text-decoration-color: #008080; font-weight: bold\">0.03897434233145811</span> z = <span style=\"color: #008080; text-decoration-color: #008080; font-weight: bold\">24.657905693327137</span>                                         \n",
       "</pre>\n"
      ],
      "text/plain": [
       "param\u001b[1m[\u001b[0m\u001b[32m'nsteps'\u001b[0m\u001b[1m]\u001b[0m=\u001b[1;36m7\u001b[0m param\u001b[1m[\u001b[0m\u001b[32m'aexp'\u001b[0m\u001b[1m]\u001b[0m=\u001b[1;36m0.03897434233145811\u001b[0m z = \u001b[1;36m24.657905693327137\u001b[0m                                         \n"
      ]
     },
     "metadata": {},
     "output_type": "display_data"
    },
    {
     "data": {
      "text/html": [
       "<pre style=\"white-space:pre;overflow-x:auto;line-height:normal;font-family:Menlo,'DejaVu Sans Mono',consolas,'Courier New',monospace\">Write <span style=\"color: #800080; text-decoration-color: #800080; font-weight: bold\">P</span><span style=\"font-weight: bold\">(</span>k<span style=\"font-weight: bold\">)</span> in .<span style=\"color: #800080; text-decoration-color: #800080\">/boxlen100_n128_lcdmw7v2_00000//power/</span><span style=\"color: #ff00ff; text-decoration-color: #ff00ff\">pk_eft_multigrid_ncoarse7_00008.dat</span>                           \n",
       "</pre>\n"
      ],
      "text/plain": [
       "Write \u001b[1;35mP\u001b[0m\u001b[1m(\u001b[0mk\u001b[1m)\u001b[0m in .\u001b[35m/boxlen100_n128_lcdmw7v2_00000/\u001b[0m\u001b[35m/power/\u001b[0m\u001b[95mpk_eft_multigrid_ncoarse7_00008.dat\u001b[0m                           \n"
      ]
     },
     "metadata": {},
     "output_type": "display_data"
    },
    {
     "data": {
      "text/html": [
       "<pre style=\"white-space:pre;overflow-x:auto;line-height:normal;font-family:Menlo,'DejaVu Sans Mono',consolas,'Courier New',monospace\">param<span style=\"font-weight: bold\">[</span><span style=\"color: #008000; text-decoration-color: #008000\">'nsteps'</span><span style=\"font-weight: bold\">]</span>=<span style=\"color: #008080; text-decoration-color: #008080; font-weight: bold\">8</span> param<span style=\"font-weight: bold\">[</span><span style=\"color: #008000; text-decoration-color: #008000\">'aexp'</span><span style=\"font-weight: bold\">]</span>=<span style=\"color: #008080; text-decoration-color: #008080; font-weight: bold\">0.042871776491827746</span> z = <span style=\"color: #008080; text-decoration-color: #008080; font-weight: bold\">22.325368851711122</span>                                        \n",
       "</pre>\n"
      ],
      "text/plain": [
       "param\u001b[1m[\u001b[0m\u001b[32m'nsteps'\u001b[0m\u001b[1m]\u001b[0m=\u001b[1;36m8\u001b[0m param\u001b[1m[\u001b[0m\u001b[32m'aexp'\u001b[0m\u001b[1m]\u001b[0m=\u001b[1;36m0.042871776491827746\u001b[0m z = \u001b[1;36m22.325368851711122\u001b[0m                                        \n"
      ]
     },
     "metadata": {},
     "output_type": "display_data"
    },
    {
     "data": {
      "text/html": [
       "<pre style=\"white-space:pre;overflow-x:auto;line-height:normal;font-family:Menlo,'DejaVu Sans Mono',consolas,'Courier New',monospace\">Write <span style=\"color: #800080; text-decoration-color: #800080; font-weight: bold\">P</span><span style=\"font-weight: bold\">(</span>k<span style=\"font-weight: bold\">)</span> in .<span style=\"color: #800080; text-decoration-color: #800080\">/boxlen100_n128_lcdmw7v2_00000//power/</span><span style=\"color: #ff00ff; text-decoration-color: #ff00ff\">pk_eft_multigrid_ncoarse7_00009.dat</span>                           \n",
       "</pre>\n"
      ],
      "text/plain": [
       "Write \u001b[1;35mP\u001b[0m\u001b[1m(\u001b[0mk\u001b[1m)\u001b[0m in .\u001b[35m/boxlen100_n128_lcdmw7v2_00000/\u001b[0m\u001b[35m/power/\u001b[0m\u001b[95mpk_eft_multigrid_ncoarse7_00009.dat\u001b[0m                           \n"
      ]
     },
     "metadata": {},
     "output_type": "display_data"
    },
    {
     "data": {
      "text/html": [
       "<pre style=\"white-space:pre;overflow-x:auto;line-height:normal;font-family:Menlo,'DejaVu Sans Mono',consolas,'Courier New',monospace\">param<span style=\"font-weight: bold\">[</span><span style=\"color: #008000; text-decoration-color: #008000\">'nsteps'</span><span style=\"font-weight: bold\">]</span>=<span style=\"color: #008080; text-decoration-color: #008080; font-weight: bold\">9</span> param<span style=\"font-weight: bold\">[</span><span style=\"color: #008000; text-decoration-color: #008000\">'aexp'</span><span style=\"font-weight: bold\">]</span>=<span style=\"color: #008080; text-decoration-color: #008080; font-weight: bold\">0.04715895417848505</span> z = <span style=\"color: #008080; text-decoration-color: #008080; font-weight: bold\">20.20488075743253</span>                                          \n",
       "</pre>\n"
      ],
      "text/plain": [
       "param\u001b[1m[\u001b[0m\u001b[32m'nsteps'\u001b[0m\u001b[1m]\u001b[0m=\u001b[1;36m9\u001b[0m param\u001b[1m[\u001b[0m\u001b[32m'aexp'\u001b[0m\u001b[1m]\u001b[0m=\u001b[1;36m0.04715895417848505\u001b[0m z = \u001b[1;36m20.20488075743253\u001b[0m                                          \n"
      ]
     },
     "metadata": {},
     "output_type": "display_data"
    },
    {
     "data": {
      "text/html": [
       "<pre style=\"white-space:pre;overflow-x:auto;line-height:normal;font-family:Menlo,'DejaVu Sans Mono',consolas,'Courier New',monospace\">Write <span style=\"color: #800080; text-decoration-color: #800080; font-weight: bold\">P</span><span style=\"font-weight: bold\">(</span>k<span style=\"font-weight: bold\">)</span> in .<span style=\"color: #800080; text-decoration-color: #800080\">/boxlen100_n128_lcdmw7v2_00000//power/</span><span style=\"color: #ff00ff; text-decoration-color: #ff00ff\">pk_eft_multigrid_ncoarse7_00010.dat</span>                           \n",
       "</pre>\n"
      ],
      "text/plain": [
       "Write \u001b[1;35mP\u001b[0m\u001b[1m(\u001b[0mk\u001b[1m)\u001b[0m in .\u001b[35m/boxlen100_n128_lcdmw7v2_00000/\u001b[0m\u001b[35m/power/\u001b[0m\u001b[95mpk_eft_multigrid_ncoarse7_00010.dat\u001b[0m                           \n"
      ]
     },
     "metadata": {},
     "output_type": "display_data"
    },
    {
     "data": {
      "text/html": [
       "<pre style=\"white-space:pre;overflow-x:auto;line-height:normal;font-family:Menlo,'DejaVu Sans Mono',consolas,'Courier New',monospace\">param<span style=\"font-weight: bold\">[</span><span style=\"color: #008000; text-decoration-color: #008000\">'nsteps'</span><span style=\"font-weight: bold\">]</span>=<span style=\"color: #008080; text-decoration-color: #008080; font-weight: bold\">10</span> param<span style=\"font-weight: bold\">[</span><span style=\"color: #008000; text-decoration-color: #008000\">'aexp'</span><span style=\"font-weight: bold\">]</span>=<span style=\"color: #008080; text-decoration-color: #008080; font-weight: bold\">0.05187484948341392</span> z = <span style=\"color: #008080; text-decoration-color: #008080; font-weight: bold\">18.27716436690062</span>                                         \n",
       "</pre>\n"
      ],
      "text/plain": [
       "param\u001b[1m[\u001b[0m\u001b[32m'nsteps'\u001b[0m\u001b[1m]\u001b[0m=\u001b[1;36m10\u001b[0m param\u001b[1m[\u001b[0m\u001b[32m'aexp'\u001b[0m\u001b[1m]\u001b[0m=\u001b[1;36m0.05187484948341392\u001b[0m z = \u001b[1;36m18.27716436690062\u001b[0m                                         \n"
      ]
     },
     "metadata": {},
     "output_type": "display_data"
    },
    {
     "data": {
      "text/html": [
       "<pre style=\"white-space:pre;overflow-x:auto;line-height:normal;font-family:Menlo,'DejaVu Sans Mono',consolas,'Courier New',monospace\">Write <span style=\"color: #800080; text-decoration-color: #800080; font-weight: bold\">P</span><span style=\"font-weight: bold\">(</span>k<span style=\"font-weight: bold\">)</span> in .<span style=\"color: #800080; text-decoration-color: #800080\">/boxlen100_n128_lcdmw7v2_00000//power/</span><span style=\"color: #ff00ff; text-decoration-color: #ff00ff\">pk_eft_multigrid_ncoarse7_00011.dat</span>                           \n",
       "</pre>\n"
      ],
      "text/plain": [
       "Write \u001b[1;35mP\u001b[0m\u001b[1m(\u001b[0mk\u001b[1m)\u001b[0m in .\u001b[35m/boxlen100_n128_lcdmw7v2_00000/\u001b[0m\u001b[35m/power/\u001b[0m\u001b[95mpk_eft_multigrid_ncoarse7_00011.dat\u001b[0m                           \n"
      ]
     },
     "metadata": {},
     "output_type": "display_data"
    },
    {
     "data": {
      "text/html": [
       "<pre style=\"white-space:pre;overflow-x:auto;line-height:normal;font-family:Menlo,'DejaVu Sans Mono',consolas,'Courier New',monospace\">param<span style=\"font-weight: bold\">[</span><span style=\"color: #008000; text-decoration-color: #008000\">'nsteps'</span><span style=\"font-weight: bold\">]</span>=<span style=\"color: #008080; text-decoration-color: #008080; font-weight: bold\">11</span> param<span style=\"font-weight: bold\">[</span><span style=\"color: #008000; text-decoration-color: #008000\">'aexp'</span><span style=\"font-weight: bold\">]</span>=<span style=\"color: #008080; text-decoration-color: #008080; font-weight: bold\">0.05706233461155492</span> z = <span style=\"color: #008080; text-decoration-color: #008080; font-weight: bold\">16.524694823781424</span>                                        \n",
       "</pre>\n"
      ],
      "text/plain": [
       "param\u001b[1m[\u001b[0m\u001b[32m'nsteps'\u001b[0m\u001b[1m]\u001b[0m=\u001b[1;36m11\u001b[0m param\u001b[1m[\u001b[0m\u001b[32m'aexp'\u001b[0m\u001b[1m]\u001b[0m=\u001b[1;36m0.05706233461155492\u001b[0m z = \u001b[1;36m16.524694823781424\u001b[0m                                        \n"
      ]
     },
     "metadata": {},
     "output_type": "display_data"
    },
    {
     "data": {
      "text/html": [
       "<pre style=\"white-space:pre;overflow-x:auto;line-height:normal;font-family:Menlo,'DejaVu Sans Mono',consolas,'Courier New',monospace\">Write <span style=\"color: #800080; text-decoration-color: #800080; font-weight: bold\">P</span><span style=\"font-weight: bold\">(</span>k<span style=\"font-weight: bold\">)</span> in .<span style=\"color: #800080; text-decoration-color: #800080\">/boxlen100_n128_lcdmw7v2_00000//power/</span><span style=\"color: #ff00ff; text-decoration-color: #ff00ff\">pk_eft_multigrid_ncoarse7_00012.dat</span>                           \n",
       "</pre>\n"
      ],
      "text/plain": [
       "Write \u001b[1;35mP\u001b[0m\u001b[1m(\u001b[0mk\u001b[1m)\u001b[0m in .\u001b[35m/boxlen100_n128_lcdmw7v2_00000/\u001b[0m\u001b[35m/power/\u001b[0m\u001b[95mpk_eft_multigrid_ncoarse7_00012.dat\u001b[0m                           \n"
      ]
     },
     "metadata": {},
     "output_type": "display_data"
    },
    {
     "data": {
      "text/html": [
       "<pre style=\"white-space:pre;overflow-x:auto;line-height:normal;font-family:Menlo,'DejaVu Sans Mono',consolas,'Courier New',monospace\">param<span style=\"font-weight: bold\">[</span><span style=\"color: #008000; text-decoration-color: #008000\">'nsteps'</span><span style=\"font-weight: bold\">]</span>=<span style=\"color: #008080; text-decoration-color: #008080; font-weight: bold\">12</span> param<span style=\"font-weight: bold\">[</span><span style=\"color: #008000; text-decoration-color: #008000\">'aexp'</span><span style=\"font-weight: bold\">]</span>=<span style=\"color: #008080; text-decoration-color: #008080; font-weight: bold\">0.06276856784880137</span> z = <span style=\"color: #008080; text-decoration-color: #008080; font-weight: bold\">14.931540805723449</span>                                        \n",
       "</pre>\n"
      ],
      "text/plain": [
       "param\u001b[1m[\u001b[0m\u001b[32m'nsteps'\u001b[0m\u001b[1m]\u001b[0m=\u001b[1;36m12\u001b[0m param\u001b[1m[\u001b[0m\u001b[32m'aexp'\u001b[0m\u001b[1m]\u001b[0m=\u001b[1;36m0.06276856784880137\u001b[0m z = \u001b[1;36m14.931540805723449\u001b[0m                                        \n"
      ]
     },
     "metadata": {},
     "output_type": "display_data"
    },
    {
     "data": {
      "text/html": [
       "<pre style=\"white-space:pre;overflow-x:auto;line-height:normal;font-family:Menlo,'DejaVu Sans Mono',consolas,'Courier New',monospace\">Write <span style=\"color: #800080; text-decoration-color: #800080; font-weight: bold\">P</span><span style=\"font-weight: bold\">(</span>k<span style=\"font-weight: bold\">)</span> in .<span style=\"color: #800080; text-decoration-color: #800080\">/boxlen100_n128_lcdmw7v2_00000//power/</span><span style=\"color: #ff00ff; text-decoration-color: #ff00ff\">pk_eft_multigrid_ncoarse7_00013.dat</span>                           \n",
       "</pre>\n"
      ],
      "text/plain": [
       "Write \u001b[1;35mP\u001b[0m\u001b[1m(\u001b[0mk\u001b[1m)\u001b[0m in .\u001b[35m/boxlen100_n128_lcdmw7v2_00000/\u001b[0m\u001b[35m/power/\u001b[0m\u001b[95mpk_eft_multigrid_ncoarse7_00013.dat\u001b[0m                           \n"
      ]
     },
     "metadata": {},
     "output_type": "display_data"
    },
    {
     "data": {
      "text/html": [
       "<pre style=\"white-space:pre;overflow-x:auto;line-height:normal;font-family:Menlo,'DejaVu Sans Mono',consolas,'Courier New',monospace\">param<span style=\"font-weight: bold\">[</span><span style=\"color: #008000; text-decoration-color: #008000\">'nsteps'</span><span style=\"font-weight: bold\">]</span>=<span style=\"color: #008080; text-decoration-color: #008080; font-weight: bold\">13</span> param<span style=\"font-weight: bold\">[</span><span style=\"color: #008000; text-decoration-color: #008000\">'aexp'</span><span style=\"font-weight: bold\">]</span>=<span style=\"color: #008080; text-decoration-color: #008080; font-weight: bold\">0.06904542476848048</span> z = <span style=\"color: #008080; text-decoration-color: #008080; font-weight: bold\">13.483218886018124</span>                                        \n",
       "</pre>\n"
      ],
      "text/plain": [
       "param\u001b[1m[\u001b[0m\u001b[32m'nsteps'\u001b[0m\u001b[1m]\u001b[0m=\u001b[1;36m13\u001b[0m param\u001b[1m[\u001b[0m\u001b[32m'aexp'\u001b[0m\u001b[1m]\u001b[0m=\u001b[1;36m0.06904542476848048\u001b[0m z = \u001b[1;36m13.483218886018124\u001b[0m                                        \n"
      ]
     },
     "metadata": {},
     "output_type": "display_data"
    },
    {
     "data": {
      "text/html": [
       "<pre style=\"white-space:pre;overflow-x:auto;line-height:normal;font-family:Menlo,'DejaVu Sans Mono',consolas,'Courier New',monospace\">Write <span style=\"color: #800080; text-decoration-color: #800080; font-weight: bold\">P</span><span style=\"font-weight: bold\">(</span>k<span style=\"font-weight: bold\">)</span> in .<span style=\"color: #800080; text-decoration-color: #800080\">/boxlen100_n128_lcdmw7v2_00000//power/</span><span style=\"color: #ff00ff; text-decoration-color: #ff00ff\">pk_eft_multigrid_ncoarse7_00014.dat</span>                           \n",
       "</pre>\n"
      ],
      "text/plain": [
       "Write \u001b[1;35mP\u001b[0m\u001b[1m(\u001b[0mk\u001b[1m)\u001b[0m in .\u001b[35m/boxlen100_n128_lcdmw7v2_00000/\u001b[0m\u001b[35m/power/\u001b[0m\u001b[95mpk_eft_multigrid_ncoarse7_00014.dat\u001b[0m                           \n"
      ]
     },
     "metadata": {},
     "output_type": "display_data"
    },
    {
     "data": {
      "text/html": [
       "<pre style=\"white-space:pre;overflow-x:auto;line-height:normal;font-family:Menlo,'DejaVu Sans Mono',consolas,'Courier New',monospace\">param<span style=\"font-weight: bold\">[</span><span style=\"color: #008000; text-decoration-color: #008000\">'nsteps'</span><span style=\"font-weight: bold\">]</span>=<span style=\"color: #008080; text-decoration-color: #008080; font-weight: bold\">14</span> param<span style=\"font-weight: bold\">[</span><span style=\"color: #008000; text-decoration-color: #008000\">'aexp'</span><span style=\"font-weight: bold\">]</span>=<span style=\"color: #008080; text-decoration-color: #008080; font-weight: bold\">0.07594996726353548</span> z = <span style=\"color: #008080; text-decoration-color: #008080; font-weight: bold\">12.166562620496512</span>                                        \n",
       "</pre>\n"
      ],
      "text/plain": [
       "param\u001b[1m[\u001b[0m\u001b[32m'nsteps'\u001b[0m\u001b[1m]\u001b[0m=\u001b[1;36m14\u001b[0m param\u001b[1m[\u001b[0m\u001b[32m'aexp'\u001b[0m\u001b[1m]\u001b[0m=\u001b[1;36m0.07594996726353548\u001b[0m z = \u001b[1;36m12.166562620496512\u001b[0m                                        \n"
      ]
     },
     "metadata": {},
     "output_type": "display_data"
    },
    {
     "data": {
      "text/html": [
       "<pre style=\"white-space:pre;overflow-x:auto;line-height:normal;font-family:Menlo,'DejaVu Sans Mono',consolas,'Courier New',monospace\">Write <span style=\"color: #800080; text-decoration-color: #800080; font-weight: bold\">P</span><span style=\"font-weight: bold\">(</span>k<span style=\"font-weight: bold\">)</span> in .<span style=\"color: #800080; text-decoration-color: #800080\">/boxlen100_n128_lcdmw7v2_00000//power/</span><span style=\"color: #ff00ff; text-decoration-color: #ff00ff\">pk_eft_multigrid_ncoarse7_00015.dat</span>                           \n",
       "</pre>\n"
      ],
      "text/plain": [
       "Write \u001b[1;35mP\u001b[0m\u001b[1m(\u001b[0mk\u001b[1m)\u001b[0m in .\u001b[35m/boxlen100_n128_lcdmw7v2_00000/\u001b[0m\u001b[35m/power/\u001b[0m\u001b[95mpk_eft_multigrid_ncoarse7_00015.dat\u001b[0m                           \n"
      ]
     },
     "metadata": {},
     "output_type": "display_data"
    },
    {
     "data": {
      "text/html": [
       "<pre style=\"white-space:pre;overflow-x:auto;line-height:normal;font-family:Menlo,'DejaVu Sans Mono',consolas,'Courier New',monospace\">param<span style=\"font-weight: bold\">[</span><span style=\"color: #008000; text-decoration-color: #008000\">'nsteps'</span><span style=\"font-weight: bold\">]</span>=<span style=\"color: #008080; text-decoration-color: #008080; font-weight: bold\">15</span> param<span style=\"font-weight: bold\">[</span><span style=\"color: #008000; text-decoration-color: #008000\">'aexp'</span><span style=\"font-weight: bold\">]</span>=<span style=\"color: #008080; text-decoration-color: #008080; font-weight: bold\">0.08354496404131918</span> z = <span style=\"color: #008080; text-decoration-color: #008080; font-weight: bold\">10.969602374901086</span>                                        \n",
       "</pre>\n"
      ],
      "text/plain": [
       "param\u001b[1m[\u001b[0m\u001b[32m'nsteps'\u001b[0m\u001b[1m]\u001b[0m=\u001b[1;36m15\u001b[0m param\u001b[1m[\u001b[0m\u001b[32m'aexp'\u001b[0m\u001b[1m]\u001b[0m=\u001b[1;36m0.08354496404131918\u001b[0m z = \u001b[1;36m10.969602374901086\u001b[0m                                        \n"
      ]
     },
     "metadata": {},
     "output_type": "display_data"
    },
    {
     "data": {
      "text/html": [
       "<pre style=\"white-space:pre;overflow-x:auto;line-height:normal;font-family:Menlo,'DejaVu Sans Mono',consolas,'Courier New',monospace\">Write <span style=\"color: #800080; text-decoration-color: #800080; font-weight: bold\">P</span><span style=\"font-weight: bold\">(</span>k<span style=\"font-weight: bold\">)</span> in .<span style=\"color: #800080; text-decoration-color: #800080\">/boxlen100_n128_lcdmw7v2_00000//power/</span><span style=\"color: #ff00ff; text-decoration-color: #ff00ff\">pk_eft_multigrid_ncoarse7_00016.dat</span>                           \n",
       "</pre>\n"
      ],
      "text/plain": [
       "Write \u001b[1;35mP\u001b[0m\u001b[1m(\u001b[0mk\u001b[1m)\u001b[0m in .\u001b[35m/boxlen100_n128_lcdmw7v2_00000/\u001b[0m\u001b[35m/power/\u001b[0m\u001b[95mpk_eft_multigrid_ncoarse7_00016.dat\u001b[0m                           \n"
      ]
     },
     "metadata": {},
     "output_type": "display_data"
    },
    {
     "data": {
      "text/html": [
       "<pre style=\"white-space:pre;overflow-x:auto;line-height:normal;font-family:Menlo,'DejaVu Sans Mono',consolas,'Courier New',monospace\">Snapshot written at <span style=\"color: #808000; text-decoration-color: #808000\">...</span><span style=\"color: #808000; text-decoration-color: #808000\">filename</span>=<span style=\"color: #008000; text-decoration-color: #008000\">'./boxlen100_n128_lcdmw7v2_00000//output_00001/particles_eft_multigrid_ncoarse7.h5'</span>\n",
       "param<span style=\"font-weight: bold\">[</span><span style=\"color: #008000; text-decoration-color: #008000\">'aexp'</span><span style=\"font-weight: bold\">]</span>=<span style=\"color: #008080; text-decoration-color: #008080; font-weight: bold\">0.0909090909090909</span>                                                                                   \n",
       "</pre>\n"
      ],
      "text/plain": [
       "Snapshot written at \u001b[33m...\u001b[0m\u001b[33mfilename\u001b[0m=\u001b[32m'./boxlen100_n128_lcdmw7v2_00000//output_00001/particles_eft_multigrid_ncoarse7.h5'\u001b[0m\n",
       "param\u001b[1m[\u001b[0m\u001b[32m'aexp'\u001b[0m\u001b[1m]\u001b[0m=\u001b[1;36m0.0909090909090909\u001b[0m                                                                                   \n"
      ]
     },
     "metadata": {},
     "output_type": "display_data"
    },
    {
     "data": {
      "text/html": [
       "<pre style=\"white-space:pre;overflow-x:auto;line-height:normal;font-family:Menlo,'DejaVu Sans Mono',consolas,'Courier New',monospace\">param<span style=\"font-weight: bold\">[</span><span style=\"color: #008000; text-decoration-color: #008000\">'nsteps'</span><span style=\"font-weight: bold\">]</span>=<span style=\"color: #008080; text-decoration-color: #008080; font-weight: bold\">16</span> param<span style=\"font-weight: bold\">[</span><span style=\"color: #008000; text-decoration-color: #008000\">'aexp'</span><span style=\"font-weight: bold\">]</span>=<span style=\"color: #008080; text-decoration-color: #008080; font-weight: bold\">0.0909090909090909</span> z = <span style=\"color: #008080; text-decoration-color: #008080; font-weight: bold\">10.000000000000002</span>                                         \n",
       "</pre>\n"
      ],
      "text/plain": [
       "param\u001b[1m[\u001b[0m\u001b[32m'nsteps'\u001b[0m\u001b[1m]\u001b[0m=\u001b[1;36m16\u001b[0m param\u001b[1m[\u001b[0m\u001b[32m'aexp'\u001b[0m\u001b[1m]\u001b[0m=\u001b[1;36m0.0909090909090909\u001b[0m z = \u001b[1;36m10.000000000000002\u001b[0m                                         \n"
      ]
     },
     "metadata": {},
     "output_type": "display_data"
    },
    {
     "data": {
      "text/html": [
       "<pre style=\"white-space:pre;overflow-x:auto;line-height:normal;font-family:Menlo,'DejaVu Sans Mono',consolas,'Courier New',monospace\">Write <span style=\"color: #800080; text-decoration-color: #800080; font-weight: bold\">P</span><span style=\"font-weight: bold\">(</span>k<span style=\"font-weight: bold\">)</span> in .<span style=\"color: #800080; text-decoration-color: #800080\">/boxlen100_n128_lcdmw7v2_00000//power/</span><span style=\"color: #ff00ff; text-decoration-color: #ff00ff\">pk_eft_multigrid_ncoarse7_00017.dat</span>                           \n",
       "</pre>\n"
      ],
      "text/plain": [
       "Write \u001b[1;35mP\u001b[0m\u001b[1m(\u001b[0mk\u001b[1m)\u001b[0m in .\u001b[35m/boxlen100_n128_lcdmw7v2_00000/\u001b[0m\u001b[35m/power/\u001b[0m\u001b[95mpk_eft_multigrid_ncoarse7_00017.dat\u001b[0m                           \n"
      ]
     },
     "metadata": {},
     "output_type": "display_data"
    },
    {
     "data": {
      "text/html": [
       "<pre style=\"white-space:pre;overflow-x:auto;line-height:normal;font-family:Menlo,'DejaVu Sans Mono',consolas,'Courier New',monospace\">param<span style=\"font-weight: bold\">[</span><span style=\"color: #008000; text-decoration-color: #008000\">'nsteps'</span><span style=\"font-weight: bold\">]</span>=<span style=\"color: #008080; text-decoration-color: #008080; font-weight: bold\">17</span> param<span style=\"font-weight: bold\">[</span><span style=\"color: #008000; text-decoration-color: #008000\">'aexp'</span><span style=\"font-weight: bold\">]</span>=<span style=\"color: #008080; text-decoration-color: #008080; font-weight: bold\">0.09999999981782201</span> z = <span style=\"color: #008080; text-decoration-color: #008080; font-weight: bold\">9.000000018217799</span>                                         \n",
       "</pre>\n"
      ],
      "text/plain": [
       "param\u001b[1m[\u001b[0m\u001b[32m'nsteps'\u001b[0m\u001b[1m]\u001b[0m=\u001b[1;36m17\u001b[0m param\u001b[1m[\u001b[0m\u001b[32m'aexp'\u001b[0m\u001b[1m]\u001b[0m=\u001b[1;36m0.09999999981782201\u001b[0m z = \u001b[1;36m9.000000018217799\u001b[0m                                         \n"
      ]
     },
     "metadata": {},
     "output_type": "display_data"
    },
    {
     "data": {
      "text/html": [
       "<pre style=\"white-space:pre;overflow-x:auto;line-height:normal;font-family:Menlo,'DejaVu Sans Mono',consolas,'Courier New',monospace\">Write <span style=\"color: #800080; text-decoration-color: #800080; font-weight: bold\">P</span><span style=\"font-weight: bold\">(</span>k<span style=\"font-weight: bold\">)</span> in .<span style=\"color: #800080; text-decoration-color: #800080\">/boxlen100_n128_lcdmw7v2_00000//power/</span><span style=\"color: #ff00ff; text-decoration-color: #ff00ff\">pk_eft_multigrid_ncoarse7_00018.dat</span>                           \n",
       "</pre>\n"
      ],
      "text/plain": [
       "Write \u001b[1;35mP\u001b[0m\u001b[1m(\u001b[0mk\u001b[1m)\u001b[0m in .\u001b[35m/boxlen100_n128_lcdmw7v2_00000/\u001b[0m\u001b[35m/power/\u001b[0m\u001b[95mpk_eft_multigrid_ncoarse7_00018.dat\u001b[0m                           \n"
      ]
     },
     "metadata": {},
     "output_type": "display_data"
    },
    {
     "data": {
      "text/html": [
       "<pre style=\"white-space:pre;overflow-x:auto;line-height:normal;font-family:Menlo,'DejaVu Sans Mono',consolas,'Courier New',monospace\">param<span style=\"font-weight: bold\">[</span><span style=\"color: #008000; text-decoration-color: #008000\">'nsteps'</span><span style=\"font-weight: bold\">]</span>=<span style=\"color: #008080; text-decoration-color: #008080; font-weight: bold\">18</span> param<span style=\"font-weight: bold\">[</span><span style=\"color: #008000; text-decoration-color: #008000\">'aexp'</span><span style=\"font-weight: bold\">]</span>=<span style=\"color: #008080; text-decoration-color: #008080; font-weight: bold\">0.110000000312608</span> z = <span style=\"color: #008080; text-decoration-color: #008080; font-weight: bold\">8.090909065073719</span>                                           \n",
       "</pre>\n"
      ],
      "text/plain": [
       "param\u001b[1m[\u001b[0m\u001b[32m'nsteps'\u001b[0m\u001b[1m]\u001b[0m=\u001b[1;36m18\u001b[0m param\u001b[1m[\u001b[0m\u001b[32m'aexp'\u001b[0m\u001b[1m]\u001b[0m=\u001b[1;36m0.110000000312608\u001b[0m z = \u001b[1;36m8.090909065073719\u001b[0m                                           \n"
      ]
     },
     "metadata": {},
     "output_type": "display_data"
    },
    {
     "data": {
      "text/html": [
       "<pre style=\"white-space:pre;overflow-x:auto;line-height:normal;font-family:Menlo,'DejaVu Sans Mono',consolas,'Courier New',monospace\">Write <span style=\"color: #800080; text-decoration-color: #800080; font-weight: bold\">P</span><span style=\"font-weight: bold\">(</span>k<span style=\"font-weight: bold\">)</span> in .<span style=\"color: #800080; text-decoration-color: #800080\">/boxlen100_n128_lcdmw7v2_00000//power/</span><span style=\"color: #ff00ff; text-decoration-color: #ff00ff\">pk_eft_multigrid_ncoarse7_00019.dat</span>                           \n",
       "</pre>\n"
      ],
      "text/plain": [
       "Write \u001b[1;35mP\u001b[0m\u001b[1m(\u001b[0mk\u001b[1m)\u001b[0m in .\u001b[35m/boxlen100_n128_lcdmw7v2_00000/\u001b[0m\u001b[35m/power/\u001b[0m\u001b[95mpk_eft_multigrid_ncoarse7_00019.dat\u001b[0m                           \n"
      ]
     },
     "metadata": {},
     "output_type": "display_data"
    },
    {
     "data": {
      "text/html": [
       "<pre style=\"white-space:pre;overflow-x:auto;line-height:normal;font-family:Menlo,'DejaVu Sans Mono',consolas,'Courier New',monospace\">Snapshot written at <span style=\"color: #808000; text-decoration-color: #808000\">...</span><span style=\"color: #808000; text-decoration-color: #808000\">filename</span>=<span style=\"color: #008000; text-decoration-color: #008000\">'./boxlen100_n128_lcdmw7v2_00000//output_00002/particles_eft_multigrid_ncoarse7.h5'</span>\n",
       "param<span style=\"font-weight: bold\">[</span><span style=\"color: #008000; text-decoration-color: #008000\">'aexp'</span><span style=\"font-weight: bold\">]</span>=<span style=\"color: #008080; text-decoration-color: #008080; font-weight: bold\">0.11111111111111109</span>                                                                                  \n",
       "</pre>\n"
      ],
      "text/plain": [
       "Snapshot written at \u001b[33m...\u001b[0m\u001b[33mfilename\u001b[0m=\u001b[32m'./boxlen100_n128_lcdmw7v2_00000//output_00002/particles_eft_multigrid_ncoarse7.h5'\u001b[0m\n",
       "param\u001b[1m[\u001b[0m\u001b[32m'aexp'\u001b[0m\u001b[1m]\u001b[0m=\u001b[1;36m0.11111111111111109\u001b[0m                                                                                  \n"
      ]
     },
     "metadata": {},
     "output_type": "display_data"
    },
    {
     "data": {
      "text/html": [
       "<pre style=\"white-space:pre;overflow-x:auto;line-height:normal;font-family:Menlo,'DejaVu Sans Mono',consolas,'Courier New',monospace\">param<span style=\"font-weight: bold\">[</span><span style=\"color: #008000; text-decoration-color: #008000\">'nsteps'</span><span style=\"font-weight: bold\">]</span>=<span style=\"color: #008080; text-decoration-color: #008080; font-weight: bold\">19</span> param<span style=\"font-weight: bold\">[</span><span style=\"color: #008000; text-decoration-color: #008000\">'aexp'</span><span style=\"font-weight: bold\">]</span>=<span style=\"color: #008080; text-decoration-color: #008080; font-weight: bold\">0.11111111111111109</span> z = <span style=\"color: #008080; text-decoration-color: #008080; font-weight: bold\">8.000000000000002</span>                                         \n",
       "</pre>\n"
      ],
      "text/plain": [
       "param\u001b[1m[\u001b[0m\u001b[32m'nsteps'\u001b[0m\u001b[1m]\u001b[0m=\u001b[1;36m19\u001b[0m param\u001b[1m[\u001b[0m\u001b[32m'aexp'\u001b[0m\u001b[1m]\u001b[0m=\u001b[1;36m0.11111111111111109\u001b[0m z = \u001b[1;36m8.000000000000002\u001b[0m                                         \n"
      ]
     },
     "metadata": {},
     "output_type": "display_data"
    },
    {
     "data": {
      "text/html": [
       "<pre style=\"white-space:pre;overflow-x:auto;line-height:normal;font-family:Menlo,'DejaVu Sans Mono',consolas,'Courier New',monospace\">Write <span style=\"color: #800080; text-decoration-color: #800080; font-weight: bold\">P</span><span style=\"font-weight: bold\">(</span>k<span style=\"font-weight: bold\">)</span> in .<span style=\"color: #800080; text-decoration-color: #800080\">/boxlen100_n128_lcdmw7v2_00000//power/</span><span style=\"color: #ff00ff; text-decoration-color: #ff00ff\">pk_eft_multigrid_ncoarse7_00020.dat</span>                           \n",
       "</pre>\n"
      ],
      "text/plain": [
       "Write \u001b[1;35mP\u001b[0m\u001b[1m(\u001b[0mk\u001b[1m)\u001b[0m in .\u001b[35m/boxlen100_n128_lcdmw7v2_00000/\u001b[0m\u001b[35m/power/\u001b[0m\u001b[95mpk_eft_multigrid_ncoarse7_00020.dat\u001b[0m                           \n"
      ]
     },
     "metadata": {},
     "output_type": "display_data"
    },
    {
     "data": {
      "text/html": [
       "<pre style=\"white-space:pre;overflow-x:auto;line-height:normal;font-family:Menlo,'DejaVu Sans Mono',consolas,'Courier New',monospace\">param<span style=\"font-weight: bold\">[</span><span style=\"color: #008000; text-decoration-color: #008000\">'nsteps'</span><span style=\"font-weight: bold\">]</span>=<span style=\"color: #008080; text-decoration-color: #008080; font-weight: bold\">20</span> param<span style=\"font-weight: bold\">[</span><span style=\"color: #008000; text-decoration-color: #008000\">'aexp'</span><span style=\"font-weight: bold\">]</span>=<span style=\"color: #008080; text-decoration-color: #008080; font-weight: bold\">0.12222222282153047</span> z = <span style=\"color: #008080; text-decoration-color: #008080; font-weight: bold\">7.1818181416992</span>                                           \n",
       "</pre>\n"
      ],
      "text/plain": [
       "param\u001b[1m[\u001b[0m\u001b[32m'nsteps'\u001b[0m\u001b[1m]\u001b[0m=\u001b[1;36m20\u001b[0m param\u001b[1m[\u001b[0m\u001b[32m'aexp'\u001b[0m\u001b[1m]\u001b[0m=\u001b[1;36m0.12222222282153047\u001b[0m z = \u001b[1;36m7.1818181416992\u001b[0m                                           \n"
      ]
     },
     "metadata": {},
     "output_type": "display_data"
    },
    {
     "data": {
      "text/html": [
       "<pre style=\"white-space:pre;overflow-x:auto;line-height:normal;font-family:Menlo,'DejaVu Sans Mono',consolas,'Courier New',monospace\">Write <span style=\"color: #800080; text-decoration-color: #800080; font-weight: bold\">P</span><span style=\"font-weight: bold\">(</span>k<span style=\"font-weight: bold\">)</span> in .<span style=\"color: #800080; text-decoration-color: #800080\">/boxlen100_n128_lcdmw7v2_00000//power/</span><span style=\"color: #ff00ff; text-decoration-color: #ff00ff\">pk_eft_multigrid_ncoarse7_00021.dat</span>                           \n",
       "</pre>\n"
      ],
      "text/plain": [
       "Write \u001b[1;35mP\u001b[0m\u001b[1m(\u001b[0mk\u001b[1m)\u001b[0m in .\u001b[35m/boxlen100_n128_lcdmw7v2_00000/\u001b[0m\u001b[35m/power/\u001b[0m\u001b[95mpk_eft_multigrid_ncoarse7_00021.dat\u001b[0m                           \n"
      ]
     },
     "metadata": {},
     "output_type": "display_data"
    },
    {
     "data": {
      "text/html": [
       "<pre style=\"white-space:pre;overflow-x:auto;line-height:normal;font-family:Menlo,'DejaVu Sans Mono',consolas,'Courier New',monospace\">param<span style=\"font-weight: bold\">[</span><span style=\"color: #008000; text-decoration-color: #008000\">'nsteps'</span><span style=\"font-weight: bold\">]</span>=<span style=\"color: #008080; text-decoration-color: #008080; font-weight: bold\">21</span> param<span style=\"font-weight: bold\">[</span><span style=\"color: #008000; text-decoration-color: #008000\">'aexp'</span><span style=\"font-weight: bold\">]</span>=<span style=\"color: #008080; text-decoration-color: #008080; font-weight: bold\">0.13444444578624504</span> z = <span style=\"color: #008080; text-decoration-color: #008080; font-weight: bold\">6.438016454691724</span>                                         \n",
       "</pre>\n"
      ],
      "text/plain": [
       "param\u001b[1m[\u001b[0m\u001b[32m'nsteps'\u001b[0m\u001b[1m]\u001b[0m=\u001b[1;36m21\u001b[0m param\u001b[1m[\u001b[0m\u001b[32m'aexp'\u001b[0m\u001b[1m]\u001b[0m=\u001b[1;36m0.13444444578624504\u001b[0m z = \u001b[1;36m6.438016454691724\u001b[0m                                         \n"
      ]
     },
     "metadata": {},
     "output_type": "display_data"
    },
    {
     "data": {
      "text/html": [
       "<pre style=\"white-space:pre;overflow-x:auto;line-height:normal;font-family:Menlo,'DejaVu Sans Mono',consolas,'Courier New',monospace\">Write <span style=\"color: #800080; text-decoration-color: #800080; font-weight: bold\">P</span><span style=\"font-weight: bold\">(</span>k<span style=\"font-weight: bold\">)</span> in .<span style=\"color: #800080; text-decoration-color: #800080\">/boxlen100_n128_lcdmw7v2_00000//power/</span><span style=\"color: #ff00ff; text-decoration-color: #ff00ff\">pk_eft_multigrid_ncoarse7_00022.dat</span>                           \n",
       "</pre>\n"
      ],
      "text/plain": [
       "Write \u001b[1;35mP\u001b[0m\u001b[1m(\u001b[0mk\u001b[1m)\u001b[0m in .\u001b[35m/boxlen100_n128_lcdmw7v2_00000/\u001b[0m\u001b[35m/power/\u001b[0m\u001b[95mpk_eft_multigrid_ncoarse7_00022.dat\u001b[0m                           \n"
      ]
     },
     "metadata": {},
     "output_type": "display_data"
    },
    {
     "data": {
      "text/html": [
       "<pre style=\"white-space:pre;overflow-x:auto;line-height:normal;font-family:Menlo,'DejaVu Sans Mono',consolas,'Courier New',monospace\">param<span style=\"font-weight: bold\">[</span><span style=\"color: #008000; text-decoration-color: #008000\">'nsteps'</span><span style=\"font-weight: bold\">]</span>=<span style=\"color: #008080; text-decoration-color: #008080; font-weight: bold\">22</span> param<span style=\"font-weight: bold\">[</span><span style=\"color: #008000; text-decoration-color: #008000\">'aexp'</span><span style=\"font-weight: bold\">]</span>=<span style=\"color: #008080; text-decoration-color: #008080; font-weight: bold\">0.14788889017869028</span> z = <span style=\"color: #008080; text-decoration-color: #008080; font-weight: bold\">5.7618331491414</span>                                           \n",
       "</pre>\n"
      ],
      "text/plain": [
       "param\u001b[1m[\u001b[0m\u001b[32m'nsteps'\u001b[0m\u001b[1m]\u001b[0m=\u001b[1;36m22\u001b[0m param\u001b[1m[\u001b[0m\u001b[32m'aexp'\u001b[0m\u001b[1m]\u001b[0m=\u001b[1;36m0.14788889017869028\u001b[0m z = \u001b[1;36m5.7618331491414\u001b[0m                                           \n"
      ]
     },
     "metadata": {},
     "output_type": "display_data"
    },
    {
     "data": {
      "text/html": [
       "<pre style=\"white-space:pre;overflow-x:auto;line-height:normal;font-family:Menlo,'DejaVu Sans Mono',consolas,'Courier New',monospace\">Write <span style=\"color: #800080; text-decoration-color: #800080; font-weight: bold\">P</span><span style=\"font-weight: bold\">(</span>k<span style=\"font-weight: bold\">)</span> in .<span style=\"color: #800080; text-decoration-color: #800080\">/boxlen100_n128_lcdmw7v2_00000//power/</span><span style=\"color: #ff00ff; text-decoration-color: #ff00ff\">pk_eft_multigrid_ncoarse7_00023.dat</span>                           \n",
       "</pre>\n"
      ],
      "text/plain": [
       "Write \u001b[1;35mP\u001b[0m\u001b[1m(\u001b[0mk\u001b[1m)\u001b[0m in .\u001b[35m/boxlen100_n128_lcdmw7v2_00000/\u001b[0m\u001b[35m/power/\u001b[0m\u001b[95mpk_eft_multigrid_ncoarse7_00023.dat\u001b[0m                           \n"
      ]
     },
     "metadata": {},
     "output_type": "display_data"
    },
    {
     "data": {
      "text/html": [
       "<pre style=\"white-space:pre;overflow-x:auto;line-height:normal;font-family:Menlo,'DejaVu Sans Mono',consolas,'Courier New',monospace\">param<span style=\"font-weight: bold\">[</span><span style=\"color: #008000; text-decoration-color: #008000\">'nsteps'</span><span style=\"font-weight: bold\">]</span>=<span style=\"color: #008080; text-decoration-color: #008080; font-weight: bold\">23</span> param<span style=\"font-weight: bold\">[</span><span style=\"color: #008000; text-decoration-color: #008000\">'aexp'</span><span style=\"font-weight: bold\">]</span>=<span style=\"color: #008080; text-decoration-color: #008080; font-weight: bold\">0.162677778971108</span> z = <span style=\"color: #008080; text-decoration-color: #008080; font-weight: bold\">5.147121053193151</span>                                           \n",
       "</pre>\n"
      ],
      "text/plain": [
       "param\u001b[1m[\u001b[0m\u001b[32m'nsteps'\u001b[0m\u001b[1m]\u001b[0m=\u001b[1;36m23\u001b[0m param\u001b[1m[\u001b[0m\u001b[32m'aexp'\u001b[0m\u001b[1m]\u001b[0m=\u001b[1;36m0.162677778971108\u001b[0m z = \u001b[1;36m5.147121053193151\u001b[0m                                           \n"
      ]
     },
     "metadata": {},
     "output_type": "display_data"
    },
    {
     "data": {
      "text/html": [
       "<pre style=\"white-space:pre;overflow-x:auto;line-height:normal;font-family:Menlo,'DejaVu Sans Mono',consolas,'Courier New',monospace\">Write <span style=\"color: #800080; text-decoration-color: #800080; font-weight: bold\">P</span><span style=\"font-weight: bold\">(</span>k<span style=\"font-weight: bold\">)</span> in .<span style=\"color: #800080; text-decoration-color: #800080\">/boxlen100_n128_lcdmw7v2_00000//power/</span><span style=\"color: #ff00ff; text-decoration-color: #ff00ff\">pk_eft_multigrid_ncoarse7_00024.dat</span>                           \n",
       "</pre>\n"
      ],
      "text/plain": [
       "Write \u001b[1;35mP\u001b[0m\u001b[1m(\u001b[0mk\u001b[1m)\u001b[0m in .\u001b[35m/boxlen100_n128_lcdmw7v2_00000/\u001b[0m\u001b[35m/power/\u001b[0m\u001b[95mpk_eft_multigrid_ncoarse7_00024.dat\u001b[0m                           \n"
      ]
     },
     "metadata": {},
     "output_type": "display_data"
    },
    {
     "data": {
      "text/html": [
       "<pre style=\"white-space:pre;overflow-x:auto;line-height:normal;font-family:Menlo,'DejaVu Sans Mono',consolas,'Courier New',monospace\">Snapshot written at <span style=\"color: #808000; text-decoration-color: #808000\">...</span><span style=\"color: #808000; text-decoration-color: #808000\">filename</span>=<span style=\"color: #008000; text-decoration-color: #008000\">'./boxlen100_n128_lcdmw7v2_00000//output_00003/particles_eft_multigrid_ncoarse7.h5'</span>\n",
       "param<span style=\"font-weight: bold\">[</span><span style=\"color: #008000; text-decoration-color: #008000\">'aexp'</span><span style=\"font-weight: bold\">]</span>=<span style=\"color: #008080; text-decoration-color: #008080; font-weight: bold\">0.16666666666666669</span>                                                                                  \n",
       "</pre>\n"
      ],
      "text/plain": [
       "Snapshot written at \u001b[33m...\u001b[0m\u001b[33mfilename\u001b[0m=\u001b[32m'./boxlen100_n128_lcdmw7v2_00000//output_00003/particles_eft_multigrid_ncoarse7.h5'\u001b[0m\n",
       "param\u001b[1m[\u001b[0m\u001b[32m'aexp'\u001b[0m\u001b[1m]\u001b[0m=\u001b[1;36m0.16666666666666669\u001b[0m                                                                                  \n"
      ]
     },
     "metadata": {},
     "output_type": "display_data"
    },
    {
     "data": {
      "text/html": [
       "<pre style=\"white-space:pre;overflow-x:auto;line-height:normal;font-family:Menlo,'DejaVu Sans Mono',consolas,'Courier New',monospace\">param<span style=\"font-weight: bold\">[</span><span style=\"color: #008000; text-decoration-color: #008000\">'nsteps'</span><span style=\"font-weight: bold\">]</span>=<span style=\"color: #008080; text-decoration-color: #008080; font-weight: bold\">24</span> param<span style=\"font-weight: bold\">[</span><span style=\"color: #008000; text-decoration-color: #008000\">'aexp'</span><span style=\"font-weight: bold\">]</span>=<span style=\"color: #008080; text-decoration-color: #008080; font-weight: bold\">0.16666666666666669</span> z = <span style=\"color: #008080; text-decoration-color: #008080; font-weight: bold\">4.999999999999999</span>                                         \n",
       "</pre>\n"
      ],
      "text/plain": [
       "param\u001b[1m[\u001b[0m\u001b[32m'nsteps'\u001b[0m\u001b[1m]\u001b[0m=\u001b[1;36m24\u001b[0m param\u001b[1m[\u001b[0m\u001b[32m'aexp'\u001b[0m\u001b[1m]\u001b[0m=\u001b[1;36m0.16666666666666669\u001b[0m z = \u001b[1;36m4.999999999999999\u001b[0m                                         \n"
      ]
     },
     "metadata": {},
     "output_type": "display_data"
    },
    {
     "data": {
      "text/html": [
       "<pre style=\"white-space:pre;overflow-x:auto;line-height:normal;font-family:Menlo,'DejaVu Sans Mono',consolas,'Courier New',monospace\">Write <span style=\"color: #800080; text-decoration-color: #800080; font-weight: bold\">P</span><span style=\"font-weight: bold\">(</span>k<span style=\"font-weight: bold\">)</span> in .<span style=\"color: #800080; text-decoration-color: #800080\">/boxlen100_n128_lcdmw7v2_00000//power/</span><span style=\"color: #ff00ff; text-decoration-color: #ff00ff\">pk_eft_multigrid_ncoarse7_00025.dat</span>                           \n",
       "</pre>\n"
      ],
      "text/plain": [
       "Write \u001b[1;35mP\u001b[0m\u001b[1m(\u001b[0mk\u001b[1m)\u001b[0m in .\u001b[35m/boxlen100_n128_lcdmw7v2_00000/\u001b[0m\u001b[35m/power/\u001b[0m\u001b[95mpk_eft_multigrid_ncoarse7_00025.dat\u001b[0m                           \n"
      ]
     },
     "metadata": {},
     "output_type": "display_data"
    },
    {
     "data": {
      "text/html": [
       "<pre style=\"white-space:pre;overflow-x:auto;line-height:normal;font-family:Menlo,'DejaVu Sans Mono',consolas,'Courier New',monospace\">param<span style=\"font-weight: bold\">[</span><span style=\"color: #008000; text-decoration-color: #008000\">'nsteps'</span><span style=\"font-weight: bold\">]</span>=<span style=\"color: #008080; text-decoration-color: #008080; font-weight: bold\">25</span> param<span style=\"font-weight: bold\">[</span><span style=\"color: #008000; text-decoration-color: #008000\">'aexp'</span><span style=\"font-weight: bold\">]</span>=<span style=\"color: #008080; text-decoration-color: #008080; font-weight: bold\">0.18333333390952433</span> z = <span style=\"color: #008080; text-decoration-color: #008080; font-weight: bold\">4.454545437402582</span>                                         \n",
       "</pre>\n"
      ],
      "text/plain": [
       "param\u001b[1m[\u001b[0m\u001b[32m'nsteps'\u001b[0m\u001b[1m]\u001b[0m=\u001b[1;36m25\u001b[0m param\u001b[1m[\u001b[0m\u001b[32m'aexp'\u001b[0m\u001b[1m]\u001b[0m=\u001b[1;36m0.18333333390952433\u001b[0m z = \u001b[1;36m4.454545437402582\u001b[0m                                         \n"
      ]
     },
     "metadata": {},
     "output_type": "display_data"
    },
    {
     "data": {
      "text/html": [
       "<pre style=\"white-space:pre;overflow-x:auto;line-height:normal;font-family:Menlo,'DejaVu Sans Mono',consolas,'Courier New',monospace\">Write <span style=\"color: #800080; text-decoration-color: #800080; font-weight: bold\">P</span><span style=\"font-weight: bold\">(</span>k<span style=\"font-weight: bold\">)</span> in .<span style=\"color: #800080; text-decoration-color: #800080\">/boxlen100_n128_lcdmw7v2_00000//power/</span><span style=\"color: #ff00ff; text-decoration-color: #ff00ff\">pk_eft_multigrid_ncoarse7_00026.dat</span>                           \n",
       "</pre>\n"
      ],
      "text/plain": [
       "Write \u001b[1;35mP\u001b[0m\u001b[1m(\u001b[0mk\u001b[1m)\u001b[0m in .\u001b[35m/boxlen100_n128_lcdmw7v2_00000/\u001b[0m\u001b[35m/power/\u001b[0m\u001b[95mpk_eft_multigrid_ncoarse7_00026.dat\u001b[0m                           \n"
      ]
     },
     "metadata": {},
     "output_type": "display_data"
    },
    {
     "data": {
      "text/html": [
       "<pre style=\"white-space:pre;overflow-x:auto;line-height:normal;font-family:Menlo,'DejaVu Sans Mono',consolas,'Courier New',monospace\">param<span style=\"font-weight: bold\">[</span><span style=\"color: #008000; text-decoration-color: #008000\">'nsteps'</span><span style=\"font-weight: bold\">]</span>=<span style=\"color: #008080; text-decoration-color: #008080; font-weight: bold\">26</span> param<span style=\"font-weight: bold\">[</span><span style=\"color: #008000; text-decoration-color: #008000\">'aexp'</span><span style=\"font-weight: bold\">]</span>=<span style=\"color: #008080; text-decoration-color: #008080; font-weight: bold\">0.20166666763218544</span> z = <span style=\"color: #008080; text-decoration-color: #008080; font-weight: bold\">3.9586776622097704</span>                                        \n",
       "</pre>\n"
      ],
      "text/plain": [
       "param\u001b[1m[\u001b[0m\u001b[32m'nsteps'\u001b[0m\u001b[1m]\u001b[0m=\u001b[1;36m26\u001b[0m param\u001b[1m[\u001b[0m\u001b[32m'aexp'\u001b[0m\u001b[1m]\u001b[0m=\u001b[1;36m0.20166666763218544\u001b[0m z = \u001b[1;36m3.9586776622097704\u001b[0m                                        \n"
      ]
     },
     "metadata": {},
     "output_type": "display_data"
    },
    {
     "data": {
      "text/html": [
       "<pre style=\"white-space:pre;overflow-x:auto;line-height:normal;font-family:Menlo,'DejaVu Sans Mono',consolas,'Courier New',monospace\">Write <span style=\"color: #800080; text-decoration-color: #800080; font-weight: bold\">P</span><span style=\"font-weight: bold\">(</span>k<span style=\"font-weight: bold\">)</span> in .<span style=\"color: #800080; text-decoration-color: #800080\">/boxlen100_n128_lcdmw7v2_00000//power/</span><span style=\"color: #ff00ff; text-decoration-color: #ff00ff\">pk_eft_multigrid_ncoarse7_00027.dat</span>                           \n",
       "</pre>\n"
      ],
      "text/plain": [
       "Write \u001b[1;35mP\u001b[0m\u001b[1m(\u001b[0mk\u001b[1m)\u001b[0m in .\u001b[35m/boxlen100_n128_lcdmw7v2_00000/\u001b[0m\u001b[35m/power/\u001b[0m\u001b[95mpk_eft_multigrid_ncoarse7_00027.dat\u001b[0m                           \n"
      ]
     },
     "metadata": {},
     "output_type": "display_data"
    },
    {
     "data": {
      "text/html": [
       "<pre style=\"white-space:pre;overflow-x:auto;line-height:normal;font-family:Menlo,'DejaVu Sans Mono',consolas,'Courier New',monospace\">param<span style=\"font-weight: bold\">[</span><span style=\"color: #008000; text-decoration-color: #008000\">'nsteps'</span><span style=\"font-weight: bold\">]</span>=<span style=\"color: #008080; text-decoration-color: #008080; font-weight: bold\">27</span> param<span style=\"font-weight: bold\">[</span><span style=\"color: #008000; text-decoration-color: #008000\">'aexp'</span><span style=\"font-weight: bold\">]</span>=<span style=\"color: #008080; text-decoration-color: #008080; font-weight: bold\">0.22183333383331816</span> z = <span style=\"color: #008080; text-decoration-color: #008080; font-weight: bold\">3.5078887952492446</span>                                        \n",
       "</pre>\n"
      ],
      "text/plain": [
       "param\u001b[1m[\u001b[0m\u001b[32m'nsteps'\u001b[0m\u001b[1m]\u001b[0m=\u001b[1;36m27\u001b[0m param\u001b[1m[\u001b[0m\u001b[32m'aexp'\u001b[0m\u001b[1m]\u001b[0m=\u001b[1;36m0.22183333383331816\u001b[0m z = \u001b[1;36m3.5078887952492446\u001b[0m                                        \n"
      ]
     },
     "metadata": {},
     "output_type": "display_data"
    },
    {
     "data": {
      "text/html": [
       "<pre style=\"white-space:pre;overflow-x:auto;line-height:normal;font-family:Menlo,'DejaVu Sans Mono',consolas,'Courier New',monospace\">Write <span style=\"color: #800080; text-decoration-color: #800080; font-weight: bold\">P</span><span style=\"font-weight: bold\">(</span>k<span style=\"font-weight: bold\">)</span> in .<span style=\"color: #800080; text-decoration-color: #800080\">/boxlen100_n128_lcdmw7v2_00000//power/</span><span style=\"color: #ff00ff; text-decoration-color: #ff00ff\">pk_eft_multigrid_ncoarse7_00028.dat</span>                           \n",
       "</pre>\n"
      ],
      "text/plain": [
       "Write \u001b[1;35mP\u001b[0m\u001b[1m(\u001b[0mk\u001b[1m)\u001b[0m in .\u001b[35m/boxlen100_n128_lcdmw7v2_00000/\u001b[0m\u001b[35m/power/\u001b[0m\u001b[95mpk_eft_multigrid_ncoarse7_00028.dat\u001b[0m                           \n"
      ]
     },
     "metadata": {},
     "output_type": "display_data"
    },
    {
     "data": {
      "text/html": [
       "<pre style=\"white-space:pre;overflow-x:auto;line-height:normal;font-family:Menlo,'DejaVu Sans Mono',consolas,'Courier New',monospace\">param<span style=\"font-weight: bold\">[</span><span style=\"color: #008000; text-decoration-color: #008000\">'nsteps'</span><span style=\"font-weight: bold\">]</span>=<span style=\"color: #008080; text-decoration-color: #008080; font-weight: bold\">28</span> param<span style=\"font-weight: bold\">[</span><span style=\"color: #008000; text-decoration-color: #008000\">'aexp'</span><span style=\"font-weight: bold\">]</span>=<span style=\"color: #008080; text-decoration-color: #008080; font-weight: bold\">0.24401666759818366</span> z = <span style=\"color: #008080; text-decoration-color: #008080; font-weight: bold\">3.0980807165462805</span>                                        \n",
       "</pre>\n"
      ],
      "text/plain": [
       "param\u001b[1m[\u001b[0m\u001b[32m'nsteps'\u001b[0m\u001b[1m]\u001b[0m=\u001b[1;36m28\u001b[0m param\u001b[1m[\u001b[0m\u001b[32m'aexp'\u001b[0m\u001b[1m]\u001b[0m=\u001b[1;36m0.24401666759818366\u001b[0m z = \u001b[1;36m3.0980807165462805\u001b[0m                                        \n"
      ]
     },
     "metadata": {},
     "output_type": "display_data"
    },
    {
     "data": {
      "text/html": [
       "<pre style=\"white-space:pre;overflow-x:auto;line-height:normal;font-family:Menlo,'DejaVu Sans Mono',consolas,'Courier New',monospace\">Write <span style=\"color: #800080; text-decoration-color: #800080; font-weight: bold\">P</span><span style=\"font-weight: bold\">(</span>k<span style=\"font-weight: bold\">)</span> in .<span style=\"color: #800080; text-decoration-color: #800080\">/boxlen100_n128_lcdmw7v2_00000//power/</span><span style=\"color: #ff00ff; text-decoration-color: #ff00ff\">pk_eft_multigrid_ncoarse7_00029.dat</span>                           \n",
       "</pre>\n"
      ],
      "text/plain": [
       "Write \u001b[1;35mP\u001b[0m\u001b[1m(\u001b[0mk\u001b[1m)\u001b[0m in .\u001b[35m/boxlen100_n128_lcdmw7v2_00000/\u001b[0m\u001b[35m/power/\u001b[0m\u001b[95mpk_eft_multigrid_ncoarse7_00029.dat\u001b[0m                           \n"
      ]
     },
     "metadata": {},
     "output_type": "display_data"
    },
    {
     "data": {
      "text/html": [
       "<pre style=\"white-space:pre;overflow-x:auto;line-height:normal;font-family:Menlo,'DejaVu Sans Mono',consolas,'Courier New',monospace\">param<span style=\"font-weight: bold\">[</span><span style=\"color: #008000; text-decoration-color: #008000\">'nsteps'</span><span style=\"font-weight: bold\">]</span>=<span style=\"color: #008080; text-decoration-color: #008080; font-weight: bold\">29</span> param<span style=\"font-weight: bold\">[</span><span style=\"color: #008000; text-decoration-color: #008000\">'aexp'</span><span style=\"font-weight: bold\">]</span>=<span style=\"color: #008080; text-decoration-color: #008080; font-weight: bold\">0.2684183337219493</span> z = <span style=\"color: #008080; text-decoration-color: #008080; font-weight: bold\">2.7255279329611133</span>                                         \n",
       "</pre>\n"
      ],
      "text/plain": [
       "param\u001b[1m[\u001b[0m\u001b[32m'nsteps'\u001b[0m\u001b[1m]\u001b[0m=\u001b[1;36m29\u001b[0m param\u001b[1m[\u001b[0m\u001b[32m'aexp'\u001b[0m\u001b[1m]\u001b[0m=\u001b[1;36m0.2684183337219493\u001b[0m z = \u001b[1;36m2.7255279329611133\u001b[0m                                         \n"
      ]
     },
     "metadata": {},
     "output_type": "display_data"
    },
    {
     "data": {
      "text/html": [
       "<pre style=\"white-space:pre;overflow-x:auto;line-height:normal;font-family:Menlo,'DejaVu Sans Mono',consolas,'Courier New',monospace\">Write <span style=\"color: #800080; text-decoration-color: #800080; font-weight: bold\">P</span><span style=\"font-weight: bold\">(</span>k<span style=\"font-weight: bold\">)</span> in .<span style=\"color: #800080; text-decoration-color: #800080\">/boxlen100_n128_lcdmw7v2_00000//power/</span><span style=\"color: #ff00ff; text-decoration-color: #ff00ff\">pk_eft_multigrid_ncoarse7_00030.dat</span>                           \n",
       "</pre>\n"
      ],
      "text/plain": [
       "Write \u001b[1;35mP\u001b[0m\u001b[1m(\u001b[0mk\u001b[1m)\u001b[0m in .\u001b[35m/boxlen100_n128_lcdmw7v2_00000/\u001b[0m\u001b[35m/power/\u001b[0m\u001b[95mpk_eft_multigrid_ncoarse7_00030.dat\u001b[0m                           \n"
      ]
     },
     "metadata": {},
     "output_type": "display_data"
    },
    {
     "data": {
      "text/html": [
       "<pre style=\"white-space:pre;overflow-x:auto;line-height:normal;font-family:Menlo,'DejaVu Sans Mono',consolas,'Courier New',monospace\">param<span style=\"font-weight: bold\">[</span><span style=\"color: #008000; text-decoration-color: #008000\">'nsteps'</span><span style=\"font-weight: bold\">]</span>=<span style=\"color: #008080; text-decoration-color: #008080; font-weight: bold\">30</span> param<span style=\"font-weight: bold\">[</span><span style=\"color: #008000; text-decoration-color: #008000\">'aexp'</span><span style=\"font-weight: bold\">]</span>=<span style=\"color: #008080; text-decoration-color: #008080; font-weight: bold\">0.29526016649356307</span> z = <span style=\"color: #008080; text-decoration-color: #008080; font-weight: bold\">2.386843582308286</span>                                         \n",
       "</pre>\n"
      ],
      "text/plain": [
       "param\u001b[1m[\u001b[0m\u001b[32m'nsteps'\u001b[0m\u001b[1m]\u001b[0m=\u001b[1;36m30\u001b[0m param\u001b[1m[\u001b[0m\u001b[32m'aexp'\u001b[0m\u001b[1m]\u001b[0m=\u001b[1;36m0.29526016649356307\u001b[0m z = \u001b[1;36m2.386843582308286\u001b[0m                                         \n"
      ]
     },
     "metadata": {},
     "output_type": "display_data"
    },
    {
     "data": {
      "text/html": [
       "<pre style=\"white-space:pre;overflow-x:auto;line-height:normal;font-family:Menlo,'DejaVu Sans Mono',consolas,'Courier New',monospace\">Write <span style=\"color: #800080; text-decoration-color: #800080; font-weight: bold\">P</span><span style=\"font-weight: bold\">(</span>k<span style=\"font-weight: bold\">)</span> in .<span style=\"color: #800080; text-decoration-color: #800080\">/boxlen100_n128_lcdmw7v2_00000//power/</span><span style=\"color: #ff00ff; text-decoration-color: #ff00ff\">pk_eft_multigrid_ncoarse7_00031.dat</span>                           \n",
       "</pre>\n"
      ],
      "text/plain": [
       "Write \u001b[1;35mP\u001b[0m\u001b[1m(\u001b[0mk\u001b[1m)\u001b[0m in .\u001b[35m/boxlen100_n128_lcdmw7v2_00000/\u001b[0m\u001b[35m/power/\u001b[0m\u001b[95mpk_eft_multigrid_ncoarse7_00031.dat\u001b[0m                           \n"
      ]
     },
     "metadata": {},
     "output_type": "display_data"
    },
    {
     "data": {
      "text/html": [
       "<pre style=\"white-space:pre;overflow-x:auto;line-height:normal;font-family:Menlo,'DejaVu Sans Mono',consolas,'Courier New',monospace\">param<span style=\"font-weight: bold\">[</span><span style=\"color: #008000; text-decoration-color: #008000\">'nsteps'</span><span style=\"font-weight: bold\">]</span>=<span style=\"color: #008080; text-decoration-color: #008080; font-weight: bold\">31</span> param<span style=\"font-weight: bold\">[</span><span style=\"color: #008000; text-decoration-color: #008000\">'aexp'</span><span style=\"font-weight: bold\">]</span>=<span style=\"color: #008080; text-decoration-color: #008080; font-weight: bold\">0.3247861840069178</span> z = <span style=\"color: #008080; text-decoration-color: #008080; font-weight: bold\">2.0789487029987104</span>                                         \n",
       "</pre>\n"
      ],
      "text/plain": [
       "param\u001b[1m[\u001b[0m\u001b[32m'nsteps'\u001b[0m\u001b[1m]\u001b[0m=\u001b[1;36m31\u001b[0m param\u001b[1m[\u001b[0m\u001b[32m'aexp'\u001b[0m\u001b[1m]\u001b[0m=\u001b[1;36m0.3247861840069178\u001b[0m z = \u001b[1;36m2.0789487029987104\u001b[0m                                         \n"
      ]
     },
     "metadata": {},
     "output_type": "display_data"
    },
    {
     "data": {
      "text/html": [
       "<pre style=\"white-space:pre;overflow-x:auto;line-height:normal;font-family:Menlo,'DejaVu Sans Mono',consolas,'Courier New',monospace\">Write <span style=\"color: #800080; text-decoration-color: #800080; font-weight: bold\">P</span><span style=\"font-weight: bold\">(</span>k<span style=\"font-weight: bold\">)</span> in .<span style=\"color: #800080; text-decoration-color: #800080\">/boxlen100_n128_lcdmw7v2_00000//power/</span><span style=\"color: #ff00ff; text-decoration-color: #ff00ff\">pk_eft_multigrid_ncoarse7_00032.dat</span>                           \n",
       "</pre>\n"
      ],
      "text/plain": [
       "Write \u001b[1;35mP\u001b[0m\u001b[1m(\u001b[0mk\u001b[1m)\u001b[0m in .\u001b[35m/boxlen100_n128_lcdmw7v2_00000/\u001b[0m\u001b[35m/power/\u001b[0m\u001b[95mpk_eft_multigrid_ncoarse7_00032.dat\u001b[0m                           \n"
      ]
     },
     "metadata": {},
     "output_type": "display_data"
    },
    {
     "data": {
      "text/html": [
       "<pre style=\"white-space:pre;overflow-x:auto;line-height:normal;font-family:Menlo,'DejaVu Sans Mono',consolas,'Courier New',monospace\">Snapshot written at <span style=\"color: #808000; text-decoration-color: #808000\">...</span><span style=\"color: #808000; text-decoration-color: #808000\">filename</span>=<span style=\"color: #008000; text-decoration-color: #008000\">'./boxlen100_n128_lcdmw7v2_00000//output_00004/particles_eft_multigrid_ncoarse7.h5'</span>\n",
       "param<span style=\"font-weight: bold\">[</span><span style=\"color: #008000; text-decoration-color: #008000\">'aexp'</span><span style=\"font-weight: bold\">]</span>=<span style=\"color: #008080; text-decoration-color: #008080; font-weight: bold\">0.3333333333333333</span>                                                                                   \n",
       "</pre>\n"
      ],
      "text/plain": [
       "Snapshot written at \u001b[33m...\u001b[0m\u001b[33mfilename\u001b[0m=\u001b[32m'./boxlen100_n128_lcdmw7v2_00000//output_00004/particles_eft_multigrid_ncoarse7.h5'\u001b[0m\n",
       "param\u001b[1m[\u001b[0m\u001b[32m'aexp'\u001b[0m\u001b[1m]\u001b[0m=\u001b[1;36m0.3333333333333333\u001b[0m                                                                                   \n"
      ]
     },
     "metadata": {},
     "output_type": "display_data"
    },
    {
     "data": {
      "text/html": [
       "<pre style=\"white-space:pre;overflow-x:auto;line-height:normal;font-family:Menlo,'DejaVu Sans Mono',consolas,'Courier New',monospace\">param<span style=\"font-weight: bold\">[</span><span style=\"color: #008000; text-decoration-color: #008000\">'nsteps'</span><span style=\"font-weight: bold\">]</span>=<span style=\"color: #008080; text-decoration-color: #008080; font-weight: bold\">32</span> param<span style=\"font-weight: bold\">[</span><span style=\"color: #008000; text-decoration-color: #008000\">'aexp'</span><span style=\"font-weight: bold\">]</span>=<span style=\"color: #008080; text-decoration-color: #008080; font-weight: bold\">0.3333333333333333</span> z = <span style=\"color: #008080; text-decoration-color: #008080; font-weight: bold\">2.0</span>                                                        \n",
       "</pre>\n"
      ],
      "text/plain": [
       "param\u001b[1m[\u001b[0m\u001b[32m'nsteps'\u001b[0m\u001b[1m]\u001b[0m=\u001b[1;36m32\u001b[0m param\u001b[1m[\u001b[0m\u001b[32m'aexp'\u001b[0m\u001b[1m]\u001b[0m=\u001b[1;36m0.3333333333333333\u001b[0m z = \u001b[1;36m2.0\u001b[0m                                                        \n"
      ]
     },
     "metadata": {},
     "output_type": "display_data"
    },
    {
     "data": {
      "text/html": [
       "<pre style=\"white-space:pre;overflow-x:auto;line-height:normal;font-family:Menlo,'DejaVu Sans Mono',consolas,'Courier New',monospace\">Write <span style=\"color: #800080; text-decoration-color: #800080; font-weight: bold\">P</span><span style=\"font-weight: bold\">(</span>k<span style=\"font-weight: bold\">)</span> in .<span style=\"color: #800080; text-decoration-color: #800080\">/boxlen100_n128_lcdmw7v2_00000//power/</span><span style=\"color: #ff00ff; text-decoration-color: #ff00ff\">pk_eft_multigrid_ncoarse7_00033.dat</span>                           \n",
       "</pre>\n"
      ],
      "text/plain": [
       "Write \u001b[1;35mP\u001b[0m\u001b[1m(\u001b[0mk\u001b[1m)\u001b[0m in .\u001b[35m/boxlen100_n128_lcdmw7v2_00000/\u001b[0m\u001b[35m/power/\u001b[0m\u001b[95mpk_eft_multigrid_ncoarse7_00033.dat\u001b[0m                           \n"
      ]
     },
     "metadata": {},
     "output_type": "display_data"
    },
    {
     "data": {
      "text/html": [
       "<pre style=\"white-space:pre;overflow-x:auto;line-height:normal;font-family:Menlo,'DejaVu Sans Mono',consolas,'Courier New',monospace\">param<span style=\"font-weight: bold\">[</span><span style=\"color: #008000; text-decoration-color: #008000\">'nsteps'</span><span style=\"font-weight: bold\">]</span>=<span style=\"color: #008080; text-decoration-color: #008080; font-weight: bold\">33</span> param<span style=\"font-weight: bold\">[</span><span style=\"color: #008000; text-decoration-color: #008000\">'aexp'</span><span style=\"font-weight: bold\">]</span>=<span style=\"color: #008080; text-decoration-color: #008080; font-weight: bold\">0.36333019380330095</span> z = <span style=\"color: #008080; text-decoration-color: #008080; font-weight: bold\">1.7523173605037026</span>                                        \n",
       "</pre>\n"
      ],
      "text/plain": [
       "param\u001b[1m[\u001b[0m\u001b[32m'nsteps'\u001b[0m\u001b[1m]\u001b[0m=\u001b[1;36m33\u001b[0m param\u001b[1m[\u001b[0m\u001b[32m'aexp'\u001b[0m\u001b[1m]\u001b[0m=\u001b[1;36m0.36333019380330095\u001b[0m z = \u001b[1;36m1.7523173605037026\u001b[0m                                        \n"
      ]
     },
     "metadata": {},
     "output_type": "display_data"
    },
    {
     "data": {
      "text/html": [
       "<pre style=\"white-space:pre;overflow-x:auto;line-height:normal;font-family:Menlo,'DejaVu Sans Mono',consolas,'Courier New',monospace\">Write <span style=\"color: #800080; text-decoration-color: #800080; font-weight: bold\">P</span><span style=\"font-weight: bold\">(</span>k<span style=\"font-weight: bold\">)</span> in .<span style=\"color: #800080; text-decoration-color: #800080\">/boxlen100_n128_lcdmw7v2_00000//power/</span><span style=\"color: #ff00ff; text-decoration-color: #ff00ff\">pk_eft_multigrid_ncoarse7_00034.dat</span>                           \n",
       "</pre>\n"
      ],
      "text/plain": [
       "Write \u001b[1;35mP\u001b[0m\u001b[1m(\u001b[0mk\u001b[1m)\u001b[0m in .\u001b[35m/boxlen100_n128_lcdmw7v2_00000/\u001b[0m\u001b[35m/power/\u001b[0m\u001b[95mpk_eft_multigrid_ncoarse7_00034.dat\u001b[0m                           \n"
      ]
     },
     "metadata": {},
     "output_type": "display_data"
    },
    {
     "data": {
      "text/html": [
       "<pre style=\"white-space:pre;overflow-x:auto;line-height:normal;font-family:Menlo,'DejaVu Sans Mono',consolas,'Courier New',monospace\">param<span style=\"font-weight: bold\">[</span><span style=\"color: #008000; text-decoration-color: #008000\">'nsteps'</span><span style=\"font-weight: bold\">]</span>=<span style=\"color: #008080; text-decoration-color: #008080; font-weight: bold\">34</span> param<span style=\"font-weight: bold\">[</span><span style=\"color: #008000; text-decoration-color: #008000\">'aexp'</span><span style=\"font-weight: bold\">]</span>=<span style=\"color: #008080; text-decoration-color: #008080; font-weight: bold\">0.3933486560491414</span> z = <span style=\"color: #008080; text-decoration-color: #008080; font-weight: bold\">1.5422738443907869</span>                                         \n",
       "</pre>\n"
      ],
      "text/plain": [
       "param\u001b[1m[\u001b[0m\u001b[32m'nsteps'\u001b[0m\u001b[1m]\u001b[0m=\u001b[1;36m34\u001b[0m param\u001b[1m[\u001b[0m\u001b[32m'aexp'\u001b[0m\u001b[1m]\u001b[0m=\u001b[1;36m0.3933486560491414\u001b[0m z = \u001b[1;36m1.5422738443907869\u001b[0m                                         \n"
      ]
     },
     "metadata": {},
     "output_type": "display_data"
    },
    {
     "data": {
      "text/html": [
       "<pre style=\"white-space:pre;overflow-x:auto;line-height:normal;font-family:Menlo,'DejaVu Sans Mono',consolas,'Courier New',monospace\">Write <span style=\"color: #800080; text-decoration-color: #800080; font-weight: bold\">P</span><span style=\"font-weight: bold\">(</span>k<span style=\"font-weight: bold\">)</span> in .<span style=\"color: #800080; text-decoration-color: #800080\">/boxlen100_n128_lcdmw7v2_00000//power/</span><span style=\"color: #ff00ff; text-decoration-color: #ff00ff\">pk_eft_multigrid_ncoarse7_00035.dat</span>                           \n",
       "</pre>\n"
      ],
      "text/plain": [
       "Write \u001b[1;35mP\u001b[0m\u001b[1m(\u001b[0mk\u001b[1m)\u001b[0m in .\u001b[35m/boxlen100_n128_lcdmw7v2_00000/\u001b[0m\u001b[35m/power/\u001b[0m\u001b[95mpk_eft_multigrid_ncoarse7_00035.dat\u001b[0m                           \n"
      ]
     },
     "metadata": {},
     "output_type": "display_data"
    },
    {
     "data": {
      "text/html": [
       "<pre style=\"white-space:pre;overflow-x:auto;line-height:normal;font-family:Menlo,'DejaVu Sans Mono',consolas,'Courier New',monospace\">param<span style=\"font-weight: bold\">[</span><span style=\"color: #008000; text-decoration-color: #008000\">'nsteps'</span><span style=\"font-weight: bold\">]</span>=<span style=\"color: #008080; text-decoration-color: #008080; font-weight: bold\">35</span> param<span style=\"font-weight: bold\">[</span><span style=\"color: #008000; text-decoration-color: #008000\">'aexp'</span><span style=\"font-weight: bold\">]</span>=<span style=\"color: #008080; text-decoration-color: #008080; font-weight: bold\">0.4223700408853471</span> z = <span style=\"color: #008080; text-decoration-color: #008080; font-weight: bold\">1.3675921661106911</span>                                         \n",
       "</pre>\n"
      ],
      "text/plain": [
       "param\u001b[1m[\u001b[0m\u001b[32m'nsteps'\u001b[0m\u001b[1m]\u001b[0m=\u001b[1;36m35\u001b[0m param\u001b[1m[\u001b[0m\u001b[32m'aexp'\u001b[0m\u001b[1m]\u001b[0m=\u001b[1;36m0.4223700408853471\u001b[0m z = \u001b[1;36m1.3675921661106911\u001b[0m                                         \n"
      ]
     },
     "metadata": {},
     "output_type": "display_data"
    },
    {
     "data": {
      "text/html": [
       "<pre style=\"white-space:pre;overflow-x:auto;line-height:normal;font-family:Menlo,'DejaVu Sans Mono',consolas,'Courier New',monospace\">Write <span style=\"color: #800080; text-decoration-color: #800080; font-weight: bold\">P</span><span style=\"font-weight: bold\">(</span>k<span style=\"font-weight: bold\">)</span> in .<span style=\"color: #800080; text-decoration-color: #800080\">/boxlen100_n128_lcdmw7v2_00000//power/</span><span style=\"color: #ff00ff; text-decoration-color: #ff00ff\">pk_eft_multigrid_ncoarse7_00036.dat</span>                           \n",
       "</pre>\n"
      ],
      "text/plain": [
       "Write \u001b[1;35mP\u001b[0m\u001b[1m(\u001b[0mk\u001b[1m)\u001b[0m in .\u001b[35m/boxlen100_n128_lcdmw7v2_00000/\u001b[0m\u001b[35m/power/\u001b[0m\u001b[95mpk_eft_multigrid_ncoarse7_00036.dat\u001b[0m                           \n"
      ]
     },
     "metadata": {},
     "output_type": "display_data"
    },
    {
     "data": {
      "text/html": [
       "<pre style=\"white-space:pre;overflow-x:auto;line-height:normal;font-family:Menlo,'DejaVu Sans Mono',consolas,'Courier New',monospace\">param<span style=\"font-weight: bold\">[</span><span style=\"color: #008000; text-decoration-color: #008000\">'nsteps'</span><span style=\"font-weight: bold\">]</span>=<span style=\"color: #008080; text-decoration-color: #008080; font-weight: bold\">36</span> param<span style=\"font-weight: bold\">[</span><span style=\"color: #008000; text-decoration-color: #008000\">'aexp'</span><span style=\"font-weight: bold\">]</span>=<span style=\"color: #008080; text-decoration-color: #008080; font-weight: bold\">0.45200949569433585</span> z = <span style=\"color: #008080; text-decoration-color: #008080; font-weight: bold\">1.2123429032478423</span>                                        \n",
       "</pre>\n"
      ],
      "text/plain": [
       "param\u001b[1m[\u001b[0m\u001b[32m'nsteps'\u001b[0m\u001b[1m]\u001b[0m=\u001b[1;36m36\u001b[0m param\u001b[1m[\u001b[0m\u001b[32m'aexp'\u001b[0m\u001b[1m]\u001b[0m=\u001b[1;36m0.45200949569433585\u001b[0m z = \u001b[1;36m1.2123429032478423\u001b[0m                                        \n"
      ]
     },
     "metadata": {},
     "output_type": "display_data"
    },
    {
     "data": {
      "text/html": [
       "<pre style=\"white-space:pre;overflow-x:auto;line-height:normal;font-family:Menlo,'DejaVu Sans Mono',consolas,'Courier New',monospace\">Write <span style=\"color: #800080; text-decoration-color: #800080; font-weight: bold\">P</span><span style=\"font-weight: bold\">(</span>k<span style=\"font-weight: bold\">)</span> in .<span style=\"color: #800080; text-decoration-color: #800080\">/boxlen100_n128_lcdmw7v2_00000//power/</span><span style=\"color: #ff00ff; text-decoration-color: #ff00ff\">pk_eft_multigrid_ncoarse7_00037.dat</span>                           \n",
       "</pre>\n"
      ],
      "text/plain": [
       "Write \u001b[1;35mP\u001b[0m\u001b[1m(\u001b[0mk\u001b[1m)\u001b[0m in .\u001b[35m/boxlen100_n128_lcdmw7v2_00000/\u001b[0m\u001b[35m/power/\u001b[0m\u001b[95mpk_eft_multigrid_ncoarse7_00037.dat\u001b[0m                           \n"
      ]
     },
     "metadata": {},
     "output_type": "display_data"
    },
    {
     "data": {
      "text/html": [
       "<pre style=\"white-space:pre;overflow-x:auto;line-height:normal;font-family:Menlo,'DejaVu Sans Mono',consolas,'Courier New',monospace\">param<span style=\"font-weight: bold\">[</span><span style=\"color: #008000; text-decoration-color: #008000\">'nsteps'</span><span style=\"font-weight: bold\">]</span>=<span style=\"color: #008080; text-decoration-color: #008080; font-weight: bold\">37</span> param<span style=\"font-weight: bold\">[</span><span style=\"color: #008000; text-decoration-color: #008000\">'aexp'</span><span style=\"font-weight: bold\">]</span>=<span style=\"color: #008080; text-decoration-color: #008080; font-weight: bold\">0.48114194977521546</span> z = <span style=\"color: #008080; text-decoration-color: #008080; font-weight: bold\">1.0783887176480653</span>                                        \n",
       "</pre>\n"
      ],
      "text/plain": [
       "param\u001b[1m[\u001b[0m\u001b[32m'nsteps'\u001b[0m\u001b[1m]\u001b[0m=\u001b[1;36m37\u001b[0m param\u001b[1m[\u001b[0m\u001b[32m'aexp'\u001b[0m\u001b[1m]\u001b[0m=\u001b[1;36m0.48114194977521546\u001b[0m z = \u001b[1;36m1.0783887176480653\u001b[0m                                        \n"
      ]
     },
     "metadata": {},
     "output_type": "display_data"
    },
    {
     "data": {
      "text/html": [
       "<pre style=\"white-space:pre;overflow-x:auto;line-height:normal;font-family:Menlo,'DejaVu Sans Mono',consolas,'Courier New',monospace\">Write <span style=\"color: #800080; text-decoration-color: #800080; font-weight: bold\">P</span><span style=\"font-weight: bold\">(</span>k<span style=\"font-weight: bold\">)</span> in .<span style=\"color: #800080; text-decoration-color: #800080\">/boxlen100_n128_lcdmw7v2_00000//power/</span><span style=\"color: #ff00ff; text-decoration-color: #ff00ff\">pk_eft_multigrid_ncoarse7_00038.dat</span>                           \n",
       "</pre>\n"
      ],
      "text/plain": [
       "Write \u001b[1;35mP\u001b[0m\u001b[1m(\u001b[0mk\u001b[1m)\u001b[0m in .\u001b[35m/boxlen100_n128_lcdmw7v2_00000/\u001b[0m\u001b[35m/power/\u001b[0m\u001b[95mpk_eft_multigrid_ncoarse7_00038.dat\u001b[0m                           \n"
      ]
     },
     "metadata": {},
     "output_type": "display_data"
    },
    {
     "data": {
      "text/html": [
       "<pre style=\"white-space:pre;overflow-x:auto;line-height:normal;font-family:Menlo,'DejaVu Sans Mono',consolas,'Courier New',monospace\">Snapshot written at <span style=\"color: #808000; text-decoration-color: #808000\">...</span><span style=\"color: #808000; text-decoration-color: #808000\">filename</span>=<span style=\"color: #008000; text-decoration-color: #008000\">'./boxlen100_n128_lcdmw7v2_00000//output_00005/particles_eft_multigrid_ncoarse7.h5'</span>\n",
       "param<span style=\"font-weight: bold\">[</span><span style=\"color: #008000; text-decoration-color: #008000\">'aexp'</span><span style=\"font-weight: bold\">]</span>=<span style=\"color: #008080; text-decoration-color: #008080; font-weight: bold\">0.5</span>                                                                                                  \n",
       "</pre>\n"
      ],
      "text/plain": [
       "Snapshot written at \u001b[33m...\u001b[0m\u001b[33mfilename\u001b[0m=\u001b[32m'./boxlen100_n128_lcdmw7v2_00000//output_00005/particles_eft_multigrid_ncoarse7.h5'\u001b[0m\n",
       "param\u001b[1m[\u001b[0m\u001b[32m'aexp'\u001b[0m\u001b[1m]\u001b[0m=\u001b[1;36m0.5\u001b[0m                                                                                                  \n"
      ]
     },
     "metadata": {},
     "output_type": "display_data"
    },
    {
     "data": {
      "text/html": [
       "<pre style=\"white-space:pre;overflow-x:auto;line-height:normal;font-family:Menlo,'DejaVu Sans Mono',consolas,'Courier New',monospace\">param<span style=\"font-weight: bold\">[</span><span style=\"color: #008000; text-decoration-color: #008000\">'nsteps'</span><span style=\"font-weight: bold\">]</span>=<span style=\"color: #008080; text-decoration-color: #008080; font-weight: bold\">38</span> param<span style=\"font-weight: bold\">[</span><span style=\"color: #008000; text-decoration-color: #008000\">'aexp'</span><span style=\"font-weight: bold\">]</span>=<span style=\"color: #008080; text-decoration-color: #008080; font-weight: bold\">0.5</span> z = <span style=\"color: #008080; text-decoration-color: #008080; font-weight: bold\">1.0</span>                                                                       \n",
       "</pre>\n"
      ],
      "text/plain": [
       "param\u001b[1m[\u001b[0m\u001b[32m'nsteps'\u001b[0m\u001b[1m]\u001b[0m=\u001b[1;36m38\u001b[0m param\u001b[1m[\u001b[0m\u001b[32m'aexp'\u001b[0m\u001b[1m]\u001b[0m=\u001b[1;36m0.5\u001b[0m z = \u001b[1;36m1.0\u001b[0m                                                                       \n"
      ]
     },
     "metadata": {},
     "output_type": "display_data"
    },
    {
     "data": {
      "text/html": [
       "<pre style=\"white-space:pre;overflow-x:auto;line-height:normal;font-family:Menlo,'DejaVu Sans Mono',consolas,'Courier New',monospace\">Write <span style=\"color: #800080; text-decoration-color: #800080; font-weight: bold\">P</span><span style=\"font-weight: bold\">(</span>k<span style=\"font-weight: bold\">)</span> in .<span style=\"color: #800080; text-decoration-color: #800080\">/boxlen100_n128_lcdmw7v2_00000//power/</span><span style=\"color: #ff00ff; text-decoration-color: #ff00ff\">pk_eft_multigrid_ncoarse7_00039.dat</span>                           \n",
       "</pre>\n"
      ],
      "text/plain": [
       "Write \u001b[1;35mP\u001b[0m\u001b[1m(\u001b[0mk\u001b[1m)\u001b[0m in .\u001b[35m/boxlen100_n128_lcdmw7v2_00000/\u001b[0m\u001b[35m/power/\u001b[0m\u001b[95mpk_eft_multigrid_ncoarse7_00039.dat\u001b[0m                           \n"
      ]
     },
     "metadata": {},
     "output_type": "display_data"
    },
    {
     "data": {
      "text/html": [
       "<pre style=\"white-space:pre;overflow-x:auto;line-height:normal;font-family:Menlo,'DejaVu Sans Mono',consolas,'Courier New',monospace\">param<span style=\"font-weight: bold\">[</span><span style=\"color: #008000; text-decoration-color: #008000\">'nsteps'</span><span style=\"font-weight: bold\">]</span>=<span style=\"color: #008080; text-decoration-color: #008080; font-weight: bold\">39</span> param<span style=\"font-weight: bold\">[</span><span style=\"color: #008000; text-decoration-color: #008000\">'aexp'</span><span style=\"font-weight: bold\">]</span>=<span style=\"color: #008080; text-decoration-color: #008080; font-weight: bold\">0.5303729208078036</span> z = <span style=\"color: #008080; text-decoration-color: #008080; font-weight: bold\">0.8854657935343191</span>                                         \n",
       "</pre>\n"
      ],
      "text/plain": [
       "param\u001b[1m[\u001b[0m\u001b[32m'nsteps'\u001b[0m\u001b[1m]\u001b[0m=\u001b[1;36m39\u001b[0m param\u001b[1m[\u001b[0m\u001b[32m'aexp'\u001b[0m\u001b[1m]\u001b[0m=\u001b[1;36m0.5303729208078036\u001b[0m z = \u001b[1;36m0.8854657935343191\u001b[0m                                         \n"
      ]
     },
     "metadata": {},
     "output_type": "display_data"
    },
    {
     "data": {
      "text/html": [
       "<pre style=\"white-space:pre;overflow-x:auto;line-height:normal;font-family:Menlo,'DejaVu Sans Mono',consolas,'Courier New',monospace\">Write <span style=\"color: #800080; text-decoration-color: #800080; font-weight: bold\">P</span><span style=\"font-weight: bold\">(</span>k<span style=\"font-weight: bold\">)</span> in .<span style=\"color: #800080; text-decoration-color: #800080\">/boxlen100_n128_lcdmw7v2_00000//power/</span><span style=\"color: #ff00ff; text-decoration-color: #ff00ff\">pk_eft_multigrid_ncoarse7_00040.dat</span>                           \n",
       "</pre>\n"
      ],
      "text/plain": [
       "Write \u001b[1;35mP\u001b[0m\u001b[1m(\u001b[0mk\u001b[1m)\u001b[0m in .\u001b[35m/boxlen100_n128_lcdmw7v2_00000/\u001b[0m\u001b[35m/power/\u001b[0m\u001b[95mpk_eft_multigrid_ncoarse7_00040.dat\u001b[0m                           \n"
      ]
     },
     "metadata": {},
     "output_type": "display_data"
    },
    {
     "data": {
      "text/html": [
       "<pre style=\"white-space:pre;overflow-x:auto;line-height:normal;font-family:Menlo,'DejaVu Sans Mono',consolas,'Courier New',monospace\">param<span style=\"font-weight: bold\">[</span><span style=\"color: #008000; text-decoration-color: #008000\">'nsteps'</span><span style=\"font-weight: bold\">]</span>=<span style=\"color: #008080; text-decoration-color: #008080; font-weight: bold\">40</span> param<span style=\"font-weight: bold\">[</span><span style=\"color: #008000; text-decoration-color: #008000\">'aexp'</span><span style=\"font-weight: bold\">]</span>=<span style=\"color: #008080; text-decoration-color: #008080; font-weight: bold\">0.561027484758616</span> z = <span style=\"color: #008080; text-decoration-color: #008080; font-weight: bold\">0.7824438680223544</span>                                          \n",
       "</pre>\n"
      ],
      "text/plain": [
       "param\u001b[1m[\u001b[0m\u001b[32m'nsteps'\u001b[0m\u001b[1m]\u001b[0m=\u001b[1;36m40\u001b[0m param\u001b[1m[\u001b[0m\u001b[32m'aexp'\u001b[0m\u001b[1m]\u001b[0m=\u001b[1;36m0.561027484758616\u001b[0m z = \u001b[1;36m0.7824438680223544\u001b[0m                                          \n"
      ]
     },
     "metadata": {},
     "output_type": "display_data"
    },
    {
     "data": {
      "text/html": [
       "<pre style=\"white-space:pre;overflow-x:auto;line-height:normal;font-family:Menlo,'DejaVu Sans Mono',consolas,'Courier New',monospace\">Write <span style=\"color: #800080; text-decoration-color: #800080; font-weight: bold\">P</span><span style=\"font-weight: bold\">(</span>k<span style=\"font-weight: bold\">)</span> in .<span style=\"color: #800080; text-decoration-color: #800080\">/boxlen100_n128_lcdmw7v2_00000//power/</span><span style=\"color: #ff00ff; text-decoration-color: #ff00ff\">pk_eft_multigrid_ncoarse7_00041.dat</span>                           \n",
       "</pre>\n"
      ],
      "text/plain": [
       "Write \u001b[1;35mP\u001b[0m\u001b[1m(\u001b[0mk\u001b[1m)\u001b[0m in .\u001b[35m/boxlen100_n128_lcdmw7v2_00000/\u001b[0m\u001b[35m/power/\u001b[0m\u001b[95mpk_eft_multigrid_ncoarse7_00041.dat\u001b[0m                           \n"
      ]
     },
     "metadata": {},
     "output_type": "display_data"
    },
    {
     "data": {
      "text/html": [
       "<pre style=\"white-space:pre;overflow-x:auto;line-height:normal;font-family:Menlo,'DejaVu Sans Mono',consolas,'Courier New',monospace\">param<span style=\"font-weight: bold\">[</span><span style=\"color: #008000; text-decoration-color: #008000\">'nsteps'</span><span style=\"font-weight: bold\">]</span>=<span style=\"color: #008080; text-decoration-color: #008080; font-weight: bold\">41</span> param<span style=\"font-weight: bold\">[</span><span style=\"color: #008000; text-decoration-color: #008000\">'aexp'</span><span style=\"font-weight: bold\">]</span>=<span style=\"color: #008080; text-decoration-color: #008080; font-weight: bold\">0.561027484758616</span> z = <span style=\"color: #008080; text-decoration-color: #008080; font-weight: bold\">0.7824438680223544</span>                                          \n",
       "</pre>\n"
      ],
      "text/plain": [
       "param\u001b[1m[\u001b[0m\u001b[32m'nsteps'\u001b[0m\u001b[1m]\u001b[0m=\u001b[1;36m41\u001b[0m param\u001b[1m[\u001b[0m\u001b[32m'aexp'\u001b[0m\u001b[1m]\u001b[0m=\u001b[1;36m0.561027484758616\u001b[0m z = \u001b[1;36m0.7824438680223544\u001b[0m                                          \n"
      ]
     },
     "metadata": {},
     "output_type": "display_data"
    },
    {
     "data": {
      "text/html": [
       "<pre style=\"white-space:pre;overflow-x:auto;line-height:normal;font-family:Menlo,'DejaVu Sans Mono',consolas,'Courier New',monospace\">Write <span style=\"color: #800080; text-decoration-color: #800080; font-weight: bold\">P</span><span style=\"font-weight: bold\">(</span>k<span style=\"font-weight: bold\">)</span> in .<span style=\"color: #800080; text-decoration-color: #800080\">/boxlen100_n128_lcdmw7v2_00000//power/</span><span style=\"color: #ff00ff; text-decoration-color: #ff00ff\">pk_eft_multigrid_ncoarse7_00042.dat</span>                           \n",
       "</pre>\n"
      ],
      "text/plain": [
       "Write \u001b[1;35mP\u001b[0m\u001b[1m(\u001b[0mk\u001b[1m)\u001b[0m in .\u001b[35m/boxlen100_n128_lcdmw7v2_00000/\u001b[0m\u001b[35m/power/\u001b[0m\u001b[95mpk_eft_multigrid_ncoarse7_00042.dat\u001b[0m                           \n"
      ]
     },
     "metadata": {},
     "output_type": "display_data"
    },
    {
     "data": {
      "text/html": [
       "<pre style=\"white-space:pre;overflow-x:auto;line-height:normal;font-family:Menlo,'DejaVu Sans Mono',consolas,'Courier New',monospace\">param<span style=\"font-weight: bold\">[</span><span style=\"color: #008000; text-decoration-color: #008000\">'nsteps'</span><span style=\"font-weight: bold\">]</span>=<span style=\"color: #008080; text-decoration-color: #008080; font-weight: bold\">42</span> param<span style=\"font-weight: bold\">[</span><span style=\"color: #008000; text-decoration-color: #008000\">'aexp'</span><span style=\"font-weight: bold\">]</span>=<span style=\"color: #008080; text-decoration-color: #008080; font-weight: bold\">0.561027484758616</span> z = <span style=\"color: #008080; text-decoration-color: #008080; font-weight: bold\">0.7824438680223544</span>                                          \n",
       "</pre>\n"
      ],
      "text/plain": [
       "param\u001b[1m[\u001b[0m\u001b[32m'nsteps'\u001b[0m\u001b[1m]\u001b[0m=\u001b[1;36m42\u001b[0m param\u001b[1m[\u001b[0m\u001b[32m'aexp'\u001b[0m\u001b[1m]\u001b[0m=\u001b[1;36m0.561027484758616\u001b[0m z = \u001b[1;36m0.7824438680223544\u001b[0m                                          \n"
      ]
     },
     "metadata": {},
     "output_type": "display_data"
    },
    {
     "data": {
      "text/html": [
       "<pre style=\"white-space:pre;overflow-x:auto;line-height:normal;font-family:Menlo,'DejaVu Sans Mono',consolas,'Courier New',monospace\">Write <span style=\"color: #800080; text-decoration-color: #800080; font-weight: bold\">P</span><span style=\"font-weight: bold\">(</span>k<span style=\"font-weight: bold\">)</span> in .<span style=\"color: #800080; text-decoration-color: #800080\">/boxlen100_n128_lcdmw7v2_00000//power/</span><span style=\"color: #ff00ff; text-decoration-color: #ff00ff\">pk_eft_multigrid_ncoarse7_00043.dat</span>                           \n",
       "</pre>\n"
      ],
      "text/plain": [
       "Write \u001b[1;35mP\u001b[0m\u001b[1m(\u001b[0mk\u001b[1m)\u001b[0m in .\u001b[35m/boxlen100_n128_lcdmw7v2_00000/\u001b[0m\u001b[35m/power/\u001b[0m\u001b[95mpk_eft_multigrid_ncoarse7_00043.dat\u001b[0m                           \n"
      ]
     },
     "metadata": {},
     "output_type": "display_data"
    },
    {
     "data": {
      "text/html": [
       "<pre style=\"white-space:pre;overflow-x:auto;line-height:normal;font-family:Menlo,'DejaVu Sans Mono',consolas,'Courier New',monospace\">param<span style=\"font-weight: bold\">[</span><span style=\"color: #008000; text-decoration-color: #008000\">'nsteps'</span><span style=\"font-weight: bold\">]</span>=<span style=\"color: #008080; text-decoration-color: #008080; font-weight: bold\">43</span> param<span style=\"font-weight: bold\">[</span><span style=\"color: #008000; text-decoration-color: #008000\">'aexp'</span><span style=\"font-weight: bold\">]</span>=<span style=\"color: #008080; text-decoration-color: #008080; font-weight: bold\">0.561027484758616</span> z = <span style=\"color: #008080; text-decoration-color: #008080; font-weight: bold\">0.7824438680223544</span>                                          \n",
       "</pre>\n"
      ],
      "text/plain": [
       "param\u001b[1m[\u001b[0m\u001b[32m'nsteps'\u001b[0m\u001b[1m]\u001b[0m=\u001b[1;36m43\u001b[0m param\u001b[1m[\u001b[0m\u001b[32m'aexp'\u001b[0m\u001b[1m]\u001b[0m=\u001b[1;36m0.561027484758616\u001b[0m z = \u001b[1;36m0.7824438680223544\u001b[0m                                          \n"
      ]
     },
     "metadata": {},
     "output_type": "display_data"
    },
    {
     "data": {
      "text/html": [
       "<pre style=\"white-space:pre;overflow-x:auto;line-height:normal;font-family:Menlo,'DejaVu Sans Mono',consolas,'Courier New',monospace\">Write <span style=\"color: #800080; text-decoration-color: #800080; font-weight: bold\">P</span><span style=\"font-weight: bold\">(</span>k<span style=\"font-weight: bold\">)</span> in .<span style=\"color: #800080; text-decoration-color: #800080\">/boxlen100_n128_lcdmw7v2_00000//power/</span><span style=\"color: #ff00ff; text-decoration-color: #ff00ff\">pk_eft_multigrid_ncoarse7_00044.dat</span>                           \n",
       "</pre>\n"
      ],
      "text/plain": [
       "Write \u001b[1;35mP\u001b[0m\u001b[1m(\u001b[0mk\u001b[1m)\u001b[0m in .\u001b[35m/boxlen100_n128_lcdmw7v2_00000/\u001b[0m\u001b[35m/power/\u001b[0m\u001b[95mpk_eft_multigrid_ncoarse7_00044.dat\u001b[0m                           \n"
      ]
     },
     "metadata": {},
     "output_type": "display_data"
    },
    {
     "data": {
      "text/html": [
       "<pre style=\"white-space:pre;overflow-x:auto;line-height:normal;font-family:Menlo,'DejaVu Sans Mono',consolas,'Courier New',monospace\">param<span style=\"font-weight: bold\">[</span><span style=\"color: #008000; text-decoration-color: #008000\">'nsteps'</span><span style=\"font-weight: bold\">]</span>=<span style=\"color: #008080; text-decoration-color: #008080; font-weight: bold\">44</span> param<span style=\"font-weight: bold\">[</span><span style=\"color: #008000; text-decoration-color: #008000\">'aexp'</span><span style=\"font-weight: bold\">]</span>=<span style=\"color: #008080; text-decoration-color: #008080; font-weight: bold\">0.561027484758616</span> z = <span style=\"color: #008080; text-decoration-color: #008080; font-weight: bold\">0.7824438680223544</span>                                          \n",
       "</pre>\n"
      ],
      "text/plain": [
       "param\u001b[1m[\u001b[0m\u001b[32m'nsteps'\u001b[0m\u001b[1m]\u001b[0m=\u001b[1;36m44\u001b[0m param\u001b[1m[\u001b[0m\u001b[32m'aexp'\u001b[0m\u001b[1m]\u001b[0m=\u001b[1;36m0.561027484758616\u001b[0m z = \u001b[1;36m0.7824438680223544\u001b[0m                                          \n"
      ]
     },
     "metadata": {},
     "output_type": "display_data"
    },
    {
     "data": {
      "text/html": [
       "<pre style=\"white-space:pre;overflow-x:auto;line-height:normal;font-family:Menlo,'DejaVu Sans Mono',consolas,'Courier New',monospace\">Write <span style=\"color: #800080; text-decoration-color: #800080; font-weight: bold\">P</span><span style=\"font-weight: bold\">(</span>k<span style=\"font-weight: bold\">)</span> in .<span style=\"color: #800080; text-decoration-color: #800080\">/boxlen100_n128_lcdmw7v2_00000//power/</span><span style=\"color: #ff00ff; text-decoration-color: #ff00ff\">pk_eft_multigrid_ncoarse7_00045.dat</span>                           \n",
       "</pre>\n"
      ],
      "text/plain": [
       "Write \u001b[1;35mP\u001b[0m\u001b[1m(\u001b[0mk\u001b[1m)\u001b[0m in .\u001b[35m/boxlen100_n128_lcdmw7v2_00000/\u001b[0m\u001b[35m/power/\u001b[0m\u001b[95mpk_eft_multigrid_ncoarse7_00045.dat\u001b[0m                           \n"
      ]
     },
     "metadata": {},
     "output_type": "display_data"
    },
    {
     "data": {
      "text/html": [
       "<pre style=\"white-space:pre;overflow-x:auto;line-height:normal;font-family:Menlo,'DejaVu Sans Mono',consolas,'Courier New',monospace\">param<span style=\"font-weight: bold\">[</span><span style=\"color: #008000; text-decoration-color: #008000\">'nsteps'</span><span style=\"font-weight: bold\">]</span>=<span style=\"color: #008080; text-decoration-color: #008080; font-weight: bold\">45</span> param<span style=\"font-weight: bold\">[</span><span style=\"color: #008000; text-decoration-color: #008000\">'aexp'</span><span style=\"font-weight: bold\">]</span>=<span style=\"color: #008080; text-decoration-color: #008080; font-weight: bold\">0.561027484758616</span> z = <span style=\"color: #008080; text-decoration-color: #008080; font-weight: bold\">0.7824438680223544</span>                                          \n",
       "</pre>\n"
      ],
      "text/plain": [
       "param\u001b[1m[\u001b[0m\u001b[32m'nsteps'\u001b[0m\u001b[1m]\u001b[0m=\u001b[1;36m45\u001b[0m param\u001b[1m[\u001b[0m\u001b[32m'aexp'\u001b[0m\u001b[1m]\u001b[0m=\u001b[1;36m0.561027484758616\u001b[0m z = \u001b[1;36m0.7824438680223544\u001b[0m                                          \n"
      ]
     },
     "metadata": {},
     "output_type": "display_data"
    },
    {
     "data": {
      "text/html": [
       "<pre style=\"white-space:pre;overflow-x:auto;line-height:normal;font-family:Menlo,'DejaVu Sans Mono',consolas,'Courier New',monospace\">Write <span style=\"color: #800080; text-decoration-color: #800080; font-weight: bold\">P</span><span style=\"font-weight: bold\">(</span>k<span style=\"font-weight: bold\">)</span> in .<span style=\"color: #800080; text-decoration-color: #800080\">/boxlen100_n128_lcdmw7v2_00000//power/</span><span style=\"color: #ff00ff; text-decoration-color: #ff00ff\">pk_eft_multigrid_ncoarse7_00046.dat</span>                           \n",
       "</pre>\n"
      ],
      "text/plain": [
       "Write \u001b[1;35mP\u001b[0m\u001b[1m(\u001b[0mk\u001b[1m)\u001b[0m in .\u001b[35m/boxlen100_n128_lcdmw7v2_00000/\u001b[0m\u001b[35m/power/\u001b[0m\u001b[95mpk_eft_multigrid_ncoarse7_00046.dat\u001b[0m                           \n"
      ]
     },
     "metadata": {},
     "output_type": "display_data"
    },
    {
     "data": {
      "text/html": [
       "<pre style=\"white-space:pre;overflow-x:auto;line-height:normal;font-family:Menlo,'DejaVu Sans Mono',consolas,'Courier New',monospace\">param<span style=\"font-weight: bold\">[</span><span style=\"color: #008000; text-decoration-color: #008000\">'nsteps'</span><span style=\"font-weight: bold\">]</span>=<span style=\"color: #008080; text-decoration-color: #008080; font-weight: bold\">46</span> param<span style=\"font-weight: bold\">[</span><span style=\"color: #008000; text-decoration-color: #008000\">'aexp'</span><span style=\"font-weight: bold\">]</span>=<span style=\"color: #008080; text-decoration-color: #008080; font-weight: bold\">0.561027484758616</span> z = <span style=\"color: #008080; text-decoration-color: #008080; font-weight: bold\">0.7824438680223544</span>                                          \n",
       "</pre>\n"
      ],
      "text/plain": [
       "param\u001b[1m[\u001b[0m\u001b[32m'nsteps'\u001b[0m\u001b[1m]\u001b[0m=\u001b[1;36m46\u001b[0m param\u001b[1m[\u001b[0m\u001b[32m'aexp'\u001b[0m\u001b[1m]\u001b[0m=\u001b[1;36m0.561027484758616\u001b[0m z = \u001b[1;36m0.7824438680223544\u001b[0m                                          \n"
      ]
     },
     "metadata": {},
     "output_type": "display_data"
    },
    {
     "data": {
      "text/html": [
       "<pre style=\"white-space:pre;overflow-x:auto;line-height:normal;font-family:Menlo,'DejaVu Sans Mono',consolas,'Courier New',monospace\">Write <span style=\"color: #800080; text-decoration-color: #800080; font-weight: bold\">P</span><span style=\"font-weight: bold\">(</span>k<span style=\"font-weight: bold\">)</span> in .<span style=\"color: #800080; text-decoration-color: #800080\">/boxlen100_n128_lcdmw7v2_00000//power/</span><span style=\"color: #ff00ff; text-decoration-color: #ff00ff\">pk_eft_multigrid_ncoarse7_00047.dat</span>                           \n",
       "</pre>\n"
      ],
      "text/plain": [
       "Write \u001b[1;35mP\u001b[0m\u001b[1m(\u001b[0mk\u001b[1m)\u001b[0m in .\u001b[35m/boxlen100_n128_lcdmw7v2_00000/\u001b[0m\u001b[35m/power/\u001b[0m\u001b[95mpk_eft_multigrid_ncoarse7_00047.dat\u001b[0m                           \n"
      ]
     },
     "metadata": {},
     "output_type": "display_data"
    },
    {
     "data": {
      "text/html": [
       "<pre style=\"white-space:pre;overflow-x:auto;line-height:normal;font-family:Menlo,'DejaVu Sans Mono',consolas,'Courier New',monospace\">param<span style=\"font-weight: bold\">[</span><span style=\"color: #008000; text-decoration-color: #008000\">'nsteps'</span><span style=\"font-weight: bold\">]</span>=<span style=\"color: #008080; text-decoration-color: #008080; font-weight: bold\">47</span> param<span style=\"font-weight: bold\">[</span><span style=\"color: #008000; text-decoration-color: #008000\">'aexp'</span><span style=\"font-weight: bold\">]</span>=<span style=\"color: #008080; text-decoration-color: #008080; font-weight: bold\">0.561027484758616</span> z = <span style=\"color: #008080; text-decoration-color: #008080; font-weight: bold\">0.7824438680223544</span>                                          \n",
       "</pre>\n"
      ],
      "text/plain": [
       "param\u001b[1m[\u001b[0m\u001b[32m'nsteps'\u001b[0m\u001b[1m]\u001b[0m=\u001b[1;36m47\u001b[0m param\u001b[1m[\u001b[0m\u001b[32m'aexp'\u001b[0m\u001b[1m]\u001b[0m=\u001b[1;36m0.561027484758616\u001b[0m z = \u001b[1;36m0.7824438680223544\u001b[0m                                          \n"
      ]
     },
     "metadata": {},
     "output_type": "display_data"
    },
    {
     "data": {
      "text/html": [
       "<pre style=\"white-space:pre;overflow-x:auto;line-height:normal;font-family:Menlo,'DejaVu Sans Mono',consolas,'Courier New',monospace\">Write <span style=\"color: #800080; text-decoration-color: #800080; font-weight: bold\">P</span><span style=\"font-weight: bold\">(</span>k<span style=\"font-weight: bold\">)</span> in .<span style=\"color: #800080; text-decoration-color: #800080\">/boxlen100_n128_lcdmw7v2_00000//power/</span><span style=\"color: #ff00ff; text-decoration-color: #ff00ff\">pk_eft_multigrid_ncoarse7_00048.dat</span>                           \n",
       "</pre>\n"
      ],
      "text/plain": [
       "Write \u001b[1;35mP\u001b[0m\u001b[1m(\u001b[0mk\u001b[1m)\u001b[0m in .\u001b[35m/boxlen100_n128_lcdmw7v2_00000/\u001b[0m\u001b[35m/power/\u001b[0m\u001b[95mpk_eft_multigrid_ncoarse7_00048.dat\u001b[0m                           \n"
      ]
     },
     "metadata": {},
     "output_type": "display_data"
    },
    {
     "data": {
      "text/html": [
       "<pre style=\"white-space:pre;overflow-x:auto;line-height:normal;font-family:Menlo,'DejaVu Sans Mono',consolas,'Courier New',monospace\">param<span style=\"font-weight: bold\">[</span><span style=\"color: #008000; text-decoration-color: #008000\">'nsteps'</span><span style=\"font-weight: bold\">]</span>=<span style=\"color: #008080; text-decoration-color: #008080; font-weight: bold\">48</span> param<span style=\"font-weight: bold\">[</span><span style=\"color: #008000; text-decoration-color: #008000\">'aexp'</span><span style=\"font-weight: bold\">]</span>=<span style=\"color: #008080; text-decoration-color: #008080; font-weight: bold\">0.561027484758616</span> z = <span style=\"color: #008080; text-decoration-color: #008080; font-weight: bold\">0.7824438680223544</span>                                          \n",
       "</pre>\n"
      ],
      "text/plain": [
       "param\u001b[1m[\u001b[0m\u001b[32m'nsteps'\u001b[0m\u001b[1m]\u001b[0m=\u001b[1;36m48\u001b[0m param\u001b[1m[\u001b[0m\u001b[32m'aexp'\u001b[0m\u001b[1m]\u001b[0m=\u001b[1;36m0.561027484758616\u001b[0m z = \u001b[1;36m0.7824438680223544\u001b[0m                                          \n"
      ]
     },
     "metadata": {},
     "output_type": "display_data"
    },
    {
     "data": {
      "text/html": [
       "<pre style=\"white-space:pre;overflow-x:auto;line-height:normal;font-family:Menlo,'DejaVu Sans Mono',consolas,'Courier New',monospace\">Write <span style=\"color: #800080; text-decoration-color: #800080; font-weight: bold\">P</span><span style=\"font-weight: bold\">(</span>k<span style=\"font-weight: bold\">)</span> in .<span style=\"color: #800080; text-decoration-color: #800080\">/boxlen100_n128_lcdmw7v2_00000//power/</span><span style=\"color: #ff00ff; text-decoration-color: #ff00ff\">pk_eft_multigrid_ncoarse7_00049.dat</span>                           \n",
       "</pre>\n"
      ],
      "text/plain": [
       "Write \u001b[1;35mP\u001b[0m\u001b[1m(\u001b[0mk\u001b[1m)\u001b[0m in .\u001b[35m/boxlen100_n128_lcdmw7v2_00000/\u001b[0m\u001b[35m/power/\u001b[0m\u001b[95mpk_eft_multigrid_ncoarse7_00049.dat\u001b[0m                           \n"
      ]
     },
     "metadata": {},
     "output_type": "display_data"
    },
    {
     "data": {
      "text/html": [
       "<pre style=\"white-space:pre;overflow-x:auto;line-height:normal;font-family:Menlo,'DejaVu Sans Mono',consolas,'Courier New',monospace\">param<span style=\"font-weight: bold\">[</span><span style=\"color: #008000; text-decoration-color: #008000\">'nsteps'</span><span style=\"font-weight: bold\">]</span>=<span style=\"color: #008080; text-decoration-color: #008080; font-weight: bold\">49</span> param<span style=\"font-weight: bold\">[</span><span style=\"color: #008000; text-decoration-color: #008000\">'aexp'</span><span style=\"font-weight: bold\">]</span>=<span style=\"color: #008080; text-decoration-color: #008080; font-weight: bold\">0.561027484758616</span> z = <span style=\"color: #008080; text-decoration-color: #008080; font-weight: bold\">0.7824438680223544</span>                                          \n",
       "</pre>\n"
      ],
      "text/plain": [
       "param\u001b[1m[\u001b[0m\u001b[32m'nsteps'\u001b[0m\u001b[1m]\u001b[0m=\u001b[1;36m49\u001b[0m param\u001b[1m[\u001b[0m\u001b[32m'aexp'\u001b[0m\u001b[1m]\u001b[0m=\u001b[1;36m0.561027484758616\u001b[0m z = \u001b[1;36m0.7824438680223544\u001b[0m                                          \n"
      ]
     },
     "metadata": {},
     "output_type": "display_data"
    },
    {
     "data": {
      "text/html": [
       "<pre style=\"white-space:pre;overflow-x:auto;line-height:normal;font-family:Menlo,'DejaVu Sans Mono',consolas,'Courier New',monospace\">Write <span style=\"color: #800080; text-decoration-color: #800080; font-weight: bold\">P</span><span style=\"font-weight: bold\">(</span>k<span style=\"font-weight: bold\">)</span> in .<span style=\"color: #800080; text-decoration-color: #800080\">/boxlen100_n128_lcdmw7v2_00000//power/</span><span style=\"color: #ff00ff; text-decoration-color: #ff00ff\">pk_eft_multigrid_ncoarse7_00050.dat</span>                           \n",
       "</pre>\n"
      ],
      "text/plain": [
       "Write \u001b[1;35mP\u001b[0m\u001b[1m(\u001b[0mk\u001b[1m)\u001b[0m in .\u001b[35m/boxlen100_n128_lcdmw7v2_00000/\u001b[0m\u001b[35m/power/\u001b[0m\u001b[95mpk_eft_multigrid_ncoarse7_00050.dat\u001b[0m                           \n"
      ]
     },
     "metadata": {},
     "output_type": "display_data"
    },
    {
     "data": {
      "text/html": [
       "<pre style=\"white-space:pre;overflow-x:auto;line-height:normal;font-family:Menlo,'DejaVu Sans Mono',consolas,'Courier New',monospace\">param<span style=\"font-weight: bold\">[</span><span style=\"color: #008000; text-decoration-color: #008000\">'nsteps'</span><span style=\"font-weight: bold\">]</span>=<span style=\"color: #008080; text-decoration-color: #008080; font-weight: bold\">50</span> param<span style=\"font-weight: bold\">[</span><span style=\"color: #008000; text-decoration-color: #008000\">'aexp'</span><span style=\"font-weight: bold\">]</span>=<span style=\"color: #008080; text-decoration-color: #008080; font-weight: bold\">0.561027484758616</span> z = <span style=\"color: #008080; text-decoration-color: #008080; font-weight: bold\">0.7824438680223544</span>                                          \n",
       "</pre>\n"
      ],
      "text/plain": [
       "param\u001b[1m[\u001b[0m\u001b[32m'nsteps'\u001b[0m\u001b[1m]\u001b[0m=\u001b[1;36m50\u001b[0m param\u001b[1m[\u001b[0m\u001b[32m'aexp'\u001b[0m\u001b[1m]\u001b[0m=\u001b[1;36m0.561027484758616\u001b[0m z = \u001b[1;36m0.7824438680223544\u001b[0m                                          \n"
      ]
     },
     "metadata": {},
     "output_type": "display_data"
    },
    {
     "data": {
      "text/html": [
       "<pre style=\"white-space:pre;overflow-x:auto;line-height:normal;font-family:Menlo,'DejaVu Sans Mono',consolas,'Courier New',monospace\">Write <span style=\"color: #800080; text-decoration-color: #800080; font-weight: bold\">P</span><span style=\"font-weight: bold\">(</span>k<span style=\"font-weight: bold\">)</span> in .<span style=\"color: #800080; text-decoration-color: #800080\">/boxlen100_n128_lcdmw7v2_00000//power/</span><span style=\"color: #ff00ff; text-decoration-color: #ff00ff\">pk_eft_multigrid_ncoarse7_00051.dat</span>                           \n",
       "</pre>\n"
      ],
      "text/plain": [
       "Write \u001b[1;35mP\u001b[0m\u001b[1m(\u001b[0mk\u001b[1m)\u001b[0m in .\u001b[35m/boxlen100_n128_lcdmw7v2_00000/\u001b[0m\u001b[35m/power/\u001b[0m\u001b[95mpk_eft_multigrid_ncoarse7_00051.dat\u001b[0m                           \n"
      ]
     },
     "metadata": {},
     "output_type": "display_data"
    },
    {
     "data": {
      "text/html": [
       "<pre style=\"white-space:pre;overflow-x:auto;line-height:normal;font-family:Menlo,'DejaVu Sans Mono',consolas,'Courier New',monospace\">param<span style=\"font-weight: bold\">[</span><span style=\"color: #008000; text-decoration-color: #008000\">'nsteps'</span><span style=\"font-weight: bold\">]</span>=<span style=\"color: #008080; text-decoration-color: #008080; font-weight: bold\">51</span> param<span style=\"font-weight: bold\">[</span><span style=\"color: #008000; text-decoration-color: #008000\">'aexp'</span><span style=\"font-weight: bold\">]</span>=<span style=\"color: #008080; text-decoration-color: #008080; font-weight: bold\">0.561027484758616</span> z = <span style=\"color: #008080; text-decoration-color: #008080; font-weight: bold\">0.7824438680223544</span>                                          \n",
       "</pre>\n"
      ],
      "text/plain": [
       "param\u001b[1m[\u001b[0m\u001b[32m'nsteps'\u001b[0m\u001b[1m]\u001b[0m=\u001b[1;36m51\u001b[0m param\u001b[1m[\u001b[0m\u001b[32m'aexp'\u001b[0m\u001b[1m]\u001b[0m=\u001b[1;36m0.561027484758616\u001b[0m z = \u001b[1;36m0.7824438680223544\u001b[0m                                          \n"
      ]
     },
     "metadata": {},
     "output_type": "display_data"
    },
    {
     "data": {
      "text/html": [
       "<pre style=\"white-space:pre;overflow-x:auto;line-height:normal;font-family:Menlo,'DejaVu Sans Mono',consolas,'Courier New',monospace\">Write <span style=\"color: #800080; text-decoration-color: #800080; font-weight: bold\">P</span><span style=\"font-weight: bold\">(</span>k<span style=\"font-weight: bold\">)</span> in .<span style=\"color: #800080; text-decoration-color: #800080\">/boxlen100_n128_lcdmw7v2_00000//power/</span><span style=\"color: #ff00ff; text-decoration-color: #ff00ff\">pk_eft_multigrid_ncoarse7_00052.dat</span>                           \n",
       "</pre>\n"
      ],
      "text/plain": [
       "Write \u001b[1;35mP\u001b[0m\u001b[1m(\u001b[0mk\u001b[1m)\u001b[0m in .\u001b[35m/boxlen100_n128_lcdmw7v2_00000/\u001b[0m\u001b[35m/power/\u001b[0m\u001b[95mpk_eft_multigrid_ncoarse7_00052.dat\u001b[0m                           \n"
      ]
     },
     "metadata": {},
     "output_type": "display_data"
    },
    {
     "data": {
      "text/html": [
       "<pre style=\"white-space:pre;overflow-x:auto;line-height:normal;font-family:Menlo,'DejaVu Sans Mono',consolas,'Courier New',monospace\">param<span style=\"font-weight: bold\">[</span><span style=\"color: #008000; text-decoration-color: #008000\">'nsteps'</span><span style=\"font-weight: bold\">]</span>=<span style=\"color: #008080; text-decoration-color: #008080; font-weight: bold\">52</span> param<span style=\"font-weight: bold\">[</span><span style=\"color: #008000; text-decoration-color: #008000\">'aexp'</span><span style=\"font-weight: bold\">]</span>=<span style=\"color: #008080; text-decoration-color: #008080; font-weight: bold\">0.561027484758616</span> z = <span style=\"color: #008080; text-decoration-color: #008080; font-weight: bold\">0.7824438680223544</span>                                          \n",
       "</pre>\n"
      ],
      "text/plain": [
       "param\u001b[1m[\u001b[0m\u001b[32m'nsteps'\u001b[0m\u001b[1m]\u001b[0m=\u001b[1;36m52\u001b[0m param\u001b[1m[\u001b[0m\u001b[32m'aexp'\u001b[0m\u001b[1m]\u001b[0m=\u001b[1;36m0.561027484758616\u001b[0m z = \u001b[1;36m0.7824438680223544\u001b[0m                                          \n"
      ]
     },
     "metadata": {},
     "output_type": "display_data"
    },
    {
     "data": {
      "text/html": [
       "<pre style=\"white-space:pre;overflow-x:auto;line-height:normal;font-family:Menlo,'DejaVu Sans Mono',consolas,'Courier New',monospace\">Write <span style=\"color: #800080; text-decoration-color: #800080; font-weight: bold\">P</span><span style=\"font-weight: bold\">(</span>k<span style=\"font-weight: bold\">)</span> in .<span style=\"color: #800080; text-decoration-color: #800080\">/boxlen100_n128_lcdmw7v2_00000//power/</span><span style=\"color: #ff00ff; text-decoration-color: #ff00ff\">pk_eft_multigrid_ncoarse7_00053.dat</span>                           \n",
       "</pre>\n"
      ],
      "text/plain": [
       "Write \u001b[1;35mP\u001b[0m\u001b[1m(\u001b[0mk\u001b[1m)\u001b[0m in .\u001b[35m/boxlen100_n128_lcdmw7v2_00000/\u001b[0m\u001b[35m/power/\u001b[0m\u001b[95mpk_eft_multigrid_ncoarse7_00053.dat\u001b[0m                           \n"
      ]
     },
     "metadata": {},
     "output_type": "display_data"
    },
    {
     "data": {
      "text/html": [
       "<pre style=\"white-space:pre;overflow-x:auto;line-height:normal;font-family:Menlo,'DejaVu Sans Mono',consolas,'Courier New',monospace\">param<span style=\"font-weight: bold\">[</span><span style=\"color: #008000; text-decoration-color: #008000\">'nsteps'</span><span style=\"font-weight: bold\">]</span>=<span style=\"color: #008080; text-decoration-color: #008080; font-weight: bold\">53</span> param<span style=\"font-weight: bold\">[</span><span style=\"color: #008000; text-decoration-color: #008000\">'aexp'</span><span style=\"font-weight: bold\">]</span>=<span style=\"color: #008080; text-decoration-color: #008080; font-weight: bold\">0.561027484758616</span> z = <span style=\"color: #008080; text-decoration-color: #008080; font-weight: bold\">0.7824438680223544</span>                                          \n",
       "</pre>\n"
      ],
      "text/plain": [
       "param\u001b[1m[\u001b[0m\u001b[32m'nsteps'\u001b[0m\u001b[1m]\u001b[0m=\u001b[1;36m53\u001b[0m param\u001b[1m[\u001b[0m\u001b[32m'aexp'\u001b[0m\u001b[1m]\u001b[0m=\u001b[1;36m0.561027484758616\u001b[0m z = \u001b[1;36m0.7824438680223544\u001b[0m                                          \n"
      ]
     },
     "metadata": {},
     "output_type": "display_data"
    },
    {
     "data": {
      "text/html": [
       "<pre style=\"white-space:pre;overflow-x:auto;line-height:normal;font-family:Menlo,'DejaVu Sans Mono',consolas,'Courier New',monospace\">Write <span style=\"color: #800080; text-decoration-color: #800080; font-weight: bold\">P</span><span style=\"font-weight: bold\">(</span>k<span style=\"font-weight: bold\">)</span> in .<span style=\"color: #800080; text-decoration-color: #800080\">/boxlen100_n128_lcdmw7v2_00000//power/</span><span style=\"color: #ff00ff; text-decoration-color: #ff00ff\">pk_eft_multigrid_ncoarse7_00054.dat</span>                           \n",
       "</pre>\n"
      ],
      "text/plain": [
       "Write \u001b[1;35mP\u001b[0m\u001b[1m(\u001b[0mk\u001b[1m)\u001b[0m in .\u001b[35m/boxlen100_n128_lcdmw7v2_00000/\u001b[0m\u001b[35m/power/\u001b[0m\u001b[95mpk_eft_multigrid_ncoarse7_00054.dat\u001b[0m                           \n"
      ]
     },
     "metadata": {},
     "output_type": "display_data"
    },
    {
     "data": {
      "text/html": [
       "<pre style=\"white-space:pre;overflow-x:auto;line-height:normal;font-family:Menlo,'DejaVu Sans Mono',consolas,'Courier New',monospace\">param<span style=\"font-weight: bold\">[</span><span style=\"color: #008000; text-decoration-color: #008000\">'nsteps'</span><span style=\"font-weight: bold\">]</span>=<span style=\"color: #008080; text-decoration-color: #008080; font-weight: bold\">54</span> param<span style=\"font-weight: bold\">[</span><span style=\"color: #008000; text-decoration-color: #008000\">'aexp'</span><span style=\"font-weight: bold\">]</span>=<span style=\"color: #008080; text-decoration-color: #008080; font-weight: bold\">0.561027484758616</span> z = <span style=\"color: #008080; text-decoration-color: #008080; font-weight: bold\">0.7824438680223544</span>                                          \n",
       "</pre>\n"
      ],
      "text/plain": [
       "param\u001b[1m[\u001b[0m\u001b[32m'nsteps'\u001b[0m\u001b[1m]\u001b[0m=\u001b[1;36m54\u001b[0m param\u001b[1m[\u001b[0m\u001b[32m'aexp'\u001b[0m\u001b[1m]\u001b[0m=\u001b[1;36m0.561027484758616\u001b[0m z = \u001b[1;36m0.7824438680223544\u001b[0m                                          \n"
      ]
     },
     "metadata": {},
     "output_type": "display_data"
    },
    {
     "data": {
      "text/html": [
       "<pre style=\"white-space:pre;overflow-x:auto;line-height:normal;font-family:Menlo,'DejaVu Sans Mono',consolas,'Courier New',monospace\">Write <span style=\"color: #800080; text-decoration-color: #800080; font-weight: bold\">P</span><span style=\"font-weight: bold\">(</span>k<span style=\"font-weight: bold\">)</span> in .<span style=\"color: #800080; text-decoration-color: #800080\">/boxlen100_n128_lcdmw7v2_00000//power/</span><span style=\"color: #ff00ff; text-decoration-color: #ff00ff\">pk_eft_multigrid_ncoarse7_00055.dat</span>                           \n",
       "</pre>\n"
      ],
      "text/plain": [
       "Write \u001b[1;35mP\u001b[0m\u001b[1m(\u001b[0mk\u001b[1m)\u001b[0m in .\u001b[35m/boxlen100_n128_lcdmw7v2_00000/\u001b[0m\u001b[35m/power/\u001b[0m\u001b[95mpk_eft_multigrid_ncoarse7_00055.dat\u001b[0m                           \n"
      ]
     },
     "metadata": {},
     "output_type": "display_data"
    },
    {
     "data": {
      "text/html": [
       "<pre style=\"white-space:pre;overflow-x:auto;line-height:normal;font-family:Menlo,'DejaVu Sans Mono',consolas,'Courier New',monospace\">param<span style=\"font-weight: bold\">[</span><span style=\"color: #008000; text-decoration-color: #008000\">'nsteps'</span><span style=\"font-weight: bold\">]</span>=<span style=\"color: #008080; text-decoration-color: #008080; font-weight: bold\">55</span> param<span style=\"font-weight: bold\">[</span><span style=\"color: #008000; text-decoration-color: #008000\">'aexp'</span><span style=\"font-weight: bold\">]</span>=<span style=\"color: #008080; text-decoration-color: #008080; font-weight: bold\">0.561027484758616</span> z = <span style=\"color: #008080; text-decoration-color: #008080; font-weight: bold\">0.7824438680223544</span>                                          \n",
       "</pre>\n"
      ],
      "text/plain": [
       "param\u001b[1m[\u001b[0m\u001b[32m'nsteps'\u001b[0m\u001b[1m]\u001b[0m=\u001b[1;36m55\u001b[0m param\u001b[1m[\u001b[0m\u001b[32m'aexp'\u001b[0m\u001b[1m]\u001b[0m=\u001b[1;36m0.561027484758616\u001b[0m z = \u001b[1;36m0.7824438680223544\u001b[0m                                          \n"
      ]
     },
     "metadata": {},
     "output_type": "display_data"
    },
    {
     "data": {
      "text/html": [
       "<pre style=\"white-space:pre;overflow-x:auto;line-height:normal;font-family:Menlo,'DejaVu Sans Mono',consolas,'Courier New',monospace\">Write <span style=\"color: #800080; text-decoration-color: #800080; font-weight: bold\">P</span><span style=\"font-weight: bold\">(</span>k<span style=\"font-weight: bold\">)</span> in .<span style=\"color: #800080; text-decoration-color: #800080\">/boxlen100_n128_lcdmw7v2_00000//power/</span><span style=\"color: #ff00ff; text-decoration-color: #ff00ff\">pk_eft_multigrid_ncoarse7_00056.dat</span>                           \n",
       "</pre>\n"
      ],
      "text/plain": [
       "Write \u001b[1;35mP\u001b[0m\u001b[1m(\u001b[0mk\u001b[1m)\u001b[0m in .\u001b[35m/boxlen100_n128_lcdmw7v2_00000/\u001b[0m\u001b[35m/power/\u001b[0m\u001b[95mpk_eft_multigrid_ncoarse7_00056.dat\u001b[0m                           \n"
      ]
     },
     "metadata": {},
     "output_type": "display_data"
    },
    {
     "data": {
      "text/html": [
       "<pre style=\"white-space:pre;overflow-x:auto;line-height:normal;font-family:Menlo,'DejaVu Sans Mono',consolas,'Courier New',monospace\">param<span style=\"font-weight: bold\">[</span><span style=\"color: #008000; text-decoration-color: #008000\">'nsteps'</span><span style=\"font-weight: bold\">]</span>=<span style=\"color: #008080; text-decoration-color: #008080; font-weight: bold\">56</span> param<span style=\"font-weight: bold\">[</span><span style=\"color: #008000; text-decoration-color: #008000\">'aexp'</span><span style=\"font-weight: bold\">]</span>=<span style=\"color: #008080; text-decoration-color: #008080; font-weight: bold\">0.561027484758616</span> z = <span style=\"color: #008080; text-decoration-color: #008080; font-weight: bold\">0.7824438680223544</span>                                          \n",
       "</pre>\n"
      ],
      "text/plain": [
       "param\u001b[1m[\u001b[0m\u001b[32m'nsteps'\u001b[0m\u001b[1m]\u001b[0m=\u001b[1;36m56\u001b[0m param\u001b[1m[\u001b[0m\u001b[32m'aexp'\u001b[0m\u001b[1m]\u001b[0m=\u001b[1;36m0.561027484758616\u001b[0m z = \u001b[1;36m0.7824438680223544\u001b[0m                                          \n"
      ]
     },
     "metadata": {},
     "output_type": "display_data"
    },
    {
     "data": {
      "text/html": [
       "<pre style=\"white-space:pre;overflow-x:auto;line-height:normal;font-family:Menlo,'DejaVu Sans Mono',consolas,'Courier New',monospace\">Write <span style=\"color: #800080; text-decoration-color: #800080; font-weight: bold\">P</span><span style=\"font-weight: bold\">(</span>k<span style=\"font-weight: bold\">)</span> in .<span style=\"color: #800080; text-decoration-color: #800080\">/boxlen100_n128_lcdmw7v2_00000//power/</span><span style=\"color: #ff00ff; text-decoration-color: #ff00ff\">pk_eft_multigrid_ncoarse7_00057.dat</span>                           \n",
       "</pre>\n"
      ],
      "text/plain": [
       "Write \u001b[1;35mP\u001b[0m\u001b[1m(\u001b[0mk\u001b[1m)\u001b[0m in .\u001b[35m/boxlen100_n128_lcdmw7v2_00000/\u001b[0m\u001b[35m/power/\u001b[0m\u001b[95mpk_eft_multigrid_ncoarse7_00057.dat\u001b[0m                           \n"
      ]
     },
     "metadata": {},
     "output_type": "display_data"
    },
    {
     "data": {
      "text/html": [
       "<pre style=\"white-space:pre;overflow-x:auto;line-height:normal;font-family:Menlo,'DejaVu Sans Mono',consolas,'Courier New',monospace\">param<span style=\"font-weight: bold\">[</span><span style=\"color: #008000; text-decoration-color: #008000\">'nsteps'</span><span style=\"font-weight: bold\">]</span>=<span style=\"color: #008080; text-decoration-color: #008080; font-weight: bold\">57</span> param<span style=\"font-weight: bold\">[</span><span style=\"color: #008000; text-decoration-color: #008000\">'aexp'</span><span style=\"font-weight: bold\">]</span>=<span style=\"color: #008080; text-decoration-color: #008080; font-weight: bold\">0.561027484758616</span> z = <span style=\"color: #008080; text-decoration-color: #008080; font-weight: bold\">0.7824438680223544</span>                                          \n",
       "</pre>\n"
      ],
      "text/plain": [
       "param\u001b[1m[\u001b[0m\u001b[32m'nsteps'\u001b[0m\u001b[1m]\u001b[0m=\u001b[1;36m57\u001b[0m param\u001b[1m[\u001b[0m\u001b[32m'aexp'\u001b[0m\u001b[1m]\u001b[0m=\u001b[1;36m0.561027484758616\u001b[0m z = \u001b[1;36m0.7824438680223544\u001b[0m                                          \n"
      ]
     },
     "metadata": {},
     "output_type": "display_data"
    },
    {
     "data": {
      "text/html": [
       "<pre style=\"white-space:pre;overflow-x:auto;line-height:normal;font-family:Menlo,'DejaVu Sans Mono',consolas,'Courier New',monospace\">Write <span style=\"color: #800080; text-decoration-color: #800080; font-weight: bold\">P</span><span style=\"font-weight: bold\">(</span>k<span style=\"font-weight: bold\">)</span> in .<span style=\"color: #800080; text-decoration-color: #800080\">/boxlen100_n128_lcdmw7v2_00000//power/</span><span style=\"color: #ff00ff; text-decoration-color: #ff00ff\">pk_eft_multigrid_ncoarse7_00058.dat</span>                           \n",
       "</pre>\n"
      ],
      "text/plain": [
       "Write \u001b[1;35mP\u001b[0m\u001b[1m(\u001b[0mk\u001b[1m)\u001b[0m in .\u001b[35m/boxlen100_n128_lcdmw7v2_00000/\u001b[0m\u001b[35m/power/\u001b[0m\u001b[95mpk_eft_multigrid_ncoarse7_00058.dat\u001b[0m                           \n"
      ]
     },
     "metadata": {},
     "output_type": "display_data"
    },
    {
     "data": {
      "text/html": [
       "<pre style=\"white-space:pre;overflow-x:auto;line-height:normal;font-family:Menlo,'DejaVu Sans Mono',consolas,'Courier New',monospace\">param<span style=\"font-weight: bold\">[</span><span style=\"color: #008000; text-decoration-color: #008000\">'nsteps'</span><span style=\"font-weight: bold\">]</span>=<span style=\"color: #008080; text-decoration-color: #008080; font-weight: bold\">58</span> param<span style=\"font-weight: bold\">[</span><span style=\"color: #008000; text-decoration-color: #008000\">'aexp'</span><span style=\"font-weight: bold\">]</span>=<span style=\"color: #008080; text-decoration-color: #008080; font-weight: bold\">0.561027484758616</span> z = <span style=\"color: #008080; text-decoration-color: #008080; font-weight: bold\">0.7824438680223544</span>                                          \n",
       "</pre>\n"
      ],
      "text/plain": [
       "param\u001b[1m[\u001b[0m\u001b[32m'nsteps'\u001b[0m\u001b[1m]\u001b[0m=\u001b[1;36m58\u001b[0m param\u001b[1m[\u001b[0m\u001b[32m'aexp'\u001b[0m\u001b[1m]\u001b[0m=\u001b[1;36m0.561027484758616\u001b[0m z = \u001b[1;36m0.7824438680223544\u001b[0m                                          \n"
      ]
     },
     "metadata": {},
     "output_type": "display_data"
    },
    {
     "data": {
      "text/html": [
       "<pre style=\"white-space:pre;overflow-x:auto;line-height:normal;font-family:Menlo,'DejaVu Sans Mono',consolas,'Courier New',monospace\">Write <span style=\"color: #800080; text-decoration-color: #800080; font-weight: bold\">P</span><span style=\"font-weight: bold\">(</span>k<span style=\"font-weight: bold\">)</span> in .<span style=\"color: #800080; text-decoration-color: #800080\">/boxlen100_n128_lcdmw7v2_00000//power/</span><span style=\"color: #ff00ff; text-decoration-color: #ff00ff\">pk_eft_multigrid_ncoarse7_00059.dat</span>                           \n",
       "</pre>\n"
      ],
      "text/plain": [
       "Write \u001b[1;35mP\u001b[0m\u001b[1m(\u001b[0mk\u001b[1m)\u001b[0m in .\u001b[35m/boxlen100_n128_lcdmw7v2_00000/\u001b[0m\u001b[35m/power/\u001b[0m\u001b[95mpk_eft_multigrid_ncoarse7_00059.dat\u001b[0m                           \n"
      ]
     },
     "metadata": {},
     "output_type": "display_data"
    },
    {
     "data": {
      "text/html": [
       "<pre style=\"white-space:pre;overflow-x:auto;line-height:normal;font-family:Menlo,'DejaVu Sans Mono',consolas,'Courier New',monospace\">param<span style=\"font-weight: bold\">[</span><span style=\"color: #008000; text-decoration-color: #008000\">'nsteps'</span><span style=\"font-weight: bold\">]</span>=<span style=\"color: #008080; text-decoration-color: #008080; font-weight: bold\">59</span> param<span style=\"font-weight: bold\">[</span><span style=\"color: #008000; text-decoration-color: #008000\">'aexp'</span><span style=\"font-weight: bold\">]</span>=<span style=\"color: #008080; text-decoration-color: #008080; font-weight: bold\">0.561027484758616</span> z = <span style=\"color: #008080; text-decoration-color: #008080; font-weight: bold\">0.7824438680223544</span>                                          \n",
       "</pre>\n"
      ],
      "text/plain": [
       "param\u001b[1m[\u001b[0m\u001b[32m'nsteps'\u001b[0m\u001b[1m]\u001b[0m=\u001b[1;36m59\u001b[0m param\u001b[1m[\u001b[0m\u001b[32m'aexp'\u001b[0m\u001b[1m]\u001b[0m=\u001b[1;36m0.561027484758616\u001b[0m z = \u001b[1;36m0.7824438680223544\u001b[0m                                          \n"
      ]
     },
     "metadata": {},
     "output_type": "display_data"
    },
    {
     "data": {
      "text/html": [
       "<pre style=\"white-space:pre;overflow-x:auto;line-height:normal;font-family:Menlo,'DejaVu Sans Mono',consolas,'Courier New',monospace\">Write <span style=\"color: #800080; text-decoration-color: #800080; font-weight: bold\">P</span><span style=\"font-weight: bold\">(</span>k<span style=\"font-weight: bold\">)</span> in .<span style=\"color: #800080; text-decoration-color: #800080\">/boxlen100_n128_lcdmw7v2_00000//power/</span><span style=\"color: #ff00ff; text-decoration-color: #ff00ff\">pk_eft_multigrid_ncoarse7_00060.dat</span>                           \n",
       "</pre>\n"
      ],
      "text/plain": [
       "Write \u001b[1;35mP\u001b[0m\u001b[1m(\u001b[0mk\u001b[1m)\u001b[0m in .\u001b[35m/boxlen100_n128_lcdmw7v2_00000/\u001b[0m\u001b[35m/power/\u001b[0m\u001b[95mpk_eft_multigrid_ncoarse7_00060.dat\u001b[0m                           \n"
      ]
     },
     "metadata": {},
     "output_type": "display_data"
    },
    {
     "data": {
      "text/html": [
       "<pre style=\"white-space:pre;overflow-x:auto;line-height:normal;font-family:Menlo,'DejaVu Sans Mono',consolas,'Courier New',monospace\">param<span style=\"font-weight: bold\">[</span><span style=\"color: #008000; text-decoration-color: #008000\">'nsteps'</span><span style=\"font-weight: bold\">]</span>=<span style=\"color: #008080; text-decoration-color: #008080; font-weight: bold\">60</span> param<span style=\"font-weight: bold\">[</span><span style=\"color: #008000; text-decoration-color: #008000\">'aexp'</span><span style=\"font-weight: bold\">]</span>=<span style=\"color: #008080; text-decoration-color: #008080; font-weight: bold\">0.561027484758616</span> z = <span style=\"color: #008080; text-decoration-color: #008080; font-weight: bold\">0.7824438680223544</span>                                          \n",
       "</pre>\n"
      ],
      "text/plain": [
       "param\u001b[1m[\u001b[0m\u001b[32m'nsteps'\u001b[0m\u001b[1m]\u001b[0m=\u001b[1;36m60\u001b[0m param\u001b[1m[\u001b[0m\u001b[32m'aexp'\u001b[0m\u001b[1m]\u001b[0m=\u001b[1;36m0.561027484758616\u001b[0m z = \u001b[1;36m0.7824438680223544\u001b[0m                                          \n"
      ]
     },
     "metadata": {},
     "output_type": "display_data"
    },
    {
     "data": {
      "text/html": [
       "<pre style=\"white-space:pre;overflow-x:auto;line-height:normal;font-family:Menlo,'DejaVu Sans Mono',consolas,'Courier New',monospace\">Write <span style=\"color: #800080; text-decoration-color: #800080; font-weight: bold\">P</span><span style=\"font-weight: bold\">(</span>k<span style=\"font-weight: bold\">)</span> in .<span style=\"color: #800080; text-decoration-color: #800080\">/boxlen100_n128_lcdmw7v2_00000//power/</span><span style=\"color: #ff00ff; text-decoration-color: #ff00ff\">pk_eft_multigrid_ncoarse7_00061.dat</span>                           \n",
       "</pre>\n"
      ],
      "text/plain": [
       "Write \u001b[1;35mP\u001b[0m\u001b[1m(\u001b[0mk\u001b[1m)\u001b[0m in .\u001b[35m/boxlen100_n128_lcdmw7v2_00000/\u001b[0m\u001b[35m/power/\u001b[0m\u001b[95mpk_eft_multigrid_ncoarse7_00061.dat\u001b[0m                           \n"
      ]
     },
     "metadata": {},
     "output_type": "display_data"
    },
    {
     "data": {
      "text/html": [
       "<pre style=\"white-space:pre;overflow-x:auto;line-height:normal;font-family:Menlo,'DejaVu Sans Mono',consolas,'Courier New',monospace\">param<span style=\"font-weight: bold\">[</span><span style=\"color: #008000; text-decoration-color: #008000\">'nsteps'</span><span style=\"font-weight: bold\">]</span>=<span style=\"color: #008080; text-decoration-color: #008080; font-weight: bold\">61</span> param<span style=\"font-weight: bold\">[</span><span style=\"color: #008000; text-decoration-color: #008000\">'aexp'</span><span style=\"font-weight: bold\">]</span>=<span style=\"color: #008080; text-decoration-color: #008080; font-weight: bold\">0.561027484758616</span> z = <span style=\"color: #008080; text-decoration-color: #008080; font-weight: bold\">0.7824438680223544</span>                                          \n",
       "</pre>\n"
      ],
      "text/plain": [
       "param\u001b[1m[\u001b[0m\u001b[32m'nsteps'\u001b[0m\u001b[1m]\u001b[0m=\u001b[1;36m61\u001b[0m param\u001b[1m[\u001b[0m\u001b[32m'aexp'\u001b[0m\u001b[1m]\u001b[0m=\u001b[1;36m0.561027484758616\u001b[0m z = \u001b[1;36m0.7824438680223544\u001b[0m                                          \n"
      ]
     },
     "metadata": {},
     "output_type": "display_data"
    },
    {
     "data": {
      "text/html": [
       "<pre style=\"white-space:pre;overflow-x:auto;line-height:normal;font-family:Menlo,'DejaVu Sans Mono',consolas,'Courier New',monospace\">Write <span style=\"color: #800080; text-decoration-color: #800080; font-weight: bold\">P</span><span style=\"font-weight: bold\">(</span>k<span style=\"font-weight: bold\">)</span> in .<span style=\"color: #800080; text-decoration-color: #800080\">/boxlen100_n128_lcdmw7v2_00000//power/</span><span style=\"color: #ff00ff; text-decoration-color: #ff00ff\">pk_eft_multigrid_ncoarse7_00062.dat</span>                           \n",
       "</pre>\n"
      ],
      "text/plain": [
       "Write \u001b[1;35mP\u001b[0m\u001b[1m(\u001b[0mk\u001b[1m)\u001b[0m in .\u001b[35m/boxlen100_n128_lcdmw7v2_00000/\u001b[0m\u001b[35m/power/\u001b[0m\u001b[95mpk_eft_multigrid_ncoarse7_00062.dat\u001b[0m                           \n"
      ]
     },
     "metadata": {},
     "output_type": "display_data"
    },
    {
     "data": {
      "text/html": [
       "<pre style=\"white-space:pre;overflow-x:auto;line-height:normal;font-family:Menlo,'DejaVu Sans Mono',consolas,'Courier New',monospace\">param<span style=\"font-weight: bold\">[</span><span style=\"color: #008000; text-decoration-color: #008000\">'nsteps'</span><span style=\"font-weight: bold\">]</span>=<span style=\"color: #008080; text-decoration-color: #008080; font-weight: bold\">62</span> param<span style=\"font-weight: bold\">[</span><span style=\"color: #008000; text-decoration-color: #008000\">'aexp'</span><span style=\"font-weight: bold\">]</span>=<span style=\"color: #008080; text-decoration-color: #008080; font-weight: bold\">0.561027484758616</span> z = <span style=\"color: #008080; text-decoration-color: #008080; font-weight: bold\">0.7824438680223544</span>                                          \n",
       "</pre>\n"
      ],
      "text/plain": [
       "param\u001b[1m[\u001b[0m\u001b[32m'nsteps'\u001b[0m\u001b[1m]\u001b[0m=\u001b[1;36m62\u001b[0m param\u001b[1m[\u001b[0m\u001b[32m'aexp'\u001b[0m\u001b[1m]\u001b[0m=\u001b[1;36m0.561027484758616\u001b[0m z = \u001b[1;36m0.7824438680223544\u001b[0m                                          \n"
      ]
     },
     "metadata": {},
     "output_type": "display_data"
    },
    {
     "data": {
      "text/html": [
       "<pre style=\"white-space:pre;overflow-x:auto;line-height:normal;font-family:Menlo,'DejaVu Sans Mono',consolas,'Courier New',monospace\">Write <span style=\"color: #800080; text-decoration-color: #800080; font-weight: bold\">P</span><span style=\"font-weight: bold\">(</span>k<span style=\"font-weight: bold\">)</span> in .<span style=\"color: #800080; text-decoration-color: #800080\">/boxlen100_n128_lcdmw7v2_00000//power/</span><span style=\"color: #ff00ff; text-decoration-color: #ff00ff\">pk_eft_multigrid_ncoarse7_00063.dat</span>                           \n",
       "</pre>\n"
      ],
      "text/plain": [
       "Write \u001b[1;35mP\u001b[0m\u001b[1m(\u001b[0mk\u001b[1m)\u001b[0m in .\u001b[35m/boxlen100_n128_lcdmw7v2_00000/\u001b[0m\u001b[35m/power/\u001b[0m\u001b[95mpk_eft_multigrid_ncoarse7_00063.dat\u001b[0m                           \n"
      ]
     },
     "metadata": {},
     "output_type": "display_data"
    },
    {
     "data": {
      "text/html": [
       "<pre style=\"white-space:pre;overflow-x:auto;line-height:normal;font-family:Menlo,'DejaVu Sans Mono',consolas,'Courier New',monospace\">param<span style=\"font-weight: bold\">[</span><span style=\"color: #008000; text-decoration-color: #008000\">'nsteps'</span><span style=\"font-weight: bold\">]</span>=<span style=\"color: #008080; text-decoration-color: #008080; font-weight: bold\">63</span> param<span style=\"font-weight: bold\">[</span><span style=\"color: #008000; text-decoration-color: #008000\">'aexp'</span><span style=\"font-weight: bold\">]</span>=<span style=\"color: #008080; text-decoration-color: #008080; font-weight: bold\">0.561027484758616</span> z = <span style=\"color: #008080; text-decoration-color: #008080; font-weight: bold\">0.7824438680223544</span>                                          \n",
       "</pre>\n"
      ],
      "text/plain": [
       "param\u001b[1m[\u001b[0m\u001b[32m'nsteps'\u001b[0m\u001b[1m]\u001b[0m=\u001b[1;36m63\u001b[0m param\u001b[1m[\u001b[0m\u001b[32m'aexp'\u001b[0m\u001b[1m]\u001b[0m=\u001b[1;36m0.561027484758616\u001b[0m z = \u001b[1;36m0.7824438680223544\u001b[0m                                          \n"
      ]
     },
     "metadata": {},
     "output_type": "display_data"
    },
    {
     "data": {
      "text/html": [
       "<pre style=\"white-space:pre;overflow-x:auto;line-height:normal;font-family:Menlo,'DejaVu Sans Mono',consolas,'Courier New',monospace\">Write <span style=\"color: #800080; text-decoration-color: #800080; font-weight: bold\">P</span><span style=\"font-weight: bold\">(</span>k<span style=\"font-weight: bold\">)</span> in .<span style=\"color: #800080; text-decoration-color: #800080\">/boxlen100_n128_lcdmw7v2_00000//power/</span><span style=\"color: #ff00ff; text-decoration-color: #ff00ff\">pk_eft_multigrid_ncoarse7_00064.dat</span>                           \n",
       "</pre>\n"
      ],
      "text/plain": [
       "Write \u001b[1;35mP\u001b[0m\u001b[1m(\u001b[0mk\u001b[1m)\u001b[0m in .\u001b[35m/boxlen100_n128_lcdmw7v2_00000/\u001b[0m\u001b[35m/power/\u001b[0m\u001b[95mpk_eft_multigrid_ncoarse7_00064.dat\u001b[0m                           \n"
      ]
     },
     "metadata": {},
     "output_type": "display_data"
    },
    {
     "data": {
      "text/html": [
       "<pre style=\"white-space:pre;overflow-x:auto;line-height:normal;font-family:Menlo,'DejaVu Sans Mono',consolas,'Courier New',monospace\">param<span style=\"font-weight: bold\">[</span><span style=\"color: #008000; text-decoration-color: #008000\">'nsteps'</span><span style=\"font-weight: bold\">]</span>=<span style=\"color: #008080; text-decoration-color: #008080; font-weight: bold\">64</span> param<span style=\"font-weight: bold\">[</span><span style=\"color: #008000; text-decoration-color: #008000\">'aexp'</span><span style=\"font-weight: bold\">]</span>=<span style=\"color: #008080; text-decoration-color: #008080; font-weight: bold\">0.561027484758616</span> z = <span style=\"color: #008080; text-decoration-color: #008080; font-weight: bold\">0.7824438680223544</span>                                          \n",
       "</pre>\n"
      ],
      "text/plain": [
       "param\u001b[1m[\u001b[0m\u001b[32m'nsteps'\u001b[0m\u001b[1m]\u001b[0m=\u001b[1;36m64\u001b[0m param\u001b[1m[\u001b[0m\u001b[32m'aexp'\u001b[0m\u001b[1m]\u001b[0m=\u001b[1;36m0.561027484758616\u001b[0m z = \u001b[1;36m0.7824438680223544\u001b[0m                                          \n"
      ]
     },
     "metadata": {},
     "output_type": "display_data"
    },
    {
     "data": {
      "text/html": [
       "<pre style=\"white-space:pre;overflow-x:auto;line-height:normal;font-family:Menlo,'DejaVu Sans Mono',consolas,'Courier New',monospace\">Write <span style=\"color: #800080; text-decoration-color: #800080; font-weight: bold\">P</span><span style=\"font-weight: bold\">(</span>k<span style=\"font-weight: bold\">)</span> in .<span style=\"color: #800080; text-decoration-color: #800080\">/boxlen100_n128_lcdmw7v2_00000//power/</span><span style=\"color: #ff00ff; text-decoration-color: #ff00ff\">pk_eft_multigrid_ncoarse7_00065.dat</span>                           \n",
       "</pre>\n"
      ],
      "text/plain": [
       "Write \u001b[1;35mP\u001b[0m\u001b[1m(\u001b[0mk\u001b[1m)\u001b[0m in .\u001b[35m/boxlen100_n128_lcdmw7v2_00000/\u001b[0m\u001b[35m/power/\u001b[0m\u001b[95mpk_eft_multigrid_ncoarse7_00065.dat\u001b[0m                           \n"
      ]
     },
     "metadata": {},
     "output_type": "display_data"
    },
    {
     "data": {
      "text/html": [
       "<pre style=\"white-space:pre;overflow-x:auto;line-height:normal;font-family:Menlo,'DejaVu Sans Mono',consolas,'Courier New',monospace\">param<span style=\"font-weight: bold\">[</span><span style=\"color: #008000; text-decoration-color: #008000\">'nsteps'</span><span style=\"font-weight: bold\">]</span>=<span style=\"color: #008080; text-decoration-color: #008080; font-weight: bold\">65</span> param<span style=\"font-weight: bold\">[</span><span style=\"color: #008000; text-decoration-color: #008000\">'aexp'</span><span style=\"font-weight: bold\">]</span>=<span style=\"color: #008080; text-decoration-color: #008080; font-weight: bold\">0.561027484758616</span> z = <span style=\"color: #008080; text-decoration-color: #008080; font-weight: bold\">0.7824438680223544</span>                                          \n",
       "</pre>\n"
      ],
      "text/plain": [
       "param\u001b[1m[\u001b[0m\u001b[32m'nsteps'\u001b[0m\u001b[1m]\u001b[0m=\u001b[1;36m65\u001b[0m param\u001b[1m[\u001b[0m\u001b[32m'aexp'\u001b[0m\u001b[1m]\u001b[0m=\u001b[1;36m0.561027484758616\u001b[0m z = \u001b[1;36m0.7824438680223544\u001b[0m                                          \n"
      ]
     },
     "metadata": {},
     "output_type": "display_data"
    },
    {
     "data": {
      "text/html": [
       "<pre style=\"white-space:pre;overflow-x:auto;line-height:normal;font-family:Menlo,'DejaVu Sans Mono',consolas,'Courier New',monospace\">Write <span style=\"color: #800080; text-decoration-color: #800080; font-weight: bold\">P</span><span style=\"font-weight: bold\">(</span>k<span style=\"font-weight: bold\">)</span> in .<span style=\"color: #800080; text-decoration-color: #800080\">/boxlen100_n128_lcdmw7v2_00000//power/</span><span style=\"color: #ff00ff; text-decoration-color: #ff00ff\">pk_eft_multigrid_ncoarse7_00066.dat</span>                           \n",
       "</pre>\n"
      ],
      "text/plain": [
       "Write \u001b[1;35mP\u001b[0m\u001b[1m(\u001b[0mk\u001b[1m)\u001b[0m in .\u001b[35m/boxlen100_n128_lcdmw7v2_00000/\u001b[0m\u001b[35m/power/\u001b[0m\u001b[95mpk_eft_multigrid_ncoarse7_00066.dat\u001b[0m                           \n"
      ]
     },
     "metadata": {},
     "output_type": "display_data"
    },
    {
     "data": {
      "text/html": [
       "<pre style=\"white-space:pre;overflow-x:auto;line-height:normal;font-family:Menlo,'DejaVu Sans Mono',consolas,'Courier New',monospace\">param<span style=\"font-weight: bold\">[</span><span style=\"color: #008000; text-decoration-color: #008000\">'nsteps'</span><span style=\"font-weight: bold\">]</span>=<span style=\"color: #008080; text-decoration-color: #008080; font-weight: bold\">66</span> param<span style=\"font-weight: bold\">[</span><span style=\"color: #008000; text-decoration-color: #008000\">'aexp'</span><span style=\"font-weight: bold\">]</span>=<span style=\"color: #008080; text-decoration-color: #008080; font-weight: bold\">0.561027484758616</span> z = <span style=\"color: #008080; text-decoration-color: #008080; font-weight: bold\">0.7824438680223544</span>                                          \n",
       "</pre>\n"
      ],
      "text/plain": [
       "param\u001b[1m[\u001b[0m\u001b[32m'nsteps'\u001b[0m\u001b[1m]\u001b[0m=\u001b[1;36m66\u001b[0m param\u001b[1m[\u001b[0m\u001b[32m'aexp'\u001b[0m\u001b[1m]\u001b[0m=\u001b[1;36m0.561027484758616\u001b[0m z = \u001b[1;36m0.7824438680223544\u001b[0m                                          \n"
      ]
     },
     "metadata": {},
     "output_type": "display_data"
    },
    {
     "data": {
      "text/html": [
       "<pre style=\"white-space:pre;overflow-x:auto;line-height:normal;font-family:Menlo,'DejaVu Sans Mono',consolas,'Courier New',monospace\">Write <span style=\"color: #800080; text-decoration-color: #800080; font-weight: bold\">P</span><span style=\"font-weight: bold\">(</span>k<span style=\"font-weight: bold\">)</span> in .<span style=\"color: #800080; text-decoration-color: #800080\">/boxlen100_n128_lcdmw7v2_00000//power/</span><span style=\"color: #ff00ff; text-decoration-color: #ff00ff\">pk_eft_multigrid_ncoarse7_00067.dat</span>                           \n",
       "</pre>\n"
      ],
      "text/plain": [
       "Write \u001b[1;35mP\u001b[0m\u001b[1m(\u001b[0mk\u001b[1m)\u001b[0m in .\u001b[35m/boxlen100_n128_lcdmw7v2_00000/\u001b[0m\u001b[35m/power/\u001b[0m\u001b[95mpk_eft_multigrid_ncoarse7_00067.dat\u001b[0m                           \n"
      ]
     },
     "metadata": {},
     "output_type": "display_data"
    },
    {
     "data": {
      "text/html": [
       "<pre style=\"white-space:pre;overflow-x:auto;line-height:normal;font-family:Menlo,'DejaVu Sans Mono',consolas,'Courier New',monospace\">param<span style=\"font-weight: bold\">[</span><span style=\"color: #008000; text-decoration-color: #008000\">'nsteps'</span><span style=\"font-weight: bold\">]</span>=<span style=\"color: #008080; text-decoration-color: #008080; font-weight: bold\">67</span> param<span style=\"font-weight: bold\">[</span><span style=\"color: #008000; text-decoration-color: #008000\">'aexp'</span><span style=\"font-weight: bold\">]</span>=<span style=\"color: #008080; text-decoration-color: #008080; font-weight: bold\">0.561027484758616</span> z = <span style=\"color: #008080; text-decoration-color: #008080; font-weight: bold\">0.7824438680223544</span>                                          \n",
       "</pre>\n"
      ],
      "text/plain": [
       "param\u001b[1m[\u001b[0m\u001b[32m'nsteps'\u001b[0m\u001b[1m]\u001b[0m=\u001b[1;36m67\u001b[0m param\u001b[1m[\u001b[0m\u001b[32m'aexp'\u001b[0m\u001b[1m]\u001b[0m=\u001b[1;36m0.561027484758616\u001b[0m z = \u001b[1;36m0.7824438680223544\u001b[0m                                          \n"
      ]
     },
     "metadata": {},
     "output_type": "display_data"
    },
    {
     "data": {
      "text/html": [
       "<pre style=\"white-space:pre;overflow-x:auto;line-height:normal;font-family:Menlo,'DejaVu Sans Mono',consolas,'Courier New',monospace\">Write <span style=\"color: #800080; text-decoration-color: #800080; font-weight: bold\">P</span><span style=\"font-weight: bold\">(</span>k<span style=\"font-weight: bold\">)</span> in .<span style=\"color: #800080; text-decoration-color: #800080\">/boxlen100_n128_lcdmw7v2_00000//power/</span><span style=\"color: #ff00ff; text-decoration-color: #ff00ff\">pk_eft_multigrid_ncoarse7_00068.dat</span>                           \n",
       "</pre>\n"
      ],
      "text/plain": [
       "Write \u001b[1;35mP\u001b[0m\u001b[1m(\u001b[0mk\u001b[1m)\u001b[0m in .\u001b[35m/boxlen100_n128_lcdmw7v2_00000/\u001b[0m\u001b[35m/power/\u001b[0m\u001b[95mpk_eft_multigrid_ncoarse7_00068.dat\u001b[0m                           \n"
      ]
     },
     "metadata": {},
     "output_type": "display_data"
    },
    {
     "data": {
      "text/html": [
       "<pre style=\"white-space:pre;overflow-x:auto;line-height:normal;font-family:Menlo,'DejaVu Sans Mono',consolas,'Courier New',monospace\">param<span style=\"font-weight: bold\">[</span><span style=\"color: #008000; text-decoration-color: #008000\">'nsteps'</span><span style=\"font-weight: bold\">]</span>=<span style=\"color: #008080; text-decoration-color: #008080; font-weight: bold\">68</span> param<span style=\"font-weight: bold\">[</span><span style=\"color: #008000; text-decoration-color: #008000\">'aexp'</span><span style=\"font-weight: bold\">]</span>=<span style=\"color: #008080; text-decoration-color: #008080; font-weight: bold\">0.561027484758616</span> z = <span style=\"color: #008080; text-decoration-color: #008080; font-weight: bold\">0.7824438680223544</span>                                          \n",
       "</pre>\n"
      ],
      "text/plain": [
       "param\u001b[1m[\u001b[0m\u001b[32m'nsteps'\u001b[0m\u001b[1m]\u001b[0m=\u001b[1;36m68\u001b[0m param\u001b[1m[\u001b[0m\u001b[32m'aexp'\u001b[0m\u001b[1m]\u001b[0m=\u001b[1;36m0.561027484758616\u001b[0m z = \u001b[1;36m0.7824438680223544\u001b[0m                                          \n"
      ]
     },
     "metadata": {},
     "output_type": "display_data"
    },
    {
     "data": {
      "text/html": [
       "<pre style=\"white-space:pre;overflow-x:auto;line-height:normal;font-family:Menlo,'DejaVu Sans Mono',consolas,'Courier New',monospace\">Write <span style=\"color: #800080; text-decoration-color: #800080; font-weight: bold\">P</span><span style=\"font-weight: bold\">(</span>k<span style=\"font-weight: bold\">)</span> in .<span style=\"color: #800080; text-decoration-color: #800080\">/boxlen100_n128_lcdmw7v2_00000//power/</span><span style=\"color: #ff00ff; text-decoration-color: #ff00ff\">pk_eft_multigrid_ncoarse7_00069.dat</span>                           \n",
       "</pre>\n"
      ],
      "text/plain": [
       "Write \u001b[1;35mP\u001b[0m\u001b[1m(\u001b[0mk\u001b[1m)\u001b[0m in .\u001b[35m/boxlen100_n128_lcdmw7v2_00000/\u001b[0m\u001b[35m/power/\u001b[0m\u001b[95mpk_eft_multigrid_ncoarse7_00069.dat\u001b[0m                           \n"
      ]
     },
     "metadata": {},
     "output_type": "display_data"
    },
    {
     "data": {
      "text/html": [
       "<pre style=\"white-space:pre;overflow-x:auto;line-height:normal;font-family:Menlo,'DejaVu Sans Mono',consolas,'Courier New',monospace\">param<span style=\"font-weight: bold\">[</span><span style=\"color: #008000; text-decoration-color: #008000\">'nsteps'</span><span style=\"font-weight: bold\">]</span>=<span style=\"color: #008080; text-decoration-color: #008080; font-weight: bold\">69</span> param<span style=\"font-weight: bold\">[</span><span style=\"color: #008000; text-decoration-color: #008000\">'aexp'</span><span style=\"font-weight: bold\">]</span>=<span style=\"color: #008080; text-decoration-color: #008080; font-weight: bold\">0.561027484758616</span> z = <span style=\"color: #008080; text-decoration-color: #008080; font-weight: bold\">0.7824438680223544</span>                                          \n",
       "</pre>\n"
      ],
      "text/plain": [
       "param\u001b[1m[\u001b[0m\u001b[32m'nsteps'\u001b[0m\u001b[1m]\u001b[0m=\u001b[1;36m69\u001b[0m param\u001b[1m[\u001b[0m\u001b[32m'aexp'\u001b[0m\u001b[1m]\u001b[0m=\u001b[1;36m0.561027484758616\u001b[0m z = \u001b[1;36m0.7824438680223544\u001b[0m                                          \n"
      ]
     },
     "metadata": {},
     "output_type": "display_data"
    },
    {
     "data": {
      "text/html": [
       "<pre style=\"white-space:pre;overflow-x:auto;line-height:normal;font-family:Menlo,'DejaVu Sans Mono',consolas,'Courier New',monospace\">Write <span style=\"color: #800080; text-decoration-color: #800080; font-weight: bold\">P</span><span style=\"font-weight: bold\">(</span>k<span style=\"font-weight: bold\">)</span> in .<span style=\"color: #800080; text-decoration-color: #800080\">/boxlen100_n128_lcdmw7v2_00000//power/</span><span style=\"color: #ff00ff; text-decoration-color: #ff00ff\">pk_eft_multigrid_ncoarse7_00070.dat</span>                           \n",
       "</pre>\n"
      ],
      "text/plain": [
       "Write \u001b[1;35mP\u001b[0m\u001b[1m(\u001b[0mk\u001b[1m)\u001b[0m in .\u001b[35m/boxlen100_n128_lcdmw7v2_00000/\u001b[0m\u001b[35m/power/\u001b[0m\u001b[95mpk_eft_multigrid_ncoarse7_00070.dat\u001b[0m                           \n"
      ]
     },
     "metadata": {},
     "output_type": "display_data"
    },
    {
     "data": {
      "text/html": [
       "<pre style=\"white-space:pre;overflow-x:auto;line-height:normal;font-family:Menlo,'DejaVu Sans Mono',consolas,'Courier New',monospace\">param<span style=\"font-weight: bold\">[</span><span style=\"color: #008000; text-decoration-color: #008000\">'nsteps'</span><span style=\"font-weight: bold\">]</span>=<span style=\"color: #008080; text-decoration-color: #008080; font-weight: bold\">70</span> param<span style=\"font-weight: bold\">[</span><span style=\"color: #008000; text-decoration-color: #008000\">'aexp'</span><span style=\"font-weight: bold\">]</span>=<span style=\"color: #008080; text-decoration-color: #008080; font-weight: bold\">0.561027484758616</span> z = <span style=\"color: #008080; text-decoration-color: #008080; font-weight: bold\">0.7824438680223544</span>                                          \n",
       "</pre>\n"
      ],
      "text/plain": [
       "param\u001b[1m[\u001b[0m\u001b[32m'nsteps'\u001b[0m\u001b[1m]\u001b[0m=\u001b[1;36m70\u001b[0m param\u001b[1m[\u001b[0m\u001b[32m'aexp'\u001b[0m\u001b[1m]\u001b[0m=\u001b[1;36m0.561027484758616\u001b[0m z = \u001b[1;36m0.7824438680223544\u001b[0m                                          \n"
      ]
     },
     "metadata": {},
     "output_type": "display_data"
    },
    {
     "data": {
      "text/html": [
       "<pre style=\"white-space:pre;overflow-x:auto;line-height:normal;font-family:Menlo,'DejaVu Sans Mono',consolas,'Courier New',monospace\">Write <span style=\"color: #800080; text-decoration-color: #800080; font-weight: bold\">P</span><span style=\"font-weight: bold\">(</span>k<span style=\"font-weight: bold\">)</span> in .<span style=\"color: #800080; text-decoration-color: #800080\">/boxlen100_n128_lcdmw7v2_00000//power/</span><span style=\"color: #ff00ff; text-decoration-color: #ff00ff\">pk_eft_multigrid_ncoarse7_00071.dat</span>                           \n",
       "</pre>\n"
      ],
      "text/plain": [
       "Write \u001b[1;35mP\u001b[0m\u001b[1m(\u001b[0mk\u001b[1m)\u001b[0m in .\u001b[35m/boxlen100_n128_lcdmw7v2_00000/\u001b[0m\u001b[35m/power/\u001b[0m\u001b[95mpk_eft_multigrid_ncoarse7_00071.dat\u001b[0m                           \n"
      ]
     },
     "metadata": {},
     "output_type": "display_data"
    },
    {
     "data": {
      "text/html": [
       "<pre style=\"white-space:pre;overflow-x:auto;line-height:normal;font-family:Menlo,'DejaVu Sans Mono',consolas,'Courier New',monospace\">param<span style=\"font-weight: bold\">[</span><span style=\"color: #008000; text-decoration-color: #008000\">'nsteps'</span><span style=\"font-weight: bold\">]</span>=<span style=\"color: #008080; text-decoration-color: #008080; font-weight: bold\">71</span> param<span style=\"font-weight: bold\">[</span><span style=\"color: #008000; text-decoration-color: #008000\">'aexp'</span><span style=\"font-weight: bold\">]</span>=<span style=\"color: #008080; text-decoration-color: #008080; font-weight: bold\">0.561027484758616</span> z = <span style=\"color: #008080; text-decoration-color: #008080; font-weight: bold\">0.7824438680223544</span>                                          \n",
       "</pre>\n"
      ],
      "text/plain": [
       "param\u001b[1m[\u001b[0m\u001b[32m'nsteps'\u001b[0m\u001b[1m]\u001b[0m=\u001b[1;36m71\u001b[0m param\u001b[1m[\u001b[0m\u001b[32m'aexp'\u001b[0m\u001b[1m]\u001b[0m=\u001b[1;36m0.561027484758616\u001b[0m z = \u001b[1;36m0.7824438680223544\u001b[0m                                          \n"
      ]
     },
     "metadata": {},
     "output_type": "display_data"
    },
    {
     "data": {
      "text/html": [
       "<pre style=\"white-space:pre;overflow-x:auto;line-height:normal;font-family:Menlo,'DejaVu Sans Mono',consolas,'Courier New',monospace\">Write <span style=\"color: #800080; text-decoration-color: #800080; font-weight: bold\">P</span><span style=\"font-weight: bold\">(</span>k<span style=\"font-weight: bold\">)</span> in .<span style=\"color: #800080; text-decoration-color: #800080\">/boxlen100_n128_lcdmw7v2_00000//power/</span><span style=\"color: #ff00ff; text-decoration-color: #ff00ff\">pk_eft_multigrid_ncoarse7_00072.dat</span>                           \n",
       "</pre>\n"
      ],
      "text/plain": [
       "Write \u001b[1;35mP\u001b[0m\u001b[1m(\u001b[0mk\u001b[1m)\u001b[0m in .\u001b[35m/boxlen100_n128_lcdmw7v2_00000/\u001b[0m\u001b[35m/power/\u001b[0m\u001b[95mpk_eft_multigrid_ncoarse7_00072.dat\u001b[0m                           \n"
      ]
     },
     "metadata": {},
     "output_type": "display_data"
    },
    {
     "data": {
      "text/html": [
       "<pre style=\"white-space:pre;overflow-x:auto;line-height:normal;font-family:Menlo,'DejaVu Sans Mono',consolas,'Courier New',monospace\">param<span style=\"font-weight: bold\">[</span><span style=\"color: #008000; text-decoration-color: #008000\">'nsteps'</span><span style=\"font-weight: bold\">]</span>=<span style=\"color: #008080; text-decoration-color: #008080; font-weight: bold\">72</span> param<span style=\"font-weight: bold\">[</span><span style=\"color: #008000; text-decoration-color: #008000\">'aexp'</span><span style=\"font-weight: bold\">]</span>=<span style=\"color: #008080; text-decoration-color: #008080; font-weight: bold\">0.561027484758616</span> z = <span style=\"color: #008080; text-decoration-color: #008080; font-weight: bold\">0.7824438680223544</span>                                          \n",
       "</pre>\n"
      ],
      "text/plain": [
       "param\u001b[1m[\u001b[0m\u001b[32m'nsteps'\u001b[0m\u001b[1m]\u001b[0m=\u001b[1;36m72\u001b[0m param\u001b[1m[\u001b[0m\u001b[32m'aexp'\u001b[0m\u001b[1m]\u001b[0m=\u001b[1;36m0.561027484758616\u001b[0m z = \u001b[1;36m0.7824438680223544\u001b[0m                                          \n"
      ]
     },
     "metadata": {},
     "output_type": "display_data"
    },
    {
     "data": {
      "text/html": [
       "<pre style=\"white-space:pre;overflow-x:auto;line-height:normal;font-family:Menlo,'DejaVu Sans Mono',consolas,'Courier New',monospace\">Write <span style=\"color: #800080; text-decoration-color: #800080; font-weight: bold\">P</span><span style=\"font-weight: bold\">(</span>k<span style=\"font-weight: bold\">)</span> in .<span style=\"color: #800080; text-decoration-color: #800080\">/boxlen100_n128_lcdmw7v2_00000//power/</span><span style=\"color: #ff00ff; text-decoration-color: #ff00ff\">pk_eft_multigrid_ncoarse7_00073.dat</span>                           \n",
       "</pre>\n"
      ],
      "text/plain": [
       "Write \u001b[1;35mP\u001b[0m\u001b[1m(\u001b[0mk\u001b[1m)\u001b[0m in .\u001b[35m/boxlen100_n128_lcdmw7v2_00000/\u001b[0m\u001b[35m/power/\u001b[0m\u001b[95mpk_eft_multigrid_ncoarse7_00073.dat\u001b[0m                           \n"
      ]
     },
     "metadata": {},
     "output_type": "display_data"
    },
    {
     "data": {
      "text/html": [
       "<pre style=\"white-space:pre;overflow-x:auto;line-height:normal;font-family:Menlo,'DejaVu Sans Mono',consolas,'Courier New',monospace\">param<span style=\"font-weight: bold\">[</span><span style=\"color: #008000; text-decoration-color: #008000\">'nsteps'</span><span style=\"font-weight: bold\">]</span>=<span style=\"color: #008080; text-decoration-color: #008080; font-weight: bold\">73</span> param<span style=\"font-weight: bold\">[</span><span style=\"color: #008000; text-decoration-color: #008000\">'aexp'</span><span style=\"font-weight: bold\">]</span>=<span style=\"color: #008080; text-decoration-color: #008080; font-weight: bold\">0.561027484758616</span> z = <span style=\"color: #008080; text-decoration-color: #008080; font-weight: bold\">0.7824438680223544</span>                                          \n",
       "</pre>\n"
      ],
      "text/plain": [
       "param\u001b[1m[\u001b[0m\u001b[32m'nsteps'\u001b[0m\u001b[1m]\u001b[0m=\u001b[1;36m73\u001b[0m param\u001b[1m[\u001b[0m\u001b[32m'aexp'\u001b[0m\u001b[1m]\u001b[0m=\u001b[1;36m0.561027484758616\u001b[0m z = \u001b[1;36m0.7824438680223544\u001b[0m                                          \n"
      ]
     },
     "metadata": {},
     "output_type": "display_data"
    },
    {
     "data": {
      "text/html": [
       "<pre style=\"white-space:pre;overflow-x:auto;line-height:normal;font-family:Menlo,'DejaVu Sans Mono',consolas,'Courier New',monospace\">Write <span style=\"color: #800080; text-decoration-color: #800080; font-weight: bold\">P</span><span style=\"font-weight: bold\">(</span>k<span style=\"font-weight: bold\">)</span> in .<span style=\"color: #800080; text-decoration-color: #800080\">/boxlen100_n128_lcdmw7v2_00000//power/</span><span style=\"color: #ff00ff; text-decoration-color: #ff00ff\">pk_eft_multigrid_ncoarse7_00074.dat</span>                           \n",
       "</pre>\n"
      ],
      "text/plain": [
       "Write \u001b[1;35mP\u001b[0m\u001b[1m(\u001b[0mk\u001b[1m)\u001b[0m in .\u001b[35m/boxlen100_n128_lcdmw7v2_00000/\u001b[0m\u001b[35m/power/\u001b[0m\u001b[95mpk_eft_multigrid_ncoarse7_00074.dat\u001b[0m                           \n"
      ]
     },
     "metadata": {},
     "output_type": "display_data"
    },
    {
     "data": {
      "text/html": [
       "<pre style=\"white-space:pre;overflow-x:auto;line-height:normal;font-family:Menlo,'DejaVu Sans Mono',consolas,'Courier New',monospace\">param<span style=\"font-weight: bold\">[</span><span style=\"color: #008000; text-decoration-color: #008000\">'nsteps'</span><span style=\"font-weight: bold\">]</span>=<span style=\"color: #008080; text-decoration-color: #008080; font-weight: bold\">74</span> param<span style=\"font-weight: bold\">[</span><span style=\"color: #008000; text-decoration-color: #008000\">'aexp'</span><span style=\"font-weight: bold\">]</span>=<span style=\"color: #008080; text-decoration-color: #008080; font-weight: bold\">0.561027484758616</span> z = <span style=\"color: #008080; text-decoration-color: #008080; font-weight: bold\">0.7824438680223544</span>                                          \n",
       "</pre>\n"
      ],
      "text/plain": [
       "param\u001b[1m[\u001b[0m\u001b[32m'nsteps'\u001b[0m\u001b[1m]\u001b[0m=\u001b[1;36m74\u001b[0m param\u001b[1m[\u001b[0m\u001b[32m'aexp'\u001b[0m\u001b[1m]\u001b[0m=\u001b[1;36m0.561027484758616\u001b[0m z = \u001b[1;36m0.7824438680223544\u001b[0m                                          \n"
      ]
     },
     "metadata": {},
     "output_type": "display_data"
    },
    {
     "data": {
      "text/html": [
       "<pre style=\"white-space:pre;overflow-x:auto;line-height:normal;font-family:Menlo,'DejaVu Sans Mono',consolas,'Courier New',monospace\">Write <span style=\"color: #800080; text-decoration-color: #800080; font-weight: bold\">P</span><span style=\"font-weight: bold\">(</span>k<span style=\"font-weight: bold\">)</span> in .<span style=\"color: #800080; text-decoration-color: #800080\">/boxlen100_n128_lcdmw7v2_00000//power/</span><span style=\"color: #ff00ff; text-decoration-color: #ff00ff\">pk_eft_multigrid_ncoarse7_00075.dat</span>                           \n",
       "</pre>\n"
      ],
      "text/plain": [
       "Write \u001b[1;35mP\u001b[0m\u001b[1m(\u001b[0mk\u001b[1m)\u001b[0m in .\u001b[35m/boxlen100_n128_lcdmw7v2_00000/\u001b[0m\u001b[35m/power/\u001b[0m\u001b[95mpk_eft_multigrid_ncoarse7_00075.dat\u001b[0m                           \n"
      ]
     },
     "metadata": {},
     "output_type": "display_data"
    },
    {
     "data": {
      "text/html": [
       "<pre style=\"white-space:pre;overflow-x:auto;line-height:normal;font-family:Menlo,'DejaVu Sans Mono',consolas,'Courier New',monospace\">param<span style=\"font-weight: bold\">[</span><span style=\"color: #008000; text-decoration-color: #008000\">'nsteps'</span><span style=\"font-weight: bold\">]</span>=<span style=\"color: #008080; text-decoration-color: #008080; font-weight: bold\">75</span> param<span style=\"font-weight: bold\">[</span><span style=\"color: #008000; text-decoration-color: #008000\">'aexp'</span><span style=\"font-weight: bold\">]</span>=<span style=\"color: #008080; text-decoration-color: #008080; font-weight: bold\">0.561027484758616</span> z = <span style=\"color: #008080; text-decoration-color: #008080; font-weight: bold\">0.7824438680223544</span>                                          \n",
       "</pre>\n"
      ],
      "text/plain": [
       "param\u001b[1m[\u001b[0m\u001b[32m'nsteps'\u001b[0m\u001b[1m]\u001b[0m=\u001b[1;36m75\u001b[0m param\u001b[1m[\u001b[0m\u001b[32m'aexp'\u001b[0m\u001b[1m]\u001b[0m=\u001b[1;36m0.561027484758616\u001b[0m z = \u001b[1;36m0.7824438680223544\u001b[0m                                          \n"
      ]
     },
     "metadata": {},
     "output_type": "display_data"
    },
    {
     "data": {
      "text/html": [
       "<pre style=\"white-space:pre;overflow-x:auto;line-height:normal;font-family:Menlo,'DejaVu Sans Mono',consolas,'Courier New',monospace\">Write <span style=\"color: #800080; text-decoration-color: #800080; font-weight: bold\">P</span><span style=\"font-weight: bold\">(</span>k<span style=\"font-weight: bold\">)</span> in .<span style=\"color: #800080; text-decoration-color: #800080\">/boxlen100_n128_lcdmw7v2_00000//power/</span><span style=\"color: #ff00ff; text-decoration-color: #ff00ff\">pk_eft_multigrid_ncoarse7_00076.dat</span>                           \n",
       "</pre>\n"
      ],
      "text/plain": [
       "Write \u001b[1;35mP\u001b[0m\u001b[1m(\u001b[0mk\u001b[1m)\u001b[0m in .\u001b[35m/boxlen100_n128_lcdmw7v2_00000/\u001b[0m\u001b[35m/power/\u001b[0m\u001b[95mpk_eft_multigrid_ncoarse7_00076.dat\u001b[0m                           \n"
      ]
     },
     "metadata": {},
     "output_type": "display_data"
    },
    {
     "data": {
      "text/html": [
       "<pre style=\"white-space:pre;overflow-x:auto;line-height:normal;font-family:Menlo,'DejaVu Sans Mono',consolas,'Courier New',monospace\">param<span style=\"font-weight: bold\">[</span><span style=\"color: #008000; text-decoration-color: #008000\">'nsteps'</span><span style=\"font-weight: bold\">]</span>=<span style=\"color: #008080; text-decoration-color: #008080; font-weight: bold\">76</span> param<span style=\"font-weight: bold\">[</span><span style=\"color: #008000; text-decoration-color: #008000\">'aexp'</span><span style=\"font-weight: bold\">]</span>=<span style=\"color: #008080; text-decoration-color: #008080; font-weight: bold\">0.561027484758616</span> z = <span style=\"color: #008080; text-decoration-color: #008080; font-weight: bold\">0.7824438680223544</span>                                          \n",
       "</pre>\n"
      ],
      "text/plain": [
       "param\u001b[1m[\u001b[0m\u001b[32m'nsteps'\u001b[0m\u001b[1m]\u001b[0m=\u001b[1;36m76\u001b[0m param\u001b[1m[\u001b[0m\u001b[32m'aexp'\u001b[0m\u001b[1m]\u001b[0m=\u001b[1;36m0.561027484758616\u001b[0m z = \u001b[1;36m0.7824438680223544\u001b[0m                                          \n"
      ]
     },
     "metadata": {},
     "output_type": "display_data"
    },
    {
     "data": {
      "text/html": [
       "<pre style=\"white-space:pre;overflow-x:auto;line-height:normal;font-family:Menlo,'DejaVu Sans Mono',consolas,'Courier New',monospace\">Write <span style=\"color: #800080; text-decoration-color: #800080; font-weight: bold\">P</span><span style=\"font-weight: bold\">(</span>k<span style=\"font-weight: bold\">)</span> in .<span style=\"color: #800080; text-decoration-color: #800080\">/boxlen100_n128_lcdmw7v2_00000//power/</span><span style=\"color: #ff00ff; text-decoration-color: #ff00ff\">pk_eft_multigrid_ncoarse7_00077.dat</span>                           \n",
       "</pre>\n"
      ],
      "text/plain": [
       "Write \u001b[1;35mP\u001b[0m\u001b[1m(\u001b[0mk\u001b[1m)\u001b[0m in .\u001b[35m/boxlen100_n128_lcdmw7v2_00000/\u001b[0m\u001b[35m/power/\u001b[0m\u001b[95mpk_eft_multigrid_ncoarse7_00077.dat\u001b[0m                           \n"
      ]
     },
     "metadata": {},
     "output_type": "display_data"
    },
    {
     "data": {
      "text/html": [
       "<pre style=\"white-space:pre;overflow-x:auto;line-height:normal;font-family:Menlo,'DejaVu Sans Mono',consolas,'Courier New',monospace\">param<span style=\"font-weight: bold\">[</span><span style=\"color: #008000; text-decoration-color: #008000\">'nsteps'</span><span style=\"font-weight: bold\">]</span>=<span style=\"color: #008080; text-decoration-color: #008080; font-weight: bold\">77</span> param<span style=\"font-weight: bold\">[</span><span style=\"color: #008000; text-decoration-color: #008000\">'aexp'</span><span style=\"font-weight: bold\">]</span>=<span style=\"color: #008080; text-decoration-color: #008080; font-weight: bold\">0.561027484758616</span> z = <span style=\"color: #008080; text-decoration-color: #008080; font-weight: bold\">0.7824438680223544</span>                                          \n",
       "</pre>\n"
      ],
      "text/plain": [
       "param\u001b[1m[\u001b[0m\u001b[32m'nsteps'\u001b[0m\u001b[1m]\u001b[0m=\u001b[1;36m77\u001b[0m param\u001b[1m[\u001b[0m\u001b[32m'aexp'\u001b[0m\u001b[1m]\u001b[0m=\u001b[1;36m0.561027484758616\u001b[0m z = \u001b[1;36m0.7824438680223544\u001b[0m                                          \n"
      ]
     },
     "metadata": {},
     "output_type": "display_data"
    },
    {
     "data": {
      "text/html": [
       "<pre style=\"white-space:pre;overflow-x:auto;line-height:normal;font-family:Menlo,'DejaVu Sans Mono',consolas,'Courier New',monospace\">Write <span style=\"color: #800080; text-decoration-color: #800080; font-weight: bold\">P</span><span style=\"font-weight: bold\">(</span>k<span style=\"font-weight: bold\">)</span> in .<span style=\"color: #800080; text-decoration-color: #800080\">/boxlen100_n128_lcdmw7v2_00000//power/</span><span style=\"color: #ff00ff; text-decoration-color: #ff00ff\">pk_eft_multigrid_ncoarse7_00078.dat</span>                           \n",
       "</pre>\n"
      ],
      "text/plain": [
       "Write \u001b[1;35mP\u001b[0m\u001b[1m(\u001b[0mk\u001b[1m)\u001b[0m in .\u001b[35m/boxlen100_n128_lcdmw7v2_00000/\u001b[0m\u001b[35m/power/\u001b[0m\u001b[95mpk_eft_multigrid_ncoarse7_00078.dat\u001b[0m                           \n"
      ]
     },
     "metadata": {},
     "output_type": "display_data"
    },
    {
     "data": {
      "text/html": [
       "<pre style=\"white-space:pre;overflow-x:auto;line-height:normal;font-family:Menlo,'DejaVu Sans Mono',consolas,'Courier New',monospace\">param<span style=\"font-weight: bold\">[</span><span style=\"color: #008000; text-decoration-color: #008000\">'nsteps'</span><span style=\"font-weight: bold\">]</span>=<span style=\"color: #008080; text-decoration-color: #008080; font-weight: bold\">78</span> param<span style=\"font-weight: bold\">[</span><span style=\"color: #008000; text-decoration-color: #008000\">'aexp'</span><span style=\"font-weight: bold\">]</span>=<span style=\"color: #008080; text-decoration-color: #008080; font-weight: bold\">0.561027484758616</span> z = <span style=\"color: #008080; text-decoration-color: #008080; font-weight: bold\">0.7824438680223544</span>                                          \n",
       "</pre>\n"
      ],
      "text/plain": [
       "param\u001b[1m[\u001b[0m\u001b[32m'nsteps'\u001b[0m\u001b[1m]\u001b[0m=\u001b[1;36m78\u001b[0m param\u001b[1m[\u001b[0m\u001b[32m'aexp'\u001b[0m\u001b[1m]\u001b[0m=\u001b[1;36m0.561027484758616\u001b[0m z = \u001b[1;36m0.7824438680223544\u001b[0m                                          \n"
      ]
     },
     "metadata": {},
     "output_type": "display_data"
    },
    {
     "data": {
      "text/html": [
       "<pre style=\"white-space:pre;overflow-x:auto;line-height:normal;font-family:Menlo,'DejaVu Sans Mono',consolas,'Courier New',monospace\">Write <span style=\"color: #800080; text-decoration-color: #800080; font-weight: bold\">P</span><span style=\"font-weight: bold\">(</span>k<span style=\"font-weight: bold\">)</span> in .<span style=\"color: #800080; text-decoration-color: #800080\">/boxlen100_n128_lcdmw7v2_00000//power/</span><span style=\"color: #ff00ff; text-decoration-color: #ff00ff\">pk_eft_multigrid_ncoarse7_00079.dat</span>                           \n",
       "</pre>\n"
      ],
      "text/plain": [
       "Write \u001b[1;35mP\u001b[0m\u001b[1m(\u001b[0mk\u001b[1m)\u001b[0m in .\u001b[35m/boxlen100_n128_lcdmw7v2_00000/\u001b[0m\u001b[35m/power/\u001b[0m\u001b[95mpk_eft_multigrid_ncoarse7_00079.dat\u001b[0m                           \n"
      ]
     },
     "metadata": {},
     "output_type": "display_data"
    },
    {
     "data": {
      "text/html": [
       "<pre style=\"white-space:pre;overflow-x:auto;line-height:normal;font-family:Menlo,'DejaVu Sans Mono',consolas,'Courier New',monospace\">param<span style=\"font-weight: bold\">[</span><span style=\"color: #008000; text-decoration-color: #008000\">'nsteps'</span><span style=\"font-weight: bold\">]</span>=<span style=\"color: #008080; text-decoration-color: #008080; font-weight: bold\">79</span> param<span style=\"font-weight: bold\">[</span><span style=\"color: #008000; text-decoration-color: #008000\">'aexp'</span><span style=\"font-weight: bold\">]</span>=<span style=\"color: #008080; text-decoration-color: #008080; font-weight: bold\">0.561027484758616</span> z = <span style=\"color: #008080; text-decoration-color: #008080; font-weight: bold\">0.7824438680223544</span>                                          \n",
       "</pre>\n"
      ],
      "text/plain": [
       "param\u001b[1m[\u001b[0m\u001b[32m'nsteps'\u001b[0m\u001b[1m]\u001b[0m=\u001b[1;36m79\u001b[0m param\u001b[1m[\u001b[0m\u001b[32m'aexp'\u001b[0m\u001b[1m]\u001b[0m=\u001b[1;36m0.561027484758616\u001b[0m z = \u001b[1;36m0.7824438680223544\u001b[0m                                          \n"
      ]
     },
     "metadata": {},
     "output_type": "display_data"
    },
    {
     "data": {
      "text/html": [
       "<pre style=\"white-space:pre;overflow-x:auto;line-height:normal;font-family:Menlo,'DejaVu Sans Mono',consolas,'Courier New',monospace\">Write <span style=\"color: #800080; text-decoration-color: #800080; font-weight: bold\">P</span><span style=\"font-weight: bold\">(</span>k<span style=\"font-weight: bold\">)</span> in .<span style=\"color: #800080; text-decoration-color: #800080\">/boxlen100_n128_lcdmw7v2_00000//power/</span><span style=\"color: #ff00ff; text-decoration-color: #ff00ff\">pk_eft_multigrid_ncoarse7_00080.dat</span>                           \n",
       "</pre>\n"
      ],
      "text/plain": [
       "Write \u001b[1;35mP\u001b[0m\u001b[1m(\u001b[0mk\u001b[1m)\u001b[0m in .\u001b[35m/boxlen100_n128_lcdmw7v2_00000/\u001b[0m\u001b[35m/power/\u001b[0m\u001b[95mpk_eft_multigrid_ncoarse7_00080.dat\u001b[0m                           \n"
      ]
     },
     "metadata": {},
     "output_type": "display_data"
    },
    {
     "data": {
      "text/html": [
       "<pre style=\"white-space:pre;overflow-x:auto;line-height:normal;font-family:Menlo,'DejaVu Sans Mono',consolas,'Courier New',monospace\">param<span style=\"font-weight: bold\">[</span><span style=\"color: #008000; text-decoration-color: #008000\">'nsteps'</span><span style=\"font-weight: bold\">]</span>=<span style=\"color: #008080; text-decoration-color: #008080; font-weight: bold\">80</span> param<span style=\"font-weight: bold\">[</span><span style=\"color: #008000; text-decoration-color: #008000\">'aexp'</span><span style=\"font-weight: bold\">]</span>=<span style=\"color: #008080; text-decoration-color: #008080; font-weight: bold\">0.561027484758616</span> z = <span style=\"color: #008080; text-decoration-color: #008080; font-weight: bold\">0.7824438680223544</span>                                          \n",
       "</pre>\n"
      ],
      "text/plain": [
       "param\u001b[1m[\u001b[0m\u001b[32m'nsteps'\u001b[0m\u001b[1m]\u001b[0m=\u001b[1;36m80\u001b[0m param\u001b[1m[\u001b[0m\u001b[32m'aexp'\u001b[0m\u001b[1m]\u001b[0m=\u001b[1;36m0.561027484758616\u001b[0m z = \u001b[1;36m0.7824438680223544\u001b[0m                                          \n"
      ]
     },
     "metadata": {},
     "output_type": "display_data"
    },
    {
     "data": {
      "text/html": [
       "<pre style=\"white-space:pre;overflow-x:auto;line-height:normal;font-family:Menlo,'DejaVu Sans Mono',consolas,'Courier New',monospace\">Write <span style=\"color: #800080; text-decoration-color: #800080; font-weight: bold\">P</span><span style=\"font-weight: bold\">(</span>k<span style=\"font-weight: bold\">)</span> in .<span style=\"color: #800080; text-decoration-color: #800080\">/boxlen100_n128_lcdmw7v2_00000//power/</span><span style=\"color: #ff00ff; text-decoration-color: #ff00ff\">pk_eft_multigrid_ncoarse7_00081.dat</span>                           \n",
       "</pre>\n"
      ],
      "text/plain": [
       "Write \u001b[1;35mP\u001b[0m\u001b[1m(\u001b[0mk\u001b[1m)\u001b[0m in .\u001b[35m/boxlen100_n128_lcdmw7v2_00000/\u001b[0m\u001b[35m/power/\u001b[0m\u001b[95mpk_eft_multigrid_ncoarse7_00081.dat\u001b[0m                           \n"
      ]
     },
     "metadata": {},
     "output_type": "display_data"
    },
    {
     "data": {
      "text/html": [
       "<pre style=\"white-space:pre;overflow-x:auto;line-height:normal;font-family:Menlo,'DejaVu Sans Mono',consolas,'Courier New',monospace\">param<span style=\"font-weight: bold\">[</span><span style=\"color: #008000; text-decoration-color: #008000\">'nsteps'</span><span style=\"font-weight: bold\">]</span>=<span style=\"color: #008080; text-decoration-color: #008080; font-weight: bold\">81</span> param<span style=\"font-weight: bold\">[</span><span style=\"color: #008000; text-decoration-color: #008000\">'aexp'</span><span style=\"font-weight: bold\">]</span>=<span style=\"color: #008080; text-decoration-color: #008080; font-weight: bold\">0.561027484758616</span> z = <span style=\"color: #008080; text-decoration-color: #008080; font-weight: bold\">0.7824438680223544</span>                                          \n",
       "</pre>\n"
      ],
      "text/plain": [
       "param\u001b[1m[\u001b[0m\u001b[32m'nsteps'\u001b[0m\u001b[1m]\u001b[0m=\u001b[1;36m81\u001b[0m param\u001b[1m[\u001b[0m\u001b[32m'aexp'\u001b[0m\u001b[1m]\u001b[0m=\u001b[1;36m0.561027484758616\u001b[0m z = \u001b[1;36m0.7824438680223544\u001b[0m                                          \n"
      ]
     },
     "metadata": {},
     "output_type": "display_data"
    },
    {
     "data": {
      "text/html": [
       "<pre style=\"white-space:pre;overflow-x:auto;line-height:normal;font-family:Menlo,'DejaVu Sans Mono',consolas,'Courier New',monospace\">Write <span style=\"color: #800080; text-decoration-color: #800080; font-weight: bold\">P</span><span style=\"font-weight: bold\">(</span>k<span style=\"font-weight: bold\">)</span> in .<span style=\"color: #800080; text-decoration-color: #800080\">/boxlen100_n128_lcdmw7v2_00000//power/</span><span style=\"color: #ff00ff; text-decoration-color: #ff00ff\">pk_eft_multigrid_ncoarse7_00082.dat</span>                           \n",
       "</pre>\n"
      ],
      "text/plain": [
       "Write \u001b[1;35mP\u001b[0m\u001b[1m(\u001b[0mk\u001b[1m)\u001b[0m in .\u001b[35m/boxlen100_n128_lcdmw7v2_00000/\u001b[0m\u001b[35m/power/\u001b[0m\u001b[95mpk_eft_multigrid_ncoarse7_00082.dat\u001b[0m                           \n"
      ]
     },
     "metadata": {},
     "output_type": "display_data"
    },
    {
     "data": {
      "text/html": [
       "<pre style=\"white-space:pre;overflow-x:auto;line-height:normal;font-family:Menlo,'DejaVu Sans Mono',consolas,'Courier New',monospace\">param<span style=\"font-weight: bold\">[</span><span style=\"color: #008000; text-decoration-color: #008000\">'nsteps'</span><span style=\"font-weight: bold\">]</span>=<span style=\"color: #008080; text-decoration-color: #008080; font-weight: bold\">82</span> param<span style=\"font-weight: bold\">[</span><span style=\"color: #008000; text-decoration-color: #008000\">'aexp'</span><span style=\"font-weight: bold\">]</span>=<span style=\"color: #008080; text-decoration-color: #008080; font-weight: bold\">0.561027484758616</span> z = <span style=\"color: #008080; text-decoration-color: #008080; font-weight: bold\">0.7824438680223544</span>                                          \n",
       "</pre>\n"
      ],
      "text/plain": [
       "param\u001b[1m[\u001b[0m\u001b[32m'nsteps'\u001b[0m\u001b[1m]\u001b[0m=\u001b[1;36m82\u001b[0m param\u001b[1m[\u001b[0m\u001b[32m'aexp'\u001b[0m\u001b[1m]\u001b[0m=\u001b[1;36m0.561027484758616\u001b[0m z = \u001b[1;36m0.7824438680223544\u001b[0m                                          \n"
      ]
     },
     "metadata": {},
     "output_type": "display_data"
    },
    {
     "data": {
      "text/html": [
       "<pre style=\"white-space:pre;overflow-x:auto;line-height:normal;font-family:Menlo,'DejaVu Sans Mono',consolas,'Courier New',monospace\">Write <span style=\"color: #800080; text-decoration-color: #800080; font-weight: bold\">P</span><span style=\"font-weight: bold\">(</span>k<span style=\"font-weight: bold\">)</span> in .<span style=\"color: #800080; text-decoration-color: #800080\">/boxlen100_n128_lcdmw7v2_00000//power/</span><span style=\"color: #ff00ff; text-decoration-color: #ff00ff\">pk_eft_multigrid_ncoarse7_00083.dat</span>                           \n",
       "</pre>\n"
      ],
      "text/plain": [
       "Write \u001b[1;35mP\u001b[0m\u001b[1m(\u001b[0mk\u001b[1m)\u001b[0m in .\u001b[35m/boxlen100_n128_lcdmw7v2_00000/\u001b[0m\u001b[35m/power/\u001b[0m\u001b[95mpk_eft_multigrid_ncoarse7_00083.dat\u001b[0m                           \n"
      ]
     },
     "metadata": {},
     "output_type": "display_data"
    },
    {
     "data": {
      "text/html": [
       "<pre style=\"white-space:pre;overflow-x:auto;line-height:normal;font-family:Menlo,'DejaVu Sans Mono',consolas,'Courier New',monospace\">param<span style=\"font-weight: bold\">[</span><span style=\"color: #008000; text-decoration-color: #008000\">'nsteps'</span><span style=\"font-weight: bold\">]</span>=<span style=\"color: #008080; text-decoration-color: #008080; font-weight: bold\">83</span> param<span style=\"font-weight: bold\">[</span><span style=\"color: #008000; text-decoration-color: #008000\">'aexp'</span><span style=\"font-weight: bold\">]</span>=<span style=\"color: #008080; text-decoration-color: #008080; font-weight: bold\">0.561027484758616</span> z = <span style=\"color: #008080; text-decoration-color: #008080; font-weight: bold\">0.7824438680223544</span>                                          \n",
       "</pre>\n"
      ],
      "text/plain": [
       "param\u001b[1m[\u001b[0m\u001b[32m'nsteps'\u001b[0m\u001b[1m]\u001b[0m=\u001b[1;36m83\u001b[0m param\u001b[1m[\u001b[0m\u001b[32m'aexp'\u001b[0m\u001b[1m]\u001b[0m=\u001b[1;36m0.561027484758616\u001b[0m z = \u001b[1;36m0.7824438680223544\u001b[0m                                          \n"
      ]
     },
     "metadata": {},
     "output_type": "display_data"
    },
    {
     "data": {
      "text/html": [
       "<pre style=\"white-space:pre;overflow-x:auto;line-height:normal;font-family:Menlo,'DejaVu Sans Mono',consolas,'Courier New',monospace\">Write <span style=\"color: #800080; text-decoration-color: #800080; font-weight: bold\">P</span><span style=\"font-weight: bold\">(</span>k<span style=\"font-weight: bold\">)</span> in .<span style=\"color: #800080; text-decoration-color: #800080\">/boxlen100_n128_lcdmw7v2_00000//power/</span><span style=\"color: #ff00ff; text-decoration-color: #ff00ff\">pk_eft_multigrid_ncoarse7_00084.dat</span>                           \n",
       "</pre>\n"
      ],
      "text/plain": [
       "Write \u001b[1;35mP\u001b[0m\u001b[1m(\u001b[0mk\u001b[1m)\u001b[0m in .\u001b[35m/boxlen100_n128_lcdmw7v2_00000/\u001b[0m\u001b[35m/power/\u001b[0m\u001b[95mpk_eft_multigrid_ncoarse7_00084.dat\u001b[0m                           \n"
      ]
     },
     "metadata": {},
     "output_type": "display_data"
    },
    {
     "data": {
      "text/html": [
       "<pre style=\"white-space:pre;overflow-x:auto;line-height:normal;font-family:Menlo,'DejaVu Sans Mono',consolas,'Courier New',monospace\">param<span style=\"font-weight: bold\">[</span><span style=\"color: #008000; text-decoration-color: #008000\">'nsteps'</span><span style=\"font-weight: bold\">]</span>=<span style=\"color: #008080; text-decoration-color: #008080; font-weight: bold\">84</span> param<span style=\"font-weight: bold\">[</span><span style=\"color: #008000; text-decoration-color: #008000\">'aexp'</span><span style=\"font-weight: bold\">]</span>=<span style=\"color: #008080; text-decoration-color: #008080; font-weight: bold\">0.561027484758616</span> z = <span style=\"color: #008080; text-decoration-color: #008080; font-weight: bold\">0.7824438680223544</span>                                          \n",
       "</pre>\n"
      ],
      "text/plain": [
       "param\u001b[1m[\u001b[0m\u001b[32m'nsteps'\u001b[0m\u001b[1m]\u001b[0m=\u001b[1;36m84\u001b[0m param\u001b[1m[\u001b[0m\u001b[32m'aexp'\u001b[0m\u001b[1m]\u001b[0m=\u001b[1;36m0.561027484758616\u001b[0m z = \u001b[1;36m0.7824438680223544\u001b[0m                                          \n"
      ]
     },
     "metadata": {},
     "output_type": "display_data"
    },
    {
     "data": {
      "text/html": [
       "<pre style=\"white-space:pre;overflow-x:auto;line-height:normal;font-family:Menlo,'DejaVu Sans Mono',consolas,'Courier New',monospace\">Write <span style=\"color: #800080; text-decoration-color: #800080; font-weight: bold\">P</span><span style=\"font-weight: bold\">(</span>k<span style=\"font-weight: bold\">)</span> in .<span style=\"color: #800080; text-decoration-color: #800080\">/boxlen100_n128_lcdmw7v2_00000//power/</span><span style=\"color: #ff00ff; text-decoration-color: #ff00ff\">pk_eft_multigrid_ncoarse7_00085.dat</span>                           \n",
       "</pre>\n"
      ],
      "text/plain": [
       "Write \u001b[1;35mP\u001b[0m\u001b[1m(\u001b[0mk\u001b[1m)\u001b[0m in .\u001b[35m/boxlen100_n128_lcdmw7v2_00000/\u001b[0m\u001b[35m/power/\u001b[0m\u001b[95mpk_eft_multigrid_ncoarse7_00085.dat\u001b[0m                           \n"
      ]
     },
     "metadata": {},
     "output_type": "display_data"
    },
    {
     "data": {
      "text/html": [
       "<pre style=\"white-space:pre;overflow-x:auto;line-height:normal;font-family:Menlo,'DejaVu Sans Mono',consolas,'Courier New',monospace\">param<span style=\"font-weight: bold\">[</span><span style=\"color: #008000; text-decoration-color: #008000\">'nsteps'</span><span style=\"font-weight: bold\">]</span>=<span style=\"color: #008080; text-decoration-color: #008080; font-weight: bold\">85</span> param<span style=\"font-weight: bold\">[</span><span style=\"color: #008000; text-decoration-color: #008000\">'aexp'</span><span style=\"font-weight: bold\">]</span>=<span style=\"color: #008080; text-decoration-color: #008080; font-weight: bold\">0.561027484758616</span> z = <span style=\"color: #008080; text-decoration-color: #008080; font-weight: bold\">0.7824438680223544</span>                                          \n",
       "</pre>\n"
      ],
      "text/plain": [
       "param\u001b[1m[\u001b[0m\u001b[32m'nsteps'\u001b[0m\u001b[1m]\u001b[0m=\u001b[1;36m85\u001b[0m param\u001b[1m[\u001b[0m\u001b[32m'aexp'\u001b[0m\u001b[1m]\u001b[0m=\u001b[1;36m0.561027484758616\u001b[0m z = \u001b[1;36m0.7824438680223544\u001b[0m                                          \n"
      ]
     },
     "metadata": {},
     "output_type": "display_data"
    },
    {
     "data": {
      "text/html": [
       "<pre style=\"white-space:pre;overflow-x:auto;line-height:normal;font-family:Menlo,'DejaVu Sans Mono',consolas,'Courier New',monospace\">Write <span style=\"color: #800080; text-decoration-color: #800080; font-weight: bold\">P</span><span style=\"font-weight: bold\">(</span>k<span style=\"font-weight: bold\">)</span> in .<span style=\"color: #800080; text-decoration-color: #800080\">/boxlen100_n128_lcdmw7v2_00000//power/</span><span style=\"color: #ff00ff; text-decoration-color: #ff00ff\">pk_eft_multigrid_ncoarse7_00086.dat</span>                           \n",
       "</pre>\n"
      ],
      "text/plain": [
       "Write \u001b[1;35mP\u001b[0m\u001b[1m(\u001b[0mk\u001b[1m)\u001b[0m in .\u001b[35m/boxlen100_n128_lcdmw7v2_00000/\u001b[0m\u001b[35m/power/\u001b[0m\u001b[95mpk_eft_multigrid_ncoarse7_00086.dat\u001b[0m                           \n"
      ]
     },
     "metadata": {},
     "output_type": "display_data"
    },
    {
     "data": {
      "text/html": [
       "<pre style=\"white-space:pre;overflow-x:auto;line-height:normal;font-family:Menlo,'DejaVu Sans Mono',consolas,'Courier New',monospace\">param<span style=\"font-weight: bold\">[</span><span style=\"color: #008000; text-decoration-color: #008000\">'nsteps'</span><span style=\"font-weight: bold\">]</span>=<span style=\"color: #008080; text-decoration-color: #008080; font-weight: bold\">86</span> param<span style=\"font-weight: bold\">[</span><span style=\"color: #008000; text-decoration-color: #008000\">'aexp'</span><span style=\"font-weight: bold\">]</span>=<span style=\"color: #008080; text-decoration-color: #008080; font-weight: bold\">0.561027484758616</span> z = <span style=\"color: #008080; text-decoration-color: #008080; font-weight: bold\">0.7824438680223544</span>                                          \n",
       "</pre>\n"
      ],
      "text/plain": [
       "param\u001b[1m[\u001b[0m\u001b[32m'nsteps'\u001b[0m\u001b[1m]\u001b[0m=\u001b[1;36m86\u001b[0m param\u001b[1m[\u001b[0m\u001b[32m'aexp'\u001b[0m\u001b[1m]\u001b[0m=\u001b[1;36m0.561027484758616\u001b[0m z = \u001b[1;36m0.7824438680223544\u001b[0m                                          \n"
      ]
     },
     "metadata": {},
     "output_type": "display_data"
    },
    {
     "data": {
      "text/html": [
       "<pre style=\"white-space:pre;overflow-x:auto;line-height:normal;font-family:Menlo,'DejaVu Sans Mono',consolas,'Courier New',monospace\">Write <span style=\"color: #800080; text-decoration-color: #800080; font-weight: bold\">P</span><span style=\"font-weight: bold\">(</span>k<span style=\"font-weight: bold\">)</span> in .<span style=\"color: #800080; text-decoration-color: #800080\">/boxlen100_n128_lcdmw7v2_00000//power/</span><span style=\"color: #ff00ff; text-decoration-color: #ff00ff\">pk_eft_multigrid_ncoarse7_00087.dat</span>                           \n",
       "</pre>\n"
      ],
      "text/plain": [
       "Write \u001b[1;35mP\u001b[0m\u001b[1m(\u001b[0mk\u001b[1m)\u001b[0m in .\u001b[35m/boxlen100_n128_lcdmw7v2_00000/\u001b[0m\u001b[35m/power/\u001b[0m\u001b[95mpk_eft_multigrid_ncoarse7_00087.dat\u001b[0m                           \n"
      ]
     },
     "metadata": {},
     "output_type": "display_data"
    },
    {
     "data": {
      "text/html": [
       "<pre style=\"white-space:pre;overflow-x:auto;line-height:normal;font-family:Menlo,'DejaVu Sans Mono',consolas,'Courier New',monospace\">param<span style=\"font-weight: bold\">[</span><span style=\"color: #008000; text-decoration-color: #008000\">'nsteps'</span><span style=\"font-weight: bold\">]</span>=<span style=\"color: #008080; text-decoration-color: #008080; font-weight: bold\">87</span> param<span style=\"font-weight: bold\">[</span><span style=\"color: #008000; text-decoration-color: #008000\">'aexp'</span><span style=\"font-weight: bold\">]</span>=<span style=\"color: #008080; text-decoration-color: #008080; font-weight: bold\">0.561027484758616</span> z = <span style=\"color: #008080; text-decoration-color: #008080; font-weight: bold\">0.7824438680223544</span>                                          \n",
       "</pre>\n"
      ],
      "text/plain": [
       "param\u001b[1m[\u001b[0m\u001b[32m'nsteps'\u001b[0m\u001b[1m]\u001b[0m=\u001b[1;36m87\u001b[0m param\u001b[1m[\u001b[0m\u001b[32m'aexp'\u001b[0m\u001b[1m]\u001b[0m=\u001b[1;36m0.561027484758616\u001b[0m z = \u001b[1;36m0.7824438680223544\u001b[0m                                          \n"
      ]
     },
     "metadata": {},
     "output_type": "display_data"
    },
    {
     "data": {
      "text/html": [
       "<pre style=\"white-space:pre;overflow-x:auto;line-height:normal;font-family:Menlo,'DejaVu Sans Mono',consolas,'Courier New',monospace\">Write <span style=\"color: #800080; text-decoration-color: #800080; font-weight: bold\">P</span><span style=\"font-weight: bold\">(</span>k<span style=\"font-weight: bold\">)</span> in .<span style=\"color: #800080; text-decoration-color: #800080\">/boxlen100_n128_lcdmw7v2_00000//power/</span><span style=\"color: #ff00ff; text-decoration-color: #ff00ff\">pk_eft_multigrid_ncoarse7_00088.dat</span>                           \n",
       "</pre>\n"
      ],
      "text/plain": [
       "Write \u001b[1;35mP\u001b[0m\u001b[1m(\u001b[0mk\u001b[1m)\u001b[0m in .\u001b[35m/boxlen100_n128_lcdmw7v2_00000/\u001b[0m\u001b[35m/power/\u001b[0m\u001b[95mpk_eft_multigrid_ncoarse7_00088.dat\u001b[0m                           \n"
      ]
     },
     "metadata": {},
     "output_type": "display_data"
    },
    {
     "data": {
      "text/html": [
       "<pre style=\"white-space:pre;overflow-x:auto;line-height:normal;font-family:Menlo,'DejaVu Sans Mono',consolas,'Courier New',monospace\">param<span style=\"font-weight: bold\">[</span><span style=\"color: #008000; text-decoration-color: #008000\">'nsteps'</span><span style=\"font-weight: bold\">]</span>=<span style=\"color: #008080; text-decoration-color: #008080; font-weight: bold\">88</span> param<span style=\"font-weight: bold\">[</span><span style=\"color: #008000; text-decoration-color: #008000\">'aexp'</span><span style=\"font-weight: bold\">]</span>=<span style=\"color: #008080; text-decoration-color: #008080; font-weight: bold\">0.561027484758616</span> z = <span style=\"color: #008080; text-decoration-color: #008080; font-weight: bold\">0.7824438680223544</span>                                          \n",
       "</pre>\n"
      ],
      "text/plain": [
       "param\u001b[1m[\u001b[0m\u001b[32m'nsteps'\u001b[0m\u001b[1m]\u001b[0m=\u001b[1;36m88\u001b[0m param\u001b[1m[\u001b[0m\u001b[32m'aexp'\u001b[0m\u001b[1m]\u001b[0m=\u001b[1;36m0.561027484758616\u001b[0m z = \u001b[1;36m0.7824438680223544\u001b[0m                                          \n"
      ]
     },
     "metadata": {},
     "output_type": "display_data"
    },
    {
     "data": {
      "text/html": [
       "<pre style=\"white-space:pre;overflow-x:auto;line-height:normal;font-family:Menlo,'DejaVu Sans Mono',consolas,'Courier New',monospace\">Write <span style=\"color: #800080; text-decoration-color: #800080; font-weight: bold\">P</span><span style=\"font-weight: bold\">(</span>k<span style=\"font-weight: bold\">)</span> in .<span style=\"color: #800080; text-decoration-color: #800080\">/boxlen100_n128_lcdmw7v2_00000//power/</span><span style=\"color: #ff00ff; text-decoration-color: #ff00ff\">pk_eft_multigrid_ncoarse7_00089.dat</span>                           \n",
       "</pre>\n"
      ],
      "text/plain": [
       "Write \u001b[1;35mP\u001b[0m\u001b[1m(\u001b[0mk\u001b[1m)\u001b[0m in .\u001b[35m/boxlen100_n128_lcdmw7v2_00000/\u001b[0m\u001b[35m/power/\u001b[0m\u001b[95mpk_eft_multigrid_ncoarse7_00089.dat\u001b[0m                           \n"
      ]
     },
     "metadata": {},
     "output_type": "display_data"
    },
    {
     "data": {
      "text/html": [
       "<pre style=\"white-space:pre;overflow-x:auto;line-height:normal;font-family:Menlo,'DejaVu Sans Mono',consolas,'Courier New',monospace\">param<span style=\"font-weight: bold\">[</span><span style=\"color: #008000; text-decoration-color: #008000\">'nsteps'</span><span style=\"font-weight: bold\">]</span>=<span style=\"color: #008080; text-decoration-color: #008080; font-weight: bold\">89</span> param<span style=\"font-weight: bold\">[</span><span style=\"color: #008000; text-decoration-color: #008000\">'aexp'</span><span style=\"font-weight: bold\">]</span>=<span style=\"color: #008080; text-decoration-color: #008080; font-weight: bold\">0.561027484758616</span> z = <span style=\"color: #008080; text-decoration-color: #008080; font-weight: bold\">0.7824438680223544</span>                                          \n",
       "</pre>\n"
      ],
      "text/plain": [
       "param\u001b[1m[\u001b[0m\u001b[32m'nsteps'\u001b[0m\u001b[1m]\u001b[0m=\u001b[1;36m89\u001b[0m param\u001b[1m[\u001b[0m\u001b[32m'aexp'\u001b[0m\u001b[1m]\u001b[0m=\u001b[1;36m0.561027484758616\u001b[0m z = \u001b[1;36m0.7824438680223544\u001b[0m                                          \n"
      ]
     },
     "metadata": {},
     "output_type": "display_data"
    },
    {
     "data": {
      "text/html": [
       "<pre style=\"white-space:pre;overflow-x:auto;line-height:normal;font-family:Menlo,'DejaVu Sans Mono',consolas,'Courier New',monospace\">Write <span style=\"color: #800080; text-decoration-color: #800080; font-weight: bold\">P</span><span style=\"font-weight: bold\">(</span>k<span style=\"font-weight: bold\">)</span> in .<span style=\"color: #800080; text-decoration-color: #800080\">/boxlen100_n128_lcdmw7v2_00000//power/</span><span style=\"color: #ff00ff; text-decoration-color: #ff00ff\">pk_eft_multigrid_ncoarse7_00090.dat</span>                           \n",
       "</pre>\n"
      ],
      "text/plain": [
       "Write \u001b[1;35mP\u001b[0m\u001b[1m(\u001b[0mk\u001b[1m)\u001b[0m in .\u001b[35m/boxlen100_n128_lcdmw7v2_00000/\u001b[0m\u001b[35m/power/\u001b[0m\u001b[95mpk_eft_multigrid_ncoarse7_00090.dat\u001b[0m                           \n"
      ]
     },
     "metadata": {},
     "output_type": "display_data"
    },
    {
     "data": {
      "text/html": [
       "<pre style=\"white-space:pre;overflow-x:auto;line-height:normal;font-family:Menlo,'DejaVu Sans Mono',consolas,'Courier New',monospace\">param<span style=\"font-weight: bold\">[</span><span style=\"color: #008000; text-decoration-color: #008000\">'nsteps'</span><span style=\"font-weight: bold\">]</span>=<span style=\"color: #008080; text-decoration-color: #008080; font-weight: bold\">90</span> param<span style=\"font-weight: bold\">[</span><span style=\"color: #008000; text-decoration-color: #008000\">'aexp'</span><span style=\"font-weight: bold\">]</span>=<span style=\"color: #008080; text-decoration-color: #008080; font-weight: bold\">0.561027484758616</span> z = <span style=\"color: #008080; text-decoration-color: #008080; font-weight: bold\">0.7824438680223544</span>                                          \n",
       "</pre>\n"
      ],
      "text/plain": [
       "param\u001b[1m[\u001b[0m\u001b[32m'nsteps'\u001b[0m\u001b[1m]\u001b[0m=\u001b[1;36m90\u001b[0m param\u001b[1m[\u001b[0m\u001b[32m'aexp'\u001b[0m\u001b[1m]\u001b[0m=\u001b[1;36m0.561027484758616\u001b[0m z = \u001b[1;36m0.7824438680223544\u001b[0m                                          \n"
      ]
     },
     "metadata": {},
     "output_type": "display_data"
    },
    {
     "data": {
      "text/html": [
       "<pre style=\"white-space:pre;overflow-x:auto;line-height:normal;font-family:Menlo,'DejaVu Sans Mono',consolas,'Courier New',monospace\">Write <span style=\"color: #800080; text-decoration-color: #800080; font-weight: bold\">P</span><span style=\"font-weight: bold\">(</span>k<span style=\"font-weight: bold\">)</span> in .<span style=\"color: #800080; text-decoration-color: #800080\">/boxlen100_n128_lcdmw7v2_00000//power/</span><span style=\"color: #ff00ff; text-decoration-color: #ff00ff\">pk_eft_multigrid_ncoarse7_00091.dat</span>                           \n",
       "</pre>\n"
      ],
      "text/plain": [
       "Write \u001b[1;35mP\u001b[0m\u001b[1m(\u001b[0mk\u001b[1m)\u001b[0m in .\u001b[35m/boxlen100_n128_lcdmw7v2_00000/\u001b[0m\u001b[35m/power/\u001b[0m\u001b[95mpk_eft_multigrid_ncoarse7_00091.dat\u001b[0m                           \n"
      ]
     },
     "metadata": {},
     "output_type": "display_data"
    },
    {
     "data": {
      "text/html": [
       "<pre style=\"white-space:pre;overflow-x:auto;line-height:normal;font-family:Menlo,'DejaVu Sans Mono',consolas,'Courier New',monospace\">param<span style=\"font-weight: bold\">[</span><span style=\"color: #008000; text-decoration-color: #008000\">'nsteps'</span><span style=\"font-weight: bold\">]</span>=<span style=\"color: #008080; text-decoration-color: #008080; font-weight: bold\">91</span> param<span style=\"font-weight: bold\">[</span><span style=\"color: #008000; text-decoration-color: #008000\">'aexp'</span><span style=\"font-weight: bold\">]</span>=<span style=\"color: #008080; text-decoration-color: #008080; font-weight: bold\">0.561027484758616</span> z = <span style=\"color: #008080; text-decoration-color: #008080; font-weight: bold\">0.7824438680223544</span>                                          \n",
       "</pre>\n"
      ],
      "text/plain": [
       "param\u001b[1m[\u001b[0m\u001b[32m'nsteps'\u001b[0m\u001b[1m]\u001b[0m=\u001b[1;36m91\u001b[0m param\u001b[1m[\u001b[0m\u001b[32m'aexp'\u001b[0m\u001b[1m]\u001b[0m=\u001b[1;36m0.561027484758616\u001b[0m z = \u001b[1;36m0.7824438680223544\u001b[0m                                          \n"
      ]
     },
     "metadata": {},
     "output_type": "display_data"
    },
    {
     "data": {
      "text/html": [
       "<pre style=\"white-space:pre;overflow-x:auto;line-height:normal;font-family:Menlo,'DejaVu Sans Mono',consolas,'Courier New',monospace\">Write <span style=\"color: #800080; text-decoration-color: #800080; font-weight: bold\">P</span><span style=\"font-weight: bold\">(</span>k<span style=\"font-weight: bold\">)</span> in .<span style=\"color: #800080; text-decoration-color: #800080\">/boxlen100_n128_lcdmw7v2_00000//power/</span><span style=\"color: #ff00ff; text-decoration-color: #ff00ff\">pk_eft_multigrid_ncoarse7_00092.dat</span>                           \n",
       "</pre>\n"
      ],
      "text/plain": [
       "Write \u001b[1;35mP\u001b[0m\u001b[1m(\u001b[0mk\u001b[1m)\u001b[0m in .\u001b[35m/boxlen100_n128_lcdmw7v2_00000/\u001b[0m\u001b[35m/power/\u001b[0m\u001b[95mpk_eft_multigrid_ncoarse7_00092.dat\u001b[0m                           \n"
      ]
     },
     "metadata": {},
     "output_type": "display_data"
    },
    {
     "data": {
      "text/html": [
       "<pre style=\"white-space:pre;overflow-x:auto;line-height:normal;font-family:Menlo,'DejaVu Sans Mono',consolas,'Courier New',monospace\">param<span style=\"font-weight: bold\">[</span><span style=\"color: #008000; text-decoration-color: #008000\">'nsteps'</span><span style=\"font-weight: bold\">]</span>=<span style=\"color: #008080; text-decoration-color: #008080; font-weight: bold\">92</span> param<span style=\"font-weight: bold\">[</span><span style=\"color: #008000; text-decoration-color: #008000\">'aexp'</span><span style=\"font-weight: bold\">]</span>=<span style=\"color: #008080; text-decoration-color: #008080; font-weight: bold\">0.561027484758616</span> z = <span style=\"color: #008080; text-decoration-color: #008080; font-weight: bold\">0.7824438680223544</span>                                          \n",
       "</pre>\n"
      ],
      "text/plain": [
       "param\u001b[1m[\u001b[0m\u001b[32m'nsteps'\u001b[0m\u001b[1m]\u001b[0m=\u001b[1;36m92\u001b[0m param\u001b[1m[\u001b[0m\u001b[32m'aexp'\u001b[0m\u001b[1m]\u001b[0m=\u001b[1;36m0.561027484758616\u001b[0m z = \u001b[1;36m0.7824438680223544\u001b[0m                                          \n"
      ]
     },
     "metadata": {},
     "output_type": "display_data"
    },
    {
     "data": {
      "text/html": [
       "<pre style=\"white-space:pre;overflow-x:auto;line-height:normal;font-family:Menlo,'DejaVu Sans Mono',consolas,'Courier New',monospace\">Write <span style=\"color: #800080; text-decoration-color: #800080; font-weight: bold\">P</span><span style=\"font-weight: bold\">(</span>k<span style=\"font-weight: bold\">)</span> in .<span style=\"color: #800080; text-decoration-color: #800080\">/boxlen100_n128_lcdmw7v2_00000//power/</span><span style=\"color: #ff00ff; text-decoration-color: #ff00ff\">pk_eft_multigrid_ncoarse7_00093.dat</span>                           \n",
       "</pre>\n"
      ],
      "text/plain": [
       "Write \u001b[1;35mP\u001b[0m\u001b[1m(\u001b[0mk\u001b[1m)\u001b[0m in .\u001b[35m/boxlen100_n128_lcdmw7v2_00000/\u001b[0m\u001b[35m/power/\u001b[0m\u001b[95mpk_eft_multigrid_ncoarse7_00093.dat\u001b[0m                           \n"
      ]
     },
     "metadata": {},
     "output_type": "display_data"
    },
    {
     "data": {
      "text/html": [
       "<pre style=\"white-space:pre;overflow-x:auto;line-height:normal;font-family:Menlo,'DejaVu Sans Mono',consolas,'Courier New',monospace\">param<span style=\"font-weight: bold\">[</span><span style=\"color: #008000; text-decoration-color: #008000\">'nsteps'</span><span style=\"font-weight: bold\">]</span>=<span style=\"color: #008080; text-decoration-color: #008080; font-weight: bold\">93</span> param<span style=\"font-weight: bold\">[</span><span style=\"color: #008000; text-decoration-color: #008000\">'aexp'</span><span style=\"font-weight: bold\">]</span>=<span style=\"color: #008080; text-decoration-color: #008080; font-weight: bold\">0.561027484758616</span> z = <span style=\"color: #008080; text-decoration-color: #008080; font-weight: bold\">0.7824438680223544</span>                                          \n",
       "</pre>\n"
      ],
      "text/plain": [
       "param\u001b[1m[\u001b[0m\u001b[32m'nsteps'\u001b[0m\u001b[1m]\u001b[0m=\u001b[1;36m93\u001b[0m param\u001b[1m[\u001b[0m\u001b[32m'aexp'\u001b[0m\u001b[1m]\u001b[0m=\u001b[1;36m0.561027484758616\u001b[0m z = \u001b[1;36m0.7824438680223544\u001b[0m                                          \n"
      ]
     },
     "metadata": {},
     "output_type": "display_data"
    },
    {
     "data": {
      "text/html": [
       "<pre style=\"white-space:pre;overflow-x:auto;line-height:normal;font-family:Menlo,'DejaVu Sans Mono',consolas,'Courier New',monospace\">Write <span style=\"color: #800080; text-decoration-color: #800080; font-weight: bold\">P</span><span style=\"font-weight: bold\">(</span>k<span style=\"font-weight: bold\">)</span> in .<span style=\"color: #800080; text-decoration-color: #800080\">/boxlen100_n128_lcdmw7v2_00000//power/</span><span style=\"color: #ff00ff; text-decoration-color: #ff00ff\">pk_eft_multigrid_ncoarse7_00094.dat</span>                           \n",
       "</pre>\n"
      ],
      "text/plain": [
       "Write \u001b[1;35mP\u001b[0m\u001b[1m(\u001b[0mk\u001b[1m)\u001b[0m in .\u001b[35m/boxlen100_n128_lcdmw7v2_00000/\u001b[0m\u001b[35m/power/\u001b[0m\u001b[95mpk_eft_multigrid_ncoarse7_00094.dat\u001b[0m                           \n"
      ]
     },
     "metadata": {},
     "output_type": "display_data"
    },
    {
     "data": {
      "text/html": [
       "<pre style=\"white-space:pre;overflow-x:auto;line-height:normal;font-family:Menlo,'DejaVu Sans Mono',consolas,'Courier New',monospace\">param<span style=\"font-weight: bold\">[</span><span style=\"color: #008000; text-decoration-color: #008000\">'nsteps'</span><span style=\"font-weight: bold\">]</span>=<span style=\"color: #008080; text-decoration-color: #008080; font-weight: bold\">94</span> param<span style=\"font-weight: bold\">[</span><span style=\"color: #008000; text-decoration-color: #008000\">'aexp'</span><span style=\"font-weight: bold\">]</span>=<span style=\"color: #008080; text-decoration-color: #008080; font-weight: bold\">0.561027484758616</span> z = <span style=\"color: #008080; text-decoration-color: #008080; font-weight: bold\">0.7824438680223544</span>                                          \n",
       "</pre>\n"
      ],
      "text/plain": [
       "param\u001b[1m[\u001b[0m\u001b[32m'nsteps'\u001b[0m\u001b[1m]\u001b[0m=\u001b[1;36m94\u001b[0m param\u001b[1m[\u001b[0m\u001b[32m'aexp'\u001b[0m\u001b[1m]\u001b[0m=\u001b[1;36m0.561027484758616\u001b[0m z = \u001b[1;36m0.7824438680223544\u001b[0m                                          \n"
      ]
     },
     "metadata": {},
     "output_type": "display_data"
    },
    {
     "data": {
      "text/html": [
       "<pre style=\"white-space:pre;overflow-x:auto;line-height:normal;font-family:Menlo,'DejaVu Sans Mono',consolas,'Courier New',monospace\">Write <span style=\"color: #800080; text-decoration-color: #800080; font-weight: bold\">P</span><span style=\"font-weight: bold\">(</span>k<span style=\"font-weight: bold\">)</span> in .<span style=\"color: #800080; text-decoration-color: #800080\">/boxlen100_n128_lcdmw7v2_00000//power/</span><span style=\"color: #ff00ff; text-decoration-color: #ff00ff\">pk_eft_multigrid_ncoarse7_00095.dat</span>                           \n",
       "</pre>\n"
      ],
      "text/plain": [
       "Write \u001b[1;35mP\u001b[0m\u001b[1m(\u001b[0mk\u001b[1m)\u001b[0m in .\u001b[35m/boxlen100_n128_lcdmw7v2_00000/\u001b[0m\u001b[35m/power/\u001b[0m\u001b[95mpk_eft_multigrid_ncoarse7_00095.dat\u001b[0m                           \n"
      ]
     },
     "metadata": {},
     "output_type": "display_data"
    },
    {
     "data": {
      "text/html": [
       "<pre style=\"white-space:pre;overflow-x:auto;line-height:normal;font-family:Menlo,'DejaVu Sans Mono',consolas,'Courier New',monospace\">param<span style=\"font-weight: bold\">[</span><span style=\"color: #008000; text-decoration-color: #008000\">'nsteps'</span><span style=\"font-weight: bold\">]</span>=<span style=\"color: #008080; text-decoration-color: #008080; font-weight: bold\">95</span> param<span style=\"font-weight: bold\">[</span><span style=\"color: #008000; text-decoration-color: #008000\">'aexp'</span><span style=\"font-weight: bold\">]</span>=<span style=\"color: #008080; text-decoration-color: #008080; font-weight: bold\">0.561027484758616</span> z = <span style=\"color: #008080; text-decoration-color: #008080; font-weight: bold\">0.7824438680223544</span>                                          \n",
       "</pre>\n"
      ],
      "text/plain": [
       "param\u001b[1m[\u001b[0m\u001b[32m'nsteps'\u001b[0m\u001b[1m]\u001b[0m=\u001b[1;36m95\u001b[0m param\u001b[1m[\u001b[0m\u001b[32m'aexp'\u001b[0m\u001b[1m]\u001b[0m=\u001b[1;36m0.561027484758616\u001b[0m z = \u001b[1;36m0.7824438680223544\u001b[0m                                          \n"
      ]
     },
     "metadata": {},
     "output_type": "display_data"
    },
    {
     "data": {
      "text/html": [
       "<pre style=\"white-space:pre;overflow-x:auto;line-height:normal;font-family:Menlo,'DejaVu Sans Mono',consolas,'Courier New',monospace\">Write <span style=\"color: #800080; text-decoration-color: #800080; font-weight: bold\">P</span><span style=\"font-weight: bold\">(</span>k<span style=\"font-weight: bold\">)</span> in .<span style=\"color: #800080; text-decoration-color: #800080\">/boxlen100_n128_lcdmw7v2_00000//power/</span><span style=\"color: #ff00ff; text-decoration-color: #ff00ff\">pk_eft_multigrid_ncoarse7_00096.dat</span>                           \n",
       "</pre>\n"
      ],
      "text/plain": [
       "Write \u001b[1;35mP\u001b[0m\u001b[1m(\u001b[0mk\u001b[1m)\u001b[0m in .\u001b[35m/boxlen100_n128_lcdmw7v2_00000/\u001b[0m\u001b[35m/power/\u001b[0m\u001b[95mpk_eft_multigrid_ncoarse7_00096.dat\u001b[0m                           \n"
      ]
     },
     "metadata": {},
     "output_type": "display_data"
    },
    {
     "data": {
      "text/html": [
       "<pre style=\"white-space:pre;overflow-x:auto;line-height:normal;font-family:Menlo,'DejaVu Sans Mono',consolas,'Courier New',monospace\">param<span style=\"font-weight: bold\">[</span><span style=\"color: #008000; text-decoration-color: #008000\">'nsteps'</span><span style=\"font-weight: bold\">]</span>=<span style=\"color: #008080; text-decoration-color: #008080; font-weight: bold\">96</span> param<span style=\"font-weight: bold\">[</span><span style=\"color: #008000; text-decoration-color: #008000\">'aexp'</span><span style=\"font-weight: bold\">]</span>=<span style=\"color: #008080; text-decoration-color: #008080; font-weight: bold\">0.561027484758616</span> z = <span style=\"color: #008080; text-decoration-color: #008080; font-weight: bold\">0.7824438680223544</span>                                          \n",
       "</pre>\n"
      ],
      "text/plain": [
       "param\u001b[1m[\u001b[0m\u001b[32m'nsteps'\u001b[0m\u001b[1m]\u001b[0m=\u001b[1;36m96\u001b[0m param\u001b[1m[\u001b[0m\u001b[32m'aexp'\u001b[0m\u001b[1m]\u001b[0m=\u001b[1;36m0.561027484758616\u001b[0m z = \u001b[1;36m0.7824438680223544\u001b[0m                                          \n"
      ]
     },
     "metadata": {},
     "output_type": "display_data"
    },
    {
     "data": {
      "text/html": [
       "<pre style=\"white-space:pre;overflow-x:auto;line-height:normal;font-family:Menlo,'DejaVu Sans Mono',consolas,'Courier New',monospace\">Write <span style=\"color: #800080; text-decoration-color: #800080; font-weight: bold\">P</span><span style=\"font-weight: bold\">(</span>k<span style=\"font-weight: bold\">)</span> in .<span style=\"color: #800080; text-decoration-color: #800080\">/boxlen100_n128_lcdmw7v2_00000//power/</span><span style=\"color: #ff00ff; text-decoration-color: #ff00ff\">pk_eft_multigrid_ncoarse7_00097.dat</span>                           \n",
       "</pre>\n"
      ],
      "text/plain": [
       "Write \u001b[1;35mP\u001b[0m\u001b[1m(\u001b[0mk\u001b[1m)\u001b[0m in .\u001b[35m/boxlen100_n128_lcdmw7v2_00000/\u001b[0m\u001b[35m/power/\u001b[0m\u001b[95mpk_eft_multigrid_ncoarse7_00097.dat\u001b[0m                           \n"
      ]
     },
     "metadata": {},
     "output_type": "display_data"
    },
    {
     "data": {
      "text/html": [
       "<pre style=\"white-space:pre;overflow-x:auto;line-height:normal;font-family:Menlo,'DejaVu Sans Mono',consolas,'Courier New',monospace\">param<span style=\"font-weight: bold\">[</span><span style=\"color: #008000; text-decoration-color: #008000\">'nsteps'</span><span style=\"font-weight: bold\">]</span>=<span style=\"color: #008080; text-decoration-color: #008080; font-weight: bold\">97</span> param<span style=\"font-weight: bold\">[</span><span style=\"color: #008000; text-decoration-color: #008000\">'aexp'</span><span style=\"font-weight: bold\">]</span>=<span style=\"color: #008080; text-decoration-color: #008080; font-weight: bold\">0.561027484758616</span> z = <span style=\"color: #008080; text-decoration-color: #008080; font-weight: bold\">0.7824438680223544</span>                                          \n",
       "</pre>\n"
      ],
      "text/plain": [
       "param\u001b[1m[\u001b[0m\u001b[32m'nsteps'\u001b[0m\u001b[1m]\u001b[0m=\u001b[1;36m97\u001b[0m param\u001b[1m[\u001b[0m\u001b[32m'aexp'\u001b[0m\u001b[1m]\u001b[0m=\u001b[1;36m0.561027484758616\u001b[0m z = \u001b[1;36m0.7824438680223544\u001b[0m                                          \n"
      ]
     },
     "metadata": {},
     "output_type": "display_data"
    },
    {
     "data": {
      "text/html": [
       "<pre style=\"white-space:pre;overflow-x:auto;line-height:normal;font-family:Menlo,'DejaVu Sans Mono',consolas,'Courier New',monospace\">Write <span style=\"color: #800080; text-decoration-color: #800080; font-weight: bold\">P</span><span style=\"font-weight: bold\">(</span>k<span style=\"font-weight: bold\">)</span> in .<span style=\"color: #800080; text-decoration-color: #800080\">/boxlen100_n128_lcdmw7v2_00000//power/</span><span style=\"color: #ff00ff; text-decoration-color: #ff00ff\">pk_eft_multigrid_ncoarse7_00098.dat</span>                           \n",
       "</pre>\n"
      ],
      "text/plain": [
       "Write \u001b[1;35mP\u001b[0m\u001b[1m(\u001b[0mk\u001b[1m)\u001b[0m in .\u001b[35m/boxlen100_n128_lcdmw7v2_00000/\u001b[0m\u001b[35m/power/\u001b[0m\u001b[95mpk_eft_multigrid_ncoarse7_00098.dat\u001b[0m                           \n"
      ]
     },
     "metadata": {},
     "output_type": "display_data"
    },
    {
     "data": {
      "text/html": [
       "<pre style=\"white-space:pre;overflow-x:auto;line-height:normal;font-family:Menlo,'DejaVu Sans Mono',consolas,'Courier New',monospace\">param<span style=\"font-weight: bold\">[</span><span style=\"color: #008000; text-decoration-color: #008000\">'nsteps'</span><span style=\"font-weight: bold\">]</span>=<span style=\"color: #008080; text-decoration-color: #008080; font-weight: bold\">98</span> param<span style=\"font-weight: bold\">[</span><span style=\"color: #008000; text-decoration-color: #008000\">'aexp'</span><span style=\"font-weight: bold\">]</span>=<span style=\"color: #008080; text-decoration-color: #008080; font-weight: bold\">0.561027484758616</span> z = <span style=\"color: #008080; text-decoration-color: #008080; font-weight: bold\">0.7824438680223544</span>                                          \n",
       "</pre>\n"
      ],
      "text/plain": [
       "param\u001b[1m[\u001b[0m\u001b[32m'nsteps'\u001b[0m\u001b[1m]\u001b[0m=\u001b[1;36m98\u001b[0m param\u001b[1m[\u001b[0m\u001b[32m'aexp'\u001b[0m\u001b[1m]\u001b[0m=\u001b[1;36m0.561027484758616\u001b[0m z = \u001b[1;36m0.7824438680223544\u001b[0m                                          \n"
      ]
     },
     "metadata": {},
     "output_type": "display_data"
    },
    {
     "data": {
      "text/html": [
       "<pre style=\"white-space:pre;overflow-x:auto;line-height:normal;font-family:Menlo,'DejaVu Sans Mono',consolas,'Courier New',monospace\">Write <span style=\"color: #800080; text-decoration-color: #800080; font-weight: bold\">P</span><span style=\"font-weight: bold\">(</span>k<span style=\"font-weight: bold\">)</span> in .<span style=\"color: #800080; text-decoration-color: #800080\">/boxlen100_n128_lcdmw7v2_00000//power/</span><span style=\"color: #ff00ff; text-decoration-color: #ff00ff\">pk_eft_multigrid_ncoarse7_00099.dat</span>                           \n",
       "</pre>\n"
      ],
      "text/plain": [
       "Write \u001b[1;35mP\u001b[0m\u001b[1m(\u001b[0mk\u001b[1m)\u001b[0m in .\u001b[35m/boxlen100_n128_lcdmw7v2_00000/\u001b[0m\u001b[35m/power/\u001b[0m\u001b[95mpk_eft_multigrid_ncoarse7_00099.dat\u001b[0m                           \n"
      ]
     },
     "metadata": {},
     "output_type": "display_data"
    },
    {
     "data": {
      "text/html": [
       "<pre style=\"white-space:pre;overflow-x:auto;line-height:normal;font-family:Menlo,'DejaVu Sans Mono',consolas,'Courier New',monospace\">param<span style=\"font-weight: bold\">[</span><span style=\"color: #008000; text-decoration-color: #008000\">'nsteps'</span><span style=\"font-weight: bold\">]</span>=<span style=\"color: #008080; text-decoration-color: #008080; font-weight: bold\">99</span> param<span style=\"font-weight: bold\">[</span><span style=\"color: #008000; text-decoration-color: #008000\">'aexp'</span><span style=\"font-weight: bold\">]</span>=<span style=\"color: #008080; text-decoration-color: #008080; font-weight: bold\">0.561027484758616</span> z = <span style=\"color: #008080; text-decoration-color: #008080; font-weight: bold\">0.7824438680223544</span>                                          \n",
       "</pre>\n"
      ],
      "text/plain": [
       "param\u001b[1m[\u001b[0m\u001b[32m'nsteps'\u001b[0m\u001b[1m]\u001b[0m=\u001b[1;36m99\u001b[0m param\u001b[1m[\u001b[0m\u001b[32m'aexp'\u001b[0m\u001b[1m]\u001b[0m=\u001b[1;36m0.561027484758616\u001b[0m z = \u001b[1;36m0.7824438680223544\u001b[0m                                          \n"
      ]
     },
     "metadata": {},
     "output_type": "display_data"
    },
    {
     "data": {
      "text/html": [
       "<pre style=\"white-space:pre;overflow-x:auto;line-height:normal;font-family:Menlo,'DejaVu Sans Mono',consolas,'Courier New',monospace\">Write <span style=\"color: #800080; text-decoration-color: #800080; font-weight: bold\">P</span><span style=\"font-weight: bold\">(</span>k<span style=\"font-weight: bold\">)</span> in .<span style=\"color: #800080; text-decoration-color: #800080\">/boxlen100_n128_lcdmw7v2_00000//power/</span><span style=\"color: #ff00ff; text-decoration-color: #ff00ff\">pk_eft_multigrid_ncoarse7_00100.dat</span>                           \n",
       "</pre>\n"
      ],
      "text/plain": [
       "Write \u001b[1;35mP\u001b[0m\u001b[1m(\u001b[0mk\u001b[1m)\u001b[0m in .\u001b[35m/boxlen100_n128_lcdmw7v2_00000/\u001b[0m\u001b[35m/power/\u001b[0m\u001b[95mpk_eft_multigrid_ncoarse7_00100.dat\u001b[0m                           \n"
      ]
     },
     "metadata": {},
     "output_type": "display_data"
    },
    {
     "data": {
      "text/html": [
       "<pre style=\"white-space:pre;overflow-x:auto;line-height:normal;font-family:Menlo,'DejaVu Sans Mono',consolas,'Courier New',monospace\">param<span style=\"font-weight: bold\">[</span><span style=\"color: #008000; text-decoration-color: #008000\">'nsteps'</span><span style=\"font-weight: bold\">]</span>=<span style=\"color: #008080; text-decoration-color: #008080; font-weight: bold\">100</span> param<span style=\"font-weight: bold\">[</span><span style=\"color: #008000; text-decoration-color: #008000\">'aexp'</span><span style=\"font-weight: bold\">]</span>=<span style=\"color: #008080; text-decoration-color: #008080; font-weight: bold\">0.561027484758616</span> z = <span style=\"color: #008080; text-decoration-color: #008080; font-weight: bold\">0.7824438680223544</span>                                         \n",
       "</pre>\n"
      ],
      "text/plain": [
       "param\u001b[1m[\u001b[0m\u001b[32m'nsteps'\u001b[0m\u001b[1m]\u001b[0m=\u001b[1;36m100\u001b[0m param\u001b[1m[\u001b[0m\u001b[32m'aexp'\u001b[0m\u001b[1m]\u001b[0m=\u001b[1;36m0.561027484758616\u001b[0m z = \u001b[1;36m0.7824438680223544\u001b[0m                                         \n"
      ]
     },
     "metadata": {},
     "output_type": "display_data"
    },
    {
     "data": {
      "text/html": [
       "<pre style=\"white-space:pre;overflow-x:auto;line-height:normal;font-family:Menlo,'DejaVu Sans Mono',consolas,'Courier New',monospace\">Write <span style=\"color: #800080; text-decoration-color: #800080; font-weight: bold\">P</span><span style=\"font-weight: bold\">(</span>k<span style=\"font-weight: bold\">)</span> in .<span style=\"color: #800080; text-decoration-color: #800080\">/boxlen100_n128_lcdmw7v2_00000//power/</span><span style=\"color: #ff00ff; text-decoration-color: #ff00ff\">pk_eft_multigrid_ncoarse7_00101.dat</span>                           \n",
       "</pre>\n"
      ],
      "text/plain": [
       "Write \u001b[1;35mP\u001b[0m\u001b[1m(\u001b[0mk\u001b[1m)\u001b[0m in .\u001b[35m/boxlen100_n128_lcdmw7v2_00000/\u001b[0m\u001b[35m/power/\u001b[0m\u001b[95mpk_eft_multigrid_ncoarse7_00101.dat\u001b[0m                           \n"
      ]
     },
     "metadata": {},
     "output_type": "display_data"
    },
    {
     "data": {
      "text/html": [
       "<pre style=\"white-space:pre;overflow-x:auto;line-height:normal;font-family:Menlo,'DejaVu Sans Mono',consolas,'Courier New',monospace\">param<span style=\"font-weight: bold\">[</span><span style=\"color: #008000; text-decoration-color: #008000\">'nsteps'</span><span style=\"font-weight: bold\">]</span>=<span style=\"color: #008080; text-decoration-color: #008080; font-weight: bold\">101</span> param<span style=\"font-weight: bold\">[</span><span style=\"color: #008000; text-decoration-color: #008000\">'aexp'</span><span style=\"font-weight: bold\">]</span>=<span style=\"color: #008080; text-decoration-color: #008080; font-weight: bold\">0.561027484758616</span> z = <span style=\"color: #008080; text-decoration-color: #008080; font-weight: bold\">0.7824438680223544</span>                                         \n",
       "</pre>\n"
      ],
      "text/plain": [
       "param\u001b[1m[\u001b[0m\u001b[32m'nsteps'\u001b[0m\u001b[1m]\u001b[0m=\u001b[1;36m101\u001b[0m param\u001b[1m[\u001b[0m\u001b[32m'aexp'\u001b[0m\u001b[1m]\u001b[0m=\u001b[1;36m0.561027484758616\u001b[0m z = \u001b[1;36m0.7824438680223544\u001b[0m                                         \n"
      ]
     },
     "metadata": {},
     "output_type": "display_data"
    },
    {
     "data": {
      "text/html": [
       "<pre style=\"white-space:pre;overflow-x:auto;line-height:normal;font-family:Menlo,'DejaVu Sans Mono',consolas,'Courier New',monospace\">Write <span style=\"color: #800080; text-decoration-color: #800080; font-weight: bold\">P</span><span style=\"font-weight: bold\">(</span>k<span style=\"font-weight: bold\">)</span> in .<span style=\"color: #800080; text-decoration-color: #800080\">/boxlen100_n128_lcdmw7v2_00000//power/</span><span style=\"color: #ff00ff; text-decoration-color: #ff00ff\">pk_eft_multigrid_ncoarse7_00102.dat</span>                           \n",
       "</pre>\n"
      ],
      "text/plain": [
       "Write \u001b[1;35mP\u001b[0m\u001b[1m(\u001b[0mk\u001b[1m)\u001b[0m in .\u001b[35m/boxlen100_n128_lcdmw7v2_00000/\u001b[0m\u001b[35m/power/\u001b[0m\u001b[95mpk_eft_multigrid_ncoarse7_00102.dat\u001b[0m                           \n"
      ]
     },
     "metadata": {},
     "output_type": "display_data"
    },
    {
     "data": {
      "text/html": [
       "<pre style=\"white-space:pre;overflow-x:auto;line-height:normal;font-family:Menlo,'DejaVu Sans Mono',consolas,'Courier New',monospace\">param<span style=\"font-weight: bold\">[</span><span style=\"color: #008000; text-decoration-color: #008000\">'nsteps'</span><span style=\"font-weight: bold\">]</span>=<span style=\"color: #008080; text-decoration-color: #008080; font-weight: bold\">102</span> param<span style=\"font-weight: bold\">[</span><span style=\"color: #008000; text-decoration-color: #008000\">'aexp'</span><span style=\"font-weight: bold\">]</span>=<span style=\"color: #008080; text-decoration-color: #008080; font-weight: bold\">0.561027484758616</span> z = <span style=\"color: #008080; text-decoration-color: #008080; font-weight: bold\">0.7824438680223544</span>                                         \n",
       "</pre>\n"
      ],
      "text/plain": [
       "param\u001b[1m[\u001b[0m\u001b[32m'nsteps'\u001b[0m\u001b[1m]\u001b[0m=\u001b[1;36m102\u001b[0m param\u001b[1m[\u001b[0m\u001b[32m'aexp'\u001b[0m\u001b[1m]\u001b[0m=\u001b[1;36m0.561027484758616\u001b[0m z = \u001b[1;36m0.7824438680223544\u001b[0m                                         \n"
      ]
     },
     "metadata": {},
     "output_type": "display_data"
    },
    {
     "data": {
      "text/html": [
       "<pre style=\"white-space:pre;overflow-x:auto;line-height:normal;font-family:Menlo,'DejaVu Sans Mono',consolas,'Courier New',monospace\">Write <span style=\"color: #800080; text-decoration-color: #800080; font-weight: bold\">P</span><span style=\"font-weight: bold\">(</span>k<span style=\"font-weight: bold\">)</span> in .<span style=\"color: #800080; text-decoration-color: #800080\">/boxlen100_n128_lcdmw7v2_00000//power/</span><span style=\"color: #ff00ff; text-decoration-color: #ff00ff\">pk_eft_multigrid_ncoarse7_00103.dat</span>                           \n",
       "</pre>\n"
      ],
      "text/plain": [
       "Write \u001b[1;35mP\u001b[0m\u001b[1m(\u001b[0mk\u001b[1m)\u001b[0m in .\u001b[35m/boxlen100_n128_lcdmw7v2_00000/\u001b[0m\u001b[35m/power/\u001b[0m\u001b[95mpk_eft_multigrid_ncoarse7_00103.dat\u001b[0m                           \n"
      ]
     },
     "metadata": {},
     "output_type": "display_data"
    },
    {
     "data": {
      "text/html": [
       "<pre style=\"white-space:pre;overflow-x:auto;line-height:normal;font-family:Menlo,'DejaVu Sans Mono',consolas,'Courier New',monospace\">param<span style=\"font-weight: bold\">[</span><span style=\"color: #008000; text-decoration-color: #008000\">'nsteps'</span><span style=\"font-weight: bold\">]</span>=<span style=\"color: #008080; text-decoration-color: #008080; font-weight: bold\">103</span> param<span style=\"font-weight: bold\">[</span><span style=\"color: #008000; text-decoration-color: #008000\">'aexp'</span><span style=\"font-weight: bold\">]</span>=<span style=\"color: #008080; text-decoration-color: #008080; font-weight: bold\">0.561027484758616</span> z = <span style=\"color: #008080; text-decoration-color: #008080; font-weight: bold\">0.7824438680223544</span>                                         \n",
       "</pre>\n"
      ],
      "text/plain": [
       "param\u001b[1m[\u001b[0m\u001b[32m'nsteps'\u001b[0m\u001b[1m]\u001b[0m=\u001b[1;36m103\u001b[0m param\u001b[1m[\u001b[0m\u001b[32m'aexp'\u001b[0m\u001b[1m]\u001b[0m=\u001b[1;36m0.561027484758616\u001b[0m z = \u001b[1;36m0.7824438680223544\u001b[0m                                         \n"
      ]
     },
     "metadata": {},
     "output_type": "display_data"
    },
    {
     "data": {
      "text/html": [
       "<pre style=\"white-space:pre;overflow-x:auto;line-height:normal;font-family:Menlo,'DejaVu Sans Mono',consolas,'Courier New',monospace\">Write <span style=\"color: #800080; text-decoration-color: #800080; font-weight: bold\">P</span><span style=\"font-weight: bold\">(</span>k<span style=\"font-weight: bold\">)</span> in .<span style=\"color: #800080; text-decoration-color: #800080\">/boxlen100_n128_lcdmw7v2_00000//power/</span><span style=\"color: #ff00ff; text-decoration-color: #ff00ff\">pk_eft_multigrid_ncoarse7_00104.dat</span>                           \n",
       "</pre>\n"
      ],
      "text/plain": [
       "Write \u001b[1;35mP\u001b[0m\u001b[1m(\u001b[0mk\u001b[1m)\u001b[0m in .\u001b[35m/boxlen100_n128_lcdmw7v2_00000/\u001b[0m\u001b[35m/power/\u001b[0m\u001b[95mpk_eft_multigrid_ncoarse7_00104.dat\u001b[0m                           \n"
      ]
     },
     "metadata": {},
     "output_type": "display_data"
    },
    {
     "data": {
      "text/html": [
       "<pre style=\"white-space:pre;overflow-x:auto;line-height:normal;font-family:Menlo,'DejaVu Sans Mono',consolas,'Courier New',monospace\">param<span style=\"font-weight: bold\">[</span><span style=\"color: #008000; text-decoration-color: #008000\">'nsteps'</span><span style=\"font-weight: bold\">]</span>=<span style=\"color: #008080; text-decoration-color: #008080; font-weight: bold\">104</span> param<span style=\"font-weight: bold\">[</span><span style=\"color: #008000; text-decoration-color: #008000\">'aexp'</span><span style=\"font-weight: bold\">]</span>=<span style=\"color: #008080; text-decoration-color: #008080; font-weight: bold\">0.561027484758616</span> z = <span style=\"color: #008080; text-decoration-color: #008080; font-weight: bold\">0.7824438680223544</span>                                         \n",
       "</pre>\n"
      ],
      "text/plain": [
       "param\u001b[1m[\u001b[0m\u001b[32m'nsteps'\u001b[0m\u001b[1m]\u001b[0m=\u001b[1;36m104\u001b[0m param\u001b[1m[\u001b[0m\u001b[32m'aexp'\u001b[0m\u001b[1m]\u001b[0m=\u001b[1;36m0.561027484758616\u001b[0m z = \u001b[1;36m0.7824438680223544\u001b[0m                                         \n"
      ]
     },
     "metadata": {},
     "output_type": "display_data"
    },
    {
     "data": {
      "text/html": [
       "<pre style=\"white-space:pre;overflow-x:auto;line-height:normal;font-family:Menlo,'DejaVu Sans Mono',consolas,'Courier New',monospace\">Write <span style=\"color: #800080; text-decoration-color: #800080; font-weight: bold\">P</span><span style=\"font-weight: bold\">(</span>k<span style=\"font-weight: bold\">)</span> in .<span style=\"color: #800080; text-decoration-color: #800080\">/boxlen100_n128_lcdmw7v2_00000//power/</span><span style=\"color: #ff00ff; text-decoration-color: #ff00ff\">pk_eft_multigrid_ncoarse7_00105.dat</span>                           \n",
       "</pre>\n"
      ],
      "text/plain": [
       "Write \u001b[1;35mP\u001b[0m\u001b[1m(\u001b[0mk\u001b[1m)\u001b[0m in .\u001b[35m/boxlen100_n128_lcdmw7v2_00000/\u001b[0m\u001b[35m/power/\u001b[0m\u001b[95mpk_eft_multigrid_ncoarse7_00105.dat\u001b[0m                           \n"
      ]
     },
     "metadata": {},
     "output_type": "display_data"
    },
    {
     "data": {
      "text/html": [
       "<pre style=\"white-space:pre;overflow-x:auto;line-height:normal;font-family:Menlo,'DejaVu Sans Mono',consolas,'Courier New',monospace\">param<span style=\"font-weight: bold\">[</span><span style=\"color: #008000; text-decoration-color: #008000\">'nsteps'</span><span style=\"font-weight: bold\">]</span>=<span style=\"color: #008080; text-decoration-color: #008080; font-weight: bold\">105</span> param<span style=\"font-weight: bold\">[</span><span style=\"color: #008000; text-decoration-color: #008000\">'aexp'</span><span style=\"font-weight: bold\">]</span>=<span style=\"color: #008080; text-decoration-color: #008080; font-weight: bold\">0.561027484758616</span> z = <span style=\"color: #008080; text-decoration-color: #008080; font-weight: bold\">0.7824438680223544</span>                                         \n",
       "</pre>\n"
      ],
      "text/plain": [
       "param\u001b[1m[\u001b[0m\u001b[32m'nsteps'\u001b[0m\u001b[1m]\u001b[0m=\u001b[1;36m105\u001b[0m param\u001b[1m[\u001b[0m\u001b[32m'aexp'\u001b[0m\u001b[1m]\u001b[0m=\u001b[1;36m0.561027484758616\u001b[0m z = \u001b[1;36m0.7824438680223544\u001b[0m                                         \n"
      ]
     },
     "metadata": {},
     "output_type": "display_data"
    },
    {
     "data": {
      "text/html": [
       "<pre style=\"white-space:pre;overflow-x:auto;line-height:normal;font-family:Menlo,'DejaVu Sans Mono',consolas,'Courier New',monospace\">Write <span style=\"color: #800080; text-decoration-color: #800080; font-weight: bold\">P</span><span style=\"font-weight: bold\">(</span>k<span style=\"font-weight: bold\">)</span> in .<span style=\"color: #800080; text-decoration-color: #800080\">/boxlen100_n128_lcdmw7v2_00000//power/</span><span style=\"color: #ff00ff; text-decoration-color: #ff00ff\">pk_eft_multigrid_ncoarse7_00106.dat</span>                           \n",
       "</pre>\n"
      ],
      "text/plain": [
       "Write \u001b[1;35mP\u001b[0m\u001b[1m(\u001b[0mk\u001b[1m)\u001b[0m in .\u001b[35m/boxlen100_n128_lcdmw7v2_00000/\u001b[0m\u001b[35m/power/\u001b[0m\u001b[95mpk_eft_multigrid_ncoarse7_00106.dat\u001b[0m                           \n"
      ]
     },
     "metadata": {},
     "output_type": "display_data"
    },
    {
     "data": {
      "text/html": [
       "<pre style=\"white-space:pre;overflow-x:auto;line-height:normal;font-family:Menlo,'DejaVu Sans Mono',consolas,'Courier New',monospace\">param<span style=\"font-weight: bold\">[</span><span style=\"color: #008000; text-decoration-color: #008000\">'nsteps'</span><span style=\"font-weight: bold\">]</span>=<span style=\"color: #008080; text-decoration-color: #008080; font-weight: bold\">106</span> param<span style=\"font-weight: bold\">[</span><span style=\"color: #008000; text-decoration-color: #008000\">'aexp'</span><span style=\"font-weight: bold\">]</span>=<span style=\"color: #008080; text-decoration-color: #008080; font-weight: bold\">0.561027484758616</span> z = <span style=\"color: #008080; text-decoration-color: #008080; font-weight: bold\">0.7824438680223544</span>                                         \n",
       "</pre>\n"
      ],
      "text/plain": [
       "param\u001b[1m[\u001b[0m\u001b[32m'nsteps'\u001b[0m\u001b[1m]\u001b[0m=\u001b[1;36m106\u001b[0m param\u001b[1m[\u001b[0m\u001b[32m'aexp'\u001b[0m\u001b[1m]\u001b[0m=\u001b[1;36m0.561027484758616\u001b[0m z = \u001b[1;36m0.7824438680223544\u001b[0m                                         \n"
      ]
     },
     "metadata": {},
     "output_type": "display_data"
    },
    {
     "data": {
      "text/html": [
       "<pre style=\"white-space:pre;overflow-x:auto;line-height:normal;font-family:Menlo,'DejaVu Sans Mono',consolas,'Courier New',monospace\">Write <span style=\"color: #800080; text-decoration-color: #800080; font-weight: bold\">P</span><span style=\"font-weight: bold\">(</span>k<span style=\"font-weight: bold\">)</span> in .<span style=\"color: #800080; text-decoration-color: #800080\">/boxlen100_n128_lcdmw7v2_00000//power/</span><span style=\"color: #ff00ff; text-decoration-color: #ff00ff\">pk_eft_multigrid_ncoarse7_00107.dat</span>                           \n",
       "</pre>\n"
      ],
      "text/plain": [
       "Write \u001b[1;35mP\u001b[0m\u001b[1m(\u001b[0mk\u001b[1m)\u001b[0m in .\u001b[35m/boxlen100_n128_lcdmw7v2_00000/\u001b[0m\u001b[35m/power/\u001b[0m\u001b[95mpk_eft_multigrid_ncoarse7_00107.dat\u001b[0m                           \n"
      ]
     },
     "metadata": {},
     "output_type": "display_data"
    },
    {
     "data": {
      "text/html": [
       "<pre style=\"white-space:pre;overflow-x:auto;line-height:normal;font-family:Menlo,'DejaVu Sans Mono',consolas,'Courier New',monospace\">param<span style=\"font-weight: bold\">[</span><span style=\"color: #008000; text-decoration-color: #008000\">'nsteps'</span><span style=\"font-weight: bold\">]</span>=<span style=\"color: #008080; text-decoration-color: #008080; font-weight: bold\">107</span> param<span style=\"font-weight: bold\">[</span><span style=\"color: #008000; text-decoration-color: #008000\">'aexp'</span><span style=\"font-weight: bold\">]</span>=<span style=\"color: #008080; text-decoration-color: #008080; font-weight: bold\">0.561027484758616</span> z = <span style=\"color: #008080; text-decoration-color: #008080; font-weight: bold\">0.7824438680223544</span>                                         \n",
       "</pre>\n"
      ],
      "text/plain": [
       "param\u001b[1m[\u001b[0m\u001b[32m'nsteps'\u001b[0m\u001b[1m]\u001b[0m=\u001b[1;36m107\u001b[0m param\u001b[1m[\u001b[0m\u001b[32m'aexp'\u001b[0m\u001b[1m]\u001b[0m=\u001b[1;36m0.561027484758616\u001b[0m z = \u001b[1;36m0.7824438680223544\u001b[0m                                         \n"
      ]
     },
     "metadata": {},
     "output_type": "display_data"
    },
    {
     "data": {
      "text/html": [
       "<pre style=\"white-space:pre;overflow-x:auto;line-height:normal;font-family:Menlo,'DejaVu Sans Mono',consolas,'Courier New',monospace\">Write <span style=\"color: #800080; text-decoration-color: #800080; font-weight: bold\">P</span><span style=\"font-weight: bold\">(</span>k<span style=\"font-weight: bold\">)</span> in .<span style=\"color: #800080; text-decoration-color: #800080\">/boxlen100_n128_lcdmw7v2_00000//power/</span><span style=\"color: #ff00ff; text-decoration-color: #ff00ff\">pk_eft_multigrid_ncoarse7_00108.dat</span>                           \n",
       "</pre>\n"
      ],
      "text/plain": [
       "Write \u001b[1;35mP\u001b[0m\u001b[1m(\u001b[0mk\u001b[1m)\u001b[0m in .\u001b[35m/boxlen100_n128_lcdmw7v2_00000/\u001b[0m\u001b[35m/power/\u001b[0m\u001b[95mpk_eft_multigrid_ncoarse7_00108.dat\u001b[0m                           \n"
      ]
     },
     "metadata": {},
     "output_type": "display_data"
    },
    {
     "data": {
      "text/html": [
       "<pre style=\"white-space:pre;overflow-x:auto;line-height:normal;font-family:Menlo,'DejaVu Sans Mono',consolas,'Courier New',monospace\">param<span style=\"font-weight: bold\">[</span><span style=\"color: #008000; text-decoration-color: #008000\">'nsteps'</span><span style=\"font-weight: bold\">]</span>=<span style=\"color: #008080; text-decoration-color: #008080; font-weight: bold\">108</span> param<span style=\"font-weight: bold\">[</span><span style=\"color: #008000; text-decoration-color: #008000\">'aexp'</span><span style=\"font-weight: bold\">]</span>=<span style=\"color: #008080; text-decoration-color: #008080; font-weight: bold\">0.561027484758616</span> z = <span style=\"color: #008080; text-decoration-color: #008080; font-weight: bold\">0.7824438680223544</span>                                         \n",
       "</pre>\n"
      ],
      "text/plain": [
       "param\u001b[1m[\u001b[0m\u001b[32m'nsteps'\u001b[0m\u001b[1m]\u001b[0m=\u001b[1;36m108\u001b[0m param\u001b[1m[\u001b[0m\u001b[32m'aexp'\u001b[0m\u001b[1m]\u001b[0m=\u001b[1;36m0.561027484758616\u001b[0m z = \u001b[1;36m0.7824438680223544\u001b[0m                                         \n"
      ]
     },
     "metadata": {},
     "output_type": "display_data"
    },
    {
     "data": {
      "text/html": [
       "<pre style=\"white-space:pre;overflow-x:auto;line-height:normal;font-family:Menlo,'DejaVu Sans Mono',consolas,'Courier New',monospace\">Write <span style=\"color: #800080; text-decoration-color: #800080; font-weight: bold\">P</span><span style=\"font-weight: bold\">(</span>k<span style=\"font-weight: bold\">)</span> in .<span style=\"color: #800080; text-decoration-color: #800080\">/boxlen100_n128_lcdmw7v2_00000//power/</span><span style=\"color: #ff00ff; text-decoration-color: #ff00ff\">pk_eft_multigrid_ncoarse7_00109.dat</span>                           \n",
       "</pre>\n"
      ],
      "text/plain": [
       "Write \u001b[1;35mP\u001b[0m\u001b[1m(\u001b[0mk\u001b[1m)\u001b[0m in .\u001b[35m/boxlen100_n128_lcdmw7v2_00000/\u001b[0m\u001b[35m/power/\u001b[0m\u001b[95mpk_eft_multigrid_ncoarse7_00109.dat\u001b[0m                           \n"
      ]
     },
     "metadata": {},
     "output_type": "display_data"
    },
    {
     "data": {
      "text/html": [
       "<pre style=\"white-space:pre;overflow-x:auto;line-height:normal;font-family:Menlo,'DejaVu Sans Mono',consolas,'Courier New',monospace\">param<span style=\"font-weight: bold\">[</span><span style=\"color: #008000; text-decoration-color: #008000\">'nsteps'</span><span style=\"font-weight: bold\">]</span>=<span style=\"color: #008080; text-decoration-color: #008080; font-weight: bold\">109</span> param<span style=\"font-weight: bold\">[</span><span style=\"color: #008000; text-decoration-color: #008000\">'aexp'</span><span style=\"font-weight: bold\">]</span>=<span style=\"color: #008080; text-decoration-color: #008080; font-weight: bold\">0.561027484758616</span> z = <span style=\"color: #008080; text-decoration-color: #008080; font-weight: bold\">0.7824438680223544</span>                                         \n",
       "</pre>\n"
      ],
      "text/plain": [
       "param\u001b[1m[\u001b[0m\u001b[32m'nsteps'\u001b[0m\u001b[1m]\u001b[0m=\u001b[1;36m109\u001b[0m param\u001b[1m[\u001b[0m\u001b[32m'aexp'\u001b[0m\u001b[1m]\u001b[0m=\u001b[1;36m0.561027484758616\u001b[0m z = \u001b[1;36m0.7824438680223544\u001b[0m                                         \n"
      ]
     },
     "metadata": {},
     "output_type": "display_data"
    },
    {
     "data": {
      "text/html": [
       "<pre style=\"white-space:pre;overflow-x:auto;line-height:normal;font-family:Menlo,'DejaVu Sans Mono',consolas,'Courier New',monospace\">Write <span style=\"color: #800080; text-decoration-color: #800080; font-weight: bold\">P</span><span style=\"font-weight: bold\">(</span>k<span style=\"font-weight: bold\">)</span> in .<span style=\"color: #800080; text-decoration-color: #800080\">/boxlen100_n128_lcdmw7v2_00000//power/</span><span style=\"color: #ff00ff; text-decoration-color: #ff00ff\">pk_eft_multigrid_ncoarse7_00110.dat</span>                           \n",
       "</pre>\n"
      ],
      "text/plain": [
       "Write \u001b[1;35mP\u001b[0m\u001b[1m(\u001b[0mk\u001b[1m)\u001b[0m in .\u001b[35m/boxlen100_n128_lcdmw7v2_00000/\u001b[0m\u001b[35m/power/\u001b[0m\u001b[95mpk_eft_multigrid_ncoarse7_00110.dat\u001b[0m                           \n"
      ]
     },
     "metadata": {},
     "output_type": "display_data"
    },
    {
     "data": {
      "text/html": [
       "<pre style=\"white-space:pre;overflow-x:auto;line-height:normal;font-family:Menlo,'DejaVu Sans Mono',consolas,'Courier New',monospace\">param<span style=\"font-weight: bold\">[</span><span style=\"color: #008000; text-decoration-color: #008000\">'nsteps'</span><span style=\"font-weight: bold\">]</span>=<span style=\"color: #008080; text-decoration-color: #008080; font-weight: bold\">110</span> param<span style=\"font-weight: bold\">[</span><span style=\"color: #008000; text-decoration-color: #008000\">'aexp'</span><span style=\"font-weight: bold\">]</span>=<span style=\"color: #008080; text-decoration-color: #008080; font-weight: bold\">0.561027484758616</span> z = <span style=\"color: #008080; text-decoration-color: #008080; font-weight: bold\">0.7824438680223544</span>                                         \n",
       "</pre>\n"
      ],
      "text/plain": [
       "param\u001b[1m[\u001b[0m\u001b[32m'nsteps'\u001b[0m\u001b[1m]\u001b[0m=\u001b[1;36m110\u001b[0m param\u001b[1m[\u001b[0m\u001b[32m'aexp'\u001b[0m\u001b[1m]\u001b[0m=\u001b[1;36m0.561027484758616\u001b[0m z = \u001b[1;36m0.7824438680223544\u001b[0m                                         \n"
      ]
     },
     "metadata": {},
     "output_type": "display_data"
    },
    {
     "data": {
      "text/html": [
       "<pre style=\"white-space:pre;overflow-x:auto;line-height:normal;font-family:Menlo,'DejaVu Sans Mono',consolas,'Courier New',monospace\">Write <span style=\"color: #800080; text-decoration-color: #800080; font-weight: bold\">P</span><span style=\"font-weight: bold\">(</span>k<span style=\"font-weight: bold\">)</span> in .<span style=\"color: #800080; text-decoration-color: #800080\">/boxlen100_n128_lcdmw7v2_00000//power/</span><span style=\"color: #ff00ff; text-decoration-color: #ff00ff\">pk_eft_multigrid_ncoarse7_00111.dat</span>                           \n",
       "</pre>\n"
      ],
      "text/plain": [
       "Write \u001b[1;35mP\u001b[0m\u001b[1m(\u001b[0mk\u001b[1m)\u001b[0m in .\u001b[35m/boxlen100_n128_lcdmw7v2_00000/\u001b[0m\u001b[35m/power/\u001b[0m\u001b[95mpk_eft_multigrid_ncoarse7_00111.dat\u001b[0m                           \n"
      ]
     },
     "metadata": {},
     "output_type": "display_data"
    },
    {
     "data": {
      "text/html": [
       "<pre style=\"white-space:pre;overflow-x:auto;line-height:normal;font-family:Menlo,'DejaVu Sans Mono',consolas,'Courier New',monospace\">param<span style=\"font-weight: bold\">[</span><span style=\"color: #008000; text-decoration-color: #008000\">'nsteps'</span><span style=\"font-weight: bold\">]</span>=<span style=\"color: #008080; text-decoration-color: #008080; font-weight: bold\">111</span> param<span style=\"font-weight: bold\">[</span><span style=\"color: #008000; text-decoration-color: #008000\">'aexp'</span><span style=\"font-weight: bold\">]</span>=<span style=\"color: #008080; text-decoration-color: #008080; font-weight: bold\">0.561027484758616</span> z = <span style=\"color: #008080; text-decoration-color: #008080; font-weight: bold\">0.7824438680223544</span>                                         \n",
       "</pre>\n"
      ],
      "text/plain": [
       "param\u001b[1m[\u001b[0m\u001b[32m'nsteps'\u001b[0m\u001b[1m]\u001b[0m=\u001b[1;36m111\u001b[0m param\u001b[1m[\u001b[0m\u001b[32m'aexp'\u001b[0m\u001b[1m]\u001b[0m=\u001b[1;36m0.561027484758616\u001b[0m z = \u001b[1;36m0.7824438680223544\u001b[0m                                         \n"
      ]
     },
     "metadata": {},
     "output_type": "display_data"
    },
    {
     "data": {
      "text/html": [
       "<pre style=\"white-space:pre;overflow-x:auto;line-height:normal;font-family:Menlo,'DejaVu Sans Mono',consolas,'Courier New',monospace\">Write <span style=\"color: #800080; text-decoration-color: #800080; font-weight: bold\">P</span><span style=\"font-weight: bold\">(</span>k<span style=\"font-weight: bold\">)</span> in .<span style=\"color: #800080; text-decoration-color: #800080\">/boxlen100_n128_lcdmw7v2_00000//power/</span><span style=\"color: #ff00ff; text-decoration-color: #ff00ff\">pk_eft_multigrid_ncoarse7_00112.dat</span>                           \n",
       "</pre>\n"
      ],
      "text/plain": [
       "Write \u001b[1;35mP\u001b[0m\u001b[1m(\u001b[0mk\u001b[1m)\u001b[0m in .\u001b[35m/boxlen100_n128_lcdmw7v2_00000/\u001b[0m\u001b[35m/power/\u001b[0m\u001b[95mpk_eft_multigrid_ncoarse7_00112.dat\u001b[0m                           \n"
      ]
     },
     "metadata": {},
     "output_type": "display_data"
    },
    {
     "data": {
      "text/html": [
       "<pre style=\"white-space:pre;overflow-x:auto;line-height:normal;font-family:Menlo,'DejaVu Sans Mono',consolas,'Courier New',monospace\">param<span style=\"font-weight: bold\">[</span><span style=\"color: #008000; text-decoration-color: #008000\">'nsteps'</span><span style=\"font-weight: bold\">]</span>=<span style=\"color: #008080; text-decoration-color: #008080; font-weight: bold\">112</span> param<span style=\"font-weight: bold\">[</span><span style=\"color: #008000; text-decoration-color: #008000\">'aexp'</span><span style=\"font-weight: bold\">]</span>=<span style=\"color: #008080; text-decoration-color: #008080; font-weight: bold\">0.561027484758616</span> z = <span style=\"color: #008080; text-decoration-color: #008080; font-weight: bold\">0.7824438680223544</span>                                         \n",
       "</pre>\n"
      ],
      "text/plain": [
       "param\u001b[1m[\u001b[0m\u001b[32m'nsteps'\u001b[0m\u001b[1m]\u001b[0m=\u001b[1;36m112\u001b[0m param\u001b[1m[\u001b[0m\u001b[32m'aexp'\u001b[0m\u001b[1m]\u001b[0m=\u001b[1;36m0.561027484758616\u001b[0m z = \u001b[1;36m0.7824438680223544\u001b[0m                                         \n"
      ]
     },
     "metadata": {},
     "output_type": "display_data"
    },
    {
     "data": {
      "text/html": [
       "<pre style=\"white-space:pre;overflow-x:auto;line-height:normal;font-family:Menlo,'DejaVu Sans Mono',consolas,'Courier New',monospace\">Write <span style=\"color: #800080; text-decoration-color: #800080; font-weight: bold\">P</span><span style=\"font-weight: bold\">(</span>k<span style=\"font-weight: bold\">)</span> in .<span style=\"color: #800080; text-decoration-color: #800080\">/boxlen100_n128_lcdmw7v2_00000//power/</span><span style=\"color: #ff00ff; text-decoration-color: #ff00ff\">pk_eft_multigrid_ncoarse7_00113.dat</span>                           \n",
       "</pre>\n"
      ],
      "text/plain": [
       "Write \u001b[1;35mP\u001b[0m\u001b[1m(\u001b[0mk\u001b[1m)\u001b[0m in .\u001b[35m/boxlen100_n128_lcdmw7v2_00000/\u001b[0m\u001b[35m/power/\u001b[0m\u001b[95mpk_eft_multigrid_ncoarse7_00113.dat\u001b[0m                           \n"
      ]
     },
     "metadata": {},
     "output_type": "display_data"
    },
    {
     "data": {
      "text/html": [
       "<pre style=\"white-space:pre;overflow-x:auto;line-height:normal;font-family:Menlo,'DejaVu Sans Mono',consolas,'Courier New',monospace\">param<span style=\"font-weight: bold\">[</span><span style=\"color: #008000; text-decoration-color: #008000\">'nsteps'</span><span style=\"font-weight: bold\">]</span>=<span style=\"color: #008080; text-decoration-color: #008080; font-weight: bold\">113</span> param<span style=\"font-weight: bold\">[</span><span style=\"color: #008000; text-decoration-color: #008000\">'aexp'</span><span style=\"font-weight: bold\">]</span>=<span style=\"color: #008080; text-decoration-color: #008080; font-weight: bold\">0.561027484758616</span> z = <span style=\"color: #008080; text-decoration-color: #008080; font-weight: bold\">0.7824438680223544</span>                                         \n",
       "</pre>\n"
      ],
      "text/plain": [
       "param\u001b[1m[\u001b[0m\u001b[32m'nsteps'\u001b[0m\u001b[1m]\u001b[0m=\u001b[1;36m113\u001b[0m param\u001b[1m[\u001b[0m\u001b[32m'aexp'\u001b[0m\u001b[1m]\u001b[0m=\u001b[1;36m0.561027484758616\u001b[0m z = \u001b[1;36m0.7824438680223544\u001b[0m                                         \n"
      ]
     },
     "metadata": {},
     "output_type": "display_data"
    },
    {
     "data": {
      "text/html": [
       "<pre style=\"white-space:pre;overflow-x:auto;line-height:normal;font-family:Menlo,'DejaVu Sans Mono',consolas,'Courier New',monospace\">Write <span style=\"color: #800080; text-decoration-color: #800080; font-weight: bold\">P</span><span style=\"font-weight: bold\">(</span>k<span style=\"font-weight: bold\">)</span> in .<span style=\"color: #800080; text-decoration-color: #800080\">/boxlen100_n128_lcdmw7v2_00000//power/</span><span style=\"color: #ff00ff; text-decoration-color: #ff00ff\">pk_eft_multigrid_ncoarse7_00114.dat</span>                           \n",
       "</pre>\n"
      ],
      "text/plain": [
       "Write \u001b[1;35mP\u001b[0m\u001b[1m(\u001b[0mk\u001b[1m)\u001b[0m in .\u001b[35m/boxlen100_n128_lcdmw7v2_00000/\u001b[0m\u001b[35m/power/\u001b[0m\u001b[95mpk_eft_multigrid_ncoarse7_00114.dat\u001b[0m                           \n"
      ]
     },
     "metadata": {},
     "output_type": "display_data"
    },
    {
     "data": {
      "text/html": [
       "<pre style=\"white-space:pre;overflow-x:auto;line-height:normal;font-family:Menlo,'DejaVu Sans Mono',consolas,'Courier New',monospace\">param<span style=\"font-weight: bold\">[</span><span style=\"color: #008000; text-decoration-color: #008000\">'nsteps'</span><span style=\"font-weight: bold\">]</span>=<span style=\"color: #008080; text-decoration-color: #008080; font-weight: bold\">114</span> param<span style=\"font-weight: bold\">[</span><span style=\"color: #008000; text-decoration-color: #008000\">'aexp'</span><span style=\"font-weight: bold\">]</span>=<span style=\"color: #008080; text-decoration-color: #008080; font-weight: bold\">0.561027484758616</span> z = <span style=\"color: #008080; text-decoration-color: #008080; font-weight: bold\">0.7824438680223544</span>                                         \n",
       "</pre>\n"
      ],
      "text/plain": [
       "param\u001b[1m[\u001b[0m\u001b[32m'nsteps'\u001b[0m\u001b[1m]\u001b[0m=\u001b[1;36m114\u001b[0m param\u001b[1m[\u001b[0m\u001b[32m'aexp'\u001b[0m\u001b[1m]\u001b[0m=\u001b[1;36m0.561027484758616\u001b[0m z = \u001b[1;36m0.7824438680223544\u001b[0m                                         \n"
      ]
     },
     "metadata": {},
     "output_type": "display_data"
    },
    {
     "data": {
      "text/html": [
       "<pre style=\"white-space:pre;overflow-x:auto;line-height:normal;font-family:Menlo,'DejaVu Sans Mono',consolas,'Courier New',monospace\">Write <span style=\"color: #800080; text-decoration-color: #800080; font-weight: bold\">P</span><span style=\"font-weight: bold\">(</span>k<span style=\"font-weight: bold\">)</span> in .<span style=\"color: #800080; text-decoration-color: #800080\">/boxlen100_n128_lcdmw7v2_00000//power/</span><span style=\"color: #ff00ff; text-decoration-color: #ff00ff\">pk_eft_multigrid_ncoarse7_00115.dat</span>                           \n",
       "</pre>\n"
      ],
      "text/plain": [
       "Write \u001b[1;35mP\u001b[0m\u001b[1m(\u001b[0mk\u001b[1m)\u001b[0m in .\u001b[35m/boxlen100_n128_lcdmw7v2_00000/\u001b[0m\u001b[35m/power/\u001b[0m\u001b[95mpk_eft_multigrid_ncoarse7_00115.dat\u001b[0m                           \n"
      ]
     },
     "metadata": {},
     "output_type": "display_data"
    },
    {
     "data": {
      "text/html": [
       "<pre style=\"white-space:pre;overflow-x:auto;line-height:normal;font-family:Menlo,'DejaVu Sans Mono',consolas,'Courier New',monospace\">param<span style=\"font-weight: bold\">[</span><span style=\"color: #008000; text-decoration-color: #008000\">'nsteps'</span><span style=\"font-weight: bold\">]</span>=<span style=\"color: #008080; text-decoration-color: #008080; font-weight: bold\">115</span> param<span style=\"font-weight: bold\">[</span><span style=\"color: #008000; text-decoration-color: #008000\">'aexp'</span><span style=\"font-weight: bold\">]</span>=<span style=\"color: #008080; text-decoration-color: #008080; font-weight: bold\">0.561027484758616</span> z = <span style=\"color: #008080; text-decoration-color: #008080; font-weight: bold\">0.7824438680223544</span>                                         \n",
       "</pre>\n"
      ],
      "text/plain": [
       "param\u001b[1m[\u001b[0m\u001b[32m'nsteps'\u001b[0m\u001b[1m]\u001b[0m=\u001b[1;36m115\u001b[0m param\u001b[1m[\u001b[0m\u001b[32m'aexp'\u001b[0m\u001b[1m]\u001b[0m=\u001b[1;36m0.561027484758616\u001b[0m z = \u001b[1;36m0.7824438680223544\u001b[0m                                         \n"
      ]
     },
     "metadata": {},
     "output_type": "display_data"
    },
    {
     "data": {
      "text/html": [
       "<pre style=\"white-space:pre;overflow-x:auto;line-height:normal;font-family:Menlo,'DejaVu Sans Mono',consolas,'Courier New',monospace\">Write <span style=\"color: #800080; text-decoration-color: #800080; font-weight: bold\">P</span><span style=\"font-weight: bold\">(</span>k<span style=\"font-weight: bold\">)</span> in .<span style=\"color: #800080; text-decoration-color: #800080\">/boxlen100_n128_lcdmw7v2_00000//power/</span><span style=\"color: #ff00ff; text-decoration-color: #ff00ff\">pk_eft_multigrid_ncoarse7_00116.dat</span>                           \n",
       "</pre>\n"
      ],
      "text/plain": [
       "Write \u001b[1;35mP\u001b[0m\u001b[1m(\u001b[0mk\u001b[1m)\u001b[0m in .\u001b[35m/boxlen100_n128_lcdmw7v2_00000/\u001b[0m\u001b[35m/power/\u001b[0m\u001b[95mpk_eft_multigrid_ncoarse7_00116.dat\u001b[0m                           \n"
      ]
     },
     "metadata": {},
     "output_type": "display_data"
    },
    {
     "data": {
      "text/html": [
       "<pre style=\"white-space:pre;overflow-x:auto;line-height:normal;font-family:Menlo,'DejaVu Sans Mono',consolas,'Courier New',monospace\">param<span style=\"font-weight: bold\">[</span><span style=\"color: #008000; text-decoration-color: #008000\">'nsteps'</span><span style=\"font-weight: bold\">]</span>=<span style=\"color: #008080; text-decoration-color: #008080; font-weight: bold\">116</span> param<span style=\"font-weight: bold\">[</span><span style=\"color: #008000; text-decoration-color: #008000\">'aexp'</span><span style=\"font-weight: bold\">]</span>=<span style=\"color: #008080; text-decoration-color: #008080; font-weight: bold\">0.561027484758616</span> z = <span style=\"color: #008080; text-decoration-color: #008080; font-weight: bold\">0.7824438680223544</span>                                         \n",
       "</pre>\n"
      ],
      "text/plain": [
       "param\u001b[1m[\u001b[0m\u001b[32m'nsteps'\u001b[0m\u001b[1m]\u001b[0m=\u001b[1;36m116\u001b[0m param\u001b[1m[\u001b[0m\u001b[32m'aexp'\u001b[0m\u001b[1m]\u001b[0m=\u001b[1;36m0.561027484758616\u001b[0m z = \u001b[1;36m0.7824438680223544\u001b[0m                                         \n"
      ]
     },
     "metadata": {},
     "output_type": "display_data"
    },
    {
     "data": {
      "text/html": [
       "<pre style=\"white-space:pre;overflow-x:auto;line-height:normal;font-family:Menlo,'DejaVu Sans Mono',consolas,'Courier New',monospace\">Write <span style=\"color: #800080; text-decoration-color: #800080; font-weight: bold\">P</span><span style=\"font-weight: bold\">(</span>k<span style=\"font-weight: bold\">)</span> in .<span style=\"color: #800080; text-decoration-color: #800080\">/boxlen100_n128_lcdmw7v2_00000//power/</span><span style=\"color: #ff00ff; text-decoration-color: #ff00ff\">pk_eft_multigrid_ncoarse7_00117.dat</span>                           \n",
       "</pre>\n"
      ],
      "text/plain": [
       "Write \u001b[1;35mP\u001b[0m\u001b[1m(\u001b[0mk\u001b[1m)\u001b[0m in .\u001b[35m/boxlen100_n128_lcdmw7v2_00000/\u001b[0m\u001b[35m/power/\u001b[0m\u001b[95mpk_eft_multigrid_ncoarse7_00117.dat\u001b[0m                           \n"
      ]
     },
     "metadata": {},
     "output_type": "display_data"
    },
    {
     "data": {
      "text/html": [
       "<pre style=\"white-space:pre;overflow-x:auto;line-height:normal;font-family:Menlo,'DejaVu Sans Mono',consolas,'Courier New',monospace\">param<span style=\"font-weight: bold\">[</span><span style=\"color: #008000; text-decoration-color: #008000\">'nsteps'</span><span style=\"font-weight: bold\">]</span>=<span style=\"color: #008080; text-decoration-color: #008080; font-weight: bold\">117</span> param<span style=\"font-weight: bold\">[</span><span style=\"color: #008000; text-decoration-color: #008000\">'aexp'</span><span style=\"font-weight: bold\">]</span>=<span style=\"color: #008080; text-decoration-color: #008080; font-weight: bold\">0.561027484758616</span> z = <span style=\"color: #008080; text-decoration-color: #008080; font-weight: bold\">0.7824438680223544</span>                                         \n",
       "</pre>\n"
      ],
      "text/plain": [
       "param\u001b[1m[\u001b[0m\u001b[32m'nsteps'\u001b[0m\u001b[1m]\u001b[0m=\u001b[1;36m117\u001b[0m param\u001b[1m[\u001b[0m\u001b[32m'aexp'\u001b[0m\u001b[1m]\u001b[0m=\u001b[1;36m0.561027484758616\u001b[0m z = \u001b[1;36m0.7824438680223544\u001b[0m                                         \n"
      ]
     },
     "metadata": {},
     "output_type": "display_data"
    },
    {
     "data": {
      "text/html": [
       "<pre style=\"white-space:pre;overflow-x:auto;line-height:normal;font-family:Menlo,'DejaVu Sans Mono',consolas,'Courier New',monospace\">Write <span style=\"color: #800080; text-decoration-color: #800080; font-weight: bold\">P</span><span style=\"font-weight: bold\">(</span>k<span style=\"font-weight: bold\">)</span> in .<span style=\"color: #800080; text-decoration-color: #800080\">/boxlen100_n128_lcdmw7v2_00000//power/</span><span style=\"color: #ff00ff; text-decoration-color: #ff00ff\">pk_eft_multigrid_ncoarse7_00118.dat</span>                           \n",
       "</pre>\n"
      ],
      "text/plain": [
       "Write \u001b[1;35mP\u001b[0m\u001b[1m(\u001b[0mk\u001b[1m)\u001b[0m in .\u001b[35m/boxlen100_n128_lcdmw7v2_00000/\u001b[0m\u001b[35m/power/\u001b[0m\u001b[95mpk_eft_multigrid_ncoarse7_00118.dat\u001b[0m                           \n"
      ]
     },
     "metadata": {},
     "output_type": "display_data"
    },
    {
     "data": {
      "text/html": [
       "<pre style=\"white-space:pre;overflow-x:auto;line-height:normal;font-family:Menlo,'DejaVu Sans Mono',consolas,'Courier New',monospace\">param<span style=\"font-weight: bold\">[</span><span style=\"color: #008000; text-decoration-color: #008000\">'nsteps'</span><span style=\"font-weight: bold\">]</span>=<span style=\"color: #008080; text-decoration-color: #008080; font-weight: bold\">118</span> param<span style=\"font-weight: bold\">[</span><span style=\"color: #008000; text-decoration-color: #008000\">'aexp'</span><span style=\"font-weight: bold\">]</span>=<span style=\"color: #008080; text-decoration-color: #008080; font-weight: bold\">0.561027484758616</span> z = <span style=\"color: #008080; text-decoration-color: #008080; font-weight: bold\">0.7824438680223544</span>                                         \n",
       "</pre>\n"
      ],
      "text/plain": [
       "param\u001b[1m[\u001b[0m\u001b[32m'nsteps'\u001b[0m\u001b[1m]\u001b[0m=\u001b[1;36m118\u001b[0m param\u001b[1m[\u001b[0m\u001b[32m'aexp'\u001b[0m\u001b[1m]\u001b[0m=\u001b[1;36m0.561027484758616\u001b[0m z = \u001b[1;36m0.7824438680223544\u001b[0m                                         \n"
      ]
     },
     "metadata": {},
     "output_type": "display_data"
    },
    {
     "data": {
      "text/html": [
       "<pre style=\"white-space:pre;overflow-x:auto;line-height:normal;font-family:Menlo,'DejaVu Sans Mono',consolas,'Courier New',monospace\">Write <span style=\"color: #800080; text-decoration-color: #800080; font-weight: bold\">P</span><span style=\"font-weight: bold\">(</span>k<span style=\"font-weight: bold\">)</span> in .<span style=\"color: #800080; text-decoration-color: #800080\">/boxlen100_n128_lcdmw7v2_00000//power/</span><span style=\"color: #ff00ff; text-decoration-color: #ff00ff\">pk_eft_multigrid_ncoarse7_00119.dat</span>                           \n",
       "</pre>\n"
      ],
      "text/plain": [
       "Write \u001b[1;35mP\u001b[0m\u001b[1m(\u001b[0mk\u001b[1m)\u001b[0m in .\u001b[35m/boxlen100_n128_lcdmw7v2_00000/\u001b[0m\u001b[35m/power/\u001b[0m\u001b[95mpk_eft_multigrid_ncoarse7_00119.dat\u001b[0m                           \n"
      ]
     },
     "metadata": {},
     "output_type": "display_data"
    },
    {
     "data": {
      "text/html": [
       "<pre style=\"white-space:pre;overflow-x:auto;line-height:normal;font-family:Menlo,'DejaVu Sans Mono',consolas,'Courier New',monospace\">param<span style=\"font-weight: bold\">[</span><span style=\"color: #008000; text-decoration-color: #008000\">'nsteps'</span><span style=\"font-weight: bold\">]</span>=<span style=\"color: #008080; text-decoration-color: #008080; font-weight: bold\">119</span> param<span style=\"font-weight: bold\">[</span><span style=\"color: #008000; text-decoration-color: #008000\">'aexp'</span><span style=\"font-weight: bold\">]</span>=<span style=\"color: #008080; text-decoration-color: #008080; font-weight: bold\">0.561027484758616</span> z = <span style=\"color: #008080; text-decoration-color: #008080; font-weight: bold\">0.7824438680223544</span>                                         \n",
       "</pre>\n"
      ],
      "text/plain": [
       "param\u001b[1m[\u001b[0m\u001b[32m'nsteps'\u001b[0m\u001b[1m]\u001b[0m=\u001b[1;36m119\u001b[0m param\u001b[1m[\u001b[0m\u001b[32m'aexp'\u001b[0m\u001b[1m]\u001b[0m=\u001b[1;36m0.561027484758616\u001b[0m z = \u001b[1;36m0.7824438680223544\u001b[0m                                         \n"
      ]
     },
     "metadata": {},
     "output_type": "display_data"
    },
    {
     "data": {
      "text/html": [
       "<pre style=\"white-space:pre;overflow-x:auto;line-height:normal;font-family:Menlo,'DejaVu Sans Mono',consolas,'Courier New',monospace\">Write <span style=\"color: #800080; text-decoration-color: #800080; font-weight: bold\">P</span><span style=\"font-weight: bold\">(</span>k<span style=\"font-weight: bold\">)</span> in .<span style=\"color: #800080; text-decoration-color: #800080\">/boxlen100_n128_lcdmw7v2_00000//power/</span><span style=\"color: #ff00ff; text-decoration-color: #ff00ff\">pk_eft_multigrid_ncoarse7_00120.dat</span>                           \n",
       "</pre>\n"
      ],
      "text/plain": [
       "Write \u001b[1;35mP\u001b[0m\u001b[1m(\u001b[0mk\u001b[1m)\u001b[0m in .\u001b[35m/boxlen100_n128_lcdmw7v2_00000/\u001b[0m\u001b[35m/power/\u001b[0m\u001b[95mpk_eft_multigrid_ncoarse7_00120.dat\u001b[0m                           \n"
      ]
     },
     "metadata": {},
     "output_type": "display_data"
    },
    {
     "data": {
      "text/html": [
       "<pre style=\"white-space:pre;overflow-x:auto;line-height:normal;font-family:Menlo,'DejaVu Sans Mono',consolas,'Courier New',monospace\">param<span style=\"font-weight: bold\">[</span><span style=\"color: #008000; text-decoration-color: #008000\">'nsteps'</span><span style=\"font-weight: bold\">]</span>=<span style=\"color: #008080; text-decoration-color: #008080; font-weight: bold\">120</span> param<span style=\"font-weight: bold\">[</span><span style=\"color: #008000; text-decoration-color: #008000\">'aexp'</span><span style=\"font-weight: bold\">]</span>=<span style=\"color: #008080; text-decoration-color: #008080; font-weight: bold\">0.561027484758616</span> z = <span style=\"color: #008080; text-decoration-color: #008080; font-weight: bold\">0.7824438680223544</span>                                         \n",
       "</pre>\n"
      ],
      "text/plain": [
       "param\u001b[1m[\u001b[0m\u001b[32m'nsteps'\u001b[0m\u001b[1m]\u001b[0m=\u001b[1;36m120\u001b[0m param\u001b[1m[\u001b[0m\u001b[32m'aexp'\u001b[0m\u001b[1m]\u001b[0m=\u001b[1;36m0.561027484758616\u001b[0m z = \u001b[1;36m0.7824438680223544\u001b[0m                                         \n"
      ]
     },
     "metadata": {},
     "output_type": "display_data"
    },
    {
     "data": {
      "text/html": [
       "<pre style=\"white-space:pre;overflow-x:auto;line-height:normal;font-family:Menlo,'DejaVu Sans Mono',consolas,'Courier New',monospace\">Write <span style=\"color: #800080; text-decoration-color: #800080; font-weight: bold\">P</span><span style=\"font-weight: bold\">(</span>k<span style=\"font-weight: bold\">)</span> in .<span style=\"color: #800080; text-decoration-color: #800080\">/boxlen100_n128_lcdmw7v2_00000//power/</span><span style=\"color: #ff00ff; text-decoration-color: #ff00ff\">pk_eft_multigrid_ncoarse7_00121.dat</span>                           \n",
       "</pre>\n"
      ],
      "text/plain": [
       "Write \u001b[1;35mP\u001b[0m\u001b[1m(\u001b[0mk\u001b[1m)\u001b[0m in .\u001b[35m/boxlen100_n128_lcdmw7v2_00000/\u001b[0m\u001b[35m/power/\u001b[0m\u001b[95mpk_eft_multigrid_ncoarse7_00121.dat\u001b[0m                           \n"
      ]
     },
     "metadata": {},
     "output_type": "display_data"
    },
    {
     "data": {
      "text/html": [
       "<pre style=\"white-space:pre;overflow-x:auto;line-height:normal;font-family:Menlo,'DejaVu Sans Mono',consolas,'Courier New',monospace\">param<span style=\"font-weight: bold\">[</span><span style=\"color: #008000; text-decoration-color: #008000\">'nsteps'</span><span style=\"font-weight: bold\">]</span>=<span style=\"color: #008080; text-decoration-color: #008080; font-weight: bold\">121</span> param<span style=\"font-weight: bold\">[</span><span style=\"color: #008000; text-decoration-color: #008000\">'aexp'</span><span style=\"font-weight: bold\">]</span>=<span style=\"color: #008080; text-decoration-color: #008080; font-weight: bold\">0.561027484758616</span> z = <span style=\"color: #008080; text-decoration-color: #008080; font-weight: bold\">0.7824438680223544</span>                                         \n",
       "</pre>\n"
      ],
      "text/plain": [
       "param\u001b[1m[\u001b[0m\u001b[32m'nsteps'\u001b[0m\u001b[1m]\u001b[0m=\u001b[1;36m121\u001b[0m param\u001b[1m[\u001b[0m\u001b[32m'aexp'\u001b[0m\u001b[1m]\u001b[0m=\u001b[1;36m0.561027484758616\u001b[0m z = \u001b[1;36m0.7824438680223544\u001b[0m                                         \n"
      ]
     },
     "metadata": {},
     "output_type": "display_data"
    },
    {
     "data": {
      "text/html": [
       "<pre style=\"white-space:pre;overflow-x:auto;line-height:normal;font-family:Menlo,'DejaVu Sans Mono',consolas,'Courier New',monospace\">Write <span style=\"color: #800080; text-decoration-color: #800080; font-weight: bold\">P</span><span style=\"font-weight: bold\">(</span>k<span style=\"font-weight: bold\">)</span> in .<span style=\"color: #800080; text-decoration-color: #800080\">/boxlen100_n128_lcdmw7v2_00000//power/</span><span style=\"color: #ff00ff; text-decoration-color: #ff00ff\">pk_eft_multigrid_ncoarse7_00122.dat</span>                           \n",
       "</pre>\n"
      ],
      "text/plain": [
       "Write \u001b[1;35mP\u001b[0m\u001b[1m(\u001b[0mk\u001b[1m)\u001b[0m in .\u001b[35m/boxlen100_n128_lcdmw7v2_00000/\u001b[0m\u001b[35m/power/\u001b[0m\u001b[95mpk_eft_multigrid_ncoarse7_00122.dat\u001b[0m                           \n"
      ]
     },
     "metadata": {},
     "output_type": "display_data"
    },
    {
     "data": {
      "text/html": [
       "<pre style=\"white-space:pre;overflow-x:auto;line-height:normal;font-family:Menlo,'DejaVu Sans Mono',consolas,'Courier New',monospace\">param<span style=\"font-weight: bold\">[</span><span style=\"color: #008000; text-decoration-color: #008000\">'nsteps'</span><span style=\"font-weight: bold\">]</span>=<span style=\"color: #008080; text-decoration-color: #008080; font-weight: bold\">122</span> param<span style=\"font-weight: bold\">[</span><span style=\"color: #008000; text-decoration-color: #008000\">'aexp'</span><span style=\"font-weight: bold\">]</span>=<span style=\"color: #008080; text-decoration-color: #008080; font-weight: bold\">0.561027484758616</span> z = <span style=\"color: #008080; text-decoration-color: #008080; font-weight: bold\">0.7824438680223544</span>                                         \n",
       "</pre>\n"
      ],
      "text/plain": [
       "param\u001b[1m[\u001b[0m\u001b[32m'nsteps'\u001b[0m\u001b[1m]\u001b[0m=\u001b[1;36m122\u001b[0m param\u001b[1m[\u001b[0m\u001b[32m'aexp'\u001b[0m\u001b[1m]\u001b[0m=\u001b[1;36m0.561027484758616\u001b[0m z = \u001b[1;36m0.7824438680223544\u001b[0m                                         \n"
      ]
     },
     "metadata": {},
     "output_type": "display_data"
    },
    {
     "data": {
      "text/html": [
       "<pre style=\"white-space:pre;overflow-x:auto;line-height:normal;font-family:Menlo,'DejaVu Sans Mono',consolas,'Courier New',monospace\">Write <span style=\"color: #800080; text-decoration-color: #800080; font-weight: bold\">P</span><span style=\"font-weight: bold\">(</span>k<span style=\"font-weight: bold\">)</span> in .<span style=\"color: #800080; text-decoration-color: #800080\">/boxlen100_n128_lcdmw7v2_00000//power/</span><span style=\"color: #ff00ff; text-decoration-color: #ff00ff\">pk_eft_multigrid_ncoarse7_00123.dat</span>                           \n",
       "</pre>\n"
      ],
      "text/plain": [
       "Write \u001b[1;35mP\u001b[0m\u001b[1m(\u001b[0mk\u001b[1m)\u001b[0m in .\u001b[35m/boxlen100_n128_lcdmw7v2_00000/\u001b[0m\u001b[35m/power/\u001b[0m\u001b[95mpk_eft_multigrid_ncoarse7_00123.dat\u001b[0m                           \n"
      ]
     },
     "metadata": {},
     "output_type": "display_data"
    },
    {
     "data": {
      "text/html": [
       "<pre style=\"white-space:pre;overflow-x:auto;line-height:normal;font-family:Menlo,'DejaVu Sans Mono',consolas,'Courier New',monospace\">param<span style=\"font-weight: bold\">[</span><span style=\"color: #008000; text-decoration-color: #008000\">'nsteps'</span><span style=\"font-weight: bold\">]</span>=<span style=\"color: #008080; text-decoration-color: #008080; font-weight: bold\">123</span> param<span style=\"font-weight: bold\">[</span><span style=\"color: #008000; text-decoration-color: #008000\">'aexp'</span><span style=\"font-weight: bold\">]</span>=<span style=\"color: #008080; text-decoration-color: #008080; font-weight: bold\">0.561027484758616</span> z = <span style=\"color: #008080; text-decoration-color: #008080; font-weight: bold\">0.7824438680223544</span>                                         \n",
       "</pre>\n"
      ],
      "text/plain": [
       "param\u001b[1m[\u001b[0m\u001b[32m'nsteps'\u001b[0m\u001b[1m]\u001b[0m=\u001b[1;36m123\u001b[0m param\u001b[1m[\u001b[0m\u001b[32m'aexp'\u001b[0m\u001b[1m]\u001b[0m=\u001b[1;36m0.561027484758616\u001b[0m z = \u001b[1;36m0.7824438680223544\u001b[0m                                         \n"
      ]
     },
     "metadata": {},
     "output_type": "display_data"
    },
    {
     "data": {
      "text/html": [
       "<pre style=\"white-space:pre;overflow-x:auto;line-height:normal;font-family:Menlo,'DejaVu Sans Mono',consolas,'Courier New',monospace\">Write <span style=\"color: #800080; text-decoration-color: #800080; font-weight: bold\">P</span><span style=\"font-weight: bold\">(</span>k<span style=\"font-weight: bold\">)</span> in .<span style=\"color: #800080; text-decoration-color: #800080\">/boxlen100_n128_lcdmw7v2_00000//power/</span><span style=\"color: #ff00ff; text-decoration-color: #ff00ff\">pk_eft_multigrid_ncoarse7_00124.dat</span>                           \n",
       "</pre>\n"
      ],
      "text/plain": [
       "Write \u001b[1;35mP\u001b[0m\u001b[1m(\u001b[0mk\u001b[1m)\u001b[0m in .\u001b[35m/boxlen100_n128_lcdmw7v2_00000/\u001b[0m\u001b[35m/power/\u001b[0m\u001b[95mpk_eft_multigrid_ncoarse7_00124.dat\u001b[0m                           \n"
      ]
     },
     "metadata": {},
     "output_type": "display_data"
    },
    {
     "data": {
      "text/html": [
       "<pre style=\"white-space:pre;overflow-x:auto;line-height:normal;font-family:Menlo,'DejaVu Sans Mono',consolas,'Courier New',monospace\">param<span style=\"font-weight: bold\">[</span><span style=\"color: #008000; text-decoration-color: #008000\">'nsteps'</span><span style=\"font-weight: bold\">]</span>=<span style=\"color: #008080; text-decoration-color: #008080; font-weight: bold\">124</span> param<span style=\"font-weight: bold\">[</span><span style=\"color: #008000; text-decoration-color: #008000\">'aexp'</span><span style=\"font-weight: bold\">]</span>=<span style=\"color: #008080; text-decoration-color: #008080; font-weight: bold\">0.561027484758616</span> z = <span style=\"color: #008080; text-decoration-color: #008080; font-weight: bold\">0.7824438680223544</span>                                         \n",
       "</pre>\n"
      ],
      "text/plain": [
       "param\u001b[1m[\u001b[0m\u001b[32m'nsteps'\u001b[0m\u001b[1m]\u001b[0m=\u001b[1;36m124\u001b[0m param\u001b[1m[\u001b[0m\u001b[32m'aexp'\u001b[0m\u001b[1m]\u001b[0m=\u001b[1;36m0.561027484758616\u001b[0m z = \u001b[1;36m0.7824438680223544\u001b[0m                                         \n"
      ]
     },
     "metadata": {},
     "output_type": "display_data"
    },
    {
     "data": {
      "text/html": [
       "<pre style=\"white-space:pre;overflow-x:auto;line-height:normal;font-family:Menlo,'DejaVu Sans Mono',consolas,'Courier New',monospace\">Write <span style=\"color: #800080; text-decoration-color: #800080; font-weight: bold\">P</span><span style=\"font-weight: bold\">(</span>k<span style=\"font-weight: bold\">)</span> in .<span style=\"color: #800080; text-decoration-color: #800080\">/boxlen100_n128_lcdmw7v2_00000//power/</span><span style=\"color: #ff00ff; text-decoration-color: #ff00ff\">pk_eft_multigrid_ncoarse7_00125.dat</span>                           \n",
       "</pre>\n"
      ],
      "text/plain": [
       "Write \u001b[1;35mP\u001b[0m\u001b[1m(\u001b[0mk\u001b[1m)\u001b[0m in .\u001b[35m/boxlen100_n128_lcdmw7v2_00000/\u001b[0m\u001b[35m/power/\u001b[0m\u001b[95mpk_eft_multigrid_ncoarse7_00125.dat\u001b[0m                           \n"
      ]
     },
     "metadata": {},
     "output_type": "display_data"
    },
    {
     "data": {
      "text/html": [
       "<pre style=\"white-space:pre;overflow-x:auto;line-height:normal;font-family:Menlo,'DejaVu Sans Mono',consolas,'Courier New',monospace\">param<span style=\"font-weight: bold\">[</span><span style=\"color: #008000; text-decoration-color: #008000\">'nsteps'</span><span style=\"font-weight: bold\">]</span>=<span style=\"color: #008080; text-decoration-color: #008080; font-weight: bold\">125</span> param<span style=\"font-weight: bold\">[</span><span style=\"color: #008000; text-decoration-color: #008000\">'aexp'</span><span style=\"font-weight: bold\">]</span>=<span style=\"color: #008080; text-decoration-color: #008080; font-weight: bold\">0.561027484758616</span> z = <span style=\"color: #008080; text-decoration-color: #008080; font-weight: bold\">0.7824438680223544</span>                                         \n",
       "</pre>\n"
      ],
      "text/plain": [
       "param\u001b[1m[\u001b[0m\u001b[32m'nsteps'\u001b[0m\u001b[1m]\u001b[0m=\u001b[1;36m125\u001b[0m param\u001b[1m[\u001b[0m\u001b[32m'aexp'\u001b[0m\u001b[1m]\u001b[0m=\u001b[1;36m0.561027484758616\u001b[0m z = \u001b[1;36m0.7824438680223544\u001b[0m                                         \n"
      ]
     },
     "metadata": {},
     "output_type": "display_data"
    },
    {
     "data": {
      "text/html": [
       "<pre style=\"white-space:pre;overflow-x:auto;line-height:normal;font-family:Menlo,'DejaVu Sans Mono',consolas,'Courier New',monospace\">Write <span style=\"color: #800080; text-decoration-color: #800080; font-weight: bold\">P</span><span style=\"font-weight: bold\">(</span>k<span style=\"font-weight: bold\">)</span> in .<span style=\"color: #800080; text-decoration-color: #800080\">/boxlen100_n128_lcdmw7v2_00000//power/</span><span style=\"color: #ff00ff; text-decoration-color: #ff00ff\">pk_eft_multigrid_ncoarse7_00126.dat</span>                           \n",
       "</pre>\n"
      ],
      "text/plain": [
       "Write \u001b[1;35mP\u001b[0m\u001b[1m(\u001b[0mk\u001b[1m)\u001b[0m in .\u001b[35m/boxlen100_n128_lcdmw7v2_00000/\u001b[0m\u001b[35m/power/\u001b[0m\u001b[95mpk_eft_multigrid_ncoarse7_00126.dat\u001b[0m                           \n"
      ]
     },
     "metadata": {},
     "output_type": "display_data"
    },
    {
     "data": {
      "text/html": [
       "<pre style=\"white-space:pre;overflow-x:auto;line-height:normal;font-family:Menlo,'DejaVu Sans Mono',consolas,'Courier New',monospace\">param<span style=\"font-weight: bold\">[</span><span style=\"color: #008000; text-decoration-color: #008000\">'nsteps'</span><span style=\"font-weight: bold\">]</span>=<span style=\"color: #008080; text-decoration-color: #008080; font-weight: bold\">126</span> param<span style=\"font-weight: bold\">[</span><span style=\"color: #008000; text-decoration-color: #008000\">'aexp'</span><span style=\"font-weight: bold\">]</span>=<span style=\"color: #008080; text-decoration-color: #008080; font-weight: bold\">0.561027484758616</span> z = <span style=\"color: #008080; text-decoration-color: #008080; font-weight: bold\">0.7824438680223544</span>                                         \n",
       "</pre>\n"
      ],
      "text/plain": [
       "param\u001b[1m[\u001b[0m\u001b[32m'nsteps'\u001b[0m\u001b[1m]\u001b[0m=\u001b[1;36m126\u001b[0m param\u001b[1m[\u001b[0m\u001b[32m'aexp'\u001b[0m\u001b[1m]\u001b[0m=\u001b[1;36m0.561027484758616\u001b[0m z = \u001b[1;36m0.7824438680223544\u001b[0m                                         \n"
      ]
     },
     "metadata": {},
     "output_type": "display_data"
    },
    {
     "data": {
      "text/html": [
       "<pre style=\"white-space:pre;overflow-x:auto;line-height:normal;font-family:Menlo,'DejaVu Sans Mono',consolas,'Courier New',monospace\">Write <span style=\"color: #800080; text-decoration-color: #800080; font-weight: bold\">P</span><span style=\"font-weight: bold\">(</span>k<span style=\"font-weight: bold\">)</span> in .<span style=\"color: #800080; text-decoration-color: #800080\">/boxlen100_n128_lcdmw7v2_00000//power/</span><span style=\"color: #ff00ff; text-decoration-color: #ff00ff\">pk_eft_multigrid_ncoarse7_00127.dat</span>                           \n",
       "</pre>\n"
      ],
      "text/plain": [
       "Write \u001b[1;35mP\u001b[0m\u001b[1m(\u001b[0mk\u001b[1m)\u001b[0m in .\u001b[35m/boxlen100_n128_lcdmw7v2_00000/\u001b[0m\u001b[35m/power/\u001b[0m\u001b[95mpk_eft_multigrid_ncoarse7_00127.dat\u001b[0m                           \n"
      ]
     },
     "metadata": {},
     "output_type": "display_data"
    },
    {
     "data": {
      "text/html": [
       "<pre style=\"white-space:pre;overflow-x:auto;line-height:normal;font-family:Menlo,'DejaVu Sans Mono',consolas,'Courier New',monospace\">param<span style=\"font-weight: bold\">[</span><span style=\"color: #008000; text-decoration-color: #008000\">'nsteps'</span><span style=\"font-weight: bold\">]</span>=<span style=\"color: #008080; text-decoration-color: #008080; font-weight: bold\">127</span> param<span style=\"font-weight: bold\">[</span><span style=\"color: #008000; text-decoration-color: #008000\">'aexp'</span><span style=\"font-weight: bold\">]</span>=<span style=\"color: #008080; text-decoration-color: #008080; font-weight: bold\">0.561027484758616</span> z = <span style=\"color: #008080; text-decoration-color: #008080; font-weight: bold\">0.7824438680223544</span>                                         \n",
       "</pre>\n"
      ],
      "text/plain": [
       "param\u001b[1m[\u001b[0m\u001b[32m'nsteps'\u001b[0m\u001b[1m]\u001b[0m=\u001b[1;36m127\u001b[0m param\u001b[1m[\u001b[0m\u001b[32m'aexp'\u001b[0m\u001b[1m]\u001b[0m=\u001b[1;36m0.561027484758616\u001b[0m z = \u001b[1;36m0.7824438680223544\u001b[0m                                         \n"
      ]
     },
     "metadata": {},
     "output_type": "display_data"
    },
    {
     "data": {
      "text/html": [
       "<pre style=\"white-space:pre;overflow-x:auto;line-height:normal;font-family:Menlo,'DejaVu Sans Mono',consolas,'Courier New',monospace\">Write <span style=\"color: #800080; text-decoration-color: #800080; font-weight: bold\">P</span><span style=\"font-weight: bold\">(</span>k<span style=\"font-weight: bold\">)</span> in .<span style=\"color: #800080; text-decoration-color: #800080\">/boxlen100_n128_lcdmw7v2_00000//power/</span><span style=\"color: #ff00ff; text-decoration-color: #ff00ff\">pk_eft_multigrid_ncoarse7_00128.dat</span>                           \n",
       "</pre>\n"
      ],
      "text/plain": [
       "Write \u001b[1;35mP\u001b[0m\u001b[1m(\u001b[0mk\u001b[1m)\u001b[0m in .\u001b[35m/boxlen100_n128_lcdmw7v2_00000/\u001b[0m\u001b[35m/power/\u001b[0m\u001b[95mpk_eft_multigrid_ncoarse7_00128.dat\u001b[0m                           \n"
      ]
     },
     "metadata": {},
     "output_type": "display_data"
    },
    {
     "data": {
      "text/html": [
       "<pre style=\"white-space:pre;overflow-x:auto;line-height:normal;font-family:Menlo,'DejaVu Sans Mono',consolas,'Courier New',monospace\">param<span style=\"font-weight: bold\">[</span><span style=\"color: #008000; text-decoration-color: #008000\">'nsteps'</span><span style=\"font-weight: bold\">]</span>=<span style=\"color: #008080; text-decoration-color: #008080; font-weight: bold\">128</span> param<span style=\"font-weight: bold\">[</span><span style=\"color: #008000; text-decoration-color: #008000\">'aexp'</span><span style=\"font-weight: bold\">]</span>=<span style=\"color: #008080; text-decoration-color: #008080; font-weight: bold\">0.561027484758616</span> z = <span style=\"color: #008080; text-decoration-color: #008080; font-weight: bold\">0.7824438680223544</span>                                         \n",
       "</pre>\n"
      ],
      "text/plain": [
       "param\u001b[1m[\u001b[0m\u001b[32m'nsteps'\u001b[0m\u001b[1m]\u001b[0m=\u001b[1;36m128\u001b[0m param\u001b[1m[\u001b[0m\u001b[32m'aexp'\u001b[0m\u001b[1m]\u001b[0m=\u001b[1;36m0.561027484758616\u001b[0m z = \u001b[1;36m0.7824438680223544\u001b[0m                                         \n"
      ]
     },
     "metadata": {},
     "output_type": "display_data"
    },
    {
     "data": {
      "text/html": [
       "<pre style=\"white-space:pre;overflow-x:auto;line-height:normal;font-family:Menlo,'DejaVu Sans Mono',consolas,'Courier New',monospace\">Write <span style=\"color: #800080; text-decoration-color: #800080; font-weight: bold\">P</span><span style=\"font-weight: bold\">(</span>k<span style=\"font-weight: bold\">)</span> in .<span style=\"color: #800080; text-decoration-color: #800080\">/boxlen100_n128_lcdmw7v2_00000//power/</span><span style=\"color: #ff00ff; text-decoration-color: #ff00ff\">pk_eft_multigrid_ncoarse7_00129.dat</span>                           \n",
       "</pre>\n"
      ],
      "text/plain": [
       "Write \u001b[1;35mP\u001b[0m\u001b[1m(\u001b[0mk\u001b[1m)\u001b[0m in .\u001b[35m/boxlen100_n128_lcdmw7v2_00000/\u001b[0m\u001b[35m/power/\u001b[0m\u001b[95mpk_eft_multigrid_ncoarse7_00129.dat\u001b[0m                           \n"
      ]
     },
     "metadata": {},
     "output_type": "display_data"
    },
    {
     "data": {
      "text/html": [
       "<pre style=\"white-space:pre;overflow-x:auto;line-height:normal;font-family:Menlo,'DejaVu Sans Mono',consolas,'Courier New',monospace\">param<span style=\"font-weight: bold\">[</span><span style=\"color: #008000; text-decoration-color: #008000\">'nsteps'</span><span style=\"font-weight: bold\">]</span>=<span style=\"color: #008080; text-decoration-color: #008080; font-weight: bold\">129</span> param<span style=\"font-weight: bold\">[</span><span style=\"color: #008000; text-decoration-color: #008000\">'aexp'</span><span style=\"font-weight: bold\">]</span>=<span style=\"color: #008080; text-decoration-color: #008080; font-weight: bold\">0.561027484758616</span> z = <span style=\"color: #008080; text-decoration-color: #008080; font-weight: bold\">0.7824438680223544</span>                                         \n",
       "</pre>\n"
      ],
      "text/plain": [
       "param\u001b[1m[\u001b[0m\u001b[32m'nsteps'\u001b[0m\u001b[1m]\u001b[0m=\u001b[1;36m129\u001b[0m param\u001b[1m[\u001b[0m\u001b[32m'aexp'\u001b[0m\u001b[1m]\u001b[0m=\u001b[1;36m0.561027484758616\u001b[0m z = \u001b[1;36m0.7824438680223544\u001b[0m                                         \n"
      ]
     },
     "metadata": {},
     "output_type": "display_data"
    },
    {
     "data": {
      "text/html": [
       "<pre style=\"white-space:pre;overflow-x:auto;line-height:normal;font-family:Menlo,'DejaVu Sans Mono',consolas,'Courier New',monospace\">Write <span style=\"color: #800080; text-decoration-color: #800080; font-weight: bold\">P</span><span style=\"font-weight: bold\">(</span>k<span style=\"font-weight: bold\">)</span> in .<span style=\"color: #800080; text-decoration-color: #800080\">/boxlen100_n128_lcdmw7v2_00000//power/</span><span style=\"color: #ff00ff; text-decoration-color: #ff00ff\">pk_eft_multigrid_ncoarse7_00130.dat</span>                           \n",
       "</pre>\n"
      ],
      "text/plain": [
       "Write \u001b[1;35mP\u001b[0m\u001b[1m(\u001b[0mk\u001b[1m)\u001b[0m in .\u001b[35m/boxlen100_n128_lcdmw7v2_00000/\u001b[0m\u001b[35m/power/\u001b[0m\u001b[95mpk_eft_multigrid_ncoarse7_00130.dat\u001b[0m                           \n"
      ]
     },
     "metadata": {},
     "output_type": "display_data"
    },
    {
     "data": {
      "text/html": [
       "<pre style=\"white-space:pre;overflow-x:auto;line-height:normal;font-family:Menlo,'DejaVu Sans Mono',consolas,'Courier New',monospace\">param<span style=\"font-weight: bold\">[</span><span style=\"color: #008000; text-decoration-color: #008000\">'nsteps'</span><span style=\"font-weight: bold\">]</span>=<span style=\"color: #008080; text-decoration-color: #008080; font-weight: bold\">130</span> param<span style=\"font-weight: bold\">[</span><span style=\"color: #008000; text-decoration-color: #008000\">'aexp'</span><span style=\"font-weight: bold\">]</span>=<span style=\"color: #008080; text-decoration-color: #008080; font-weight: bold\">0.561027484758616</span> z = <span style=\"color: #008080; text-decoration-color: #008080; font-weight: bold\">0.7824438680223544</span>                                         \n",
       "</pre>\n"
      ],
      "text/plain": [
       "param\u001b[1m[\u001b[0m\u001b[32m'nsteps'\u001b[0m\u001b[1m]\u001b[0m=\u001b[1;36m130\u001b[0m param\u001b[1m[\u001b[0m\u001b[32m'aexp'\u001b[0m\u001b[1m]\u001b[0m=\u001b[1;36m0.561027484758616\u001b[0m z = \u001b[1;36m0.7824438680223544\u001b[0m                                         \n"
      ]
     },
     "metadata": {},
     "output_type": "display_data"
    },
    {
     "data": {
      "text/html": [
       "<pre style=\"white-space:pre;overflow-x:auto;line-height:normal;font-family:Menlo,'DejaVu Sans Mono',consolas,'Courier New',monospace\">Write <span style=\"color: #800080; text-decoration-color: #800080; font-weight: bold\">P</span><span style=\"font-weight: bold\">(</span>k<span style=\"font-weight: bold\">)</span> in .<span style=\"color: #800080; text-decoration-color: #800080\">/boxlen100_n128_lcdmw7v2_00000//power/</span><span style=\"color: #ff00ff; text-decoration-color: #ff00ff\">pk_eft_multigrid_ncoarse7_00131.dat</span>                           \n",
       "</pre>\n"
      ],
      "text/plain": [
       "Write \u001b[1;35mP\u001b[0m\u001b[1m(\u001b[0mk\u001b[1m)\u001b[0m in .\u001b[35m/boxlen100_n128_lcdmw7v2_00000/\u001b[0m\u001b[35m/power/\u001b[0m\u001b[95mpk_eft_multigrid_ncoarse7_00131.dat\u001b[0m                           \n"
      ]
     },
     "metadata": {},
     "output_type": "display_data"
    },
    {
     "data": {
      "text/html": [
       "<pre style=\"white-space:pre;overflow-x:auto;line-height:normal;font-family:Menlo,'DejaVu Sans Mono',consolas,'Courier New',monospace\">param<span style=\"font-weight: bold\">[</span><span style=\"color: #008000; text-decoration-color: #008000\">'nsteps'</span><span style=\"font-weight: bold\">]</span>=<span style=\"color: #008080; text-decoration-color: #008080; font-weight: bold\">131</span> param<span style=\"font-weight: bold\">[</span><span style=\"color: #008000; text-decoration-color: #008000\">'aexp'</span><span style=\"font-weight: bold\">]</span>=<span style=\"color: #008080; text-decoration-color: #008080; font-weight: bold\">0.561027484758616</span> z = <span style=\"color: #008080; text-decoration-color: #008080; font-weight: bold\">0.7824438680223544</span>                                         \n",
       "</pre>\n"
      ],
      "text/plain": [
       "param\u001b[1m[\u001b[0m\u001b[32m'nsteps'\u001b[0m\u001b[1m]\u001b[0m=\u001b[1;36m131\u001b[0m param\u001b[1m[\u001b[0m\u001b[32m'aexp'\u001b[0m\u001b[1m]\u001b[0m=\u001b[1;36m0.561027484758616\u001b[0m z = \u001b[1;36m0.7824438680223544\u001b[0m                                         \n"
      ]
     },
     "metadata": {},
     "output_type": "display_data"
    },
    {
     "data": {
      "text/html": [
       "<pre style=\"white-space:pre;overflow-x:auto;line-height:normal;font-family:Menlo,'DejaVu Sans Mono',consolas,'Courier New',monospace\">Write <span style=\"color: #800080; text-decoration-color: #800080; font-weight: bold\">P</span><span style=\"font-weight: bold\">(</span>k<span style=\"font-weight: bold\">)</span> in .<span style=\"color: #800080; text-decoration-color: #800080\">/boxlen100_n128_lcdmw7v2_00000//power/</span><span style=\"color: #ff00ff; text-decoration-color: #ff00ff\">pk_eft_multigrid_ncoarse7_00132.dat</span>                           \n",
       "</pre>\n"
      ],
      "text/plain": [
       "Write \u001b[1;35mP\u001b[0m\u001b[1m(\u001b[0mk\u001b[1m)\u001b[0m in .\u001b[35m/boxlen100_n128_lcdmw7v2_00000/\u001b[0m\u001b[35m/power/\u001b[0m\u001b[95mpk_eft_multigrid_ncoarse7_00132.dat\u001b[0m                           \n"
      ]
     },
     "metadata": {},
     "output_type": "display_data"
    },
    {
     "data": {
      "text/html": [
       "<pre style=\"white-space:pre;overflow-x:auto;line-height:normal;font-family:Menlo,'DejaVu Sans Mono',consolas,'Courier New',monospace\">param<span style=\"font-weight: bold\">[</span><span style=\"color: #008000; text-decoration-color: #008000\">'nsteps'</span><span style=\"font-weight: bold\">]</span>=<span style=\"color: #008080; text-decoration-color: #008080; font-weight: bold\">132</span> param<span style=\"font-weight: bold\">[</span><span style=\"color: #008000; text-decoration-color: #008000\">'aexp'</span><span style=\"font-weight: bold\">]</span>=<span style=\"color: #008080; text-decoration-color: #008080; font-weight: bold\">0.561027484758616</span> z = <span style=\"color: #008080; text-decoration-color: #008080; font-weight: bold\">0.7824438680223544</span>                                         \n",
       "</pre>\n"
      ],
      "text/plain": [
       "param\u001b[1m[\u001b[0m\u001b[32m'nsteps'\u001b[0m\u001b[1m]\u001b[0m=\u001b[1;36m132\u001b[0m param\u001b[1m[\u001b[0m\u001b[32m'aexp'\u001b[0m\u001b[1m]\u001b[0m=\u001b[1;36m0.561027484758616\u001b[0m z = \u001b[1;36m0.7824438680223544\u001b[0m                                         \n"
      ]
     },
     "metadata": {},
     "output_type": "display_data"
    },
    {
     "data": {
      "text/html": [
       "<pre style=\"white-space:pre;overflow-x:auto;line-height:normal;font-family:Menlo,'DejaVu Sans Mono',consolas,'Courier New',monospace\">Write <span style=\"color: #800080; text-decoration-color: #800080; font-weight: bold\">P</span><span style=\"font-weight: bold\">(</span>k<span style=\"font-weight: bold\">)</span> in .<span style=\"color: #800080; text-decoration-color: #800080\">/boxlen100_n128_lcdmw7v2_00000//power/</span><span style=\"color: #ff00ff; text-decoration-color: #ff00ff\">pk_eft_multigrid_ncoarse7_00133.dat</span>                           \n",
       "</pre>\n"
      ],
      "text/plain": [
       "Write \u001b[1;35mP\u001b[0m\u001b[1m(\u001b[0mk\u001b[1m)\u001b[0m in .\u001b[35m/boxlen100_n128_lcdmw7v2_00000/\u001b[0m\u001b[35m/power/\u001b[0m\u001b[95mpk_eft_multigrid_ncoarse7_00133.dat\u001b[0m                           \n"
      ]
     },
     "metadata": {},
     "output_type": "display_data"
    },
    {
     "data": {
      "text/html": [
       "<pre style=\"white-space:pre;overflow-x:auto;line-height:normal;font-family:Menlo,'DejaVu Sans Mono',consolas,'Courier New',monospace\">param<span style=\"font-weight: bold\">[</span><span style=\"color: #008000; text-decoration-color: #008000\">'nsteps'</span><span style=\"font-weight: bold\">]</span>=<span style=\"color: #008080; text-decoration-color: #008080; font-weight: bold\">133</span> param<span style=\"font-weight: bold\">[</span><span style=\"color: #008000; text-decoration-color: #008000\">'aexp'</span><span style=\"font-weight: bold\">]</span>=<span style=\"color: #008080; text-decoration-color: #008080; font-weight: bold\">0.561027484758616</span> z = <span style=\"color: #008080; text-decoration-color: #008080; font-weight: bold\">0.7824438680223544</span>                                         \n",
       "</pre>\n"
      ],
      "text/plain": [
       "param\u001b[1m[\u001b[0m\u001b[32m'nsteps'\u001b[0m\u001b[1m]\u001b[0m=\u001b[1;36m133\u001b[0m param\u001b[1m[\u001b[0m\u001b[32m'aexp'\u001b[0m\u001b[1m]\u001b[0m=\u001b[1;36m0.561027484758616\u001b[0m z = \u001b[1;36m0.7824438680223544\u001b[0m                                         \n"
      ]
     },
     "metadata": {},
     "output_type": "display_data"
    },
    {
     "data": {
      "text/html": [
       "<pre style=\"white-space:pre;overflow-x:auto;line-height:normal;font-family:Menlo,'DejaVu Sans Mono',consolas,'Courier New',monospace\">Write <span style=\"color: #800080; text-decoration-color: #800080; font-weight: bold\">P</span><span style=\"font-weight: bold\">(</span>k<span style=\"font-weight: bold\">)</span> in .<span style=\"color: #800080; text-decoration-color: #800080\">/boxlen100_n128_lcdmw7v2_00000//power/</span><span style=\"color: #ff00ff; text-decoration-color: #ff00ff\">pk_eft_multigrid_ncoarse7_00134.dat</span>                           \n",
       "</pre>\n"
      ],
      "text/plain": [
       "Write \u001b[1;35mP\u001b[0m\u001b[1m(\u001b[0mk\u001b[1m)\u001b[0m in .\u001b[35m/boxlen100_n128_lcdmw7v2_00000/\u001b[0m\u001b[35m/power/\u001b[0m\u001b[95mpk_eft_multigrid_ncoarse7_00134.dat\u001b[0m                           \n"
      ]
     },
     "metadata": {},
     "output_type": "display_data"
    },
    {
     "data": {
      "text/html": [
       "<pre style=\"white-space:pre;overflow-x:auto;line-height:normal;font-family:Menlo,'DejaVu Sans Mono',consolas,'Courier New',monospace\">param<span style=\"font-weight: bold\">[</span><span style=\"color: #008000; text-decoration-color: #008000\">'nsteps'</span><span style=\"font-weight: bold\">]</span>=<span style=\"color: #008080; text-decoration-color: #008080; font-weight: bold\">134</span> param<span style=\"font-weight: bold\">[</span><span style=\"color: #008000; text-decoration-color: #008000\">'aexp'</span><span style=\"font-weight: bold\">]</span>=<span style=\"color: #008080; text-decoration-color: #008080; font-weight: bold\">0.561027484758616</span> z = <span style=\"color: #008080; text-decoration-color: #008080; font-weight: bold\">0.7824438680223544</span>                                         \n",
       "</pre>\n"
      ],
      "text/plain": [
       "param\u001b[1m[\u001b[0m\u001b[32m'nsteps'\u001b[0m\u001b[1m]\u001b[0m=\u001b[1;36m134\u001b[0m param\u001b[1m[\u001b[0m\u001b[32m'aexp'\u001b[0m\u001b[1m]\u001b[0m=\u001b[1;36m0.561027484758616\u001b[0m z = \u001b[1;36m0.7824438680223544\u001b[0m                                         \n"
      ]
     },
     "metadata": {},
     "output_type": "display_data"
    },
    {
     "data": {
      "text/html": [
       "<pre style=\"white-space:pre;overflow-x:auto;line-height:normal;font-family:Menlo,'DejaVu Sans Mono',consolas,'Courier New',monospace\">Write <span style=\"color: #800080; text-decoration-color: #800080; font-weight: bold\">P</span><span style=\"font-weight: bold\">(</span>k<span style=\"font-weight: bold\">)</span> in .<span style=\"color: #800080; text-decoration-color: #800080\">/boxlen100_n128_lcdmw7v2_00000//power/</span><span style=\"color: #ff00ff; text-decoration-color: #ff00ff\">pk_eft_multigrid_ncoarse7_00135.dat</span>                           \n",
       "</pre>\n"
      ],
      "text/plain": [
       "Write \u001b[1;35mP\u001b[0m\u001b[1m(\u001b[0mk\u001b[1m)\u001b[0m in .\u001b[35m/boxlen100_n128_lcdmw7v2_00000/\u001b[0m\u001b[35m/power/\u001b[0m\u001b[95mpk_eft_multigrid_ncoarse7_00135.dat\u001b[0m                           \n"
      ]
     },
     "metadata": {},
     "output_type": "display_data"
    },
    {
     "data": {
      "text/html": [
       "<pre style=\"white-space:pre;overflow-x:auto;line-height:normal;font-family:Menlo,'DejaVu Sans Mono',consolas,'Courier New',monospace\">param<span style=\"font-weight: bold\">[</span><span style=\"color: #008000; text-decoration-color: #008000\">'nsteps'</span><span style=\"font-weight: bold\">]</span>=<span style=\"color: #008080; text-decoration-color: #008080; font-weight: bold\">135</span> param<span style=\"font-weight: bold\">[</span><span style=\"color: #008000; text-decoration-color: #008000\">'aexp'</span><span style=\"font-weight: bold\">]</span>=<span style=\"color: #008080; text-decoration-color: #008080; font-weight: bold\">0.561027484758616</span> z = <span style=\"color: #008080; text-decoration-color: #008080; font-weight: bold\">0.7824438680223544</span>                                         \n",
       "</pre>\n"
      ],
      "text/plain": [
       "param\u001b[1m[\u001b[0m\u001b[32m'nsteps'\u001b[0m\u001b[1m]\u001b[0m=\u001b[1;36m135\u001b[0m param\u001b[1m[\u001b[0m\u001b[32m'aexp'\u001b[0m\u001b[1m]\u001b[0m=\u001b[1;36m0.561027484758616\u001b[0m z = \u001b[1;36m0.7824438680223544\u001b[0m                                         \n"
      ]
     },
     "metadata": {},
     "output_type": "display_data"
    },
    {
     "data": {
      "text/html": [
       "<pre style=\"white-space:pre;overflow-x:auto;line-height:normal;font-family:Menlo,'DejaVu Sans Mono',consolas,'Courier New',monospace\">Write <span style=\"color: #800080; text-decoration-color: #800080; font-weight: bold\">P</span><span style=\"font-weight: bold\">(</span>k<span style=\"font-weight: bold\">)</span> in .<span style=\"color: #800080; text-decoration-color: #800080\">/boxlen100_n128_lcdmw7v2_00000//power/</span><span style=\"color: #ff00ff; text-decoration-color: #ff00ff\">pk_eft_multigrid_ncoarse7_00136.dat</span>                           \n",
       "</pre>\n"
      ],
      "text/plain": [
       "Write \u001b[1;35mP\u001b[0m\u001b[1m(\u001b[0mk\u001b[1m)\u001b[0m in .\u001b[35m/boxlen100_n128_lcdmw7v2_00000/\u001b[0m\u001b[35m/power/\u001b[0m\u001b[95mpk_eft_multigrid_ncoarse7_00136.dat\u001b[0m                           \n"
      ]
     },
     "metadata": {},
     "output_type": "display_data"
    },
    {
     "data": {
      "text/html": [
       "<pre style=\"white-space:pre;overflow-x:auto;line-height:normal;font-family:Menlo,'DejaVu Sans Mono',consolas,'Courier New',monospace\">param<span style=\"font-weight: bold\">[</span><span style=\"color: #008000; text-decoration-color: #008000\">'nsteps'</span><span style=\"font-weight: bold\">]</span>=<span style=\"color: #008080; text-decoration-color: #008080; font-weight: bold\">136</span> param<span style=\"font-weight: bold\">[</span><span style=\"color: #008000; text-decoration-color: #008000\">'aexp'</span><span style=\"font-weight: bold\">]</span>=<span style=\"color: #008080; text-decoration-color: #008080; font-weight: bold\">0.561027484758616</span> z = <span style=\"color: #008080; text-decoration-color: #008080; font-weight: bold\">0.7824438680223544</span>                                         \n",
       "</pre>\n"
      ],
      "text/plain": [
       "param\u001b[1m[\u001b[0m\u001b[32m'nsteps'\u001b[0m\u001b[1m]\u001b[0m=\u001b[1;36m136\u001b[0m param\u001b[1m[\u001b[0m\u001b[32m'aexp'\u001b[0m\u001b[1m]\u001b[0m=\u001b[1;36m0.561027484758616\u001b[0m z = \u001b[1;36m0.7824438680223544\u001b[0m                                         \n"
      ]
     },
     "metadata": {},
     "output_type": "display_data"
    },
    {
     "data": {
      "text/html": [
       "<pre style=\"white-space:pre;overflow-x:auto;line-height:normal;font-family:Menlo,'DejaVu Sans Mono',consolas,'Courier New',monospace\">Write <span style=\"color: #800080; text-decoration-color: #800080; font-weight: bold\">P</span><span style=\"font-weight: bold\">(</span>k<span style=\"font-weight: bold\">)</span> in .<span style=\"color: #800080; text-decoration-color: #800080\">/boxlen100_n128_lcdmw7v2_00000//power/</span><span style=\"color: #ff00ff; text-decoration-color: #ff00ff\">pk_eft_multigrid_ncoarse7_00137.dat</span>                           \n",
       "</pre>\n"
      ],
      "text/plain": [
       "Write \u001b[1;35mP\u001b[0m\u001b[1m(\u001b[0mk\u001b[1m)\u001b[0m in .\u001b[35m/boxlen100_n128_lcdmw7v2_00000/\u001b[0m\u001b[35m/power/\u001b[0m\u001b[95mpk_eft_multigrid_ncoarse7_00137.dat\u001b[0m                           \n"
      ]
     },
     "metadata": {},
     "output_type": "display_data"
    },
    {
     "data": {
      "text/html": [
       "<pre style=\"white-space:pre;overflow-x:auto;line-height:normal;font-family:Menlo,'DejaVu Sans Mono',consolas,'Courier New',monospace\">param<span style=\"font-weight: bold\">[</span><span style=\"color: #008000; text-decoration-color: #008000\">'nsteps'</span><span style=\"font-weight: bold\">]</span>=<span style=\"color: #008080; text-decoration-color: #008080; font-weight: bold\">137</span> param<span style=\"font-weight: bold\">[</span><span style=\"color: #008000; text-decoration-color: #008000\">'aexp'</span><span style=\"font-weight: bold\">]</span>=<span style=\"color: #008080; text-decoration-color: #008080; font-weight: bold\">0.561027484758616</span> z = <span style=\"color: #008080; text-decoration-color: #008080; font-weight: bold\">0.7824438680223544</span>                                         \n",
       "</pre>\n"
      ],
      "text/plain": [
       "param\u001b[1m[\u001b[0m\u001b[32m'nsteps'\u001b[0m\u001b[1m]\u001b[0m=\u001b[1;36m137\u001b[0m param\u001b[1m[\u001b[0m\u001b[32m'aexp'\u001b[0m\u001b[1m]\u001b[0m=\u001b[1;36m0.561027484758616\u001b[0m z = \u001b[1;36m0.7824438680223544\u001b[0m                                         \n"
      ]
     },
     "metadata": {},
     "output_type": "display_data"
    },
    {
     "data": {
      "text/html": [
       "<pre style=\"white-space:pre;overflow-x:auto;line-height:normal;font-family:Menlo,'DejaVu Sans Mono',consolas,'Courier New',monospace\">Write <span style=\"color: #800080; text-decoration-color: #800080; font-weight: bold\">P</span><span style=\"font-weight: bold\">(</span>k<span style=\"font-weight: bold\">)</span> in .<span style=\"color: #800080; text-decoration-color: #800080\">/boxlen100_n128_lcdmw7v2_00000//power/</span><span style=\"color: #ff00ff; text-decoration-color: #ff00ff\">pk_eft_multigrid_ncoarse7_00138.dat</span>                           \n",
       "</pre>\n"
      ],
      "text/plain": [
       "Write \u001b[1;35mP\u001b[0m\u001b[1m(\u001b[0mk\u001b[1m)\u001b[0m in .\u001b[35m/boxlen100_n128_lcdmw7v2_00000/\u001b[0m\u001b[35m/power/\u001b[0m\u001b[95mpk_eft_multigrid_ncoarse7_00138.dat\u001b[0m                           \n"
      ]
     },
     "metadata": {},
     "output_type": "display_data"
    },
    {
     "data": {
      "text/html": [
       "<pre style=\"white-space:pre;overflow-x:auto;line-height:normal;font-family:Menlo,'DejaVu Sans Mono',consolas,'Courier New',monospace\">param<span style=\"font-weight: bold\">[</span><span style=\"color: #008000; text-decoration-color: #008000\">'nsteps'</span><span style=\"font-weight: bold\">]</span>=<span style=\"color: #008080; text-decoration-color: #008080; font-weight: bold\">138</span> param<span style=\"font-weight: bold\">[</span><span style=\"color: #008000; text-decoration-color: #008000\">'aexp'</span><span style=\"font-weight: bold\">]</span>=<span style=\"color: #008080; text-decoration-color: #008080; font-weight: bold\">0.561027484758616</span> z = <span style=\"color: #008080; text-decoration-color: #008080; font-weight: bold\">0.7824438680223544</span>                                         \n",
       "</pre>\n"
      ],
      "text/plain": [
       "param\u001b[1m[\u001b[0m\u001b[32m'nsteps'\u001b[0m\u001b[1m]\u001b[0m=\u001b[1;36m138\u001b[0m param\u001b[1m[\u001b[0m\u001b[32m'aexp'\u001b[0m\u001b[1m]\u001b[0m=\u001b[1;36m0.561027484758616\u001b[0m z = \u001b[1;36m0.7824438680223544\u001b[0m                                         \n"
      ]
     },
     "metadata": {},
     "output_type": "display_data"
    },
    {
     "data": {
      "text/html": [
       "<pre style=\"white-space:pre;overflow-x:auto;line-height:normal;font-family:Menlo,'DejaVu Sans Mono',consolas,'Courier New',monospace\">Write <span style=\"color: #800080; text-decoration-color: #800080; font-weight: bold\">P</span><span style=\"font-weight: bold\">(</span>k<span style=\"font-weight: bold\">)</span> in .<span style=\"color: #800080; text-decoration-color: #800080\">/boxlen100_n128_lcdmw7v2_00000//power/</span><span style=\"color: #ff00ff; text-decoration-color: #ff00ff\">pk_eft_multigrid_ncoarse7_00139.dat</span>                           \n",
       "</pre>\n"
      ],
      "text/plain": [
       "Write \u001b[1;35mP\u001b[0m\u001b[1m(\u001b[0mk\u001b[1m)\u001b[0m in .\u001b[35m/boxlen100_n128_lcdmw7v2_00000/\u001b[0m\u001b[35m/power/\u001b[0m\u001b[95mpk_eft_multigrid_ncoarse7_00139.dat\u001b[0m                           \n"
      ]
     },
     "metadata": {},
     "output_type": "display_data"
    },
    {
     "data": {
      "text/html": [
       "<pre style=\"white-space:pre;overflow-x:auto;line-height:normal;font-family:Menlo,'DejaVu Sans Mono',consolas,'Courier New',monospace\">param<span style=\"font-weight: bold\">[</span><span style=\"color: #008000; text-decoration-color: #008000\">'nsteps'</span><span style=\"font-weight: bold\">]</span>=<span style=\"color: #008080; text-decoration-color: #008080; font-weight: bold\">139</span> param<span style=\"font-weight: bold\">[</span><span style=\"color: #008000; text-decoration-color: #008000\">'aexp'</span><span style=\"font-weight: bold\">]</span>=<span style=\"color: #008080; text-decoration-color: #008080; font-weight: bold\">0.561027484758616</span> z = <span style=\"color: #008080; text-decoration-color: #008080; font-weight: bold\">0.7824438680223544</span>                                         \n",
       "</pre>\n"
      ],
      "text/plain": [
       "param\u001b[1m[\u001b[0m\u001b[32m'nsteps'\u001b[0m\u001b[1m]\u001b[0m=\u001b[1;36m139\u001b[0m param\u001b[1m[\u001b[0m\u001b[32m'aexp'\u001b[0m\u001b[1m]\u001b[0m=\u001b[1;36m0.561027484758616\u001b[0m z = \u001b[1;36m0.7824438680223544\u001b[0m                                         \n"
      ]
     },
     "metadata": {},
     "output_type": "display_data"
    },
    {
     "data": {
      "text/html": [
       "<pre style=\"white-space:pre;overflow-x:auto;line-height:normal;font-family:Menlo,'DejaVu Sans Mono',consolas,'Courier New',monospace\">Write <span style=\"color: #800080; text-decoration-color: #800080; font-weight: bold\">P</span><span style=\"font-weight: bold\">(</span>k<span style=\"font-weight: bold\">)</span> in .<span style=\"color: #800080; text-decoration-color: #800080\">/boxlen100_n128_lcdmw7v2_00000//power/</span><span style=\"color: #ff00ff; text-decoration-color: #ff00ff\">pk_eft_multigrid_ncoarse7_00140.dat</span>                           \n",
       "</pre>\n"
      ],
      "text/plain": [
       "Write \u001b[1;35mP\u001b[0m\u001b[1m(\u001b[0mk\u001b[1m)\u001b[0m in .\u001b[35m/boxlen100_n128_lcdmw7v2_00000/\u001b[0m\u001b[35m/power/\u001b[0m\u001b[95mpk_eft_multigrid_ncoarse7_00140.dat\u001b[0m                           \n"
      ]
     },
     "metadata": {},
     "output_type": "display_data"
    },
    {
     "data": {
      "text/html": [
       "<pre style=\"white-space:pre;overflow-x:auto;line-height:normal;font-family:Menlo,'DejaVu Sans Mono',consolas,'Courier New',monospace\">param<span style=\"font-weight: bold\">[</span><span style=\"color: #008000; text-decoration-color: #008000\">'nsteps'</span><span style=\"font-weight: bold\">]</span>=<span style=\"color: #008080; text-decoration-color: #008080; font-weight: bold\">140</span> param<span style=\"font-weight: bold\">[</span><span style=\"color: #008000; text-decoration-color: #008000\">'aexp'</span><span style=\"font-weight: bold\">]</span>=<span style=\"color: #008080; text-decoration-color: #008080; font-weight: bold\">0.561027484758616</span> z = <span style=\"color: #008080; text-decoration-color: #008080; font-weight: bold\">0.7824438680223544</span>                                         \n",
       "</pre>\n"
      ],
      "text/plain": [
       "param\u001b[1m[\u001b[0m\u001b[32m'nsteps'\u001b[0m\u001b[1m]\u001b[0m=\u001b[1;36m140\u001b[0m param\u001b[1m[\u001b[0m\u001b[32m'aexp'\u001b[0m\u001b[1m]\u001b[0m=\u001b[1;36m0.561027484758616\u001b[0m z = \u001b[1;36m0.7824438680223544\u001b[0m                                         \n"
      ]
     },
     "metadata": {},
     "output_type": "display_data"
    },
    {
     "data": {
      "text/html": [
       "<pre style=\"white-space:pre;overflow-x:auto;line-height:normal;font-family:Menlo,'DejaVu Sans Mono',consolas,'Courier New',monospace\">Write <span style=\"color: #800080; text-decoration-color: #800080; font-weight: bold\">P</span><span style=\"font-weight: bold\">(</span>k<span style=\"font-weight: bold\">)</span> in .<span style=\"color: #800080; text-decoration-color: #800080\">/boxlen100_n128_lcdmw7v2_00000//power/</span><span style=\"color: #ff00ff; text-decoration-color: #ff00ff\">pk_eft_multigrid_ncoarse7_00141.dat</span>                           \n",
       "</pre>\n"
      ],
      "text/plain": [
       "Write \u001b[1;35mP\u001b[0m\u001b[1m(\u001b[0mk\u001b[1m)\u001b[0m in .\u001b[35m/boxlen100_n128_lcdmw7v2_00000/\u001b[0m\u001b[35m/power/\u001b[0m\u001b[95mpk_eft_multigrid_ncoarse7_00141.dat\u001b[0m                           \n"
      ]
     },
     "metadata": {},
     "output_type": "display_data"
    },
    {
     "data": {
      "text/html": [
       "<pre style=\"white-space:pre;overflow-x:auto;line-height:normal;font-family:Menlo,'DejaVu Sans Mono',consolas,'Courier New',monospace\">param<span style=\"font-weight: bold\">[</span><span style=\"color: #008000; text-decoration-color: #008000\">'nsteps'</span><span style=\"font-weight: bold\">]</span>=<span style=\"color: #008080; text-decoration-color: #008080; font-weight: bold\">141</span> param<span style=\"font-weight: bold\">[</span><span style=\"color: #008000; text-decoration-color: #008000\">'aexp'</span><span style=\"font-weight: bold\">]</span>=<span style=\"color: #008080; text-decoration-color: #008080; font-weight: bold\">0.561027484758616</span> z = <span style=\"color: #008080; text-decoration-color: #008080; font-weight: bold\">0.7824438680223544</span>                                         \n",
       "</pre>\n"
      ],
      "text/plain": [
       "param\u001b[1m[\u001b[0m\u001b[32m'nsteps'\u001b[0m\u001b[1m]\u001b[0m=\u001b[1;36m141\u001b[0m param\u001b[1m[\u001b[0m\u001b[32m'aexp'\u001b[0m\u001b[1m]\u001b[0m=\u001b[1;36m0.561027484758616\u001b[0m z = \u001b[1;36m0.7824438680223544\u001b[0m                                         \n"
      ]
     },
     "metadata": {},
     "output_type": "display_data"
    },
    {
     "data": {
      "text/html": [
       "<pre style=\"white-space:pre;overflow-x:auto;line-height:normal;font-family:Menlo,'DejaVu Sans Mono',consolas,'Courier New',monospace\">Write <span style=\"color: #800080; text-decoration-color: #800080; font-weight: bold\">P</span><span style=\"font-weight: bold\">(</span>k<span style=\"font-weight: bold\">)</span> in .<span style=\"color: #800080; text-decoration-color: #800080\">/boxlen100_n128_lcdmw7v2_00000//power/</span><span style=\"color: #ff00ff; text-decoration-color: #ff00ff\">pk_eft_multigrid_ncoarse7_00142.dat</span>                           \n",
       "</pre>\n"
      ],
      "text/plain": [
       "Write \u001b[1;35mP\u001b[0m\u001b[1m(\u001b[0mk\u001b[1m)\u001b[0m in .\u001b[35m/boxlen100_n128_lcdmw7v2_00000/\u001b[0m\u001b[35m/power/\u001b[0m\u001b[95mpk_eft_multigrid_ncoarse7_00142.dat\u001b[0m                           \n"
      ]
     },
     "metadata": {},
     "output_type": "display_data"
    },
    {
     "data": {
      "text/html": [
       "<pre style=\"white-space:pre;overflow-x:auto;line-height:normal;font-family:Menlo,'DejaVu Sans Mono',consolas,'Courier New',monospace\">param<span style=\"font-weight: bold\">[</span><span style=\"color: #008000; text-decoration-color: #008000\">'nsteps'</span><span style=\"font-weight: bold\">]</span>=<span style=\"color: #008080; text-decoration-color: #008080; font-weight: bold\">142</span> param<span style=\"font-weight: bold\">[</span><span style=\"color: #008000; text-decoration-color: #008000\">'aexp'</span><span style=\"font-weight: bold\">]</span>=<span style=\"color: #008080; text-decoration-color: #008080; font-weight: bold\">0.561027484758616</span> z = <span style=\"color: #008080; text-decoration-color: #008080; font-weight: bold\">0.7824438680223544</span>                                         \n",
       "</pre>\n"
      ],
      "text/plain": [
       "param\u001b[1m[\u001b[0m\u001b[32m'nsteps'\u001b[0m\u001b[1m]\u001b[0m=\u001b[1;36m142\u001b[0m param\u001b[1m[\u001b[0m\u001b[32m'aexp'\u001b[0m\u001b[1m]\u001b[0m=\u001b[1;36m0.561027484758616\u001b[0m z = \u001b[1;36m0.7824438680223544\u001b[0m                                         \n"
      ]
     },
     "metadata": {},
     "output_type": "display_data"
    },
    {
     "data": {
      "text/html": [
       "<pre style=\"white-space:pre;overflow-x:auto;line-height:normal;font-family:Menlo,'DejaVu Sans Mono',consolas,'Courier New',monospace\">Write <span style=\"color: #800080; text-decoration-color: #800080; font-weight: bold\">P</span><span style=\"font-weight: bold\">(</span>k<span style=\"font-weight: bold\">)</span> in .<span style=\"color: #800080; text-decoration-color: #800080\">/boxlen100_n128_lcdmw7v2_00000//power/</span><span style=\"color: #ff00ff; text-decoration-color: #ff00ff\">pk_eft_multigrid_ncoarse7_00143.dat</span>                           \n",
       "</pre>\n"
      ],
      "text/plain": [
       "Write \u001b[1;35mP\u001b[0m\u001b[1m(\u001b[0mk\u001b[1m)\u001b[0m in .\u001b[35m/boxlen100_n128_lcdmw7v2_00000/\u001b[0m\u001b[35m/power/\u001b[0m\u001b[95mpk_eft_multigrid_ncoarse7_00143.dat\u001b[0m                           \n"
      ]
     },
     "metadata": {},
     "output_type": "display_data"
    },
    {
     "data": {
      "text/html": [
       "<pre style=\"white-space:pre;overflow-x:auto;line-height:normal;font-family:Menlo,'DejaVu Sans Mono',consolas,'Courier New',monospace\">param<span style=\"font-weight: bold\">[</span><span style=\"color: #008000; text-decoration-color: #008000\">'nsteps'</span><span style=\"font-weight: bold\">]</span>=<span style=\"color: #008080; text-decoration-color: #008080; font-weight: bold\">143</span> param<span style=\"font-weight: bold\">[</span><span style=\"color: #008000; text-decoration-color: #008000\">'aexp'</span><span style=\"font-weight: bold\">]</span>=<span style=\"color: #008080; text-decoration-color: #008080; font-weight: bold\">0.561027484758616</span> z = <span style=\"color: #008080; text-decoration-color: #008080; font-weight: bold\">0.7824438680223544</span>                                         \n",
       "</pre>\n"
      ],
      "text/plain": [
       "param\u001b[1m[\u001b[0m\u001b[32m'nsteps'\u001b[0m\u001b[1m]\u001b[0m=\u001b[1;36m143\u001b[0m param\u001b[1m[\u001b[0m\u001b[32m'aexp'\u001b[0m\u001b[1m]\u001b[0m=\u001b[1;36m0.561027484758616\u001b[0m z = \u001b[1;36m0.7824438680223544\u001b[0m                                         \n"
      ]
     },
     "metadata": {},
     "output_type": "display_data"
    },
    {
     "data": {
      "text/html": [
       "<pre style=\"white-space:pre;overflow-x:auto;line-height:normal;font-family:Menlo,'DejaVu Sans Mono',consolas,'Courier New',monospace\">Write <span style=\"color: #800080; text-decoration-color: #800080; font-weight: bold\">P</span><span style=\"font-weight: bold\">(</span>k<span style=\"font-weight: bold\">)</span> in .<span style=\"color: #800080; text-decoration-color: #800080\">/boxlen100_n128_lcdmw7v2_00000//power/</span><span style=\"color: #ff00ff; text-decoration-color: #ff00ff\">pk_eft_multigrid_ncoarse7_00144.dat</span>                           \n",
       "</pre>\n"
      ],
      "text/plain": [
       "Write \u001b[1;35mP\u001b[0m\u001b[1m(\u001b[0mk\u001b[1m)\u001b[0m in .\u001b[35m/boxlen100_n128_lcdmw7v2_00000/\u001b[0m\u001b[35m/power/\u001b[0m\u001b[95mpk_eft_multigrid_ncoarse7_00144.dat\u001b[0m                           \n"
      ]
     },
     "metadata": {},
     "output_type": "display_data"
    },
    {
     "data": {
      "text/html": [
       "<pre style=\"white-space:pre;overflow-x:auto;line-height:normal;font-family:Menlo,'DejaVu Sans Mono',consolas,'Courier New',monospace\">param<span style=\"font-weight: bold\">[</span><span style=\"color: #008000; text-decoration-color: #008000\">'nsteps'</span><span style=\"font-weight: bold\">]</span>=<span style=\"color: #008080; text-decoration-color: #008080; font-weight: bold\">144</span> param<span style=\"font-weight: bold\">[</span><span style=\"color: #008000; text-decoration-color: #008000\">'aexp'</span><span style=\"font-weight: bold\">]</span>=<span style=\"color: #008080; text-decoration-color: #008080; font-weight: bold\">0.561027484758616</span> z = <span style=\"color: #008080; text-decoration-color: #008080; font-weight: bold\">0.7824438680223544</span>                                         \n",
       "</pre>\n"
      ],
      "text/plain": [
       "param\u001b[1m[\u001b[0m\u001b[32m'nsteps'\u001b[0m\u001b[1m]\u001b[0m=\u001b[1;36m144\u001b[0m param\u001b[1m[\u001b[0m\u001b[32m'aexp'\u001b[0m\u001b[1m]\u001b[0m=\u001b[1;36m0.561027484758616\u001b[0m z = \u001b[1;36m0.7824438680223544\u001b[0m                                         \n"
      ]
     },
     "metadata": {},
     "output_type": "display_data"
    },
    {
     "data": {
      "text/html": [
       "<pre style=\"white-space:pre;overflow-x:auto;line-height:normal;font-family:Menlo,'DejaVu Sans Mono',consolas,'Courier New',monospace\">Write <span style=\"color: #800080; text-decoration-color: #800080; font-weight: bold\">P</span><span style=\"font-weight: bold\">(</span>k<span style=\"font-weight: bold\">)</span> in .<span style=\"color: #800080; text-decoration-color: #800080\">/boxlen100_n128_lcdmw7v2_00000//power/</span><span style=\"color: #ff00ff; text-decoration-color: #ff00ff\">pk_eft_multigrid_ncoarse7_00145.dat</span>                           \n",
       "</pre>\n"
      ],
      "text/plain": [
       "Write \u001b[1;35mP\u001b[0m\u001b[1m(\u001b[0mk\u001b[1m)\u001b[0m in .\u001b[35m/boxlen100_n128_lcdmw7v2_00000/\u001b[0m\u001b[35m/power/\u001b[0m\u001b[95mpk_eft_multigrid_ncoarse7_00145.dat\u001b[0m                           \n"
      ]
     },
     "metadata": {},
     "output_type": "display_data"
    },
    {
     "data": {
      "text/html": [
       "<pre style=\"white-space:pre;overflow-x:auto;line-height:normal;font-family:Menlo,'DejaVu Sans Mono',consolas,'Courier New',monospace\">param<span style=\"font-weight: bold\">[</span><span style=\"color: #008000; text-decoration-color: #008000\">'nsteps'</span><span style=\"font-weight: bold\">]</span>=<span style=\"color: #008080; text-decoration-color: #008080; font-weight: bold\">145</span> param<span style=\"font-weight: bold\">[</span><span style=\"color: #008000; text-decoration-color: #008000\">'aexp'</span><span style=\"font-weight: bold\">]</span>=<span style=\"color: #008080; text-decoration-color: #008080; font-weight: bold\">0.561027484758616</span> z = <span style=\"color: #008080; text-decoration-color: #008080; font-weight: bold\">0.7824438680223544</span>                                         \n",
       "</pre>\n"
      ],
      "text/plain": [
       "param\u001b[1m[\u001b[0m\u001b[32m'nsteps'\u001b[0m\u001b[1m]\u001b[0m=\u001b[1;36m145\u001b[0m param\u001b[1m[\u001b[0m\u001b[32m'aexp'\u001b[0m\u001b[1m]\u001b[0m=\u001b[1;36m0.561027484758616\u001b[0m z = \u001b[1;36m0.7824438680223544\u001b[0m                                         \n"
      ]
     },
     "metadata": {},
     "output_type": "display_data"
    },
    {
     "data": {
      "text/html": [
       "<pre style=\"white-space:pre;overflow-x:auto;line-height:normal;font-family:Menlo,'DejaVu Sans Mono',consolas,'Courier New',monospace\">Write <span style=\"color: #800080; text-decoration-color: #800080; font-weight: bold\">P</span><span style=\"font-weight: bold\">(</span>k<span style=\"font-weight: bold\">)</span> in .<span style=\"color: #800080; text-decoration-color: #800080\">/boxlen100_n128_lcdmw7v2_00000//power/</span><span style=\"color: #ff00ff; text-decoration-color: #ff00ff\">pk_eft_multigrid_ncoarse7_00146.dat</span>                           \n",
       "</pre>\n"
      ],
      "text/plain": [
       "Write \u001b[1;35mP\u001b[0m\u001b[1m(\u001b[0mk\u001b[1m)\u001b[0m in .\u001b[35m/boxlen100_n128_lcdmw7v2_00000/\u001b[0m\u001b[35m/power/\u001b[0m\u001b[95mpk_eft_multigrid_ncoarse7_00146.dat\u001b[0m                           \n"
      ]
     },
     "metadata": {},
     "output_type": "display_data"
    },
    {
     "data": {
      "text/html": [
       "<pre style=\"white-space:pre;overflow-x:auto;line-height:normal;font-family:Menlo,'DejaVu Sans Mono',consolas,'Courier New',monospace\">param<span style=\"font-weight: bold\">[</span><span style=\"color: #008000; text-decoration-color: #008000\">'nsteps'</span><span style=\"font-weight: bold\">]</span>=<span style=\"color: #008080; text-decoration-color: #008080; font-weight: bold\">146</span> param<span style=\"font-weight: bold\">[</span><span style=\"color: #008000; text-decoration-color: #008000\">'aexp'</span><span style=\"font-weight: bold\">]</span>=<span style=\"color: #008080; text-decoration-color: #008080; font-weight: bold\">0.561027484758616</span> z = <span style=\"color: #008080; text-decoration-color: #008080; font-weight: bold\">0.7824438680223544</span>                                         \n",
       "</pre>\n"
      ],
      "text/plain": [
       "param\u001b[1m[\u001b[0m\u001b[32m'nsteps'\u001b[0m\u001b[1m]\u001b[0m=\u001b[1;36m146\u001b[0m param\u001b[1m[\u001b[0m\u001b[32m'aexp'\u001b[0m\u001b[1m]\u001b[0m=\u001b[1;36m0.561027484758616\u001b[0m z = \u001b[1;36m0.7824438680223544\u001b[0m                                         \n"
      ]
     },
     "metadata": {},
     "output_type": "display_data"
    },
    {
     "data": {
      "text/html": [
       "<pre style=\"white-space:pre;overflow-x:auto;line-height:normal;font-family:Menlo,'DejaVu Sans Mono',consolas,'Courier New',monospace\">Write <span style=\"color: #800080; text-decoration-color: #800080; font-weight: bold\">P</span><span style=\"font-weight: bold\">(</span>k<span style=\"font-weight: bold\">)</span> in .<span style=\"color: #800080; text-decoration-color: #800080\">/boxlen100_n128_lcdmw7v2_00000//power/</span><span style=\"color: #ff00ff; text-decoration-color: #ff00ff\">pk_eft_multigrid_ncoarse7_00147.dat</span>                           \n",
       "</pre>\n"
      ],
      "text/plain": [
       "Write \u001b[1;35mP\u001b[0m\u001b[1m(\u001b[0mk\u001b[1m)\u001b[0m in .\u001b[35m/boxlen100_n128_lcdmw7v2_00000/\u001b[0m\u001b[35m/power/\u001b[0m\u001b[95mpk_eft_multigrid_ncoarse7_00147.dat\u001b[0m                           \n"
      ]
     },
     "metadata": {},
     "output_type": "display_data"
    },
    {
     "data": {
      "text/html": [
       "<pre style=\"white-space:pre;overflow-x:auto;line-height:normal;font-family:Menlo,'DejaVu Sans Mono',consolas,'Courier New',monospace\">param<span style=\"font-weight: bold\">[</span><span style=\"color: #008000; text-decoration-color: #008000\">'nsteps'</span><span style=\"font-weight: bold\">]</span>=<span style=\"color: #008080; text-decoration-color: #008080; font-weight: bold\">147</span> param<span style=\"font-weight: bold\">[</span><span style=\"color: #008000; text-decoration-color: #008000\">'aexp'</span><span style=\"font-weight: bold\">]</span>=<span style=\"color: #008080; text-decoration-color: #008080; font-weight: bold\">0.561027484758616</span> z = <span style=\"color: #008080; text-decoration-color: #008080; font-weight: bold\">0.7824438680223544</span>                                         \n",
       "</pre>\n"
      ],
      "text/plain": [
       "param\u001b[1m[\u001b[0m\u001b[32m'nsteps'\u001b[0m\u001b[1m]\u001b[0m=\u001b[1;36m147\u001b[0m param\u001b[1m[\u001b[0m\u001b[32m'aexp'\u001b[0m\u001b[1m]\u001b[0m=\u001b[1;36m0.561027484758616\u001b[0m z = \u001b[1;36m0.7824438680223544\u001b[0m                                         \n"
      ]
     },
     "metadata": {},
     "output_type": "display_data"
    },
    {
     "data": {
      "text/html": [
       "<pre style=\"white-space:pre;overflow-x:auto;line-height:normal;font-family:Menlo,'DejaVu Sans Mono',consolas,'Courier New',monospace\">Write <span style=\"color: #800080; text-decoration-color: #800080; font-weight: bold\">P</span><span style=\"font-weight: bold\">(</span>k<span style=\"font-weight: bold\">)</span> in .<span style=\"color: #800080; text-decoration-color: #800080\">/boxlen100_n128_lcdmw7v2_00000//power/</span><span style=\"color: #ff00ff; text-decoration-color: #ff00ff\">pk_eft_multigrid_ncoarse7_00148.dat</span>                           \n",
       "</pre>\n"
      ],
      "text/plain": [
       "Write \u001b[1;35mP\u001b[0m\u001b[1m(\u001b[0mk\u001b[1m)\u001b[0m in .\u001b[35m/boxlen100_n128_lcdmw7v2_00000/\u001b[0m\u001b[35m/power/\u001b[0m\u001b[95mpk_eft_multigrid_ncoarse7_00148.dat\u001b[0m                           \n"
      ]
     },
     "metadata": {},
     "output_type": "display_data"
    },
    {
     "data": {
      "text/html": [
       "<pre style=\"white-space:pre;overflow-x:auto;line-height:normal;font-family:Menlo,'DejaVu Sans Mono',consolas,'Courier New',monospace\">param<span style=\"font-weight: bold\">[</span><span style=\"color: #008000; text-decoration-color: #008000\">'nsteps'</span><span style=\"font-weight: bold\">]</span>=<span style=\"color: #008080; text-decoration-color: #008080; font-weight: bold\">148</span> param<span style=\"font-weight: bold\">[</span><span style=\"color: #008000; text-decoration-color: #008000\">'aexp'</span><span style=\"font-weight: bold\">]</span>=<span style=\"color: #008080; text-decoration-color: #008080; font-weight: bold\">0.561027484758616</span> z = <span style=\"color: #008080; text-decoration-color: #008080; font-weight: bold\">0.7824438680223544</span>                                         \n",
       "</pre>\n"
      ],
      "text/plain": [
       "param\u001b[1m[\u001b[0m\u001b[32m'nsteps'\u001b[0m\u001b[1m]\u001b[0m=\u001b[1;36m148\u001b[0m param\u001b[1m[\u001b[0m\u001b[32m'aexp'\u001b[0m\u001b[1m]\u001b[0m=\u001b[1;36m0.561027484758616\u001b[0m z = \u001b[1;36m0.7824438680223544\u001b[0m                                         \n"
      ]
     },
     "metadata": {},
     "output_type": "display_data"
    },
    {
     "data": {
      "text/html": [
       "<pre style=\"white-space:pre;overflow-x:auto;line-height:normal;font-family:Menlo,'DejaVu Sans Mono',consolas,'Courier New',monospace\">Write <span style=\"color: #800080; text-decoration-color: #800080; font-weight: bold\">P</span><span style=\"font-weight: bold\">(</span>k<span style=\"font-weight: bold\">)</span> in .<span style=\"color: #800080; text-decoration-color: #800080\">/boxlen100_n128_lcdmw7v2_00000//power/</span><span style=\"color: #ff00ff; text-decoration-color: #ff00ff\">pk_eft_multigrid_ncoarse7_00149.dat</span>                           \n",
       "</pre>\n"
      ],
      "text/plain": [
       "Write \u001b[1;35mP\u001b[0m\u001b[1m(\u001b[0mk\u001b[1m)\u001b[0m in .\u001b[35m/boxlen100_n128_lcdmw7v2_00000/\u001b[0m\u001b[35m/power/\u001b[0m\u001b[95mpk_eft_multigrid_ncoarse7_00149.dat\u001b[0m                           \n"
      ]
     },
     "metadata": {},
     "output_type": "display_data"
    },
    {
     "data": {
      "text/html": [
       "<pre style=\"white-space:pre;overflow-x:auto;line-height:normal;font-family:Menlo,'DejaVu Sans Mono',consolas,'Courier New',monospace\">param<span style=\"font-weight: bold\">[</span><span style=\"color: #008000; text-decoration-color: #008000\">'nsteps'</span><span style=\"font-weight: bold\">]</span>=<span style=\"color: #008080; text-decoration-color: #008080; font-weight: bold\">149</span> param<span style=\"font-weight: bold\">[</span><span style=\"color: #008000; text-decoration-color: #008000\">'aexp'</span><span style=\"font-weight: bold\">]</span>=<span style=\"color: #008080; text-decoration-color: #008080; font-weight: bold\">0.561027484758616</span> z = <span style=\"color: #008080; text-decoration-color: #008080; font-weight: bold\">0.7824438680223544</span>                                         \n",
       "</pre>\n"
      ],
      "text/plain": [
       "param\u001b[1m[\u001b[0m\u001b[32m'nsteps'\u001b[0m\u001b[1m]\u001b[0m=\u001b[1;36m149\u001b[0m param\u001b[1m[\u001b[0m\u001b[32m'aexp'\u001b[0m\u001b[1m]\u001b[0m=\u001b[1;36m0.561027484758616\u001b[0m z = \u001b[1;36m0.7824438680223544\u001b[0m                                         \n"
      ]
     },
     "metadata": {},
     "output_type": "display_data"
    },
    {
     "data": {
      "text/html": [
       "<pre style=\"white-space:pre;overflow-x:auto;line-height:normal;font-family:Menlo,'DejaVu Sans Mono',consolas,'Courier New',monospace\">Write <span style=\"color: #800080; text-decoration-color: #800080; font-weight: bold\">P</span><span style=\"font-weight: bold\">(</span>k<span style=\"font-weight: bold\">)</span> in .<span style=\"color: #800080; text-decoration-color: #800080\">/boxlen100_n128_lcdmw7v2_00000//power/</span><span style=\"color: #ff00ff; text-decoration-color: #ff00ff\">pk_eft_multigrid_ncoarse7_00150.dat</span>                           \n",
       "</pre>\n"
      ],
      "text/plain": [
       "Write \u001b[1;35mP\u001b[0m\u001b[1m(\u001b[0mk\u001b[1m)\u001b[0m in .\u001b[35m/boxlen100_n128_lcdmw7v2_00000/\u001b[0m\u001b[35m/power/\u001b[0m\u001b[95mpk_eft_multigrid_ncoarse7_00150.dat\u001b[0m                           \n"
      ]
     },
     "metadata": {},
     "output_type": "display_data"
    },
    {
     "data": {
      "text/html": [
       "<pre style=\"white-space:pre;overflow-x:auto;line-height:normal;font-family:Menlo,'DejaVu Sans Mono',consolas,'Courier New',monospace\">param<span style=\"font-weight: bold\">[</span><span style=\"color: #008000; text-decoration-color: #008000\">'nsteps'</span><span style=\"font-weight: bold\">]</span>=<span style=\"color: #008080; text-decoration-color: #008080; font-weight: bold\">150</span> param<span style=\"font-weight: bold\">[</span><span style=\"color: #008000; text-decoration-color: #008000\">'aexp'</span><span style=\"font-weight: bold\">]</span>=<span style=\"color: #008080; text-decoration-color: #008080; font-weight: bold\">0.561027484758616</span> z = <span style=\"color: #008080; text-decoration-color: #008080; font-weight: bold\">0.7824438680223544</span>                                         \n",
       "</pre>\n"
      ],
      "text/plain": [
       "param\u001b[1m[\u001b[0m\u001b[32m'nsteps'\u001b[0m\u001b[1m]\u001b[0m=\u001b[1;36m150\u001b[0m param\u001b[1m[\u001b[0m\u001b[32m'aexp'\u001b[0m\u001b[1m]\u001b[0m=\u001b[1;36m0.561027484758616\u001b[0m z = \u001b[1;36m0.7824438680223544\u001b[0m                                         \n"
      ]
     },
     "metadata": {},
     "output_type": "display_data"
    },
    {
     "data": {
      "text/html": [
       "<pre style=\"white-space:pre;overflow-x:auto;line-height:normal;font-family:Menlo,'DejaVu Sans Mono',consolas,'Courier New',monospace\">Write <span style=\"color: #800080; text-decoration-color: #800080; font-weight: bold\">P</span><span style=\"font-weight: bold\">(</span>k<span style=\"font-weight: bold\">)</span> in .<span style=\"color: #800080; text-decoration-color: #800080\">/boxlen100_n128_lcdmw7v2_00000//power/</span><span style=\"color: #ff00ff; text-decoration-color: #ff00ff\">pk_eft_multigrid_ncoarse7_00151.dat</span>                           \n",
       "</pre>\n"
      ],
      "text/plain": [
       "Write \u001b[1;35mP\u001b[0m\u001b[1m(\u001b[0mk\u001b[1m)\u001b[0m in .\u001b[35m/boxlen100_n128_lcdmw7v2_00000/\u001b[0m\u001b[35m/power/\u001b[0m\u001b[95mpk_eft_multigrid_ncoarse7_00151.dat\u001b[0m                           \n"
      ]
     },
     "metadata": {},
     "output_type": "display_data"
    },
    {
     "data": {
      "text/html": [
       "<pre style=\"white-space:pre;overflow-x:auto;line-height:normal;font-family:Menlo,'DejaVu Sans Mono',consolas,'Courier New',monospace\">param<span style=\"font-weight: bold\">[</span><span style=\"color: #008000; text-decoration-color: #008000\">'nsteps'</span><span style=\"font-weight: bold\">]</span>=<span style=\"color: #008080; text-decoration-color: #008080; font-weight: bold\">151</span> param<span style=\"font-weight: bold\">[</span><span style=\"color: #008000; text-decoration-color: #008000\">'aexp'</span><span style=\"font-weight: bold\">]</span>=<span style=\"color: #008080; text-decoration-color: #008080; font-weight: bold\">0.561027484758616</span> z = <span style=\"color: #008080; text-decoration-color: #008080; font-weight: bold\">0.7824438680223544</span>                                         \n",
       "</pre>\n"
      ],
      "text/plain": [
       "param\u001b[1m[\u001b[0m\u001b[32m'nsteps'\u001b[0m\u001b[1m]\u001b[0m=\u001b[1;36m151\u001b[0m param\u001b[1m[\u001b[0m\u001b[32m'aexp'\u001b[0m\u001b[1m]\u001b[0m=\u001b[1;36m0.561027484758616\u001b[0m z = \u001b[1;36m0.7824438680223544\u001b[0m                                         \n"
      ]
     },
     "metadata": {},
     "output_type": "display_data"
    },
    {
     "data": {
      "text/html": [
       "<pre style=\"white-space:pre;overflow-x:auto;line-height:normal;font-family:Menlo,'DejaVu Sans Mono',consolas,'Courier New',monospace\">Write <span style=\"color: #800080; text-decoration-color: #800080; font-weight: bold\">P</span><span style=\"font-weight: bold\">(</span>k<span style=\"font-weight: bold\">)</span> in .<span style=\"color: #800080; text-decoration-color: #800080\">/boxlen100_n128_lcdmw7v2_00000//power/</span><span style=\"color: #ff00ff; text-decoration-color: #ff00ff\">pk_eft_multigrid_ncoarse7_00152.dat</span>                           \n",
       "</pre>\n"
      ],
      "text/plain": [
       "Write \u001b[1;35mP\u001b[0m\u001b[1m(\u001b[0mk\u001b[1m)\u001b[0m in .\u001b[35m/boxlen100_n128_lcdmw7v2_00000/\u001b[0m\u001b[35m/power/\u001b[0m\u001b[95mpk_eft_multigrid_ncoarse7_00152.dat\u001b[0m                           \n"
      ]
     },
     "metadata": {},
     "output_type": "display_data"
    },
    {
     "data": {
      "text/html": [
       "<pre style=\"white-space:pre;overflow-x:auto;line-height:normal;font-family:Menlo,'DejaVu Sans Mono',consolas,'Courier New',monospace\">param<span style=\"font-weight: bold\">[</span><span style=\"color: #008000; text-decoration-color: #008000\">'nsteps'</span><span style=\"font-weight: bold\">]</span>=<span style=\"color: #008080; text-decoration-color: #008080; font-weight: bold\">152</span> param<span style=\"font-weight: bold\">[</span><span style=\"color: #008000; text-decoration-color: #008000\">'aexp'</span><span style=\"font-weight: bold\">]</span>=<span style=\"color: #008080; text-decoration-color: #008080; font-weight: bold\">0.561027484758616</span> z = <span style=\"color: #008080; text-decoration-color: #008080; font-weight: bold\">0.7824438680223544</span>                                         \n",
       "</pre>\n"
      ],
      "text/plain": [
       "param\u001b[1m[\u001b[0m\u001b[32m'nsteps'\u001b[0m\u001b[1m]\u001b[0m=\u001b[1;36m152\u001b[0m param\u001b[1m[\u001b[0m\u001b[32m'aexp'\u001b[0m\u001b[1m]\u001b[0m=\u001b[1;36m0.561027484758616\u001b[0m z = \u001b[1;36m0.7824438680223544\u001b[0m                                         \n"
      ]
     },
     "metadata": {},
     "output_type": "display_data"
    },
    {
     "data": {
      "text/html": [
       "<pre style=\"white-space:pre;overflow-x:auto;line-height:normal;font-family:Menlo,'DejaVu Sans Mono',consolas,'Courier New',monospace\">Write <span style=\"color: #800080; text-decoration-color: #800080; font-weight: bold\">P</span><span style=\"font-weight: bold\">(</span>k<span style=\"font-weight: bold\">)</span> in .<span style=\"color: #800080; text-decoration-color: #800080\">/boxlen100_n128_lcdmw7v2_00000//power/</span><span style=\"color: #ff00ff; text-decoration-color: #ff00ff\">pk_eft_multigrid_ncoarse7_00153.dat</span>                           \n",
       "</pre>\n"
      ],
      "text/plain": [
       "Write \u001b[1;35mP\u001b[0m\u001b[1m(\u001b[0mk\u001b[1m)\u001b[0m in .\u001b[35m/boxlen100_n128_lcdmw7v2_00000/\u001b[0m\u001b[35m/power/\u001b[0m\u001b[95mpk_eft_multigrid_ncoarse7_00153.dat\u001b[0m                           \n"
      ]
     },
     "metadata": {},
     "output_type": "display_data"
    },
    {
     "data": {
      "text/html": [
       "<pre style=\"white-space:pre;overflow-x:auto;line-height:normal;font-family:Menlo,'DejaVu Sans Mono',consolas,'Courier New',monospace\">param<span style=\"font-weight: bold\">[</span><span style=\"color: #008000; text-decoration-color: #008000\">'nsteps'</span><span style=\"font-weight: bold\">]</span>=<span style=\"color: #008080; text-decoration-color: #008080; font-weight: bold\">153</span> param<span style=\"font-weight: bold\">[</span><span style=\"color: #008000; text-decoration-color: #008000\">'aexp'</span><span style=\"font-weight: bold\">]</span>=<span style=\"color: #008080; text-decoration-color: #008080; font-weight: bold\">0.561027484758616</span> z = <span style=\"color: #008080; text-decoration-color: #008080; font-weight: bold\">0.7824438680223544</span>                                         \n",
       "</pre>\n"
      ],
      "text/plain": [
       "param\u001b[1m[\u001b[0m\u001b[32m'nsteps'\u001b[0m\u001b[1m]\u001b[0m=\u001b[1;36m153\u001b[0m param\u001b[1m[\u001b[0m\u001b[32m'aexp'\u001b[0m\u001b[1m]\u001b[0m=\u001b[1;36m0.561027484758616\u001b[0m z = \u001b[1;36m0.7824438680223544\u001b[0m                                         \n"
      ]
     },
     "metadata": {},
     "output_type": "display_data"
    },
    {
     "data": {
      "text/html": [
       "<pre style=\"white-space:pre;overflow-x:auto;line-height:normal;font-family:Menlo,'DejaVu Sans Mono',consolas,'Courier New',monospace\">Write <span style=\"color: #800080; text-decoration-color: #800080; font-weight: bold\">P</span><span style=\"font-weight: bold\">(</span>k<span style=\"font-weight: bold\">)</span> in .<span style=\"color: #800080; text-decoration-color: #800080\">/boxlen100_n128_lcdmw7v2_00000//power/</span><span style=\"color: #ff00ff; text-decoration-color: #ff00ff\">pk_eft_multigrid_ncoarse7_00154.dat</span>                           \n",
       "</pre>\n"
      ],
      "text/plain": [
       "Write \u001b[1;35mP\u001b[0m\u001b[1m(\u001b[0mk\u001b[1m)\u001b[0m in .\u001b[35m/boxlen100_n128_lcdmw7v2_00000/\u001b[0m\u001b[35m/power/\u001b[0m\u001b[95mpk_eft_multigrid_ncoarse7_00154.dat\u001b[0m                           \n"
      ]
     },
     "metadata": {},
     "output_type": "display_data"
    },
    {
     "data": {
      "text/html": [
       "<pre style=\"white-space:pre;overflow-x:auto;line-height:normal;font-family:Menlo,'DejaVu Sans Mono',consolas,'Courier New',monospace\">param<span style=\"font-weight: bold\">[</span><span style=\"color: #008000; text-decoration-color: #008000\">'nsteps'</span><span style=\"font-weight: bold\">]</span>=<span style=\"color: #008080; text-decoration-color: #008080; font-weight: bold\">154</span> param<span style=\"font-weight: bold\">[</span><span style=\"color: #008000; text-decoration-color: #008000\">'aexp'</span><span style=\"font-weight: bold\">]</span>=<span style=\"color: #008080; text-decoration-color: #008080; font-weight: bold\">0.561027484758616</span> z = <span style=\"color: #008080; text-decoration-color: #008080; font-weight: bold\">0.7824438680223544</span>                                         \n",
       "</pre>\n"
      ],
      "text/plain": [
       "param\u001b[1m[\u001b[0m\u001b[32m'nsteps'\u001b[0m\u001b[1m]\u001b[0m=\u001b[1;36m154\u001b[0m param\u001b[1m[\u001b[0m\u001b[32m'aexp'\u001b[0m\u001b[1m]\u001b[0m=\u001b[1;36m0.561027484758616\u001b[0m z = \u001b[1;36m0.7824438680223544\u001b[0m                                         \n"
      ]
     },
     "metadata": {},
     "output_type": "display_data"
    },
    {
     "data": {
      "text/html": [
       "<pre style=\"white-space:pre;overflow-x:auto;line-height:normal;font-family:Menlo,'DejaVu Sans Mono',consolas,'Courier New',monospace\">Write <span style=\"color: #800080; text-decoration-color: #800080; font-weight: bold\">P</span><span style=\"font-weight: bold\">(</span>k<span style=\"font-weight: bold\">)</span> in .<span style=\"color: #800080; text-decoration-color: #800080\">/boxlen100_n128_lcdmw7v2_00000//power/</span><span style=\"color: #ff00ff; text-decoration-color: #ff00ff\">pk_eft_multigrid_ncoarse7_00155.dat</span>                           \n",
       "</pre>\n"
      ],
      "text/plain": [
       "Write \u001b[1;35mP\u001b[0m\u001b[1m(\u001b[0mk\u001b[1m)\u001b[0m in .\u001b[35m/boxlen100_n128_lcdmw7v2_00000/\u001b[0m\u001b[35m/power/\u001b[0m\u001b[95mpk_eft_multigrid_ncoarse7_00155.dat\u001b[0m                           \n"
      ]
     },
     "metadata": {},
     "output_type": "display_data"
    },
    {
     "data": {
      "text/html": [
       "<pre style=\"white-space:pre;overflow-x:auto;line-height:normal;font-family:Menlo,'DejaVu Sans Mono',consolas,'Courier New',monospace\">param<span style=\"font-weight: bold\">[</span><span style=\"color: #008000; text-decoration-color: #008000\">'nsteps'</span><span style=\"font-weight: bold\">]</span>=<span style=\"color: #008080; text-decoration-color: #008080; font-weight: bold\">155</span> param<span style=\"font-weight: bold\">[</span><span style=\"color: #008000; text-decoration-color: #008000\">'aexp'</span><span style=\"font-weight: bold\">]</span>=<span style=\"color: #008080; text-decoration-color: #008080; font-weight: bold\">0.561027484758616</span> z = <span style=\"color: #008080; text-decoration-color: #008080; font-weight: bold\">0.7824438680223544</span>                                         \n",
       "</pre>\n"
      ],
      "text/plain": [
       "param\u001b[1m[\u001b[0m\u001b[32m'nsteps'\u001b[0m\u001b[1m]\u001b[0m=\u001b[1;36m155\u001b[0m param\u001b[1m[\u001b[0m\u001b[32m'aexp'\u001b[0m\u001b[1m]\u001b[0m=\u001b[1;36m0.561027484758616\u001b[0m z = \u001b[1;36m0.7824438680223544\u001b[0m                                         \n"
      ]
     },
     "metadata": {},
     "output_type": "display_data"
    },
    {
     "data": {
      "text/html": [
       "<pre style=\"white-space:pre;overflow-x:auto;line-height:normal;font-family:Menlo,'DejaVu Sans Mono',consolas,'Courier New',monospace\">Write <span style=\"color: #800080; text-decoration-color: #800080; font-weight: bold\">P</span><span style=\"font-weight: bold\">(</span>k<span style=\"font-weight: bold\">)</span> in .<span style=\"color: #800080; text-decoration-color: #800080\">/boxlen100_n128_lcdmw7v2_00000//power/</span><span style=\"color: #ff00ff; text-decoration-color: #ff00ff\">pk_eft_multigrid_ncoarse7_00156.dat</span>                           \n",
       "</pre>\n"
      ],
      "text/plain": [
       "Write \u001b[1;35mP\u001b[0m\u001b[1m(\u001b[0mk\u001b[1m)\u001b[0m in .\u001b[35m/boxlen100_n128_lcdmw7v2_00000/\u001b[0m\u001b[35m/power/\u001b[0m\u001b[95mpk_eft_multigrid_ncoarse7_00156.dat\u001b[0m                           \n"
      ]
     },
     "metadata": {},
     "output_type": "display_data"
    },
    {
     "data": {
      "text/html": [
       "<pre style=\"white-space:pre;overflow-x:auto;line-height:normal;font-family:Menlo,'DejaVu Sans Mono',consolas,'Courier New',monospace\">param<span style=\"font-weight: bold\">[</span><span style=\"color: #008000; text-decoration-color: #008000\">'nsteps'</span><span style=\"font-weight: bold\">]</span>=<span style=\"color: #008080; text-decoration-color: #008080; font-weight: bold\">156</span> param<span style=\"font-weight: bold\">[</span><span style=\"color: #008000; text-decoration-color: #008000\">'aexp'</span><span style=\"font-weight: bold\">]</span>=<span style=\"color: #008080; text-decoration-color: #008080; font-weight: bold\">0.561027484758616</span> z = <span style=\"color: #008080; text-decoration-color: #008080; font-weight: bold\">0.7824438680223544</span>                                         \n",
       "</pre>\n"
      ],
      "text/plain": [
       "param\u001b[1m[\u001b[0m\u001b[32m'nsteps'\u001b[0m\u001b[1m]\u001b[0m=\u001b[1;36m156\u001b[0m param\u001b[1m[\u001b[0m\u001b[32m'aexp'\u001b[0m\u001b[1m]\u001b[0m=\u001b[1;36m0.561027484758616\u001b[0m z = \u001b[1;36m0.7824438680223544\u001b[0m                                         \n"
      ]
     },
     "metadata": {},
     "output_type": "display_data"
    },
    {
     "data": {
      "text/html": [
       "<pre style=\"white-space:pre;overflow-x:auto;line-height:normal;font-family:Menlo,'DejaVu Sans Mono',consolas,'Courier New',monospace\">Write <span style=\"color: #800080; text-decoration-color: #800080; font-weight: bold\">P</span><span style=\"font-weight: bold\">(</span>k<span style=\"font-weight: bold\">)</span> in .<span style=\"color: #800080; text-decoration-color: #800080\">/boxlen100_n128_lcdmw7v2_00000//power/</span><span style=\"color: #ff00ff; text-decoration-color: #ff00ff\">pk_eft_multigrid_ncoarse7_00157.dat</span>                           \n",
       "</pre>\n"
      ],
      "text/plain": [
       "Write \u001b[1;35mP\u001b[0m\u001b[1m(\u001b[0mk\u001b[1m)\u001b[0m in .\u001b[35m/boxlen100_n128_lcdmw7v2_00000/\u001b[0m\u001b[35m/power/\u001b[0m\u001b[95mpk_eft_multigrid_ncoarse7_00157.dat\u001b[0m                           \n"
      ]
     },
     "metadata": {},
     "output_type": "display_data"
    },
    {
     "data": {
      "text/html": [
       "<pre style=\"white-space:pre;overflow-x:auto;line-height:normal;font-family:Menlo,'DejaVu Sans Mono',consolas,'Courier New',monospace\">param<span style=\"font-weight: bold\">[</span><span style=\"color: #008000; text-decoration-color: #008000\">'nsteps'</span><span style=\"font-weight: bold\">]</span>=<span style=\"color: #008080; text-decoration-color: #008080; font-weight: bold\">157</span> param<span style=\"font-weight: bold\">[</span><span style=\"color: #008000; text-decoration-color: #008000\">'aexp'</span><span style=\"font-weight: bold\">]</span>=<span style=\"color: #008080; text-decoration-color: #008080; font-weight: bold\">0.561027484758616</span> z = <span style=\"color: #008080; text-decoration-color: #008080; font-weight: bold\">0.7824438680223544</span>                                         \n",
       "</pre>\n"
      ],
      "text/plain": [
       "param\u001b[1m[\u001b[0m\u001b[32m'nsteps'\u001b[0m\u001b[1m]\u001b[0m=\u001b[1;36m157\u001b[0m param\u001b[1m[\u001b[0m\u001b[32m'aexp'\u001b[0m\u001b[1m]\u001b[0m=\u001b[1;36m0.561027484758616\u001b[0m z = \u001b[1;36m0.7824438680223544\u001b[0m                                         \n"
      ]
     },
     "metadata": {},
     "output_type": "display_data"
    },
    {
     "data": {
      "text/html": [
       "<pre style=\"white-space:pre;overflow-x:auto;line-height:normal;font-family:Menlo,'DejaVu Sans Mono',consolas,'Courier New',monospace\">Write <span style=\"color: #800080; text-decoration-color: #800080; font-weight: bold\">P</span><span style=\"font-weight: bold\">(</span>k<span style=\"font-weight: bold\">)</span> in .<span style=\"color: #800080; text-decoration-color: #800080\">/boxlen100_n128_lcdmw7v2_00000//power/</span><span style=\"color: #ff00ff; text-decoration-color: #ff00ff\">pk_eft_multigrid_ncoarse7_00158.dat</span>                           \n",
       "</pre>\n"
      ],
      "text/plain": [
       "Write \u001b[1;35mP\u001b[0m\u001b[1m(\u001b[0mk\u001b[1m)\u001b[0m in .\u001b[35m/boxlen100_n128_lcdmw7v2_00000/\u001b[0m\u001b[35m/power/\u001b[0m\u001b[95mpk_eft_multigrid_ncoarse7_00158.dat\u001b[0m                           \n"
      ]
     },
     "metadata": {},
     "output_type": "display_data"
    },
    {
     "data": {
      "text/html": [
       "<pre style=\"white-space:pre;overflow-x:auto;line-height:normal;font-family:Menlo,'DejaVu Sans Mono',consolas,'Courier New',monospace\">param<span style=\"font-weight: bold\">[</span><span style=\"color: #008000; text-decoration-color: #008000\">'nsteps'</span><span style=\"font-weight: bold\">]</span>=<span style=\"color: #008080; text-decoration-color: #008080; font-weight: bold\">158</span> param<span style=\"font-weight: bold\">[</span><span style=\"color: #008000; text-decoration-color: #008000\">'aexp'</span><span style=\"font-weight: bold\">]</span>=<span style=\"color: #008080; text-decoration-color: #008080; font-weight: bold\">0.561027484758616</span> z = <span style=\"color: #008080; text-decoration-color: #008080; font-weight: bold\">0.7824438680223544</span>                                         \n",
       "</pre>\n"
      ],
      "text/plain": [
       "param\u001b[1m[\u001b[0m\u001b[32m'nsteps'\u001b[0m\u001b[1m]\u001b[0m=\u001b[1;36m158\u001b[0m param\u001b[1m[\u001b[0m\u001b[32m'aexp'\u001b[0m\u001b[1m]\u001b[0m=\u001b[1;36m0.561027484758616\u001b[0m z = \u001b[1;36m0.7824438680223544\u001b[0m                                         \n"
      ]
     },
     "metadata": {},
     "output_type": "display_data"
    },
    {
     "data": {
      "text/html": [
       "<pre style=\"white-space:pre;overflow-x:auto;line-height:normal;font-family:Menlo,'DejaVu Sans Mono',consolas,'Courier New',monospace\">Write <span style=\"color: #800080; text-decoration-color: #800080; font-weight: bold\">P</span><span style=\"font-weight: bold\">(</span>k<span style=\"font-weight: bold\">)</span> in .<span style=\"color: #800080; text-decoration-color: #800080\">/boxlen100_n128_lcdmw7v2_00000//power/</span><span style=\"color: #ff00ff; text-decoration-color: #ff00ff\">pk_eft_multigrid_ncoarse7_00159.dat</span>                           \n",
       "</pre>\n"
      ],
      "text/plain": [
       "Write \u001b[1;35mP\u001b[0m\u001b[1m(\u001b[0mk\u001b[1m)\u001b[0m in .\u001b[35m/boxlen100_n128_lcdmw7v2_00000/\u001b[0m\u001b[35m/power/\u001b[0m\u001b[95mpk_eft_multigrid_ncoarse7_00159.dat\u001b[0m                           \n"
      ]
     },
     "metadata": {},
     "output_type": "display_data"
    },
    {
     "data": {
      "text/html": [
       "<pre style=\"white-space:pre;overflow-x:auto;line-height:normal;font-family:Menlo,'DejaVu Sans Mono',consolas,'Courier New',monospace\">param<span style=\"font-weight: bold\">[</span><span style=\"color: #008000; text-decoration-color: #008000\">'nsteps'</span><span style=\"font-weight: bold\">]</span>=<span style=\"color: #008080; text-decoration-color: #008080; font-weight: bold\">159</span> param<span style=\"font-weight: bold\">[</span><span style=\"color: #008000; text-decoration-color: #008000\">'aexp'</span><span style=\"font-weight: bold\">]</span>=<span style=\"color: #008080; text-decoration-color: #008080; font-weight: bold\">0.561027484758616</span> z = <span style=\"color: #008080; text-decoration-color: #008080; font-weight: bold\">0.7824438680223544</span>                                         \n",
       "</pre>\n"
      ],
      "text/plain": [
       "param\u001b[1m[\u001b[0m\u001b[32m'nsteps'\u001b[0m\u001b[1m]\u001b[0m=\u001b[1;36m159\u001b[0m param\u001b[1m[\u001b[0m\u001b[32m'aexp'\u001b[0m\u001b[1m]\u001b[0m=\u001b[1;36m0.561027484758616\u001b[0m z = \u001b[1;36m0.7824438680223544\u001b[0m                                         \n"
      ]
     },
     "metadata": {},
     "output_type": "display_data"
    },
    {
     "data": {
      "text/html": [
       "<pre style=\"white-space:pre;overflow-x:auto;line-height:normal;font-family:Menlo,'DejaVu Sans Mono',consolas,'Courier New',monospace\">Write <span style=\"color: #800080; text-decoration-color: #800080; font-weight: bold\">P</span><span style=\"font-weight: bold\">(</span>k<span style=\"font-weight: bold\">)</span> in .<span style=\"color: #800080; text-decoration-color: #800080\">/boxlen100_n128_lcdmw7v2_00000//power/</span><span style=\"color: #ff00ff; text-decoration-color: #ff00ff\">pk_eft_multigrid_ncoarse7_00160.dat</span>                           \n",
       "</pre>\n"
      ],
      "text/plain": [
       "Write \u001b[1;35mP\u001b[0m\u001b[1m(\u001b[0mk\u001b[1m)\u001b[0m in .\u001b[35m/boxlen100_n128_lcdmw7v2_00000/\u001b[0m\u001b[35m/power/\u001b[0m\u001b[95mpk_eft_multigrid_ncoarse7_00160.dat\u001b[0m                           \n"
      ]
     },
     "metadata": {},
     "output_type": "display_data"
    },
    {
     "data": {
      "text/html": [
       "<pre style=\"white-space:pre;overflow-x:auto;line-height:normal;font-family:Menlo,'DejaVu Sans Mono',consolas,'Courier New',monospace\">param<span style=\"font-weight: bold\">[</span><span style=\"color: #008000; text-decoration-color: #008000\">'nsteps'</span><span style=\"font-weight: bold\">]</span>=<span style=\"color: #008080; text-decoration-color: #008080; font-weight: bold\">160</span> param<span style=\"font-weight: bold\">[</span><span style=\"color: #008000; text-decoration-color: #008000\">'aexp'</span><span style=\"font-weight: bold\">]</span>=<span style=\"color: #008080; text-decoration-color: #008080; font-weight: bold\">0.561027484758616</span> z = <span style=\"color: #008080; text-decoration-color: #008080; font-weight: bold\">0.7824438680223544</span>                                         \n",
       "</pre>\n"
      ],
      "text/plain": [
       "param\u001b[1m[\u001b[0m\u001b[32m'nsteps'\u001b[0m\u001b[1m]\u001b[0m=\u001b[1;36m160\u001b[0m param\u001b[1m[\u001b[0m\u001b[32m'aexp'\u001b[0m\u001b[1m]\u001b[0m=\u001b[1;36m0.561027484758616\u001b[0m z = \u001b[1;36m0.7824438680223544\u001b[0m                                         \n"
      ]
     },
     "metadata": {},
     "output_type": "display_data"
    },
    {
     "data": {
      "text/html": [
       "<pre style=\"white-space:pre;overflow-x:auto;line-height:normal;font-family:Menlo,'DejaVu Sans Mono',consolas,'Courier New',monospace\">Write <span style=\"color: #800080; text-decoration-color: #800080; font-weight: bold\">P</span><span style=\"font-weight: bold\">(</span>k<span style=\"font-weight: bold\">)</span> in .<span style=\"color: #800080; text-decoration-color: #800080\">/boxlen100_n128_lcdmw7v2_00000//power/</span><span style=\"color: #ff00ff; text-decoration-color: #ff00ff\">pk_eft_multigrid_ncoarse7_00161.dat</span>                           \n",
       "</pre>\n"
      ],
      "text/plain": [
       "Write \u001b[1;35mP\u001b[0m\u001b[1m(\u001b[0mk\u001b[1m)\u001b[0m in .\u001b[35m/boxlen100_n128_lcdmw7v2_00000/\u001b[0m\u001b[35m/power/\u001b[0m\u001b[95mpk_eft_multigrid_ncoarse7_00161.dat\u001b[0m                           \n"
      ]
     },
     "metadata": {},
     "output_type": "display_data"
    },
    {
     "data": {
      "text/html": [
       "<pre style=\"white-space:pre;overflow-x:auto;line-height:normal;font-family:Menlo,'DejaVu Sans Mono',consolas,'Courier New',monospace\">param<span style=\"font-weight: bold\">[</span><span style=\"color: #008000; text-decoration-color: #008000\">'nsteps'</span><span style=\"font-weight: bold\">]</span>=<span style=\"color: #008080; text-decoration-color: #008080; font-weight: bold\">161</span> param<span style=\"font-weight: bold\">[</span><span style=\"color: #008000; text-decoration-color: #008000\">'aexp'</span><span style=\"font-weight: bold\">]</span>=<span style=\"color: #008080; text-decoration-color: #008080; font-weight: bold\">0.561027484758616</span> z = <span style=\"color: #008080; text-decoration-color: #008080; font-weight: bold\">0.7824438680223544</span>                                         \n",
       "</pre>\n"
      ],
      "text/plain": [
       "param\u001b[1m[\u001b[0m\u001b[32m'nsteps'\u001b[0m\u001b[1m]\u001b[0m=\u001b[1;36m161\u001b[0m param\u001b[1m[\u001b[0m\u001b[32m'aexp'\u001b[0m\u001b[1m]\u001b[0m=\u001b[1;36m0.561027484758616\u001b[0m z = \u001b[1;36m0.7824438680223544\u001b[0m                                         \n"
      ]
     },
     "metadata": {},
     "output_type": "display_data"
    },
    {
     "data": {
      "text/html": [
       "<pre style=\"white-space:pre;overflow-x:auto;line-height:normal;font-family:Menlo,'DejaVu Sans Mono',consolas,'Courier New',monospace\">Write <span style=\"color: #800080; text-decoration-color: #800080; font-weight: bold\">P</span><span style=\"font-weight: bold\">(</span>k<span style=\"font-weight: bold\">)</span> in .<span style=\"color: #800080; text-decoration-color: #800080\">/boxlen100_n128_lcdmw7v2_00000//power/</span><span style=\"color: #ff00ff; text-decoration-color: #ff00ff\">pk_eft_multigrid_ncoarse7_00162.dat</span>                           \n",
       "</pre>\n"
      ],
      "text/plain": [
       "Write \u001b[1;35mP\u001b[0m\u001b[1m(\u001b[0mk\u001b[1m)\u001b[0m in .\u001b[35m/boxlen100_n128_lcdmw7v2_00000/\u001b[0m\u001b[35m/power/\u001b[0m\u001b[95mpk_eft_multigrid_ncoarse7_00162.dat\u001b[0m                           \n"
      ]
     },
     "metadata": {},
     "output_type": "display_data"
    },
    {
     "data": {
      "text/html": [
       "<pre style=\"white-space:pre;overflow-x:auto;line-height:normal;font-family:Menlo,'DejaVu Sans Mono',consolas,'Courier New',monospace\">param<span style=\"font-weight: bold\">[</span><span style=\"color: #008000; text-decoration-color: #008000\">'nsteps'</span><span style=\"font-weight: bold\">]</span>=<span style=\"color: #008080; text-decoration-color: #008080; font-weight: bold\">162</span> param<span style=\"font-weight: bold\">[</span><span style=\"color: #008000; text-decoration-color: #008000\">'aexp'</span><span style=\"font-weight: bold\">]</span>=<span style=\"color: #008080; text-decoration-color: #008080; font-weight: bold\">0.561027484758616</span> z = <span style=\"color: #008080; text-decoration-color: #008080; font-weight: bold\">0.7824438680223544</span>                                         \n",
       "</pre>\n"
      ],
      "text/plain": [
       "param\u001b[1m[\u001b[0m\u001b[32m'nsteps'\u001b[0m\u001b[1m]\u001b[0m=\u001b[1;36m162\u001b[0m param\u001b[1m[\u001b[0m\u001b[32m'aexp'\u001b[0m\u001b[1m]\u001b[0m=\u001b[1;36m0.561027484758616\u001b[0m z = \u001b[1;36m0.7824438680223544\u001b[0m                                         \n"
      ]
     },
     "metadata": {},
     "output_type": "display_data"
    },
    {
     "data": {
      "text/html": [
       "<pre style=\"white-space:pre;overflow-x:auto;line-height:normal;font-family:Menlo,'DejaVu Sans Mono',consolas,'Courier New',monospace\">Write <span style=\"color: #800080; text-decoration-color: #800080; font-weight: bold\">P</span><span style=\"font-weight: bold\">(</span>k<span style=\"font-weight: bold\">)</span> in .<span style=\"color: #800080; text-decoration-color: #800080\">/boxlen100_n128_lcdmw7v2_00000//power/</span><span style=\"color: #ff00ff; text-decoration-color: #ff00ff\">pk_eft_multigrid_ncoarse7_00163.dat</span>                           \n",
       "</pre>\n"
      ],
      "text/plain": [
       "Write \u001b[1;35mP\u001b[0m\u001b[1m(\u001b[0mk\u001b[1m)\u001b[0m in .\u001b[35m/boxlen100_n128_lcdmw7v2_00000/\u001b[0m\u001b[35m/power/\u001b[0m\u001b[95mpk_eft_multigrid_ncoarse7_00163.dat\u001b[0m                           \n"
      ]
     },
     "metadata": {},
     "output_type": "display_data"
    },
    {
     "data": {
      "text/html": [
       "<pre style=\"white-space:pre;overflow-x:auto;line-height:normal;font-family:Menlo,'DejaVu Sans Mono',consolas,'Courier New',monospace\">param<span style=\"font-weight: bold\">[</span><span style=\"color: #008000; text-decoration-color: #008000\">'nsteps'</span><span style=\"font-weight: bold\">]</span>=<span style=\"color: #008080; text-decoration-color: #008080; font-weight: bold\">163</span> param<span style=\"font-weight: bold\">[</span><span style=\"color: #008000; text-decoration-color: #008000\">'aexp'</span><span style=\"font-weight: bold\">]</span>=<span style=\"color: #008080; text-decoration-color: #008080; font-weight: bold\">0.561027484758616</span> z = <span style=\"color: #008080; text-decoration-color: #008080; font-weight: bold\">0.7824438680223544</span>                                         \n",
       "</pre>\n"
      ],
      "text/plain": [
       "param\u001b[1m[\u001b[0m\u001b[32m'nsteps'\u001b[0m\u001b[1m]\u001b[0m=\u001b[1;36m163\u001b[0m param\u001b[1m[\u001b[0m\u001b[32m'aexp'\u001b[0m\u001b[1m]\u001b[0m=\u001b[1;36m0.561027484758616\u001b[0m z = \u001b[1;36m0.7824438680223544\u001b[0m                                         \n"
      ]
     },
     "metadata": {},
     "output_type": "display_data"
    },
    {
     "data": {
      "text/html": [
       "<pre style=\"white-space:pre;overflow-x:auto;line-height:normal;font-family:Menlo,'DejaVu Sans Mono',consolas,'Courier New',monospace\">Write <span style=\"color: #800080; text-decoration-color: #800080; font-weight: bold\">P</span><span style=\"font-weight: bold\">(</span>k<span style=\"font-weight: bold\">)</span> in .<span style=\"color: #800080; text-decoration-color: #800080\">/boxlen100_n128_lcdmw7v2_00000//power/</span><span style=\"color: #ff00ff; text-decoration-color: #ff00ff\">pk_eft_multigrid_ncoarse7_00164.dat</span>                           \n",
       "</pre>\n"
      ],
      "text/plain": [
       "Write \u001b[1;35mP\u001b[0m\u001b[1m(\u001b[0mk\u001b[1m)\u001b[0m in .\u001b[35m/boxlen100_n128_lcdmw7v2_00000/\u001b[0m\u001b[35m/power/\u001b[0m\u001b[95mpk_eft_multigrid_ncoarse7_00164.dat\u001b[0m                           \n"
      ]
     },
     "metadata": {},
     "output_type": "display_data"
    },
    {
     "data": {
      "text/html": [
       "<pre style=\"white-space:pre;overflow-x:auto;line-height:normal;font-family:Menlo,'DejaVu Sans Mono',consolas,'Courier New',monospace\">param<span style=\"font-weight: bold\">[</span><span style=\"color: #008000; text-decoration-color: #008000\">'nsteps'</span><span style=\"font-weight: bold\">]</span>=<span style=\"color: #008080; text-decoration-color: #008080; font-weight: bold\">164</span> param<span style=\"font-weight: bold\">[</span><span style=\"color: #008000; text-decoration-color: #008000\">'aexp'</span><span style=\"font-weight: bold\">]</span>=<span style=\"color: #008080; text-decoration-color: #008080; font-weight: bold\">0.561027484758616</span> z = <span style=\"color: #008080; text-decoration-color: #008080; font-weight: bold\">0.7824438680223544</span>                                         \n",
       "</pre>\n"
      ],
      "text/plain": [
       "param\u001b[1m[\u001b[0m\u001b[32m'nsteps'\u001b[0m\u001b[1m]\u001b[0m=\u001b[1;36m164\u001b[0m param\u001b[1m[\u001b[0m\u001b[32m'aexp'\u001b[0m\u001b[1m]\u001b[0m=\u001b[1;36m0.561027484758616\u001b[0m z = \u001b[1;36m0.7824438680223544\u001b[0m                                         \n"
      ]
     },
     "metadata": {},
     "output_type": "display_data"
    },
    {
     "data": {
      "text/html": [
       "<pre style=\"white-space:pre;overflow-x:auto;line-height:normal;font-family:Menlo,'DejaVu Sans Mono',consolas,'Courier New',monospace\">Write <span style=\"color: #800080; text-decoration-color: #800080; font-weight: bold\">P</span><span style=\"font-weight: bold\">(</span>k<span style=\"font-weight: bold\">)</span> in .<span style=\"color: #800080; text-decoration-color: #800080\">/boxlen100_n128_lcdmw7v2_00000//power/</span><span style=\"color: #ff00ff; text-decoration-color: #ff00ff\">pk_eft_multigrid_ncoarse7_00165.dat</span>                           \n",
       "</pre>\n"
      ],
      "text/plain": [
       "Write \u001b[1;35mP\u001b[0m\u001b[1m(\u001b[0mk\u001b[1m)\u001b[0m in .\u001b[35m/boxlen100_n128_lcdmw7v2_00000/\u001b[0m\u001b[35m/power/\u001b[0m\u001b[95mpk_eft_multigrid_ncoarse7_00165.dat\u001b[0m                           \n"
      ]
     },
     "metadata": {},
     "output_type": "display_data"
    },
    {
     "data": {
      "text/html": [
       "<pre style=\"white-space:pre;overflow-x:auto;line-height:normal;font-family:Menlo,'DejaVu Sans Mono',consolas,'Courier New',monospace\">param<span style=\"font-weight: bold\">[</span><span style=\"color: #008000; text-decoration-color: #008000\">'nsteps'</span><span style=\"font-weight: bold\">]</span>=<span style=\"color: #008080; text-decoration-color: #008080; font-weight: bold\">165</span> param<span style=\"font-weight: bold\">[</span><span style=\"color: #008000; text-decoration-color: #008000\">'aexp'</span><span style=\"font-weight: bold\">]</span>=<span style=\"color: #008080; text-decoration-color: #008080; font-weight: bold\">0.561027484758616</span> z = <span style=\"color: #008080; text-decoration-color: #008080; font-weight: bold\">0.7824438680223544</span>                                         \n",
       "</pre>\n"
      ],
      "text/plain": [
       "param\u001b[1m[\u001b[0m\u001b[32m'nsteps'\u001b[0m\u001b[1m]\u001b[0m=\u001b[1;36m165\u001b[0m param\u001b[1m[\u001b[0m\u001b[32m'aexp'\u001b[0m\u001b[1m]\u001b[0m=\u001b[1;36m0.561027484758616\u001b[0m z = \u001b[1;36m0.7824438680223544\u001b[0m                                         \n"
      ]
     },
     "metadata": {},
     "output_type": "display_data"
    },
    {
     "data": {
      "text/html": [
       "<pre style=\"white-space:pre;overflow-x:auto;line-height:normal;font-family:Menlo,'DejaVu Sans Mono',consolas,'Courier New',monospace\">Write <span style=\"color: #800080; text-decoration-color: #800080; font-weight: bold\">P</span><span style=\"font-weight: bold\">(</span>k<span style=\"font-weight: bold\">)</span> in .<span style=\"color: #800080; text-decoration-color: #800080\">/boxlen100_n128_lcdmw7v2_00000//power/</span><span style=\"color: #ff00ff; text-decoration-color: #ff00ff\">pk_eft_multigrid_ncoarse7_00166.dat</span>                           \n",
       "</pre>\n"
      ],
      "text/plain": [
       "Write \u001b[1;35mP\u001b[0m\u001b[1m(\u001b[0mk\u001b[1m)\u001b[0m in .\u001b[35m/boxlen100_n128_lcdmw7v2_00000/\u001b[0m\u001b[35m/power/\u001b[0m\u001b[95mpk_eft_multigrid_ncoarse7_00166.dat\u001b[0m                           \n"
      ]
     },
     "metadata": {},
     "output_type": "display_data"
    },
    {
     "data": {
      "text/html": [
       "<pre style=\"white-space:pre;overflow-x:auto;line-height:normal;font-family:Menlo,'DejaVu Sans Mono',consolas,'Courier New',monospace\">param<span style=\"font-weight: bold\">[</span><span style=\"color: #008000; text-decoration-color: #008000\">'nsteps'</span><span style=\"font-weight: bold\">]</span>=<span style=\"color: #008080; text-decoration-color: #008080; font-weight: bold\">166</span> param<span style=\"font-weight: bold\">[</span><span style=\"color: #008000; text-decoration-color: #008000\">'aexp'</span><span style=\"font-weight: bold\">]</span>=<span style=\"color: #008080; text-decoration-color: #008080; font-weight: bold\">0.561027484758616</span> z = <span style=\"color: #008080; text-decoration-color: #008080; font-weight: bold\">0.7824438680223544</span>                                         \n",
       "</pre>\n"
      ],
      "text/plain": [
       "param\u001b[1m[\u001b[0m\u001b[32m'nsteps'\u001b[0m\u001b[1m]\u001b[0m=\u001b[1;36m166\u001b[0m param\u001b[1m[\u001b[0m\u001b[32m'aexp'\u001b[0m\u001b[1m]\u001b[0m=\u001b[1;36m0.561027484758616\u001b[0m z = \u001b[1;36m0.7824438680223544\u001b[0m                                         \n"
      ]
     },
     "metadata": {},
     "output_type": "display_data"
    },
    {
     "data": {
      "text/html": [
       "<pre style=\"white-space:pre;overflow-x:auto;line-height:normal;font-family:Menlo,'DejaVu Sans Mono',consolas,'Courier New',monospace\">Write <span style=\"color: #800080; text-decoration-color: #800080; font-weight: bold\">P</span><span style=\"font-weight: bold\">(</span>k<span style=\"font-weight: bold\">)</span> in .<span style=\"color: #800080; text-decoration-color: #800080\">/boxlen100_n128_lcdmw7v2_00000//power/</span><span style=\"color: #ff00ff; text-decoration-color: #ff00ff\">pk_eft_multigrid_ncoarse7_00167.dat</span>                           \n",
       "</pre>\n"
      ],
      "text/plain": [
       "Write \u001b[1;35mP\u001b[0m\u001b[1m(\u001b[0mk\u001b[1m)\u001b[0m in .\u001b[35m/boxlen100_n128_lcdmw7v2_00000/\u001b[0m\u001b[35m/power/\u001b[0m\u001b[95mpk_eft_multigrid_ncoarse7_00167.dat\u001b[0m                           \n"
      ]
     },
     "metadata": {},
     "output_type": "display_data"
    },
    {
     "data": {
      "text/html": [
       "<pre style=\"white-space:pre;overflow-x:auto;line-height:normal;font-family:Menlo,'DejaVu Sans Mono',consolas,'Courier New',monospace\">param<span style=\"font-weight: bold\">[</span><span style=\"color: #008000; text-decoration-color: #008000\">'nsteps'</span><span style=\"font-weight: bold\">]</span>=<span style=\"color: #008080; text-decoration-color: #008080; font-weight: bold\">167</span> param<span style=\"font-weight: bold\">[</span><span style=\"color: #008000; text-decoration-color: #008000\">'aexp'</span><span style=\"font-weight: bold\">]</span>=<span style=\"color: #008080; text-decoration-color: #008080; font-weight: bold\">0.561027484758616</span> z = <span style=\"color: #008080; text-decoration-color: #008080; font-weight: bold\">0.7824438680223544</span>                                         \n",
       "</pre>\n"
      ],
      "text/plain": [
       "param\u001b[1m[\u001b[0m\u001b[32m'nsteps'\u001b[0m\u001b[1m]\u001b[0m=\u001b[1;36m167\u001b[0m param\u001b[1m[\u001b[0m\u001b[32m'aexp'\u001b[0m\u001b[1m]\u001b[0m=\u001b[1;36m0.561027484758616\u001b[0m z = \u001b[1;36m0.7824438680223544\u001b[0m                                         \n"
      ]
     },
     "metadata": {},
     "output_type": "display_data"
    },
    {
     "data": {
      "text/html": [
       "<pre style=\"white-space:pre;overflow-x:auto;line-height:normal;font-family:Menlo,'DejaVu Sans Mono',consolas,'Courier New',monospace\">Write <span style=\"color: #800080; text-decoration-color: #800080; font-weight: bold\">P</span><span style=\"font-weight: bold\">(</span>k<span style=\"font-weight: bold\">)</span> in .<span style=\"color: #800080; text-decoration-color: #800080\">/boxlen100_n128_lcdmw7v2_00000//power/</span><span style=\"color: #ff00ff; text-decoration-color: #ff00ff\">pk_eft_multigrid_ncoarse7_00168.dat</span>                           \n",
       "</pre>\n"
      ],
      "text/plain": [
       "Write \u001b[1;35mP\u001b[0m\u001b[1m(\u001b[0mk\u001b[1m)\u001b[0m in .\u001b[35m/boxlen100_n128_lcdmw7v2_00000/\u001b[0m\u001b[35m/power/\u001b[0m\u001b[95mpk_eft_multigrid_ncoarse7_00168.dat\u001b[0m                           \n"
      ]
     },
     "metadata": {},
     "output_type": "display_data"
    },
    {
     "data": {
      "text/html": [
       "<pre style=\"white-space:pre;overflow-x:auto;line-height:normal;font-family:Menlo,'DejaVu Sans Mono',consolas,'Courier New',monospace\">param<span style=\"font-weight: bold\">[</span><span style=\"color: #008000; text-decoration-color: #008000\">'nsteps'</span><span style=\"font-weight: bold\">]</span>=<span style=\"color: #008080; text-decoration-color: #008080; font-weight: bold\">168</span> param<span style=\"font-weight: bold\">[</span><span style=\"color: #008000; text-decoration-color: #008000\">'aexp'</span><span style=\"font-weight: bold\">]</span>=<span style=\"color: #008080; text-decoration-color: #008080; font-weight: bold\">0.561027484758616</span> z = <span style=\"color: #008080; text-decoration-color: #008080; font-weight: bold\">0.7824438680223544</span>                                         \n",
       "</pre>\n"
      ],
      "text/plain": [
       "param\u001b[1m[\u001b[0m\u001b[32m'nsteps'\u001b[0m\u001b[1m]\u001b[0m=\u001b[1;36m168\u001b[0m param\u001b[1m[\u001b[0m\u001b[32m'aexp'\u001b[0m\u001b[1m]\u001b[0m=\u001b[1;36m0.561027484758616\u001b[0m z = \u001b[1;36m0.7824438680223544\u001b[0m                                         \n"
      ]
     },
     "metadata": {},
     "output_type": "display_data"
    },
    {
     "data": {
      "text/html": [
       "<pre style=\"white-space:pre;overflow-x:auto;line-height:normal;font-family:Menlo,'DejaVu Sans Mono',consolas,'Courier New',monospace\">Write <span style=\"color: #800080; text-decoration-color: #800080; font-weight: bold\">P</span><span style=\"font-weight: bold\">(</span>k<span style=\"font-weight: bold\">)</span> in .<span style=\"color: #800080; text-decoration-color: #800080\">/boxlen100_n128_lcdmw7v2_00000//power/</span><span style=\"color: #ff00ff; text-decoration-color: #ff00ff\">pk_eft_multigrid_ncoarse7_00169.dat</span>                           \n",
       "</pre>\n"
      ],
      "text/plain": [
       "Write \u001b[1;35mP\u001b[0m\u001b[1m(\u001b[0mk\u001b[1m)\u001b[0m in .\u001b[35m/boxlen100_n128_lcdmw7v2_00000/\u001b[0m\u001b[35m/power/\u001b[0m\u001b[95mpk_eft_multigrid_ncoarse7_00169.dat\u001b[0m                           \n"
      ]
     },
     "metadata": {},
     "output_type": "display_data"
    },
    {
     "data": {
      "text/html": [
       "<pre style=\"white-space:pre;overflow-x:auto;line-height:normal;font-family:Menlo,'DejaVu Sans Mono',consolas,'Courier New',monospace\">param<span style=\"font-weight: bold\">[</span><span style=\"color: #008000; text-decoration-color: #008000\">'nsteps'</span><span style=\"font-weight: bold\">]</span>=<span style=\"color: #008080; text-decoration-color: #008080; font-weight: bold\">169</span> param<span style=\"font-weight: bold\">[</span><span style=\"color: #008000; text-decoration-color: #008000\">'aexp'</span><span style=\"font-weight: bold\">]</span>=<span style=\"color: #008080; text-decoration-color: #008080; font-weight: bold\">0.561027484758616</span> z = <span style=\"color: #008080; text-decoration-color: #008080; font-weight: bold\">0.7824438680223544</span>                                         \n",
       "</pre>\n"
      ],
      "text/plain": [
       "param\u001b[1m[\u001b[0m\u001b[32m'nsteps'\u001b[0m\u001b[1m]\u001b[0m=\u001b[1;36m169\u001b[0m param\u001b[1m[\u001b[0m\u001b[32m'aexp'\u001b[0m\u001b[1m]\u001b[0m=\u001b[1;36m0.561027484758616\u001b[0m z = \u001b[1;36m0.7824438680223544\u001b[0m                                         \n"
      ]
     },
     "metadata": {},
     "output_type": "display_data"
    },
    {
     "data": {
      "text/html": [
       "<pre style=\"white-space:pre;overflow-x:auto;line-height:normal;font-family:Menlo,'DejaVu Sans Mono',consolas,'Courier New',monospace\">Write <span style=\"color: #800080; text-decoration-color: #800080; font-weight: bold\">P</span><span style=\"font-weight: bold\">(</span>k<span style=\"font-weight: bold\">)</span> in .<span style=\"color: #800080; text-decoration-color: #800080\">/boxlen100_n128_lcdmw7v2_00000//power/</span><span style=\"color: #ff00ff; text-decoration-color: #ff00ff\">pk_eft_multigrid_ncoarse7_00170.dat</span>                           \n",
       "</pre>\n"
      ],
      "text/plain": [
       "Write \u001b[1;35mP\u001b[0m\u001b[1m(\u001b[0mk\u001b[1m)\u001b[0m in .\u001b[35m/boxlen100_n128_lcdmw7v2_00000/\u001b[0m\u001b[35m/power/\u001b[0m\u001b[95mpk_eft_multigrid_ncoarse7_00170.dat\u001b[0m                           \n"
      ]
     },
     "metadata": {},
     "output_type": "display_data"
    },
    {
     "data": {
      "text/html": [
       "<pre style=\"white-space:pre;overflow-x:auto;line-height:normal;font-family:Menlo,'DejaVu Sans Mono',consolas,'Courier New',monospace\">param<span style=\"font-weight: bold\">[</span><span style=\"color: #008000; text-decoration-color: #008000\">'nsteps'</span><span style=\"font-weight: bold\">]</span>=<span style=\"color: #008080; text-decoration-color: #008080; font-weight: bold\">170</span> param<span style=\"font-weight: bold\">[</span><span style=\"color: #008000; text-decoration-color: #008000\">'aexp'</span><span style=\"font-weight: bold\">]</span>=<span style=\"color: #008080; text-decoration-color: #008080; font-weight: bold\">0.561027484758616</span> z = <span style=\"color: #008080; text-decoration-color: #008080; font-weight: bold\">0.7824438680223544</span>                                         \n",
       "</pre>\n"
      ],
      "text/plain": [
       "param\u001b[1m[\u001b[0m\u001b[32m'nsteps'\u001b[0m\u001b[1m]\u001b[0m=\u001b[1;36m170\u001b[0m param\u001b[1m[\u001b[0m\u001b[32m'aexp'\u001b[0m\u001b[1m]\u001b[0m=\u001b[1;36m0.561027484758616\u001b[0m z = \u001b[1;36m0.7824438680223544\u001b[0m                                         \n"
      ]
     },
     "metadata": {},
     "output_type": "display_data"
    },
    {
     "data": {
      "text/html": [
       "<pre style=\"white-space:pre;overflow-x:auto;line-height:normal;font-family:Menlo,'DejaVu Sans Mono',consolas,'Courier New',monospace\">Write <span style=\"color: #800080; text-decoration-color: #800080; font-weight: bold\">P</span><span style=\"font-weight: bold\">(</span>k<span style=\"font-weight: bold\">)</span> in .<span style=\"color: #800080; text-decoration-color: #800080\">/boxlen100_n128_lcdmw7v2_00000//power/</span><span style=\"color: #ff00ff; text-decoration-color: #ff00ff\">pk_eft_multigrid_ncoarse7_00171.dat</span>                           \n",
       "</pre>\n"
      ],
      "text/plain": [
       "Write \u001b[1;35mP\u001b[0m\u001b[1m(\u001b[0mk\u001b[1m)\u001b[0m in .\u001b[35m/boxlen100_n128_lcdmw7v2_00000/\u001b[0m\u001b[35m/power/\u001b[0m\u001b[95mpk_eft_multigrid_ncoarse7_00171.dat\u001b[0m                           \n"
      ]
     },
     "metadata": {},
     "output_type": "display_data"
    },
    {
     "data": {
      "text/html": [
       "<pre style=\"white-space:pre;overflow-x:auto;line-height:normal;font-family:Menlo,'DejaVu Sans Mono',consolas,'Courier New',monospace\">param<span style=\"font-weight: bold\">[</span><span style=\"color: #008000; text-decoration-color: #008000\">'nsteps'</span><span style=\"font-weight: bold\">]</span>=<span style=\"color: #008080; text-decoration-color: #008080; font-weight: bold\">171</span> param<span style=\"font-weight: bold\">[</span><span style=\"color: #008000; text-decoration-color: #008000\">'aexp'</span><span style=\"font-weight: bold\">]</span>=<span style=\"color: #008080; text-decoration-color: #008080; font-weight: bold\">0.561027484758616</span> z = <span style=\"color: #008080; text-decoration-color: #008080; font-weight: bold\">0.7824438680223544</span>                                         \n",
       "</pre>\n"
      ],
      "text/plain": [
       "param\u001b[1m[\u001b[0m\u001b[32m'nsteps'\u001b[0m\u001b[1m]\u001b[0m=\u001b[1;36m171\u001b[0m param\u001b[1m[\u001b[0m\u001b[32m'aexp'\u001b[0m\u001b[1m]\u001b[0m=\u001b[1;36m0.561027484758616\u001b[0m z = \u001b[1;36m0.7824438680223544\u001b[0m                                         \n"
      ]
     },
     "metadata": {},
     "output_type": "display_data"
    },
    {
     "data": {
      "text/html": [
       "<pre style=\"white-space:pre;overflow-x:auto;line-height:normal;font-family:Menlo,'DejaVu Sans Mono',consolas,'Courier New',monospace\">Write <span style=\"color: #800080; text-decoration-color: #800080; font-weight: bold\">P</span><span style=\"font-weight: bold\">(</span>k<span style=\"font-weight: bold\">)</span> in .<span style=\"color: #800080; text-decoration-color: #800080\">/boxlen100_n128_lcdmw7v2_00000//power/</span><span style=\"color: #ff00ff; text-decoration-color: #ff00ff\">pk_eft_multigrid_ncoarse7_00172.dat</span>                           \n",
       "</pre>\n"
      ],
      "text/plain": [
       "Write \u001b[1;35mP\u001b[0m\u001b[1m(\u001b[0mk\u001b[1m)\u001b[0m in .\u001b[35m/boxlen100_n128_lcdmw7v2_00000/\u001b[0m\u001b[35m/power/\u001b[0m\u001b[95mpk_eft_multigrid_ncoarse7_00172.dat\u001b[0m                           \n"
      ]
     },
     "metadata": {},
     "output_type": "display_data"
    },
    {
     "data": {
      "text/html": [
       "<pre style=\"white-space:pre;overflow-x:auto;line-height:normal;font-family:Menlo,'DejaVu Sans Mono',consolas,'Courier New',monospace\">param<span style=\"font-weight: bold\">[</span><span style=\"color: #008000; text-decoration-color: #008000\">'nsteps'</span><span style=\"font-weight: bold\">]</span>=<span style=\"color: #008080; text-decoration-color: #008080; font-weight: bold\">172</span> param<span style=\"font-weight: bold\">[</span><span style=\"color: #008000; text-decoration-color: #008000\">'aexp'</span><span style=\"font-weight: bold\">]</span>=<span style=\"color: #008080; text-decoration-color: #008080; font-weight: bold\">0.561027484758616</span> z = <span style=\"color: #008080; text-decoration-color: #008080; font-weight: bold\">0.7824438680223544</span>                                         \n",
       "</pre>\n"
      ],
      "text/plain": [
       "param\u001b[1m[\u001b[0m\u001b[32m'nsteps'\u001b[0m\u001b[1m]\u001b[0m=\u001b[1;36m172\u001b[0m param\u001b[1m[\u001b[0m\u001b[32m'aexp'\u001b[0m\u001b[1m]\u001b[0m=\u001b[1;36m0.561027484758616\u001b[0m z = \u001b[1;36m0.7824438680223544\u001b[0m                                         \n"
      ]
     },
     "metadata": {},
     "output_type": "display_data"
    },
    {
     "data": {
      "text/html": [
       "<pre style=\"white-space:pre;overflow-x:auto;line-height:normal;font-family:Menlo,'DejaVu Sans Mono',consolas,'Courier New',monospace\">Write <span style=\"color: #800080; text-decoration-color: #800080; font-weight: bold\">P</span><span style=\"font-weight: bold\">(</span>k<span style=\"font-weight: bold\">)</span> in .<span style=\"color: #800080; text-decoration-color: #800080\">/boxlen100_n128_lcdmw7v2_00000//power/</span><span style=\"color: #ff00ff; text-decoration-color: #ff00ff\">pk_eft_multigrid_ncoarse7_00173.dat</span>                           \n",
       "</pre>\n"
      ],
      "text/plain": [
       "Write \u001b[1;35mP\u001b[0m\u001b[1m(\u001b[0mk\u001b[1m)\u001b[0m in .\u001b[35m/boxlen100_n128_lcdmw7v2_00000/\u001b[0m\u001b[35m/power/\u001b[0m\u001b[95mpk_eft_multigrid_ncoarse7_00173.dat\u001b[0m                           \n"
      ]
     },
     "metadata": {},
     "output_type": "display_data"
    },
    {
     "data": {
      "text/html": [
       "<pre style=\"white-space:pre;overflow-x:auto;line-height:normal;font-family:Menlo,'DejaVu Sans Mono',consolas,'Courier New',monospace\">param<span style=\"font-weight: bold\">[</span><span style=\"color: #008000; text-decoration-color: #008000\">'nsteps'</span><span style=\"font-weight: bold\">]</span>=<span style=\"color: #008080; text-decoration-color: #008080; font-weight: bold\">173</span> param<span style=\"font-weight: bold\">[</span><span style=\"color: #008000; text-decoration-color: #008000\">'aexp'</span><span style=\"font-weight: bold\">]</span>=<span style=\"color: #008080; text-decoration-color: #008080; font-weight: bold\">0.561027484758616</span> z = <span style=\"color: #008080; text-decoration-color: #008080; font-weight: bold\">0.7824438680223544</span>                                         \n",
       "</pre>\n"
      ],
      "text/plain": [
       "param\u001b[1m[\u001b[0m\u001b[32m'nsteps'\u001b[0m\u001b[1m]\u001b[0m=\u001b[1;36m173\u001b[0m param\u001b[1m[\u001b[0m\u001b[32m'aexp'\u001b[0m\u001b[1m]\u001b[0m=\u001b[1;36m0.561027484758616\u001b[0m z = \u001b[1;36m0.7824438680223544\u001b[0m                                         \n"
      ]
     },
     "metadata": {},
     "output_type": "display_data"
    },
    {
     "data": {
      "text/html": [
       "<pre style=\"white-space:pre;overflow-x:auto;line-height:normal;font-family:Menlo,'DejaVu Sans Mono',consolas,'Courier New',monospace\">Write <span style=\"color: #800080; text-decoration-color: #800080; font-weight: bold\">P</span><span style=\"font-weight: bold\">(</span>k<span style=\"font-weight: bold\">)</span> in .<span style=\"color: #800080; text-decoration-color: #800080\">/boxlen100_n128_lcdmw7v2_00000//power/</span><span style=\"color: #ff00ff; text-decoration-color: #ff00ff\">pk_eft_multigrid_ncoarse7_00174.dat</span>                           \n",
       "</pre>\n"
      ],
      "text/plain": [
       "Write \u001b[1;35mP\u001b[0m\u001b[1m(\u001b[0mk\u001b[1m)\u001b[0m in .\u001b[35m/boxlen100_n128_lcdmw7v2_00000/\u001b[0m\u001b[35m/power/\u001b[0m\u001b[95mpk_eft_multigrid_ncoarse7_00174.dat\u001b[0m                           \n"
      ]
     },
     "metadata": {},
     "output_type": "display_data"
    },
    {
     "data": {
      "text/html": [
       "<pre style=\"white-space:pre;overflow-x:auto;line-height:normal;font-family:Menlo,'DejaVu Sans Mono',consolas,'Courier New',monospace\">param<span style=\"font-weight: bold\">[</span><span style=\"color: #008000; text-decoration-color: #008000\">'nsteps'</span><span style=\"font-weight: bold\">]</span>=<span style=\"color: #008080; text-decoration-color: #008080; font-weight: bold\">174</span> param<span style=\"font-weight: bold\">[</span><span style=\"color: #008000; text-decoration-color: #008000\">'aexp'</span><span style=\"font-weight: bold\">]</span>=<span style=\"color: #008080; text-decoration-color: #008080; font-weight: bold\">0.561027484758616</span> z = <span style=\"color: #008080; text-decoration-color: #008080; font-weight: bold\">0.7824438680223544</span>                                         \n",
       "</pre>\n"
      ],
      "text/plain": [
       "param\u001b[1m[\u001b[0m\u001b[32m'nsteps'\u001b[0m\u001b[1m]\u001b[0m=\u001b[1;36m174\u001b[0m param\u001b[1m[\u001b[0m\u001b[32m'aexp'\u001b[0m\u001b[1m]\u001b[0m=\u001b[1;36m0.561027484758616\u001b[0m z = \u001b[1;36m0.7824438680223544\u001b[0m                                         \n"
      ]
     },
     "metadata": {},
     "output_type": "display_data"
    },
    {
     "data": {
      "text/html": [
       "<pre style=\"white-space:pre;overflow-x:auto;line-height:normal;font-family:Menlo,'DejaVu Sans Mono',consolas,'Courier New',monospace\">Write <span style=\"color: #800080; text-decoration-color: #800080; font-weight: bold\">P</span><span style=\"font-weight: bold\">(</span>k<span style=\"font-weight: bold\">)</span> in .<span style=\"color: #800080; text-decoration-color: #800080\">/boxlen100_n128_lcdmw7v2_00000//power/</span><span style=\"color: #ff00ff; text-decoration-color: #ff00ff\">pk_eft_multigrid_ncoarse7_00175.dat</span>                           \n",
       "</pre>\n"
      ],
      "text/plain": [
       "Write \u001b[1;35mP\u001b[0m\u001b[1m(\u001b[0mk\u001b[1m)\u001b[0m in .\u001b[35m/boxlen100_n128_lcdmw7v2_00000/\u001b[0m\u001b[35m/power/\u001b[0m\u001b[95mpk_eft_multigrid_ncoarse7_00175.dat\u001b[0m                           \n"
      ]
     },
     "metadata": {},
     "output_type": "display_data"
    },
    {
     "data": {
      "text/html": [
       "<pre style=\"white-space:pre;overflow-x:auto;line-height:normal;font-family:Menlo,'DejaVu Sans Mono',consolas,'Courier New',monospace\">param<span style=\"font-weight: bold\">[</span><span style=\"color: #008000; text-decoration-color: #008000\">'nsteps'</span><span style=\"font-weight: bold\">]</span>=<span style=\"color: #008080; text-decoration-color: #008080; font-weight: bold\">175</span> param<span style=\"font-weight: bold\">[</span><span style=\"color: #008000; text-decoration-color: #008000\">'aexp'</span><span style=\"font-weight: bold\">]</span>=<span style=\"color: #008080; text-decoration-color: #008080; font-weight: bold\">0.561027484758616</span> z = <span style=\"color: #008080; text-decoration-color: #008080; font-weight: bold\">0.7824438680223544</span>                                         \n",
       "</pre>\n"
      ],
      "text/plain": [
       "param\u001b[1m[\u001b[0m\u001b[32m'nsteps'\u001b[0m\u001b[1m]\u001b[0m=\u001b[1;36m175\u001b[0m param\u001b[1m[\u001b[0m\u001b[32m'aexp'\u001b[0m\u001b[1m]\u001b[0m=\u001b[1;36m0.561027484758616\u001b[0m z = \u001b[1;36m0.7824438680223544\u001b[0m                                         \n"
      ]
     },
     "metadata": {},
     "output_type": "display_data"
    },
    {
     "data": {
      "text/html": [
       "<pre style=\"white-space:pre;overflow-x:auto;line-height:normal;font-family:Menlo,'DejaVu Sans Mono',consolas,'Courier New',monospace\">Write <span style=\"color: #800080; text-decoration-color: #800080; font-weight: bold\">P</span><span style=\"font-weight: bold\">(</span>k<span style=\"font-weight: bold\">)</span> in .<span style=\"color: #800080; text-decoration-color: #800080\">/boxlen100_n128_lcdmw7v2_00000//power/</span><span style=\"color: #ff00ff; text-decoration-color: #ff00ff\">pk_eft_multigrid_ncoarse7_00176.dat</span>                           \n",
       "</pre>\n"
      ],
      "text/plain": [
       "Write \u001b[1;35mP\u001b[0m\u001b[1m(\u001b[0mk\u001b[1m)\u001b[0m in .\u001b[35m/boxlen100_n128_lcdmw7v2_00000/\u001b[0m\u001b[35m/power/\u001b[0m\u001b[95mpk_eft_multigrid_ncoarse7_00176.dat\u001b[0m                           \n"
      ]
     },
     "metadata": {},
     "output_type": "display_data"
    },
    {
     "data": {
      "text/html": [
       "<pre style=\"white-space:pre;overflow-x:auto;line-height:normal;font-family:Menlo,'DejaVu Sans Mono',consolas,'Courier New',monospace\">param<span style=\"font-weight: bold\">[</span><span style=\"color: #008000; text-decoration-color: #008000\">'nsteps'</span><span style=\"font-weight: bold\">]</span>=<span style=\"color: #008080; text-decoration-color: #008080; font-weight: bold\">176</span> param<span style=\"font-weight: bold\">[</span><span style=\"color: #008000; text-decoration-color: #008000\">'aexp'</span><span style=\"font-weight: bold\">]</span>=<span style=\"color: #008080; text-decoration-color: #008080; font-weight: bold\">0.561027484758616</span> z = <span style=\"color: #008080; text-decoration-color: #008080; font-weight: bold\">0.7824438680223544</span>                                         \n",
       "</pre>\n"
      ],
      "text/plain": [
       "param\u001b[1m[\u001b[0m\u001b[32m'nsteps'\u001b[0m\u001b[1m]\u001b[0m=\u001b[1;36m176\u001b[0m param\u001b[1m[\u001b[0m\u001b[32m'aexp'\u001b[0m\u001b[1m]\u001b[0m=\u001b[1;36m0.561027484758616\u001b[0m z = \u001b[1;36m0.7824438680223544\u001b[0m                                         \n"
      ]
     },
     "metadata": {},
     "output_type": "display_data"
    },
    {
     "data": {
      "text/html": [
       "<pre style=\"white-space:pre;overflow-x:auto;line-height:normal;font-family:Menlo,'DejaVu Sans Mono',consolas,'Courier New',monospace\">Write <span style=\"color: #800080; text-decoration-color: #800080; font-weight: bold\">P</span><span style=\"font-weight: bold\">(</span>k<span style=\"font-weight: bold\">)</span> in .<span style=\"color: #800080; text-decoration-color: #800080\">/boxlen100_n128_lcdmw7v2_00000//power/</span><span style=\"color: #ff00ff; text-decoration-color: #ff00ff\">pk_eft_multigrid_ncoarse7_00177.dat</span>                           \n",
       "</pre>\n"
      ],
      "text/plain": [
       "Write \u001b[1;35mP\u001b[0m\u001b[1m(\u001b[0mk\u001b[1m)\u001b[0m in .\u001b[35m/boxlen100_n128_lcdmw7v2_00000/\u001b[0m\u001b[35m/power/\u001b[0m\u001b[95mpk_eft_multigrid_ncoarse7_00177.dat\u001b[0m                           \n"
      ]
     },
     "metadata": {},
     "output_type": "display_data"
    },
    {
     "data": {
      "text/html": [
       "<pre style=\"white-space:pre;overflow-x:auto;line-height:normal;font-family:Menlo,'DejaVu Sans Mono',consolas,'Courier New',monospace\">param<span style=\"font-weight: bold\">[</span><span style=\"color: #008000; text-decoration-color: #008000\">'nsteps'</span><span style=\"font-weight: bold\">]</span>=<span style=\"color: #008080; text-decoration-color: #008080; font-weight: bold\">177</span> param<span style=\"font-weight: bold\">[</span><span style=\"color: #008000; text-decoration-color: #008000\">'aexp'</span><span style=\"font-weight: bold\">]</span>=<span style=\"color: #008080; text-decoration-color: #008080; font-weight: bold\">0.561027484758616</span> z = <span style=\"color: #008080; text-decoration-color: #008080; font-weight: bold\">0.7824438680223544</span>                                         \n",
       "</pre>\n"
      ],
      "text/plain": [
       "param\u001b[1m[\u001b[0m\u001b[32m'nsteps'\u001b[0m\u001b[1m]\u001b[0m=\u001b[1;36m177\u001b[0m param\u001b[1m[\u001b[0m\u001b[32m'aexp'\u001b[0m\u001b[1m]\u001b[0m=\u001b[1;36m0.561027484758616\u001b[0m z = \u001b[1;36m0.7824438680223544\u001b[0m                                         \n"
      ]
     },
     "metadata": {},
     "output_type": "display_data"
    },
    {
     "data": {
      "text/html": [
       "<pre style=\"white-space:pre;overflow-x:auto;line-height:normal;font-family:Menlo,'DejaVu Sans Mono',consolas,'Courier New',monospace\">Write <span style=\"color: #800080; text-decoration-color: #800080; font-weight: bold\">P</span><span style=\"font-weight: bold\">(</span>k<span style=\"font-weight: bold\">)</span> in .<span style=\"color: #800080; text-decoration-color: #800080\">/boxlen100_n128_lcdmw7v2_00000//power/</span><span style=\"color: #ff00ff; text-decoration-color: #ff00ff\">pk_eft_multigrid_ncoarse7_00178.dat</span>                           \n",
       "</pre>\n"
      ],
      "text/plain": [
       "Write \u001b[1;35mP\u001b[0m\u001b[1m(\u001b[0mk\u001b[1m)\u001b[0m in .\u001b[35m/boxlen100_n128_lcdmw7v2_00000/\u001b[0m\u001b[35m/power/\u001b[0m\u001b[95mpk_eft_multigrid_ncoarse7_00178.dat\u001b[0m                           \n"
      ]
     },
     "metadata": {},
     "output_type": "display_data"
    },
    {
     "data": {
      "text/html": [
       "<pre style=\"white-space:pre;overflow-x:auto;line-height:normal;font-family:Menlo,'DejaVu Sans Mono',consolas,'Courier New',monospace\">param<span style=\"font-weight: bold\">[</span><span style=\"color: #008000; text-decoration-color: #008000\">'nsteps'</span><span style=\"font-weight: bold\">]</span>=<span style=\"color: #008080; text-decoration-color: #008080; font-weight: bold\">178</span> param<span style=\"font-weight: bold\">[</span><span style=\"color: #008000; text-decoration-color: #008000\">'aexp'</span><span style=\"font-weight: bold\">]</span>=<span style=\"color: #008080; text-decoration-color: #008080; font-weight: bold\">0.561027484758616</span> z = <span style=\"color: #008080; text-decoration-color: #008080; font-weight: bold\">0.7824438680223544</span>                                         \n",
       "</pre>\n"
      ],
      "text/plain": [
       "param\u001b[1m[\u001b[0m\u001b[32m'nsteps'\u001b[0m\u001b[1m]\u001b[0m=\u001b[1;36m178\u001b[0m param\u001b[1m[\u001b[0m\u001b[32m'aexp'\u001b[0m\u001b[1m]\u001b[0m=\u001b[1;36m0.561027484758616\u001b[0m z = \u001b[1;36m0.7824438680223544\u001b[0m                                         \n"
      ]
     },
     "metadata": {},
     "output_type": "display_data"
    },
    {
     "data": {
      "text/html": [
       "<pre style=\"white-space:pre;overflow-x:auto;line-height:normal;font-family:Menlo,'DejaVu Sans Mono',consolas,'Courier New',monospace\">Write <span style=\"color: #800080; text-decoration-color: #800080; font-weight: bold\">P</span><span style=\"font-weight: bold\">(</span>k<span style=\"font-weight: bold\">)</span> in .<span style=\"color: #800080; text-decoration-color: #800080\">/boxlen100_n128_lcdmw7v2_00000//power/</span><span style=\"color: #ff00ff; text-decoration-color: #ff00ff\">pk_eft_multigrid_ncoarse7_00179.dat</span>                           \n",
       "</pre>\n"
      ],
      "text/plain": [
       "Write \u001b[1;35mP\u001b[0m\u001b[1m(\u001b[0mk\u001b[1m)\u001b[0m in .\u001b[35m/boxlen100_n128_lcdmw7v2_00000/\u001b[0m\u001b[35m/power/\u001b[0m\u001b[95mpk_eft_multigrid_ncoarse7_00179.dat\u001b[0m                           \n"
      ]
     },
     "metadata": {},
     "output_type": "display_data"
    },
    {
     "data": {
      "text/html": [
       "<pre style=\"white-space:pre;overflow-x:auto;line-height:normal;font-family:Menlo,'DejaVu Sans Mono',consolas,'Courier New',monospace\">param<span style=\"font-weight: bold\">[</span><span style=\"color: #008000; text-decoration-color: #008000\">'nsteps'</span><span style=\"font-weight: bold\">]</span>=<span style=\"color: #008080; text-decoration-color: #008080; font-weight: bold\">179</span> param<span style=\"font-weight: bold\">[</span><span style=\"color: #008000; text-decoration-color: #008000\">'aexp'</span><span style=\"font-weight: bold\">]</span>=<span style=\"color: #008080; text-decoration-color: #008080; font-weight: bold\">0.561027484758616</span> z = <span style=\"color: #008080; text-decoration-color: #008080; font-weight: bold\">0.7824438680223544</span>                                         \n",
       "</pre>\n"
      ],
      "text/plain": [
       "param\u001b[1m[\u001b[0m\u001b[32m'nsteps'\u001b[0m\u001b[1m]\u001b[0m=\u001b[1;36m179\u001b[0m param\u001b[1m[\u001b[0m\u001b[32m'aexp'\u001b[0m\u001b[1m]\u001b[0m=\u001b[1;36m0.561027484758616\u001b[0m z = \u001b[1;36m0.7824438680223544\u001b[0m                                         \n"
      ]
     },
     "metadata": {},
     "output_type": "display_data"
    },
    {
     "data": {
      "text/html": [
       "<pre style=\"white-space:pre;overflow-x:auto;line-height:normal;font-family:Menlo,'DejaVu Sans Mono',consolas,'Courier New',monospace\">Write <span style=\"color: #800080; text-decoration-color: #800080; font-weight: bold\">P</span><span style=\"font-weight: bold\">(</span>k<span style=\"font-weight: bold\">)</span> in .<span style=\"color: #800080; text-decoration-color: #800080\">/boxlen100_n128_lcdmw7v2_00000//power/</span><span style=\"color: #ff00ff; text-decoration-color: #ff00ff\">pk_eft_multigrid_ncoarse7_00180.dat</span>                           \n",
       "</pre>\n"
      ],
      "text/plain": [
       "Write \u001b[1;35mP\u001b[0m\u001b[1m(\u001b[0mk\u001b[1m)\u001b[0m in .\u001b[35m/boxlen100_n128_lcdmw7v2_00000/\u001b[0m\u001b[35m/power/\u001b[0m\u001b[95mpk_eft_multigrid_ncoarse7_00180.dat\u001b[0m                           \n"
      ]
     },
     "metadata": {},
     "output_type": "display_data"
    },
    {
     "data": {
      "text/html": [
       "<pre style=\"white-space:pre;overflow-x:auto;line-height:normal;font-family:Menlo,'DejaVu Sans Mono',consolas,'Courier New',monospace\">param<span style=\"font-weight: bold\">[</span><span style=\"color: #008000; text-decoration-color: #008000\">'nsteps'</span><span style=\"font-weight: bold\">]</span>=<span style=\"color: #008080; text-decoration-color: #008080; font-weight: bold\">180</span> param<span style=\"font-weight: bold\">[</span><span style=\"color: #008000; text-decoration-color: #008000\">'aexp'</span><span style=\"font-weight: bold\">]</span>=<span style=\"color: #008080; text-decoration-color: #008080; font-weight: bold\">0.561027484758616</span> z = <span style=\"color: #008080; text-decoration-color: #008080; font-weight: bold\">0.7824438680223544</span>                                         \n",
       "</pre>\n"
      ],
      "text/plain": [
       "param\u001b[1m[\u001b[0m\u001b[32m'nsteps'\u001b[0m\u001b[1m]\u001b[0m=\u001b[1;36m180\u001b[0m param\u001b[1m[\u001b[0m\u001b[32m'aexp'\u001b[0m\u001b[1m]\u001b[0m=\u001b[1;36m0.561027484758616\u001b[0m z = \u001b[1;36m0.7824438680223544\u001b[0m                                         \n"
      ]
     },
     "metadata": {},
     "output_type": "display_data"
    },
    {
     "data": {
      "text/html": [
       "<pre style=\"white-space:pre;overflow-x:auto;line-height:normal;font-family:Menlo,'DejaVu Sans Mono',consolas,'Courier New',monospace\">Write <span style=\"color: #800080; text-decoration-color: #800080; font-weight: bold\">P</span><span style=\"font-weight: bold\">(</span>k<span style=\"font-weight: bold\">)</span> in .<span style=\"color: #800080; text-decoration-color: #800080\">/boxlen100_n128_lcdmw7v2_00000//power/</span><span style=\"color: #ff00ff; text-decoration-color: #ff00ff\">pk_eft_multigrid_ncoarse7_00181.dat</span>                           \n",
       "</pre>\n"
      ],
      "text/plain": [
       "Write \u001b[1;35mP\u001b[0m\u001b[1m(\u001b[0mk\u001b[1m)\u001b[0m in .\u001b[35m/boxlen100_n128_lcdmw7v2_00000/\u001b[0m\u001b[35m/power/\u001b[0m\u001b[95mpk_eft_multigrid_ncoarse7_00181.dat\u001b[0m                           \n"
      ]
     },
     "metadata": {},
     "output_type": "display_data"
    },
    {
     "data": {
      "text/html": [
       "<pre style=\"white-space:pre;overflow-x:auto;line-height:normal;font-family:Menlo,'DejaVu Sans Mono',consolas,'Courier New',monospace\">param<span style=\"font-weight: bold\">[</span><span style=\"color: #008000; text-decoration-color: #008000\">'nsteps'</span><span style=\"font-weight: bold\">]</span>=<span style=\"color: #008080; text-decoration-color: #008080; font-weight: bold\">181</span> param<span style=\"font-weight: bold\">[</span><span style=\"color: #008000; text-decoration-color: #008000\">'aexp'</span><span style=\"font-weight: bold\">]</span>=<span style=\"color: #008080; text-decoration-color: #008080; font-weight: bold\">0.561027484758616</span> z = <span style=\"color: #008080; text-decoration-color: #008080; font-weight: bold\">0.7824438680223544</span>                                         \n",
       "</pre>\n"
      ],
      "text/plain": [
       "param\u001b[1m[\u001b[0m\u001b[32m'nsteps'\u001b[0m\u001b[1m]\u001b[0m=\u001b[1;36m181\u001b[0m param\u001b[1m[\u001b[0m\u001b[32m'aexp'\u001b[0m\u001b[1m]\u001b[0m=\u001b[1;36m0.561027484758616\u001b[0m z = \u001b[1;36m0.7824438680223544\u001b[0m                                         \n"
      ]
     },
     "metadata": {},
     "output_type": "display_data"
    },
    {
     "data": {
      "text/html": [
       "<pre style=\"white-space:pre;overflow-x:auto;line-height:normal;font-family:Menlo,'DejaVu Sans Mono',consolas,'Courier New',monospace\">Write <span style=\"color: #800080; text-decoration-color: #800080; font-weight: bold\">P</span><span style=\"font-weight: bold\">(</span>k<span style=\"font-weight: bold\">)</span> in .<span style=\"color: #800080; text-decoration-color: #800080\">/boxlen100_n128_lcdmw7v2_00000//power/</span><span style=\"color: #ff00ff; text-decoration-color: #ff00ff\">pk_eft_multigrid_ncoarse7_00182.dat</span>                           \n",
       "</pre>\n"
      ],
      "text/plain": [
       "Write \u001b[1;35mP\u001b[0m\u001b[1m(\u001b[0mk\u001b[1m)\u001b[0m in .\u001b[35m/boxlen100_n128_lcdmw7v2_00000/\u001b[0m\u001b[35m/power/\u001b[0m\u001b[95mpk_eft_multigrid_ncoarse7_00182.dat\u001b[0m                           \n"
      ]
     },
     "metadata": {},
     "output_type": "display_data"
    },
    {
     "data": {
      "text/html": [
       "<pre style=\"white-space:pre;overflow-x:auto;line-height:normal;font-family:Menlo,'DejaVu Sans Mono',consolas,'Courier New',monospace\">param<span style=\"font-weight: bold\">[</span><span style=\"color: #008000; text-decoration-color: #008000\">'nsteps'</span><span style=\"font-weight: bold\">]</span>=<span style=\"color: #008080; text-decoration-color: #008080; font-weight: bold\">182</span> param<span style=\"font-weight: bold\">[</span><span style=\"color: #008000; text-decoration-color: #008000\">'aexp'</span><span style=\"font-weight: bold\">]</span>=<span style=\"color: #008080; text-decoration-color: #008080; font-weight: bold\">0.561027484758616</span> z = <span style=\"color: #008080; text-decoration-color: #008080; font-weight: bold\">0.7824438680223544</span>                                         \n",
       "</pre>\n"
      ],
      "text/plain": [
       "param\u001b[1m[\u001b[0m\u001b[32m'nsteps'\u001b[0m\u001b[1m]\u001b[0m=\u001b[1;36m182\u001b[0m param\u001b[1m[\u001b[0m\u001b[32m'aexp'\u001b[0m\u001b[1m]\u001b[0m=\u001b[1;36m0.561027484758616\u001b[0m z = \u001b[1;36m0.7824438680223544\u001b[0m                                         \n"
      ]
     },
     "metadata": {},
     "output_type": "display_data"
    },
    {
     "data": {
      "text/html": [
       "<pre style=\"white-space:pre;overflow-x:auto;line-height:normal;font-family:Menlo,'DejaVu Sans Mono',consolas,'Courier New',monospace\">Write <span style=\"color: #800080; text-decoration-color: #800080; font-weight: bold\">P</span><span style=\"font-weight: bold\">(</span>k<span style=\"font-weight: bold\">)</span> in .<span style=\"color: #800080; text-decoration-color: #800080\">/boxlen100_n128_lcdmw7v2_00000//power/</span><span style=\"color: #ff00ff; text-decoration-color: #ff00ff\">pk_eft_multigrid_ncoarse7_00183.dat</span>                           \n",
       "</pre>\n"
      ],
      "text/plain": [
       "Write \u001b[1;35mP\u001b[0m\u001b[1m(\u001b[0mk\u001b[1m)\u001b[0m in .\u001b[35m/boxlen100_n128_lcdmw7v2_00000/\u001b[0m\u001b[35m/power/\u001b[0m\u001b[95mpk_eft_multigrid_ncoarse7_00183.dat\u001b[0m                           \n"
      ]
     },
     "metadata": {},
     "output_type": "display_data"
    },
    {
     "data": {
      "text/html": [
       "<pre style=\"white-space:pre;overflow-x:auto;line-height:normal;font-family:Menlo,'DejaVu Sans Mono',consolas,'Courier New',monospace\">param<span style=\"font-weight: bold\">[</span><span style=\"color: #008000; text-decoration-color: #008000\">'nsteps'</span><span style=\"font-weight: bold\">]</span>=<span style=\"color: #008080; text-decoration-color: #008080; font-weight: bold\">183</span> param<span style=\"font-weight: bold\">[</span><span style=\"color: #008000; text-decoration-color: #008000\">'aexp'</span><span style=\"font-weight: bold\">]</span>=<span style=\"color: #008080; text-decoration-color: #008080; font-weight: bold\">0.561027484758616</span> z = <span style=\"color: #008080; text-decoration-color: #008080; font-weight: bold\">0.7824438680223544</span>                                         \n",
       "</pre>\n"
      ],
      "text/plain": [
       "param\u001b[1m[\u001b[0m\u001b[32m'nsteps'\u001b[0m\u001b[1m]\u001b[0m=\u001b[1;36m183\u001b[0m param\u001b[1m[\u001b[0m\u001b[32m'aexp'\u001b[0m\u001b[1m]\u001b[0m=\u001b[1;36m0.561027484758616\u001b[0m z = \u001b[1;36m0.7824438680223544\u001b[0m                                         \n"
      ]
     },
     "metadata": {},
     "output_type": "display_data"
    },
    {
     "data": {
      "text/html": [
       "<pre style=\"white-space:pre;overflow-x:auto;line-height:normal;font-family:Menlo,'DejaVu Sans Mono',consolas,'Courier New',monospace\">Write <span style=\"color: #800080; text-decoration-color: #800080; font-weight: bold\">P</span><span style=\"font-weight: bold\">(</span>k<span style=\"font-weight: bold\">)</span> in .<span style=\"color: #800080; text-decoration-color: #800080\">/boxlen100_n128_lcdmw7v2_00000//power/</span><span style=\"color: #ff00ff; text-decoration-color: #ff00ff\">pk_eft_multigrid_ncoarse7_00184.dat</span>                           \n",
       "</pre>\n"
      ],
      "text/plain": [
       "Write \u001b[1;35mP\u001b[0m\u001b[1m(\u001b[0mk\u001b[1m)\u001b[0m in .\u001b[35m/boxlen100_n128_lcdmw7v2_00000/\u001b[0m\u001b[35m/power/\u001b[0m\u001b[95mpk_eft_multigrid_ncoarse7_00184.dat\u001b[0m                           \n"
      ]
     },
     "metadata": {},
     "output_type": "display_data"
    },
    {
     "data": {
      "text/html": [
       "<pre style=\"white-space:pre;overflow-x:auto;line-height:normal;font-family:Menlo,'DejaVu Sans Mono',consolas,'Courier New',monospace\">param<span style=\"font-weight: bold\">[</span><span style=\"color: #008000; text-decoration-color: #008000\">'nsteps'</span><span style=\"font-weight: bold\">]</span>=<span style=\"color: #008080; text-decoration-color: #008080; font-weight: bold\">184</span> param<span style=\"font-weight: bold\">[</span><span style=\"color: #008000; text-decoration-color: #008000\">'aexp'</span><span style=\"font-weight: bold\">]</span>=<span style=\"color: #008080; text-decoration-color: #008080; font-weight: bold\">0.561027484758616</span> z = <span style=\"color: #008080; text-decoration-color: #008080; font-weight: bold\">0.7824438680223544</span>                                         \n",
       "</pre>\n"
      ],
      "text/plain": [
       "param\u001b[1m[\u001b[0m\u001b[32m'nsteps'\u001b[0m\u001b[1m]\u001b[0m=\u001b[1;36m184\u001b[0m param\u001b[1m[\u001b[0m\u001b[32m'aexp'\u001b[0m\u001b[1m]\u001b[0m=\u001b[1;36m0.561027484758616\u001b[0m z = \u001b[1;36m0.7824438680223544\u001b[0m                                         \n"
      ]
     },
     "metadata": {},
     "output_type": "display_data"
    },
    {
     "data": {
      "text/html": [
       "<pre style=\"white-space:pre;overflow-x:auto;line-height:normal;font-family:Menlo,'DejaVu Sans Mono',consolas,'Courier New',monospace\">Write <span style=\"color: #800080; text-decoration-color: #800080; font-weight: bold\">P</span><span style=\"font-weight: bold\">(</span>k<span style=\"font-weight: bold\">)</span> in .<span style=\"color: #800080; text-decoration-color: #800080\">/boxlen100_n128_lcdmw7v2_00000//power/</span><span style=\"color: #ff00ff; text-decoration-color: #ff00ff\">pk_eft_multigrid_ncoarse7_00185.dat</span>                           \n",
       "</pre>\n"
      ],
      "text/plain": [
       "Write \u001b[1;35mP\u001b[0m\u001b[1m(\u001b[0mk\u001b[1m)\u001b[0m in .\u001b[35m/boxlen100_n128_lcdmw7v2_00000/\u001b[0m\u001b[35m/power/\u001b[0m\u001b[95mpk_eft_multigrid_ncoarse7_00185.dat\u001b[0m                           \n"
      ]
     },
     "metadata": {},
     "output_type": "display_data"
    },
    {
     "data": {
      "text/html": [
       "<pre style=\"white-space:pre;overflow-x:auto;line-height:normal;font-family:Menlo,'DejaVu Sans Mono',consolas,'Courier New',monospace\">param<span style=\"font-weight: bold\">[</span><span style=\"color: #008000; text-decoration-color: #008000\">'nsteps'</span><span style=\"font-weight: bold\">]</span>=<span style=\"color: #008080; text-decoration-color: #008080; font-weight: bold\">185</span> param<span style=\"font-weight: bold\">[</span><span style=\"color: #008000; text-decoration-color: #008000\">'aexp'</span><span style=\"font-weight: bold\">]</span>=<span style=\"color: #008080; text-decoration-color: #008080; font-weight: bold\">0.561027484758616</span> z = <span style=\"color: #008080; text-decoration-color: #008080; font-weight: bold\">0.7824438680223544</span>                                         \n",
       "</pre>\n"
      ],
      "text/plain": [
       "param\u001b[1m[\u001b[0m\u001b[32m'nsteps'\u001b[0m\u001b[1m]\u001b[0m=\u001b[1;36m185\u001b[0m param\u001b[1m[\u001b[0m\u001b[32m'aexp'\u001b[0m\u001b[1m]\u001b[0m=\u001b[1;36m0.561027484758616\u001b[0m z = \u001b[1;36m0.7824438680223544\u001b[0m                                         \n"
      ]
     },
     "metadata": {},
     "output_type": "display_data"
    },
    {
     "data": {
      "text/html": [
       "<pre style=\"white-space:pre;overflow-x:auto;line-height:normal;font-family:Menlo,'DejaVu Sans Mono',consolas,'Courier New',monospace\">Write <span style=\"color: #800080; text-decoration-color: #800080; font-weight: bold\">P</span><span style=\"font-weight: bold\">(</span>k<span style=\"font-weight: bold\">)</span> in .<span style=\"color: #800080; text-decoration-color: #800080\">/boxlen100_n128_lcdmw7v2_00000//power/</span><span style=\"color: #ff00ff; text-decoration-color: #ff00ff\">pk_eft_multigrid_ncoarse7_00186.dat</span>                           \n",
       "</pre>\n"
      ],
      "text/plain": [
       "Write \u001b[1;35mP\u001b[0m\u001b[1m(\u001b[0mk\u001b[1m)\u001b[0m in .\u001b[35m/boxlen100_n128_lcdmw7v2_00000/\u001b[0m\u001b[35m/power/\u001b[0m\u001b[95mpk_eft_multigrid_ncoarse7_00186.dat\u001b[0m                           \n"
      ]
     },
     "metadata": {},
     "output_type": "display_data"
    },
    {
     "data": {
      "text/html": [
       "<pre style=\"white-space:pre;overflow-x:auto;line-height:normal;font-family:Menlo,'DejaVu Sans Mono',consolas,'Courier New',monospace\">param<span style=\"font-weight: bold\">[</span><span style=\"color: #008000; text-decoration-color: #008000\">'nsteps'</span><span style=\"font-weight: bold\">]</span>=<span style=\"color: #008080; text-decoration-color: #008080; font-weight: bold\">186</span> param<span style=\"font-weight: bold\">[</span><span style=\"color: #008000; text-decoration-color: #008000\">'aexp'</span><span style=\"font-weight: bold\">]</span>=<span style=\"color: #008080; text-decoration-color: #008080; font-weight: bold\">0.561027484758616</span> z = <span style=\"color: #008080; text-decoration-color: #008080; font-weight: bold\">0.7824438680223544</span>                                         \n",
       "</pre>\n"
      ],
      "text/plain": [
       "param\u001b[1m[\u001b[0m\u001b[32m'nsteps'\u001b[0m\u001b[1m]\u001b[0m=\u001b[1;36m186\u001b[0m param\u001b[1m[\u001b[0m\u001b[32m'aexp'\u001b[0m\u001b[1m]\u001b[0m=\u001b[1;36m0.561027484758616\u001b[0m z = \u001b[1;36m0.7824438680223544\u001b[0m                                         \n"
      ]
     },
     "metadata": {},
     "output_type": "display_data"
    },
    {
     "data": {
      "text/html": [
       "<pre style=\"white-space:pre;overflow-x:auto;line-height:normal;font-family:Menlo,'DejaVu Sans Mono',consolas,'Courier New',monospace\">Write <span style=\"color: #800080; text-decoration-color: #800080; font-weight: bold\">P</span><span style=\"font-weight: bold\">(</span>k<span style=\"font-weight: bold\">)</span> in .<span style=\"color: #800080; text-decoration-color: #800080\">/boxlen100_n128_lcdmw7v2_00000//power/</span><span style=\"color: #ff00ff; text-decoration-color: #ff00ff\">pk_eft_multigrid_ncoarse7_00187.dat</span>                           \n",
       "</pre>\n"
      ],
      "text/plain": [
       "Write \u001b[1;35mP\u001b[0m\u001b[1m(\u001b[0mk\u001b[1m)\u001b[0m in .\u001b[35m/boxlen100_n128_lcdmw7v2_00000/\u001b[0m\u001b[35m/power/\u001b[0m\u001b[95mpk_eft_multigrid_ncoarse7_00187.dat\u001b[0m                           \n"
      ]
     },
     "metadata": {},
     "output_type": "display_data"
    },
    {
     "data": {
      "text/html": [
       "<pre style=\"white-space:pre;overflow-x:auto;line-height:normal;font-family:Menlo,'DejaVu Sans Mono',consolas,'Courier New',monospace\">param<span style=\"font-weight: bold\">[</span><span style=\"color: #008000; text-decoration-color: #008000\">'nsteps'</span><span style=\"font-weight: bold\">]</span>=<span style=\"color: #008080; text-decoration-color: #008080; font-weight: bold\">187</span> param<span style=\"font-weight: bold\">[</span><span style=\"color: #008000; text-decoration-color: #008000\">'aexp'</span><span style=\"font-weight: bold\">]</span>=<span style=\"color: #008080; text-decoration-color: #008080; font-weight: bold\">0.561027484758616</span> z = <span style=\"color: #008080; text-decoration-color: #008080; font-weight: bold\">0.7824438680223544</span>                                         \n",
       "</pre>\n"
      ],
      "text/plain": [
       "param\u001b[1m[\u001b[0m\u001b[32m'nsteps'\u001b[0m\u001b[1m]\u001b[0m=\u001b[1;36m187\u001b[0m param\u001b[1m[\u001b[0m\u001b[32m'aexp'\u001b[0m\u001b[1m]\u001b[0m=\u001b[1;36m0.561027484758616\u001b[0m z = \u001b[1;36m0.7824438680223544\u001b[0m                                         \n"
      ]
     },
     "metadata": {},
     "output_type": "display_data"
    },
    {
     "data": {
      "text/html": [
       "<pre style=\"white-space:pre;overflow-x:auto;line-height:normal;font-family:Menlo,'DejaVu Sans Mono',consolas,'Courier New',monospace\">Write <span style=\"color: #800080; text-decoration-color: #800080; font-weight: bold\">P</span><span style=\"font-weight: bold\">(</span>k<span style=\"font-weight: bold\">)</span> in .<span style=\"color: #800080; text-decoration-color: #800080\">/boxlen100_n128_lcdmw7v2_00000//power/</span><span style=\"color: #ff00ff; text-decoration-color: #ff00ff\">pk_eft_multigrid_ncoarse7_00188.dat</span>                           \n",
       "</pre>\n"
      ],
      "text/plain": [
       "Write \u001b[1;35mP\u001b[0m\u001b[1m(\u001b[0mk\u001b[1m)\u001b[0m in .\u001b[35m/boxlen100_n128_lcdmw7v2_00000/\u001b[0m\u001b[35m/power/\u001b[0m\u001b[95mpk_eft_multigrid_ncoarse7_00188.dat\u001b[0m                           \n"
      ]
     },
     "metadata": {},
     "output_type": "display_data"
    },
    {
     "data": {
      "text/html": [
       "<pre style=\"white-space:pre;overflow-x:auto;line-height:normal;font-family:Menlo,'DejaVu Sans Mono',consolas,'Courier New',monospace\">param<span style=\"font-weight: bold\">[</span><span style=\"color: #008000; text-decoration-color: #008000\">'nsteps'</span><span style=\"font-weight: bold\">]</span>=<span style=\"color: #008080; text-decoration-color: #008080; font-weight: bold\">188</span> param<span style=\"font-weight: bold\">[</span><span style=\"color: #008000; text-decoration-color: #008000\">'aexp'</span><span style=\"font-weight: bold\">]</span>=<span style=\"color: #008080; text-decoration-color: #008080; font-weight: bold\">0.561027484758616</span> z = <span style=\"color: #008080; text-decoration-color: #008080; font-weight: bold\">0.7824438680223544</span>                                         \n",
       "</pre>\n"
      ],
      "text/plain": [
       "param\u001b[1m[\u001b[0m\u001b[32m'nsteps'\u001b[0m\u001b[1m]\u001b[0m=\u001b[1;36m188\u001b[0m param\u001b[1m[\u001b[0m\u001b[32m'aexp'\u001b[0m\u001b[1m]\u001b[0m=\u001b[1;36m0.561027484758616\u001b[0m z = \u001b[1;36m0.7824438680223544\u001b[0m                                         \n"
      ]
     },
     "metadata": {},
     "output_type": "display_data"
    },
    {
     "data": {
      "text/html": [
       "<pre style=\"white-space:pre;overflow-x:auto;line-height:normal;font-family:Menlo,'DejaVu Sans Mono',consolas,'Courier New',monospace\">Write <span style=\"color: #800080; text-decoration-color: #800080; font-weight: bold\">P</span><span style=\"font-weight: bold\">(</span>k<span style=\"font-weight: bold\">)</span> in .<span style=\"color: #800080; text-decoration-color: #800080\">/boxlen100_n128_lcdmw7v2_00000//power/</span><span style=\"color: #ff00ff; text-decoration-color: #ff00ff\">pk_eft_multigrid_ncoarse7_00189.dat</span>                           \n",
       "</pre>\n"
      ],
      "text/plain": [
       "Write \u001b[1;35mP\u001b[0m\u001b[1m(\u001b[0mk\u001b[1m)\u001b[0m in .\u001b[35m/boxlen100_n128_lcdmw7v2_00000/\u001b[0m\u001b[35m/power/\u001b[0m\u001b[95mpk_eft_multigrid_ncoarse7_00189.dat\u001b[0m                           \n"
      ]
     },
     "metadata": {},
     "output_type": "display_data"
    },
    {
     "data": {
      "text/html": [
       "<pre style=\"white-space:pre;overflow-x:auto;line-height:normal;font-family:Menlo,'DejaVu Sans Mono',consolas,'Courier New',monospace\">param<span style=\"font-weight: bold\">[</span><span style=\"color: #008000; text-decoration-color: #008000\">'nsteps'</span><span style=\"font-weight: bold\">]</span>=<span style=\"color: #008080; text-decoration-color: #008080; font-weight: bold\">189</span> param<span style=\"font-weight: bold\">[</span><span style=\"color: #008000; text-decoration-color: #008000\">'aexp'</span><span style=\"font-weight: bold\">]</span>=<span style=\"color: #008080; text-decoration-color: #008080; font-weight: bold\">0.561027484758616</span> z = <span style=\"color: #008080; text-decoration-color: #008080; font-weight: bold\">0.7824438680223544</span>                                         \n",
       "</pre>\n"
      ],
      "text/plain": [
       "param\u001b[1m[\u001b[0m\u001b[32m'nsteps'\u001b[0m\u001b[1m]\u001b[0m=\u001b[1;36m189\u001b[0m param\u001b[1m[\u001b[0m\u001b[32m'aexp'\u001b[0m\u001b[1m]\u001b[0m=\u001b[1;36m0.561027484758616\u001b[0m z = \u001b[1;36m0.7824438680223544\u001b[0m                                         \n"
      ]
     },
     "metadata": {},
     "output_type": "display_data"
    },
    {
     "data": {
      "text/html": [
       "<pre style=\"white-space:pre;overflow-x:auto;line-height:normal;font-family:Menlo,'DejaVu Sans Mono',consolas,'Courier New',monospace\">Write <span style=\"color: #800080; text-decoration-color: #800080; font-weight: bold\">P</span><span style=\"font-weight: bold\">(</span>k<span style=\"font-weight: bold\">)</span> in .<span style=\"color: #800080; text-decoration-color: #800080\">/boxlen100_n128_lcdmw7v2_00000//power/</span><span style=\"color: #ff00ff; text-decoration-color: #ff00ff\">pk_eft_multigrid_ncoarse7_00190.dat</span>                           \n",
       "</pre>\n"
      ],
      "text/plain": [
       "Write \u001b[1;35mP\u001b[0m\u001b[1m(\u001b[0mk\u001b[1m)\u001b[0m in .\u001b[35m/boxlen100_n128_lcdmw7v2_00000/\u001b[0m\u001b[35m/power/\u001b[0m\u001b[95mpk_eft_multigrid_ncoarse7_00190.dat\u001b[0m                           \n"
      ]
     },
     "metadata": {},
     "output_type": "display_data"
    },
    {
     "data": {
      "text/html": [
       "<pre style=\"white-space:pre;overflow-x:auto;line-height:normal;font-family:Menlo,'DejaVu Sans Mono',consolas,'Courier New',monospace\">param<span style=\"font-weight: bold\">[</span><span style=\"color: #008000; text-decoration-color: #008000\">'nsteps'</span><span style=\"font-weight: bold\">]</span>=<span style=\"color: #008080; text-decoration-color: #008080; font-weight: bold\">190</span> param<span style=\"font-weight: bold\">[</span><span style=\"color: #008000; text-decoration-color: #008000\">'aexp'</span><span style=\"font-weight: bold\">]</span>=<span style=\"color: #008080; text-decoration-color: #008080; font-weight: bold\">0.561027484758616</span> z = <span style=\"color: #008080; text-decoration-color: #008080; font-weight: bold\">0.7824438680223544</span>                                         \n",
       "</pre>\n"
      ],
      "text/plain": [
       "param\u001b[1m[\u001b[0m\u001b[32m'nsteps'\u001b[0m\u001b[1m]\u001b[0m=\u001b[1;36m190\u001b[0m param\u001b[1m[\u001b[0m\u001b[32m'aexp'\u001b[0m\u001b[1m]\u001b[0m=\u001b[1;36m0.561027484758616\u001b[0m z = \u001b[1;36m0.7824438680223544\u001b[0m                                         \n"
      ]
     },
     "metadata": {},
     "output_type": "display_data"
    },
    {
     "data": {
      "text/html": [
       "<pre style=\"white-space:pre;overflow-x:auto;line-height:normal;font-family:Menlo,'DejaVu Sans Mono',consolas,'Courier New',monospace\">Write <span style=\"color: #800080; text-decoration-color: #800080; font-weight: bold\">P</span><span style=\"font-weight: bold\">(</span>k<span style=\"font-weight: bold\">)</span> in .<span style=\"color: #800080; text-decoration-color: #800080\">/boxlen100_n128_lcdmw7v2_00000//power/</span><span style=\"color: #ff00ff; text-decoration-color: #ff00ff\">pk_eft_multigrid_ncoarse7_00191.dat</span>                           \n",
       "</pre>\n"
      ],
      "text/plain": [
       "Write \u001b[1;35mP\u001b[0m\u001b[1m(\u001b[0mk\u001b[1m)\u001b[0m in .\u001b[35m/boxlen100_n128_lcdmw7v2_00000/\u001b[0m\u001b[35m/power/\u001b[0m\u001b[95mpk_eft_multigrid_ncoarse7_00191.dat\u001b[0m                           \n"
      ]
     },
     "metadata": {},
     "output_type": "display_data"
    },
    {
     "data": {
      "text/html": [
       "<pre style=\"white-space:pre;overflow-x:auto;line-height:normal;font-family:Menlo,'DejaVu Sans Mono',consolas,'Courier New',monospace\">param<span style=\"font-weight: bold\">[</span><span style=\"color: #008000; text-decoration-color: #008000\">'nsteps'</span><span style=\"font-weight: bold\">]</span>=<span style=\"color: #008080; text-decoration-color: #008080; font-weight: bold\">191</span> param<span style=\"font-weight: bold\">[</span><span style=\"color: #008000; text-decoration-color: #008000\">'aexp'</span><span style=\"font-weight: bold\">]</span>=<span style=\"color: #008080; text-decoration-color: #008080; font-weight: bold\">0.561027484758616</span> z = <span style=\"color: #008080; text-decoration-color: #008080; font-weight: bold\">0.7824438680223544</span>                                         \n",
       "</pre>\n"
      ],
      "text/plain": [
       "param\u001b[1m[\u001b[0m\u001b[32m'nsteps'\u001b[0m\u001b[1m]\u001b[0m=\u001b[1;36m191\u001b[0m param\u001b[1m[\u001b[0m\u001b[32m'aexp'\u001b[0m\u001b[1m]\u001b[0m=\u001b[1;36m0.561027484758616\u001b[0m z = \u001b[1;36m0.7824438680223544\u001b[0m                                         \n"
      ]
     },
     "metadata": {},
     "output_type": "display_data"
    },
    {
     "data": {
      "text/html": [
       "<pre style=\"white-space:pre;overflow-x:auto;line-height:normal;font-family:Menlo,'DejaVu Sans Mono',consolas,'Courier New',monospace\">Write <span style=\"color: #800080; text-decoration-color: #800080; font-weight: bold\">P</span><span style=\"font-weight: bold\">(</span>k<span style=\"font-weight: bold\">)</span> in .<span style=\"color: #800080; text-decoration-color: #800080\">/boxlen100_n128_lcdmw7v2_00000//power/</span><span style=\"color: #ff00ff; text-decoration-color: #ff00ff\">pk_eft_multigrid_ncoarse7_00192.dat</span>                           \n",
       "</pre>\n"
      ],
      "text/plain": [
       "Write \u001b[1;35mP\u001b[0m\u001b[1m(\u001b[0mk\u001b[1m)\u001b[0m in .\u001b[35m/boxlen100_n128_lcdmw7v2_00000/\u001b[0m\u001b[35m/power/\u001b[0m\u001b[95mpk_eft_multigrid_ncoarse7_00192.dat\u001b[0m                           \n"
      ]
     },
     "metadata": {},
     "output_type": "display_data"
    },
    {
     "data": {
      "text/html": [
       "<pre style=\"white-space:pre;overflow-x:auto;line-height:normal;font-family:Menlo,'DejaVu Sans Mono',consolas,'Courier New',monospace\">param<span style=\"font-weight: bold\">[</span><span style=\"color: #008000; text-decoration-color: #008000\">'nsteps'</span><span style=\"font-weight: bold\">]</span>=<span style=\"color: #008080; text-decoration-color: #008080; font-weight: bold\">192</span> param<span style=\"font-weight: bold\">[</span><span style=\"color: #008000; text-decoration-color: #008000\">'aexp'</span><span style=\"font-weight: bold\">]</span>=<span style=\"color: #008080; text-decoration-color: #008080; font-weight: bold\">0.561027484758616</span> z = <span style=\"color: #008080; text-decoration-color: #008080; font-weight: bold\">0.7824438680223544</span>                                         \n",
       "</pre>\n"
      ],
      "text/plain": [
       "param\u001b[1m[\u001b[0m\u001b[32m'nsteps'\u001b[0m\u001b[1m]\u001b[0m=\u001b[1;36m192\u001b[0m param\u001b[1m[\u001b[0m\u001b[32m'aexp'\u001b[0m\u001b[1m]\u001b[0m=\u001b[1;36m0.561027484758616\u001b[0m z = \u001b[1;36m0.7824438680223544\u001b[0m                                         \n"
      ]
     },
     "metadata": {},
     "output_type": "display_data"
    },
    {
     "data": {
      "text/html": [
       "<pre style=\"white-space:pre;overflow-x:auto;line-height:normal;font-family:Menlo,'DejaVu Sans Mono',consolas,'Courier New',monospace\">Write <span style=\"color: #800080; text-decoration-color: #800080; font-weight: bold\">P</span><span style=\"font-weight: bold\">(</span>k<span style=\"font-weight: bold\">)</span> in .<span style=\"color: #800080; text-decoration-color: #800080\">/boxlen100_n128_lcdmw7v2_00000//power/</span><span style=\"color: #ff00ff; text-decoration-color: #ff00ff\">pk_eft_multigrid_ncoarse7_00193.dat</span>                           \n",
       "</pre>\n"
      ],
      "text/plain": [
       "Write \u001b[1;35mP\u001b[0m\u001b[1m(\u001b[0mk\u001b[1m)\u001b[0m in .\u001b[35m/boxlen100_n128_lcdmw7v2_00000/\u001b[0m\u001b[35m/power/\u001b[0m\u001b[95mpk_eft_multigrid_ncoarse7_00193.dat\u001b[0m                           \n"
      ]
     },
     "metadata": {},
     "output_type": "display_data"
    },
    {
     "data": {
      "text/html": [
       "<pre style=\"white-space:pre;overflow-x:auto;line-height:normal;font-family:Menlo,'DejaVu Sans Mono',consolas,'Courier New',monospace\">param<span style=\"font-weight: bold\">[</span><span style=\"color: #008000; text-decoration-color: #008000\">'nsteps'</span><span style=\"font-weight: bold\">]</span>=<span style=\"color: #008080; text-decoration-color: #008080; font-weight: bold\">193</span> param<span style=\"font-weight: bold\">[</span><span style=\"color: #008000; text-decoration-color: #008000\">'aexp'</span><span style=\"font-weight: bold\">]</span>=<span style=\"color: #008080; text-decoration-color: #008080; font-weight: bold\">0.561027484758616</span> z = <span style=\"color: #008080; text-decoration-color: #008080; font-weight: bold\">0.7824438680223544</span>                                         \n",
       "</pre>\n"
      ],
      "text/plain": [
       "param\u001b[1m[\u001b[0m\u001b[32m'nsteps'\u001b[0m\u001b[1m]\u001b[0m=\u001b[1;36m193\u001b[0m param\u001b[1m[\u001b[0m\u001b[32m'aexp'\u001b[0m\u001b[1m]\u001b[0m=\u001b[1;36m0.561027484758616\u001b[0m z = \u001b[1;36m0.7824438680223544\u001b[0m                                         \n"
      ]
     },
     "metadata": {},
     "output_type": "display_data"
    },
    {
     "data": {
      "text/html": [
       "<pre style=\"white-space:pre;overflow-x:auto;line-height:normal;font-family:Menlo,'DejaVu Sans Mono',consolas,'Courier New',monospace\">Write <span style=\"color: #800080; text-decoration-color: #800080; font-weight: bold\">P</span><span style=\"font-weight: bold\">(</span>k<span style=\"font-weight: bold\">)</span> in .<span style=\"color: #800080; text-decoration-color: #800080\">/boxlen100_n128_lcdmw7v2_00000//power/</span><span style=\"color: #ff00ff; text-decoration-color: #ff00ff\">pk_eft_multigrid_ncoarse7_00194.dat</span>                           \n",
       "</pre>\n"
      ],
      "text/plain": [
       "Write \u001b[1;35mP\u001b[0m\u001b[1m(\u001b[0mk\u001b[1m)\u001b[0m in .\u001b[35m/boxlen100_n128_lcdmw7v2_00000/\u001b[0m\u001b[35m/power/\u001b[0m\u001b[95mpk_eft_multigrid_ncoarse7_00194.dat\u001b[0m                           \n"
      ]
     },
     "metadata": {},
     "output_type": "display_data"
    },
    {
     "data": {
      "text/html": [
       "<pre style=\"white-space:pre;overflow-x:auto;line-height:normal;font-family:Menlo,'DejaVu Sans Mono',consolas,'Courier New',monospace\">param<span style=\"font-weight: bold\">[</span><span style=\"color: #008000; text-decoration-color: #008000\">'nsteps'</span><span style=\"font-weight: bold\">]</span>=<span style=\"color: #008080; text-decoration-color: #008080; font-weight: bold\">194</span> param<span style=\"font-weight: bold\">[</span><span style=\"color: #008000; text-decoration-color: #008000\">'aexp'</span><span style=\"font-weight: bold\">]</span>=<span style=\"color: #008080; text-decoration-color: #008080; font-weight: bold\">0.561027484758616</span> z = <span style=\"color: #008080; text-decoration-color: #008080; font-weight: bold\">0.7824438680223544</span>                                         \n",
       "</pre>\n"
      ],
      "text/plain": [
       "param\u001b[1m[\u001b[0m\u001b[32m'nsteps'\u001b[0m\u001b[1m]\u001b[0m=\u001b[1;36m194\u001b[0m param\u001b[1m[\u001b[0m\u001b[32m'aexp'\u001b[0m\u001b[1m]\u001b[0m=\u001b[1;36m0.561027484758616\u001b[0m z = \u001b[1;36m0.7824438680223544\u001b[0m                                         \n"
      ]
     },
     "metadata": {},
     "output_type": "display_data"
    },
    {
     "data": {
      "text/html": [
       "<pre style=\"white-space:pre;overflow-x:auto;line-height:normal;font-family:Menlo,'DejaVu Sans Mono',consolas,'Courier New',monospace\">Write <span style=\"color: #800080; text-decoration-color: #800080; font-weight: bold\">P</span><span style=\"font-weight: bold\">(</span>k<span style=\"font-weight: bold\">)</span> in .<span style=\"color: #800080; text-decoration-color: #800080\">/boxlen100_n128_lcdmw7v2_00000//power/</span><span style=\"color: #ff00ff; text-decoration-color: #ff00ff\">pk_eft_multigrid_ncoarse7_00195.dat</span>                           \n",
       "</pre>\n"
      ],
      "text/plain": [
       "Write \u001b[1;35mP\u001b[0m\u001b[1m(\u001b[0mk\u001b[1m)\u001b[0m in .\u001b[35m/boxlen100_n128_lcdmw7v2_00000/\u001b[0m\u001b[35m/power/\u001b[0m\u001b[95mpk_eft_multigrid_ncoarse7_00195.dat\u001b[0m                           \n"
      ]
     },
     "metadata": {},
     "output_type": "display_data"
    },
    {
     "data": {
      "text/html": [
       "<pre style=\"white-space:pre;overflow-x:auto;line-height:normal;font-family:Menlo,'DejaVu Sans Mono',consolas,'Courier New',monospace\">param<span style=\"font-weight: bold\">[</span><span style=\"color: #008000; text-decoration-color: #008000\">'nsteps'</span><span style=\"font-weight: bold\">]</span>=<span style=\"color: #008080; text-decoration-color: #008080; font-weight: bold\">195</span> param<span style=\"font-weight: bold\">[</span><span style=\"color: #008000; text-decoration-color: #008000\">'aexp'</span><span style=\"font-weight: bold\">]</span>=<span style=\"color: #008080; text-decoration-color: #008080; font-weight: bold\">0.561027484758616</span> z = <span style=\"color: #008080; text-decoration-color: #008080; font-weight: bold\">0.7824438680223544</span>                                         \n",
       "</pre>\n"
      ],
      "text/plain": [
       "param\u001b[1m[\u001b[0m\u001b[32m'nsteps'\u001b[0m\u001b[1m]\u001b[0m=\u001b[1;36m195\u001b[0m param\u001b[1m[\u001b[0m\u001b[32m'aexp'\u001b[0m\u001b[1m]\u001b[0m=\u001b[1;36m0.561027484758616\u001b[0m z = \u001b[1;36m0.7824438680223544\u001b[0m                                         \n"
      ]
     },
     "metadata": {},
     "output_type": "display_data"
    },
    {
     "data": {
      "text/html": [
       "<pre style=\"white-space:pre;overflow-x:auto;line-height:normal;font-family:Menlo,'DejaVu Sans Mono',consolas,'Courier New',monospace\">Write <span style=\"color: #800080; text-decoration-color: #800080; font-weight: bold\">P</span><span style=\"font-weight: bold\">(</span>k<span style=\"font-weight: bold\">)</span> in .<span style=\"color: #800080; text-decoration-color: #800080\">/boxlen100_n128_lcdmw7v2_00000//power/</span><span style=\"color: #ff00ff; text-decoration-color: #ff00ff\">pk_eft_multigrid_ncoarse7_00196.dat</span>                           \n",
       "</pre>\n"
      ],
      "text/plain": [
       "Write \u001b[1;35mP\u001b[0m\u001b[1m(\u001b[0mk\u001b[1m)\u001b[0m in .\u001b[35m/boxlen100_n128_lcdmw7v2_00000/\u001b[0m\u001b[35m/power/\u001b[0m\u001b[95mpk_eft_multigrid_ncoarse7_00196.dat\u001b[0m                           \n"
      ]
     },
     "metadata": {},
     "output_type": "display_data"
    },
    {
     "data": {
      "text/html": [
       "<pre style=\"white-space:pre;overflow-x:auto;line-height:normal;font-family:Menlo,'DejaVu Sans Mono',consolas,'Courier New',monospace\">param<span style=\"font-weight: bold\">[</span><span style=\"color: #008000; text-decoration-color: #008000\">'nsteps'</span><span style=\"font-weight: bold\">]</span>=<span style=\"color: #008080; text-decoration-color: #008080; font-weight: bold\">196</span> param<span style=\"font-weight: bold\">[</span><span style=\"color: #008000; text-decoration-color: #008000\">'aexp'</span><span style=\"font-weight: bold\">]</span>=<span style=\"color: #008080; text-decoration-color: #008080; font-weight: bold\">0.561027484758616</span> z = <span style=\"color: #008080; text-decoration-color: #008080; font-weight: bold\">0.7824438680223544</span>                                         \n",
       "</pre>\n"
      ],
      "text/plain": [
       "param\u001b[1m[\u001b[0m\u001b[32m'nsteps'\u001b[0m\u001b[1m]\u001b[0m=\u001b[1;36m196\u001b[0m param\u001b[1m[\u001b[0m\u001b[32m'aexp'\u001b[0m\u001b[1m]\u001b[0m=\u001b[1;36m0.561027484758616\u001b[0m z = \u001b[1;36m0.7824438680223544\u001b[0m                                         \n"
      ]
     },
     "metadata": {},
     "output_type": "display_data"
    },
    {
     "data": {
      "text/html": [
       "<pre style=\"white-space:pre;overflow-x:auto;line-height:normal;font-family:Menlo,'DejaVu Sans Mono',consolas,'Courier New',monospace\">Write <span style=\"color: #800080; text-decoration-color: #800080; font-weight: bold\">P</span><span style=\"font-weight: bold\">(</span>k<span style=\"font-weight: bold\">)</span> in .<span style=\"color: #800080; text-decoration-color: #800080\">/boxlen100_n128_lcdmw7v2_00000//power/</span><span style=\"color: #ff00ff; text-decoration-color: #ff00ff\">pk_eft_multigrid_ncoarse7_00197.dat</span>                           \n",
       "</pre>\n"
      ],
      "text/plain": [
       "Write \u001b[1;35mP\u001b[0m\u001b[1m(\u001b[0mk\u001b[1m)\u001b[0m in .\u001b[35m/boxlen100_n128_lcdmw7v2_00000/\u001b[0m\u001b[35m/power/\u001b[0m\u001b[95mpk_eft_multigrid_ncoarse7_00197.dat\u001b[0m                           \n"
      ]
     },
     "metadata": {},
     "output_type": "display_data"
    },
    {
     "data": {
      "text/html": [
       "<pre style=\"white-space:pre;overflow-x:auto;line-height:normal;font-family:Menlo,'DejaVu Sans Mono',consolas,'Courier New',monospace\">param<span style=\"font-weight: bold\">[</span><span style=\"color: #008000; text-decoration-color: #008000\">'nsteps'</span><span style=\"font-weight: bold\">]</span>=<span style=\"color: #008080; text-decoration-color: #008080; font-weight: bold\">197</span> param<span style=\"font-weight: bold\">[</span><span style=\"color: #008000; text-decoration-color: #008000\">'aexp'</span><span style=\"font-weight: bold\">]</span>=<span style=\"color: #008080; text-decoration-color: #008080; font-weight: bold\">0.561027484758616</span> z = <span style=\"color: #008080; text-decoration-color: #008080; font-weight: bold\">0.7824438680223544</span>                                         \n",
       "</pre>\n"
      ],
      "text/plain": [
       "param\u001b[1m[\u001b[0m\u001b[32m'nsteps'\u001b[0m\u001b[1m]\u001b[0m=\u001b[1;36m197\u001b[0m param\u001b[1m[\u001b[0m\u001b[32m'aexp'\u001b[0m\u001b[1m]\u001b[0m=\u001b[1;36m0.561027484758616\u001b[0m z = \u001b[1;36m0.7824438680223544\u001b[0m                                         \n"
      ]
     },
     "metadata": {},
     "output_type": "display_data"
    },
    {
     "data": {
      "text/html": [
       "<pre style=\"white-space:pre;overflow-x:auto;line-height:normal;font-family:Menlo,'DejaVu Sans Mono',consolas,'Courier New',monospace\">Write <span style=\"color: #800080; text-decoration-color: #800080; font-weight: bold\">P</span><span style=\"font-weight: bold\">(</span>k<span style=\"font-weight: bold\">)</span> in .<span style=\"color: #800080; text-decoration-color: #800080\">/boxlen100_n128_lcdmw7v2_00000//power/</span><span style=\"color: #ff00ff; text-decoration-color: #ff00ff\">pk_eft_multigrid_ncoarse7_00198.dat</span>                           \n",
       "</pre>\n"
      ],
      "text/plain": [
       "Write \u001b[1;35mP\u001b[0m\u001b[1m(\u001b[0mk\u001b[1m)\u001b[0m in .\u001b[35m/boxlen100_n128_lcdmw7v2_00000/\u001b[0m\u001b[35m/power/\u001b[0m\u001b[95mpk_eft_multigrid_ncoarse7_00198.dat\u001b[0m                           \n"
      ]
     },
     "metadata": {},
     "output_type": "display_data"
    },
    {
     "data": {
      "text/html": [
       "<pre style=\"white-space:pre;overflow-x:auto;line-height:normal;font-family:Menlo,'DejaVu Sans Mono',consolas,'Courier New',monospace\">param<span style=\"font-weight: bold\">[</span><span style=\"color: #008000; text-decoration-color: #008000\">'nsteps'</span><span style=\"font-weight: bold\">]</span>=<span style=\"color: #008080; text-decoration-color: #008080; font-weight: bold\">198</span> param<span style=\"font-weight: bold\">[</span><span style=\"color: #008000; text-decoration-color: #008000\">'aexp'</span><span style=\"font-weight: bold\">]</span>=<span style=\"color: #008080; text-decoration-color: #008080; font-weight: bold\">0.561027484758616</span> z = <span style=\"color: #008080; text-decoration-color: #008080; font-weight: bold\">0.7824438680223544</span>                                         \n",
       "</pre>\n"
      ],
      "text/plain": [
       "param\u001b[1m[\u001b[0m\u001b[32m'nsteps'\u001b[0m\u001b[1m]\u001b[0m=\u001b[1;36m198\u001b[0m param\u001b[1m[\u001b[0m\u001b[32m'aexp'\u001b[0m\u001b[1m]\u001b[0m=\u001b[1;36m0.561027484758616\u001b[0m z = \u001b[1;36m0.7824438680223544\u001b[0m                                         \n"
      ]
     },
     "metadata": {},
     "output_type": "display_data"
    },
    {
     "data": {
      "text/html": [
       "<pre style=\"white-space:pre;overflow-x:auto;line-height:normal;font-family:Menlo,'DejaVu Sans Mono',consolas,'Courier New',monospace\">Write <span style=\"color: #800080; text-decoration-color: #800080; font-weight: bold\">P</span><span style=\"font-weight: bold\">(</span>k<span style=\"font-weight: bold\">)</span> in .<span style=\"color: #800080; text-decoration-color: #800080\">/boxlen100_n128_lcdmw7v2_00000//power/</span><span style=\"color: #ff00ff; text-decoration-color: #ff00ff\">pk_eft_multigrid_ncoarse7_00199.dat</span>                           \n",
       "</pre>\n"
      ],
      "text/plain": [
       "Write \u001b[1;35mP\u001b[0m\u001b[1m(\u001b[0mk\u001b[1m)\u001b[0m in .\u001b[35m/boxlen100_n128_lcdmw7v2_00000/\u001b[0m\u001b[35m/power/\u001b[0m\u001b[95mpk_eft_multigrid_ncoarse7_00199.dat\u001b[0m                           \n"
      ]
     },
     "metadata": {},
     "output_type": "display_data"
    },
    {
     "data": {
      "text/html": [
       "<pre style=\"white-space:pre;overflow-x:auto;line-height:normal;font-family:Menlo,'DejaVu Sans Mono',consolas,'Courier New',monospace\">param<span style=\"font-weight: bold\">[</span><span style=\"color: #008000; text-decoration-color: #008000\">'nsteps'</span><span style=\"font-weight: bold\">]</span>=<span style=\"color: #008080; text-decoration-color: #008080; font-weight: bold\">199</span> param<span style=\"font-weight: bold\">[</span><span style=\"color: #008000; text-decoration-color: #008000\">'aexp'</span><span style=\"font-weight: bold\">]</span>=<span style=\"color: #008080; text-decoration-color: #008080; font-weight: bold\">0.561027484758616</span> z = <span style=\"color: #008080; text-decoration-color: #008080; font-weight: bold\">0.7824438680223544</span>                                         \n",
       "</pre>\n"
      ],
      "text/plain": [
       "param\u001b[1m[\u001b[0m\u001b[32m'nsteps'\u001b[0m\u001b[1m]\u001b[0m=\u001b[1;36m199\u001b[0m param\u001b[1m[\u001b[0m\u001b[32m'aexp'\u001b[0m\u001b[1m]\u001b[0m=\u001b[1;36m0.561027484758616\u001b[0m z = \u001b[1;36m0.7824438680223544\u001b[0m                                         \n"
      ]
     },
     "metadata": {},
     "output_type": "display_data"
    },
    {
     "data": {
      "text/html": [
       "<pre style=\"white-space:pre;overflow-x:auto;line-height:normal;font-family:Menlo,'DejaVu Sans Mono',consolas,'Courier New',monospace\">Write <span style=\"color: #800080; text-decoration-color: #800080; font-weight: bold\">P</span><span style=\"font-weight: bold\">(</span>k<span style=\"font-weight: bold\">)</span> in .<span style=\"color: #800080; text-decoration-color: #800080\">/boxlen100_n128_lcdmw7v2_00000//power/</span><span style=\"color: #ff00ff; text-decoration-color: #ff00ff\">pk_eft_multigrid_ncoarse7_00200.dat</span>                           \n",
       "</pre>\n"
      ],
      "text/plain": [
       "Write \u001b[1;35mP\u001b[0m\u001b[1m(\u001b[0mk\u001b[1m)\u001b[0m in .\u001b[35m/boxlen100_n128_lcdmw7v2_00000/\u001b[0m\u001b[35m/power/\u001b[0m\u001b[95mpk_eft_multigrid_ncoarse7_00200.dat\u001b[0m                           \n"
      ]
     },
     "metadata": {},
     "output_type": "display_data"
    },
    {
     "data": {
      "text/html": [
       "<pre style=\"white-space:pre;overflow-x:auto;line-height:normal;font-family:Menlo,'DejaVu Sans Mono',consolas,'Courier New',monospace\">param<span style=\"font-weight: bold\">[</span><span style=\"color: #008000; text-decoration-color: #008000\">'nsteps'</span><span style=\"font-weight: bold\">]</span>=<span style=\"color: #008080; text-decoration-color: #008080; font-weight: bold\">200</span> param<span style=\"font-weight: bold\">[</span><span style=\"color: #008000; text-decoration-color: #008000\">'aexp'</span><span style=\"font-weight: bold\">]</span>=<span style=\"color: #008080; text-decoration-color: #008080; font-weight: bold\">0.561027484758616</span> z = <span style=\"color: #008080; text-decoration-color: #008080; font-weight: bold\">0.7824438680223544</span>                                         \n",
       "</pre>\n"
      ],
      "text/plain": [
       "param\u001b[1m[\u001b[0m\u001b[32m'nsteps'\u001b[0m\u001b[1m]\u001b[0m=\u001b[1;36m200\u001b[0m param\u001b[1m[\u001b[0m\u001b[32m'aexp'\u001b[0m\u001b[1m]\u001b[0m=\u001b[1;36m0.561027484758616\u001b[0m z = \u001b[1;36m0.7824438680223544\u001b[0m                                         \n"
      ]
     },
     "metadata": {},
     "output_type": "display_data"
    },
    {
     "data": {
      "text/html": [
       "<pre style=\"white-space:pre;overflow-x:auto;line-height:normal;font-family:Menlo,'DejaVu Sans Mono',consolas,'Courier New',monospace\">Write <span style=\"color: #800080; text-decoration-color: #800080; font-weight: bold\">P</span><span style=\"font-weight: bold\">(</span>k<span style=\"font-weight: bold\">)</span> in .<span style=\"color: #800080; text-decoration-color: #800080\">/boxlen100_n128_lcdmw7v2_00000//power/</span><span style=\"color: #ff00ff; text-decoration-color: #ff00ff\">pk_eft_multigrid_ncoarse7_00201.dat</span>                           \n",
       "</pre>\n"
      ],
      "text/plain": [
       "Write \u001b[1;35mP\u001b[0m\u001b[1m(\u001b[0mk\u001b[1m)\u001b[0m in .\u001b[35m/boxlen100_n128_lcdmw7v2_00000/\u001b[0m\u001b[35m/power/\u001b[0m\u001b[95mpk_eft_multigrid_ncoarse7_00201.dat\u001b[0m                           \n"
      ]
     },
     "metadata": {},
     "output_type": "display_data"
    },
    {
     "data": {
      "text/html": [
       "<pre style=\"white-space:pre;overflow-x:auto;line-height:normal;font-family:Menlo,'DejaVu Sans Mono',consolas,'Courier New',monospace\">param<span style=\"font-weight: bold\">[</span><span style=\"color: #008000; text-decoration-color: #008000\">'nsteps'</span><span style=\"font-weight: bold\">]</span>=<span style=\"color: #008080; text-decoration-color: #008080; font-weight: bold\">201</span> param<span style=\"font-weight: bold\">[</span><span style=\"color: #008000; text-decoration-color: #008000\">'aexp'</span><span style=\"font-weight: bold\">]</span>=<span style=\"color: #008080; text-decoration-color: #008080; font-weight: bold\">0.561027484758616</span> z = <span style=\"color: #008080; text-decoration-color: #008080; font-weight: bold\">0.7824438680223544</span>                                         \n",
       "</pre>\n"
      ],
      "text/plain": [
       "param\u001b[1m[\u001b[0m\u001b[32m'nsteps'\u001b[0m\u001b[1m]\u001b[0m=\u001b[1;36m201\u001b[0m param\u001b[1m[\u001b[0m\u001b[32m'aexp'\u001b[0m\u001b[1m]\u001b[0m=\u001b[1;36m0.561027484758616\u001b[0m z = \u001b[1;36m0.7824438680223544\u001b[0m                                         \n"
      ]
     },
     "metadata": {},
     "output_type": "display_data"
    },
    {
     "data": {
      "text/html": [
       "<pre style=\"white-space:pre;overflow-x:auto;line-height:normal;font-family:Menlo,'DejaVu Sans Mono',consolas,'Courier New',monospace\">Write <span style=\"color: #800080; text-decoration-color: #800080; font-weight: bold\">P</span><span style=\"font-weight: bold\">(</span>k<span style=\"font-weight: bold\">)</span> in .<span style=\"color: #800080; text-decoration-color: #800080\">/boxlen100_n128_lcdmw7v2_00000//power/</span><span style=\"color: #ff00ff; text-decoration-color: #ff00ff\">pk_eft_multigrid_ncoarse7_00202.dat</span>                           \n",
       "</pre>\n"
      ],
      "text/plain": [
       "Write \u001b[1;35mP\u001b[0m\u001b[1m(\u001b[0mk\u001b[1m)\u001b[0m in .\u001b[35m/boxlen100_n128_lcdmw7v2_00000/\u001b[0m\u001b[35m/power/\u001b[0m\u001b[95mpk_eft_multigrid_ncoarse7_00202.dat\u001b[0m                           \n"
      ]
     },
     "metadata": {},
     "output_type": "display_data"
    },
    {
     "data": {
      "text/html": [
       "<pre style=\"white-space:pre;overflow-x:auto;line-height:normal;font-family:Menlo,'DejaVu Sans Mono',consolas,'Courier New',monospace\">param<span style=\"font-weight: bold\">[</span><span style=\"color: #008000; text-decoration-color: #008000\">'nsteps'</span><span style=\"font-weight: bold\">]</span>=<span style=\"color: #008080; text-decoration-color: #008080; font-weight: bold\">202</span> param<span style=\"font-weight: bold\">[</span><span style=\"color: #008000; text-decoration-color: #008000\">'aexp'</span><span style=\"font-weight: bold\">]</span>=<span style=\"color: #008080; text-decoration-color: #008080; font-weight: bold\">0.561027484758616</span> z = <span style=\"color: #008080; text-decoration-color: #008080; font-weight: bold\">0.7824438680223544</span>                                         \n",
       "</pre>\n"
      ],
      "text/plain": [
       "param\u001b[1m[\u001b[0m\u001b[32m'nsteps'\u001b[0m\u001b[1m]\u001b[0m=\u001b[1;36m202\u001b[0m param\u001b[1m[\u001b[0m\u001b[32m'aexp'\u001b[0m\u001b[1m]\u001b[0m=\u001b[1;36m0.561027484758616\u001b[0m z = \u001b[1;36m0.7824438680223544\u001b[0m                                         \n"
      ]
     },
     "metadata": {},
     "output_type": "display_data"
    },
    {
     "data": {
      "text/html": [
       "<pre style=\"white-space:pre;overflow-x:auto;line-height:normal;font-family:Menlo,'DejaVu Sans Mono',consolas,'Courier New',monospace\">Write <span style=\"color: #800080; text-decoration-color: #800080; font-weight: bold\">P</span><span style=\"font-weight: bold\">(</span>k<span style=\"font-weight: bold\">)</span> in .<span style=\"color: #800080; text-decoration-color: #800080\">/boxlen100_n128_lcdmw7v2_00000//power/</span><span style=\"color: #ff00ff; text-decoration-color: #ff00ff\">pk_eft_multigrid_ncoarse7_00203.dat</span>                           \n",
       "</pre>\n"
      ],
      "text/plain": [
       "Write \u001b[1;35mP\u001b[0m\u001b[1m(\u001b[0mk\u001b[1m)\u001b[0m in .\u001b[35m/boxlen100_n128_lcdmw7v2_00000/\u001b[0m\u001b[35m/power/\u001b[0m\u001b[95mpk_eft_multigrid_ncoarse7_00203.dat\u001b[0m                           \n"
      ]
     },
     "metadata": {},
     "output_type": "display_data"
    },
    {
     "data": {
      "text/html": [
       "<pre style=\"white-space:pre;overflow-x:auto;line-height:normal;font-family:Menlo,'DejaVu Sans Mono',consolas,'Courier New',monospace\">param<span style=\"font-weight: bold\">[</span><span style=\"color: #008000; text-decoration-color: #008000\">'nsteps'</span><span style=\"font-weight: bold\">]</span>=<span style=\"color: #008080; text-decoration-color: #008080; font-weight: bold\">203</span> param<span style=\"font-weight: bold\">[</span><span style=\"color: #008000; text-decoration-color: #008000\">'aexp'</span><span style=\"font-weight: bold\">]</span>=<span style=\"color: #008080; text-decoration-color: #008080; font-weight: bold\">0.561027484758616</span> z = <span style=\"color: #008080; text-decoration-color: #008080; font-weight: bold\">0.7824438680223544</span>                                         \n",
       "</pre>\n"
      ],
      "text/plain": [
       "param\u001b[1m[\u001b[0m\u001b[32m'nsteps'\u001b[0m\u001b[1m]\u001b[0m=\u001b[1;36m203\u001b[0m param\u001b[1m[\u001b[0m\u001b[32m'aexp'\u001b[0m\u001b[1m]\u001b[0m=\u001b[1;36m0.561027484758616\u001b[0m z = \u001b[1;36m0.7824438680223544\u001b[0m                                         \n"
      ]
     },
     "metadata": {},
     "output_type": "display_data"
    },
    {
     "data": {
      "text/html": [
       "<pre style=\"white-space:pre;overflow-x:auto;line-height:normal;font-family:Menlo,'DejaVu Sans Mono',consolas,'Courier New',monospace\">Write <span style=\"color: #800080; text-decoration-color: #800080; font-weight: bold\">P</span><span style=\"font-weight: bold\">(</span>k<span style=\"font-weight: bold\">)</span> in .<span style=\"color: #800080; text-decoration-color: #800080\">/boxlen100_n128_lcdmw7v2_00000//power/</span><span style=\"color: #ff00ff; text-decoration-color: #ff00ff\">pk_eft_multigrid_ncoarse7_00204.dat</span>                           \n",
       "</pre>\n"
      ],
      "text/plain": [
       "Write \u001b[1;35mP\u001b[0m\u001b[1m(\u001b[0mk\u001b[1m)\u001b[0m in .\u001b[35m/boxlen100_n128_lcdmw7v2_00000/\u001b[0m\u001b[35m/power/\u001b[0m\u001b[95mpk_eft_multigrid_ncoarse7_00204.dat\u001b[0m                           \n"
      ]
     },
     "metadata": {},
     "output_type": "display_data"
    },
    {
     "data": {
      "text/html": [
       "<pre style=\"white-space:pre;overflow-x:auto;line-height:normal;font-family:Menlo,'DejaVu Sans Mono',consolas,'Courier New',monospace\">param<span style=\"font-weight: bold\">[</span><span style=\"color: #008000; text-decoration-color: #008000\">'nsteps'</span><span style=\"font-weight: bold\">]</span>=<span style=\"color: #008080; text-decoration-color: #008080; font-weight: bold\">204</span> param<span style=\"font-weight: bold\">[</span><span style=\"color: #008000; text-decoration-color: #008000\">'aexp'</span><span style=\"font-weight: bold\">]</span>=<span style=\"color: #008080; text-decoration-color: #008080; font-weight: bold\">0.561027484758616</span> z = <span style=\"color: #008080; text-decoration-color: #008080; font-weight: bold\">0.7824438680223544</span>                                         \n",
       "</pre>\n"
      ],
      "text/plain": [
       "param\u001b[1m[\u001b[0m\u001b[32m'nsteps'\u001b[0m\u001b[1m]\u001b[0m=\u001b[1;36m204\u001b[0m param\u001b[1m[\u001b[0m\u001b[32m'aexp'\u001b[0m\u001b[1m]\u001b[0m=\u001b[1;36m0.561027484758616\u001b[0m z = \u001b[1;36m0.7824438680223544\u001b[0m                                         \n"
      ]
     },
     "metadata": {},
     "output_type": "display_data"
    },
    {
     "data": {
      "text/html": [
       "<pre style=\"white-space:pre;overflow-x:auto;line-height:normal;font-family:Menlo,'DejaVu Sans Mono',consolas,'Courier New',monospace\">Write <span style=\"color: #800080; text-decoration-color: #800080; font-weight: bold\">P</span><span style=\"font-weight: bold\">(</span>k<span style=\"font-weight: bold\">)</span> in .<span style=\"color: #800080; text-decoration-color: #800080\">/boxlen100_n128_lcdmw7v2_00000//power/</span><span style=\"color: #ff00ff; text-decoration-color: #ff00ff\">pk_eft_multigrid_ncoarse7_00205.dat</span>                           \n",
       "</pre>\n"
      ],
      "text/plain": [
       "Write \u001b[1;35mP\u001b[0m\u001b[1m(\u001b[0mk\u001b[1m)\u001b[0m in .\u001b[35m/boxlen100_n128_lcdmw7v2_00000/\u001b[0m\u001b[35m/power/\u001b[0m\u001b[95mpk_eft_multigrid_ncoarse7_00205.dat\u001b[0m                           \n"
      ]
     },
     "metadata": {},
     "output_type": "display_data"
    },
    {
     "data": {
      "text/html": [
       "<pre style=\"white-space:pre;overflow-x:auto;line-height:normal;font-family:Menlo,'DejaVu Sans Mono',consolas,'Courier New',monospace\">param<span style=\"font-weight: bold\">[</span><span style=\"color: #008000; text-decoration-color: #008000\">'nsteps'</span><span style=\"font-weight: bold\">]</span>=<span style=\"color: #008080; text-decoration-color: #008080; font-weight: bold\">205</span> param<span style=\"font-weight: bold\">[</span><span style=\"color: #008000; text-decoration-color: #008000\">'aexp'</span><span style=\"font-weight: bold\">]</span>=<span style=\"color: #008080; text-decoration-color: #008080; font-weight: bold\">0.561027484758616</span> z = <span style=\"color: #008080; text-decoration-color: #008080; font-weight: bold\">0.7824438680223544</span>                                         \n",
       "</pre>\n"
      ],
      "text/plain": [
       "param\u001b[1m[\u001b[0m\u001b[32m'nsteps'\u001b[0m\u001b[1m]\u001b[0m=\u001b[1;36m205\u001b[0m param\u001b[1m[\u001b[0m\u001b[32m'aexp'\u001b[0m\u001b[1m]\u001b[0m=\u001b[1;36m0.561027484758616\u001b[0m z = \u001b[1;36m0.7824438680223544\u001b[0m                                         \n"
      ]
     },
     "metadata": {},
     "output_type": "display_data"
    },
    {
     "data": {
      "text/html": [
       "<pre style=\"white-space:pre;overflow-x:auto;line-height:normal;font-family:Menlo,'DejaVu Sans Mono',consolas,'Courier New',monospace\">Write <span style=\"color: #800080; text-decoration-color: #800080; font-weight: bold\">P</span><span style=\"font-weight: bold\">(</span>k<span style=\"font-weight: bold\">)</span> in .<span style=\"color: #800080; text-decoration-color: #800080\">/boxlen100_n128_lcdmw7v2_00000//power/</span><span style=\"color: #ff00ff; text-decoration-color: #ff00ff\">pk_eft_multigrid_ncoarse7_00206.dat</span>                           \n",
       "</pre>\n"
      ],
      "text/plain": [
       "Write \u001b[1;35mP\u001b[0m\u001b[1m(\u001b[0mk\u001b[1m)\u001b[0m in .\u001b[35m/boxlen100_n128_lcdmw7v2_00000/\u001b[0m\u001b[35m/power/\u001b[0m\u001b[95mpk_eft_multigrid_ncoarse7_00206.dat\u001b[0m                           \n"
      ]
     },
     "metadata": {},
     "output_type": "display_data"
    },
    {
     "data": {
      "text/html": [
       "<pre style=\"white-space:pre;overflow-x:auto;line-height:normal;font-family:Menlo,'DejaVu Sans Mono',consolas,'Courier New',monospace\">param<span style=\"font-weight: bold\">[</span><span style=\"color: #008000; text-decoration-color: #008000\">'nsteps'</span><span style=\"font-weight: bold\">]</span>=<span style=\"color: #008080; text-decoration-color: #008080; font-weight: bold\">206</span> param<span style=\"font-weight: bold\">[</span><span style=\"color: #008000; text-decoration-color: #008000\">'aexp'</span><span style=\"font-weight: bold\">]</span>=<span style=\"color: #008080; text-decoration-color: #008080; font-weight: bold\">0.561027484758616</span> z = <span style=\"color: #008080; text-decoration-color: #008080; font-weight: bold\">0.7824438680223544</span>                                         \n",
       "</pre>\n"
      ],
      "text/plain": [
       "param\u001b[1m[\u001b[0m\u001b[32m'nsteps'\u001b[0m\u001b[1m]\u001b[0m=\u001b[1;36m206\u001b[0m param\u001b[1m[\u001b[0m\u001b[32m'aexp'\u001b[0m\u001b[1m]\u001b[0m=\u001b[1;36m0.561027484758616\u001b[0m z = \u001b[1;36m0.7824438680223544\u001b[0m                                         \n"
      ]
     },
     "metadata": {},
     "output_type": "display_data"
    },
    {
     "data": {
      "text/html": [
       "<pre style=\"white-space:pre;overflow-x:auto;line-height:normal;font-family:Menlo,'DejaVu Sans Mono',consolas,'Courier New',monospace\">Write <span style=\"color: #800080; text-decoration-color: #800080; font-weight: bold\">P</span><span style=\"font-weight: bold\">(</span>k<span style=\"font-weight: bold\">)</span> in .<span style=\"color: #800080; text-decoration-color: #800080\">/boxlen100_n128_lcdmw7v2_00000//power/</span><span style=\"color: #ff00ff; text-decoration-color: #ff00ff\">pk_eft_multigrid_ncoarse7_00207.dat</span>                           \n",
       "</pre>\n"
      ],
      "text/plain": [
       "Write \u001b[1;35mP\u001b[0m\u001b[1m(\u001b[0mk\u001b[1m)\u001b[0m in .\u001b[35m/boxlen100_n128_lcdmw7v2_00000/\u001b[0m\u001b[35m/power/\u001b[0m\u001b[95mpk_eft_multigrid_ncoarse7_00207.dat\u001b[0m                           \n"
      ]
     },
     "metadata": {},
     "output_type": "display_data"
    },
    {
     "data": {
      "text/html": [
       "<pre style=\"white-space:pre;overflow-x:auto;line-height:normal;font-family:Menlo,'DejaVu Sans Mono',consolas,'Courier New',monospace\">param<span style=\"font-weight: bold\">[</span><span style=\"color: #008000; text-decoration-color: #008000\">'nsteps'</span><span style=\"font-weight: bold\">]</span>=<span style=\"color: #008080; text-decoration-color: #008080; font-weight: bold\">207</span> param<span style=\"font-weight: bold\">[</span><span style=\"color: #008000; text-decoration-color: #008000\">'aexp'</span><span style=\"font-weight: bold\">]</span>=<span style=\"color: #008080; text-decoration-color: #008080; font-weight: bold\">0.561027484758616</span> z = <span style=\"color: #008080; text-decoration-color: #008080; font-weight: bold\">0.7824438680223544</span>                                         \n",
       "</pre>\n"
      ],
      "text/plain": [
       "param\u001b[1m[\u001b[0m\u001b[32m'nsteps'\u001b[0m\u001b[1m]\u001b[0m=\u001b[1;36m207\u001b[0m param\u001b[1m[\u001b[0m\u001b[32m'aexp'\u001b[0m\u001b[1m]\u001b[0m=\u001b[1;36m0.561027484758616\u001b[0m z = \u001b[1;36m0.7824438680223544\u001b[0m                                         \n"
      ]
     },
     "metadata": {},
     "output_type": "display_data"
    },
    {
     "data": {
      "text/html": [
       "<pre style=\"white-space:pre;overflow-x:auto;line-height:normal;font-family:Menlo,'DejaVu Sans Mono',consolas,'Courier New',monospace\">Write <span style=\"color: #800080; text-decoration-color: #800080; font-weight: bold\">P</span><span style=\"font-weight: bold\">(</span>k<span style=\"font-weight: bold\">)</span> in .<span style=\"color: #800080; text-decoration-color: #800080\">/boxlen100_n128_lcdmw7v2_00000//power/</span><span style=\"color: #ff00ff; text-decoration-color: #ff00ff\">pk_eft_multigrid_ncoarse7_00208.dat</span>                           \n",
       "</pre>\n"
      ],
      "text/plain": [
       "Write \u001b[1;35mP\u001b[0m\u001b[1m(\u001b[0mk\u001b[1m)\u001b[0m in .\u001b[35m/boxlen100_n128_lcdmw7v2_00000/\u001b[0m\u001b[35m/power/\u001b[0m\u001b[95mpk_eft_multigrid_ncoarse7_00208.dat\u001b[0m                           \n"
      ]
     },
     "metadata": {},
     "output_type": "display_data"
    },
    {
     "data": {
      "text/html": [
       "<pre style=\"white-space:pre;overflow-x:auto;line-height:normal;font-family:Menlo,'DejaVu Sans Mono',consolas,'Courier New',monospace\">param<span style=\"font-weight: bold\">[</span><span style=\"color: #008000; text-decoration-color: #008000\">'nsteps'</span><span style=\"font-weight: bold\">]</span>=<span style=\"color: #008080; text-decoration-color: #008080; font-weight: bold\">208</span> param<span style=\"font-weight: bold\">[</span><span style=\"color: #008000; text-decoration-color: #008000\">'aexp'</span><span style=\"font-weight: bold\">]</span>=<span style=\"color: #008080; text-decoration-color: #008080; font-weight: bold\">0.561027484758616</span> z = <span style=\"color: #008080; text-decoration-color: #008080; font-weight: bold\">0.7824438680223544</span>                                         \n",
       "</pre>\n"
      ],
      "text/plain": [
       "param\u001b[1m[\u001b[0m\u001b[32m'nsteps'\u001b[0m\u001b[1m]\u001b[0m=\u001b[1;36m208\u001b[0m param\u001b[1m[\u001b[0m\u001b[32m'aexp'\u001b[0m\u001b[1m]\u001b[0m=\u001b[1;36m0.561027484758616\u001b[0m z = \u001b[1;36m0.7824438680223544\u001b[0m                                         \n"
      ]
     },
     "metadata": {},
     "output_type": "display_data"
    },
    {
     "data": {
      "text/html": [
       "<pre style=\"white-space:pre;overflow-x:auto;line-height:normal;font-family:Menlo,'DejaVu Sans Mono',consolas,'Courier New',monospace\">Write <span style=\"color: #800080; text-decoration-color: #800080; font-weight: bold\">P</span><span style=\"font-weight: bold\">(</span>k<span style=\"font-weight: bold\">)</span> in .<span style=\"color: #800080; text-decoration-color: #800080\">/boxlen100_n128_lcdmw7v2_00000//power/</span><span style=\"color: #ff00ff; text-decoration-color: #ff00ff\">pk_eft_multigrid_ncoarse7_00209.dat</span>                           \n",
       "</pre>\n"
      ],
      "text/plain": [
       "Write \u001b[1;35mP\u001b[0m\u001b[1m(\u001b[0mk\u001b[1m)\u001b[0m in .\u001b[35m/boxlen100_n128_lcdmw7v2_00000/\u001b[0m\u001b[35m/power/\u001b[0m\u001b[95mpk_eft_multigrid_ncoarse7_00209.dat\u001b[0m                           \n"
      ]
     },
     "metadata": {},
     "output_type": "display_data"
    },
    {
     "data": {
      "text/html": [
       "<pre style=\"white-space:pre;overflow-x:auto;line-height:normal;font-family:Menlo,'DejaVu Sans Mono',consolas,'Courier New',monospace\">param<span style=\"font-weight: bold\">[</span><span style=\"color: #008000; text-decoration-color: #008000\">'nsteps'</span><span style=\"font-weight: bold\">]</span>=<span style=\"color: #008080; text-decoration-color: #008080; font-weight: bold\">209</span> param<span style=\"font-weight: bold\">[</span><span style=\"color: #008000; text-decoration-color: #008000\">'aexp'</span><span style=\"font-weight: bold\">]</span>=<span style=\"color: #008080; text-decoration-color: #008080; font-weight: bold\">0.561027484758616</span> z = <span style=\"color: #008080; text-decoration-color: #008080; font-weight: bold\">0.7824438680223544</span>                                         \n",
       "</pre>\n"
      ],
      "text/plain": [
       "param\u001b[1m[\u001b[0m\u001b[32m'nsteps'\u001b[0m\u001b[1m]\u001b[0m=\u001b[1;36m209\u001b[0m param\u001b[1m[\u001b[0m\u001b[32m'aexp'\u001b[0m\u001b[1m]\u001b[0m=\u001b[1;36m0.561027484758616\u001b[0m z = \u001b[1;36m0.7824438680223544\u001b[0m                                         \n"
      ]
     },
     "metadata": {},
     "output_type": "display_data"
    },
    {
     "data": {
      "text/html": [
       "<pre style=\"white-space:pre;overflow-x:auto;line-height:normal;font-family:Menlo,'DejaVu Sans Mono',consolas,'Courier New',monospace\">Write <span style=\"color: #800080; text-decoration-color: #800080; font-weight: bold\">P</span><span style=\"font-weight: bold\">(</span>k<span style=\"font-weight: bold\">)</span> in .<span style=\"color: #800080; text-decoration-color: #800080\">/boxlen100_n128_lcdmw7v2_00000//power/</span><span style=\"color: #ff00ff; text-decoration-color: #ff00ff\">pk_eft_multigrid_ncoarse7_00210.dat</span>                           \n",
       "</pre>\n"
      ],
      "text/plain": [
       "Write \u001b[1;35mP\u001b[0m\u001b[1m(\u001b[0mk\u001b[1m)\u001b[0m in .\u001b[35m/boxlen100_n128_lcdmw7v2_00000/\u001b[0m\u001b[35m/power/\u001b[0m\u001b[95mpk_eft_multigrid_ncoarse7_00210.dat\u001b[0m                           \n"
      ]
     },
     "metadata": {},
     "output_type": "display_data"
    },
    {
     "data": {
      "text/html": [
       "<pre style=\"white-space:pre;overflow-x:auto;line-height:normal;font-family:Menlo,'DejaVu Sans Mono',consolas,'Courier New',monospace\">param<span style=\"font-weight: bold\">[</span><span style=\"color: #008000; text-decoration-color: #008000\">'nsteps'</span><span style=\"font-weight: bold\">]</span>=<span style=\"color: #008080; text-decoration-color: #008080; font-weight: bold\">210</span> param<span style=\"font-weight: bold\">[</span><span style=\"color: #008000; text-decoration-color: #008000\">'aexp'</span><span style=\"font-weight: bold\">]</span>=<span style=\"color: #008080; text-decoration-color: #008080; font-weight: bold\">0.561027484758616</span> z = <span style=\"color: #008080; text-decoration-color: #008080; font-weight: bold\">0.7824438680223544</span>                                         \n",
       "</pre>\n"
      ],
      "text/plain": [
       "param\u001b[1m[\u001b[0m\u001b[32m'nsteps'\u001b[0m\u001b[1m]\u001b[0m=\u001b[1;36m210\u001b[0m param\u001b[1m[\u001b[0m\u001b[32m'aexp'\u001b[0m\u001b[1m]\u001b[0m=\u001b[1;36m0.561027484758616\u001b[0m z = \u001b[1;36m0.7824438680223544\u001b[0m                                         \n"
      ]
     },
     "metadata": {},
     "output_type": "display_data"
    },
    {
     "data": {
      "text/html": [
       "<pre style=\"white-space:pre;overflow-x:auto;line-height:normal;font-family:Menlo,'DejaVu Sans Mono',consolas,'Courier New',monospace\">Write <span style=\"color: #800080; text-decoration-color: #800080; font-weight: bold\">P</span><span style=\"font-weight: bold\">(</span>k<span style=\"font-weight: bold\">)</span> in .<span style=\"color: #800080; text-decoration-color: #800080\">/boxlen100_n128_lcdmw7v2_00000//power/</span><span style=\"color: #ff00ff; text-decoration-color: #ff00ff\">pk_eft_multigrid_ncoarse7_00211.dat</span>                           \n",
       "</pre>\n"
      ],
      "text/plain": [
       "Write \u001b[1;35mP\u001b[0m\u001b[1m(\u001b[0mk\u001b[1m)\u001b[0m in .\u001b[35m/boxlen100_n128_lcdmw7v2_00000/\u001b[0m\u001b[35m/power/\u001b[0m\u001b[95mpk_eft_multigrid_ncoarse7_00211.dat\u001b[0m                           \n"
      ]
     },
     "metadata": {},
     "output_type": "display_data"
    },
    {
     "data": {
      "text/html": [
       "<pre style=\"white-space:pre;overflow-x:auto;line-height:normal;font-family:Menlo,'DejaVu Sans Mono',consolas,'Courier New',monospace\">param<span style=\"font-weight: bold\">[</span><span style=\"color: #008000; text-decoration-color: #008000\">'nsteps'</span><span style=\"font-weight: bold\">]</span>=<span style=\"color: #008080; text-decoration-color: #008080; font-weight: bold\">211</span> param<span style=\"font-weight: bold\">[</span><span style=\"color: #008000; text-decoration-color: #008000\">'aexp'</span><span style=\"font-weight: bold\">]</span>=<span style=\"color: #008080; text-decoration-color: #008080; font-weight: bold\">0.561027484758616</span> z = <span style=\"color: #008080; text-decoration-color: #008080; font-weight: bold\">0.7824438680223544</span>                                         \n",
       "</pre>\n"
      ],
      "text/plain": [
       "param\u001b[1m[\u001b[0m\u001b[32m'nsteps'\u001b[0m\u001b[1m]\u001b[0m=\u001b[1;36m211\u001b[0m param\u001b[1m[\u001b[0m\u001b[32m'aexp'\u001b[0m\u001b[1m]\u001b[0m=\u001b[1;36m0.561027484758616\u001b[0m z = \u001b[1;36m0.7824438680223544\u001b[0m                                         \n"
      ]
     },
     "metadata": {},
     "output_type": "display_data"
    },
    {
     "data": {
      "text/html": [
       "<pre style=\"white-space:pre;overflow-x:auto;line-height:normal;font-family:Menlo,'DejaVu Sans Mono',consolas,'Courier New',monospace\">Write <span style=\"color: #800080; text-decoration-color: #800080; font-weight: bold\">P</span><span style=\"font-weight: bold\">(</span>k<span style=\"font-weight: bold\">)</span> in .<span style=\"color: #800080; text-decoration-color: #800080\">/boxlen100_n128_lcdmw7v2_00000//power/</span><span style=\"color: #ff00ff; text-decoration-color: #ff00ff\">pk_eft_multigrid_ncoarse7_00212.dat</span>                           \n",
       "</pre>\n"
      ],
      "text/plain": [
       "Write \u001b[1;35mP\u001b[0m\u001b[1m(\u001b[0mk\u001b[1m)\u001b[0m in .\u001b[35m/boxlen100_n128_lcdmw7v2_00000/\u001b[0m\u001b[35m/power/\u001b[0m\u001b[95mpk_eft_multigrid_ncoarse7_00212.dat\u001b[0m                           \n"
      ]
     },
     "metadata": {},
     "output_type": "display_data"
    },
    {
     "data": {
      "text/html": [
       "<pre style=\"white-space:pre;overflow-x:auto;line-height:normal;font-family:Menlo,'DejaVu Sans Mono',consolas,'Courier New',monospace\">param<span style=\"font-weight: bold\">[</span><span style=\"color: #008000; text-decoration-color: #008000\">'nsteps'</span><span style=\"font-weight: bold\">]</span>=<span style=\"color: #008080; text-decoration-color: #008080; font-weight: bold\">212</span> param<span style=\"font-weight: bold\">[</span><span style=\"color: #008000; text-decoration-color: #008000\">'aexp'</span><span style=\"font-weight: bold\">]</span>=<span style=\"color: #008080; text-decoration-color: #008080; font-weight: bold\">0.561027484758616</span> z = <span style=\"color: #008080; text-decoration-color: #008080; font-weight: bold\">0.7824438680223544</span>                                         \n",
       "</pre>\n"
      ],
      "text/plain": [
       "param\u001b[1m[\u001b[0m\u001b[32m'nsteps'\u001b[0m\u001b[1m]\u001b[0m=\u001b[1;36m212\u001b[0m param\u001b[1m[\u001b[0m\u001b[32m'aexp'\u001b[0m\u001b[1m]\u001b[0m=\u001b[1;36m0.561027484758616\u001b[0m z = \u001b[1;36m0.7824438680223544\u001b[0m                                         \n"
      ]
     },
     "metadata": {},
     "output_type": "display_data"
    },
    {
     "data": {
      "text/html": [
       "<pre style=\"white-space:pre;overflow-x:auto;line-height:normal;font-family:Menlo,'DejaVu Sans Mono',consolas,'Courier New',monospace\">Write <span style=\"color: #800080; text-decoration-color: #800080; font-weight: bold\">P</span><span style=\"font-weight: bold\">(</span>k<span style=\"font-weight: bold\">)</span> in .<span style=\"color: #800080; text-decoration-color: #800080\">/boxlen100_n128_lcdmw7v2_00000//power/</span><span style=\"color: #ff00ff; text-decoration-color: #ff00ff\">pk_eft_multigrid_ncoarse7_00213.dat</span>                           \n",
       "</pre>\n"
      ],
      "text/plain": [
       "Write \u001b[1;35mP\u001b[0m\u001b[1m(\u001b[0mk\u001b[1m)\u001b[0m in .\u001b[35m/boxlen100_n128_lcdmw7v2_00000/\u001b[0m\u001b[35m/power/\u001b[0m\u001b[95mpk_eft_multigrid_ncoarse7_00213.dat\u001b[0m                           \n"
      ]
     },
     "metadata": {},
     "output_type": "display_data"
    },
    {
     "data": {
      "text/html": [
       "<pre style=\"white-space:pre;overflow-x:auto;line-height:normal;font-family:Menlo,'DejaVu Sans Mono',consolas,'Courier New',monospace\">param<span style=\"font-weight: bold\">[</span><span style=\"color: #008000; text-decoration-color: #008000\">'nsteps'</span><span style=\"font-weight: bold\">]</span>=<span style=\"color: #008080; text-decoration-color: #008080; font-weight: bold\">213</span> param<span style=\"font-weight: bold\">[</span><span style=\"color: #008000; text-decoration-color: #008000\">'aexp'</span><span style=\"font-weight: bold\">]</span>=<span style=\"color: #008080; text-decoration-color: #008080; font-weight: bold\">0.561027484758616</span> z = <span style=\"color: #008080; text-decoration-color: #008080; font-weight: bold\">0.7824438680223544</span>                                         \n",
       "</pre>\n"
      ],
      "text/plain": [
       "param\u001b[1m[\u001b[0m\u001b[32m'nsteps'\u001b[0m\u001b[1m]\u001b[0m=\u001b[1;36m213\u001b[0m param\u001b[1m[\u001b[0m\u001b[32m'aexp'\u001b[0m\u001b[1m]\u001b[0m=\u001b[1;36m0.561027484758616\u001b[0m z = \u001b[1;36m0.7824438680223544\u001b[0m                                         \n"
      ]
     },
     "metadata": {},
     "output_type": "display_data"
    },
    {
     "data": {
      "text/html": [
       "<pre style=\"white-space:pre;overflow-x:auto;line-height:normal;font-family:Menlo,'DejaVu Sans Mono',consolas,'Courier New',monospace\">Write <span style=\"color: #800080; text-decoration-color: #800080; font-weight: bold\">P</span><span style=\"font-weight: bold\">(</span>k<span style=\"font-weight: bold\">)</span> in .<span style=\"color: #800080; text-decoration-color: #800080\">/boxlen100_n128_lcdmw7v2_00000//power/</span><span style=\"color: #ff00ff; text-decoration-color: #ff00ff\">pk_eft_multigrid_ncoarse7_00214.dat</span>                           \n",
       "</pre>\n"
      ],
      "text/plain": [
       "Write \u001b[1;35mP\u001b[0m\u001b[1m(\u001b[0mk\u001b[1m)\u001b[0m in .\u001b[35m/boxlen100_n128_lcdmw7v2_00000/\u001b[0m\u001b[35m/power/\u001b[0m\u001b[95mpk_eft_multigrid_ncoarse7_00214.dat\u001b[0m                           \n"
      ]
     },
     "metadata": {},
     "output_type": "display_data"
    },
    {
     "data": {
      "text/html": [
       "<pre style=\"white-space:pre;overflow-x:auto;line-height:normal;font-family:Menlo,'DejaVu Sans Mono',consolas,'Courier New',monospace\">param<span style=\"font-weight: bold\">[</span><span style=\"color: #008000; text-decoration-color: #008000\">'nsteps'</span><span style=\"font-weight: bold\">]</span>=<span style=\"color: #008080; text-decoration-color: #008080; font-weight: bold\">214</span> param<span style=\"font-weight: bold\">[</span><span style=\"color: #008000; text-decoration-color: #008000\">'aexp'</span><span style=\"font-weight: bold\">]</span>=<span style=\"color: #008080; text-decoration-color: #008080; font-weight: bold\">0.561027484758616</span> z = <span style=\"color: #008080; text-decoration-color: #008080; font-weight: bold\">0.7824438680223544</span>                                         \n",
       "</pre>\n"
      ],
      "text/plain": [
       "param\u001b[1m[\u001b[0m\u001b[32m'nsteps'\u001b[0m\u001b[1m]\u001b[0m=\u001b[1;36m214\u001b[0m param\u001b[1m[\u001b[0m\u001b[32m'aexp'\u001b[0m\u001b[1m]\u001b[0m=\u001b[1;36m0.561027484758616\u001b[0m z = \u001b[1;36m0.7824438680223544\u001b[0m                                         \n"
      ]
     },
     "metadata": {},
     "output_type": "display_data"
    },
    {
     "data": {
      "text/html": [
       "<pre style=\"white-space:pre;overflow-x:auto;line-height:normal;font-family:Menlo,'DejaVu Sans Mono',consolas,'Courier New',monospace\">Write <span style=\"color: #800080; text-decoration-color: #800080; font-weight: bold\">P</span><span style=\"font-weight: bold\">(</span>k<span style=\"font-weight: bold\">)</span> in .<span style=\"color: #800080; text-decoration-color: #800080\">/boxlen100_n128_lcdmw7v2_00000//power/</span><span style=\"color: #ff00ff; text-decoration-color: #ff00ff\">pk_eft_multigrid_ncoarse7_00215.dat</span>                           \n",
       "</pre>\n"
      ],
      "text/plain": [
       "Write \u001b[1;35mP\u001b[0m\u001b[1m(\u001b[0mk\u001b[1m)\u001b[0m in .\u001b[35m/boxlen100_n128_lcdmw7v2_00000/\u001b[0m\u001b[35m/power/\u001b[0m\u001b[95mpk_eft_multigrid_ncoarse7_00215.dat\u001b[0m                           \n"
      ]
     },
     "metadata": {},
     "output_type": "display_data"
    },
    {
     "data": {
      "text/html": [
       "<pre style=\"white-space:pre;overflow-x:auto;line-height:normal;font-family:Menlo,'DejaVu Sans Mono',consolas,'Courier New',monospace\">param<span style=\"font-weight: bold\">[</span><span style=\"color: #008000; text-decoration-color: #008000\">'nsteps'</span><span style=\"font-weight: bold\">]</span>=<span style=\"color: #008080; text-decoration-color: #008080; font-weight: bold\">215</span> param<span style=\"font-weight: bold\">[</span><span style=\"color: #008000; text-decoration-color: #008000\">'aexp'</span><span style=\"font-weight: bold\">]</span>=<span style=\"color: #008080; text-decoration-color: #008080; font-weight: bold\">0.561027484758616</span> z = <span style=\"color: #008080; text-decoration-color: #008080; font-weight: bold\">0.7824438680223544</span>                                         \n",
       "</pre>\n"
      ],
      "text/plain": [
       "param\u001b[1m[\u001b[0m\u001b[32m'nsteps'\u001b[0m\u001b[1m]\u001b[0m=\u001b[1;36m215\u001b[0m param\u001b[1m[\u001b[0m\u001b[32m'aexp'\u001b[0m\u001b[1m]\u001b[0m=\u001b[1;36m0.561027484758616\u001b[0m z = \u001b[1;36m0.7824438680223544\u001b[0m                                         \n"
      ]
     },
     "metadata": {},
     "output_type": "display_data"
    },
    {
     "data": {
      "text/html": [
       "<pre style=\"white-space:pre;overflow-x:auto;line-height:normal;font-family:Menlo,'DejaVu Sans Mono',consolas,'Courier New',monospace\">Write <span style=\"color: #800080; text-decoration-color: #800080; font-weight: bold\">P</span><span style=\"font-weight: bold\">(</span>k<span style=\"font-weight: bold\">)</span> in .<span style=\"color: #800080; text-decoration-color: #800080\">/boxlen100_n128_lcdmw7v2_00000//power/</span><span style=\"color: #ff00ff; text-decoration-color: #ff00ff\">pk_eft_multigrid_ncoarse7_00216.dat</span>                           \n",
       "</pre>\n"
      ],
      "text/plain": [
       "Write \u001b[1;35mP\u001b[0m\u001b[1m(\u001b[0mk\u001b[1m)\u001b[0m in .\u001b[35m/boxlen100_n128_lcdmw7v2_00000/\u001b[0m\u001b[35m/power/\u001b[0m\u001b[95mpk_eft_multigrid_ncoarse7_00216.dat\u001b[0m                           \n"
      ]
     },
     "metadata": {},
     "output_type": "display_data"
    },
    {
     "data": {
      "text/html": [
       "<pre style=\"white-space:pre;overflow-x:auto;line-height:normal;font-family:Menlo,'DejaVu Sans Mono',consolas,'Courier New',monospace\">param<span style=\"font-weight: bold\">[</span><span style=\"color: #008000; text-decoration-color: #008000\">'nsteps'</span><span style=\"font-weight: bold\">]</span>=<span style=\"color: #008080; text-decoration-color: #008080; font-weight: bold\">216</span> param<span style=\"font-weight: bold\">[</span><span style=\"color: #008000; text-decoration-color: #008000\">'aexp'</span><span style=\"font-weight: bold\">]</span>=<span style=\"color: #008080; text-decoration-color: #008080; font-weight: bold\">0.561027484758616</span> z = <span style=\"color: #008080; text-decoration-color: #008080; font-weight: bold\">0.7824438680223544</span>                                         \n",
       "</pre>\n"
      ],
      "text/plain": [
       "param\u001b[1m[\u001b[0m\u001b[32m'nsteps'\u001b[0m\u001b[1m]\u001b[0m=\u001b[1;36m216\u001b[0m param\u001b[1m[\u001b[0m\u001b[32m'aexp'\u001b[0m\u001b[1m]\u001b[0m=\u001b[1;36m0.561027484758616\u001b[0m z = \u001b[1;36m0.7824438680223544\u001b[0m                                         \n"
      ]
     },
     "metadata": {},
     "output_type": "display_data"
    },
    {
     "data": {
      "text/html": [
       "<pre style=\"white-space:pre;overflow-x:auto;line-height:normal;font-family:Menlo,'DejaVu Sans Mono',consolas,'Courier New',monospace\">Write <span style=\"color: #800080; text-decoration-color: #800080; font-weight: bold\">P</span><span style=\"font-weight: bold\">(</span>k<span style=\"font-weight: bold\">)</span> in .<span style=\"color: #800080; text-decoration-color: #800080\">/boxlen100_n128_lcdmw7v2_00000//power/</span><span style=\"color: #ff00ff; text-decoration-color: #ff00ff\">pk_eft_multigrid_ncoarse7_00217.dat</span>                           \n",
       "</pre>\n"
      ],
      "text/plain": [
       "Write \u001b[1;35mP\u001b[0m\u001b[1m(\u001b[0mk\u001b[1m)\u001b[0m in .\u001b[35m/boxlen100_n128_lcdmw7v2_00000/\u001b[0m\u001b[35m/power/\u001b[0m\u001b[95mpk_eft_multigrid_ncoarse7_00217.dat\u001b[0m                           \n"
      ]
     },
     "metadata": {},
     "output_type": "display_data"
    },
    {
     "data": {
      "text/html": [
       "<pre style=\"white-space:pre;overflow-x:auto;line-height:normal;font-family:Menlo,'DejaVu Sans Mono',consolas,'Courier New',monospace\">param<span style=\"font-weight: bold\">[</span><span style=\"color: #008000; text-decoration-color: #008000\">'nsteps'</span><span style=\"font-weight: bold\">]</span>=<span style=\"color: #008080; text-decoration-color: #008080; font-weight: bold\">217</span> param<span style=\"font-weight: bold\">[</span><span style=\"color: #008000; text-decoration-color: #008000\">'aexp'</span><span style=\"font-weight: bold\">]</span>=<span style=\"color: #008080; text-decoration-color: #008080; font-weight: bold\">0.561027484758616</span> z = <span style=\"color: #008080; text-decoration-color: #008080; font-weight: bold\">0.7824438680223544</span>                                         \n",
       "</pre>\n"
      ],
      "text/plain": [
       "param\u001b[1m[\u001b[0m\u001b[32m'nsteps'\u001b[0m\u001b[1m]\u001b[0m=\u001b[1;36m217\u001b[0m param\u001b[1m[\u001b[0m\u001b[32m'aexp'\u001b[0m\u001b[1m]\u001b[0m=\u001b[1;36m0.561027484758616\u001b[0m z = \u001b[1;36m0.7824438680223544\u001b[0m                                         \n"
      ]
     },
     "metadata": {},
     "output_type": "display_data"
    },
    {
     "data": {
      "text/html": [
       "<pre style=\"white-space:pre;overflow-x:auto;line-height:normal;font-family:Menlo,'DejaVu Sans Mono',consolas,'Courier New',monospace\">Write <span style=\"color: #800080; text-decoration-color: #800080; font-weight: bold\">P</span><span style=\"font-weight: bold\">(</span>k<span style=\"font-weight: bold\">)</span> in .<span style=\"color: #800080; text-decoration-color: #800080\">/boxlen100_n128_lcdmw7v2_00000//power/</span><span style=\"color: #ff00ff; text-decoration-color: #ff00ff\">pk_eft_multigrid_ncoarse7_00218.dat</span>                           \n",
       "</pre>\n"
      ],
      "text/plain": [
       "Write \u001b[1;35mP\u001b[0m\u001b[1m(\u001b[0mk\u001b[1m)\u001b[0m in .\u001b[35m/boxlen100_n128_lcdmw7v2_00000/\u001b[0m\u001b[35m/power/\u001b[0m\u001b[95mpk_eft_multigrid_ncoarse7_00218.dat\u001b[0m                           \n"
      ]
     },
     "metadata": {},
     "output_type": "display_data"
    },
    {
     "data": {
      "text/html": [
       "<pre style=\"white-space:pre;overflow-x:auto;line-height:normal;font-family:Menlo,'DejaVu Sans Mono',consolas,'Courier New',monospace\">param<span style=\"font-weight: bold\">[</span><span style=\"color: #008000; text-decoration-color: #008000\">'nsteps'</span><span style=\"font-weight: bold\">]</span>=<span style=\"color: #008080; text-decoration-color: #008080; font-weight: bold\">218</span> param<span style=\"font-weight: bold\">[</span><span style=\"color: #008000; text-decoration-color: #008000\">'aexp'</span><span style=\"font-weight: bold\">]</span>=<span style=\"color: #008080; text-decoration-color: #008080; font-weight: bold\">0.561027484758616</span> z = <span style=\"color: #008080; text-decoration-color: #008080; font-weight: bold\">0.7824438680223544</span>                                         \n",
       "</pre>\n"
      ],
      "text/plain": [
       "param\u001b[1m[\u001b[0m\u001b[32m'nsteps'\u001b[0m\u001b[1m]\u001b[0m=\u001b[1;36m218\u001b[0m param\u001b[1m[\u001b[0m\u001b[32m'aexp'\u001b[0m\u001b[1m]\u001b[0m=\u001b[1;36m0.561027484758616\u001b[0m z = \u001b[1;36m0.7824438680223544\u001b[0m                                         \n"
      ]
     },
     "metadata": {},
     "output_type": "display_data"
    },
    {
     "data": {
      "text/html": [
       "<pre style=\"white-space:pre;overflow-x:auto;line-height:normal;font-family:Menlo,'DejaVu Sans Mono',consolas,'Courier New',monospace\">Write <span style=\"color: #800080; text-decoration-color: #800080; font-weight: bold\">P</span><span style=\"font-weight: bold\">(</span>k<span style=\"font-weight: bold\">)</span> in .<span style=\"color: #800080; text-decoration-color: #800080\">/boxlen100_n128_lcdmw7v2_00000//power/</span><span style=\"color: #ff00ff; text-decoration-color: #ff00ff\">pk_eft_multigrid_ncoarse7_00219.dat</span>                           \n",
       "</pre>\n"
      ],
      "text/plain": [
       "Write \u001b[1;35mP\u001b[0m\u001b[1m(\u001b[0mk\u001b[1m)\u001b[0m in .\u001b[35m/boxlen100_n128_lcdmw7v2_00000/\u001b[0m\u001b[35m/power/\u001b[0m\u001b[95mpk_eft_multigrid_ncoarse7_00219.dat\u001b[0m                           \n"
      ]
     },
     "metadata": {},
     "output_type": "display_data"
    },
    {
     "data": {
      "text/html": [
       "<pre style=\"white-space:pre;overflow-x:auto;line-height:normal;font-family:Menlo,'DejaVu Sans Mono',consolas,'Courier New',monospace\">param<span style=\"font-weight: bold\">[</span><span style=\"color: #008000; text-decoration-color: #008000\">'nsteps'</span><span style=\"font-weight: bold\">]</span>=<span style=\"color: #008080; text-decoration-color: #008080; font-weight: bold\">219</span> param<span style=\"font-weight: bold\">[</span><span style=\"color: #008000; text-decoration-color: #008000\">'aexp'</span><span style=\"font-weight: bold\">]</span>=<span style=\"color: #008080; text-decoration-color: #008080; font-weight: bold\">0.561027484758616</span> z = <span style=\"color: #008080; text-decoration-color: #008080; font-weight: bold\">0.7824438680223544</span>                                         \n",
       "</pre>\n"
      ],
      "text/plain": [
       "param\u001b[1m[\u001b[0m\u001b[32m'nsteps'\u001b[0m\u001b[1m]\u001b[0m=\u001b[1;36m219\u001b[0m param\u001b[1m[\u001b[0m\u001b[32m'aexp'\u001b[0m\u001b[1m]\u001b[0m=\u001b[1;36m0.561027484758616\u001b[0m z = \u001b[1;36m0.7824438680223544\u001b[0m                                         \n"
      ]
     },
     "metadata": {},
     "output_type": "display_data"
    },
    {
     "data": {
      "text/html": [
       "<pre style=\"white-space:pre;overflow-x:auto;line-height:normal;font-family:Menlo,'DejaVu Sans Mono',consolas,'Courier New',monospace\">Write <span style=\"color: #800080; text-decoration-color: #800080; font-weight: bold\">P</span><span style=\"font-weight: bold\">(</span>k<span style=\"font-weight: bold\">)</span> in .<span style=\"color: #800080; text-decoration-color: #800080\">/boxlen100_n128_lcdmw7v2_00000//power/</span><span style=\"color: #ff00ff; text-decoration-color: #ff00ff\">pk_eft_multigrid_ncoarse7_00220.dat</span>                           \n",
       "</pre>\n"
      ],
      "text/plain": [
       "Write \u001b[1;35mP\u001b[0m\u001b[1m(\u001b[0mk\u001b[1m)\u001b[0m in .\u001b[35m/boxlen100_n128_lcdmw7v2_00000/\u001b[0m\u001b[35m/power/\u001b[0m\u001b[95mpk_eft_multigrid_ncoarse7_00220.dat\u001b[0m                           \n"
      ]
     },
     "metadata": {},
     "output_type": "display_data"
    },
    {
     "data": {
      "text/html": [
       "<pre style=\"white-space:pre;overflow-x:auto;line-height:normal;font-family:Menlo,'DejaVu Sans Mono',consolas,'Courier New',monospace\">param<span style=\"font-weight: bold\">[</span><span style=\"color: #008000; text-decoration-color: #008000\">'nsteps'</span><span style=\"font-weight: bold\">]</span>=<span style=\"color: #008080; text-decoration-color: #008080; font-weight: bold\">220</span> param<span style=\"font-weight: bold\">[</span><span style=\"color: #008000; text-decoration-color: #008000\">'aexp'</span><span style=\"font-weight: bold\">]</span>=<span style=\"color: #008080; text-decoration-color: #008080; font-weight: bold\">0.561027484758616</span> z = <span style=\"color: #008080; text-decoration-color: #008080; font-weight: bold\">0.7824438680223544</span>                                         \n",
       "</pre>\n"
      ],
      "text/plain": [
       "param\u001b[1m[\u001b[0m\u001b[32m'nsteps'\u001b[0m\u001b[1m]\u001b[0m=\u001b[1;36m220\u001b[0m param\u001b[1m[\u001b[0m\u001b[32m'aexp'\u001b[0m\u001b[1m]\u001b[0m=\u001b[1;36m0.561027484758616\u001b[0m z = \u001b[1;36m0.7824438680223544\u001b[0m                                         \n"
      ]
     },
     "metadata": {},
     "output_type": "display_data"
    },
    {
     "data": {
      "text/html": [
       "<pre style=\"white-space:pre;overflow-x:auto;line-height:normal;font-family:Menlo,'DejaVu Sans Mono',consolas,'Courier New',monospace\">Write <span style=\"color: #800080; text-decoration-color: #800080; font-weight: bold\">P</span><span style=\"font-weight: bold\">(</span>k<span style=\"font-weight: bold\">)</span> in .<span style=\"color: #800080; text-decoration-color: #800080\">/boxlen100_n128_lcdmw7v2_00000//power/</span><span style=\"color: #ff00ff; text-decoration-color: #ff00ff\">pk_eft_multigrid_ncoarse7_00221.dat</span>                           \n",
       "</pre>\n"
      ],
      "text/plain": [
       "Write \u001b[1;35mP\u001b[0m\u001b[1m(\u001b[0mk\u001b[1m)\u001b[0m in .\u001b[35m/boxlen100_n128_lcdmw7v2_00000/\u001b[0m\u001b[35m/power/\u001b[0m\u001b[95mpk_eft_multigrid_ncoarse7_00221.dat\u001b[0m                           \n"
      ]
     },
     "metadata": {},
     "output_type": "display_data"
    },
    {
     "data": {
      "text/html": [
       "<pre style=\"white-space:pre;overflow-x:auto;line-height:normal;font-family:Menlo,'DejaVu Sans Mono',consolas,'Courier New',monospace\">param<span style=\"font-weight: bold\">[</span><span style=\"color: #008000; text-decoration-color: #008000\">'nsteps'</span><span style=\"font-weight: bold\">]</span>=<span style=\"color: #008080; text-decoration-color: #008080; font-weight: bold\">221</span> param<span style=\"font-weight: bold\">[</span><span style=\"color: #008000; text-decoration-color: #008000\">'aexp'</span><span style=\"font-weight: bold\">]</span>=<span style=\"color: #008080; text-decoration-color: #008080; font-weight: bold\">0.561027484758616</span> z = <span style=\"color: #008080; text-decoration-color: #008080; font-weight: bold\">0.7824438680223544</span>                                         \n",
       "</pre>\n"
      ],
      "text/plain": [
       "param\u001b[1m[\u001b[0m\u001b[32m'nsteps'\u001b[0m\u001b[1m]\u001b[0m=\u001b[1;36m221\u001b[0m param\u001b[1m[\u001b[0m\u001b[32m'aexp'\u001b[0m\u001b[1m]\u001b[0m=\u001b[1;36m0.561027484758616\u001b[0m z = \u001b[1;36m0.7824438680223544\u001b[0m                                         \n"
      ]
     },
     "metadata": {},
     "output_type": "display_data"
    },
    {
     "data": {
      "text/html": [
       "<pre style=\"white-space:pre;overflow-x:auto;line-height:normal;font-family:Menlo,'DejaVu Sans Mono',consolas,'Courier New',monospace\">Write <span style=\"color: #800080; text-decoration-color: #800080; font-weight: bold\">P</span><span style=\"font-weight: bold\">(</span>k<span style=\"font-weight: bold\">)</span> in .<span style=\"color: #800080; text-decoration-color: #800080\">/boxlen100_n128_lcdmw7v2_00000//power/</span><span style=\"color: #ff00ff; text-decoration-color: #ff00ff\">pk_eft_multigrid_ncoarse7_00222.dat</span>                           \n",
       "</pre>\n"
      ],
      "text/plain": [
       "Write \u001b[1;35mP\u001b[0m\u001b[1m(\u001b[0mk\u001b[1m)\u001b[0m in .\u001b[35m/boxlen100_n128_lcdmw7v2_00000/\u001b[0m\u001b[35m/power/\u001b[0m\u001b[95mpk_eft_multigrid_ncoarse7_00222.dat\u001b[0m                           \n"
      ]
     },
     "metadata": {},
     "output_type": "display_data"
    },
    {
     "data": {
      "text/html": [
       "<pre style=\"white-space:pre;overflow-x:auto;line-height:normal;font-family:Menlo,'DejaVu Sans Mono',consolas,'Courier New',monospace\">param<span style=\"font-weight: bold\">[</span><span style=\"color: #008000; text-decoration-color: #008000\">'nsteps'</span><span style=\"font-weight: bold\">]</span>=<span style=\"color: #008080; text-decoration-color: #008080; font-weight: bold\">222</span> param<span style=\"font-weight: bold\">[</span><span style=\"color: #008000; text-decoration-color: #008000\">'aexp'</span><span style=\"font-weight: bold\">]</span>=<span style=\"color: #008080; text-decoration-color: #008080; font-weight: bold\">0.561027484758616</span> z = <span style=\"color: #008080; text-decoration-color: #008080; font-weight: bold\">0.7824438680223544</span>                                         \n",
       "</pre>\n"
      ],
      "text/plain": [
       "param\u001b[1m[\u001b[0m\u001b[32m'nsteps'\u001b[0m\u001b[1m]\u001b[0m=\u001b[1;36m222\u001b[0m param\u001b[1m[\u001b[0m\u001b[32m'aexp'\u001b[0m\u001b[1m]\u001b[0m=\u001b[1;36m0.561027484758616\u001b[0m z = \u001b[1;36m0.7824438680223544\u001b[0m                                         \n"
      ]
     },
     "metadata": {},
     "output_type": "display_data"
    },
    {
     "data": {
      "text/html": [
       "<pre style=\"white-space:pre;overflow-x:auto;line-height:normal;font-family:Menlo,'DejaVu Sans Mono',consolas,'Courier New',monospace\">Write <span style=\"color: #800080; text-decoration-color: #800080; font-weight: bold\">P</span><span style=\"font-weight: bold\">(</span>k<span style=\"font-weight: bold\">)</span> in .<span style=\"color: #800080; text-decoration-color: #800080\">/boxlen100_n128_lcdmw7v2_00000//power/</span><span style=\"color: #ff00ff; text-decoration-color: #ff00ff\">pk_eft_multigrid_ncoarse7_00223.dat</span>                           \n",
       "</pre>\n"
      ],
      "text/plain": [
       "Write \u001b[1;35mP\u001b[0m\u001b[1m(\u001b[0mk\u001b[1m)\u001b[0m in .\u001b[35m/boxlen100_n128_lcdmw7v2_00000/\u001b[0m\u001b[35m/power/\u001b[0m\u001b[95mpk_eft_multigrid_ncoarse7_00223.dat\u001b[0m                           \n"
      ]
     },
     "metadata": {},
     "output_type": "display_data"
    },
    {
     "data": {
      "text/html": [
       "<pre style=\"white-space:pre;overflow-x:auto;line-height:normal;font-family:Menlo,'DejaVu Sans Mono',consolas,'Courier New',monospace\">param<span style=\"font-weight: bold\">[</span><span style=\"color: #008000; text-decoration-color: #008000\">'nsteps'</span><span style=\"font-weight: bold\">]</span>=<span style=\"color: #008080; text-decoration-color: #008080; font-weight: bold\">223</span> param<span style=\"font-weight: bold\">[</span><span style=\"color: #008000; text-decoration-color: #008000\">'aexp'</span><span style=\"font-weight: bold\">]</span>=<span style=\"color: #008080; text-decoration-color: #008080; font-weight: bold\">0.561027484758616</span> z = <span style=\"color: #008080; text-decoration-color: #008080; font-weight: bold\">0.7824438680223544</span>                                         \n",
       "</pre>\n"
      ],
      "text/plain": [
       "param\u001b[1m[\u001b[0m\u001b[32m'nsteps'\u001b[0m\u001b[1m]\u001b[0m=\u001b[1;36m223\u001b[0m param\u001b[1m[\u001b[0m\u001b[32m'aexp'\u001b[0m\u001b[1m]\u001b[0m=\u001b[1;36m0.561027484758616\u001b[0m z = \u001b[1;36m0.7824438680223544\u001b[0m                                         \n"
      ]
     },
     "metadata": {},
     "output_type": "display_data"
    },
    {
     "data": {
      "text/html": [
       "<pre style=\"white-space:pre;overflow-x:auto;line-height:normal;font-family:Menlo,'DejaVu Sans Mono',consolas,'Courier New',monospace\">Write <span style=\"color: #800080; text-decoration-color: #800080; font-weight: bold\">P</span><span style=\"font-weight: bold\">(</span>k<span style=\"font-weight: bold\">)</span> in .<span style=\"color: #800080; text-decoration-color: #800080\">/boxlen100_n128_lcdmw7v2_00000//power/</span><span style=\"color: #ff00ff; text-decoration-color: #ff00ff\">pk_eft_multigrid_ncoarse7_00224.dat</span>                           \n",
       "</pre>\n"
      ],
      "text/plain": [
       "Write \u001b[1;35mP\u001b[0m\u001b[1m(\u001b[0mk\u001b[1m)\u001b[0m in .\u001b[35m/boxlen100_n128_lcdmw7v2_00000/\u001b[0m\u001b[35m/power/\u001b[0m\u001b[95mpk_eft_multigrid_ncoarse7_00224.dat\u001b[0m                           \n"
      ]
     },
     "metadata": {},
     "output_type": "display_data"
    },
    {
     "data": {
      "text/html": [
       "<pre style=\"white-space:pre;overflow-x:auto;line-height:normal;font-family:Menlo,'DejaVu Sans Mono',consolas,'Courier New',monospace\">param<span style=\"font-weight: bold\">[</span><span style=\"color: #008000; text-decoration-color: #008000\">'nsteps'</span><span style=\"font-weight: bold\">]</span>=<span style=\"color: #008080; text-decoration-color: #008080; font-weight: bold\">224</span> param<span style=\"font-weight: bold\">[</span><span style=\"color: #008000; text-decoration-color: #008000\">'aexp'</span><span style=\"font-weight: bold\">]</span>=<span style=\"color: #008080; text-decoration-color: #008080; font-weight: bold\">0.561027484758616</span> z = <span style=\"color: #008080; text-decoration-color: #008080; font-weight: bold\">0.7824438680223544</span>                                         \n",
       "</pre>\n"
      ],
      "text/plain": [
       "param\u001b[1m[\u001b[0m\u001b[32m'nsteps'\u001b[0m\u001b[1m]\u001b[0m=\u001b[1;36m224\u001b[0m param\u001b[1m[\u001b[0m\u001b[32m'aexp'\u001b[0m\u001b[1m]\u001b[0m=\u001b[1;36m0.561027484758616\u001b[0m z = \u001b[1;36m0.7824438680223544\u001b[0m                                         \n"
      ]
     },
     "metadata": {},
     "output_type": "display_data"
    },
    {
     "data": {
      "text/html": [
       "<pre style=\"white-space:pre;overflow-x:auto;line-height:normal;font-family:Menlo,'DejaVu Sans Mono',consolas,'Courier New',monospace\">Write <span style=\"color: #800080; text-decoration-color: #800080; font-weight: bold\">P</span><span style=\"font-weight: bold\">(</span>k<span style=\"font-weight: bold\">)</span> in .<span style=\"color: #800080; text-decoration-color: #800080\">/boxlen100_n128_lcdmw7v2_00000//power/</span><span style=\"color: #ff00ff; text-decoration-color: #ff00ff\">pk_eft_multigrid_ncoarse7_00225.dat</span>                           \n",
       "</pre>\n"
      ],
      "text/plain": [
       "Write \u001b[1;35mP\u001b[0m\u001b[1m(\u001b[0mk\u001b[1m)\u001b[0m in .\u001b[35m/boxlen100_n128_lcdmw7v2_00000/\u001b[0m\u001b[35m/power/\u001b[0m\u001b[95mpk_eft_multigrid_ncoarse7_00225.dat\u001b[0m                           \n"
      ]
     },
     "metadata": {},
     "output_type": "display_data"
    },
    {
     "data": {
      "text/html": [
       "<pre style=\"white-space:pre;overflow-x:auto;line-height:normal;font-family:Menlo,'DejaVu Sans Mono',consolas,'Courier New',monospace\">param<span style=\"font-weight: bold\">[</span><span style=\"color: #008000; text-decoration-color: #008000\">'nsteps'</span><span style=\"font-weight: bold\">]</span>=<span style=\"color: #008080; text-decoration-color: #008080; font-weight: bold\">225</span> param<span style=\"font-weight: bold\">[</span><span style=\"color: #008000; text-decoration-color: #008000\">'aexp'</span><span style=\"font-weight: bold\">]</span>=<span style=\"color: #008080; text-decoration-color: #008080; font-weight: bold\">0.561027484758616</span> z = <span style=\"color: #008080; text-decoration-color: #008080; font-weight: bold\">0.7824438680223544</span>                                         \n",
       "</pre>\n"
      ],
      "text/plain": [
       "param\u001b[1m[\u001b[0m\u001b[32m'nsteps'\u001b[0m\u001b[1m]\u001b[0m=\u001b[1;36m225\u001b[0m param\u001b[1m[\u001b[0m\u001b[32m'aexp'\u001b[0m\u001b[1m]\u001b[0m=\u001b[1;36m0.561027484758616\u001b[0m z = \u001b[1;36m0.7824438680223544\u001b[0m                                         \n"
      ]
     },
     "metadata": {},
     "output_type": "display_data"
    },
    {
     "data": {
      "text/html": [
       "<pre style=\"white-space:pre;overflow-x:auto;line-height:normal;font-family:Menlo,'DejaVu Sans Mono',consolas,'Courier New',monospace\">Write <span style=\"color: #800080; text-decoration-color: #800080; font-weight: bold\">P</span><span style=\"font-weight: bold\">(</span>k<span style=\"font-weight: bold\">)</span> in .<span style=\"color: #800080; text-decoration-color: #800080\">/boxlen100_n128_lcdmw7v2_00000//power/</span><span style=\"color: #ff00ff; text-decoration-color: #ff00ff\">pk_eft_multigrid_ncoarse7_00226.dat</span>                           \n",
       "</pre>\n"
      ],
      "text/plain": [
       "Write \u001b[1;35mP\u001b[0m\u001b[1m(\u001b[0mk\u001b[1m)\u001b[0m in .\u001b[35m/boxlen100_n128_lcdmw7v2_00000/\u001b[0m\u001b[35m/power/\u001b[0m\u001b[95mpk_eft_multigrid_ncoarse7_00226.dat\u001b[0m                           \n"
      ]
     },
     "metadata": {},
     "output_type": "display_data"
    },
    {
     "data": {
      "text/html": [
       "<pre style=\"white-space:pre;overflow-x:auto;line-height:normal;font-family:Menlo,'DejaVu Sans Mono',consolas,'Courier New',monospace\">param<span style=\"font-weight: bold\">[</span><span style=\"color: #008000; text-decoration-color: #008000\">'nsteps'</span><span style=\"font-weight: bold\">]</span>=<span style=\"color: #008080; text-decoration-color: #008080; font-weight: bold\">226</span> param<span style=\"font-weight: bold\">[</span><span style=\"color: #008000; text-decoration-color: #008000\">'aexp'</span><span style=\"font-weight: bold\">]</span>=<span style=\"color: #008080; text-decoration-color: #008080; font-weight: bold\">0.561027484758616</span> z = <span style=\"color: #008080; text-decoration-color: #008080; font-weight: bold\">0.7824438680223544</span>                                         \n",
       "</pre>\n"
      ],
      "text/plain": [
       "param\u001b[1m[\u001b[0m\u001b[32m'nsteps'\u001b[0m\u001b[1m]\u001b[0m=\u001b[1;36m226\u001b[0m param\u001b[1m[\u001b[0m\u001b[32m'aexp'\u001b[0m\u001b[1m]\u001b[0m=\u001b[1;36m0.561027484758616\u001b[0m z = \u001b[1;36m0.7824438680223544\u001b[0m                                         \n"
      ]
     },
     "metadata": {},
     "output_type": "display_data"
    },
    {
     "data": {
      "text/html": [
       "<pre style=\"white-space:pre;overflow-x:auto;line-height:normal;font-family:Menlo,'DejaVu Sans Mono',consolas,'Courier New',monospace\">Write <span style=\"color: #800080; text-decoration-color: #800080; font-weight: bold\">P</span><span style=\"font-weight: bold\">(</span>k<span style=\"font-weight: bold\">)</span> in .<span style=\"color: #800080; text-decoration-color: #800080\">/boxlen100_n128_lcdmw7v2_00000//power/</span><span style=\"color: #ff00ff; text-decoration-color: #ff00ff\">pk_eft_multigrid_ncoarse7_00227.dat</span>                           \n",
       "</pre>\n"
      ],
      "text/plain": [
       "Write \u001b[1;35mP\u001b[0m\u001b[1m(\u001b[0mk\u001b[1m)\u001b[0m in .\u001b[35m/boxlen100_n128_lcdmw7v2_00000/\u001b[0m\u001b[35m/power/\u001b[0m\u001b[95mpk_eft_multigrid_ncoarse7_00227.dat\u001b[0m                           \n"
      ]
     },
     "metadata": {},
     "output_type": "display_data"
    },
    {
     "data": {
      "text/html": [
       "<pre style=\"white-space:pre;overflow-x:auto;line-height:normal;font-family:Menlo,'DejaVu Sans Mono',consolas,'Courier New',monospace\">param<span style=\"font-weight: bold\">[</span><span style=\"color: #008000; text-decoration-color: #008000\">'nsteps'</span><span style=\"font-weight: bold\">]</span>=<span style=\"color: #008080; text-decoration-color: #008080; font-weight: bold\">227</span> param<span style=\"font-weight: bold\">[</span><span style=\"color: #008000; text-decoration-color: #008000\">'aexp'</span><span style=\"font-weight: bold\">]</span>=<span style=\"color: #008080; text-decoration-color: #008080; font-weight: bold\">0.561027484758616</span> z = <span style=\"color: #008080; text-decoration-color: #008080; font-weight: bold\">0.7824438680223544</span>                                         \n",
       "</pre>\n"
      ],
      "text/plain": [
       "param\u001b[1m[\u001b[0m\u001b[32m'nsteps'\u001b[0m\u001b[1m]\u001b[0m=\u001b[1;36m227\u001b[0m param\u001b[1m[\u001b[0m\u001b[32m'aexp'\u001b[0m\u001b[1m]\u001b[0m=\u001b[1;36m0.561027484758616\u001b[0m z = \u001b[1;36m0.7824438680223544\u001b[0m                                         \n"
      ]
     },
     "metadata": {},
     "output_type": "display_data"
    },
    {
     "data": {
      "text/html": [
       "<pre style=\"white-space:pre;overflow-x:auto;line-height:normal;font-family:Menlo,'DejaVu Sans Mono',consolas,'Courier New',monospace\">Write <span style=\"color: #800080; text-decoration-color: #800080; font-weight: bold\">P</span><span style=\"font-weight: bold\">(</span>k<span style=\"font-weight: bold\">)</span> in .<span style=\"color: #800080; text-decoration-color: #800080\">/boxlen100_n128_lcdmw7v2_00000//power/</span><span style=\"color: #ff00ff; text-decoration-color: #ff00ff\">pk_eft_multigrid_ncoarse7_00228.dat</span>                           \n",
       "</pre>\n"
      ],
      "text/plain": [
       "Write \u001b[1;35mP\u001b[0m\u001b[1m(\u001b[0mk\u001b[1m)\u001b[0m in .\u001b[35m/boxlen100_n128_lcdmw7v2_00000/\u001b[0m\u001b[35m/power/\u001b[0m\u001b[95mpk_eft_multigrid_ncoarse7_00228.dat\u001b[0m                           \n"
      ]
     },
     "metadata": {},
     "output_type": "display_data"
    },
    {
     "data": {
      "text/html": [
       "<pre style=\"white-space:pre;overflow-x:auto;line-height:normal;font-family:Menlo,'DejaVu Sans Mono',consolas,'Courier New',monospace\">param<span style=\"font-weight: bold\">[</span><span style=\"color: #008000; text-decoration-color: #008000\">'nsteps'</span><span style=\"font-weight: bold\">]</span>=<span style=\"color: #008080; text-decoration-color: #008080; font-weight: bold\">228</span> param<span style=\"font-weight: bold\">[</span><span style=\"color: #008000; text-decoration-color: #008000\">'aexp'</span><span style=\"font-weight: bold\">]</span>=<span style=\"color: #008080; text-decoration-color: #008080; font-weight: bold\">0.561027484758616</span> z = <span style=\"color: #008080; text-decoration-color: #008080; font-weight: bold\">0.7824438680223544</span>                                         \n",
       "</pre>\n"
      ],
      "text/plain": [
       "param\u001b[1m[\u001b[0m\u001b[32m'nsteps'\u001b[0m\u001b[1m]\u001b[0m=\u001b[1;36m228\u001b[0m param\u001b[1m[\u001b[0m\u001b[32m'aexp'\u001b[0m\u001b[1m]\u001b[0m=\u001b[1;36m0.561027484758616\u001b[0m z = \u001b[1;36m0.7824438680223544\u001b[0m                                         \n"
      ]
     },
     "metadata": {},
     "output_type": "display_data"
    },
    {
     "data": {
      "text/html": [
       "<pre style=\"white-space:pre;overflow-x:auto;line-height:normal;font-family:Menlo,'DejaVu Sans Mono',consolas,'Courier New',monospace\">Write <span style=\"color: #800080; text-decoration-color: #800080; font-weight: bold\">P</span><span style=\"font-weight: bold\">(</span>k<span style=\"font-weight: bold\">)</span> in .<span style=\"color: #800080; text-decoration-color: #800080\">/boxlen100_n128_lcdmw7v2_00000//power/</span><span style=\"color: #ff00ff; text-decoration-color: #ff00ff\">pk_eft_multigrid_ncoarse7_00229.dat</span>                           \n",
       "</pre>\n"
      ],
      "text/plain": [
       "Write \u001b[1;35mP\u001b[0m\u001b[1m(\u001b[0mk\u001b[1m)\u001b[0m in .\u001b[35m/boxlen100_n128_lcdmw7v2_00000/\u001b[0m\u001b[35m/power/\u001b[0m\u001b[95mpk_eft_multigrid_ncoarse7_00229.dat\u001b[0m                           \n"
      ]
     },
     "metadata": {},
     "output_type": "display_data"
    },
    {
     "data": {
      "text/html": [
       "<pre style=\"white-space:pre;overflow-x:auto;line-height:normal;font-family:Menlo,'DejaVu Sans Mono',consolas,'Courier New',monospace\">param<span style=\"font-weight: bold\">[</span><span style=\"color: #008000; text-decoration-color: #008000\">'nsteps'</span><span style=\"font-weight: bold\">]</span>=<span style=\"color: #008080; text-decoration-color: #008080; font-weight: bold\">229</span> param<span style=\"font-weight: bold\">[</span><span style=\"color: #008000; text-decoration-color: #008000\">'aexp'</span><span style=\"font-weight: bold\">]</span>=<span style=\"color: #008080; text-decoration-color: #008080; font-weight: bold\">0.561027484758616</span> z = <span style=\"color: #008080; text-decoration-color: #008080; font-weight: bold\">0.7824438680223544</span>                                         \n",
       "</pre>\n"
      ],
      "text/plain": [
       "param\u001b[1m[\u001b[0m\u001b[32m'nsteps'\u001b[0m\u001b[1m]\u001b[0m=\u001b[1;36m229\u001b[0m param\u001b[1m[\u001b[0m\u001b[32m'aexp'\u001b[0m\u001b[1m]\u001b[0m=\u001b[1;36m0.561027484758616\u001b[0m z = \u001b[1;36m0.7824438680223544\u001b[0m                                         \n"
      ]
     },
     "metadata": {},
     "output_type": "display_data"
    },
    {
     "data": {
      "text/html": [
       "<pre style=\"white-space:pre;overflow-x:auto;line-height:normal;font-family:Menlo,'DejaVu Sans Mono',consolas,'Courier New',monospace\">Write <span style=\"color: #800080; text-decoration-color: #800080; font-weight: bold\">P</span><span style=\"font-weight: bold\">(</span>k<span style=\"font-weight: bold\">)</span> in .<span style=\"color: #800080; text-decoration-color: #800080\">/boxlen100_n128_lcdmw7v2_00000//power/</span><span style=\"color: #ff00ff; text-decoration-color: #ff00ff\">pk_eft_multigrid_ncoarse7_00230.dat</span>                           \n",
       "</pre>\n"
      ],
      "text/plain": [
       "Write \u001b[1;35mP\u001b[0m\u001b[1m(\u001b[0mk\u001b[1m)\u001b[0m in .\u001b[35m/boxlen100_n128_lcdmw7v2_00000/\u001b[0m\u001b[35m/power/\u001b[0m\u001b[95mpk_eft_multigrid_ncoarse7_00230.dat\u001b[0m                           \n"
      ]
     },
     "metadata": {},
     "output_type": "display_data"
    },
    {
     "data": {
      "text/html": [
       "<pre style=\"white-space:pre;overflow-x:auto;line-height:normal;font-family:Menlo,'DejaVu Sans Mono',consolas,'Courier New',monospace\">param<span style=\"font-weight: bold\">[</span><span style=\"color: #008000; text-decoration-color: #008000\">'nsteps'</span><span style=\"font-weight: bold\">]</span>=<span style=\"color: #008080; text-decoration-color: #008080; font-weight: bold\">230</span> param<span style=\"font-weight: bold\">[</span><span style=\"color: #008000; text-decoration-color: #008000\">'aexp'</span><span style=\"font-weight: bold\">]</span>=<span style=\"color: #008080; text-decoration-color: #008080; font-weight: bold\">0.561027484758616</span> z = <span style=\"color: #008080; text-decoration-color: #008080; font-weight: bold\">0.7824438680223544</span>                                         \n",
       "</pre>\n"
      ],
      "text/plain": [
       "param\u001b[1m[\u001b[0m\u001b[32m'nsteps'\u001b[0m\u001b[1m]\u001b[0m=\u001b[1;36m230\u001b[0m param\u001b[1m[\u001b[0m\u001b[32m'aexp'\u001b[0m\u001b[1m]\u001b[0m=\u001b[1;36m0.561027484758616\u001b[0m z = \u001b[1;36m0.7824438680223544\u001b[0m                                         \n"
      ]
     },
     "metadata": {},
     "output_type": "display_data"
    },
    {
     "data": {
      "text/html": [
       "<pre style=\"white-space:pre;overflow-x:auto;line-height:normal;font-family:Menlo,'DejaVu Sans Mono',consolas,'Courier New',monospace\">Write <span style=\"color: #800080; text-decoration-color: #800080; font-weight: bold\">P</span><span style=\"font-weight: bold\">(</span>k<span style=\"font-weight: bold\">)</span> in .<span style=\"color: #800080; text-decoration-color: #800080\">/boxlen100_n128_lcdmw7v2_00000//power/</span><span style=\"color: #ff00ff; text-decoration-color: #ff00ff\">pk_eft_multigrid_ncoarse7_00231.dat</span>                           \n",
       "</pre>\n"
      ],
      "text/plain": [
       "Write \u001b[1;35mP\u001b[0m\u001b[1m(\u001b[0mk\u001b[1m)\u001b[0m in .\u001b[35m/boxlen100_n128_lcdmw7v2_00000/\u001b[0m\u001b[35m/power/\u001b[0m\u001b[95mpk_eft_multigrid_ncoarse7_00231.dat\u001b[0m                           \n"
      ]
     },
     "metadata": {},
     "output_type": "display_data"
    },
    {
     "data": {
      "text/html": [
       "<pre style=\"white-space:pre;overflow-x:auto;line-height:normal;font-family:Menlo,'DejaVu Sans Mono',consolas,'Courier New',monospace\">param<span style=\"font-weight: bold\">[</span><span style=\"color: #008000; text-decoration-color: #008000\">'nsteps'</span><span style=\"font-weight: bold\">]</span>=<span style=\"color: #008080; text-decoration-color: #008080; font-weight: bold\">231</span> param<span style=\"font-weight: bold\">[</span><span style=\"color: #008000; text-decoration-color: #008000\">'aexp'</span><span style=\"font-weight: bold\">]</span>=<span style=\"color: #008080; text-decoration-color: #008080; font-weight: bold\">0.561027484758616</span> z = <span style=\"color: #008080; text-decoration-color: #008080; font-weight: bold\">0.7824438680223544</span>                                         \n",
       "</pre>\n"
      ],
      "text/plain": [
       "param\u001b[1m[\u001b[0m\u001b[32m'nsteps'\u001b[0m\u001b[1m]\u001b[0m=\u001b[1;36m231\u001b[0m param\u001b[1m[\u001b[0m\u001b[32m'aexp'\u001b[0m\u001b[1m]\u001b[0m=\u001b[1;36m0.561027484758616\u001b[0m z = \u001b[1;36m0.7824438680223544\u001b[0m                                         \n"
      ]
     },
     "metadata": {},
     "output_type": "display_data"
    },
    {
     "data": {
      "text/html": [
       "<pre style=\"white-space:pre;overflow-x:auto;line-height:normal;font-family:Menlo,'DejaVu Sans Mono',consolas,'Courier New',monospace\">Write <span style=\"color: #800080; text-decoration-color: #800080; font-weight: bold\">P</span><span style=\"font-weight: bold\">(</span>k<span style=\"font-weight: bold\">)</span> in .<span style=\"color: #800080; text-decoration-color: #800080\">/boxlen100_n128_lcdmw7v2_00000//power/</span><span style=\"color: #ff00ff; text-decoration-color: #ff00ff\">pk_eft_multigrid_ncoarse7_00232.dat</span>                           \n",
       "</pre>\n"
      ],
      "text/plain": [
       "Write \u001b[1;35mP\u001b[0m\u001b[1m(\u001b[0mk\u001b[1m)\u001b[0m in .\u001b[35m/boxlen100_n128_lcdmw7v2_00000/\u001b[0m\u001b[35m/power/\u001b[0m\u001b[95mpk_eft_multigrid_ncoarse7_00232.dat\u001b[0m                           \n"
      ]
     },
     "metadata": {},
     "output_type": "display_data"
    },
    {
     "data": {
      "text/html": [
       "<pre style=\"white-space:pre;overflow-x:auto;line-height:normal;font-family:Menlo,'DejaVu Sans Mono',consolas,'Courier New',monospace\">param<span style=\"font-weight: bold\">[</span><span style=\"color: #008000; text-decoration-color: #008000\">'nsteps'</span><span style=\"font-weight: bold\">]</span>=<span style=\"color: #008080; text-decoration-color: #008080; font-weight: bold\">232</span> param<span style=\"font-weight: bold\">[</span><span style=\"color: #008000; text-decoration-color: #008000\">'aexp'</span><span style=\"font-weight: bold\">]</span>=<span style=\"color: #008080; text-decoration-color: #008080; font-weight: bold\">0.561027484758616</span> z = <span style=\"color: #008080; text-decoration-color: #008080; font-weight: bold\">0.7824438680223544</span>                                         \n",
       "</pre>\n"
      ],
      "text/plain": [
       "param\u001b[1m[\u001b[0m\u001b[32m'nsteps'\u001b[0m\u001b[1m]\u001b[0m=\u001b[1;36m232\u001b[0m param\u001b[1m[\u001b[0m\u001b[32m'aexp'\u001b[0m\u001b[1m]\u001b[0m=\u001b[1;36m0.561027484758616\u001b[0m z = \u001b[1;36m0.7824438680223544\u001b[0m                                         \n"
      ]
     },
     "metadata": {},
     "output_type": "display_data"
    },
    {
     "data": {
      "text/html": [
       "<pre style=\"white-space:pre;overflow-x:auto;line-height:normal;font-family:Menlo,'DejaVu Sans Mono',consolas,'Courier New',monospace\">Write <span style=\"color: #800080; text-decoration-color: #800080; font-weight: bold\">P</span><span style=\"font-weight: bold\">(</span>k<span style=\"font-weight: bold\">)</span> in .<span style=\"color: #800080; text-decoration-color: #800080\">/boxlen100_n128_lcdmw7v2_00000//power/</span><span style=\"color: #ff00ff; text-decoration-color: #ff00ff\">pk_eft_multigrid_ncoarse7_00233.dat</span>                           \n",
       "</pre>\n"
      ],
      "text/plain": [
       "Write \u001b[1;35mP\u001b[0m\u001b[1m(\u001b[0mk\u001b[1m)\u001b[0m in .\u001b[35m/boxlen100_n128_lcdmw7v2_00000/\u001b[0m\u001b[35m/power/\u001b[0m\u001b[95mpk_eft_multigrid_ncoarse7_00233.dat\u001b[0m                           \n"
      ]
     },
     "metadata": {},
     "output_type": "display_data"
    },
    {
     "data": {
      "text/html": [
       "<pre style=\"white-space:pre;overflow-x:auto;line-height:normal;font-family:Menlo,'DejaVu Sans Mono',consolas,'Courier New',monospace\">param<span style=\"font-weight: bold\">[</span><span style=\"color: #008000; text-decoration-color: #008000\">'nsteps'</span><span style=\"font-weight: bold\">]</span>=<span style=\"color: #008080; text-decoration-color: #008080; font-weight: bold\">233</span> param<span style=\"font-weight: bold\">[</span><span style=\"color: #008000; text-decoration-color: #008000\">'aexp'</span><span style=\"font-weight: bold\">]</span>=<span style=\"color: #008080; text-decoration-color: #008080; font-weight: bold\">0.561027484758616</span> z = <span style=\"color: #008080; text-decoration-color: #008080; font-weight: bold\">0.7824438680223544</span>                                         \n",
       "</pre>\n"
      ],
      "text/plain": [
       "param\u001b[1m[\u001b[0m\u001b[32m'nsteps'\u001b[0m\u001b[1m]\u001b[0m=\u001b[1;36m233\u001b[0m param\u001b[1m[\u001b[0m\u001b[32m'aexp'\u001b[0m\u001b[1m]\u001b[0m=\u001b[1;36m0.561027484758616\u001b[0m z = \u001b[1;36m0.7824438680223544\u001b[0m                                         \n"
      ]
     },
     "metadata": {},
     "output_type": "display_data"
    },
    {
     "data": {
      "text/html": [
       "<pre style=\"white-space:pre;overflow-x:auto;line-height:normal;font-family:Menlo,'DejaVu Sans Mono',consolas,'Courier New',monospace\">Write <span style=\"color: #800080; text-decoration-color: #800080; font-weight: bold\">P</span><span style=\"font-weight: bold\">(</span>k<span style=\"font-weight: bold\">)</span> in .<span style=\"color: #800080; text-decoration-color: #800080\">/boxlen100_n128_lcdmw7v2_00000//power/</span><span style=\"color: #ff00ff; text-decoration-color: #ff00ff\">pk_eft_multigrid_ncoarse7_00234.dat</span>                           \n",
       "</pre>\n"
      ],
      "text/plain": [
       "Write \u001b[1;35mP\u001b[0m\u001b[1m(\u001b[0mk\u001b[1m)\u001b[0m in .\u001b[35m/boxlen100_n128_lcdmw7v2_00000/\u001b[0m\u001b[35m/power/\u001b[0m\u001b[95mpk_eft_multigrid_ncoarse7_00234.dat\u001b[0m                           \n"
      ]
     },
     "metadata": {},
     "output_type": "display_data"
    },
    {
     "data": {
      "text/html": [
       "<pre style=\"white-space:pre;overflow-x:auto;line-height:normal;font-family:Menlo,'DejaVu Sans Mono',consolas,'Courier New',monospace\">param<span style=\"font-weight: bold\">[</span><span style=\"color: #008000; text-decoration-color: #008000\">'nsteps'</span><span style=\"font-weight: bold\">]</span>=<span style=\"color: #008080; text-decoration-color: #008080; font-weight: bold\">234</span> param<span style=\"font-weight: bold\">[</span><span style=\"color: #008000; text-decoration-color: #008000\">'aexp'</span><span style=\"font-weight: bold\">]</span>=<span style=\"color: #008080; text-decoration-color: #008080; font-weight: bold\">0.561027484758616</span> z = <span style=\"color: #008080; text-decoration-color: #008080; font-weight: bold\">0.7824438680223544</span>                                         \n",
       "</pre>\n"
      ],
      "text/plain": [
       "param\u001b[1m[\u001b[0m\u001b[32m'nsteps'\u001b[0m\u001b[1m]\u001b[0m=\u001b[1;36m234\u001b[0m param\u001b[1m[\u001b[0m\u001b[32m'aexp'\u001b[0m\u001b[1m]\u001b[0m=\u001b[1;36m0.561027484758616\u001b[0m z = \u001b[1;36m0.7824438680223544\u001b[0m                                         \n"
      ]
     },
     "metadata": {},
     "output_type": "display_data"
    },
    {
     "data": {
      "text/html": [
       "<pre style=\"white-space:pre;overflow-x:auto;line-height:normal;font-family:Menlo,'DejaVu Sans Mono',consolas,'Courier New',monospace\">Write <span style=\"color: #800080; text-decoration-color: #800080; font-weight: bold\">P</span><span style=\"font-weight: bold\">(</span>k<span style=\"font-weight: bold\">)</span> in .<span style=\"color: #800080; text-decoration-color: #800080\">/boxlen100_n128_lcdmw7v2_00000//power/</span><span style=\"color: #ff00ff; text-decoration-color: #ff00ff\">pk_eft_multigrid_ncoarse7_00235.dat</span>                           \n",
       "</pre>\n"
      ],
      "text/plain": [
       "Write \u001b[1;35mP\u001b[0m\u001b[1m(\u001b[0mk\u001b[1m)\u001b[0m in .\u001b[35m/boxlen100_n128_lcdmw7v2_00000/\u001b[0m\u001b[35m/power/\u001b[0m\u001b[95mpk_eft_multigrid_ncoarse7_00235.dat\u001b[0m                           \n"
      ]
     },
     "metadata": {},
     "output_type": "display_data"
    },
    {
     "data": {
      "text/html": [
       "<pre style=\"white-space:pre;overflow-x:auto;line-height:normal;font-family:Menlo,'DejaVu Sans Mono',consolas,'Courier New',monospace\">param<span style=\"font-weight: bold\">[</span><span style=\"color: #008000; text-decoration-color: #008000\">'nsteps'</span><span style=\"font-weight: bold\">]</span>=<span style=\"color: #008080; text-decoration-color: #008080; font-weight: bold\">235</span> param<span style=\"font-weight: bold\">[</span><span style=\"color: #008000; text-decoration-color: #008000\">'aexp'</span><span style=\"font-weight: bold\">]</span>=<span style=\"color: #008080; text-decoration-color: #008080; font-weight: bold\">0.561027484758616</span> z = <span style=\"color: #008080; text-decoration-color: #008080; font-weight: bold\">0.7824438680223544</span>                                         \n",
       "</pre>\n"
      ],
      "text/plain": [
       "param\u001b[1m[\u001b[0m\u001b[32m'nsteps'\u001b[0m\u001b[1m]\u001b[0m=\u001b[1;36m235\u001b[0m param\u001b[1m[\u001b[0m\u001b[32m'aexp'\u001b[0m\u001b[1m]\u001b[0m=\u001b[1;36m0.561027484758616\u001b[0m z = \u001b[1;36m0.7824438680223544\u001b[0m                                         \n"
      ]
     },
     "metadata": {},
     "output_type": "display_data"
    },
    {
     "data": {
      "text/html": [
       "<pre style=\"white-space:pre;overflow-x:auto;line-height:normal;font-family:Menlo,'DejaVu Sans Mono',consolas,'Courier New',monospace\">Write <span style=\"color: #800080; text-decoration-color: #800080; font-weight: bold\">P</span><span style=\"font-weight: bold\">(</span>k<span style=\"font-weight: bold\">)</span> in .<span style=\"color: #800080; text-decoration-color: #800080\">/boxlen100_n128_lcdmw7v2_00000//power/</span><span style=\"color: #ff00ff; text-decoration-color: #ff00ff\">pk_eft_multigrid_ncoarse7_00236.dat</span>                           \n",
       "</pre>\n"
      ],
      "text/plain": [
       "Write \u001b[1;35mP\u001b[0m\u001b[1m(\u001b[0mk\u001b[1m)\u001b[0m in .\u001b[35m/boxlen100_n128_lcdmw7v2_00000/\u001b[0m\u001b[35m/power/\u001b[0m\u001b[95mpk_eft_multigrid_ncoarse7_00236.dat\u001b[0m                           \n"
      ]
     },
     "metadata": {},
     "output_type": "display_data"
    },
    {
     "data": {
      "text/html": [
       "<pre style=\"white-space:pre;overflow-x:auto;line-height:normal;font-family:Menlo,'DejaVu Sans Mono',consolas,'Courier New',monospace\">param<span style=\"font-weight: bold\">[</span><span style=\"color: #008000; text-decoration-color: #008000\">'nsteps'</span><span style=\"font-weight: bold\">]</span>=<span style=\"color: #008080; text-decoration-color: #008080; font-weight: bold\">236</span> param<span style=\"font-weight: bold\">[</span><span style=\"color: #008000; text-decoration-color: #008000\">'aexp'</span><span style=\"font-weight: bold\">]</span>=<span style=\"color: #008080; text-decoration-color: #008080; font-weight: bold\">0.561027484758616</span> z = <span style=\"color: #008080; text-decoration-color: #008080; font-weight: bold\">0.7824438680223544</span>                                         \n",
       "</pre>\n"
      ],
      "text/plain": [
       "param\u001b[1m[\u001b[0m\u001b[32m'nsteps'\u001b[0m\u001b[1m]\u001b[0m=\u001b[1;36m236\u001b[0m param\u001b[1m[\u001b[0m\u001b[32m'aexp'\u001b[0m\u001b[1m]\u001b[0m=\u001b[1;36m0.561027484758616\u001b[0m z = \u001b[1;36m0.7824438680223544\u001b[0m                                         \n"
      ]
     },
     "metadata": {},
     "output_type": "display_data"
    },
    {
     "data": {
      "text/html": [
       "<pre style=\"white-space:pre;overflow-x:auto;line-height:normal;font-family:Menlo,'DejaVu Sans Mono',consolas,'Courier New',monospace\">Write <span style=\"color: #800080; text-decoration-color: #800080; font-weight: bold\">P</span><span style=\"font-weight: bold\">(</span>k<span style=\"font-weight: bold\">)</span> in .<span style=\"color: #800080; text-decoration-color: #800080\">/boxlen100_n128_lcdmw7v2_00000//power/</span><span style=\"color: #ff00ff; text-decoration-color: #ff00ff\">pk_eft_multigrid_ncoarse7_00237.dat</span>                           \n",
       "</pre>\n"
      ],
      "text/plain": [
       "Write \u001b[1;35mP\u001b[0m\u001b[1m(\u001b[0mk\u001b[1m)\u001b[0m in .\u001b[35m/boxlen100_n128_lcdmw7v2_00000/\u001b[0m\u001b[35m/power/\u001b[0m\u001b[95mpk_eft_multigrid_ncoarse7_00237.dat\u001b[0m                           \n"
      ]
     },
     "metadata": {},
     "output_type": "display_data"
    },
    {
     "data": {
      "text/html": [
       "<pre style=\"white-space:pre;overflow-x:auto;line-height:normal;font-family:Menlo,'DejaVu Sans Mono',consolas,'Courier New',monospace\">param<span style=\"font-weight: bold\">[</span><span style=\"color: #008000; text-decoration-color: #008000\">'nsteps'</span><span style=\"font-weight: bold\">]</span>=<span style=\"color: #008080; text-decoration-color: #008080; font-weight: bold\">237</span> param<span style=\"font-weight: bold\">[</span><span style=\"color: #008000; text-decoration-color: #008000\">'aexp'</span><span style=\"font-weight: bold\">]</span>=<span style=\"color: #008080; text-decoration-color: #008080; font-weight: bold\">0.561027484758616</span> z = <span style=\"color: #008080; text-decoration-color: #008080; font-weight: bold\">0.7824438680223544</span>                                         \n",
       "</pre>\n"
      ],
      "text/plain": [
       "param\u001b[1m[\u001b[0m\u001b[32m'nsteps'\u001b[0m\u001b[1m]\u001b[0m=\u001b[1;36m237\u001b[0m param\u001b[1m[\u001b[0m\u001b[32m'aexp'\u001b[0m\u001b[1m]\u001b[0m=\u001b[1;36m0.561027484758616\u001b[0m z = \u001b[1;36m0.7824438680223544\u001b[0m                                         \n"
      ]
     },
     "metadata": {},
     "output_type": "display_data"
    },
    {
     "data": {
      "text/html": [
       "<pre style=\"white-space:pre;overflow-x:auto;line-height:normal;font-family:Menlo,'DejaVu Sans Mono',consolas,'Courier New',monospace\">Write <span style=\"color: #800080; text-decoration-color: #800080; font-weight: bold\">P</span><span style=\"font-weight: bold\">(</span>k<span style=\"font-weight: bold\">)</span> in .<span style=\"color: #800080; text-decoration-color: #800080\">/boxlen100_n128_lcdmw7v2_00000//power/</span><span style=\"color: #ff00ff; text-decoration-color: #ff00ff\">pk_eft_multigrid_ncoarse7_00238.dat</span>                           \n",
       "</pre>\n"
      ],
      "text/plain": [
       "Write \u001b[1;35mP\u001b[0m\u001b[1m(\u001b[0mk\u001b[1m)\u001b[0m in .\u001b[35m/boxlen100_n128_lcdmw7v2_00000/\u001b[0m\u001b[35m/power/\u001b[0m\u001b[95mpk_eft_multigrid_ncoarse7_00238.dat\u001b[0m                           \n"
      ]
     },
     "metadata": {},
     "output_type": "display_data"
    },
    {
     "data": {
      "text/html": [
       "<pre style=\"white-space:pre;overflow-x:auto;line-height:normal;font-family:Menlo,'DejaVu Sans Mono',consolas,'Courier New',monospace\">param<span style=\"font-weight: bold\">[</span><span style=\"color: #008000; text-decoration-color: #008000\">'nsteps'</span><span style=\"font-weight: bold\">]</span>=<span style=\"color: #008080; text-decoration-color: #008080; font-weight: bold\">238</span> param<span style=\"font-weight: bold\">[</span><span style=\"color: #008000; text-decoration-color: #008000\">'aexp'</span><span style=\"font-weight: bold\">]</span>=<span style=\"color: #008080; text-decoration-color: #008080; font-weight: bold\">0.561027484758616</span> z = <span style=\"color: #008080; text-decoration-color: #008080; font-weight: bold\">0.7824438680223544</span>                                         \n",
       "</pre>\n"
      ],
      "text/plain": [
       "param\u001b[1m[\u001b[0m\u001b[32m'nsteps'\u001b[0m\u001b[1m]\u001b[0m=\u001b[1;36m238\u001b[0m param\u001b[1m[\u001b[0m\u001b[32m'aexp'\u001b[0m\u001b[1m]\u001b[0m=\u001b[1;36m0.561027484758616\u001b[0m z = \u001b[1;36m0.7824438680223544\u001b[0m                                         \n"
      ]
     },
     "metadata": {},
     "output_type": "display_data"
    },
    {
     "data": {
      "text/html": [
       "<pre style=\"white-space:pre;overflow-x:auto;line-height:normal;font-family:Menlo,'DejaVu Sans Mono',consolas,'Courier New',monospace\">Write <span style=\"color: #800080; text-decoration-color: #800080; font-weight: bold\">P</span><span style=\"font-weight: bold\">(</span>k<span style=\"font-weight: bold\">)</span> in .<span style=\"color: #800080; text-decoration-color: #800080\">/boxlen100_n128_lcdmw7v2_00000//power/</span><span style=\"color: #ff00ff; text-decoration-color: #ff00ff\">pk_eft_multigrid_ncoarse7_00239.dat</span>                           \n",
       "</pre>\n"
      ],
      "text/plain": [
       "Write \u001b[1;35mP\u001b[0m\u001b[1m(\u001b[0mk\u001b[1m)\u001b[0m in .\u001b[35m/boxlen100_n128_lcdmw7v2_00000/\u001b[0m\u001b[35m/power/\u001b[0m\u001b[95mpk_eft_multigrid_ncoarse7_00239.dat\u001b[0m                           \n"
      ]
     },
     "metadata": {},
     "output_type": "display_data"
    },
    {
     "data": {
      "text/html": [
       "<pre style=\"white-space:pre;overflow-x:auto;line-height:normal;font-family:Menlo,'DejaVu Sans Mono',consolas,'Courier New',monospace\">param<span style=\"font-weight: bold\">[</span><span style=\"color: #008000; text-decoration-color: #008000\">'nsteps'</span><span style=\"font-weight: bold\">]</span>=<span style=\"color: #008080; text-decoration-color: #008080; font-weight: bold\">239</span> param<span style=\"font-weight: bold\">[</span><span style=\"color: #008000; text-decoration-color: #008000\">'aexp'</span><span style=\"font-weight: bold\">]</span>=<span style=\"color: #008080; text-decoration-color: #008080; font-weight: bold\">0.561027484758616</span> z = <span style=\"color: #008080; text-decoration-color: #008080; font-weight: bold\">0.7824438680223544</span>                                         \n",
       "</pre>\n"
      ],
      "text/plain": [
       "param\u001b[1m[\u001b[0m\u001b[32m'nsteps'\u001b[0m\u001b[1m]\u001b[0m=\u001b[1;36m239\u001b[0m param\u001b[1m[\u001b[0m\u001b[32m'aexp'\u001b[0m\u001b[1m]\u001b[0m=\u001b[1;36m0.561027484758616\u001b[0m z = \u001b[1;36m0.7824438680223544\u001b[0m                                         \n"
      ]
     },
     "metadata": {},
     "output_type": "display_data"
    },
    {
     "data": {
      "text/html": [
       "<pre style=\"white-space:pre;overflow-x:auto;line-height:normal;font-family:Menlo,'DejaVu Sans Mono',consolas,'Courier New',monospace\">Write <span style=\"color: #800080; text-decoration-color: #800080; font-weight: bold\">P</span><span style=\"font-weight: bold\">(</span>k<span style=\"font-weight: bold\">)</span> in .<span style=\"color: #800080; text-decoration-color: #800080\">/boxlen100_n128_lcdmw7v2_00000//power/</span><span style=\"color: #ff00ff; text-decoration-color: #ff00ff\">pk_eft_multigrid_ncoarse7_00240.dat</span>                           \n",
       "</pre>\n"
      ],
      "text/plain": [
       "Write \u001b[1;35mP\u001b[0m\u001b[1m(\u001b[0mk\u001b[1m)\u001b[0m in .\u001b[35m/boxlen100_n128_lcdmw7v2_00000/\u001b[0m\u001b[35m/power/\u001b[0m\u001b[95mpk_eft_multigrid_ncoarse7_00240.dat\u001b[0m                           \n"
      ]
     },
     "metadata": {},
     "output_type": "display_data"
    },
    {
     "data": {
      "text/html": [
       "<pre style=\"white-space:pre;overflow-x:auto;line-height:normal;font-family:Menlo,'DejaVu Sans Mono',consolas,'Courier New',monospace\">param<span style=\"font-weight: bold\">[</span><span style=\"color: #008000; text-decoration-color: #008000\">'nsteps'</span><span style=\"font-weight: bold\">]</span>=<span style=\"color: #008080; text-decoration-color: #008080; font-weight: bold\">240</span> param<span style=\"font-weight: bold\">[</span><span style=\"color: #008000; text-decoration-color: #008000\">'aexp'</span><span style=\"font-weight: bold\">]</span>=<span style=\"color: #008080; text-decoration-color: #008080; font-weight: bold\">0.561027484758616</span> z = <span style=\"color: #008080; text-decoration-color: #008080; font-weight: bold\">0.7824438680223544</span>                                         \n",
       "</pre>\n"
      ],
      "text/plain": [
       "param\u001b[1m[\u001b[0m\u001b[32m'nsteps'\u001b[0m\u001b[1m]\u001b[0m=\u001b[1;36m240\u001b[0m param\u001b[1m[\u001b[0m\u001b[32m'aexp'\u001b[0m\u001b[1m]\u001b[0m=\u001b[1;36m0.561027484758616\u001b[0m z = \u001b[1;36m0.7824438680223544\u001b[0m                                         \n"
      ]
     },
     "metadata": {},
     "output_type": "display_data"
    },
    {
     "data": {
      "text/html": [
       "<pre style=\"white-space:pre;overflow-x:auto;line-height:normal;font-family:Menlo,'DejaVu Sans Mono',consolas,'Courier New',monospace\">Write <span style=\"color: #800080; text-decoration-color: #800080; font-weight: bold\">P</span><span style=\"font-weight: bold\">(</span>k<span style=\"font-weight: bold\">)</span> in .<span style=\"color: #800080; text-decoration-color: #800080\">/boxlen100_n128_lcdmw7v2_00000//power/</span><span style=\"color: #ff00ff; text-decoration-color: #ff00ff\">pk_eft_multigrid_ncoarse7_00241.dat</span>                           \n",
       "</pre>\n"
      ],
      "text/plain": [
       "Write \u001b[1;35mP\u001b[0m\u001b[1m(\u001b[0mk\u001b[1m)\u001b[0m in .\u001b[35m/boxlen100_n128_lcdmw7v2_00000/\u001b[0m\u001b[35m/power/\u001b[0m\u001b[95mpk_eft_multigrid_ncoarse7_00241.dat\u001b[0m                           \n"
      ]
     },
     "metadata": {},
     "output_type": "display_data"
    },
    {
     "data": {
      "text/html": [
       "<pre style=\"white-space:pre;overflow-x:auto;line-height:normal;font-family:Menlo,'DejaVu Sans Mono',consolas,'Courier New',monospace\">param<span style=\"font-weight: bold\">[</span><span style=\"color: #008000; text-decoration-color: #008000\">'nsteps'</span><span style=\"font-weight: bold\">]</span>=<span style=\"color: #008080; text-decoration-color: #008080; font-weight: bold\">241</span> param<span style=\"font-weight: bold\">[</span><span style=\"color: #008000; text-decoration-color: #008000\">'aexp'</span><span style=\"font-weight: bold\">]</span>=<span style=\"color: #008080; text-decoration-color: #008080; font-weight: bold\">0.561027484758616</span> z = <span style=\"color: #008080; text-decoration-color: #008080; font-weight: bold\">0.7824438680223544</span>                                         \n",
       "</pre>\n"
      ],
      "text/plain": [
       "param\u001b[1m[\u001b[0m\u001b[32m'nsteps'\u001b[0m\u001b[1m]\u001b[0m=\u001b[1;36m241\u001b[0m param\u001b[1m[\u001b[0m\u001b[32m'aexp'\u001b[0m\u001b[1m]\u001b[0m=\u001b[1;36m0.561027484758616\u001b[0m z = \u001b[1;36m0.7824438680223544\u001b[0m                                         \n"
      ]
     },
     "metadata": {},
     "output_type": "display_data"
    },
    {
     "data": {
      "text/html": [
       "<pre style=\"white-space:pre;overflow-x:auto;line-height:normal;font-family:Menlo,'DejaVu Sans Mono',consolas,'Courier New',monospace\">Write <span style=\"color: #800080; text-decoration-color: #800080; font-weight: bold\">P</span><span style=\"font-weight: bold\">(</span>k<span style=\"font-weight: bold\">)</span> in .<span style=\"color: #800080; text-decoration-color: #800080\">/boxlen100_n128_lcdmw7v2_00000//power/</span><span style=\"color: #ff00ff; text-decoration-color: #ff00ff\">pk_eft_multigrid_ncoarse7_00242.dat</span>                           \n",
       "</pre>\n"
      ],
      "text/plain": [
       "Write \u001b[1;35mP\u001b[0m\u001b[1m(\u001b[0mk\u001b[1m)\u001b[0m in .\u001b[35m/boxlen100_n128_lcdmw7v2_00000/\u001b[0m\u001b[35m/power/\u001b[0m\u001b[95mpk_eft_multigrid_ncoarse7_00242.dat\u001b[0m                           \n"
      ]
     },
     "metadata": {},
     "output_type": "display_data"
    },
    {
     "data": {
      "text/html": [
       "<pre style=\"white-space:pre;overflow-x:auto;line-height:normal;font-family:Menlo,'DejaVu Sans Mono',consolas,'Courier New',monospace\">param<span style=\"font-weight: bold\">[</span><span style=\"color: #008000; text-decoration-color: #008000\">'nsteps'</span><span style=\"font-weight: bold\">]</span>=<span style=\"color: #008080; text-decoration-color: #008080; font-weight: bold\">242</span> param<span style=\"font-weight: bold\">[</span><span style=\"color: #008000; text-decoration-color: #008000\">'aexp'</span><span style=\"font-weight: bold\">]</span>=<span style=\"color: #008080; text-decoration-color: #008080; font-weight: bold\">0.561027484758616</span> z = <span style=\"color: #008080; text-decoration-color: #008080; font-weight: bold\">0.7824438680223544</span>                                         \n",
       "</pre>\n"
      ],
      "text/plain": [
       "param\u001b[1m[\u001b[0m\u001b[32m'nsteps'\u001b[0m\u001b[1m]\u001b[0m=\u001b[1;36m242\u001b[0m param\u001b[1m[\u001b[0m\u001b[32m'aexp'\u001b[0m\u001b[1m]\u001b[0m=\u001b[1;36m0.561027484758616\u001b[0m z = \u001b[1;36m0.7824438680223544\u001b[0m                                         \n"
      ]
     },
     "metadata": {},
     "output_type": "display_data"
    },
    {
     "data": {
      "text/html": [
       "<pre style=\"white-space:pre;overflow-x:auto;line-height:normal;font-family:Menlo,'DejaVu Sans Mono',consolas,'Courier New',monospace\">Write <span style=\"color: #800080; text-decoration-color: #800080; font-weight: bold\">P</span><span style=\"font-weight: bold\">(</span>k<span style=\"font-weight: bold\">)</span> in .<span style=\"color: #800080; text-decoration-color: #800080\">/boxlen100_n128_lcdmw7v2_00000//power/</span><span style=\"color: #ff00ff; text-decoration-color: #ff00ff\">pk_eft_multigrid_ncoarse7_00243.dat</span>                           \n",
       "</pre>\n"
      ],
      "text/plain": [
       "Write \u001b[1;35mP\u001b[0m\u001b[1m(\u001b[0mk\u001b[1m)\u001b[0m in .\u001b[35m/boxlen100_n128_lcdmw7v2_00000/\u001b[0m\u001b[35m/power/\u001b[0m\u001b[95mpk_eft_multigrid_ncoarse7_00243.dat\u001b[0m                           \n"
      ]
     },
     "metadata": {},
     "output_type": "display_data"
    },
    {
     "data": {
      "text/html": [
       "<pre style=\"white-space:pre;overflow-x:auto;line-height:normal;font-family:Menlo,'DejaVu Sans Mono',consolas,'Courier New',monospace\">param<span style=\"font-weight: bold\">[</span><span style=\"color: #008000; text-decoration-color: #008000\">'nsteps'</span><span style=\"font-weight: bold\">]</span>=<span style=\"color: #008080; text-decoration-color: #008080; font-weight: bold\">243</span> param<span style=\"font-weight: bold\">[</span><span style=\"color: #008000; text-decoration-color: #008000\">'aexp'</span><span style=\"font-weight: bold\">]</span>=<span style=\"color: #008080; text-decoration-color: #008080; font-weight: bold\">0.561027484758616</span> z = <span style=\"color: #008080; text-decoration-color: #008080; font-weight: bold\">0.7824438680223544</span>                                         \n",
       "</pre>\n"
      ],
      "text/plain": [
       "param\u001b[1m[\u001b[0m\u001b[32m'nsteps'\u001b[0m\u001b[1m]\u001b[0m=\u001b[1;36m243\u001b[0m param\u001b[1m[\u001b[0m\u001b[32m'aexp'\u001b[0m\u001b[1m]\u001b[0m=\u001b[1;36m0.561027484758616\u001b[0m z = \u001b[1;36m0.7824438680223544\u001b[0m                                         \n"
      ]
     },
     "metadata": {},
     "output_type": "display_data"
    },
    {
     "data": {
      "text/html": [
       "<pre style=\"white-space:pre;overflow-x:auto;line-height:normal;font-family:Menlo,'DejaVu Sans Mono',consolas,'Courier New',monospace\">Write <span style=\"color: #800080; text-decoration-color: #800080; font-weight: bold\">P</span><span style=\"font-weight: bold\">(</span>k<span style=\"font-weight: bold\">)</span> in .<span style=\"color: #800080; text-decoration-color: #800080\">/boxlen100_n128_lcdmw7v2_00000//power/</span><span style=\"color: #ff00ff; text-decoration-color: #ff00ff\">pk_eft_multigrid_ncoarse7_00244.dat</span>                           \n",
       "</pre>\n"
      ],
      "text/plain": [
       "Write \u001b[1;35mP\u001b[0m\u001b[1m(\u001b[0mk\u001b[1m)\u001b[0m in .\u001b[35m/boxlen100_n128_lcdmw7v2_00000/\u001b[0m\u001b[35m/power/\u001b[0m\u001b[95mpk_eft_multigrid_ncoarse7_00244.dat\u001b[0m                           \n"
      ]
     },
     "metadata": {},
     "output_type": "display_data"
    },
    {
     "data": {
      "text/html": [
       "<pre style=\"white-space:pre;overflow-x:auto;line-height:normal;font-family:Menlo,'DejaVu Sans Mono',consolas,'Courier New',monospace\">param<span style=\"font-weight: bold\">[</span><span style=\"color: #008000; text-decoration-color: #008000\">'nsteps'</span><span style=\"font-weight: bold\">]</span>=<span style=\"color: #008080; text-decoration-color: #008080; font-weight: bold\">244</span> param<span style=\"font-weight: bold\">[</span><span style=\"color: #008000; text-decoration-color: #008000\">'aexp'</span><span style=\"font-weight: bold\">]</span>=<span style=\"color: #008080; text-decoration-color: #008080; font-weight: bold\">0.561027484758616</span> z = <span style=\"color: #008080; text-decoration-color: #008080; font-weight: bold\">0.7824438680223544</span>                                         \n",
       "</pre>\n"
      ],
      "text/plain": [
       "param\u001b[1m[\u001b[0m\u001b[32m'nsteps'\u001b[0m\u001b[1m]\u001b[0m=\u001b[1;36m244\u001b[0m param\u001b[1m[\u001b[0m\u001b[32m'aexp'\u001b[0m\u001b[1m]\u001b[0m=\u001b[1;36m0.561027484758616\u001b[0m z = \u001b[1;36m0.7824438680223544\u001b[0m                                         \n"
      ]
     },
     "metadata": {},
     "output_type": "display_data"
    },
    {
     "data": {
      "text/html": [
       "<pre style=\"white-space:pre;overflow-x:auto;line-height:normal;font-family:Menlo,'DejaVu Sans Mono',consolas,'Courier New',monospace\">Write <span style=\"color: #800080; text-decoration-color: #800080; font-weight: bold\">P</span><span style=\"font-weight: bold\">(</span>k<span style=\"font-weight: bold\">)</span> in .<span style=\"color: #800080; text-decoration-color: #800080\">/boxlen100_n128_lcdmw7v2_00000//power/</span><span style=\"color: #ff00ff; text-decoration-color: #ff00ff\">pk_eft_multigrid_ncoarse7_00245.dat</span>                           \n",
       "</pre>\n"
      ],
      "text/plain": [
       "Write \u001b[1;35mP\u001b[0m\u001b[1m(\u001b[0mk\u001b[1m)\u001b[0m in .\u001b[35m/boxlen100_n128_lcdmw7v2_00000/\u001b[0m\u001b[35m/power/\u001b[0m\u001b[95mpk_eft_multigrid_ncoarse7_00245.dat\u001b[0m                           \n"
      ]
     },
     "metadata": {},
     "output_type": "display_data"
    },
    {
     "data": {
      "text/html": [
       "<pre style=\"white-space:pre;overflow-x:auto;line-height:normal;font-family:Menlo,'DejaVu Sans Mono',consolas,'Courier New',monospace\">param<span style=\"font-weight: bold\">[</span><span style=\"color: #008000; text-decoration-color: #008000\">'nsteps'</span><span style=\"font-weight: bold\">]</span>=<span style=\"color: #008080; text-decoration-color: #008080; font-weight: bold\">245</span> param<span style=\"font-weight: bold\">[</span><span style=\"color: #008000; text-decoration-color: #008000\">'aexp'</span><span style=\"font-weight: bold\">]</span>=<span style=\"color: #008080; text-decoration-color: #008080; font-weight: bold\">0.561027484758616</span> z = <span style=\"color: #008080; text-decoration-color: #008080; font-weight: bold\">0.7824438680223544</span>                                         \n",
       "</pre>\n"
      ],
      "text/plain": [
       "param\u001b[1m[\u001b[0m\u001b[32m'nsteps'\u001b[0m\u001b[1m]\u001b[0m=\u001b[1;36m245\u001b[0m param\u001b[1m[\u001b[0m\u001b[32m'aexp'\u001b[0m\u001b[1m]\u001b[0m=\u001b[1;36m0.561027484758616\u001b[0m z = \u001b[1;36m0.7824438680223544\u001b[0m                                         \n"
      ]
     },
     "metadata": {},
     "output_type": "display_data"
    },
    {
     "data": {
      "text/html": [
       "<pre style=\"white-space:pre;overflow-x:auto;line-height:normal;font-family:Menlo,'DejaVu Sans Mono',consolas,'Courier New',monospace\">Write <span style=\"color: #800080; text-decoration-color: #800080; font-weight: bold\">P</span><span style=\"font-weight: bold\">(</span>k<span style=\"font-weight: bold\">)</span> in .<span style=\"color: #800080; text-decoration-color: #800080\">/boxlen100_n128_lcdmw7v2_00000//power/</span><span style=\"color: #ff00ff; text-decoration-color: #ff00ff\">pk_eft_multigrid_ncoarse7_00246.dat</span>                           \n",
       "</pre>\n"
      ],
      "text/plain": [
       "Write \u001b[1;35mP\u001b[0m\u001b[1m(\u001b[0mk\u001b[1m)\u001b[0m in .\u001b[35m/boxlen100_n128_lcdmw7v2_00000/\u001b[0m\u001b[35m/power/\u001b[0m\u001b[95mpk_eft_multigrid_ncoarse7_00246.dat\u001b[0m                           \n"
      ]
     },
     "metadata": {},
     "output_type": "display_data"
    },
    {
     "data": {
      "text/html": [
       "<pre style=\"white-space:pre;overflow-x:auto;line-height:normal;font-family:Menlo,'DejaVu Sans Mono',consolas,'Courier New',monospace\">param<span style=\"font-weight: bold\">[</span><span style=\"color: #008000; text-decoration-color: #008000\">'nsteps'</span><span style=\"font-weight: bold\">]</span>=<span style=\"color: #008080; text-decoration-color: #008080; font-weight: bold\">246</span> param<span style=\"font-weight: bold\">[</span><span style=\"color: #008000; text-decoration-color: #008000\">'aexp'</span><span style=\"font-weight: bold\">]</span>=<span style=\"color: #008080; text-decoration-color: #008080; font-weight: bold\">0.561027484758616</span> z = <span style=\"color: #008080; text-decoration-color: #008080; font-weight: bold\">0.7824438680223544</span>                                         \n",
       "</pre>\n"
      ],
      "text/plain": [
       "param\u001b[1m[\u001b[0m\u001b[32m'nsteps'\u001b[0m\u001b[1m]\u001b[0m=\u001b[1;36m246\u001b[0m param\u001b[1m[\u001b[0m\u001b[32m'aexp'\u001b[0m\u001b[1m]\u001b[0m=\u001b[1;36m0.561027484758616\u001b[0m z = \u001b[1;36m0.7824438680223544\u001b[0m                                         \n"
      ]
     },
     "metadata": {},
     "output_type": "display_data"
    },
    {
     "data": {
      "text/html": [
       "<pre style=\"white-space:pre;overflow-x:auto;line-height:normal;font-family:Menlo,'DejaVu Sans Mono',consolas,'Courier New',monospace\">Write <span style=\"color: #800080; text-decoration-color: #800080; font-weight: bold\">P</span><span style=\"font-weight: bold\">(</span>k<span style=\"font-weight: bold\">)</span> in .<span style=\"color: #800080; text-decoration-color: #800080\">/boxlen100_n128_lcdmw7v2_00000//power/</span><span style=\"color: #ff00ff; text-decoration-color: #ff00ff\">pk_eft_multigrid_ncoarse7_00247.dat</span>                           \n",
       "</pre>\n"
      ],
      "text/plain": [
       "Write \u001b[1;35mP\u001b[0m\u001b[1m(\u001b[0mk\u001b[1m)\u001b[0m in .\u001b[35m/boxlen100_n128_lcdmw7v2_00000/\u001b[0m\u001b[35m/power/\u001b[0m\u001b[95mpk_eft_multigrid_ncoarse7_00247.dat\u001b[0m                           \n"
      ]
     },
     "metadata": {},
     "output_type": "display_data"
    },
    {
     "data": {
      "text/html": [
       "<pre style=\"white-space:pre;overflow-x:auto;line-height:normal;font-family:Menlo,'DejaVu Sans Mono',consolas,'Courier New',monospace\">param<span style=\"font-weight: bold\">[</span><span style=\"color: #008000; text-decoration-color: #008000\">'nsteps'</span><span style=\"font-weight: bold\">]</span>=<span style=\"color: #008080; text-decoration-color: #008080; font-weight: bold\">247</span> param<span style=\"font-weight: bold\">[</span><span style=\"color: #008000; text-decoration-color: #008000\">'aexp'</span><span style=\"font-weight: bold\">]</span>=<span style=\"color: #008080; text-decoration-color: #008080; font-weight: bold\">0.561027484758616</span> z = <span style=\"color: #008080; text-decoration-color: #008080; font-weight: bold\">0.7824438680223544</span>                                         \n",
       "</pre>\n"
      ],
      "text/plain": [
       "param\u001b[1m[\u001b[0m\u001b[32m'nsteps'\u001b[0m\u001b[1m]\u001b[0m=\u001b[1;36m247\u001b[0m param\u001b[1m[\u001b[0m\u001b[32m'aexp'\u001b[0m\u001b[1m]\u001b[0m=\u001b[1;36m0.561027484758616\u001b[0m z = \u001b[1;36m0.7824438680223544\u001b[0m                                         \n"
      ]
     },
     "metadata": {},
     "output_type": "display_data"
    },
    {
     "data": {
      "text/html": [
       "<pre style=\"white-space:pre;overflow-x:auto;line-height:normal;font-family:Menlo,'DejaVu Sans Mono',consolas,'Courier New',monospace\">Write <span style=\"color: #800080; text-decoration-color: #800080; font-weight: bold\">P</span><span style=\"font-weight: bold\">(</span>k<span style=\"font-weight: bold\">)</span> in .<span style=\"color: #800080; text-decoration-color: #800080\">/boxlen100_n128_lcdmw7v2_00000//power/</span><span style=\"color: #ff00ff; text-decoration-color: #ff00ff\">pk_eft_multigrid_ncoarse7_00248.dat</span>                           \n",
       "</pre>\n"
      ],
      "text/plain": [
       "Write \u001b[1;35mP\u001b[0m\u001b[1m(\u001b[0mk\u001b[1m)\u001b[0m in .\u001b[35m/boxlen100_n128_lcdmw7v2_00000/\u001b[0m\u001b[35m/power/\u001b[0m\u001b[95mpk_eft_multigrid_ncoarse7_00248.dat\u001b[0m                           \n"
      ]
     },
     "metadata": {},
     "output_type": "display_data"
    },
    {
     "data": {
      "text/html": [
       "<pre style=\"white-space:pre;overflow-x:auto;line-height:normal;font-family:Menlo,'DejaVu Sans Mono',consolas,'Courier New',monospace\">param<span style=\"font-weight: bold\">[</span><span style=\"color: #008000; text-decoration-color: #008000\">'nsteps'</span><span style=\"font-weight: bold\">]</span>=<span style=\"color: #008080; text-decoration-color: #008080; font-weight: bold\">248</span> param<span style=\"font-weight: bold\">[</span><span style=\"color: #008000; text-decoration-color: #008000\">'aexp'</span><span style=\"font-weight: bold\">]</span>=<span style=\"color: #008080; text-decoration-color: #008080; font-weight: bold\">0.561027484758616</span> z = <span style=\"color: #008080; text-decoration-color: #008080; font-weight: bold\">0.7824438680223544</span>                                         \n",
       "</pre>\n"
      ],
      "text/plain": [
       "param\u001b[1m[\u001b[0m\u001b[32m'nsteps'\u001b[0m\u001b[1m]\u001b[0m=\u001b[1;36m248\u001b[0m param\u001b[1m[\u001b[0m\u001b[32m'aexp'\u001b[0m\u001b[1m]\u001b[0m=\u001b[1;36m0.561027484758616\u001b[0m z = \u001b[1;36m0.7824438680223544\u001b[0m                                         \n"
      ]
     },
     "metadata": {},
     "output_type": "display_data"
    },
    {
     "data": {
      "text/html": [
       "<pre style=\"white-space:pre;overflow-x:auto;line-height:normal;font-family:Menlo,'DejaVu Sans Mono',consolas,'Courier New',monospace\">Write <span style=\"color: #800080; text-decoration-color: #800080; font-weight: bold\">P</span><span style=\"font-weight: bold\">(</span>k<span style=\"font-weight: bold\">)</span> in .<span style=\"color: #800080; text-decoration-color: #800080\">/boxlen100_n128_lcdmw7v2_00000//power/</span><span style=\"color: #ff00ff; text-decoration-color: #ff00ff\">pk_eft_multigrid_ncoarse7_00249.dat</span>                           \n",
       "</pre>\n"
      ],
      "text/plain": [
       "Write \u001b[1;35mP\u001b[0m\u001b[1m(\u001b[0mk\u001b[1m)\u001b[0m in .\u001b[35m/boxlen100_n128_lcdmw7v2_00000/\u001b[0m\u001b[35m/power/\u001b[0m\u001b[95mpk_eft_multigrid_ncoarse7_00249.dat\u001b[0m                           \n"
      ]
     },
     "metadata": {},
     "output_type": "display_data"
    },
    {
     "data": {
      "text/html": [
       "<pre style=\"white-space:pre;overflow-x:auto;line-height:normal;font-family:Menlo,'DejaVu Sans Mono',consolas,'Courier New',monospace\">param<span style=\"font-weight: bold\">[</span><span style=\"color: #008000; text-decoration-color: #008000\">'nsteps'</span><span style=\"font-weight: bold\">]</span>=<span style=\"color: #008080; text-decoration-color: #008080; font-weight: bold\">249</span> param<span style=\"font-weight: bold\">[</span><span style=\"color: #008000; text-decoration-color: #008000\">'aexp'</span><span style=\"font-weight: bold\">]</span>=<span style=\"color: #008080; text-decoration-color: #008080; font-weight: bold\">0.561027484758616</span> z = <span style=\"color: #008080; text-decoration-color: #008080; font-weight: bold\">0.7824438680223544</span>                                         \n",
       "</pre>\n"
      ],
      "text/plain": [
       "param\u001b[1m[\u001b[0m\u001b[32m'nsteps'\u001b[0m\u001b[1m]\u001b[0m=\u001b[1;36m249\u001b[0m param\u001b[1m[\u001b[0m\u001b[32m'aexp'\u001b[0m\u001b[1m]\u001b[0m=\u001b[1;36m0.561027484758616\u001b[0m z = \u001b[1;36m0.7824438680223544\u001b[0m                                         \n"
      ]
     },
     "metadata": {},
     "output_type": "display_data"
    },
    {
     "data": {
      "text/html": [
       "<pre style=\"white-space:pre;overflow-x:auto;line-height:normal;font-family:Menlo,'DejaVu Sans Mono',consolas,'Courier New',monospace\">Write <span style=\"color: #800080; text-decoration-color: #800080; font-weight: bold\">P</span><span style=\"font-weight: bold\">(</span>k<span style=\"font-weight: bold\">)</span> in .<span style=\"color: #800080; text-decoration-color: #800080\">/boxlen100_n128_lcdmw7v2_00000//power/</span><span style=\"color: #ff00ff; text-decoration-color: #ff00ff\">pk_eft_multigrid_ncoarse7_00250.dat</span>                           \n",
       "</pre>\n"
      ],
      "text/plain": [
       "Write \u001b[1;35mP\u001b[0m\u001b[1m(\u001b[0mk\u001b[1m)\u001b[0m in .\u001b[35m/boxlen100_n128_lcdmw7v2_00000/\u001b[0m\u001b[35m/power/\u001b[0m\u001b[95mpk_eft_multigrid_ncoarse7_00250.dat\u001b[0m                           \n"
      ]
     },
     "metadata": {},
     "output_type": "display_data"
    },
    {
     "data": {
      "text/html": [
       "<pre style=\"white-space:pre;overflow-x:auto;line-height:normal;font-family:Menlo,'DejaVu Sans Mono',consolas,'Courier New',monospace\">param<span style=\"font-weight: bold\">[</span><span style=\"color: #008000; text-decoration-color: #008000\">'nsteps'</span><span style=\"font-weight: bold\">]</span>=<span style=\"color: #008080; text-decoration-color: #008080; font-weight: bold\">250</span> param<span style=\"font-weight: bold\">[</span><span style=\"color: #008000; text-decoration-color: #008000\">'aexp'</span><span style=\"font-weight: bold\">]</span>=<span style=\"color: #008080; text-decoration-color: #008080; font-weight: bold\">0.561027484758616</span> z = <span style=\"color: #008080; text-decoration-color: #008080; font-weight: bold\">0.7824438680223544</span>                                         \n",
       "</pre>\n"
      ],
      "text/plain": [
       "param\u001b[1m[\u001b[0m\u001b[32m'nsteps'\u001b[0m\u001b[1m]\u001b[0m=\u001b[1;36m250\u001b[0m param\u001b[1m[\u001b[0m\u001b[32m'aexp'\u001b[0m\u001b[1m]\u001b[0m=\u001b[1;36m0.561027484758616\u001b[0m z = \u001b[1;36m0.7824438680223544\u001b[0m                                         \n"
      ]
     },
     "metadata": {},
     "output_type": "display_data"
    },
    {
     "data": {
      "text/html": [
       "<pre style=\"white-space:pre;overflow-x:auto;line-height:normal;font-family:Menlo,'DejaVu Sans Mono',consolas,'Courier New',monospace\">Write <span style=\"color: #800080; text-decoration-color: #800080; font-weight: bold\">P</span><span style=\"font-weight: bold\">(</span>k<span style=\"font-weight: bold\">)</span> in .<span style=\"color: #800080; text-decoration-color: #800080\">/boxlen100_n128_lcdmw7v2_00000//power/</span><span style=\"color: #ff00ff; text-decoration-color: #ff00ff\">pk_eft_multigrid_ncoarse7_00251.dat</span>                           \n",
       "</pre>\n"
      ],
      "text/plain": [
       "Write \u001b[1;35mP\u001b[0m\u001b[1m(\u001b[0mk\u001b[1m)\u001b[0m in .\u001b[35m/boxlen100_n128_lcdmw7v2_00000/\u001b[0m\u001b[35m/power/\u001b[0m\u001b[95mpk_eft_multigrid_ncoarse7_00251.dat\u001b[0m                           \n"
      ]
     },
     "metadata": {},
     "output_type": "display_data"
    },
    {
     "data": {
      "text/html": [
       "<pre style=\"white-space:pre;overflow-x:auto;line-height:normal;font-family:Menlo,'DejaVu Sans Mono',consolas,'Courier New',monospace\">param<span style=\"font-weight: bold\">[</span><span style=\"color: #008000; text-decoration-color: #008000\">'nsteps'</span><span style=\"font-weight: bold\">]</span>=<span style=\"color: #008080; text-decoration-color: #008080; font-weight: bold\">251</span> param<span style=\"font-weight: bold\">[</span><span style=\"color: #008000; text-decoration-color: #008000\">'aexp'</span><span style=\"font-weight: bold\">]</span>=<span style=\"color: #008080; text-decoration-color: #008080; font-weight: bold\">0.561027484758616</span> z = <span style=\"color: #008080; text-decoration-color: #008080; font-weight: bold\">0.7824438680223544</span>                                         \n",
       "</pre>\n"
      ],
      "text/plain": [
       "param\u001b[1m[\u001b[0m\u001b[32m'nsteps'\u001b[0m\u001b[1m]\u001b[0m=\u001b[1;36m251\u001b[0m param\u001b[1m[\u001b[0m\u001b[32m'aexp'\u001b[0m\u001b[1m]\u001b[0m=\u001b[1;36m0.561027484758616\u001b[0m z = \u001b[1;36m0.7824438680223544\u001b[0m                                         \n"
      ]
     },
     "metadata": {},
     "output_type": "display_data"
    },
    {
     "data": {
      "text/html": [
       "<pre style=\"white-space:pre;overflow-x:auto;line-height:normal;font-family:Menlo,'DejaVu Sans Mono',consolas,'Courier New',monospace\">Write <span style=\"color: #800080; text-decoration-color: #800080; font-weight: bold\">P</span><span style=\"font-weight: bold\">(</span>k<span style=\"font-weight: bold\">)</span> in .<span style=\"color: #800080; text-decoration-color: #800080\">/boxlen100_n128_lcdmw7v2_00000//power/</span><span style=\"color: #ff00ff; text-decoration-color: #ff00ff\">pk_eft_multigrid_ncoarse7_00252.dat</span>                           \n",
       "</pre>\n"
      ],
      "text/plain": [
       "Write \u001b[1;35mP\u001b[0m\u001b[1m(\u001b[0mk\u001b[1m)\u001b[0m in .\u001b[35m/boxlen100_n128_lcdmw7v2_00000/\u001b[0m\u001b[35m/power/\u001b[0m\u001b[95mpk_eft_multigrid_ncoarse7_00252.dat\u001b[0m                           \n"
      ]
     },
     "metadata": {},
     "output_type": "display_data"
    },
    {
     "data": {
      "text/html": [
       "<pre style=\"white-space:pre;overflow-x:auto;line-height:normal;font-family:Menlo,'DejaVu Sans Mono',consolas,'Courier New',monospace\">param<span style=\"font-weight: bold\">[</span><span style=\"color: #008000; text-decoration-color: #008000\">'nsteps'</span><span style=\"font-weight: bold\">]</span>=<span style=\"color: #008080; text-decoration-color: #008080; font-weight: bold\">252</span> param<span style=\"font-weight: bold\">[</span><span style=\"color: #008000; text-decoration-color: #008000\">'aexp'</span><span style=\"font-weight: bold\">]</span>=<span style=\"color: #008080; text-decoration-color: #008080; font-weight: bold\">0.561027484758616</span> z = <span style=\"color: #008080; text-decoration-color: #008080; font-weight: bold\">0.7824438680223544</span>                                         \n",
       "</pre>\n"
      ],
      "text/plain": [
       "param\u001b[1m[\u001b[0m\u001b[32m'nsteps'\u001b[0m\u001b[1m]\u001b[0m=\u001b[1;36m252\u001b[0m param\u001b[1m[\u001b[0m\u001b[32m'aexp'\u001b[0m\u001b[1m]\u001b[0m=\u001b[1;36m0.561027484758616\u001b[0m z = \u001b[1;36m0.7824438680223544\u001b[0m                                         \n"
      ]
     },
     "metadata": {},
     "output_type": "display_data"
    },
    {
     "data": {
      "text/html": [
       "<pre style=\"white-space:pre;overflow-x:auto;line-height:normal;font-family:Menlo,'DejaVu Sans Mono',consolas,'Courier New',monospace\">Write <span style=\"color: #800080; text-decoration-color: #800080; font-weight: bold\">P</span><span style=\"font-weight: bold\">(</span>k<span style=\"font-weight: bold\">)</span> in .<span style=\"color: #800080; text-decoration-color: #800080\">/boxlen100_n128_lcdmw7v2_00000//power/</span><span style=\"color: #ff00ff; text-decoration-color: #ff00ff\">pk_eft_multigrid_ncoarse7_00253.dat</span>                           \n",
       "</pre>\n"
      ],
      "text/plain": [
       "Write \u001b[1;35mP\u001b[0m\u001b[1m(\u001b[0mk\u001b[1m)\u001b[0m in .\u001b[35m/boxlen100_n128_lcdmw7v2_00000/\u001b[0m\u001b[35m/power/\u001b[0m\u001b[95mpk_eft_multigrid_ncoarse7_00253.dat\u001b[0m                           \n"
      ]
     },
     "metadata": {},
     "output_type": "display_data"
    },
    {
     "data": {
      "text/html": [
       "<pre style=\"white-space:pre;overflow-x:auto;line-height:normal;font-family:Menlo,'DejaVu Sans Mono',consolas,'Courier New',monospace\">param<span style=\"font-weight: bold\">[</span><span style=\"color: #008000; text-decoration-color: #008000\">'nsteps'</span><span style=\"font-weight: bold\">]</span>=<span style=\"color: #008080; text-decoration-color: #008080; font-weight: bold\">253</span> param<span style=\"font-weight: bold\">[</span><span style=\"color: #008000; text-decoration-color: #008000\">'aexp'</span><span style=\"font-weight: bold\">]</span>=<span style=\"color: #008080; text-decoration-color: #008080; font-weight: bold\">0.561027484758616</span> z = <span style=\"color: #008080; text-decoration-color: #008080; font-weight: bold\">0.7824438680223544</span>                                         \n",
       "</pre>\n"
      ],
      "text/plain": [
       "param\u001b[1m[\u001b[0m\u001b[32m'nsteps'\u001b[0m\u001b[1m]\u001b[0m=\u001b[1;36m253\u001b[0m param\u001b[1m[\u001b[0m\u001b[32m'aexp'\u001b[0m\u001b[1m]\u001b[0m=\u001b[1;36m0.561027484758616\u001b[0m z = \u001b[1;36m0.7824438680223544\u001b[0m                                         \n"
      ]
     },
     "metadata": {},
     "output_type": "display_data"
    },
    {
     "data": {
      "text/html": [
       "<pre style=\"white-space:pre;overflow-x:auto;line-height:normal;font-family:Menlo,'DejaVu Sans Mono',consolas,'Courier New',monospace\">Write <span style=\"color: #800080; text-decoration-color: #800080; font-weight: bold\">P</span><span style=\"font-weight: bold\">(</span>k<span style=\"font-weight: bold\">)</span> in .<span style=\"color: #800080; text-decoration-color: #800080\">/boxlen100_n128_lcdmw7v2_00000//power/</span><span style=\"color: #ff00ff; text-decoration-color: #ff00ff\">pk_eft_multigrid_ncoarse7_00254.dat</span>                           \n",
       "</pre>\n"
      ],
      "text/plain": [
       "Write \u001b[1;35mP\u001b[0m\u001b[1m(\u001b[0mk\u001b[1m)\u001b[0m in .\u001b[35m/boxlen100_n128_lcdmw7v2_00000/\u001b[0m\u001b[35m/power/\u001b[0m\u001b[95mpk_eft_multigrid_ncoarse7_00254.dat\u001b[0m                           \n"
      ]
     },
     "metadata": {},
     "output_type": "display_data"
    },
    {
     "data": {
      "text/html": [
       "<pre style=\"white-space:pre;overflow-x:auto;line-height:normal;font-family:Menlo,'DejaVu Sans Mono',consolas,'Courier New',monospace\">param<span style=\"font-weight: bold\">[</span><span style=\"color: #008000; text-decoration-color: #008000\">'nsteps'</span><span style=\"font-weight: bold\">]</span>=<span style=\"color: #008080; text-decoration-color: #008080; font-weight: bold\">254</span> param<span style=\"font-weight: bold\">[</span><span style=\"color: #008000; text-decoration-color: #008000\">'aexp'</span><span style=\"font-weight: bold\">]</span>=<span style=\"color: #008080; text-decoration-color: #008080; font-weight: bold\">0.561027484758616</span> z = <span style=\"color: #008080; text-decoration-color: #008080; font-weight: bold\">0.7824438680223544</span>                                         \n",
       "</pre>\n"
      ],
      "text/plain": [
       "param\u001b[1m[\u001b[0m\u001b[32m'nsteps'\u001b[0m\u001b[1m]\u001b[0m=\u001b[1;36m254\u001b[0m param\u001b[1m[\u001b[0m\u001b[32m'aexp'\u001b[0m\u001b[1m]\u001b[0m=\u001b[1;36m0.561027484758616\u001b[0m z = \u001b[1;36m0.7824438680223544\u001b[0m                                         \n"
      ]
     },
     "metadata": {},
     "output_type": "display_data"
    },
    {
     "data": {
      "text/html": [
       "<pre style=\"white-space:pre;overflow-x:auto;line-height:normal;font-family:Menlo,'DejaVu Sans Mono',consolas,'Courier New',monospace\">Write <span style=\"color: #800080; text-decoration-color: #800080; font-weight: bold\">P</span><span style=\"font-weight: bold\">(</span>k<span style=\"font-weight: bold\">)</span> in .<span style=\"color: #800080; text-decoration-color: #800080\">/boxlen100_n128_lcdmw7v2_00000//power/</span><span style=\"color: #ff00ff; text-decoration-color: #ff00ff\">pk_eft_multigrid_ncoarse7_00255.dat</span>                           \n",
       "</pre>\n"
      ],
      "text/plain": [
       "Write \u001b[1;35mP\u001b[0m\u001b[1m(\u001b[0mk\u001b[1m)\u001b[0m in .\u001b[35m/boxlen100_n128_lcdmw7v2_00000/\u001b[0m\u001b[35m/power/\u001b[0m\u001b[95mpk_eft_multigrid_ncoarse7_00255.dat\u001b[0m                           \n"
      ]
     },
     "metadata": {},
     "output_type": "display_data"
    },
    {
     "data": {
      "text/html": [
       "<pre style=\"white-space:pre;overflow-x:auto;line-height:normal;font-family:Menlo,'DejaVu Sans Mono',consolas,'Courier New',monospace\">param<span style=\"font-weight: bold\">[</span><span style=\"color: #008000; text-decoration-color: #008000\">'nsteps'</span><span style=\"font-weight: bold\">]</span>=<span style=\"color: #008080; text-decoration-color: #008080; font-weight: bold\">255</span> param<span style=\"font-weight: bold\">[</span><span style=\"color: #008000; text-decoration-color: #008000\">'aexp'</span><span style=\"font-weight: bold\">]</span>=<span style=\"color: #008080; text-decoration-color: #008080; font-weight: bold\">0.561027484758616</span> z = <span style=\"color: #008080; text-decoration-color: #008080; font-weight: bold\">0.7824438680223544</span>                                         \n",
       "</pre>\n"
      ],
      "text/plain": [
       "param\u001b[1m[\u001b[0m\u001b[32m'nsteps'\u001b[0m\u001b[1m]\u001b[0m=\u001b[1;36m255\u001b[0m param\u001b[1m[\u001b[0m\u001b[32m'aexp'\u001b[0m\u001b[1m]\u001b[0m=\u001b[1;36m0.561027484758616\u001b[0m z = \u001b[1;36m0.7824438680223544\u001b[0m                                         \n"
      ]
     },
     "metadata": {},
     "output_type": "display_data"
    },
    {
     "data": {
      "text/html": [
       "<pre style=\"white-space:pre;overflow-x:auto;line-height:normal;font-family:Menlo,'DejaVu Sans Mono',consolas,'Courier New',monospace\">Write <span style=\"color: #800080; text-decoration-color: #800080; font-weight: bold\">P</span><span style=\"font-weight: bold\">(</span>k<span style=\"font-weight: bold\">)</span> in .<span style=\"color: #800080; text-decoration-color: #800080\">/boxlen100_n128_lcdmw7v2_00000//power/</span><span style=\"color: #ff00ff; text-decoration-color: #ff00ff\">pk_eft_multigrid_ncoarse7_00256.dat</span>                           \n",
       "</pre>\n"
      ],
      "text/plain": [
       "Write \u001b[1;35mP\u001b[0m\u001b[1m(\u001b[0mk\u001b[1m)\u001b[0m in .\u001b[35m/boxlen100_n128_lcdmw7v2_00000/\u001b[0m\u001b[35m/power/\u001b[0m\u001b[95mpk_eft_multigrid_ncoarse7_00256.dat\u001b[0m                           \n"
      ]
     },
     "metadata": {},
     "output_type": "display_data"
    },
    {
     "data": {
      "text/html": [
       "<pre style=\"white-space:pre;overflow-x:auto;line-height:normal;font-family:Menlo,'DejaVu Sans Mono',consolas,'Courier New',monospace\">param<span style=\"font-weight: bold\">[</span><span style=\"color: #008000; text-decoration-color: #008000\">'nsteps'</span><span style=\"font-weight: bold\">]</span>=<span style=\"color: #008080; text-decoration-color: #008080; font-weight: bold\">256</span> param<span style=\"font-weight: bold\">[</span><span style=\"color: #008000; text-decoration-color: #008000\">'aexp'</span><span style=\"font-weight: bold\">]</span>=<span style=\"color: #008080; text-decoration-color: #008080; font-weight: bold\">0.561027484758616</span> z = <span style=\"color: #008080; text-decoration-color: #008080; font-weight: bold\">0.7824438680223544</span>                                         \n",
       "</pre>\n"
      ],
      "text/plain": [
       "param\u001b[1m[\u001b[0m\u001b[32m'nsteps'\u001b[0m\u001b[1m]\u001b[0m=\u001b[1;36m256\u001b[0m param\u001b[1m[\u001b[0m\u001b[32m'aexp'\u001b[0m\u001b[1m]\u001b[0m=\u001b[1;36m0.561027484758616\u001b[0m z = \u001b[1;36m0.7824438680223544\u001b[0m                                         \n"
      ]
     },
     "metadata": {},
     "output_type": "display_data"
    },
    {
     "data": {
      "text/html": [
       "<pre style=\"white-space:pre;overflow-x:auto;line-height:normal;font-family:Menlo,'DejaVu Sans Mono',consolas,'Courier New',monospace\">Write <span style=\"color: #800080; text-decoration-color: #800080; font-weight: bold\">P</span><span style=\"font-weight: bold\">(</span>k<span style=\"font-weight: bold\">)</span> in .<span style=\"color: #800080; text-decoration-color: #800080\">/boxlen100_n128_lcdmw7v2_00000//power/</span><span style=\"color: #ff00ff; text-decoration-color: #ff00ff\">pk_eft_multigrid_ncoarse7_00257.dat</span>                           \n",
       "</pre>\n"
      ],
      "text/plain": [
       "Write \u001b[1;35mP\u001b[0m\u001b[1m(\u001b[0mk\u001b[1m)\u001b[0m in .\u001b[35m/boxlen100_n128_lcdmw7v2_00000/\u001b[0m\u001b[35m/power/\u001b[0m\u001b[95mpk_eft_multigrid_ncoarse7_00257.dat\u001b[0m                           \n"
      ]
     },
     "metadata": {},
     "output_type": "display_data"
    },
    {
     "data": {
      "text/html": [
       "<pre style=\"white-space:pre;overflow-x:auto;line-height:normal;font-family:Menlo,'DejaVu Sans Mono',consolas,'Courier New',monospace\">param<span style=\"font-weight: bold\">[</span><span style=\"color: #008000; text-decoration-color: #008000\">'nsteps'</span><span style=\"font-weight: bold\">]</span>=<span style=\"color: #008080; text-decoration-color: #008080; font-weight: bold\">257</span> param<span style=\"font-weight: bold\">[</span><span style=\"color: #008000; text-decoration-color: #008000\">'aexp'</span><span style=\"font-weight: bold\">]</span>=<span style=\"color: #008080; text-decoration-color: #008080; font-weight: bold\">0.561027484758616</span> z = <span style=\"color: #008080; text-decoration-color: #008080; font-weight: bold\">0.7824438680223544</span>                                         \n",
       "</pre>\n"
      ],
      "text/plain": [
       "param\u001b[1m[\u001b[0m\u001b[32m'nsteps'\u001b[0m\u001b[1m]\u001b[0m=\u001b[1;36m257\u001b[0m param\u001b[1m[\u001b[0m\u001b[32m'aexp'\u001b[0m\u001b[1m]\u001b[0m=\u001b[1;36m0.561027484758616\u001b[0m z = \u001b[1;36m0.7824438680223544\u001b[0m                                         \n"
      ]
     },
     "metadata": {},
     "output_type": "display_data"
    },
    {
     "data": {
      "text/html": [
       "<pre style=\"white-space:pre;overflow-x:auto;line-height:normal;font-family:Menlo,'DejaVu Sans Mono',consolas,'Courier New',monospace\">Write <span style=\"color: #800080; text-decoration-color: #800080; font-weight: bold\">P</span><span style=\"font-weight: bold\">(</span>k<span style=\"font-weight: bold\">)</span> in .<span style=\"color: #800080; text-decoration-color: #800080\">/boxlen100_n128_lcdmw7v2_00000//power/</span><span style=\"color: #ff00ff; text-decoration-color: #ff00ff\">pk_eft_multigrid_ncoarse7_00258.dat</span>                           \n",
       "</pre>\n"
      ],
      "text/plain": [
       "Write \u001b[1;35mP\u001b[0m\u001b[1m(\u001b[0mk\u001b[1m)\u001b[0m in .\u001b[35m/boxlen100_n128_lcdmw7v2_00000/\u001b[0m\u001b[35m/power/\u001b[0m\u001b[95mpk_eft_multigrid_ncoarse7_00258.dat\u001b[0m                           \n"
      ]
     },
     "metadata": {},
     "output_type": "display_data"
    },
    {
     "data": {
      "text/html": [
       "<pre style=\"white-space:pre;overflow-x:auto;line-height:normal;font-family:Menlo,'DejaVu Sans Mono',consolas,'Courier New',monospace\">param<span style=\"font-weight: bold\">[</span><span style=\"color: #008000; text-decoration-color: #008000\">'nsteps'</span><span style=\"font-weight: bold\">]</span>=<span style=\"color: #008080; text-decoration-color: #008080; font-weight: bold\">258</span> param<span style=\"font-weight: bold\">[</span><span style=\"color: #008000; text-decoration-color: #008000\">'aexp'</span><span style=\"font-weight: bold\">]</span>=<span style=\"color: #008080; text-decoration-color: #008080; font-weight: bold\">0.561027484758616</span> z = <span style=\"color: #008080; text-decoration-color: #008080; font-weight: bold\">0.7824438680223544</span>                                         \n",
       "</pre>\n"
      ],
      "text/plain": [
       "param\u001b[1m[\u001b[0m\u001b[32m'nsteps'\u001b[0m\u001b[1m]\u001b[0m=\u001b[1;36m258\u001b[0m param\u001b[1m[\u001b[0m\u001b[32m'aexp'\u001b[0m\u001b[1m]\u001b[0m=\u001b[1;36m0.561027484758616\u001b[0m z = \u001b[1;36m0.7824438680223544\u001b[0m                                         \n"
      ]
     },
     "metadata": {},
     "output_type": "display_data"
    },
    {
     "data": {
      "text/html": [
       "<pre style=\"white-space:pre;overflow-x:auto;line-height:normal;font-family:Menlo,'DejaVu Sans Mono',consolas,'Courier New',monospace\">Write <span style=\"color: #800080; text-decoration-color: #800080; font-weight: bold\">P</span><span style=\"font-weight: bold\">(</span>k<span style=\"font-weight: bold\">)</span> in .<span style=\"color: #800080; text-decoration-color: #800080\">/boxlen100_n128_lcdmw7v2_00000//power/</span><span style=\"color: #ff00ff; text-decoration-color: #ff00ff\">pk_eft_multigrid_ncoarse7_00259.dat</span>                           \n",
       "</pre>\n"
      ],
      "text/plain": [
       "Write \u001b[1;35mP\u001b[0m\u001b[1m(\u001b[0mk\u001b[1m)\u001b[0m in .\u001b[35m/boxlen100_n128_lcdmw7v2_00000/\u001b[0m\u001b[35m/power/\u001b[0m\u001b[95mpk_eft_multigrid_ncoarse7_00259.dat\u001b[0m                           \n"
      ]
     },
     "metadata": {},
     "output_type": "display_data"
    },
    {
     "data": {
      "text/html": [
       "<pre style=\"white-space:pre;overflow-x:auto;line-height:normal;font-family:Menlo,'DejaVu Sans Mono',consolas,'Courier New',monospace\">param<span style=\"font-weight: bold\">[</span><span style=\"color: #008000; text-decoration-color: #008000\">'nsteps'</span><span style=\"font-weight: bold\">]</span>=<span style=\"color: #008080; text-decoration-color: #008080; font-weight: bold\">259</span> param<span style=\"font-weight: bold\">[</span><span style=\"color: #008000; text-decoration-color: #008000\">'aexp'</span><span style=\"font-weight: bold\">]</span>=<span style=\"color: #008080; text-decoration-color: #008080; font-weight: bold\">0.561027484758616</span> z = <span style=\"color: #008080; text-decoration-color: #008080; font-weight: bold\">0.7824438680223544</span>                                         \n",
       "</pre>\n"
      ],
      "text/plain": [
       "param\u001b[1m[\u001b[0m\u001b[32m'nsteps'\u001b[0m\u001b[1m]\u001b[0m=\u001b[1;36m259\u001b[0m param\u001b[1m[\u001b[0m\u001b[32m'aexp'\u001b[0m\u001b[1m]\u001b[0m=\u001b[1;36m0.561027484758616\u001b[0m z = \u001b[1;36m0.7824438680223544\u001b[0m                                         \n"
      ]
     },
     "metadata": {},
     "output_type": "display_data"
    },
    {
     "data": {
      "text/html": [
       "<pre style=\"white-space:pre;overflow-x:auto;line-height:normal;font-family:Menlo,'DejaVu Sans Mono',consolas,'Courier New',monospace\">Write <span style=\"color: #800080; text-decoration-color: #800080; font-weight: bold\">P</span><span style=\"font-weight: bold\">(</span>k<span style=\"font-weight: bold\">)</span> in .<span style=\"color: #800080; text-decoration-color: #800080\">/boxlen100_n128_lcdmw7v2_00000//power/</span><span style=\"color: #ff00ff; text-decoration-color: #ff00ff\">pk_eft_multigrid_ncoarse7_00260.dat</span>                           \n",
       "</pre>\n"
      ],
      "text/plain": [
       "Write \u001b[1;35mP\u001b[0m\u001b[1m(\u001b[0mk\u001b[1m)\u001b[0m in .\u001b[35m/boxlen100_n128_lcdmw7v2_00000/\u001b[0m\u001b[35m/power/\u001b[0m\u001b[95mpk_eft_multigrid_ncoarse7_00260.dat\u001b[0m                           \n"
      ]
     },
     "metadata": {},
     "output_type": "display_data"
    },
    {
     "data": {
      "text/html": [
       "<pre style=\"white-space:pre;overflow-x:auto;line-height:normal;font-family:Menlo,'DejaVu Sans Mono',consolas,'Courier New',monospace\">param<span style=\"font-weight: bold\">[</span><span style=\"color: #008000; text-decoration-color: #008000\">'nsteps'</span><span style=\"font-weight: bold\">]</span>=<span style=\"color: #008080; text-decoration-color: #008080; font-weight: bold\">260</span> param<span style=\"font-weight: bold\">[</span><span style=\"color: #008000; text-decoration-color: #008000\">'aexp'</span><span style=\"font-weight: bold\">]</span>=<span style=\"color: #008080; text-decoration-color: #008080; font-weight: bold\">0.561027484758616</span> z = <span style=\"color: #008080; text-decoration-color: #008080; font-weight: bold\">0.7824438680223544</span>                                         \n",
       "</pre>\n"
      ],
      "text/plain": [
       "param\u001b[1m[\u001b[0m\u001b[32m'nsteps'\u001b[0m\u001b[1m]\u001b[0m=\u001b[1;36m260\u001b[0m param\u001b[1m[\u001b[0m\u001b[32m'aexp'\u001b[0m\u001b[1m]\u001b[0m=\u001b[1;36m0.561027484758616\u001b[0m z = \u001b[1;36m0.7824438680223544\u001b[0m                                         \n"
      ]
     },
     "metadata": {},
     "output_type": "display_data"
    },
    {
     "data": {
      "text/html": [
       "<pre style=\"white-space:pre;overflow-x:auto;line-height:normal;font-family:Menlo,'DejaVu Sans Mono',consolas,'Courier New',monospace\">Write <span style=\"color: #800080; text-decoration-color: #800080; font-weight: bold\">P</span><span style=\"font-weight: bold\">(</span>k<span style=\"font-weight: bold\">)</span> in .<span style=\"color: #800080; text-decoration-color: #800080\">/boxlen100_n128_lcdmw7v2_00000//power/</span><span style=\"color: #ff00ff; text-decoration-color: #ff00ff\">pk_eft_multigrid_ncoarse7_00261.dat</span>                           \n",
       "</pre>\n"
      ],
      "text/plain": [
       "Write \u001b[1;35mP\u001b[0m\u001b[1m(\u001b[0mk\u001b[1m)\u001b[0m in .\u001b[35m/boxlen100_n128_lcdmw7v2_00000/\u001b[0m\u001b[35m/power/\u001b[0m\u001b[95mpk_eft_multigrid_ncoarse7_00261.dat\u001b[0m                           \n"
      ]
     },
     "metadata": {},
     "output_type": "display_data"
    },
    {
     "data": {
      "text/html": [
       "<pre style=\"white-space:pre;overflow-x:auto;line-height:normal;font-family:Menlo,'DejaVu Sans Mono',consolas,'Courier New',monospace\">param<span style=\"font-weight: bold\">[</span><span style=\"color: #008000; text-decoration-color: #008000\">'nsteps'</span><span style=\"font-weight: bold\">]</span>=<span style=\"color: #008080; text-decoration-color: #008080; font-weight: bold\">261</span> param<span style=\"font-weight: bold\">[</span><span style=\"color: #008000; text-decoration-color: #008000\">'aexp'</span><span style=\"font-weight: bold\">]</span>=<span style=\"color: #008080; text-decoration-color: #008080; font-weight: bold\">0.561027484758616</span> z = <span style=\"color: #008080; text-decoration-color: #008080; font-weight: bold\">0.7824438680223544</span>                                         \n",
       "</pre>\n"
      ],
      "text/plain": [
       "param\u001b[1m[\u001b[0m\u001b[32m'nsteps'\u001b[0m\u001b[1m]\u001b[0m=\u001b[1;36m261\u001b[0m param\u001b[1m[\u001b[0m\u001b[32m'aexp'\u001b[0m\u001b[1m]\u001b[0m=\u001b[1;36m0.561027484758616\u001b[0m z = \u001b[1;36m0.7824438680223544\u001b[0m                                         \n"
      ]
     },
     "metadata": {},
     "output_type": "display_data"
    },
    {
     "data": {
      "text/html": [
       "<pre style=\"white-space:pre;overflow-x:auto;line-height:normal;font-family:Menlo,'DejaVu Sans Mono',consolas,'Courier New',monospace\">Write <span style=\"color: #800080; text-decoration-color: #800080; font-weight: bold\">P</span><span style=\"font-weight: bold\">(</span>k<span style=\"font-weight: bold\">)</span> in .<span style=\"color: #800080; text-decoration-color: #800080\">/boxlen100_n128_lcdmw7v2_00000//power/</span><span style=\"color: #ff00ff; text-decoration-color: #ff00ff\">pk_eft_multigrid_ncoarse7_00262.dat</span>                           \n",
       "</pre>\n"
      ],
      "text/plain": [
       "Write \u001b[1;35mP\u001b[0m\u001b[1m(\u001b[0mk\u001b[1m)\u001b[0m in .\u001b[35m/boxlen100_n128_lcdmw7v2_00000/\u001b[0m\u001b[35m/power/\u001b[0m\u001b[95mpk_eft_multigrid_ncoarse7_00262.dat\u001b[0m                           \n"
      ]
     },
     "metadata": {},
     "output_type": "display_data"
    },
    {
     "data": {
      "text/html": [
       "<pre style=\"white-space:pre;overflow-x:auto;line-height:normal;font-family:Menlo,'DejaVu Sans Mono',consolas,'Courier New',monospace\">param<span style=\"font-weight: bold\">[</span><span style=\"color: #008000; text-decoration-color: #008000\">'nsteps'</span><span style=\"font-weight: bold\">]</span>=<span style=\"color: #008080; text-decoration-color: #008080; font-weight: bold\">262</span> param<span style=\"font-weight: bold\">[</span><span style=\"color: #008000; text-decoration-color: #008000\">'aexp'</span><span style=\"font-weight: bold\">]</span>=<span style=\"color: #008080; text-decoration-color: #008080; font-weight: bold\">0.561027484758616</span> z = <span style=\"color: #008080; text-decoration-color: #008080; font-weight: bold\">0.7824438680223544</span>                                         \n",
       "</pre>\n"
      ],
      "text/plain": [
       "param\u001b[1m[\u001b[0m\u001b[32m'nsteps'\u001b[0m\u001b[1m]\u001b[0m=\u001b[1;36m262\u001b[0m param\u001b[1m[\u001b[0m\u001b[32m'aexp'\u001b[0m\u001b[1m]\u001b[0m=\u001b[1;36m0.561027484758616\u001b[0m z = \u001b[1;36m0.7824438680223544\u001b[0m                                         \n"
      ]
     },
     "metadata": {},
     "output_type": "display_data"
    },
    {
     "data": {
      "text/html": [
       "<pre style=\"white-space:pre;overflow-x:auto;line-height:normal;font-family:Menlo,'DejaVu Sans Mono',consolas,'Courier New',monospace\">Write <span style=\"color: #800080; text-decoration-color: #800080; font-weight: bold\">P</span><span style=\"font-weight: bold\">(</span>k<span style=\"font-weight: bold\">)</span> in .<span style=\"color: #800080; text-decoration-color: #800080\">/boxlen100_n128_lcdmw7v2_00000//power/</span><span style=\"color: #ff00ff; text-decoration-color: #ff00ff\">pk_eft_multigrid_ncoarse7_00263.dat</span>                           \n",
       "</pre>\n"
      ],
      "text/plain": [
       "Write \u001b[1;35mP\u001b[0m\u001b[1m(\u001b[0mk\u001b[1m)\u001b[0m in .\u001b[35m/boxlen100_n128_lcdmw7v2_00000/\u001b[0m\u001b[35m/power/\u001b[0m\u001b[95mpk_eft_multigrid_ncoarse7_00263.dat\u001b[0m                           \n"
      ]
     },
     "metadata": {},
     "output_type": "display_data"
    },
    {
     "data": {
      "text/html": [
       "<pre style=\"white-space:pre;overflow-x:auto;line-height:normal;font-family:Menlo,'DejaVu Sans Mono',consolas,'Courier New',monospace\">param<span style=\"font-weight: bold\">[</span><span style=\"color: #008000; text-decoration-color: #008000\">'nsteps'</span><span style=\"font-weight: bold\">]</span>=<span style=\"color: #008080; text-decoration-color: #008080; font-weight: bold\">263</span> param<span style=\"font-weight: bold\">[</span><span style=\"color: #008000; text-decoration-color: #008000\">'aexp'</span><span style=\"font-weight: bold\">]</span>=<span style=\"color: #008080; text-decoration-color: #008080; font-weight: bold\">0.561027484758616</span> z = <span style=\"color: #008080; text-decoration-color: #008080; font-weight: bold\">0.7824438680223544</span>                                         \n",
       "</pre>\n"
      ],
      "text/plain": [
       "param\u001b[1m[\u001b[0m\u001b[32m'nsteps'\u001b[0m\u001b[1m]\u001b[0m=\u001b[1;36m263\u001b[0m param\u001b[1m[\u001b[0m\u001b[32m'aexp'\u001b[0m\u001b[1m]\u001b[0m=\u001b[1;36m0.561027484758616\u001b[0m z = \u001b[1;36m0.7824438680223544\u001b[0m                                         \n"
      ]
     },
     "metadata": {},
     "output_type": "display_data"
    },
    {
     "data": {
      "text/html": [
       "<pre style=\"white-space:pre;overflow-x:auto;line-height:normal;font-family:Menlo,'DejaVu Sans Mono',consolas,'Courier New',monospace\">Write <span style=\"color: #800080; text-decoration-color: #800080; font-weight: bold\">P</span><span style=\"font-weight: bold\">(</span>k<span style=\"font-weight: bold\">)</span> in .<span style=\"color: #800080; text-decoration-color: #800080\">/boxlen100_n128_lcdmw7v2_00000//power/</span><span style=\"color: #ff00ff; text-decoration-color: #ff00ff\">pk_eft_multigrid_ncoarse7_00264.dat</span>                           \n",
       "</pre>\n"
      ],
      "text/plain": [
       "Write \u001b[1;35mP\u001b[0m\u001b[1m(\u001b[0mk\u001b[1m)\u001b[0m in .\u001b[35m/boxlen100_n128_lcdmw7v2_00000/\u001b[0m\u001b[35m/power/\u001b[0m\u001b[95mpk_eft_multigrid_ncoarse7_00264.dat\u001b[0m                           \n"
      ]
     },
     "metadata": {},
     "output_type": "display_data"
    },
    {
     "data": {
      "text/html": [
       "<pre style=\"white-space:pre;overflow-x:auto;line-height:normal;font-family:Menlo,'DejaVu Sans Mono',consolas,'Courier New',monospace\">param<span style=\"font-weight: bold\">[</span><span style=\"color: #008000; text-decoration-color: #008000\">'nsteps'</span><span style=\"font-weight: bold\">]</span>=<span style=\"color: #008080; text-decoration-color: #008080; font-weight: bold\">264</span> param<span style=\"font-weight: bold\">[</span><span style=\"color: #008000; text-decoration-color: #008000\">'aexp'</span><span style=\"font-weight: bold\">]</span>=<span style=\"color: #008080; text-decoration-color: #008080; font-weight: bold\">0.561027484758616</span> z = <span style=\"color: #008080; text-decoration-color: #008080; font-weight: bold\">0.7824438680223544</span>                                         \n",
       "</pre>\n"
      ],
      "text/plain": [
       "param\u001b[1m[\u001b[0m\u001b[32m'nsteps'\u001b[0m\u001b[1m]\u001b[0m=\u001b[1;36m264\u001b[0m param\u001b[1m[\u001b[0m\u001b[32m'aexp'\u001b[0m\u001b[1m]\u001b[0m=\u001b[1;36m0.561027484758616\u001b[0m z = \u001b[1;36m0.7824438680223544\u001b[0m                                         \n"
      ]
     },
     "metadata": {},
     "output_type": "display_data"
    },
    {
     "data": {
      "text/html": [
       "<pre style=\"white-space:pre;overflow-x:auto;line-height:normal;font-family:Menlo,'DejaVu Sans Mono',consolas,'Courier New',monospace\">Write <span style=\"color: #800080; text-decoration-color: #800080; font-weight: bold\">P</span><span style=\"font-weight: bold\">(</span>k<span style=\"font-weight: bold\">)</span> in .<span style=\"color: #800080; text-decoration-color: #800080\">/boxlen100_n128_lcdmw7v2_00000//power/</span><span style=\"color: #ff00ff; text-decoration-color: #ff00ff\">pk_eft_multigrid_ncoarse7_00265.dat</span>                           \n",
       "</pre>\n"
      ],
      "text/plain": [
       "Write \u001b[1;35mP\u001b[0m\u001b[1m(\u001b[0mk\u001b[1m)\u001b[0m in .\u001b[35m/boxlen100_n128_lcdmw7v2_00000/\u001b[0m\u001b[35m/power/\u001b[0m\u001b[95mpk_eft_multigrid_ncoarse7_00265.dat\u001b[0m                           \n"
      ]
     },
     "metadata": {},
     "output_type": "display_data"
    },
    {
     "data": {
      "text/html": [
       "<pre style=\"white-space:pre;overflow-x:auto;line-height:normal;font-family:Menlo,'DejaVu Sans Mono',consolas,'Courier New',monospace\">param<span style=\"font-weight: bold\">[</span><span style=\"color: #008000; text-decoration-color: #008000\">'nsteps'</span><span style=\"font-weight: bold\">]</span>=<span style=\"color: #008080; text-decoration-color: #008080; font-weight: bold\">265</span> param<span style=\"font-weight: bold\">[</span><span style=\"color: #008000; text-decoration-color: #008000\">'aexp'</span><span style=\"font-weight: bold\">]</span>=<span style=\"color: #008080; text-decoration-color: #008080; font-weight: bold\">0.561027484758616</span> z = <span style=\"color: #008080; text-decoration-color: #008080; font-weight: bold\">0.7824438680223544</span>                                         \n",
       "</pre>\n"
      ],
      "text/plain": [
       "param\u001b[1m[\u001b[0m\u001b[32m'nsteps'\u001b[0m\u001b[1m]\u001b[0m=\u001b[1;36m265\u001b[0m param\u001b[1m[\u001b[0m\u001b[32m'aexp'\u001b[0m\u001b[1m]\u001b[0m=\u001b[1;36m0.561027484758616\u001b[0m z = \u001b[1;36m0.7824438680223544\u001b[0m                                         \n"
      ]
     },
     "metadata": {},
     "output_type": "display_data"
    },
    {
     "data": {
      "text/html": [
       "<pre style=\"white-space:pre;overflow-x:auto;line-height:normal;font-family:Menlo,'DejaVu Sans Mono',consolas,'Courier New',monospace\">Write <span style=\"color: #800080; text-decoration-color: #800080; font-weight: bold\">P</span><span style=\"font-weight: bold\">(</span>k<span style=\"font-weight: bold\">)</span> in .<span style=\"color: #800080; text-decoration-color: #800080\">/boxlen100_n128_lcdmw7v2_00000//power/</span><span style=\"color: #ff00ff; text-decoration-color: #ff00ff\">pk_eft_multigrid_ncoarse7_00266.dat</span>                           \n",
       "</pre>\n"
      ],
      "text/plain": [
       "Write \u001b[1;35mP\u001b[0m\u001b[1m(\u001b[0mk\u001b[1m)\u001b[0m in .\u001b[35m/boxlen100_n128_lcdmw7v2_00000/\u001b[0m\u001b[35m/power/\u001b[0m\u001b[95mpk_eft_multigrid_ncoarse7_00266.dat\u001b[0m                           \n"
      ]
     },
     "metadata": {},
     "output_type": "display_data"
    },
    {
     "data": {
      "text/html": [
       "<pre style=\"white-space:pre;overflow-x:auto;line-height:normal;font-family:Menlo,'DejaVu Sans Mono',consolas,'Courier New',monospace\">param<span style=\"font-weight: bold\">[</span><span style=\"color: #008000; text-decoration-color: #008000\">'nsteps'</span><span style=\"font-weight: bold\">]</span>=<span style=\"color: #008080; text-decoration-color: #008080; font-weight: bold\">266</span> param<span style=\"font-weight: bold\">[</span><span style=\"color: #008000; text-decoration-color: #008000\">'aexp'</span><span style=\"font-weight: bold\">]</span>=<span style=\"color: #008080; text-decoration-color: #008080; font-weight: bold\">0.561027484758616</span> z = <span style=\"color: #008080; text-decoration-color: #008080; font-weight: bold\">0.7824438680223544</span>                                         \n",
       "</pre>\n"
      ],
      "text/plain": [
       "param\u001b[1m[\u001b[0m\u001b[32m'nsteps'\u001b[0m\u001b[1m]\u001b[0m=\u001b[1;36m266\u001b[0m param\u001b[1m[\u001b[0m\u001b[32m'aexp'\u001b[0m\u001b[1m]\u001b[0m=\u001b[1;36m0.561027484758616\u001b[0m z = \u001b[1;36m0.7824438680223544\u001b[0m                                         \n"
      ]
     },
     "metadata": {},
     "output_type": "display_data"
    },
    {
     "data": {
      "text/html": [
       "<pre style=\"white-space:pre;overflow-x:auto;line-height:normal;font-family:Menlo,'DejaVu Sans Mono',consolas,'Courier New',monospace\">Write <span style=\"color: #800080; text-decoration-color: #800080; font-weight: bold\">P</span><span style=\"font-weight: bold\">(</span>k<span style=\"font-weight: bold\">)</span> in .<span style=\"color: #800080; text-decoration-color: #800080\">/boxlen100_n128_lcdmw7v2_00000//power/</span><span style=\"color: #ff00ff; text-decoration-color: #ff00ff\">pk_eft_multigrid_ncoarse7_00267.dat</span>                           \n",
       "</pre>\n"
      ],
      "text/plain": [
       "Write \u001b[1;35mP\u001b[0m\u001b[1m(\u001b[0mk\u001b[1m)\u001b[0m in .\u001b[35m/boxlen100_n128_lcdmw7v2_00000/\u001b[0m\u001b[35m/power/\u001b[0m\u001b[95mpk_eft_multigrid_ncoarse7_00267.dat\u001b[0m                           \n"
      ]
     },
     "metadata": {},
     "output_type": "display_data"
    },
    {
     "data": {
      "text/html": [
       "<pre style=\"white-space:pre;overflow-x:auto;line-height:normal;font-family:Menlo,'DejaVu Sans Mono',consolas,'Courier New',monospace\">param<span style=\"font-weight: bold\">[</span><span style=\"color: #008000; text-decoration-color: #008000\">'nsteps'</span><span style=\"font-weight: bold\">]</span>=<span style=\"color: #008080; text-decoration-color: #008080; font-weight: bold\">267</span> param<span style=\"font-weight: bold\">[</span><span style=\"color: #008000; text-decoration-color: #008000\">'aexp'</span><span style=\"font-weight: bold\">]</span>=<span style=\"color: #008080; text-decoration-color: #008080; font-weight: bold\">0.561027484758616</span> z = <span style=\"color: #008080; text-decoration-color: #008080; font-weight: bold\">0.7824438680223544</span>                                         \n",
       "</pre>\n"
      ],
      "text/plain": [
       "param\u001b[1m[\u001b[0m\u001b[32m'nsteps'\u001b[0m\u001b[1m]\u001b[0m=\u001b[1;36m267\u001b[0m param\u001b[1m[\u001b[0m\u001b[32m'aexp'\u001b[0m\u001b[1m]\u001b[0m=\u001b[1;36m0.561027484758616\u001b[0m z = \u001b[1;36m0.7824438680223544\u001b[0m                                         \n"
      ]
     },
     "metadata": {},
     "output_type": "display_data"
    },
    {
     "data": {
      "text/html": [
       "<pre style=\"white-space:pre;overflow-x:auto;line-height:normal;font-family:Menlo,'DejaVu Sans Mono',consolas,'Courier New',monospace\">Write <span style=\"color: #800080; text-decoration-color: #800080; font-weight: bold\">P</span><span style=\"font-weight: bold\">(</span>k<span style=\"font-weight: bold\">)</span> in .<span style=\"color: #800080; text-decoration-color: #800080\">/boxlen100_n128_lcdmw7v2_00000//power/</span><span style=\"color: #ff00ff; text-decoration-color: #ff00ff\">pk_eft_multigrid_ncoarse7_00268.dat</span>                           \n",
       "</pre>\n"
      ],
      "text/plain": [
       "Write \u001b[1;35mP\u001b[0m\u001b[1m(\u001b[0mk\u001b[1m)\u001b[0m in .\u001b[35m/boxlen100_n128_lcdmw7v2_00000/\u001b[0m\u001b[35m/power/\u001b[0m\u001b[95mpk_eft_multigrid_ncoarse7_00268.dat\u001b[0m                           \n"
      ]
     },
     "metadata": {},
     "output_type": "display_data"
    },
    {
     "data": {
      "text/html": [
       "<pre style=\"white-space:pre;overflow-x:auto;line-height:normal;font-family:Menlo,'DejaVu Sans Mono',consolas,'Courier New',monospace\">param<span style=\"font-weight: bold\">[</span><span style=\"color: #008000; text-decoration-color: #008000\">'nsteps'</span><span style=\"font-weight: bold\">]</span>=<span style=\"color: #008080; text-decoration-color: #008080; font-weight: bold\">268</span> param<span style=\"font-weight: bold\">[</span><span style=\"color: #008000; text-decoration-color: #008000\">'aexp'</span><span style=\"font-weight: bold\">]</span>=<span style=\"color: #008080; text-decoration-color: #008080; font-weight: bold\">0.561027484758616</span> z = <span style=\"color: #008080; text-decoration-color: #008080; font-weight: bold\">0.7824438680223544</span>                                         \n",
       "</pre>\n"
      ],
      "text/plain": [
       "param\u001b[1m[\u001b[0m\u001b[32m'nsteps'\u001b[0m\u001b[1m]\u001b[0m=\u001b[1;36m268\u001b[0m param\u001b[1m[\u001b[0m\u001b[32m'aexp'\u001b[0m\u001b[1m]\u001b[0m=\u001b[1;36m0.561027484758616\u001b[0m z = \u001b[1;36m0.7824438680223544\u001b[0m                                         \n"
      ]
     },
     "metadata": {},
     "output_type": "display_data"
    },
    {
     "data": {
      "text/html": [
       "<pre style=\"white-space:pre;overflow-x:auto;line-height:normal;font-family:Menlo,'DejaVu Sans Mono',consolas,'Courier New',monospace\">Write <span style=\"color: #800080; text-decoration-color: #800080; font-weight: bold\">P</span><span style=\"font-weight: bold\">(</span>k<span style=\"font-weight: bold\">)</span> in .<span style=\"color: #800080; text-decoration-color: #800080\">/boxlen100_n128_lcdmw7v2_00000//power/</span><span style=\"color: #ff00ff; text-decoration-color: #ff00ff\">pk_eft_multigrid_ncoarse7_00269.dat</span>                           \n",
       "</pre>\n"
      ],
      "text/plain": [
       "Write \u001b[1;35mP\u001b[0m\u001b[1m(\u001b[0mk\u001b[1m)\u001b[0m in .\u001b[35m/boxlen100_n128_lcdmw7v2_00000/\u001b[0m\u001b[35m/power/\u001b[0m\u001b[95mpk_eft_multigrid_ncoarse7_00269.dat\u001b[0m                           \n"
      ]
     },
     "metadata": {},
     "output_type": "display_data"
    },
    {
     "data": {
      "text/html": [
       "<pre style=\"white-space:pre;overflow-x:auto;line-height:normal;font-family:Menlo,'DejaVu Sans Mono',consolas,'Courier New',monospace\">param<span style=\"font-weight: bold\">[</span><span style=\"color: #008000; text-decoration-color: #008000\">'nsteps'</span><span style=\"font-weight: bold\">]</span>=<span style=\"color: #008080; text-decoration-color: #008080; font-weight: bold\">269</span> param<span style=\"font-weight: bold\">[</span><span style=\"color: #008000; text-decoration-color: #008000\">'aexp'</span><span style=\"font-weight: bold\">]</span>=<span style=\"color: #008080; text-decoration-color: #008080; font-weight: bold\">0.561027484758616</span> z = <span style=\"color: #008080; text-decoration-color: #008080; font-weight: bold\">0.7824438680223544</span>                                         \n",
       "</pre>\n"
      ],
      "text/plain": [
       "param\u001b[1m[\u001b[0m\u001b[32m'nsteps'\u001b[0m\u001b[1m]\u001b[0m=\u001b[1;36m269\u001b[0m param\u001b[1m[\u001b[0m\u001b[32m'aexp'\u001b[0m\u001b[1m]\u001b[0m=\u001b[1;36m0.561027484758616\u001b[0m z = \u001b[1;36m0.7824438680223544\u001b[0m                                         \n"
      ]
     },
     "metadata": {},
     "output_type": "display_data"
    },
    {
     "data": {
      "text/html": [
       "<pre style=\"white-space:pre;overflow-x:auto;line-height:normal;font-family:Menlo,'DejaVu Sans Mono',consolas,'Courier New',monospace\">Write <span style=\"color: #800080; text-decoration-color: #800080; font-weight: bold\">P</span><span style=\"font-weight: bold\">(</span>k<span style=\"font-weight: bold\">)</span> in .<span style=\"color: #800080; text-decoration-color: #800080\">/boxlen100_n128_lcdmw7v2_00000//power/</span><span style=\"color: #ff00ff; text-decoration-color: #ff00ff\">pk_eft_multigrid_ncoarse7_00270.dat</span>                           \n",
       "</pre>\n"
      ],
      "text/plain": [
       "Write \u001b[1;35mP\u001b[0m\u001b[1m(\u001b[0mk\u001b[1m)\u001b[0m in .\u001b[35m/boxlen100_n128_lcdmw7v2_00000/\u001b[0m\u001b[35m/power/\u001b[0m\u001b[95mpk_eft_multigrid_ncoarse7_00270.dat\u001b[0m                           \n"
      ]
     },
     "metadata": {},
     "output_type": "display_data"
    },
    {
     "data": {
      "text/html": [
       "<pre style=\"white-space:pre;overflow-x:auto;line-height:normal;font-family:Menlo,'DejaVu Sans Mono',consolas,'Courier New',monospace\">param<span style=\"font-weight: bold\">[</span><span style=\"color: #008000; text-decoration-color: #008000\">'nsteps'</span><span style=\"font-weight: bold\">]</span>=<span style=\"color: #008080; text-decoration-color: #008080; font-weight: bold\">270</span> param<span style=\"font-weight: bold\">[</span><span style=\"color: #008000; text-decoration-color: #008000\">'aexp'</span><span style=\"font-weight: bold\">]</span>=<span style=\"color: #008080; text-decoration-color: #008080; font-weight: bold\">0.561027484758616</span> z = <span style=\"color: #008080; text-decoration-color: #008080; font-weight: bold\">0.7824438680223544</span>                                         \n",
       "</pre>\n"
      ],
      "text/plain": [
       "param\u001b[1m[\u001b[0m\u001b[32m'nsteps'\u001b[0m\u001b[1m]\u001b[0m=\u001b[1;36m270\u001b[0m param\u001b[1m[\u001b[0m\u001b[32m'aexp'\u001b[0m\u001b[1m]\u001b[0m=\u001b[1;36m0.561027484758616\u001b[0m z = \u001b[1;36m0.7824438680223544\u001b[0m                                         \n"
      ]
     },
     "metadata": {},
     "output_type": "display_data"
    },
    {
     "data": {
      "text/html": [
       "<pre style=\"white-space:pre;overflow-x:auto;line-height:normal;font-family:Menlo,'DejaVu Sans Mono',consolas,'Courier New',monospace\">Write <span style=\"color: #800080; text-decoration-color: #800080; font-weight: bold\">P</span><span style=\"font-weight: bold\">(</span>k<span style=\"font-weight: bold\">)</span> in .<span style=\"color: #800080; text-decoration-color: #800080\">/boxlen100_n128_lcdmw7v2_00000//power/</span><span style=\"color: #ff00ff; text-decoration-color: #ff00ff\">pk_eft_multigrid_ncoarse7_00271.dat</span>                           \n",
       "</pre>\n"
      ],
      "text/plain": [
       "Write \u001b[1;35mP\u001b[0m\u001b[1m(\u001b[0mk\u001b[1m)\u001b[0m in .\u001b[35m/boxlen100_n128_lcdmw7v2_00000/\u001b[0m\u001b[35m/power/\u001b[0m\u001b[95mpk_eft_multigrid_ncoarse7_00271.dat\u001b[0m                           \n"
      ]
     },
     "metadata": {},
     "output_type": "display_data"
    },
    {
     "data": {
      "text/html": [
       "<pre style=\"white-space:pre;overflow-x:auto;line-height:normal;font-family:Menlo,'DejaVu Sans Mono',consolas,'Courier New',monospace\">param<span style=\"font-weight: bold\">[</span><span style=\"color: #008000; text-decoration-color: #008000\">'nsteps'</span><span style=\"font-weight: bold\">]</span>=<span style=\"color: #008080; text-decoration-color: #008080; font-weight: bold\">271</span> param<span style=\"font-weight: bold\">[</span><span style=\"color: #008000; text-decoration-color: #008000\">'aexp'</span><span style=\"font-weight: bold\">]</span>=<span style=\"color: #008080; text-decoration-color: #008080; font-weight: bold\">0.561027484758616</span> z = <span style=\"color: #008080; text-decoration-color: #008080; font-weight: bold\">0.7824438680223544</span>                                         \n",
       "</pre>\n"
      ],
      "text/plain": [
       "param\u001b[1m[\u001b[0m\u001b[32m'nsteps'\u001b[0m\u001b[1m]\u001b[0m=\u001b[1;36m271\u001b[0m param\u001b[1m[\u001b[0m\u001b[32m'aexp'\u001b[0m\u001b[1m]\u001b[0m=\u001b[1;36m0.561027484758616\u001b[0m z = \u001b[1;36m0.7824438680223544\u001b[0m                                         \n"
      ]
     },
     "metadata": {},
     "output_type": "display_data"
    },
    {
     "data": {
      "text/html": [
       "<pre style=\"white-space:pre;overflow-x:auto;line-height:normal;font-family:Menlo,'DejaVu Sans Mono',consolas,'Courier New',monospace\">Write <span style=\"color: #800080; text-decoration-color: #800080; font-weight: bold\">P</span><span style=\"font-weight: bold\">(</span>k<span style=\"font-weight: bold\">)</span> in .<span style=\"color: #800080; text-decoration-color: #800080\">/boxlen100_n128_lcdmw7v2_00000//power/</span><span style=\"color: #ff00ff; text-decoration-color: #ff00ff\">pk_eft_multigrid_ncoarse7_00272.dat</span>                           \n",
       "</pre>\n"
      ],
      "text/plain": [
       "Write \u001b[1;35mP\u001b[0m\u001b[1m(\u001b[0mk\u001b[1m)\u001b[0m in .\u001b[35m/boxlen100_n128_lcdmw7v2_00000/\u001b[0m\u001b[35m/power/\u001b[0m\u001b[95mpk_eft_multigrid_ncoarse7_00272.dat\u001b[0m                           \n"
      ]
     },
     "metadata": {},
     "output_type": "display_data"
    },
    {
     "data": {
      "text/html": [
       "<pre style=\"white-space:pre;overflow-x:auto;line-height:normal;font-family:Menlo,'DejaVu Sans Mono',consolas,'Courier New',monospace\">param<span style=\"font-weight: bold\">[</span><span style=\"color: #008000; text-decoration-color: #008000\">'nsteps'</span><span style=\"font-weight: bold\">]</span>=<span style=\"color: #008080; text-decoration-color: #008080; font-weight: bold\">272</span> param<span style=\"font-weight: bold\">[</span><span style=\"color: #008000; text-decoration-color: #008000\">'aexp'</span><span style=\"font-weight: bold\">]</span>=<span style=\"color: #008080; text-decoration-color: #008080; font-weight: bold\">0.561027484758616</span> z = <span style=\"color: #008080; text-decoration-color: #008080; font-weight: bold\">0.7824438680223544</span>                                         \n",
       "</pre>\n"
      ],
      "text/plain": [
       "param\u001b[1m[\u001b[0m\u001b[32m'nsteps'\u001b[0m\u001b[1m]\u001b[0m=\u001b[1;36m272\u001b[0m param\u001b[1m[\u001b[0m\u001b[32m'aexp'\u001b[0m\u001b[1m]\u001b[0m=\u001b[1;36m0.561027484758616\u001b[0m z = \u001b[1;36m0.7824438680223544\u001b[0m                                         \n"
      ]
     },
     "metadata": {},
     "output_type": "display_data"
    },
    {
     "data": {
      "text/html": [
       "<pre style=\"white-space:pre;overflow-x:auto;line-height:normal;font-family:Menlo,'DejaVu Sans Mono',consolas,'Courier New',monospace\">Write <span style=\"color: #800080; text-decoration-color: #800080; font-weight: bold\">P</span><span style=\"font-weight: bold\">(</span>k<span style=\"font-weight: bold\">)</span> in .<span style=\"color: #800080; text-decoration-color: #800080\">/boxlen100_n128_lcdmw7v2_00000//power/</span><span style=\"color: #ff00ff; text-decoration-color: #ff00ff\">pk_eft_multigrid_ncoarse7_00273.dat</span>                           \n",
       "</pre>\n"
      ],
      "text/plain": [
       "Write \u001b[1;35mP\u001b[0m\u001b[1m(\u001b[0mk\u001b[1m)\u001b[0m in .\u001b[35m/boxlen100_n128_lcdmw7v2_00000/\u001b[0m\u001b[35m/power/\u001b[0m\u001b[95mpk_eft_multigrid_ncoarse7_00273.dat\u001b[0m                           \n"
      ]
     },
     "metadata": {},
     "output_type": "display_data"
    },
    {
     "data": {
      "text/html": [
       "<pre style=\"white-space:pre;overflow-x:auto;line-height:normal;font-family:Menlo,'DejaVu Sans Mono',consolas,'Courier New',monospace\">param<span style=\"font-weight: bold\">[</span><span style=\"color: #008000; text-decoration-color: #008000\">'nsteps'</span><span style=\"font-weight: bold\">]</span>=<span style=\"color: #008080; text-decoration-color: #008080; font-weight: bold\">273</span> param<span style=\"font-weight: bold\">[</span><span style=\"color: #008000; text-decoration-color: #008000\">'aexp'</span><span style=\"font-weight: bold\">]</span>=<span style=\"color: #008080; text-decoration-color: #008080; font-weight: bold\">0.561027484758616</span> z = <span style=\"color: #008080; text-decoration-color: #008080; font-weight: bold\">0.7824438680223544</span>                                         \n",
       "</pre>\n"
      ],
      "text/plain": [
       "param\u001b[1m[\u001b[0m\u001b[32m'nsteps'\u001b[0m\u001b[1m]\u001b[0m=\u001b[1;36m273\u001b[0m param\u001b[1m[\u001b[0m\u001b[32m'aexp'\u001b[0m\u001b[1m]\u001b[0m=\u001b[1;36m0.561027484758616\u001b[0m z = \u001b[1;36m0.7824438680223544\u001b[0m                                         \n"
      ]
     },
     "metadata": {},
     "output_type": "display_data"
    },
    {
     "data": {
      "text/html": [
       "<pre style=\"white-space:pre;overflow-x:auto;line-height:normal;font-family:Menlo,'DejaVu Sans Mono',consolas,'Courier New',monospace\">Write <span style=\"color: #800080; text-decoration-color: #800080; font-weight: bold\">P</span><span style=\"font-weight: bold\">(</span>k<span style=\"font-weight: bold\">)</span> in .<span style=\"color: #800080; text-decoration-color: #800080\">/boxlen100_n128_lcdmw7v2_00000//power/</span><span style=\"color: #ff00ff; text-decoration-color: #ff00ff\">pk_eft_multigrid_ncoarse7_00274.dat</span>                           \n",
       "</pre>\n"
      ],
      "text/plain": [
       "Write \u001b[1;35mP\u001b[0m\u001b[1m(\u001b[0mk\u001b[1m)\u001b[0m in .\u001b[35m/boxlen100_n128_lcdmw7v2_00000/\u001b[0m\u001b[35m/power/\u001b[0m\u001b[95mpk_eft_multigrid_ncoarse7_00274.dat\u001b[0m                           \n"
      ]
     },
     "metadata": {},
     "output_type": "display_data"
    },
    {
     "data": {
      "text/html": [
       "<pre style=\"white-space:pre;overflow-x:auto;line-height:normal;font-family:Menlo,'DejaVu Sans Mono',consolas,'Courier New',monospace\">param<span style=\"font-weight: bold\">[</span><span style=\"color: #008000; text-decoration-color: #008000\">'nsteps'</span><span style=\"font-weight: bold\">]</span>=<span style=\"color: #008080; text-decoration-color: #008080; font-weight: bold\">274</span> param<span style=\"font-weight: bold\">[</span><span style=\"color: #008000; text-decoration-color: #008000\">'aexp'</span><span style=\"font-weight: bold\">]</span>=<span style=\"color: #008080; text-decoration-color: #008080; font-weight: bold\">0.561027484758616</span> z = <span style=\"color: #008080; text-decoration-color: #008080; font-weight: bold\">0.7824438680223544</span>                                         \n",
       "</pre>\n"
      ],
      "text/plain": [
       "param\u001b[1m[\u001b[0m\u001b[32m'nsteps'\u001b[0m\u001b[1m]\u001b[0m=\u001b[1;36m274\u001b[0m param\u001b[1m[\u001b[0m\u001b[32m'aexp'\u001b[0m\u001b[1m]\u001b[0m=\u001b[1;36m0.561027484758616\u001b[0m z = \u001b[1;36m0.7824438680223544\u001b[0m                                         \n"
      ]
     },
     "metadata": {},
     "output_type": "display_data"
    },
    {
     "data": {
      "text/html": [
       "<pre style=\"white-space:pre;overflow-x:auto;line-height:normal;font-family:Menlo,'DejaVu Sans Mono',consolas,'Courier New',monospace\">Write <span style=\"color: #800080; text-decoration-color: #800080; font-weight: bold\">P</span><span style=\"font-weight: bold\">(</span>k<span style=\"font-weight: bold\">)</span> in .<span style=\"color: #800080; text-decoration-color: #800080\">/boxlen100_n128_lcdmw7v2_00000//power/</span><span style=\"color: #ff00ff; text-decoration-color: #ff00ff\">pk_eft_multigrid_ncoarse7_00275.dat</span>                           \n",
       "</pre>\n"
      ],
      "text/plain": [
       "Write \u001b[1;35mP\u001b[0m\u001b[1m(\u001b[0mk\u001b[1m)\u001b[0m in .\u001b[35m/boxlen100_n128_lcdmw7v2_00000/\u001b[0m\u001b[35m/power/\u001b[0m\u001b[95mpk_eft_multigrid_ncoarse7_00275.dat\u001b[0m                           \n"
      ]
     },
     "metadata": {},
     "output_type": "display_data"
    },
    {
     "data": {
      "text/html": [
       "<pre style=\"white-space:pre;overflow-x:auto;line-height:normal;font-family:Menlo,'DejaVu Sans Mono',consolas,'Courier New',monospace\">param<span style=\"font-weight: bold\">[</span><span style=\"color: #008000; text-decoration-color: #008000\">'nsteps'</span><span style=\"font-weight: bold\">]</span>=<span style=\"color: #008080; text-decoration-color: #008080; font-weight: bold\">275</span> param<span style=\"font-weight: bold\">[</span><span style=\"color: #008000; text-decoration-color: #008000\">'aexp'</span><span style=\"font-weight: bold\">]</span>=<span style=\"color: #008080; text-decoration-color: #008080; font-weight: bold\">0.561027484758616</span> z = <span style=\"color: #008080; text-decoration-color: #008080; font-weight: bold\">0.7824438680223544</span>                                         \n",
       "</pre>\n"
      ],
      "text/plain": [
       "param\u001b[1m[\u001b[0m\u001b[32m'nsteps'\u001b[0m\u001b[1m]\u001b[0m=\u001b[1;36m275\u001b[0m param\u001b[1m[\u001b[0m\u001b[32m'aexp'\u001b[0m\u001b[1m]\u001b[0m=\u001b[1;36m0.561027484758616\u001b[0m z = \u001b[1;36m0.7824438680223544\u001b[0m                                         \n"
      ]
     },
     "metadata": {},
     "output_type": "display_data"
    },
    {
     "data": {
      "text/html": [
       "<pre style=\"white-space:pre;overflow-x:auto;line-height:normal;font-family:Menlo,'DejaVu Sans Mono',consolas,'Courier New',monospace\">Write <span style=\"color: #800080; text-decoration-color: #800080; font-weight: bold\">P</span><span style=\"font-weight: bold\">(</span>k<span style=\"font-weight: bold\">)</span> in .<span style=\"color: #800080; text-decoration-color: #800080\">/boxlen100_n128_lcdmw7v2_00000//power/</span><span style=\"color: #ff00ff; text-decoration-color: #ff00ff\">pk_eft_multigrid_ncoarse7_00276.dat</span>                           \n",
       "</pre>\n"
      ],
      "text/plain": [
       "Write \u001b[1;35mP\u001b[0m\u001b[1m(\u001b[0mk\u001b[1m)\u001b[0m in .\u001b[35m/boxlen100_n128_lcdmw7v2_00000/\u001b[0m\u001b[35m/power/\u001b[0m\u001b[95mpk_eft_multigrid_ncoarse7_00276.dat\u001b[0m                           \n"
      ]
     },
     "metadata": {},
     "output_type": "display_data"
    },
    {
     "data": {
      "text/html": [
       "<pre style=\"white-space:pre;overflow-x:auto;line-height:normal;font-family:Menlo,'DejaVu Sans Mono',consolas,'Courier New',monospace\">param<span style=\"font-weight: bold\">[</span><span style=\"color: #008000; text-decoration-color: #008000\">'nsteps'</span><span style=\"font-weight: bold\">]</span>=<span style=\"color: #008080; text-decoration-color: #008080; font-weight: bold\">276</span> param<span style=\"font-weight: bold\">[</span><span style=\"color: #008000; text-decoration-color: #008000\">'aexp'</span><span style=\"font-weight: bold\">]</span>=<span style=\"color: #008080; text-decoration-color: #008080; font-weight: bold\">0.561027484758616</span> z = <span style=\"color: #008080; text-decoration-color: #008080; font-weight: bold\">0.7824438680223544</span>                                         \n",
       "</pre>\n"
      ],
      "text/plain": [
       "param\u001b[1m[\u001b[0m\u001b[32m'nsteps'\u001b[0m\u001b[1m]\u001b[0m=\u001b[1;36m276\u001b[0m param\u001b[1m[\u001b[0m\u001b[32m'aexp'\u001b[0m\u001b[1m]\u001b[0m=\u001b[1;36m0.561027484758616\u001b[0m z = \u001b[1;36m0.7824438680223544\u001b[0m                                         \n"
      ]
     },
     "metadata": {},
     "output_type": "display_data"
    },
    {
     "data": {
      "text/html": [
       "<pre style=\"white-space:pre;overflow-x:auto;line-height:normal;font-family:Menlo,'DejaVu Sans Mono',consolas,'Courier New',monospace\">Write <span style=\"color: #800080; text-decoration-color: #800080; font-weight: bold\">P</span><span style=\"font-weight: bold\">(</span>k<span style=\"font-weight: bold\">)</span> in .<span style=\"color: #800080; text-decoration-color: #800080\">/boxlen100_n128_lcdmw7v2_00000//power/</span><span style=\"color: #ff00ff; text-decoration-color: #ff00ff\">pk_eft_multigrid_ncoarse7_00277.dat</span>                           \n",
       "</pre>\n"
      ],
      "text/plain": [
       "Write \u001b[1;35mP\u001b[0m\u001b[1m(\u001b[0mk\u001b[1m)\u001b[0m in .\u001b[35m/boxlen100_n128_lcdmw7v2_00000/\u001b[0m\u001b[35m/power/\u001b[0m\u001b[95mpk_eft_multigrid_ncoarse7_00277.dat\u001b[0m                           \n"
      ]
     },
     "metadata": {},
     "output_type": "display_data"
    },
    {
     "data": {
      "text/html": [
       "<pre style=\"white-space:pre;overflow-x:auto;line-height:normal;font-family:Menlo,'DejaVu Sans Mono',consolas,'Courier New',monospace\">param<span style=\"font-weight: bold\">[</span><span style=\"color: #008000; text-decoration-color: #008000\">'nsteps'</span><span style=\"font-weight: bold\">]</span>=<span style=\"color: #008080; text-decoration-color: #008080; font-weight: bold\">277</span> param<span style=\"font-weight: bold\">[</span><span style=\"color: #008000; text-decoration-color: #008000\">'aexp'</span><span style=\"font-weight: bold\">]</span>=<span style=\"color: #008080; text-decoration-color: #008080; font-weight: bold\">0.561027484758616</span> z = <span style=\"color: #008080; text-decoration-color: #008080; font-weight: bold\">0.7824438680223544</span>                                         \n",
       "</pre>\n"
      ],
      "text/plain": [
       "param\u001b[1m[\u001b[0m\u001b[32m'nsteps'\u001b[0m\u001b[1m]\u001b[0m=\u001b[1;36m277\u001b[0m param\u001b[1m[\u001b[0m\u001b[32m'aexp'\u001b[0m\u001b[1m]\u001b[0m=\u001b[1;36m0.561027484758616\u001b[0m z = \u001b[1;36m0.7824438680223544\u001b[0m                                         \n"
      ]
     },
     "metadata": {},
     "output_type": "display_data"
    },
    {
     "data": {
      "text/html": [
       "<pre style=\"white-space:pre;overflow-x:auto;line-height:normal;font-family:Menlo,'DejaVu Sans Mono',consolas,'Courier New',monospace\">Write <span style=\"color: #800080; text-decoration-color: #800080; font-weight: bold\">P</span><span style=\"font-weight: bold\">(</span>k<span style=\"font-weight: bold\">)</span> in .<span style=\"color: #800080; text-decoration-color: #800080\">/boxlen100_n128_lcdmw7v2_00000//power/</span><span style=\"color: #ff00ff; text-decoration-color: #ff00ff\">pk_eft_multigrid_ncoarse7_00278.dat</span>                           \n",
       "</pre>\n"
      ],
      "text/plain": [
       "Write \u001b[1;35mP\u001b[0m\u001b[1m(\u001b[0mk\u001b[1m)\u001b[0m in .\u001b[35m/boxlen100_n128_lcdmw7v2_00000/\u001b[0m\u001b[35m/power/\u001b[0m\u001b[95mpk_eft_multigrid_ncoarse7_00278.dat\u001b[0m                           \n"
      ]
     },
     "metadata": {},
     "output_type": "display_data"
    },
    {
     "data": {
      "text/html": [
       "<pre style=\"white-space:pre;overflow-x:auto;line-height:normal;font-family:Menlo,'DejaVu Sans Mono',consolas,'Courier New',monospace\">param<span style=\"font-weight: bold\">[</span><span style=\"color: #008000; text-decoration-color: #008000\">'nsteps'</span><span style=\"font-weight: bold\">]</span>=<span style=\"color: #008080; text-decoration-color: #008080; font-weight: bold\">278</span> param<span style=\"font-weight: bold\">[</span><span style=\"color: #008000; text-decoration-color: #008000\">'aexp'</span><span style=\"font-weight: bold\">]</span>=<span style=\"color: #008080; text-decoration-color: #008080; font-weight: bold\">0.561027484758616</span> z = <span style=\"color: #008080; text-decoration-color: #008080; font-weight: bold\">0.7824438680223544</span>                                         \n",
       "</pre>\n"
      ],
      "text/plain": [
       "param\u001b[1m[\u001b[0m\u001b[32m'nsteps'\u001b[0m\u001b[1m]\u001b[0m=\u001b[1;36m278\u001b[0m param\u001b[1m[\u001b[0m\u001b[32m'aexp'\u001b[0m\u001b[1m]\u001b[0m=\u001b[1;36m0.561027484758616\u001b[0m z = \u001b[1;36m0.7824438680223544\u001b[0m                                         \n"
      ]
     },
     "metadata": {},
     "output_type": "display_data"
    },
    {
     "data": {
      "text/html": [
       "<pre style=\"white-space:pre;overflow-x:auto;line-height:normal;font-family:Menlo,'DejaVu Sans Mono',consolas,'Courier New',monospace\">Write <span style=\"color: #800080; text-decoration-color: #800080; font-weight: bold\">P</span><span style=\"font-weight: bold\">(</span>k<span style=\"font-weight: bold\">)</span> in .<span style=\"color: #800080; text-decoration-color: #800080\">/boxlen100_n128_lcdmw7v2_00000//power/</span><span style=\"color: #ff00ff; text-decoration-color: #ff00ff\">pk_eft_multigrid_ncoarse7_00279.dat</span>                           \n",
       "</pre>\n"
      ],
      "text/plain": [
       "Write \u001b[1;35mP\u001b[0m\u001b[1m(\u001b[0mk\u001b[1m)\u001b[0m in .\u001b[35m/boxlen100_n128_lcdmw7v2_00000/\u001b[0m\u001b[35m/power/\u001b[0m\u001b[95mpk_eft_multigrid_ncoarse7_00279.dat\u001b[0m                           \n"
      ]
     },
     "metadata": {},
     "output_type": "display_data"
    },
    {
     "data": {
      "text/html": [
       "<pre style=\"white-space:pre;overflow-x:auto;line-height:normal;font-family:Menlo,'DejaVu Sans Mono',consolas,'Courier New',monospace\">param<span style=\"font-weight: bold\">[</span><span style=\"color: #008000; text-decoration-color: #008000\">'nsteps'</span><span style=\"font-weight: bold\">]</span>=<span style=\"color: #008080; text-decoration-color: #008080; font-weight: bold\">279</span> param<span style=\"font-weight: bold\">[</span><span style=\"color: #008000; text-decoration-color: #008000\">'aexp'</span><span style=\"font-weight: bold\">]</span>=<span style=\"color: #008080; text-decoration-color: #008080; font-weight: bold\">0.561027484758616</span> z = <span style=\"color: #008080; text-decoration-color: #008080; font-weight: bold\">0.7824438680223544</span>                                         \n",
       "</pre>\n"
      ],
      "text/plain": [
       "param\u001b[1m[\u001b[0m\u001b[32m'nsteps'\u001b[0m\u001b[1m]\u001b[0m=\u001b[1;36m279\u001b[0m param\u001b[1m[\u001b[0m\u001b[32m'aexp'\u001b[0m\u001b[1m]\u001b[0m=\u001b[1;36m0.561027484758616\u001b[0m z = \u001b[1;36m0.7824438680223544\u001b[0m                                         \n"
      ]
     },
     "metadata": {},
     "output_type": "display_data"
    },
    {
     "data": {
      "text/html": [
       "<pre style=\"white-space:pre;overflow-x:auto;line-height:normal;font-family:Menlo,'DejaVu Sans Mono',consolas,'Courier New',monospace\">Write <span style=\"color: #800080; text-decoration-color: #800080; font-weight: bold\">P</span><span style=\"font-weight: bold\">(</span>k<span style=\"font-weight: bold\">)</span> in .<span style=\"color: #800080; text-decoration-color: #800080\">/boxlen100_n128_lcdmw7v2_00000//power/</span><span style=\"color: #ff00ff; text-decoration-color: #ff00ff\">pk_eft_multigrid_ncoarse7_00280.dat</span>                           \n",
       "</pre>\n"
      ],
      "text/plain": [
       "Write \u001b[1;35mP\u001b[0m\u001b[1m(\u001b[0mk\u001b[1m)\u001b[0m in .\u001b[35m/boxlen100_n128_lcdmw7v2_00000/\u001b[0m\u001b[35m/power/\u001b[0m\u001b[95mpk_eft_multigrid_ncoarse7_00280.dat\u001b[0m                           \n"
      ]
     },
     "metadata": {},
     "output_type": "display_data"
    },
    {
     "data": {
      "text/html": [
       "<pre style=\"white-space:pre;overflow-x:auto;line-height:normal;font-family:Menlo,'DejaVu Sans Mono',consolas,'Courier New',monospace\">param<span style=\"font-weight: bold\">[</span><span style=\"color: #008000; text-decoration-color: #008000\">'nsteps'</span><span style=\"font-weight: bold\">]</span>=<span style=\"color: #008080; text-decoration-color: #008080; font-weight: bold\">280</span> param<span style=\"font-weight: bold\">[</span><span style=\"color: #008000; text-decoration-color: #008000\">'aexp'</span><span style=\"font-weight: bold\">]</span>=<span style=\"color: #008080; text-decoration-color: #008080; font-weight: bold\">0.561027484758616</span> z = <span style=\"color: #008080; text-decoration-color: #008080; font-weight: bold\">0.7824438680223544</span>                                         \n",
       "</pre>\n"
      ],
      "text/plain": [
       "param\u001b[1m[\u001b[0m\u001b[32m'nsteps'\u001b[0m\u001b[1m]\u001b[0m=\u001b[1;36m280\u001b[0m param\u001b[1m[\u001b[0m\u001b[32m'aexp'\u001b[0m\u001b[1m]\u001b[0m=\u001b[1;36m0.561027484758616\u001b[0m z = \u001b[1;36m0.7824438680223544\u001b[0m                                         \n"
      ]
     },
     "metadata": {},
     "output_type": "display_data"
    },
    {
     "data": {
      "text/html": [
       "<pre style=\"white-space:pre;overflow-x:auto;line-height:normal;font-family:Menlo,'DejaVu Sans Mono',consolas,'Courier New',monospace\">Write <span style=\"color: #800080; text-decoration-color: #800080; font-weight: bold\">P</span><span style=\"font-weight: bold\">(</span>k<span style=\"font-weight: bold\">)</span> in .<span style=\"color: #800080; text-decoration-color: #800080\">/boxlen100_n128_lcdmw7v2_00000//power/</span><span style=\"color: #ff00ff; text-decoration-color: #ff00ff\">pk_eft_multigrid_ncoarse7_00281.dat</span>                           \n",
       "</pre>\n"
      ],
      "text/plain": [
       "Write \u001b[1;35mP\u001b[0m\u001b[1m(\u001b[0mk\u001b[1m)\u001b[0m in .\u001b[35m/boxlen100_n128_lcdmw7v2_00000/\u001b[0m\u001b[35m/power/\u001b[0m\u001b[95mpk_eft_multigrid_ncoarse7_00281.dat\u001b[0m                           \n"
      ]
     },
     "metadata": {},
     "output_type": "display_data"
    },
    {
     "data": {
      "text/html": [
       "<pre style=\"white-space:pre;overflow-x:auto;line-height:normal;font-family:Menlo,'DejaVu Sans Mono',consolas,'Courier New',monospace\">param<span style=\"font-weight: bold\">[</span><span style=\"color: #008000; text-decoration-color: #008000\">'nsteps'</span><span style=\"font-weight: bold\">]</span>=<span style=\"color: #008080; text-decoration-color: #008080; font-weight: bold\">281</span> param<span style=\"font-weight: bold\">[</span><span style=\"color: #008000; text-decoration-color: #008000\">'aexp'</span><span style=\"font-weight: bold\">]</span>=<span style=\"color: #008080; text-decoration-color: #008080; font-weight: bold\">0.561027484758616</span> z = <span style=\"color: #008080; text-decoration-color: #008080; font-weight: bold\">0.7824438680223544</span>                                         \n",
       "</pre>\n"
      ],
      "text/plain": [
       "param\u001b[1m[\u001b[0m\u001b[32m'nsteps'\u001b[0m\u001b[1m]\u001b[0m=\u001b[1;36m281\u001b[0m param\u001b[1m[\u001b[0m\u001b[32m'aexp'\u001b[0m\u001b[1m]\u001b[0m=\u001b[1;36m0.561027484758616\u001b[0m z = \u001b[1;36m0.7824438680223544\u001b[0m                                         \n"
      ]
     },
     "metadata": {},
     "output_type": "display_data"
    },
    {
     "data": {
      "text/html": [
       "<pre style=\"white-space:pre;overflow-x:auto;line-height:normal;font-family:Menlo,'DejaVu Sans Mono',consolas,'Courier New',monospace\">Write <span style=\"color: #800080; text-decoration-color: #800080; font-weight: bold\">P</span><span style=\"font-weight: bold\">(</span>k<span style=\"font-weight: bold\">)</span> in .<span style=\"color: #800080; text-decoration-color: #800080\">/boxlen100_n128_lcdmw7v2_00000//power/</span><span style=\"color: #ff00ff; text-decoration-color: #ff00ff\">pk_eft_multigrid_ncoarse7_00282.dat</span>                           \n",
       "</pre>\n"
      ],
      "text/plain": [
       "Write \u001b[1;35mP\u001b[0m\u001b[1m(\u001b[0mk\u001b[1m)\u001b[0m in .\u001b[35m/boxlen100_n128_lcdmw7v2_00000/\u001b[0m\u001b[35m/power/\u001b[0m\u001b[95mpk_eft_multigrid_ncoarse7_00282.dat\u001b[0m                           \n"
      ]
     },
     "metadata": {},
     "output_type": "display_data"
    },
    {
     "data": {
      "text/html": [
       "<pre style=\"white-space:pre;overflow-x:auto;line-height:normal;font-family:Menlo,'DejaVu Sans Mono',consolas,'Courier New',monospace\">param<span style=\"font-weight: bold\">[</span><span style=\"color: #008000; text-decoration-color: #008000\">'nsteps'</span><span style=\"font-weight: bold\">]</span>=<span style=\"color: #008080; text-decoration-color: #008080; font-weight: bold\">282</span> param<span style=\"font-weight: bold\">[</span><span style=\"color: #008000; text-decoration-color: #008000\">'aexp'</span><span style=\"font-weight: bold\">]</span>=<span style=\"color: #008080; text-decoration-color: #008080; font-weight: bold\">0.561027484758616</span> z = <span style=\"color: #008080; text-decoration-color: #008080; font-weight: bold\">0.7824438680223544</span>                                         \n",
       "</pre>\n"
      ],
      "text/plain": [
       "param\u001b[1m[\u001b[0m\u001b[32m'nsteps'\u001b[0m\u001b[1m]\u001b[0m=\u001b[1;36m282\u001b[0m param\u001b[1m[\u001b[0m\u001b[32m'aexp'\u001b[0m\u001b[1m]\u001b[0m=\u001b[1;36m0.561027484758616\u001b[0m z = \u001b[1;36m0.7824438680223544\u001b[0m                                         \n"
      ]
     },
     "metadata": {},
     "output_type": "display_data"
    },
    {
     "data": {
      "text/html": [
       "<pre style=\"white-space:pre;overflow-x:auto;line-height:normal;font-family:Menlo,'DejaVu Sans Mono',consolas,'Courier New',monospace\">Write <span style=\"color: #800080; text-decoration-color: #800080; font-weight: bold\">P</span><span style=\"font-weight: bold\">(</span>k<span style=\"font-weight: bold\">)</span> in .<span style=\"color: #800080; text-decoration-color: #800080\">/boxlen100_n128_lcdmw7v2_00000//power/</span><span style=\"color: #ff00ff; text-decoration-color: #ff00ff\">pk_eft_multigrid_ncoarse7_00283.dat</span>                           \n",
       "</pre>\n"
      ],
      "text/plain": [
       "Write \u001b[1;35mP\u001b[0m\u001b[1m(\u001b[0mk\u001b[1m)\u001b[0m in .\u001b[35m/boxlen100_n128_lcdmw7v2_00000/\u001b[0m\u001b[35m/power/\u001b[0m\u001b[95mpk_eft_multigrid_ncoarse7_00283.dat\u001b[0m                           \n"
      ]
     },
     "metadata": {},
     "output_type": "display_data"
    },
    {
     "data": {
      "text/html": [
       "<pre style=\"white-space:pre;overflow-x:auto;line-height:normal;font-family:Menlo,'DejaVu Sans Mono',consolas,'Courier New',monospace\">param<span style=\"font-weight: bold\">[</span><span style=\"color: #008000; text-decoration-color: #008000\">'nsteps'</span><span style=\"font-weight: bold\">]</span>=<span style=\"color: #008080; text-decoration-color: #008080; font-weight: bold\">283</span> param<span style=\"font-weight: bold\">[</span><span style=\"color: #008000; text-decoration-color: #008000\">'aexp'</span><span style=\"font-weight: bold\">]</span>=<span style=\"color: #008080; text-decoration-color: #008080; font-weight: bold\">0.561027484758616</span> z = <span style=\"color: #008080; text-decoration-color: #008080; font-weight: bold\">0.7824438680223544</span>                                         \n",
       "</pre>\n"
      ],
      "text/plain": [
       "param\u001b[1m[\u001b[0m\u001b[32m'nsteps'\u001b[0m\u001b[1m]\u001b[0m=\u001b[1;36m283\u001b[0m param\u001b[1m[\u001b[0m\u001b[32m'aexp'\u001b[0m\u001b[1m]\u001b[0m=\u001b[1;36m0.561027484758616\u001b[0m z = \u001b[1;36m0.7824438680223544\u001b[0m                                         \n"
      ]
     },
     "metadata": {},
     "output_type": "display_data"
    },
    {
     "data": {
      "text/html": [
       "<pre style=\"white-space:pre;overflow-x:auto;line-height:normal;font-family:Menlo,'DejaVu Sans Mono',consolas,'Courier New',monospace\">Write <span style=\"color: #800080; text-decoration-color: #800080; font-weight: bold\">P</span><span style=\"font-weight: bold\">(</span>k<span style=\"font-weight: bold\">)</span> in .<span style=\"color: #800080; text-decoration-color: #800080\">/boxlen100_n128_lcdmw7v2_00000//power/</span><span style=\"color: #ff00ff; text-decoration-color: #ff00ff\">pk_eft_multigrid_ncoarse7_00284.dat</span>                           \n",
       "</pre>\n"
      ],
      "text/plain": [
       "Write \u001b[1;35mP\u001b[0m\u001b[1m(\u001b[0mk\u001b[1m)\u001b[0m in .\u001b[35m/boxlen100_n128_lcdmw7v2_00000/\u001b[0m\u001b[35m/power/\u001b[0m\u001b[95mpk_eft_multigrid_ncoarse7_00284.dat\u001b[0m                           \n"
      ]
     },
     "metadata": {},
     "output_type": "display_data"
    },
    {
     "data": {
      "text/html": [
       "<pre style=\"white-space:pre;overflow-x:auto;line-height:normal;font-family:Menlo,'DejaVu Sans Mono',consolas,'Courier New',monospace\">param<span style=\"font-weight: bold\">[</span><span style=\"color: #008000; text-decoration-color: #008000\">'nsteps'</span><span style=\"font-weight: bold\">]</span>=<span style=\"color: #008080; text-decoration-color: #008080; font-weight: bold\">284</span> param<span style=\"font-weight: bold\">[</span><span style=\"color: #008000; text-decoration-color: #008000\">'aexp'</span><span style=\"font-weight: bold\">]</span>=<span style=\"color: #008080; text-decoration-color: #008080; font-weight: bold\">0.561027484758616</span> z = <span style=\"color: #008080; text-decoration-color: #008080; font-weight: bold\">0.7824438680223544</span>                                         \n",
       "</pre>\n"
      ],
      "text/plain": [
       "param\u001b[1m[\u001b[0m\u001b[32m'nsteps'\u001b[0m\u001b[1m]\u001b[0m=\u001b[1;36m284\u001b[0m param\u001b[1m[\u001b[0m\u001b[32m'aexp'\u001b[0m\u001b[1m]\u001b[0m=\u001b[1;36m0.561027484758616\u001b[0m z = \u001b[1;36m0.7824438680223544\u001b[0m                                         \n"
      ]
     },
     "metadata": {},
     "output_type": "display_data"
    },
    {
     "data": {
      "text/html": [
       "<pre style=\"white-space:pre;overflow-x:auto;line-height:normal;font-family:Menlo,'DejaVu Sans Mono',consolas,'Courier New',monospace\">Write <span style=\"color: #800080; text-decoration-color: #800080; font-weight: bold\">P</span><span style=\"font-weight: bold\">(</span>k<span style=\"font-weight: bold\">)</span> in .<span style=\"color: #800080; text-decoration-color: #800080\">/boxlen100_n128_lcdmw7v2_00000//power/</span><span style=\"color: #ff00ff; text-decoration-color: #ff00ff\">pk_eft_multigrid_ncoarse7_00285.dat</span>                           \n",
       "</pre>\n"
      ],
      "text/plain": [
       "Write \u001b[1;35mP\u001b[0m\u001b[1m(\u001b[0mk\u001b[1m)\u001b[0m in .\u001b[35m/boxlen100_n128_lcdmw7v2_00000/\u001b[0m\u001b[35m/power/\u001b[0m\u001b[95mpk_eft_multigrid_ncoarse7_00285.dat\u001b[0m                           \n"
      ]
     },
     "metadata": {},
     "output_type": "display_data"
    },
    {
     "data": {
      "text/html": [
       "<pre style=\"white-space:pre;overflow-x:auto;line-height:normal;font-family:Menlo,'DejaVu Sans Mono',consolas,'Courier New',monospace\">param<span style=\"font-weight: bold\">[</span><span style=\"color: #008000; text-decoration-color: #008000\">'nsteps'</span><span style=\"font-weight: bold\">]</span>=<span style=\"color: #008080; text-decoration-color: #008080; font-weight: bold\">285</span> param<span style=\"font-weight: bold\">[</span><span style=\"color: #008000; text-decoration-color: #008000\">'aexp'</span><span style=\"font-weight: bold\">]</span>=<span style=\"color: #008080; text-decoration-color: #008080; font-weight: bold\">0.561027484758616</span> z = <span style=\"color: #008080; text-decoration-color: #008080; font-weight: bold\">0.7824438680223544</span>                                         \n",
       "</pre>\n"
      ],
      "text/plain": [
       "param\u001b[1m[\u001b[0m\u001b[32m'nsteps'\u001b[0m\u001b[1m]\u001b[0m=\u001b[1;36m285\u001b[0m param\u001b[1m[\u001b[0m\u001b[32m'aexp'\u001b[0m\u001b[1m]\u001b[0m=\u001b[1;36m0.561027484758616\u001b[0m z = \u001b[1;36m0.7824438680223544\u001b[0m                                         \n"
      ]
     },
     "metadata": {},
     "output_type": "display_data"
    },
    {
     "data": {
      "text/html": [
       "<pre style=\"white-space:pre;overflow-x:auto;line-height:normal;font-family:Menlo,'DejaVu Sans Mono',consolas,'Courier New',monospace\">Write <span style=\"color: #800080; text-decoration-color: #800080; font-weight: bold\">P</span><span style=\"font-weight: bold\">(</span>k<span style=\"font-weight: bold\">)</span> in .<span style=\"color: #800080; text-decoration-color: #800080\">/boxlen100_n128_lcdmw7v2_00000//power/</span><span style=\"color: #ff00ff; text-decoration-color: #ff00ff\">pk_eft_multigrid_ncoarse7_00286.dat</span>                           \n",
       "</pre>\n"
      ],
      "text/plain": [
       "Write \u001b[1;35mP\u001b[0m\u001b[1m(\u001b[0mk\u001b[1m)\u001b[0m in .\u001b[35m/boxlen100_n128_lcdmw7v2_00000/\u001b[0m\u001b[35m/power/\u001b[0m\u001b[95mpk_eft_multigrid_ncoarse7_00286.dat\u001b[0m                           \n"
      ]
     },
     "metadata": {},
     "output_type": "display_data"
    },
    {
     "data": {
      "text/html": [
       "<pre style=\"white-space:pre;overflow-x:auto;line-height:normal;font-family:Menlo,'DejaVu Sans Mono',consolas,'Courier New',monospace\">param<span style=\"font-weight: bold\">[</span><span style=\"color: #008000; text-decoration-color: #008000\">'nsteps'</span><span style=\"font-weight: bold\">]</span>=<span style=\"color: #008080; text-decoration-color: #008080; font-weight: bold\">286</span> param<span style=\"font-weight: bold\">[</span><span style=\"color: #008000; text-decoration-color: #008000\">'aexp'</span><span style=\"font-weight: bold\">]</span>=<span style=\"color: #008080; text-decoration-color: #008080; font-weight: bold\">0.561027484758616</span> z = <span style=\"color: #008080; text-decoration-color: #008080; font-weight: bold\">0.7824438680223544</span>                                         \n",
       "</pre>\n"
      ],
      "text/plain": [
       "param\u001b[1m[\u001b[0m\u001b[32m'nsteps'\u001b[0m\u001b[1m]\u001b[0m=\u001b[1;36m286\u001b[0m param\u001b[1m[\u001b[0m\u001b[32m'aexp'\u001b[0m\u001b[1m]\u001b[0m=\u001b[1;36m0.561027484758616\u001b[0m z = \u001b[1;36m0.7824438680223544\u001b[0m                                         \n"
      ]
     },
     "metadata": {},
     "output_type": "display_data"
    },
    {
     "data": {
      "text/html": [
       "<pre style=\"white-space:pre;overflow-x:auto;line-height:normal;font-family:Menlo,'DejaVu Sans Mono',consolas,'Courier New',monospace\">Write <span style=\"color: #800080; text-decoration-color: #800080; font-weight: bold\">P</span><span style=\"font-weight: bold\">(</span>k<span style=\"font-weight: bold\">)</span> in .<span style=\"color: #800080; text-decoration-color: #800080\">/boxlen100_n128_lcdmw7v2_00000//power/</span><span style=\"color: #ff00ff; text-decoration-color: #ff00ff\">pk_eft_multigrid_ncoarse7_00287.dat</span>                           \n",
       "</pre>\n"
      ],
      "text/plain": [
       "Write \u001b[1;35mP\u001b[0m\u001b[1m(\u001b[0mk\u001b[1m)\u001b[0m in .\u001b[35m/boxlen100_n128_lcdmw7v2_00000/\u001b[0m\u001b[35m/power/\u001b[0m\u001b[95mpk_eft_multigrid_ncoarse7_00287.dat\u001b[0m                           \n"
      ]
     },
     "metadata": {},
     "output_type": "display_data"
    },
    {
     "data": {
      "text/html": [
       "<pre style=\"white-space:pre;overflow-x:auto;line-height:normal;font-family:Menlo,'DejaVu Sans Mono',consolas,'Courier New',monospace\">param<span style=\"font-weight: bold\">[</span><span style=\"color: #008000; text-decoration-color: #008000\">'nsteps'</span><span style=\"font-weight: bold\">]</span>=<span style=\"color: #008080; text-decoration-color: #008080; font-weight: bold\">287</span> param<span style=\"font-weight: bold\">[</span><span style=\"color: #008000; text-decoration-color: #008000\">'aexp'</span><span style=\"font-weight: bold\">]</span>=<span style=\"color: #008080; text-decoration-color: #008080; font-weight: bold\">0.561027484758616</span> z = <span style=\"color: #008080; text-decoration-color: #008080; font-weight: bold\">0.7824438680223544</span>                                         \n",
       "</pre>\n"
      ],
      "text/plain": [
       "param\u001b[1m[\u001b[0m\u001b[32m'nsteps'\u001b[0m\u001b[1m]\u001b[0m=\u001b[1;36m287\u001b[0m param\u001b[1m[\u001b[0m\u001b[32m'aexp'\u001b[0m\u001b[1m]\u001b[0m=\u001b[1;36m0.561027484758616\u001b[0m z = \u001b[1;36m0.7824438680223544\u001b[0m                                         \n"
      ]
     },
     "metadata": {},
     "output_type": "display_data"
    },
    {
     "data": {
      "text/html": [
       "<pre style=\"white-space:pre;overflow-x:auto;line-height:normal;font-family:Menlo,'DejaVu Sans Mono',consolas,'Courier New',monospace\">Write <span style=\"color: #800080; text-decoration-color: #800080; font-weight: bold\">P</span><span style=\"font-weight: bold\">(</span>k<span style=\"font-weight: bold\">)</span> in .<span style=\"color: #800080; text-decoration-color: #800080\">/boxlen100_n128_lcdmw7v2_00000//power/</span><span style=\"color: #ff00ff; text-decoration-color: #ff00ff\">pk_eft_multigrid_ncoarse7_00288.dat</span>                           \n",
       "</pre>\n"
      ],
      "text/plain": [
       "Write \u001b[1;35mP\u001b[0m\u001b[1m(\u001b[0mk\u001b[1m)\u001b[0m in .\u001b[35m/boxlen100_n128_lcdmw7v2_00000/\u001b[0m\u001b[35m/power/\u001b[0m\u001b[95mpk_eft_multigrid_ncoarse7_00288.dat\u001b[0m                           \n"
      ]
     },
     "metadata": {},
     "output_type": "display_data"
    },
    {
     "data": {
      "text/html": [
       "<pre style=\"white-space:pre;overflow-x:auto;line-height:normal;font-family:Menlo,'DejaVu Sans Mono',consolas,'Courier New',monospace\">param<span style=\"font-weight: bold\">[</span><span style=\"color: #008000; text-decoration-color: #008000\">'nsteps'</span><span style=\"font-weight: bold\">]</span>=<span style=\"color: #008080; text-decoration-color: #008080; font-weight: bold\">288</span> param<span style=\"font-weight: bold\">[</span><span style=\"color: #008000; text-decoration-color: #008000\">'aexp'</span><span style=\"font-weight: bold\">]</span>=<span style=\"color: #008080; text-decoration-color: #008080; font-weight: bold\">0.561027484758616</span> z = <span style=\"color: #008080; text-decoration-color: #008080; font-weight: bold\">0.7824438680223544</span>                                         \n",
       "</pre>\n"
      ],
      "text/plain": [
       "param\u001b[1m[\u001b[0m\u001b[32m'nsteps'\u001b[0m\u001b[1m]\u001b[0m=\u001b[1;36m288\u001b[0m param\u001b[1m[\u001b[0m\u001b[32m'aexp'\u001b[0m\u001b[1m]\u001b[0m=\u001b[1;36m0.561027484758616\u001b[0m z = \u001b[1;36m0.7824438680223544\u001b[0m                                         \n"
      ]
     },
     "metadata": {},
     "output_type": "display_data"
    },
    {
     "data": {
      "text/html": [
       "<pre style=\"white-space:pre;overflow-x:auto;line-height:normal;font-family:Menlo,'DejaVu Sans Mono',consolas,'Courier New',monospace\">Write <span style=\"color: #800080; text-decoration-color: #800080; font-weight: bold\">P</span><span style=\"font-weight: bold\">(</span>k<span style=\"font-weight: bold\">)</span> in .<span style=\"color: #800080; text-decoration-color: #800080\">/boxlen100_n128_lcdmw7v2_00000//power/</span><span style=\"color: #ff00ff; text-decoration-color: #ff00ff\">pk_eft_multigrid_ncoarse7_00289.dat</span>                           \n",
       "</pre>\n"
      ],
      "text/plain": [
       "Write \u001b[1;35mP\u001b[0m\u001b[1m(\u001b[0mk\u001b[1m)\u001b[0m in .\u001b[35m/boxlen100_n128_lcdmw7v2_00000/\u001b[0m\u001b[35m/power/\u001b[0m\u001b[95mpk_eft_multigrid_ncoarse7_00289.dat\u001b[0m                           \n"
      ]
     },
     "metadata": {},
     "output_type": "display_data"
    },
    {
     "data": {
      "text/html": [
       "<pre style=\"white-space:pre;overflow-x:auto;line-height:normal;font-family:Menlo,'DejaVu Sans Mono',consolas,'Courier New',monospace\">param<span style=\"font-weight: bold\">[</span><span style=\"color: #008000; text-decoration-color: #008000\">'nsteps'</span><span style=\"font-weight: bold\">]</span>=<span style=\"color: #008080; text-decoration-color: #008080; font-weight: bold\">289</span> param<span style=\"font-weight: bold\">[</span><span style=\"color: #008000; text-decoration-color: #008000\">'aexp'</span><span style=\"font-weight: bold\">]</span>=<span style=\"color: #008080; text-decoration-color: #008080; font-weight: bold\">0.561027484758616</span> z = <span style=\"color: #008080; text-decoration-color: #008080; font-weight: bold\">0.7824438680223544</span>                                         \n",
       "</pre>\n"
      ],
      "text/plain": [
       "param\u001b[1m[\u001b[0m\u001b[32m'nsteps'\u001b[0m\u001b[1m]\u001b[0m=\u001b[1;36m289\u001b[0m param\u001b[1m[\u001b[0m\u001b[32m'aexp'\u001b[0m\u001b[1m]\u001b[0m=\u001b[1;36m0.561027484758616\u001b[0m z = \u001b[1;36m0.7824438680223544\u001b[0m                                         \n"
      ]
     },
     "metadata": {},
     "output_type": "display_data"
    },
    {
     "data": {
      "text/html": [
       "<pre style=\"white-space:pre;overflow-x:auto;line-height:normal;font-family:Menlo,'DejaVu Sans Mono',consolas,'Courier New',monospace\">Write <span style=\"color: #800080; text-decoration-color: #800080; font-weight: bold\">P</span><span style=\"font-weight: bold\">(</span>k<span style=\"font-weight: bold\">)</span> in .<span style=\"color: #800080; text-decoration-color: #800080\">/boxlen100_n128_lcdmw7v2_00000//power/</span><span style=\"color: #ff00ff; text-decoration-color: #ff00ff\">pk_eft_multigrid_ncoarse7_00290.dat</span>                           \n",
       "</pre>\n"
      ],
      "text/plain": [
       "Write \u001b[1;35mP\u001b[0m\u001b[1m(\u001b[0mk\u001b[1m)\u001b[0m in .\u001b[35m/boxlen100_n128_lcdmw7v2_00000/\u001b[0m\u001b[35m/power/\u001b[0m\u001b[95mpk_eft_multigrid_ncoarse7_00290.dat\u001b[0m                           \n"
      ]
     },
     "metadata": {},
     "output_type": "display_data"
    },
    {
     "data": {
      "text/html": [
       "<pre style=\"white-space:pre;overflow-x:auto;line-height:normal;font-family:Menlo,'DejaVu Sans Mono',consolas,'Courier New',monospace\">param<span style=\"font-weight: bold\">[</span><span style=\"color: #008000; text-decoration-color: #008000\">'nsteps'</span><span style=\"font-weight: bold\">]</span>=<span style=\"color: #008080; text-decoration-color: #008080; font-weight: bold\">290</span> param<span style=\"font-weight: bold\">[</span><span style=\"color: #008000; text-decoration-color: #008000\">'aexp'</span><span style=\"font-weight: bold\">]</span>=<span style=\"color: #008080; text-decoration-color: #008080; font-weight: bold\">0.561027484758616</span> z = <span style=\"color: #008080; text-decoration-color: #008080; font-weight: bold\">0.7824438680223544</span>                                         \n",
       "</pre>\n"
      ],
      "text/plain": [
       "param\u001b[1m[\u001b[0m\u001b[32m'nsteps'\u001b[0m\u001b[1m]\u001b[0m=\u001b[1;36m290\u001b[0m param\u001b[1m[\u001b[0m\u001b[32m'aexp'\u001b[0m\u001b[1m]\u001b[0m=\u001b[1;36m0.561027484758616\u001b[0m z = \u001b[1;36m0.7824438680223544\u001b[0m                                         \n"
      ]
     },
     "metadata": {},
     "output_type": "display_data"
    },
    {
     "data": {
      "text/html": [
       "<pre style=\"white-space:pre;overflow-x:auto;line-height:normal;font-family:Menlo,'DejaVu Sans Mono',consolas,'Courier New',monospace\">Write <span style=\"color: #800080; text-decoration-color: #800080; font-weight: bold\">P</span><span style=\"font-weight: bold\">(</span>k<span style=\"font-weight: bold\">)</span> in .<span style=\"color: #800080; text-decoration-color: #800080\">/boxlen100_n128_lcdmw7v2_00000//power/</span><span style=\"color: #ff00ff; text-decoration-color: #ff00ff\">pk_eft_multigrid_ncoarse7_00291.dat</span>                           \n",
       "</pre>\n"
      ],
      "text/plain": [
       "Write \u001b[1;35mP\u001b[0m\u001b[1m(\u001b[0mk\u001b[1m)\u001b[0m in .\u001b[35m/boxlen100_n128_lcdmw7v2_00000/\u001b[0m\u001b[35m/power/\u001b[0m\u001b[95mpk_eft_multigrid_ncoarse7_00291.dat\u001b[0m                           \n"
      ]
     },
     "metadata": {},
     "output_type": "display_data"
    },
    {
     "data": {
      "text/html": [
       "<pre style=\"white-space:pre;overflow-x:auto;line-height:normal;font-family:Menlo,'DejaVu Sans Mono',consolas,'Courier New',monospace\">param<span style=\"font-weight: bold\">[</span><span style=\"color: #008000; text-decoration-color: #008000\">'nsteps'</span><span style=\"font-weight: bold\">]</span>=<span style=\"color: #008080; text-decoration-color: #008080; font-weight: bold\">291</span> param<span style=\"font-weight: bold\">[</span><span style=\"color: #008000; text-decoration-color: #008000\">'aexp'</span><span style=\"font-weight: bold\">]</span>=<span style=\"color: #008080; text-decoration-color: #008080; font-weight: bold\">0.561027484758616</span> z = <span style=\"color: #008080; text-decoration-color: #008080; font-weight: bold\">0.7824438680223544</span>                                         \n",
       "</pre>\n"
      ],
      "text/plain": [
       "param\u001b[1m[\u001b[0m\u001b[32m'nsteps'\u001b[0m\u001b[1m]\u001b[0m=\u001b[1;36m291\u001b[0m param\u001b[1m[\u001b[0m\u001b[32m'aexp'\u001b[0m\u001b[1m]\u001b[0m=\u001b[1;36m0.561027484758616\u001b[0m z = \u001b[1;36m0.7824438680223544\u001b[0m                                         \n"
      ]
     },
     "metadata": {},
     "output_type": "display_data"
    },
    {
     "data": {
      "text/html": [
       "<pre style=\"white-space:pre;overflow-x:auto;line-height:normal;font-family:Menlo,'DejaVu Sans Mono',consolas,'Courier New',monospace\">Write <span style=\"color: #800080; text-decoration-color: #800080; font-weight: bold\">P</span><span style=\"font-weight: bold\">(</span>k<span style=\"font-weight: bold\">)</span> in .<span style=\"color: #800080; text-decoration-color: #800080\">/boxlen100_n128_lcdmw7v2_00000//power/</span><span style=\"color: #ff00ff; text-decoration-color: #ff00ff\">pk_eft_multigrid_ncoarse7_00292.dat</span>                           \n",
       "</pre>\n"
      ],
      "text/plain": [
       "Write \u001b[1;35mP\u001b[0m\u001b[1m(\u001b[0mk\u001b[1m)\u001b[0m in .\u001b[35m/boxlen100_n128_lcdmw7v2_00000/\u001b[0m\u001b[35m/power/\u001b[0m\u001b[95mpk_eft_multigrid_ncoarse7_00292.dat\u001b[0m                           \n"
      ]
     },
     "metadata": {},
     "output_type": "display_data"
    },
    {
     "data": {
      "text/html": [
       "<pre style=\"white-space:pre;overflow-x:auto;line-height:normal;font-family:Menlo,'DejaVu Sans Mono',consolas,'Courier New',monospace\">param<span style=\"font-weight: bold\">[</span><span style=\"color: #008000; text-decoration-color: #008000\">'nsteps'</span><span style=\"font-weight: bold\">]</span>=<span style=\"color: #008080; text-decoration-color: #008080; font-weight: bold\">292</span> param<span style=\"font-weight: bold\">[</span><span style=\"color: #008000; text-decoration-color: #008000\">'aexp'</span><span style=\"font-weight: bold\">]</span>=<span style=\"color: #008080; text-decoration-color: #008080; font-weight: bold\">0.561027484758616</span> z = <span style=\"color: #008080; text-decoration-color: #008080; font-weight: bold\">0.7824438680223544</span>                                         \n",
       "</pre>\n"
      ],
      "text/plain": [
       "param\u001b[1m[\u001b[0m\u001b[32m'nsteps'\u001b[0m\u001b[1m]\u001b[0m=\u001b[1;36m292\u001b[0m param\u001b[1m[\u001b[0m\u001b[32m'aexp'\u001b[0m\u001b[1m]\u001b[0m=\u001b[1;36m0.561027484758616\u001b[0m z = \u001b[1;36m0.7824438680223544\u001b[0m                                         \n"
      ]
     },
     "metadata": {},
     "output_type": "display_data"
    },
    {
     "data": {
      "text/html": [
       "<pre style=\"white-space:pre;overflow-x:auto;line-height:normal;font-family:Menlo,'DejaVu Sans Mono',consolas,'Courier New',monospace\">Write <span style=\"color: #800080; text-decoration-color: #800080; font-weight: bold\">P</span><span style=\"font-weight: bold\">(</span>k<span style=\"font-weight: bold\">)</span> in .<span style=\"color: #800080; text-decoration-color: #800080\">/boxlen100_n128_lcdmw7v2_00000//power/</span><span style=\"color: #ff00ff; text-decoration-color: #ff00ff\">pk_eft_multigrid_ncoarse7_00293.dat</span>                           \n",
       "</pre>\n"
      ],
      "text/plain": [
       "Write \u001b[1;35mP\u001b[0m\u001b[1m(\u001b[0mk\u001b[1m)\u001b[0m in .\u001b[35m/boxlen100_n128_lcdmw7v2_00000/\u001b[0m\u001b[35m/power/\u001b[0m\u001b[95mpk_eft_multigrid_ncoarse7_00293.dat\u001b[0m                           \n"
      ]
     },
     "metadata": {},
     "output_type": "display_data"
    },
    {
     "data": {
      "text/html": [
       "<pre style=\"white-space:pre;overflow-x:auto;line-height:normal;font-family:Menlo,'DejaVu Sans Mono',consolas,'Courier New',monospace\">param<span style=\"font-weight: bold\">[</span><span style=\"color: #008000; text-decoration-color: #008000\">'nsteps'</span><span style=\"font-weight: bold\">]</span>=<span style=\"color: #008080; text-decoration-color: #008080; font-weight: bold\">293</span> param<span style=\"font-weight: bold\">[</span><span style=\"color: #008000; text-decoration-color: #008000\">'aexp'</span><span style=\"font-weight: bold\">]</span>=<span style=\"color: #008080; text-decoration-color: #008080; font-weight: bold\">0.561027484758616</span> z = <span style=\"color: #008080; text-decoration-color: #008080; font-weight: bold\">0.7824438680223544</span>                                         \n",
       "</pre>\n"
      ],
      "text/plain": [
       "param\u001b[1m[\u001b[0m\u001b[32m'nsteps'\u001b[0m\u001b[1m]\u001b[0m=\u001b[1;36m293\u001b[0m param\u001b[1m[\u001b[0m\u001b[32m'aexp'\u001b[0m\u001b[1m]\u001b[0m=\u001b[1;36m0.561027484758616\u001b[0m z = \u001b[1;36m0.7824438680223544\u001b[0m                                         \n"
      ]
     },
     "metadata": {},
     "output_type": "display_data"
    },
    {
     "data": {
      "text/html": [
       "<pre style=\"white-space:pre;overflow-x:auto;line-height:normal;font-family:Menlo,'DejaVu Sans Mono',consolas,'Courier New',monospace\">Write <span style=\"color: #800080; text-decoration-color: #800080; font-weight: bold\">P</span><span style=\"font-weight: bold\">(</span>k<span style=\"font-weight: bold\">)</span> in .<span style=\"color: #800080; text-decoration-color: #800080\">/boxlen100_n128_lcdmw7v2_00000//power/</span><span style=\"color: #ff00ff; text-decoration-color: #ff00ff\">pk_eft_multigrid_ncoarse7_00294.dat</span>                           \n",
       "</pre>\n"
      ],
      "text/plain": [
       "Write \u001b[1;35mP\u001b[0m\u001b[1m(\u001b[0mk\u001b[1m)\u001b[0m in .\u001b[35m/boxlen100_n128_lcdmw7v2_00000/\u001b[0m\u001b[35m/power/\u001b[0m\u001b[95mpk_eft_multigrid_ncoarse7_00294.dat\u001b[0m                           \n"
      ]
     },
     "metadata": {},
     "output_type": "display_data"
    },
    {
     "data": {
      "text/html": [
       "<pre style=\"white-space:pre;overflow-x:auto;line-height:normal;font-family:Menlo,'DejaVu Sans Mono',consolas,'Courier New',monospace\">param<span style=\"font-weight: bold\">[</span><span style=\"color: #008000; text-decoration-color: #008000\">'nsteps'</span><span style=\"font-weight: bold\">]</span>=<span style=\"color: #008080; text-decoration-color: #008080; font-weight: bold\">294</span> param<span style=\"font-weight: bold\">[</span><span style=\"color: #008000; text-decoration-color: #008000\">'aexp'</span><span style=\"font-weight: bold\">]</span>=<span style=\"color: #008080; text-decoration-color: #008080; font-weight: bold\">0.561027484758616</span> z = <span style=\"color: #008080; text-decoration-color: #008080; font-weight: bold\">0.7824438680223544</span>                                         \n",
       "</pre>\n"
      ],
      "text/plain": [
       "param\u001b[1m[\u001b[0m\u001b[32m'nsteps'\u001b[0m\u001b[1m]\u001b[0m=\u001b[1;36m294\u001b[0m param\u001b[1m[\u001b[0m\u001b[32m'aexp'\u001b[0m\u001b[1m]\u001b[0m=\u001b[1;36m0.561027484758616\u001b[0m z = \u001b[1;36m0.7824438680223544\u001b[0m                                         \n"
      ]
     },
     "metadata": {},
     "output_type": "display_data"
    },
    {
     "data": {
      "text/html": [
       "<pre style=\"white-space:pre;overflow-x:auto;line-height:normal;font-family:Menlo,'DejaVu Sans Mono',consolas,'Courier New',monospace\">Write <span style=\"color: #800080; text-decoration-color: #800080; font-weight: bold\">P</span><span style=\"font-weight: bold\">(</span>k<span style=\"font-weight: bold\">)</span> in .<span style=\"color: #800080; text-decoration-color: #800080\">/boxlen100_n128_lcdmw7v2_00000//power/</span><span style=\"color: #ff00ff; text-decoration-color: #ff00ff\">pk_eft_multigrid_ncoarse7_00295.dat</span>                           \n",
       "</pre>\n"
      ],
      "text/plain": [
       "Write \u001b[1;35mP\u001b[0m\u001b[1m(\u001b[0mk\u001b[1m)\u001b[0m in .\u001b[35m/boxlen100_n128_lcdmw7v2_00000/\u001b[0m\u001b[35m/power/\u001b[0m\u001b[95mpk_eft_multigrid_ncoarse7_00295.dat\u001b[0m                           \n"
      ]
     },
     "metadata": {},
     "output_type": "display_data"
    },
    {
     "data": {
      "text/html": [
       "<pre style=\"white-space:pre;overflow-x:auto;line-height:normal;font-family:Menlo,'DejaVu Sans Mono',consolas,'Courier New',monospace\">param<span style=\"font-weight: bold\">[</span><span style=\"color: #008000; text-decoration-color: #008000\">'nsteps'</span><span style=\"font-weight: bold\">]</span>=<span style=\"color: #008080; text-decoration-color: #008080; font-weight: bold\">295</span> param<span style=\"font-weight: bold\">[</span><span style=\"color: #008000; text-decoration-color: #008000\">'aexp'</span><span style=\"font-weight: bold\">]</span>=<span style=\"color: #008080; text-decoration-color: #008080; font-weight: bold\">0.561027484758616</span> z = <span style=\"color: #008080; text-decoration-color: #008080; font-weight: bold\">0.7824438680223544</span>                                         \n",
       "</pre>\n"
      ],
      "text/plain": [
       "param\u001b[1m[\u001b[0m\u001b[32m'nsteps'\u001b[0m\u001b[1m]\u001b[0m=\u001b[1;36m295\u001b[0m param\u001b[1m[\u001b[0m\u001b[32m'aexp'\u001b[0m\u001b[1m]\u001b[0m=\u001b[1;36m0.561027484758616\u001b[0m z = \u001b[1;36m0.7824438680223544\u001b[0m                                         \n"
      ]
     },
     "metadata": {},
     "output_type": "display_data"
    },
    {
     "data": {
      "text/html": [
       "<pre style=\"white-space:pre;overflow-x:auto;line-height:normal;font-family:Menlo,'DejaVu Sans Mono',consolas,'Courier New',monospace\">Write <span style=\"color: #800080; text-decoration-color: #800080; font-weight: bold\">P</span><span style=\"font-weight: bold\">(</span>k<span style=\"font-weight: bold\">)</span> in .<span style=\"color: #800080; text-decoration-color: #800080\">/boxlen100_n128_lcdmw7v2_00000//power/</span><span style=\"color: #ff00ff; text-decoration-color: #ff00ff\">pk_eft_multigrid_ncoarse7_00296.dat</span>                           \n",
       "</pre>\n"
      ],
      "text/plain": [
       "Write \u001b[1;35mP\u001b[0m\u001b[1m(\u001b[0mk\u001b[1m)\u001b[0m in .\u001b[35m/boxlen100_n128_lcdmw7v2_00000/\u001b[0m\u001b[35m/power/\u001b[0m\u001b[95mpk_eft_multigrid_ncoarse7_00296.dat\u001b[0m                           \n"
      ]
     },
     "metadata": {},
     "output_type": "display_data"
    },
    {
     "data": {
      "text/html": [
       "<pre style=\"white-space:pre;overflow-x:auto;line-height:normal;font-family:Menlo,'DejaVu Sans Mono',consolas,'Courier New',monospace\">param<span style=\"font-weight: bold\">[</span><span style=\"color: #008000; text-decoration-color: #008000\">'nsteps'</span><span style=\"font-weight: bold\">]</span>=<span style=\"color: #008080; text-decoration-color: #008080; font-weight: bold\">296</span> param<span style=\"font-weight: bold\">[</span><span style=\"color: #008000; text-decoration-color: #008000\">'aexp'</span><span style=\"font-weight: bold\">]</span>=<span style=\"color: #008080; text-decoration-color: #008080; font-weight: bold\">0.561027484758616</span> z = <span style=\"color: #008080; text-decoration-color: #008080; font-weight: bold\">0.7824438680223544</span>                                         \n",
       "</pre>\n"
      ],
      "text/plain": [
       "param\u001b[1m[\u001b[0m\u001b[32m'nsteps'\u001b[0m\u001b[1m]\u001b[0m=\u001b[1;36m296\u001b[0m param\u001b[1m[\u001b[0m\u001b[32m'aexp'\u001b[0m\u001b[1m]\u001b[0m=\u001b[1;36m0.561027484758616\u001b[0m z = \u001b[1;36m0.7824438680223544\u001b[0m                                         \n"
      ]
     },
     "metadata": {},
     "output_type": "display_data"
    },
    {
     "data": {
      "text/html": [
       "<pre style=\"white-space:pre;overflow-x:auto;line-height:normal;font-family:Menlo,'DejaVu Sans Mono',consolas,'Courier New',monospace\">Write <span style=\"color: #800080; text-decoration-color: #800080; font-weight: bold\">P</span><span style=\"font-weight: bold\">(</span>k<span style=\"font-weight: bold\">)</span> in .<span style=\"color: #800080; text-decoration-color: #800080\">/boxlen100_n128_lcdmw7v2_00000//power/</span><span style=\"color: #ff00ff; text-decoration-color: #ff00ff\">pk_eft_multigrid_ncoarse7_00297.dat</span>                           \n",
       "</pre>\n"
      ],
      "text/plain": [
       "Write \u001b[1;35mP\u001b[0m\u001b[1m(\u001b[0mk\u001b[1m)\u001b[0m in .\u001b[35m/boxlen100_n128_lcdmw7v2_00000/\u001b[0m\u001b[35m/power/\u001b[0m\u001b[95mpk_eft_multigrid_ncoarse7_00297.dat\u001b[0m                           \n"
      ]
     },
     "metadata": {},
     "output_type": "display_data"
    },
    {
     "data": {
      "text/html": [
       "<pre style=\"white-space:pre;overflow-x:auto;line-height:normal;font-family:Menlo,'DejaVu Sans Mono',consolas,'Courier New',monospace\">param<span style=\"font-weight: bold\">[</span><span style=\"color: #008000; text-decoration-color: #008000\">'nsteps'</span><span style=\"font-weight: bold\">]</span>=<span style=\"color: #008080; text-decoration-color: #008080; font-weight: bold\">297</span> param<span style=\"font-weight: bold\">[</span><span style=\"color: #008000; text-decoration-color: #008000\">'aexp'</span><span style=\"font-weight: bold\">]</span>=<span style=\"color: #008080; text-decoration-color: #008080; font-weight: bold\">0.561027484758616</span> z = <span style=\"color: #008080; text-decoration-color: #008080; font-weight: bold\">0.7824438680223544</span>                                         \n",
       "</pre>\n"
      ],
      "text/plain": [
       "param\u001b[1m[\u001b[0m\u001b[32m'nsteps'\u001b[0m\u001b[1m]\u001b[0m=\u001b[1;36m297\u001b[0m param\u001b[1m[\u001b[0m\u001b[32m'aexp'\u001b[0m\u001b[1m]\u001b[0m=\u001b[1;36m0.561027484758616\u001b[0m z = \u001b[1;36m0.7824438680223544\u001b[0m                                         \n"
      ]
     },
     "metadata": {},
     "output_type": "display_data"
    },
    {
     "data": {
      "text/html": [
       "<pre style=\"white-space:pre;overflow-x:auto;line-height:normal;font-family:Menlo,'DejaVu Sans Mono',consolas,'Courier New',monospace\">Write <span style=\"color: #800080; text-decoration-color: #800080; font-weight: bold\">P</span><span style=\"font-weight: bold\">(</span>k<span style=\"font-weight: bold\">)</span> in .<span style=\"color: #800080; text-decoration-color: #800080\">/boxlen100_n128_lcdmw7v2_00000//power/</span><span style=\"color: #ff00ff; text-decoration-color: #ff00ff\">pk_eft_multigrid_ncoarse7_00298.dat</span>                           \n",
       "</pre>\n"
      ],
      "text/plain": [
       "Write \u001b[1;35mP\u001b[0m\u001b[1m(\u001b[0mk\u001b[1m)\u001b[0m in .\u001b[35m/boxlen100_n128_lcdmw7v2_00000/\u001b[0m\u001b[35m/power/\u001b[0m\u001b[95mpk_eft_multigrid_ncoarse7_00298.dat\u001b[0m                           \n"
      ]
     },
     "metadata": {},
     "output_type": "display_data"
    },
    {
     "data": {
      "text/html": [
       "<pre style=\"white-space:pre;overflow-x:auto;line-height:normal;font-family:Menlo,'DejaVu Sans Mono',consolas,'Courier New',monospace\">param<span style=\"font-weight: bold\">[</span><span style=\"color: #008000; text-decoration-color: #008000\">'nsteps'</span><span style=\"font-weight: bold\">]</span>=<span style=\"color: #008080; text-decoration-color: #008080; font-weight: bold\">298</span> param<span style=\"font-weight: bold\">[</span><span style=\"color: #008000; text-decoration-color: #008000\">'aexp'</span><span style=\"font-weight: bold\">]</span>=<span style=\"color: #008080; text-decoration-color: #008080; font-weight: bold\">0.561027484758616</span> z = <span style=\"color: #008080; text-decoration-color: #008080; font-weight: bold\">0.7824438680223544</span>                                         \n",
       "</pre>\n"
      ],
      "text/plain": [
       "param\u001b[1m[\u001b[0m\u001b[32m'nsteps'\u001b[0m\u001b[1m]\u001b[0m=\u001b[1;36m298\u001b[0m param\u001b[1m[\u001b[0m\u001b[32m'aexp'\u001b[0m\u001b[1m]\u001b[0m=\u001b[1;36m0.561027484758616\u001b[0m z = \u001b[1;36m0.7824438680223544\u001b[0m                                         \n"
      ]
     },
     "metadata": {},
     "output_type": "display_data"
    },
    {
     "data": {
      "text/html": [
       "<pre style=\"white-space:pre;overflow-x:auto;line-height:normal;font-family:Menlo,'DejaVu Sans Mono',consolas,'Courier New',monospace\">Write <span style=\"color: #800080; text-decoration-color: #800080; font-weight: bold\">P</span><span style=\"font-weight: bold\">(</span>k<span style=\"font-weight: bold\">)</span> in .<span style=\"color: #800080; text-decoration-color: #800080\">/boxlen100_n128_lcdmw7v2_00000//power/</span><span style=\"color: #ff00ff; text-decoration-color: #ff00ff\">pk_eft_multigrid_ncoarse7_00299.dat</span>                           \n",
       "</pre>\n"
      ],
      "text/plain": [
       "Write \u001b[1;35mP\u001b[0m\u001b[1m(\u001b[0mk\u001b[1m)\u001b[0m in .\u001b[35m/boxlen100_n128_lcdmw7v2_00000/\u001b[0m\u001b[35m/power/\u001b[0m\u001b[95mpk_eft_multigrid_ncoarse7_00299.dat\u001b[0m                           \n"
      ]
     },
     "metadata": {},
     "output_type": "display_data"
    },
    {
     "data": {
      "text/html": [
       "<pre style=\"white-space:pre;overflow-x:auto;line-height:normal;font-family:Menlo,'DejaVu Sans Mono',consolas,'Courier New',monospace\">param<span style=\"font-weight: bold\">[</span><span style=\"color: #008000; text-decoration-color: #008000\">'nsteps'</span><span style=\"font-weight: bold\">]</span>=<span style=\"color: #008080; text-decoration-color: #008080; font-weight: bold\">299</span> param<span style=\"font-weight: bold\">[</span><span style=\"color: #008000; text-decoration-color: #008000\">'aexp'</span><span style=\"font-weight: bold\">]</span>=<span style=\"color: #008080; text-decoration-color: #008080; font-weight: bold\">0.561027484758616</span> z = <span style=\"color: #008080; text-decoration-color: #008080; font-weight: bold\">0.7824438680223544</span>                                         \n",
       "</pre>\n"
      ],
      "text/plain": [
       "param\u001b[1m[\u001b[0m\u001b[32m'nsteps'\u001b[0m\u001b[1m]\u001b[0m=\u001b[1;36m299\u001b[0m param\u001b[1m[\u001b[0m\u001b[32m'aexp'\u001b[0m\u001b[1m]\u001b[0m=\u001b[1;36m0.561027484758616\u001b[0m z = \u001b[1;36m0.7824438680223544\u001b[0m                                         \n"
      ]
     },
     "metadata": {},
     "output_type": "display_data"
    },
    {
     "data": {
      "text/html": [
       "<pre style=\"white-space:pre;overflow-x:auto;line-height:normal;font-family:Menlo,'DejaVu Sans Mono',consolas,'Courier New',monospace\">Write <span style=\"color: #800080; text-decoration-color: #800080; font-weight: bold\">P</span><span style=\"font-weight: bold\">(</span>k<span style=\"font-weight: bold\">)</span> in .<span style=\"color: #800080; text-decoration-color: #800080\">/boxlen100_n128_lcdmw7v2_00000//power/</span><span style=\"color: #ff00ff; text-decoration-color: #ff00ff\">pk_eft_multigrid_ncoarse7_00300.dat</span>                           \n",
       "</pre>\n"
      ],
      "text/plain": [
       "Write \u001b[1;35mP\u001b[0m\u001b[1m(\u001b[0mk\u001b[1m)\u001b[0m in .\u001b[35m/boxlen100_n128_lcdmw7v2_00000/\u001b[0m\u001b[35m/power/\u001b[0m\u001b[95mpk_eft_multigrid_ncoarse7_00300.dat\u001b[0m                           \n"
      ]
     },
     "metadata": {},
     "output_type": "display_data"
    },
    {
     "data": {
      "text/html": [
       "<pre style=\"white-space:pre;overflow-x:auto;line-height:normal;font-family:Menlo,'DejaVu Sans Mono',consolas,'Courier New',monospace\">param<span style=\"font-weight: bold\">[</span><span style=\"color: #008000; text-decoration-color: #008000\">'nsteps'</span><span style=\"font-weight: bold\">]</span>=<span style=\"color: #008080; text-decoration-color: #008080; font-weight: bold\">300</span> param<span style=\"font-weight: bold\">[</span><span style=\"color: #008000; text-decoration-color: #008000\">'aexp'</span><span style=\"font-weight: bold\">]</span>=<span style=\"color: #008080; text-decoration-color: #008080; font-weight: bold\">0.561027484758616</span> z = <span style=\"color: #008080; text-decoration-color: #008080; font-weight: bold\">0.7824438680223544</span>                                         \n",
       "</pre>\n"
      ],
      "text/plain": [
       "param\u001b[1m[\u001b[0m\u001b[32m'nsteps'\u001b[0m\u001b[1m]\u001b[0m=\u001b[1;36m300\u001b[0m param\u001b[1m[\u001b[0m\u001b[32m'aexp'\u001b[0m\u001b[1m]\u001b[0m=\u001b[1;36m0.561027484758616\u001b[0m z = \u001b[1;36m0.7824438680223544\u001b[0m                                         \n"
      ]
     },
     "metadata": {},
     "output_type": "display_data"
    },
    {
     "data": {
      "text/html": [
       "<pre style=\"white-space:pre;overflow-x:auto;line-height:normal;font-family:Menlo,'DejaVu Sans Mono',consolas,'Courier New',monospace\">Write <span style=\"color: #800080; text-decoration-color: #800080; font-weight: bold\">P</span><span style=\"font-weight: bold\">(</span>k<span style=\"font-weight: bold\">)</span> in .<span style=\"color: #800080; text-decoration-color: #800080\">/boxlen100_n128_lcdmw7v2_00000//power/</span><span style=\"color: #ff00ff; text-decoration-color: #ff00ff\">pk_eft_multigrid_ncoarse7_00301.dat</span>                           \n",
       "</pre>\n"
      ],
      "text/plain": [
       "Write \u001b[1;35mP\u001b[0m\u001b[1m(\u001b[0mk\u001b[1m)\u001b[0m in .\u001b[35m/boxlen100_n128_lcdmw7v2_00000/\u001b[0m\u001b[35m/power/\u001b[0m\u001b[95mpk_eft_multigrid_ncoarse7_00301.dat\u001b[0m                           \n"
      ]
     },
     "metadata": {},
     "output_type": "display_data"
    },
    {
     "data": {
      "text/html": [
       "<pre style=\"white-space:pre;overflow-x:auto;line-height:normal;font-family:Menlo,'DejaVu Sans Mono',consolas,'Courier New',monospace\">param<span style=\"font-weight: bold\">[</span><span style=\"color: #008000; text-decoration-color: #008000\">'nsteps'</span><span style=\"font-weight: bold\">]</span>=<span style=\"color: #008080; text-decoration-color: #008080; font-weight: bold\">301</span> param<span style=\"font-weight: bold\">[</span><span style=\"color: #008000; text-decoration-color: #008000\">'aexp'</span><span style=\"font-weight: bold\">]</span>=<span style=\"color: #008080; text-decoration-color: #008080; font-weight: bold\">0.561027484758616</span> z = <span style=\"color: #008080; text-decoration-color: #008080; font-weight: bold\">0.7824438680223544</span>                                         \n",
       "</pre>\n"
      ],
      "text/plain": [
       "param\u001b[1m[\u001b[0m\u001b[32m'nsteps'\u001b[0m\u001b[1m]\u001b[0m=\u001b[1;36m301\u001b[0m param\u001b[1m[\u001b[0m\u001b[32m'aexp'\u001b[0m\u001b[1m]\u001b[0m=\u001b[1;36m0.561027484758616\u001b[0m z = \u001b[1;36m0.7824438680223544\u001b[0m                                         \n"
      ]
     },
     "metadata": {},
     "output_type": "display_data"
    },
    {
     "data": {
      "text/html": [
       "<pre style=\"white-space:pre;overflow-x:auto;line-height:normal;font-family:Menlo,'DejaVu Sans Mono',consolas,'Courier New',monospace\">Write <span style=\"color: #800080; text-decoration-color: #800080; font-weight: bold\">P</span><span style=\"font-weight: bold\">(</span>k<span style=\"font-weight: bold\">)</span> in .<span style=\"color: #800080; text-decoration-color: #800080\">/boxlen100_n128_lcdmw7v2_00000//power/</span><span style=\"color: #ff00ff; text-decoration-color: #ff00ff\">pk_eft_multigrid_ncoarse7_00302.dat</span>                           \n",
       "</pre>\n"
      ],
      "text/plain": [
       "Write \u001b[1;35mP\u001b[0m\u001b[1m(\u001b[0mk\u001b[1m)\u001b[0m in .\u001b[35m/boxlen100_n128_lcdmw7v2_00000/\u001b[0m\u001b[35m/power/\u001b[0m\u001b[95mpk_eft_multigrid_ncoarse7_00302.dat\u001b[0m                           \n"
      ]
     },
     "metadata": {},
     "output_type": "display_data"
    },
    {
     "data": {
      "text/html": [
       "<pre style=\"white-space:pre;overflow-x:auto;line-height:normal;font-family:Menlo,'DejaVu Sans Mono',consolas,'Courier New',monospace\">param<span style=\"font-weight: bold\">[</span><span style=\"color: #008000; text-decoration-color: #008000\">'nsteps'</span><span style=\"font-weight: bold\">]</span>=<span style=\"color: #008080; text-decoration-color: #008080; font-weight: bold\">302</span> param<span style=\"font-weight: bold\">[</span><span style=\"color: #008000; text-decoration-color: #008000\">'aexp'</span><span style=\"font-weight: bold\">]</span>=<span style=\"color: #008080; text-decoration-color: #008080; font-weight: bold\">0.561027484758616</span> z = <span style=\"color: #008080; text-decoration-color: #008080; font-weight: bold\">0.7824438680223544</span>                                         \n",
       "</pre>\n"
      ],
      "text/plain": [
       "param\u001b[1m[\u001b[0m\u001b[32m'nsteps'\u001b[0m\u001b[1m]\u001b[0m=\u001b[1;36m302\u001b[0m param\u001b[1m[\u001b[0m\u001b[32m'aexp'\u001b[0m\u001b[1m]\u001b[0m=\u001b[1;36m0.561027484758616\u001b[0m z = \u001b[1;36m0.7824438680223544\u001b[0m                                         \n"
      ]
     },
     "metadata": {},
     "output_type": "display_data"
    },
    {
     "data": {
      "text/html": [
       "<pre style=\"white-space:pre;overflow-x:auto;line-height:normal;font-family:Menlo,'DejaVu Sans Mono',consolas,'Courier New',monospace\">Write <span style=\"color: #800080; text-decoration-color: #800080; font-weight: bold\">P</span><span style=\"font-weight: bold\">(</span>k<span style=\"font-weight: bold\">)</span> in .<span style=\"color: #800080; text-decoration-color: #800080\">/boxlen100_n128_lcdmw7v2_00000//power/</span><span style=\"color: #ff00ff; text-decoration-color: #ff00ff\">pk_eft_multigrid_ncoarse7_00303.dat</span>                           \n",
       "</pre>\n"
      ],
      "text/plain": [
       "Write \u001b[1;35mP\u001b[0m\u001b[1m(\u001b[0mk\u001b[1m)\u001b[0m in .\u001b[35m/boxlen100_n128_lcdmw7v2_00000/\u001b[0m\u001b[35m/power/\u001b[0m\u001b[95mpk_eft_multigrid_ncoarse7_00303.dat\u001b[0m                           \n"
      ]
     },
     "metadata": {},
     "output_type": "display_data"
    },
    {
     "data": {
      "text/html": [
       "<pre style=\"white-space:pre;overflow-x:auto;line-height:normal;font-family:Menlo,'DejaVu Sans Mono',consolas,'Courier New',monospace\">param<span style=\"font-weight: bold\">[</span><span style=\"color: #008000; text-decoration-color: #008000\">'nsteps'</span><span style=\"font-weight: bold\">]</span>=<span style=\"color: #008080; text-decoration-color: #008080; font-weight: bold\">303</span> param<span style=\"font-weight: bold\">[</span><span style=\"color: #008000; text-decoration-color: #008000\">'aexp'</span><span style=\"font-weight: bold\">]</span>=<span style=\"color: #008080; text-decoration-color: #008080; font-weight: bold\">0.561027484758616</span> z = <span style=\"color: #008080; text-decoration-color: #008080; font-weight: bold\">0.7824438680223544</span>                                         \n",
       "</pre>\n"
      ],
      "text/plain": [
       "param\u001b[1m[\u001b[0m\u001b[32m'nsteps'\u001b[0m\u001b[1m]\u001b[0m=\u001b[1;36m303\u001b[0m param\u001b[1m[\u001b[0m\u001b[32m'aexp'\u001b[0m\u001b[1m]\u001b[0m=\u001b[1;36m0.561027484758616\u001b[0m z = \u001b[1;36m0.7824438680223544\u001b[0m                                         \n"
      ]
     },
     "metadata": {},
     "output_type": "display_data"
    },
    {
     "data": {
      "text/html": [
       "<pre style=\"white-space:pre;overflow-x:auto;line-height:normal;font-family:Menlo,'DejaVu Sans Mono',consolas,'Courier New',monospace\">Write <span style=\"color: #800080; text-decoration-color: #800080; font-weight: bold\">P</span><span style=\"font-weight: bold\">(</span>k<span style=\"font-weight: bold\">)</span> in .<span style=\"color: #800080; text-decoration-color: #800080\">/boxlen100_n128_lcdmw7v2_00000//power/</span><span style=\"color: #ff00ff; text-decoration-color: #ff00ff\">pk_eft_multigrid_ncoarse7_00304.dat</span>                           \n",
       "</pre>\n"
      ],
      "text/plain": [
       "Write \u001b[1;35mP\u001b[0m\u001b[1m(\u001b[0mk\u001b[1m)\u001b[0m in .\u001b[35m/boxlen100_n128_lcdmw7v2_00000/\u001b[0m\u001b[35m/power/\u001b[0m\u001b[95mpk_eft_multigrid_ncoarse7_00304.dat\u001b[0m                           \n"
      ]
     },
     "metadata": {},
     "output_type": "display_data"
    },
    {
     "data": {
      "text/html": [
       "<pre style=\"white-space:pre;overflow-x:auto;line-height:normal;font-family:Menlo,'DejaVu Sans Mono',consolas,'Courier New',monospace\">param<span style=\"font-weight: bold\">[</span><span style=\"color: #008000; text-decoration-color: #008000\">'nsteps'</span><span style=\"font-weight: bold\">]</span>=<span style=\"color: #008080; text-decoration-color: #008080; font-weight: bold\">304</span> param<span style=\"font-weight: bold\">[</span><span style=\"color: #008000; text-decoration-color: #008000\">'aexp'</span><span style=\"font-weight: bold\">]</span>=<span style=\"color: #008080; text-decoration-color: #008080; font-weight: bold\">0.561027484758616</span> z = <span style=\"color: #008080; text-decoration-color: #008080; font-weight: bold\">0.7824438680223544</span>                                         \n",
       "</pre>\n"
      ],
      "text/plain": [
       "param\u001b[1m[\u001b[0m\u001b[32m'nsteps'\u001b[0m\u001b[1m]\u001b[0m=\u001b[1;36m304\u001b[0m param\u001b[1m[\u001b[0m\u001b[32m'aexp'\u001b[0m\u001b[1m]\u001b[0m=\u001b[1;36m0.561027484758616\u001b[0m z = \u001b[1;36m0.7824438680223544\u001b[0m                                         \n"
      ]
     },
     "metadata": {},
     "output_type": "display_data"
    },
    {
     "data": {
      "text/html": [
       "<pre style=\"white-space:pre;overflow-x:auto;line-height:normal;font-family:Menlo,'DejaVu Sans Mono',consolas,'Courier New',monospace\">Write <span style=\"color: #800080; text-decoration-color: #800080; font-weight: bold\">P</span><span style=\"font-weight: bold\">(</span>k<span style=\"font-weight: bold\">)</span> in .<span style=\"color: #800080; text-decoration-color: #800080\">/boxlen100_n128_lcdmw7v2_00000//power/</span><span style=\"color: #ff00ff; text-decoration-color: #ff00ff\">pk_eft_multigrid_ncoarse7_00305.dat</span>                           \n",
       "</pre>\n"
      ],
      "text/plain": [
       "Write \u001b[1;35mP\u001b[0m\u001b[1m(\u001b[0mk\u001b[1m)\u001b[0m in .\u001b[35m/boxlen100_n128_lcdmw7v2_00000/\u001b[0m\u001b[35m/power/\u001b[0m\u001b[95mpk_eft_multigrid_ncoarse7_00305.dat\u001b[0m                           \n"
      ]
     },
     "metadata": {},
     "output_type": "display_data"
    },
    {
     "data": {
      "text/html": [
       "<pre style=\"white-space:pre;overflow-x:auto;line-height:normal;font-family:Menlo,'DejaVu Sans Mono',consolas,'Courier New',monospace\">param<span style=\"font-weight: bold\">[</span><span style=\"color: #008000; text-decoration-color: #008000\">'nsteps'</span><span style=\"font-weight: bold\">]</span>=<span style=\"color: #008080; text-decoration-color: #008080; font-weight: bold\">305</span> param<span style=\"font-weight: bold\">[</span><span style=\"color: #008000; text-decoration-color: #008000\">'aexp'</span><span style=\"font-weight: bold\">]</span>=<span style=\"color: #008080; text-decoration-color: #008080; font-weight: bold\">0.561027484758616</span> z = <span style=\"color: #008080; text-decoration-color: #008080; font-weight: bold\">0.7824438680223544</span>                                         \n",
       "</pre>\n"
      ],
      "text/plain": [
       "param\u001b[1m[\u001b[0m\u001b[32m'nsteps'\u001b[0m\u001b[1m]\u001b[0m=\u001b[1;36m305\u001b[0m param\u001b[1m[\u001b[0m\u001b[32m'aexp'\u001b[0m\u001b[1m]\u001b[0m=\u001b[1;36m0.561027484758616\u001b[0m z = \u001b[1;36m0.7824438680223544\u001b[0m                                         \n"
      ]
     },
     "metadata": {},
     "output_type": "display_data"
    },
    {
     "data": {
      "text/html": [
       "<pre style=\"white-space:pre;overflow-x:auto;line-height:normal;font-family:Menlo,'DejaVu Sans Mono',consolas,'Courier New',monospace\">Write <span style=\"color: #800080; text-decoration-color: #800080; font-weight: bold\">P</span><span style=\"font-weight: bold\">(</span>k<span style=\"font-weight: bold\">)</span> in .<span style=\"color: #800080; text-decoration-color: #800080\">/boxlen100_n128_lcdmw7v2_00000//power/</span><span style=\"color: #ff00ff; text-decoration-color: #ff00ff\">pk_eft_multigrid_ncoarse7_00306.dat</span>                           \n",
       "</pre>\n"
      ],
      "text/plain": [
       "Write \u001b[1;35mP\u001b[0m\u001b[1m(\u001b[0mk\u001b[1m)\u001b[0m in .\u001b[35m/boxlen100_n128_lcdmw7v2_00000/\u001b[0m\u001b[35m/power/\u001b[0m\u001b[95mpk_eft_multigrid_ncoarse7_00306.dat\u001b[0m                           \n"
      ]
     },
     "metadata": {},
     "output_type": "display_data"
    },
    {
     "data": {
      "text/html": [
       "<pre style=\"white-space:pre;overflow-x:auto;line-height:normal;font-family:Menlo,'DejaVu Sans Mono',consolas,'Courier New',monospace\">param<span style=\"font-weight: bold\">[</span><span style=\"color: #008000; text-decoration-color: #008000\">'nsteps'</span><span style=\"font-weight: bold\">]</span>=<span style=\"color: #008080; text-decoration-color: #008080; font-weight: bold\">306</span> param<span style=\"font-weight: bold\">[</span><span style=\"color: #008000; text-decoration-color: #008000\">'aexp'</span><span style=\"font-weight: bold\">]</span>=<span style=\"color: #008080; text-decoration-color: #008080; font-weight: bold\">0.561027484758616</span> z = <span style=\"color: #008080; text-decoration-color: #008080; font-weight: bold\">0.7824438680223544</span>                                         \n",
       "</pre>\n"
      ],
      "text/plain": [
       "param\u001b[1m[\u001b[0m\u001b[32m'nsteps'\u001b[0m\u001b[1m]\u001b[0m=\u001b[1;36m306\u001b[0m param\u001b[1m[\u001b[0m\u001b[32m'aexp'\u001b[0m\u001b[1m]\u001b[0m=\u001b[1;36m0.561027484758616\u001b[0m z = \u001b[1;36m0.7824438680223544\u001b[0m                                         \n"
      ]
     },
     "metadata": {},
     "output_type": "display_data"
    },
    {
     "data": {
      "text/html": [
       "<pre style=\"white-space:pre;overflow-x:auto;line-height:normal;font-family:Menlo,'DejaVu Sans Mono',consolas,'Courier New',monospace\">Write <span style=\"color: #800080; text-decoration-color: #800080; font-weight: bold\">P</span><span style=\"font-weight: bold\">(</span>k<span style=\"font-weight: bold\">)</span> in .<span style=\"color: #800080; text-decoration-color: #800080\">/boxlen100_n128_lcdmw7v2_00000//power/</span><span style=\"color: #ff00ff; text-decoration-color: #ff00ff\">pk_eft_multigrid_ncoarse7_00307.dat</span>                           \n",
       "</pre>\n"
      ],
      "text/plain": [
       "Write \u001b[1;35mP\u001b[0m\u001b[1m(\u001b[0mk\u001b[1m)\u001b[0m in .\u001b[35m/boxlen100_n128_lcdmw7v2_00000/\u001b[0m\u001b[35m/power/\u001b[0m\u001b[95mpk_eft_multigrid_ncoarse7_00307.dat\u001b[0m                           \n"
      ]
     },
     "metadata": {},
     "output_type": "display_data"
    },
    {
     "data": {
      "text/html": [
       "<pre style=\"white-space:pre;overflow-x:auto;line-height:normal;font-family:Menlo,'DejaVu Sans Mono',consolas,'Courier New',monospace\">param<span style=\"font-weight: bold\">[</span><span style=\"color: #008000; text-decoration-color: #008000\">'nsteps'</span><span style=\"font-weight: bold\">]</span>=<span style=\"color: #008080; text-decoration-color: #008080; font-weight: bold\">307</span> param<span style=\"font-weight: bold\">[</span><span style=\"color: #008000; text-decoration-color: #008000\">'aexp'</span><span style=\"font-weight: bold\">]</span>=<span style=\"color: #008080; text-decoration-color: #008080; font-weight: bold\">0.561027484758616</span> z = <span style=\"color: #008080; text-decoration-color: #008080; font-weight: bold\">0.7824438680223544</span>                                         \n",
       "</pre>\n"
      ],
      "text/plain": [
       "param\u001b[1m[\u001b[0m\u001b[32m'nsteps'\u001b[0m\u001b[1m]\u001b[0m=\u001b[1;36m307\u001b[0m param\u001b[1m[\u001b[0m\u001b[32m'aexp'\u001b[0m\u001b[1m]\u001b[0m=\u001b[1;36m0.561027484758616\u001b[0m z = \u001b[1;36m0.7824438680223544\u001b[0m                                         \n"
      ]
     },
     "metadata": {},
     "output_type": "display_data"
    },
    {
     "data": {
      "text/html": [
       "<pre style=\"white-space:pre;overflow-x:auto;line-height:normal;font-family:Menlo,'DejaVu Sans Mono',consolas,'Courier New',monospace\">Write <span style=\"color: #800080; text-decoration-color: #800080; font-weight: bold\">P</span><span style=\"font-weight: bold\">(</span>k<span style=\"font-weight: bold\">)</span> in .<span style=\"color: #800080; text-decoration-color: #800080\">/boxlen100_n128_lcdmw7v2_00000//power/</span><span style=\"color: #ff00ff; text-decoration-color: #ff00ff\">pk_eft_multigrid_ncoarse7_00308.dat</span>                           \n",
       "</pre>\n"
      ],
      "text/plain": [
       "Write \u001b[1;35mP\u001b[0m\u001b[1m(\u001b[0mk\u001b[1m)\u001b[0m in .\u001b[35m/boxlen100_n128_lcdmw7v2_00000/\u001b[0m\u001b[35m/power/\u001b[0m\u001b[95mpk_eft_multigrid_ncoarse7_00308.dat\u001b[0m                           \n"
      ]
     },
     "metadata": {},
     "output_type": "display_data"
    },
    {
     "data": {
      "text/html": [
       "<pre style=\"white-space:pre;overflow-x:auto;line-height:normal;font-family:Menlo,'DejaVu Sans Mono',consolas,'Courier New',monospace\">param<span style=\"font-weight: bold\">[</span><span style=\"color: #008000; text-decoration-color: #008000\">'nsteps'</span><span style=\"font-weight: bold\">]</span>=<span style=\"color: #008080; text-decoration-color: #008080; font-weight: bold\">308</span> param<span style=\"font-weight: bold\">[</span><span style=\"color: #008000; text-decoration-color: #008000\">'aexp'</span><span style=\"font-weight: bold\">]</span>=<span style=\"color: #008080; text-decoration-color: #008080; font-weight: bold\">0.561027484758616</span> z = <span style=\"color: #008080; text-decoration-color: #008080; font-weight: bold\">0.7824438680223544</span>                                         \n",
       "</pre>\n"
      ],
      "text/plain": [
       "param\u001b[1m[\u001b[0m\u001b[32m'nsteps'\u001b[0m\u001b[1m]\u001b[0m=\u001b[1;36m308\u001b[0m param\u001b[1m[\u001b[0m\u001b[32m'aexp'\u001b[0m\u001b[1m]\u001b[0m=\u001b[1;36m0.561027484758616\u001b[0m z = \u001b[1;36m0.7824438680223544\u001b[0m                                         \n"
      ]
     },
     "metadata": {},
     "output_type": "display_data"
    },
    {
     "data": {
      "text/html": [
       "<pre style=\"white-space:pre;overflow-x:auto;line-height:normal;font-family:Menlo,'DejaVu Sans Mono',consolas,'Courier New',monospace\">Write <span style=\"color: #800080; text-decoration-color: #800080; font-weight: bold\">P</span><span style=\"font-weight: bold\">(</span>k<span style=\"font-weight: bold\">)</span> in .<span style=\"color: #800080; text-decoration-color: #800080\">/boxlen100_n128_lcdmw7v2_00000//power/</span><span style=\"color: #ff00ff; text-decoration-color: #ff00ff\">pk_eft_multigrid_ncoarse7_00309.dat</span>                           \n",
       "</pre>\n"
      ],
      "text/plain": [
       "Write \u001b[1;35mP\u001b[0m\u001b[1m(\u001b[0mk\u001b[1m)\u001b[0m in .\u001b[35m/boxlen100_n128_lcdmw7v2_00000/\u001b[0m\u001b[35m/power/\u001b[0m\u001b[95mpk_eft_multigrid_ncoarse7_00309.dat\u001b[0m                           \n"
      ]
     },
     "metadata": {},
     "output_type": "display_data"
    },
    {
     "data": {
      "text/html": [
       "<pre style=\"white-space:pre;overflow-x:auto;line-height:normal;font-family:Menlo,'DejaVu Sans Mono',consolas,'Courier New',monospace\">param<span style=\"font-weight: bold\">[</span><span style=\"color: #008000; text-decoration-color: #008000\">'nsteps'</span><span style=\"font-weight: bold\">]</span>=<span style=\"color: #008080; text-decoration-color: #008080; font-weight: bold\">309</span> param<span style=\"font-weight: bold\">[</span><span style=\"color: #008000; text-decoration-color: #008000\">'aexp'</span><span style=\"font-weight: bold\">]</span>=<span style=\"color: #008080; text-decoration-color: #008080; font-weight: bold\">0.561027484758616</span> z = <span style=\"color: #008080; text-decoration-color: #008080; font-weight: bold\">0.7824438680223544</span>                                         \n",
       "</pre>\n"
      ],
      "text/plain": [
       "param\u001b[1m[\u001b[0m\u001b[32m'nsteps'\u001b[0m\u001b[1m]\u001b[0m=\u001b[1;36m309\u001b[0m param\u001b[1m[\u001b[0m\u001b[32m'aexp'\u001b[0m\u001b[1m]\u001b[0m=\u001b[1;36m0.561027484758616\u001b[0m z = \u001b[1;36m0.7824438680223544\u001b[0m                                         \n"
      ]
     },
     "metadata": {},
     "output_type": "display_data"
    },
    {
     "data": {
      "text/html": [
       "<pre style=\"white-space:pre;overflow-x:auto;line-height:normal;font-family:Menlo,'DejaVu Sans Mono',consolas,'Courier New',monospace\">Write <span style=\"color: #800080; text-decoration-color: #800080; font-weight: bold\">P</span><span style=\"font-weight: bold\">(</span>k<span style=\"font-weight: bold\">)</span> in .<span style=\"color: #800080; text-decoration-color: #800080\">/boxlen100_n128_lcdmw7v2_00000//power/</span><span style=\"color: #ff00ff; text-decoration-color: #ff00ff\">pk_eft_multigrid_ncoarse7_00310.dat</span>                           \n",
       "</pre>\n"
      ],
      "text/plain": [
       "Write \u001b[1;35mP\u001b[0m\u001b[1m(\u001b[0mk\u001b[1m)\u001b[0m in .\u001b[35m/boxlen100_n128_lcdmw7v2_00000/\u001b[0m\u001b[35m/power/\u001b[0m\u001b[95mpk_eft_multigrid_ncoarse7_00310.dat\u001b[0m                           \n"
      ]
     },
     "metadata": {},
     "output_type": "display_data"
    },
    {
     "data": {
      "text/html": [
       "<pre style=\"white-space:pre;overflow-x:auto;line-height:normal;font-family:Menlo,'DejaVu Sans Mono',consolas,'Courier New',monospace\">param<span style=\"font-weight: bold\">[</span><span style=\"color: #008000; text-decoration-color: #008000\">'nsteps'</span><span style=\"font-weight: bold\">]</span>=<span style=\"color: #008080; text-decoration-color: #008080; font-weight: bold\">310</span> param<span style=\"font-weight: bold\">[</span><span style=\"color: #008000; text-decoration-color: #008000\">'aexp'</span><span style=\"font-weight: bold\">]</span>=<span style=\"color: #008080; text-decoration-color: #008080; font-weight: bold\">0.561027484758616</span> z = <span style=\"color: #008080; text-decoration-color: #008080; font-weight: bold\">0.7824438680223544</span>                                         \n",
       "</pre>\n"
      ],
      "text/plain": [
       "param\u001b[1m[\u001b[0m\u001b[32m'nsteps'\u001b[0m\u001b[1m]\u001b[0m=\u001b[1;36m310\u001b[0m param\u001b[1m[\u001b[0m\u001b[32m'aexp'\u001b[0m\u001b[1m]\u001b[0m=\u001b[1;36m0.561027484758616\u001b[0m z = \u001b[1;36m0.7824438680223544\u001b[0m                                         \n"
      ]
     },
     "metadata": {},
     "output_type": "display_data"
    },
    {
     "data": {
      "text/html": [
       "<pre style=\"white-space:pre;overflow-x:auto;line-height:normal;font-family:Menlo,'DejaVu Sans Mono',consolas,'Courier New',monospace\">Write <span style=\"color: #800080; text-decoration-color: #800080; font-weight: bold\">P</span><span style=\"font-weight: bold\">(</span>k<span style=\"font-weight: bold\">)</span> in .<span style=\"color: #800080; text-decoration-color: #800080\">/boxlen100_n128_lcdmw7v2_00000//power/</span><span style=\"color: #ff00ff; text-decoration-color: #ff00ff\">pk_eft_multigrid_ncoarse7_00311.dat</span>                           \n",
       "</pre>\n"
      ],
      "text/plain": [
       "Write \u001b[1;35mP\u001b[0m\u001b[1m(\u001b[0mk\u001b[1m)\u001b[0m in .\u001b[35m/boxlen100_n128_lcdmw7v2_00000/\u001b[0m\u001b[35m/power/\u001b[0m\u001b[95mpk_eft_multigrid_ncoarse7_00311.dat\u001b[0m                           \n"
      ]
     },
     "metadata": {},
     "output_type": "display_data"
    },
    {
     "data": {
      "text/html": [
       "<pre style=\"white-space:pre;overflow-x:auto;line-height:normal;font-family:Menlo,'DejaVu Sans Mono',consolas,'Courier New',monospace\">param<span style=\"font-weight: bold\">[</span><span style=\"color: #008000; text-decoration-color: #008000\">'nsteps'</span><span style=\"font-weight: bold\">]</span>=<span style=\"color: #008080; text-decoration-color: #008080; font-weight: bold\">311</span> param<span style=\"font-weight: bold\">[</span><span style=\"color: #008000; text-decoration-color: #008000\">'aexp'</span><span style=\"font-weight: bold\">]</span>=<span style=\"color: #008080; text-decoration-color: #008080; font-weight: bold\">0.561027484758616</span> z = <span style=\"color: #008080; text-decoration-color: #008080; font-weight: bold\">0.7824438680223544</span>                                         \n",
       "</pre>\n"
      ],
      "text/plain": [
       "param\u001b[1m[\u001b[0m\u001b[32m'nsteps'\u001b[0m\u001b[1m]\u001b[0m=\u001b[1;36m311\u001b[0m param\u001b[1m[\u001b[0m\u001b[32m'aexp'\u001b[0m\u001b[1m]\u001b[0m=\u001b[1;36m0.561027484758616\u001b[0m z = \u001b[1;36m0.7824438680223544\u001b[0m                                         \n"
      ]
     },
     "metadata": {},
     "output_type": "display_data"
    },
    {
     "data": {
      "text/html": [
       "<pre style=\"white-space:pre;overflow-x:auto;line-height:normal;font-family:Menlo,'DejaVu Sans Mono',consolas,'Courier New',monospace\">Write <span style=\"color: #800080; text-decoration-color: #800080; font-weight: bold\">P</span><span style=\"font-weight: bold\">(</span>k<span style=\"font-weight: bold\">)</span> in .<span style=\"color: #800080; text-decoration-color: #800080\">/boxlen100_n128_lcdmw7v2_00000//power/</span><span style=\"color: #ff00ff; text-decoration-color: #ff00ff\">pk_eft_multigrid_ncoarse7_00312.dat</span>                           \n",
       "</pre>\n"
      ],
      "text/plain": [
       "Write \u001b[1;35mP\u001b[0m\u001b[1m(\u001b[0mk\u001b[1m)\u001b[0m in .\u001b[35m/boxlen100_n128_lcdmw7v2_00000/\u001b[0m\u001b[35m/power/\u001b[0m\u001b[95mpk_eft_multigrid_ncoarse7_00312.dat\u001b[0m                           \n"
      ]
     },
     "metadata": {},
     "output_type": "display_data"
    },
    {
     "data": {
      "text/html": [
       "<pre style=\"white-space:pre;overflow-x:auto;line-height:normal;font-family:Menlo,'DejaVu Sans Mono',consolas,'Courier New',monospace\">param<span style=\"font-weight: bold\">[</span><span style=\"color: #008000; text-decoration-color: #008000\">'nsteps'</span><span style=\"font-weight: bold\">]</span>=<span style=\"color: #008080; text-decoration-color: #008080; font-weight: bold\">312</span> param<span style=\"font-weight: bold\">[</span><span style=\"color: #008000; text-decoration-color: #008000\">'aexp'</span><span style=\"font-weight: bold\">]</span>=<span style=\"color: #008080; text-decoration-color: #008080; font-weight: bold\">0.561027484758616</span> z = <span style=\"color: #008080; text-decoration-color: #008080; font-weight: bold\">0.7824438680223544</span>                                         \n",
       "</pre>\n"
      ],
      "text/plain": [
       "param\u001b[1m[\u001b[0m\u001b[32m'nsteps'\u001b[0m\u001b[1m]\u001b[0m=\u001b[1;36m312\u001b[0m param\u001b[1m[\u001b[0m\u001b[32m'aexp'\u001b[0m\u001b[1m]\u001b[0m=\u001b[1;36m0.561027484758616\u001b[0m z = \u001b[1;36m0.7824438680223544\u001b[0m                                         \n"
      ]
     },
     "metadata": {},
     "output_type": "display_data"
    },
    {
     "data": {
      "text/html": [
       "<pre style=\"white-space:pre;overflow-x:auto;line-height:normal;font-family:Menlo,'DejaVu Sans Mono',consolas,'Courier New',monospace\">Write <span style=\"color: #800080; text-decoration-color: #800080; font-weight: bold\">P</span><span style=\"font-weight: bold\">(</span>k<span style=\"font-weight: bold\">)</span> in .<span style=\"color: #800080; text-decoration-color: #800080\">/boxlen100_n128_lcdmw7v2_00000//power/</span><span style=\"color: #ff00ff; text-decoration-color: #ff00ff\">pk_eft_multigrid_ncoarse7_00313.dat</span>                           \n",
       "</pre>\n"
      ],
      "text/plain": [
       "Write \u001b[1;35mP\u001b[0m\u001b[1m(\u001b[0mk\u001b[1m)\u001b[0m in .\u001b[35m/boxlen100_n128_lcdmw7v2_00000/\u001b[0m\u001b[35m/power/\u001b[0m\u001b[95mpk_eft_multigrid_ncoarse7_00313.dat\u001b[0m                           \n"
      ]
     },
     "metadata": {},
     "output_type": "display_data"
    },
    {
     "data": {
      "text/html": [
       "<pre style=\"white-space:pre;overflow-x:auto;line-height:normal;font-family:Menlo,'DejaVu Sans Mono',consolas,'Courier New',monospace\">param<span style=\"font-weight: bold\">[</span><span style=\"color: #008000; text-decoration-color: #008000\">'nsteps'</span><span style=\"font-weight: bold\">]</span>=<span style=\"color: #008080; text-decoration-color: #008080; font-weight: bold\">313</span> param<span style=\"font-weight: bold\">[</span><span style=\"color: #008000; text-decoration-color: #008000\">'aexp'</span><span style=\"font-weight: bold\">]</span>=<span style=\"color: #008080; text-decoration-color: #008080; font-weight: bold\">0.561027484758616</span> z = <span style=\"color: #008080; text-decoration-color: #008080; font-weight: bold\">0.7824438680223544</span>                                         \n",
       "</pre>\n"
      ],
      "text/plain": [
       "param\u001b[1m[\u001b[0m\u001b[32m'nsteps'\u001b[0m\u001b[1m]\u001b[0m=\u001b[1;36m313\u001b[0m param\u001b[1m[\u001b[0m\u001b[32m'aexp'\u001b[0m\u001b[1m]\u001b[0m=\u001b[1;36m0.561027484758616\u001b[0m z = \u001b[1;36m0.7824438680223544\u001b[0m                                         \n"
      ]
     },
     "metadata": {},
     "output_type": "display_data"
    },
    {
     "data": {
      "text/html": [
       "<pre style=\"white-space:pre;overflow-x:auto;line-height:normal;font-family:Menlo,'DejaVu Sans Mono',consolas,'Courier New',monospace\">Write <span style=\"color: #800080; text-decoration-color: #800080; font-weight: bold\">P</span><span style=\"font-weight: bold\">(</span>k<span style=\"font-weight: bold\">)</span> in .<span style=\"color: #800080; text-decoration-color: #800080\">/boxlen100_n128_lcdmw7v2_00000//power/</span><span style=\"color: #ff00ff; text-decoration-color: #ff00ff\">pk_eft_multigrid_ncoarse7_00314.dat</span>                           \n",
       "</pre>\n"
      ],
      "text/plain": [
       "Write \u001b[1;35mP\u001b[0m\u001b[1m(\u001b[0mk\u001b[1m)\u001b[0m in .\u001b[35m/boxlen100_n128_lcdmw7v2_00000/\u001b[0m\u001b[35m/power/\u001b[0m\u001b[95mpk_eft_multigrid_ncoarse7_00314.dat\u001b[0m                           \n"
      ]
     },
     "metadata": {},
     "output_type": "display_data"
    },
    {
     "data": {
      "text/html": [
       "<pre style=\"white-space:pre;overflow-x:auto;line-height:normal;font-family:Menlo,'DejaVu Sans Mono',consolas,'Courier New',monospace\">param<span style=\"font-weight: bold\">[</span><span style=\"color: #008000; text-decoration-color: #008000\">'nsteps'</span><span style=\"font-weight: bold\">]</span>=<span style=\"color: #008080; text-decoration-color: #008080; font-weight: bold\">314</span> param<span style=\"font-weight: bold\">[</span><span style=\"color: #008000; text-decoration-color: #008000\">'aexp'</span><span style=\"font-weight: bold\">]</span>=<span style=\"color: #008080; text-decoration-color: #008080; font-weight: bold\">0.561027484758616</span> z = <span style=\"color: #008080; text-decoration-color: #008080; font-weight: bold\">0.7824438680223544</span>                                         \n",
       "</pre>\n"
      ],
      "text/plain": [
       "param\u001b[1m[\u001b[0m\u001b[32m'nsteps'\u001b[0m\u001b[1m]\u001b[0m=\u001b[1;36m314\u001b[0m param\u001b[1m[\u001b[0m\u001b[32m'aexp'\u001b[0m\u001b[1m]\u001b[0m=\u001b[1;36m0.561027484758616\u001b[0m z = \u001b[1;36m0.7824438680223544\u001b[0m                                         \n"
      ]
     },
     "metadata": {},
     "output_type": "display_data"
    },
    {
     "data": {
      "text/html": [
       "<pre style=\"white-space:pre;overflow-x:auto;line-height:normal;font-family:Menlo,'DejaVu Sans Mono',consolas,'Courier New',monospace\">Write <span style=\"color: #800080; text-decoration-color: #800080; font-weight: bold\">P</span><span style=\"font-weight: bold\">(</span>k<span style=\"font-weight: bold\">)</span> in .<span style=\"color: #800080; text-decoration-color: #800080\">/boxlen100_n128_lcdmw7v2_00000//power/</span><span style=\"color: #ff00ff; text-decoration-color: #ff00ff\">pk_eft_multigrid_ncoarse7_00315.dat</span>                           \n",
       "</pre>\n"
      ],
      "text/plain": [
       "Write \u001b[1;35mP\u001b[0m\u001b[1m(\u001b[0mk\u001b[1m)\u001b[0m in .\u001b[35m/boxlen100_n128_lcdmw7v2_00000/\u001b[0m\u001b[35m/power/\u001b[0m\u001b[95mpk_eft_multigrid_ncoarse7_00315.dat\u001b[0m                           \n"
      ]
     },
     "metadata": {},
     "output_type": "display_data"
    },
    {
     "data": {
      "text/html": [
       "<pre style=\"white-space:pre;overflow-x:auto;line-height:normal;font-family:Menlo,'DejaVu Sans Mono',consolas,'Courier New',monospace\">param<span style=\"font-weight: bold\">[</span><span style=\"color: #008000; text-decoration-color: #008000\">'nsteps'</span><span style=\"font-weight: bold\">]</span>=<span style=\"color: #008080; text-decoration-color: #008080; font-weight: bold\">315</span> param<span style=\"font-weight: bold\">[</span><span style=\"color: #008000; text-decoration-color: #008000\">'aexp'</span><span style=\"font-weight: bold\">]</span>=<span style=\"color: #008080; text-decoration-color: #008080; font-weight: bold\">0.561027484758616</span> z = <span style=\"color: #008080; text-decoration-color: #008080; font-weight: bold\">0.7824438680223544</span>                                         \n",
       "</pre>\n"
      ],
      "text/plain": [
       "param\u001b[1m[\u001b[0m\u001b[32m'nsteps'\u001b[0m\u001b[1m]\u001b[0m=\u001b[1;36m315\u001b[0m param\u001b[1m[\u001b[0m\u001b[32m'aexp'\u001b[0m\u001b[1m]\u001b[0m=\u001b[1;36m0.561027484758616\u001b[0m z = \u001b[1;36m0.7824438680223544\u001b[0m                                         \n"
      ]
     },
     "metadata": {},
     "output_type": "display_data"
    },
    {
     "data": {
      "text/html": [
       "<pre style=\"white-space:pre;overflow-x:auto;line-height:normal;font-family:Menlo,'DejaVu Sans Mono',consolas,'Courier New',monospace\">Write <span style=\"color: #800080; text-decoration-color: #800080; font-weight: bold\">P</span><span style=\"font-weight: bold\">(</span>k<span style=\"font-weight: bold\">)</span> in .<span style=\"color: #800080; text-decoration-color: #800080\">/boxlen100_n128_lcdmw7v2_00000//power/</span><span style=\"color: #ff00ff; text-decoration-color: #ff00ff\">pk_eft_multigrid_ncoarse7_00316.dat</span>                           \n",
       "</pre>\n"
      ],
      "text/plain": [
       "Write \u001b[1;35mP\u001b[0m\u001b[1m(\u001b[0mk\u001b[1m)\u001b[0m in .\u001b[35m/boxlen100_n128_lcdmw7v2_00000/\u001b[0m\u001b[35m/power/\u001b[0m\u001b[95mpk_eft_multigrid_ncoarse7_00316.dat\u001b[0m                           \n"
      ]
     },
     "metadata": {},
     "output_type": "display_data"
    },
    {
     "data": {
      "text/html": [
       "<pre style=\"white-space:pre;overflow-x:auto;line-height:normal;font-family:Menlo,'DejaVu Sans Mono',consolas,'Courier New',monospace\">param<span style=\"font-weight: bold\">[</span><span style=\"color: #008000; text-decoration-color: #008000\">'nsteps'</span><span style=\"font-weight: bold\">]</span>=<span style=\"color: #008080; text-decoration-color: #008080; font-weight: bold\">316</span> param<span style=\"font-weight: bold\">[</span><span style=\"color: #008000; text-decoration-color: #008000\">'aexp'</span><span style=\"font-weight: bold\">]</span>=<span style=\"color: #008080; text-decoration-color: #008080; font-weight: bold\">0.561027484758616</span> z = <span style=\"color: #008080; text-decoration-color: #008080; font-weight: bold\">0.7824438680223544</span>                                         \n",
       "</pre>\n"
      ],
      "text/plain": [
       "param\u001b[1m[\u001b[0m\u001b[32m'nsteps'\u001b[0m\u001b[1m]\u001b[0m=\u001b[1;36m316\u001b[0m param\u001b[1m[\u001b[0m\u001b[32m'aexp'\u001b[0m\u001b[1m]\u001b[0m=\u001b[1;36m0.561027484758616\u001b[0m z = \u001b[1;36m0.7824438680223544\u001b[0m                                         \n"
      ]
     },
     "metadata": {},
     "output_type": "display_data"
    },
    {
     "data": {
      "text/html": [
       "<pre style=\"white-space:pre;overflow-x:auto;line-height:normal;font-family:Menlo,'DejaVu Sans Mono',consolas,'Courier New',monospace\">Write <span style=\"color: #800080; text-decoration-color: #800080; font-weight: bold\">P</span><span style=\"font-weight: bold\">(</span>k<span style=\"font-weight: bold\">)</span> in .<span style=\"color: #800080; text-decoration-color: #800080\">/boxlen100_n128_lcdmw7v2_00000//power/</span><span style=\"color: #ff00ff; text-decoration-color: #ff00ff\">pk_eft_multigrid_ncoarse7_00317.dat</span>                           \n",
       "</pre>\n"
      ],
      "text/plain": [
       "Write \u001b[1;35mP\u001b[0m\u001b[1m(\u001b[0mk\u001b[1m)\u001b[0m in .\u001b[35m/boxlen100_n128_lcdmw7v2_00000/\u001b[0m\u001b[35m/power/\u001b[0m\u001b[95mpk_eft_multigrid_ncoarse7_00317.dat\u001b[0m                           \n"
      ]
     },
     "metadata": {},
     "output_type": "display_data"
    },
    {
     "data": {
      "text/html": [
       "<pre style=\"white-space:pre;overflow-x:auto;line-height:normal;font-family:Menlo,'DejaVu Sans Mono',consolas,'Courier New',monospace\">param<span style=\"font-weight: bold\">[</span><span style=\"color: #008000; text-decoration-color: #008000\">'nsteps'</span><span style=\"font-weight: bold\">]</span>=<span style=\"color: #008080; text-decoration-color: #008080; font-weight: bold\">317</span> param<span style=\"font-weight: bold\">[</span><span style=\"color: #008000; text-decoration-color: #008000\">'aexp'</span><span style=\"font-weight: bold\">]</span>=<span style=\"color: #008080; text-decoration-color: #008080; font-weight: bold\">0.561027484758616</span> z = <span style=\"color: #008080; text-decoration-color: #008080; font-weight: bold\">0.7824438680223544</span>                                         \n",
       "</pre>\n"
      ],
      "text/plain": [
       "param\u001b[1m[\u001b[0m\u001b[32m'nsteps'\u001b[0m\u001b[1m]\u001b[0m=\u001b[1;36m317\u001b[0m param\u001b[1m[\u001b[0m\u001b[32m'aexp'\u001b[0m\u001b[1m]\u001b[0m=\u001b[1;36m0.561027484758616\u001b[0m z = \u001b[1;36m0.7824438680223544\u001b[0m                                         \n"
      ]
     },
     "metadata": {},
     "output_type": "display_data"
    },
    {
     "data": {
      "text/html": [
       "<pre style=\"white-space:pre;overflow-x:auto;line-height:normal;font-family:Menlo,'DejaVu Sans Mono',consolas,'Courier New',monospace\">Write <span style=\"color: #800080; text-decoration-color: #800080; font-weight: bold\">P</span><span style=\"font-weight: bold\">(</span>k<span style=\"font-weight: bold\">)</span> in .<span style=\"color: #800080; text-decoration-color: #800080\">/boxlen100_n128_lcdmw7v2_00000//power/</span><span style=\"color: #ff00ff; text-decoration-color: #ff00ff\">pk_eft_multigrid_ncoarse7_00318.dat</span>                           \n",
       "</pre>\n"
      ],
      "text/plain": [
       "Write \u001b[1;35mP\u001b[0m\u001b[1m(\u001b[0mk\u001b[1m)\u001b[0m in .\u001b[35m/boxlen100_n128_lcdmw7v2_00000/\u001b[0m\u001b[35m/power/\u001b[0m\u001b[95mpk_eft_multigrid_ncoarse7_00318.dat\u001b[0m                           \n"
      ]
     },
     "metadata": {},
     "output_type": "display_data"
    },
    {
     "data": {
      "text/html": [
       "<pre style=\"white-space:pre;overflow-x:auto;line-height:normal;font-family:Menlo,'DejaVu Sans Mono',consolas,'Courier New',monospace\">param<span style=\"font-weight: bold\">[</span><span style=\"color: #008000; text-decoration-color: #008000\">'nsteps'</span><span style=\"font-weight: bold\">]</span>=<span style=\"color: #008080; text-decoration-color: #008080; font-weight: bold\">318</span> param<span style=\"font-weight: bold\">[</span><span style=\"color: #008000; text-decoration-color: #008000\">'aexp'</span><span style=\"font-weight: bold\">]</span>=<span style=\"color: #008080; text-decoration-color: #008080; font-weight: bold\">0.561027484758616</span> z = <span style=\"color: #008080; text-decoration-color: #008080; font-weight: bold\">0.7824438680223544</span>                                         \n",
       "</pre>\n"
      ],
      "text/plain": [
       "param\u001b[1m[\u001b[0m\u001b[32m'nsteps'\u001b[0m\u001b[1m]\u001b[0m=\u001b[1;36m318\u001b[0m param\u001b[1m[\u001b[0m\u001b[32m'aexp'\u001b[0m\u001b[1m]\u001b[0m=\u001b[1;36m0.561027484758616\u001b[0m z = \u001b[1;36m0.7824438680223544\u001b[0m                                         \n"
      ]
     },
     "metadata": {},
     "output_type": "display_data"
    },
    {
     "data": {
      "text/html": [
       "<pre style=\"white-space:pre;overflow-x:auto;line-height:normal;font-family:Menlo,'DejaVu Sans Mono',consolas,'Courier New',monospace\">Write <span style=\"color: #800080; text-decoration-color: #800080; font-weight: bold\">P</span><span style=\"font-weight: bold\">(</span>k<span style=\"font-weight: bold\">)</span> in .<span style=\"color: #800080; text-decoration-color: #800080\">/boxlen100_n128_lcdmw7v2_00000//power/</span><span style=\"color: #ff00ff; text-decoration-color: #ff00ff\">pk_eft_multigrid_ncoarse7_00319.dat</span>                           \n",
       "</pre>\n"
      ],
      "text/plain": [
       "Write \u001b[1;35mP\u001b[0m\u001b[1m(\u001b[0mk\u001b[1m)\u001b[0m in .\u001b[35m/boxlen100_n128_lcdmw7v2_00000/\u001b[0m\u001b[35m/power/\u001b[0m\u001b[95mpk_eft_multigrid_ncoarse7_00319.dat\u001b[0m                           \n"
      ]
     },
     "metadata": {},
     "output_type": "display_data"
    },
    {
     "data": {
      "text/html": [
       "<pre style=\"white-space:pre;overflow-x:auto;line-height:normal;font-family:Menlo,'DejaVu Sans Mono',consolas,'Courier New',monospace\">param<span style=\"font-weight: bold\">[</span><span style=\"color: #008000; text-decoration-color: #008000\">'nsteps'</span><span style=\"font-weight: bold\">]</span>=<span style=\"color: #008080; text-decoration-color: #008080; font-weight: bold\">319</span> param<span style=\"font-weight: bold\">[</span><span style=\"color: #008000; text-decoration-color: #008000\">'aexp'</span><span style=\"font-weight: bold\">]</span>=<span style=\"color: #008080; text-decoration-color: #008080; font-weight: bold\">0.561027484758616</span> z = <span style=\"color: #008080; text-decoration-color: #008080; font-weight: bold\">0.7824438680223544</span>                                         \n",
       "</pre>\n"
      ],
      "text/plain": [
       "param\u001b[1m[\u001b[0m\u001b[32m'nsteps'\u001b[0m\u001b[1m]\u001b[0m=\u001b[1;36m319\u001b[0m param\u001b[1m[\u001b[0m\u001b[32m'aexp'\u001b[0m\u001b[1m]\u001b[0m=\u001b[1;36m0.561027484758616\u001b[0m z = \u001b[1;36m0.7824438680223544\u001b[0m                                         \n"
      ]
     },
     "metadata": {},
     "output_type": "display_data"
    },
    {
     "data": {
      "text/html": [
       "<pre style=\"white-space:pre;overflow-x:auto;line-height:normal;font-family:Menlo,'DejaVu Sans Mono',consolas,'Courier New',monospace\">Write <span style=\"color: #800080; text-decoration-color: #800080; font-weight: bold\">P</span><span style=\"font-weight: bold\">(</span>k<span style=\"font-weight: bold\">)</span> in .<span style=\"color: #800080; text-decoration-color: #800080\">/boxlen100_n128_lcdmw7v2_00000//power/</span><span style=\"color: #ff00ff; text-decoration-color: #ff00ff\">pk_eft_multigrid_ncoarse7_00320.dat</span>                           \n",
       "</pre>\n"
      ],
      "text/plain": [
       "Write \u001b[1;35mP\u001b[0m\u001b[1m(\u001b[0mk\u001b[1m)\u001b[0m in .\u001b[35m/boxlen100_n128_lcdmw7v2_00000/\u001b[0m\u001b[35m/power/\u001b[0m\u001b[95mpk_eft_multigrid_ncoarse7_00320.dat\u001b[0m                           \n"
      ]
     },
     "metadata": {},
     "output_type": "display_data"
    },
    {
     "data": {
      "text/html": [
       "<pre style=\"white-space:pre;overflow-x:auto;line-height:normal;font-family:Menlo,'DejaVu Sans Mono',consolas,'Courier New',monospace\">param<span style=\"font-weight: bold\">[</span><span style=\"color: #008000; text-decoration-color: #008000\">'nsteps'</span><span style=\"font-weight: bold\">]</span>=<span style=\"color: #008080; text-decoration-color: #008080; font-weight: bold\">320</span> param<span style=\"font-weight: bold\">[</span><span style=\"color: #008000; text-decoration-color: #008000\">'aexp'</span><span style=\"font-weight: bold\">]</span>=<span style=\"color: #008080; text-decoration-color: #008080; font-weight: bold\">0.561027484758616</span> z = <span style=\"color: #008080; text-decoration-color: #008080; font-weight: bold\">0.7824438680223544</span>                                         \n",
       "</pre>\n"
      ],
      "text/plain": [
       "param\u001b[1m[\u001b[0m\u001b[32m'nsteps'\u001b[0m\u001b[1m]\u001b[0m=\u001b[1;36m320\u001b[0m param\u001b[1m[\u001b[0m\u001b[32m'aexp'\u001b[0m\u001b[1m]\u001b[0m=\u001b[1;36m0.561027484758616\u001b[0m z = \u001b[1;36m0.7824438680223544\u001b[0m                                         \n"
      ]
     },
     "metadata": {},
     "output_type": "display_data"
    },
    {
     "data": {
      "text/html": [
       "<pre style=\"white-space:pre;overflow-x:auto;line-height:normal;font-family:Menlo,'DejaVu Sans Mono',consolas,'Courier New',monospace\">Write <span style=\"color: #800080; text-decoration-color: #800080; font-weight: bold\">P</span><span style=\"font-weight: bold\">(</span>k<span style=\"font-weight: bold\">)</span> in .<span style=\"color: #800080; text-decoration-color: #800080\">/boxlen100_n128_lcdmw7v2_00000//power/</span><span style=\"color: #ff00ff; text-decoration-color: #ff00ff\">pk_eft_multigrid_ncoarse7_00321.dat</span>                           \n",
       "</pre>\n"
      ],
      "text/plain": [
       "Write \u001b[1;35mP\u001b[0m\u001b[1m(\u001b[0mk\u001b[1m)\u001b[0m in .\u001b[35m/boxlen100_n128_lcdmw7v2_00000/\u001b[0m\u001b[35m/power/\u001b[0m\u001b[95mpk_eft_multigrid_ncoarse7_00321.dat\u001b[0m                           \n"
      ]
     },
     "metadata": {},
     "output_type": "display_data"
    },
    {
     "data": {
      "text/html": [
       "<pre style=\"white-space:pre;overflow-x:auto;line-height:normal;font-family:Menlo,'DejaVu Sans Mono',consolas,'Courier New',monospace\">param<span style=\"font-weight: bold\">[</span><span style=\"color: #008000; text-decoration-color: #008000\">'nsteps'</span><span style=\"font-weight: bold\">]</span>=<span style=\"color: #008080; text-decoration-color: #008080; font-weight: bold\">321</span> param<span style=\"font-weight: bold\">[</span><span style=\"color: #008000; text-decoration-color: #008000\">'aexp'</span><span style=\"font-weight: bold\">]</span>=<span style=\"color: #008080; text-decoration-color: #008080; font-weight: bold\">0.561027484758616</span> z = <span style=\"color: #008080; text-decoration-color: #008080; font-weight: bold\">0.7824438680223544</span>                                         \n",
       "</pre>\n"
      ],
      "text/plain": [
       "param\u001b[1m[\u001b[0m\u001b[32m'nsteps'\u001b[0m\u001b[1m]\u001b[0m=\u001b[1;36m321\u001b[0m param\u001b[1m[\u001b[0m\u001b[32m'aexp'\u001b[0m\u001b[1m]\u001b[0m=\u001b[1;36m0.561027484758616\u001b[0m z = \u001b[1;36m0.7824438680223544\u001b[0m                                         \n"
      ]
     },
     "metadata": {},
     "output_type": "display_data"
    },
    {
     "data": {
      "text/html": [
       "<pre style=\"white-space:pre;overflow-x:auto;line-height:normal;font-family:Menlo,'DejaVu Sans Mono',consolas,'Courier New',monospace\">Write <span style=\"color: #800080; text-decoration-color: #800080; font-weight: bold\">P</span><span style=\"font-weight: bold\">(</span>k<span style=\"font-weight: bold\">)</span> in .<span style=\"color: #800080; text-decoration-color: #800080\">/boxlen100_n128_lcdmw7v2_00000//power/</span><span style=\"color: #ff00ff; text-decoration-color: #ff00ff\">pk_eft_multigrid_ncoarse7_00322.dat</span>                           \n",
       "</pre>\n"
      ],
      "text/plain": [
       "Write \u001b[1;35mP\u001b[0m\u001b[1m(\u001b[0mk\u001b[1m)\u001b[0m in .\u001b[35m/boxlen100_n128_lcdmw7v2_00000/\u001b[0m\u001b[35m/power/\u001b[0m\u001b[95mpk_eft_multigrid_ncoarse7_00322.dat\u001b[0m                           \n"
      ]
     },
     "metadata": {},
     "output_type": "display_data"
    },
    {
     "data": {
      "text/html": [
       "<pre style=\"white-space:pre;overflow-x:auto;line-height:normal;font-family:Menlo,'DejaVu Sans Mono',consolas,'Courier New',monospace\">param<span style=\"font-weight: bold\">[</span><span style=\"color: #008000; text-decoration-color: #008000\">'nsteps'</span><span style=\"font-weight: bold\">]</span>=<span style=\"color: #008080; text-decoration-color: #008080; font-weight: bold\">322</span> param<span style=\"font-weight: bold\">[</span><span style=\"color: #008000; text-decoration-color: #008000\">'aexp'</span><span style=\"font-weight: bold\">]</span>=<span style=\"color: #008080; text-decoration-color: #008080; font-weight: bold\">0.561027484758616</span> z = <span style=\"color: #008080; text-decoration-color: #008080; font-weight: bold\">0.7824438680223544</span>                                         \n",
       "</pre>\n"
      ],
      "text/plain": [
       "param\u001b[1m[\u001b[0m\u001b[32m'nsteps'\u001b[0m\u001b[1m]\u001b[0m=\u001b[1;36m322\u001b[0m param\u001b[1m[\u001b[0m\u001b[32m'aexp'\u001b[0m\u001b[1m]\u001b[0m=\u001b[1;36m0.561027484758616\u001b[0m z = \u001b[1;36m0.7824438680223544\u001b[0m                                         \n"
      ]
     },
     "metadata": {},
     "output_type": "display_data"
    },
    {
     "data": {
      "text/html": [
       "<pre style=\"white-space:pre;overflow-x:auto;line-height:normal;font-family:Menlo,'DejaVu Sans Mono',consolas,'Courier New',monospace\">Write <span style=\"color: #800080; text-decoration-color: #800080; font-weight: bold\">P</span><span style=\"font-weight: bold\">(</span>k<span style=\"font-weight: bold\">)</span> in .<span style=\"color: #800080; text-decoration-color: #800080\">/boxlen100_n128_lcdmw7v2_00000//power/</span><span style=\"color: #ff00ff; text-decoration-color: #ff00ff\">pk_eft_multigrid_ncoarse7_00323.dat</span>                           \n",
       "</pre>\n"
      ],
      "text/plain": [
       "Write \u001b[1;35mP\u001b[0m\u001b[1m(\u001b[0mk\u001b[1m)\u001b[0m in .\u001b[35m/boxlen100_n128_lcdmw7v2_00000/\u001b[0m\u001b[35m/power/\u001b[0m\u001b[95mpk_eft_multigrid_ncoarse7_00323.dat\u001b[0m                           \n"
      ]
     },
     "metadata": {},
     "output_type": "display_data"
    },
    {
     "data": {
      "text/html": [
       "<pre style=\"white-space:pre;overflow-x:auto;line-height:normal;font-family:Menlo,'DejaVu Sans Mono',consolas,'Courier New',monospace\">param<span style=\"font-weight: bold\">[</span><span style=\"color: #008000; text-decoration-color: #008000\">'nsteps'</span><span style=\"font-weight: bold\">]</span>=<span style=\"color: #008080; text-decoration-color: #008080; font-weight: bold\">323</span> param<span style=\"font-weight: bold\">[</span><span style=\"color: #008000; text-decoration-color: #008000\">'aexp'</span><span style=\"font-weight: bold\">]</span>=<span style=\"color: #008080; text-decoration-color: #008080; font-weight: bold\">0.561027484758616</span> z = <span style=\"color: #008080; text-decoration-color: #008080; font-weight: bold\">0.7824438680223544</span>                                         \n",
       "</pre>\n"
      ],
      "text/plain": [
       "param\u001b[1m[\u001b[0m\u001b[32m'nsteps'\u001b[0m\u001b[1m]\u001b[0m=\u001b[1;36m323\u001b[0m param\u001b[1m[\u001b[0m\u001b[32m'aexp'\u001b[0m\u001b[1m]\u001b[0m=\u001b[1;36m0.561027484758616\u001b[0m z = \u001b[1;36m0.7824438680223544\u001b[0m                                         \n"
      ]
     },
     "metadata": {},
     "output_type": "display_data"
    },
    {
     "data": {
      "text/html": [
       "<pre style=\"white-space:pre;overflow-x:auto;line-height:normal;font-family:Menlo,'DejaVu Sans Mono',consolas,'Courier New',monospace\">Write <span style=\"color: #800080; text-decoration-color: #800080; font-weight: bold\">P</span><span style=\"font-weight: bold\">(</span>k<span style=\"font-weight: bold\">)</span> in .<span style=\"color: #800080; text-decoration-color: #800080\">/boxlen100_n128_lcdmw7v2_00000//power/</span><span style=\"color: #ff00ff; text-decoration-color: #ff00ff\">pk_eft_multigrid_ncoarse7_00324.dat</span>                           \n",
       "</pre>\n"
      ],
      "text/plain": [
       "Write \u001b[1;35mP\u001b[0m\u001b[1m(\u001b[0mk\u001b[1m)\u001b[0m in .\u001b[35m/boxlen100_n128_lcdmw7v2_00000/\u001b[0m\u001b[35m/power/\u001b[0m\u001b[95mpk_eft_multigrid_ncoarse7_00324.dat\u001b[0m                           \n"
      ]
     },
     "metadata": {},
     "output_type": "display_data"
    },
    {
     "data": {
      "text/html": [
       "<pre style=\"white-space:pre;overflow-x:auto;line-height:normal;font-family:Menlo,'DejaVu Sans Mono',consolas,'Courier New',monospace\">param<span style=\"font-weight: bold\">[</span><span style=\"color: #008000; text-decoration-color: #008000\">'nsteps'</span><span style=\"font-weight: bold\">]</span>=<span style=\"color: #008080; text-decoration-color: #008080; font-weight: bold\">324</span> param<span style=\"font-weight: bold\">[</span><span style=\"color: #008000; text-decoration-color: #008000\">'aexp'</span><span style=\"font-weight: bold\">]</span>=<span style=\"color: #008080; text-decoration-color: #008080; font-weight: bold\">0.561027484758616</span> z = <span style=\"color: #008080; text-decoration-color: #008080; font-weight: bold\">0.7824438680223544</span>                                         \n",
       "</pre>\n"
      ],
      "text/plain": [
       "param\u001b[1m[\u001b[0m\u001b[32m'nsteps'\u001b[0m\u001b[1m]\u001b[0m=\u001b[1;36m324\u001b[0m param\u001b[1m[\u001b[0m\u001b[32m'aexp'\u001b[0m\u001b[1m]\u001b[0m=\u001b[1;36m0.561027484758616\u001b[0m z = \u001b[1;36m0.7824438680223544\u001b[0m                                         \n"
      ]
     },
     "metadata": {},
     "output_type": "display_data"
    },
    {
     "data": {
      "text/html": [
       "<pre style=\"white-space:pre;overflow-x:auto;line-height:normal;font-family:Menlo,'DejaVu Sans Mono',consolas,'Courier New',monospace\">Write <span style=\"color: #800080; text-decoration-color: #800080; font-weight: bold\">P</span><span style=\"font-weight: bold\">(</span>k<span style=\"font-weight: bold\">)</span> in .<span style=\"color: #800080; text-decoration-color: #800080\">/boxlen100_n128_lcdmw7v2_00000//power/</span><span style=\"color: #ff00ff; text-decoration-color: #ff00ff\">pk_eft_multigrid_ncoarse7_00325.dat</span>                           \n",
       "</pre>\n"
      ],
      "text/plain": [
       "Write \u001b[1;35mP\u001b[0m\u001b[1m(\u001b[0mk\u001b[1m)\u001b[0m in .\u001b[35m/boxlen100_n128_lcdmw7v2_00000/\u001b[0m\u001b[35m/power/\u001b[0m\u001b[95mpk_eft_multigrid_ncoarse7_00325.dat\u001b[0m                           \n"
      ]
     },
     "metadata": {},
     "output_type": "display_data"
    },
    {
     "data": {
      "text/html": [
       "<pre style=\"white-space:pre;overflow-x:auto;line-height:normal;font-family:Menlo,'DejaVu Sans Mono',consolas,'Courier New',monospace\">param<span style=\"font-weight: bold\">[</span><span style=\"color: #008000; text-decoration-color: #008000\">'nsteps'</span><span style=\"font-weight: bold\">]</span>=<span style=\"color: #008080; text-decoration-color: #008080; font-weight: bold\">325</span> param<span style=\"font-weight: bold\">[</span><span style=\"color: #008000; text-decoration-color: #008000\">'aexp'</span><span style=\"font-weight: bold\">]</span>=<span style=\"color: #008080; text-decoration-color: #008080; font-weight: bold\">0.561027484758616</span> z = <span style=\"color: #008080; text-decoration-color: #008080; font-weight: bold\">0.7824438680223544</span>                                         \n",
       "</pre>\n"
      ],
      "text/plain": [
       "param\u001b[1m[\u001b[0m\u001b[32m'nsteps'\u001b[0m\u001b[1m]\u001b[0m=\u001b[1;36m325\u001b[0m param\u001b[1m[\u001b[0m\u001b[32m'aexp'\u001b[0m\u001b[1m]\u001b[0m=\u001b[1;36m0.561027484758616\u001b[0m z = \u001b[1;36m0.7824438680223544\u001b[0m                                         \n"
      ]
     },
     "metadata": {},
     "output_type": "display_data"
    },
    {
     "data": {
      "text/html": [
       "<pre style=\"white-space:pre;overflow-x:auto;line-height:normal;font-family:Menlo,'DejaVu Sans Mono',consolas,'Courier New',monospace\">Write <span style=\"color: #800080; text-decoration-color: #800080; font-weight: bold\">P</span><span style=\"font-weight: bold\">(</span>k<span style=\"font-weight: bold\">)</span> in .<span style=\"color: #800080; text-decoration-color: #800080\">/boxlen100_n128_lcdmw7v2_00000//power/</span><span style=\"color: #ff00ff; text-decoration-color: #ff00ff\">pk_eft_multigrid_ncoarse7_00326.dat</span>                           \n",
       "</pre>\n"
      ],
      "text/plain": [
       "Write \u001b[1;35mP\u001b[0m\u001b[1m(\u001b[0mk\u001b[1m)\u001b[0m in .\u001b[35m/boxlen100_n128_lcdmw7v2_00000/\u001b[0m\u001b[35m/power/\u001b[0m\u001b[95mpk_eft_multigrid_ncoarse7_00326.dat\u001b[0m                           \n"
      ]
     },
     "metadata": {},
     "output_type": "display_data"
    },
    {
     "data": {
      "text/html": [
       "<pre style=\"white-space:pre;overflow-x:auto;line-height:normal;font-family:Menlo,'DejaVu Sans Mono',consolas,'Courier New',monospace\">param<span style=\"font-weight: bold\">[</span><span style=\"color: #008000; text-decoration-color: #008000\">'nsteps'</span><span style=\"font-weight: bold\">]</span>=<span style=\"color: #008080; text-decoration-color: #008080; font-weight: bold\">326</span> param<span style=\"font-weight: bold\">[</span><span style=\"color: #008000; text-decoration-color: #008000\">'aexp'</span><span style=\"font-weight: bold\">]</span>=<span style=\"color: #008080; text-decoration-color: #008080; font-weight: bold\">0.561027484758616</span> z = <span style=\"color: #008080; text-decoration-color: #008080; font-weight: bold\">0.7824438680223544</span>                                         \n",
       "</pre>\n"
      ],
      "text/plain": [
       "param\u001b[1m[\u001b[0m\u001b[32m'nsteps'\u001b[0m\u001b[1m]\u001b[0m=\u001b[1;36m326\u001b[0m param\u001b[1m[\u001b[0m\u001b[32m'aexp'\u001b[0m\u001b[1m]\u001b[0m=\u001b[1;36m0.561027484758616\u001b[0m z = \u001b[1;36m0.7824438680223544\u001b[0m                                         \n"
      ]
     },
     "metadata": {},
     "output_type": "display_data"
    },
    {
     "data": {
      "text/html": [
       "<pre style=\"white-space:pre;overflow-x:auto;line-height:normal;font-family:Menlo,'DejaVu Sans Mono',consolas,'Courier New',monospace\">Write <span style=\"color: #800080; text-decoration-color: #800080; font-weight: bold\">P</span><span style=\"font-weight: bold\">(</span>k<span style=\"font-weight: bold\">)</span> in .<span style=\"color: #800080; text-decoration-color: #800080\">/boxlen100_n128_lcdmw7v2_00000//power/</span><span style=\"color: #ff00ff; text-decoration-color: #ff00ff\">pk_eft_multigrid_ncoarse7_00327.dat</span>                           \n",
       "</pre>\n"
      ],
      "text/plain": [
       "Write \u001b[1;35mP\u001b[0m\u001b[1m(\u001b[0mk\u001b[1m)\u001b[0m in .\u001b[35m/boxlen100_n128_lcdmw7v2_00000/\u001b[0m\u001b[35m/power/\u001b[0m\u001b[95mpk_eft_multigrid_ncoarse7_00327.dat\u001b[0m                           \n"
      ]
     },
     "metadata": {},
     "output_type": "display_data"
    },
    {
     "data": {
      "text/html": [
       "<pre style=\"white-space:pre;overflow-x:auto;line-height:normal;font-family:Menlo,'DejaVu Sans Mono',consolas,'Courier New',monospace\">param<span style=\"font-weight: bold\">[</span><span style=\"color: #008000; text-decoration-color: #008000\">'nsteps'</span><span style=\"font-weight: bold\">]</span>=<span style=\"color: #008080; text-decoration-color: #008080; font-weight: bold\">327</span> param<span style=\"font-weight: bold\">[</span><span style=\"color: #008000; text-decoration-color: #008000\">'aexp'</span><span style=\"font-weight: bold\">]</span>=<span style=\"color: #008080; text-decoration-color: #008080; font-weight: bold\">0.561027484758616</span> z = <span style=\"color: #008080; text-decoration-color: #008080; font-weight: bold\">0.7824438680223544</span>                                         \n",
       "</pre>\n"
      ],
      "text/plain": [
       "param\u001b[1m[\u001b[0m\u001b[32m'nsteps'\u001b[0m\u001b[1m]\u001b[0m=\u001b[1;36m327\u001b[0m param\u001b[1m[\u001b[0m\u001b[32m'aexp'\u001b[0m\u001b[1m]\u001b[0m=\u001b[1;36m0.561027484758616\u001b[0m z = \u001b[1;36m0.7824438680223544\u001b[0m                                         \n"
      ]
     },
     "metadata": {},
     "output_type": "display_data"
    },
    {
     "data": {
      "text/html": [
       "<pre style=\"white-space:pre;overflow-x:auto;line-height:normal;font-family:Menlo,'DejaVu Sans Mono',consolas,'Courier New',monospace\">Write <span style=\"color: #800080; text-decoration-color: #800080; font-weight: bold\">P</span><span style=\"font-weight: bold\">(</span>k<span style=\"font-weight: bold\">)</span> in .<span style=\"color: #800080; text-decoration-color: #800080\">/boxlen100_n128_lcdmw7v2_00000//power/</span><span style=\"color: #ff00ff; text-decoration-color: #ff00ff\">pk_eft_multigrid_ncoarse7_00328.dat</span>                           \n",
       "</pre>\n"
      ],
      "text/plain": [
       "Write \u001b[1;35mP\u001b[0m\u001b[1m(\u001b[0mk\u001b[1m)\u001b[0m in .\u001b[35m/boxlen100_n128_lcdmw7v2_00000/\u001b[0m\u001b[35m/power/\u001b[0m\u001b[95mpk_eft_multigrid_ncoarse7_00328.dat\u001b[0m                           \n"
      ]
     },
     "metadata": {},
     "output_type": "display_data"
    },
    {
     "data": {
      "text/html": [
       "<pre style=\"white-space:pre;overflow-x:auto;line-height:normal;font-family:Menlo,'DejaVu Sans Mono',consolas,'Courier New',monospace\">param<span style=\"font-weight: bold\">[</span><span style=\"color: #008000; text-decoration-color: #008000\">'nsteps'</span><span style=\"font-weight: bold\">]</span>=<span style=\"color: #008080; text-decoration-color: #008080; font-weight: bold\">328</span> param<span style=\"font-weight: bold\">[</span><span style=\"color: #008000; text-decoration-color: #008000\">'aexp'</span><span style=\"font-weight: bold\">]</span>=<span style=\"color: #008080; text-decoration-color: #008080; font-weight: bold\">0.561027484758616</span> z = <span style=\"color: #008080; text-decoration-color: #008080; font-weight: bold\">0.7824438680223544</span>                                         \n",
       "</pre>\n"
      ],
      "text/plain": [
       "param\u001b[1m[\u001b[0m\u001b[32m'nsteps'\u001b[0m\u001b[1m]\u001b[0m=\u001b[1;36m328\u001b[0m param\u001b[1m[\u001b[0m\u001b[32m'aexp'\u001b[0m\u001b[1m]\u001b[0m=\u001b[1;36m0.561027484758616\u001b[0m z = \u001b[1;36m0.7824438680223544\u001b[0m                                         \n"
      ]
     },
     "metadata": {},
     "output_type": "display_data"
    },
    {
     "data": {
      "text/html": [
       "<pre style=\"white-space:pre;overflow-x:auto;line-height:normal;font-family:Menlo,'DejaVu Sans Mono',consolas,'Courier New',monospace\">Write <span style=\"color: #800080; text-decoration-color: #800080; font-weight: bold\">P</span><span style=\"font-weight: bold\">(</span>k<span style=\"font-weight: bold\">)</span> in .<span style=\"color: #800080; text-decoration-color: #800080\">/boxlen100_n128_lcdmw7v2_00000//power/</span><span style=\"color: #ff00ff; text-decoration-color: #ff00ff\">pk_eft_multigrid_ncoarse7_00329.dat</span>                           \n",
       "</pre>\n"
      ],
      "text/plain": [
       "Write \u001b[1;35mP\u001b[0m\u001b[1m(\u001b[0mk\u001b[1m)\u001b[0m in .\u001b[35m/boxlen100_n128_lcdmw7v2_00000/\u001b[0m\u001b[35m/power/\u001b[0m\u001b[95mpk_eft_multigrid_ncoarse7_00329.dat\u001b[0m                           \n"
      ]
     },
     "metadata": {},
     "output_type": "display_data"
    },
    {
     "data": {
      "text/html": [
       "<pre style=\"white-space:pre;overflow-x:auto;line-height:normal;font-family:Menlo,'DejaVu Sans Mono',consolas,'Courier New',monospace\">param<span style=\"font-weight: bold\">[</span><span style=\"color: #008000; text-decoration-color: #008000\">'nsteps'</span><span style=\"font-weight: bold\">]</span>=<span style=\"color: #008080; text-decoration-color: #008080; font-weight: bold\">329</span> param<span style=\"font-weight: bold\">[</span><span style=\"color: #008000; text-decoration-color: #008000\">'aexp'</span><span style=\"font-weight: bold\">]</span>=<span style=\"color: #008080; text-decoration-color: #008080; font-weight: bold\">0.561027484758616</span> z = <span style=\"color: #008080; text-decoration-color: #008080; font-weight: bold\">0.7824438680223544</span>                                         \n",
       "</pre>\n"
      ],
      "text/plain": [
       "param\u001b[1m[\u001b[0m\u001b[32m'nsteps'\u001b[0m\u001b[1m]\u001b[0m=\u001b[1;36m329\u001b[0m param\u001b[1m[\u001b[0m\u001b[32m'aexp'\u001b[0m\u001b[1m]\u001b[0m=\u001b[1;36m0.561027484758616\u001b[0m z = \u001b[1;36m0.7824438680223544\u001b[0m                                         \n"
      ]
     },
     "metadata": {},
     "output_type": "display_data"
    },
    {
     "data": {
      "text/html": [
       "<pre style=\"white-space:pre;overflow-x:auto;line-height:normal;font-family:Menlo,'DejaVu Sans Mono',consolas,'Courier New',monospace\">Write <span style=\"color: #800080; text-decoration-color: #800080; font-weight: bold\">P</span><span style=\"font-weight: bold\">(</span>k<span style=\"font-weight: bold\">)</span> in .<span style=\"color: #800080; text-decoration-color: #800080\">/boxlen100_n128_lcdmw7v2_00000//power/</span><span style=\"color: #ff00ff; text-decoration-color: #ff00ff\">pk_eft_multigrid_ncoarse7_00330.dat</span>                           \n",
       "</pre>\n"
      ],
      "text/plain": [
       "Write \u001b[1;35mP\u001b[0m\u001b[1m(\u001b[0mk\u001b[1m)\u001b[0m in .\u001b[35m/boxlen100_n128_lcdmw7v2_00000/\u001b[0m\u001b[35m/power/\u001b[0m\u001b[95mpk_eft_multigrid_ncoarse7_00330.dat\u001b[0m                           \n"
      ]
     },
     "metadata": {},
     "output_type": "display_data"
    },
    {
     "data": {
      "text/html": [
       "<pre style=\"white-space:pre;overflow-x:auto;line-height:normal;font-family:Menlo,'DejaVu Sans Mono',consolas,'Courier New',monospace\">param<span style=\"font-weight: bold\">[</span><span style=\"color: #008000; text-decoration-color: #008000\">'nsteps'</span><span style=\"font-weight: bold\">]</span>=<span style=\"color: #008080; text-decoration-color: #008080; font-weight: bold\">330</span> param<span style=\"font-weight: bold\">[</span><span style=\"color: #008000; text-decoration-color: #008000\">'aexp'</span><span style=\"font-weight: bold\">]</span>=<span style=\"color: #008080; text-decoration-color: #008080; font-weight: bold\">0.561027484758616</span> z = <span style=\"color: #008080; text-decoration-color: #008080; font-weight: bold\">0.7824438680223544</span>                                         \n",
       "</pre>\n"
      ],
      "text/plain": [
       "param\u001b[1m[\u001b[0m\u001b[32m'nsteps'\u001b[0m\u001b[1m]\u001b[0m=\u001b[1;36m330\u001b[0m param\u001b[1m[\u001b[0m\u001b[32m'aexp'\u001b[0m\u001b[1m]\u001b[0m=\u001b[1;36m0.561027484758616\u001b[0m z = \u001b[1;36m0.7824438680223544\u001b[0m                                         \n"
      ]
     },
     "metadata": {},
     "output_type": "display_data"
    },
    {
     "data": {
      "text/html": [
       "<pre style=\"white-space:pre;overflow-x:auto;line-height:normal;font-family:Menlo,'DejaVu Sans Mono',consolas,'Courier New',monospace\">Write <span style=\"color: #800080; text-decoration-color: #800080; font-weight: bold\">P</span><span style=\"font-weight: bold\">(</span>k<span style=\"font-weight: bold\">)</span> in .<span style=\"color: #800080; text-decoration-color: #800080\">/boxlen100_n128_lcdmw7v2_00000//power/</span><span style=\"color: #ff00ff; text-decoration-color: #ff00ff\">pk_eft_multigrid_ncoarse7_00331.dat</span>                           \n",
       "</pre>\n"
      ],
      "text/plain": [
       "Write \u001b[1;35mP\u001b[0m\u001b[1m(\u001b[0mk\u001b[1m)\u001b[0m in .\u001b[35m/boxlen100_n128_lcdmw7v2_00000/\u001b[0m\u001b[35m/power/\u001b[0m\u001b[95mpk_eft_multigrid_ncoarse7_00331.dat\u001b[0m                           \n"
      ]
     },
     "metadata": {},
     "output_type": "display_data"
    },
    {
     "data": {
      "text/html": [
       "<pre style=\"white-space:pre;overflow-x:auto;line-height:normal;font-family:Menlo,'DejaVu Sans Mono',consolas,'Courier New',monospace\">param<span style=\"font-weight: bold\">[</span><span style=\"color: #008000; text-decoration-color: #008000\">'nsteps'</span><span style=\"font-weight: bold\">]</span>=<span style=\"color: #008080; text-decoration-color: #008080; font-weight: bold\">331</span> param<span style=\"font-weight: bold\">[</span><span style=\"color: #008000; text-decoration-color: #008000\">'aexp'</span><span style=\"font-weight: bold\">]</span>=<span style=\"color: #008080; text-decoration-color: #008080; font-weight: bold\">0.561027484758616</span> z = <span style=\"color: #008080; text-decoration-color: #008080; font-weight: bold\">0.7824438680223544</span>                                         \n",
       "</pre>\n"
      ],
      "text/plain": [
       "param\u001b[1m[\u001b[0m\u001b[32m'nsteps'\u001b[0m\u001b[1m]\u001b[0m=\u001b[1;36m331\u001b[0m param\u001b[1m[\u001b[0m\u001b[32m'aexp'\u001b[0m\u001b[1m]\u001b[0m=\u001b[1;36m0.561027484758616\u001b[0m z = \u001b[1;36m0.7824438680223544\u001b[0m                                         \n"
      ]
     },
     "metadata": {},
     "output_type": "display_data"
    },
    {
     "data": {
      "text/html": [
       "<pre style=\"white-space:pre;overflow-x:auto;line-height:normal;font-family:Menlo,'DejaVu Sans Mono',consolas,'Courier New',monospace\">Write <span style=\"color: #800080; text-decoration-color: #800080; font-weight: bold\">P</span><span style=\"font-weight: bold\">(</span>k<span style=\"font-weight: bold\">)</span> in .<span style=\"color: #800080; text-decoration-color: #800080\">/boxlen100_n128_lcdmw7v2_00000//power/</span><span style=\"color: #ff00ff; text-decoration-color: #ff00ff\">pk_eft_multigrid_ncoarse7_00332.dat</span>                           \n",
       "</pre>\n"
      ],
      "text/plain": [
       "Write \u001b[1;35mP\u001b[0m\u001b[1m(\u001b[0mk\u001b[1m)\u001b[0m in .\u001b[35m/boxlen100_n128_lcdmw7v2_00000/\u001b[0m\u001b[35m/power/\u001b[0m\u001b[95mpk_eft_multigrid_ncoarse7_00332.dat\u001b[0m                           \n"
      ]
     },
     "metadata": {},
     "output_type": "display_data"
    },
    {
     "data": {
      "text/html": [
       "<pre style=\"white-space:pre;overflow-x:auto;line-height:normal;font-family:Menlo,'DejaVu Sans Mono',consolas,'Courier New',monospace\">param<span style=\"font-weight: bold\">[</span><span style=\"color: #008000; text-decoration-color: #008000\">'nsteps'</span><span style=\"font-weight: bold\">]</span>=<span style=\"color: #008080; text-decoration-color: #008080; font-weight: bold\">332</span> param<span style=\"font-weight: bold\">[</span><span style=\"color: #008000; text-decoration-color: #008000\">'aexp'</span><span style=\"font-weight: bold\">]</span>=<span style=\"color: #008080; text-decoration-color: #008080; font-weight: bold\">0.561027484758616</span> z = <span style=\"color: #008080; text-decoration-color: #008080; font-weight: bold\">0.7824438680223544</span>                                         \n",
       "</pre>\n"
      ],
      "text/plain": [
       "param\u001b[1m[\u001b[0m\u001b[32m'nsteps'\u001b[0m\u001b[1m]\u001b[0m=\u001b[1;36m332\u001b[0m param\u001b[1m[\u001b[0m\u001b[32m'aexp'\u001b[0m\u001b[1m]\u001b[0m=\u001b[1;36m0.561027484758616\u001b[0m z = \u001b[1;36m0.7824438680223544\u001b[0m                                         \n"
      ]
     },
     "metadata": {},
     "output_type": "display_data"
    },
    {
     "data": {
      "text/html": [
       "<pre style=\"white-space:pre;overflow-x:auto;line-height:normal;font-family:Menlo,'DejaVu Sans Mono',consolas,'Courier New',monospace\">Write <span style=\"color: #800080; text-decoration-color: #800080; font-weight: bold\">P</span><span style=\"font-weight: bold\">(</span>k<span style=\"font-weight: bold\">)</span> in .<span style=\"color: #800080; text-decoration-color: #800080\">/boxlen100_n128_lcdmw7v2_00000//power/</span><span style=\"color: #ff00ff; text-decoration-color: #ff00ff\">pk_eft_multigrid_ncoarse7_00333.dat</span>                           \n",
       "</pre>\n"
      ],
      "text/plain": [
       "Write \u001b[1;35mP\u001b[0m\u001b[1m(\u001b[0mk\u001b[1m)\u001b[0m in .\u001b[35m/boxlen100_n128_lcdmw7v2_00000/\u001b[0m\u001b[35m/power/\u001b[0m\u001b[95mpk_eft_multigrid_ncoarse7_00333.dat\u001b[0m                           \n"
      ]
     },
     "metadata": {},
     "output_type": "display_data"
    },
    {
     "data": {
      "text/html": [
       "<pre style=\"white-space:pre;overflow-x:auto;line-height:normal;font-family:Menlo,'DejaVu Sans Mono',consolas,'Courier New',monospace\">param<span style=\"font-weight: bold\">[</span><span style=\"color: #008000; text-decoration-color: #008000\">'nsteps'</span><span style=\"font-weight: bold\">]</span>=<span style=\"color: #008080; text-decoration-color: #008080; font-weight: bold\">333</span> param<span style=\"font-weight: bold\">[</span><span style=\"color: #008000; text-decoration-color: #008000\">'aexp'</span><span style=\"font-weight: bold\">]</span>=<span style=\"color: #008080; text-decoration-color: #008080; font-weight: bold\">0.561027484758616</span> z = <span style=\"color: #008080; text-decoration-color: #008080; font-weight: bold\">0.7824438680223544</span>                                         \n",
       "</pre>\n"
      ],
      "text/plain": [
       "param\u001b[1m[\u001b[0m\u001b[32m'nsteps'\u001b[0m\u001b[1m]\u001b[0m=\u001b[1;36m333\u001b[0m param\u001b[1m[\u001b[0m\u001b[32m'aexp'\u001b[0m\u001b[1m]\u001b[0m=\u001b[1;36m0.561027484758616\u001b[0m z = \u001b[1;36m0.7824438680223544\u001b[0m                                         \n"
      ]
     },
     "metadata": {},
     "output_type": "display_data"
    },
    {
     "data": {
      "text/html": [
       "<pre style=\"white-space:pre;overflow-x:auto;line-height:normal;font-family:Menlo,'DejaVu Sans Mono',consolas,'Courier New',monospace\">Write <span style=\"color: #800080; text-decoration-color: #800080; font-weight: bold\">P</span><span style=\"font-weight: bold\">(</span>k<span style=\"font-weight: bold\">)</span> in .<span style=\"color: #800080; text-decoration-color: #800080\">/boxlen100_n128_lcdmw7v2_00000//power/</span><span style=\"color: #ff00ff; text-decoration-color: #ff00ff\">pk_eft_multigrid_ncoarse7_00334.dat</span>                           \n",
       "</pre>\n"
      ],
      "text/plain": [
       "Write \u001b[1;35mP\u001b[0m\u001b[1m(\u001b[0mk\u001b[1m)\u001b[0m in .\u001b[35m/boxlen100_n128_lcdmw7v2_00000/\u001b[0m\u001b[35m/power/\u001b[0m\u001b[95mpk_eft_multigrid_ncoarse7_00334.dat\u001b[0m                           \n"
      ]
     },
     "metadata": {},
     "output_type": "display_data"
    },
    {
     "data": {
      "text/html": [
       "<pre style=\"white-space:pre;overflow-x:auto;line-height:normal;font-family:Menlo,'DejaVu Sans Mono',consolas,'Courier New',monospace\">param<span style=\"font-weight: bold\">[</span><span style=\"color: #008000; text-decoration-color: #008000\">'nsteps'</span><span style=\"font-weight: bold\">]</span>=<span style=\"color: #008080; text-decoration-color: #008080; font-weight: bold\">334</span> param<span style=\"font-weight: bold\">[</span><span style=\"color: #008000; text-decoration-color: #008000\">'aexp'</span><span style=\"font-weight: bold\">]</span>=<span style=\"color: #008080; text-decoration-color: #008080; font-weight: bold\">0.561027484758616</span> z = <span style=\"color: #008080; text-decoration-color: #008080; font-weight: bold\">0.7824438680223544</span>                                         \n",
       "</pre>\n"
      ],
      "text/plain": [
       "param\u001b[1m[\u001b[0m\u001b[32m'nsteps'\u001b[0m\u001b[1m]\u001b[0m=\u001b[1;36m334\u001b[0m param\u001b[1m[\u001b[0m\u001b[32m'aexp'\u001b[0m\u001b[1m]\u001b[0m=\u001b[1;36m0.561027484758616\u001b[0m z = \u001b[1;36m0.7824438680223544\u001b[0m                                         \n"
      ]
     },
     "metadata": {},
     "output_type": "display_data"
    },
    {
     "data": {
      "text/html": [
       "<pre style=\"white-space:pre;overflow-x:auto;line-height:normal;font-family:Menlo,'DejaVu Sans Mono',consolas,'Courier New',monospace\">Write <span style=\"color: #800080; text-decoration-color: #800080; font-weight: bold\">P</span><span style=\"font-weight: bold\">(</span>k<span style=\"font-weight: bold\">)</span> in .<span style=\"color: #800080; text-decoration-color: #800080\">/boxlen100_n128_lcdmw7v2_00000//power/</span><span style=\"color: #ff00ff; text-decoration-color: #ff00ff\">pk_eft_multigrid_ncoarse7_00335.dat</span>                           \n",
       "</pre>\n"
      ],
      "text/plain": [
       "Write \u001b[1;35mP\u001b[0m\u001b[1m(\u001b[0mk\u001b[1m)\u001b[0m in .\u001b[35m/boxlen100_n128_lcdmw7v2_00000/\u001b[0m\u001b[35m/power/\u001b[0m\u001b[95mpk_eft_multigrid_ncoarse7_00335.dat\u001b[0m                           \n"
      ]
     },
     "metadata": {},
     "output_type": "display_data"
    },
    {
     "data": {
      "text/html": [
       "<pre style=\"white-space:pre;overflow-x:auto;line-height:normal;font-family:Menlo,'DejaVu Sans Mono',consolas,'Courier New',monospace\">param<span style=\"font-weight: bold\">[</span><span style=\"color: #008000; text-decoration-color: #008000\">'nsteps'</span><span style=\"font-weight: bold\">]</span>=<span style=\"color: #008080; text-decoration-color: #008080; font-weight: bold\">335</span> param<span style=\"font-weight: bold\">[</span><span style=\"color: #008000; text-decoration-color: #008000\">'aexp'</span><span style=\"font-weight: bold\">]</span>=<span style=\"color: #008080; text-decoration-color: #008080; font-weight: bold\">0.561027484758616</span> z = <span style=\"color: #008080; text-decoration-color: #008080; font-weight: bold\">0.7824438680223544</span>                                         \n",
       "</pre>\n"
      ],
      "text/plain": [
       "param\u001b[1m[\u001b[0m\u001b[32m'nsteps'\u001b[0m\u001b[1m]\u001b[0m=\u001b[1;36m335\u001b[0m param\u001b[1m[\u001b[0m\u001b[32m'aexp'\u001b[0m\u001b[1m]\u001b[0m=\u001b[1;36m0.561027484758616\u001b[0m z = \u001b[1;36m0.7824438680223544\u001b[0m                                         \n"
      ]
     },
     "metadata": {},
     "output_type": "display_data"
    },
    {
     "data": {
      "text/html": [
       "<pre style=\"white-space:pre;overflow-x:auto;line-height:normal;font-family:Menlo,'DejaVu Sans Mono',consolas,'Courier New',monospace\">Write <span style=\"color: #800080; text-decoration-color: #800080; font-weight: bold\">P</span><span style=\"font-weight: bold\">(</span>k<span style=\"font-weight: bold\">)</span> in .<span style=\"color: #800080; text-decoration-color: #800080\">/boxlen100_n128_lcdmw7v2_00000//power/</span><span style=\"color: #ff00ff; text-decoration-color: #ff00ff\">pk_eft_multigrid_ncoarse7_00336.dat</span>                           \n",
       "</pre>\n"
      ],
      "text/plain": [
       "Write \u001b[1;35mP\u001b[0m\u001b[1m(\u001b[0mk\u001b[1m)\u001b[0m in .\u001b[35m/boxlen100_n128_lcdmw7v2_00000/\u001b[0m\u001b[35m/power/\u001b[0m\u001b[95mpk_eft_multigrid_ncoarse7_00336.dat\u001b[0m                           \n"
      ]
     },
     "metadata": {},
     "output_type": "display_data"
    },
    {
     "data": {
      "text/html": [
       "<pre style=\"white-space:pre;overflow-x:auto;line-height:normal;font-family:Menlo,'DejaVu Sans Mono',consolas,'Courier New',monospace\">param<span style=\"font-weight: bold\">[</span><span style=\"color: #008000; text-decoration-color: #008000\">'nsteps'</span><span style=\"font-weight: bold\">]</span>=<span style=\"color: #008080; text-decoration-color: #008080; font-weight: bold\">336</span> param<span style=\"font-weight: bold\">[</span><span style=\"color: #008000; text-decoration-color: #008000\">'aexp'</span><span style=\"font-weight: bold\">]</span>=<span style=\"color: #008080; text-decoration-color: #008080; font-weight: bold\">0.561027484758616</span> z = <span style=\"color: #008080; text-decoration-color: #008080; font-weight: bold\">0.7824438680223544</span>                                         \n",
       "</pre>\n"
      ],
      "text/plain": [
       "param\u001b[1m[\u001b[0m\u001b[32m'nsteps'\u001b[0m\u001b[1m]\u001b[0m=\u001b[1;36m336\u001b[0m param\u001b[1m[\u001b[0m\u001b[32m'aexp'\u001b[0m\u001b[1m]\u001b[0m=\u001b[1;36m0.561027484758616\u001b[0m z = \u001b[1;36m0.7824438680223544\u001b[0m                                         \n"
      ]
     },
     "metadata": {},
     "output_type": "display_data"
    },
    {
     "data": {
      "text/html": [
       "<pre style=\"white-space:pre;overflow-x:auto;line-height:normal;font-family:Menlo,'DejaVu Sans Mono',consolas,'Courier New',monospace\">Write <span style=\"color: #800080; text-decoration-color: #800080; font-weight: bold\">P</span><span style=\"font-weight: bold\">(</span>k<span style=\"font-weight: bold\">)</span> in .<span style=\"color: #800080; text-decoration-color: #800080\">/boxlen100_n128_lcdmw7v2_00000//power/</span><span style=\"color: #ff00ff; text-decoration-color: #ff00ff\">pk_eft_multigrid_ncoarse7_00337.dat</span>                           \n",
       "</pre>\n"
      ],
      "text/plain": [
       "Write \u001b[1;35mP\u001b[0m\u001b[1m(\u001b[0mk\u001b[1m)\u001b[0m in .\u001b[35m/boxlen100_n128_lcdmw7v2_00000/\u001b[0m\u001b[35m/power/\u001b[0m\u001b[95mpk_eft_multigrid_ncoarse7_00337.dat\u001b[0m                           \n"
      ]
     },
     "metadata": {},
     "output_type": "display_data"
    },
    {
     "data": {
      "text/html": [
       "<pre style=\"white-space:pre;overflow-x:auto;line-height:normal;font-family:Menlo,'DejaVu Sans Mono',consolas,'Courier New',monospace\">param<span style=\"font-weight: bold\">[</span><span style=\"color: #008000; text-decoration-color: #008000\">'nsteps'</span><span style=\"font-weight: bold\">]</span>=<span style=\"color: #008080; text-decoration-color: #008080; font-weight: bold\">337</span> param<span style=\"font-weight: bold\">[</span><span style=\"color: #008000; text-decoration-color: #008000\">'aexp'</span><span style=\"font-weight: bold\">]</span>=<span style=\"color: #008080; text-decoration-color: #008080; font-weight: bold\">0.561027484758616</span> z = <span style=\"color: #008080; text-decoration-color: #008080; font-weight: bold\">0.7824438680223544</span>                                         \n",
       "</pre>\n"
      ],
      "text/plain": [
       "param\u001b[1m[\u001b[0m\u001b[32m'nsteps'\u001b[0m\u001b[1m]\u001b[0m=\u001b[1;36m337\u001b[0m param\u001b[1m[\u001b[0m\u001b[32m'aexp'\u001b[0m\u001b[1m]\u001b[0m=\u001b[1;36m0.561027484758616\u001b[0m z = \u001b[1;36m0.7824438680223544\u001b[0m                                         \n"
      ]
     },
     "metadata": {},
     "output_type": "display_data"
    },
    {
     "data": {
      "text/html": [
       "<pre style=\"white-space:pre;overflow-x:auto;line-height:normal;font-family:Menlo,'DejaVu Sans Mono',consolas,'Courier New',monospace\">Write <span style=\"color: #800080; text-decoration-color: #800080; font-weight: bold\">P</span><span style=\"font-weight: bold\">(</span>k<span style=\"font-weight: bold\">)</span> in .<span style=\"color: #800080; text-decoration-color: #800080\">/boxlen100_n128_lcdmw7v2_00000//power/</span><span style=\"color: #ff00ff; text-decoration-color: #ff00ff\">pk_eft_multigrid_ncoarse7_00338.dat</span>                           \n",
       "</pre>\n"
      ],
      "text/plain": [
       "Write \u001b[1;35mP\u001b[0m\u001b[1m(\u001b[0mk\u001b[1m)\u001b[0m in .\u001b[35m/boxlen100_n128_lcdmw7v2_00000/\u001b[0m\u001b[35m/power/\u001b[0m\u001b[95mpk_eft_multigrid_ncoarse7_00338.dat\u001b[0m                           \n"
      ]
     },
     "metadata": {},
     "output_type": "display_data"
    },
    {
     "data": {
      "text/html": [
       "<pre style=\"white-space:pre;overflow-x:auto;line-height:normal;font-family:Menlo,'DejaVu Sans Mono',consolas,'Courier New',monospace\">param<span style=\"font-weight: bold\">[</span><span style=\"color: #008000; text-decoration-color: #008000\">'nsteps'</span><span style=\"font-weight: bold\">]</span>=<span style=\"color: #008080; text-decoration-color: #008080; font-weight: bold\">338</span> param<span style=\"font-weight: bold\">[</span><span style=\"color: #008000; text-decoration-color: #008000\">'aexp'</span><span style=\"font-weight: bold\">]</span>=<span style=\"color: #008080; text-decoration-color: #008080; font-weight: bold\">0.561027484758616</span> z = <span style=\"color: #008080; text-decoration-color: #008080; font-weight: bold\">0.7824438680223544</span>                                         \n",
       "</pre>\n"
      ],
      "text/plain": [
       "param\u001b[1m[\u001b[0m\u001b[32m'nsteps'\u001b[0m\u001b[1m]\u001b[0m=\u001b[1;36m338\u001b[0m param\u001b[1m[\u001b[0m\u001b[32m'aexp'\u001b[0m\u001b[1m]\u001b[0m=\u001b[1;36m0.561027484758616\u001b[0m z = \u001b[1;36m0.7824438680223544\u001b[0m                                         \n"
      ]
     },
     "metadata": {},
     "output_type": "display_data"
    },
    {
     "data": {
      "text/html": [
       "<pre style=\"white-space:pre;overflow-x:auto;line-height:normal;font-family:Menlo,'DejaVu Sans Mono',consolas,'Courier New',monospace\">Write <span style=\"color: #800080; text-decoration-color: #800080; font-weight: bold\">P</span><span style=\"font-weight: bold\">(</span>k<span style=\"font-weight: bold\">)</span> in .<span style=\"color: #800080; text-decoration-color: #800080\">/boxlen100_n128_lcdmw7v2_00000//power/</span><span style=\"color: #ff00ff; text-decoration-color: #ff00ff\">pk_eft_multigrid_ncoarse7_00339.dat</span>                           \n",
       "</pre>\n"
      ],
      "text/plain": [
       "Write \u001b[1;35mP\u001b[0m\u001b[1m(\u001b[0mk\u001b[1m)\u001b[0m in .\u001b[35m/boxlen100_n128_lcdmw7v2_00000/\u001b[0m\u001b[35m/power/\u001b[0m\u001b[95mpk_eft_multigrid_ncoarse7_00339.dat\u001b[0m                           \n"
      ]
     },
     "metadata": {},
     "output_type": "display_data"
    },
    {
     "data": {
      "text/html": [
       "<pre style=\"white-space:pre;overflow-x:auto;line-height:normal;font-family:Menlo,'DejaVu Sans Mono',consolas,'Courier New',monospace\">param<span style=\"font-weight: bold\">[</span><span style=\"color: #008000; text-decoration-color: #008000\">'nsteps'</span><span style=\"font-weight: bold\">]</span>=<span style=\"color: #008080; text-decoration-color: #008080; font-weight: bold\">339</span> param<span style=\"font-weight: bold\">[</span><span style=\"color: #008000; text-decoration-color: #008000\">'aexp'</span><span style=\"font-weight: bold\">]</span>=<span style=\"color: #008080; text-decoration-color: #008080; font-weight: bold\">0.561027484758616</span> z = <span style=\"color: #008080; text-decoration-color: #008080; font-weight: bold\">0.7824438680223544</span>                                         \n",
       "</pre>\n"
      ],
      "text/plain": [
       "param\u001b[1m[\u001b[0m\u001b[32m'nsteps'\u001b[0m\u001b[1m]\u001b[0m=\u001b[1;36m339\u001b[0m param\u001b[1m[\u001b[0m\u001b[32m'aexp'\u001b[0m\u001b[1m]\u001b[0m=\u001b[1;36m0.561027484758616\u001b[0m z = \u001b[1;36m0.7824438680223544\u001b[0m                                         \n"
      ]
     },
     "metadata": {},
     "output_type": "display_data"
    },
    {
     "data": {
      "text/html": [
       "<pre style=\"white-space:pre;overflow-x:auto;line-height:normal;font-family:Menlo,'DejaVu Sans Mono',consolas,'Courier New',monospace\">Write <span style=\"color: #800080; text-decoration-color: #800080; font-weight: bold\">P</span><span style=\"font-weight: bold\">(</span>k<span style=\"font-weight: bold\">)</span> in .<span style=\"color: #800080; text-decoration-color: #800080\">/boxlen100_n128_lcdmw7v2_00000//power/</span><span style=\"color: #ff00ff; text-decoration-color: #ff00ff\">pk_eft_multigrid_ncoarse7_00340.dat</span>                           \n",
       "</pre>\n"
      ],
      "text/plain": [
       "Write \u001b[1;35mP\u001b[0m\u001b[1m(\u001b[0mk\u001b[1m)\u001b[0m in .\u001b[35m/boxlen100_n128_lcdmw7v2_00000/\u001b[0m\u001b[35m/power/\u001b[0m\u001b[95mpk_eft_multigrid_ncoarse7_00340.dat\u001b[0m                           \n"
      ]
     },
     "metadata": {},
     "output_type": "display_data"
    },
    {
     "data": {
      "text/html": [
       "<pre style=\"white-space:pre;overflow-x:auto;line-height:normal;font-family:Menlo,'DejaVu Sans Mono',consolas,'Courier New',monospace\">param<span style=\"font-weight: bold\">[</span><span style=\"color: #008000; text-decoration-color: #008000\">'nsteps'</span><span style=\"font-weight: bold\">]</span>=<span style=\"color: #008080; text-decoration-color: #008080; font-weight: bold\">340</span> param<span style=\"font-weight: bold\">[</span><span style=\"color: #008000; text-decoration-color: #008000\">'aexp'</span><span style=\"font-weight: bold\">]</span>=<span style=\"color: #008080; text-decoration-color: #008080; font-weight: bold\">0.561027484758616</span> z = <span style=\"color: #008080; text-decoration-color: #008080; font-weight: bold\">0.7824438680223544</span>                                         \n",
       "</pre>\n"
      ],
      "text/plain": [
       "param\u001b[1m[\u001b[0m\u001b[32m'nsteps'\u001b[0m\u001b[1m]\u001b[0m=\u001b[1;36m340\u001b[0m param\u001b[1m[\u001b[0m\u001b[32m'aexp'\u001b[0m\u001b[1m]\u001b[0m=\u001b[1;36m0.561027484758616\u001b[0m z = \u001b[1;36m0.7824438680223544\u001b[0m                                         \n"
      ]
     },
     "metadata": {},
     "output_type": "display_data"
    },
    {
     "data": {
      "text/html": [
       "<pre style=\"white-space:pre;overflow-x:auto;line-height:normal;font-family:Menlo,'DejaVu Sans Mono',consolas,'Courier New',monospace\">Write <span style=\"color: #800080; text-decoration-color: #800080; font-weight: bold\">P</span><span style=\"font-weight: bold\">(</span>k<span style=\"font-weight: bold\">)</span> in .<span style=\"color: #800080; text-decoration-color: #800080\">/boxlen100_n128_lcdmw7v2_00000//power/</span><span style=\"color: #ff00ff; text-decoration-color: #ff00ff\">pk_eft_multigrid_ncoarse7_00341.dat</span>                           \n",
       "</pre>\n"
      ],
      "text/plain": [
       "Write \u001b[1;35mP\u001b[0m\u001b[1m(\u001b[0mk\u001b[1m)\u001b[0m in .\u001b[35m/boxlen100_n128_lcdmw7v2_00000/\u001b[0m\u001b[35m/power/\u001b[0m\u001b[95mpk_eft_multigrid_ncoarse7_00341.dat\u001b[0m                           \n"
      ]
     },
     "metadata": {},
     "output_type": "display_data"
    },
    {
     "data": {
      "text/html": [
       "<pre style=\"white-space:pre;overflow-x:auto;line-height:normal;font-family:Menlo,'DejaVu Sans Mono',consolas,'Courier New',monospace\">param<span style=\"font-weight: bold\">[</span><span style=\"color: #008000; text-decoration-color: #008000\">'nsteps'</span><span style=\"font-weight: bold\">]</span>=<span style=\"color: #008080; text-decoration-color: #008080; font-weight: bold\">341</span> param<span style=\"font-weight: bold\">[</span><span style=\"color: #008000; text-decoration-color: #008000\">'aexp'</span><span style=\"font-weight: bold\">]</span>=<span style=\"color: #008080; text-decoration-color: #008080; font-weight: bold\">0.561027484758616</span> z = <span style=\"color: #008080; text-decoration-color: #008080; font-weight: bold\">0.7824438680223544</span>                                         \n",
       "</pre>\n"
      ],
      "text/plain": [
       "param\u001b[1m[\u001b[0m\u001b[32m'nsteps'\u001b[0m\u001b[1m]\u001b[0m=\u001b[1;36m341\u001b[0m param\u001b[1m[\u001b[0m\u001b[32m'aexp'\u001b[0m\u001b[1m]\u001b[0m=\u001b[1;36m0.561027484758616\u001b[0m z = \u001b[1;36m0.7824438680223544\u001b[0m                                         \n"
      ]
     },
     "metadata": {},
     "output_type": "display_data"
    },
    {
     "data": {
      "text/html": [
       "<pre style=\"white-space:pre;overflow-x:auto;line-height:normal;font-family:Menlo,'DejaVu Sans Mono',consolas,'Courier New',monospace\">Write <span style=\"color: #800080; text-decoration-color: #800080; font-weight: bold\">P</span><span style=\"font-weight: bold\">(</span>k<span style=\"font-weight: bold\">)</span> in .<span style=\"color: #800080; text-decoration-color: #800080\">/boxlen100_n128_lcdmw7v2_00000//power/</span><span style=\"color: #ff00ff; text-decoration-color: #ff00ff\">pk_eft_multigrid_ncoarse7_00342.dat</span>                           \n",
       "</pre>\n"
      ],
      "text/plain": [
       "Write \u001b[1;35mP\u001b[0m\u001b[1m(\u001b[0mk\u001b[1m)\u001b[0m in .\u001b[35m/boxlen100_n128_lcdmw7v2_00000/\u001b[0m\u001b[35m/power/\u001b[0m\u001b[95mpk_eft_multigrid_ncoarse7_00342.dat\u001b[0m                           \n"
      ]
     },
     "metadata": {},
     "output_type": "display_data"
    },
    {
     "ename": "KeyboardInterrupt",
     "evalue": "",
     "output_type": "error",
     "traceback": [
      "\u001b[0;31m---------------------------------------------------------------------------\u001b[0m",
      "\u001b[0;31mKeyboardInterrupt\u001b[0m                         Traceback (most recent call last)",
      "Cell \u001b[0;32mIn[7], line 1\u001b[0m\n\u001b[0;32m----> 1\u001b[0m main\u001b[38;5;241m.\u001b[39mrun(param)\n",
      "File \u001b[0;32m~/Dropbox/prograceray/pysco-eft/pysco/main.py:135\u001b[0m, in \u001b[0;36mrun\u001b[0;34m(param)\u001b[0m\n\u001b[1;32m    127\u001b[0m \u001b[38;5;28;01mwhile\u001b[39;00m param[\u001b[38;5;124m\"\u001b[39m\u001b[38;5;124maexp\u001b[39m\u001b[38;5;124m\"\u001b[39m] \u001b[38;5;241m<\u001b[39m aexp_out[\u001b[38;5;241m-\u001b[39m\u001b[38;5;241m1\u001b[39m]:\n\u001b[1;32m    128\u001b[0m     param[\u001b[38;5;124m\"\u001b[39m\u001b[38;5;124mnsteps\u001b[39m\u001b[38;5;124m\"\u001b[39m] \u001b[38;5;241m+\u001b[39m\u001b[38;5;241m=\u001b[39m \u001b[38;5;241m1\u001b[39m\n\u001b[1;32m    129\u001b[0m     (\n\u001b[1;32m    130\u001b[0m         position,\n\u001b[1;32m    131\u001b[0m         velocity,\n\u001b[1;32m    132\u001b[0m         acceleration,\n\u001b[1;32m    133\u001b[0m         potential,\n\u001b[1;32m    134\u001b[0m         additional_field,\n\u001b[0;32m--> 135\u001b[0m     ) \u001b[38;5;241m=\u001b[39m integration\u001b[38;5;241m.\u001b[39mintegrate(\n\u001b[1;32m    136\u001b[0m         position,\n\u001b[1;32m    137\u001b[0m         velocity,\n\u001b[1;32m    138\u001b[0m         acceleration,\n\u001b[1;32m    139\u001b[0m         potential,\n\u001b[1;32m    140\u001b[0m         additional_field,\n\u001b[1;32m    141\u001b[0m         tables,\n\u001b[1;32m    142\u001b[0m         param,\n\u001b[1;32m    143\u001b[0m         t_out[param[\u001b[38;5;124m\"\u001b[39m\u001b[38;5;124mi_snap\u001b[39m\u001b[38;5;124m\"\u001b[39m] \u001b[38;5;241m-\u001b[39m \u001b[38;5;241m1\u001b[39m],\n\u001b[1;32m    144\u001b[0m     )  \u001b[38;5;66;03m# Put None instead of potential if you do not want to use previous step\u001b[39;00m\n\u001b[1;32m    146\u001b[0m     \u001b[38;5;28;01mif\u001b[39;00m (param[\u001b[38;5;124m\"\u001b[39m\u001b[38;5;124mnsteps\u001b[39m\u001b[38;5;124m\"\u001b[39m] \u001b[38;5;241m%\u001b[39m param[\u001b[38;5;124m\"\u001b[39m\u001b[38;5;124mn_reorder\u001b[39m\u001b[38;5;124m\"\u001b[39m]) \u001b[38;5;241m==\u001b[39m \u001b[38;5;241m0\u001b[39m:\n\u001b[1;32m    147\u001b[0m         logging\u001b[38;5;241m.\u001b[39minfo(\u001b[38;5;124m\"\u001b[39m\u001b[38;5;124mReordering particles\u001b[39m\u001b[38;5;124m\"\u001b[39m)\n",
      "File \u001b[0;32m~/Dropbox/prograceray/pysco-eft/pysco/utils.py:51\u001b[0m, in \u001b[0;36mtime_me.<locals>.time_func\u001b[0;34m(*args, **kw)\u001b[0m\n\u001b[1;32m     43\u001b[0m \u001b[38;5;250m\u001b[39m\u001b[38;5;124;03m\"\"\"Wrapper\u001b[39;00m\n\u001b[1;32m     44\u001b[0m \n\u001b[1;32m     45\u001b[0m \u001b[38;5;124;03mReturns\u001b[39;00m\n\u001b[0;32m   (...)\u001b[0m\n\u001b[1;32m     48\u001b[0m \u001b[38;5;124;03m    Print time (in seconds)\u001b[39;00m\n\u001b[1;32m     49\u001b[0m \u001b[38;5;124;03m\"\"\"\u001b[39;00m\n\u001b[1;32m     50\u001b[0m t1 \u001b[38;5;241m=\u001b[39m perf_counter()\n\u001b[0;32m---> 51\u001b[0m result \u001b[38;5;241m=\u001b[39m func(\u001b[38;5;241m*\u001b[39margs, \u001b[38;5;241m*\u001b[39m\u001b[38;5;241m*\u001b[39mkw)\n\u001b[1;32m     52\u001b[0m logging\u001b[38;5;241m.\u001b[39minfo(\n\u001b[1;32m     53\u001b[0m     \u001b[38;5;124mf\u001b[39m\u001b[38;5;124m\"\u001b[39m\u001b[38;5;124mFunction \u001b[39m\u001b[38;5;132;01m{\u001b[39;00mfunc\u001b[38;5;241m.\u001b[39m\u001b[38;5;18m__name__\u001b[39m\u001b[38;5;132;01m:\u001b[39;00m\u001b[38;5;124m->40\u001b[39m\u001b[38;5;132;01m}\u001b[39;00m\u001b[38;5;124m took \u001b[39m\u001b[38;5;132;01m{\u001b[39;00mperf_counter()\u001b[38;5;250m \u001b[39m\u001b[38;5;241m-\u001b[39m\u001b[38;5;250m \u001b[39mt1\u001b[38;5;132;01m:\u001b[39;00m\u001b[38;5;124m.12f\u001b[39m\u001b[38;5;132;01m}\u001b[39;00m\u001b[38;5;124m seconds\u001b[39m\u001b[38;5;132;01m{\u001b[39;00m\u001b[38;5;124m'\u001b[39m\u001b[38;5;124m'\u001b[39m\u001b[38;5;132;01m:\u001b[39;00m\u001b[38;5;132;01m{\u001b[39;00m\u001b[38;5;124m'\u001b[39m\u001b[38;5;124m-\u001b[39m\u001b[38;5;124m'\u001b[39m\u001b[38;5;132;01m}\u001b[39;00m\u001b[38;5;124m<\u001b[39m\u001b[38;5;132;01m{\u001b[39;00m\u001b[38;5;241m10\u001b[39m\u001b[38;5;132;01m}\u001b[39;00m\u001b[38;5;132;01m}\u001b[39;00m\u001b[38;5;124m\"\u001b[39m\n\u001b[1;32m     54\u001b[0m )\n\u001b[1;32m     55\u001b[0m \u001b[38;5;28;01mreturn\u001b[39;00m result\n",
      "File \u001b[0;32m~/Dropbox/prograceray/pysco-eft/pysco/integration.py:96\u001b[0m, in \u001b[0;36mintegrate\u001b[0;34m(position, velocity, acceleration, potential, additional_field, tables, param, t_snap_next)\u001b[0m\n\u001b[1;32m     90\u001b[0m logging\u001b[38;5;241m.\u001b[39minfo(\n\u001b[1;32m     91\u001b[0m     \u001b[38;5;124mf\u001b[39m\u001b[38;5;124m\"\u001b[39m\u001b[38;5;124mConditions: velocity \u001b[39m\u001b[38;5;132;01m{\u001b[39;00mdt1\u001b[38;5;132;01m=}\u001b[39;00m\u001b[38;5;124m, acceleration \u001b[39m\u001b[38;5;132;01m{\u001b[39;00mdt2\u001b[38;5;132;01m=}\u001b[39;00m\u001b[38;5;124m, scale factor \u001b[39m\u001b[38;5;132;01m{\u001b[39;00mdt3\u001b[38;5;132;01m=}\u001b[39;00m\u001b[38;5;124m\"\u001b[39m\n\u001b[1;32m     92\u001b[0m )\n\u001b[1;32m     93\u001b[0m INTEGRATOR \u001b[38;5;241m=\u001b[39m param[\u001b[38;5;124m\"\u001b[39m\u001b[38;5;124mintegrator\u001b[39m\u001b[38;5;124m\"\u001b[39m]\u001b[38;5;241m.\u001b[39mcasefold()\n\u001b[1;32m     94\u001b[0m \u001b[38;5;28;01mmatch\u001b[39;00m INTEGRATOR:\n\u001b[1;32m     95\u001b[0m     \u001b[38;5;28;01mcase\u001b[39;00m \u001b[38;5;124m\"\u001b[39m\u001b[38;5;124mleapfrog\u001b[39m\u001b[38;5;124m\"\u001b[39m:\n\u001b[0;32m---> 96\u001b[0m         \u001b[38;5;28;01mreturn\u001b[39;00m leapfrog(\n\u001b[1;32m     97\u001b[0m             position,\n\u001b[1;32m     98\u001b[0m             velocity,\n\u001b[1;32m     99\u001b[0m             acceleration,\n\u001b[1;32m    100\u001b[0m             potential,\n\u001b[1;32m    101\u001b[0m             additional_field,\n\u001b[1;32m    102\u001b[0m             dt,\n\u001b[1;32m    103\u001b[0m             tables,\n\u001b[1;32m    104\u001b[0m             param,\n\u001b[1;32m    105\u001b[0m         )\n\u001b[1;32m    106\u001b[0m     \u001b[38;5;28;01mcase\u001b[39;00m \u001b[38;5;124m\"\u001b[39m\u001b[38;5;124meuler\u001b[39m\u001b[38;5;124m\"\u001b[39m:\n\u001b[1;32m    107\u001b[0m         \u001b[38;5;28;01mreturn\u001b[39;00m euler(\n\u001b[1;32m    108\u001b[0m             position,\n\u001b[1;32m    109\u001b[0m             velocity,\n\u001b[1;32m    110\u001b[0m             acceleration,\n\u001b[1;32m    111\u001b[0m             potential,\n\u001b[1;32m    112\u001b[0m             additional_field,\n\u001b[1;32m    113\u001b[0m             dt,\n\u001b[1;32m    114\u001b[0m             tables,\n\u001b[1;32m    115\u001b[0m             param,\n\u001b[1;32m    116\u001b[0m         )\n\u001b[1;32m    117\u001b[0m     \u001b[38;5;28;01mcase\u001b[39;00m\u001b[38;5;250m \u001b[39m\u001b[38;5;28;01m_\u001b[39;00m:\n\u001b[1;32m    118\u001b[0m         \u001b[38;5;28;01mraise\u001b[39;00m \u001b[38;5;167;01mValueError\u001b[39;00m(\u001b[38;5;124m\"\u001b[39m\u001b[38;5;124mERROR: Integrator must be \u001b[39m\u001b[38;5;124m'\u001b[39m\u001b[38;5;124mleapfrog\u001b[39m\u001b[38;5;124m'\u001b[39m\u001b[38;5;124m or \u001b[39m\u001b[38;5;124m'\u001b[39m\u001b[38;5;124meuler\u001b[39m\u001b[38;5;124m'\u001b[39m\u001b[38;5;124m\"\u001b[39m)\n",
      "File \u001b[0;32m~/Dropbox/prograceray/pysco-eft/pysco/integration.py:259\u001b[0m, in \u001b[0;36mleapfrog\u001b[0;34m(position, velocity, acceleration, potential, additional_field, dt, tables, param)\u001b[0m\n\u001b[1;32m    257\u001b[0m utils\u001b[38;5;241m.\u001b[39mset_units(param)\n\u001b[1;32m    258\u001b[0m utils\u001b[38;5;241m.\u001b[39mperiodic_wrap(position)\n\u001b[0;32m--> 259\u001b[0m acceleration, potential, additional_field \u001b[38;5;241m=\u001b[39m solver\u001b[38;5;241m.\u001b[39mpm(\n\u001b[1;32m    260\u001b[0m     position, param, potential, additional_field, tables\n\u001b[1;32m    261\u001b[0m )\n\u001b[1;32m    262\u001b[0m utils\u001b[38;5;241m.\u001b[39madd_vector_scalar_inplace(velocity, acceleration, \u001b[38;5;241m-\u001b[39mhalf_dt)\n\u001b[1;32m    264\u001b[0m \u001b[38;5;28;01mreturn\u001b[39;00m position, velocity, acceleration, potential, additional_field\n",
      "File \u001b[0;32m~/Dropbox/prograceray/pysco-eft/pysco/utils.py:51\u001b[0m, in \u001b[0;36mtime_me.<locals>.time_func\u001b[0;34m(*args, **kw)\u001b[0m\n\u001b[1;32m     43\u001b[0m \u001b[38;5;250m\u001b[39m\u001b[38;5;124;03m\"\"\"Wrapper\u001b[39;00m\n\u001b[1;32m     44\u001b[0m \n\u001b[1;32m     45\u001b[0m \u001b[38;5;124;03mReturns\u001b[39;00m\n\u001b[0;32m   (...)\u001b[0m\n\u001b[1;32m     48\u001b[0m \u001b[38;5;124;03m    Print time (in seconds)\u001b[39;00m\n\u001b[1;32m     49\u001b[0m \u001b[38;5;124;03m\"\"\"\u001b[39;00m\n\u001b[1;32m     50\u001b[0m t1 \u001b[38;5;241m=\u001b[39m perf_counter()\n\u001b[0;32m---> 51\u001b[0m result \u001b[38;5;241m=\u001b[39m func(\u001b[38;5;241m*\u001b[39margs, \u001b[38;5;241m*\u001b[39m\u001b[38;5;241m*\u001b[39mkw)\n\u001b[1;32m     52\u001b[0m logging\u001b[38;5;241m.\u001b[39minfo(\n\u001b[1;32m     53\u001b[0m     \u001b[38;5;124mf\u001b[39m\u001b[38;5;124m\"\u001b[39m\u001b[38;5;124mFunction \u001b[39m\u001b[38;5;132;01m{\u001b[39;00mfunc\u001b[38;5;241m.\u001b[39m\u001b[38;5;18m__name__\u001b[39m\u001b[38;5;132;01m:\u001b[39;00m\u001b[38;5;124m->40\u001b[39m\u001b[38;5;132;01m}\u001b[39;00m\u001b[38;5;124m took \u001b[39m\u001b[38;5;132;01m{\u001b[39;00mperf_counter()\u001b[38;5;250m \u001b[39m\u001b[38;5;241m-\u001b[39m\u001b[38;5;250m \u001b[39mt1\u001b[38;5;132;01m:\u001b[39;00m\u001b[38;5;124m.12f\u001b[39m\u001b[38;5;132;01m}\u001b[39;00m\u001b[38;5;124m seconds\u001b[39m\u001b[38;5;132;01m{\u001b[39;00m\u001b[38;5;124m'\u001b[39m\u001b[38;5;124m'\u001b[39m\u001b[38;5;132;01m:\u001b[39;00m\u001b[38;5;132;01m{\u001b[39;00m\u001b[38;5;124m'\u001b[39m\u001b[38;5;124m-\u001b[39m\u001b[38;5;124m'\u001b[39m\u001b[38;5;132;01m}\u001b[39;00m\u001b[38;5;124m<\u001b[39m\u001b[38;5;132;01m{\u001b[39;00m\u001b[38;5;241m10\u001b[39m\u001b[38;5;132;01m}\u001b[39;00m\u001b[38;5;132;01m}\u001b[39;00m\u001b[38;5;124m\"\u001b[39m\n\u001b[1;32m     54\u001b[0m )\n\u001b[1;32m     55\u001b[0m \u001b[38;5;28;01mreturn\u001b[39;00m result\n",
      "File \u001b[0;32m~/Dropbox/prograceray/pysco-eft/pysco/solver.py:146\u001b[0m, in \u001b[0;36mpm\u001b[0;34m(position, param, potential, additional_field, tables)\u001b[0m\n\u001b[1;32m    143\u001b[0m     iostream\u001b[38;5;241m.\u001b[39mwrite_power_spectrum_to_ascii_file(k, Pk, Nmodes, param)\n\u001b[1;32m    145\u001b[0m param[\u001b[38;5;124m\"\u001b[39m\u001b[38;5;124mcompute_additional_field\u001b[39m\u001b[38;5;124m\"\u001b[39m] \u001b[38;5;241m=\u001b[39m \u001b[38;5;28;01mTrue\u001b[39;00m\n\u001b[0;32m--> 146\u001b[0m additional_field \u001b[38;5;241m=\u001b[39m get_additional_field(additional_field, density, h, param, tables)\n\u001b[1;32m    148\u001b[0m \u001b[38;5;66;03m# TODO: Try to keep Phidot and initialise Phi_i = Phi_(i-1) + Phidot*dt\u001b[39;00m\n\u001b[1;32m    149\u001b[0m param[\u001b[38;5;124m\"\u001b[39m\u001b[38;5;124mcompute_additional_field\u001b[39m\u001b[38;5;124m\"\u001b[39m] \u001b[38;5;241m=\u001b[39m \u001b[38;5;28;01mFalse\u001b[39;00m\n",
      "File \u001b[0;32m~/Dropbox/prograceray/pysco-eft/pysco/solver.py:417\u001b[0m, in \u001b[0;36mget_additional_field\u001b[0;34m(additional_field, density, h, param, tables)\u001b[0m\n\u001b[1;32m    313\u001b[0m \u001b[38;5;250m\u001b[39m\u001b[38;5;124;03m\"\"\"Get additional field for MG theories\u001b[39;00m\n\u001b[1;32m    314\u001b[0m \n\u001b[1;32m    315\u001b[0m \u001b[38;5;124;03mReturns empty array for Newtonian mode\u001b[39;00m\n\u001b[0;32m   (...)\u001b[0m\n\u001b[1;32m    345\u001b[0m \u001b[38;5;124;03m>>> additional_field = get_additional_field(additional_field, density, h, param, tables)\u001b[39;00m\n\u001b[1;32m    346\u001b[0m \u001b[38;5;124;03m\"\"\"\u001b[39;00m\n\u001b[1;32m    347\u001b[0m THEORY \u001b[38;5;241m=\u001b[39m param[\u001b[38;5;124m\"\u001b[39m\u001b[38;5;124mtheory\u001b[39m\u001b[38;5;124m\"\u001b[39m]\u001b[38;5;241m.\u001b[39mcasefold()\n\u001b[1;32m    348\u001b[0m \u001b[38;5;28;01mmatch\u001b[39;00m THEORY:\n\u001b[1;32m    349\u001b[0m     \u001b[38;5;28;01mcase\u001b[39;00m \u001b[38;5;124m\"\u001b[39m\u001b[38;5;124mnewton\u001b[39m\u001b[38;5;124m\"\u001b[39m \u001b[38;5;241m|\u001b[39m \u001b[38;5;124m\"\u001b[39m\u001b[38;5;124mparametrized\u001b[39m\u001b[38;5;124m\"\u001b[39m:\n\u001b[1;32m    350\u001b[0m         \u001b[38;5;28;01mreturn\u001b[39;00m np\u001b[38;5;241m.\u001b[39mempty(\u001b[38;5;241m0\u001b[39m, dtype\u001b[38;5;241m=\u001b[39mnp\u001b[38;5;241m.\u001b[39mfloat32)\n\u001b[1;32m    351\u001b[0m     \u001b[38;5;28;01mcase\u001b[39;00m \u001b[38;5;124m\"\u001b[39m\u001b[38;5;124mfr\u001b[39m\u001b[38;5;124m\"\u001b[39m:\n\u001b[1;32m    352\u001b[0m         Rbar \u001b[38;5;241m=\u001b[39m \u001b[38;5;241m3\u001b[39m \u001b[38;5;241m*\u001b[39m param[\u001b[38;5;124m\"\u001b[39m\u001b[38;5;124mOm_m\u001b[39m\u001b[38;5;124m\"\u001b[39m] \u001b[38;5;241m*\u001b[39m param[\u001b[38;5;124m\"\u001b[39m\u001b[38;5;124maexp\u001b[39m\u001b[38;5;124m\"\u001b[39m] \u001b[38;5;241m*\u001b[39m\u001b[38;5;241m*\u001b[39m (\u001b[38;5;241m-\u001b[39m\u001b[38;5;241m3\u001b[39m) \u001b[38;5;241m+\u001b[39m \u001b[38;5;241m12\u001b[39m \u001b[38;5;241m*\u001b[39m param[\u001b[38;5;124m\"\u001b[39m\u001b[38;5;124mOm_lambda\u001b[39m\u001b[38;5;124m\"\u001b[39m]\n\u001b[1;32m    353\u001b[0m         Rbar0 \u001b[38;5;241m=\u001b[39m \u001b[38;5;241m3\u001b[39m \u001b[38;5;241m*\u001b[39m param[\u001b[38;5;124m\"\u001b[39m\u001b[38;5;124mOm_m\u001b[39m\u001b[38;5;124m\"\u001b[39m] \u001b[38;5;241m+\u001b[39m \u001b[38;5;241m12\u001b[39m \u001b[38;5;241m*\u001b[39m param[\u001b[38;5;124m\"\u001b[39m\u001b[38;5;124mOm_lambda\u001b[39m\u001b[38;5;124m\"\u001b[39m]\n\u001b[1;32m    354\u001b[0m         fR_a \u001b[38;5;241m=\u001b[39m (\n\u001b[1;32m    355\u001b[0m             \u001b[38;5;241m-\u001b[39mparam[\u001b[38;5;124m\"\u001b[39m\u001b[38;5;124maexp\u001b[39m\u001b[38;5;124m\"\u001b[39m] \u001b[38;5;241m*\u001b[39m\u001b[38;5;241m*\u001b[39m \u001b[38;5;241m2\u001b[39m\n\u001b[1;32m    356\u001b[0m             \u001b[38;5;241m*\u001b[39m ((Rbar0 \u001b[38;5;241m/\u001b[39m Rbar) \u001b[38;5;241m*\u001b[39m\u001b[38;5;241m*\u001b[39m (param[\u001b[38;5;124m\"\u001b[39m\u001b[38;5;124mfR_n\u001b[39m\u001b[38;5;124m\"\u001b[39m] \u001b[38;5;241m+\u001b[39m \u001b[38;5;241m1\u001b[39m))\n\u001b[1;32m    357\u001b[0m             \u001b[38;5;241m*\u001b[39m \u001b[38;5;241m10.0\u001b[39m \u001b[38;5;241m*\u001b[39m\u001b[38;5;241m*\u001b[39m (\u001b[38;5;241m-\u001b[39mparam[\u001b[38;5;124m\"\u001b[39m\u001b[38;5;124mfR_logfR0\u001b[39m\u001b[38;5;124m\"\u001b[39m])\n\u001b[1;32m    358\u001b[0m         )\n\u001b[1;32m    359\u001b[0m         c2 \u001b[38;5;241m=\u001b[39m (\n\u001b[1;32m    360\u001b[0m             c\u001b[38;5;241m.\u001b[39mvalue \u001b[38;5;241m*\u001b[39m \u001b[38;5;241m1e-3\u001b[39m \u001b[38;5;241m*\u001b[39m param[\u001b[38;5;124m\"\u001b[39m\u001b[38;5;124munit_t\u001b[39m\u001b[38;5;124m\"\u001b[39m] \u001b[38;5;241m/\u001b[39m (param[\u001b[38;5;124m\"\u001b[39m\u001b[38;5;124munit_l\u001b[39m\u001b[38;5;124m\"\u001b[39m] \u001b[38;5;241m*\u001b[39m param[\u001b[38;5;124m\"\u001b[39m\u001b[38;5;124maexp\u001b[39m\u001b[38;5;124m\"\u001b[39m])\n\u001b[1;32m    361\u001b[0m         ) \u001b[38;5;241m*\u001b[39m\u001b[38;5;241m*\u001b[39m \u001b[38;5;241m2\u001b[39m  \u001b[38;5;66;03m# m -> km -> BU\u001b[39;00m\n\u001b[1;32m    362\u001b[0m         f1 \u001b[38;5;241m=\u001b[39m np\u001b[38;5;241m.\u001b[39mfloat32(param[\u001b[38;5;124m\"\u001b[39m\u001b[38;5;124maexp\u001b[39m\u001b[38;5;124m\"\u001b[39m] \u001b[38;5;241m*\u001b[39m param[\u001b[38;5;124m\"\u001b[39m\u001b[38;5;124mOm_m\u001b[39m\u001b[38;5;124m\"\u001b[39m] \u001b[38;5;241m/\u001b[39m (c2 \u001b[38;5;241m*\u001b[39m \u001b[38;5;241m6\u001b[39m)) \u001b[38;5;241m/\u001b[39m (\u001b[38;5;241m-\u001b[39mfR_a)\n\u001b[1;32m    363\u001b[0m         f2 \u001b[38;5;241m=\u001b[39m (\n\u001b[1;32m    364\u001b[0m             np\u001b[38;5;241m.\u001b[39mfloat32(\n\u001b[1;32m    365\u001b[0m                 Rbar \u001b[38;5;241m/\u001b[39m \u001b[38;5;241m3\u001b[39m \u001b[38;5;241m*\u001b[39m param[\u001b[38;5;124m\"\u001b[39m\u001b[38;5;124maexp\u001b[39m\u001b[38;5;124m\"\u001b[39m] \u001b[38;5;241m*\u001b[39m\u001b[38;5;241m*\u001b[39m \u001b[38;5;241m4\u001b[39m \u001b[38;5;241m-\u001b[39m param[\u001b[38;5;124m\"\u001b[39m\u001b[38;5;124mOm_m\u001b[39m\u001b[38;5;124m\"\u001b[39m] \u001b[38;5;241m*\u001b[39m param[\u001b[38;5;124m\"\u001b[39m\u001b[38;5;124maexp\u001b[39m\u001b[38;5;124m\"\u001b[39m]\n\u001b[1;32m    366\u001b[0m             )\n\u001b[1;32m    367\u001b[0m             \u001b[38;5;241m/\u001b[39m (\u001b[38;5;241m6\u001b[39m \u001b[38;5;241m*\u001b[39m c2)\n\u001b[1;32m    368\u001b[0m             \u001b[38;5;241m/\u001b[39m (\u001b[38;5;241m-\u001b[39mfR_a)\n\u001b[1;32m    369\u001b[0m         )\n\u001b[1;32m    370\u001b[0m         dens_term \u001b[38;5;241m=\u001b[39m utils\u001b[38;5;241m.\u001b[39mlinear_operator(density, f1, f2)\n\u001b[1;32m    371\u001b[0m \n\u001b[1;32m    372\u001b[0m         q \u001b[38;5;241m=\u001b[39m np\u001b[38;5;241m.\u001b[39mfloat32(\u001b[38;5;241m-\u001b[39mparam[\u001b[38;5;124m\"\u001b[39m\u001b[38;5;124maexp\u001b[39m\u001b[38;5;124m\"\u001b[39m] \u001b[38;5;241m*\u001b[39m\u001b[38;5;241m*\u001b[39m \u001b[38;5;241m4\u001b[39m \u001b[38;5;241m*\u001b[39m Rbar \u001b[38;5;241m/\u001b[39m (\u001b[38;5;241m18\u001b[39m \u001b[38;5;241m*\u001b[39m c2)) \u001b[38;5;241m/\u001b[39m (\u001b[38;5;241m-\u001b[39mfR_a)\n\u001b[1;32m    373\u001b[0m         param[\u001b[38;5;124m\"\u001b[39m\u001b[38;5;124mfR_q\u001b[39m\u001b[38;5;124m\"\u001b[39m] \u001b[38;5;241m=\u001b[39m q\n\u001b[1;32m    374\u001b[0m         additional_field \u001b[38;5;241m=\u001b[39m initialise_potential(\n\u001b[1;32m    375\u001b[0m             additional_field, dens_term, h, param, tables\n\u001b[1;32m    376\u001b[0m         )\n\u001b[1;32m    377\u001b[0m         u_scalaron \u001b[38;5;241m=\u001b[39m additional_field\n\u001b[1;32m    378\u001b[0m         u_scalaron \u001b[38;5;241m=\u001b[39m multigrid\u001b[38;5;241m.\u001b[39mFAS(u_scalaron, dens_term, h, param)\n\u001b[1;32m    379\u001b[0m         \u001b[38;5;28;01mif\u001b[39;00m (param[\u001b[38;5;124m\"\u001b[39m\u001b[38;5;124mnsteps\u001b[39m\u001b[38;5;124m\"\u001b[39m]) \u001b[38;5;241m%\u001b[39m \u001b[38;5;241m10\u001b[39m \u001b[38;5;241m==\u001b[39m \u001b[38;5;241m0\u001b[39m:\n\u001b[1;32m    380\u001b[0m             logging\u001b[38;5;241m.\u001b[39minfo(\n\u001b[1;32m    381\u001b[0m                 \u001b[38;5;124mf\u001b[39m\u001b[38;5;124m\"\u001b[39m\u001b[38;5;132;01m{\u001b[39;00mnp\u001b[38;5;241m.\u001b[39mmean(u_scalaron)\u001b[38;5;132;01m=}\u001b[39;00m\u001b[38;5;124m, should be close to 1 (actually <1/u_sclaron> should be conserved)\u001b[39m\u001b[38;5;124m\"\u001b[39m\n\u001b[1;32m    382\u001b[0m             )\n\u001b[1;32m    383\u001b[0m         logging\u001b[38;5;241m.\u001b[39minfo(\u001b[38;5;124mf\u001b[39m\u001b[38;5;124m\"\u001b[39m\u001b[38;5;132;01m{\u001b[39;00mfR_a\u001b[38;5;132;01m=}\u001b[39;00m\u001b[38;5;124m\"\u001b[39m)\n\u001b[1;32m    384\u001b[0m         \u001b[38;5;28;01mreturn\u001b[39;00m u_scalaron\n\u001b[1;32m    385\u001b[0m     \u001b[38;5;28;01mcase\u001b[39;00m \u001b[38;5;124m\"\u001b[39m\u001b[38;5;124mmond\u001b[39m\u001b[38;5;124m\"\u001b[39m:\n\u001b[1;32m    386\u001b[0m         rhs_poisson(density, additional_field, param)\n\u001b[1;32m    387\u001b[0m         LINEAR_NEWTON_SOLVER \u001b[38;5;241m=\u001b[39m param[\u001b[38;5;124m\"\u001b[39m\u001b[38;5;124mlinear_newton_solver\u001b[39m\u001b[38;5;124m\"\u001b[39m]\u001b[38;5;241m.\u001b[39mcasefold()\n\u001b[1;32m    388\u001b[0m         \u001b[38;5;28;01mif\u001b[39;00m LINEAR_NEWTON_SOLVER \u001b[38;5;241m==\u001b[39m \u001b[38;5;124m\"\u001b[39m\u001b[38;5;124mmultigrid\u001b[39m\u001b[38;5;124m\"\u001b[39m:\n\u001b[1;32m    389\u001b[0m             additional_field \u001b[38;5;241m=\u001b[39m initialise_potential(\n\u001b[1;32m    390\u001b[0m                 additional_field, density, h, param, tables\n\u001b[1;32m    391\u001b[0m             )\n\u001b[1;32m    392\u001b[0m             additional_field \u001b[38;5;241m=\u001b[39m multigrid\u001b[38;5;241m.\u001b[39mlinear(additional_field, density, h, param)\n\u001b[1;32m    393\u001b[0m         \u001b[38;5;28;01melif\u001b[39;00m LINEAR_NEWTON_SOLVER \u001b[38;5;241m==\u001b[39m \u001b[38;5;124m\"\u001b[39m\u001b[38;5;124mfft_7pt\u001b[39m\u001b[38;5;124m\"\u001b[39m:\n\u001b[1;32m    394\u001b[0m             additional_field \u001b[38;5;241m=\u001b[39m fft(density, param)\n\u001b[1;32m    395\u001b[0m         \u001b[38;5;28;01melse\u001b[39;00m:\n\u001b[1;32m    396\u001b[0m             \u001b[38;5;28;01mraise\u001b[39;00m \u001b[38;5;167;01mValueError\u001b[39;00m(\n\u001b[1;32m    397\u001b[0m                 \u001b[38;5;124mf\u001b[39m\u001b[38;5;124m\"\u001b[39m\u001b[38;5;132;01m{\u001b[39;00mparam[\u001b[38;5;124m'\u001b[39m\u001b[38;5;124mlinear_newton_solver\u001b[39m\u001b[38;5;124m'\u001b[39m]\u001b[38;5;132;01m=}\u001b[39;00m\u001b[38;5;124m, should be \u001b[39m\u001b[38;5;124m'\u001b[39m\u001b[38;5;124mmultigrid\u001b[39m\u001b[38;5;124m'\u001b[39m\u001b[38;5;124m or \u001b[39m\u001b[38;5;124m'\u001b[39m\u001b[38;5;124mfft_7pt\u001b[39m\u001b[38;5;124m'\u001b[39m\u001b[38;5;124m\"\u001b[39m\n\u001b[1;32m    398\u001b[0m             )\n\u001b[1;32m    399\u001b[0m         \u001b[38;5;28;01mreturn\u001b[39;00m additional_field\n\u001b[1;32m    400\u001b[0m     \n\u001b[1;32m    401\u001b[0m     \u001b[38;5;28;01mcase\u001b[39;00m \u001b[38;5;124m\"\u001b[39m\u001b[38;5;124meft\u001b[39m\u001b[38;5;124m\"\u001b[39m:\n\u001b[1;32m    402\u001b[0m \n\u001b[1;32m    403\u001b[0m         eft_quantities \u001b[38;5;241m=\u001b[39m eftcalcs\u001b[38;5;241m.\u001b[39mgeteft(param,tables)\n\u001b[1;32m    404\u001b[0m         param[\u001b[38;5;124m\"\u001b[39m\u001b[38;5;124malphaB\u001b[39m\u001b[38;5;124m\"\u001b[39m] \u001b[38;5;241m=\u001b[39m eft_quantities[\u001b[38;5;241m0\u001b[39m]\n\u001b[1;32m    405\u001b[0m         param[\u001b[38;5;124m\"\u001b[39m\u001b[38;5;124malphaM\u001b[39m\u001b[38;5;124m\"\u001b[39m] \u001b[38;5;241m=\u001b[39m eft_quantities[\u001b[38;5;241m1\u001b[39m]\n\u001b[1;32m    406\u001b[0m         param[\u001b[38;5;124m\"\u001b[39m\u001b[38;5;124mC2\u001b[39m\u001b[38;5;124m\"\u001b[39m] \u001b[38;5;241m=\u001b[39m eft_quantities[\u001b[38;5;241m2\u001b[39m]\n\u001b[1;32m    407\u001b[0m         param[\u001b[38;5;124m\"\u001b[39m\u001b[38;5;124mC4\u001b[39m\u001b[38;5;124m\"\u001b[39m] \u001b[38;5;241m=\u001b[39m eft_quantities[\u001b[38;5;241m3\u001b[39m]\n\u001b[1;32m    408\u001b[0m         param[\u001b[38;5;124m\"\u001b[39m\u001b[38;5;124mH\u001b[39m\u001b[38;5;124m\"\u001b[39m] \u001b[38;5;241m=\u001b[39m eft_quantities[\u001b[38;5;241m4\u001b[39m]\n\u001b[1;32m    409\u001b[0m         param[\u001b[38;5;124m\"\u001b[39m\u001b[38;5;124mM\u001b[39m\u001b[38;5;124m\"\u001b[39m] \u001b[38;5;241m=\u001b[39m eft_quantities[\u001b[38;5;241m5\u001b[39m]\n\u001b[1;32m    410\u001b[0m \n\u001b[1;32m    411\u001b[0m         dens_term \u001b[38;5;241m=\u001b[39m utils\u001b[38;5;241m.\u001b[39mlinear_operator(density, \u001b[38;5;241m1.0\u001b[39m, \u001b[38;5;241m-\u001b[39m\u001b[38;5;241m1.0\u001b[39m)\n\u001b[1;32m    412\u001b[0m \n\u001b[1;32m    413\u001b[0m         additional_field \u001b[38;5;241m=\u001b[39m initialise_potential(\n\u001b[1;32m    414\u001b[0m             additional_field, dens_term, h, param,tables\n\u001b[1;32m    415\u001b[0m         )\n\u001b[1;32m    416\u001b[0m         chi \u001b[38;5;241m=\u001b[39m additional_field\n\u001b[0;32m--> 417\u001b[0m         chi \u001b[38;5;241m=\u001b[39m multigrid\u001b[38;5;241m.\u001b[39mFAS(chi, dens_term, h, param)\n\u001b[1;32m    418\u001b[0m         \u001b[38;5;28;01mreturn\u001b[39;00m chi\n\u001b[1;32m    419\u001b[0m \n\u001b[1;32m    420\u001b[0m \n\u001b[1;32m    421\u001b[0m     \u001b[38;5;28;01mcase\u001b[39;00m\u001b[38;5;250m \u001b[39m\u001b[38;5;28;01m_\u001b[39;00m:\n\u001b[1;32m    422\u001b[0m         \u001b[38;5;28;01mraise\u001b[39;00m \u001b[38;5;167;01mValueError\u001b[39;00m(\n\u001b[1;32m    423\u001b[0m             \u001b[38;5;124mf\u001b[39m\u001b[38;5;124m\"\u001b[39m\u001b[38;5;132;01m{\u001b[39;00mparam[\u001b[38;5;124m'\u001b[39m\u001b[38;5;124mtheory\u001b[39m\u001b[38;5;124m'\u001b[39m]\u001b[38;5;132;01m=}\u001b[39;00m\u001b[38;5;124m, should be \u001b[39m\u001b[38;5;124m'\u001b[39m\u001b[38;5;124mnewton\u001b[39m\u001b[38;5;124m'\u001b[39m\u001b[38;5;124m, \u001b[39m\u001b[38;5;124m'\u001b[39m\u001b[38;5;124mfr\u001b[39m\u001b[38;5;124m'\u001b[39m\u001b[38;5;124m, \u001b[39m\u001b[38;5;124m'\u001b[39m\u001b[38;5;124meft\u001b[39m\u001b[38;5;124m'\u001b[39m\u001b[38;5;124m, \u001b[39m\u001b[38;5;124m'\u001b[39m\u001b[38;5;124mparametrized\u001b[39m\u001b[38;5;124m'\u001b[39m\u001b[38;5;124m or \u001b[39m\u001b[38;5;124m'\u001b[39m\u001b[38;5;124mmond\u001b[39m\u001b[38;5;124m'\u001b[39m\u001b[38;5;124m\"\u001b[39m\n\u001b[1;32m    424\u001b[0m         )\n",
      "File \u001b[0;32m~/Dropbox/prograceray/pysco-eft/pysco/utils.py:51\u001b[0m, in \u001b[0;36mtime_me.<locals>.time_func\u001b[0;34m(*args, **kw)\u001b[0m\n\u001b[1;32m     43\u001b[0m \u001b[38;5;250m\u001b[39m\u001b[38;5;124;03m\"\"\"Wrapper\u001b[39;00m\n\u001b[1;32m     44\u001b[0m \n\u001b[1;32m     45\u001b[0m \u001b[38;5;124;03mReturns\u001b[39;00m\n\u001b[0;32m   (...)\u001b[0m\n\u001b[1;32m     48\u001b[0m \u001b[38;5;124;03m    Print time (in seconds)\u001b[39;00m\n\u001b[1;32m     49\u001b[0m \u001b[38;5;124;03m\"\"\"\u001b[39;00m\n\u001b[1;32m     50\u001b[0m t1 \u001b[38;5;241m=\u001b[39m perf_counter()\n\u001b[0;32m---> 51\u001b[0m result \u001b[38;5;241m=\u001b[39m func(\u001b[38;5;241m*\u001b[39margs, \u001b[38;5;241m*\u001b[39m\u001b[38;5;241m*\u001b[39mkw)\n\u001b[1;32m     52\u001b[0m logging\u001b[38;5;241m.\u001b[39minfo(\n\u001b[1;32m     53\u001b[0m     \u001b[38;5;124mf\u001b[39m\u001b[38;5;124m\"\u001b[39m\u001b[38;5;124mFunction \u001b[39m\u001b[38;5;132;01m{\u001b[39;00mfunc\u001b[38;5;241m.\u001b[39m\u001b[38;5;18m__name__\u001b[39m\u001b[38;5;132;01m:\u001b[39;00m\u001b[38;5;124m->40\u001b[39m\u001b[38;5;132;01m}\u001b[39;00m\u001b[38;5;124m took \u001b[39m\u001b[38;5;132;01m{\u001b[39;00mperf_counter()\u001b[38;5;250m \u001b[39m\u001b[38;5;241m-\u001b[39m\u001b[38;5;250m \u001b[39mt1\u001b[38;5;132;01m:\u001b[39;00m\u001b[38;5;124m.12f\u001b[39m\u001b[38;5;132;01m}\u001b[39;00m\u001b[38;5;124m seconds\u001b[39m\u001b[38;5;132;01m{\u001b[39;00m\u001b[38;5;124m'\u001b[39m\u001b[38;5;124m'\u001b[39m\u001b[38;5;132;01m:\u001b[39;00m\u001b[38;5;132;01m{\u001b[39;00m\u001b[38;5;124m'\u001b[39m\u001b[38;5;124m-\u001b[39m\u001b[38;5;124m'\u001b[39m\u001b[38;5;132;01m}\u001b[39;00m\u001b[38;5;124m<\u001b[39m\u001b[38;5;132;01m{\u001b[39;00m\u001b[38;5;241m10\u001b[39m\u001b[38;5;132;01m}\u001b[39;00m\u001b[38;5;132;01m}\u001b[39;00m\u001b[38;5;124m\"\u001b[39m\n\u001b[1;32m     54\u001b[0m )\n\u001b[1;32m     55\u001b[0m \u001b[38;5;28;01mreturn\u001b[39;00m result\n",
      "File \u001b[0;32m~/Dropbox/prograceray/pysco-eft/pysco/multigrid.py:144\u001b[0m, in \u001b[0;36mFAS\u001b[0;34m(x, b, h, param)\u001b[0m\n\u001b[1;32m    142\u001b[0m \u001b[38;5;66;03m# Main procedure: Multigrid\u001b[39;00m\n\u001b[1;32m    143\u001b[0m logging\u001b[38;5;241m.\u001b[39minfo(\u001b[38;5;124m\"\u001b[39m\u001b[38;5;124mStart Full-Approximation Storage Multigrid\u001b[39m\u001b[38;5;124m\"\u001b[39m)\n\u001b[0;32m--> 144\u001b[0m F_cycle_FAS(x, b, param)\n\u001b[1;32m    145\u001b[0m residual_error_tmp \u001b[38;5;241m=\u001b[39m residual_error(x, b, h, param)\n\u001b[1;32m    146\u001b[0m logging\u001b[38;5;241m.\u001b[39minfo(\u001b[38;5;124mf\u001b[39m\u001b[38;5;124m\"\u001b[39m\u001b[38;5;132;01m{\u001b[39;00mresidual_error_tmp\u001b[38;5;132;01m=}\u001b[39;00m\u001b[38;5;124m \u001b[39m\u001b[38;5;132;01m{\u001b[39;00mtolerance\u001b[38;5;132;01m=}\u001b[39;00m\u001b[38;5;124m\"\u001b[39m)\n",
      "File \u001b[0;32m~/Dropbox/prograceray/pysco-eft/pysco/utils.py:51\u001b[0m, in \u001b[0;36mtime_me.<locals>.time_func\u001b[0;34m(*args, **kw)\u001b[0m\n\u001b[1;32m     43\u001b[0m \u001b[38;5;250m\u001b[39m\u001b[38;5;124;03m\"\"\"Wrapper\u001b[39;00m\n\u001b[1;32m     44\u001b[0m \n\u001b[1;32m     45\u001b[0m \u001b[38;5;124;03mReturns\u001b[39;00m\n\u001b[0;32m   (...)\u001b[0m\n\u001b[1;32m     48\u001b[0m \u001b[38;5;124;03m    Print time (in seconds)\u001b[39;00m\n\u001b[1;32m     49\u001b[0m \u001b[38;5;124;03m\"\"\"\u001b[39;00m\n\u001b[1;32m     50\u001b[0m t1 \u001b[38;5;241m=\u001b[39m perf_counter()\n\u001b[0;32m---> 51\u001b[0m result \u001b[38;5;241m=\u001b[39m func(\u001b[38;5;241m*\u001b[39margs, \u001b[38;5;241m*\u001b[39m\u001b[38;5;241m*\u001b[39mkw)\n\u001b[1;32m     52\u001b[0m logging\u001b[38;5;241m.\u001b[39minfo(\n\u001b[1;32m     53\u001b[0m     \u001b[38;5;124mf\u001b[39m\u001b[38;5;124m\"\u001b[39m\u001b[38;5;124mFunction \u001b[39m\u001b[38;5;132;01m{\u001b[39;00mfunc\u001b[38;5;241m.\u001b[39m\u001b[38;5;18m__name__\u001b[39m\u001b[38;5;132;01m:\u001b[39;00m\u001b[38;5;124m->40\u001b[39m\u001b[38;5;132;01m}\u001b[39;00m\u001b[38;5;124m took \u001b[39m\u001b[38;5;132;01m{\u001b[39;00mperf_counter()\u001b[38;5;250m \u001b[39m\u001b[38;5;241m-\u001b[39m\u001b[38;5;250m \u001b[39mt1\u001b[38;5;132;01m:\u001b[39;00m\u001b[38;5;124m.12f\u001b[39m\u001b[38;5;132;01m}\u001b[39;00m\u001b[38;5;124m seconds\u001b[39m\u001b[38;5;132;01m{\u001b[39;00m\u001b[38;5;124m'\u001b[39m\u001b[38;5;124m'\u001b[39m\u001b[38;5;132;01m:\u001b[39;00m\u001b[38;5;132;01m{\u001b[39;00m\u001b[38;5;124m'\u001b[39m\u001b[38;5;124m-\u001b[39m\u001b[38;5;124m'\u001b[39m\u001b[38;5;132;01m}\u001b[39;00m\u001b[38;5;124m<\u001b[39m\u001b[38;5;132;01m{\u001b[39;00m\u001b[38;5;241m10\u001b[39m\u001b[38;5;132;01m}\u001b[39;00m\u001b[38;5;132;01m}\u001b[39;00m\u001b[38;5;124m\"\u001b[39m\n\u001b[1;32m     54\u001b[0m )\n\u001b[1;32m     55\u001b[0m \u001b[38;5;28;01mreturn\u001b[39;00m result\n",
      "File \u001b[0;32m~/Dropbox/prograceray/pysco-eft/pysco/multigrid.py:746\u001b[0m, in \u001b[0;36mF_cycle_FAS\u001b[0;34m(x, b, param, nlevel, rhs)\u001b[0m\n\u001b[1;32m    744\u001b[0m mesh\u001b[38;5;241m.\u001b[39madd_prolongation_half(x, x_corr_c)\n\u001b[1;32m    745\u001b[0m x_corr_c \u001b[38;5;241m=\u001b[39m \u001b[38;5;241m0\u001b[39m\n\u001b[0;32m--> 746\u001b[0m smoothing(x, b, h, param[\u001b[38;5;124m\"\u001b[39m\u001b[38;5;124mNpost\u001b[39m\u001b[38;5;124m\"\u001b[39m], param, rhs)\n",
      "File \u001b[0;32m~/Dropbox/prograceray/pysco-eft/pysco/multigrid.py:413\u001b[0m, in \u001b[0;36msmoothing\u001b[0;34m(x, b, h, n_smoothing, param, rhs)\u001b[0m\n\u001b[1;32m    409\u001b[0m         \u001b[38;5;28;01mraise\u001b[39;00m \u001b[38;5;28mNotImplemented\u001b[39m(\n\u001b[1;32m    410\u001b[0m             \u001b[38;5;124mf\u001b[39m\u001b[38;5;124m\"\u001b[39m\u001b[38;5;124mOnly f(R) with n = 1 and 2, currently \u001b[39m\u001b[38;5;132;01m{\u001b[39;00mparam[\u001b[38;5;124m'\u001b[39m\u001b[38;5;124mfR_n\u001b[39m\u001b[38;5;124m'\u001b[39m]\u001b[38;5;132;01m=}\u001b[39;00m\u001b[38;5;124m\"\u001b[39m\n\u001b[1;32m    411\u001b[0m         )\n\u001b[1;32m    412\u001b[0m \u001b[38;5;28;01melif\u001b[39;00m param[\u001b[38;5;124m\"\u001b[39m\u001b[38;5;124mcompute_additional_field\u001b[39m\u001b[38;5;124m\"\u001b[39m] \u001b[38;5;129;01mand\u001b[39;00m \u001b[38;5;124m\"\u001b[39m\u001b[38;5;124meft\u001b[39m\u001b[38;5;124m\"\u001b[39m \u001b[38;5;241m==\u001b[39m param[\u001b[38;5;124m\"\u001b[39m\u001b[38;5;124mtheory\u001b[39m\u001b[38;5;124m\"\u001b[39m]\u001b[38;5;241m.\u001b[39mcasefold():\n\u001b[0;32m--> 413\u001b[0m     quadratic\u001b[38;5;241m.\u001b[39msmoothing(x, b, h, \n\u001b[1;32m    414\u001b[0m                         param[\u001b[38;5;124m\"\u001b[39m\u001b[38;5;124mC2\u001b[39m\u001b[38;5;124m\"\u001b[39m], param[\u001b[38;5;124m\"\u001b[39m\u001b[38;5;124mC4\u001b[39m\u001b[38;5;124m\"\u001b[39m],\n\u001b[1;32m    415\u001b[0m                         param[\u001b[38;5;124m\"\u001b[39m\u001b[38;5;124malphaB\u001b[39m\u001b[38;5;124m\"\u001b[39m],param[\u001b[38;5;124m\"\u001b[39m\u001b[38;5;124malphaM\u001b[39m\u001b[38;5;124m\"\u001b[39m],\n\u001b[1;32m    416\u001b[0m                         param[\u001b[38;5;124m\"\u001b[39m\u001b[38;5;124mH\u001b[39m\u001b[38;5;124m\"\u001b[39m],\n\u001b[1;32m    417\u001b[0m                         param[\u001b[38;5;124m\"\u001b[39m\u001b[38;5;124maexp\u001b[39m\u001b[38;5;124m\"\u001b[39m],\n\u001b[1;32m    418\u001b[0m                         param[\u001b[38;5;124m\"\u001b[39m\u001b[38;5;124mM\u001b[39m\u001b[38;5;124m\"\u001b[39m],\n\u001b[1;32m    419\u001b[0m                         n_smoothing)\n\u001b[1;32m    421\u001b[0m \u001b[38;5;28;01melse\u001b[39;00m:\n\u001b[1;32m    422\u001b[0m     laplacian\u001b[38;5;241m.\u001b[39msmoothing(x, b, h, n_smoothing)\n",
      "File \u001b[0;32m~/Dropbox/prograceray/pysco-eft/pysco/quadratic.py:273\u001b[0m, in \u001b[0;36msmoothing\u001b[0;34m(pi, b, h, C2, C4, alphaB, alphaM, H, a, M, n_smoothing)\u001b[0m\n\u001b[1;32m    251\u001b[0m \u001b[38;5;250m\u001b[39m\u001b[38;5;124;03m\"\"\"Smooth Chi field with several Jacobi iterations\u001b[39;00m\n\u001b[1;32m    252\u001b[0m \n\u001b[1;32m    253\u001b[0m \u001b[38;5;124;03mpi : npt.NDArray[np.float32]\u001b[39;00m\n\u001b[0;32m   (...)\u001b[0m\n\u001b[1;32m    269\u001b[0m \n\u001b[1;32m    270\u001b[0m \u001b[38;5;124;03m\"\"\"\u001b[39;00m\n\u001b[1;32m    272\u001b[0m \u001b[38;5;28;01mfor\u001b[39;00m _ \u001b[38;5;129;01min\u001b[39;00m \u001b[38;5;28mrange\u001b[39m(n_smoothing):\n\u001b[0;32m--> 273\u001b[0m     jacobi(pi, b, h, C2, C4, alphaB, alphaM, H, a, M)\n",
      "\u001b[0;31mKeyboardInterrupt\u001b[0m: "
     ]
    }
   ],
   "source": [
    "main.run(param)"
   ]
  },
  {
   "cell_type": "code",
   "execution_count": 8,
   "id": "12253e6e-2e12-4e89-a94b-c0ea49c2d8f8",
   "metadata": {},
   "outputs": [],
   "source": [
    "import numpy as np\n",
    "import matplotlib.pyplot as plt"
   ]
  },
  {
   "cell_type": "code",
   "execution_count": 10,
   "id": "0118313e-1f45-4783-b432-4b62d5ee2e3f",
   "metadata": {},
   "outputs": [
    {
     "data": {
      "text/plain": [
       "'/Users/himanishganjoo/Dropbox/prograceray/pysco-eft/pysco'"
      ]
     },
     "execution_count": 10,
     "metadata": {},
     "output_type": "execute_result"
    }
   ],
   "source": [
    "pwd"
   ]
  },
  {
   "cell_type": "code",
   "execution_count": 21,
   "id": "50ac511f-b87a-4d85-a99b-3e65b0e3c710",
   "metadata": {},
   "outputs": [],
   "source": [
    "x = np.loadtxt('./boxlen100_n128_lcdmw7v2_00000/power/pk_eft_multigrid_ncoarse7_00001.dat')"
   ]
  },
  {
   "cell_type": "code",
   "execution_count": 22,
   "id": "87df80cd-5230-4cb7-8791-1e7de4f88a83",
   "metadata": {},
   "outputs": [
    {
     "data": {
      "text/plain": [
       "[<matplotlib.lines.Line2D at 0x118f47320>]"
      ]
     },
     "execution_count": 22,
     "metadata": {},
     "output_type": "execute_result"
    },
    {
     "data": {
      "image/png": "[encoded data removed]",
      "text/plain": [
       "<Figure size 640x480 with 1 Axes>"
      ]
     },
     "metadata": {},
     "output_type": "display_data"
    }
   ],
   "source": [
    "plt.loglog(x[:,0],x[:,1])"
   ]
  },
  {
   "cell_type": "code",
   "execution_count": null,
   "id": "ddb85791-d8e9-4e4c-9146-adc2d33abb79",
   "metadata": {},
   "outputs": [],
   "source": []
  }
 ],
 "metadata": {
  "kernelspec": {
   "display_name": "Python 3 (ipykernel)",
   "language": "python",
   "name": "python3"
  },
  "language_info": {
   "codemirror_mode": {
    "name": "ipython",
    "version": 3
   },
   "file_extension": ".py",
   "mimetype": "text/x-python",
   "name": "python",
   "nbconvert_exporter": "python",
   "pygments_lexer": "ipython3",
   "version": "3.12.7"
  }
 },
 "nbformat": 4,
 "nbformat_minor": 5
}
